{
 "metadata": {
  "name": "",
  "signature": "sha256:7a5b504bcdda93f18eeab02f0286d8b5ad3061edb1fd338afd67110bae356724"
 },
 "nbformat": 3,
 "nbformat_minor": 0,
 "worksheets": [
  {
   "cells": [
    {
     "cell_type": "markdown",
     "metadata": {},
     "source": [
      "# Data Visualisation for GRS 1915 Light Curves\n",
      "\n",
      "Here, we're going to do some data visualisation to get a first idea of what we're dealing \n",
      "with and what kind of features should be useful. \n",
      "\n",
      "Things to do:\n",
      "- plot light curves from every class\n",
      "- plot (averaged) power spectra from every class\n",
      "- plot hardness ratios for every class (in the same plot?)\n",
      "- plot hardness ratio 2D histogram map\n",
      "- plot PCA components\n",
      "- plot funky manifold representation\n",
      "\n",
      "First, let's load some data. We're going to load full light curves, not segments, \n",
      "from the pre-classified data set for the moment. "
     ]
    },
    {
     "cell_type": "code",
     "collapsed": false,
     "input": [
      "%matplotlib inline\n",
      "import matplotlib.pyplot as plt\n",
      "import seaborn as sns\n",
      "sns.set_context(\"notebook\", font_scale=2.5, rc={\"axes.labelsize\": 26})\n",
      "plt.rc(\"font\", size=24, family=\"serif\", serif=\"Computer Sans\")\n",
      "plt.rc(\"axes\", titlesize=20, labelsize=20) \n",
      "plt.rc(\"text\", usetex=True)\n",
      "\n",
      "import numpy as np\n",
      "import cPickle as pickle\n"
     ],
     "language": "python",
     "metadata": {},
     "outputs": [],
     "prompt_number": 27
    },
    {
     "cell_type": "code",
     "collapsed": false,
     "input": [
      "f = open(\"grs1915_clean_label_125ms.dat\")\n",
      "d_all = pickle.load(f)\n",
      "f.close()"
     ],
     "language": "python",
     "metadata": {},
     "outputs": [],
     "prompt_number": 2
    },
    {
     "cell_type": "markdown",
     "metadata": {},
     "source": [
      "## Plotting light curves and hardness ratios from every class\n",
      "\n",
      "We're going to plot these to file, otherwise it gets too big!"
     ]
    },
    {
     "cell_type": "code",
     "collapsed": false,
     "input": [
      "states = [d[1] for d in d_all]\n",
      "unique_states = np.unique(states)\n",
      "print(\"unique states: \" + str(unique_states))\n",
      "\n",
      "d_all_reverse = [[d[1], d[0]] for d in d_all]\n",
      "\n",
      "def extract_unique(d_all):\n",
      "    seen = set()\n",
      "    d_all_unique = []\n",
      "    seen_add = seen.add\n",
      "    for d in d_all:\n",
      "        if d[1] not in seen:\n",
      "            seen_add(d[1])\n",
      "            d_all_unique.append(d)\n",
      "    return d_all_unique\n",
      "    \n",
      "\n",
      "d_all_unique = extract_unique(d_all)"
     ],
     "language": "python",
     "metadata": {},
     "outputs": [
      {
       "output_type": "stream",
       "stream": "stdout",
       "text": [
        "unique states: ['alpha' 'beta' 'chi1' 'chi2' 'chi3' 'chi4' 'delta' 'gamma' 'kappa'\n",
        " 'lambda' 'mu' 'nu' 'phi' 'rho' 'theta']\n"
       ]
      }
     ],
     "prompt_number": 16
    },
    {
     "cell_type": "code",
     "collapsed": false,
     "input": [
      "for d in d_all_unique:\n",
      "    data = d[0]\n",
      "    state = d[1]\n",
      "    times = data[:,0]\n",
      "    counts = data[:,1]\n",
      "    low_counts = data[:,2]\n",
      "    high_counts = data[:,3]\n",
      "    hr1 = low_counts/counts\n",
      "    hr2 = high_counts/counts\n",
      "    \n",
      "    fig = plt.figure(figsize=(24,12))\n",
      "    ax = fig.add_subplot(1,2,1)\n",
      "    ax.plot(times, counts)\n",
      "    ax.set_xlabel(\"Time [s]\", fontsize=24)\n",
      "    ax.set_ylabel(\"Count rate [counts/s]\", fontsize=24)\n",
      "    ax.set_ylim([0.0, 12000.])\n",
      "    \n",
      "    ax2 = fig.add_subplot(1,2,2)\n",
      "    ax2.scatter(hr1, hr2)\n",
      "    ax2.set_xlim([0.3, 0.85])\n",
      "    ax2.set_ylim([0.04, 0.7])\n",
      "    ax2.set_xlabel(\"HR1 [low energy/total]\", fontsize=24)\n",
      "    ax2.set_ylabel(\"HR2 [high energy/total]\", fontsize=24)\n",
      "    \n",
      "    fig.suptitle(\"Light curve and Hardness ratios for class %s.\"%state, fontsize=14)\n",
      "\n",
      "    plt.savefig(\"grs1915_%s_lc.pdf\"%state, format=\"pdf\")\n",
      "    plt.close()\n",
      "    \n"
     ],
     "language": "python",
     "metadata": {},
     "outputs": [],
     "prompt_number": 29
    },
    {
     "cell_type": "markdown",
     "metadata": {},
     "source": [
      "## Averaged power spectra from every class"
     ]
    },
    {
     "cell_type": "code",
     "collapsed": false,
     "input": [],
     "language": "python",
     "metadata": {},
     "outputs": []
    }
   ],
   "metadata": {}
  }
 ]
}