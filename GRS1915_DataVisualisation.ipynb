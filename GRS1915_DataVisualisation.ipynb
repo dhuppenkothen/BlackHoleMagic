{
 "metadata": {
  "name": "",
  "signature": "sha256:08ac34a2806b35ed7f7babdcf495418167e9e297c38c7e56dca562ec15cf4967"
 },
 "nbformat": 3,
 "nbformat_minor": 0,
 "worksheets": [
  {
   "cells": [
    {
     "cell_type": "markdown",
     "metadata": {},
     "source": [
      "# Data Visualisation for GRS 1915 Light Curves\n",
      "\n",
      "Here, we're going to do some data visualisation to get a first idea of what we're dealing \n",
      "with and what kind of features should be useful. \n",
      "\n",
      "Things to do:\n",
      "- plot light curves from every class\n",
      "- plot (averaged) power spectra from every class\n",
      "- plot hardness ratios for every class (in the same plot?)\n",
      "- plot hardness ratio histograms for each class\n",
      "- plot PCA components\n",
      "- plot funky manifold representation"
     ]
    },
    {
     "cell_type": "code",
     "collapsed": false,
     "input": [],
     "language": "python",
     "metadata": {},
     "outputs": []
    }
   ],
   "metadata": {}
  }
 ]
}