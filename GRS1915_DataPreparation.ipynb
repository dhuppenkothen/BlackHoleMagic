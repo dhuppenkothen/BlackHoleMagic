{
 "metadata": {
  "name": "",
  "signature": "sha256:f3a16bbf2383f58fab8897e35bcd080548a6752ab525e1876a9493a08871f339"
 },
 "nbformat": 3,
 "nbformat_minor": 0,
 "worksheets": [
  {
   "cells": [
    {
     "cell_type": "markdown",
     "metadata": {},
     "source": [
      "# Classifying RXTE Data of GRS 1915+105\n",
      "\n",
      "GRS 1915+105 is one of the most interesting galactic black hole binaries. Emission from the source comes from gas that heasts to high (X-ray) temperatures as it accretes onto the black hole. \n",
      "The emission is highly time-variable, and changes between different states (see also Belloni+ 2000, MNRAS).\n",
      "\n",
      "The purpose of this project is to automatically (1) segment light curves into different morphologies, and (2) classify the light curves according to morphology.\n",
      "This should use both time and energy information (thus time-tagged event data, i.e. the arrival times of individual photons).\n",
      "\n",
      "Possible Issues:\n",
      "- dead time: above a certain count rate (~2000 cts/s), there will be increasingly issues with dead time, which produce spurious features at high frequencies in the power spectrum\n",
      "- PCU breakdowns: usually, we can use light curves from all Proportional Counter Units (the individual units of the instrument), but on occasion, one of them may be turned off or may break down, leading to abrupt changes in the observed count rate. \n",
      "\n"
     ]
    },
    {
     "cell_type": "markdown",
     "metadata": {},
     "source": [
      "## Manual Classification\n",
      "\n",
      "Manual classification (by eye, using light curves and hardness ratios) was performed by Belloni+ 2000. They separated the data into 12 classes, where the last one ($\\chi$-state) has four subclasses, because that's how astronomers roll. \n",
      "\n",
      "Below the classification from Belloni+ 2000 (Table 1). The list contains the ObsIDs containing light curves of that class. Note that where the source switches class within an observation, an ObsID will be present in more than one source class.\n",
      "\n",
      "The labels for individual light curves (from Belloni+ 2000) is in two places:\n",
      "- the script `convert_belloni.py` includes *all* observations and classes from the paper \n",
      "  (including those where there were several classes per light curves)\n",
      "- the file `1915Belloniclass.dat` contains the \"clean\" sample (only observations where the class\n",
      "   did not change during the observations, from Lucy\n",
      "\n",
      "Output is, in both cases, a dictionary with keys that correspond to ObsIDs (with dashes removed to match Standard 1 data, although that can be changed) and a string for each key that corresponds to the classification."
     ]
    },
    {
     "cell_type": "code",
     "collapsed": false,
     "input": [
      "import convert_belloni\n",
      "\n",
      "## read data from Lucy's file with clean labels\n",
      "def convert_belloni_clean(turned=True):\n",
      "    ## cleaned version; without observations that have light curves\n",
      "    ## with more than one class\n",
      "    file = open(\"1915Belloniclass.dat\")\n",
      "    lines = file.readlines()\n",
      "    header = lines[0].split()\n",
      "    belloni_clean = {}\n",
      "    for h,l in zip(header, lines[1:]):\n",
      "        belloni_clean[h] = l.split()\n",
      "    \n",
      "    if turned:\n",
      "        belloni_clean_turned = turn_states(belloni_clean)\n",
      "        return belloni_clean_turned\n",
      "    else:\n",
      "        return belloni_clean\n",
      "    \n",
      "## turn around conversion (just in case):\n",
      "def turn_states(states, remove_dashes = False):\n",
      "    turned_states = {}\n",
      "    for k,lis in states.iteritems():\n",
      "        for l in lis:\n",
      "            if remove_dashes:\n",
      "                turned_states[l.translate(None, \"-\")] = k\n",
      "            else:\n",
      "                turned_states[l] = k\n",
      "    return turned_states\n",
      "\n",
      "## directly lifted from Belloni+ 2000\n",
      "belloni_states = convert_belloni.main()\n",
      "belloni_turned = turn_states(belloni_states)\n",
      "\n",
      "## from Lucy's file with labels only for observations\n",
      "## where the class does not change during the observation\n",
      "belloni_clean_turned = convert_belloni_clean()\n"
     ],
     "language": "python",
     "metadata": {},
     "outputs": [],
     "prompt_number": 1
    },
    {
     "cell_type": "markdown",
     "metadata": {},
     "source": [
      "## Preliminaries: Standard 1 Data\n",
      "\n",
      "Until we get the TTE data, we can run preliminary checks on Standard 1 light curves, routinely output during the data processing of the raw data at HEASARC (the NASA high-energy facility). \n",
      "Standard 1 data has a time resolution of 0.125 seconds, and is integrated over all energy channels (no energy information). We're starting with the data from the years 1996 and 1997, a data set that should be roughly identical to the one in Belloni+ (2000).\n",
      "\n",
      "Standard 1 light curves are in files of the `type x[ObsID]_n1.lc`.\n",
      "Let's find all of them in our data set:"
     ]
    },
    {
     "cell_type": "code",
     "collapsed": false,
     "input": [
      "%matplotlib inline\n",
      "import numpy as np\n",
      "from astropy.io import fits \n",
      "import matplotlib.pyplot as plt\n",
      "\n",
      "import os\n",
      "import fnmatch\n",
      "import seaborn as sns\n",
      "sns.set()\n",
      "\n",
      "import glob\n",
      "import generaltools as gt\n",
      "import lightcurve\n",
      "import powerspectrum"
     ],
     "language": "python",
     "metadata": {},
     "outputs": [
      {
       "output_type": "stream",
       "stream": "stderr",
       "text": [
        "/opt/local/Library/Frameworks/Python.framework/Versions/2.7/lib/python2.7/site-packages/matplotlib/__init__.py:1312: UserWarning:  This call to matplotlib.use() has no effect\n",
        "because the backend has already been chosen;\n",
        "matplotlib.use() must be called *before* pylab, matplotlib.pyplot,\n",
        "or matplotlib.backends is imported for the first time.\n",
        "\n",
        "  warnings.warn(_use_error_msg)\n"
       ]
      }
     ],
     "prompt_number": 2
    },
    {
     "cell_type": "code",
     "collapsed": false,
     "input": [
      "def search_filenames_recursively(testdir, testexpression):\n",
      "    matches = []\n",
      "    for root, dirnames, filenames in os.walk(testdir):\n",
      "        for filename in fnmatch.filter(filenames, testexpression):\n",
      "            matches.append(os.path.join(root, filename))\n",
      "\n",
      "    return matches\n"
     ],
     "language": "python",
     "metadata": {},
     "outputs": [],
     "prompt_number": 3
    },
    {
     "cell_type": "code",
     "collapsed": false,
     "input": [
      "all_lcs = search_filenames_recursively(\"./\", \"*n1.lc*\")"
     ],
     "language": "python",
     "metadata": {},
     "outputs": [],
     "prompt_number": 4
    },
    {
     "cell_type": "markdown",
     "metadata": {},
     "source": [
      "Now we'll extract all light curves and save them in standard text files. We'll also take out any time bins where `counts` or `err` is `nan`."
     ]
    },
    {
     "cell_type": "code",
     "collapsed": false,
     "input": [
      "for a in all_lcs:\n",
      "    asplit = a.split(\"/\")\n",
      "    asplit2 = asplit[-1].split(\"_\")\n",
      "    hdulist = fits.open(a)\n",
      "    data = hdulist[1].data\n",
      "    times = data.field(0)\n",
      "    counts = data.field(1)\n",
      "    err = data.field(2)\n",
      "    d = np.transpose(np.array([times, counts, err]))\n",
      "    dnew = [dp for dp in d if not any(np.isnan(dp))]\n",
      "    np.savetxt(\"%s_lc.txt\"%asplit2[0],dnew )\n",
      "\n"
     ],
     "language": "python",
     "metadata": {},
     "outputs": [],
     "prompt_number": 6
    },
    {
     "cell_type": "markdown",
     "metadata": {},
     "source": [
      "### Data Preparation for Standard 1 Data\n",
      "\n",
      "Here's some code that does the data preparation for the Standard 1 Data."
     ]
    },
    {
     "cell_type": "code",
     "collapsed": false,
     "input": [
      "## these are the data files\n",
      "files = glob.glob(\"*lc.txt\")\n",
      "\n",
      "## here are some dumb assumptions about the light curves we'll use\n",
      "tseg = 256 ## segment length\n",
      "dt = 0.125 ## time bin size\n",
      "overlap_time = 64. ## overlap in seconds\n",
      "\n",
      "nseg = tseg/dt ## number of bins per segment\n",
      "noverlap = overlap_time/dt\n",
      "print(\"nseg: \" + str(nseg))\n",
      "print(\"noverlap: \" + str(noverlap))"
     ],
     "language": "python",
     "metadata": {},
     "outputs": [
      {
       "output_type": "stream",
       "stream": "stdout",
       "text": [
        "nseg: 2048.0\n",
        "noverlap: 512.0\n"
       ]
      }
     ],
     "prompt_number": 3
    },
    {
     "cell_type": "code",
     "collapsed": false,
     "input": [
      "\n",
      "## take all files, read in data, put in a list of type\n",
      "## [numpy-array with [time, countrate, countrate_error], state]\n",
      "\n",
      "d_all = []\n",
      "for f in files:\n",
      "    fstring = f.split(\"_\")[0][2:]\n",
      "    if fstring in belloni_turned:\n",
      "        state = belloni_turned[fstring]\n",
      "    else:\n",
      "        state = None\n",
      "    d = np.loadtxt(f)\n",
      "    #times = d[:,0]\n",
      "    #counts = d[:,1]\n",
      "    #plt.plot(times, counts)\n",
      "    dt_data = d[1:,0]-d[:-1,0]\n",
      "    ### split data with breaks\n",
      "    breaks = np.where(dt_data > 0.125)[0]\n",
      "    #print(breaks)\n",
      "    if len(breaks) == 0:\n",
      "        d_all.append([d, state])\n",
      "    else:\n",
      "        for i,b in enumerate(breaks):\n",
      "            #print(\"Break in light curve at time bin %i; length of break dt = %.3f\"%(b, dt_data[b]))\n",
      "            if i == 0:\n",
      "                if b == 0:\n",
      "                    continue\n",
      "                else:\n",
      "                    dtemp = d[:b]\n",
      "            else:\n",
      "                dtemp = d[breaks[i-1]+1:b]\n",
      "            d_all.append([dtemp, state])"
     ],
     "language": "python",
     "metadata": {},
     "outputs": [],
     "prompt_number": 193
    },
    {
     "cell_type": "markdown",
     "metadata": {},
     "source": [
      "## Preliminaries: Observing Mode Data \n",
      "\n",
      "Lucy has extracted the entire set of all RXTE light curves to a data resolution of 1/128 seconds in 3 energy bands:\n",
      "- 3.68-13.52keV\n",
      "- 3.68-6.12ke\n",
      "- 9.40-14.76keV\n",
      "\n",
      "Note that the energy bands are **NOT THE SAME** for different energy modes. This'll throw a wrench into the analysis and is probably going to require considerable python-fu. \n",
      "\n",
      "First, we're going to make files that have all bands in one file for each observation. This'll probably take more space than I have right now. We'll see.\n",
      "\n",
      "There are a total of 5123 in 1711 separate ObsIDs (**LUCY: Is this correct?**). Note that $1711\\times 3 \\neq 5123$. There seem to be 10 light curves missing, but I'm not sure where.\n",
      "\n",
      "Also, ask **Lucy** about the ObsID folders: is there anything in there I need?"
     ]
    },
    {
     "cell_type": "code",
     "collapsed": false,
     "input": [
      "## location of the data\n",
      "datadir = \"/Volumes/Lliarinh/data/grs1915/\"\n",
      "\n",
      "## make a list of all ObsIDs\n",
      "files = glob.glob(datadir+\"LC*.fits\")\n",
      "obsids = [f.split(\"_\")[1] for f in files]\n",
      "print(\"Total number of files: \" + str(len(obsids)))\n",
      "obsids = set(obsids)\n",
      "print(\"Total number of ObsIDs: \" + str(len(obsids)))"
     ],
     "language": "python",
     "metadata": {},
     "outputs": [
      {
       "output_type": "stream",
       "stream": "stdout",
       "text": [
        "Total number of files: 8478\n",
        "Total number of ObsIDs: 1712\n"
       ]
      }
     ],
     "prompt_number": 11
    },
    {
     "cell_type": "code",
     "collapsed": false,
     "input": [],
     "language": "python",
     "metadata": {},
     "outputs": [],
     "prompt_number": 8
    },
    {
     "cell_type": "markdown",
     "metadata": {},
     "source": [
      "If we've already made some combined files, but not all of them, here's a simple function to figure out which are still to be done:"
     ]
    },
    {
     "cell_type": "code",
     "collapsed": false,
     "input": [
      "\n",
      "def find_todo(obsids):\n",
      "    combined_files = glob.glob(datadir+\"*combined.dat\")\n",
      "    combined = [f.split(\"_\")[1] for f in combined_files]\n",
      "    todo = set(obsids).difference(combined)\n",
      "    return list(todo)\n",
      "\n"
     ],
     "language": "python",
     "metadata": {},
     "outputs": [],
     "prompt_number": 84
    },
    {
     "cell_type": "code",
     "collapsed": false,
     "input": [
      "obsids = find_todo(obsids)\n",
      "print(\"%i ObsIDs to search.\"%len(obsids))"
     ],
     "language": "python",
     "metadata": {},
     "outputs": [
      {
       "output_type": "stream",
       "stream": "stdout",
       "text": [
        "104 ObsIDs to search.\n"
       ]
      }
     ],
     "prompt_number": 85
    },
    {
     "cell_type": "markdown",
     "metadata": {},
     "source": [
      "Next, we'll loop through all obsids, or those that are left anyway, and extract data from the different fits files for each observation and save all in a text file."
     ]
    },
    {
     "cell_type": "code",
     "collapsed": false,
     "input": [
      "def equalize_resolution(times, counts, nbins):\n",
      "\n",
      "    if nbins < len(times):\n",
      "        n = int(len(times)/nbins)\n",
      "        times_new, counts_new = gt.rebin_lightcurve(times, counts, n=n, type=\"average\")\n",
      "        return times_new[:nbins], counts_new[:nbins]\n",
      "    else:\n",
      "        return times, counts"
     ],
     "language": "python",
     "metadata": {},
     "outputs": [],
     "prompt_number": 78
    },
    {
     "cell_type": "code",
     "collapsed": false,
     "input": [
      "\n",
      "print(\"Running through %i ObsIDs ...\"%len(obsids))\n",
      "for i,o in enumerate(obsids):\n",
      "    print(\"i = \" + str(i))\n",
      "    print(\"I am on ObsID \" + str(o))\n",
      "    fobs = glob.glob(datadir+\"*%s*.fits\"%o)\n",
      "    #print('len(fobs): ' + str(len(fobs)))\n",
      "    #print(\"fobs: \" + str(fobs))\n",
      "    emin_all, emax_all = [], []\n",
      "    for f in fobs:\n",
      "        fsplit = f.split(\"_\")\n",
      "        obsid = fsplit[1]\n",
      "        ebands = fsplit[3].split(\"-\")\n",
      "        emin_all.append(np.float(ebands[0]))\n",
      "        #print(\"emin_all: \" + str(emin_all))\n",
      "        emax_all.append(np.float(ebands[1][:-3]))\n",
      "        #print(\"emax_all: \" + str(emax_all))\n",
      "        time_res = fsplit[4].split(\"div\")\n",
      "        tres = np.float(time_res[0])/np.float(time_res[1][:-1])\n",
      "\n",
      "    if len(emin_all) < 3 or len(emax_all) < 3:\n",
      "        continue\n",
      "        \n",
      "    emin_all = np.array(emin_all)\n",
      "    emax_all = np.array(emax_all)\n",
      "    print(\"emin_all: \" + str(emin_all))\n",
      "    print(\"emax_all: \" + str(emax_all))\n",
      "    \n",
      "    total_band_ind = np.where((emin_all < 6.2) & (emax_all > 10.))[0]\n",
      "    #total_band_ind = np.where((emin_all == np.min(emin_all)) & (emax_all == np.max(emax_all)))[0]\n",
      "    if len(total_band_ind) > 1:\n",
      "        total_band_ind = total_band_ind[0]\n",
      "\n",
      "    #print(\"total_band_ind: \" + str(total_band_ind))\n",
      "    #print(\"total band file: \" + str(fobs[total_band_ind]))\n",
      "    \n",
      "    #low_band_ind = np.where((emin_all == np.min(emin_all)) & (emax_all == np.min(emax_all)))[0]\n",
      "    low_band_ind = np.where((emin_all < 6.2) & (emax_all < 10.))[0]\n",
      "    #print(\"low_band_ind: \" + str(low_band_ind))\n",
      "    #print(\"low band file: \" + str(fobs[low_band_ind]))\n",
      "\n",
      "    #high_band_ind = np.where((emin_all == np.max(emin_all)) & (emax_all == np.max(emax_all)))[0]\n",
      "    mid_band_ind = np.where((emin_all > 6.2) & (emin_all < 10.0) & (emax_all >10.) & (emax_all < 25.0))[0]\n",
      "    if len(mid_band_ind) > 1:\n",
      "        mid_band_ind = mid_band_ind[0]\n",
      "    print(\"mid_band_ind: \" + str(mid_band_ind))\n",
      "    print(\"mid band file: \" + str(fobs[mid_band_ind]))\n",
      "\n",
      "    high_band_ind1 = np.where((emin_all > 10.) & (emax_all > 12.) & (emax_all < 20.0))[0]\n",
      "    if len(high_band_ind1) == 0:\n",
      "        high_band_ind1 = None\n",
      "    #else:\n",
      "    #    print(\"high_band_ind1: \" + str(high_band_ind1))\n",
      "    #    print(\"high band file 1: \" + str(fobs[high_band_ind1]))\n",
      "\n",
      "    high_band_ind2 = np.where((emin_all > 13.0) & (emax_all > 50.))[0]\n",
      "    if len(high_band_ind2) == 0:\n",
      "        print(\"No high_band_ind2\")\n",
      "        continue\n",
      "    #else:\n",
      "    #    print(\"high_band_ind2: \" + str(high_band_ind2))\n",
      "    #    print(\"high band file 2: \" + str(fobs[high_band_ind2]))\n",
      "\n",
      "    total_data = fits.open(fobs[total_band_ind])\n",
      "    total_times, total_counts = total_data[1].data.field(0), total_data[1].data.field(1)\n",
      "    #print(\"len(total_times): \" + str(len(total_times)))\n",
      "    dt_total = np.min(total_times[1:] - total_times[:-1])\n",
      "    nbins_total = len(total_times)\n",
      "    \n",
      "    low_data = fits.open(fobs[low_band_ind])\n",
      "    low_times, low_counts = low_data[1].data.field(0), low_data[1].data.field(1)\n",
      "    #print(\"len(low_times): \" + str(len(low_times)))\n",
      "    dt_low = np.min(low_times[1:] - low_times[:-1])\n",
      "    nbins_low= len(low_times)\n",
      "\n",
      "\n",
      "    mid_data = fits.open(fobs[mid_band_ind])\n",
      "    mid_times, mid_counts = mid_data[1].data.field(0), mid_data[1].data.field(1)\n",
      "    #print(\"len(mid_times): \" + str(len(mid_times)))\n",
      "    dt_mid = np.min(mid_times[1:] - mid_times[:-1])\n",
      "    nbins_mid = len(mid_times)\n",
      "\n",
      "\n",
      "    #if high_band_ind1 is None:\n",
      "    #    print(\"I am here\")\n",
      "    #    high_data = fits.open(fobs[high_band_ind2])\n",
      "    #    high_times, high_counts = high_data[1].data.field(0), high_data[1].data.field(1)\n",
      "    \n",
      "    #else:\n",
      "    #    print(\"Combining data\")\n",
      "    #    high_times, high_counts = combine_high_data(fobs[high_band_ind1], fobs[high_band_ind2])\n",
      "\n",
      "    high_data = fits.open(fobs[high_band_ind2])\n",
      "    high_times, high_counts = high_data[1].data.field(0), high_data[1].data.field(1)\n",
      "    #print(\"len(high_times): \" + str(len(high_times)))\n",
      "    dt_high = np.min(high_times[1:] - high_times[:-1])\n",
      "    nbins_high = len(high_times)\n",
      "\n",
      "    if not nbins_total == nbins_low == nbins_mid == nbins_high:\n",
      "        #dt = np.max([dt_total, dt_low, dt_mid, dt_high])\n",
      "        nbins = np.min([nbins_total, nbins_low, nbins_mid, nbins_high])\n",
      "        #print(\"nbins: \" + str(nbins))\n",
      "        total_times, total_counts = equalize_resolution(total_times, total_counts, nbins)\n",
      "        low_times, low_counts = equalize_resolution(low_times, low_counts, nbins)\n",
      "        mid_times, mid_counts = equalize_resolution(mid_times, mid_counts, nbins)\n",
      "        high_times, high_counts = equalize_resolution(high_times, high_counts, nbins)\n",
      "    \n",
      "    #print(\"len(total_times): \" + str(len(total_times)))\n",
      "    #print(\"len(low_times): \" + str(len(low_times)))\n",
      "    #print(\"len(mid_times): \" + str(len(mid_times)))\n",
      "    #print(\"len(high_times): \" + str(len(high_times)))\n",
      "\n",
      "    \n",
      "    data = np.transpose(np.array([total_times, total_counts, low_counts, mid_counts, high_counts]))\n",
      "    #print(\"data.shape: \" + str(data.shape))\n",
      "    \n",
      "    fout = np.savetxt(datadir+\"LC_%s_combined.dat\"%o, \n",
      "                      data,\n",
      "                      header = \"Times \\t total counts \\t low band counts \\t mid band counts \\t high band counts\\n\")\n",
      "    \n",
      "\n",
      "    \n",
      "\n",
      "    \n",
      "\n"
     ],
     "language": "python",
     "metadata": {},
     "outputs": [
      {
       "output_type": "stream",
       "stream": "stdout",
       "text": [
        "Running through 104 ObsIDs ...\n",
        "i = 0\n",
        "I am on ObsID 20187-02-04-00\n",
        "emin_all: [ 12.27   3.7    3.7    9.03]"
       ]
      },
      {
       "output_type": "stream",
       "stream": "stdout",
       "text": [
        "\n",
        "emax_all: [ 12.99  12.99   6.54  12.99]\n",
        "mid_band_ind: [3]\n",
        "mid band file: /Volumes/Lliarinh/data/grs1915/LC_20187-02-04-00_B_9.03-12.99keV_1div128s_total.fits\n",
        "No high_band_ind2\n",
        "i = 1\n",
        "I am on ObsID 10263-01-01-00\n",
        "emin_all: [ 13.36   4.05   4.05   4.76   8.68]\n",
        "emax_all: [ 100.37   15.17    6.18   15.17   23.26]\n",
        "mid_band_ind: [4]\n",
        "mid band file: /Volumes/Lliarinh/data/grs1915/LC_10263-01-01-00_E_8.68-23.26keV_1div256s_total.fits\n",
        "i = 2"
       ]
      },
      {
       "output_type": "stream",
       "stream": "stdout",
       "text": [
        "\n",
        "I am on ObsID 20402-01-27-01\n",
        "emin_all: [ 12.27   3.7    3.7    9.03  13.36]\n",
        "emax_all: [ 12.99  12.99   6.54  12.99  60.84]\n",
        "mid_band_ind: [3]\n",
        "mid band file: /Volumes/Lliarinh/data/grs1915/LC_20402-01-27-01_B_9.03-12.99keV_1div128s_total.fits\n",
        "i = 3"
       ]
      },
      {
       "output_type": "stream",
       "stream": "stdout",
       "text": [
        "\n",
        "I am on ObsID 20402-01-27-00\n",
        "emin_all: [ 12.27   3.7    3.7    9.03  13.36]"
       ]
      },
      {
       "output_type": "stream",
       "stream": "stdout",
       "text": [
        "\n",
        "emax_all: [ 12.99  12.99   6.54  12.99  60.84]\n",
        "mid_band_ind: [3]\n",
        "mid band file: /Volumes/Lliarinh/data/grs1915/LC_20402-01-27-00_B_9.03-12.99keV_1div128s_total.fits\n",
        "i = 4"
       ]
      },
      {
       "output_type": "stream",
       "stream": "stdout",
       "text": [
        "\n",
        "I am on ObsID 10408-01-03-00\n",
        "emin_all: [ 13.36   3.7    3.7    4.76   9.03]\n",
        "emax_all: [ 18.09  14.44   6.54  14.44  18.09]\n",
        "mid_band_ind: [4]\n",
        "mid band file: /Volumes/Lliarinh/data/grs1915/LC_10408-01-03-00_B_9.03-18.09keV_1div64s_total.fits\n",
        "No high_band_ind2\n",
        "i = 5\n",
        "I am on ObsID 10408-01-03-01\n",
        "emin_all: [ 13.36   3.7    3.7    4.76   9.03]\n",
        "emax_all: [ 18.09  14.44   6.54  14.44  18.09]\n",
        "mid_band_ind: [4]\n",
        "mid band file: /Volumes/Lliarinh/data/grs1915/LC_10408-01-03-01_B_9.03-18.09keV_1div64s_total.fits\n",
        "No high_band_ind2\n",
        "i = 6\n",
        "I am on ObsID 93701-01-25-01\n",
        "emin_all: [ 12.69   3.68   3.68   9.4   15.18]"
       ]
      },
      {
       "output_type": "stream",
       "stream": "stdout",
       "text": [
        "\n",
        "emax_all: [ 14.76  13.52   6.12  14.76  76.74]\n",
        "mid_band_ind: [3]\n",
        "mid band file: /Volumes/Lliarinh/data/grs1915/LC_93701-01-25-01_B_9.40-14.76keV_1div128s_total.fits\n",
        "i = 7"
       ]
      },
      {
       "output_type": "stream",
       "stream": "stdout",
       "text": [
        "\n",
        "I am on ObsID 10408-01-04-00\n",
        "emin_all: [ 13.36   3.7    3.7    4.76   9.03]\n",
        "emax_all: [ 18.09  14.44   6.54  14.44  18.09]\n",
        "mid_band_ind: [4]\n",
        "mid band file: /Volumes/Lliarinh/data/grs1915/LC_10408-01-04-00_B_9.03-18.09keV_1div64s_total.fits\n",
        "No high_band_ind2\n",
        "i = 8\n",
        "I am on ObsID 20187-02-05-00\n",
        "emin_all: [ 12.27   3.7    3.7    9.03]\n",
        "emax_all: [ 12.99  12.99   6.54  12.99]\n",
        "mid_band_ind: [3]\n",
        "mid band file: /Volumes/Lliarinh/data/grs1915/LC_20187-02-05-00_B_9.03-12.99keV_1div128s_total.fits\n",
        "No high_band_ind2\n",
        "i = 9\n",
        "I am on ObsID 91701-01-13-00\n",
        "emin_all: [ 12.69   3.68   3.68   9.4   15.18]"
       ]
      },
      {
       "output_type": "stream",
       "stream": "stdout",
       "text": [
        "\n",
        "emax_all: [ 14.76  13.52   6.12  14.76  76.74]\n",
        "mid_band_ind: [3]\n",
        "mid band file: /Volumes/Lliarinh/data/grs1915/LC_91701-01-13-00_B_9.40-14.76keV_1div128s_total.fits\n",
        "i = 10"
       ]
      },
      {
       "output_type": "stream",
       "stream": "stdout",
       "text": [
        "\n",
        "I am on ObsID 92092-03-01-00\n",
        "emin_all: [ 12.69   3.68   3.68   9.4   15.18]\n",
        "emax_all: [ 14.76  13.52   6.12  14.76  76.74]\n",
        "mid_band_ind: [3]\n",
        "mid band file: /Volumes/Lliarinh/data/grs1915/LC_92092-03-01-00_B_9.40-14.76keV_1div128s_total.fits\n",
        "i = 11"
       ]
      },
      {
       "output_type": "stream",
       "stream": "stdout",
       "text": [
        "\n",
        "I am on ObsID 40116-01-01-07\n",
        "emin_all: [ 13.06   3.79   3.79   8.82  15.62]\n",
        "emax_all: [ 15.19  13.91   6.3   15.19  63.07]\n",
        "mid_band_ind: [3]\n",
        "mid band file: /Volumes/Lliarinh/data/grs1915/LC_40116-01-01-07_B_8.82-15.19keV_1div128s_total.fits\n",
        "i = 12"
       ]
      },
      {
       "output_type": "stream",
       "stream": "stdout",
       "text": [
        "\n",
        "I am on ObsID 40116-01-01-05\n",
        "emin_all: [ 13.06   3.79   3.79   8.82  15.62]\n",
        "emax_all: [ 15.19  13.91   6.3   15.19  63.07]\n",
        "mid_band_ind: [3]\n",
        "mid band file: /Volumes/Lliarinh/data/grs1915/LC_40116-01-01-05_B_8.82-15.19keV_1div128s_total.fits\n",
        "i = 13"
       ]
      },
      {
       "output_type": "stream",
       "stream": "stdout",
       "text": [
        "\n",
        "I am on ObsID 40116-01-01-04\n",
        "emin_all: [ 13.06   3.79   3.79   8.82  15.62]\n",
        "emax_all: [ 15.19  13.91   6.3   15.19  63.07]\n",
        "mid_band_ind: [3]\n",
        "mid band file: /Volumes/Lliarinh/data/grs1915/LC_40116-01-01-04_B_8.82-15.19keV_1div128s_total.fits\n",
        "i = 14"
       ]
      },
      {
       "output_type": "stream",
       "stream": "stdout",
       "text": [
        "\n",
        "I am on ObsID 40116-01-01-03\n",
        "emin_all: [ 13.06   3.79   3.79   8.82  15.62]\n",
        "emax_all: [ 15.19  13.91   6.3   15.19  63.07]\n",
        "mid_band_ind: [3]\n",
        "mid band file: /Volumes/Lliarinh/data/grs1915/LC_40116-01-01-03_B_8.82-15.19keV_1div128s_total.fits\n",
        "i = 15"
       ]
      },
      {
       "output_type": "stream",
       "stream": "stdout",
       "text": [
        "\n",
        "I am on ObsID 40703-01-32-00\n",
        "emin_all: [ 13.06   3.79   3.79   8.82  15.62]\n",
        "emax_all: [ 15.19  13.91   6.3   15.19  79.19]\n",
        "mid_band_ind: [3]\n",
        "mid band file: /Volumes/Lliarinh/data/grs1915/LC_40703-01-32-00_B_8.82-15.19keV_1div128s_total.fits\n",
        "i = 16"
       ]
      },
      {
       "output_type": "stream",
       "stream": "stdout",
       "text": [
        "\n",
        "I am on ObsID 90105-10-05-00\n",
        "emin_all: [ 12.69   4.09   4.09   9.4   15.18]\n",
        "emax_all: [ 14.76  13.52   6.12  14.76  61.17]\n",
        "mid_band_ind: [3]\n",
        "mid band file: /Volumes/Lliarinh/data/grs1915/LC_90105-10-05-00_B_9.40-14.76keV_1div256s_total.fits\n",
        "i = 17"
       ]
      },
      {
       "output_type": "stream",
       "stream": "stdout",
       "text": [
        "\n",
        "I am on ObsID 96701-01-30-00\n",
        "emin_all: [ 12.69   3.68   3.68   9.4   15.18]\n",
        "emax_all: [ 14.76  13.52   6.12  14.76  76.74]\n",
        "mid_band_ind: [3]\n",
        "mid band file: /Volumes/Lliarinh/data/grs1915/LC_96701-01-30-00_B_9.40-14.76keV_1div128s_total.fits\n",
        "i = 18"
       ]
      },
      {
       "output_type": "stream",
       "stream": "stdout",
       "text": [
        "\n",
        "I am on ObsID 91701-01-57-00\n",
        "emin_all: [ 12.69   3.68   3.68   9.4   15.18]\n",
        "emax_all: [ 14.76  13.52   6.12  14.76  76.74]\n",
        "mid_band_ind: [3]\n",
        "mid band file: /Volumes/Lliarinh/data/grs1915/LC_91701-01-57-00_B_9.40-14.76keV_1div128s_total.fits\n",
        "i = 19"
       ]
      },
      {
       "output_type": "stream",
       "stream": "stdout",
       "text": [
        "\n",
        "I am on ObsID 50125-01-04-00\n",
        "emin_all: [ 12.69   3.68   3.68   9.4 ]\n",
        "emax_all: [ 14.76  13.52   6.12  14.76]\n",
        "mid_band_ind: [3]\n",
        "mid band file: /Volumes/Lliarinh/data/grs1915/LC_50125-01-04-00_B_9.40-14.76keV_1div128s_total.fits\n",
        "No high_band_ind2\n",
        "i = 20\n",
        "I am on ObsID 91701-01-57-02\n",
        "emin_all: [ 12.69   3.68   3.68   9.4   15.18]\n",
        "emax_all: [ 14.76  13.52   6.12  14.76  76.74]\n",
        "mid_band_ind: [3]\n",
        "mid band file: /Volumes/Lliarinh/data/grs1915/LC_91701-01-57-02_B_9.40-14.76keV_1div128s_total.fits\n",
        "i = 21"
       ]
      },
      {
       "output_type": "stream",
       "stream": "stdout",
       "text": [
        "\n",
        "I am on ObsID 10258-01-01-00\n",
        "i = 22\n",
        "I am on ObsID 93701-01-34-01\n",
        "emin_all: [ 12.69   3.68   3.68   9.4   15.18]\n",
        "emax_all: [ 14.76  13.52   6.12  14.76  76.74]\n",
        "mid_band_ind: [3]\n",
        "mid band file: /Volumes/Lliarinh/data/grs1915/LC_93701-01-34-01_B_9.40-14.76keV_1div128s_total.fits\n",
        "i = 23"
       ]
      },
      {
       "output_type": "stream",
       "stream": "stdout",
       "text": [
        "\n",
        "I am on ObsID 93701-01-34-00\n",
        "emin_all: [ 12.69   3.68   3.68   9.4   15.18]\n",
        "emax_all: [ 14.76  13.52   6.12  14.76  76.74]\n",
        "mid_band_ind: [3]\n",
        "mid band file: /Volumes/Lliarinh/data/grs1915/LC_93701-01-34-00_B_9.40-14.76keV_1div128s_total.fits\n",
        "i = 24"
       ]
      },
      {
       "output_type": "stream",
       "stream": "stdout",
       "text": [
        "\n",
        "I am on ObsID 50703-01-62-02\n",
        "emin_all: [ 12.69   3.68   3.68   9.4   15.18]\n",
        "emax_all: [ 14.76  13.52   6.12  14.76  76.74]\n",
        "mid_band_ind: [3]\n",
        "mid band file: /Volumes/Lliarinh/data/grs1915/LC_50703-01-62-02_B_9.40-14.76keV_1div128s_total.fits\n",
        "i = 25"
       ]
      },
      {
       "output_type": "stream",
       "stream": "stdout",
       "text": [
        "\n",
        "I am on ObsID 50703-01-50-00\n",
        "emin_all: [ 12.69   3.68   3.68   9.4   15.18]\n",
        "emax_all: [ 14.76  13.52   6.12  14.76  76.74]\n",
        "mid_band_ind: [3]\n",
        "mid band file: /Volumes/Lliarinh/data/grs1915/LC_50703-01-50-00_B_9.40-14.76keV_1div128s_total.fits\n",
        "i = 26"
       ]
      },
      {
       "output_type": "stream",
       "stream": "stdout",
       "text": [
        "\n",
        "I am on ObsID 70702-01-12-02\n",
        "emin_all: [ 12.69   3.68   3.68   9.4   15.18]\n",
        "emax_all: [ 14.76  13.52   6.12  14.76  76.74]\n",
        "mid_band_ind: [3]\n",
        "mid band file: /Volumes/Lliarinh/data/grs1915/LC_70702-01-12-02_B_9.40-14.76keV_1div128s_total.fits\n",
        "i = 27"
       ]
      },
      {
       "output_type": "stream",
       "stream": "stdout",
       "text": [
        "\n",
        "I am on ObsID 90024-02-28-00\n",
        "emin_all: [ 13.11   2.47   2.47   9.4 ]\n",
        "emax_all: [ 61.17  13.11   6.12  20.2 ]\n",
        "mid_band_ind: [3]\n",
        "mid band file: /Volumes/Lliarinh/data/grs1915/LC_90024-02-28-00_GX_9.40-20.20keV_1div256s_total.fits\n",
        "i = 28"
       ]
      },
      {
       "output_type": "stream",
       "stream": "stdout",
       "text": [
        "\n",
        "I am on ObsID 40703-01-38-02\n",
        "emin_all: [ 13.06   3.79   3.79   8.82  15.62]\n",
        "emax_all: [ 15.19  13.91   6.3   15.19  79.19]\n",
        "mid_band_ind: [3]\n",
        "mid band file: /Volumes/Lliarinh/data/grs1915/LC_40703-01-38-02_B_8.82-15.19keV_1div128s_total.fits\n",
        "i = 29"
       ]
      },
      {
       "output_type": "stream",
       "stream": "stdout",
       "text": [
        "\n",
        "I am on ObsID 91701-01-16-00\n",
        "emin_all: [ 12.69   3.68   3.68   9.4   15.18]\n",
        "emax_all: [ 14.76  13.52   6.12  14.76  76.74]\n",
        "mid_band_ind: [3]\n",
        "mid band file: /Volumes/Lliarinh/data/grs1915/LC_91701-01-16-00_B_9.40-14.76keV_1div128s_total.fits\n",
        "i = 30"
       ]
      },
      {
       "output_type": "stream",
       "stream": "stdout",
       "text": [
        "\n",
        "I am on ObsID 20187-02-03-00\n",
        "emin_all: [ 12.27   3.7    3.7    9.03]\n",
        "emax_all: [ 12.99  12.99   6.54  12.99]\n",
        "mid_band_ind: [3]\n",
        "mid band file: /Volumes/Lliarinh/data/grs1915/LC_20187-02-03-00_B_9.03-12.99keV_1div128s_total.fits\n",
        "No high_band_ind2\n",
        "i = 31\n",
        "I am on ObsID 95701-01-03-01\n",
        "emin_all: [ 12.69   3.68   3.68   9.4   15.18]\n",
        "emax_all: [ 14.76  13.52   6.12  14.76  76.74]\n",
        "mid_band_ind: [3]\n",
        "mid band file: /Volumes/Lliarinh/data/grs1915/LC_95701-01-03-01_B_9.40-14.76keV_1div128s_total.fits\n",
        "i = 32"
       ]
      },
      {
       "output_type": "stream",
       "stream": "stdout",
       "text": [
        "\n",
        "I am on ObsID 95701-01-03-00\n",
        "emin_all: [ 12.69   3.68   3.68   9.4   15.18]\n",
        "emax_all: [ 14.76  13.52   6.12  14.76  76.74]\n",
        "mid_band_ind: [3]\n",
        "mid band file: /Volumes/Lliarinh/data/grs1915/LC_95701-01-03-00_B_9.40-14.76keV_1div128s_total.fits\n",
        "i = 33"
       ]
      },
      {
       "output_type": "stream",
       "stream": "stdout",
       "text": [
        "\n",
        "I am on ObsID 60701-01-15-00\n",
        "emin_all: [ 12.69   3.68   3.68   9.4   15.18]\n",
        "emax_all: [ 14.76  13.52   6.12  14.76  76.74]\n",
        "mid_band_ind: [3]\n",
        "mid band file: /Volumes/Lliarinh/data/grs1915/LC_60701-01-15-00_B_9.40-14.76keV_1div128s_total.fits\n",
        "i = 34"
       ]
      },
      {
       "output_type": "stream",
       "stream": "stdout",
       "text": [
        "\n",
        "I am on ObsID 60405-01-01-00\n",
        "emin_all: [ 12.69   3.68   3.68   9.4   15.18]\n",
        "emax_all: [ 14.76  13.52   6.12  14.76  76.74]\n",
        "mid_band_ind: [3]\n",
        "mid band file: /Volumes/Lliarinh/data/grs1915/LC_60405-01-01-00_B_9.40-14.76keV_1div128s_total.fits\n",
        "i = 35"
       ]
      },
      {
       "output_type": "stream",
       "stream": "stdout",
       "text": [
        "\n",
        "I am on ObsID 60405-01-01-01\n",
        "emin_all: [ 12.69   3.68   3.68   9.4   15.18]\n",
        "emax_all: [ 14.76  13.52   6.12  14.76  76.74]\n",
        "mid_band_ind: [3]\n",
        "mid band file: /Volumes/Lliarinh/data/grs1915/LC_60405-01-01-01_B_9.40-14.76keV_1div128s_total.fits\n",
        "i = 36"
       ]
      },
      {
       "output_type": "stream",
       "stream": "stdout",
       "text": [
        "\n",
        "I am on ObsID 50703-01-18-02\n",
        "emin_all: [ 12.69   3.68   3.68   9.4   15.18]\n",
        "emax_all: [ 14.76  13.52   6.12  14.76  76.74]\n",
        "mid_band_ind: [3]\n",
        "mid band file: /Volumes/Lliarinh/data/grs1915/LC_50703-01-18-02_B_9.40-14.76keV_1div128s_total.fits\n",
        "i = 37"
       ]
      },
      {
       "output_type": "stream",
       "stream": "stdout",
       "text": [
        "\n",
        "I am on ObsID 50703-01-18-03\n",
        "emin_all: [ 12.69   3.68   3.68   9.4   15.18]\n",
        "emax_all: [ 14.76  13.52   6.12  14.76  76.74]\n",
        "mid_band_ind: [3]\n",
        "mid band file: /Volumes/Lliarinh/data/grs1915/LC_50703-01-18-03_B_9.40-14.76keV_1div128s_total.fits\n",
        "i = 38"
       ]
      },
      {
       "output_type": "stream",
       "stream": "stdout",
       "text": [
        "\n",
        "I am on ObsID 91701-01-52-01\n",
        "emin_all: [ 12.69   3.68   3.68   9.4   15.18]\n",
        "emax_all: [ 14.76  13.52   6.12  14.76  76.74]\n",
        "mid_band_ind: [3]\n",
        "mid band file: /Volumes/Lliarinh/data/grs1915/LC_91701-01-52-01_B_9.40-14.76keV_1div128s_total.fits\n",
        "i = 39"
       ]
      },
      {
       "output_type": "stream",
       "stream": "stdout",
       "text": [
        "\n",
        "I am on ObsID 50703-01-18-01\n",
        "emin_all: [ 12.69   3.68   3.68   9.4   15.18]\n",
        "emax_all: [ 14.76  13.52   6.12  14.76  76.74]\n",
        "mid_band_ind: [3]\n",
        "mid band file: /Volumes/Lliarinh/data/grs1915/LC_50703-01-18-01_B_9.40-14.76keV_1div128s_total.fits\n",
        "i = 40"
       ]
      },
      {
       "output_type": "stream",
       "stream": "stdout",
       "text": [
        "\n",
        "I am on ObsID 90105-03-02-03\n",
        "emin_all: [ 12.69   4.09   4.09   9.4   15.18]\n",
        "emax_all: [ 14.76  13.52   6.12  14.76  61.17]\n",
        "mid_band_ind: [3]\n",
        "mid band file: /Volumes/Lliarinh/data/grs1915/LC_90105-03-02-03_B_9.40-14.76keV_1div256s_total.fits\n",
        "i = 41"
       ]
      },
      {
       "output_type": "stream",
       "stream": "stdout",
       "text": [
        "\n",
        "I am on ObsID 90105-03-02-02\n",
        "emin_all: [ 12.69   4.09   4.09   9.4   15.18]\n",
        "emax_all: [ 14.76  13.52   6.12  14.76  61.17]\n",
        "mid_band_ind: [3]\n",
        "mid band file: /Volumes/Lliarinh/data/grs1915/LC_90105-03-02-02_B_9.40-14.76keV_1div256s_total.fits\n",
        "i = 42"
       ]
      },
      {
       "output_type": "stream",
       "stream": "stdout",
       "text": [
        "\n",
        "I am on ObsID 80701-01-22-00\n",
        "emin_all: [ 12.69   3.68   3.68   9.4   15.18]\n",
        "emax_all: [ 14.76  13.52   6.12  14.76  76.74]\n",
        "mid_band_ind: [3]\n",
        "mid band file: /Volumes/Lliarinh/data/grs1915/LC_80701-01-22-00_B_9.40-14.76keV_1div128s_total.fits\n",
        "i = 43"
       ]
      },
      {
       "output_type": "stream",
       "stream": "stdout",
       "text": [
        "\n",
        "I am on ObsID 90105-03-02-00\n",
        "emin_all: [ 12.69   4.09   4.09   9.4   15.18]\n",
        "emax_all: [ 14.76  13.52   6.12  14.76  61.17]\n",
        "mid_band_ind: [3]\n",
        "mid band file: /Volumes/Lliarinh/data/grs1915/LC_90105-03-02-00_B_9.40-14.76keV_1div256s_total.fits\n",
        "i = 44"
       ]
      },
      {
       "output_type": "stream",
       "stream": "stdout",
       "text": [
        "\n",
        "I am on ObsID 96701-01-08-01\n",
        "emin_all: [ 12.69   3.68   3.68   9.4   15.18]\n",
        "emax_all: [ 14.76  13.52   6.12  14.76  76.74]\n",
        "mid_band_ind: [3]\n",
        "mid band file: /Volumes/Lliarinh/data/grs1915/LC_96701-01-08-01_B_9.40-14.76keV_1div128s_total.fits\n",
        "i = 45"
       ]
      },
      {
       "output_type": "stream",
       "stream": "stdout",
       "text": [
        "\n",
        "I am on ObsID 96701-01-08-00\n",
        "emin_all: [ 12.69   3.68   3.68   9.4   15.18]\n",
        "emax_all: [ 14.76  13.52   6.12  14.76  76.74]\n",
        "mid_band_ind: [3]\n",
        "mid band file: /Volumes/Lliarinh/data/grs1915/LC_96701-01-08-00_B_9.40-14.76keV_1div128s_total.fits\n",
        "i = 46"
       ]
      },
      {
       "output_type": "stream",
       "stream": "stdout",
       "text": [
        "\n",
        "I am on ObsID 91701-01-49-00\n",
        "emin_all: [ 12.69   3.68   3.68   9.4   15.18]\n",
        "emax_all: [ 14.76  13.52   6.12  14.76  76.74]\n",
        "mid_band_ind: [3]\n",
        "mid band file: /Volumes/Lliarinh/data/grs1915/LC_91701-01-49-00_B_9.40-14.76keV_1div128s_total.fits\n",
        "i = 47"
       ]
      },
      {
       "output_type": "stream",
       "stream": "stdout",
       "text": [
        "\n",
        "I am on ObsID 90105-04-03-01\n",
        "emin_all: [ 12.69   4.09   4.09   9.4   15.18]\n",
        "emax_all: [ 14.76  13.52   6.12  14.76  61.17]\n",
        "mid_band_ind: [3]\n",
        "mid band file: /Volumes/Lliarinh/data/grs1915/LC_90105-04-03-01_B_9.40-14.76keV_1div256s_total.fits\n",
        "i = 48"
       ]
      },
      {
       "output_type": "stream",
       "stream": "stdout",
       "text": [
        "\n",
        "I am on ObsID 90105-04-03-00\n",
        "emin_all: [ 12.69   4.09   4.09   9.4   15.18]\n",
        "emax_all: [ 14.76  13.52   6.12  14.76  61.17]\n",
        "mid_band_ind: [3]\n",
        "mid band file: /Volumes/Lliarinh/data/grs1915/LC_90105-04-03-00_B_9.40-14.76keV_1div256s_total.fits\n",
        "i = 49"
       ]
      },
      {
       "output_type": "stream",
       "stream": "stdout",
       "text": [
        "\n",
        "I am on ObsID 30703-01-18-00\n",
        "emin_all: [ 12.27   3.35   3.35   9.03  13.36]\n",
        "emax_all: [ 12.99  12.99   6.54  12.99  67.1 ]\n",
        "mid_band_ind: [3]\n",
        "mid band file: /Volumes/Lliarinh/data/grs1915/LC_30703-01-18-00_B_9.03-12.99keV_1div128s_total.fits\n",
        "i = 50"
       ]
      },
      {
       "output_type": "stream",
       "stream": "stdout",
       "text": [
        "\n",
        "I am on ObsID 10408-01-01-01\n",
        "emin_all: [ 12.76   3.13   3.13   5.28   9.  ]\n",
        "emax_all: [ 15.61  14.03   6.21  14.03  15.61]\n",
        "mid_band_ind: [4]\n",
        "mid band file: /Volumes/Lliarinh/data/grs1915/LC_10408-01-01-01_B_9.00-15.61keV_1div64s_total.fits\n",
        "No high_band_ind2\n",
        "i = 51\n",
        "I am on ObsID 50703-01-54-00\n",
        "emin_all: [ 12.69   3.68   3.68   9.4   15.18]"
       ]
      },
      {
       "output_type": "stream",
       "stream": "stdout",
       "text": [
        "\n",
        "emax_all: [ 14.76  13.52   6.12  14.76  76.74]\n",
        "mid_band_ind: [3]\n",
        "mid band file: /Volumes/Lliarinh/data/grs1915/LC_50703-01-54-00_B_9.40-14.76keV_1div128s_total.fits\n",
        "i = 52"
       ]
      },
      {
       "output_type": "stream",
       "stream": "stdout",
       "text": [
        "\n",
        "I am on ObsID 50703-01-54-01\n",
        "emin_all: [ 12.69   3.68   3.68   9.4   15.18]\n",
        "emax_all: [ 14.76  13.52   6.12  14.76  76.74]\n",
        "mid_band_ind: [3]\n",
        "mid band file: /Volumes/Lliarinh/data/grs1915/LC_50703-01-54-01_B_9.40-14.76keV_1div128s_total.fits\n",
        "i = 53"
       ]
      },
      {
       "output_type": "stream",
       "stream": "stdout",
       "text": [
        "\n",
        "I am on ObsID 95701-01-18-00\n",
        "emin_all: [ 12.69   3.68   3.68   9.4   15.18]\n",
        "emax_all: [ 14.76  13.52   6.12  14.76  76.74]\n",
        "mid_band_ind: [3]\n",
        "mid band file: /Volumes/Lliarinh/data/grs1915/LC_95701-01-18-00_B_9.40-14.76keV_1div128s_total.fits\n",
        "i = 54"
       ]
      },
      {
       "output_type": "stream",
       "stream": "stdout",
       "text": [
        "\n",
        "I am on ObsID 91701-01-57-01\n",
        "emin_all: [ 12.69   3.68   3.68   9.4   15.18]\n",
        "emax_all: [ 14.76  13.52   6.12  14.76  76.74]\n",
        "mid_band_ind: [3]\n",
        "mid band file: /Volumes/Lliarinh/data/grs1915/LC_91701-01-57-01_B_9.40-14.76keV_1div128s_total.fits\n",
        "i = 55"
       ]
      },
      {
       "output_type": "stream",
       "stream": "stdout",
       "text": [
        "\n",
        "I am on ObsID 92702-01-33-00\n",
        "emin_all: [ 12.69   3.68   3.68   9.4   15.18]\n",
        "emax_all: [ 14.76  13.52   6.12  14.76  76.74]\n",
        "mid_band_ind: [3]\n",
        "mid band file: /Volumes/Lliarinh/data/grs1915/LC_92702-01-33-00_B_9.40-14.76keV_1div128s_total.fits\n",
        "i = 56"
       ]
      },
      {
       "output_type": "stream",
       "stream": "stdout",
       "text": [
        "\n",
        "I am on ObsID 90024-02-01-00\n",
        "emin_all: [ 13.11   2.47   2.47   9.4 ]\n",
        "emax_all: [ 61.17  13.11   6.12  20.2 ]\n",
        "mid_band_ind: [3]\n",
        "mid band file: /Volumes/Lliarinh/data/grs1915/LC_90024-02-01-00_GX_9.40-20.20keV_1div256s_total.fits\n",
        "i = 57"
       ]
      },
      {
       "output_type": "stream",
       "stream": "stdout",
       "text": [
        "\n",
        "I am on ObsID 50125-01-05-01\n",
        "emin_all: [ 12.69   3.68   3.68   9.4 ]\n",
        "emax_all: [ 14.76  13.52   6.12  14.76]\n",
        "mid_band_ind: [3]\n",
        "mid band file: /Volumes/Lliarinh/data/grs1915/LC_50125-01-05-01_B_9.40-14.76keV_1div128s_total.fits\n",
        "No high_band_ind2\n",
        "i = 58\n",
        "I am on ObsID 30703-01-28-00\n",
        "emin_all: [ 12.27   3.35   3.35   9.03  13.36]"
       ]
      },
      {
       "output_type": "stream",
       "stream": "stdout",
       "text": [
        "\n",
        "emax_all: [ 12.99  12.99   6.54  12.99  67.1 ]\n",
        "mid_band_ind: [3]\n",
        "mid band file: /Volumes/Lliarinh/data/grs1915/LC_30703-01-28-00_B_9.03-12.99keV_1div128s_total.fits\n",
        "i = 59"
       ]
      },
      {
       "output_type": "stream",
       "stream": "stdout",
       "text": [
        "\n",
        "I am on ObsID 95701-01-47-00\n",
        "emin_all: [ 12.69   3.68   3.68   9.4   15.18]\n",
        "emax_all: [ 14.76  13.52   6.12  14.76  76.74]\n",
        "mid_band_ind: [3]\n",
        "mid band file: /Volumes/Lliarinh/data/grs1915/LC_95701-01-47-00_B_9.40-14.76keV_1div128s_total.fits\n",
        "i = 60"
       ]
      },
      {
       "output_type": "stream",
       "stream": "stdout",
       "text": [
        "\n",
        "I am on ObsID 70702-01-12-01\n",
        "emin_all: [ 12.69   3.68   3.68   9.4   15.18]\n",
        "emax_all: [ 14.76  13.52   6.12  14.76  76.74]\n",
        "mid_band_ind: [3]\n",
        "mid band file: /Volumes/Lliarinh/data/grs1915/LC_70702-01-12-01_B_9.40-14.76keV_1div128s_total.fits\n",
        "i = 61"
       ]
      },
      {
       "output_type": "stream",
       "stream": "stdout",
       "text": [
        "\n",
        "I am on ObsID 93701-01-04-00\n",
        "emin_all: [ 12.69   3.68   3.68   9.4   15.18]\n",
        "emax_all: [ 14.76  13.52   6.12  14.76  76.74]\n",
        "mid_band_ind: [3]\n",
        "mid band file: /Volumes/Lliarinh/data/grs1915/LC_93701-01-04-00_B_9.40-14.76keV_1div128s_total.fits\n",
        "i = 62"
       ]
      },
      {
       "output_type": "stream",
       "stream": "stdout",
       "text": [
        "\n",
        "I am on ObsID 30703-01-14-00\n",
        "emin_all: [ 12.27   3.35   3.35   9.03  13.36]\n",
        "emax_all: [ 12.99  12.99   6.54  12.99  67.1 ]\n",
        "mid_band_ind: [3]\n",
        "mid band file: /Volumes/Lliarinh/data/grs1915/LC_30703-01-14-00_B_9.03-12.99keV_1div128s_total.fits\n",
        "i = 63"
       ]
      },
      {
       "output_type": "stream",
       "stream": "stdout",
       "text": [
        "\n",
        "I am on ObsID 93701-01-30-01\n",
        "emin_all: [ 12.69   3.68   3.68   9.4   15.18]\n",
        "emax_all: [ 14.76  13.52   6.12  14.76  76.74]\n",
        "mid_band_ind: [3]\n",
        "mid band file: /Volumes/Lliarinh/data/grs1915/LC_93701-01-30-01_B_9.40-14.76keV_1div128s_total.fits\n",
        "i = 64"
       ]
      },
      {
       "output_type": "stream",
       "stream": "stdout",
       "text": [
        "\n",
        "I am on ObsID 93701-01-04-01\n",
        "emin_all: [ 12.69   3.68   3.68   9.4   15.18]\n",
        "emax_all: [ 14.76  13.52   6.12  14.76  76.74]\n",
        "mid_band_ind: [3]\n",
        "mid band file: /Volumes/Lliarinh/data/grs1915/LC_93701-01-04-01_B_9.40-14.76keV_1div128s_total.fits\n",
        "i = 65"
       ]
      },
      {
       "output_type": "stream",
       "stream": "stdout",
       "text": [
        "\n",
        "I am on ObsID 80701-01-19-02\n",
        "emin_all: [ 12.69   3.68   3.68   9.4   15.18]\n",
        "emax_all: [ 14.76  13.52   6.12  14.76  76.74]\n",
        "mid_band_ind: [3]\n",
        "mid band file: /Volumes/Lliarinh/data/grs1915/LC_80701-01-19-02_B_9.40-14.76keV_1div128s_total.fits\n",
        "i = 66"
       ]
      },
      {
       "output_type": "stream",
       "stream": "stdout",
       "text": [
        "\n",
        "I am on ObsID 80701-01-19-03\n",
        "emin_all: [ 12.69   3.68   3.68   9.4   15.18]\n",
        "emax_all: [ 14.76  13.52   6.12  14.76  76.74]\n",
        "mid_band_ind: [3]\n",
        "mid band file: /Volumes/Lliarinh/data/grs1915/LC_80701-01-19-03_B_9.40-14.76keV_1div128s_total.fits\n",
        "i = 67"
       ]
      },
      {
       "output_type": "stream",
       "stream": "stdout",
       "text": [
        "\n",
        "I am on ObsID 90701-01-42-00\n",
        "emin_all: [ 12.69   3.68   3.68   9.4   15.18]\n",
        "emax_all: [ 14.76  13.52   6.12  14.76  76.74]\n",
        "mid_band_ind: [3]\n",
        "mid band file: /Volumes/Lliarinh/data/grs1915/LC_90701-01-42-00_B_9.40-14.76keV_1div128s_total.fits\n",
        "i = 68"
       ]
      },
      {
       "output_type": "stream",
       "stream": "stdout",
       "text": [
        "\n",
        "I am on ObsID 20402-01-55-00\n",
        "emin_all: [ 12.27   3.7    3.7    9.03  13.36]\n",
        "emax_all: [ 12.99  12.99   6.54  12.99  60.84]\n",
        "mid_band_ind: [3]\n",
        "mid band file: /Volumes/Lliarinh/data/grs1915/LC_20402-01-55-00_B_9.03-12.99keV_1div128s_total.fits\n",
        "i = 69"
       ]
      },
      {
       "output_type": "stream",
       "stream": "stdout",
       "text": [
        "\n",
        "I am on ObsID 20187-02-02-00\n",
        "emin_all: [ 12.27   3.7    3.7    9.03]\n",
        "emax_all: [ 12.99  12.99   6.54  12.99]\n",
        "mid_band_ind: [3]\n",
        "mid band file: /Volumes/Lliarinh/data/grs1915/LC_20187-02-02-00_B_9.03-12.99keV_1div128s_total.fits\n",
        "No high_band_ind2\n",
        "i = 70\n",
        "I am on ObsID 50703-01-24-01\n",
        "emin_all: [ 12.69   3.68   3.68   9.4   15.18]\n",
        "emax_all: [ 14.76  13.52   6.12  14.76  76.74]\n",
        "mid_band_ind: [3]\n",
        "mid band file: /Volumes/Lliarinh/data/grs1915/LC_50703-01-24-01_B_9.40-14.76keV_1div128s_total.fits\n",
        "i = 71"
       ]
      },
      {
       "output_type": "stream",
       "stream": "stdout",
       "text": [
        "\n",
        "I am on ObsID 91701-01-62-00\n",
        "emin_all: [ 12.69   3.68   3.68   9.4   15.18]\n",
        "emax_all: [ 14.76  13.52   6.12  14.76  76.74]\n",
        "mid_band_ind: [3]\n",
        "mid band file: /Volumes/Lliarinh/data/grs1915/LC_91701-01-62-00_B_9.40-14.76keV_1div128s_total.fits\n",
        "i = 72"
       ]
      },
      {
       "output_type": "stream",
       "stream": "stdout",
       "text": [
        "\n",
        "I am on ObsID 80701-01-19-00\n",
        "emin_all: [ 12.69   3.68   3.68   9.4   15.18]\n",
        "emax_all: [ 14.76  13.52   6.12  14.76  76.74]\n",
        "mid_band_ind: [3]\n",
        "mid band file: /Volumes/Lliarinh/data/grs1915/LC_80701-01-19-00_B_9.40-14.76keV_1div128s_total.fits\n",
        "i = 73"
       ]
      },
      {
       "output_type": "stream",
       "stream": "stdout",
       "text": [
        "\n",
        "I am on ObsID 93701-01-07-00\n",
        "emin_all: [ 12.69   3.68   3.68   9.4   15.18]\n",
        "emax_all: [ 14.76  13.52   6.12  14.76  76.74]\n",
        "mid_band_ind: [3]\n",
        "mid band file: /Volumes/Lliarinh/data/grs1915/LC_93701-01-07-00_B_9.40-14.76keV_1div128s_total.fits\n",
        "i = 74"
       ]
      },
      {
       "output_type": "stream",
       "stream": "stdout",
       "text": [
        "\n",
        "I am on ObsID 30703-01-03-00\n",
        "emin_all: [ 12.27   3.35   3.35   9.03  13.36]\n",
        "emax_all: [ 12.99  12.99   6.54  12.99  67.1 ]\n",
        "mid_band_ind: [3]\n",
        "mid band file: /Volumes/Lliarinh/data/grs1915/LC_30703-01-03-00_B_9.03-12.99keV_1div128s_total.fits\n",
        "i = 75"
       ]
      },
      {
       "output_type": "stream",
       "stream": "stdout",
       "text": [
        "\n",
        "I am on ObsID 90701-01-01-00\n",
        "emin_all: [ 12.69   3.68   3.68   9.4   15.18]\n",
        "emax_all: [ 14.76  13.52   6.12  14.76  76.74]\n",
        "mid_band_ind: [3]\n",
        "mid band file: /Volumes/Lliarinh/data/grs1915/LC_90701-01-01-00_B_9.40-14.76keV_1div128s_total.fits\n",
        "i = 76"
       ]
      },
      {
       "output_type": "stream",
       "stream": "stdout",
       "text": [
        "\n",
        "I am on ObsID 92702-01-23-01\n",
        "emin_all: [ 12.69   3.68   3.68   9.4   15.18]\n",
        "emax_all: [ 14.76  13.52   6.12  14.76  76.74]\n",
        "mid_band_ind: [3]\n",
        "mid band file: /Volumes/Lliarinh/data/grs1915/LC_92702-01-23-01_B_9.40-14.76keV_1div128s_total.fits\n",
        "i = 77"
       ]
      },
      {
       "output_type": "stream",
       "stream": "stdout",
       "text": [
        "\n",
        "I am on ObsID 93701-01-25-00\n",
        "emin_all: [ 12.69   3.68   3.68   9.4   15.18]\n",
        "emax_all: [ 14.76  13.52   6.12  14.76  76.74]\n",
        "mid_band_ind: [3]\n",
        "mid band file: /Volumes/Lliarinh/data/grs1915/LC_93701-01-25-00_B_9.40-14.76keV_1div128s_total.fits\n",
        "i = 78"
       ]
      },
      {
       "output_type": "stream",
       "stream": "stdout",
       "text": [
        "\n",
        "I am on ObsID 20187-02-01-00\n",
        "emin_all: [ 12.27   3.7    3.7    9.03]\n",
        "emax_all: [ 12.99  12.99   6.54  12.99]\n",
        "mid_band_ind: [3]\n",
        "mid band file: /Volumes/Lliarinh/data/grs1915/LC_20187-02-01-00_B_9.03-12.99keV_1div128s_total.fits\n",
        "No high_band_ind2\n",
        "i = 79\n",
        "I am on ObsID 20187-02-01-01\n",
        "emin_all: [ 12.27   3.7    3.7    9.03]\n",
        "emax_all: [ 12.99  12.99   6.54  12.99]\n",
        "mid_band_ind: [3]\n",
        "mid band file: /Volumes/Lliarinh/data/grs1915/LC_20187-02-01-01_B_9.03-12.99keV_1div128s_total.fits\n",
        "No high_band_ind2\n",
        "i = 80\n",
        "I am on ObsID 92702-01-23-00\n",
        "emin_all: [ 12.69   3.68   3.68   9.4   15.18]\n",
        "emax_all: [ 14.76  13.52   6.12  14.76  76.74]\n",
        "mid_band_ind: [3]\n",
        "mid band file: /Volumes/Lliarinh/data/grs1915/LC_92702-01-23-00_B_9.40-14.76keV_1div128s_total.fits\n",
        "i = 81"
       ]
      },
      {
       "output_type": "stream",
       "stream": "stdout",
       "text": [
        "\n",
        "I am on ObsID 10408-01-01-00\n",
        "emin_all: [ 12.76   3.13   3.13   5.28   9.  ]\n",
        "emax_all: [ 15.61  14.03   6.21  14.03  15.61]\n",
        "mid_band_ind: [4]\n",
        "mid band file: /Volumes/Lliarinh/data/grs1915/LC_10408-01-01-00_B_9.00-15.61keV_1div64s_total.fits\n",
        "No high_band_ind2\n",
        "i = 82\n",
        "I am on ObsID 90701-01-01-02\n",
        "emin_all: [ 12.69   3.68   3.68   9.4   15.18]\n",
        "emax_all: [ 14.76  13.52   6.12  14.76  76.74]\n",
        "mid_band_ind: [3]\n",
        "mid band file: /Volumes/Lliarinh/data/grs1915/LC_90701-01-01-02_B_9.40-14.76keV_1div128s_total.fits\n",
        "i = 83"
       ]
      },
      {
       "output_type": "stream",
       "stream": "stdout",
       "text": [
        "\n",
        "I am on ObsID 94701-01-41-00\n",
        "emin_all: [ 12.69   3.68   3.68   9.4   15.18]\n",
        "emax_all: [ 14.76  13.52   6.12  14.76  76.74]\n",
        "mid_band_ind: [3]\n",
        "mid band file: /Volumes/Lliarinh/data/grs1915/LC_94701-01-41-00_B_9.40-14.76keV_1div128s_total.fits\n",
        "i = 84"
       ]
      },
      {
       "output_type": "stream",
       "stream": "stdout",
       "text": [
        "\n",
        "I am on ObsID 20187-02-06-00\n",
        "emin_all: [ 12.27   3.7    3.7    9.03]\n",
        "emax_all: [ 12.99  12.99   6.54  12.99]\n",
        "mid_band_ind: [3]\n",
        "mid band file: /Volumes/Lliarinh/data/grs1915/LC_20187-02-06-00_B_9.03-12.99keV_1div128s_total.fits\n",
        "No high_band_ind2\n",
        "i = 85\n",
        "I am on ObsID 94701-01-04-01\n",
        "emin_all: [ 12.69   3.68   3.68   9.4   15.18]\n",
        "emax_all: [ 14.76  13.52   6.12  14.76  76.74]\n",
        "mid_band_ind: [3]\n",
        "mid band file: /Volumes/Lliarinh/data/grs1915/LC_94701-01-04-01_B_9.40-14.76keV_1div128s_total.fits\n",
        "i = 86"
       ]
      },
      {
       "output_type": "stream",
       "stream": "stdout",
       "text": [
        "\n",
        "I am on ObsID 92702-01-23-02\n",
        "emin_all: [ 12.69   3.68   3.68   9.4   15.18]\n",
        "emax_all: [ 14.76  13.52   6.12  14.76  76.74]\n",
        "mid_band_ind: [3]\n",
        "mid band file: /Volumes/Lliarinh/data/grs1915/LC_92702-01-23-02_B_9.40-14.76keV_1div128s_total.fits\n",
        "i = 87"
       ]
      },
      {
       "output_type": "stream",
       "stream": "stdout",
       "text": [
        "\n",
        "I am on ObsID 60701-01-18-01\n",
        "emin_all: [ 12.69   3.68   3.68   9.4   15.18]\n",
        "emax_all: [ 14.76  13.52   6.12  14.76  76.74]\n",
        "mid_band_ind: [3]\n",
        "mid band file: /Volumes/Lliarinh/data/grs1915/LC_60701-01-18-01_B_9.40-14.76keV_1div128s_total.fits\n",
        "i = 88"
       ]
      },
      {
       "output_type": "stream",
       "stream": "stdout",
       "text": [
        "\n",
        "I am on ObsID 60701-01-18-00\n",
        "emin_all: [ 12.69   3.68   3.68   9.4   15.18]\n",
        "emax_all: [ 14.76  13.52   6.12  14.76  76.74]\n",
        "mid_band_ind: [3]\n",
        "mid band file: /Volumes/Lliarinh/data/grs1915/LC_60701-01-18-00_B_9.40-14.76keV_1div128s_total.fits\n",
        "i = 89"
       ]
      },
      {
       "output_type": "stream",
       "stream": "stdout",
       "text": [
        "\n",
        "I am on ObsID 30703-01-28-01\n",
        "emin_all: [ 12.27   3.35   3.35   9.03  13.36]\n",
        "emax_all: [ 12.99  12.99   6.54  12.99  67.1 ]\n",
        "mid_band_ind: [3]\n",
        "mid band file: /Volumes/Lliarinh/data/grs1915/LC_30703-01-28-01_B_9.03-12.99keV_1div128s_total.fits\n",
        "i = 90"
       ]
      },
      {
       "output_type": "stream",
       "stream": "stdout",
       "text": [
        "\n",
        "I am on ObsID 60701-01-18-02\n",
        "emin_all: [ 12.69   3.68   3.68   9.4   15.18]\n",
        "emax_all: [ 14.76  13.52   6.12  14.76  76.74]\n",
        "mid_band_ind: [3]\n",
        "mid band file: /Volumes/Lliarinh/data/grs1915/LC_60701-01-18-02_B_9.40-14.76keV_1div128s_total.fits\n",
        "i = 91"
       ]
      },
      {
       "output_type": "stream",
       "stream": "stdout",
       "text": [
        "\n",
        "I am on ObsID 20402-01-36-00\n",
        "emin_all: [ 12.27   3.7    3.7    9.03  13.36]\n",
        "emax_all: [ 12.99  12.99   6.54  12.99  60.84]\n",
        "mid_band_ind: [3]\n",
        "mid band file: /Volumes/Lliarinh/data/grs1915/LC_20402-01-36-00_B_9.03-12.99keV_1div128s_total.fits\n",
        "i = 92"
       ]
      },
      {
       "output_type": "stream",
       "stream": "stdout",
       "text": [
        "\n",
        "I am on ObsID 80127-05-06-00\n",
        "emin_all: [ 12.69   4.09   4.09   9.4   15.18]\n",
        "emax_all: [ 14.76  13.52   6.12  14.76  61.17]\n",
        "mid_band_ind: [3]\n",
        "mid band file: /Volumes/Lliarinh/data/grs1915/LC_80127-05-06-00_B_9.40-14.76keV_1div256s_total.fits\n",
        "i = 93"
       ]
      },
      {
       "output_type": "stream",
       "stream": "stdout",
       "text": [
        "\n",
        "I am on ObsID 50703-01-62-03\n",
        "emin_all: [ 12.69   3.68   3.68   9.4   15.18]\n",
        "emax_all: [ 14.76  13.52   6.12  14.76  76.74]\n",
        "mid_band_ind: [3]\n",
        "mid band file: /Volumes/Lliarinh/data/grs1915/LC_50703-01-62-03_B_9.40-14.76keV_1div128s_total.fits\n",
        "i = 94"
       ]
      },
      {
       "output_type": "stream",
       "stream": "stdout",
       "text": [
        "\n",
        "I am on ObsID 40117-01-01-05\n",
        "i = 95\n",
        "I am on ObsID 50703-01-62-01\n",
        "emin_all: [ 12.69   3.68   3.68   9.4   15.18]\n",
        "emax_all: [ 14.76  13.52   6.12  14.76  76.74]\n",
        "mid_band_ind: [3]\n",
        "mid band file: /Volumes/Lliarinh/data/grs1915/LC_50703-01-62-01_B_9.40-14.76keV_1div128s_total.fits\n",
        "i = 96"
       ]
      },
      {
       "output_type": "stream",
       "stream": "stdout",
       "text": [
        "\n",
        "I am on ObsID 50703-01-62-00\n",
        "emin_all: [ 12.69   3.68   3.68   9.4   15.18]\n",
        "emax_all: [ 14.76  13.52   6.12  14.76  76.74]\n",
        "mid_band_ind: [3]\n",
        "mid band file: /Volumes/Lliarinh/data/grs1915/LC_50703-01-62-00_B_9.40-14.76keV_1div128s_total.fits\n",
        "i = 97"
       ]
      },
      {
       "output_type": "stream",
       "stream": "stdout",
       "text": [
        "\n",
        "I am on ObsID 40117-01-01-00\n",
        "i = 98\n",
        "I am on ObsID 40117-01-01-01\n",
        "i = 99\n",
        "I am on ObsID 40117-01-01-02\n",
        "i = 100\n",
        "I am on ObsID 40117-01-01-03\n",
        "i = 101"
       ]
      },
      {
       "output_type": "stream",
       "stream": "stdout",
       "text": [
        "\n",
        "I am on ObsID 93701-01-30-00\n",
        "emin_all: [ 12.69   3.68   3.68   9.4   15.18]\n",
        "emax_all: [ 14.76  13.52   6.12  14.76  76.74]\n",
        "mid_band_ind: [3]\n",
        "mid band file: /Volumes/Lliarinh/data/grs1915/LC_93701-01-30-00_B_9.40-14.76keV_1div128s_total.fits\n",
        "i = 102"
       ]
      },
      {
       "output_type": "stream",
       "stream": "stdout",
       "text": [
        "\n",
        "I am on ObsID 20402-01-16-00\n",
        "emin_all: [ 12.27   3.7    3.7    9.03  13.36]\n",
        "emax_all: [ 12.99  12.99   6.54  12.99  60.84]\n",
        "mid_band_ind: [3]\n",
        "mid band file: /Volumes/Lliarinh/data/grs1915/LC_20402-01-16-00_B_9.03-12.99keV_1div128s_total.fits\n",
        "i = 103"
       ]
      },
      {
       "output_type": "stream",
       "stream": "stdout",
       "text": [
        "\n",
        "I am on ObsID 90024-02-24-00\n",
        "emin_all: [ 13.11   2.47   2.47   9.4 ]\n",
        "emax_all: [ 61.17  13.11   6.12  20.2 ]\n",
        "mid_band_ind: [3]\n",
        "mid band file: /Volumes/Lliarinh/data/grs1915/LC_90024-02-24-00_GX_9.40-20.20keV_1div256s_total.fits\n"
       ]
      }
     ],
     "prompt_number": 87
    },
    {
     "cell_type": "code",
     "collapsed": false,
     "input": [],
     "language": "python",
     "metadata": {},
     "outputs": [],
     "prompt_number": 87
    },
    {
     "cell_type": "code",
     "collapsed": false,
     "input": [
      "## let's plot an example of the three bands\n",
      "dtest = np.loadtxt(\"LC_20402-01-30-01_combined.dat\")\n",
      "plt.plot(dtest[:,0], dtest[:,1], label=\"Count rate in total band\")\n",
      "plt.plot(dtest[:,0], dtest[:,2], label=\"Count rate in low band\")\n",
      "plt.plot(dtest[:,0], dtest[:,3], label=\"Count rate in mid band\")\n",
      "plt.plot(dtest[:,0], dtest[:,4], label=\"Count rate in high band\")\n",
      "plt.legend(loc=\"upper left\")\n",
      "\n"
     ],
     "language": "python",
     "metadata": {},
     "outputs": [
      {
       "metadata": {},
       "output_type": "pyout",
       "prompt_number": 89,
       "text": [
        "<matplotlib.legend.Legend at 0x1141ffa50>"
       ]
      },
      {
       "metadata": {},
       "output_type": "display_data",
       "png": "[encoded data removed]",
       "text": [
        "<matplotlib.figure.Figure at 0x114017a10>"
       ]
      }
     ],
     "prompt_number": 89
    },
    {
     "cell_type": "markdown",
     "metadata": {},
     "source": [
      "### Data Preparation for Processed Data from Observing Modes\n",
      "\n",
      "We are now going to read out the light curves, make hardness ratios and return the data for feature extraction.\n",
      "\n",
      "We're going to make 256-second long light curves that start every 64 seconds apart (so there is overlap in multiple light curves). The time resolution `dt` changes for different observations (either $1/128\\mathrm{s}$ or $1/256\\mathrm{s}$), so we're going to re-bin those light curves that have a higher time resolution than I want.\n",
      "\n",
      "**Note:** Right now, I'm not doing any background subtraction. I probably should (or is this already done, **Lucy**?), but I don't, so that might be something to think about.\n",
      "\n",
      "Hardness ratios will be low/total and high/total"
     ]
    },
    {
     "cell_type": "code",
     "collapsed": false,
     "input": [
      "## these are the data files\n",
      "files = glob.glob(datadir+\"*combined.dat\")\n",
      "print(len(files))"
     ],
     "language": "python",
     "metadata": {},
     "outputs": [
      {
       "output_type": "stream",
       "stream": "stdout",
       "text": [
        "1692\n"
       ]
      }
     ],
     "prompt_number": 91
    },
    {
     "cell_type": "markdown",
     "metadata": {},
     "source": [
      "Below we define two functions:\n",
      "- `bin_lightcurve` is a helper-function that rebins light curves in `dtemp` to a time resolution `nbins` times the original time resolution (by the way of averaging bins, to preserve count rates).\n",
      "- `extract_obsmode_data` takes a list of text files and extracts the light curves, splits them up along breaks (gaps) in the data. If `bin_data` is set, it also rebins the light curves using `bin_lightcurve`"
     ]
    },
    {
     "cell_type": "code",
     "collapsed": false,
     "input": [],
     "language": "python",
     "metadata": {},
     "outputs": []
    },
    {
     "cell_type": "code",
     "collapsed": false,
     "input": [
      "\n",
      "## take all files, read in data, put in a list of type\n",
      "## [numpy-array with [time, countrate, countrate_error], state]\n",
      "\n",
      "def bin_lightcurve(dtemp, nbins):\n",
      "    tbinned_times, tbinned_counts = gt.rebin_lightcurve(dtemp[:,0], dtemp[:,1], n=nbins, type=\"average\")\n",
      "    #print(\"dt: \" + str(tbinned_times[1]-tbinned_times[0]))\n",
      "    lbinned_times, lbinned_counts = gt.rebin_lightcurve(dtemp[:,0], dtemp[:,2], n=nbins, type=\"average\")\n",
      "    mbinned_times, mbinned_counts = gt.rebin_lightcurve(dtemp[:,0], dtemp[:,3], n=nbins, type=\"average\")\n",
      "    hbinned_times, hbinned_counts = gt.rebin_lightcurve(dtemp[:,0], dtemp[:,4], n=nbins, type=\"average\")\n",
      "    \n",
      "    dshort = np.transpose(np.array([tbinned_times, tbinned_counts, lbinned_counts, mbinned_counts, hbinned_counts]))\n",
      "    return dshort\n",
      "\n",
      "\n",
      "def extract_obsmode_data(files, bin_data=True, bin_res=0.125, label_only=False, labels=\"clean\"):\n",
      "    \"\"\"\n",
      "    Extract Observing Mode data from a list of text files with columns \n",
      "    #times \\t total count rate \\t low energy count rate \\t high energy count rate\n",
      "    \n",
      "    if bin_data=True, the data will be rebinned to the resolution specified in bin_res.\n",
      "    If label_only is True, only data with (manually determined) labels will be extracted;\n",
      "    either from the whole set of observations used in Belloni+ 2000 (labels=\"all\") or from\n",
      "    the cleaned set with only those observations where the state does not change during the \n",
      "    observation (labels=\"clean\")\n",
      "    \n",
      "    \"\"\"\n",
      "    \n",
      "    if label_only:\n",
      "        if labels == \"clean\":\n",
      "            belloni_states = convert_belloni.main()\n",
      "            belloni_turned = turn_states(belloni_states)\n",
      "        else:\n",
      "            belloni_turned = convert_belloni_clean()\n",
      "    else:\n",
      "        belloni_turned = [None]\n",
      "    d_all = []\n",
      "    for f in files:\n",
      "        #print(\"I am on file \" + str(f))\n",
      "        fstring = f.split(\"_\")[1]\n",
      "        if fstring in belloni_turned:\n",
      "            state = belloni_turned[fstring]\n",
      "        else:\n",
      "            state = None\n",
      "            if label_only:\n",
      "                continue\n",
      "                \n",
      "        d = np.loadtxt(f)\n",
      "        #times = d[:,0]\n",
      "        #counts = d[:,1]\n",
      "        #plt.plot(times, counts)\n",
      "        dt_data = d[1:,0]-d[:-1,0]\n",
      "\n",
      "        dt_min = np.min(dt_data)\n",
      "        \n",
      "        #print(\"dt_min: \" + str(dt_min))\n",
      "        #nseg = int(tseg/dt_min) ## number of bins per segment\n",
      "        #noverlap = int(overlap_time/dt_min)\n",
      "        #print(\"nseg: \" + str(nseg))\n",
      "        #print(\"noverlap: \" + str(noverlap))\n",
      "\n",
      "        ## compute nbins, if nbins is <=1, don't bin\n",
      "        ## because target resolution is smaller than \n",
      "        ## native resolution, and we don't resample.\n",
      "        nbins = int(bin_res/dt_min)\n",
      "        if nbins <= 1:\n",
      "            print(\"Target resolution smaller than native time resolution. Not binning!\")\n",
      "            bin_data=False\n",
      "        #print(\"bin_res: \" + str(bin_res))\n",
      "        #print(\"dt_min: \" + str(dt_min))\n",
      "        #print(\"nbins: \" + str(nbins))\n",
      "\n",
      "        ### split data with breaks\n",
      "        breaks = np.where(dt_data > 0.008)[0]\n",
      "        #print(breaks)\n",
      "        if len(breaks) == 0:\n",
      "            dtemp = d\n",
      "            if bin_data:\n",
      "                #nbins = int(bin_res/tres)\n",
      "                dshort = bin_lightcurve(dtemp, nbins)                    \n",
      "            else:\n",
      "                dshort = dtemp  \n",
      "            d_all.append([dshort, state])\n",
      "        else:\n",
      "            for i,b in enumerate(breaks):\n",
      "                #print(\"Break in light curve at time bin %i; length of break dt = %.3f\"%(b, dt_data[b]))\n",
      "                if i == 0:\n",
      "                    if b == 0:\n",
      "                        #print(\"First break is at first time bin\")\n",
      "                        continue\n",
      "                    else:\n",
      "                        #print(\"I am extracting the data before the break\")\n",
      "                        dtemp = d[:b]\n",
      "                        if bin_data:\n",
      "                            #nbins = int(bin_res/tres)\n",
      "                            dshort = bin_lightcurve(dtemp, nbins)                    \n",
      "                        else:\n",
      "                            dshort = dtemp\n",
      "\n",
      "                else:\n",
      "                    #print(\"I am extracting data after break \" + str(i))\n",
      "                    dtemp = d[breaks[i-1]+1:b]\n",
      "                    if bin_data:\n",
      "                        #nbins = int(bin_res/tres)\n",
      "                        dshort = bin_lightcurve(dtemp, nbins)                    \n",
      "                    else:\n",
      "                        dshort = dtemp\n",
      "\n",
      "                d_all.append([dshort, state])\n",
      "\n",
      "            ## last segment\n",
      "            #print(\"I am computing last segment of file\")\n",
      "            dtemp = d[b+1:]\n",
      "            if bin_data:\n",
      "                #nbins = int(bin_res/tres)\n",
      "                dshort = bin_lightcurve(dtemp, nbins)                    \n",
      "            else:\n",
      "                dshort = dtemp\n",
      "\n",
      "            d_all.append([dshort, state])\n",
      "\n",
      "    return d_all\n",
      "######\n",
      "\n",
      "#f = files[0]\n",
      "#data = np.loadtxt(f)\n",
      "#hr1 = data[:,2]/data[:,1]\n",
      "#hr2 = data[:,3]/data[:,2]\n",
      "\n"
     ],
     "language": "python",
     "metadata": {},
     "outputs": [],
     "prompt_number": 97
    },
    {
     "cell_type": "markdown",
     "metadata": {},
     "source": [
      "Now let's actually extract the data.\n",
      "We're going to make some dumb assumptions here:\n",
      "- the length of an individual segment is 256 seconds\n",
      "- segments start every 64 seconds, such that consecutive segments overlap\n",
      "- we bin the data to a new time resolution of 0.125 seconds\n",
      "- we extract data with clean labels only, such that we can use it for supervised learning"
     ]
    },
    {
     "cell_type": "code",
     "collapsed": false,
     "input": [],
     "language": "python",
     "metadata": {},
     "outputs": [],
     "prompt_number": 97
    },
    {
     "cell_type": "code",
     "collapsed": false,
     "input": [
      "#do we want to bin the data?\n",
      "bin_data = True\n",
      "bin_res = 0.125\n",
      "\n",
      "d_all = extract_obsmode_data(files, bin_data=True, bin_res=bin_res, label_only=True, labels=\"clean\")\n",
      "\n",
      "\n"
     ],
     "language": "python",
     "metadata": {},
     "outputs": [
      {
       "output_type": "stream",
       "stream": "stdout",
       "text": [
        "dt: 0.125\n",
        "dt: 0.125\n",
        "dt: 0.125\n",
        "dt: 0.125"
       ]
      },
      {
       "output_type": "stream",
       "stream": "stdout",
       "text": [
        "\n",
        "dt: 0.125"
       ]
      },
      {
       "output_type": "stream",
       "stream": "stdout",
       "text": [
        "\n",
        "dt: 0.125\n",
        "dt: 0.125"
       ]
      },
      {
       "output_type": "stream",
       "stream": "stdout",
       "text": [
        "\n",
        "dt: 0.125\n",
        "dt: 0.125"
       ]
      },
      {
       "output_type": "stream",
       "stream": "stdout",
       "text": [
        "\n",
        "dt: 0.125\n",
        "dt: 0.125"
       ]
      },
      {
       "output_type": "stream",
       "stream": "stdout",
       "text": [
        "\n",
        "dt: 0.125\n",
        "dt: 0.125\n",
        "dt: 0.125"
       ]
      },
      {
       "output_type": "stream",
       "stream": "stdout",
       "text": [
        "\n",
        "dt: 0.125"
       ]
      },
      {
       "output_type": "stream",
       "stream": "stdout",
       "text": [
        "\n",
        "dt: 0.125\n",
        "dt: 0.125\n",
        "dt: 0.125"
       ]
      },
      {
       "output_type": "stream",
       "stream": "stdout",
       "text": [
        "\n",
        "dt: 0.125"
       ]
      },
      {
       "output_type": "stream",
       "stream": "stdout",
       "text": [
        "\n",
        "dt: 0.125\n",
        "dt: 0.125\n",
        "dt: 0.125\n",
        "dt: 0.125"
       ]
      },
      {
       "output_type": "stream",
       "stream": "stdout",
       "text": [
        "\n",
        "dt: 0.125"
       ]
      },
      {
       "output_type": "stream",
       "stream": "stdout",
       "text": [
        "\n",
        "dt: 0.125\n",
        "dt: 0.125"
       ]
      },
      {
       "output_type": "stream",
       "stream": "stdout",
       "text": [
        "\n",
        "dt: 0.125"
       ]
      },
      {
       "output_type": "stream",
       "stream": "stdout",
       "text": [
        "\n",
        "dt: 0.125"
       ]
      },
      {
       "output_type": "stream",
       "stream": "stdout",
       "text": [
        "\n",
        "dt: 0.125"
       ]
      },
      {
       "output_type": "stream",
       "stream": "stdout",
       "text": [
        "\n",
        "dt: 0.125"
       ]
      },
      {
       "output_type": "stream",
       "stream": "stdout",
       "text": [
        "\n",
        "dt: 0.125"
       ]
      },
      {
       "output_type": "stream",
       "stream": "stdout",
       "text": [
        "\n",
        "dt: 0.125\n",
        "dt: 0.125"
       ]
      },
      {
       "output_type": "stream",
       "stream": "stdout",
       "text": [
        "\n",
        "dt: 0.125"
       ]
      },
      {
       "output_type": "stream",
       "stream": "stdout",
       "text": [
        "\n",
        "dt: 0.125"
       ]
      },
      {
       "output_type": "stream",
       "stream": "stdout",
       "text": [
        "\n",
        "dt: 0.125"
       ]
      },
      {
       "output_type": "stream",
       "stream": "stdout",
       "text": [
        "\n",
        "dt: 0.125"
       ]
      },
      {
       "output_type": "stream",
       "stream": "stdout",
       "text": [
        "\n",
        "dt: 0.125"
       ]
      },
      {
       "output_type": "stream",
       "stream": "stdout",
       "text": [
        "\n",
        "dt: 0.125"
       ]
      },
      {
       "output_type": "stream",
       "stream": "stdout",
       "text": [
        "\n",
        "dt: 0.125"
       ]
      },
      {
       "output_type": "stream",
       "stream": "stdout",
       "text": [
        "\n",
        "dt: 0.125"
       ]
      },
      {
       "output_type": "stream",
       "stream": "stdout",
       "text": [
        "\n",
        "dt: 0.125"
       ]
      },
      {
       "output_type": "stream",
       "stream": "stdout",
       "text": [
        "\n",
        "dt: 0.125\n",
        "dt: 0.125"
       ]
      },
      {
       "output_type": "stream",
       "stream": "stdout",
       "text": [
        "\n",
        "dt: 0.125"
       ]
      },
      {
       "output_type": "stream",
       "stream": "stdout",
       "text": [
        "\n",
        "dt: 0.125\n",
        "dt: 0.125"
       ]
      },
      {
       "output_type": "stream",
       "stream": "stdout",
       "text": [
        "\n",
        "dt: 0.125"
       ]
      },
      {
       "output_type": "stream",
       "stream": "stdout",
       "text": [
        "\n",
        "dt: 0.125\n",
        "dt: 0.125"
       ]
      },
      {
       "output_type": "stream",
       "stream": "stdout",
       "text": [
        "\n",
        "dt: 0.125"
       ]
      },
      {
       "output_type": "stream",
       "stream": "stdout",
       "text": [
        "\n",
        "dt: 0.125\n",
        "dt: 0.125\n",
        "dt: 0.125\n",
        "dt: 0.125"
       ]
      },
      {
       "output_type": "stream",
       "stream": "stdout",
       "text": [
        "\n",
        "dt: 0.125\n",
        "dt: 0.125\n",
        "dt: 0.125\n",
        "dt: 0.125"
       ]
      },
      {
       "output_type": "stream",
       "stream": "stdout",
       "text": [
        "\n",
        "dt: 0.125\n",
        "dt: 0.125"
       ]
      },
      {
       "output_type": "stream",
       "stream": "stdout",
       "text": [
        "\n",
        "dt: 0.125\n",
        "dt: 0.125"
       ]
      },
      {
       "output_type": "stream",
       "stream": "stdout",
       "text": [
        "\n",
        "dt: 0.125\n",
        "dt: 0.125"
       ]
      },
      {
       "output_type": "stream",
       "stream": "stdout",
       "text": [
        "\n",
        "dt: 0.125\n",
        "dt: 0.125"
       ]
      },
      {
       "output_type": "stream",
       "stream": "stdout",
       "text": [
        "\n",
        "dt: 0.125\n",
        "dt: 0.125\n",
        "dt: 0.125"
       ]
      },
      {
       "output_type": "stream",
       "stream": "stdout",
       "text": [
        "\n",
        "dt: 0.125\n",
        "dt: 0.125"
       ]
      },
      {
       "output_type": "stream",
       "stream": "stdout",
       "text": [
        "\n",
        "dt: 0.125\n",
        "dt: 0.125"
       ]
      },
      {
       "output_type": "stream",
       "stream": "stdout",
       "text": [
        "\n",
        "dt: 0.125"
       ]
      },
      {
       "output_type": "stream",
       "stream": "stdout",
       "text": [
        "\n",
        "dt: 0.125\n",
        "dt: 0.125"
       ]
      },
      {
       "output_type": "stream",
       "stream": "stdout",
       "text": [
        "\n",
        "dt: 0.125\n",
        "dt: 0.125\n",
        "dt: 0.125"
       ]
      },
      {
       "output_type": "stream",
       "stream": "stdout",
       "text": [
        "\n",
        "dt: 0.125"
       ]
      },
      {
       "output_type": "stream",
       "stream": "stdout",
       "text": [
        "\n",
        "dt: 0.125\n",
        "dt: 0.125"
       ]
      },
      {
       "output_type": "stream",
       "stream": "stdout",
       "text": [
        "\n",
        "dt: 0.125\n",
        "dt: 0.125\n",
        "dt: 0.125"
       ]
      },
      {
       "output_type": "stream",
       "stream": "stdout",
       "text": [
        "\n",
        "dt: 0.125"
       ]
      },
      {
       "output_type": "stream",
       "stream": "stdout",
       "text": [
        "\n",
        "dt: 0.125\n",
        "dt: 0.125"
       ]
      },
      {
       "output_type": "stream",
       "stream": "stdout",
       "text": [
        "\n",
        "dt: 0.125\n",
        "dt: 0.125"
       ]
      },
      {
       "output_type": "stream",
       "stream": "stdout",
       "text": [
        "\n",
        "dt: 0.125\n",
        "dt: 0.125\n",
        "dt: 0.125"
       ]
      },
      {
       "output_type": "stream",
       "stream": "stdout",
       "text": [
        "\n",
        "dt: 0.125\n",
        "dt: 0.125\n",
        "dt: 0.125\n",
        "dt: 0.125"
       ]
      },
      {
       "output_type": "stream",
       "stream": "stdout",
       "text": [
        "\n",
        "dt: 0.125"
       ]
      },
      {
       "output_type": "stream",
       "stream": "stdout",
       "text": [
        "\n",
        "dt: 0.125\n",
        "dt: 0.125\n",
        "dt: 0.125"
       ]
      },
      {
       "output_type": "stream",
       "stream": "stdout",
       "text": [
        "\n",
        "dt: 0.125"
       ]
      },
      {
       "output_type": "stream",
       "stream": "stdout",
       "text": [
        "\n",
        "dt: 0.125\n",
        "dt: 0.125\n",
        "dt: 0.125"
       ]
      },
      {
       "output_type": "stream",
       "stream": "stdout",
       "text": [
        "\n",
        "dt: 0.125"
       ]
      },
      {
       "output_type": "stream",
       "stream": "stdout",
       "text": [
        "\n",
        "dt: 0.125\n",
        "dt: 0.125\n",
        "dt: 0.125\n",
        "dt: 0.125\n",
        "dt: 0.125"
       ]
      },
      {
       "output_type": "stream",
       "stream": "stdout",
       "text": [
        "\n",
        "dt: 0.125\n",
        "dt: 0.125\n",
        "dt: 0.125\n",
        "dt: 0.125\n",
        "dt: 0.125"
       ]
      },
      {
       "output_type": "stream",
       "stream": "stdout",
       "text": [
        "\n",
        "dt: 0.125\n",
        "dt: 0.125\n",
        "dt: 0.125\n",
        "dt: 0.125\n",
        "dt: 0.125"
       ]
      },
      {
       "output_type": "stream",
       "stream": "stdout",
       "text": [
        "\n",
        "dt: 0.125"
       ]
      },
      {
       "output_type": "stream",
       "stream": "stdout",
       "text": [
        "\n",
        "dt: 0.125\n",
        "dt: 0.125\n",
        "dt: 0.125"
       ]
      },
      {
       "output_type": "stream",
       "stream": "stdout",
       "text": [
        "\n",
        "dt: 0.125"
       ]
      },
      {
       "output_type": "stream",
       "stream": "stdout",
       "text": [
        "\n",
        "dt: 0.125\n",
        "dt: 0.125\n",
        "dt: 0.125"
       ]
      },
      {
       "output_type": "stream",
       "stream": "stdout",
       "text": [
        "\n",
        "dt: 0.125\n",
        "dt: 0.125\n",
        "dt: 0.125"
       ]
      },
      {
       "output_type": "stream",
       "stream": "stdout",
       "text": [
        "\n",
        "dt: 0.125\n",
        "dt: 0.125\n",
        "dt: 0.125\n",
        "dt: 0.125\n",
        "dt: 0.125\n",
        "dt: 0.125"
       ]
      },
      {
       "output_type": "stream",
       "stream": "stdout",
       "text": [
        "\n",
        "dt: 0.125\n",
        "dt: 0.125\n",
        "dt: 0.125\n",
        "dt: 0.125"
       ]
      },
      {
       "output_type": "stream",
       "stream": "stdout",
       "text": [
        "\n",
        "dt: 0.125\n",
        "dt: 0.125"
       ]
      },
      {
       "output_type": "stream",
       "stream": "stdout",
       "text": [
        "\n",
        "dt: 0.125\n",
        "dt: 0.125\n",
        "dt: 0.125"
       ]
      },
      {
       "output_type": "stream",
       "stream": "stdout",
       "text": [
        "\n",
        "dt: 0.125\n",
        "dt: 0.125\n",
        "dt: 0.125\n",
        "dt: 0.125\n",
        "dt: 0.125\n",
        "dt: 0.125\n",
        "dt: 0.125\n",
        "dt: 0.125"
       ]
      },
      {
       "output_type": "stream",
       "stream": "stdout",
       "text": [
        "\n",
        "dt: 0.125"
       ]
      },
      {
       "output_type": "stream",
       "stream": "stdout",
       "text": [
        "\n",
        "dt: 0.125\n",
        "dt: 0.125"
       ]
      },
      {
       "output_type": "stream",
       "stream": "stdout",
       "text": [
        "\n",
        "dt: 0.125\n",
        "dt: 0.125\n",
        "dt: 0.125\n",
        "dt: 0.125\n",
        "dt: 0.125\n",
        "dt: 0.125"
       ]
      },
      {
       "output_type": "stream",
       "stream": "stdout",
       "text": [
        "\n",
        "dt: 0.125"
       ]
      },
      {
       "output_type": "stream",
       "stream": "stdout",
       "text": [
        "\n",
        "dt: 0.125\n",
        "dt: 0.125\n",
        "dt: 0.125\n",
        "dt: 0.125\n",
        "dt: 0.125"
       ]
      },
      {
       "output_type": "stream",
       "stream": "stdout",
       "text": [
        "\n",
        "dt: 0.125\n",
        "dt: 0.125\n",
        "dt: 0.125\n",
        "dt: 0.125"
       ]
      },
      {
       "output_type": "stream",
       "stream": "stdout",
       "text": [
        "\n",
        "dt: 0.125"
       ]
      },
      {
       "output_type": "stream",
       "stream": "stdout",
       "text": [
        "\n",
        "dt: 0.125\n",
        "dt: 0.125\n",
        "dt: 0.125\n",
        "dt: 0.125\n",
        "dt: 0.125\n",
        "dt: 0.125"
       ]
      },
      {
       "output_type": "stream",
       "stream": "stdout",
       "text": [
        "\n",
        "dt: 0.125\n",
        "dt: 0.125\n",
        "dt: 0.125\n",
        "dt: 0.125"
       ]
      },
      {
       "output_type": "stream",
       "stream": "stdout",
       "text": [
        "\n",
        "dt: 0.125\n",
        "dt: 0.125\n",
        "dt: 0.125\n",
        "dt: 0.125\n",
        "dt: 0.125"
       ]
      },
      {
       "output_type": "stream",
       "stream": "stdout",
       "text": [
        "\n",
        "dt: 0.125\n",
        "dt: 0.125\n",
        "dt: 0.125\n",
        "dt: 0.125\n",
        "dt: 0.125"
       ]
      },
      {
       "output_type": "stream",
       "stream": "stdout",
       "text": [
        "\n",
        "dt: 0.125\n",
        "dt: 0.125\n",
        "dt: 0.125\n",
        "dt: 0.125\n",
        "dt: 0.125\n",
        "dt: 0.125"
       ]
      },
      {
       "output_type": "stream",
       "stream": "stdout",
       "text": [
        "\n",
        "dt: 0.125\n",
        "dt: 0.125\n",
        "dt: 0.125\n",
        "dt: 0.125"
       ]
      },
      {
       "output_type": "stream",
       "stream": "stdout",
       "text": [
        "\n",
        "dt: 0.125\n",
        "dt: 0.125\n",
        "dt: 0.125\n",
        "dt: 0.125"
       ]
      },
      {
       "output_type": "stream",
       "stream": "stdout",
       "text": [
        "\n",
        "dt: 0.125"
       ]
      },
      {
       "output_type": "stream",
       "stream": "stdout",
       "text": [
        "\n",
        "dt: 0.125\n",
        "dt: 0.125\n",
        "dt: 0.125\n",
        "dt: 0.125\n",
        "dt: 0.125"
       ]
      },
      {
       "output_type": "stream",
       "stream": "stdout",
       "text": [
        "\n",
        "dt: 0.125\n",
        "dt: 0.125\n",
        "dt: 0.125"
       ]
      },
      {
       "output_type": "stream",
       "stream": "stdout",
       "text": [
        "\n",
        "dt: 0.125\n",
        "dt: 0.125\n",
        "dt: 0.125"
       ]
      },
      {
       "output_type": "stream",
       "stream": "stdout",
       "text": [
        "\n",
        "dt: 0.125\n",
        "dt: 0.125\n",
        "dt: 0.125\n",
        "dt: 0.125\n",
        "dt: 0.125"
       ]
      },
      {
       "output_type": "stream",
       "stream": "stdout",
       "text": [
        "\n",
        "dt: 0.125\n",
        "dt: 0.125\n",
        "dt: 0.125\n",
        "dt: 0.125\n",
        "dt: 0.125\n",
        "dt: 0.125\n",
        "dt: 0.125\n",
        "dt: 0.125"
       ]
      },
      {
       "output_type": "stream",
       "stream": "stdout",
       "text": [
        "\n",
        "dt: 0.125\n",
        "dt: 0.125\n",
        "dt: 0.125"
       ]
      },
      {
       "output_type": "stream",
       "stream": "stdout",
       "text": [
        "\n",
        "dt: 0.125\n",
        "dt: 0.125\n",
        "dt: 0.125\n",
        "dt: 0.125\n",
        "dt: 0.125\n",
        "dt: 0.125"
       ]
      },
      {
       "output_type": "stream",
       "stream": "stdout",
       "text": [
        "\n",
        "dt: 0.125\n",
        "dt: 0.125\n",
        "dt: 0.125"
       ]
      },
      {
       "output_type": "stream",
       "stream": "stdout",
       "text": [
        "\n",
        "dt: 0.125"
       ]
      },
      {
       "output_type": "stream",
       "stream": "stdout",
       "text": [
        "\n",
        "dt: 0.125\n",
        "dt: 0.125"
       ]
      },
      {
       "output_type": "stream",
       "stream": "stdout",
       "text": [
        "\n",
        "dt: 0.125\n",
        "dt: 0.125\n",
        "dt: 0.125\n",
        "dt: 0.125"
       ]
      },
      {
       "output_type": "stream",
       "stream": "stdout",
       "text": [
        "\n",
        "dt: 0.125\n",
        "dt: 0.125\n",
        "dt: 0.125"
       ]
      },
      {
       "output_type": "stream",
       "stream": "stdout",
       "text": [
        "\n",
        "dt: 0.125\n",
        "dt: 0.125"
       ]
      },
      {
       "output_type": "stream",
       "stream": "stdout",
       "text": [
        "\n",
        "dt: 0.125\n",
        "dt: 0.125"
       ]
      },
      {
       "output_type": "stream",
       "stream": "stdout",
       "text": [
        "\n",
        "dt: 0.125\n",
        "dt: 0.125\n",
        "dt: 0.125\n",
        "dt: 0.125\n",
        "dt: 0.125\n",
        "dt: 0.125"
       ]
      },
      {
       "output_type": "stream",
       "stream": "stdout",
       "text": [
        "\n",
        "dt: 0.125\n",
        "dt: 0.125\n",
        "dt: 0.125"
       ]
      },
      {
       "output_type": "stream",
       "stream": "stdout",
       "text": [
        "\n",
        "dt: 0.125\n",
        "dt: 0.125\n",
        "dt: 0.125"
       ]
      },
      {
       "output_type": "stream",
       "stream": "stdout",
       "text": [
        "\n",
        "dt: 0.125\n",
        "dt: 0.125\n",
        "dt: 0.125\n",
        "dt: 0.125\n",
        "dt: 0.125\n",
        "dt: 0.125\n",
        "dt: 0.125"
       ]
      },
      {
       "output_type": "stream",
       "stream": "stdout",
       "text": [
        "\n",
        "dt: 0.125"
       ]
      },
      {
       "output_type": "stream",
       "stream": "stdout",
       "text": [
        "\n",
        "dt: 0.125"
       ]
      },
      {
       "output_type": "stream",
       "stream": "stdout",
       "text": [
        "\n",
        "dt: 0.125"
       ]
      },
      {
       "output_type": "stream",
       "stream": "stdout",
       "text": [
        "\n",
        "dt: 0.125"
       ]
      },
      {
       "output_type": "stream",
       "stream": "stdout",
       "text": [
        "\n",
        "dt: 0.125"
       ]
      },
      {
       "output_type": "stream",
       "stream": "stdout",
       "text": [
        "\n",
        "dt: 0.125"
       ]
      },
      {
       "output_type": "stream",
       "stream": "stdout",
       "text": [
        "\n",
        "dt: 0.125\n",
        "dt: 0.125\n",
        "dt: 0.125"
       ]
      },
      {
       "output_type": "stream",
       "stream": "stdout",
       "text": [
        "\n",
        "dt: 0.125\n",
        "dt: 0.125"
       ]
      },
      {
       "output_type": "stream",
       "stream": "stdout",
       "text": [
        "\n",
        "dt: 0.125\n",
        "dt: 0.125"
       ]
      },
      {
       "output_type": "stream",
       "stream": "stdout",
       "text": [
        "\n",
        "dt: 0.125\n",
        "dt: 0.125"
       ]
      },
      {
       "output_type": "stream",
       "stream": "stdout",
       "text": [
        "\n",
        "dt: 0.125"
       ]
      },
      {
       "output_type": "stream",
       "stream": "stdout",
       "text": [
        "\n",
        "dt: 0.125\n",
        "dt: 0.125"
       ]
      },
      {
       "output_type": "stream",
       "stream": "stdout",
       "text": [
        "\n",
        "dt: 0.125\n",
        "dt: 0.125\n",
        "dt: 0.125\n",
        "dt: 0.125"
       ]
      },
      {
       "output_type": "stream",
       "stream": "stdout",
       "text": [
        "\n",
        "dt: 0.125\n",
        "dt: 0.125\n",
        "dt: 0.125\n",
        "dt: 0.125"
       ]
      },
      {
       "output_type": "stream",
       "stream": "stdout",
       "text": [
        "\n",
        "dt: 0.125"
       ]
      },
      {
       "output_type": "stream",
       "stream": "stdout",
       "text": [
        "\n",
        "dt: 0.125"
       ]
      },
      {
       "output_type": "stream",
       "stream": "stdout",
       "text": [
        "\n",
        "dt: 0.125\n",
        "dt: 0.125\n",
        "dt: 0.125"
       ]
      },
      {
       "output_type": "stream",
       "stream": "stdout",
       "text": [
        "\n",
        "dt: 0.125"
       ]
      },
      {
       "output_type": "stream",
       "stream": "stdout",
       "text": [
        "\n",
        "dt: 0.125\n",
        "dt: 0.125\n",
        "dt: 0.125"
       ]
      },
      {
       "output_type": "stream",
       "stream": "stdout",
       "text": [
        "\n",
        "dt: 0.125\n",
        "dt: 0.125\n",
        "dt: 0.125"
       ]
      },
      {
       "output_type": "stream",
       "stream": "stdout",
       "text": [
        "\n",
        "dt: 0.125\n",
        "dt: 0.125"
       ]
      },
      {
       "output_type": "stream",
       "stream": "stdout",
       "text": [
        "\n",
        "dt: 0.125\n",
        "dt: 0.125\n",
        "dt: 0.125\n",
        "dt: 0.125\n",
        "dt: 0.125"
       ]
      },
      {
       "output_type": "stream",
       "stream": "stdout",
       "text": [
        "\n",
        "dt: 0.125\n",
        "dt: 0.125\n",
        "dt: 0.125"
       ]
      },
      {
       "output_type": "stream",
       "stream": "stdout",
       "text": [
        "\n",
        "dt: 0.125"
       ]
      },
      {
       "output_type": "stream",
       "stream": "stdout",
       "text": [
        "\n",
        "dt: 0.125\n",
        "dt: 0.125\n",
        "dt: 0.125\n",
        "dt: 0.125"
       ]
      },
      {
       "output_type": "stream",
       "stream": "stdout",
       "text": [
        "\n",
        "dt: 0.125\n",
        "dt: 0.125\n",
        "dt: 0.125\n",
        "dt: 0.125"
       ]
      },
      {
       "output_type": "stream",
       "stream": "stdout",
       "text": [
        "\n",
        "dt: 0.125\n",
        "dt: 0.125\n",
        "dt: 0.125"
       ]
      },
      {
       "output_type": "stream",
       "stream": "stdout",
       "text": [
        "\n",
        "dt: 0.125"
       ]
      },
      {
       "output_type": "stream",
       "stream": "stdout",
       "text": [
        "\n",
        "dt: 0.125"
       ]
      },
      {
       "output_type": "stream",
       "stream": "stdout",
       "text": [
        "\n",
        "dt: 0.125\n",
        "dt: 0.125"
       ]
      },
      {
       "output_type": "stream",
       "stream": "stdout",
       "text": [
        "\n",
        "dt: 0.125"
       ]
      },
      {
       "output_type": "stream",
       "stream": "stdout",
       "text": [
        "\n",
        "dt: 0.125"
       ]
      },
      {
       "output_type": "stream",
       "stream": "stdout",
       "text": [
        "\n",
        "dt: 0.125"
       ]
      },
      {
       "output_type": "stream",
       "stream": "stdout",
       "text": [
        "\n",
        "dt: 0.125\n",
        "dt: 0.125\n",
        "dt: 0.125"
       ]
      },
      {
       "output_type": "stream",
       "stream": "stdout",
       "text": [
        "\n",
        "dt: 0.125"
       ]
      },
      {
       "output_type": "stream",
       "stream": "stdout",
       "text": [
        "\n",
        "dt: 0.125"
       ]
      },
      {
       "output_type": "stream",
       "stream": "stdout",
       "text": [
        "\n",
        "dt: 0.125\n",
        "dt: 0.125\n",
        "dt: 0.125"
       ]
      },
      {
       "output_type": "stream",
       "stream": "stdout",
       "text": [
        "\n",
        "dt: 0.125\n",
        "dt: 0.125\n",
        "dt: 0.125\n",
        "dt: 0.125"
       ]
      },
      {
       "output_type": "stream",
       "stream": "stdout",
       "text": [
        "\n",
        "dt: 0.125\n",
        "dt: 0.125\n",
        "dt: 0.125"
       ]
      },
      {
       "output_type": "stream",
       "stream": "stdout",
       "text": [
        "\n",
        "dt: 0.125\n",
        "dt: 0.125\n",
        "dt: 0.125\n",
        "dt: 0.125\n",
        "dt: 0.125\n",
        "dt: 0.125\n",
        "dt: 0.125\n",
        "dt: 0.125"
       ]
      },
      {
       "output_type": "stream",
       "stream": "stdout",
       "text": [
        "\n",
        "dt: 0.125\n",
        "dt: 0.125\n",
        "dt: 0.125\n",
        "dt: 0.125\n",
        "dt: 0.125\n",
        "dt: 0.125"
       ]
      },
      {
       "output_type": "stream",
       "stream": "stdout",
       "text": [
        "\n",
        "dt: 0.125\n",
        "dt: 0.125\n",
        "dt: 0.125\n",
        "dt: 0.125\n",
        "dt: 0.125"
       ]
      },
      {
       "output_type": "stream",
       "stream": "stdout",
       "text": [
        "\n",
        "dt: 0.125\n",
        "dt: 0.125"
       ]
      },
      {
       "output_type": "stream",
       "stream": "stdout",
       "text": [
        "\n",
        "dt: 0.125\n",
        "dt: 0.125"
       ]
      },
      {
       "output_type": "stream",
       "stream": "stdout",
       "text": [
        "\n",
        "dt: 0.125"
       ]
      },
      {
       "output_type": "stream",
       "stream": "stdout",
       "text": [
        "\n",
        "dt: 0.125\n",
        "dt: 0.125\n",
        "dt: 0.125"
       ]
      },
      {
       "output_type": "stream",
       "stream": "stdout",
       "text": [
        "\n",
        "dt: 0.125\n",
        "dt: 0.125\n",
        "dt: 0.125\n",
        "dt: 0.125\n",
        "dt: 0.125"
       ]
      },
      {
       "output_type": "stream",
       "stream": "stdout",
       "text": [
        "\n",
        "dt: 0.125\n",
        "dt: 0.125\n",
        "dt: 0.125\n",
        "dt: 0.125"
       ]
      },
      {
       "output_type": "stream",
       "stream": "stdout",
       "text": [
        "\n",
        "dt: 0.125"
       ]
      },
      {
       "output_type": "stream",
       "stream": "stdout",
       "text": [
        "\n",
        "dt: 0.125"
       ]
      },
      {
       "output_type": "stream",
       "stream": "stdout",
       "text": [
        "\n",
        "dt: 0.125\n",
        "dt: 0.125\n",
        "dt: 0.125\n",
        "dt: 0.125"
       ]
      },
      {
       "output_type": "stream",
       "stream": "stdout",
       "text": [
        "\n",
        "dt: 0.125"
       ]
      },
      {
       "output_type": "stream",
       "stream": "stdout",
       "text": [
        "\n",
        "dt: 0.125\n",
        "dt: 0.125\n",
        "dt: 0.125"
       ]
      },
      {
       "output_type": "stream",
       "stream": "stdout",
       "text": [
        "\n",
        "dt: 0.125\n",
        "dt: 0.125\n",
        "dt: 0.125\n",
        "dt: 0.125\n",
        "dt: 0.125"
       ]
      },
      {
       "output_type": "stream",
       "stream": "stdout",
       "text": [
        "\n",
        "dt: 0.125\n",
        "dt: 0.125\n",
        "dt: 0.125\n",
        "dt: 0.125"
       ]
      },
      {
       "output_type": "stream",
       "stream": "stdout",
       "text": [
        "\n",
        "dt: 0.125\n",
        "dt: 0.125\n",
        "dt: 0.125\n",
        "dt: 0.125"
       ]
      },
      {
       "output_type": "stream",
       "stream": "stdout",
       "text": [
        "\n",
        "dt: 0.125\n",
        "dt: 0.125"
       ]
      },
      {
       "output_type": "stream",
       "stream": "stdout",
       "text": [
        "\n",
        "dt: 0.125\n",
        "dt: 0.125\n",
        "dt: 0.125\n"
       ]
      }
     ],
     "prompt_number": 104
    },
    {
     "cell_type": "code",
     "collapsed": false,
     "input": [
      "len(d_all)\n"
     ],
     "language": "python",
     "metadata": {},
     "outputs": [
      {
       "metadata": {},
       "output_type": "pyout",
       "prompt_number": 99,
       "text": [
        "426"
       ]
      }
     ],
     "prompt_number": 99
    },
    {
     "cell_type": "code",
     "collapsed": false,
     "input": [
      "## random small function to plot all light curves in a segment\n",
      "def plot_all(d_all):\n",
      "    np.random.shuffle(d_all)\n",
      "    for d in d_all[:5]:\n",
      "        #print(d[0][1,0]-d[0][0,0])\n",
      "        dt_data = d[0][1:,0]-d[0][:-1,0]\n",
      "        #print(\"dt: \" + str(np.min(dt_data)))\n",
      "        plt.figure()\n",
      "        plt.plot(d[0][:,0], d[0][:,1])\n",
      "        plt.plot(d[0][:,0], d[0][:,2])\n",
      "        plt.plot(d[0][:,0], d[0][:,3])\n",
      "        plt.plot(d[0][:,0], d[0][:,4])\n",
      "    return\n",
      "\n",
      "plot_all(d_all)"
     ],
     "language": "python",
     "metadata": {},
     "outputs": [
      {
       "metadata": {},
       "output_type": "display_data",
       "png": "[encoded data removed]",
       "text": [
        "<matplotlib.figure.Figure at 0x1298fd090>"
       ]
      },
      {
       "metadata": {},
       "output_type": "display_data",
       "png": "[encoded data removed]",
       "text": [
        "<matplotlib.figure.Figure at 0x11542e510>"
       ]
      },
      {
       "metadata": {},
       "output_type": "display_data",
       "png": "[encoded data removed]",
       "text": [
        "<matplotlib.figure.Figure at 0x129d539d0>"
       ]
      },
      {
       "metadata": {},
       "output_type": "display_data",
       "png": "[encoded data removed]",
       "text": [
        "<matplotlib.figure.Figure at 0x10bbb84d0>"
       ]
      },
      {
       "metadata": {},
       "output_type": "display_data",
       "png": "[encoded data removed]",
       "text": [
        "<matplotlib.figure.Figure at 0x146bd20d0>"
       ]
      }
     ],
     "prompt_number": 105
    },
    {
     "cell_type": "markdown",
     "metadata": {},
     "source": [
      "Lastly, we want to remove any data that throws NaNs in the hardness ratios, i.e. bad times that were not removed properly."
     ]
    },
    {
     "cell_type": "code",
     "collapsed": false,
     "input": [
      "import cPickle as pickle\n",
      "\n",
      "def remove_zeros(d):\n",
      "    data = d[0]\n",
      "    labels = d[1]\n",
      "\n",
      "    max_all = []\n",
      "    for m in [np.where(d[0][:,1] <= 0.0)[0], np.where(d[0][:,2] <= 0.0)[0],  np.where(d[0][:,3] <= 0.0)[0]]:\n",
      "        if len(m) > 0:\n",
      "            max_all.extend(m)\n",
      "    print(max_all)\n",
      "    if len(max_all) == 0:\n",
      "        return[data, labels]\n",
      "    else:\n",
      "        max_zero = np.max(max_all)\n",
      "        #print('max_zero: ' + str(max_zero))\n",
      "        data = data[max_zero:]\n",
      "        return [data, labels]\n",
      "\n",
      "d_all_new = []\n",
      "for i,d in enumerate(d_all):\n",
      "    zero_counts = np.where(d[0][:,1] <= 0.0)[0]\n",
      "    zero_hr1 =  np.where(d[0][:,2] <= 0.0)[0]\n",
      "    zero_hr2 =  np.where(d[0][:,3] <= 0.0)[0]\n",
      "    #print(zero_counts)\n",
      "    #print(zero_hr1)\n",
      "    #print(zero_hr2)\n",
      "    if len(zero_counts) > 0 or len(zero_hr1) > 0 or len(zero_hr2) > 0:\n",
      "        print(\"Found some zeros in light curve %i. Removing ...\"%i)\n",
      "        d_new = remove_zeros(d)\n",
      "        d_all_new.append(d_new)\n",
      "\n",
      "    else:\n",
      "        d_all_new.append(d)\n",
      "\n",
      "f = open(datadir+\"grs1915_clean_label_125ms.dat\", \"w\")\n",
      "pickle.dump(d_all_new, f)\n",
      "f.close()"
     ],
     "language": "python",
     "metadata": {},
     "outputs": [
      {
       "output_type": "stream",
       "stream": "stdout",
       "text": [
        "Found some zeros in light curve 97. Removing ...\n",
        "[55, 179, 269, 306, 3, 8, 16, 17, 19, 22, 38, 55, 56, 64, 79, 82, 93, 106, 107, 109, 123, 135, 138, 142, 143, 162, 173, 179, 182, 185, 187, 193, 218, 220, 238, 241, 246, 256, 260, 269, 274, 277, 278, 299, 306, 330, 0, 3, 4, 29, 33, 37, 40, 43, 45, 47, 48, 51, 55, 60, 63, 73, 74, 82, 88, 91, 92, 96, 100, 105, 109, 110, 112, 118, 120, 122, 123, 130, 141, 144, 147, 160, 163, 166, 167, 171, 177, 179, 183, 185, 195, 196, 197, 199, 200, 214, 217, 218, 219, 221, 225, 226, 234, 243, 245, 250, 259, 262, 263, 267, 268, 269, 275, 276, 285, 288, 289, 293, 294, 296, 297, 300, 303, 304, 306, 307, 308, 311, 315, 317, 319, 320, 321, 323, 328, 335, 349, 361, 364, 386]\n"
       ]
      }
     ],
     "prompt_number": 121
    },
    {
     "cell_type": "markdown",
     "metadata": {},
     "source": [
      "## Using the Script\n",
      "\n",
      "I put most of the code above into a script for fast and easy access, from beginning to end.\n"
     ]
    },
    {
     "cell_type": "code",
     "collapsed": false,
     "input": [
      "import extract_data\n",
      "datadir=\"/Volumes/Lliarinh/data/grs1915/\"\n",
      "extract_data.extract_all_segments(clean=False, datadir=datadir, bin_data=True, bin_res=0.125)"
     ],
     "language": "python",
     "metadata": {},
     "outputs": [
      {
       "output_type": "stream",
       "stream": "stdout",
       "text": [
        "Found some zeros in light curve 33. Removing ...\n",
        "Found some zeros in light curve 430. Removing ...\n",
        "Found some zeros in light curve 661. Removing ...\n",
        "Found some zeros in light curve 722. Removing ...\n",
        "Found some zeros in light curve 724. Removing ...\n",
        "Found some zeros in light curve 1464. Removing ..."
       ]
      },
      {
       "output_type": "stream",
       "stream": "stdout",
       "text": [
        "\n",
        "Found some zeros in light curve 1517. Removing ...\n",
        "Found some zeros in light curve 1547. Removing ...\n",
        "Found some zeros in light curve 1548. Removing ...\n",
        "Found some zeros in light curve 1549. Removing ...\n",
        "Found some zeros in light curve 1687. Removing ...\n",
        "Found some zeros in light curve 1690. Removing ...\n",
        "Found some zeros in light curve 1691. Removing ...\n",
        "Found some zeros in light curve 1692. Removing ...\n",
        "Found some zeros in light curve 1902. Removing ...\n",
        "Found some zeros in light curve 1903. Removing ...\n",
        "Found some zeros in light curve 1906. Removing ...\n",
        "Found some zeros in light curve 1908. Removing ...\n",
        "Found some zeros in light curve 1913. Removing ...\n",
        "Found some zeros in light curve 1914. Removing ...\n",
        "Found some zeros in light curve 1915. Removing ...\n",
        "Found some zeros in light curve 1917. Removing ...\n",
        "Found some zeros in light curve 1931. Removing ...\n",
        "Found some zeros in light curve 1972. Removing ...\n",
        "Found some zeros in light curve 1973. Removing ...\n",
        "Found some zeros in light curve 1974. Removing ...\n",
        "Found some zeros in light curve 1975. Removing ...\n",
        "Found some zeros in light curve 1976. Removing ...\n",
        "Found some zeros in light curve 1977. Removing ...\n",
        "Found some zeros in light curve 1978. Removing ...\n",
        "Found some zeros in light curve 1979. Removing ...\n",
        "Found some zeros in light curve 1980. Removing ...\n",
        "Found some zeros in light curve 1981. Removing ...\n",
        "Found some zeros in light curve 1982. Removing ...\n",
        "Found some zeros in light curve 1983. Removing ...\n",
        "Found some zeros in light curve 1984. Removing ...\n",
        "Found some zeros in light curve 1985. Removing ...\n",
        "Found some zeros in light curve 1986. Removing ...\n",
        "Found some zeros in light curve 1987. Removing ...\n",
        "Found some zeros in light curve 1988. Removing ...\n",
        "Found some zeros in light curve 1989. Removing ...\n",
        "Found some zeros in light curve 1990. Removing ...\n",
        "Found some zeros in light curve 1992. Removing ...\n",
        "Found some zeros in light curve 1994. Removing ...\n",
        "Found some zeros in light curve 1995. Removing ...\n",
        "Found some zeros in light curve 1997. Removing ...\n",
        "Found some zeros in light curve 2001. Removing ...\n",
        "Found some zeros in light curve 2004. Removing ...\n",
        "Found some zeros in light curve 2005. Removing ...\n",
        "Found some zeros in light curve 2006. Removing ...\n",
        "Found some zeros in light curve 2007. Removing ...\n",
        "Found some zeros in light curve 2008. Removing ...\n",
        "Found some zeros in light curve 2009. Removing ...\n",
        "Found some zeros in light curve 2010. Removing ...\n",
        "Found some zeros in light curve 2011. Removing ...\n",
        "Found some zeros in light curve 2013. Removing ...\n",
        "Found some zeros in light curve 2115. Removing ..."
       ]
      },
      {
       "output_type": "stream",
       "stream": "stdout",
       "text": [
        "\n",
        "Found some zeros in light curve 2116. Removing ...\n",
        "Found some zeros in light curve 2117. Removing ...\n",
        "Found some zeros in light curve 2118. Removing ...\n",
        "Found some zeros in light curve 2119. Removing ...\n",
        "Found some zeros in light curve 2208. Removing ...\n",
        "Found some zeros in light curve 2262. Removing ...\n",
        "Found some zeros in light curve 2266. Removing ...\n",
        "Found some zeros in light curve 2267. Removing ...\n",
        "Found some zeros in light curve 2270. Removing ...\n",
        "Found some zeros in light curve 2364. Removing ...\n",
        "Found some zeros in light curve 2414. Removing ...\n",
        "Found some zeros in light curve 2415. Removing ...\n",
        "Found some zeros in light curve 2469. Removing ...\n",
        "Found some zeros in light curve 2518. Removing ...\n",
        "Found some zeros in light curve 2519. Removing ...\n",
        "Found some zeros in light curve 2521. Removing ...\n",
        "Found some zeros in light curve 2522. Removing ...\n",
        "Found some zeros in light curve 2523. Removing ...\n",
        "Found some zeros in light curve 2524. Removing ...\n",
        "Found some zeros in light curve 2525. Removing ...\n",
        "Found some zeros in light curve 2529. Removing ...\n",
        "Found some zeros in light curve 2542. Removing ...\n",
        "Found some zeros in light curve 2552. Removing ...\n",
        "Found some zeros in light curve 2554. Removing ...\n",
        "Found some zeros in light curve 2560. Removing ...\n",
        "Found some zeros in light curve 2561. Removing ...\n",
        "Found some zeros in light curve 2565. Removing ...\n",
        "Found some zeros in light curve 2568. Removing ...\n",
        "Found some zeros in light curve 2569. Removing ...\n",
        "Found some zeros in light curve 2574. Removing ...\n",
        "Found some zeros in light curve 2575. Removing ...\n",
        "Found some zeros in light curve 2577. Removing ...\n",
        "Found some zeros in light curve 2578. Removing ...\n",
        "Found some zeros in light curve 2579. Removing ...\n",
        "Found some zeros in light curve 2580. Removing ...\n",
        "Found some zeros in light curve 2583. Removing ...\n",
        "Found some zeros in light curve 2584. Removing ...\n",
        "Found some zeros in light curve 2585. Removing ...\n",
        "Found some zeros in light curve 2586. Removing ...\n",
        "Found some zeros in light curve 2587. Removing ...\n",
        "Found some zeros in light curve 2589. Removing ...\n",
        "Found some zeros in light curve 2590. Removing ...\n",
        "Found some zeros in light curve 2591. Removing ...\n",
        "Found some zeros in light curve 2592. Removing ...\n",
        "Found some zeros in light curve 2593. Removing ...\n",
        "Found some zeros in light curve 2615. Removing ...\n",
        "Found some zeros in light curve 2644. Removing ...\n",
        "Found some zeros in light curve 2682. Removing ...\n"
       ]
      }
     ],
     "prompt_number": 3
    },
    {
     "cell_type": "code",
     "collapsed": false,
     "input": [],
     "language": "python",
     "metadata": {},
     "outputs": [],
     "prompt_number": 3
    },
    {
     "cell_type": "markdown",
     "metadata": {},
     "source": [
      "# Total Observation Time and Total ASM Light Curve\n",
      "\n",
      "As an overview, let's compute the total time spent on GRS 1915+105 by RXTE over its 16 years of lifetime. Then let's plot this onto the ASM light curve."
     ]
    },
    {
     "cell_type": "code",
     "collapsed": false,
     "input": [
      "## load and plot ASM light curve\n",
      "asm = np.loadtxt(\"grs1915_asm_lc.txt\",skiprows=5)\n",
      "figure = plt.figure(figsize=(16,7))\n",
      "plt.plot(asm[:,0], asm[:,1])"
     ],
     "language": "python",
     "metadata": {},
     "outputs": [
      {
       "ename": "IOError",
       "evalue": "[Errno 2] No such file or directory: 'grs1915_asm_lc.txt'",
       "output_type": "pyerr",
       "traceback": [
        "\u001b[0;31m---------------------------------------------------------------------------\u001b[0m\n\u001b[0;31mIOError\u001b[0m                                   Traceback (most recent call last)",
        "\u001b[0;32m<ipython-input-27-509b48366be9>\u001b[0m in \u001b[0;36m<module>\u001b[0;34m()\u001b[0m\n\u001b[1;32m      1\u001b[0m \u001b[0;31m## load and plot ASM light curve\u001b[0m\u001b[0;34m\u001b[0m\u001b[0;34m\u001b[0m\u001b[0m\n\u001b[0;32m----> 2\u001b[0;31m \u001b[0masm\u001b[0m \u001b[0;34m=\u001b[0m \u001b[0mnp\u001b[0m\u001b[0;34m.\u001b[0m\u001b[0mloadtxt\u001b[0m\u001b[0;34m(\u001b[0m\u001b[0;34m\"grs1915_asm_lc.txt\"\u001b[0m\u001b[0;34m,\u001b[0m\u001b[0mskiprows\u001b[0m\u001b[0;34m=\u001b[0m\u001b[0;36m5\u001b[0m\u001b[0;34m)\u001b[0m\u001b[0;34m\u001b[0m\u001b[0m\n\u001b[0m\u001b[1;32m      3\u001b[0m \u001b[0mfigure\u001b[0m \u001b[0;34m=\u001b[0m \u001b[0mplt\u001b[0m\u001b[0;34m.\u001b[0m\u001b[0mfigure\u001b[0m\u001b[0;34m(\u001b[0m\u001b[0mfigsize\u001b[0m\u001b[0;34m=\u001b[0m\u001b[0;34m(\u001b[0m\u001b[0;36m16\u001b[0m\u001b[0;34m,\u001b[0m\u001b[0;36m7\u001b[0m\u001b[0;34m)\u001b[0m\u001b[0;34m)\u001b[0m\u001b[0;34m\u001b[0m\u001b[0m\n\u001b[1;32m      4\u001b[0m \u001b[0mplt\u001b[0m\u001b[0;34m.\u001b[0m\u001b[0mplot\u001b[0m\u001b[0;34m(\u001b[0m\u001b[0masm\u001b[0m\u001b[0;34m[\u001b[0m\u001b[0;34m:\u001b[0m\u001b[0;34m,\u001b[0m\u001b[0;36m0\u001b[0m\u001b[0;34m]\u001b[0m\u001b[0;34m,\u001b[0m \u001b[0masm\u001b[0m\u001b[0;34m[\u001b[0m\u001b[0;34m:\u001b[0m\u001b[0;34m,\u001b[0m\u001b[0;36m1\u001b[0m\u001b[0;34m]\u001b[0m\u001b[0;34m)\u001b[0m\u001b[0;34m\u001b[0m\u001b[0m\n",
        "\u001b[0;32m/usr/lib/python2.7/dist-packages/numpy/lib/npyio.pyc\u001b[0m in \u001b[0;36mloadtxt\u001b[0;34m(fname, dtype, comments, delimiter, converters, skiprows, usecols, unpack, ndmin)\u001b[0m\n\u001b[1;32m    732\u001b[0m                 \u001b[0mfh\u001b[0m \u001b[0;34m=\u001b[0m \u001b[0miter\u001b[0m\u001b[0;34m(\u001b[0m\u001b[0mbz2\u001b[0m\u001b[0;34m.\u001b[0m\u001b[0mBZ2File\u001b[0m\u001b[0;34m(\u001b[0m\u001b[0mfname\u001b[0m\u001b[0;34m)\u001b[0m\u001b[0;34m)\u001b[0m\u001b[0;34m\u001b[0m\u001b[0m\n\u001b[1;32m    733\u001b[0m             \u001b[0;32melif\u001b[0m \u001b[0msys\u001b[0m\u001b[0;34m.\u001b[0m\u001b[0mversion_info\u001b[0m\u001b[0;34m[\u001b[0m\u001b[0;36m0\u001b[0m\u001b[0;34m]\u001b[0m \u001b[0;34m==\u001b[0m \u001b[0;36m2\u001b[0m\u001b[0;34m:\u001b[0m\u001b[0;34m\u001b[0m\u001b[0m\n\u001b[0;32m--> 734\u001b[0;31m                 \u001b[0mfh\u001b[0m \u001b[0;34m=\u001b[0m \u001b[0miter\u001b[0m\u001b[0;34m(\u001b[0m\u001b[0mopen\u001b[0m\u001b[0;34m(\u001b[0m\u001b[0mfname\u001b[0m\u001b[0;34m,\u001b[0m \u001b[0;34m'U'\u001b[0m\u001b[0;34m)\u001b[0m\u001b[0;34m)\u001b[0m\u001b[0;34m\u001b[0m\u001b[0m\n\u001b[0m\u001b[1;32m    735\u001b[0m             \u001b[0;32melse\u001b[0m\u001b[0;34m:\u001b[0m\u001b[0;34m\u001b[0m\u001b[0m\n\u001b[1;32m    736\u001b[0m                 \u001b[0mfh\u001b[0m \u001b[0;34m=\u001b[0m \u001b[0miter\u001b[0m\u001b[0;34m(\u001b[0m\u001b[0mopen\u001b[0m\u001b[0;34m(\u001b[0m\u001b[0mfname\u001b[0m\u001b[0;34m)\u001b[0m\u001b[0;34m)\u001b[0m\u001b[0;34m\u001b[0m\u001b[0m\n",
        "\u001b[0;31mIOError\u001b[0m: [Errno 2] No such file or directory: 'grs1915_asm_lc.txt'"
       ]
      }
     ],
     "prompt_number": 27
    },
    {
     "cell_type": "code",
     "collapsed": false,
     "input": [],
     "language": "python",
     "metadata": {},
     "outputs": []
    },
    {
     "cell_type": "markdown",
     "metadata": {},
     "source": [
      "Because our observations actually start at 0 (that is, the start time was subtracted out, I've downloaded the RXTE Mission Long Data for GRS 1915+105. This comes as a fits file that contains such useful things as ObsIDs of all observations, average count rate and the start and end times of each observation. Note that this will ignore Good Time Intervals and data gaps, but I can live with that for a rough estimate. \n",
      "\n",
      "The only thing we have to do is match the observations in the Mission Long Data to the observations I actually have, which is a simple operation (see below.)\n",
      "The Mission Long Data file gives the start and stop time of each observation in Mission Elapsed Days (because why make things easy, RXTE?). So I will convert these to MJD."
     ]
    },
    {
     "cell_type": "code",
     "collapsed": false,
     "input": [
      "## make a list of all files and all ObsIDs that I have data for\n",
      "files = glob.glob(\"*combined.dat\")\n",
      "print(len(files))\n",
      "combined_obs = [f.split(\"_\")[1] for f in files]"
     ],
     "language": "python",
     "metadata": {},
     "outputs": [
      {
       "output_type": "stream",
       "stream": "stdout",
       "text": [
        "1706\n"
       ]
      }
     ],
     "prompt_number": 14
    },
    {
     "cell_type": "code",
     "collapsed": false,
     "input": [
      "## Load Mission Long Data file\n",
      "hdulist = fits.open(\"GRS1915+105.fits\")\n",
      "h = hdulist[1]\n",
      "d = h.data\n",
      "all_obs = d[\"OBSID\"]\n",
      "t_start = d[\"T_START_OBS\"]\n",
      "t_mid = d[\"TIME\"]\n",
      "t_end = d[\"T_STOP_OBS\"]\n",
      "exposure = d[\"EXPOSURE\"]"
     ],
     "language": "python",
     "metadata": {},
     "outputs": [],
     "prompt_number": 13
    },
    {
     "cell_type": "code",
     "collapsed": false,
     "input": [
      "## extract start times, end times and ObsIDs from MLD where I actually have observations\n",
      "mjdrefi = 49353. \n",
      "t_start_sample = np.array([s for s,o in zip(t_start, all_obs) if o in combined_obs]) + mjdrefi\n",
      "t_mid_sample = np.array([s for s,o in zip(t_mid, all_obs) if o in combined_obs]) + mjdrefi\n",
      "t_end_sample = np.array([s for s,o in zip(t_end, all_obs) if o in combined_obs]) + mjdrefi\n",
      "exp_sample =  np.array([s for s,o in zip(exposure, all_obs) if o in combined_obs])\n",
      "obs_sample = [o for o in all_obs if o in combined_obs]"
     ],
     "language": "python",
     "metadata": {},
     "outputs": [],
     "prompt_number": 15
    },
    {
     "cell_type": "markdown",
     "metadata": {},
     "source": [
      "Now we can compute the total time that RXTE has spent on source:"
     ]
    },
    {
     "cell_type": "code",
     "collapsed": false,
     "input": [
      "## exposure time by start/end times\n",
      "dt = (t_end_sample - t_start_sample)*3600.*24.\n",
      "## exposure times by keyword \"exposure\", possibly GTI corrected?\n",
      "dt2 = np.sum(exp_sample)\n",
      "total_time = np.sum(dt)\n",
      "total_days = total_time/(3600.*24.)\n",
      "print(\"RXTE observed GRS1915+105 for %.3f seconds, or %.3f days!\"%(total_time, total_days))\n",
      "print(\"RXTE *actually* observed GRS1915+105 (GTI-corrected?) for %.3f seconds, or %.3f days\"%(dt2, dt2/(3600.*24.)))\n",
      "\n"
     ],
     "language": "python",
     "metadata": {},
     "outputs": [
      {
       "output_type": "stream",
       "stream": "stdout",
       "text": [
        "RXTE observed GRS1915+105 for 7506000.000 seconds, or 86.875 days!\n",
        "RXTE *actually* observed GRS1915+105 (GTI-corrected?) for 4699515.000 seconds, or 54.393 days\n"
       ]
      }
     ],
     "prompt_number": 16
    },
    {
     "cell_type": "markdown",
     "metadata": {},
     "source": [
      "How long are the individual observations? Let's make a histogram!"
     ]
    },
    {
     "cell_type": "code",
     "collapsed": false,
     "input": [
      "plt.hist(dt, bins=70);"
     ],
     "language": "python",
     "metadata": {},
     "outputs": [
      {
       "metadata": {},
       "output_type": "display_data",
       "png": "[encoded data removed]",
       "text": [
        "<matplotlib.figure.Figure at 0x7f98f67c1250>"
       ]
      }
     ],
     "prompt_number": 20
    },
    {
     "cell_type": "markdown",
     "metadata": {},
     "source": [
      "Now I can try to plot the epocs into the RXTE"
     ]
    },
    {
     "cell_type": "code",
     "collapsed": false,
     "input": [
      "asm_time = asm[:,0]\n",
      "asm_cr = asm[:,1]\n",
      "asm_total = asm_time[-1]-asm_time[0]\n",
      "print(\"The ASM light curve covers a total of %i days\"%asm_total)\n",
      "\n",
      "## each light curve covers 500 days\n",
      "plot_len = 500.\n",
      "start_time = asm_time[0]\n",
      "end_time = start_time + plot_len\n",
      "i = 0\n",
      "\n",
      "fig = plt.figure(figsize=(16,30))\n",
      "current_palette = sns.color_palette()\n",
      "while end_time <= asm_time[-1]:\n",
      "    print(\"I am on plot %i.\"%i)\n",
      "    ax = fig.add_subplot(11,1,i+1)\n",
      "    ax.errorbar(asm[:,0], asm[:,1], yerr = asm[:,2])\n",
      "    ax.scatter(t_mid_sample, np.ones(len(t_mid_sample))*240., facecolor=current_palette[1],\n",
      "                edgecolor=\"None\")\n",
      "    ax.set_xlim([start_time, end_time])\n",
      "    if i == 4:\n",
      "        ax.set_ylabel(\"Count rate [counts/s]\", fontsize=24)\n",
      "    start_time +=plot_len\n",
      "    end_time += plot_len\n",
      "    i+=1\n",
      "\n",
      "ax.set_xlabel(\"Time in MJD\", fontsize=24)\n",
      "plt.savefig(\"grs1915_asm_lc_all.pdf\", format=\"pdf\")\n",
      "plt.close()"
     ],
     "language": "python",
     "metadata": {},
     "outputs": [
      {
       "output_type": "stream",
       "stream": "stdout",
       "text": [
        "The ASM light curve covers a total of 5725 days\n",
        "I am on plot 0.\n",
        "I am on plot 1."
       ]
      },
      {
       "output_type": "stream",
       "stream": "stdout",
       "text": [
        "\n",
        "I am on plot 2."
       ]
      },
      {
       "output_type": "stream",
       "stream": "stdout",
       "text": [
        "\n",
        "I am on plot 3."
       ]
      },
      {
       "output_type": "stream",
       "stream": "stdout",
       "text": [
        "\n",
        "I am on plot 4."
       ]
      },
      {
       "output_type": "stream",
       "stream": "stdout",
       "text": [
        "\n",
        "I am on plot 5."
       ]
      },
      {
       "output_type": "stream",
       "stream": "stdout",
       "text": [
        "\n",
        "I am on plot 6."
       ]
      },
      {
       "output_type": "stream",
       "stream": "stdout",
       "text": [
        "\n",
        "I am on plot 7."
       ]
      },
      {
       "output_type": "stream",
       "stream": "stdout",
       "text": [
        "\n",
        "I am on plot 8."
       ]
      },
      {
       "output_type": "stream",
       "stream": "stdout",
       "text": [
        "\n",
        "I am on plot 9."
       ]
      },
      {
       "output_type": "stream",
       "stream": "stdout",
       "text": [
        "\n",
        "I am on plot 10."
       ]
      },
      {
       "output_type": "stream",
       "stream": "stdout",
       "text": [
        "\n"
       ]
      }
     ],
     "prompt_number": 174
    },
    {
     "cell_type": "code",
     "collapsed": false,
     "input": [],
     "language": "python",
     "metadata": {},
     "outputs": [],
     "prompt_number": 164
    },
    {
     "cell_type": "code",
     "collapsed": false,
     "input": [],
     "language": "python",
     "metadata": {},
     "outputs": []
    }
   ],
   "metadata": {}
  }
 ]
}