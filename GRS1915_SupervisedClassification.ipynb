{
 "metadata": {
  "name": "",
  "signature": "sha256:b1445d6dde67cf28e13930f797a07b7abef0de004e87084d555705524ae8b2e8"
 },
 "nbformat": 3,
 "nbformat_minor": 0,
 "worksheets": [
  {
   "cells": [
    {
     "cell_type": "markdown",
     "metadata": {},
     "source": [
      "# Supervised Classification for GRS1915+105 Light curves\n",
      "\n",
      "In this notebook, we'll do some supervised classification on light curves of GRS 1915+105.\n",
      "Let's get started!\n",
      "\n",
      "First, we need some features. The details of feature extraction are explained in the accompanying notebook `GRS1915_Feature_Extraction.ipynb`. Here, we'll assume you've worked your way through that, and are ready to work with a feature vector you've made in there.\n",
      "\n",
      "Therefore, we'll just load said feature vector:"
     ]
    },
    {
     "cell_type": "code",
     "collapsed": false,
     "input": [
      "%matplotlib inline\n",
      "import matplotlib.pyplot as plt\n",
      "import seaborn as sns\n",
      "sns.set()\n",
      "\n",
      "\n",
      "import numpy as np\n",
      "import sklearn\n",
      "import cPickle as pickle\n",
      "import feature_extraction\n",
      "\n",
      "datadir = \"../\""
     ],
     "language": "python",
     "metadata": {},
     "outputs": [
      {
       "output_type": "stream",
       "stream": "stderr",
       "text": [
        "/opt/local/Library/Frameworks/Python.framework/Versions/2.7/lib/python2.7/site-packages/matplotlib/__init__.py:1312: UserWarning:  This call to matplotlib.use() has no effect\n",
        "because the backend has already been chosen;\n",
        "matplotlib.use() must be called *before* pylab, matplotlib.pyplot,\n",
        "or matplotlib.backends is imported for the first time.\n",
        "\n",
        "  warnings.warn(_use_error_msg)\n"
       ]
      }
     ],
     "prompt_number": 1
    },
    {
     "cell_type": "markdown",
     "metadata": {},
     "source": [
      "If we have features stored in a file, we can load them directly:"
     ]
    },
    {
     "cell_type": "code",
     "collapsed": false,
     "input": [
      "f = open(datadir+\"grs1915_1024_summary_features.dat\", \"r\")\n",
      "feature_dict = pickle.load(f)\n",
      "f.close()\n"
     ],
     "language": "python",
     "metadata": {},
     "outputs": [],
     "prompt_number": 2
    },
    {
     "cell_type": "code",
     "collapsed": false,
     "input": [
      "features_train = np.array(feature_dict[\"train\"][0][\"features\"])\n",
      "features_val = np.array(feature_dict[\"val\"][0][0][\"features\"])\n",
      "features_test = np.array(feature_dict[\"test\"][0][\"features\"])\n",
      "print(\"features_train.sha pe: \" + str(features_train.shape))\n",
      "labels_train = feature_dict[\"train\"][1]\n",
      "labels_val = feature_dict[\"val\"][0][1]\n",
      "labels_test = feature_dict[\"test\"][1]"
     ],
     "language": "python",
     "metadata": {},
     "outputs": [
      {
       "output_type": "stream",
       "stream": "stdout",
       "text": [
        "features_train.sha pe: (1539, 16)\n"
       ]
      }
     ],
     "prompt_number": 3
    },
    {
     "cell_type": "code",
     "collapsed": false,
     "input": [
      "lc_train = feature_dict[\"train\"][0][\"lc\"]\n",
      "lc_val = feature_dict[\"val\"][0][0][\"lc\"]\n",
      "lc_test = feature_dict[\"test\"][0][\"lc\"]\n",
      "\n",
      "hr_train = feature_dict[\"train\"][0][\"hr\"]\n",
      "hr_val = feature_dict[\"val\"][0][0][\"hr\"]\n",
      "hr_test = feature_dict[\"test\"][0][\"hr\"]\n"
     ],
     "language": "python",
     "metadata": {},
     "outputs": [],
     "prompt_number": 4
    },
    {
     "cell_type": "markdown",
     "metadata": {},
     "source": [
      "If not, let's make some. First, we load the data:"
     ]
    },
    {
     "cell_type": "code",
     "collapsed": false,
     "input": [
      "reload(feature_extraction)\n",
      "filename = \"grs1915_clean_label_1s.dat\"\n",
      "[seg_train, labels_train], [seg_val, labels_val], [seg_test, labels_test] = \\\n",
      "        feature_extraction.get_labelled_data(filename, seg_length=1024., overlap=128.)\n"
     ],
     "language": "python",
     "metadata": {},
     "outputs": [
      {
       "ename": "AttributeError",
       "evalue": "'module' object has no attribute 'get_labelled_data'",
       "output_type": "pyerr",
       "traceback": [
        "\u001b[0;31m---------------------------------------------------------------------------\u001b[0m\n\u001b[0;31mAttributeError\u001b[0m                            Traceback (most recent call last)",
        "\u001b[0;32m<ipython-input-5-918741b6d974>\u001b[0m in \u001b[0;36m<module>\u001b[0;34m()\u001b[0m\n\u001b[1;32m      1\u001b[0m \u001b[0mreload\u001b[0m\u001b[0;34m(\u001b[0m\u001b[0mfeature_extraction\u001b[0m\u001b[0;34m)\u001b[0m\u001b[0;34m\u001b[0m\u001b[0m\n\u001b[1;32m      2\u001b[0m \u001b[0mfilename\u001b[0m \u001b[0;34m=\u001b[0m \u001b[0;34m\"grs1915_clean_label_1s.dat\"\u001b[0m\u001b[0;34m\u001b[0m\u001b[0m\n\u001b[0;32m----> 3\u001b[0;31m \u001b[0;34m[\u001b[0m\u001b[0mseg_train\u001b[0m\u001b[0;34m,\u001b[0m \u001b[0mlabels_train\u001b[0m\u001b[0;34m]\u001b[0m\u001b[0;34m,\u001b[0m \u001b[0;34m[\u001b[0m\u001b[0mseg_val\u001b[0m\u001b[0;34m,\u001b[0m \u001b[0mlabels_val\u001b[0m\u001b[0;34m]\u001b[0m\u001b[0;34m,\u001b[0m \u001b[0;34m[\u001b[0m\u001b[0mseg_test\u001b[0m\u001b[0;34m,\u001b[0m \u001b[0mlabels_test\u001b[0m\u001b[0;34m]\u001b[0m \u001b[0;34m=\u001b[0m         \u001b[0mfeature_extraction\u001b[0m\u001b[0;34m.\u001b[0m\u001b[0mget_labelled_data\u001b[0m\u001b[0;34m(\u001b[0m\u001b[0mfilename\u001b[0m\u001b[0;34m,\u001b[0m \u001b[0mseg_length\u001b[0m\u001b[0;34m=\u001b[0m\u001b[0;36m1024.\u001b[0m\u001b[0;34m,\u001b[0m \u001b[0moverlap\u001b[0m\u001b[0;34m=\u001b[0m\u001b[0;36m128.\u001b[0m\u001b[0;34m)\u001b[0m\u001b[0;34m\u001b[0m\u001b[0m\n\u001b[0m",
        "\u001b[0;31mAttributeError\u001b[0m: 'module' object has no attribute 'get_labelled_data'"
       ]
      }
     ],
     "prompt_number": 5
    },
    {
     "cell_type": "code",
     "collapsed": false,
     "input": [
      "seg_train_clean, labels_train_clean = [], []\n",
      "for s,l in zip(seg_train, labels_train):\n",
      "    if s[-1,0]-s[0,0] < 512.0:\n",
      "        print(\"Throwing out light curve\")\n",
      "        continue\n",
      "    else:\n",
      "        seg_train_clean.append(s)\n",
      "        labels_train_clean.append(l)\n",
      "\n",
      "seg_val_clean, labels_val_clean = [], []\n",
      "for s,l in zip(seg_val, labels_val):\n",
      "    if s[-1,0]-s[0,0] < 512.0:\n",
      "        print(\"Throwing out light curve\")\n",
      "        continue\n",
      "    else:\n",
      "        seg_val_clean.append(s)\n",
      "        labels_val_clean.append(l)\n",
      "        \n",
      "seg_test_clean, labels_test_clean = [], []\n",
      "for s,l in zip(seg_test, labels_test):\n",
      "    if s[-1,0]-s[0,0] < 512.0:\n",
      "        print(\"Throwing out light curve\")\n",
      "        continue\n",
      "    else:\n",
      "        seg_test_clean.append(s)\n",
      "        labels_test_clean.append(l)"
     ],
     "language": "python",
     "metadata": {},
     "outputs": [
      {
       "output_type": "stream",
       "stream": "stdout",
       "text": [
        "Throwing out light curve\n",
        "Throwing out light curve\n",
        "Throwing out light curve\n",
        "Throwing out light curve\n",
        "Throwing out light curve\n",
        "Throwing out light curve\n",
        "Throwing out light curve\n",
        "Throwing out light curve\n",
        "Throwing out light curve\n",
        "Throwing out light curve\n",
        "Throwing out light curve\n",
        "Throwing out light curve\n",
        "Throwing out light curve\n",
        "Throwing out light curve\n",
        "Throwing out light curve\n",
        "Throwing out light curve\n",
        "Throwing out light curve\n",
        "Throwing out light curve\n",
        "Throwing out light curve\n",
        "Throwing out light curve\n",
        "Throwing out light curve\n",
        "Throwing out light curve\n",
        "Throwing out light curve\n",
        "Throwing out light curve\n",
        "Throwing out light curve\n",
        "Throwing out light curve\n",
        "Throwing out light curve\n",
        "Throwing out light curve\n",
        "Throwing out light curve\n",
        "Throwing out light curve\n",
        "Throwing out light curve\n",
        "Throwing out light curve\n",
        "Throwing out light curve\n",
        "Throwing out light curve\n",
        "Throwing out light curve\n"
       ]
      }
     ],
     "prompt_number": 53
    },
    {
     "cell_type": "markdown",
     "metadata": {},
     "source": [
      "Now we can play around with the code that makes the features."
     ]
    },
    {
     "cell_type": "code",
     "collapsed": false,
     "input": [
      "reload(feature_extraction)\n",
      "f_train = feature_extraction.make_features(seg_train, bins=30, navg=4, hr=True, lc=True)\n",
      "f_val = feature_extraction.make_features(seg_val, bins=30, navg=4, hr=True, lc=True)\n",
      "f_test = feature_extraction.make_features(seg_test, bins=30, navg=4, hr=True, lc=True)\n"
     ],
     "language": "python",
     "metadata": {},
     "outputs": []
    },
    {
     "cell_type": "code",
     "collapsed": false,
     "input": [
      "features_train = np.array(f_train[\"features\"])\n",
      "features_val = np.array(f_val[\"features\"])\n",
      "features_test = np.array(f_test[\"features\"])\n",
      "\n",
      "#labels_train = labels_train_clean\n",
      "#labels_val = labels_val_clean\n",
      "#labels_test = labels_test_clean\n",
      "\n",
      "lc_train = f_train[\"lc\"]\n",
      "lc_val = f_val[\"lc\"]\n",
      "lc_test = f_test[\"lc\"]\n",
      "\n",
      "hr_train = f_train[\"hr\"]\n",
      "hr_val = f_val[\"hr\"]\n",
      "hr_test = f_test[\"hr\"]\n",
      "\n",
      "features_train.shape\n"
     ],
     "language": "python",
     "metadata": {},
     "outputs": [
      {
       "ename": "NameError",
       "evalue": "name 'f_train' is not defined",
       "output_type": "pyerr",
       "traceback": [
        "\u001b[0;31m---------------------------------------------------------------------------\u001b[0m\n\u001b[0;31mNameError\u001b[0m                                 Traceback (most recent call last)",
        "\u001b[0;32m<ipython-input-6-580a4b1d63e5>\u001b[0m in \u001b[0;36m<module>\u001b[0;34m()\u001b[0m\n\u001b[0;32m----> 1\u001b[0;31m \u001b[0mfeatures_train\u001b[0m \u001b[0;34m=\u001b[0m \u001b[0mnp\u001b[0m\u001b[0;34m.\u001b[0m\u001b[0marray\u001b[0m\u001b[0;34m(\u001b[0m\u001b[0mf_train\u001b[0m\u001b[0;34m[\u001b[0m\u001b[0;34m\"features\"\u001b[0m\u001b[0;34m]\u001b[0m\u001b[0;34m)\u001b[0m\u001b[0;34m\u001b[0m\u001b[0m\n\u001b[0m\u001b[1;32m      2\u001b[0m \u001b[0mfeatures_val\u001b[0m \u001b[0;34m=\u001b[0m \u001b[0mnp\u001b[0m\u001b[0;34m.\u001b[0m\u001b[0marray\u001b[0m\u001b[0;34m(\u001b[0m\u001b[0mf_val\u001b[0m\u001b[0;34m[\u001b[0m\u001b[0;34m\"features\"\u001b[0m\u001b[0;34m]\u001b[0m\u001b[0;34m)\u001b[0m\u001b[0;34m\u001b[0m\u001b[0m\n\u001b[1;32m      3\u001b[0m \u001b[0mfeatures_test\u001b[0m \u001b[0;34m=\u001b[0m \u001b[0mnp\u001b[0m\u001b[0;34m.\u001b[0m\u001b[0marray\u001b[0m\u001b[0;34m(\u001b[0m\u001b[0mf_test\u001b[0m\u001b[0;34m[\u001b[0m\u001b[0;34m\"features\"\u001b[0m\u001b[0;34m]\u001b[0m\u001b[0;34m)\u001b[0m\u001b[0;34m\u001b[0m\u001b[0m\n\u001b[1;32m      4\u001b[0m \u001b[0;34m\u001b[0m\u001b[0m\n\u001b[1;32m      5\u001b[0m \u001b[0;31m#labels_train = labels_train_clean\u001b[0m\u001b[0;34m\u001b[0m\u001b[0;34m\u001b[0m\u001b[0m\n",
        "\u001b[0;31mNameError\u001b[0m: name 'f_train' is not defined"
       ]
      }
     ],
     "prompt_number": 6
    },
    {
     "cell_type": "code",
     "collapsed": false,
     "input": [
      "for i,f in enumerate(features_train):\n",
      "    if any(np.isnan(f)):\n",
      "        print(\"NaN in features_train in sample row %i\"%i)\n",
      "    if any(np.isinf(f)):\n",
      "        print(\"inf in features_train in sample row %i\"%i)\n",
      "\n",
      "for i,f in enumerate(features_val):\n",
      "    if any(np.isnan(f)):\n",
      "        print(\"NaN in features_val sample row %i\"%i)\n",
      "    if any(np.isinf(f)):\n",
      "        print(\"inf in features_val in sample row %i\"%i)\n",
      "\n",
      "for i,f in enumerate(features_test):\n",
      "    if any(np.isnan(f)):\n",
      "        print(\"NaN in features_test sample row %i\"%i)\n",
      "    if any(np.isinf(f)):\n",
      "        print(\"inf in features_test in sample row %i\"%i)\n",
      "        \n",
      "#features_val_clean = np.delete(features_val, (1259), axis=0)\n",
      "#features_val = features_val_clean\n",
      "#labels_val_clean.pop(1259)\n",
      "print(features_val.shape)\n",
      "print(len(labels_val))"
     ],
     "language": "python",
     "metadata": {},
     "outputs": [
      {
       "output_type": "stream",
       "stream": "stdout",
       "text": [
        "(669, 16)\n",
        "669\n"
       ]
      }
     ],
     "prompt_number": 27
    },
    {
     "cell_type": "markdown",
     "metadata": {},
     "source": [
      "Next, we're going to re-normalise our features such that they don't vastly differ in scale."
     ]
    },
    {
     "cell_type": "code",
     "collapsed": false,
     "input": [
      "from sklearn import cross_validation \n",
      "from sklearn.preprocessing import StandardScaler\n",
      "\n",
      "scaler_train = StandardScaler().fit(features_train)\n",
      "fscaled_train = scaler_train.transform(features_train)\n",
      "\n",
      "scaler_val = StandardScaler().fit(features_val)\n",
      "fscaled_val = scaler_val.transform(features_val)\n",
      "\n",
      "#scaler_test = StandardScaler().fit(features_test)\n",
      "#fscaled_test = scaler_test.transform(features_test)\n",
      "\n",
      "\n",
      "\n"
     ],
     "language": "python",
     "metadata": {},
     "outputs": [],
     "prompt_number": 7
    },
    {
     "cell_type": "markdown",
     "metadata": {},
     "source": [
      "Next, we're going to try the simplest algorithm we can: K-Nearest Neighbours.\n",
      "We're going to cross-validate across some parameters (check documentation)."
     ]
    },
    {
     "cell_type": "code",
     "collapsed": false,
     "input": [
      "from sklearn.neighbors import KNeighborsClassifier\n",
      "from sklearn.grid_search import GridSearchCV\n",
      "\n",
      "\n",
      "#knn = KNeighborsClassifier(n_neighbors=5)\n",
      "#knn.fit(features_train, labels_train) \n",
      "#print(knn.score(features_val, labels_val))\n",
      "\n",
      "params = {'n_neighbors': [1, 3, 5, 10, 15, 20, 25, 30, 50]}#, 'max_features': }\n",
      "grid = GridSearchCV(KNeighborsClassifier(), param_grid=params, verbose=10, n_jobs=10)\n",
      "grid.fit(features_train, labels_train)\n"
     ],
     "language": "python",
     "metadata": {},
     "outputs": [
      {
       "output_type": "stream",
       "stream": "stdout",
       "text": [
        "Fitting 3 folds for each of 9 candidates, totalling 27 fits\n"
       ]
      },
      {
       "output_type": "stream",
       "stream": "stderr",
       "text": [
        "[Parallel(n_jobs=10)]: Done   1 jobs       | elapsed:    0.1s\n",
        "[Parallel(n_jobs=10)]: Done   2 jobs       | elapsed:    0.1s\n",
        "[Parallel(n_jobs=10)]: Done   5 jobs       | elapsed:    0.1s\n",
        "[Parallel(n_jobs=10)]: Done   8 jobs       | elapsed:    0.2s\n",
        "[Parallel(n_jobs=10)]: Done   9 out of  27 | elapsed:    0.2s remaining:    0.3s\n",
        "[Parallel(n_jobs=10)]: Done  12 out of  27 | elapsed:    0.2s remaining:    0.2s\n",
        "[Parallel(n_jobs=10)]: Done  15 out of  27 | elapsed:    0.2s remaining:    0.2s\n",
        "[Parallel(n_jobs=10)]: Done  21 out of  27 | elapsed:    0.2s remaining:    0.1s\n",
        "[Parallel(n_jobs=10)]: Done  24 out of  27 | elapsed:    0.2s remaining:    0.0s\n",
        "[Parallel(n_jobs=10)]: Done  18 out of  27 | elapsed:    0.3s remaining:    0.1s\n",
        "[Parallel(n_jobs=10)]: Done  27 out of  27 | elapsed:    0.3s finished\n"
       ]
      },
      {
       "output_type": "stream",
       "stream": "stdout",
       "text": [
        "[CV] n_neighbors=1 ...................................................\n",
        "[CV] n_neighbors=1 ...................................................\n",
        "[CV] n_neighbors=1 ...................................................\n",
        "[CV] n_neighbors=3 ...................................................\n",
        "[CV] n_neighbors=3 ...................................................\n",
        "[CV] n_neighbors=3 ...................................................\n",
        "[CV] n_neighbors=5 ...................................................\n",
        "[CV] n_neighbors=5 ...................................................\n",
        "[CV] n_neighbors=5 ...................................................\n",
        "[CV] n_neighbors=10 ..................................................\n",
        "[CV] .......................... n_neighbors=1, score=0.398844 -   0.1s[CV] .......................... n_neighbors=1, score=0.431641 -   0.0s[CV] .......................... n_neighbors=1, score=0.555118 -   0.0s\n",
        "[CV] .......................... n_neighbors=3, score=0.402697 -   0.1s[CV] .......................... n_neighbors=3, score=0.447266 -   0.0s\n",
        "[CV] .......................... n_neighbors=3, score=0.578740 -   0.0s\n",
        "[CV] .......................... n_neighbors=5, score=0.425819 -   0.0s\n",
        "[CV] .......................... n_neighbors=5, score=0.431641 -   0.0s\n",
        "[CV] .......................... n_neighbors=5, score=0.570866 -   0.0s\n",
        "[CV] ......................... n_neighbors=10, score=0.420039 -   0.0s\n",
        "\n",
        "\n",
        "[CV] n_neighbors=10 ..................................................\n",
        "[CV] n_neighbors=15 ..................................................[CV] n_neighbors=15 ..................................................\n",
        "[CV] n_neighbors=20 ..................................................\n",
        "[CV] n_neighbors=20 ..................................................\n",
        "[CV] n_neighbors=25 ..................................................\n",
        "[CV] n_neighbors=25 ..................................................\n",
        "[CV] n_neighbors=10 ..................................................[CV] n_neighbors=15 ..................................................\n",
        "[CV] n_neighbors=20 ..................................................\n",
        "[CV] ......................... n_neighbors=15, score=0.537402 -   0.0s\n",
        "[CV] ......................... n_neighbors=20, score=0.418112 -   0.0s\n",
        "[CV] ......................... n_neighbors=20, score=0.423828 -   0.0s\n",
        "[CV] ......................... n_neighbors=25, score=0.427746 -   0.0s\n",
        "[CV] ......................... n_neighbors=25, score=0.521654 -   0.0s\n",
        "\n",
        "\n",
        "[CV] ......................... n_neighbors=10, score=0.445312 -   0.0s\n",
        "\n",
        "[CV] ......................... n_neighbors=15, score=0.443359 -   0.0s\n",
        "[CV] n_neighbors=30 ..................................................\n",
        "[CV] n_neighbors=50 ..................................................\n",
        "[CV] n_neighbors=50 ..................................................\n",
        "[CV] ......................... n_neighbors=10, score=0.564961 -   0.0s\n",
        "[CV] ......................... n_neighbors=15, score=0.423892 -   0.0s\n",
        "[CV] n_neighbors=25 ..................................................\n",
        "[CV] ......................... n_neighbors=20, score=0.535433 -   0.1s[CV] n_neighbors=30 ..................................................\n",
        "[CV] ......................... n_neighbors=30, score=0.519685 -   0.0s\n",
        "[CV] ......................... n_neighbors=50, score=0.431641 -   0.0s\n",
        "[CV] ......................... n_neighbors=50, score=0.500000 -   0.0s\n",
        "[CV] n_neighbors=30 ..................................................\n",
        "[CV] n_neighbors=50 ..................................................\n",
        "[CV] ......................... n_neighbors=25, score=0.410156 -   0.0s\n",
        "\n",
        "[CV] ......................... n_neighbors=30, score=0.419922 -   0.0s\n",
        "[CV] ......................... n_neighbors=30, score=0.462428 -   0.0s\n",
        "[CV] ......................... n_neighbors=50, score=0.431599 -   0.0s\n"
       ]
      },
      {
       "metadata": {},
       "output_type": "pyout",
       "prompt_number": 6,
       "text": [
        "GridSearchCV(cv=None,\n",
        "       estimator=KNeighborsClassifier(algorithm='auto', leaf_size=30, metric='minkowski',\n",
        "           metric_params=None, n_neighbors=5, p=2, weights='uniform'),\n",
        "       fit_params={}, iid=True, loss_func=None, n_jobs=10,\n",
        "       param_grid={'n_neighbors': [1, 3, 5, 10, 15, 20, 25, 30, 50]},\n",
        "       pre_dispatch='2*n_jobs', refit=True, score_func=None, scoring=None,\n",
        "       verbose=10)"
       ]
      }
     ],
     "prompt_number": 6
    },
    {
     "cell_type": "code",
     "collapsed": false,
     "input": [
      "print(grid.best_params_)\n",
      "print(grid.score(features_train, labels_train))\n",
      "print(grid.score(features_val, labels_val))\n"
     ],
     "language": "python",
     "metadata": {},
     "outputs": [
      {
       "output_type": "stream",
       "stream": "stdout",
       "text": [
        "{'n_neighbors': 10}\n",
        "0.695906432749\n",
        "0.375186846039\n"
       ]
      }
     ],
     "prompt_number": 7
    },
    {
     "cell_type": "markdown",
     "metadata": {},
     "source": [
      "So this didn't work very well. Let's try Random Forests instead."
     ]
    },
    {
     "cell_type": "code",
     "collapsed": false,
     "input": [
      "from sklearn.ensemble import RandomForestClassifier\n",
      "\n",
      "params = {'max_depth': [7, 10,12, 15,17, 18, 19, 20, 21, 22, 23, 25,30,40, 50, 100, 200, 500]}#, \n",
      "         # 'max_features':[2,3,4,5,6,7,8,10,50,150,200,250,300]}\n",
      "grid_rfc = GridSearchCV(RandomForestClassifier(n_estimators=500), param_grid=params, \n",
      "                        verbose=10, n_jobs=10)\n",
      "grid_rfc.fit(features_train, labels_train)\n",
      "print(grid_rfc.best_params_)\n",
      "print(grid_rfc.score(features_train, labels_train))\n",
      "print(grid_rfc.score(features_val, labels_val))"
     ],
     "language": "python",
     "metadata": {},
     "outputs": [
      {
       "output_type": "stream",
       "stream": "stdout",
       "text": [
        "Fitting 3 folds for each of 18 candidates, totalling 54 fits\n"
       ]
      },
      {
       "output_type": "stream",
       "stream": "stderr",
       "text": [
        "[Parallel(n_jobs=10)]: Done   1 jobs       | elapsed:    4.3s\n",
        "[Parallel(n_jobs=10)]: Done   2 jobs       | elapsed:    4.4s\n",
        "[Parallel(n_jobs=10)]: Done   5 jobs       | elapsed:    4.9s\n",
        "[Parallel(n_jobs=10)]: Done   8 jobs       | elapsed:    5.0s\n",
        "[Parallel(n_jobs=10)]: Done  13 jobs       | elapsed:    9.4s\n",
        "[Parallel(n_jobs=10)]: Done  18 jobs       | elapsed:    9.7s\n",
        "[Parallel(n_jobs=10)]: Done  25 jobs       | elapsed:   14.8s\n",
        "[Parallel(n_jobs=10)]: Done  32 jobs       | elapsed:   19.7s\n",
        "[Parallel(n_jobs=10)]: Done  42 out of  54 | elapsed:   24.7s remaining:    7.1s\n",
        "[Parallel(n_jobs=10)]: Done  48 out of  54 | elapsed:   25.3s remaining:    3.2s\n",
        "[Parallel(n_jobs=10)]: Done  54 out of  54 | elapsed:   27.6s finished\n"
       ]
      },
      {
       "output_type": "stream",
       "stream": "stdout",
       "text": [
        "{'max_depth': 12}\n",
        "1.0[CV] max_depth=7 .....................................................\n",
        "[CV] max_depth=7 .....................................................\n",
        "[CV] max_depth=7 .....................................................\n",
        "[CV] max_depth=10 ....................................................\n",
        "[CV] max_depth=10 ....................................................\n",
        "[CV] max_depth=10 ....................................................\n",
        "[CV] max_depth=12 ....................................................\n",
        "[CV] max_depth=12 ....................................................\n",
        "[CV] max_depth=12 ....................................................\n",
        "[CV] max_depth=15 ....................................................\n",
        "[CV] ............................ max_depth=7, score=0.845857 -   4.3s[CV] ............................ max_depth=7, score=0.869141 -   4.3s[CV] ............................ max_depth=7, score=0.799213 -   4.3s[CV] ........................... max_depth=10, score=0.845857 -   4.7s[CV] ........................... max_depth=10, score=0.908203 -   4.8s[CV] ........................... max_depth=10, score=0.801181 -   4.6s[CV] ........................... max_depth=12, score=0.843931 -   4.7s[CV] ........................... max_depth=12, score=0.914062 -   4.9s[CV] ........................... max_depth=12, score=0.803150 -   4.6s[CV] ........................... max_depth=15, score=0.843931 -   4.7s\n",
        "\n",
        "\n",
        "\n",
        "\n",
        "\n",
        "\n",
        "\n",
        "\n",
        "\n",
        "[CV] max_depth=15 ....................................................\n",
        "[CV] max_depth=15 ....................................................\n",
        "[CV] max_depth=17 ....................................................\n",
        "[CV] max_depth=18 ....................................................\n",
        "[CV] max_depth=19 ....................................................\n",
        "[CV] max_depth=17 ....................................................\n",
        "[CV] max_depth=18 ....................................................\n",
        "[CV] max_depth=19 ....................................................\n",
        "[CV] max_depth=17 ....................................................\n",
        "[CV] max_depth=18 ....................................................\n",
        "[CV] ........................... max_depth=15, score=0.910156 -   5.0s[CV] ........................... max_depth=15, score=0.795276 -   4.8s[CV] ........................... max_depth=17, score=0.843931 -   4.9s[CV] ........................... max_depth=18, score=0.843931 -   4.8s[CV] ........................... max_depth=19, score=0.843931 -   4.8s[CV] ........................... max_depth=17, score=0.908203 -   5.1s[CV] ........................... max_depth=18, score=0.908203 -   5.0s[CV] ........................... max_depth=19, score=0.908203 -   5.0s[CV] ........................... max_depth=17, score=0.795276 -   4.7s[CV] ........................... max_depth=18, score=0.795276 -   4.8s\n",
        "\n",
        "\n",
        "\n",
        "\n",
        "\n",
        "\n",
        "\n",
        "\n",
        "\n",
        "[CV] max_depth=20 ....................................................\n",
        "[CV] max_depth=19 ....................................................\n",
        "[CV] max_depth=20 ....................................................\n",
        "[CV] max_depth=21 ....................................................\n",
        "[CV] max_depth=21 ....................................................\n",
        "[CV] max_depth=22 ....................................................\n",
        "[CV] max_depth=22 ....................................................\n",
        "[CV] max_depth=22 ....................................................\n",
        "[CV] max_depth=20 ....................................................\n",
        "[CV] max_depth=21 ....................................................\n",
        "[CV] ........................... max_depth=20, score=0.843931 -   5.2s[CV] ........................... max_depth=19, score=0.799213 -   5.0s[CV] ........................... max_depth=20, score=0.912109 -   5.3s[CV] ........................... max_depth=21, score=0.843931 -   5.2s[CV] ........................... max_depth=21, score=0.799213 -   5.1s[CV] ........................... max_depth=22, score=0.843931 -   5.2s[CV] ........................... max_depth=22, score=0.912109 -   5.4s[CV] ........................... max_depth=22, score=0.799213 -   5.1s[CV] ........................... max_depth=20, score=0.799213 -   5.1s[CV] ........................... max_depth=21, score=0.912109 -   5.3s\n",
        "\n",
        "\n",
        "\n",
        "\n",
        "\n",
        "\n",
        "\n",
        "\n",
        "\n",
        "[CV] max_depth=23 ....................................................\n",
        "[CV] max_depth=23 ....................................................\n",
        "[CV] max_depth=23 ....................................................\n",
        "[CV] max_depth=25 ....................................................\n",
        "[CV] max_depth=25 ....................................................\n",
        "[CV] max_depth=30 ....................................................\n",
        "[CV] max_depth=40 ....................................................\n",
        "[CV] max_depth=30 ....................................................\n",
        "[CV] max_depth=25 ....................................................\n",
        "[CV] max_depth=30 ....................................................\n",
        "[CV] ........................... max_depth=23, score=0.912109 -   5.1s[CV] ........................... max_depth=23, score=0.843931 -   5.0s[CV] ........................... max_depth=23, score=0.799213 -   4.8s[CV] ........................... max_depth=25, score=0.912109 -   5.1s[CV] ........................... max_depth=25, score=0.799213 -   4.8s[CV] ........................... max_depth=30, score=0.843931 -   5.0s[CV] ........................... max_depth=40, score=0.843931 -   5.0s[CV] ........................... max_depth=30, score=0.799213 -   4.9s[CV] ........................... max_depth=25, score=0.843931 -   4.9s[CV] ........................... max_depth=30, score=0.912109 -   5.1s\n",
        "\n",
        "\n",
        "\n",
        "\n",
        "\n",
        "\n",
        "\n",
        "\n",
        "\n",
        "[CV] max_depth=50 ....................................................\n",
        "[CV] max_depth=40 ....................................................\n",
        "[CV] max_depth=40 ....................................................\n",
        "[CV] max_depth=100 ...................................................\n",
        "[CV] max_depth=50 ....................................................\n",
        "[CV] max_depth=100 ...................................................\n",
        "[CV] max_depth=200 ...................................................\n",
        "[CV] max_depth=100 ...................................................\n",
        "[CV] max_depth=50 ....................................................\n",
        "[CV] max_depth=200 ...................................................\n",
        "[CV] ........................... max_depth=50, score=0.908203 -   5.5s[CV] ........................... max_depth=40, score=0.908203 -   5.4s[CV] ........................... max_depth=40, score=0.799213 -   5.2s[CV] .......................... max_depth=100, score=0.843931 -   5.4s[CV] ........................... max_depth=50, score=0.799213 -   5.2s[CV] .......................... max_depth=100, score=0.908203 -   5.4s[CV] .......................... max_depth=200, score=0.908203 -   5.4s[CV] .......................... max_depth=100, score=0.799213 -   5.2s[CV] ........................... max_depth=50, score=0.843931 -   5.4s[CV] .......................... max_depth=200, score=0.843931 -   5.3s\n",
        "\n",
        "\n",
        "\n",
        "\n",
        "\n",
        "\n",
        "\n",
        "\n",
        "\n",
        "[CV] max_depth=200 ...................................................\n",
        "[CV] max_depth=500 ...................................................\n",
        "[CV] max_depth=500 ...................................................\n",
        "[CV] max_depth=500 ...................................................\n",
        "[CV] .......................... max_depth=500, score=0.801181 -   2.6s[CV] .......................... max_depth=200, score=0.801181 -   2.8s[CV] .......................... max_depth=500, score=0.843931 -   2.8s[CV] .......................... max_depth=500, score=0.914062 -   2.7s\n",
        "\n",
        "\n",
        "\n"
       ]
      },
      {
       "output_type": "stream",
       "stream": "stdout",
       "text": [
        "\n",
        "0.877428998505"
       ]
      },
      {
       "output_type": "stream",
       "stream": "stdout",
       "text": [
        "\n"
       ]
      }
     ],
     "prompt_number": 8
    },
    {
     "cell_type": "code",
     "collapsed": false,
     "input": [
      "print(grid_rfc.best_params_)\n",
      "print(grid_rfc.score(features_train, labels_train))\n",
      "print(grid_rfc.score(features_val, labels_val))\n",
      "\n",
      "labels_rfc = grid_rfc.predict(features_val)\n",
      "print(grid_rfc.score(features_train, labels_train))\n",
      "print(grid_rfc.score(features_val, labels_val))    "
     ],
     "language": "python",
     "metadata": {},
     "outputs": [
      {
       "output_type": "stream",
       "stream": "stdout",
       "text": [
        "{'max_depth': 12}\n",
        "1.0"
       ]
      },
      {
       "output_type": "stream",
       "stream": "stdout",
       "text": [
        "\n",
        "0.877428998505"
       ]
      },
      {
       "output_type": "stream",
       "stream": "stdout",
       "text": [
        "\n",
        "1.0"
       ]
      },
      {
       "output_type": "stream",
       "stream": "stdout",
       "text": [
        "\n",
        "0.877428998505"
       ]
      },
      {
       "output_type": "stream",
       "stream": "stdout",
       "text": [
        "\n"
       ]
      }
     ],
     "prompt_number": 9
    },
    {
     "cell_type": "code",
     "collapsed": false,
     "input": [
      "from sklearn.metrics import confusion_matrix\n",
      "import matplotlib.cm as cmap\n",
      "\n",
      "sns.set_style(\"white\") \n",
      "unique_labels = np.unique(labels_val)\n",
      "cm = confusion_matrix(labels_val, labels_rfc, labels=unique_labels)\n",
      "print(cm)\n",
      "print(unique_labels)\n",
      "plt.matshow(cm, cmap=cmap.Spectral_r )\n",
      "plt.title('Confusion matrix')\n",
      "plt.colorbar()\n",
      "plt.ylabel('True label')\n",
      "plt.xlabel('Predicted label')\n",
      "plt.xticks(range(len(unique_labels)), unique_labels, rotation=70)\n",
      "plt.yticks(range(len(unique_labels)), unique_labels)\n",
      "plt.show()"
     ],
     "language": "python",
     "metadata": {},
     "outputs": [
      {
       "output_type": "stream",
       "stream": "stdout",
       "text": [
        "[[39  0  0  0  0  0  0  0  0  0  0  0  0  0  0]\n",
        " [ 0 37  0  0  0  0  0  0  0  5  0  0  0  0  0]\n",
        " [ 0  0 36  0  0 18  0  0  0  0  0  0  0  0  0]\n",
        " [ 0  0  0 87  0  0  0  0  0  0  0  0  0  0  0]\n",
        " [ 0  0  0 12 19  0  0  0  0  0  0  0  0  0  0]\n",
        " [ 0  0  9  5  0 65  0  0  0  0  0  2  0  0  0]\n",
        " [ 0  3  0  0  0  0 41  0  0  0  0  0  0  0  0]\n",
        " [ 0  0  0  0  0  0  0 50  0  0  0 18  0  0  0]\n",
        " [ 0  0  0  0  0  0  0  0 10  1  3  0  0  0  0]\n",
        " [ 0  1  0  0  0  0  0  0  0 18  1  0  0  0  0]\n",
        " [ 0  0  0  0  0  0  1  0  0  0 60  0  0  0  0]\n",
        " [ 0  0  0  0  0  2  0  0  0  0  0 21  0  0  0]\n",
        " [ 0  0  0  0  0  0  0  0  0  0  0  0 49  0  0]\n",
        " [ 0  0  0  0  0  0  0  0  0  0  0  0  0 11  0]\n",
        " [ 0  1  0  0  0  0  0  0  0  0  0  0  0  0 44]]\n",
        "['alpha' 'beta' 'chi1' 'chi2' 'chi3' 'chi4' 'delta' 'gamma' 'kappa'\n",
        " 'lambda' 'mu' 'nu' 'phi' 'rho' 'theta']\n"
       ]
      },
      {
       "metadata": {},
       "output_type": "display_data",
       "png": "[encoded data removed]",
       "text": [
        "<matplotlib.figure.Figure at 0x10e7a3450>"
       ]
      }
     ],
     "prompt_number": 10
    },
    {
     "cell_type": "markdown",
     "metadata": {},
     "source": [
      "That works a lot better. It perfectly learns the training set (score=1.0), but has a ~10% error rate on the validation set. However, the hardness ratio features have lots of zeros. I'm not sure how to deal with that effectively yet! I should find that out! Meanwhile, let's try a linear model for fun!"
     ]
    },
    {
     "cell_type": "code",
     "collapsed": false,
     "input": [
      "from sklearn import linear_model \n",
      "from sklearn.svm import LinearSVC\n",
      "\n",
      "\n",
      "params = {'C': [0.001, 0.01, 0.1, 1, 10, 100]}\n",
      "grid_lm = GridSearchCV(linear_model.LogisticRegression(penalty=\"l1\", class_weight=\"auto\"), \n",
      "                    param_grid=params, verbose=10, n_jobs=10)\n",
      "grid_lm.fit(features_train, labels_train)\n",
      "#params = {'C': [0.001, 0.01, 0.1, 1, 10, 100]}\n",
      "#grid = GridSearchCV(LinearSVC(), param_grid=params, verbose=10)\n",
      "#grid.fit(features_train, labels_train)\n",
      "\n",
      "\n",
      "print(grid_lm.best_params_)\n",
      "print(grid_lm.score(features_train, labels_train))\n",
      "print(grid_lm.score(features_val, labels_val))\n",
      "\n",
      "\n",
      "#sgd = linear_model.SGDClassifier(loss='modified_huber', penalty=\"elasticnet\", shuffle=False,\n",
      "#                                 n_jobs = -1)\n",
      "#sgd.fit(features_train, labels_train)\n",
      "#print(sgd.score(features_test, labels_test))\n",
      "\n",
      "\n"
     ],
     "language": "python",
     "metadata": {},
     "outputs": [
      {
       "output_type": "stream",
       "stream": "stdout",
       "text": [
        "Fitting 3 folds for each of 6 candidates, totalling 18 fits\n"
       ]
      },
      {
       "output_type": "stream",
       "stream": "stderr",
       "text": [
        "[Parallel(n_jobs=10)]: Done   1 jobs       | elapsed:    0.5s\n",
        "[Parallel(n_jobs=10)]: Done   2 out of  18 | elapsed:    0.5s remaining:    4.1s\n",
        "[Parallel(n_jobs=10)]: Done   4 out of  18 | elapsed:    0.5s remaining:    1.9s\n",
        "[Parallel(n_jobs=10)]: Done  10 out of  18 | elapsed:    0.6s remaining:    0.5s\n",
        "[Parallel(n_jobs=10)]: Done   8 out of  18 | elapsed:    0.6s remaining:    0.7s\n",
        "[Parallel(n_jobs=10)]: Done   6 out of  18 | elapsed:    0.6s remaining:    1.2s\n",
        "[Parallel(n_jobs=10)]: Done  14 out of  18 | elapsed:    0.9s remaining:    0.3s\n",
        "[Parallel(n_jobs=10)]: Done  12 out of  18 | elapsed:    0.9s remaining:    0.5s\n",
        "[Parallel(n_jobs=10)]: Done  16 out of  18 | elapsed:    0.9s remaining:    0.1s\n",
        "[Parallel(n_jobs=10)]: Done  18 out of  18 | elapsed:    0.9s finished\n"
       ]
      },
      {
       "output_type": "stream",
       "stream": "stdout",
       "text": [
        "{'C': 0.01}\n",
        "0.56530214425\n",
        "0.511210762332\n",
        "[CV] C=0.001 .........................................................\n",
        "[CV] C=0.001 .........................................................\n",
        "[CV] C=0.001 .........................................................\n",
        "[CV] C=0.01 ..........................................................\n",
        "[CV] C=0.01 ..........................................................\n",
        "[CV] C=0.01 ..........................................................\n",
        "[CV] C=0.1 ...........................................................\n",
        "[CV] C=0.1 ...........................................................\n",
        "[CV] C=0.1 ...........................................................\n",
        "[CV] C=1 .............................................................\n",
        "[CV] ................................ C=0.001, score=0.443160 -   0.4s[CV] ................................ C=0.001, score=0.369141 -   0.5s[CV] ................................ C=0.001, score=0.421260 -   0.5s[CV] ................................. C=0.01, score=0.437380 -   0.5s[CV] ................................. C=0.01, score=0.371094 -   0.5s[CV] ................................. C=0.01, score=0.427165 -   0.5s[CV] .................................. C=0.1, score=0.448940 -   0.5s[CV] .................................. C=0.1, score=0.353516 -   0.4s[CV] .................................. C=0.1, score=0.421260 -   0.5s[CV] .................................... C=1, score=0.435453 -   0.4s\n",
        "\n",
        "\n",
        "\n",
        "\n",
        "\n",
        "\n",
        "\n",
        "\n",
        "\n",
        "[CV] C=1 .............................................................\n",
        "[CV] C=1 .............................................................\n",
        "[CV] C=10 ............................................................\n",
        "[CV] C=10 ............................................................\n",
        "[CV] C=10 ............................................................\n",
        "[CV] C=100 ...........................................................\n",
        "[CV] C=100 ...........................................................\n",
        "[CV] C=100 ...........................................................\n",
        "[CV] .................................... C=1, score=0.355469 -   0.4s[CV] .................................... C=1, score=0.423228 -   0.4s[CV] ................................... C=10, score=0.425197 -   0.3s[CV] ................................... C=10, score=0.353516 -   0.4s[CV] ................................... C=10, score=0.435453 -   0.4s[CV] .................................. C=100, score=0.448940 -   0.3s[CV] .................................. C=100, score=0.353516 -   0.3s[CV] .................................. C=100, score=0.425197 -   0.3s\n",
        "\n",
        "\n",
        "\n",
        "\n",
        "\n",
        "\n",
        "\n"
       ]
      }
     ],
     "prompt_number": 11
    },
    {
     "cell_type": "code",
     "collapsed": false,
     "input": [
      "print(grid_lm.best_params_)\n",
      "print(grid_lm.score(features_train, labels_train))\n",
      "print(grid_lm.score(features_val, labels_val))\n",
      "labels_lm = grid_lm.predict(features_val)\n",
      "sns.set_style(\"white\") \n",
      "unique_labels = np.unique(labels_val)\n",
      "plt.figure()\n",
      "cm = confusion_matrix(labels_val, labels_rfc, labels=unique_labels)\n",
      "print(cm)\n",
      "print(unique_labels)\n",
      "plt.matshow(cm, cmap=cmap.Spectral_r )\n",
      "plt.title('Confusion matrix, RFC')\n",
      "plt.colorbar()\n",
      "plt.ylabel('True label')\n",
      "plt.xlabel('Predicted label')\n",
      "plt.xticks(range(len(unique_labels)), unique_labels, rotation=70)\n",
      "plt.yticks(range(len(unique_labels)), unique_labels)\n",
      "\n",
      "plt.figure()\n",
      "cm = confusion_matrix(labels_val, labels_lm, labels=unique_labels)\n",
      "#print(cm)\n",
      "#print(unique_labels)\n",
      "plt.matshow(cm, cmap=cmap.Spectral_r )\n",
      "plt.title('Confusion matrix, Linear Model')\n",
      "plt.colorbar()\n",
      "plt.ylabel('True label')\n",
      "plt.xlabel('Predicted label')\n",
      "plt.xticks(range(len(unique_labels)), unique_labels, rotation=70)\n",
      "plt.yticks(range(len(unique_labels)), unique_labels)\n"
     ],
     "language": "python",
     "metadata": {},
     "outputs": [
      {
       "output_type": "stream",
       "stream": "stdout",
       "text": [
        "{'C': 0.01}\n",
        "0.56530214425\n",
        "0.511210762332\n",
        "[[39  0  0  0  0  0  0  0  0  0  0  0  0  0  0]\n",
        " [ 0 37  0  0  0  0  0  0  0  5  0  0  0  0  0]\n",
        " [ 0  0 36  0  0 18  0  0  0  0  0  0  0  0  0]\n",
        " [ 0  0  0 87  0  0  0  0  0  0  0  0  0  0  0]\n",
        " [ 0  0  0 12 19  0  0  0  0  0  0  0  0  0  0]\n",
        " [ 0  0  9  5  0 65  0  0  0  0  0  2  0  0  0]\n",
        " [ 0  3  0  0  0  0 41  0  0  0  0  0  0  0  0]\n",
        " [ 0  0  0  0  0  0  0 50  0  0  0 18  0  0  0]\n",
        " [ 0  0  0  0  0  0  0  0 10  1  3  0  0  0  0]\n",
        " [ 0  1  0  0  0  0  0  0  0 18  1  0  0  0  0]\n",
        " [ 0  0  0  0  0  0  1  0  0  0 60  0  0  0  0]\n",
        " [ 0  0  0  0  0  2  0  0  0  0  0 21  0  0  0]\n",
        " [ 0  0  0  0  0  0  0  0  0  0  0  0 49  0  0]\n",
        " [ 0  0  0  0  0  0  0  0  0  0  0  0  0 11  0]\n",
        " [ 0  1  0  0  0  0  0  0  0  0  0  0  0  0 44]]\n",
        "['alpha' 'beta' 'chi1' 'chi2' 'chi3' 'chi4' 'delta' 'gamma' 'kappa'\n",
        " 'lambda' 'mu' 'nu' 'phi' 'rho' 'theta']\n"
       ]
      },
      {
       "metadata": {},
       "output_type": "pyout",
       "prompt_number": 12,
       "text": [
        "([<matplotlib.axis.YTick at 0x10ed17e10>,\n",
        "  <matplotlib.axis.YTick at 0x10ed17190>,\n",
        "  <matplotlib.axis.YTick at 0x10f833f10>,\n",
        "  <matplotlib.axis.YTick at 0x10f7d9490>,\n",
        "  <matplotlib.axis.YTick at 0x10f7d9990>,\n",
        "  <matplotlib.axis.YTick at 0x10f7d9fd0>,\n",
        "  <matplotlib.axis.YTick at 0x10f842750>,\n",
        "  <matplotlib.axis.YTick at 0x10f842e90>,\n",
        "  <matplotlib.axis.YTick at 0x10f84b610>,\n",
        "  <matplotlib.axis.YTick at 0x10f84bb90>,\n",
        "  <matplotlib.axis.YTick at 0x10f855310>,\n",
        "  <matplotlib.axis.YTick at 0x10f855a50>,\n",
        "  <matplotlib.axis.YTick at 0x10f8611d0>,\n",
        "  <matplotlib.axis.YTick at 0x10f861910>,\n",
        "  <matplotlib.axis.YTick at 0x10f869090>],\n",
        " <a list of 15 Text yticklabel objects>)"
       ]
      },
      {
       "metadata": {},
       "output_type": "display_data",
       "text": [
        "<matplotlib.figure.Figure at 0x10e720050>"
       ]
      },
      {
       "metadata": {},
       "output_type": "display_data",
       "png": "[encoded data removed]",
       "text": [
        "<matplotlib.figure.Figure at 0x10e9b3dd0>"
       ]
      },
      {
       "metadata": {},
       "output_type": "display_data",
       "text": [
        "<matplotlib.figure.Figure at 0x10e127d10>"
       ]
      },
      {
       "metadata": {},
       "output_type": "display_data",
       "png": "[encoded data removed]",
       "text": [
        "<matplotlib.figure.Figure at 0x10e523cd0>"
       ]
      }
     ],
     "prompt_number": 12
    },
    {
     "cell_type": "code",
     "collapsed": false,
     "input": [
      "labels_rfc_test = grid_rfc.predict(features_test)\n",
      "print(\"Test set prediction: %.3f percent correct.\"%grid_rfc.score(features_test, labels_test))\n"
     ],
     "language": "python",
     "metadata": {},
     "outputs": [
      {
       "output_type": "stream",
       "stream": "stdout",
       "text": [
        "Test set prediction: 0.858 percent correct.\n"
       ]
      }
     ],
     "prompt_number": 72
    },
    {
     "cell_type": "code",
     "collapsed": false,
     "input": [],
     "language": "python",
     "metadata": {},
     "outputs": [],
     "prompt_number": 380
    },
    {
     "cell_type": "code",
     "collapsed": false,
     "input": [],
     "language": "python",
     "metadata": {},
     "outputs": [],
     "prompt_number": 362
    },
    {
     "cell_type": "code",
     "collapsed": false,
     "input": [
      "labels_rfc_val = grid_rfc.predict(features_val)\n"
     ],
     "language": "python",
     "metadata": {},
     "outputs": [],
     "prompt_number": 363
    },
    {
     "cell_type": "markdown",
     "metadata": {},
     "source": [
      "Plot all misclassifieds."
     ]
    },
    {
     "cell_type": "code",
     "collapsed": false,
     "input": [
      "\n",
      "for i,(f, lpredict, ltrue, lc, hr1, hr) in enumerate(zip(features_val, labels_val, labels_rfc_val, lc_val, \\\n",
      "                                            hr_val[0], hr_val[1])):\n",
      "    if lpredict == ltrue:\n",
      "        continue\n",
      "    else:\n",
      "        position = np.random.choose([1,2], p=[0.5, 0.5])\n",
      "        fig,(ax1, ax2) = plt.subplots(1,2,figsize=(12,6))\n",
      "        ax1.plot(lc.time, lc.counts, lw=1, linestyle=\"steps-mid\")\n",
      "        ax1.set_xlabel(\"Time since start of light curve [s]\")\n",
      "        ax2.set_ylabel(\"Count rate [counts/s]\")\n",
      "        \n",
      "        ax2.scatter(hr1, hr2, color=\"black\")\n",
      "        ax2.set_xscale(\"log\")\n",
      "        ax2.set_yscale(\"log\")\n",
      "        ax2.set_xlabel(\"HR 1\")\n",
      "        ax2.set_ylabel(\"HR 2\")\n",
      "        \n",
      "        plt.title(\"Real class: \" + ltrue + \"; predicted class: \" + lpredict)\n",
      "        plt.savefig(\"misclassified%i.pdf\"%i, format=\"pdf\")\n",
      "        plt.close()\n"
     ],
     "language": "python",
     "metadata": {},
     "outputs": [],
     "prompt_number": 345
    },
    {
     "cell_type": "code",
     "collapsed": false,
     "input": [
      "misclassifieds = []\n",
      "for i,(f, lpredict, ltrue, lc, hr) in enumerate(zip(features_val, labels_rfc_val, labels_val, lc_val, \\\n",
      "                                            hr_val)):\n",
      "    if lpredict == ltrue:\n",
      "        continue\n",
      "    else:\n",
      "        misclassifieds.append([f, lpredict, ltrue, lc, hr])"
     ],
     "language": "python",
     "metadata": {},
     "outputs": [],
     "prompt_number": 382
    },
    {
     "cell_type": "code",
     "collapsed": false,
     "input": [
      "import powerspectrum\n",
      "nexamples = 6\n",
      "\n",
      "\n",
      "for j,m in enumerate(misclassifieds):\n",
      "    pos_human = np.random.choice([0,3], p=[0.5, 0.5])\n",
      "    pos_robot = int(3. - pos_human)\n",
      "    \n",
      "    f = m[0]\n",
      "    lpredict = m[1]\n",
      "    ltrue = m[2]\n",
      "    times = m[3][0]\n",
      "    counts = m[3][1]\n",
      "    hr1 = m[4][0]\n",
      "    hr2 = m[4][1]\n",
      "    print(\"Predicted class is: \" + str(lpredict))\n",
      "    print(\"Human classified class is: \" + str(ltrue))\n",
      "    robot_all = [[lp, lt, lc, hr] for lp, lt, lc, hr in \\\n",
      "                 zip(labels_val, labels_rfc_val, lc_val, hr_val)\\\n",
      "                 if lt == lpredict ]\n",
      "    human_all = [[lp, lt, lc, hr] for lp, lt, lc, hr in \\\n",
      "                 zip(labels_val, labels_rfc_val, lc_val, hr_val)\\\n",
      "                 if lt == ltrue ]\n",
      "    \n",
      "    np.random.shuffle(robot_all)\n",
      "    np.random.shuffle(human_all)\n",
      "    robot_all = robot_all[:6]\n",
      "    human_all = human_all[:6]\n",
      "    \n",
      "    sns.set_style(\"darkgrid\")\n",
      "    current_palette = sns.color_palette()\n",
      "    fig = plt.figure(figsize=(10,15))\n",
      "    \n",
      "    def plot_lcs(times, counts, hr1, hr2, xcoords, ycoords, colspan, rowspan):\n",
      "        #print(\"plotting in grid point \" + str((xcoords[0], ycoords[0])))\n",
      "        ax = plt.subplot2grid((9,6),(xcoords[0], ycoords[0]), colspan=colspan, rowspan=rowspan)\n",
      "        ax.plot(times, counts, lw=2, linestyle=\"steps-mid\", rasterized=True)\n",
      "        ax.set_xlim([times[0], times[-1]])\n",
      "        ax.set_ylim([0.0, 12000.0])\n",
      "        #print(\"plotting in grid point \" + str((xcoords[1], ycoords[1])))\n",
      "    \n",
      "        ax = plt.subplot2grid((9,6),(xcoords[1], ycoords[1]), colspan=colspan, rowspan=rowspan)\n",
      "        ax.scatter(hr1, hr2, facecolor=current_palette[1], edgecolor=\"none\", rasterized=True)\n",
      "        ax.set_xlim([.27, 0.85])\n",
      "        ax.set_ylim([0.04, 0.7])\n",
      "    \n",
      "        #print(\"plotting in grid point \" + str((xcoords[2], ycoords[2])))    \n",
      "        ax = plt.subplot2grid((9,6),(xcoords[2], ycoords[2]), colspan=colspan, rowspan=rowspan)\n",
      "        dt = np.min(np.diff(times))\n",
      "        ps = powerspectrum.PowerSpectrum(times, counts=counts/dt, norm=\"rms\")\n",
      "        ax.loglog(ps.freq[1:], ps.ps[1:], linestyle=\"steps-mid\", rasterized=True)\n",
      "        ax.set_xlim([ps.freq[1], ps.freq[-1]])\n",
      "        ax.set_ylim([1.e-6, 10.])\n",
      "    \n",
      "        return\n",
      "    \n",
      "    ## first plot misclassified:\n",
      "    plot_lcs(times, counts, hr1, hr2, [0,0,0], [0,2,4], 2, 2)\n",
      "    \n",
      "    ## now plot examples\n",
      "    for i in range(4):\n",
      "        r = robot_all[i]\n",
      "        h = human_all[i]\n",
      "        #print(h[0])\n",
      "        #print(\"human indices: \" + str([ [i+3, i+3, i+3], [pos_human, pos_human+1, pos_human+2]]))\n",
      "        #print(\"robot indices: \" + str([[i+3, i+3, i+3], [pos_robot, pos_robot+1, pos_robot+2]]))\n",
      "        plot_lcs(h[2][0], h[2][1], h[3][0], h[3][1], [i+2, i+2, i+2], [pos_human, pos_human+1, pos_human+2], 1, 1)\n",
      "        plot_lcs(r[2][0], r[2][1], r[3][0], r[3][1], [i+2, i+2, i+2], [pos_robot, pos_robot+1, pos_robot+2], 1, 1)\n",
      "        \n",
      "    ax = plt.subplot2grid((9,6),(8,pos_human+1))\n",
      "    ax.set_xlim([0,1])\n",
      "    ax.set_ylim([0,1])\n",
      "    ax.set_xlabel(\"Human: %s\"%ltrue, fontsize=20)\n",
      "    ax = plt.subplot2grid((9,6),(8,pos_robot+1))\n",
      "    ax.set_xlim([0,1])\n",
      "    ax.set_ylim([0,1])\n",
      "    ax.set_xlabel(\"Robot: %s\"%lpredict, fontsize=20)\n",
      "    plt.savefig(\"misclassified%i.pdf\"%j, format=\"pdf\")\n",
      "    plt.close()"
     ],
     "language": "python",
     "metadata": {},
     "outputs": []
    },
    {
     "cell_type": "markdown",
     "metadata": {},
     "source": [
      "## Running Supervised Machine Learning on Various Feature Vectors\n",
      "\n",
      "I'm going to try different combinations of feature vectors to see how well they do. \n",
      "I've already made various feature vectors that contain either (1) summary statistics of the light curve, PSD and HR diagram structure, (2) the full HR diagram (this would probably do better with a convolutional network, although I have few samples), (3) the full (logarithmically averaged) PSD.\n",
      "All of those I have for different segment lengths (512s, 1024s, 2048s, full segments). "
     ]
    },
    {
     "cell_type": "code",
     "collapsed": false,
     "input": [
      "import glob\n",
      "files = glob.glob(datadir+\"*features.dat\")\n",
      "\n",
      "files"
     ],
     "language": "python",
     "metadata": {},
     "outputs": [
      {
       "metadata": {},
       "output_type": "pyout",
       "prompt_number": 2,
       "text": [
        "['../grs1915_1024_hrfull_features.dat',\n",
        " '../grs1915_1024_hrfull_psfull_features.dat',\n",
        " '../grs1915_1024_psfull_features.dat',\n",
        " '../grs1915_1024_summary_features.dat',\n",
        " '../grs1915_2048_hrfull_features.dat',\n",
        " '../grs1915_2048_hrfull_psfull_features.dat',\n",
        " '../grs1915_2048_psfull_features.dat',\n",
        " '../grs1915_2048_summary_features.dat',\n",
        " '../grs1915_512_hrfull_features.dat',\n",
        " '../grs1915_512_hrfull_psfull_features.dat',\n",
        " '../grs1915_512_psfull_features.dat',\n",
        " '../grs1915_512_summary_features.dat',\n",
        " '../grs1915_noseg_hrfull_features.dat',\n",
        " '../grs1915_noseg_psfull_features.dat',\n",
        " '../grs1915_noseg_summary_features.dat']"
       ]
      }
     ],
     "prompt_number": 2
    },
    {
     "cell_type": "code",
     "collapsed": false,
     "input": [
      "f = '../grs1915_1024_hrfull_psfull_features.dat'\n",
      "fin =  open(f, 'r')\n",
      "features_all = pickle.load(fin)\n",
      "fin.close()\n",
      "\n"
     ],
     "language": "python",
     "metadata": {},
     "outputs": [],
     "prompt_number": 2
    },
    {
     "cell_type": "code",
     "collapsed": false,
     "input": [
      "features_train = np.array(features_all[\"train\"][0][\"features\"])\n",
      "features_val = np.array(features_all[\"val\"][0][0][\"features\"])\n",
      "features_test = np.array(features_all[\"test\"][0][\"features\"])\n",
      "print(\"features_train.shape: \" + str(features_train.shape))\n",
      "labels_train = features_all[\"train\"][1]\n",
      "labels_val = features_all[\"val\"][0][1]\n",
      "labels_test = features_all[\"test\"][1]\n"
     ],
     "language": "python",
     "metadata": {},
     "outputs": [
      {
       "output_type": "stream",
       "stream": "stdout",
       "text": [
        "features_train.shape: (633, 675)\n"
       ]
      }
     ],
     "prompt_number": 3
    },
    {
     "cell_type": "code",
     "collapsed": false,
     "input": [
      "import supervised_learning\n",
      "grid, grid_rfc, grid_lm = supervised_learning.run_supervised(features_all)"
     ],
     "language": "python",
     "metadata": {},
     "outputs": [
      {
       "output_type": "stream",
       "stream": "stdout",
       "text": [
        "features_train.shape: (633, 675)\n",
        "Fitting 3 folds for each of 9 candidates, totalling 27 fits\n"
       ]
      },
      {
       "output_type": "stream",
       "stream": "stderr",
       "text": [
        "[Parallel(n_jobs=10)]: Done   1 jobs       | elapsed:    0.1s\n",
        "[Parallel(n_jobs=10)]: Done   2 jobs       | elapsed:    0.1s\n",
        "[Parallel(n_jobs=10)]: Done   5 jobs       | elapsed:    0.2s\n",
        "[Parallel(n_jobs=10)]: Done   8 jobs       | elapsed:    0.2s\n",
        "[Parallel(n_jobs=10)]: Done   9 out of  27 | elapsed:    0.3s remaining:    0.5s\n",
        "[Parallel(n_jobs=10)]: Done  12 out of  27 | elapsed:    0.3s remaining:    0.4s\n",
        "[Parallel(n_jobs=10)]: Done  15 out of  27 | elapsed:    0.4s remaining:    0.3s\n",
        "[Parallel(n_jobs=10)]: Done  18 out of  27 | elapsed:    0.4s remaining:    0.2s\n",
        "[Parallel(n_jobs=10)]: Done  21 out of  27 | elapsed:    0.5s remaining:    0.1s\n",
        "[Parallel(n_jobs=10)]: Done  24 out of  27 | elapsed:    0.6s remaining:    0.1s\n",
        "[Parallel(n_jobs=10)]: Done  27 out of  27 | elapsed:    0.7s finished\n"
       ]
      },
      {
       "output_type": "stream",
       "stream": "stdout",
       "text": [
        "Best results for the K Nearest Neighbour run:\n",
        "Best parameter: {'n_neighbors': 5}\n",
        "Training accuracy: 0.865718799368[CV] n_neighbors=1 ...................................................\n",
        "[CV] n_neighbors=1 ...................................................\n",
        "[CV] n_neighbors=1 ...................................................\n",
        "[CV] n_neighbors=3 ...................................................\n",
        "[CV] n_neighbors=3 ...................................................\n",
        "[CV] n_neighbors=3 ...................................................\n",
        "[CV] n_neighbors=5 ...................................................\n",
        "[CV] n_neighbors=5 ...................................................\n",
        "[CV] n_neighbors=5 ...................................................\n",
        "[CV] n_neighbors=10 ..................................................\n",
        "[CV] .......................... n_neighbors=1, score=0.483721 -   0.0s\n",
        "[CV] .......................... n_neighbors=1, score=0.589623 -   0.0s\n",
        "[CV] .......................... n_neighbors=1, score=0.485437 -   0.0s\n",
        "[CV] .......................... n_neighbors=3, score=0.474419 -   0.1s[CV] .......................... n_neighbors=3, score=0.641509 -   0.1s[CV] .......................... n_neighbors=3, score=0.490291 -   0.1s[CV] .......................... n_neighbors=5, score=0.479070 -   0.1s[CV] .......................... n_neighbors=5, score=0.632075 -   0.1s[CV] .......................... n_neighbors=5, score=0.543689 -   0.0s\n",
        "[CV] ......................... n_neighbors=10, score=0.432558 -   0.1s[CV] n_neighbors=10 ..................................................[CV] n_neighbors=10 ..................................................[CV] n_neighbors=15 ..................................................\n",
        "\n",
        "\n",
        "\n",
        "\n",
        "[CV] n_neighbors=25 ..................................................\n",
        "\n",
        "\n",
        "\n",
        "[CV] n_neighbors=15 ..................................................[CV] n_neighbors=15 ..................................................[CV] n_neighbors=20 ..................................................[CV] n_neighbors=20 ..................................................[CV] n_neighbors=20 ..................................................\n",
        "[CV] n_neighbors=25 ..................................................[CV] ......................... n_neighbors=10, score=0.632075 -   0.0s\n",
        "[CV] ......................... n_neighbors=10, score=0.504854 -   0.1s[CV] ......................... n_neighbors=15, score=0.432558 -   0.1s\n",
        "\n",
        "\n",
        "\n",
        "\n",
        "[CV] ......................... n_neighbors=25, score=0.372093 -   0.0s\n",
        "\n",
        "[CV] n_neighbors=25 ..................................................\n",
        "\n",
        "[CV] ......................... n_neighbors=15, score=0.561321 -   0.1s[CV] ......................... n_neighbors=15, score=0.461165 -   0.1s[CV] ......................... n_neighbors=20, score=0.400000 -   0.0s\n",
        "[CV] ......................... n_neighbors=20, score=0.514151 -   0.0s\n",
        "[CV] ......................... n_neighbors=20, score=0.446602 -   0.0s\n",
        "[CV] ......................... n_neighbors=25, score=0.518868 -   0.1s\n",
        "[CV] n_neighbors=30 ..................................................[CV] n_neighbors=30 ..................................................\n",
        "\n",
        "[CV] n_neighbors=50 ..................................................[CV] n_neighbors=50 ..................................................\n",
        "[CV] ......................... n_neighbors=25, score=0.480583 -   0.1s\n",
        "\n",
        "[CV] n_neighbors=30 ..................................................[CV] n_neighbors=50 ..................................................\n",
        "\n",
        "\n",
        "[CV] ......................... n_neighbors=30, score=0.367442 -   0.1s[CV] ......................... n_neighbors=30, score=0.542453 -   0.1s\n",
        "\n",
        "[CV] ......................... n_neighbors=50, score=0.448113 -   0.0s\n",
        "[CV] ......................... n_neighbors=50, score=0.402913 -   0.0s\n",
        "\n",
        "\n",
        "[CV] ......................... n_neighbors=30, score=0.441748 -   0.1s[CV] ......................... n_neighbors=50, score=0.404651 -   0.1s\n",
        "\n"
       ]
      },
      {
       "output_type": "stream",
       "stream": "stdout",
       "text": [
        "\n",
        "Validation accuracy: 0.44578313253\n",
        "Fitting 3 folds for each of 18 candidates, totalling 54 fits\n"
       ]
      },
      {
       "output_type": "stream",
       "stream": "stderr",
       "text": [
        "[Parallel(n_jobs=10)]: Done   1 jobs       | elapsed:    4.6s\n",
        "[Parallel(n_jobs=10)]: Done   2 jobs       | elapsed:    4.9s\n",
        "[Parallel(n_jobs=10)]: Done   5 jobs       | elapsed:    5.4s\n",
        "[Parallel(n_jobs=10)]: Done   8 jobs       | elapsed:    5.4s\n",
        "[Parallel(n_jobs=10)]: Done  13 jobs       | elapsed:   10.0s\n",
        "[Parallel(n_jobs=10)]: Done  18 jobs       | elapsed:   10.7s\n",
        "[Parallel(n_jobs=10)]: Done  25 jobs       | elapsed:   15.2s\n",
        "[Parallel(n_jobs=10)]: Done  32 jobs       | elapsed:   19.7s\n",
        "[Parallel(n_jobs=10)]: Done  36 out of  54 | elapsed:   20.4s remaining:   10.2s\n",
        "[Parallel(n_jobs=10)]: Done  42 out of  54 | elapsed:   25.7s remaining:    7.3s\n",
        "[Parallel(n_jobs=10)]: Done  48 out of  54 | elapsed:   26.3s remaining:    3.3s\n",
        "[Parallel(n_jobs=10)]: Done  54 out of  54 | elapsed:   28.4s finished\n"
       ]
      },
      {
       "output_type": "stream",
       "stream": "stdout",
       "text": [
        "Best results for the Random Forest run:\n",
        "Best parameter: {'max_depth': 40}\n",
        "Training accuracy: 1.0[CV] max_depth=7 .....................................................\n",
        "[CV] max_depth=7 .....................................................\n",
        "[CV] max_depth=7 .....................................................\n",
        "[CV] max_depth=10 ....................................................\n",
        "[CV] max_depth=10 ....................................................\n",
        "[CV] max_depth=10 ....................................................\n",
        "[CV] max_depth=12 ....................................................\n",
        "[CV] max_depth=12 ....................................................\n",
        "[CV] max_depth=12 ....................................................\n",
        "[CV] max_depth=15 ....................................................\n",
        "[CV] ............................ max_depth=7, score=0.776744 -   4.5s[CV] ............................ max_depth=7, score=0.853774 -   4.8s[CV] ............................ max_depth=7, score=0.781553 -   4.9s[CV] ........................... max_depth=10, score=0.758140 -   5.0s[CV] ........................... max_depth=10, score=0.863208 -   5.2s[CV] ........................... max_depth=10, score=0.800971 -   5.3s[CV] ........................... max_depth=12, score=0.762791 -   5.0s[CV] ........................... max_depth=12, score=0.853774 -   5.1s[CV] ........................... max_depth=12, score=0.805825 -   5.3s[CV] ........................... max_depth=15, score=0.762791 -   4.8s\n",
        "\n",
        "\n",
        "\n",
        "\n",
        "\n",
        "\n",
        "\n",
        "\n",
        "\n",
        "[CV] max_depth=15 ....................................................\n",
        "[CV] max_depth=15 ....................................................\n",
        "[CV] max_depth=17 ....................................................\n",
        "[CV] max_depth=17 ....................................................\n",
        "[CV] max_depth=18 ....................................................\n",
        "[CV] max_depth=19 ....................................................\n",
        "[CV] max_depth=17 ....................................................\n",
        "[CV] max_depth=18 ....................................................\n",
        "[CV] max_depth=19 ....................................................\n",
        "[CV] max_depth=18 ....................................................\n",
        "[CV] ........................... max_depth=15, score=0.853774 -   5.2s[CV] ........................... max_depth=15, score=0.800971 -   5.3s[CV] ........................... max_depth=17, score=0.758140 -   5.0s[CV] ........................... max_depth=17, score=0.853774 -   5.0s[CV] ........................... max_depth=18, score=0.853774 -   5.0s[CV] ........................... max_depth=19, score=0.758140 -   5.0s[CV] ........................... max_depth=17, score=0.800971 -   5.2s[CV] ........................... max_depth=18, score=0.800971 -   5.2s[CV] ........................... max_depth=19, score=0.853774 -   5.1s[CV] ........................... max_depth=18, score=0.758140 -   5.0s\n",
        "\n",
        "\n",
        "\n",
        "\n",
        "\n",
        "\n",
        "\n",
        "\n",
        "\n",
        "[CV] max_depth=19 ....................................................\n",
        "[CV] max_depth=20 ....................................................\n",
        "[CV] max_depth=20 ....................................................\n",
        "[CV] max_depth=20 ....................................................\n",
        "[CV] max_depth=21 ....................................................\n",
        "[CV] max_depth=22 ....................................................\n",
        "[CV] max_depth=21 ....................................................\n",
        "[CV] max_depth=22 ....................................................\n",
        "[CV] max_depth=22 ....................................................\n",
        "[CV] max_depth=21 ....................................................\n",
        "[CV] ........................... max_depth=19, score=0.796117 -   5.1s[CV] ........................... max_depth=20, score=0.796117 -   5.1s[CV] ........................... max_depth=20, score=0.758140 -   4.9s[CV] ........................... max_depth=20, score=0.849057 -   4.9s[CV] ........................... max_depth=21, score=0.849057 -   4.9s[CV] ........................... max_depth=22, score=0.758140 -   4.8s[CV] ........................... max_depth=21, score=0.796117 -   5.0s[CV] ........................... max_depth=22, score=0.849057 -   4.8s[CV] ........................... max_depth=22, score=0.796117 -   5.0s[CV] ........................... max_depth=21, score=0.758140 -   4.9s\n",
        "\n",
        "\n",
        "\n",
        "\n",
        "\n",
        "\n",
        "\n",
        "\n",
        "\n",
        "[CV] max_depth=23 ....................................................\n",
        "[CV] max_depth=25 ....................................................\n",
        "[CV] max_depth=23 ....................................................\n",
        "[CV] max_depth=23 ....................................................\n",
        "[CV] max_depth=25 ....................................................\n",
        "[CV] max_depth=30 ....................................................\n",
        "[CV] max_depth=30 ....................................................\n",
        "[CV] max_depth=30 ....................................................\n",
        "[CV] max_depth=40 ....................................................\n",
        "[CV] max_depth=25 ....................................................\n",
        "[CV] ........................... max_depth=23, score=0.762791 -   4.7s[CV] ........................... max_depth=25, score=0.796117 -   5.0s[CV] ........................... max_depth=23, score=0.858491 -   4.7s[CV] ........................... max_depth=23, score=0.796117 -   4.9s[CV] ........................... max_depth=25, score=0.858491 -   4.8s[CV] ........................... max_depth=30, score=0.762791 -   4.7s[CV] ........................... max_depth=30, score=0.796117 -   5.1s[CV] ........................... max_depth=30, score=0.858491 -   4.7s[CV] ........................... max_depth=40, score=0.762791 -   4.8s[CV] ........................... max_depth=25, score=0.762791 -   4.7s\n",
        "\n",
        "\n",
        "\n",
        "\n",
        "\n",
        "\n",
        "\n",
        "\n",
        "\n",
        "[CV] max_depth=40 ....................................................\n",
        "[CV] max_depth=100 ...................................................\n",
        "[CV] max_depth=40 ....................................................\n",
        "[CV] max_depth=50 ....................................................\n",
        "[CV] max_depth=50 ....................................................\n",
        "[CV] max_depth=100 ...................................................\n",
        "[CV] max_depth=200 ...................................................\n",
        "[CV] max_depth=100 ...................................................\n",
        "[CV] max_depth=200 ...................................................\n",
        "[CV] max_depth=50 ....................................................\n",
        "[CV] ........................... max_depth=40, score=0.863208 -   5.7s[CV] .......................... max_depth=100, score=0.805825 -   5.9s[CV] ........................... max_depth=40, score=0.805825 -   6.0s[CV] ........................... max_depth=50, score=0.805825 -   6.0s[CV] ........................... max_depth=50, score=0.863208 -   5.8s[CV] .......................... max_depth=100, score=0.758140 -   5.7s[CV] .......................... max_depth=200, score=0.863208 -   5.5s[CV] .......................... max_depth=100, score=0.863208 -   5.8s[CV] .......................... max_depth=200, score=0.758140 -   5.7s[CV] ........................... max_depth=50, score=0.758140 -   5.8s\n",
        "\n",
        "\n",
        "\n",
        "\n",
        "\n",
        "\n",
        "\n",
        "\n",
        "\n",
        "[CV] max_depth=200 ...................................................\n",
        "[CV] max_depth=500 ...................................................\n",
        "[CV] max_depth=500 ...................................................\n",
        "[CV] max_depth=500 ...................................................\n",
        "[CV] .......................... max_depth=200, score=0.796117 -   3.0s[CV] .......................... max_depth=500, score=0.744186 -   2.6s[CV] .......................... max_depth=500, score=0.863208 -   2.5s[CV] .......................... max_depth=500, score=0.796117 -   2.5s\n",
        "\n",
        "\n",
        "\n"
       ]
      },
      {
       "output_type": "stream",
       "stream": "stdout",
       "text": [
        "\n",
        "Validation accuracy: 0.815261044177\n",
        "Fitting 3 folds for each of 6 candidates, totalling 18 fits\n"
       ]
      },
      {
       "output_type": "stream",
       "stream": "stderr",
       "text": [
        "[Parallel(n_jobs=10)]: Done   1 jobs       | elapsed:    1.7s\n",
        "[Parallel(n_jobs=10)]: Done   2 out of  18 | elapsed:    1.8s remaining:   14.2s\n",
        "[Parallel(n_jobs=10)]: Done   4 out of  18 | elapsed:    2.0s remaining:    7.0s\n",
        "[Parallel(n_jobs=10)]: Done   8 out of  18 | elapsed:    2.3s remaining:    2.9s\n",
        "[Parallel(n_jobs=10)]: Done  10 out of  18 | elapsed:    2.4s remaining:    1.9s\n",
        "[Parallel(n_jobs=10)]: Done   6 out of  18 | elapsed:    2.5s remaining:    5.0s\n",
        "[Parallel(n_jobs=10)]: Done  12 out of  18 | elapsed:    3.7s remaining:    1.8s\n",
        "[Parallel(n_jobs=10)]: Done  14 out of  18 | elapsed:    3.8s remaining:    1.1s\n",
        "[Parallel(n_jobs=10)]: Done  16 out of  18 | elapsed:    3.8s remaining:    0.5s\n",
        "[Parallel(n_jobs=10)]: Done  18 out of  18 | elapsed:    3.8s finished\n"
       ]
      },
      {
       "output_type": "stream",
       "stream": "stdout",
       "text": [
        "Best results for the Linear Model run:\n",
        "Best parameter: {'C': 0.01}\n",
        "Training accuracy: 0.322274881517\n",
        "Validation accuracy: 0.244979919679\n",
        "[CV] C=0.001 .........................................................\n",
        "[CV] C=0.001 .........................................................\n",
        "[CV] C=0.001 .........................................................\n",
        "[CV] C=0.01 ..........................................................\n",
        "[CV] C=0.01 ..........................................................\n",
        "[CV] C=0.01 ..........................................................\n",
        "[CV] C=0.1 ...........................................................\n",
        "[CV] C=0.1 ...........................................................\n",
        "[CV] C=0.1 ...........................................................\n",
        "[CV] C=1 .............................................................\n",
        "[CV] ................................ C=0.001, score=0.200000 -   1.7s[CV] ................................ C=0.001, score=0.231132 -   1.7s[CV] ................................ C=0.001, score=0.276699 -   2.0s[CV] ................................. C=0.01, score=0.200000 -   1.9s[CV] ................................. C=0.01, score=0.250000 -   2.0s[CV] ................................. C=0.01, score=0.296117 -   2.2s[CV] .................................. C=0.1, score=0.200000 -   1.9s[CV] .................................. C=0.1, score=0.250000 -   1.9s[CV] .................................. C=0.1, score=0.271845 -   2.1s[CV] .................................... C=1, score=0.200000 -   1.9s\n",
        "\n",
        "\n",
        "\n",
        "\n",
        "\n",
        "\n",
        "\n",
        "\n",
        "\n",
        "[CV] C=1 .............................................................\n",
        "[CV] C=1 .............................................................\n",
        "[CV] C=10 ............................................................\n",
        "[CV] C=10 ............................................................\n",
        "[CV] C=100 ...........................................................\n",
        "[CV] C=10 ............................................................\n",
        "[CV] C=100 ...........................................................\n",
        "[CV] C=100 ...........................................................\n",
        "[CV] .................................... C=1, score=0.250000 -   1.8s[CV] .................................... C=1, score=0.271845 -   1.9s[CV] ................................... C=10, score=0.250000 -   1.6s[CV] ................................... C=10, score=0.200000 -   1.7s[CV] .................................. C=100, score=0.200000 -   1.5s[CV] .................................. C=100, score=0.271845 -   1.5s[CV] ................................... C=10, score=0.271845 -   1.6s[CV] .................................. C=100, score=0.250000 -   1.5s\n",
        "\n",
        "\n",
        "\n",
        "\n",
        "\n",
        "\n",
        "\n"
       ]
      }
     ],
     "prompt_number": 4
    },
    {
     "cell_type": "code",
     "collapsed": false,
     "input": [
      "print(\"Best results for the K Nearest Neighbour run:\")\n",
      "print(\"Best parameter: \" + str(grid.best_params_))\n",
      "print(\"Training accuracy: \" + str(grid.score(features_train, labels_train)))\n",
      "print(\"Validation accuracy: \" + str(grid.score(features_val, labels_val)))\n",
      "\n",
      "print(\"Best results for the Random Forest run:\")\n",
      "print(\"Best parameter: \" + str(grid_rfc.best_params_))\n",
      "print(\"Training accuracy: \" + str(grid_rfc.score(features_train, labels_train)))\n",
      "print(\"Validation accuracy: \" + str(grid_rfc.score(features_val, labels_val)))\n",
      "\n",
      "print(\"Best results for the Linear Model run:\")\n",
      "print(\"Best parameter: \" + str(grid_lm.best_params_))\n",
      "print(\"Training accuracy: \" + str(grid_lm.score(features_train, labels_train)))\n",
      "print(\"Validation accuracy: \" + str(grid_lm.score(features_val, labels_val)))\n",
      "\n"
     ],
     "language": "python",
     "metadata": {},
     "outputs": [
      {
       "output_type": "stream",
       "stream": "stdout",
       "text": [
        "Best results for the K Nearest Neighbour run:\n",
        "Best parameter: {'n_neighbors': 5}\n",
        "Training accuracy: 0.865718799368"
       ]
      },
      {
       "output_type": "stream",
       "stream": "stdout",
       "text": [
        "\n",
        "Validation accuracy: 0.44578313253\n",
        "Best results for the Random Forest run:\n",
        "Best parameter: {'max_depth': 40}\n",
        "Training accuracy: 1.0"
       ]
      },
      {
       "output_type": "stream",
       "stream": "stdout",
       "text": [
        "\n",
        "Validation accuracy: 0.815261044177\n",
        "Best results for the Linear Model run:\n",
        "Best parameter: {'C': 0.01}\n",
        "Training accuracy: 0.322274881517"
       ]
      },
      {
       "output_type": "stream",
       "stream": "stdout",
       "text": [
        "\n",
        "Validation accuracy: 0.244979919679\n"
       ]
      }
     ],
     "prompt_number": 5
    },
    {
     "cell_type": "code",
     "collapsed": false,
     "input": [
      "features_test.shape"
     ],
     "language": "python",
     "metadata": {},
     "outputs": [
      {
       "metadata": {},
       "output_type": "pyout",
       "prompt_number": 7,
       "text": [
        "(238, 281)"
       ]
      }
     ],
     "prompt_number": 7
    },
    {
     "cell_type": "markdown",
     "metadata": {},
     "source": [
      "According to some tests, the 1024s segments with the full PSD work best, paired with the Random Forest Classifier. Let's run this again:"
     ]
    },
    {
     "cell_type": "code",
     "collapsed": false,
     "input": [
      "f = '../grs1915_512_hrfull_features.dat'\n",
      "fin =  open(f, 'r')\n",
      "features_all = pickle.load(fin)\n",
      "fin.close()\n",
      "\n",
      "features_train = np.array(features_all[\"train\"][0][\"features\"])\n",
      "features_val = np.array(features_all[\"val\"][0][0][\"features\"])\n",
      "features_test = np.array(features_all[\"test\"][0][\"features\"])\n",
      "print(\"features_train.shape: \" + str(features_train.shape))\n",
      "labels_train = features_all[\"train\"][1]\n",
      "labels_val = features_all[\"val\"][0][1]\n",
      "labels_test = features_all[\"test\"][1]\n"
     ],
     "language": "python",
     "metadata": {},
     "outputs": []
    },
    {
     "cell_type": "code",
     "collapsed": false,
     "input": [
      "from sklearn import cross_validation\n",
      "from sklearn.preprocessing import StandardScaler\n",
      "\n",
      "from sklearn.neighbors import KNeighborsClassifier\n",
      "from sklearn.grid_search import GridSearchCV\n",
      "\n",
      "\n",
      "from sklearn.ensemble import RandomForestClassifier\n",
      "\n",
      "from sklearn import linear_model\n",
      "from sklearn.svm import LinearSVC\n",
      "\n",
      "lc_train = features_all[\"train\"][0][\"lc\"]\n",
      "lc_val = features_all[\"val\"][0][0][\"lc\"]\n",
      "lc_test = features_all[\"test\"][0][\"lc\"]\n",
      "\n",
      "hr_train = features_all[\"train\"][0][\"hr\"]\n",
      "hr_val = features_all[\"val\"][0][0][\"hr\"]\n",
      "hr_test = features_all[\"test\"][0][\"hr\"]\n",
      "\n",
      "scaler_train = StandardScaler().fit(features_train)\n",
      "fscaled_train = scaler_train.transform(features_train)\n",
      "\n",
      "scaler_val = StandardScaler().fit(features_val)\n",
      "fscaled_val = scaler_val.transform(features_val)\n",
      "\n",
      "params = {'max_depth': [7, 10,12, 15,17, 18, 19, 20, 21, 22, 23, 25,30,40, 50, 100, 200, 500]}#,\n",
      "         # 'max_features':[2,3,4,5,6,7,8,10,50,150,200,250,300]}\n",
      "grid_rfc = GridSearchCV(RandomForestClassifier(n_estimators=500), param_grid=params,\n",
      "                        verbose=10, n_jobs=10)\n",
      "grid_rfc.fit(features_train, labels_train)\n",
      "\n",
      "print(\"Best results for the Random Forest run:\")\n",
      "print(\"Best parameter: \" + str(grid_rfc.best_params_))\n",
      "print(\"Training accuracy: \" + str(grid_rfc.score(features_train, labels_train)))\n",
      "print(\"Validation accuracy: \" + str(grid_rfc.score(features_val, labels_val)))\n"
     ],
     "language": "python",
     "metadata": {},
     "outputs": [
      {
       "output_type": "stream",
       "stream": "stdout",
       "text": [
        "Fitting 3 folds for each of 18 candidates, totalling 54 fits\n"
       ]
      },
      {
       "output_type": "stream",
       "stream": "stderr",
       "text": [
        "[Parallel(n_jobs=10)]: Done   1 jobs       | elapsed:   10.3s\n",
        "[Parallel(n_jobs=10)]: Done   2 jobs       | elapsed:   10.5s\n",
        "[Parallel(n_jobs=10)]: Done   5 jobs       | elapsed:   11.6s\n",
        "[Parallel(n_jobs=10)]: Done   8 jobs       | elapsed:   11.8s\n",
        "[Parallel(n_jobs=10)]: Done  13 jobs       | elapsed:   22.0s\n",
        "[Parallel(n_jobs=10)]: Done  18 jobs       | elapsed:   23.5s\n",
        "[Parallel(n_jobs=10)]: Done  25 jobs       | elapsed:   34.7s\n",
        "[Parallel(n_jobs=10)]: Done  32 jobs       | elapsed:   46.1s\n",
        "[Parallel(n_jobs=10)]: Done  36 out of  54 | elapsed:   47.7s remaining:   23.9s\n",
        "[Parallel(n_jobs=10)]: Done  42 out of  54 | elapsed:   58.6s remaining:   16.8s\n",
        "[Parallel(n_jobs=10)]: Done  48 out of  54 | elapsed:  1.0min remaining:    7.5s\n",
        "[Parallel(n_jobs=10)]: Done  54 out of  54 | elapsed:  1.1min finished\n"
       ]
      },
      {
       "output_type": "stream",
       "stream": "stdout",
       "text": [
        "Best results for the Random Forest run:\n",
        "Best parameter: {'max_depth': 17}\n",
        "Training accuracy: 1.0[CV] max_depth=7 .....................................................\n",
        "[CV] max_depth=7 .....................................................\n",
        "[CV] max_depth=7 .....................................................\n",
        "[CV] max_depth=10 ....................................................\n",
        "[CV] max_depth=10 ....................................................\n",
        "[CV] max_depth=10 ....................................................\n",
        "[CV] max_depth=12 ....................................................\n",
        "[CV] max_depth=12 ....................................................\n",
        "[CV] max_depth=12 ....................................................\n",
        "[CV] max_depth=15 ....................................................\n",
        "[CV] ............................ max_depth=7, score=0.885714 -  10.3s[CV] ............................ max_depth=7, score=0.776493 -  10.5s[CV] ............................ max_depth=7, score=0.794574 -  10.5s[CV] ........................... max_depth=10, score=0.891429 -  11.5s[CV] ........................... max_depth=10, score=0.788054 -  11.5s[CV] ........................... max_depth=10, score=0.825581 -  11.8s[CV] ........................... max_depth=12, score=0.878095 -  11.5s[CV] ........................... max_depth=12, score=0.786127 -  11.6s[CV] ........................... max_depth=12, score=0.823643 -  12.0s[CV] ........................... max_depth=15, score=0.885714 -  11.5s\n",
        "\n",
        "\n",
        "\n",
        "\n",
        "\n",
        "\n",
        "\n",
        "\n",
        "\n",
        "[CV] max_depth=15 ....................................................\n",
        "[CV] max_depth=15 ....................................................\n",
        "[CV] max_depth=17 ....................................................\n",
        "[CV] max_depth=17 ....................................................\n",
        "[CV] max_depth=17 ....................................................\n",
        "[CV] max_depth=19 ....................................................\n",
        "[CV] max_depth=18 ....................................................\n",
        "[CV] max_depth=18 ....................................................\n",
        "[CV] max_depth=19 ....................................................\n",
        "[CV] max_depth=18 ....................................................\n",
        "[CV] ........................... max_depth=15, score=0.797688 -  11.6s[CV] ........................... max_depth=15, score=0.827519 -  11.9s[CV] ........................... max_depth=17, score=0.910476 -  11.4s[CV] ........................... max_depth=17, score=0.797688 -  11.4s[CV] ........................... max_depth=17, score=0.825581 -  11.7s[CV] ........................... max_depth=19, score=0.910476 -  11.2s[CV] ........................... max_depth=18, score=0.910476 -  11.3s[CV] ........................... max_depth=18, score=0.825581 -  11.7s[CV] ........................... max_depth=19, score=0.797688 -  11.3s[CV] ........................... max_depth=18, score=0.797688 -  11.4s\n",
        "\n",
        "\n",
        "\n",
        "\n",
        "\n",
        "\n",
        "\n",
        "\n",
        "\n",
        "[CV] max_depth=19 ....................................................\n",
        "[CV] max_depth=20 ....................................................\n",
        "[CV] max_depth=20 ....................................................\n",
        "[CV] max_depth=20 ....................................................\n",
        "[CV] max_depth=22 ....................................................\n",
        "[CV] max_depth=21 ....................................................\n",
        "[CV] max_depth=21 ....................................................\n",
        "[CV] max_depth=22 ....................................................\n",
        "[CV] max_depth=22 ....................................................\n",
        "[CV] max_depth=21 ....................................................\n",
        "[CV] ........................... max_depth=19, score=0.813953 -  12.0s[CV] ........................... max_depth=20, score=0.801541 -  11.7s[CV] ........................... max_depth=20, score=0.893333 -  11.6s[CV] ........................... max_depth=20, score=0.813953 -  12.2s[CV] ........................... max_depth=22, score=0.893333 -  11.7s[CV] ........................... max_depth=21, score=0.813953 -  12.2s[CV] ........................... max_depth=21, score=0.893333 -  11.7s[CV] ........................... max_depth=22, score=0.801541 -  11.8s[CV] ........................... max_depth=22, score=0.813953 -  12.3s[CV] ........................... max_depth=21, score=0.801541 -  11.8s\n",
        "\n",
        "\n",
        "\n",
        "\n",
        "\n",
        "\n",
        "\n",
        "\n",
        "\n",
        "[CV] max_depth=23 ....................................................\n",
        "[CV] max_depth=23 ....................................................\n",
        "[CV] max_depth=23 ....................................................\n",
        "[CV] max_depth=30 ....................................................\n",
        "[CV] max_depth=25 ....................................................\n",
        "[CV] max_depth=30 ....................................................\n",
        "[CV] max_depth=25 ....................................................\n",
        "[CV] max_depth=30 ....................................................\n",
        "[CV] max_depth=40 ....................................................\n",
        "[CV] max_depth=25 ....................................................\n",
        "[CV] ........................... max_depth=23, score=0.789981 -  12.1s[CV] ........................... max_depth=23, score=0.823643 -  12.5s[CV] ........................... max_depth=23, score=0.880000 -  12.1s[CV] ........................... max_depth=30, score=0.880000 -  12.1s[CV] ........................... max_depth=25, score=0.823643 -  12.7s[CV] ........................... max_depth=30, score=0.789981 -  12.2s[CV] ........................... max_depth=25, score=0.880000 -  12.1s[CV] ........................... max_depth=30, score=0.823643 -  12.5s[CV] ........................... max_depth=40, score=0.880000 -  12.1s[CV] ........................... max_depth=25, score=0.789981 -  12.1s\n",
        "\n",
        "\n",
        "\n",
        "\n",
        "\n",
        "\n",
        "\n",
        "\n",
        "\n",
        "[CV] max_depth=40 ....................................................\n",
        "[CV] max_depth=50 ....................................................\n",
        "[CV] max_depth=40 ....................................................\n",
        "[CV] max_depth=100 ...................................................\n",
        "[CV] max_depth=100 ...................................................\n",
        "[CV] max_depth=100 ...................................................\n",
        "[CV] max_depth=50 ....................................................\n",
        "[CV] max_depth=200 ...................................................\n",
        "[CV] max_depth=200 ...................................................\n",
        "[CV] max_depth=50 ....................................................\n",
        "[CV] ........................... max_depth=40, score=0.839147 -  12.5s[CV] ........................... max_depth=50, score=0.862857 -  12.0s[CV] ........................... max_depth=40, score=0.795761 -  12.1s[CV] .......................... max_depth=100, score=0.862857 -  12.1s[CV] .......................... max_depth=100, score=0.839147 -  12.3s[CV] .......................... max_depth=100, score=0.795761 -  12.1s[CV] ........................... max_depth=50, score=0.795761 -  12.1s[CV] .......................... max_depth=200, score=0.862857 -  11.9s[CV] .......................... max_depth=200, score=0.795761 -  11.9s[CV] ........................... max_depth=50, score=0.839147 -  12.5s\n",
        "\n",
        "\n",
        "\n",
        "\n",
        "\n",
        "\n",
        "\n",
        "\n",
        "\n",
        "[CV] max_depth=500 ...................................................\n",
        "[CV] max_depth=500 ...................................................\n",
        "[CV] max_depth=200 ...................................................\n",
        "[CV] max_depth=500 ...................................................\n",
        "[CV] .......................... max_depth=500, score=0.868571 -   5.8s[CV] .......................... max_depth=500, score=0.799615 -   5.8s[CV] .......................... max_depth=200, score=0.821705 -   6.5s[CV] .......................... max_depth=500, score=0.821705 -   5.7s\n",
        "\n",
        "\n",
        "\n"
       ]
      },
      {
       "output_type": "stream",
       "stream": "stdout",
       "text": [
        "\n",
        "Validation accuracy: 0.905084745763"
       ]
      },
      {
       "output_type": "stream",
       "stream": "stdout",
       "text": [
        "\n"
       ]
      }
     ],
     "prompt_number": 11
    },
    {
     "cell_type": "code",
     "collapsed": false,
     "input": [
      "print(\"Test accuracy: \" + str(grid_rfc.score(features_test, labels_test)))"
     ],
     "language": "python",
     "metadata": {},
     "outputs": [
      {
       "output_type": "stream",
       "stream": "stdout",
       "text": [
        "Test accuracy: 0.858921161826\n"
       ]
      }
     ],
     "prompt_number": 13
    },
    {
     "cell_type": "code",
     "collapsed": false,
     "input": [
      "from sklearn.metrics import confusion_matrix\n",
      "import matplotlib.cm as cmap\n",
      "\n",
      "fig = plt.figure(figsize=(15,8))\n",
      "labels_rfc = grid_rfc.predict(features_val)\n",
      "sns.set_style(\"white\") \n",
      "unique_labels = np.unique(labels_val);\n",
      "cm_val = confusion_matrix(labels_val, labels_rfc, labels=unique_labels);\n",
      "#print(cm)\n",
      "#print(unique_labels)\n",
      "ax = fig.add_subplot(121)\n",
      "ax.matshow(cm_val, cmap=cmap.Spectral_r );\n",
      "ax.set_title('Confusion matrix, validation set')\n",
      "#plt.colorbar()\n",
      "ax.set_ylabel('True label')\n",
      "ax.set_xlabel('Predicted label')\n",
      "plt.xticks(range(len(unique_labels)), unique_labels, rotation=70);\n",
      "plt.yticks(range(len(unique_labels)), unique_labels);\n",
      "#plt.show()\n",
      "#print(cm)\n",
      "\n",
      "labels_rfc = grid_rfc.predict(features_test)\n",
      "sns.set_style(\"white\") \n",
      "unique_labels = np.unique(labels_val);\n",
      "cm_test = confusion_matrix(labels_test, labels_rfc, labels=unique_labels);\n",
      "#print(cm)\n",
      "#print(unique_labels)\n",
      "ax2=fig.add_subplot(122)\n",
      "ax2.matshow(cm_test, cmap=cmap.Spectral_r);\n",
      "ax2.set_title('Confusion matrix, test set')\n",
      "#plt.colorbar()\n",
      "ax2.set_ylabel('True label')\n",
      "ax2.set_xlabel('Predicted label')\n",
      "plt.xticks(range(len(unique_labels)), unique_labels, rotation=70);\n",
      "plt.yticks(range(len(unique_labels)), unique_labels);\n",
      "#plt.show()\n",
      "#print(cm)\n",
      "print(cm_val)\n",
      "print(cm_test)"
     ],
     "language": "python",
     "metadata": {},
     "outputs": [
      {
       "output_type": "stream",
       "stream": "stdout",
       "text": [
        "[[31  1  0  3  0  0  0  0  0  0  0  0  0  0  0]\n",
        " [ 0 38  0  0  0  0  0  0  0  0  1  0  0  2  3]\n",
        " [ 0  0 84  0  0  1  0  0  0  0  0  0  0  0  0]\n",
        " [14  0  0 86  0  0  0  0  0  0  0  0  0  0  0]\n",
        " [ 0  0  0  0 19  0  0  0  0  0  0  0  0  0  0]\n",
        " [ 8  0  0  6  0 37  0  0  0  0  0  0  0  0  0]\n",
        " [ 0  3  0  0  0  0 27  0  0  0  0  0  0  0  0]\n",
        " [ 0  0  0  0  0  0  0 22  0  0  0  0  0  0  0]\n",
        " [ 0  0  0  0  0  0  0  0 24  0  0  0  0  0  0]\n",
        " [ 0  0  0  0  0  0  0  0  0 23  2  0  0  0  0]\n",
        " [ 0  3  0  0  0  0  0  0  0  0 12  0  0  0  0]\n",
        " [ 0  0  0  0  0  2  2  0  0  0  0 10  0  0  0]\n",
        " [ 0  0  0  0  0  0  0  0  0  0  0  0 40  0  0]\n",
        " [ 0  0  0  0  0  0  0  0  0  0  0  4  0 29  0]\n",
        " [ 0  1  0  0  0  0  0  0  0  0  0  0  0  0 52]]\n",
        "[[ 31   0   0   1   0   0   0   0   0   0   0   0   0   0   0]\n",
        " [  0  39   0   0   0   0   0   0   0   0   1   0   0   0   0]\n",
        " [  0   0  41   0   0   6   0   0   0   0   0   0   0   0   0]\n",
        " [  0   0   0 125   0   0   0   0   0   0   0   0   0   0   0]\n",
        " [  0   0   0   0  53   0   0   0   0   0   0   0   0   0   0]\n",
        " [  3   0   0   0   0  36   0   0   0   0   0   0   0   0   0]\n",
        " [  0   0   0   0   0   0  45   0   0   0   0   0   6   0   0]\n",
        " [  0   0   0   0   0   0   0  39   0   0   0   0   0   0   0]\n",
        " [  0   0   0   0   0   0   0   0   0   0   0   0   0   0   0]\n",
        " [  0   3   0   0   0   0   0   0   0  14   2  10   0   0   0]\n",
        " [  0  28   0   0   0   0   0   0   0   0  33   0   0   0   0]\n",
        " [  0   1   0   0   0  12   0   0   0   0   0  21   0   0   0]\n",
        " [  0   0   0   0   0   0  27   0   0   0   0   0  75   0   0]\n",
        " [  0   0   0   0   0   0   0   0   0   0   0   0   0  37   2]\n",
        " [  0   0   0   0   0   0   0   0   0   0   0   0   0   0  32]]\n"
       ]
      },
      {
       "metadata": {},
       "output_type": "display_data",
       "png": "[encoded data removed]",
       "text": [
        "<matplotlib.figure.Figure at 0x1220f5990>"
       ]
      }
     ],
     "prompt_number": 32
    },
    {
     "cell_type": "markdown",
     "metadata": {},
     "source": [
      "In general, the matrix is very sparse. This is good, because it means that on the whole, we classify pretty well. However, there is a significant difference in the classification errors between the validation and the test set. \n",
      "For the validation set, the largest source of uncertainty is in the classification of $\\chi_2$ and $\\chi_4$, which are routinely mis-classified as $\\alpha$.\n",
      "\n",
      "In the test set, these mis-classifications are rare; instead, there are prominent mis-classifications of $\\mu$ (classified as $\\beta$), $\\nu$ (classified as $\\chi_4$) and $\\phi$ (misclassified as $\\delta$) light curves. Also, light curves of class $\\lambda$ are sometimes misclassified as class $\\nu$). It is not clear (to me) where this deviation comes from or what to do about it, really.\n",
      "\n",
      "For now, we'll plot the misclassified light curves in the validation and test sets with examples from both classes and compare the results.\n"
     ]
    },
    {
     "cell_type": "code",
     "collapsed": false,
     "input": [
      "import powerspectrum\n",
      "\n",
      "def plot_misclassifieds(features, trained_labels, real_labels, lc_all, hr_all,\n",
      "                        nexamples=6, namestr=\"misclassified\"):\n",
      "\n",
      "    \"\"\"\n",
      "    Find all mis-classified light curves and plot them with examples of the real and false classes.\n",
      "    \"\"\"\n",
      "    misclassifieds = []\n",
      "    for i,(f, lpredict, ltrue, lc, hr) in enumerate(zip(features, trained_labels, real_labels, lc_all, \\\n",
      "                                                hr_all)):\n",
      "        if lpredict == ltrue:\n",
      "            continue\n",
      "        else:\n",
      "            misclassifieds.append([f, lpredict, ltrue, lc, hr])\n",
      "\n",
      "    for j,m in enumerate(misclassifieds):\n",
      "        pos_human = np.random.choice([0,3], p=[0.5, 0.5])\n",
      "        pos_robot = int(3. - pos_human)\n",
      "\n",
      "        f = m[0]\n",
      "        lpredict = m[1]\n",
      "        ltrue = m[2]\n",
      "        times = m[3][0]\n",
      "        counts = m[3][1]\n",
      "        hr1 = m[4][0]\n",
      "        hr2 = m[4][1]\n",
      "        print(\"Predicted class is: \" + str(lpredict))\n",
      "        print(\"Human classified class is: \" + str(ltrue))\n",
      "        robot_all = [[lp, lt, lc, hr] for lp, lt, lc, hr in \\\n",
      "                     zip(real_labels, trained_labels, lc_all, hr_all)\\\n",
      "                     if lt == lpredict ]\n",
      "        human_all = [[lp, lt, lc, hr] for lp, lt, lc, hr in \\\n",
      "                     zip(real_labels, trained_labels, lc_all, hr_all)\\\n",
      "                     if lt == ltrue ]\n",
      "\n",
      "        np.random.shuffle(robot_all)\n",
      "        np.random.shuffle(human_all)\n",
      "        robot_all = robot_all[:6]\n",
      "        human_all = human_all[:6]\n",
      "\n",
      "        sns.set_style(\"darkgrid\")\n",
      "        current_palette = sns.color_palette()\n",
      "        fig = plt.figure(figsize=(10,15))\n",
      "\n",
      "        def plot_lcs(times, counts, hr1, hr2, xcoords, ycoords, colspan, rowspan):\n",
      "            #print(\"plotting in grid point \" + str((xcoords[0], ycoords[0])))\n",
      "            ax = plt.subplot2grid((9,6),(xcoords[0], ycoords[0]), colspan=colspan, rowspan=rowspan)\n",
      "            ax.plot(times, counts, lw=2, linestyle=\"steps-mid\", rasterized=True)\n",
      "            ax.set_xlim([times[0], times[-1]])\n",
      "            ax.set_ylim([0.0, 12000.0])\n",
      "            #print(\"plotting in grid point \" + str((xcoords[1], ycoords[1])))\n",
      "\n",
      "            ax = plt.subplot2grid((9,6),(xcoords[1], ycoords[1]), colspan=colspan, rowspan=rowspan)\n",
      "            ax.scatter(hr1, hr2, facecolor=current_palette[1], edgecolor=\"none\", rasterized=True)\n",
      "            ax.set_xlim([.27, 0.85])\n",
      "            ax.set_ylim([0.04, 0.7])\n",
      "\n",
      "            #print(\"plotting in grid point \" + str((xcoords[2], ycoords[2])))    \n",
      "            ax = plt.subplot2grid((9,6),(xcoords[2], ycoords[2]), colspan=colspan, rowspan=rowspan)\n",
      "            dt = np.min(np.diff(times))\n",
      "            ps = powerspectrum.PowerSpectrum(times, counts=counts/dt, norm=\"rms\")\n",
      "            ax.loglog(ps.freq[1:], ps.ps[1:], linestyle=\"steps-mid\", rasterized=True)\n",
      "            ax.set_xlim([ps.freq[1], ps.freq[-1]])\n",
      "            ax.set_ylim([1.e-6, 10.])\n",
      "\n",
      "            return\n",
      "\n",
      "        ## first plot misclassified:\n",
      "        plot_lcs(times, counts, hr1, hr2, [0,0,0], [0,2,4], 2, 2)\n",
      "\n",
      "        ## now plot examples\n",
      "        for i in range(4):\n",
      "            r = robot_all[i]\n",
      "            h = human_all[i]\n",
      "            #print(h[0])\n",
      "            #print(\"human indices: \" + str([ [i+3, i+3, i+3], [pos_human, pos_human+1, pos_human+2]]))\n",
      "            #print(\"robot indices: \" + str([[i+3, i+3, i+3], [pos_robot, pos_robot+1, pos_robot+2]]))\n",
      "            plot_lcs(h[2][0], h[2][1], h[3][0], h[3][1], [i+2, i+2, i+2], [pos_human, pos_human+1, pos_human+2], 1, 1)\n",
      "            plot_lcs(r[2][0], r[2][1], r[3][0], r[3][1], [i+2, i+2, i+2], [pos_robot, pos_robot+1, pos_robot+2], 1, 1)\n",
      "\n",
      "        ax = plt.subplot2grid((9,6),(8,pos_human+1))\n",
      "        ax.set_xlim([0,1])\n",
      "        ax.set_ylim([0,1])\n",
      "        ax.set_xlabel(\"Human: %s\"%ltrue, fontsize=20)\n",
      "        ax = plt.subplot2grid((9,6),(8,pos_robot+1))\n",
      "        ax.set_xlim([0,1])\n",
      "        ax.set_ylim([0,1])\n",
      "        ax.set_xlabel(\"Robot: %s\"%lpredict, fontsize=20)\n",
      "        plt.savefig(\"misclassified%i.pdf\"%j, format=\"pdf\")\n",
      "        plt.close()"
     ],
     "language": "python",
     "metadata": {},
     "outputs": []
    },
    {
     "cell_type": "code",
     "collapsed": false,
     "input": [],
     "language": "python",
     "metadata": {},
     "outputs": []
    }
   ],
   "metadata": {}
  }
 ]
}