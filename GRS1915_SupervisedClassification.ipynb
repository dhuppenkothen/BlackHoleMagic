{
 "metadata": {
  "name": "",
  "signature": "sha256:f7fc65ba32ae1c7664f4958f7f3177852751ce3d0d31727fee62a4d31cf1a8dc"
 },
 "nbformat": 3,
 "nbformat_minor": 0,
 "worksheets": [
  {
   "cells": [
    {
     "cell_type": "markdown",
     "metadata": {},
     "source": [
      "# Supervised Classification for GRS1915+105 Light curves\n",
      "\n",
      "In this notebook, we'll do some supervised classification on light curves of GRS 1915+105.\n",
      "Let's get started!\n",
      "\n",
      "First, we need some features. The details of feature extraction are explained in the accompanying notebook `GRS1915_Feature_Extraction.ipynb`. Here, we'll assume you've worked your way through that, and are ready to work with a feature vector you've made in there.\n",
      "\n",
      "Therefore, we'll just load said feature vector:"
     ]
    },
    {
     "cell_type": "code",
     "collapsed": false,
     "input": [
      "%matplotlib inline\n",
      "import matplotlib.pyplot as plt\n",
      "import seaborn as sns\n",
      "sns.set()\n",
      "\n",
      "import numpy as np\n",
      "import sklearn\n",
      "import cPickle as pickle"
     ],
     "language": "python",
     "metadata": {},
     "outputs": [],
     "prompt_number": 2
    },
    {
     "cell_type": "code",
     "collapsed": false,
     "input": [
      "f = open(\"grs1915_labelled_features_avgpsd_20bins.dat\", \"r\")\n",
      "feature_dict = pickle.load(f)\n",
      "f.close()\n"
     ],
     "language": "python",
     "metadata": {},
     "outputs": [],
     "prompt_number": 95
    },
    {
     "cell_type": "code",
     "collapsed": false,
     "input": [
      "features_train = feature_dict[\"train\"][0]\n",
      "features_val = feature_dict[\"val\"][0]\n",
      "features_test = feature_dict[\"test\"][0]\n",
      "\n",
      "labels_train = feature_dict[\"train\"][1]\n",
      "labels_val = feature_dict[\"val\"][1]\n",
      "labels_test = feature_dict[\"test\"][1]"
     ],
     "language": "python",
     "metadata": {},
     "outputs": [],
     "prompt_number": 96
    },
    {
     "cell_type": "markdown",
     "metadata": {},
     "source": [
      "Next, we're going to re-normalise our features such that they don't vastly differ in scale."
     ]
    },
    {
     "cell_type": "code",
     "collapsed": false,
     "input": [
      "from sklearn import cross_validation \n",
      "from sklearn.preprocessing import StandardScaler\n",
      "\n",
      "scaler_train = StandardScaler().fit(features_train)\n",
      "fscaled_train = scaler_train.transform(features_train)\n",
      "\n",
      "scaler_val = StandardScaler().fit(features_val)\n",
      "fscaled_val = scaler_val.transform(features_val)\n",
      "\n",
      "scaler_test = StandardScaler().fit(features_test)\n",
      "fscaled_test = scaler_test.transform(features_test)\n",
      "\n",
      "\n",
      "\n"
     ],
     "language": "python",
     "metadata": {},
     "outputs": [],
     "prompt_number": 97
    },
    {
     "cell_type": "markdown",
     "metadata": {},
     "source": [
      "Next, we're going to try the simplest algorithm we can: K-Nearest Neighbours.\n",
      "We're going to cross-validate across some parameters (check documentation)."
     ]
    },
    {
     "cell_type": "code",
     "collapsed": false,
     "input": [
      "from sklearn.neighbors import KNeighborsClassifier\n",
      "from sklearn.grid_search import GridSearchCV\n",
      "\n",
      "\n",
      "#knn = KNeighborsClassifier(n_neighbors=5)\n",
      "#knn.fit(features_train, labels_train) \n",
      "#print(knn.score(features_val, labels_val))\n",
      "\n",
      "params = {'n_neighbors': [1, 3, 5, 10, 15, 20, 25, 30, 50]}#, 'max_features': }\n",
      "grid = GridSearchCV(KNeighborsClassifier(), param_grid=params, verbose=10)\n",
      "grid.fit(features_train, labels_train)\n",
      "print(grid.best_params_)\n",
      "print(grid.score(features_train, labels_train))\n",
      "print(grid.score(features_val, labels_val))\n"
     ],
     "language": "python",
     "metadata": {},
     "outputs": [
      {
       "output_type": "stream",
       "stream": "stdout",
       "text": [
        "Fitting 3 folds for each of 9 candidates, totalling 27 fits\n",
        "[CV] n_neighbors=1 ...................................................\n",
        "[CV] .......................... n_neighbors=1, score=0.530755 -   0.9s"
       ]
      },
      {
       "output_type": "stream",
       "stream": "stdout",
       "text": [
        "\n",
        "[CV] n_neighbors=1 ...................................................\n",
        "[CV] .......................... n_neighbors=1, score=0.619351 -   0.9s"
       ]
      },
      {
       "output_type": "stream",
       "stream": "stderr",
       "text": [
        "[Parallel(n_jobs=1)]: Done   1 jobs       | elapsed:    0.9s\n",
        "[Parallel(n_jobs=1)]: Done   2 jobs       | elapsed:    1.8s\n"
       ]
      },
      {
       "output_type": "stream",
       "stream": "stdout",
       "text": [
        "\n",
        "[CV] n_neighbors=1 ...................................................\n",
        "[CV] .......................... n_neighbors=1, score=0.579284 -   0.9s"
       ]
      },
      {
       "output_type": "stream",
       "stream": "stdout",
       "text": [
        "\n",
        "[CV] n_neighbors=3 ...................................................\n",
        "[CV] .......................... n_neighbors=3, score=0.519341 -   1.2s"
       ]
      },
      {
       "output_type": "stream",
       "stream": "stdout",
       "text": [
        "\n",
        "[CV] n_neighbors=3 ...................................................\n",
        "[CV] .......................... n_neighbors=3, score=0.581158 -   1.4s"
       ]
      },
      {
       "output_type": "stream",
       "stream": "stdout",
       "text": [
        "\n",
        "[CV] n_neighbors=3 ...................................................\n",
        "[CV] .......................... n_neighbors=3, score=0.556266 -   0.9s"
       ]
      },
      {
       "output_type": "stream",
       "stream": "stdout",
       "text": [
        "\n",
        "[CV] n_neighbors=5 ...................................................\n",
        "[CV] .......................... n_neighbors=5, score=0.509829 -   0.9s"
       ]
      },
      {
       "output_type": "stream",
       "stream": "stdout",
       "text": [
        "\n",
        "[CV] n_neighbors=5 ...................................................\n",
        "[CV] .......................... n_neighbors=5, score=0.588160 -   0.9s"
       ]
      },
      {
       "output_type": "stream",
       "stream": "stderr",
       "text": [
        "[Parallel(n_jobs=1)]: Done   5 jobs       | elapsed:    5.3s\n",
        "[Parallel(n_jobs=1)]: Done   8 jobs       | elapsed:    8.1s\n"
       ]
      },
      {
       "output_type": "stream",
       "stream": "stdout",
       "text": [
        "\n",
        "[CV] n_neighbors=5 ...................................................\n",
        "[CV] .......................... n_neighbors=5, score=0.536445 -   0.9s"
       ]
      },
      {
       "output_type": "stream",
       "stream": "stdout",
       "text": [
        "\n",
        "[CV] n_neighbors=10 ..................................................\n",
        "[CV] ......................... n_neighbors=10, score=0.500317 -   1.0s"
       ]
      },
      {
       "output_type": "stream",
       "stream": "stdout",
       "text": [
        "\n",
        "[CV] n_neighbors=10 ..................................................\n",
        "[CV] ......................... n_neighbors=10, score=0.594526 -   1.0s"
       ]
      },
      {
       "output_type": "stream",
       "stream": "stdout",
       "text": [
        "\n",
        "[CV] n_neighbors=10 ..................................................\n",
        "[CV] ......................... n_neighbors=10, score=0.502558 -   1.0s"
       ]
      },
      {
       "output_type": "stream",
       "stream": "stdout",
       "text": [
        "\n",
        "[CV] n_neighbors=15 ..................................................\n",
        "[CV] ......................... n_neighbors=15, score=0.482562 -   1.0s"
       ]
      },
      {
       "output_type": "stream",
       "stream": "stdout",
       "text": [
        "\n",
        "[CV] n_neighbors=15 ..................................................\n",
        "[CV] ......................... n_neighbors=15, score=0.590707 -   1.0s"
       ]
      },
      {
       "output_type": "stream",
       "stream": "stdout",
       "text": [
        "\n",
        "[CV] n_neighbors=15 ..................................................\n",
        "[CV] ......................... n_neighbors=15, score=0.493606 -   1.0s"
       ]
      },
      {
       "output_type": "stream",
       "stream": "stdout",
       "text": [
        "\n",
        "[CV] n_neighbors=20 ..................................................\n",
        "[CV] ......................... n_neighbors=20, score=0.482562 -   1.0s"
       ]
      },
      {
       "output_type": "stream",
       "stream": "stdout",
       "text": [
        "\n",
        "[CV] n_neighbors=20 ..................................................\n",
        "[CV] ......................... n_neighbors=20, score=0.564609 -   1.0s"
       ]
      },
      {
       "output_type": "stream",
       "stream": "stdout",
       "text": [
        "\n",
        "[CV] n_neighbors=20 ..................................................\n",
        "[CV] ......................... n_neighbors=20, score=0.485294 -   1.0s"
       ]
      },
      {
       "output_type": "stream",
       "stream": "stderr",
       "text": [
        "[Parallel(n_jobs=1)]: Done  13 jobs       | elapsed:   13.1s\n",
        "[Parallel(n_jobs=1)]: Done  18 jobs       | elapsed:   18.2s\n"
       ]
      },
      {
       "output_type": "stream",
       "stream": "stdout",
       "text": [
        "\n",
        "[CV] n_neighbors=25 ..................................................\n",
        "[CV] ......................... n_neighbors=25, score=0.476221 -   1.1s"
       ]
      },
      {
       "output_type": "stream",
       "stream": "stdout",
       "text": [
        "\n",
        "[CV] n_neighbors=25 ..................................................\n",
        "[CV] ......................... n_neighbors=25, score=0.561426 -   1.1s"
       ]
      },
      {
       "output_type": "stream",
       "stream": "stdout",
       "text": [
        "\n",
        "[CV] n_neighbors=25 ..................................................\n",
        "[CV] ......................... n_neighbors=25, score=0.481458 -   1.1s"
       ]
      },
      {
       "output_type": "stream",
       "stream": "stdout",
       "text": [
        "\n",
        "[CV] n_neighbors=30 ..................................................\n",
        "[CV] ......................... n_neighbors=30, score=0.481928 -   1.0s"
       ]
      },
      {
       "output_type": "stream",
       "stream": "stdout",
       "text": [
        "\n",
        "[CV] n_neighbors=30 ..................................................\n",
        "[CV] ......................... n_neighbors=30, score=0.551878 -   1.1s"
       ]
      },
      {
       "output_type": "stream",
       "stream": "stdout",
       "text": [
        "\n",
        "[CV] n_neighbors=30 ..................................................\n",
        "[CV] ......................... n_neighbors=30, score=0.471867 -   1.1s"
       ]
      },
      {
       "output_type": "stream",
       "stream": "stdout",
       "text": [
        "\n",
        "[CV] n_neighbors=50 ..................................................\n",
        "[CV] ......................... n_neighbors=50, score=0.488269 -   1.3s"
       ]
      },
      {
       "output_type": "stream",
       "stream": "stdout",
       "text": [
        "\n",
        "[CV] n_neighbors=50 ..................................................\n",
        "[CV] ......................... n_neighbors=50, score=0.543603 -   1.2s"
       ]
      },
      {
       "output_type": "stream",
       "stream": "stdout",
       "text": [
        "\n",
        "[CV] n_neighbors=50 ..................................................\n",
        "[CV] ......................... n_neighbors=50, score=0.462276 -   1.2s"
       ]
      },
      {
       "output_type": "stream",
       "stream": "stderr",
       "text": [
        "[Parallel(n_jobs=1)]: Done  25 jobs       | elapsed:   26.1s\n",
        "[Parallel(n_jobs=1)]: Done  27 out of  27 | elapsed:   28.5s finished\n"
       ]
      },
      {
       "output_type": "stream",
       "stream": "stdout",
       "text": [
        "\n",
        "{'n_neighbors': 1}"
       ]
      },
      {
       "output_type": "stream",
       "stream": "stdout",
       "text": [
        "\n",
        "1.0"
       ]
      },
      {
       "output_type": "stream",
       "stream": "stdout",
       "text": [
        "\n",
        "0.658740091781"
       ]
      },
      {
       "output_type": "stream",
       "stream": "stdout",
       "text": [
        "\n"
       ]
      }
     ],
     "prompt_number": 98
    },
    {
     "cell_type": "markdown",
     "metadata": {},
     "source": [
      "So this didn't work very well. Let's try Random Forests instead."
     ]
    },
    {
     "cell_type": "code",
     "collapsed": false,
     "input": [
      "from sklearn.ensemble import RandomForestClassifier\n",
      "\n",
      "params = {'max_depth': [12, 15, 18, 19, 20, 21, 22, 23, 24,25,26,27, 30,35,40]}#, \n",
      "         # 'max_features':[2,3,4,5,6,7,8,10,50,150,200,250,300]}\n",
      "grid_rfc = GridSearchCV(RandomForestClassifier(n_estimators=500, n_jobs=2), param_grid=params, verbose=10)\n",
      "grid_rfc.fit(features_train, labels_train)\n",
      "print(grid_rfc.best_params_)\n",
      "print(grid_rfc.score(features_train, labels_train))\n",
      "print(grid_rfc.score(features_val, labels_val))"
     ],
     "language": "python",
     "metadata": {},
     "outputs": [
      {
       "output_type": "stream",
       "stream": "stdout",
       "text": [
        "Fitting 3 folds for each of 15 candidates, totalling 45 fits\n",
        "[CV] max_depth=12 ....................................................\n",
        "[CV] ........................... max_depth=12, score=0.837666 -  11.2s"
       ]
      },
      {
       "output_type": "stream",
       "stream": "stdout",
       "text": [
        "\n",
        "[CV] max_depth=12 ....................................................\n",
        "[CV] ........................... max_depth=12, score=0.851687 -  10.6s"
       ]
      },
      {
       "output_type": "stream",
       "stream": "stderr",
       "text": [
        "[Parallel(n_jobs=1)]: Done   1 jobs       | elapsed:   11.2s\n",
        "[Parallel(n_jobs=1)]: Done   2 jobs       | elapsed:   21.8s\n"
       ]
      },
      {
       "output_type": "stream",
       "stream": "stdout",
       "text": [
        "\n",
        "[CV] max_depth=12 ...................................................."
       ]
      },
      {
       "output_type": "stream",
       "stream": "stdout",
       "text": [
        "\n",
        "[CV] ........................... max_depth=12, score=0.744885 -  11.0s"
       ]
      },
      {
       "output_type": "stream",
       "stream": "stdout",
       "text": [
        "\n",
        "[CV] max_depth=15 ....................................................\n",
        "[CV] ........................... max_depth=15, score=0.840203 -  11.1s"
       ]
      },
      {
       "output_type": "stream",
       "stream": "stdout",
       "text": [
        "\n",
        "[CV] max_depth=15 ....................................................\n",
        "[CV] ........................... max_depth=15, score=0.854870 -  10.9s"
       ]
      },
      {
       "output_type": "stream",
       "stream": "stdout",
       "text": [
        "\n",
        "[CV] max_depth=15 ....................................................\n",
        "[CV] ........................... max_depth=15, score=0.755754 -  10.9s"
       ]
      },
      {
       "output_type": "stream",
       "stream": "stdout",
       "text": [
        "\n",
        "[CV] max_depth=18 ....................................................\n",
        "[CV] ........................... max_depth=18, score=0.844642 -  11.3s"
       ]
      },
      {
       "output_type": "stream",
       "stream": "stdout",
       "text": [
        "\n",
        "[CV] max_depth=18 ....................................................\n",
        "[CV] ........................... max_depth=18, score=0.851687 -  11.0s"
       ]
      },
      {
       "output_type": "stream",
       "stream": "stderr",
       "text": [
        "[Parallel(n_jobs=1)]: Done   5 jobs       | elapsed:   55.0s\n",
        "[Parallel(n_jobs=1)]: Done   8 jobs       | elapsed:  1.5min\n"
       ]
      },
      {
       "output_type": "stream",
       "stream": "stdout",
       "text": [
        "\n",
        "[CV] max_depth=18 ....................................................\n",
        "[CV] ........................... max_depth=18, score=0.753197 -  13.9s"
       ]
      },
      {
       "output_type": "stream",
       "stream": "stdout",
       "text": [
        "\n",
        "[CV] max_depth=19 ....................................................\n",
        "[CV] ........................... max_depth=19, score=0.844642 -  15.5s"
       ]
      },
      {
       "output_type": "stream",
       "stream": "stdout",
       "text": [
        "\n",
        "[CV] max_depth=19 ....................................................\n",
        "[CV] ........................... max_depth=19, score=0.854233 -  11.9s"
       ]
      },
      {
       "output_type": "stream",
       "stream": "stdout",
       "text": [
        "\n",
        "[CV] max_depth=19 ....................................................\n",
        "[CV] ........................... max_depth=19, score=0.753836 -  10.9s"
       ]
      },
      {
       "output_type": "stream",
       "stream": "stdout",
       "text": [
        "\n",
        "[CV] max_depth=20 ....................................................\n",
        "[CV] ........................... max_depth=20, score=0.840203 -  11.1s"
       ]
      },
      {
       "output_type": "stream",
       "stream": "stdout",
       "text": [
        "\n",
        "[CV] max_depth=20 ....................................................\n",
        "[CV] ........................... max_depth=20, score=0.847231 -  10.8s"
       ]
      },
      {
       "output_type": "stream",
       "stream": "stdout",
       "text": [
        "\n",
        "[CV] max_depth=20 ....................................................\n",
        "[CV] ........................... max_depth=20, score=0.750639 -  10.8s"
       ]
      },
      {
       "output_type": "stream",
       "stream": "stdout",
       "text": [
        "\n",
        "[CV] max_depth=21 ....................................................\n",
        "[CV] ........................... max_depth=21, score=0.845910 -  11.2s"
       ]
      },
      {
       "output_type": "stream",
       "stream": "stdout",
       "text": [
        "\n",
        "[CV] max_depth=21 ....................................................\n",
        "[CV] ........................... max_depth=21, score=0.852960 -  10.5s"
       ]
      },
      {
       "output_type": "stream",
       "stream": "stdout",
       "text": [
        "\n",
        "[CV] max_depth=21 ....................................................\n",
        "[CV] ........................... max_depth=21, score=0.748082 -  11.1s"
       ]
      },
      {
       "output_type": "stream",
       "stream": "stderr",
       "text": [
        "[Parallel(n_jobs=1)]: Done  13 jobs       | elapsed:  2.5min\n",
        "[Parallel(n_jobs=1)]: Done  18 jobs       | elapsed:  3.4min\n"
       ]
      },
      {
       "output_type": "stream",
       "stream": "stdout",
       "text": [
        "\n",
        "[CV] max_depth=22 ....................................................\n",
        "[CV] ........................... max_depth=22, score=0.841471 -  11.0s"
       ]
      },
      {
       "output_type": "stream",
       "stream": "stdout",
       "text": [
        "\n",
        "[CV] max_depth=22 ....................................................\n",
        "[CV] ........................... max_depth=22, score=0.853596 -  11.1s"
       ]
      },
      {
       "output_type": "stream",
       "stream": "stdout",
       "text": [
        "\n",
        "[CV] max_depth=22 ....................................................\n",
        "[CV] ........................... max_depth=22, score=0.756394 -  10.7s"
       ]
      },
      {
       "output_type": "stream",
       "stream": "stdout",
       "text": [
        "\n",
        "[CV] max_depth=23 ....................................................\n",
        "[CV] ........................... max_depth=23, score=0.841471 -  11.1s"
       ]
      },
      {
       "output_type": "stream",
       "stream": "stdout",
       "text": [
        "\n",
        "[CV] max_depth=23 ....................................................\n",
        "[CV] ........................... max_depth=23, score=0.850414 -  10.8s"
       ]
      },
      {
       "output_type": "stream",
       "stream": "stdout",
       "text": [
        "\n",
        "[CV] max_depth=23 ....................................................\n",
        "[CV] ........................... max_depth=23, score=0.753836 -  10.7s"
       ]
      },
      {
       "output_type": "stream",
       "stream": "stdout",
       "text": [
        "\n",
        "[CV] max_depth=24 ....................................................\n",
        "[CV] ........................... max_depth=24, score=0.842105 -  11.5s"
       ]
      },
      {
       "output_type": "stream",
       "stream": "stdout",
       "text": [
        "\n",
        "[CV] max_depth=24 ....................................................\n",
        "[CV] ........................... max_depth=24, score=0.852960 -  10.8s"
       ]
      },
      {
       "output_type": "stream",
       "stream": "stdout",
       "text": [
        "\n",
        "[CV] max_depth=24 ....................................................\n",
        "[CV] ........................... max_depth=24, score=0.752558 -  12.3s"
       ]
      },
      {
       "output_type": "stream",
       "stream": "stdout",
       "text": [
        "\n",
        "[CV] max_depth=25 ...................................................."
       ]
      },
      {
       "output_type": "stream",
       "stream": "stdout",
       "text": [
        "\n",
        "[CV] ........................... max_depth=25, score=0.844008 -  14.2s"
       ]
      },
      {
       "output_type": "stream",
       "stream": "stdout",
       "text": [
        "\n",
        "[CV] max_depth=25 ....................................................\n",
        "[CV] ........................... max_depth=25, score=0.857416 -  13.8s"
       ]
      },
      {
       "output_type": "stream",
       "stream": "stdout",
       "text": [
        "\n",
        "[CV] max_depth=25 ....................................................\n",
        "[CV] ........................... max_depth=25, score=0.755754 -  12.2s"
       ]
      },
      {
       "output_type": "stream",
       "stream": "stdout",
       "text": [
        "\n",
        "[CV] max_depth=26 ....................................................\n",
        "[CV] ........................... max_depth=26, score=0.849081 -  12.1s"
       ]
      },
      {
       "output_type": "stream",
       "stream": "stdout",
       "text": [
        "\n",
        "[CV] max_depth=26 ....................................................\n",
        "[CV] ........................... max_depth=26, score=0.851050 -  11.9s"
       ]
      },
      {
       "output_type": "stream",
       "stream": "stderr",
       "text": [
        "[Parallel(n_jobs=1)]: Done  25 jobs       | elapsed:  4.7min\n",
        "[Parallel(n_jobs=1)]: Done  32 jobs       | elapsed:  6.2min\n"
       ]
      },
      {
       "output_type": "stream",
       "stream": "stdout",
       "text": [
        "\n",
        "[CV] max_depth=26 ....................................................\n",
        "[CV] ........................... max_depth=26, score=0.750000 -  11.9s"
       ]
      },
      {
       "output_type": "stream",
       "stream": "stdout",
       "text": [
        "\n",
        "[CV] max_depth=27 ....................................................\n",
        "[CV] ........................... max_depth=27, score=0.842739 -  11.8s"
       ]
      },
      {
       "output_type": "stream",
       "stream": "stdout",
       "text": [
        "\n",
        "[CV] max_depth=27 ....................................................\n",
        "[CV] ........................... max_depth=27, score=0.847231 -  13.8s"
       ]
      },
      {
       "output_type": "stream",
       "stream": "stdout",
       "text": [
        "\n",
        "[CV] max_depth=27 ....................................................\n",
        "[CV] ........................... max_depth=27, score=0.750639 -  11.8s"
       ]
      },
      {
       "output_type": "stream",
       "stream": "stdout",
       "text": [
        "\n",
        "[CV] max_depth=30 ....................................................\n",
        "[CV] ........................... max_depth=30, score=0.841471 -  12.0s"
       ]
      },
      {
       "output_type": "stream",
       "stream": "stdout",
       "text": [
        "\n",
        "[CV] max_depth=30 ....................................................\n",
        "[CV] ........................... max_depth=30, score=0.854233 -  11.1s"
       ]
      },
      {
       "output_type": "stream",
       "stream": "stdout",
       "text": [
        "\n",
        "[CV] max_depth=30 ....................................................\n",
        "[CV] ........................... max_depth=30, score=0.748721 -  10.8s"
       ]
      },
      {
       "output_type": "stream",
       "stream": "stdout",
       "text": [
        "\n",
        "[CV] max_depth=35 ....................................................\n",
        "[CV] ........................... max_depth=35, score=0.841471 -  11.5s"
       ]
      },
      {
       "output_type": "stream",
       "stream": "stdout",
       "text": [
        "\n",
        "[CV] max_depth=35 ....................................................\n",
        "[CV] ........................... max_depth=35, score=0.849141 -  11.1s"
       ]
      },
      {
       "output_type": "stream",
       "stream": "stdout",
       "text": [
        "\n",
        "[CV] max_depth=35 ....................................................\n",
        "[CV] ........................... max_depth=35, score=0.751918 -  10.9s"
       ]
      },
      {
       "output_type": "stream",
       "stream": "stdout",
       "text": [
        "\n",
        "[CV] max_depth=40 ....................................................\n",
        "[CV] ........................... max_depth=40, score=0.840203 -  13.5s"
       ]
      },
      {
       "output_type": "stream",
       "stream": "stdout",
       "text": [
        "\n",
        "[CV] max_depth=40 ....................................................\n",
        "[CV] ........................... max_depth=40, score=0.849777 -  15.0s"
       ]
      },
      {
       "output_type": "stream",
       "stream": "stdout",
       "text": [
        "\n",
        "[CV] max_depth=40 ...................................................."
       ]
      },
      {
       "output_type": "stream",
       "stream": "stdout",
       "text": [
        "\n",
        "[CV] ........................... max_depth=40, score=0.753836 -  11.8s"
       ]
      },
      {
       "output_type": "stream",
       "stream": "stderr",
       "text": [
        "[Parallel(n_jobs=1)]: Done  41 jobs       | elapsed:  8.0min\n",
        "[Parallel(n_jobs=1)]: Done  45 out of  45 | elapsed:  8.8min finished\n"
       ]
      },
      {
       "output_type": "stream",
       "stream": "stdout",
       "text": [
        "\n",
        "{'max_depth': 25}"
       ]
      },
      {
       "output_type": "stream",
       "stream": "stdout",
       "text": [
        "\n",
        "1.0"
       ]
      },
      {
       "output_type": "stream",
       "stream": "stdout",
       "text": [
        "\n",
        "0.897788902795"
       ]
      },
      {
       "output_type": "stream",
       "stream": "stdout",
       "text": [
        "\n"
       ]
      }
     ],
     "prompt_number": 99
    },
    {
     "cell_type": "code",
     "collapsed": false,
     "input": [
      "labels_rfc = grid_rfc.predict(features_val)\n",
      "    "
     ],
     "language": "python",
     "metadata": {},
     "outputs": [],
     "prompt_number": 92
    },
    {
     "cell_type": "code",
     "collapsed": false,
     "input": [
      "from sklearn.metrics import confusion_matrix\n",
      "import matplotlib.cm as cmap\n",
      "\n",
      "sns.set_style(\"white\") \n",
      "unique_labels = np.unique(labels_val)\n",
      "cm = confusion_matrix(labels_val, labels_rfc, labels=unique_labels)\n",
      "print(cm)\n",
      "print(unique_labels)\n",
      "plt.matshow(cm, cmap=cmap.Spectral_r )\n",
      "plt.title('Confusion matrix')\n",
      "plt.colorbar()\n",
      "plt.ylabel('True label')\n",
      "plt.xlabel('Predicted label')\n",
      "plt.xticks(range(len(unique_labels)), unique_labels, rotation=70)\n",
      "plt.yticks(range(len(unique_labels)), unique_labels)\n",
      "plt.show()"
     ],
     "language": "python",
     "metadata": {},
     "outputs": [
      {
       "output_type": "stream",
       "stream": "stdout",
       "text": [
        "[[ 60   0   0   0   0   0   0   0   0   0   0   0   3   0]\n",
        " [  0  50   0   0   0   0   0   0   0   0   0   0   0   0]\n",
        " [  0   0  84   0   0  19   0   0   0   0   0   0   0   0]\n",
        " [ 16   0   0  48   0   0   0   0   0   0   0   0   0   0]\n",
        " [  0   0   0   0  42   0   0   0   0   0   0   0   0   0]\n",
        " [  1   0  18   0   0  37   0   0   0   0   0   0   0   0]\n",
        " [  0   1   0   0   0   0  27   0   0   2   0  16   0   0]\n",
        " [  0   0   0   0   0   0   0 101   0   0   0   0   0   0]\n",
        " [  0   0   0   0   0   0   0   0   3   0   0   0   0   0]\n",
        " [  0   0   0   0   0   0   0   0   0  44   0   0   0   0]\n",
        " [  0   0   0   0   0   7   0   0   0   2  31   0   0   0]\n",
        " [  0   0   0   0   0   0   0   0   0   0   0  25   0   0]\n",
        " [  0   0   0   0   0   0   0   0   0   0   0   0  16   0]\n",
        " [  0   0   0   0   0   0   0   0   0   0   0   0   0  53]]\n",
        "['alpha' 'beta' 'chi1' 'chi2' 'chi3' 'chi4' 'delta' 'gamma' 'kappa' 'mu'\n",
        " 'nu' 'phi' 'rho' 'theta']\n"
       ]
      },
      {
       "metadata": {},
       "output_type": "display_data",
       "png": "[encoded data removed]",
       "text": [
        "<matplotlib.figure.Figure at 0x15bdf92d0>"
       ]
      }
     ],
     "prompt_number": 93
    },
    {
     "cell_type": "markdown",
     "metadata": {},
     "source": [
      "That works a lot better. It perfectly learns the training set (score=1.0), but has a ~10% error rate on the validation set. However, the hardness ratio features have lots of zeros. I'm not sure how to deal with that effectively yet! I should find that out! Meanwhile, let's try a linear model for fun!"
     ]
    },
    {
     "cell_type": "code",
     "collapsed": false,
     "input": [
      "from sklearn import linear_model \n",
      "from sklearn.svm import LinearSVC\n",
      "\n",
      "\n",
      "params = {'C': [0.001, 0.01, 0.1, 1, 10, 100]}\n",
      "grid = GridSearchCV(linear_model.LogisticRegression(penalty=\"l1\", class_weight=\"auto\"), \n",
      "                    param_grid=params, verbose=10)\n",
      "grid.fit(features_train, labels_train)\n",
      "#params = {'C': [0.001, 0.01, 0.1, 1, 10, 100]}\n",
      "#grid = GridSearchCV(LinearSVC(), param_grid=params, verbose=10)\n",
      "#grid.fit(features_train, labels_train)\n",
      "\n",
      "\n",
      "print(grid.best_params_)\n",
      "print(grid.score(features_train, labels_train))\n",
      "print(grid.score(features_val, labels_val))\n",
      "\n",
      "\n",
      "#sgd = linear_model.SGDClassifier(loss='modified_huber', penalty=\"elasticnet\", shuffle=False,\n",
      "#                                 n_jobs = -1)\n",
      "#sgd.fit(features_train, labels_train)\n",
      "#print(sgd.score(features_test, labels_test))\n",
      "\n",
      "\n"
     ],
     "language": "python",
     "metadata": {},
     "outputs": [
      {
       "output_type": "stream",
       "stream": "stdout",
       "text": [
        "Fitting 3 folds for each of 6 candidates, totalling 18 fits\n",
        "[CV] C=0.001 .........................................................\n",
        "[CV] ................................ C=0.001, score=0.693157 -   7.7s"
       ]
      },
      {
       "output_type": "stream",
       "stream": "stdout",
       "text": [
        "\n",
        "[CV] C=0.001 .........................................................\n",
        "[CV] ................................ C=0.001, score=0.741071 -  12.9s"
       ]
      },
      {
       "output_type": "stream",
       "stream": "stderr",
       "text": [
        "[Parallel(n_jobs=1)]: Done   1 jobs       | elapsed:    7.7s\n",
        "[Parallel(n_jobs=1)]: Done   2 jobs       | elapsed:   20.7s\n"
       ]
      },
      {
       "output_type": "stream",
       "stream": "stdout",
       "text": [
        "\n",
        "[CV] C=0.001 .........................................................\n",
        "[CV] ................................ C=0.001, score=0.686364 -  12.4s"
       ]
      },
      {
       "output_type": "stream",
       "stream": "stdout",
       "text": [
        "\n",
        "[CV] C=0.01 ..........................................................\n",
        "[CV] ................................. C=0.01, score=0.662252 -  15.3s"
       ]
      },
      {
       "output_type": "stream",
       "stream": "stdout",
       "text": [
        "\n",
        "[CV] C=0.01 ..........................................................\n",
        "[CV] ................................. C=0.01, score=0.696429 -  16.7s"
       ]
      },
      {
       "output_type": "stream",
       "stream": "stdout",
       "text": [
        "\n",
        "[CV] C=0.01 ..........................................................\n",
        "[CV] ................................. C=0.01, score=0.654545 -  27.1s"
       ]
      },
      {
       "output_type": "stream",
       "stream": "stdout",
       "text": [
        "\n",
        "[CV] C=0.1 ...........................................................\n",
        "[CV] .................................. C=0.1, score=0.653422 -  29.9s"
       ]
      },
      {
       "output_type": "stream",
       "stream": "stdout",
       "text": [
        "\n",
        "[CV] C=0.1 ...........................................................\n",
        "[CV] .................................. C=0.1, score=0.703125 -  23.0s"
       ]
      },
      {
       "output_type": "stream",
       "stream": "stderr",
       "text": [
        "[Parallel(n_jobs=1)]: Done   5 jobs       | elapsed:  1.1min\n",
        "[Parallel(n_jobs=1)]: Done   8 jobs       | elapsed:  2.4min\n"
       ]
      },
      {
       "output_type": "stream",
       "stream": "stdout",
       "text": [
        "\n",
        "[CV] C=0.1 ...........................................................\n",
        "[CV] .................................. C=0.1, score=0.686364 -  42.6s"
       ]
      },
      {
       "output_type": "stream",
       "stream": "stdout",
       "text": [
        "\n",
        "[CV] C=1 .............................................................\n",
        "[CV] .................................... C=1, score=0.677704 -  21.9s"
       ]
      },
      {
       "output_type": "stream",
       "stream": "stdout",
       "text": [
        "\n",
        "[CV] C=1 .............................................................\n",
        "[CV] .................................... C=1, score=0.678571 -  14.9s"
       ]
      },
      {
       "output_type": "stream",
       "stream": "stdout",
       "text": [
        "\n",
        "[CV] C=1 .............................................................\n",
        "[CV] .................................... C=1, score=0.704545 -  22.7s"
       ]
      },
      {
       "output_type": "stream",
       "stream": "stdout",
       "text": [
        "\n",
        "[CV] C=10 ............................................................\n",
        "[CV] ................................... C=10, score=0.721854 -   9.4s"
       ]
      },
      {
       "output_type": "stream",
       "stream": "stdout",
       "text": [
        "\n",
        "[CV] C=10 ............................................................\n",
        "[CV] ................................... C=10, score=0.758929 -   9.0s"
       ]
      },
      {
       "output_type": "stream",
       "stream": "stdout",
       "text": [
        "\n",
        "[CV] C=10 ............................................................\n",
        "[CV] ................................... C=10, score=0.722727 -  11.8s"
       ]
      },
      {
       "output_type": "stream",
       "stream": "stdout",
       "text": [
        "\n",
        "[CV] C=100 ...........................................................\n",
        "[CV] .................................. C=100, score=0.754967 -   8.2s"
       ]
      },
      {
       "output_type": "stream",
       "stream": "stdout",
       "text": [
        "\n",
        "[CV] C=100 ...........................................................\n",
        "[CV] .................................. C=100, score=0.792411 -   8.3s"
       ]
      },
      {
       "output_type": "stream",
       "stream": "stdout",
       "text": [
        "\n",
        "[CV] C=100 ...........................................................\n",
        "[CV] .................................. C=100, score=0.677273 -   7.6s"
       ]
      },
      {
       "output_type": "stream",
       "stream": "stderr",
       "text": [
        "[Parallel(n_jobs=1)]: Done  13 jobs       | elapsed:  4.3min\n",
        "[Parallel(n_jobs=1)]: Done  18 jobs       | elapsed:  5.0min\n"
       ]
      },
      {
       "output_type": "stream",
       "stream": "stdout",
       "text": [
        "\n",
        "{'C': 100}"
       ]
      },
      {
       "output_type": "stream",
       "stream": "stdout",
       "text": [
        "\n",
        "1.0\n",
        "0.800283286119"
       ]
      },
      {
       "output_type": "stream",
       "stream": "stdout",
       "text": [
        "\n"
       ]
      },
      {
       "output_type": "stream",
       "stream": "stderr",
       "text": [
        "[Parallel(n_jobs=1)]: Done  18 out of  18 | elapsed:  5.0min finished\n"
       ]
      }
     ],
     "prompt_number": 94
    },
    {
     "cell_type": "code",
     "collapsed": false,
     "input": [],
     "language": "python",
     "metadata": {},
     "outputs": []
    },
    {
     "cell_type": "code",
     "collapsed": false,
     "input": [],
     "language": "python",
     "metadata": {},
     "outputs": []
    },
    {
     "cell_type": "code",
     "collapsed": false,
     "input": [],
     "language": "python",
     "metadata": {},
     "outputs": []
    },
    {
     "cell_type": "code",
     "collapsed": false,
     "input": [
      "from sklearn import svm\n",
      "from sklearn import tree\n",
      "from sklearn.ensemble import RandomForestClassifier\n",
      "\n",
      "\n"
     ],
     "language": "python",
     "metadata": {},
     "outputs": []
    }
   ],
   "metadata": {}
  }
 ]
}