{
 "cells": [
  {
   "cell_type": "markdown",
   "metadata": {},
   "source": [
    "## Making the Plots for the paper\n",
    "\n",
    "This makes the plots for the paper.\n",
    "\n",
    "### ASM Light curve\n",
    "\n",
    "Let's make a fancy plot with the total ASM light curve with all observations. You know, for fun."
   ]
  },
  {
   "cell_type": "code",
   "execution_count": 2,
   "metadata": {
    "collapsed": false
   },
   "outputs": [],
   "source": [
    "%matplotlib inline\n",
    "import matplotlib.pyplot as plt\n",
    "import seaborn as sns\n",
    "sns.set_context(\"notebook\", font_scale=2.5, rc={\"axes.labelsize\": 26})\n",
    "plt.rc(\"font\", size=24, family=\"serif\", serif=\"Computer Sans\")\n",
    "plt.rc(\"axes\", titlesize=20, labelsize=20) \n",
    "plt.rc(\"text\", usetex=True)\n",
    "\n",
    "import numpy as np\n",
    "import cPickle as pickle\n",
    "#from pandas.tools.plotting import scatter_matrix\n",
    "#import pandas as pd\n",
    "import glob \n",
    "import astropy.io.fits as fits\n",
    "import powerspectrum\n",
    "#import grs1915_utils\n",
    "\n",
    "datadir=\"../../\"\n",
    "paperdir=\"../documents/\"\n"
   ]
  },
  {
   "cell_type": "markdown",
   "metadata": {},
   "source": [
    "First, we're going to find all combined light curve files I made during the data preparation step and extract\n",
    "the observation ID from those."
   ]
  },
  {
   "cell_type": "code",
   "execution_count": 3,
   "metadata": {
    "collapsed": false
   },
   "outputs": [
    {
     "name": "stdout",
     "output_type": "stream",
     "text": [
      "0\n"
     ]
    }
   ],
   "source": [
    "files = glob.glob(datadir+\"*combined.dat\")\n",
    "print(len(files))\n",
    "combined_obs = [f.split(\"_\")[1] for f in files]"
   ]
  },
  {
   "cell_type": "markdown",
   "metadata": {},
   "source": [
    "Next, I'll load the mission-long data file and extract the names of all ObsIDs, start, mid and stop times of observations, \n",
    "as well as the total exposure."
   ]
  },
  {
   "cell_type": "code",
   "execution_count": 5,
   "metadata": {
    "collapsed": false
   },
   "outputs": [],
   "source": [
    "hdulist = fits.open(datadir+\"GRS1915+105.fits\")\n",
    "h = hdulist[1]\n",
    "d = h.data\n",
    "all_obs = d[\"OBSID\"]\n",
    "t_start = d[\"T_START_OBS\"]\n",
    "t_mid = d[\"TIME\"]\n",
    "t_end = d[\"T_STOP_OBS\"]\n",
    "exposure = d[\"EXPOSURE\"]"
   ]
  },
  {
   "cell_type": "markdown",
   "metadata": {},
   "source": [
    "Next, I will extract start times, end times and ObsIDs where I actually have observations (rather than just monitoring, or \n",
    "weird data modes I can't use)."
   ]
  },
  {
   "cell_type": "code",
   "execution_count": 6,
   "metadata": {
    "collapsed": false
   },
   "outputs": [],
   "source": [
    "## extract start times, end times and ObsIDs from MLD where I actually have observations\n",
    "mjdrefi = 49353. \n",
    "t_start_sample = np.array([s for s,o in zip(t_start, all_obs) if o in combined_obs]) + mjdrefi\n",
    "t_mid_sample = np.array([s for s,o in zip(t_mid, all_obs) if o in combined_obs]) + mjdrefi\n",
    "t_end_sample = np.array([s for s,o in zip(t_end, all_obs) if o in combined_obs]) + mjdrefi\n",
    "exp_sample =  np.array([s for s,o in zip(exposure, all_obs) if o in combined_obs])\n",
    "obs_sample = [o for o in all_obs if o in combined_obs]"
   ]
  },
  {
   "cell_type": "markdown",
   "metadata": {},
   "source": [
    "Compute the total exposure time that RXTE has spent on source.\n"
   ]
  },
  {
   "cell_type": "code",
   "execution_count": 7,
   "metadata": {
    "collapsed": false
   },
   "outputs": [
    {
     "name": "stdout",
     "output_type": "stream",
     "text": [
      "RXTE observed GRS1915+105 for 0.000 seconds, or 0.000 days!\n",
      "RXTE *actually* observed GRS1915+105 (GTI-corrected?) for 0.000 seconds, or 0.000 days\n"
     ]
    }
   ],
   "source": [
    "## exposure time by start/end times\n",
    "dt = (t_end_sample - t_start_sample)*3600.*24.\n",
    "## exposure times by keyword \"exposure\", possibly GTI corrected?\n",
    "dt2 = np.sum(exp_sample)\n",
    "total_time = np.sum(dt)\n",
    "total_days = total_time/(3600.*24.)\n",
    "print(\"RXTE observed GRS1915+105 for %.3f seconds, or %.3f days!\"%(total_time, total_days))\n",
    "print(\"RXTE *actually* observed GRS1915+105 (GTI-corrected?) for %.3f seconds, or %.3f days\"%(dt2, dt2/(3600.*24.)))\n",
    "\n"
   ]
  },
  {
   "cell_type": "markdown",
   "metadata": {},
   "source": [
    "**Figure 1:** How long are all the individual observations? Let's make a histogram plot!"
   ]
  },
  {
   "cell_type": "code",
   "execution_count": 8,
   "metadata": {
    "collapsed": false
   },
   "outputs": [
    {
     "ename": "ValueError",
     "evalue": "x must have at least one data point",
     "output_type": "error",
     "traceback": [
      "\u001b[1;31m---------------------------------------------------------------------------\u001b[0m",
      "\u001b[1;31mValueError\u001b[0m                                Traceback (most recent call last)",
      "\u001b[1;32m<ipython-input-8-e38b9de82c5e>\u001b[0m in \u001b[0;36m<module>\u001b[1;34m()\u001b[0m\n\u001b[0;32m      1\u001b[0m \u001b[0mfig\u001b[0m \u001b[1;33m=\u001b[0m \u001b[0mplt\u001b[0m\u001b[1;33m.\u001b[0m\u001b[0mfigure\u001b[0m\u001b[1;33m(\u001b[0m\u001b[0mfigsize\u001b[0m\u001b[1;33m=\u001b[0m\u001b[1;33m(\u001b[0m\u001b[1;36m12\u001b[0m\u001b[1;33m,\u001b[0m\u001b[1;36m9\u001b[0m\u001b[1;33m)\u001b[0m\u001b[1;33m)\u001b[0m\u001b[1;33m\u001b[0m\u001b[0m\n\u001b[0;32m      2\u001b[0m \u001b[0max\u001b[0m \u001b[1;33m=\u001b[0m \u001b[0mfig\u001b[0m\u001b[1;33m.\u001b[0m\u001b[0madd_subplot\u001b[0m\u001b[1;33m(\u001b[0m\u001b[1;36m111\u001b[0m\u001b[1;33m)\u001b[0m\u001b[1;33m\u001b[0m\u001b[0m\n\u001b[1;32m----> 3\u001b[1;33m \u001b[0max\u001b[0m\u001b[1;33m.\u001b[0m\u001b[0mhist\u001b[0m\u001b[1;33m(\u001b[0m\u001b[0mdt\u001b[0m\u001b[1;33m,\u001b[0m \u001b[0mbins\u001b[0m\u001b[1;33m=\u001b[0m\u001b[1;36m30\u001b[0m\u001b[1;33m,\u001b[0m \u001b[0mrange\u001b[0m\u001b[1;33m=\u001b[0m\u001b[1;33m[\u001b[0m\u001b[1;36m0\u001b[0m\u001b[1;33m,\u001b[0m\u001b[1;36m30000.0\u001b[0m\u001b[1;33m]\u001b[0m\u001b[1;33m,\u001b[0m \u001b[0mhisttype\u001b[0m\u001b[1;33m=\u001b[0m\u001b[1;34m\"stepfilled\"\u001b[0m\u001b[1;33m)\u001b[0m\u001b[1;33m;\u001b[0m\u001b[1;33m\u001b[0m\u001b[0m\n\u001b[0m\u001b[0;32m      4\u001b[0m \u001b[0max\u001b[0m\u001b[1;33m.\u001b[0m\u001b[0mset_xlabel\u001b[0m\u001b[1;33m(\u001b[0m\u001b[1;34m\"Observation length [s]\"\u001b[0m\u001b[1;33m,\u001b[0m \u001b[0mfontsize\u001b[0m\u001b[1;33m=\u001b[0m\u001b[1;36m30\u001b[0m\u001b[1;33m)\u001b[0m\u001b[1;33m\u001b[0m\u001b[0m\n\u001b[0;32m      5\u001b[0m \u001b[0max\u001b[0m\u001b[1;33m.\u001b[0m\u001b[0mset_ylabel\u001b[0m\u001b[1;33m(\u001b[0m\u001b[1;34m\"Number of observations\"\u001b[0m\u001b[1;33m,\u001b[0m \u001b[0mfontsize\u001b[0m\u001b[1;33m=\u001b[0m\u001b[1;36m30\u001b[0m\u001b[1;33m)\u001b[0m\u001b[1;33m\u001b[0m\u001b[0m\n",
      "\u001b[1;32m/scratch/daniela/sw/miniconda/lib/python2.7/site-packages/matplotlib/axes/_axes.pyc\u001b[0m in \u001b[0;36mhist\u001b[1;34m(self, x, bins, range, normed, weights, cumulative, bottom, histtype, align, orientation, rwidth, log, color, label, stacked, **kwargs)\u001b[0m\n\u001b[0;32m   5595\u001b[0m         \u001b[0mflat\u001b[0m \u001b[1;33m=\u001b[0m \u001b[0mnp\u001b[0m\u001b[1;33m.\u001b[0m\u001b[0mravel\u001b[0m\u001b[1;33m(\u001b[0m\u001b[0mx\u001b[0m\u001b[1;33m)\u001b[0m\u001b[1;33m\u001b[0m\u001b[0m\n\u001b[0;32m   5596\u001b[0m         \u001b[1;32mif\u001b[0m \u001b[0mlen\u001b[0m\u001b[1;33m(\u001b[0m\u001b[0mflat\u001b[0m\u001b[1;33m)\u001b[0m \u001b[1;33m==\u001b[0m \u001b[1;36m0\u001b[0m\u001b[1;33m:\u001b[0m\u001b[1;33m\u001b[0m\u001b[0m\n\u001b[1;32m-> 5597\u001b[1;33m             \u001b[1;32mraise\u001b[0m \u001b[0mValueError\u001b[0m\u001b[1;33m(\u001b[0m\u001b[1;34m\"x must have at least one data point\"\u001b[0m\u001b[1;33m)\u001b[0m\u001b[1;33m\u001b[0m\u001b[0m\n\u001b[0m\u001b[0;32m   5598\u001b[0m         \u001b[1;32melif\u001b[0m \u001b[0mlen\u001b[0m\u001b[1;33m(\u001b[0m\u001b[0mflat\u001b[0m\u001b[1;33m)\u001b[0m \u001b[1;33m==\u001b[0m \u001b[1;36m1\u001b[0m \u001b[1;32mand\u001b[0m \u001b[1;32mnot\u001b[0m \u001b[0mbinsgiven\u001b[0m\u001b[1;33m:\u001b[0m\u001b[1;33m\u001b[0m\u001b[0m\n\u001b[0;32m   5599\u001b[0m             raise ValueError(\n",
      "\u001b[1;31mValueError\u001b[0m: x must have at least one data point"
     ]
    },
    {
     "data": {
      "image/png": "[encoded data removed]",
      "text/plain": [
       "<matplotlib.figure.Figure at 0x7efd777e9250>"
      ]
     },
     "metadata": {},
     "output_type": "display_data"
    }
   ],
   "source": [
    "fig = plt.figure(figsize=(12,9))\n",
    "ax = fig.add_subplot(111)\n",
    "ax.hist(dt, bins=30, range=[0,30000.0], histtype=\"stepfilled\");\n",
    "ax.set_xlabel(\"Observation length [s]\", fontsize=30)\n",
    "ax.set_ylabel(\"Number of observations\", fontsize=30)\n",
    "plt.savefig(paperdir+\"obs_duration.pdf\", format=\"pdf\")\n",
    "plt.close()"
   ]
  },
  {
   "cell_type": "markdown",
   "metadata": {},
   "source": [
    "**Figure 2:** Full-page ASM light curve with the start time of the observations used marked."
   ]
  },
  {
   "cell_type": "code",
   "execution_count": 44,
   "metadata": {
    "collapsed": false
   },
   "outputs": [
    {
     "name": "stdout",
     "output_type": "stream",
     "text": [
      "The ASM light curve covers a total of 5725 days\n",
      "I am on plot 0.\n",
      "I am on plot 1.\n",
      "I am on plot 2.\n",
      "I am on plot 3.\n",
      "I am on plot 4.\n",
      "I am on plot 5.\n",
      "I am on plot 6.\n",
      "I am on plot 7.\n",
      "I am on plot 8.\n",
      "I am on plot 9.\n",
      "I am on plot 10.\n"
     ]
    }
   ],
   "source": [
    "## load and plot ASM light curve\n",
    "asm = np.loadtxt(datadir+\"grs1915_asm_lc.txt\",skiprows=5)\n",
    "\n",
    "asm_time = asm[:,0]\n",
    "asm_cr = asm[:,1]\n",
    "asm_total = asm_time[-1]-asm_time[0]\n",
    "print(\"The ASM light curve covers a total of %i days\"%asm_total)\n",
    "\n",
    "## each light curve covers 500 days\n",
    "plot_len = 500.\n",
    "start_time = asm_time[0]\n",
    "end_time = start_time + plot_len\n",
    "i = 0\n",
    "\n",
    "fig = plt.figure(figsize=(12,15))\n",
    "\n",
    "sns.set_style(\"white\")\n",
    "\n",
    "ax = fig.add_subplot(111)\n",
    "# Turn off axis lines and ticks of the big subplot\n",
    "\n",
    "ax.spines['top'].set_color('none')\n",
    "ax.spines['bottom'].set_color('none')\n",
    "ax.spines['left'].set_color('none')\n",
    "ax.spines['right'].set_color('none')\n",
    "ax.tick_params(labelcolor='w', top='off', bottom='off', left='off', right='off')\n",
    "\n",
    "sns.set_context(\"notebook\", font_scale=1.0, rc={\"axes.labelsize\": 16})\n",
    "\n",
    "sns.set_style(\"darkgrid\")\n",
    "\n",
    "plt.rc(\"font\", size=16, family=\"serif\", serif=\"Computer Sans\")\n",
    "plt.rc(\"axes\", titlesize=16, labelsize=16) \n",
    "plt.rc(\"text\", usetex=True)\n",
    "\n",
    "plt.subplots_adjust(top=0.95, bottom=0.08, left=0.08, right=0.97, hspace=0.2)\n",
    "\n",
    "current_palette = sns.color_palette()\n",
    "while end_time <= asm_time[-1]:\n",
    "    print(\"I am on plot %i.\"%i)\n",
    "    ax1 = fig.add_subplot(11,1,i+1)\n",
    "    ax1.errorbar(asm[:,0], asm[:,1], yerr = asm[:,2], linestyle=\"steps-mid\")\n",
    "    ax1.scatter(t_mid_sample, np.ones(len(t_mid_sample))*240., facecolor=current_palette[1],\n",
    "                edgecolor=\"None\")\n",
    "    ax1.set_xlim([start_time, end_time])\n",
    "    ax1.set_ylim([1.0, 299.0])\n",
    "    plt.yticks(np.arange(3)*100.0+100.0, [100, 200, 300]);\n",
    "\n",
    "    start_time +=plot_len\n",
    "    end_time += plot_len\n",
    "    i+=1\n",
    "\n",
    "ax.set_xlabel(\"Time in MJD\", fontsize=18)\n",
    "ax.set_ylabel(\"Count rate [counts/s]\", fontsize=18)\n",
    "\n",
    "plt.savefig(paperdir+\"grs1915_asm_lc_all.pdf\", format=\"pdf\")\n",
    "plt.close()"
   ]
  },
  {
   "cell_type": "markdown",
   "metadata": {
    "collapsed": false
   },
   "source": [
    "### Plotting Duration intervals versus data gaps\n",
    "\n",
    "One thing I'd like to know is the relative length of data gaps to observation periods.\n",
    "We already know the data gaps are much larger than the observations; how likely is it that a state persists over multiple observations?\n",
    "\n"
   ]
  },
  {
   "cell_type": "code",
   "execution_count": 9,
   "metadata": {
    "collapsed": false
   },
   "outputs": [],
   "source": [
    "f = open(\"../../grs1915_all_125ms.dat\")\n",
    "d_all = pickle.load(f)\n",
    "f.close()"
   ]
  },
  {
   "cell_type": "code",
   "execution_count": 43,
   "metadata": {
    "collapsed": false
   },
   "outputs": [],
   "source": [
    "labels_all = np.array([d[1] for d in d_all])\n",
    "\n",
    "for i,l in enumerate(labels_all):\n",
    "    if l is None:\n",
    "        labels_all[i] = \"None\"\n",
    "    else:\n",
    "        continue\n",
    "        \n",
    "tstart_all = np.array([d[0][0,0] for d in d_all])\n",
    "tend_all = np.array([d[0][-1,0] for d in d_all])\n",
    "\n",
    "tstart_sorted = tstart_all[tstart_all.argsort()]\n",
    "tend_sorted =  tend_all[tstart_all.argsort()]\n",
    "labels_sorted = labels_all[tstart_all.argsort()]\n",
    "\n",
    "obs_times = tend_sorted - tstart_sorted\n",
    "gap_times = tstart_sorted[1:] - tend_sorted[:-1]"
   ]
  },
  {
   "cell_type": "markdown",
   "metadata": {},
   "source": [
    "**Figure 3**: Durations of gaps between observations"
   ]
  },
  {
   "cell_type": "code",
   "execution_count": 44,
   "metadata": {
    "collapsed": false
   },
   "outputs": [
    {
     "data": {
      "image/png": "[encoded data removed]",
      "text/plain": [
       "<matplotlib.figure.Figure at 0x7efd778be910>"
      ]
     },
     "metadata": {},
     "output_type": "display_data"
    }
   ],
   "source": [
    "plt.figure(figsize=(9,6))\n",
    "plt.hist(np.log10(gap_times), bins=50);\n",
    "plt.xlabel(r\"$\\log_{10}(\\mathrm{data\\, gap\\, duration})$ [s]\")\n",
    "plt.ylabel(\"Number of observations\")\n",
    "plt.savefig(paperdir+\"grs1915_data_gaps.pdf\", format=\"pdf\")"
   ]
  },
  {
   "cell_type": "markdown",
   "metadata": {
    "collapsed": false
   },
   "source": [
    "At the short end: data gaps *within* observations.\n",
    "Then there seem to be data gaps between 1000-10000 seconds long, comparable to the durations of the observations, and data gaps that are much longer, up to $10^6$ seconds.\n",
    "For conversion:"
   ]
  },
  {
   "cell_type": "code",
   "execution_count": 45,
   "metadata": {
    "collapsed": false
   },
   "outputs": [
    {
     "data": {
      "text/html": [
       "<div>\n",
       "<table border=\"1\" class=\"dataframe\">\n",
       "  <thead>\n",
       "    <tr style=\"text-align: right;\">\n",
       "      <th></th>\n",
       "      <th>Days</th>\n",
       "      <th>Hours</th>\n",
       "      <th>Seconds</th>\n",
       "    </tr>\n",
       "  </thead>\n",
       "  <tbody>\n",
       "    <tr>\n",
       "      <th>0</th>\n",
       "      <td>0.000116</td>\n",
       "      <td>0.002778</td>\n",
       "      <td>10</td>\n",
       "    </tr>\n",
       "    <tr>\n",
       "      <th>1</th>\n",
       "      <td>0.001157</td>\n",
       "      <td>0.027778</td>\n",
       "      <td>100</td>\n",
       "    </tr>\n",
       "    <tr>\n",
       "      <th>2</th>\n",
       "      <td>0.001157</td>\n",
       "      <td>0.027778</td>\n",
       "      <td>100</td>\n",
       "    </tr>\n",
       "    <tr>\n",
       "      <th>3</th>\n",
       "      <td>0.115741</td>\n",
       "      <td>2.777778</td>\n",
       "      <td>10000</td>\n",
       "    </tr>\n",
       "    <tr>\n",
       "      <th>4</th>\n",
       "      <td>1.157407</td>\n",
       "      <td>27.777778</td>\n",
       "      <td>100000</td>\n",
       "    </tr>\n",
       "    <tr>\n",
       "      <th>5</th>\n",
       "      <td>11.574074</td>\n",
       "      <td>277.777778</td>\n",
       "      <td>1000000</td>\n",
       "    </tr>\n",
       "    <tr>\n",
       "      <th>6</th>\n",
       "      <td>115.740741</td>\n",
       "      <td>2777.777778</td>\n",
       "      <td>10000000</td>\n",
       "    </tr>\n",
       "  </tbody>\n",
       "</table>\n",
       "</div>"
      ],
      "text/plain": [
       "         Days        Hours   Seconds\n",
       "0    0.000116     0.002778        10\n",
       "1    0.001157     0.027778       100\n",
       "2    0.001157     0.027778       100\n",
       "3    0.115741     2.777778     10000\n",
       "4    1.157407    27.777778    100000\n",
       "5   11.574074   277.777778   1000000\n",
       "6  115.740741  2777.777778  10000000"
      ]
     },
     "execution_count": 45,
     "metadata": {},
     "output_type": "execute_result"
    }
   ],
   "source": [
    "import pandas as pd\n",
    "seconds = np.array([10, 100, 100, 10000, 100000, 1000000, 10000000])\n",
    "hours = seconds/3600.0\n",
    "days = hours/24.\n",
    "df = pd.DataFrame({\"Seconds\":seconds, \"Hours\":hours, \"Days\":days})\n",
    "df"
   ]
  },
  {
   "cell_type": "markdown",
   "metadata": {},
   "source": [
    "Question: Are the data gaps related to state?\n",
    "If they are, our hidden Markov Model may be in trouble: the assumption that states are independent from observations would no longer be true!"
   ]
  },
  {
   "cell_type": "code",
   "execution_count": 56,
   "metadata": {
    "collapsed": false
   },
   "outputs": [
    {
     "data": {
      "text/plain": [
       "<matplotlib.legend.Legend at 0x7efd712eef90>"
      ]
     },
     "execution_count": 56,
     "metadata": {},
     "output_type": "execute_result"
    },
    {
     "data": {
      "image/png": "[encoded data removed]",
      "text/plain": [
       "<matplotlib.figure.Figure at 0x7efd71b801d0>"
      ]
     },
     "metadata": {},
     "output_type": "display_data"
    }
   ],
   "source": [
    "label_set = np.unique(labels_all)\n",
    "plt.figure(figsize=(10,7))\n",
    "for l in label_set[1:]:\n",
    "    l_ind = np.where(labels_sorted == l)[0]\n",
    "    #print(l_ind)\n",
    "    gap_temp = gap_times[l_ind]\n",
    "    #plt.figure(figsize=(10,7))\n",
    "    plt.hist(np.log10(gap_temp), bins=50, range=[1.0, 7.0], label=l, \n",
    "             normed=True, alpha=0.5)\n",
    "\n",
    "plt.legend()"
   ]
  },
  {
   "cell_type": "markdown",
   "metadata": {},
   "source": [
    "Well, at least based on this plot, it doesn't look like there's a particular correlation between state and observation duration. This implies that our observations are probably random with respect to states."
   ]
  },
  {
   "cell_type": "code",
   "execution_count": null,
   "metadata": {
    "collapsed": true
   },
   "outputs": [],
   "source": []
  }
 ],
 "metadata": {
  "kernelspec": {
   "display_name": "Python 2",
   "language": "python",
   "name": "python2"
  },
  "language_info": {
   "codemirror_mode": {
    "name": "ipython",
    "version": 2
   },
   "file_extension": ".py",
   "mimetype": "text/x-python",
   "name": "python",
   "nbconvert_exporter": "python",
   "pygments_lexer": "ipython2",
   "version": "2.7.10"
  }
 },
 "nbformat": 4,
 "nbformat_minor": 0
}
