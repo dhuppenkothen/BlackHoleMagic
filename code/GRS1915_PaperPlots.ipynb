{
 "metadata": {
  "name": "",
  "signature": "sha256:3e17fa88886321d86978b47af31ab0ed26414db33dda4c53fe146bc067b74390"
 },
 "nbformat": 3,
 "nbformat_minor": 0,
 "worksheets": [
  {
   "cells": [
    {
     "cell_type": "markdown",
     "metadata": {},
     "source": [
      "## Making the Plots for the paper\n",
      "\n",
      "This makes the plots for the paper.\n",
      "\n",
      "### ASM Light curve\n",
      "\n",
      "Let's make a fancy plot with the total ASM light curve with all observations. You know, for fun."
     ]
    },
    {
     "cell_type": "code",
     "collapsed": false,
     "input": [
      "%matplotlib inline\n",
      "import matplotlib.pyplot as plt\n",
      "import seaborn as sns\n",
      "sns.set_context(\"notebook\", font_scale=2.5, rc={\"axes.labelsize\": 26})\n",
      "plt.rc(\"font\", size=24, family=\"serif\", serif=\"Computer Sans\")\n",
      "plt.rc(\"axes\", titlesize=20, labelsize=20) \n",
      "plt.rc(\"text\", usetex=True)\n",
      "\n",
      "import numpy as np\n",
      "import cPickle as pickle\n",
      "#from pandas.tools.plotting import scatter_matrix\n",
      "#import pandas as pd\n",
      "import glob \n",
      "import astropy.io.fits as fits\n",
      "import powerspectrum\n",
      "#import grs1915_utils\n",
      "\n",
      "datadir=\"/Volumes/Lliarinh/data/grs1915/\"\n",
      "paperdir=\"/Users/danielahuppenkothen/work/data/grs1915/BlackHoleMagic/documents/\"\n"
     ],
     "language": "python",
     "metadata": {},
     "outputs": [],
     "prompt_number": 27
    },
    {
     "cell_type": "markdown",
     "metadata": {},
     "source": [
      "First, we're going to find all combined light curve files I made during the data preparation step and extract\n",
      "the observation ID from those."
     ]
    },
    {
     "cell_type": "code",
     "collapsed": false,
     "input": [
      "files = glob.glob(datadir+\"*combined.dat\")\n",
      "print(len(files))\n",
      "combined_obs = [f.split(\"_\")[1] for f in files]"
     ],
     "language": "python",
     "metadata": {},
     "outputs": [
      {
       "output_type": "stream",
       "stream": "stdout",
       "text": [
        "1692\n"
       ]
      }
     ],
     "prompt_number": 16
    },
    {
     "cell_type": "markdown",
     "metadata": {},
     "source": [
      "Next, I'll load the mission-long data file and extract the names of all ObsIDs, start, mid and stop times of observations, \n",
      "as well as the total exposure."
     ]
    },
    {
     "cell_type": "code",
     "collapsed": false,
     "input": [
      "hdulist = fits.open(datadir+\"GRS1915+105.fits\")\n",
      "h = hdulist[1]\n",
      "d = h.data\n",
      "all_obs = d[\"OBSID\"]\n",
      "t_start = d[\"T_START_OBS\"]\n",
      "t_mid = d[\"TIME\"]\n",
      "t_end = d[\"T_STOP_OBS\"]\n",
      "exposure = d[\"EXPOSURE\"]"
     ],
     "language": "python",
     "metadata": {},
     "outputs": [],
     "prompt_number": 17
    },
    {
     "cell_type": "markdown",
     "metadata": {},
     "source": [
      "Next, I will extract start times, end times and ObsIDs where I actually have observations (rather than just monitoring, or \n",
      "weird data modes I can't use)."
     ]
    },
    {
     "cell_type": "code",
     "collapsed": false,
     "input": [
      "## extract start times, end times and ObsIDs from MLD where I actually have observations\n",
      "mjdrefi = 49353. \n",
      "t_start_sample = np.array([s for s,o in zip(t_start, all_obs) if o in combined_obs]) + mjdrefi\n",
      "t_mid_sample = np.array([s for s,o in zip(t_mid, all_obs) if o in combined_obs]) + mjdrefi\n",
      "t_end_sample = np.array([s for s,o in zip(t_end, all_obs) if o in combined_obs]) + mjdrefi\n",
      "exp_sample =  np.array([s for s,o in zip(exposure, all_obs) if o in combined_obs])\n",
      "obs_sample = [o for o in all_obs if o in combined_obs]"
     ],
     "language": "python",
     "metadata": {},
     "outputs": [],
     "prompt_number": 18
    },
    {
     "cell_type": "markdown",
     "metadata": {},
     "source": [
      "Compute the total exposure time that RXTE has spent on source.\n"
     ]
    },
    {
     "cell_type": "code",
     "collapsed": false,
     "input": [
      "## exposure time by start/end times\n",
      "dt = (t_end_sample - t_start_sample)*3600.*24.\n",
      "## exposure times by keyword \"exposure\", possibly GTI corrected?\n",
      "dt2 = np.sum(exp_sample)\n",
      "total_time = np.sum(dt)\n",
      "total_days = total_time/(3600.*24.)\n",
      "print(\"RXTE observed GRS1915+105 for %.3f seconds, or %.3f days!\"%(total_time, total_days))\n",
      "print(\"RXTE *actually* observed GRS1915+105 (GTI-corrected?) for %.3f seconds, or %.3f days\"%(dt2, dt2/(3600.*24.)))\n",
      "\n"
     ],
     "language": "python",
     "metadata": {},
     "outputs": [
      {
       "output_type": "stream",
       "stream": "stdout",
       "text": [
        "RXTE observed GRS1915+105 for 7322400.000 seconds, or 84.750 days!\n",
        "RXTE *actually* observed GRS1915+105 (GTI-corrected?) for 4609226.000 seconds, or 53.348 days\n"
       ]
      }
     ],
     "prompt_number": 19
    },
    {
     "cell_type": "markdown",
     "metadata": {},
     "source": [
      "**Figure 1:** How long are all the individual observations? Let's make a histogram plot!"
     ]
    },
    {
     "cell_type": "code",
     "collapsed": false,
     "input": [
      "fig = plt.figure(figsize=(12,9))\n",
      "ax = fig.add_subplot(111)\n",
      "ax.hist(dt, bins=30, range=[0,30000.0], histtype=\"stepfilled\");\n",
      "ax.set_xlabel(\"Observation length [s]\", fontsize=30)\n",
      "ax.set_ylabel(\"Number of observations\", fontsize=30)\n",
      "plt.savefig(paperdir+\"obs_duration.pdf\", format=\"pdf\")\n",
      "plt.close()"
     ],
     "language": "python",
     "metadata": {},
     "outputs": [],
     "prompt_number": 29
    },
    {
     "cell_type": "markdown",
     "metadata": {},
     "source": [
      "**Figure 2:** Full-page ASM light curve with the start time of the observations used marked."
     ]
    },
    {
     "cell_type": "code",
     "collapsed": false,
     "input": [
      "## load and plot ASM light curve\n",
      "asm = np.loadtxt(datadir+\"grs1915_asm_lc.txt\",skiprows=5)\n",
      "\n",
      "asm_time = asm[:,0]\n",
      "asm_cr = asm[:,1]\n",
      "asm_total = asm_time[-1]-asm_time[0]\n",
      "print(\"The ASM light curve covers a total of %i days\"%asm_total)\n",
      "\n",
      "## each light curve covers 500 days\n",
      "plot_len = 500.\n",
      "start_time = asm_time[0]\n",
      "end_time = start_time + plot_len\n",
      "i = 0\n",
      "\n",
      "fig = plt.figure(figsize=(12,15))\n",
      "\n",
      "sns.set_style(\"white\")\n",
      "\n",
      "ax = fig.add_subplot(111)\n",
      "# Turn off axis lines and ticks of the big subplot\n",
      "\n",
      "ax.spines['top'].set_color('none')\n",
      "ax.spines['bottom'].set_color('none')\n",
      "ax.spines['left'].set_color('none')\n",
      "ax.spines['right'].set_color('none')\n",
      "ax.tick_params(labelcolor='w', top='off', bottom='off', left='off', right='off')\n",
      "\n",
      "sns.set_context(\"notebook\", font_scale=1.0, rc={\"axes.labelsize\": 16})\n",
      "\n",
      "sns.set_style(\"darkgrid\")\n",
      "\n",
      "plt.rc(\"font\", size=16, family=\"serif\", serif=\"Computer Sans\")\n",
      "plt.rc(\"axes\", titlesize=16, labelsize=16) \n",
      "plt.rc(\"text\", usetex=True)\n",
      "\n",
      "plt.subplots_adjust(top=0.95, bottom=0.08, left=0.08, right=0.97, hspace=0.2)\n",
      "\n",
      "current_palette = sns.color_palette()\n",
      "while end_time <= asm_time[-1]:\n",
      "    print(\"I am on plot %i.\"%i)\n",
      "    ax1 = fig.add_subplot(11,1,i+1)\n",
      "    ax1.errorbar(asm[:,0], asm[:,1], yerr = asm[:,2], linestyle=\"steps-mid\")\n",
      "    ax1.scatter(t_mid_sample, np.ones(len(t_mid_sample))*240., facecolor=current_palette[1],\n",
      "                edgecolor=\"None\")\n",
      "    ax1.set_xlim([start_time, end_time])\n",
      "    ax1.set_ylim([1.0, 299.0])\n",
      "    plt.yticks(np.arange(3)*100.0+100.0, [100, 200, 300]);\n",
      "\n",
      "    start_time +=plot_len\n",
      "    end_time += plot_len\n",
      "    i+=1\n",
      "\n",
      "ax.set_xlabel(\"Time in MJD\", fontsize=18)\n",
      "ax.set_ylabel(\"Count rate [counts/s]\", fontsize=18)\n",
      "\n",
      "plt.savefig(paperdir+\"grs1915_asm_lc_all.pdf\", format=\"pdf\")\n",
      "plt.close()"
     ],
     "language": "python",
     "metadata": {},
     "outputs": [
      {
       "output_type": "stream",
       "stream": "stdout",
       "text": [
        "The ASM light curve covers a total of 5725 days\n",
        "I am on plot 0.\n",
        "I am on plot 1."
       ]
      },
      {
       "output_type": "stream",
       "stream": "stdout",
       "text": [
        "\n",
        "I am on plot 2."
       ]
      },
      {
       "output_type": "stream",
       "stream": "stdout",
       "text": [
        "\n",
        "I am on plot 3."
       ]
      },
      {
       "output_type": "stream",
       "stream": "stdout",
       "text": [
        "\n",
        "I am on plot 4."
       ]
      },
      {
       "output_type": "stream",
       "stream": "stdout",
       "text": [
        "\n",
        "I am on plot 5."
       ]
      },
      {
       "output_type": "stream",
       "stream": "stdout",
       "text": [
        "\n",
        "I am on plot 6."
       ]
      },
      {
       "output_type": "stream",
       "stream": "stdout",
       "text": [
        "\n",
        "I am on plot 7."
       ]
      },
      {
       "output_type": "stream",
       "stream": "stdout",
       "text": [
        "\n",
        "I am on plot 8."
       ]
      },
      {
       "output_type": "stream",
       "stream": "stdout",
       "text": [
        "\n",
        "I am on plot 9."
       ]
      },
      {
       "output_type": "stream",
       "stream": "stdout",
       "text": [
        "\n",
        "I am on plot 10."
       ]
      },
      {
       "output_type": "stream",
       "stream": "stdout",
       "text": [
        "\n"
       ]
      }
     ],
     "prompt_number": 44
    },
    {
     "cell_type": "code",
     "collapsed": false,
     "input": [],
     "language": "python",
     "metadata": {},
     "outputs": [],
     "prompt_number": 29
    },
    {
     "cell_type": "code",
     "collapsed": false,
     "input": [],
     "language": "python",
     "metadata": {},
     "outputs": [],
     "prompt_number": 29
    },
    {
     "cell_type": "code",
     "collapsed": false,
     "input": [],
     "language": "python",
     "metadata": {},
     "outputs": [],
     "prompt_number": 29
    },
    {
     "cell_type": "code",
     "collapsed": false,
     "input": [],
     "language": "python",
     "metadata": {},
     "outputs": [],
     "prompt_number": 29
    },
    {
     "cell_type": "code",
     "collapsed": false,
     "input": [],
     "language": "python",
     "metadata": {},
     "outputs": [],
     "prompt_number": 29
    },
    {
     "cell_type": "code",
     "collapsed": false,
     "input": [],
     "language": "python",
     "metadata": {},
     "outputs": []
    }
   ],
   "metadata": {}
  }
 ]
}