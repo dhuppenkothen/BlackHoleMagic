{
 "metadata": {
  "name": "",
  "signature": "sha256:f51af1009186f26f88cbd2efb52cd8a9befb5bbc0ac85df555cb78e5ab884655"
 },
 "nbformat": 3,
 "nbformat_minor": 0,
 "worksheets": [
  {
   "cells": [
    {
     "cell_type": "markdown",
     "metadata": {},
     "source": [
      "# Feature Engineering\n",
      "\n",
      "For reference, I'm going to go into a bit more detail on the feature engineering. \n",
      "We will engineer features based on the human classification to find those features that predict the\n",
      "observed properties of the light curves best.\n",
      "\n",
      "I'm going to start with all of the summary features and use a greedy approach: out of all summary features, which is the one that alone predicts the human classification best. I am going to keep that, and then add a second feaure, again going through the entire list of left-over features to figure out the best combination of two, and so on, until I reach the end of the 13 features. \n",
      "\n",
      "In the second step, I can add feature sets like the entire heatmap of the hardness diagram, or the periodogram to the game, but we'll keep it simple(ish) with the summary features only for now.\n",
      "\n",
      "For this task, I'm going to use Random Forests, because I have to pick an algorithm and this one seems to be pretty robust."
     ]
    },
    {
     "cell_type": "code",
     "collapsed": false,
     "input": [
      "%matplotlib inline\n",
      "import matplotlib.pyplot as plt\n",
      "import seaborn as sns\n",
      "sns.set_context(\"notebook\", font_scale=2.5, rc={\"axes.labelsize\": 26})\n",
      "plt.rc(\"font\", size=24, family=\"serif\", serif=\"Computer Sans\")\n",
      "plt.rc(\"axes\", titlesize=20, labelsize=20) \n",
      "plt.rc(\"text\", usetex=True)\n",
      "\n",
      "import numpy as np\n",
      "import cPickle as pickle\n",
      "from pandas.tools.plotting import scatter_matrix\n",
      "import pandas as pd\n",
      "\n",
      "import powerspectrum\n",
      "import generaltools as gt\n",
      "#import grs1915_utils\n",
      "\n",
      "datadir=\"/Volumes/Lliarinh/data/grs1915/\""
     ],
     "language": "python",
     "metadata": {},
     "outputs": [],
     "prompt_number": 3
    },
    {
     "cell_type": "code",
     "collapsed": false,
     "input": [
      "#f = open(datadir+\"grs1915_256_clean_summary_features.dat\", \"r\")\n",
      "#feature_dict = pickle.load(f)\n",
      "#f.close()\n",
      "\n",
      "features_train = np.loadtxt(datadir+\"grs1915_256_all_summary_features_train.txt\")\n",
      "features_test = np.loadtxt(datadir+\"grs1915_256_all_summary_features_test.txt\")\n",
      "features_val = np.loadtxt(datadir+\"grs1915_256_all_summary_features_val.txt\")\n",
      "\n",
      "labels_test = np.array(gt.conversion(datadir+\"grs1915_256_all_summary_labels_test.txt\")[0])\n",
      "labels_train = np.array(gt.conversion(datadir+\"grs1915_256_all_summary_labels_train.txt\")[0])\n",
      "labels_val = np.array(gt.conversion(datadir+\"grs1915_256_all_summary_labels_val.txt\")[0])\n",
      "\n",
      "tstart_train = np.loadtxt(datadir+\"grs1915_256_all_summary_tstart_train.txt\")\n",
      "tstart_test = np.loadtxt(datadir+\"grs1915_256_all_summary_tstart_test.txt\")\n",
      "tstart_val = np.loadtxt(datadir+\"grs1915_256_all_summary_tstart_val.txt\")\n",
      "\n",
      "#features_train = np.array(feature_dict[\"train\"][0][\"features\"])\n",
      "#features_val = np.array(feature_dict[\"val\"][0][0][\"features\"])\n",
      "#features_test = np.array(feature_dict[\"test\"][0][\"features\"])\n",
      "#print(\"features_train.shape: \" + str(features_train.shape))\n",
      "#labels_train = feature_dict[\"train\"][1]\n",
      "#labels_val = feature_dict[\"val\"][0][1]\n",
      "#labels_test = feature_dict[\"test\"][1]"
     ],
     "language": "python",
     "metadata": {},
     "outputs": []
    },
    {
     "cell_type": "code",
     "collapsed": false,
     "input": [
      "\n",
      "## Get out only classified data!\n",
      "features_train = features_train[np.where(labels_train != \"None\")[0]]\n",
      "labels_train = labels_train[np.where(labels_train != \"None\")[0]]\n",
      "\n",
      "features_test = features_test[np.where(labels_test != \"None\")[0]]\n",
      "labels_test = labels_test[np.where(labels_test != \"None\")[0]]\n",
      "\n",
      "features_val = features_val[np.where(labels_val != \"None\")[0]]\n",
      "labels_val = labels_val[np.where(labels_val != \"None\")[0]]\n",
      "\n"
     ],
     "language": "python",
     "metadata": {},
     "outputs": [],
     "prompt_number": 5
    },
    {
     "cell_type": "code",
     "collapsed": false,
     "input": [
      "print(len(features_train))\n",
      "print(len(labels_train))\n",
      "print(len(features_test))\n",
      "print(len(labels_test))\n",
      "print(len(features_val))\n",
      "print(len(labels_val))"
     ],
     "language": "python",
     "metadata": {},
     "outputs": [
      {
       "output_type": "stream",
       "stream": "stdout",
       "text": [
        "2384\n",
        "2384\n",
        "1392\n",
        "1392\n",
        "1399\n",
        "1399\n"
       ]
      }
     ],
     "prompt_number": 7
    },
    {
     "cell_type": "markdown",
     "metadata": {},
     "source": [
      "The features here are:\n",
      "* mean count rate\n",
      "* median count rate\n",
      "* total variance in the count rate\n",
      "* skew of the countrate\n",
      "* kurtosis of the count rate\n",
      "* Frequency where the PSD has its maximum\n",
      "* Power Spectral Band A\n",
      "* Power Spectral Band B\n",
      "* Power Spectral Band C\n",
      "* Power Spectral Band D\n",
      "* Power Spectral Color 1 (PSDc/PSDa)\n",
      "* Power Spectral Color 2 (PSDb/PSDd)\n",
      "* mean of hardness ratio HR1\n",
      "* mean of hardness ratio HR2\n",
      "* flattened covariance matrix of HR1 and HR2\n",
      "* skew of HR1 and HR2\n",
      "* kurtosis of HR1 and HR2"
     ]
    },
    {
     "cell_type": "code",
     "collapsed": false,
     "input": [
      "\n"
     ],
     "language": "python",
     "metadata": {},
     "outputs": [],
     "prompt_number": 7
    },
    {
     "cell_type": "code",
     "collapsed": false,
     "input": [
      "from sklearn import cross_validation\n",
      "from sklearn.preprocessing import StandardScaler\n",
      "from sklearn.grid_search import GridSearchCV\n",
      "from sklearn.ensemble import RandomForestClassifier\n",
      "\n",
      "\n",
      "\n",
      "score = []\n",
      "best_params = []\n",
      "## first feature\n",
      "for i in range(features_train.shape[1]):\n",
      "    ft = np.atleast_2d(features_train[:,i]).T\n",
      "    fv = np.atleast_2d(features_val[:,i]).T\n",
      "    print(ft.shape)\n",
      "    print(fv.shape)\n",
      "    ### scale features\n",
      "    scaler_train = StandardScaler().fit(ft)\n",
      "    fscaled_train = scaler_train.transform(ft)\n",
      "    #print(fscaled_train.shape)\n",
      "    \n",
      "    scaler_val = StandardScaler().fit(fv)\n",
      "    fscaled_val = scaler_val.transform(fv)\n",
      "    #print(fscaled_val.shape)\n",
      "    ### Random Forest Classifier\n",
      "    params = {'max_depth': [5, 10, 15,20,50, 100, 200]}#,\n",
      "             # 'max_features':[2,3,4,5,6,7,8,10,50,150,200,250,300]}\n",
      "    grid_rfc = GridSearchCV(RandomForestClassifier(n_estimators=500), param_grid=params,\n",
      "                            verbose=0, n_jobs=10)\n",
      "    #rfc = RandomForestClassifier(n_estimators=500, max_depth=10)\n",
      "    #rfc.fit(fscaled_train, labels_train)\n",
      "    grid_rfc.fit(fscaled_train, labels_train)\n",
      "    print(\"Best results for the Random Forest run:\")\n",
      "    print(\"Best parameter: \" + str(grid_rfc.best_params_))\n",
      "    best_params.append(grid_rfc.best_params_)\n",
      "    print(\"Training accuracy: \" + str(grid_rfc.score(fscaled_train, labels_train)))\n",
      "    print(\"Validation accuracy: \" + str(grid_rfc.score(fscaled_val, labels_val)))\n",
      "    score.append(grid_rfc.score(fscaled_val, labels_val))\n"
     ],
     "language": "python",
     "metadata": {},
     "outputs": [
      {
       "output_type": "stream",
       "stream": "stdout",
       "text": [
        "(2384, 1)\n",
        "(1399, 1)\n"
       ]
      },
      {
       "output_type": "stream",
       "stream": "stdout",
       "text": [
        "Best results for the Random Forest run:\n",
        "Best parameter: {'max_depth': 5}\n",
        "Training accuracy: 0.486577181208"
       ]
      },
      {
       "output_type": "stream",
       "stream": "stdout",
       "text": [
        "\n",
        "Validation accuracy: 0.276626161544"
       ]
      },
      {
       "output_type": "stream",
       "stream": "stdout",
       "text": [
        "\n",
        "(2384, 1)"
       ]
      },
      {
       "output_type": "stream",
       "stream": "stdout",
       "text": [
        "\n",
        "(1399, 1)\n"
       ]
      },
      {
       "output_type": "stream",
       "stream": "stdout",
       "text": [
        "Best results for the Random Forest run:\n",
        "Best parameter: {'max_depth': 5}\n",
        "Training accuracy: 0.491610738255"
       ]
      },
      {
       "output_type": "stream",
       "stream": "stdout",
       "text": [
        "\n",
        "Validation accuracy: 0.285918513224"
       ]
      },
      {
       "output_type": "stream",
       "stream": "stdout",
       "text": [
        "\n",
        "(2384, 1)"
       ]
      },
      {
       "output_type": "stream",
       "stream": "stdout",
       "text": [
        "\n",
        "(1399, 1)\n"
       ]
      },
      {
       "output_type": "stream",
       "stream": "stdout",
       "text": [
        "Best results for the Random Forest run:\n",
        "Best parameter: {'max_depth': 5}\n",
        "Training accuracy: 0.515520134228"
       ]
      },
      {
       "output_type": "stream",
       "stream": "stdout",
       "text": [
        "\n",
        "Validation accuracy: 0.210864903503"
       ]
      },
      {
       "output_type": "stream",
       "stream": "stdout",
       "text": [
        "\n",
        "(2384, 1)"
       ]
      },
      {
       "output_type": "stream",
       "stream": "stdout",
       "text": [
        "\n",
        "(1399, 1)\n"
       ]
      },
      {
       "output_type": "stream",
       "stream": "stdout",
       "text": [
        "Best results for the Random Forest run:\n",
        "Best parameter: {'max_depth': 5}\n",
        "Training accuracy: 0.412751677852"
       ]
      },
      {
       "output_type": "stream",
       "stream": "stdout",
       "text": [
        "\n",
        "Validation accuracy: 0.273766976412"
       ]
      },
      {
       "output_type": "stream",
       "stream": "stdout",
       "text": [
        "\n",
        "(2384, 1)"
       ]
      },
      {
       "output_type": "stream",
       "stream": "stdout",
       "text": [
        "\n",
        "(1399, 1)\n"
       ]
      },
      {
       "output_type": "stream",
       "stream": "stdout",
       "text": [
        "Best results for the Random Forest run:\n",
        "Best parameter: {'max_depth': 5}\n",
        "Training accuracy: 0.356963087248"
       ]
      },
      {
       "output_type": "stream",
       "stream": "stdout",
       "text": [
        "\n",
        "Validation accuracy: 0.266619013581"
       ]
      },
      {
       "output_type": "stream",
       "stream": "stdout",
       "text": [
        "\n",
        "(2384, 1)"
       ]
      },
      {
       "output_type": "stream",
       "stream": "stdout",
       "text": [
        "\n",
        "(1399, 1)\n"
       ]
      },
      {
       "output_type": "stream",
       "stream": "stdout",
       "text": [
        "Best results for the Random Forest run:\n",
        "Best parameter: {'max_depth': 5}\n",
        "Training accuracy: 0.477348993289"
       ]
      },
      {
       "output_type": "stream",
       "stream": "stdout",
       "text": [
        "\n",
        "Validation accuracy: 0.33881343817"
       ]
      },
      {
       "output_type": "stream",
       "stream": "stdout",
       "text": [
        "\n",
        "(2384, 1)"
       ]
      },
      {
       "output_type": "stream",
       "stream": "stdout",
       "text": [
        "\n",
        "(1399, 1)\n"
       ]
      },
      {
       "output_type": "stream",
       "stream": "stdout",
       "text": [
        "Best results for the Random Forest run:\n",
        "Best parameter: {'max_depth': 5}\n",
        "Training accuracy: 0.468120805369"
       ]
      },
      {
       "output_type": "stream",
       "stream": "stdout",
       "text": [
        "\n",
        "Validation accuracy: 0.0786275911365"
       ]
      },
      {
       "output_type": "stream",
       "stream": "stdout",
       "text": [
        "\n",
        "(2384, 1)"
       ]
      },
      {
       "output_type": "stream",
       "stream": "stdout",
       "text": [
        "\n",
        "(1399, 1)\n"
       ]
      },
      {
       "output_type": "stream",
       "stream": "stdout",
       "text": [
        "Best results for the Random Forest run:\n",
        "Best parameter: {'max_depth': 5}\n",
        "Training accuracy: 0.451761744966"
       ]
      },
      {
       "output_type": "stream",
       "stream": "stdout",
       "text": [
        "\n",
        "Validation accuracy: 0.22659042173"
       ]
      },
      {
       "output_type": "stream",
       "stream": "stdout",
       "text": [
        "\n",
        "(2384, 1)"
       ]
      },
      {
       "output_type": "stream",
       "stream": "stdout",
       "text": [
        "\n",
        "(1399, 1)\n"
       ]
      },
      {
       "output_type": "stream",
       "stream": "stdout",
       "text": [
        "Best results for the Random Forest run:\n",
        "Best parameter: {'max_depth': 5}\n",
        "Training accuracy: 0.442953020134"
       ]
      },
      {
       "output_type": "stream",
       "stream": "stdout",
       "text": [
        "\n",
        "Validation accuracy: 0.328091493924"
       ]
      },
      {
       "output_type": "stream",
       "stream": "stdout",
       "text": [
        "\n",
        "(2384, 1)"
       ]
      },
      {
       "output_type": "stream",
       "stream": "stdout",
       "text": [
        "\n",
        "(1399, 1)\n"
       ]
      },
      {
       "output_type": "stream",
       "stream": "stdout",
       "text": [
        "Best results for the Random Forest run:\n",
        "Best parameter: {'max_depth': 5}\n",
        "Training accuracy: 0.507969798658"
       ]
      },
      {
       "output_type": "stream",
       "stream": "stdout",
       "text": [
        "\n",
        "Validation accuracy: 0.406004288778"
       ]
      },
      {
       "output_type": "stream",
       "stream": "stdout",
       "text": [
        "\n",
        "(2384, 1)"
       ]
      },
      {
       "output_type": "stream",
       "stream": "stdout",
       "text": [
        "\n",
        "(1399, 1)\n"
       ]
      },
      {
       "output_type": "stream",
       "stream": "stdout",
       "text": [
        "Best results for the Random Forest run:\n",
        "Best parameter: {'max_depth': 5}\n",
        "Training accuracy: 0.498741610738"
       ]
      },
      {
       "output_type": "stream",
       "stream": "stdout",
       "text": [
        "\n",
        "Validation accuracy: 0.275196568978"
       ]
      },
      {
       "output_type": "stream",
       "stream": "stdout",
       "text": [
        "\n",
        "(2384, 1)"
       ]
      },
      {
       "output_type": "stream",
       "stream": "stdout",
       "text": [
        "\n",
        "(1399, 1)\n"
       ]
      },
      {
       "output_type": "stream",
       "stream": "stdout",
       "text": [
        "Best results for the Random Forest run:\n",
        "Best parameter: {'max_depth': 5}\n",
        "Training accuracy: 0.481124161074"
       ]
      },
      {
       "output_type": "stream",
       "stream": "stdout",
       "text": [
        "\n",
        "Validation accuracy: 0.162258756254"
       ]
      },
      {
       "output_type": "stream",
       "stream": "stdout",
       "text": [
        "\n",
        "(2384, 1)"
       ]
      },
      {
       "output_type": "stream",
       "stream": "stdout",
       "text": [
        "\n",
        "(1399, 1)\n"
       ]
      },
      {
       "output_type": "stream",
       "stream": "stdout",
       "text": [
        "Best results for the Random Forest run:\n",
        "Best parameter: {'max_depth': 5}\n",
        "Training accuracy: 0.632969798658"
       ]
      },
      {
       "output_type": "stream",
       "stream": "stdout",
       "text": [
        "\n",
        "Validation accuracy: 0.415296640457"
       ]
      },
      {
       "output_type": "stream",
       "stream": "stdout",
       "text": [
        "\n",
        "(2384, 1)"
       ]
      },
      {
       "output_type": "stream",
       "stream": "stdout",
       "text": [
        "\n",
        "(1399, 1)\n"
       ]
      },
      {
       "output_type": "stream",
       "stream": "stdout",
       "text": [
        "Best results for the Random Forest run:\n",
        "Best parameter: {'max_depth': 5}\n",
        "Training accuracy: 0.527684563758"
       ]
      },
      {
       "output_type": "stream",
       "stream": "stdout",
       "text": [
        "\n",
        "Validation accuracy: 0.372408863474"
       ]
      },
      {
       "output_type": "stream",
       "stream": "stdout",
       "text": [
        "\n",
        "(2384, 1)"
       ]
      },
      {
       "output_type": "stream",
       "stream": "stdout",
       "text": [
        "\n",
        "(1399, 1)\n"
       ]
      },
      {
       "output_type": "stream",
       "stream": "stdout",
       "text": [
        "Best results for the Random Forest run:\n",
        "Best parameter: {'max_depth': 5}\n",
        "Training accuracy: 0.532298657718"
       ]
      },
      {
       "output_type": "stream",
       "stream": "stdout",
       "text": [
        "\n",
        "Validation accuracy: 0.398141529664"
       ]
      },
      {
       "output_type": "stream",
       "stream": "stdout",
       "text": [
        "\n",
        "(2384, 1)"
       ]
      },
      {
       "output_type": "stream",
       "stream": "stdout",
       "text": [
        "\n",
        "(1399, 1)\n"
       ]
      },
      {
       "output_type": "stream",
       "stream": "stdout",
       "text": [
        "Best results for the Random Forest run:\n",
        "Best parameter: {'max_depth': 5}\n",
        "Training accuracy: 0.489932885906"
       ]
      },
      {
       "output_type": "stream",
       "stream": "stdout",
       "text": [
        "\n",
        "Validation accuracy: 0.233023588277"
       ]
      },
      {
       "output_type": "stream",
       "stream": "stdout",
       "text": [
        "\n",
        "(2384, 1)"
       ]
      },
      {
       "output_type": "stream",
       "stream": "stdout",
       "text": [
        "\n",
        "(1399, 1)\n"
       ]
      },
      {
       "output_type": "stream",
       "stream": "stdout",
       "text": [
        "Best results for the Random Forest run:\n",
        "Best parameter: {'max_depth': 5}\n",
        "Training accuracy: 0.476090604027"
       ]
      },
      {
       "output_type": "stream",
       "stream": "stdout",
       "text": [
        "\n",
        "Validation accuracy: 0.292351679771"
       ]
      },
      {
       "output_type": "stream",
       "stream": "stdout",
       "text": [
        "\n",
        "(2384, 1)"
       ]
      },
      {
       "output_type": "stream",
       "stream": "stdout",
       "text": [
        "\n",
        "(1399, 1)\n"
       ]
      },
      {
       "output_type": "stream",
       "stream": "stdout",
       "text": [
        "Best results for the Random Forest run:\n",
        "Best parameter: {'max_depth': 5}\n",
        "Training accuracy: 0.362416107383"
       ]
      },
      {
       "output_type": "stream",
       "stream": "stdout",
       "text": [
        "\n",
        "Validation accuracy: 0.238027162259"
       ]
      },
      {
       "output_type": "stream",
       "stream": "stdout",
       "text": [
        "\n",
        "(2384, 1)"
       ]
      },
      {
       "output_type": "stream",
       "stream": "stdout",
       "text": [
        "\n",
        "(1399, 1)\n"
       ]
      },
      {
       "output_type": "stream",
       "stream": "stdout",
       "text": [
        "Best results for the Random Forest run:\n",
        "Best parameter: {'max_depth': 5}\n",
        "Training accuracy: 0.351510067114"
       ]
      },
      {
       "output_type": "stream",
       "stream": "stdout",
       "text": [
        "\n",
        "Validation accuracy: 0.237312365976"
       ]
      },
      {
       "output_type": "stream",
       "stream": "stdout",
       "text": [
        "\n",
        "(2384, 1)"
       ]
      },
      {
       "output_type": "stream",
       "stream": "stdout",
       "text": [
        "\n",
        "(1399, 1)\n"
       ]
      },
      {
       "output_type": "stream",
       "stream": "stdout",
       "text": [
        "Best results for the Random Forest run:\n",
        "Best parameter: {'max_depth': 5}\n",
        "Training accuracy: 0.341862416107"
       ]
      },
      {
       "output_type": "stream",
       "stream": "stdout",
       "text": [
        "\n",
        "Validation accuracy: 0.292351679771"
       ]
      },
      {
       "output_type": "stream",
       "stream": "stdout",
       "text": [
        "\n",
        "(2384, 1)"
       ]
      },
      {
       "output_type": "stream",
       "stream": "stdout",
       "text": [
        "\n",
        "(1399, 1)\n"
       ]
      },
      {
       "output_type": "stream",
       "stream": "stdout",
       "text": [
        "Best results for the Random Forest run:\n",
        "Best parameter: {'max_depth': 5}\n",
        "Training accuracy: 0.345637583893"
       ]
      },
      {
       "output_type": "stream",
       "stream": "stdout",
       "text": [
        "\n",
        "Validation accuracy: 0.193709792709"
       ]
      },
      {
       "output_type": "stream",
       "stream": "stdout",
       "text": [
        "\n"
       ]
      }
     ],
     "prompt_number": 8
    },
    {
     "cell_type": "code",
     "collapsed": false,
     "input": [
      "print(score)"
     ],
     "language": "python",
     "metadata": {},
     "outputs": [
      {
       "output_type": "stream",
       "stream": "stdout",
       "text": [
        "[0.27662616154395997, 0.28591851322373124, 0.21086490350250178, 0.27376697641172265, 0.26661901358112938, 0.33881343817012149, 0.078627591136526093, 0.22659042172980701, 0.32809149392423159, 0.40600428877769834, 0.27519656897784134, 0.16225875625446748, 0.41529664045746961, 0.37240886347390995, 0.39814152966404576, 0.23302358827734096, 0.29235167977126519, 0.23802716225875625, 0.23731236597569694, 0.29235167977126519, 0.1937097927090779]\n"
       ]
      }
     ],
     "prompt_number": 9
    },
    {
     "cell_type": "code",
     "collapsed": false,
     "input": [],
     "language": "python",
     "metadata": {},
     "outputs": [],
     "prompt_number": 9
    },
    {
     "cell_type": "code",
     "collapsed": false,
     "input": [],
     "language": "python",
     "metadata": {},
     "outputs": [],
     "prompt_number": 9
    },
    {
     "cell_type": "code",
     "collapsed": false,
     "input": [],
     "language": "python",
     "metadata": {},
     "outputs": [],
     "prompt_number": 73
    },
    {
     "cell_type": "code",
     "collapsed": false,
     "input": [],
     "language": "python",
     "metadata": {},
     "outputs": [],
     "prompt_number": 73
    },
    {
     "cell_type": "markdown",
     "metadata": {},
     "source": [
      "It looks like on the first try, the median count rate does best in predicting the human classification on the validation set. Let's now automate this process for the rest of the features."
     ]
    },
    {
     "cell_type": "code",
     "collapsed": false,
     "input": [
      "score_all = []\n",
      "feature_ranking = []\n",
      "nfeatures = range(features_train.shape[1])\n",
      "features_new_train = []\n",
      "features_new_val = []\n",
      "features_new_test = []\n",
      "best_params_all = []\n",
      "\n",
      "for i in range(features_train.shape[1]):\n",
      "    print(\"I am on the %ith loop\"%i)\n",
      "    score = []\n",
      "    best_params = []\n",
      "    ## first feature\n",
      "    for j in nfeatures:\n",
      "        if j in feature_ranking:\n",
      "            continue\n",
      "        print(\"I am on feature %i\"%j)\n",
      "        if len(features_new_train) == 0:\n",
      "            ft = np.atleast_2d(features_train[:,j]).T\n",
      "            fv = np.atleast_2d(features_val[:,j]).T\n",
      "            fte = np.atleast_2d(features_test[:,j]).T\n",
      "        else:\n",
      "            ft = np.concatenate((features_new_train, ft), 1)\n",
      "            fv = np.concatenate((features_new_val, fv), 1)\n",
      "            fte = np.concatenate((features_new_test, fte), 1)\n",
      "        #print(ft.shape)\n",
      "        #print(fv.shape)\n",
      "        ### scale features\n",
      "        f_all = np.concatenate((ft, fv, fte))\n",
      "        print(\"NaN in row: \" + str(np.where(np.isnan(f_all))))\n",
      "        scaler_train = StandardScaler().fit(f_all)\n",
      "        fscaled_train = scaler_train.transform(ft)\n",
      "        #print(fscaled_train.shape)\n",
      "\n",
      "        #scaler_val = StandardScaler().fit(fv)\n",
      "        fscaled_val = scaler_train.transform(fv)\n",
      "        #print(fscaled_val.shape)\n",
      "        ### Random Forest Classifier\n",
      "        params = {'max_depth': [5,10,20,50,100,200,400]}#,\n",
      "        grid_rfc = GridSearchCV(RandomForestClassifier(n_estimators=250), param_grid=params,\n",
      "                                verbose=0, n_jobs=4)\n",
      "        #rfc = RandomForestClassifier(n_estimators=500, max_depth=10)\n",
      "        #rfc.fit(fscaled_train, labels_train)\n",
      "        grid_rfc.fit(fscaled_train, labels_train)\n",
      "        #print(\"Best results for the Random Forest run:\")\n",
      "        #print(\"Best parameter: \" + str(grid_rfc.best_params_))\n",
      "        best_params.append(grid_rfc.best_params_)\n",
      "        #print(\"Training accuracy: \" + str(grid_rfc.score(fscaled_train, labels_train)))\n",
      "        #print(\"Validation accuracy: \" + str(grid_rfc.score(fscaled_val, labels_val)))\n",
      "        score.append(grid_rfc.score(fscaled_val, labels_val))\n",
      "    \n",
      "    score_all.append(score)\n",
      "    best_params_all.append(best_params)\n",
      "    best_ind = np.where(score == np.max(score))[0]\n",
      "    print(\"best_ind: \" + str(best_ind))\n",
      "    if len(best_ind) > 1:\n",
      "        best_ind = best_ind[0]\n",
      "    print(\"The best score in round \" + str(i) + \" is \" + str(np.max(score)))\n",
      "    n_best = nfeatures.pop(best_ind)\n",
      "    print(\"The best-ranked feature in round \" + str(i) + \" is \" + str(n_best))\n",
      "    feature_ranking.append(n_best)\n",
      "    if len(features_new_train) == 0:\n",
      "        features_new_train = np.atleast_2d(features_train[:,n_best]).T\n",
      "        features_new_val = np.atleast_2d(features_val[:,n_best]).T\n",
      "        features_new_test = np.atleast_2d(features_test[:,n_best]).T\n",
      "    else:\n",
      "        features_new_train = np.concatenate((features_new_train, np.atleast_2d(features_train[:,n_best]).T), 1)\n",
      "        features_new_val = np.concatenate((features_new_val, np.atleast_2d(features_val[:,n_best]).T), 1)\n",
      "        features_new_test = np.concatenate((features_new_test, np.atleast_2d(features_test[:,n_best]).T), 1)\n"
     ],
     "language": "python",
     "metadata": {},
     "outputs": [
      {
       "output_type": "stream",
       "stream": "stdout",
       "text": [
        "I am on the 0th loop\n",
        "I am on feature 0\n",
        "NaN in row: (array([], dtype=int64), array([], dtype=int64))\n"
       ]
      },
      {
       "output_type": "stream",
       "stream": "stdout",
       "text": [
        "I am on feature 1\n",
        "NaN in row: (array([], dtype=int64), array([], dtype=int64))\n"
       ]
      },
      {
       "output_type": "stream",
       "stream": "stdout",
       "text": [
        "I am on feature 2\n",
        "NaN in row: (array([], dtype=int64), array([], dtype=int64))\n"
       ]
      },
      {
       "output_type": "stream",
       "stream": "stdout",
       "text": [
        "I am on feature 3\n",
        "NaN in row: (array([], dtype=int64), array([], dtype=int64))\n"
       ]
      },
      {
       "output_type": "stream",
       "stream": "stdout",
       "text": [
        "I am on feature 4\n",
        "NaN in row: (array([], dtype=int64), array([], dtype=int64))\n"
       ]
      },
      {
       "output_type": "stream",
       "stream": "stdout",
       "text": [
        "I am on feature 5\n",
        "NaN in row: (array([], dtype=int64), array([], dtype=int64))\n"
       ]
      },
      {
       "output_type": "stream",
       "stream": "stdout",
       "text": [
        "I am on feature 6\n",
        "NaN in row: (array([], dtype=int64), array([], dtype=int64))\n"
       ]
      },
      {
       "output_type": "stream",
       "stream": "stdout",
       "text": [
        "I am on feature 7\n",
        "NaN in row: (array([], dtype=int64), array([], dtype=int64))\n"
       ]
      },
      {
       "output_type": "stream",
       "stream": "stdout",
       "text": [
        "I am on feature 8\n",
        "NaN in row: (array([], dtype=int64), array([], dtype=int64))\n"
       ]
      },
      {
       "output_type": "stream",
       "stream": "stdout",
       "text": [
        "I am on feature 9\n",
        "NaN in row: (array([], dtype=int64), array([], dtype=int64))\n"
       ]
      },
      {
       "output_type": "stream",
       "stream": "stdout",
       "text": [
        "I am on feature 10\n",
        "NaN in row: (array([], dtype=int64), array([], dtype=int64))\n"
       ]
      },
      {
       "output_type": "stream",
       "stream": "stdout",
       "text": [
        "I am on feature 11\n",
        "NaN in row: (array([], dtype=int64), array([], dtype=int64))\n"
       ]
      },
      {
       "output_type": "stream",
       "stream": "stdout",
       "text": [
        "I am on feature 12\n",
        "NaN in row: (array([], dtype=int64), array([], dtype=int64))\n"
       ]
      },
      {
       "output_type": "stream",
       "stream": "stdout",
       "text": [
        "I am on feature 13\n",
        "NaN in row: (array([], dtype=int64), array([], dtype=int64))\n"
       ]
      },
      {
       "output_type": "stream",
       "stream": "stdout",
       "text": [
        "I am on feature 14\n",
        "NaN in row: (array([], dtype=int64), array([], dtype=int64))\n"
       ]
      },
      {
       "output_type": "stream",
       "stream": "stdout",
       "text": [
        "I am on feature 15\n",
        "NaN in row: (array([], dtype=int64), array([], dtype=int64))\n"
       ]
      },
      {
       "output_type": "stream",
       "stream": "stdout",
       "text": [
        "I am on feature 16\n",
        "NaN in row: (array([], dtype=int64), array([], dtype=int64))\n"
       ]
      },
      {
       "output_type": "stream",
       "stream": "stdout",
       "text": [
        "I am on feature 17\n",
        "NaN in row: (array([], dtype=int64), array([], dtype=int64))\n"
       ]
      },
      {
       "output_type": "stream",
       "stream": "stdout",
       "text": [
        "I am on feature 18\n",
        "NaN in row: (array([], dtype=int64), array([], dtype=int64))\n"
       ]
      },
      {
       "output_type": "stream",
       "stream": "stdout",
       "text": [
        "I am on feature 19\n",
        "NaN in row: (array([], dtype=int64), array([], dtype=int64))\n"
       ]
      },
      {
       "output_type": "stream",
       "stream": "stdout",
       "text": [
        "I am on feature 20\n",
        "NaN in row: (array([], dtype=int64), array([], dtype=int64))\n"
       ]
      },
      {
       "output_type": "stream",
       "stream": "stdout",
       "text": [
        "best_ind: [12]\n",
        "The best score in round 0 is 0.501786990708\n",
        "The best-ranked feature in round 0 is 12\n",
        "I am on the 1th loop\n",
        "I am on feature 0\n",
        "NaN in row: (array([], dtype=int64), array([], dtype=int64))\n"
       ]
      },
      {
       "output_type": "stream",
       "stream": "stdout",
       "text": [
        "I am on feature 1\n",
        "NaN in row: (array([], dtype=int64), array([], dtype=int64))\n"
       ]
      },
      {
       "output_type": "stream",
       "stream": "stdout",
       "text": [
        "I am on feature 2\n",
        "NaN in row: (array([], dtype=int64), array([], dtype=int64))\n"
       ]
      },
      {
       "output_type": "stream",
       "stream": "stdout",
       "text": [
        "I am on feature 3\n",
        "NaN in row: (array([], dtype=int64), array([], dtype=int64))\n"
       ]
      },
      {
       "output_type": "stream",
       "stream": "stdout",
       "text": [
        "I am on feature 4\n",
        "NaN in row: (array([], dtype=int64), array([], dtype=int64))\n"
       ]
      },
      {
       "output_type": "stream",
       "stream": "stdout",
       "text": [
        "I am on feature 5\n",
        "NaN in row: (array([], dtype=int64), array([], dtype=int64))\n"
       ]
      },
      {
       "output_type": "stream",
       "stream": "stdout",
       "text": [
        "I am on feature 6\n",
        "NaN in row: (array([], dtype=int64), array([], dtype=int64))\n"
       ]
      },
      {
       "output_type": "stream",
       "stream": "stdout",
       "text": [
        "I am on feature 7\n",
        "NaN in row: (array([], dtype=int64), array([], dtype=int64))\n"
       ]
      },
      {
       "output_type": "stream",
       "stream": "stdout",
       "text": [
        "I am on feature 8\n",
        "NaN in row: (array([], dtype=int64), array([], dtype=int64))\n"
       ]
      },
      {
       "output_type": "stream",
       "stream": "stdout",
       "text": [
        "I am on feature 9\n",
        "NaN in row: (array([], dtype=int64), array([], dtype=int64))\n"
       ]
      },
      {
       "output_type": "stream",
       "stream": "stdout",
       "text": [
        "I am on feature 10\n",
        "NaN in row: (array([], dtype=int64), array([], dtype=int64))\n"
       ]
      },
      {
       "output_type": "stream",
       "stream": "stdout",
       "text": [
        "I am on feature 11\n",
        "NaN in row: (array([], dtype=int64), array([], dtype=int64))\n"
       ]
      },
      {
       "output_type": "stream",
       "stream": "stdout",
       "text": [
        "I am on feature 13\n",
        "NaN in row: (array([], dtype=int64), array([], dtype=int64))\n"
       ]
      },
      {
       "output_type": "stream",
       "stream": "stdout",
       "text": [
        "I am on feature 14\n",
        "NaN in row: (array([], dtype=int64), array([], dtype=int64))\n"
       ]
      },
      {
       "output_type": "stream",
       "stream": "stdout",
       "text": [
        "I am on feature 15\n",
        "NaN in row: (array([], dtype=int64), array([], dtype=int64))\n"
       ]
      },
      {
       "output_type": "stream",
       "stream": "stdout",
       "text": [
        "I am on feature 16\n",
        "NaN in row: (array([], dtype=int64), array([], dtype=int64))\n"
       ]
      },
      {
       "output_type": "stream",
       "stream": "stdout",
       "text": [
        "I am on feature 17\n",
        "NaN in row: (array([], dtype=int64), array([], dtype=int64))\n"
       ]
      },
      {
       "output_type": "stream",
       "stream": "stdout",
       "text": [
        "I am on feature 18\n",
        "NaN in row: (array([], dtype=int64), array([], dtype=int64))\n"
       ]
      },
      {
       "output_type": "stream",
       "stream": "stdout",
       "text": [
        "I am on feature 19\n",
        "NaN in row: (array([], dtype=int64), array([], dtype=int64))\n"
       ]
      },
      {
       "output_type": "stream",
       "stream": "stdout",
       "text": [
        "I am on feature 20\n",
        "NaN in row: (array([], dtype=int64), array([], dtype=int64))\n"
       ]
      },
      {
       "output_type": "stream",
       "stream": "stdout",
       "text": [
        "best_ind: [1]\n",
        "The best score in round 1 is 0.558255897069\n",
        "The best-ranked feature in round 1 is 1\n",
        "I am on the 2th loop\n",
        "I am on feature 0\n",
        "NaN in row: (array([], dtype=int64), array([], dtype=int64))\n"
       ]
      },
      {
       "output_type": "stream",
       "stream": "stdout",
       "text": [
        "I am on feature 2\n",
        "NaN in row: (array([], dtype=int64), array([], dtype=int64))\n"
       ]
      },
      {
       "output_type": "stream",
       "stream": "stdout",
       "text": [
        "I am on feature 3\n",
        "NaN in row: (array([], dtype=int64), array([], dtype=int64))\n"
       ]
      },
      {
       "output_type": "stream",
       "stream": "stdout",
       "text": [
        "I am on feature 4\n",
        "NaN in row: (array([], dtype=int64), array([], dtype=int64))\n"
       ]
      },
      {
       "output_type": "stream",
       "stream": "stdout",
       "text": [
        "I am on feature 5\n",
        "NaN in row: (array([], dtype=int64), array([], dtype=int64))\n"
       ]
      },
      {
       "output_type": "stream",
       "stream": "stdout",
       "text": [
        "I am on feature 6\n",
        "NaN in row: (array([], dtype=int64), array([], dtype=int64))\n"
       ]
      },
      {
       "output_type": "stream",
       "stream": "stdout",
       "text": [
        "I am on feature 7\n",
        "NaN in row: (array([], dtype=int64), array([], dtype=int64))\n"
       ]
      },
      {
       "output_type": "stream",
       "stream": "stdout",
       "text": [
        "I am on feature 8\n",
        "NaN in row: (array([], dtype=int64), array([], dtype=int64))\n"
       ]
      },
      {
       "output_type": "stream",
       "stream": "stdout",
       "text": [
        "I am on feature 9\n",
        "NaN in row: (array([], dtype=int64), array([], dtype=int64))\n"
       ]
      },
      {
       "output_type": "stream",
       "stream": "stdout",
       "text": [
        "I am on feature 10\n",
        "NaN in row: (array([], dtype=int64), array([], dtype=int64))\n"
       ]
      },
      {
       "output_type": "stream",
       "stream": "stdout",
       "text": [
        "I am on feature 11\n",
        "NaN in row: (array([], dtype=int64), array([], dtype=int64))\n"
       ]
      },
      {
       "output_type": "stream",
       "stream": "stdout",
       "text": [
        "I am on feature 13\n",
        "NaN in row: (array([], dtype=int64), array([], dtype=int64))\n"
       ]
      },
      {
       "output_type": "stream",
       "stream": "stdout",
       "text": [
        "I am on feature 14\n",
        "NaN in row: (array([], dtype=int64), array([], dtype=int64))\n"
       ]
      },
      {
       "output_type": "stream",
       "stream": "stdout",
       "text": [
        "I am on feature 15\n",
        "NaN in row: (array([], dtype=int64), array([], dtype=int64))\n"
       ]
      },
      {
       "output_type": "stream",
       "stream": "stdout",
       "text": [
        "I am on feature 16\n",
        "NaN in row: (array([], dtype=int64), array([], dtype=int64))\n"
       ]
      },
      {
       "output_type": "stream",
       "stream": "stdout",
       "text": [
        "I am on feature 17\n",
        "NaN in row: (array([], dtype=int64), array([], dtype=int64))\n"
       ]
      },
      {
       "output_type": "stream",
       "stream": "stdout",
       "text": [
        "I am on feature 18\n",
        "NaN in row: (array([], dtype=int64), array([], dtype=int64))\n"
       ]
      },
      {
       "output_type": "stream",
       "stream": "stdout",
       "text": [
        "I am on feature 19\n",
        "NaN in row: (array([], dtype=int64), array([], dtype=int64))\n"
       ]
      },
      {
       "output_type": "stream",
       "stream": "stdout",
       "text": [
        "I am on feature 20\n",
        "NaN in row: (array([], dtype=int64), array([], dtype=int64))\n"
       ]
      },
      {
       "output_type": "stream",
       "stream": "stdout",
       "text": [
        "best_ind: [5]\n",
        "The best score in round 2 is 0.689778413152\n",
        "The best-ranked feature in round 2 is 6\n",
        "I am on the 3th loop\n",
        "I am on feature 0\n",
        "NaN in row: (array([], dtype=int64), array([], dtype=int64))\n"
       ]
      },
      {
       "output_type": "stream",
       "stream": "stdout",
       "text": [
        "I am on feature 2\n",
        "NaN in row: (array([], dtype=int64), array([], dtype=int64))\n"
       ]
      },
      {
       "output_type": "stream",
       "stream": "stdout",
       "text": [
        "I am on feature 3\n",
        "NaN in row: (array([], dtype=int64), array([], dtype=int64))\n"
       ]
      },
      {
       "output_type": "stream",
       "stream": "stdout",
       "text": [
        "I am on feature 4\n",
        "NaN in row: (array([], dtype=int64), array([], dtype=int64))\n"
       ]
      },
      {
       "output_type": "stream",
       "stream": "stdout",
       "text": [
        "I am on feature 5\n",
        "NaN in row: (array([], dtype=int64), array([], dtype=int64))\n"
       ]
      },
      {
       "output_type": "stream",
       "stream": "stdout",
       "text": [
        "I am on feature 7\n",
        "NaN in row: (array([], dtype=int64), array([], dtype=int64))\n"
       ]
      },
      {
       "output_type": "stream",
       "stream": "stdout",
       "text": [
        "I am on feature 8\n",
        "NaN in row: (array([], dtype=int64), array([], dtype=int64))\n"
       ]
      },
      {
       "output_type": "stream",
       "stream": "stdout",
       "text": [
        "I am on feature 9\n",
        "NaN in row: (array([], dtype=int64), array([], dtype=int64))\n"
       ]
      },
      {
       "output_type": "stream",
       "stream": "stdout",
       "text": [
        "I am on feature 10\n",
        "NaN in row: (array([], dtype=int64), array([], dtype=int64))\n"
       ]
      },
      {
       "output_type": "stream",
       "stream": "stdout",
       "text": [
        "I am on feature 11\n",
        "NaN in row: (array([], dtype=int64), array([], dtype=int64))\n"
       ]
      },
      {
       "output_type": "stream",
       "stream": "stdout",
       "text": [
        "I am on feature 13\n",
        "NaN in row: (array([], dtype=int64), array([], dtype=int64))\n"
       ]
      },
      {
       "output_type": "stream",
       "stream": "stdout",
       "text": [
        "I am on feature 14\n",
        "NaN in row: (array([], dtype=int64), array([], dtype=int64))\n"
       ]
      },
      {
       "output_type": "stream",
       "stream": "stdout",
       "text": [
        "I am on feature 15\n",
        "NaN in row: (array([], dtype=int64), array([], dtype=int64))\n"
       ]
      },
      {
       "output_type": "stream",
       "stream": "stdout",
       "text": [
        "I am on feature 16\n",
        "NaN in row: (array([], dtype=int64), array([], dtype=int64))\n"
       ]
      },
      {
       "output_type": "stream",
       "stream": "stdout",
       "text": [
        "I am on feature 17\n",
        "NaN in row: (array([], dtype=int64), array([], dtype=int64))\n"
       ]
      },
      {
       "output_type": "stream",
       "stream": "stdout",
       "text": [
        "I am on feature 18\n",
        "NaN in row: (array([], dtype=int64), array([], dtype=int64))\n"
       ]
      },
      {
       "output_type": "stream",
       "stream": "stdout",
       "text": [
        "I am on feature 19\n",
        "NaN in row: (array([], dtype=int64), array([], dtype=int64))\n"
       ]
      },
      {
       "output_type": "stream",
       "stream": "stdout",
       "text": [
        "I am on feature 20\n",
        "NaN in row: (array([], dtype=int64), array([], dtype=int64))\n"
       ]
      },
      {
       "output_type": "stream",
       "stream": "stdout",
       "text": [
        "best_ind: [14 17]\n",
        "The best score in round 3 is 0.764832022873\n",
        "The best-ranked feature in round 3 is 17\n",
        "I am on the 4th loop\n",
        "I am on feature 0\n",
        "NaN in row: (array([], dtype=int64), array([], dtype=int64))\n"
       ]
      },
      {
       "output_type": "stream",
       "stream": "stdout",
       "text": [
        "I am on feature 2\n",
        "NaN in row: (array([], dtype=int64), array([], dtype=int64))\n"
       ]
      },
      {
       "output_type": "stream",
       "stream": "stdout",
       "text": [
        "I am on feature 3\n",
        "NaN in row: (array([], dtype=int64), array([], dtype=int64))\n"
       ]
      },
      {
       "output_type": "stream",
       "stream": "stdout",
       "text": [
        "I am on feature 4\n",
        "NaN in row: (array([], dtype=int64), array([], dtype=int64))\n"
       ]
      },
      {
       "output_type": "stream",
       "stream": "stdout",
       "text": [
        "I am on feature 5\n",
        "NaN in row: (array([], dtype=int64), array([], dtype=int64))\n"
       ]
      },
      {
       "output_type": "stream",
       "stream": "stdout",
       "text": [
        "I am on feature 7\n",
        "NaN in row: (array([], dtype=int64), array([], dtype=int64))\n"
       ]
      },
      {
       "output_type": "stream",
       "stream": "stdout",
       "text": [
        "I am on feature 8\n",
        "NaN in row: (array([], dtype=int64), array([], dtype=int64))\n"
       ]
      },
      {
       "output_type": "stream",
       "stream": "stdout",
       "text": [
        "I am on feature 9\n",
        "NaN in row: (array([], dtype=int64), array([], dtype=int64))\n"
       ]
      },
      {
       "output_type": "stream",
       "stream": "stdout",
       "text": [
        "I am on feature 10\n",
        "NaN in row: (array([], dtype=int64), array([], dtype=int64))\n"
       ]
      },
      {
       "output_type": "stream",
       "stream": "stdout",
       "text": [
        "I am on feature 11\n",
        "NaN in row: (array([], dtype=int64), array([], dtype=int64))\n"
       ]
      },
      {
       "output_type": "stream",
       "stream": "stdout",
       "text": [
        "I am on feature 13\n",
        "NaN in row: (array([], dtype=int64), array([], dtype=int64))\n"
       ]
      },
      {
       "output_type": "stream",
       "stream": "stdout",
       "text": [
        "I am on feature 14\n",
        "NaN in row: (array([], dtype=int64), array([], dtype=int64))\n"
       ]
      },
      {
       "output_type": "stream",
       "stream": "stdout",
       "text": [
        "I am on feature 15\n",
        "NaN in row: (array([], dtype=int64), array([], dtype=int64))\n"
       ]
      },
      {
       "output_type": "stream",
       "stream": "stdout",
       "text": [
        "I am on feature 16\n",
        "NaN in row: (array([], dtype=int64), array([], dtype=int64))\n"
       ]
      },
      {
       "output_type": "stream",
       "stream": "stdout",
       "text": [
        "I am on feature 18\n",
        "NaN in row: (array([], dtype=int64), array([], dtype=int64))\n"
       ]
      },
      {
       "output_type": "stream",
       "stream": "stdout",
       "text": [
        "I am on feature 19\n",
        "NaN in row: (array([], dtype=int64), array([], dtype=int64))\n"
       ]
      },
      {
       "output_type": "stream",
       "stream": "stdout",
       "text": [
        "I am on feature 20\n",
        "NaN in row: (array([], dtype=int64), array([], dtype=int64))\n"
       ]
      },
      {
       "output_type": "stream",
       "stream": "stdout",
       "text": [
        "best_ind: [ 9 10]\n",
        "The best score in round 4 is 0.776268763402\n",
        "The best-ranked feature in round 4 is 11\n",
        "I am on the 5th loop\n",
        "I am on feature 0\n",
        "NaN in row: (array([], dtype=int64), array([], dtype=int64))\n"
       ]
      },
      {
       "output_type": "stream",
       "stream": "stdout",
       "text": [
        "I am on feature 2\n",
        "NaN in row: (array([], dtype=int64), array([], dtype=int64))\n"
       ]
      },
      {
       "output_type": "stream",
       "stream": "stdout",
       "text": [
        "I am on feature 3\n",
        "NaN in row: (array([], dtype=int64), array([], dtype=int64))\n"
       ]
      },
      {
       "output_type": "stream",
       "stream": "stdout",
       "text": [
        "I am on feature 4\n",
        "NaN in row: (array([], dtype=int64), array([], dtype=int64))\n"
       ]
      },
      {
       "output_type": "stream",
       "stream": "stdout",
       "text": [
        "I am on feature 5\n",
        "NaN in row: (array([], dtype=int64), array([], dtype=int64))\n"
       ]
      },
      {
       "output_type": "stream",
       "stream": "stdout",
       "text": [
        "I am on feature 7\n",
        "NaN in row: (array([], dtype=int64), array([], dtype=int64))\n"
       ]
      },
      {
       "output_type": "stream",
       "stream": "stdout",
       "text": [
        "I am on feature 8\n",
        "NaN in row: (array([], dtype=int64), array([], dtype=int64))\n"
       ]
      },
      {
       "output_type": "stream",
       "stream": "stdout",
       "text": [
        "I am on feature 9\n",
        "NaN in row: (array([], dtype=int64), array([], dtype=int64))\n"
       ]
      },
      {
       "output_type": "stream",
       "stream": "stdout",
       "text": [
        "I am on feature 10\n",
        "NaN in row: (array([], dtype=int64), array([], dtype=int64))\n"
       ]
      },
      {
       "output_type": "stream",
       "stream": "stdout",
       "text": [
        "I am on feature 13\n",
        "NaN in row: (array([], dtype=int64), array([], dtype=int64))\n"
       ]
      },
      {
       "output_type": "stream",
       "stream": "stdout",
       "text": [
        "I am on feature 14\n",
        "NaN in row: (array([], dtype=int64), array([], dtype=int64))\n"
       ]
      },
      {
       "output_type": "stream",
       "stream": "stdout",
       "text": [
        "I am on feature 15\n",
        "NaN in row: (array([], dtype=int64), array([], dtype=int64))\n"
       ]
      },
      {
       "output_type": "stream",
       "stream": "stdout",
       "text": [
        "I am on feature 16\n",
        "NaN in row: (array([], dtype=int64), array([], dtype=int64))\n"
       ]
      },
      {
       "output_type": "stream",
       "stream": "stdout",
       "text": [
        "I am on feature 18\n",
        "NaN in row: (array([], dtype=int64), array([], dtype=int64))\n"
       ]
      },
      {
       "output_type": "stream",
       "stream": "stdout",
       "text": [
        "I am on feature 19\n",
        "NaN in row: (array([], dtype=int64), array([], dtype=int64))\n"
       ]
      },
      {
       "output_type": "stream",
       "stream": "stdout",
       "text": [
        "I am on feature 20\n",
        "NaN in row: (array([], dtype=int64), array([], dtype=int64))\n"
       ]
      },
      {
       "output_type": "stream",
       "stream": "stdout",
       "text": [
        "best_ind: [7]\n",
        "The best score in round 5 is 0.823445318084\n",
        "The best-ranked feature in round 5 is 9\n",
        "I am on the 6th loop\n",
        "I am on feature 0\n",
        "NaN in row: (array([], dtype=int64), array([], dtype=int64))\n"
       ]
      },
      {
       "output_type": "stream",
       "stream": "stdout",
       "text": [
        "I am on feature 2\n",
        "NaN in row: (array([], dtype=int64), array([], dtype=int64))\n"
       ]
      },
      {
       "output_type": "stream",
       "stream": "stdout",
       "text": [
        "I am on feature 3\n",
        "NaN in row: (array([], dtype=int64), array([], dtype=int64))\n"
       ]
      },
      {
       "output_type": "stream",
       "stream": "stdout",
       "text": [
        "I am on feature 4\n",
        "NaN in row: (array([], dtype=int64), array([], dtype=int64))\n"
       ]
      },
      {
       "output_type": "stream",
       "stream": "stdout",
       "text": [
        "I am on feature 5\n",
        "NaN in row: (array([], dtype=int64), array([], dtype=int64))\n"
       ]
      },
      {
       "output_type": "stream",
       "stream": "stdout",
       "text": [
        "I am on feature 7\n",
        "NaN in row: (array([], dtype=int64), array([], dtype=int64))\n"
       ]
      },
      {
       "output_type": "stream",
       "stream": "stdout",
       "text": [
        "I am on feature 8\n",
        "NaN in row: (array([], dtype=int64), array([], dtype=int64))\n"
       ]
      },
      {
       "output_type": "stream",
       "stream": "stdout",
       "text": [
        "I am on feature 10\n",
        "NaN in row: (array([], dtype=int64), array([], dtype=int64))\n"
       ]
      },
      {
       "output_type": "stream",
       "stream": "stdout",
       "text": [
        "I am on feature 13\n",
        "NaN in row: (array([], dtype=int64), array([], dtype=int64))\n"
       ]
      },
      {
       "output_type": "stream",
       "stream": "stdout",
       "text": [
        "I am on feature 14\n",
        "NaN in row: (array([], dtype=int64), array([], dtype=int64))\n"
       ]
      },
      {
       "output_type": "stream",
       "stream": "stdout",
       "text": [
        "I am on feature 15\n",
        "NaN in row: (array([], dtype=int64), array([], dtype=int64))\n"
       ]
      },
      {
       "output_type": "stream",
       "stream": "stdout",
       "text": [
        "I am on feature 16\n",
        "NaN in row: (array([], dtype=int64), array([], dtype=int64))\n"
       ]
      },
      {
       "output_type": "stream",
       "stream": "stdout",
       "text": [
        "I am on feature 18\n",
        "NaN in row: (array([], dtype=int64), array([], dtype=int64))\n"
       ]
      },
      {
       "output_type": "stream",
       "stream": "stdout",
       "text": [
        "I am on feature 19\n",
        "NaN in row: (array([], dtype=int64), array([], dtype=int64))\n"
       ]
      },
      {
       "output_type": "stream",
       "stream": "stdout",
       "text": [
        "I am on feature 20\n",
        "NaN in row: (array([], dtype=int64), array([], dtype=int64))\n"
       ]
      },
      {
       "output_type": "stream",
       "stream": "stdout",
       "text": [
        "best_ind: [14]\n",
        "The best score in round 6 is 0.839885632595\n",
        "The best-ranked feature in round 6 is 20\n",
        "I am on the 7th loop\n",
        "I am on feature 0\n",
        "NaN in row: (array([], dtype=int64), array([], dtype=int64))\n"
       ]
      },
      {
       "output_type": "stream",
       "stream": "stdout",
       "text": [
        "I am on feature 2\n",
        "NaN in row: (array([], dtype=int64), array([], dtype=int64))\n"
       ]
      },
      {
       "output_type": "stream",
       "stream": "stdout",
       "text": [
        "I am on feature 3\n",
        "NaN in row: (array([], dtype=int64), array([], dtype=int64))\n"
       ]
      },
      {
       "output_type": "stream",
       "stream": "stdout",
       "text": [
        "I am on feature 4\n",
        "NaN in row: (array([], dtype=int64), array([], dtype=int64))\n"
       ]
      },
      {
       "output_type": "stream",
       "stream": "stdout",
       "text": [
        "I am on feature 5\n",
        "NaN in row: (array([], dtype=int64), array([], dtype=int64))\n"
       ]
      },
      {
       "output_type": "stream",
       "stream": "stdout",
       "text": [
        "I am on feature 7\n",
        "NaN in row: (array([], dtype=int64), array([], dtype=int64))\n"
       ]
      },
      {
       "output_type": "stream",
       "stream": "stdout",
       "text": [
        "I am on feature 8\n",
        "NaN in row: (array([], dtype=int64), array([], dtype=int64))\n"
       ]
      },
      {
       "output_type": "stream",
       "stream": "stdout",
       "text": [
        "I am on feature 10\n",
        "NaN in row: (array([], dtype=int64), array([], dtype=int64))\n"
       ]
      },
      {
       "output_type": "stream",
       "stream": "stdout",
       "text": [
        "I am on feature 13\n",
        "NaN in row: (array([], dtype=int64), array([], dtype=int64))\n"
       ]
      },
      {
       "output_type": "stream",
       "stream": "stdout",
       "text": [
        "I am on feature 14\n",
        "NaN in row: (array([], dtype=int64), array([], dtype=int64))\n"
       ]
      },
      {
       "output_type": "stream",
       "stream": "stdout",
       "text": [
        "I am on feature 15\n",
        "NaN in row: (array([], dtype=int64), array([], dtype=int64))\n"
       ]
      },
      {
       "output_type": "stream",
       "stream": "stdout",
       "text": [
        "I am on feature 16\n",
        "NaN in row: (array([], dtype=int64), array([], dtype=int64))\n"
       ]
      },
      {
       "output_type": "stream",
       "stream": "stdout",
       "text": [
        "I am on feature 18\n",
        "NaN in row: (array([], dtype=int64), array([], dtype=int64))\n"
       ]
      },
      {
       "output_type": "stream",
       "stream": "stdout",
       "text": [
        "I am on feature 19\n",
        "NaN in row: (array([], dtype=int64), array([], dtype=int64))\n"
       ]
      },
      {
       "output_type": "stream",
       "stream": "stdout",
       "text": [
        "best_ind: [8]\n",
        "The best score in round 7 is 0.842744817727\n",
        "The best-ranked feature in round 7 is 13\n",
        "I am on the 8th loop\n",
        "I am on feature 0\n",
        "NaN in row: (array([], dtype=int64), array([], dtype=int64))\n"
       ]
      },
      {
       "output_type": "stream",
       "stream": "stdout",
       "text": [
        "I am on feature 2\n",
        "NaN in row: (array([], dtype=int64), array([], dtype=int64))\n"
       ]
      },
      {
       "output_type": "stream",
       "stream": "stdout",
       "text": [
        "I am on feature 3\n",
        "NaN in row: (array([], dtype=int64), array([], dtype=int64))\n"
       ]
      },
      {
       "output_type": "stream",
       "stream": "stdout",
       "text": [
        "I am on feature 4\n",
        "NaN in row: (array([], dtype=int64), array([], dtype=int64))\n"
       ]
      },
      {
       "output_type": "stream",
       "stream": "stdout",
       "text": [
        "I am on feature 5\n",
        "NaN in row: (array([], dtype=int64), array([], dtype=int64))\n"
       ]
      },
      {
       "output_type": "stream",
       "stream": "stdout",
       "text": [
        "I am on feature 7\n",
        "NaN in row: (array([], dtype=int64), array([], dtype=int64))"
       ]
      },
      {
       "output_type": "stream",
       "stream": "stdout",
       "text": [
        "\n"
       ]
      },
      {
       "output_type": "stream",
       "stream": "stdout",
       "text": [
        "I am on feature 8\n",
        "NaN in row: (array([], dtype=int64), array([], dtype=int64))\n"
       ]
      },
      {
       "output_type": "stream",
       "stream": "stdout",
       "text": [
        "I am on feature 10\n",
        "NaN in row: (array([], dtype=int64), array([], dtype=int64))\n"
       ]
      },
      {
       "output_type": "stream",
       "stream": "stdout",
       "text": [
        "I am on feature 14\n",
        "NaN in row: (array([], dtype=int64), array([], dtype=int64))\n"
       ]
      },
      {
       "output_type": "stream",
       "stream": "stdout",
       "text": [
        "I am on feature 15\n",
        "NaN in row: (array([], dtype=int64), array([], dtype=int64))\n"
       ]
      },
      {
       "output_type": "stream",
       "stream": "stdout",
       "text": [
        "I am on feature 16\n",
        "NaN in row: (array([], dtype=int64), array([], dtype=int64))"
       ]
      },
      {
       "output_type": "stream",
       "stream": "stdout",
       "text": [
        "\n"
       ]
      },
      {
       "output_type": "stream",
       "stream": "stdout",
       "text": [
        "I am on feature 18\n",
        "NaN in row: (array([], dtype=int64), array([], dtype=int64))\n"
       ]
      },
      {
       "output_type": "stream",
       "stream": "stdout",
       "text": [
        "I am on feature 19\n",
        "NaN in row: (array([], dtype=int64), array([], dtype=int64))\n"
       ]
      },
      {
       "output_type": "stream",
       "stream": "stdout",
       "text": [
        "best_ind: [8]\n",
        "The best score in round 8 is 0.847033595425\n",
        "The best-ranked feature in round 8 is 14\n",
        "I am on the 9th loop\n",
        "I am on feature 0\n",
        "NaN in row: (array([], dtype=int64), array([], dtype=int64))\n"
       ]
      },
      {
       "output_type": "stream",
       "stream": "stdout",
       "text": [
        "I am on feature 2\n",
        "NaN in row: (array([], dtype=int64), array([], dtype=int64))\n"
       ]
      },
      {
       "output_type": "stream",
       "stream": "stdout",
       "text": [
        "I am on feature 3\n",
        "NaN in row: (array([], dtype=int64), array([], dtype=int64))"
       ]
      },
      {
       "output_type": "stream",
       "stream": "stdout",
       "text": [
        "\n"
       ]
      },
      {
       "output_type": "stream",
       "stream": "stdout",
       "text": [
        "I am on feature 4\n",
        "NaN in row: (array([], dtype=int64), array([], dtype=int64))\n"
       ]
      },
      {
       "output_type": "stream",
       "stream": "stdout",
       "text": [
        "I am on feature 5\n",
        "NaN in row: (array([], dtype=int64), array([], dtype=int64))\n"
       ]
      },
      {
       "output_type": "stream",
       "stream": "stdout",
       "text": [
        "I am on feature 7\n",
        "NaN in row: (array([], dtype=int64), array([], dtype=int64))\n"
       ]
      },
      {
       "output_type": "stream",
       "stream": "stdout",
       "text": [
        "I am on feature 8\n",
        "NaN in row: (array([], dtype=int64), array([], dtype=int64))\n"
       ]
      },
      {
       "output_type": "stream",
       "stream": "stdout",
       "text": [
        "I am on feature 10\n",
        "NaN in row: (array([], dtype=int64), array([], dtype=int64))\n"
       ]
      },
      {
       "output_type": "stream",
       "stream": "stdout",
       "text": [
        "I am on feature 15\n",
        "NaN in row: (array([], dtype=int64), array([], dtype=int64))\n"
       ]
      },
      {
       "output_type": "stream",
       "stream": "stdout",
       "text": [
        "I am on feature 16\n",
        "NaN in row: (array([], dtype=int64), array([], dtype=int64))\n"
       ]
      },
      {
       "output_type": "stream",
       "stream": "stdout",
       "text": [
        "I am on feature 18\n",
        "NaN in row: (array([], dtype=int64), array([], dtype=int64))\n"
       ]
      },
      {
       "output_type": "stream",
       "stream": "stdout",
       "text": [
        "I am on feature 19\n",
        "NaN in row: (array([], dtype=int64), array([], dtype=int64))\n"
       ]
      },
      {
       "output_type": "stream",
       "stream": "stdout",
       "text": [
        "best_ind: [6]\n",
        "The best score in round 9 is 0.849892780558\n",
        "The best-ranked feature in round 9 is 8\n",
        "I am on the 10th loop\n",
        "I am on feature 0\n",
        "NaN in row: (array([], dtype=int64), array([], dtype=int64))\n"
       ]
      },
      {
       "output_type": "stream",
       "stream": "stdout",
       "text": [
        "I am on feature 2\n",
        "NaN in row: (array([], dtype=int64), array([], dtype=int64))\n"
       ]
      },
      {
       "output_type": "stream",
       "stream": "stdout",
       "text": [
        "I am on feature 3\n",
        "NaN in row: (array([], dtype=int64), array([], dtype=int64))\n"
       ]
      },
      {
       "output_type": "stream",
       "stream": "stdout",
       "text": [
        "I am on feature 4\n",
        "NaN in row: (array([], dtype=int64), array([], dtype=int64))\n"
       ]
      },
      {
       "output_type": "stream",
       "stream": "stdout",
       "text": [
        "I am on feature 5\n",
        "NaN in row: (array([], dtype=int64), array([], dtype=int64))\n"
       ]
      },
      {
       "output_type": "stream",
       "stream": "stdout",
       "text": [
        "I am on feature 7\n",
        "NaN in row: (array([], dtype=int64), array([], dtype=int64))\n"
       ]
      },
      {
       "output_type": "stream",
       "stream": "stdout",
       "text": [
        "I am on feature 10\n",
        "NaN in row: (array([], dtype=int64), array([], dtype=int64))\n"
       ]
      },
      {
       "output_type": "stream",
       "stream": "stdout",
       "text": [
        "I am on feature 15\n",
        "NaN in row: (array([], dtype=int64), array([], dtype=int64))\n"
       ]
      },
      {
       "output_type": "stream",
       "stream": "stdout",
       "text": [
        "I am on feature 16\n",
        "NaN in row: (array([], dtype=int64), array([], dtype=int64))"
       ]
      },
      {
       "output_type": "stream",
       "stream": "stdout",
       "text": [
        "\n"
       ]
      },
      {
       "output_type": "stream",
       "stream": "stdout",
       "text": [
        "I am on feature 18\n",
        "NaN in row: (array([], dtype=int64), array([], dtype=int64))"
       ]
      },
      {
       "output_type": "stream",
       "stream": "stdout",
       "text": [
        "\n"
       ]
      },
      {
       "output_type": "stream",
       "stream": "stdout",
       "text": [
        "I am on feature 19\n",
        "NaN in row: (array([], dtype=int64), array([], dtype=int64))\n"
       ]
      },
      {
       "output_type": "stream",
       "stream": "stdout",
       "text": [
        "best_ind: [8]\n",
        "The best score in round 10 is 0.849892780558\n",
        "The best-ranked feature in round 10 is 16\n",
        "I am on the 11th loop\n",
        "I am on feature 0\n",
        "NaN in row: (array([], dtype=int64), array([], dtype=int64))\n"
       ]
      },
      {
       "output_type": "stream",
       "stream": "stdout",
       "text": [
        "I am on feature 2\n",
        "NaN in row: (array([], dtype=int64), array([], dtype=int64))"
       ]
      },
      {
       "output_type": "stream",
       "stream": "stdout",
       "text": [
        "\n"
       ]
      },
      {
       "output_type": "stream",
       "stream": "stdout",
       "text": [
        "I am on feature 3\n",
        "NaN in row: (array([], dtype=int64), array([], dtype=int64))"
       ]
      },
      {
       "output_type": "stream",
       "stream": "stdout",
       "text": [
        "\n"
       ]
      },
      {
       "output_type": "stream",
       "stream": "stdout",
       "text": [
        "I am on feature 4\n",
        "NaN in row: (array([], dtype=int64), array([], dtype=int64))\n"
       ]
      },
      {
       "output_type": "stream",
       "stream": "stdout",
       "text": [
        "I am on feature 5\n",
        "NaN in row: (array([], dtype=int64), array([], dtype=int64))"
       ]
      },
      {
       "output_type": "stream",
       "stream": "stdout",
       "text": [
        "\n"
       ]
      },
      {
       "output_type": "stream",
       "stream": "stdout",
       "text": [
        "I am on feature 7\n",
        "NaN in row: (array([], dtype=int64), array([], dtype=int64))\n"
       ]
      },
      {
       "output_type": "stream",
       "stream": "stdout",
       "text": [
        "I am on feature 10\n",
        "NaN in row: (array([], dtype=int64), array([], dtype=int64))"
       ]
      },
      {
       "output_type": "stream",
       "stream": "stdout",
       "text": [
        "\n"
       ]
      },
      {
       "output_type": "stream",
       "stream": "stdout",
       "text": [
        "I am on feature 15\n",
        "NaN in row: (array([], dtype=int64), array([], dtype=int64))"
       ]
      },
      {
       "output_type": "stream",
       "stream": "stdout",
       "text": [
        "\n"
       ]
      },
      {
       "output_type": "stream",
       "stream": "stdout",
       "text": [
        "I am on feature 18\n",
        "NaN in row: (array([], dtype=int64), array([], dtype=int64))\n"
       ]
      },
      {
       "output_type": "stream",
       "stream": "stdout",
       "text": [
        "I am on feature 19\n",
        "NaN in row: (array([], dtype=int64), array([], dtype=int64))"
       ]
      },
      {
       "output_type": "stream",
       "stream": "stdout",
       "text": [
        "\n"
       ]
      },
      {
       "output_type": "stream",
       "stream": "stdout",
       "text": [
        "best_ind: [7]\n",
        "The best score in round 11 is 0.859185132237\n",
        "The best-ranked feature in round 11 is 15\n",
        "I am on the 12th loop\n",
        "I am on feature 0\n",
        "NaN in row: (array([], dtype=int64), array([], dtype=int64))"
       ]
      },
      {
       "output_type": "stream",
       "stream": "stdout",
       "text": [
        "\n"
       ]
      },
      {
       "output_type": "stream",
       "stream": "stdout",
       "text": [
        "I am on feature 2\n",
        "NaN in row: (array([], dtype=int64), array([], dtype=int64))"
       ]
      },
      {
       "output_type": "stream",
       "stream": "stdout",
       "text": [
        "\n"
       ]
      },
      {
       "output_type": "stream",
       "stream": "stdout",
       "text": [
        "I am on feature 3\n",
        "NaN in row: (array([], dtype=int64), array([], dtype=int64))"
       ]
      },
      {
       "output_type": "stream",
       "stream": "stdout",
       "text": [
        "\n"
       ]
      },
      {
       "output_type": "stream",
       "stream": "stdout",
       "text": [
        "I am on feature 4\n",
        "NaN in row: (array([], dtype=int64), array([], dtype=int64))"
       ]
      },
      {
       "output_type": "stream",
       "stream": "stdout",
       "text": [
        "\n"
       ]
      },
      {
       "output_type": "stream",
       "stream": "stdout",
       "text": [
        "I am on feature 5\n",
        "NaN in row: (array([], dtype=int64), array([], dtype=int64))"
       ]
      },
      {
       "output_type": "stream",
       "stream": "stdout",
       "text": [
        "\n"
       ]
      },
      {
       "output_type": "stream",
       "stream": "stdout",
       "text": [
        "I am on feature 7\n",
        "NaN in row: (array([], dtype=int64), array([], dtype=int64))"
       ]
      },
      {
       "output_type": "stream",
       "stream": "stdout",
       "text": [
        "\n"
       ]
      },
      {
       "output_type": "stream",
       "stream": "stdout",
       "text": [
        "I am on feature 10\n",
        "NaN in row: (array([], dtype=int64), array([], dtype=int64))"
       ]
      },
      {
       "output_type": "stream",
       "stream": "stdout",
       "text": [
        "\n"
       ]
      },
      {
       "output_type": "stream",
       "stream": "stdout",
       "text": [
        "I am on feature 18\n",
        "NaN in row: (array([], dtype=int64), array([], dtype=int64))"
       ]
      },
      {
       "output_type": "stream",
       "stream": "stdout",
       "text": [
        "\n"
       ]
      },
      {
       "output_type": "stream",
       "stream": "stdout",
       "text": [
        "I am on feature 19\n",
        "NaN in row: (array([], dtype=int64), array([], dtype=int64))"
       ]
      },
      {
       "output_type": "stream",
       "stream": "stdout",
       "text": [
        "\n"
       ]
      },
      {
       "output_type": "stream",
       "stream": "stdout",
       "text": [
        "best_ind: [5]\n",
        "The best score in round 12 is 0.857755539671\n",
        "The best-ranked feature in round 12 is 7\n",
        "I am on the 13th loop\n",
        "I am on feature 0\n",
        "NaN in row: (array([], dtype=int64), array([], dtype=int64))"
       ]
      },
      {
       "output_type": "stream",
       "stream": "stdout",
       "text": [
        "\n"
       ]
      },
      {
       "output_type": "stream",
       "stream": "stdout",
       "text": [
        "I am on feature 2\n",
        "NaN in row: (array([], dtype=int64), array([], dtype=int64))"
       ]
      },
      {
       "output_type": "stream",
       "stream": "stdout",
       "text": [
        "\n"
       ]
      },
      {
       "output_type": "stream",
       "stream": "stdout",
       "text": [
        "I am on feature 3\n",
        "NaN in row: (array([], dtype=int64), array([], dtype=int64))"
       ]
      },
      {
       "output_type": "stream",
       "stream": "stdout",
       "text": [
        "\n"
       ]
      },
      {
       "output_type": "stream",
       "stream": "stdout",
       "text": [
        "I am on feature 4\n",
        "NaN in row: (array([], dtype=int64), array([], dtype=int64))"
       ]
      },
      {
       "output_type": "stream",
       "stream": "stdout",
       "text": [
        "\n"
       ]
      },
      {
       "output_type": "stream",
       "stream": "stdout",
       "text": [
        "I am on feature 5\n",
        "NaN in row: (array([], dtype=int64), array([], dtype=int64))"
       ]
      },
      {
       "output_type": "stream",
       "stream": "stdout",
       "text": [
        "\n"
       ]
      },
      {
       "output_type": "stream",
       "stream": "stdout",
       "text": [
        "I am on feature 10\n",
        "NaN in row: (array([], dtype=int64), array([], dtype=int64))"
       ]
      },
      {
       "output_type": "stream",
       "stream": "stdout",
       "text": [
        "\n"
       ]
      },
      {
       "output_type": "stream",
       "stream": "stdout",
       "text": [
        "I am on feature 18\n",
        "NaN in row: (array([], dtype=int64), array([], dtype=int64))"
       ]
      },
      {
       "output_type": "stream",
       "stream": "stdout",
       "text": [
        "\n"
       ]
      },
      {
       "output_type": "stream",
       "stream": "stdout",
       "text": [
        "I am on feature 19\n",
        "NaN in row: (array([], dtype=int64), array([], dtype=int64))"
       ]
      },
      {
       "output_type": "stream",
       "stream": "stdout",
       "text": [
        "\n"
       ]
      },
      {
       "output_type": "stream",
       "stream": "stdout",
       "text": [
        "best_ind: [2]\n",
        "The best score in round 13 is 0.848463187991\n",
        "The best-ranked feature in round 13 is 3\n",
        "I am on the 14th loop\n",
        "I am on feature 0\n",
        "NaN in row: (array([], dtype=int64), array([], dtype=int64))"
       ]
      },
      {
       "output_type": "stream",
       "stream": "stdout",
       "text": [
        "\n"
       ]
      },
      {
       "output_type": "stream",
       "stream": "stdout",
       "text": [
        "I am on feature 2\n",
        "NaN in row: (array([], dtype=int64), array([], dtype=int64))"
       ]
      },
      {
       "output_type": "stream",
       "stream": "stdout",
       "text": [
        "\n"
       ]
      },
      {
       "output_type": "stream",
       "stream": "stdout",
       "text": [
        "I am on feature 4\n",
        "NaN in row: (array([], dtype=int64), array([], dtype=int64))"
       ]
      },
      {
       "output_type": "stream",
       "stream": "stdout",
       "text": [
        "\n"
       ]
      },
      {
       "output_type": "stream",
       "stream": "stdout",
       "text": [
        "I am on feature 5\n",
        "NaN in row: (array([], dtype=int64), array([], dtype=int64))"
       ]
      },
      {
       "output_type": "stream",
       "stream": "stdout",
       "text": [
        "\n"
       ]
      },
      {
       "output_type": "stream",
       "stream": "stdout",
       "text": [
        "I am on feature 10\n",
        "NaN in row: (array([], dtype=int64), array([], dtype=int64))"
       ]
      },
      {
       "output_type": "stream",
       "stream": "stdout",
       "text": [
        "\n"
       ]
      },
      {
       "output_type": "stream",
       "stream": "stdout",
       "text": [
        "I am on feature 18\n",
        "NaN in row: (array([], dtype=int64), array([], dtype=int64))"
       ]
      },
      {
       "output_type": "stream",
       "stream": "stdout",
       "text": [
        "\n"
       ]
      },
      {
       "output_type": "stream",
       "stream": "stdout",
       "text": [
        "I am on feature 19\n",
        "NaN in row: (array([], dtype=int64), array([], dtype=int64))"
       ]
      },
      {
       "output_type": "stream",
       "stream": "stdout",
       "text": [
        "\n"
       ]
      },
      {
       "output_type": "stream",
       "stream": "stdout",
       "text": [
        "best_ind: [0]\n",
        "The best score in round 14 is 0.858470335954\n",
        "The best-ranked feature in round 14 is 0\n",
        "I am on the 15th loop\n",
        "I am on feature 2\n",
        "NaN in row: (array([], dtype=int64), array([], dtype=int64))"
       ]
      },
      {
       "output_type": "stream",
       "stream": "stdout",
       "text": [
        "\n"
       ]
      },
      {
       "output_type": "stream",
       "stream": "stdout",
       "text": [
        "I am on feature 4\n",
        "NaN in row: (array([], dtype=int64), array([], dtype=int64))"
       ]
      },
      {
       "output_type": "stream",
       "stream": "stdout",
       "text": [
        "\n"
       ]
      },
      {
       "output_type": "stream",
       "stream": "stdout",
       "text": [
        "I am on feature 5\n",
        "NaN in row: (array([], dtype=int64), array([], dtype=int64))"
       ]
      },
      {
       "output_type": "stream",
       "stream": "stdout",
       "text": [
        "\n"
       ]
      },
      {
       "output_type": "stream",
       "stream": "stdout",
       "text": [
        "I am on feature 10\n",
        "NaN in row: (array([], dtype=int64), array([], dtype=int64))"
       ]
      },
      {
       "output_type": "stream",
       "stream": "stdout",
       "text": [
        "\n"
       ]
      },
      {
       "output_type": "stream",
       "stream": "stdout",
       "text": [
        "I am on feature 18\n",
        "NaN in row: (array([], dtype=int64), array([], dtype=int64))"
       ]
      },
      {
       "output_type": "stream",
       "stream": "stdout",
       "text": [
        "\n"
       ]
      },
      {
       "output_type": "stream",
       "stream": "stdout",
       "text": [
        "I am on feature 19\n",
        "NaN in row: (array([], dtype=int64), array([], dtype=int64))"
       ]
      },
      {
       "output_type": "stream",
       "stream": "stdout",
       "text": [
        "\n"
       ]
      },
      {
       "output_type": "stream",
       "stream": "stdout",
       "text": [
        "best_ind: [5]\n",
        "The best score in round 15 is 0.853466761973\n",
        "The best-ranked feature in round 15 is 19\n",
        "I am on the 16th loop\n",
        "I am on feature 2\n",
        "NaN in row: (array([], dtype=int64), array([], dtype=int64))"
       ]
      },
      {
       "output_type": "stream",
       "stream": "stdout",
       "text": [
        "\n"
       ]
      },
      {
       "output_type": "stream",
       "stream": "stdout",
       "text": [
        "I am on feature 4\n",
        "NaN in row: (array([], dtype=int64), array([], dtype=int64))"
       ]
      },
      {
       "output_type": "stream",
       "stream": "stdout",
       "text": [
        "\n"
       ]
      },
      {
       "output_type": "stream",
       "stream": "stdout",
       "text": [
        "I am on feature 5\n",
        "NaN in row: (array([], dtype=int64), array([], dtype=int64))"
       ]
      },
      {
       "output_type": "stream",
       "stream": "stdout",
       "text": [
        "\n"
       ]
      },
      {
       "output_type": "stream",
       "stream": "stdout",
       "text": [
        "I am on feature 10\n",
        "NaN in row: (array([], dtype=int64), array([], dtype=int64))"
       ]
      },
      {
       "output_type": "stream",
       "stream": "stdout",
       "text": [
        "\n"
       ]
      },
      {
       "output_type": "stream",
       "stream": "stdout",
       "text": [
        "I am on feature 18\n",
        "NaN in row: (array([], dtype=int64), array([], dtype=int64))"
       ]
      },
      {
       "output_type": "stream",
       "stream": "stdout",
       "text": [
        "\n"
       ]
      },
      {
       "output_type": "stream",
       "stream": "stdout",
       "text": [
        "best_ind: [1]\n",
        "The best score in round 16 is 0.853466761973\n",
        "The best-ranked feature in round 16 is 4\n",
        "I am on the 17th loop\n",
        "I am on feature 2\n",
        "NaN in row: (array([], dtype=int64), array([], dtype=int64))"
       ]
      },
      {
       "output_type": "stream",
       "stream": "stdout",
       "text": [
        "\n"
       ]
      },
      {
       "output_type": "stream",
       "stream": "stdout",
       "text": [
        "I am on feature 5\n",
        "NaN in row: (array([], dtype=int64), array([], dtype=int64))"
       ]
      },
      {
       "output_type": "stream",
       "stream": "stdout",
       "text": [
        "\n"
       ]
      },
      {
       "output_type": "stream",
       "stream": "stdout",
       "text": [
        "I am on feature 10\n",
        "NaN in row: (array([], dtype=int64), array([], dtype=int64))"
       ]
      },
      {
       "output_type": "stream",
       "stream": "stdout",
       "text": [
        "\n"
       ]
      },
      {
       "output_type": "stream",
       "stream": "stdout",
       "text": [
        "I am on feature 18\n",
        "NaN in row: (array([], dtype=int64), array([], dtype=int64))"
       ]
      },
      {
       "output_type": "stream",
       "stream": "stdout",
       "text": [
        "\n"
       ]
      },
      {
       "output_type": "stream",
       "stream": "stdout",
       "text": [
        "best_ind: [3]\n",
        "The best score in round 17 is 0.847033595425\n",
        "The best-ranked feature in round 17 is 18\n",
        "I am on the 18th loop\n",
        "I am on feature 2\n",
        "NaN in row: (array([], dtype=int64), array([], dtype=int64))"
       ]
      },
      {
       "output_type": "stream",
       "stream": "stdout",
       "text": [
        "\n"
       ]
      },
      {
       "output_type": "stream",
       "stream": "stdout",
       "text": [
        "I am on feature 5\n",
        "NaN in row: (array([], dtype=int64), array([], dtype=int64))"
       ]
      },
      {
       "output_type": "stream",
       "stream": "stdout",
       "text": [
        "\n"
       ]
      },
      {
       "output_type": "stream",
       "stream": "stdout",
       "text": [
        "I am on feature 10\n",
        "NaN in row: (array([], dtype=int64), array([], dtype=int64))"
       ]
      },
      {
       "output_type": "stream",
       "stream": "stdout",
       "text": [
        "\n"
       ]
      },
      {
       "output_type": "stream",
       "stream": "stdout",
       "text": [
        "best_ind: [0]\n",
        "The best score in round 18 is 0.847033595425\n",
        "The best-ranked feature in round 18 is 2\n",
        "I am on the 19th loop\n",
        "I am on feature 5\n",
        "NaN in row: (array([], dtype=int64), array([], dtype=int64))"
       ]
      },
      {
       "output_type": "stream",
       "stream": "stdout",
       "text": [
        "\n"
       ]
      },
      {
       "output_type": "stream",
       "stream": "stdout",
       "text": [
        "I am on feature 10\n",
        "NaN in row: (array([], dtype=int64), array([], dtype=int64))"
       ]
      },
      {
       "output_type": "stream",
       "stream": "stdout",
       "text": [
        "\n"
       ]
      },
      {
       "output_type": "stream",
       "stream": "stdout",
       "text": [
        "best_ind: [1]\n",
        "The best score in round 19 is 0.847033595425\n",
        "The best-ranked feature in round 19 is 10\n",
        "I am on the 20th loop\n",
        "I am on feature 5\n",
        "NaN in row: (array([], dtype=int64), array([], dtype=int64))"
       ]
      },
      {
       "output_type": "stream",
       "stream": "stdout",
       "text": [
        "\n"
       ]
      },
      {
       "output_type": "stream",
       "stream": "stdout",
       "text": [
        "best_ind: [0]\n",
        "The best score in round 20 is 0.849177984274\n",
        "The best-ranked feature in round 20 is 5\n"
       ]
      }
     ],
     "prompt_number": 12
    },
    {
     "cell_type": "code",
     "collapsed": false,
     "input": [
      "## Print the indices of the original feature vector by importance\n",
      "print(feature_ranking)"
     ],
     "language": "python",
     "metadata": {},
     "outputs": [
      {
       "output_type": "stream",
       "stream": "stdout",
       "text": [
        "[12, 1, 6, 17, 11, 9, 20, 13, 14, 8, 16, 15, 7, 3, 0, 19, 4, 18, 2, 10, 5]\n"
       ]
      }
     ],
     "prompt_number": 13
    },
    {
     "cell_type": "markdown",
     "metadata": {},
     "source": [
      "Ranked features:\n",
      "\n",
      "0. Covariance Matrix of the HR ratios (13 = [01])\n",
      "1. Power Spectral Color 1 (PSDc/PSDa)\n",
      "2. total variance in the count rate\n",
      "3. Frequency where the PSD has its maximum\n",
      "4. median count rate\n",
      "5. Power Spectral Color 2 (PSDb/PSDd\n",
      "6. mean of hardness ratio HR2\n",
      "7. Power Spectral Band A\n",
      "8. Covariance Matrix of the HR ratios (12 = [00])\n",
      "9. mean count rate\n",
      "10. Covariance Matrix of the HR ratios (15 = [11])\n",
      "11. Covariance Matrix of the HR ratios (14 = [10])\n",
      "12. Power Spectral Band D\n",
      "13. mean of hardness ratio HR1\n",
      "14. Power Spectral Band C\n",
      "15. Power Spectral Band B\n",
      " \n",
      "\n",
      "There's a mix of all features (hardness ratios, power spectral, overall time series) here, which means that all components seem to be fairly important to the classification. Especially the fact that the hardness ratio features (in particular the covariance between them) plays a role might mean we might want to think about features that captures the covariance better.\n"
     ]
    },
    {
     "cell_type": "code",
     "collapsed": false,
     "input": [
      "# Find the maximum of the validation scores for each run.\n",
      "score_max_all = np.array([np.max(s) for s in score_all])\n",
      "print(score_max_all)"
     ],
     "language": "python",
     "metadata": {},
     "outputs": [
      {
       "output_type": "stream",
       "stream": "stdout",
       "text": [
        "[ 0.50178699  0.5582559   0.68977841  0.76483202  0.77626876  0.82344532\n",
        "  0.83988563  0.84274482  0.8470336   0.84989278  0.84989278  0.85918513\n",
        "  0.85775554  0.84846319  0.85847034  0.85346676  0.85346676  0.8470336\n",
        "  0.8470336   0.8470336   0.84917798]\n"
       ]
      }
     ],
     "prompt_number": 14
    },
    {
     "cell_type": "code",
     "collapsed": false,
     "input": [
      "## plot the validation fraction versus the number of features in the classification\n",
      "plt.plot(np.arange(len(score_max_all))+1., score_max_all, \"o-\")\n",
      "plt.xlabel(\"Number of features\")\n",
      "plt.ylabel(\"Validation accuracy\")"
     ],
     "language": "python",
     "metadata": {},
     "outputs": [
      {
       "metadata": {},
       "output_type": "pyout",
       "prompt_number": 15,
       "text": [
        "<matplotlib.text.Text at 0x111b58450>"
       ]
      },
      {
       "metadata": {},
       "output_type": "display_data",
       "png": "[encoded data removed]",
       "text": [
        "<matplotlib.figure.Figure at 0x10c574dd0>"
       ]
      }
     ],
     "prompt_number": 15
    },
    {
     "cell_type": "markdown",
     "metadata": {},
     "source": [
      "The validation fraction seems to saturate at about 77%.\n",
      "It's not clear whether this means\n",
      "- there's too little data\n",
      "- the human classification just sucks\n",
      "- the features don't accurately encapsulate the various behaviours in the data (e.g. QPOs)\n",
      "\n",
      "Let's print a confusion matrix for the run (1) with all features (2) with only 12 features.\n"
     ]
    },
    {
     "cell_type": "code",
     "collapsed": false,
     "input": [
      "best_params_all[-1]"
     ],
     "language": "python",
     "metadata": {},
     "outputs": [
      {
       "metadata": {},
       "output_type": "pyout",
       "prompt_number": 16,
       "text": [
        "[{'max_depth': 400}]"
       ]
      }
     ],
     "prompt_number": 16
    },
    {
     "cell_type": "code",
     "collapsed": false,
     "input": [
      "nfeatures = 12\n",
      "features_new_all = np.concatenate((features_new_train, features_new_val, features_new_test))\n",
      "\n",
      "scaler_train = StandardScaler().fit(features_new_all)\n",
      "fscaled_train = scaler_train.transform(features_new_train)\n",
      "fscaled_val = scaler_train.transform(features_new_val)\n",
      "fscaled_test = scaler_train.transform(features_new_test)\n",
      "\n",
      "rfc_full = RandomForestClassifier(n_estimators=500, max_depth=10)\n",
      "rfc_full.fit(fscaled_train, labels_train)\n",
      "\n",
      "#grid_rfc.fit(fscaled_train, labels_train)\n",
      "print(\"Training accuracy: \" + str(rfc_full.score(fscaled_train, labels_train)))\n",
      "print(\"Validation accuracy: \" + str(rfc_full.score(fscaled_val, labels_val)))\n",
      "\n",
      "labels_rfc_full = rfc_full.predict(fscaled_val)\n",
      "labels_rfc_full_test = rfc_full.predict(fscaled_test)\n",
      "\n",
      "\n",
      "features_new_red = np.concatenate((features_new_train[:,:nfeatures], features_new_val[:,:nfeatures], features_new_test[:,:nfeatures]))\n",
      "\n",
      "scaler_train = StandardScaler().fit(features_new_red)\n",
      "fscaled_train = scaler_train.transform(features_new_train[:,:nfeatures])\n",
      "fscaled_val = scaler_train.transform(features_new_val[:,:nfeatures])\n",
      "fscaled_test = scaler_train.transform(features_new_test[:,:nfeatures])\n",
      "\n",
      "rfc_red = RandomForestClassifier(n_estimators=500, max_depth=400)\n",
      "rfc_red.fit(fscaled_train, labels_train)\n",
      "print(\"Training accuracy: \" + str(rfc_red.score(fscaled_train, labels_train)))\n",
      "print(\"Validation accuracy: \" + str(rfc_red.score(fscaled_val, labels_val)))\n",
      "\n",
      "labels_rfc_red = rfc_red.predict(fscaled_val)\n",
      "labels_rfc_red_test = rfc_red.predict(fscaled_test)\n"
     ],
     "language": "python",
     "metadata": {},
     "outputs": [
      {
       "output_type": "stream",
       "stream": "stdout",
       "text": [
        "Training accuracy: 0.997902684564\n",
        "Validation accuracy: 0.865618298785"
       ]
      },
      {
       "output_type": "stream",
       "stream": "stdout",
       "text": [
        "\n",
        "Training accuracy: 1.0"
       ]
      },
      {
       "output_type": "stream",
       "stream": "stdout",
       "text": [
        "\n",
        "Validation accuracy: 0.84345961401"
       ]
      },
      {
       "output_type": "stream",
       "stream": "stdout",
       "text": [
        "\n"
       ]
      }
     ],
     "prompt_number": 19
    },
    {
     "cell_type": "code",
     "collapsed": false,
     "input": [],
     "language": "python",
     "metadata": {},
     "outputs": [
      {
       "metadata": {},
       "output_type": "pyout",
       "prompt_number": 90,
       "text": [
        "8013"
       ]
      }
     ],
     "prompt_number": 90
    },
    {
     "cell_type": "markdown",
     "metadata": {},
     "source": [
      "Let's plot confusion matrices for both runs. "
     ]
    },
    {
     "cell_type": "code",
     "collapsed": false,
     "input": [
      "from sklearn.metrics import confusion_matrix\n",
      "import matplotlib.cm as cmap\n",
      "\n",
      "fig = plt.figure(figsize=(15,15))\n",
      "\n",
      "sns.set_style(\"white\") \n",
      "unique_labels = np.unique(labels_test)\n",
      "cm = confusion_matrix(labels_val, labels_rfc_full, labels=unique_labels)\n",
      "print(cm)\n",
      "#print(unique_labels)\n",
      "ax1 = fig.add_subplot(121)\n",
      "ax1.matshow(cm, cmap=cmap.Spectral_r )\n",
      "ax1.set_title('Confusion matrix, All features')\n",
      "#plt.colorbar()\n",
      "ax1.set_ylabel('True label')\n",
      "ax1.set_xlabel('Predicted label')\n",
      "plt.xticks(range(len(unique_labels)), unique_labels, rotation=70)\n",
      "plt.yticks(range(len(unique_labels)), unique_labels)\n",
      "#plt.show()\n",
      "\n",
      "\n",
      "#ax2 = fig.add_subplot(222)\n",
      "#sns.set_style(\"white\") \n",
      "#unique_labels = np.unique(labels_val)\n",
      "#cm = confusion_matrix(labels_test, labels_rfc_full_test, labels=unique_labels)\n",
      "#ax2.matshow(cm, cmap=cmap.Spectral_r )\n",
      "#ax2.set_title('Confusion matrix, All features, test set')\n",
      "#ax2.set_ylabel('True label')\n",
      "#ax2.set_xlabel('Predicted label')\n",
      "#plt.xticks(range(len(unique_labels)), unique_labels, rotation=70)\n",
      "#plt.yticks(range(len(unique_labels)), unique_labels)\n",
      "#plt.show()\n",
      "\n",
      "\n",
      "sns.set_style(\"white\") \n",
      "unique_labels = np.unique(labels_val)\n",
      "cm = confusion_matrix(labels_val, labels_rfc_red, labels=unique_labels)\n",
      "print(cm)\n",
      "#print(unique_labels)\n",
      "ax3 = fig.add_subplot(122)\n",
      "ax3.matshow(cm, cmap=cmap.Spectral_r )\n",
      "ax3.set_title('Confusion matrix, Reduced features')\n",
      "ax3.set_ylabel('True label')\n",
      "ax3.set_xlabel('Predicted label')\n",
      "plt.xticks(range(len(unique_labels)), unique_labels, rotation=70)\n",
      "plt.yticks(range(len(unique_labels)), unique_labels)\n",
      "#plt.show()\n",
      "\n",
      "\n",
      "#ax4 = fig.add_subplot(224)\n",
      "#sns.set_style(\"white\") \n",
      "#unique_labels = np.unique(labels_test)\n",
      "#cm = confusion_matrix(labels_test, labels_rfc_red_test, labels=unique_labels)\n",
      "#ax4.matshow(cm, cmap=cmap.Spectral_r )\n",
      "#ax4.set_title('Confusion matrix, Reduced features, test set')\n",
      "#ax4.set_ylabel('True label')\n",
      "#ax4.set_xlabel('Predicted label')\n",
      "#plt.xticks(range(len(unique_labels)), unique_labels, rotation=70)\n",
      "#plt.yticks(range(len(unique_labels)), unique_labels)\n",
      "#plt.show()"
     ],
     "language": "python",
     "metadata": {},
     "outputs": [
      {
       "output_type": "stream",
       "stream": "stdout",
       "text": [
        "[[ 27   5   0   2   0   2   0   0   0   0   0   0   0   0   0]\n",
        " [  0  96   0   0   0   0   0   0   0   3   3   0   0   0   0]\n",
        " [  0   0  83   0   0   8   0   0   0   0   0   0   0   0   0]\n",
        " [  0   0   0 268   0   0   0   0   0   0   0   0   0   0   0]\n",
        " [  0   0   0  25  57   0   0   0   0   0   0   0   0   0   0]\n",
        " [  0   1  18  11   0 157   0   0   0   0   0   3   0   0   0]\n",
        " [  0   6   0   0   0   0  36  62   0   0   0   0   0   0   0]\n",
        " [  0   0   0   0   0   0   0 139   0   0   0   0   0   0   0]\n",
        " [  0   0   0   0   0   0   0   0  20   0   0   0   0   0   0]\n",
        " [  0   0   0   0   0   0   0   0   0  42   0   0   0   0   0]\n",
        " [  2  13   0   0   0   0   0   0   0   2  74   0   0   0   0]\n",
        " [  0   0   0   0   0   0   0   0   0   0   0  30   0   0   0]\n",
        " [  0   0   0   0   0   0   1   0   0   0   0   0 108   0   0]\n",
        " [  0   0   0   0   0   0   0   0   2   0   1   0   0  19   0]\n",
        " [  2  14   0   0   0   1   0   0   0   1   0   0   0   0  55]]\n",
        "[[ 26   5   0   4   0   1   0   0   0   0   0   0   0   0   0]\n",
        " [  0  99   0   0   0   0   0   0   0   3   0   0   0   0   0]\n",
        " [  0   0  83   0   0   8   0   0   0   0   0   0   0   0   0]\n",
        " [  1   0   0 267   0   0   0   0   0   0   0   0   0   0   0]\n",
        " [  0   1   0  24  57   0   0   0   0   0   0   0   0   0   0]\n",
        " [  0  16  25  11   0 129   0   0   0   0   0   9   0   0   0]\n",
        " [  0   3   0   0   0   0  38  63   0   0   0   0   0   0   0]\n",
        " [  0   0   0   0   0   0   0 139   0   0   0   0   0   0   0]\n",
        " [  0   0   0   0   0   0   0   0  20   0   0   0   0   0   0]\n",
        " [  0   0   0   0   0   0   0   0   1  41   0   0   0   0   0]\n",
        " [  1  19   0   0   0   0   0   0   0   2  69   0   0   0   0]\n",
        " [  0   0   0   0   0   0   0   0   0   0   0  30   0   0   0]\n",
        " [  0   0   0   0   0   0   1   0   0   0   0   0 108   0   0]\n",
        " [  0   0   0   0   0   0   0   0   0   0   0   0   0  22   0]\n",
        " [  0  20   0   0   0   0   0   0   0   0   0   0   1   0  52]]"
       ]
      },
      {
       "output_type": "stream",
       "stream": "stdout",
       "text": [
        "\n"
       ]
      },
      {
       "metadata": {},
       "output_type": "pyout",
       "prompt_number": 23,
       "text": [
        "([<matplotlib.axis.YTick at 0x11ae0b190>,\n",
        "  <matplotlib.axis.YTick at 0x11ae0b7d0>,\n",
        "  <matplotlib.axis.YTick at 0x11ae7a8d0>,\n",
        "  <matplotlib.axis.YTick at 0x11ae7ae10>,\n",
        "  <matplotlib.axis.YTick at 0x11ae6fad0>,\n",
        "  <matplotlib.axis.YTick at 0x11ae64690>,\n",
        "  <matplotlib.axis.YTick at 0x11ae7c490>,\n",
        "  <matplotlib.axis.YTick at 0x11ae7cb90>,\n",
        "  <matplotlib.axis.YTick at 0x11ae86310>,\n",
        "  <matplotlib.axis.YTick at 0x11ae86a50>,\n",
        "  <matplotlib.axis.YTick at 0x11ae921d0>,\n",
        "  <matplotlib.axis.YTick at 0x11ae92910>,\n",
        "  <matplotlib.axis.YTick at 0x11ae9a090>,\n",
        "  <matplotlib.axis.YTick at 0x11ae9a7d0>,\n",
        "  <matplotlib.axis.YTick at 0x11ae9af10>],\n",
        " <a list of 15 Text yticklabel objects>)"
       ]
      },
      {
       "metadata": {},
       "output_type": "display_data",
       "png": "[encoded data removed]",
       "text": [
        "<matplotlib.figure.Figure at 0x115ca6950>"
       ]
      }
     ],
     "prompt_number": 23
    },
    {
     "cell_type": "markdown",
     "metadata": {},
     "source": [
      "There are differences in the confusion matrices between the full set of features and the reduced features, but between validation and test set confusions are similar, which is good!\n",
      "\n",
      "Let's also plot the feature importances as derived from the trees:"
     ]
    },
    {
     "cell_type": "code",
     "collapsed": false,
     "input": [
      "imp_rfc_full = rfc_full.feature_importances_\n",
      "imp_rfc_red = rfc_red.feature_importances_\n",
      "\n",
      "std_full = np.std([tree.feature_importances_ for tree in rfc_full.estimators_],\n",
      "             axis=0)\n",
      "std_red = np.std([tree.feature_importances_ for tree in rfc_red.estimators_],\n",
      "             axis=0)\n",
      "\n",
      "indices_full = np.argsort(imp_rfc_full)[::-1]\n",
      "indices_red = np.argsort(imp_rfc_red)[::-1]\n",
      "\n",
      "# Print the feature ranking for the full feature vector\n",
      "print(\"Feature ranking, full feature vector:\")\n",
      "\n",
      "for f in range(16):\n",
      "    print(\"%d. feature %d (%f)\" % (f + 1, indices_full[f], imp_rfc_full[indices_full[f]]))\n",
      "\n",
      "# Plot the feature importances of the forest\n",
      "plt.figure()\n",
      "plt.title(\"Feature importances\")\n",
      "plt.bar(range(16), imp_rfc_full[indices_full],\n",
      "       color=\"r\", yerr=std_full[indices_full], align=\"center\")\n",
      "plt.xticks(range(16), indices_full)\n",
      "plt.xlim([-1, 17])\n",
      "plt.show()\n",
      "\n",
      "\n",
      "# Print the feature ranking for the reduced set\n",
      "print(\"Feature ranking, reduced feature vector:\")\n",
      "\n",
      "for f in range(12):\n",
      "    print(\"%d. feature %d (%f)\" % (f + 1, indices_red[f], imp_rfc_red[indices_red[f]]))\n",
      "\n",
      "# Plot the feature importances of the forest\n",
      "plt.figure()\n",
      "plt.title(\"Feature importances\")\n",
      "plt.bar(range(12), imp_rfc_red[indices_red],\n",
      "       color=\"r\", yerr=std_red[indices_red], align=\"center\")\n",
      "plt.xticks(range(12), indices_red)\n",
      "plt.xlim([-1, 13])\n",
      "plt.show()\n",
      "\n"
     ],
     "language": "python",
     "metadata": {},
     "outputs": [
      {
       "output_type": "stream",
       "stream": "stdout",
       "text": [
        "Feature ranking, full feature vector:\n",
        "1. feature 19 (0.081315)\n",
        "2. feature 5 (0.079543)\n",
        "3. feature 0 (0.076901)\n",
        "4. feature 7 (0.074227)\n",
        "5. feature 2 (0.067108)\n",
        "6. feature 8 (0.061011)\n",
        "7. feature 4 (0.058557)\n",
        "8. feature 9 (0.057997)\n",
        "9. feature 18 (0.054947)\n",
        "10. feature 14 (0.049449)\n",
        "11. feature 13 (0.045924)\n",
        "12. feature 10 (0.044682)\n",
        "13. feature 20 (0.043390)\n",
        "14. feature 1 (0.042527)\n",
        "15. feature 11 (0.042206)\n",
        "16. feature 12 (0.037565)\n"
       ]
      },
      {
       "ename": "AssertionError",
       "evalue": "incompatible sizes: argument 'height' must be length 16 or scalar",
       "output_type": "pyerr",
       "traceback": [
        "\u001b[0;31m---------------------------------------------------------------------------\u001b[0m\n\u001b[0;31mAssertionError\u001b[0m                            Traceback (most recent call last)",
        "\u001b[0;32m<ipython-input-24-84a826e2679c>\u001b[0m in \u001b[0;36m<module>\u001b[0;34m()\u001b[0m\n\u001b[1;32m     20\u001b[0m \u001b[0mplt\u001b[0m\u001b[0;34m.\u001b[0m\u001b[0mtitle\u001b[0m\u001b[0;34m(\u001b[0m\u001b[0;34m\"Feature importances\"\u001b[0m\u001b[0;34m)\u001b[0m\u001b[0;34m\u001b[0m\u001b[0m\n\u001b[1;32m     21\u001b[0m plt.bar(range(16), imp_rfc_full[indices_full],\n\u001b[0;32m---> 22\u001b[0;31m        color=\"r\", yerr=std_full[indices_full], align=\"center\")\n\u001b[0m\u001b[1;32m     23\u001b[0m \u001b[0mplt\u001b[0m\u001b[0;34m.\u001b[0m\u001b[0mxticks\u001b[0m\u001b[0;34m(\u001b[0m\u001b[0mrange\u001b[0m\u001b[0;34m(\u001b[0m\u001b[0;36m16\u001b[0m\u001b[0;34m)\u001b[0m\u001b[0;34m,\u001b[0m \u001b[0mindices_full\u001b[0m\u001b[0;34m)\u001b[0m\u001b[0;34m\u001b[0m\u001b[0m\n\u001b[1;32m     24\u001b[0m \u001b[0mplt\u001b[0m\u001b[0;34m.\u001b[0m\u001b[0mxlim\u001b[0m\u001b[0;34m(\u001b[0m\u001b[0;34m[\u001b[0m\u001b[0;34m-\u001b[0m\u001b[0;36m1\u001b[0m\u001b[0;34m,\u001b[0m \u001b[0;36m17\u001b[0m\u001b[0;34m]\u001b[0m\u001b[0;34m)\u001b[0m\u001b[0;34m\u001b[0m\u001b[0m\n",
        "\u001b[0;32m/opt/local/Library/Frameworks/Python.framework/Versions/2.7/lib/python2.7/site-packages/matplotlib/pyplot.pyc\u001b[0m in \u001b[0;36mbar\u001b[0;34m(left, height, width, bottom, hold, **kwargs)\u001b[0m\n\u001b[1;32m   2571\u001b[0m         \u001b[0max\u001b[0m\u001b[0;34m.\u001b[0m\u001b[0mhold\u001b[0m\u001b[0;34m(\u001b[0m\u001b[0mhold\u001b[0m\u001b[0;34m)\u001b[0m\u001b[0;34m\u001b[0m\u001b[0m\n\u001b[1;32m   2572\u001b[0m     \u001b[0;32mtry\u001b[0m\u001b[0;34m:\u001b[0m\u001b[0;34m\u001b[0m\u001b[0m\n\u001b[0;32m-> 2573\u001b[0;31m         \u001b[0mret\u001b[0m \u001b[0;34m=\u001b[0m \u001b[0max\u001b[0m\u001b[0;34m.\u001b[0m\u001b[0mbar\u001b[0m\u001b[0;34m(\u001b[0m\u001b[0mleft\u001b[0m\u001b[0;34m,\u001b[0m \u001b[0mheight\u001b[0m\u001b[0;34m,\u001b[0m \u001b[0mwidth\u001b[0m\u001b[0;34m=\u001b[0m\u001b[0mwidth\u001b[0m\u001b[0;34m,\u001b[0m \u001b[0mbottom\u001b[0m\u001b[0;34m=\u001b[0m\u001b[0mbottom\u001b[0m\u001b[0;34m,\u001b[0m \u001b[0;34m**\u001b[0m\u001b[0mkwargs\u001b[0m\u001b[0;34m)\u001b[0m\u001b[0;34m\u001b[0m\u001b[0m\n\u001b[0m\u001b[1;32m   2574\u001b[0m         \u001b[0mdraw_if_interactive\u001b[0m\u001b[0;34m(\u001b[0m\u001b[0;34m)\u001b[0m\u001b[0;34m\u001b[0m\u001b[0m\n\u001b[1;32m   2575\u001b[0m     \u001b[0;32mfinally\u001b[0m\u001b[0;34m:\u001b[0m\u001b[0;34m\u001b[0m\u001b[0m\n",
        "\u001b[0;32m/opt/local/Library/Frameworks/Python.framework/Versions/2.7/lib/python2.7/site-packages/matplotlib/axes/_axes.pyc\u001b[0m in \u001b[0;36mbar\u001b[0;34m(self, left, height, width, bottom, **kwargs)\u001b[0m\n\u001b[1;32m   1989\u001b[0m         assert len(height) == nbars, (\"incompatible sizes: argument 'height' \"\n\u001b[1;32m   1990\u001b[0m                                       \u001b[0;34m\"must be length %d or scalar\"\u001b[0m \u001b[0;34m%\u001b[0m\u001b[0;34m\u001b[0m\u001b[0m\n\u001b[0;32m-> 1991\u001b[0;31m                                       nbars)\n\u001b[0m\u001b[1;32m   1992\u001b[0m         assert len(width) == nbars, (\"incompatible sizes: argument 'width' \"\n\u001b[1;32m   1993\u001b[0m                                      \u001b[0;34m\"must be length %d or scalar\"\u001b[0m \u001b[0;34m%\u001b[0m\u001b[0;34m\u001b[0m\u001b[0m\n",
        "\u001b[0;31mAssertionError\u001b[0m: incompatible sizes: argument 'height' must be length 16 or scalar"
       ]
      },
      {
       "metadata": {},
       "output_type": "display_data",
       "png": "[encoded data removed]",
       "text": [
        "<matplotlib.figure.Figure at 0x11af74d50>"
       ]
      }
     ],
     "prompt_number": 24
    },
    {
     "cell_type": "markdown",
     "metadata": {},
     "source": [
      "The feature importances derived from the trees isn't quite the same as from the greedy search. Note, however, that the inter-tree variability is fairly large, indicating that all of the features may contribute significantly to the classification.\n",
      "\n",
      "The top 5 features for the full feature set:\n",
      "1. Power Spectral Color 1 (PSDc/PSDa)\n",
      "2. Power Spectral Band D\n",
      "3. total variance in the count rate\n",
      "4. mean of hardness ratio HR2\n",
      "5. Power Spectral Color 2 (PSDb/PSDd)\n",
      "\n",
      "The top 5 features in the reduced feature set:\n",
      "1. Power Spectral Color 1 (PSDc/PSDa)\n",
      "2. Power Spectral Color 2 (PSDb/PSDd)\n",
      "3. mean of hardness ratio HR1\n",
      "4. flattened covariance matrix of HR1 and HR2, [[00,01],[10,11]], 00 component (13)\n",
      "5. total variance in the count rate\n"
     ]
    },
    {
     "cell_type": "markdown",
     "metadata": {},
     "source": [
      "## Does Adding Many features help?\n",
      "\n",
      "There are two alternatives that would extend the features above. One is including either the full heat map of the hardness ratios, or the full periodogram. Perhaps we could use some clever dimensionality reduction on either of those to make the problem more clever. For now, I am simply going to test whether adding either the full periodogram or the HR heat maps will aid the classification task (hint: I don't think so!).\n",
      "\n",
      "We'll start with the heat maps of hardness ratios. These are basically HR1 and HR2 for each light curve combined in a 2D histogram with 20 by 20 bins with the same ranges in both dimensions for each light curve.\n"
     ]
    },
    {
     "cell_type": "code",
     "collapsed": false,
     "input": [
      "f = open(datadir+\"grs1915_1024_clean_hrfull_features.dat\", \"r\")\n",
      "feature_dict = pickle.load(f)\n",
      "f.close()\n",
      "\n",
      "features_train = np.array(feature_dict[\"train\"][0][\"features\"])\n",
      "features_val = np.array(feature_dict[\"val\"][0][0][\"features\"])\n",
      "features_test = np.array(feature_dict[\"test\"][0][\"features\"])\n",
      "print(\"features_train.shape: \" + str(features_train.shape))\n",
      "labels_train = feature_dict[\"train\"][1]\n",
      "labels_val = feature_dict[\"val\"][0][1]\n",
      "labels_test = feature_dict[\"test\"][1]"
     ],
     "language": "python",
     "metadata": {},
     "outputs": [
      {
       "output_type": "stream",
       "stream": "stdout",
       "text": [
        "features_train.shape: (1547, 410)\n"
       ]
      }
     ],
     "prompt_number": 87
    },
    {
     "cell_type": "code",
     "collapsed": false,
     "input": [
      "f_all = np.concatenate((features_train, features_val, features_test))\n",
      "scaler_train = StandardScaler().fit(f_all)\n",
      "fscaled_train = scaler_train.transform(features_train)\n",
      "fscaled_val = scaler_train.transform(features_val)\n",
      "fscaled_test = scaler_train.transform(features_test)\n",
      "\n",
      "#print(fscaled_val.shape)\n",
      "### Random Forest Classifier\n",
      "params = {'max_depth': [3,5,7,10,15,20,30,50,75,100,150,200,250,300,400]}#,\n",
      "grid_rfc = GridSearchCV(RandomForestClassifier(n_estimators=500), param_grid=params,\n",
      "                        verbose=0, n_jobs=4)\n",
      "grid_rfc.fit(fscaled_train, labels_train)\n",
      "print(\"Training accuracy: \" + str(grid_rfc.score(fscaled_train, labels_train)))\n",
      "print(\"Validation accuracy: \" + str(grid_rfc.score(fscaled_val, labels_val)))\n",
      "print(\"Test accuracy: \" + str(grid_rfc.score(fscaled_test, labels_test)))\n"
     ],
     "language": "python",
     "metadata": {},
     "outputs": [
      {
       "output_type": "stream",
       "stream": "stdout",
       "text": [
        "Training accuracy: 1.0\n",
        "Validation accuracy: 0.761213720317"
       ]
      },
      {
       "output_type": "stream",
       "stream": "stdout",
       "text": [
        "\n",
        "Test accuracy: 0.860917941586"
       ]
      },
      {
       "output_type": "stream",
       "stream": "stdout",
       "text": [
        "\n"
       ]
      }
     ],
     "prompt_number": 89
    },
    {
     "cell_type": "markdown",
     "metadata": {},
     "source": [
      "The validation accuracy of this model is actually *lower* than just using the summaries. Rubbish! This is clearly not the answer. What about using the full periodogram?"
     ]
    },
    {
     "cell_type": "code",
     "collapsed": false,
     "input": [
      "f = open(datadir+\"grs1915_1024_clean_psfull_features.dat\", \"r\")\n",
      "feature_dict = pickle.load(f)\n",
      "f.close()\n",
      "\n",
      "features_train = np.array(feature_dict[\"train\"][0][\"features\"])\n",
      "features_val = np.array(feature_dict[\"val\"][0][0][\"features\"])\n",
      "features_test = np.array(feature_dict[\"test\"][0][\"features\"])\n",
      "print(\"features_train.shape: \" + str(features_train.shape))\n",
      "labels_train = feature_dict[\"train\"][1]\n",
      "labels_val = feature_dict[\"val\"][0][1]\n",
      "labels_test = feature_dict[\"test\"][1]"
     ],
     "language": "python",
     "metadata": {},
     "outputs": [
      {
       "output_type": "stream",
       "stream": "stdout",
       "text": [
        "features_train.shape: (1498, 31)\n"
       ]
      }
     ],
     "prompt_number": 90
    },
    {
     "cell_type": "code",
     "collapsed": false,
     "input": [
      "f_all = np.concatenate((features_train, features_val, features_test))\n",
      "scaler_train = StandardScaler().fit(f_all)\n",
      "fscaled_train = scaler_train.transform(features_train)\n",
      "fscaled_val = scaler_train.transform(features_val)\n",
      "fscaled_test = scaler_train.transform(features_test)\n",
      "\n",
      "#print(fscaled_val.shape)\n",
      "### Random Forest Classifier\n",
      "params = {'max_depth': [3,5,7,10,15,20,30,50,75,100,150,200,250,300,400]}#,\n",
      "grid_rfc = GridSearchCV(RandomForestClassifier(n_estimators=500), param_grid=params,\n",
      "                        verbose=0, n_jobs=4)\n",
      "grid_rfc.fit(fscaled_train, labels_train)\n",
      "print(\"Training accuracy: \" + str(grid_rfc.score(fscaled_train, labels_train)))\n",
      "print(\"Validation accuracy: \" + str(grid_rfc.score(fscaled_val, labels_val)))\n",
      "print(\"Test accuracy: \" + str(grid_rfc.score(fscaled_test, labels_test)))\n"
     ],
     "language": "python",
     "metadata": {},
     "outputs": [
      {
       "ename": "ValueError",
       "evalue": "Input contains NaN, infinity or a value too large for dtype('float64').",
       "output_type": "pyerr",
       "traceback": [
        "\u001b[0;31m---------------------------------------------------------------------------\u001b[0m\n\u001b[0;31mValueError\u001b[0m                                Traceback (most recent call last)",
        "\u001b[0;32m<ipython-input-91-2a765eb1a2dc>\u001b[0m in \u001b[0;36m<module>\u001b[0;34m()\u001b[0m\n\u001b[1;32m      1\u001b[0m \u001b[0mf_all\u001b[0m \u001b[0;34m=\u001b[0m \u001b[0mnp\u001b[0m\u001b[0;34m.\u001b[0m\u001b[0mconcatenate\u001b[0m\u001b[0;34m(\u001b[0m\u001b[0;34m(\u001b[0m\u001b[0mfeatures_train\u001b[0m\u001b[0;34m,\u001b[0m \u001b[0mfeatures_val\u001b[0m\u001b[0;34m,\u001b[0m \u001b[0mfeatures_test\u001b[0m\u001b[0;34m)\u001b[0m\u001b[0;34m)\u001b[0m\u001b[0;34m\u001b[0m\u001b[0m\n\u001b[0;32m----> 2\u001b[0;31m \u001b[0mscaler_train\u001b[0m \u001b[0;34m=\u001b[0m \u001b[0mStandardScaler\u001b[0m\u001b[0;34m(\u001b[0m\u001b[0;34m)\u001b[0m\u001b[0;34m.\u001b[0m\u001b[0mfit\u001b[0m\u001b[0;34m(\u001b[0m\u001b[0mf_all\u001b[0m\u001b[0;34m)\u001b[0m\u001b[0;34m\u001b[0m\u001b[0m\n\u001b[0m\u001b[1;32m      3\u001b[0m \u001b[0mfscaled_train\u001b[0m \u001b[0;34m=\u001b[0m \u001b[0mscaler_train\u001b[0m\u001b[0;34m.\u001b[0m\u001b[0mtransform\u001b[0m\u001b[0;34m(\u001b[0m\u001b[0mfeatures_train\u001b[0m\u001b[0;34m)\u001b[0m\u001b[0;34m\u001b[0m\u001b[0m\n\u001b[1;32m      4\u001b[0m \u001b[0mfscaled_val\u001b[0m \u001b[0;34m=\u001b[0m \u001b[0mscaler_train\u001b[0m\u001b[0;34m.\u001b[0m\u001b[0mtransform\u001b[0m\u001b[0;34m(\u001b[0m\u001b[0mfeatures_val\u001b[0m\u001b[0;34m)\u001b[0m\u001b[0;34m\u001b[0m\u001b[0m\n\u001b[1;32m      5\u001b[0m \u001b[0mfscaled_test\u001b[0m \u001b[0;34m=\u001b[0m \u001b[0mscaler_train\u001b[0m\u001b[0;34m.\u001b[0m\u001b[0mtransform\u001b[0m\u001b[0;34m(\u001b[0m\u001b[0mfeatures_test\u001b[0m\u001b[0;34m)\u001b[0m\u001b[0;34m\u001b[0m\u001b[0m\n",
        "\u001b[0;32m/opt/local/Library/Frameworks/Python.framework/Versions/2.7/lib/python2.7/site-packages/sklearn/preprocessing/data.pyc\u001b[0m in \u001b[0;36mfit\u001b[0;34m(self, X, y)\u001b[0m\n\u001b[1;32m    313\u001b[0m             \u001b[0mused\u001b[0m \u001b[0;32mfor\u001b[0m \u001b[0mlater\u001b[0m \u001b[0mscaling\u001b[0m \u001b[0malong\u001b[0m \u001b[0mthe\u001b[0m \u001b[0mfeatures\u001b[0m \u001b[0maxis\u001b[0m\u001b[0;34m.\u001b[0m\u001b[0;34m\u001b[0m\u001b[0m\n\u001b[1;32m    314\u001b[0m         \"\"\"\n\u001b[0;32m--> 315\u001b[0;31m         \u001b[0mX\u001b[0m \u001b[0;34m=\u001b[0m \u001b[0mcheck_arrays\u001b[0m\u001b[0;34m(\u001b[0m\u001b[0mX\u001b[0m\u001b[0;34m,\u001b[0m \u001b[0mcopy\u001b[0m\u001b[0;34m=\u001b[0m\u001b[0mself\u001b[0m\u001b[0;34m.\u001b[0m\u001b[0mcopy\u001b[0m\u001b[0;34m,\u001b[0m \u001b[0msparse_format\u001b[0m\u001b[0;34m=\u001b[0m\u001b[0;34m\"csr\"\u001b[0m\u001b[0;34m)\u001b[0m\u001b[0;34m[\u001b[0m\u001b[0;36m0\u001b[0m\u001b[0;34m]\u001b[0m\u001b[0;34m\u001b[0m\u001b[0m\n\u001b[0m\u001b[1;32m    316\u001b[0m         \u001b[0;32mif\u001b[0m \u001b[0mwarn_if_not_float\u001b[0m\u001b[0;34m(\u001b[0m\u001b[0mX\u001b[0m\u001b[0;34m,\u001b[0m \u001b[0mestimator\u001b[0m\u001b[0;34m=\u001b[0m\u001b[0mself\u001b[0m\u001b[0;34m)\u001b[0m\u001b[0;34m:\u001b[0m\u001b[0;34m\u001b[0m\u001b[0m\n\u001b[1;32m    317\u001b[0m             \u001b[0mX\u001b[0m \u001b[0;34m=\u001b[0m \u001b[0mX\u001b[0m\u001b[0;34m.\u001b[0m\u001b[0mastype\u001b[0m\u001b[0;34m(\u001b[0m\u001b[0mnp\u001b[0m\u001b[0;34m.\u001b[0m\u001b[0mfloat\u001b[0m\u001b[0;34m)\u001b[0m\u001b[0;34m\u001b[0m\u001b[0m\n",
        "\u001b[0;32m/opt/local/Library/Frameworks/Python.framework/Versions/2.7/lib/python2.7/site-packages/sklearn/utils/validation.pyc\u001b[0m in \u001b[0;36mcheck_arrays\u001b[0;34m(*arrays, **options)\u001b[0m\n\u001b[1;32m    281\u001b[0m                     \u001b[0marray\u001b[0m \u001b[0;34m=\u001b[0m \u001b[0mnp\u001b[0m\u001b[0;34m.\u001b[0m\u001b[0masarray\u001b[0m\u001b[0;34m(\u001b[0m\u001b[0marray\u001b[0m\u001b[0;34m,\u001b[0m \u001b[0mdtype\u001b[0m\u001b[0;34m=\u001b[0m\u001b[0mdtype\u001b[0m\u001b[0;34m)\u001b[0m\u001b[0;34m\u001b[0m\u001b[0m\n\u001b[1;32m    282\u001b[0m                 \u001b[0;32mif\u001b[0m \u001b[0;32mnot\u001b[0m \u001b[0mallow_nans\u001b[0m\u001b[0;34m:\u001b[0m\u001b[0;34m\u001b[0m\u001b[0m\n\u001b[0;32m--> 283\u001b[0;31m                     \u001b[0m_assert_all_finite\u001b[0m\u001b[0;34m(\u001b[0m\u001b[0marray\u001b[0m\u001b[0;34m)\u001b[0m\u001b[0;34m\u001b[0m\u001b[0m\n\u001b[0m\u001b[1;32m    284\u001b[0m \u001b[0;34m\u001b[0m\u001b[0m\n\u001b[1;32m    285\u001b[0m             \u001b[0;32mif\u001b[0m \u001b[0;32mnot\u001b[0m \u001b[0mallow_nd\u001b[0m \u001b[0;32mand\u001b[0m \u001b[0marray\u001b[0m\u001b[0;34m.\u001b[0m\u001b[0mndim\u001b[0m \u001b[0;34m>=\u001b[0m \u001b[0;36m3\u001b[0m\u001b[0;34m:\u001b[0m\u001b[0;34m\u001b[0m\u001b[0m\n",
        "\u001b[0;32m/opt/local/Library/Frameworks/Python.framework/Versions/2.7/lib/python2.7/site-packages/sklearn/utils/validation.pyc\u001b[0m in \u001b[0;36m_assert_all_finite\u001b[0;34m(X)\u001b[0m\n\u001b[1;32m     41\u001b[0m             and not np.isfinite(X).all()):\n\u001b[1;32m     42\u001b[0m         raise ValueError(\"Input contains NaN, infinity\"\n\u001b[0;32m---> 43\u001b[0;31m                          \" or a value too large for %r.\" % X.dtype)\n\u001b[0m\u001b[1;32m     44\u001b[0m \u001b[0;34m\u001b[0m\u001b[0m\n\u001b[1;32m     45\u001b[0m \u001b[0;34m\u001b[0m\u001b[0m\n",
        "\u001b[0;31mValueError\u001b[0m: Input contains NaN, infinity or a value too large for dtype('float64')."
       ]
      }
     ],
     "prompt_number": 91
    },
    {
     "cell_type": "markdown",
     "metadata": {},
     "source": [
      "The result including the whole periodogram isn't much better (given some variance in the validation and test accuracy due to the probabilistic nature of the Random Forest classifier). Either we'll need to be a lot smarter about making our features, or this is as good as it's going to get.\n",
      "\n",
      "## How good is the computer compared to human classification?\n",
      "\n",
      "Let's check how good the computer does compared to the human classification. For this purpose, we'll be making plots that show light curve, PSD and HR diagram for (1) the segment in question, (2) six examples of the human-classified class, (3) six examples of the computer-classified class.\n",
      "These plots will be made for all misclsasified light curves, and serves as a sanity check of whether the computer is actually just misclassifying, or whether there are ambiguities in the human classification.\n"
     ]
    },
    {
     "cell_type": "code",
     "collapsed": false,
     "input": [
      "#f = open(datadir+\"grs1915_1024_clean_summary_features.dat\", \"r\")\n",
      "#feature_dict = pickle.load(f)\n",
      "#f.close()\n",
      "\n",
      "#features_train = np.array(feature_dict[\"train\"][0][\"features\"])\n",
      "#features_val = np.array(feature_dict[\"val\"][0][0][\"features\"])\n",
      "#features_test = np.array(feature_dict[\"test\"][0][\"features\"])\n",
      "#print(\"features_train.shape: \" + str(features_train.shape))\n",
      "#labels_train = feature_dict[\"train\"][1]\n",
      "#labels_val = feature_dict[\"val\"][0][1]\n",
      "#labels_test = feature_dict[\"test\"][1]"
     ],
     "language": "python",
     "metadata": {},
     "outputs": [
      {
       "output_type": "stream",
       "stream": "stdout",
       "text": [
        "features_train.shape: (1467, 16)\n"
       ]
      }
     ],
     "prompt_number": 92
    },
    {
     "cell_type": "markdown",
     "metadata": {},
     "source": [
      "This time, we also need to extract light curves and hardness ratios for the plotting."
     ]
    },
    {
     "cell_type": "code",
     "collapsed": false,
     "input": [
      "lc_all = gt.getpickle(datadir+\"grs1915_256_all_summary_lc_all.dat\")\n",
      "hr_all = gt.getpickle(datadir+\"grs1915_256_all_summary_hr_all.dat\")\n",
      "\n",
      "lc_train = lc_all[\"train\"][np.where(labels_train != \"None\")[0]]\n",
      "lc_test = lc_all[\"test\"][np.where(labels_train != \"None\")[0]]\n",
      "lc_val = lc_all[\"val\"][np.where(labels_train != \"None\")[0]]\n",
      "\n",
      "hr_train = hr_all[\"train\"][np.where(labels_train != \"None\")[0]]\n",
      "hr_test = hr_all[\"test\"][np.where(labels_train != \"None\")[0]]\n",
      "hr_val = hr_all[\"val\"][np.where(labels_train != \"None\")[0]]\n",
      "#lc_train = feature_dict[\"train\"][0][\"lc\"]\n",
      "#lc_val = feature_dict[\"val\"][0][0][\"lc\"]\n",
      "#lc_test = feature_dict[\"test\"][0][\"lc\"]\n",
      "\n",
      "#hr_train = feature_dict[\"train\"][0][\"hr\"]\n",
      "#hr_val = feature_dict[\"val\"][0][0][\"hr\"]\n",
      "#hr_test = feature_dict[\"test\"][0][\"hr\"]\n"
     ],
     "language": "python",
     "metadata": {},
     "outputs": [
      {
       "output_type": "stream",
       "stream": "stdout",
       "text": [
        "ERROR! Session/line number was not unique in database. History logging moved to new session 361\n"
       ]
      },
      {
       "ename": "KeyboardInterrupt",
       "evalue": "",
       "output_type": "pyerr",
       "traceback": [
        "\u001b[0;31m---------------------------------------------------------------------------\u001b[0m\n\u001b[0;31mKeyboardInterrupt\u001b[0m                         Traceback (most recent call last)",
        "\u001b[0;32m<ipython-input-49-b967173f738e>\u001b[0m in \u001b[0;36m<module>\u001b[0;34m()\u001b[0m\n\u001b[1;32m      1\u001b[0m \u001b[0mlc_all\u001b[0m \u001b[0;34m=\u001b[0m \u001b[0mgt\u001b[0m\u001b[0;34m.\u001b[0m\u001b[0mgetpickle\u001b[0m\u001b[0;34m(\u001b[0m\u001b[0mdatadir\u001b[0m\u001b[0;34m+\u001b[0m\u001b[0;34m\"grs1915_256_all_summary_lc_all.dat\"\u001b[0m\u001b[0;34m)\u001b[0m\u001b[0;34m\u001b[0m\u001b[0m\n\u001b[0;32m----> 2\u001b[0;31m \u001b[0mhr_all\u001b[0m \u001b[0;34m=\u001b[0m \u001b[0mgt\u001b[0m\u001b[0;34m.\u001b[0m\u001b[0mgetpickle\u001b[0m\u001b[0;34m(\u001b[0m\u001b[0mdatadir\u001b[0m\u001b[0;34m+\u001b[0m\u001b[0;34m\"grs1915_256_all_summary_hr_all.dat\"\u001b[0m\u001b[0;34m)\u001b[0m\u001b[0;34m\u001b[0m\u001b[0m\n\u001b[0m\u001b[1;32m      3\u001b[0m \u001b[0;34m\u001b[0m\u001b[0m\n\u001b[1;32m      4\u001b[0m \u001b[0mlc_train\u001b[0m \u001b[0;34m=\u001b[0m \u001b[0mlc_all\u001b[0m\u001b[0;34m[\u001b[0m\u001b[0;34m\"train\"\u001b[0m\u001b[0;34m]\u001b[0m\u001b[0;34m[\u001b[0m\u001b[0mnp\u001b[0m\u001b[0;34m.\u001b[0m\u001b[0mwhere\u001b[0m\u001b[0;34m(\u001b[0m\u001b[0mlabels_train\u001b[0m \u001b[0;34m!=\u001b[0m \u001b[0;34m\"None\"\u001b[0m\u001b[0;34m)\u001b[0m\u001b[0;34m[\u001b[0m\u001b[0;36m0\u001b[0m\u001b[0;34m]\u001b[0m\u001b[0;34m]\u001b[0m\u001b[0;34m\u001b[0m\u001b[0m\n\u001b[1;32m      5\u001b[0m \u001b[0mlc_test\u001b[0m \u001b[0;34m=\u001b[0m \u001b[0mlc_all\u001b[0m\u001b[0;34m[\u001b[0m\u001b[0;34m\"test\"\u001b[0m\u001b[0;34m]\u001b[0m\u001b[0;34m[\u001b[0m\u001b[0mnp\u001b[0m\u001b[0;34m.\u001b[0m\u001b[0mwhere\u001b[0m\u001b[0;34m(\u001b[0m\u001b[0mlabels_train\u001b[0m \u001b[0;34m!=\u001b[0m \u001b[0;34m\"None\"\u001b[0m\u001b[0;34m)\u001b[0m\u001b[0;34m[\u001b[0m\u001b[0;36m0\u001b[0m\u001b[0;34m]\u001b[0m\u001b[0;34m]\u001b[0m\u001b[0;34m\u001b[0m\u001b[0m\n",
        "\u001b[0;32m/Users/danielahuppenkothen/work/repositories/UTools/generaltools.pyc\u001b[0m in \u001b[0;36mgetpickle\u001b[0;34m(picklefile)\u001b[0m\n\u001b[1;32m    741\u001b[0m \u001b[0;32mdef\u001b[0m \u001b[0mgetpickle\u001b[0m\u001b[0;34m(\u001b[0m\u001b[0mpicklefile\u001b[0m\u001b[0;34m)\u001b[0m\u001b[0;34m:\u001b[0m\u001b[0;34m\u001b[0m\u001b[0m\n\u001b[1;32m    742\u001b[0m     \u001b[0mfile\u001b[0m \u001b[0;34m=\u001b[0m \u001b[0mopen\u001b[0m\u001b[0;34m(\u001b[0m\u001b[0mpicklefile\u001b[0m\u001b[0;34m,\u001b[0m \u001b[0;34m'r'\u001b[0m\u001b[0;34m)\u001b[0m\u001b[0;34m\u001b[0m\u001b[0m\n\u001b[0;32m--> 743\u001b[0;31m     \u001b[0mprocdata\u001b[0m \u001b[0;34m=\u001b[0m \u001b[0mpickle\u001b[0m\u001b[0;34m.\u001b[0m\u001b[0mload\u001b[0m\u001b[0;34m(\u001b[0m\u001b[0mfile\u001b[0m\u001b[0;34m)\u001b[0m\u001b[0;34m\u001b[0m\u001b[0m\n\u001b[0m\u001b[1;32m    744\u001b[0m     \u001b[0;32mreturn\u001b[0m \u001b[0mprocdata\u001b[0m\u001b[0;34m\u001b[0m\u001b[0m\n\u001b[1;32m    745\u001b[0m \u001b[0;31m########################################################################\u001b[0m\u001b[0;34m\u001b[0m\u001b[0;34m\u001b[0m\u001b[0m\n",
        "\u001b[0;31mKeyboardInterrupt\u001b[0m: "
       ]
      }
     ],
     "prompt_number": 49
    },
    {
     "cell_type": "code",
     "collapsed": false,
     "input": [
      "lc_train = np.array(lc_all[\"train\"])[np.where(labels_train != \"None\")[0]]\n",
      "lc_test = np.array(lc_all[\"test\"])[np.where(labels_test != \"None\")[0]]\n",
      "lc_val = np.array(lc_all[\"val\"])[np.where(labels_val != \"None\")[0]]\n",
      "\n",
      "hr_train = np.array(hr_all[\"train\"])[np.where(labels_train != \"None\")[0]]\n",
      "hr_test = np.array(hr_all[\"test\"])[np.where(labels_test != \"None\")[0]]\n",
      "hr_val = np.array(hr_all[\"val\"])[np.where(labels_val != \"None\")[0]]"
     ],
     "language": "python",
     "metadata": {},
     "outputs": [],
     "prompt_number": 53
    },
    {
     "cell_type": "code",
     "collapsed": false,
     "input": [
      "print(len(labels_val))\n",
      "print(len(lc_val))\n",
      "print(len(hr_val))"
     ],
     "language": "python",
     "metadata": {},
     "outputs": [
      {
       "output_type": "stream",
       "stream": "stdout",
       "text": [
        "1399\n",
        "1399\n",
        "1399\n"
       ]
      }
     ],
     "prompt_number": 54
    },
    {
     "cell_type": "code",
     "collapsed": false,
     "input": [
      "for i,(lc,l) in enumerate(zip(lc_val, labels_val)):\n",
      "    #print(lc[0])\n",
      "    if \"chi\" in l:\n",
      "        plt.figure()\n",
      "        plt.plot(np.array(lc).T[:,0], np.array(lc).T[:,1])\n",
      "        plt.title('State %s'%l)\n",
      "        plt.savefig(\"%s_lc%i.pdf\"%(l,i))\n",
      "        plt.close()\n",
      "    else:\n",
      "        continue"
     ],
     "language": "python",
     "metadata": {},
     "outputs": [],
     "prompt_number": 47
    },
    {
     "cell_type": "markdown",
     "metadata": {},
     "source": [
      "We'll need to reshuffle the feature vector to match the reduced one "
     ]
    },
    {
     "cell_type": "code",
     "collapsed": false,
     "input": [
      "feature_ranking = [13, 8, 2, 3, 1, 9, 11, 4, 12, 0, 15, 14, 7, 10, 6, 5]"
     ],
     "language": "python",
     "metadata": {},
     "outputs": [],
     "prompt_number": 96
    },
    {
     "cell_type": "code",
     "collapsed": false,
     "input": [
      "features_new_train = np.zeros(features_train.shape)\n",
      "features_new_val = np.zeros(features_val.shape)\n",
      "features_new_test = np.zeros(features_test.shape)\n",
      "\n",
      "for i,f in enumerate(feature_ranking):\n",
      "    features_new_train[:,i] = features_train[:,f]\n",
      "    features_new_val[:,i] = features_val[:,f]\n",
      "    features_new_test[:,i] = features_test[:,f]"
     ],
     "language": "python",
     "metadata": {},
     "outputs": [],
     "prompt_number": 97
    },
    {
     "cell_type": "markdown",
     "metadata": {},
     "source": [
      "Now let's do the classification one more time."
     ]
    },
    {
     "cell_type": "code",
     "collapsed": false,
     "input": [
      "from sklearn import cross_validation\n",
      "from sklearn.preprocessing import StandardScaler\n",
      "from sklearn.grid_search import GridSearchCV\n",
      "from sklearn.ensemble import RandomForestClassifier\n",
      "\n",
      "\n",
      "f_all = np.concatenate((features_new_train[:,:12], features_new_val[:,:12], features_new_test[:,:12]))\n",
      "\n",
      "scaler_train = StandardScaler().fit(f_all)\n",
      "fscaled_train = scaler_train.transform(features_train[:,:12])\n",
      "fscaled_val = scaler_train.transform(features_val[:,:12])\n",
      "fscaled_test = scaler_train.transform(features_test[:,:12])\n",
      "\n",
      "#print(fscaled_val.shape)\n",
      "### Random Forest Classifier\n",
      "params = {'max_depth': [3,5,7,10,15,20,30,50,75,100,150,200,250,300,400]}#,\n",
      "grid_rfc = GridSearchCV(RandomForestClassifier(n_estimators=500), param_grid=params,\n",
      "                        verbose=0, n_jobs=4)\n",
      "grid_rfc.fit(fscaled_train, labels_train)\n",
      "print(\"Training accuracy: \" + str(grid_rfc.score(fscaled_train, labels_train)))\n",
      "print(\"Validation accuracy: \" + str(grid_rfc.score(fscaled_val, labels_val)))\n",
      "print(\"Test accuracy: \" + str(grid_rfc.score(fscaled_test, labels_test)))\n",
      "\n",
      "labels_rfc = grid_rfc.predict(fscaled_val)\n",
      "labels_rfc_test = grid_rfc.predict(fscaled_test)\n"
     ],
     "language": "python",
     "metadata": {},
     "outputs": [
      {
       "output_type": "stream",
       "stream": "stdout",
       "text": [
        "Training accuracy: 1.0\n",
        "Validation accuracy: 0.745072273325"
       ]
      },
      {
       "output_type": "stream",
       "stream": "stdout",
       "text": [
        "\n",
        "Test accuracy: 0.893216080402"
       ]
      },
      {
       "output_type": "stream",
       "stream": "stdout",
       "text": [
        "\n"
       ]
      }
     ],
     "prompt_number": 98
    },
    {
     "cell_type": "code",
     "collapsed": false,
     "input": [
      "\n",
      "from sklearn.metrics import confusion_matrix\n",
      "import matplotlib.cm as cmap\n",
      "\n",
      "\n",
      "fig = plt.figure(figsize=(12,12))\n",
      "\n",
      "sns.set_style(\"white\") \n",
      "unique_labels = np.unique(labels_val)\n",
      "cm = confusion_matrix(labels_val, labels_rfc, labels=unique_labels)\n",
      "print(cm)\n",
      "#print(unique_labels)\n",
      "ax1 = fig.add_subplot(221)\n",
      "ax1.matshow(cm, cmap=cmap.Spectral_r);\n",
      "ax1.set_title('Confusion matrix, Validation Set')\n",
      "#plt.colorbar()\n",
      "ax1.set_ylabel('True label')\n",
      "ax1.set_xlabel('Predicted label')\n",
      "plt.xticks(range(len(unique_labels)), unique_labels, rotation=70);\n",
      "plt.yticks(range(len(unique_labels)), unique_labels);\n",
      "#plt.show()\n",
      "\n",
      "fig = plt.figure(figsize=(12,12))\n",
      "\n",
      "sns.set_style(\"white\") \n",
      "unique_labels = np.unique(labels_test)\n",
      "cm = confusion_matrix(labels_test, labels_rfc_test, labels=unique_labels)\n",
      "print(cm)\n",
      "#print(unique_labels)\n",
      "ax1 = fig.add_subplot(221)\n",
      "ax1.matshow(cm, cmap=cmap.Spectral_r);\n",
      "ax1.set_title('Confusion matrix, Test Set')\n",
      "#plt.colorbar()\n",
      "ax1.set_ylabel('True label')\n",
      "ax1.set_xlabel('Predicted label')\n",
      "plt.xticks(range(len(unique_labels)), unique_labels, rotation=70);\n",
      "plt.yticks(range(len(unique_labels)), unique_labels);\n",
      "#plt.show()\n"
     ],
     "language": "python",
     "metadata": {},
     "outputs": [
      {
       "output_type": "stream",
       "stream": "stdout",
       "text": [
        "[[ 28   0   0   3   6   0   0   0   0   0   0   0   0   0]\n",
        " [  6  50   0   0   0   3   0   6  28  23   0   0   5   0]\n",
        " [  0   0  75   0  43   0   0   0   0   0   0   0   0   0]\n",
        " [  0   0   0 121  18   0   0   0   0   0   0   0   0   0]\n",
        " [  3   0   0   0  49   0   0   0   0   0   0   0   0   0]\n",
        " [ 11   0   0   0   0  34   0   0   0   0   0   0   0   0]\n",
        " [  0   0   0   0   0   0   2   0   0   0   0   0   0   0]\n",
        " [  0   0   0   0   0   0   0  26   0   2   0   0   0   0]\n",
        " [  0   0   0   0   0   0   0   0  10   0   0   0   0   0]\n",
        " [  0   0   0   0   0   1   0   0   3  45   0   0   0   0]\n",
        " [  0   0   0   0   2   0   0   0   0   0  21   0   0   0]\n",
        " [  0   0   0   0   0   0   0   0   0   0   0   7   0   0]\n",
        " [ 16   0   0   0   0   0   0   0   0   0  15   0  47   0]\n",
        " [  0   0   0   0   0   0   0   0   0   0   0   0   0  52]]\n",
        "[[ 12   0   0   0   0   0   0   0   0   0   0   0   0   0   0]\n",
        " [  3  47   0   0   0   0   0   0   0   0   1   0   0   0   0]\n",
        " [  0   0  89   0   0   0   0   0   0   0   0   0   0   0   0]\n",
        " [  1   0   0  64   0  15   0   0   0   0   0   0   0   0   0]\n",
        " [  0   0   0   0  72   0   0   0   0   0   0   0   0   0   0]\n",
        " [  4   0  15  11   0  55   0   0   0   0   0   0   0   0   0]\n",
        " [  0   0   0   0   0   0  35   0   0   0   0   0  12   0   0]\n",
        " [  0   0   0   0   0   0   0 116   0   0   0   0   0   0   0]\n",
        " [  0   0   0   0   0   0   0   0   3   0   0   0   0   0   0]\n",
        " [  0   0   0   0   0   0   0   0   0  38   1   6   0   1   0]\n",
        " [  0   8   0   0   0   0   0   0   3   0  44   0   0   0   0]\n",
        " [  0   0   0   0   0   4   0   0   0   0   0   3   0   0   0]\n",
        " [  0   0   0   0   0   0   0   0   0   0   0   0  76   0   0]\n",
        " [  0   0   0   0   0   0   0   0   0   0   0   0   0  12   0]\n",
        " [  0   0   0   0   0   0   0   0   0   0   0   0   0   0  45]]"
       ]
      },
      {
       "output_type": "stream",
       "stream": "stdout",
       "text": [
        "\n"
       ]
      },
      {
       "metadata": {},
       "output_type": "pyout",
       "prompt_number": 99,
       "text": [
        "([<matplotlib.axis.YTick at 0x1123b2090>,\n",
        "  <matplotlib.axis.YTick at 0x1123b2c10>,\n",
        "  <matplotlib.axis.YTick at 0x11c73e690>,\n",
        "  <matplotlib.axis.YTick at 0x11c70fdd0>,\n",
        "  <matplotlib.axis.YTick at 0x11c70f790>,\n",
        "  <matplotlib.axis.YTick at 0x11c70fa90>,\n",
        "  <matplotlib.axis.YTick at 0x11f1e8110>,\n",
        "  <matplotlib.axis.YTick at 0x11c71bb10>,\n",
        "  <matplotlib.axis.YTick at 0x11c71bf50>,\n",
        "  <matplotlib.axis.YTick at 0x11c7169d0>,\n",
        "  <matplotlib.axis.YTick at 0x11c716d90>,\n",
        "  <matplotlib.axis.YTick at 0x11a45e250>,\n",
        "  <matplotlib.axis.YTick at 0x11a45e210>,\n",
        "  <matplotlib.axis.YTick at 0x11a290450>,\n",
        "  <matplotlib.axis.YTick at 0x11a2909d0>],\n",
        " <a list of 15 Text yticklabel objects>)"
       ]
      },
      {
       "metadata": {},
       "output_type": "display_data",
       "png": "[encoded data removed]",
       "text": [
        "<matplotlib.figure.Figure at 0x11c3cad90>"
       ]
      },
      {
       "metadata": {},
       "output_type": "display_data",
       "png": "[encoded data removed]",
       "text": [
        "<matplotlib.figure.Figure at 0x11a715fd0>"
       ]
      }
     ],
     "prompt_number": 99
    },
    {
     "cell_type": "markdown",
     "metadata": {},
     "source": [
      "This is basically copy-pasted from the supervised classification notebook."
     ]
    },
    {
     "cell_type": "code",
     "collapsed": false,
     "input": [
      "import powerspectrum\n",
      "import copy\n",
      "import scipy.stats\n",
      "\n",
      "def plot_misclassifieds(features, trained_labels, real_labels, lc_all, hr_all, hr_limits,\n",
      "                        nexamples=6, namestr=\"misclassified\", datadir=\"./\"):\n",
      "\n",
      "    \"\"\"\n",
      "    Find all mis-classified light curves and plot them with examples of the real and false classes.\n",
      "    \"\"\"\n",
      "    misclassifieds = []\n",
      "    for i,(f, lpredict, ltrue, lc, hr) in enumerate(zip(features, trained_labels, real_labels, lc_all, \\\n",
      "                                                hr_all)):\n",
      "        if lpredict == ltrue:\n",
      "            continue\n",
      "        else:\n",
      "            misclassifieds.append([f, lpredict, ltrue, lc, hr])\n",
      "\n",
      "    for j,m in enumerate(misclassifieds):\n",
      "        pos_human = np.random.choice([0,3], p=[0.5, 0.5])\n",
      "        pos_robot = int(3. - pos_human)\n",
      "\n",
      "        f = m[0]\n",
      "        lpredict = m[1]\n",
      "        ltrue = m[2]\n",
      "        times = m[3][0]\n",
      "        counts = m[3][1]\n",
      "        hr1 = m[4][0]\n",
      "        hr2 = m[4][1]\n",
      "        print(\"Predicted class is: \" + str(lpredict))\n",
      "        print(\"Human classified class is: \" + str(ltrue))\n",
      "        robot_all = [[lp, lt, lc, hr] for lp, lt, lc, hr in \\\n",
      "                     zip(real_labels, trained_labels, lc_all, hr_all)\\\n",
      "                     if lp == lpredict ]\n",
      "        human_all = [[lp, lt, lc, hr] for lp, lt, lc, hr in \\\n",
      "                     zip(real_labels, trained_labels, lc_all, hr_all)\\\n",
      "                     if lp == ltrue ]\n",
      "\n",
      "        np.random.shuffle(robot_all)\n",
      "        np.random.shuffle(human_all)\n",
      "        robot_all = robot_all[:6]\n",
      "        human_all = human_all[:6]\n",
      "\n",
      "        sns.set_style(\"darkgrid\")\n",
      "        current_palette = sns.color_palette()\n",
      "        fig = plt.figure(figsize=(10,15))\n",
      "\n",
      "        def plot_lcs(times, counts, hr1, hr2, xcoords, ycoords, colspan, rowspan):\n",
      "            #print(\"plotting in grid point \" + str((xcoords[0], ycoords[0])))\n",
      "            ax = plt.subplot2grid((9,6),(xcoords[0], ycoords[0]), colspan=colspan, rowspan=rowspan)\n",
      "            ax.plot(times, counts, lw=2, linestyle=\"steps-mid\", rasterized=True)\n",
      "            ax.set_xlim([times[0], times[-1]])\n",
      "            ax.set_ylim([0.0, 12000.0])\n",
      "            #print(\"plotting in grid point \" + str((xcoords[1], ycoords[1])))\n",
      "\n",
      "            h, xedges, yedges = np.histogram2d(np.log(hr1), np.log(hr2), bins=40, \n",
      "                                   range=hr_limits)\n",
      "            h = np.rot90(h)\n",
      "            h = np.flipud(h)\n",
      "\n",
      "            hmax = np.max(h)\n",
      "            #print(hmax)\n",
      "            hmask = np.where(h > hmax/20.)\n",
      "            hmask1 = np.where(h < hmax/20.)\n",
      "\n",
      "            hnew = copy.copy(h)\n",
      "            hnew[hmask[0], hmask[1]] = 1.\n",
      "            hnew[hmask1[0], hmask1[1]] = 0.0\n",
      "\n",
      "            ax = plt.subplot2grid((9,6),(xcoords[1], ycoords[1]), colspan=colspan, rowspan=rowspan)\n",
      "            ax.pcolormesh(xedges,yedges,hnew,cmap='BuPu')\n",
      "            #ax.scatter(hr1, hr2, facecolor=current_palette[1], edgecolor=\"none\", rasterized=True)\n",
      "            ax.set_xlim(hr_limits[0])\n",
      "            ax.set_ylim(hr_limits[1])\n",
      "\n",
      "            #print(\"plotting in grid point \" + str((xcoords[2], ycoords[2])))    \n",
      "            ax = plt.subplot2grid((9,6),(xcoords[2], ycoords[2]), colspan=colspan, rowspan=rowspan)\n",
      "            dt = np.min(np.diff(times))\n",
      "            ps = powerspectrum.PowerSpectrum(times, counts=counts/dt, norm=\"rms\")\n",
      "            ps.freq = np.array(ps.freq)\n",
      "            ps.ps = np.array(ps.ps)*ps.freq\n",
      "            \n",
      "            binfreq = np.logspace(np.log10(ps.freq[1]), np.log10(ps.freq[-1]), 24)\n",
      "            binps, bin_edges, binno = scipy.stats.binned_statistic(ps.freq[1:], ps.ps[1:], statistic=\"mean\", bins=binfreq)\n",
      "\n",
      "            df = binfreq[1:]-binfreq[:-1]\n",
      "            binfreq = binfreq[:-1]+df/2.\n",
      "            ax.loglog(binfreq[1:], binps[1:], linestyle=\"steps-mid\", rasterized=True)\n",
      "            ax.set_xlim([ps.freq[1], ps.freq[-1]])\n",
      "            ax.set_ylim([1.e-6, 10.])\n",
      "\n",
      "            return\n",
      "\n",
      "        ## first plot misclassified:\n",
      "        plot_lcs(times, counts, hr1, hr2, [0,0,0], [0,2,4], 2, 2)\n",
      "\n",
      "        ## now plot examples\n",
      "        for i in range(4):\n",
      "            r = robot_all[i]\n",
      "            h = human_all[i]\n",
      "            #print(h[0])\n",
      "            #print(\"human indices: \" + str([ [i+3, i+3, i+3], [pos_human, pos_human+1, pos_human+2]]))\n",
      "            #print(\"robot indices: \" + str([[i+3, i+3, i+3], [pos_robot, pos_robot+1, pos_robot+2]]))\n",
      "            plot_lcs(h[2][0], h[2][1], h[3][0], h[3][1], [i+2, i+2, i+2], [pos_human, pos_human+1, pos_human+2], 1, 1)\n",
      "            plot_lcs(r[2][0], r[2][1], r[3][0], r[3][1], [i+2, i+2, i+2], [pos_robot, pos_robot+1, pos_robot+2], 1, 1)\n",
      "\n",
      "        ax = plt.subplot2grid((9,6),(8,pos_human+1))\n",
      "        ax.set_xlim([0,1])\n",
      "        ax.set_ylim([0,1])\n",
      "        ax.set_xlabel(\"Human: %s\"%ltrue, fontsize=20)\n",
      "        ax = plt.subplot2grid((9,6),(8,pos_robot+1))\n",
      "        ax.set_xlim([0,1])\n",
      "        ax.set_ylim([0,1])\n",
      "        ax.set_xlabel(\"Robot: %s\"%lpredict, fontsize=20)\n",
      "        #plt.show()\n",
      "        plt.savefig(\"misclassified%i.pdf\"%j, format=\"pdf\")\n",
      "        plt.close()"
     ],
     "language": "python",
     "metadata": {},
     "outputs": [],
     "prompt_number": 55
    },
    {
     "cell_type": "code",
     "collapsed": false,
     "input": [
      "hr2_min = -3.0\n",
      "hr2_max = 2.0\n",
      "hr1_min = -2.5\n",
      "hr1_max = 1.5\n",
      "\n",
      "sns.set_context(\"notebook\", font_scale=1.0, rc={\"axes.labelsize\": 14})\n",
      "plt.rc(\"font\", size=14, family=\"serif\", serif=\"Computer Sans\")\n",
      "plt.rc(\"axes\", titlesize=14, labelsize=14) \n",
      "plt.rc(\"text\", usetex=True)\n",
      "\n",
      "\n",
      "plot_misclassifieds(features_new_val[:,:15], labels_rfc_red, labels_val, lc_val, hr_val, [[hr1_min, hr1_max],[hr2_min, hr2_max]],\n",
      "                    nexamples=6, namestr=\"misclassified\", datadir=\"./\")"
     ],
     "language": "python",
     "metadata": {},
     "outputs": [
      {
       "output_type": "stream",
       "stream": "stdout",
       "text": [
        "Predicted class is: beta\n",
        "Human classified class is: alpha\n",
        "Predicted class is: beta"
       ]
      },
      {
       "output_type": "stream",
       "stream": "stdout",
       "text": [
        "\n",
        "Human classified class is: alpha\n",
        "Predicted class is: chi2"
       ]
      },
      {
       "output_type": "stream",
       "stream": "stdout",
       "text": [
        "\n",
        "Human classified class is: alpha\n",
        "Predicted class is: chi4"
       ]
      },
      {
       "output_type": "stream",
       "stream": "stdout",
       "text": [
        "\n",
        "Human classified class is: alpha\n",
        "Predicted class is: beta"
       ]
      },
      {
       "output_type": "stream",
       "stream": "stdout",
       "text": [
        "\n",
        "Human classified class is: alpha\n",
        "Predicted class is: beta"
       ]
      },
      {
       "output_type": "stream",
       "stream": "stdout",
       "text": [
        "\n",
        "Human classified class is: alpha\n",
        "Predicted class is: gamma"
       ]
      },
      {
       "output_type": "stream",
       "stream": "stdout",
       "text": [
        "\n",
        "Human classified class is: delta\n",
        "Predicted class is: gamma"
       ]
      },
      {
       "output_type": "stream",
       "stream": "stdout",
       "text": [
        "\n",
        "Human classified class is: delta\n",
        "Predicted class is: gamma"
       ]
      },
      {
       "output_type": "stream",
       "stream": "stdout",
       "text": [
        "\n",
        "Human classified class is: delta\n",
        "Predicted class is: gamma"
       ]
      },
      {
       "output_type": "stream",
       "stream": "stdout",
       "text": [
        "\n",
        "Human classified class is: delta\n",
        "Predicted class is: gamma"
       ]
      },
      {
       "output_type": "stream",
       "stream": "stdout",
       "text": [
        "\n",
        "Human classified class is: delta\n",
        "Predicted class is: gamma"
       ]
      },
      {
       "output_type": "stream",
       "stream": "stdout",
       "text": [
        "\n",
        "Human classified class is: delta\n",
        "Predicted class is: gamma"
       ]
      },
      {
       "output_type": "stream",
       "stream": "stdout",
       "text": [
        "\n",
        "Human classified class is: delta\n",
        "Predicted class is: gamma"
       ]
      },
      {
       "output_type": "stream",
       "stream": "stdout",
       "text": [
        "\n",
        "Human classified class is: delta\n",
        "Predicted class is: beta"
       ]
      },
      {
       "output_type": "stream",
       "stream": "stdout",
       "text": [
        "\n",
        "Human classified class is: delta\n",
        "Predicted class is: gamma"
       ]
      },
      {
       "output_type": "stream",
       "stream": "stdout",
       "text": [
        "\n",
        "Human classified class is: delta\n",
        "Predicted class is: gamma"
       ]
      },
      {
       "output_type": "stream",
       "stream": "stdout",
       "text": [
        "\n",
        "Human classified class is: delta\n",
        "Predicted class is: gamma"
       ]
      },
      {
       "output_type": "stream",
       "stream": "stdout",
       "text": [
        "\n",
        "Human classified class is: delta\n",
        "Predicted class is: gamma"
       ]
      },
      {
       "output_type": "stream",
       "stream": "stdout",
       "text": [
        "\n",
        "Human classified class is: delta\n",
        "Predicted class is: gamma"
       ]
      },
      {
       "output_type": "stream",
       "stream": "stdout",
       "text": [
        "\n",
        "Human classified class is: delta\n",
        "Predicted class is: gamma"
       ]
      },
      {
       "output_type": "stream",
       "stream": "stdout",
       "text": [
        "\n",
        "Human classified class is: delta\n",
        "Predicted class is: beta"
       ]
      },
      {
       "output_type": "stream",
       "stream": "stdout",
       "text": [
        "\n",
        "Human classified class is: alpha\n",
        "Predicted class is: chi2"
       ]
      },
      {
       "output_type": "stream",
       "stream": "stdout",
       "text": [
        "\n",
        "Human classified class is: alpha\n",
        "Predicted class is: beta"
       ]
      },
      {
       "output_type": "stream",
       "stream": "stdout",
       "text": [
        "\n",
        "Human classified class is: chi4\n",
        "Predicted class is: beta"
       ]
      },
      {
       "output_type": "stream",
       "stream": "stdout",
       "text": [
        "\n",
        "Human classified class is: chi4\n",
        "Predicted class is: beta"
       ]
      },
      {
       "output_type": "stream",
       "stream": "stdout",
       "text": [
        "\n",
        "Human classified class is: chi4\n",
        "Predicted class is: beta"
       ]
      },
      {
       "output_type": "stream",
       "stream": "stdout",
       "text": [
        "\n",
        "Human classified class is: chi4\n",
        "Predicted class is: beta"
       ]
      },
      {
       "output_type": "stream",
       "stream": "stdout",
       "text": [
        "\n",
        "Human classified class is: chi4\n",
        "Predicted class is: beta"
       ]
      },
      {
       "output_type": "stream",
       "stream": "stdout",
       "text": [
        "\n",
        "Human classified class is: chi4\n",
        "Predicted class is: beta"
       ]
      },
      {
       "output_type": "stream",
       "stream": "stdout",
       "text": [
        "\n",
        "Human classified class is: chi4\n",
        "Predicted class is: beta"
       ]
      },
      {
       "output_type": "stream",
       "stream": "stdout",
       "text": [
        "\n",
        "Human classified class is: chi4\n",
        "Predicted class is: beta"
       ]
      },
      {
       "output_type": "stream",
       "stream": "stdout",
       "text": [
        "\n",
        "Human classified class is: chi4\n",
        "Predicted class is: beta"
       ]
      },
      {
       "output_type": "stream",
       "stream": "stdout",
       "text": [
        "\n",
        "Human classified class is: chi4\n",
        "Predicted class is: beta"
       ]
      },
      {
       "output_type": "stream",
       "stream": "stdout",
       "text": [
        "\n",
        "Human classified class is: chi4\n"
       ]
      },
      {
       "ename": "KeyboardInterrupt",
       "evalue": "",
       "output_type": "pyerr",
       "traceback": [
        "\u001b[0;31m---------------------------------------------------------------------------\u001b[0m\n\u001b[0;31mKeyboardInterrupt\u001b[0m                         Traceback (most recent call last)",
        "\u001b[0;32m<ipython-input-56-4c04df81cc53>\u001b[0m in \u001b[0;36m<module>\u001b[0;34m()\u001b[0m\n\u001b[1;32m     11\u001b[0m \u001b[0;34m\u001b[0m\u001b[0m\n\u001b[1;32m     12\u001b[0m plot_misclassifieds(features_new_val[:,:15], labels_rfc_red, labels_val, lc_val, hr_val, [[hr1_min, hr1_max],[hr2_min, hr2_max]],\n\u001b[0;32m---> 13\u001b[0;31m                     nexamples=6, namestr=\"misclassified\", datadir=\"./\")\n\u001b[0m",
        "\u001b[0;32m<ipython-input-55-8617005b4311>\u001b[0m in \u001b[0;36mplot_misclassifieds\u001b[0;34m(features, trained_labels, real_labels, lc_all, hr_all, hr_limits, nexamples, namestr, datadir)\u001b[0m\n\u001b[1;32m    109\u001b[0m         \u001b[0max\u001b[0m\u001b[0;34m.\u001b[0m\u001b[0mset_xlabel\u001b[0m\u001b[0;34m(\u001b[0m\u001b[0;34m\"Robot: %s\"\u001b[0m\u001b[0;34m%\u001b[0m\u001b[0mlpredict\u001b[0m\u001b[0;34m,\u001b[0m \u001b[0mfontsize\u001b[0m\u001b[0;34m=\u001b[0m\u001b[0;36m20\u001b[0m\u001b[0;34m)\u001b[0m\u001b[0;34m\u001b[0m\u001b[0m\n\u001b[1;32m    110\u001b[0m         \u001b[0;31m#plt.show()\u001b[0m\u001b[0;34m\u001b[0m\u001b[0;34m\u001b[0m\u001b[0m\n\u001b[0;32m--> 111\u001b[0;31m         \u001b[0mplt\u001b[0m\u001b[0;34m.\u001b[0m\u001b[0msavefig\u001b[0m\u001b[0;34m(\u001b[0m\u001b[0;34m\"misclassified%i.pdf\"\u001b[0m\u001b[0;34m%\u001b[0m\u001b[0mj\u001b[0m\u001b[0;34m,\u001b[0m \u001b[0mformat\u001b[0m\u001b[0;34m=\u001b[0m\u001b[0;34m\"pdf\"\u001b[0m\u001b[0;34m)\u001b[0m\u001b[0;34m\u001b[0m\u001b[0m\n\u001b[0m\u001b[1;32m    112\u001b[0m         \u001b[0mplt\u001b[0m\u001b[0;34m.\u001b[0m\u001b[0mclose\u001b[0m\u001b[0;34m(\u001b[0m\u001b[0;34m)\u001b[0m\u001b[0;34m\u001b[0m\u001b[0m\n",
        "\u001b[0;32m/opt/local/Library/Frameworks/Python.framework/Versions/2.7/lib/python2.7/site-packages/matplotlib/pyplot.pyc\u001b[0m in \u001b[0;36msavefig\u001b[0;34m(*args, **kwargs)\u001b[0m\n\u001b[1;32m    575\u001b[0m \u001b[0;32mdef\u001b[0m \u001b[0msavefig\u001b[0m\u001b[0;34m(\u001b[0m\u001b[0;34m*\u001b[0m\u001b[0margs\u001b[0m\u001b[0;34m,\u001b[0m \u001b[0;34m**\u001b[0m\u001b[0mkwargs\u001b[0m\u001b[0;34m)\u001b[0m\u001b[0;34m:\u001b[0m\u001b[0;34m\u001b[0m\u001b[0m\n\u001b[1;32m    576\u001b[0m     \u001b[0mfig\u001b[0m \u001b[0;34m=\u001b[0m \u001b[0mgcf\u001b[0m\u001b[0;34m(\u001b[0m\u001b[0;34m)\u001b[0m\u001b[0;34m\u001b[0m\u001b[0m\n\u001b[0;32m--> 577\u001b[0;31m     \u001b[0mres\u001b[0m \u001b[0;34m=\u001b[0m \u001b[0mfig\u001b[0m\u001b[0;34m.\u001b[0m\u001b[0msavefig\u001b[0m\u001b[0;34m(\u001b[0m\u001b[0;34m*\u001b[0m\u001b[0margs\u001b[0m\u001b[0;34m,\u001b[0m \u001b[0;34m**\u001b[0m\u001b[0mkwargs\u001b[0m\u001b[0;34m)\u001b[0m\u001b[0;34m\u001b[0m\u001b[0m\n\u001b[0m\u001b[1;32m    578\u001b[0m     \u001b[0mdraw\u001b[0m\u001b[0;34m(\u001b[0m\u001b[0;34m)\u001b[0m   \u001b[0;31m# need this if 'transparent=True' to reset colors\u001b[0m\u001b[0;34m\u001b[0m\u001b[0m\n\u001b[1;32m    579\u001b[0m     \u001b[0;32mreturn\u001b[0m \u001b[0mres\u001b[0m\u001b[0;34m\u001b[0m\u001b[0m\n",
        "\u001b[0;32m/opt/local/Library/Frameworks/Python.framework/Versions/2.7/lib/python2.7/site-packages/matplotlib/figure.pyc\u001b[0m in \u001b[0;36msavefig\u001b[0;34m(self, *args, **kwargs)\u001b[0m\n\u001b[1;32m   1474\u001b[0m             \u001b[0mself\u001b[0m\u001b[0;34m.\u001b[0m\u001b[0mset_frameon\u001b[0m\u001b[0;34m(\u001b[0m\u001b[0mframeon\u001b[0m\u001b[0;34m)\u001b[0m\u001b[0;34m\u001b[0m\u001b[0m\n\u001b[1;32m   1475\u001b[0m \u001b[0;34m\u001b[0m\u001b[0m\n\u001b[0;32m-> 1476\u001b[0;31m         \u001b[0mself\u001b[0m\u001b[0;34m.\u001b[0m\u001b[0mcanvas\u001b[0m\u001b[0;34m.\u001b[0m\u001b[0mprint_figure\u001b[0m\u001b[0;34m(\u001b[0m\u001b[0;34m*\u001b[0m\u001b[0margs\u001b[0m\u001b[0;34m,\u001b[0m \u001b[0;34m**\u001b[0m\u001b[0mkwargs\u001b[0m\u001b[0;34m)\u001b[0m\u001b[0;34m\u001b[0m\u001b[0m\n\u001b[0m\u001b[1;32m   1477\u001b[0m \u001b[0;34m\u001b[0m\u001b[0m\n\u001b[1;32m   1478\u001b[0m         \u001b[0;32mif\u001b[0m \u001b[0mframeon\u001b[0m\u001b[0;34m:\u001b[0m\u001b[0;34m\u001b[0m\u001b[0m\n",
        "\u001b[0;32m/opt/local/Library/Frameworks/Python.framework/Versions/2.7/lib/python2.7/site-packages/matplotlib/backend_bases.pyc\u001b[0m in \u001b[0;36mprint_figure\u001b[0;34m(self, filename, dpi, facecolor, edgecolor, orientation, format, **kwargs)\u001b[0m\n\u001b[1;32m   2209\u001b[0m                 \u001b[0morientation\u001b[0m\u001b[0;34m=\u001b[0m\u001b[0morientation\u001b[0m\u001b[0;34m,\u001b[0m\u001b[0;34m\u001b[0m\u001b[0m\n\u001b[1;32m   2210\u001b[0m                 \u001b[0mbbox_inches_restore\u001b[0m\u001b[0;34m=\u001b[0m\u001b[0m_bbox_inches_restore\u001b[0m\u001b[0;34m,\u001b[0m\u001b[0;34m\u001b[0m\u001b[0m\n\u001b[0;32m-> 2211\u001b[0;31m                 **kwargs)\n\u001b[0m\u001b[1;32m   2212\u001b[0m         \u001b[0;32mfinally\u001b[0m\u001b[0;34m:\u001b[0m\u001b[0;34m\u001b[0m\u001b[0m\n\u001b[1;32m   2213\u001b[0m             \u001b[0;32mif\u001b[0m \u001b[0mbbox_inches\u001b[0m \u001b[0;32mand\u001b[0m \u001b[0mrestore_bbox\u001b[0m\u001b[0;34m:\u001b[0m\u001b[0;34m\u001b[0m\u001b[0m\n",
        "\u001b[0;32m/opt/local/Library/Frameworks/Python.framework/Versions/2.7/lib/python2.7/site-packages/matplotlib/backends/backend_pdf.pyc\u001b[0m in \u001b[0;36mprint_pdf\u001b[0;34m(self, filename, **kwargs)\u001b[0m\n\u001b[1;32m   2483\u001b[0m                 \u001b[0mRendererPdf\u001b[0m\u001b[0;34m(\u001b[0m\u001b[0mfile\u001b[0m\u001b[0;34m,\u001b[0m \u001b[0mimage_dpi\u001b[0m\u001b[0;34m)\u001b[0m\u001b[0;34m,\u001b[0m\u001b[0;34m\u001b[0m\u001b[0m\n\u001b[1;32m   2484\u001b[0m                 bbox_inches_restore=_bbox_inches_restore)\n\u001b[0;32m-> 2485\u001b[0;31m             \u001b[0mself\u001b[0m\u001b[0;34m.\u001b[0m\u001b[0mfigure\u001b[0m\u001b[0;34m.\u001b[0m\u001b[0mdraw\u001b[0m\u001b[0;34m(\u001b[0m\u001b[0mrenderer\u001b[0m\u001b[0;34m)\u001b[0m\u001b[0;34m\u001b[0m\u001b[0m\n\u001b[0m\u001b[1;32m   2486\u001b[0m             \u001b[0mrenderer\u001b[0m\u001b[0;34m.\u001b[0m\u001b[0mfinalize\u001b[0m\u001b[0;34m(\u001b[0m\u001b[0;34m)\u001b[0m\u001b[0;34m\u001b[0m\u001b[0m\n\u001b[1;32m   2487\u001b[0m         \u001b[0;32mfinally\u001b[0m\u001b[0;34m:\u001b[0m\u001b[0;34m\u001b[0m\u001b[0m\n",
        "\u001b[0;32m/opt/local/Library/Frameworks/Python.framework/Versions/2.7/lib/python2.7/site-packages/matplotlib/artist.pyc\u001b[0m in \u001b[0;36mdraw_wrapper\u001b[0;34m(artist, renderer, *args, **kwargs)\u001b[0m\n\u001b[1;32m     57\u001b[0m     \u001b[0;32mdef\u001b[0m \u001b[0mdraw_wrapper\u001b[0m\u001b[0;34m(\u001b[0m\u001b[0martist\u001b[0m\u001b[0;34m,\u001b[0m \u001b[0mrenderer\u001b[0m\u001b[0;34m,\u001b[0m \u001b[0;34m*\u001b[0m\u001b[0margs\u001b[0m\u001b[0;34m,\u001b[0m \u001b[0;34m**\u001b[0m\u001b[0mkwargs\u001b[0m\u001b[0;34m)\u001b[0m\u001b[0;34m:\u001b[0m\u001b[0;34m\u001b[0m\u001b[0m\n\u001b[1;32m     58\u001b[0m         \u001b[0mbefore\u001b[0m\u001b[0;34m(\u001b[0m\u001b[0martist\u001b[0m\u001b[0;34m,\u001b[0m \u001b[0mrenderer\u001b[0m\u001b[0;34m)\u001b[0m\u001b[0;34m\u001b[0m\u001b[0m\n\u001b[0;32m---> 59\u001b[0;31m         \u001b[0mdraw\u001b[0m\u001b[0;34m(\u001b[0m\u001b[0martist\u001b[0m\u001b[0;34m,\u001b[0m \u001b[0mrenderer\u001b[0m\u001b[0;34m,\u001b[0m \u001b[0;34m*\u001b[0m\u001b[0margs\u001b[0m\u001b[0;34m,\u001b[0m \u001b[0;34m**\u001b[0m\u001b[0mkwargs\u001b[0m\u001b[0;34m)\u001b[0m\u001b[0;34m\u001b[0m\u001b[0m\n\u001b[0m\u001b[1;32m     60\u001b[0m         \u001b[0mafter\u001b[0m\u001b[0;34m(\u001b[0m\u001b[0martist\u001b[0m\u001b[0;34m,\u001b[0m \u001b[0mrenderer\u001b[0m\u001b[0;34m)\u001b[0m\u001b[0;34m\u001b[0m\u001b[0m\n\u001b[1;32m     61\u001b[0m \u001b[0;34m\u001b[0m\u001b[0m\n",
        "\u001b[0;32m/opt/local/Library/Frameworks/Python.framework/Versions/2.7/lib/python2.7/site-packages/matplotlib/figure.pyc\u001b[0m in \u001b[0;36mdraw\u001b[0;34m(self, renderer)\u001b[0m\n\u001b[1;32m   1083\u001b[0m         \u001b[0mdsu\u001b[0m\u001b[0;34m.\u001b[0m\u001b[0msort\u001b[0m\u001b[0;34m(\u001b[0m\u001b[0mkey\u001b[0m\u001b[0;34m=\u001b[0m\u001b[0mitemgetter\u001b[0m\u001b[0;34m(\u001b[0m\u001b[0;36m0\u001b[0m\u001b[0;34m)\u001b[0m\u001b[0;34m)\u001b[0m\u001b[0;34m\u001b[0m\u001b[0m\n\u001b[1;32m   1084\u001b[0m         \u001b[0;32mfor\u001b[0m \u001b[0mzorder\u001b[0m\u001b[0;34m,\u001b[0m \u001b[0ma\u001b[0m\u001b[0;34m,\u001b[0m \u001b[0mfunc\u001b[0m\u001b[0;34m,\u001b[0m \u001b[0margs\u001b[0m \u001b[0;32min\u001b[0m \u001b[0mdsu\u001b[0m\u001b[0;34m:\u001b[0m\u001b[0;34m\u001b[0m\u001b[0m\n\u001b[0;32m-> 1085\u001b[0;31m             \u001b[0mfunc\u001b[0m\u001b[0;34m(\u001b[0m\u001b[0;34m*\u001b[0m\u001b[0margs\u001b[0m\u001b[0;34m)\u001b[0m\u001b[0;34m\u001b[0m\u001b[0m\n\u001b[0m\u001b[1;32m   1086\u001b[0m \u001b[0;34m\u001b[0m\u001b[0m\n\u001b[1;32m   1087\u001b[0m         \u001b[0mrenderer\u001b[0m\u001b[0;34m.\u001b[0m\u001b[0mclose_group\u001b[0m\u001b[0;34m(\u001b[0m\u001b[0;34m'figure'\u001b[0m\u001b[0;34m)\u001b[0m\u001b[0;34m\u001b[0m\u001b[0m\n",
        "\u001b[0;32m/opt/local/Library/Frameworks/Python.framework/Versions/2.7/lib/python2.7/site-packages/matplotlib/artist.pyc\u001b[0m in \u001b[0;36mdraw_wrapper\u001b[0;34m(artist, renderer, *args, **kwargs)\u001b[0m\n\u001b[1;32m     57\u001b[0m     \u001b[0;32mdef\u001b[0m \u001b[0mdraw_wrapper\u001b[0m\u001b[0;34m(\u001b[0m\u001b[0martist\u001b[0m\u001b[0;34m,\u001b[0m \u001b[0mrenderer\u001b[0m\u001b[0;34m,\u001b[0m \u001b[0;34m*\u001b[0m\u001b[0margs\u001b[0m\u001b[0;34m,\u001b[0m \u001b[0;34m**\u001b[0m\u001b[0mkwargs\u001b[0m\u001b[0;34m)\u001b[0m\u001b[0;34m:\u001b[0m\u001b[0;34m\u001b[0m\u001b[0m\n\u001b[1;32m     58\u001b[0m         \u001b[0mbefore\u001b[0m\u001b[0;34m(\u001b[0m\u001b[0martist\u001b[0m\u001b[0;34m,\u001b[0m \u001b[0mrenderer\u001b[0m\u001b[0;34m)\u001b[0m\u001b[0;34m\u001b[0m\u001b[0m\n\u001b[0;32m---> 59\u001b[0;31m         \u001b[0mdraw\u001b[0m\u001b[0;34m(\u001b[0m\u001b[0martist\u001b[0m\u001b[0;34m,\u001b[0m \u001b[0mrenderer\u001b[0m\u001b[0;34m,\u001b[0m \u001b[0;34m*\u001b[0m\u001b[0margs\u001b[0m\u001b[0;34m,\u001b[0m \u001b[0;34m**\u001b[0m\u001b[0mkwargs\u001b[0m\u001b[0;34m)\u001b[0m\u001b[0;34m\u001b[0m\u001b[0m\n\u001b[0m\u001b[1;32m     60\u001b[0m         \u001b[0mafter\u001b[0m\u001b[0;34m(\u001b[0m\u001b[0martist\u001b[0m\u001b[0;34m,\u001b[0m \u001b[0mrenderer\u001b[0m\u001b[0;34m)\u001b[0m\u001b[0;34m\u001b[0m\u001b[0m\n\u001b[1;32m     61\u001b[0m \u001b[0;34m\u001b[0m\u001b[0m\n",
        "\u001b[0;32m/opt/local/Library/Frameworks/Python.framework/Versions/2.7/lib/python2.7/site-packages/matplotlib/axes/_base.pyc\u001b[0m in \u001b[0;36mdraw\u001b[0;34m(self, renderer, inframe)\u001b[0m\n\u001b[1;32m   2108\u001b[0m \u001b[0;34m\u001b[0m\u001b[0m\n\u001b[1;32m   2109\u001b[0m         \u001b[0;32mfor\u001b[0m \u001b[0mzorder\u001b[0m\u001b[0;34m,\u001b[0m \u001b[0ma\u001b[0m \u001b[0;32min\u001b[0m \u001b[0mdsu\u001b[0m\u001b[0;34m:\u001b[0m\u001b[0;34m\u001b[0m\u001b[0m\n\u001b[0;32m-> 2110\u001b[0;31m             \u001b[0ma\u001b[0m\u001b[0;34m.\u001b[0m\u001b[0mdraw\u001b[0m\u001b[0;34m(\u001b[0m\u001b[0mrenderer\u001b[0m\u001b[0;34m)\u001b[0m\u001b[0;34m\u001b[0m\u001b[0m\n\u001b[0m\u001b[1;32m   2111\u001b[0m \u001b[0;34m\u001b[0m\u001b[0m\n\u001b[1;32m   2112\u001b[0m         \u001b[0mrenderer\u001b[0m\u001b[0;34m.\u001b[0m\u001b[0mclose_group\u001b[0m\u001b[0;34m(\u001b[0m\u001b[0;34m'axes'\u001b[0m\u001b[0;34m)\u001b[0m\u001b[0;34m\u001b[0m\u001b[0m\n",
        "\u001b[0;32m/opt/local/Library/Frameworks/Python.framework/Versions/2.7/lib/python2.7/site-packages/matplotlib/artist.pyc\u001b[0m in \u001b[0;36mdraw_wrapper\u001b[0;34m(artist, renderer, *args, **kwargs)\u001b[0m\n\u001b[1;32m     57\u001b[0m     \u001b[0;32mdef\u001b[0m \u001b[0mdraw_wrapper\u001b[0m\u001b[0;34m(\u001b[0m\u001b[0martist\u001b[0m\u001b[0;34m,\u001b[0m \u001b[0mrenderer\u001b[0m\u001b[0;34m,\u001b[0m \u001b[0;34m*\u001b[0m\u001b[0margs\u001b[0m\u001b[0;34m,\u001b[0m \u001b[0;34m**\u001b[0m\u001b[0mkwargs\u001b[0m\u001b[0;34m)\u001b[0m\u001b[0;34m:\u001b[0m\u001b[0;34m\u001b[0m\u001b[0m\n\u001b[1;32m     58\u001b[0m         \u001b[0mbefore\u001b[0m\u001b[0;34m(\u001b[0m\u001b[0martist\u001b[0m\u001b[0;34m,\u001b[0m \u001b[0mrenderer\u001b[0m\u001b[0;34m)\u001b[0m\u001b[0;34m\u001b[0m\u001b[0m\n\u001b[0;32m---> 59\u001b[0;31m         \u001b[0mdraw\u001b[0m\u001b[0;34m(\u001b[0m\u001b[0martist\u001b[0m\u001b[0;34m,\u001b[0m \u001b[0mrenderer\u001b[0m\u001b[0;34m,\u001b[0m \u001b[0;34m*\u001b[0m\u001b[0margs\u001b[0m\u001b[0;34m,\u001b[0m \u001b[0;34m**\u001b[0m\u001b[0mkwargs\u001b[0m\u001b[0;34m)\u001b[0m\u001b[0;34m\u001b[0m\u001b[0m\n\u001b[0m\u001b[1;32m     60\u001b[0m         \u001b[0mafter\u001b[0m\u001b[0;34m(\u001b[0m\u001b[0martist\u001b[0m\u001b[0;34m,\u001b[0m \u001b[0mrenderer\u001b[0m\u001b[0;34m)\u001b[0m\u001b[0;34m\u001b[0m\u001b[0m\n\u001b[1;32m     61\u001b[0m \u001b[0;34m\u001b[0m\u001b[0m\n",
        "\u001b[0;32m/opt/local/Library/Frameworks/Python.framework/Versions/2.7/lib/python2.7/site-packages/matplotlib/axis.pyc\u001b[0m in \u001b[0;36mdraw\u001b[0;34m(self, renderer, *args, **kwargs)\u001b[0m\n\u001b[1;32m   1117\u001b[0m \u001b[0;34m\u001b[0m\u001b[0m\n\u001b[1;32m   1118\u001b[0m         \u001b[0;32mfor\u001b[0m \u001b[0mtick\u001b[0m \u001b[0;32min\u001b[0m \u001b[0mticks_to_draw\u001b[0m\u001b[0;34m:\u001b[0m\u001b[0;34m\u001b[0m\u001b[0m\n\u001b[0;32m-> 1119\u001b[0;31m             \u001b[0mtick\u001b[0m\u001b[0;34m.\u001b[0m\u001b[0mdraw\u001b[0m\u001b[0;34m(\u001b[0m\u001b[0mrenderer\u001b[0m\u001b[0;34m)\u001b[0m\u001b[0;34m\u001b[0m\u001b[0m\n\u001b[0m\u001b[1;32m   1120\u001b[0m \u001b[0;34m\u001b[0m\u001b[0m\n\u001b[1;32m   1121\u001b[0m         \u001b[0;31m# scale up the axis label box to also find the neighbors, not\u001b[0m\u001b[0;34m\u001b[0m\u001b[0;34m\u001b[0m\u001b[0m\n",
        "\u001b[0;32m/opt/local/Library/Frameworks/Python.framework/Versions/2.7/lib/python2.7/site-packages/matplotlib/artist.pyc\u001b[0m in \u001b[0;36mdraw_wrapper\u001b[0;34m(artist, renderer, *args, **kwargs)\u001b[0m\n\u001b[1;32m     57\u001b[0m     \u001b[0;32mdef\u001b[0m \u001b[0mdraw_wrapper\u001b[0m\u001b[0;34m(\u001b[0m\u001b[0martist\u001b[0m\u001b[0;34m,\u001b[0m \u001b[0mrenderer\u001b[0m\u001b[0;34m,\u001b[0m \u001b[0;34m*\u001b[0m\u001b[0margs\u001b[0m\u001b[0;34m,\u001b[0m \u001b[0;34m**\u001b[0m\u001b[0mkwargs\u001b[0m\u001b[0;34m)\u001b[0m\u001b[0;34m:\u001b[0m\u001b[0;34m\u001b[0m\u001b[0m\n\u001b[1;32m     58\u001b[0m         \u001b[0mbefore\u001b[0m\u001b[0;34m(\u001b[0m\u001b[0martist\u001b[0m\u001b[0;34m,\u001b[0m \u001b[0mrenderer\u001b[0m\u001b[0;34m)\u001b[0m\u001b[0;34m\u001b[0m\u001b[0m\n\u001b[0;32m---> 59\u001b[0;31m         \u001b[0mdraw\u001b[0m\u001b[0;34m(\u001b[0m\u001b[0martist\u001b[0m\u001b[0;34m,\u001b[0m \u001b[0mrenderer\u001b[0m\u001b[0;34m,\u001b[0m \u001b[0;34m*\u001b[0m\u001b[0margs\u001b[0m\u001b[0;34m,\u001b[0m \u001b[0;34m**\u001b[0m\u001b[0mkwargs\u001b[0m\u001b[0;34m)\u001b[0m\u001b[0;34m\u001b[0m\u001b[0m\n\u001b[0m\u001b[1;32m     60\u001b[0m         \u001b[0mafter\u001b[0m\u001b[0;34m(\u001b[0m\u001b[0martist\u001b[0m\u001b[0;34m,\u001b[0m \u001b[0mrenderer\u001b[0m\u001b[0;34m)\u001b[0m\u001b[0;34m\u001b[0m\u001b[0m\n\u001b[1;32m     61\u001b[0m \u001b[0;34m\u001b[0m\u001b[0m\n",
        "\u001b[0;32m/opt/local/Library/Frameworks/Python.framework/Versions/2.7/lib/python2.7/site-packages/matplotlib/axis.pyc\u001b[0m in \u001b[0;36mdraw\u001b[0;34m(self, renderer)\u001b[0m\n\u001b[1;32m    244\u001b[0m                 \u001b[0mself\u001b[0m\u001b[0;34m.\u001b[0m\u001b[0mtick1line\u001b[0m\u001b[0;34m.\u001b[0m\u001b[0mdraw\u001b[0m\u001b[0;34m(\u001b[0m\u001b[0mrenderer\u001b[0m\u001b[0;34m)\u001b[0m\u001b[0;34m\u001b[0m\u001b[0m\n\u001b[1;32m    245\u001b[0m             \u001b[0;32mif\u001b[0m \u001b[0mself\u001b[0m\u001b[0;34m.\u001b[0m\u001b[0mtick2On\u001b[0m\u001b[0;34m:\u001b[0m\u001b[0;34m\u001b[0m\u001b[0m\n\u001b[0;32m--> 246\u001b[0;31m                 \u001b[0mself\u001b[0m\u001b[0;34m.\u001b[0m\u001b[0mtick2line\u001b[0m\u001b[0;34m.\u001b[0m\u001b[0mdraw\u001b[0m\u001b[0;34m(\u001b[0m\u001b[0mrenderer\u001b[0m\u001b[0;34m)\u001b[0m\u001b[0;34m\u001b[0m\u001b[0m\n\u001b[0m\u001b[1;32m    247\u001b[0m \u001b[0;34m\u001b[0m\u001b[0m\n\u001b[1;32m    248\u001b[0m         \u001b[0;32mif\u001b[0m \u001b[0mself\u001b[0m\u001b[0;34m.\u001b[0m\u001b[0mlabel1On\u001b[0m\u001b[0;34m:\u001b[0m\u001b[0;34m\u001b[0m\u001b[0m\n",
        "\u001b[0;32m/opt/local/Library/Frameworks/Python.framework/Versions/2.7/lib/python2.7/site-packages/matplotlib/artist.pyc\u001b[0m in \u001b[0;36mdraw_wrapper\u001b[0;34m(artist, renderer, *args, **kwargs)\u001b[0m\n\u001b[1;32m     57\u001b[0m     \u001b[0;32mdef\u001b[0m \u001b[0mdraw_wrapper\u001b[0m\u001b[0;34m(\u001b[0m\u001b[0martist\u001b[0m\u001b[0;34m,\u001b[0m \u001b[0mrenderer\u001b[0m\u001b[0;34m,\u001b[0m \u001b[0;34m*\u001b[0m\u001b[0margs\u001b[0m\u001b[0;34m,\u001b[0m \u001b[0;34m**\u001b[0m\u001b[0mkwargs\u001b[0m\u001b[0;34m)\u001b[0m\u001b[0;34m:\u001b[0m\u001b[0;34m\u001b[0m\u001b[0m\n\u001b[1;32m     58\u001b[0m         \u001b[0mbefore\u001b[0m\u001b[0;34m(\u001b[0m\u001b[0martist\u001b[0m\u001b[0;34m,\u001b[0m \u001b[0mrenderer\u001b[0m\u001b[0;34m)\u001b[0m\u001b[0;34m\u001b[0m\u001b[0m\n\u001b[0;32m---> 59\u001b[0;31m         \u001b[0mdraw\u001b[0m\u001b[0;34m(\u001b[0m\u001b[0martist\u001b[0m\u001b[0;34m,\u001b[0m \u001b[0mrenderer\u001b[0m\u001b[0;34m,\u001b[0m \u001b[0;34m*\u001b[0m\u001b[0margs\u001b[0m\u001b[0;34m,\u001b[0m \u001b[0;34m**\u001b[0m\u001b[0mkwargs\u001b[0m\u001b[0;34m)\u001b[0m\u001b[0;34m\u001b[0m\u001b[0m\n\u001b[0m\u001b[1;32m     60\u001b[0m         \u001b[0mafter\u001b[0m\u001b[0;34m(\u001b[0m\u001b[0martist\u001b[0m\u001b[0;34m,\u001b[0m \u001b[0mrenderer\u001b[0m\u001b[0;34m)\u001b[0m\u001b[0;34m\u001b[0m\u001b[0m\n\u001b[1;32m     61\u001b[0m \u001b[0;34m\u001b[0m\u001b[0m\n",
        "\u001b[0;32m/opt/local/Library/Frameworks/Python.framework/Versions/2.7/lib/python2.7/site-packages/matplotlib/lines.pyc\u001b[0m in \u001b[0;36mdraw\u001b[0;34m(self, renderer)\u001b[0m\n\u001b[1;32m    758\u001b[0m                 renderer.draw_markers(gc, marker_path, marker_trans,\n\u001b[1;32m    759\u001b[0m                                       \u001b[0msubsampled\u001b[0m\u001b[0;34m,\u001b[0m \u001b[0maffine\u001b[0m\u001b[0;34m.\u001b[0m\u001b[0mfrozen\u001b[0m\u001b[0;34m(\u001b[0m\u001b[0;34m)\u001b[0m\u001b[0;34m,\u001b[0m\u001b[0;34m\u001b[0m\u001b[0m\n\u001b[0;32m--> 760\u001b[0;31m                                       rgbaFace)\n\u001b[0m\u001b[1;32m    761\u001b[0m \u001b[0;34m\u001b[0m\u001b[0m\n\u001b[1;32m    762\u001b[0m                 \u001b[0malt_marker_path\u001b[0m \u001b[0;34m=\u001b[0m \u001b[0mmarker\u001b[0m\u001b[0;34m.\u001b[0m\u001b[0mget_alt_path\u001b[0m\u001b[0;34m(\u001b[0m\u001b[0;34m)\u001b[0m\u001b[0;34m\u001b[0m\u001b[0m\n",
        "\u001b[0;32m/opt/local/Library/Frameworks/Python.framework/Versions/2.7/lib/python2.7/site-packages/matplotlib/backends/backend_pdf.pyc\u001b[0m in \u001b[0;36mdraw_markers\u001b[0;34m(self, gc, marker_path, marker_trans, path, trans, rgbFace)\u001b[0m\n\u001b[1;32m   1672\u001b[0m         \u001b[0;32mif\u001b[0m \u001b[0mlen_marker_path\u001b[0m \u001b[0;34m*\u001b[0m \u001b[0muses\u001b[0m \u001b[0;34m<\u001b[0m \u001b[0mlen_marker_path\u001b[0m \u001b[0;34m+\u001b[0m \u001b[0muses\u001b[0m \u001b[0;34m+\u001b[0m \u001b[0;36m5\u001b[0m\u001b[0;34m:\u001b[0m\u001b[0;34m\u001b[0m\u001b[0m\n\u001b[1;32m   1673\u001b[0m             RendererBase.draw_markers(self, gc, marker_path, marker_trans,\n\u001b[0;32m-> 1674\u001b[0;31m                                       path, trans, rgbFace)\n\u001b[0m\u001b[1;32m   1675\u001b[0m             \u001b[0;32mreturn\u001b[0m\u001b[0;34m\u001b[0m\u001b[0m\n\u001b[1;32m   1676\u001b[0m \u001b[0;34m\u001b[0m\u001b[0m\n",
        "\u001b[0;32m/opt/local/Library/Frameworks/Python.framework/Versions/2.7/lib/python2.7/site-packages/matplotlib/backend_bases.pyc\u001b[0m in \u001b[0;36mdraw_markers\u001b[0;34m(self, gc, marker_path, marker_trans, path, trans, rgbFace)\u001b[0m\n\u001b[1;32m    262\u001b[0m                 self.draw_path(gc, marker_path,\n\u001b[1;32m    263\u001b[0m                                \u001b[0mmarker_trans\u001b[0m \u001b[0;34m+\u001b[0m\u001b[0;34m\u001b[0m\u001b[0m\n\u001b[0;32m--> 264\u001b[0;31m                                \u001b[0mtransforms\u001b[0m\u001b[0;34m.\u001b[0m\u001b[0mAffine2D\u001b[0m\u001b[0;34m(\u001b[0m\u001b[0;34m)\u001b[0m\u001b[0;34m.\u001b[0m\u001b[0mtranslate\u001b[0m\u001b[0;34m(\u001b[0m\u001b[0mx\u001b[0m\u001b[0;34m,\u001b[0m \u001b[0my\u001b[0m\u001b[0;34m)\u001b[0m\u001b[0;34m,\u001b[0m\u001b[0;34m\u001b[0m\u001b[0m\n\u001b[0m\u001b[1;32m    265\u001b[0m                                rgbFace)\n\u001b[1;32m    266\u001b[0m \u001b[0;34m\u001b[0m\u001b[0m\n",
        "\u001b[0;32m/opt/local/Library/Frameworks/Python.framework/Versions/2.7/lib/python2.7/site-packages/matplotlib/transforms.pyc\u001b[0m in \u001b[0;36mtranslate\u001b[0;34m(self, tx, ty)\u001b[0m\n\u001b[1;32m   1895\u001b[0m             np.float_)\n\u001b[1;32m   1896\u001b[0m         \u001b[0mself\u001b[0m\u001b[0;34m.\u001b[0m\u001b[0m_mtx\u001b[0m \u001b[0;34m=\u001b[0m \u001b[0mnp\u001b[0m\u001b[0;34m.\u001b[0m\u001b[0mdot\u001b[0m\u001b[0;34m(\u001b[0m\u001b[0mtranslate_mtx\u001b[0m\u001b[0;34m,\u001b[0m \u001b[0mself\u001b[0m\u001b[0;34m.\u001b[0m\u001b[0m_mtx\u001b[0m\u001b[0;34m)\u001b[0m\u001b[0;34m\u001b[0m\u001b[0m\n\u001b[0;32m-> 1897\u001b[0;31m         \u001b[0mself\u001b[0m\u001b[0;34m.\u001b[0m\u001b[0minvalidate\u001b[0m\u001b[0;34m(\u001b[0m\u001b[0;34m)\u001b[0m\u001b[0;34m\u001b[0m\u001b[0m\n\u001b[0m\u001b[1;32m   1898\u001b[0m         \u001b[0;32mreturn\u001b[0m \u001b[0mself\u001b[0m\u001b[0;34m\u001b[0m\u001b[0m\n\u001b[1;32m   1899\u001b[0m \u001b[0;34m\u001b[0m\u001b[0m\n",
        "\u001b[0;32m/opt/local/Library/Frameworks/Python.framework/Versions/2.7/lib/python2.7/site-packages/matplotlib/transforms.pyc\u001b[0m in \u001b[0;36minvalidate\u001b[0;34m(self)\u001b[0m\n\u001b[1;32m    133\u001b[0m         \u001b[0;32mif\u001b[0m \u001b[0mself\u001b[0m\u001b[0;34m.\u001b[0m\u001b[0mis_affine\u001b[0m\u001b[0;34m:\u001b[0m\u001b[0;34m\u001b[0m\u001b[0m\n\u001b[1;32m    134\u001b[0m             \u001b[0mvalue\u001b[0m \u001b[0;34m=\u001b[0m \u001b[0mself\u001b[0m\u001b[0;34m.\u001b[0m\u001b[0mINVALID_AFFINE\u001b[0m\u001b[0;34m\u001b[0m\u001b[0m\n\u001b[0;32m--> 135\u001b[0;31m         \u001b[0;32mreturn\u001b[0m \u001b[0mself\u001b[0m\u001b[0;34m.\u001b[0m\u001b[0m_invalidate_internal\u001b[0m\u001b[0;34m(\u001b[0m\u001b[0mvalue\u001b[0m\u001b[0;34m,\u001b[0m \u001b[0minvalidating_node\u001b[0m\u001b[0;34m=\u001b[0m\u001b[0mself\u001b[0m\u001b[0;34m)\u001b[0m\u001b[0;34m\u001b[0m\u001b[0m\n\u001b[0m\u001b[1;32m    136\u001b[0m \u001b[0;34m\u001b[0m\u001b[0m\n\u001b[1;32m    137\u001b[0m     \u001b[0;32mdef\u001b[0m \u001b[0m_invalidate_internal\u001b[0m\u001b[0;34m(\u001b[0m\u001b[0mself\u001b[0m\u001b[0;34m,\u001b[0m \u001b[0mvalue\u001b[0m\u001b[0;34m,\u001b[0m \u001b[0minvalidating_node\u001b[0m\u001b[0;34m)\u001b[0m\u001b[0;34m:\u001b[0m\u001b[0;34m\u001b[0m\u001b[0m\n",
        "\u001b[0;32m/opt/local/Library/Frameworks/Python.framework/Versions/2.7/lib/python2.7/site-packages/matplotlib/transforms.pyc\u001b[0m in \u001b[0;36m_invalidate_internal\u001b[0;34m(self, value, invalidating_node)\u001b[0m\n\u001b[1;32m    135\u001b[0m         \u001b[0;32mreturn\u001b[0m \u001b[0mself\u001b[0m\u001b[0;34m.\u001b[0m\u001b[0m_invalidate_internal\u001b[0m\u001b[0;34m(\u001b[0m\u001b[0mvalue\u001b[0m\u001b[0;34m,\u001b[0m \u001b[0minvalidating_node\u001b[0m\u001b[0;34m=\u001b[0m\u001b[0mself\u001b[0m\u001b[0;34m)\u001b[0m\u001b[0;34m\u001b[0m\u001b[0m\n\u001b[1;32m    136\u001b[0m \u001b[0;34m\u001b[0m\u001b[0m\n\u001b[0;32m--> 137\u001b[0;31m     \u001b[0;32mdef\u001b[0m \u001b[0m_invalidate_internal\u001b[0m\u001b[0;34m(\u001b[0m\u001b[0mself\u001b[0m\u001b[0;34m,\u001b[0m \u001b[0mvalue\u001b[0m\u001b[0;34m,\u001b[0m \u001b[0minvalidating_node\u001b[0m\u001b[0;34m)\u001b[0m\u001b[0;34m:\u001b[0m\u001b[0;34m\u001b[0m\u001b[0m\n\u001b[0m\u001b[1;32m    138\u001b[0m         \"\"\"\n\u001b[1;32m    139\u001b[0m         \u001b[0mCalled\u001b[0m \u001b[0mby\u001b[0m \u001b[0;34m:\u001b[0m\u001b[0mmeth\u001b[0m\u001b[0;34m:\u001b[0m\u001b[0;34m`\u001b[0m\u001b[0minvalidate\u001b[0m\u001b[0;34m`\u001b[0m \u001b[0;32mand\u001b[0m \u001b[0msubsequently\u001b[0m \u001b[0mascends\u001b[0m \u001b[0mthe\u001b[0m \u001b[0mtransform\u001b[0m\u001b[0;34m\u001b[0m\u001b[0m\n",
        "\u001b[0;31mKeyboardInterrupt\u001b[0m: "
       ]
      },
      {
       "metadata": {},
       "output_type": "display_data",
       "png": "[encoded data removed]",
       "text": [
        "<matplotlib.figure.Figure at 0x163683050>"
       ]
      }
     ],
     "prompt_number": 56
    },
    {
     "cell_type": "code",
     "collapsed": false,
     "input": [
      "for i,(l,lc) in enumerate(zip(labels_val, lc_val)):\n",
      "    if \"chi\" in l:\n",
      "        print(l)\n",
      "        plt.figure()\n",
      "        plt.plot(lc_val[:,0], lc_val[:,1])\n",
      "        plt.savefig(\"chi%i.pdf\"%i, format=\"pdf\")\n",
      "        plt.close()\n",
      "        \n",
      "    else:\n",
      "        continue"
     ],
     "language": "python",
     "metadata": {},
     "outputs": []
    },
    {
     "cell_type": "code",
     "collapsed": false,
     "input": [
      "misclassifieds = []\n",
      "for i,(f, lpredict, ltrue, lc, hr) in enumerate(zip(features_new_val, labels_rfc, labels_val, lc_val, hr_val)):\n",
      "    if lpredict == ltrue:\n",
      "        continue\n",
      "    else:\n",
      "        misclassifieds.append([f, lpredict, ltrue, lc, hr])\n"
     ],
     "language": "python",
     "metadata": {},
     "outputs": [],
     "prompt_number": 31
    },
    {
     "cell_type": "code",
     "collapsed": false,
     "input": [
      "m = misclassifieds[0]\n",
      "f = m[0]\n",
      "lpredict = m[1]\n",
      "ltrue = m[2]\n",
      "times = m[3][0]\n",
      "counts = m[3][1]\n",
      "hr1 = m[4][0]\n",
      "hr2 = m[4][1]\n",
      "dt = np.min(np.diff(times))\n",
      "\n",
      "ps = powerspectrum.PowerSpectrum(times, counts=counts/dt, norm=\"rms\")\n",
      "ps.freq = np.array(ps.freq)\n",
      "ps.ps = np.array(ps.ps)*ps.freq\n",
      "\n",
      "binfreq = np.logspace(np.log10(ps.freq[1]), np.log10(ps.freq[-1]), 24)\n",
      "binps, bin_edges, binno = scipy.stats.binned_statistic(ps.freq[1:], ps.ps[1:], statistic=\"mean\", bins=binfreq)\n",
      "\n"
     ],
     "language": "python",
     "metadata": {},
     "outputs": [],
     "prompt_number": 55
    },
    {
     "cell_type": "markdown",
     "metadata": {},
     "source": [
      "## How Gaussian are my features?\n",
      "\n",
      "For a given class, I want to know how Gaussian my features are, because in the unsupervised part of the project, we're going to use a Gaussian Mixture Model (GMM) to specify the distribution of features into states. We're going to do that for the feature set that we have labels for only.\n",
      "\n",
      "So, for each state, we're now going to make histograms for each feature in order to gauge its Gaussianity. Double-peaked distributions are okay (these might separate out into separate states, or can be modeled by mixtures), but long-tailed distributions would be bad. "
     ]
    },
    {
     "cell_type": "code",
     "collapsed": false,
     "input": [
      "## combine feature set\n",
      "features_new_all = np.concatenate((features_new_train[:,:12], features_new_val[:,:12], features_new_test[:,:12]))\n",
      "labels_all = np.concatenate((labels_train, labels_val, labels_test))\n",
      "print(features_new_all.shape)"
     ],
     "language": "python",
     "metadata": {},
     "outputs": [
      {
       "output_type": "stream",
       "stream": "stdout",
       "text": [
        "(3024, 12)\n"
       ]
      }
     ],
     "prompt_number": 137
    },
    {
     "cell_type": "code",
     "collapsed": false,
     "input": [
      "## unique set of labels\n",
      "labels_unique = list(set(labels_all))\n",
      "print(labels_unique)\n",
      "\n",
      "feature_names = [\"HRCov 01\",\"PC1\", \"total variance\", \"maxfreq\", \"median cr\", \"PC2\", \"HR2 mean\", \"PSDa\", \"HRCov 00\",\n",
      "                 \"mean cr\", \"HRCov 11\", \"HRCov 10\"]\n"
     ],
     "language": "python",
     "metadata": {},
     "outputs": [
      {
       "output_type": "stream",
       "stream": "stdout",
       "text": [
        "['phi', 'kappa', 'alpha', 'chi2', 'chi3', 'chi1', 'chi4', 'mu', 'beta', 'rho', 'delta', 'theta', 'nu', 'gamma', 'lambda']\n"
       ]
      }
     ],
     "prompt_number": 148
    },
    {
     "cell_type": "code",
     "collapsed": false,
     "input": [
      "\n",
      "def plot_features(features_new_all, labels_all, feature_names, datadir=\"./\", froot=\"grs1915_features_\"):\n",
      "    labels_unique = list(set(labels_all))\n",
      "\n",
      "    for lab in labels_unique:\n",
      "        fl = np.array([f for f,l in zip(features_new_all, labels_all) if l == lab])\n",
      "\n",
      "        fig = plt.figure(figsize=(17,13))\n",
      "        nrows =3\n",
      "        ncolumns = 4\n",
      "\n",
      "        sns.set_style(\"white\")\n",
      "\n",
      "        ax = fig.add_subplot(111)\n",
      "        # Turn off axis lines and ticks of the big subplot\n",
      "\n",
      "        ax.spines['top'].set_color('none')\n",
      "        ax.spines['bottom'].set_color('none')\n",
      "        ax.spines['left'].set_color('none')\n",
      "        ax.spines['right'].set_color('none')\n",
      "        ax.tick_params(labelcolor='w', top='off', bottom='off', left='off', right='off')\n",
      "\n",
      "        sns.set_context(\"notebook\", font_scale=1.5, rc={\"axes.labelsize\": 16, \"text.usetex\":True, \"font.family\":\"serif\"})\n",
      "        sns.set_style(\"darkgrid\")\n",
      "        plt.rc(\"text\", usetex=True)\n",
      "        plt.rc(\"axes\", titlesize=20, labelsize=20) \n",
      "        plt.rc(\"font\", size=24, family=\"serif\", serif=\"Computer Sans\")\n",
      "\n",
      "        for i,fn in enumerate(feature_names):\n",
      "            f = fl[:,i]\n",
      "            ax1 = fig.add_subplot(nrows, ncolumns, i+1)\n",
      "            ax1.hist(f, bins=15, histtype=\"stepfilled\")\n",
      "            ax1.set_xlabel(fn)\n",
      "            #ax1.set_ylabel(\"p( \" + fn + \")\")\n",
      "            #ax1.get_xaxis().set_major_formatter(plt.LogFormatter(10,  labelOnlyBase=False))\n",
      "            #ax1.get_yaxis().set_major_formatter(plt.LogFormatter(10,  labelOnlyBase=False))\n",
      "\n",
      "        ax.set_title(\"Human class: \" + lab)\n",
      "        plt.savefig(datadir+froot+\"_%s.pdf\"%lab, format=\"pdf\")\n",
      "        plt.close()\n",
      "    return\n",
      "\n",
      "#plot_features(features_new_all, labels_all, feature_names, datadir=datadir)"
     ],
     "language": "python",
     "metadata": {},
     "outputs": [],
     "prompt_number": 172
    },
    {
     "cell_type": "markdown",
     "metadata": {},
     "source": [
      "Inspecting the plots shows that some of the features are asymmetric, and some have several peaks. We're not so worried about multiple peaks; that may be due to classes that separate out in the final classification.\n",
      "However, asymmetric distributions are a problem if we want to use simple Gaussians to fit the feature space. Thus, let's instead make the log-scale of some of the parameters, the ones that were asymmetric in most classes (inspected by eye).\n"
     ]
    },
    {
     "cell_type": "code",
     "collapsed": false,
     "input": [
      "## these are the features I should be making the log of\n",
      "logf_ind = [1, 2, 4, 5, 7, 8]\n",
      "\n",
      "features_log = np.zeros(features_new_all.shape)\n",
      "for i in range(features_new_all.shape[1]):\n",
      "    f = features_new_all[:,i]\n",
      "    if i in logf_ind:\n",
      "        features_log[:,i] = np.log(f)\n",
      "    else:\n",
      "        features_log[:,i] = f\n",
      "        "
     ],
     "language": "python",
     "metadata": {},
     "outputs": [],
     "prompt_number": 173
    },
    {
     "cell_type": "code",
     "collapsed": false,
     "input": [
      "plot_features(features_log, labels_all, feature_names, datadir=datadir, froot=\"grs1915_features_log\")"
     ],
     "language": "python",
     "metadata": {},
     "outputs": [],
     "prompt_number": 174
    },
    {
     "cell_type": "code",
     "collapsed": false,
     "input": [],
     "language": "python",
     "metadata": {},
     "outputs": []
    }
   ],
   "metadata": {}
  }
 ]
}