{
 "metadata": {
  "name": "",
  "signature": "sha256:4fbab873fef066d3be2b43070c68d87659f876238301b6a36350ba490d2bb706"
 },
 "nbformat": 3,
 "nbformat_minor": 0,
 "worksheets": [
  {
   "cells": [
    {
     "cell_type": "markdown",
     "metadata": {},
     "source": [
      "# Classifying RXTE Data of GRS 1915+105\n",
      "\n",
      "GRS 1915+105 is one of the most interesting galactic black hole binaries. Emission from the source comes from gas that heasts to high (X-ray) temperatures as it accretes onto the black hole. \n",
      "The emission is highly time-variable, and changes between different states (see also Belloni+ 2000, MNRAS).\n",
      "\n",
      "The purpose of this project is to automatically (1) segment light curves into different morphologies, and (2) classify the light curves according to morphology.\n",
      "This should use both time and energy information (thus time-tagged event data, i.e. the arrival times of individual photons).\n",
      "\n",
      "Possible Issues:\n",
      "- dead time: above a certain count rate (~2000 cts/s), there will be increasingly issues with dead time, which produce spurious features at high frequencies in the power spectrum\n",
      "- PCU breakdowns: usually, we can use light curves from all Proportional Counter Units (the individual units of the instrument), but on occasion, one of them may be turned off or may break down, leading to abrupt changes in the observed count rate. \n",
      "\n",
      "## Preliminary Analysis: Standard 1 Data\n",
      "\n",
      "Until we get the TTE data, we can run preliminary checks on Standard 1 light curves, routinely output during the data processing of the raw data at HEASARC (the NASA high-energy facility). \n",
      "Standard 1 data has a time resolution of 0.125 seconds, and is integrated over all energy channels (no energy information). We're starting with the data from the years 1996 and 1997, a data set that should be roughly identical to the one in Belloni+ (2000).\n",
      "\n",
      "Standard 1 light curves are in files of the `type x[ObsID]_n1.lc`.\n",
      "Let's find all of them in our data set:"
     ]
    },
    {
     "cell_type": "code",
     "collapsed": false,
     "input": [
      "%matplotlib inline\n",
      "import numpy as np\n",
      "from astropy.io import fits \n",
      "import matplotlib.pyplot as plt\n"
     ],
     "language": "python",
     "metadata": {},
     "outputs": [],
     "prompt_number": 1
    },
    {
     "cell_type": "code",
     "collapsed": false,
     "input": [
      "import os\n",
      "import fnmatch\n",
      "import seaborn as sns\n",
      "sns.set()\n",
      "\n",
      "def search_filenames_recursively(testdir, testexpression):\n",
      "    matches = []\n",
      "    for root, dirnames, filenames in os.walk(testdir):\n",
      "        for filename in fnmatch.filter(filenames, testexpression):\n",
      "            matches.append(os.path.join(root, filename))\n",
      "\n",
      "    return matches\n"
     ],
     "language": "python",
     "metadata": {},
     "outputs": [],
     "prompt_number": 2
    },
    {
     "cell_type": "code",
     "collapsed": false,
     "input": [
      "all_lcs = search_filenames_recursively(\"./\", \"*n1.lc*\")"
     ],
     "language": "python",
     "metadata": {},
     "outputs": [],
     "prompt_number": 3
    },
    {
     "cell_type": "markdown",
     "metadata": {},
     "source": [
      "Now we'll extract all light curves and save them in standard text files. We'll also take out any time bins where `counts` or `err` is `nan`."
     ]
    },
    {
     "cell_type": "code",
     "collapsed": false,
     "input": [
      "for a in all_lcs:\n",
      "    asplit = a.split(\"/\")\n",
      "    asplit2 = asplit[-1].split(\"_\")\n",
      "    hdulist = fits.open(a)\n",
      "    data = hdulist[1].data\n",
      "    times = data.field(0)\n",
      "    counts = data.field(1)\n",
      "    err = data.field(2)\n",
      "    d = np.transpose(np.array([times, counts, err]))\n",
      "    dnew = [dp for dp in d if not any(np.isnan(dp))]\n",
      "    np.savetxt(\"%s_lc.txt\"%asplit2[0],dnew )\n",
      "\n"
     ],
     "language": "python",
     "metadata": {},
     "outputs": [],
     "prompt_number": 6
    },
    {
     "cell_type": "markdown",
     "metadata": {},
     "source": [
      "## Extracting Labelled Data\n",
      "\n",
      "The labels for individual light curves (from Belloni+ 2000) is in two places:\n",
      "- the script `convert_belloni.py` includes *all* observations and classes from the paper \n",
      "  (including those where there were several classes per light curves)\n",
      "- the file "
     ]
    },
    {
     "cell_type": "code",
     "collapsed": false,
     "input": [],
     "language": "python",
     "metadata": {},
     "outputs": []
    },
    {
     "cell_type": "code",
     "collapsed": false,
     "input": [],
     "language": "python",
     "metadata": {},
     "outputs": []
    },
    {
     "cell_type": "code",
     "collapsed": false,
     "input": [],
     "language": "python",
     "metadata": {},
     "outputs": []
    },
    {
     "cell_type": "markdown",
     "metadata": {},
     "source": [
      "## First Try: K-Means Clustering\n",
      "\n",
      "As a first try, let's do some K-means clustering on light curves and energy data (as soon as the processed data is available). \n",
      "For this, we'll need to extract features, which we can then use to sort the observations together into clusters (hopefully). \n",
      "\n",
      "### Feature Extraction\n",
      "\n",
      "Features I can think of, based on the data: \n",
      "- total variance in the light curve\n",
      "- variance in several power spectral bands (cf Heil+, 2014 on power colours)\n",
      "    - PA: 0.0039-0.031 Hz, \n",
      "    - PB: 0.031-0.25 Hz, \n",
      "    - PC: 0.25-2.0 Hz and \n",
      "    - PD: 2.0-16.0 Hz\n",
      "    - power colours: PC/PA and PB/PD\n",
      "- mean flux\n",
      "- peak flux\n",
      "- (energy) hardness ratios\n",
      "\n",
      "\n",
      "\n",
      "**Dumb Assumptions:**\n",
      "- duration of each light curve: 512s\n",
      "- overlap: 128s (1024 bins)"
     ]
    },
    {
     "cell_type": "code",
     "collapsed": false,
     "input": [
      "import glob\n",
      "import lightcurve\n",
      "import powerspectrum\n",
      "\n",
      "files = glob.glob(\"*lc.txt\")\n",
      "tseg = 256 ## segment length\n",
      "dt = 0.125 ## time bin size\n",
      "overlap_time = 64. ## overlap in seconds\n",
      "\n",
      "pa_min = 0.0039\n",
      "pa_max = 0.031\n",
      "pb_min= 0.031\n",
      "pb_max = 0.25\n",
      "pc_min = 0.25\n",
      "pc_max = 2.0\n",
      "pd_min = 2.0\n",
      "pd_max = 16.0\n",
      "\n",
      "nseg = tseg/dt ## number of bins per segment\n",
      "noverlap = overlap_time/dt\n",
      "print(\"nseg: \" + str(nseg))\n",
      "print(\"noverlap: \" + str(noverlap))"
     ],
     "language": "python",
     "metadata": {},
     "outputs": [
      {
       "output_type": "stream",
       "stream": "stdout",
       "text": [
        "nseg: 2048.0\n",
        "noverlap: 512.0\n"
       ]
      },
      {
       "output_type": "stream",
       "stream": "stderr",
       "text": [
        "/opt/local/Library/Frameworks/Python.framework/Versions/2.7/lib/python2.7/site-packages/matplotlib/__init__.py:1312: UserWarning:  This call to matplotlib.use() has no effect\n",
        "because the backend has already been chosen;\n",
        "matplotlib.use() must be called *before* pylab, matplotlib.pyplot,\n",
        "or matplotlib.backends is imported for the first time.\n",
        "\n",
        "  warnings.warn(_use_error_msg)\n"
       ]
      }
     ],
     "prompt_number": 3
    },
    {
     "cell_type": "code",
     "collapsed": false,
     "input": [],
     "language": "python",
     "metadata": {},
     "outputs": [],
     "prompt_number": 3
    },
    {
     "cell_type": "code",
     "collapsed": false,
     "input": [
      "d_all = []\n",
      "for f in files:\n",
      "    fstring = f.split(\"_\")[0][2:]\n",
      "    if fstring in belloni_turned:\n",
      "        state = belloni_turned[fstring]\n",
      "    else:\n",
      "        state = None\n",
      "    d = np.loadtxt(f)\n",
      "    #times = d[:,0]\n",
      "    #counts = d[:,1]\n",
      "    #plt.plot(times, counts)\n",
      "    dt_data = d[1:,0]-d[:-1,0]\n",
      "    ### split data with breaks\n",
      "    breaks = np.where(dt_data > 0.125)[0]\n",
      "    #print(breaks)\n",
      "    if len(breaks) == 0:\n",
      "        d_all.append([d, state])\n",
      "    else:\n",
      "        for i,b in enumerate(breaks):\n",
      "            #print(\"Break in light curve at time bin %i; length of break dt = %.3f\"%(b, dt_data[b]))\n",
      "            if i == 0:\n",
      "                if b == 0:\n",
      "                    continue\n",
      "                else:\n",
      "                    dtemp = d[:b]\n",
      "            else:\n",
      "                dtemp = d[breaks[i-1]+1:b]\n",
      "            d_all.append([dtemp, state])"
     ],
     "language": "python",
     "metadata": {},
     "outputs": [
      {
       "output_type": "stream",
       "stream": "stdout",
       "text": [
        "[ 5696 20352 46817 47810]\n",
        "[11584 26049 52506 52851 71156]"
       ]
      },
      {
       "output_type": "stream",
       "stream": "stdout",
       "text": [
        "\n",
        "[19391 42304]"
       ]
      },
      {
       "output_type": "stream",
       "stream": "stdout",
       "text": [
        "\n",
        "[ 1384 15977 26858 31699 53972 57813]"
       ]
      },
      {
       "output_type": "stream",
       "stream": "stdout",
       "text": [
        "\n",
        "[17088 20888 47856 69936]"
       ]
      },
      {
       "output_type": "stream",
       "stream": "stdout",
       "text": [
        "\n",
        "[ 6071 29231]"
       ]
      },
      {
       "output_type": "stream",
       "stream": "stdout",
       "text": [
        "\n",
        "[ 2496 18113 25498 39707 44251 61084]"
       ]
      },
      {
       "output_type": "stream",
       "stream": "stdout",
       "text": [
        "\n",
        "[ 5935 20271 45151]"
       ]
      },
      {
       "output_type": "stream",
       "stream": "stdout",
       "text": [
        "\n",
        "[11199 36991 37632 60480 62152]"
       ]
      },
      {
       "output_type": "stream",
       "stream": "stdout",
       "text": [
        "\n",
        "[15296 26304 33472]"
       ]
      },
      {
       "output_type": "stream",
       "stream": "stdout",
       "text": [
        "\n",
        "[ 4151 14127]"
       ]
      },
      {
       "output_type": "stream",
       "stream": "stdout",
       "text": [
        "\n",
        "[22527 30976 45185 48449 75017]"
       ]
      },
      {
       "output_type": "stream",
       "stream": "stdout",
       "text": [
        "\n",
        "[23424 27633]"
       ]
      },
      {
       "output_type": "stream",
       "stream": "stdout",
       "text": [
        "\n",
        "[13311 15616 19585 34369]"
       ]
      },
      {
       "output_type": "stream",
       "stream": "stdout",
       "text": [
        "\n",
        "[1984]"
       ]
      },
      {
       "output_type": "stream",
       "stream": "stdout",
       "text": [
        "\n",
        "[11263 11976 26760 44688]"
       ]
      },
      {
       "output_type": "stream",
       "stream": "stdout",
       "text": [
        "\n",
        "[27128 34289 54258 55795]"
       ]
      },
      {
       "output_type": "stream",
       "stream": "stdout",
       "text": [
        "\n",
        "[21056 26177 34001 49361 51090]"
       ]
      },
      {
       "output_type": "stream",
       "stream": "stdout",
       "text": [
        "\n",
        "[25152 25537 38434 51875]"
       ]
      },
      {
       "output_type": "stream",
       "stream": "stdout",
       "text": [
        "\n",
        "[]"
       ]
      },
      {
       "output_type": "stream",
       "stream": "stdout",
       "text": [
        "\n",
        "[ 5119 19455 31759]"
       ]
      },
      {
       "output_type": "stream",
       "stream": "stdout",
       "text": [
        "\n",
        "[  207 26576 31121 49042]"
       ]
      },
      {
       "output_type": "stream",
       "stream": "stdout",
       "text": [
        "\n",
        "[ 9215 20352 30400 55040]"
       ]
      },
      {
       "output_type": "stream",
       "stream": "stdout",
       "text": [
        "\n",
        "[ 8191 29424 29872 55776 82257]"
       ]
      },
      {
       "output_type": "stream",
       "stream": "stdout",
       "text": [
        "\n",
        "[16383 36279 46384 58992]"
       ]
      },
      {
       "output_type": "stream",
       "stream": "stdout",
       "text": [
        "\n",
        "[9215]"
       ]
      },
      {
       "output_type": "stream",
       "stream": "stdout",
       "text": [
        "\n",
        "[1472]"
       ]
      },
      {
       "output_type": "stream",
       "stream": "stdout",
       "text": [
        "\n",
        "[5568]"
       ]
      },
      {
       "output_type": "stream",
       "stream": "stdout",
       "text": [
        "\n",
        "[]"
       ]
      },
      {
       "output_type": "stream",
       "stream": "stdout",
       "text": [
        "\n",
        "[]"
       ]
      },
      {
       "output_type": "stream",
       "stream": "stdout",
       "text": [
        "\n",
        "[]"
       ]
      },
      {
       "output_type": "stream",
       "stream": "stdout",
       "text": [
        "\n",
        "[]"
       ]
      },
      {
       "output_type": "stream",
       "stream": "stdout",
       "text": [
        "\n",
        "[]"
       ]
      },
      {
       "output_type": "stream",
       "stream": "stdout",
       "text": [
        "\n",
        "[]"
       ]
      },
      {
       "output_type": "stream",
       "stream": "stdout",
       "text": [
        "\n",
        "[]"
       ]
      },
      {
       "output_type": "stream",
       "stream": "stdout",
       "text": [
        "\n",
        "[9032]"
       ]
      },
      {
       "output_type": "stream",
       "stream": "stdout",
       "text": [
        "\n",
        "[12224]"
       ]
      },
      {
       "output_type": "stream",
       "stream": "stdout",
       "text": [
        "\n",
        "[]"
       ]
      },
      {
       "output_type": "stream",
       "stream": "stdout",
       "text": [
        "\n",
        "[1608]"
       ]
      },
      {
       "output_type": "stream",
       "stream": "stdout",
       "text": [
        "\n",
        "[]"
       ]
      },
      {
       "output_type": "stream",
       "stream": "stdout",
       "text": [
        "\n",
        "[]"
       ]
      },
      {
       "output_type": "stream",
       "stream": "stdout",
       "text": [
        "\n",
        "[ 2120 17225]"
       ]
      },
      {
       "output_type": "stream",
       "stream": "stdout",
       "text": [
        "\n",
        "[]"
       ]
      },
      {
       "output_type": "stream",
       "stream": "stdout",
       "text": [
        "\n",
        "[9168]"
       ]
      },
      {
       "output_type": "stream",
       "stream": "stdout",
       "text": [
        "\n",
        "[1344]"
       ]
      },
      {
       "output_type": "stream",
       "stream": "stdout",
       "text": [
        "\n",
        "[]"
       ]
      },
      {
       "output_type": "stream",
       "stream": "stdout",
       "text": [
        "\n",
        "[5864]"
       ]
      },
      {
       "output_type": "stream",
       "stream": "stdout",
       "text": [
        "\n",
        "[]"
       ]
      },
      {
       "output_type": "stream",
       "stream": "stdout",
       "text": [
        "\n",
        "[2367 9471]"
       ]
      },
      {
       "output_type": "stream",
       "stream": "stdout",
       "text": [
        "\n",
        "[11263 13159]"
       ]
      },
      {
       "output_type": "stream",
       "stream": "stdout",
       "text": [
        "\n",
        "[]"
       ]
      },
      {
       "output_type": "stream",
       "stream": "stdout",
       "text": [
        "\n",
        "[]"
       ]
      },
      {
       "output_type": "stream",
       "stream": "stdout",
       "text": [
        "\n",
        "[]"
       ]
      },
      {
       "output_type": "stream",
       "stream": "stdout",
       "text": [
        "\n",
        "[]"
       ]
      },
      {
       "output_type": "stream",
       "stream": "stdout",
       "text": [
        "\n",
        "[ 1408 24577]"
       ]
      },
      {
       "output_type": "stream",
       "stream": "stdout",
       "text": [
        "\n",
        "[18112]"
       ]
      },
      {
       "output_type": "stream",
       "stream": "stdout",
       "text": [
        "\n",
        "[14976]"
       ]
      },
      {
       "output_type": "stream",
       "stream": "stdout",
       "text": [
        "\n",
        "[ 175 3888]"
       ]
      },
      {
       "output_type": "stream",
       "stream": "stdout",
       "text": [
        "\n",
        "[ 8576 11344]"
       ]
      },
      {
       "output_type": "stream",
       "stream": "stdout",
       "text": [
        "\n",
        "[]"
       ]
      },
      {
       "output_type": "stream",
       "stream": "stdout",
       "text": [
        "\n",
        "[   55  4087 16375]"
       ]
      },
      {
       "output_type": "stream",
       "stream": "stdout",
       "text": [
        "\n",
        "[55]"
       ]
      },
      {
       "output_type": "stream",
       "stream": "stdout",
       "text": [
        "\n",
        "[   55 19384 26297]"
       ]
      },
      {
       "output_type": "stream",
       "stream": "stdout",
       "text": [
        "\n",
        "[24575 51064 52088]"
       ]
      },
      {
       "output_type": "stream",
       "stream": "stdout",
       "text": [
        "\n",
        "[18999 32952 45360 62385 68081]"
       ]
      },
      {
       "output_type": "stream",
       "stream": "stdout",
       "text": [
        "\n",
        "[26375 26576 41809 52562 56091]"
       ]
      },
      {
       "output_type": "stream",
       "stream": "stdout",
       "text": [
        "\n",
        "[15552 18456 22937 44657 52210]"
       ]
      },
      {
       "output_type": "stream",
       "stream": "stdout",
       "text": [
        "\n",
        "[ 2919 29519 35920 55992 65849]"
       ]
      },
      {
       "output_type": "stream",
       "stream": "stdout",
       "text": [
        "\n",
        "[ 8512 22400 49320]"
       ]
      },
      {
       "output_type": "stream",
       "stream": "stdout",
       "text": [
        "\n",
        "[21952 26256 52241 53217]"
       ]
      },
      {
       "output_type": "stream",
       "stream": "stdout",
       "text": [
        "\n",
        "[17984 21801 38186 44331 67732]"
       ]
      },
      {
       "output_type": "stream",
       "stream": "stdout",
       "text": [
        "\n",
        "[20288 22337 30130 44339 48564]"
       ]
      },
      {
       "output_type": "stream",
       "stream": "stdout",
       "text": [
        "\n",
        "[ 6464 16456 25097 26641 46298 53027]"
       ]
      },
      {
       "output_type": "stream",
       "stream": "stdout",
       "text": [
        "\n",
        "[ 9920 12721 36274 56995]"
       ]
      },
      {
       "output_type": "stream",
       "stream": "stdout",
       "text": [
        "\n",
        "[19455 45823 47040]"
       ]
      },
      {
       "output_type": "stream",
       "stream": "stdout",
       "text": [
        "\n",
        "[ 9215 24895 40384]"
       ]
      },
      {
       "output_type": "stream",
       "stream": "stdout",
       "text": [
        "\n",
        "[ 4159  7232 23296 30016]"
       ]
      },
      {
       "output_type": "stream",
       "stream": "stdout",
       "text": [
        "\n",
        "[ 1023  1088 11744 27169 54402 57955]"
       ]
      },
      {
       "output_type": "stream",
       "stream": "stdout",
       "text": [
        "\n",
        "[22464 42113]"
       ]
      },
      {
       "output_type": "stream",
       "stream": "stdout",
       "text": [
        "\n",
        "[ 1536 14456 27312 27888 31857 37737 41001 47594 50402 57187 60964]"
       ]
      },
      {
       "output_type": "stream",
       "stream": "stdout",
       "text": [
        "\n",
        "[22464 25793 35890]"
       ]
      },
      {
       "output_type": "stream",
       "stream": "stdout",
       "text": [
        "\n",
        "[ 1344 15937 18370 22595 36420 41477 52102 54087 65864]"
       ]
      },
      {
       "output_type": "stream",
       "stream": "stdout",
       "text": [
        "\n",
        "[  439  3512 17977 20026 37371 43900 54141 58174]"
       ]
      },
      {
       "output_type": "stream",
       "stream": "stdout",
       "text": [
        "\n",
        "[ 3944 20016 39480 48505 58305]"
       ]
      },
      {
       "output_type": "stream",
       "stream": "stdout",
       "text": [
        "\n",
        "[]\n",
        "[]\n",
        "[]"
       ]
      },
      {
       "output_type": "stream",
       "stream": "stdout",
       "text": [
        "\n",
        "[]\n",
        "[17407]"
       ]
      },
      {
       "output_type": "stream",
       "stream": "stdout",
       "text": [
        "\n",
        "[17472 26376 43017]"
       ]
      },
      {
       "output_type": "stream",
       "stream": "stdout",
       "text": [
        "\n",
        "[  815  5040 19824 20640 42848 45072]"
       ]
      },
      {
       "output_type": "stream",
       "stream": "stdout",
       "text": [
        "\n",
        "[22720]"
       ]
      },
      {
       "output_type": "stream",
       "stream": "stdout",
       "text": [
        "\n",
        "[23872 26264 53360 53489 67121]"
       ]
      },
      {
       "output_type": "stream",
       "stream": "stdout",
       "text": [
        "\n",
        "[16064 16256 37520 61984 73969 88306 90947]"
       ]
      },
      {
       "output_type": "stream",
       "stream": "stdout",
       "text": [
        "\n",
        "[ 3071 17728 23233 29890 47043 54724 69061 79878]"
       ]
      },
      {
       "output_type": "stream",
       "stream": "stdout",
       "text": [
        "\n",
        "[ 14208  21960  43977  48273  55570  73875  74459 100899 114340]"
       ]
      },
      {
       "output_type": "stream",
       "stream": "stdout",
       "text": [
        "\n",
        "[16632 19256 38768 45929]"
       ]
      },
      {
       "output_type": "stream",
       "stream": "stdout",
       "text": [
        "\n",
        "[  5119  31728  34657  48994  57955  82724  89317 103782]"
       ]
      },
      {
       "output_type": "stream",
       "stream": "stdout",
       "text": [
        "\n",
        "[ 8512 22721]"
       ]
      },
      {
       "output_type": "stream",
       "stream": "stdout",
       "text": [
        "\n",
        "[12288 23288 27641 49649 57074 76010 86507]"
       ]
      },
      {
       "output_type": "stream",
       "stream": "stdout",
       "text": [
        "\n",
        "[ 6336 12160 12761 28890 31386 50098 71626 82467]"
       ]
      },
      {
       "output_type": "stream",
       "stream": "stdout",
       "text": [
        "\n",
        "[26440 52881 58322 74258 77267 84244]"
       ]
      },
      {
       "output_type": "stream",
       "stream": "stdout",
       "text": [
        "\n",
        "[ 24183  37560  48304  49457  67250  74538  79019 100899 108452 127013\n",
        " 127133]"
       ]
      },
      {
       "output_type": "stream",
       "stream": "stdout",
       "text": [
        "\n",
        "[9408]"
       ]
      },
      {
       "output_type": "stream",
       "stream": "stdout",
       "text": [
        "\n",
        "[11840 13184 17217 31489 53633 79233]"
       ]
      },
      {
       "output_type": "stream",
       "stream": "stdout",
       "text": [
        "\n",
        "[ 2311 25416 26376 50633 58442 72779 75212 86029]"
       ]
      },
      {
       "output_type": "stream",
       "stream": "stdout",
       "text": [
        "\n",
        "[14335 31383 43760 51697]"
       ]
      },
      {
       "output_type": "stream",
       "stream": "stdout",
       "text": [
        "\n",
        "[10240 14144 31360 50880]"
       ]
      },
      {
       "output_type": "stream",
       "stream": "stdout",
       "text": [
        "\n",
        "[13311 16592 30352 50592]"
       ]
      },
      {
       "output_type": "stream",
       "stream": "stdout",
       "text": [
        "\n",
        "[   64 26384 27985 43986 46626]"
       ]
      },
      {
       "output_type": "stream",
       "stream": "stdout",
       "text": [
        "\n",
        "[11823 14832 29169 36705]"
       ]
      },
      {
       "output_type": "stream",
       "stream": "stdout",
       "text": [
        "\n",
        "[ 1983  3191 11287 30551 36855 52728 59224 79256 79544]"
       ]
      },
      {
       "output_type": "stream",
       "stream": "stdout",
       "text": [
        "\n",
        "[ 3136  8432  8497  9522 18786]"
       ]
      },
      {
       "output_type": "stream",
       "stream": "stdout",
       "text": [
        "\n",
        "[10119 27912]"
       ]
      },
      {
       "output_type": "stream",
       "stream": "stdout",
       "text": [
        "\n",
        "[ 5824 11833]"
       ]
      },
      {
       "output_type": "stream",
       "stream": "stdout",
       "text": [
        "\n",
        "[ 7303 14088 32393]"
       ]
      },
      {
       "output_type": "stream",
       "stream": "stdout",
       "text": [
        "\n",
        "[18095 44703]"
       ]
      },
      {
       "output_type": "stream",
       "stream": "stdout",
       "text": [
        "\n",
        "[8416]"
       ]
      },
      {
       "output_type": "stream",
       "stream": "stdout",
       "text": [
        "\n",
        "[  679  1072 11120 15153 21298 31314]"
       ]
      },
      {
       "output_type": "stream",
       "stream": "stdout",
       "text": [
        "\n",
        "[ 8191 34335 49215 60032 64097]"
       ]
      },
      {
       "output_type": "stream",
       "stream": "stdout",
       "text": [
        "\n",
        "[ 8127  8423 35663 36879]"
       ]
      },
      {
       "output_type": "stream",
       "stream": "stdout",
       "text": [
        "\n",
        "[ 3776 17473 25794 49555 52500 69093]"
       ]
      },
      {
       "output_type": "stream",
       "stream": "stdout",
       "text": [
        "\n",
        "[ 9215 20288 28705 46626 64899]"
       ]
      },
      {
       "output_type": "stream",
       "stream": "stdout",
       "text": [
        "\n",
        "[18880 28352 44289 56833]"
       ]
      },
      {
       "output_type": "stream",
       "stream": "stdout",
       "text": [
        "\n",
        "[20160 20352 27729 42001]"
       ]
      },
      {
       "output_type": "stream",
       "stream": "stdout",
       "text": [
        "\n",
        "[14680]"
       ]
      },
      {
       "output_type": "stream",
       "stream": "stdout",
       "text": [
        "\n",
        "[   55  6968 33425 47210]"
       ]
      },
      {
       "output_type": "stream",
       "stream": "stdout",
       "text": [
        "\n",
        "[ 9920 24385 50978 53251]"
       ]
      },
      {
       "output_type": "stream",
       "stream": "stdout",
       "text": [
        "\n",
        "[26816 30217 50186]"
       ]
      },
      {
       "output_type": "stream",
       "stream": "stdout",
       "text": [
        "\n",
        "[   63   168 22953 26282 30459 53244 54653]"
       ]
      },
      {
       "output_type": "stream",
       "stream": "stdout",
       "text": [
        "\n",
        "[22464 26144 35873 52609]"
       ]
      },
      {
       "output_type": "stream",
       "stream": "stdout",
       "text": [
        "\n",
        "[17984 21272 39065 47601]"
       ]
      },
      {
       "output_type": "stream",
       "stream": "stdout",
       "text": [
        "\n",
        "[ 2047  6407 22344 26760 50704 51728]"
       ]
      },
      {
       "output_type": "stream",
       "stream": "stdout",
       "text": [
        "\n",
        "[24575]"
       ]
      },
      {
       "output_type": "stream",
       "stream": "stdout",
       "text": [
        "\n",
        "[9792]"
       ]
      },
      {
       "output_type": "stream",
       "stream": "stdout",
       "text": [
        "\n",
        "[]"
       ]
      },
      {
       "output_type": "stream",
       "stream": "stdout",
       "text": [
        "\n",
        "[11456 20993 38402 40578 40643]"
       ]
      },
      {
       "output_type": "stream",
       "stream": "stdout",
       "text": [
        "\n",
        "[ 8999 11944 35856]"
       ]
      },
      {
       "output_type": "stream",
       "stream": "stdout",
       "text": [
        "\n",
        "[  119 13688 26480]"
       ]
      },
      {
       "output_type": "stream",
       "stream": "stdout",
       "text": [
        "\n",
        "[143]"
       ]
      },
      {
       "output_type": "stream",
       "stream": "stdout",
       "text": [
        "\n",
        "[   64 12608 13377]"
       ]
      },
      {
       "output_type": "stream",
       "stream": "stdout",
       "text": [
        "\n",
        "[ 4160 14208]"
       ]
      },
      {
       "output_type": "stream",
       "stream": "stdout",
       "text": [
        "\n",
        "[  439  5432 15417 16378 26298]"
       ]
      },
      {
       "output_type": "stream",
       "stream": "stdout",
       "text": [
        "\n",
        "[1728]"
       ]
      },
      {
       "output_type": "stream",
       "stream": "stdout",
       "text": [
        "\n",
        "[  375 12343 26871]"
       ]
      },
      {
       "output_type": "stream",
       "stream": "stdout",
       "text": [
        "\n",
        "[17344 25665 39553 64961 91553]"
       ]
      },
      {
       "output_type": "stream",
       "stream": "stdout",
       "text": [
        "\n",
        "[]"
       ]
      },
      {
       "output_type": "stream",
       "stream": "stdout",
       "text": [
        "\n",
        "[]"
       ]
      },
      {
       "output_type": "stream",
       "stream": "stdout",
       "text": [
        "\n",
        "[239]"
       ]
      },
      {
       "output_type": "stream",
       "stream": "stdout",
       "text": [
        "\n",
        "[12864]"
       ]
      },
      {
       "output_type": "stream",
       "stream": "stdout",
       "text": [
        "\n",
        "[31]"
       ]
      },
      {
       "output_type": "stream",
       "stream": "stdout",
       "text": [
        "\n",
        "[4088]"
       ]
      },
      {
       "output_type": "stream",
       "stream": "stdout",
       "text": [
        "\n",
        "[13743 40287 54368]"
       ]
      },
      {
       "output_type": "stream",
       "stream": "stdout",
       "text": [
        "\n",
        "[  175  7215 12208 28209]"
       ]
      },
      {
       "output_type": "stream",
       "stream": "stdout",
       "text": [
        "\n",
        "[ 6143 28024]"
       ]
      },
      {
       "output_type": "stream",
       "stream": "stdout",
       "text": [
        "\n",
        "[ 4095 17600]"
       ]
      },
      {
       "output_type": "stream",
       "stream": "stdout",
       "text": [
        "\n",
        "[2624]"
       ]
      },
      {
       "output_type": "stream",
       "stream": "stdout",
       "text": [
        "\n",
        "[20479]"
       ]
      },
      {
       "output_type": "stream",
       "stream": "stdout",
       "text": [
        "\n",
        "[ 2240 15232 33568]"
       ]
      },
      {
       "output_type": "stream",
       "stream": "stdout",
       "text": [
        "\n",
        "[ 6080 16256 42713]"
       ]
      },
      {
       "output_type": "stream",
       "stream": "stdout",
       "text": [
        "\n",
        "[]"
       ]
      },
      {
       "output_type": "stream",
       "stream": "stdout",
       "text": [
        "\n",
        "[]"
       ]
      },
      {
       "output_type": "stream",
       "stream": "stdout",
       "text": [
        "\n",
        "[10200 23832]"
       ]
      },
      {
       "output_type": "stream",
       "stream": "stdout",
       "text": [
        "\n",
        "[]"
       ]
      },
      {
       "output_type": "stream",
       "stream": "stdout",
       "text": [
        "\n",
        "[9824]"
       ]
      },
      {
       "output_type": "stream",
       "stream": "stdout",
       "text": [
        "\n",
        "[  576 14785 26178]"
       ]
      },
      {
       "output_type": "stream",
       "stream": "stdout",
       "text": [
        "\n",
        "[24671]"
       ]
      },
      {
       "output_type": "stream",
       "stream": "stdout",
       "text": [
        "\n",
        "[]"
       ]
      },
      {
       "output_type": "stream",
       "stream": "stdout",
       "text": [
        "\n",
        "[ 5423 15280 31776 57824]"
       ]
      },
      {
       "output_type": "stream",
       "stream": "stdout",
       "text": [
        "\n",
        "[25672 26313]"
       ]
      },
      {
       "output_type": "stream",
       "stream": "stdout",
       "text": [
        "\n",
        "[ 9280 11256]"
       ]
      },
      {
       "output_type": "stream",
       "stream": "stdout",
       "text": [
        "\n",
        "[22527 48143]"
       ]
      },
      {
       "output_type": "stream",
       "stream": "stdout",
       "text": [
        "\n",
        "[ 5312 23361 25794 34691]"
       ]
      },
      {
       "output_type": "stream",
       "stream": "stdout",
       "text": [
        "\n",
        "[ 119 2680]"
       ]
      },
      {
       "output_type": "stream",
       "stream": "stdout",
       "text": [
        "\n",
        "[47]"
       ]
      },
      {
       "output_type": "stream",
       "stream": "stdout",
       "text": [
        "\n",
        "[6080]"
       ]
      },
      {
       "output_type": "stream",
       "stream": "stdout",
       "text": [
        "\n",
        "[]"
       ]
      },
      {
       "output_type": "stream",
       "stream": "stdout",
       "text": [
        "\n",
        "[23551]"
       ]
      },
      {
       "output_type": "stream",
       "stream": "stdout",
       "text": [
        "\n",
        "[7744]"
       ]
      },
      {
       "output_type": "stream",
       "stream": "stdout",
       "text": [
        "\n",
        "[63]"
       ]
      },
      {
       "output_type": "stream",
       "stream": "stdout",
       "text": [
        "\n",
        "[  983 20248 26393 49057]"
       ]
      },
      {
       "output_type": "stream",
       "stream": "stdout",
       "text": [
        "\n",
        "[]\n",
        "[55]"
       ]
      },
      {
       "output_type": "stream",
       "stream": "stdout",
       "text": [
        "\n",
        "[  976 17489 26322 32675 46884]"
       ]
      },
      {
       "output_type": "stream",
       "stream": "stdout",
       "text": [
        "\n",
        "[ 3968 19192 20217 36337 42866 51562 51819 52076 61549]"
       ]
      },
      {
       "output_type": "stream",
       "stream": "stdout",
       "text": [
        "\n",
        "[  247 15183 22031]"
       ]
      },
      {
       "output_type": "stream",
       "stream": "stdout",
       "text": [
        "\n",
        "[  175  6167  9880 24217 32257 56962 58602 85074 99475]"
       ]
      },
      {
       "output_type": "stream",
       "stream": "stdout",
       "text": [
        "\n",
        "[14016 24448 50049 50241 76729 77434]"
       ]
      },
      {
       "output_type": "stream",
       "stream": "stdout",
       "text": [
        "\n",
        "[ 2239  3904 28480 31937 52801]"
       ]
      },
      {
       "output_type": "stream",
       "stream": "stdout",
       "text": [
        "\n",
        "[]"
       ]
      },
      {
       "output_type": "stream",
       "stream": "stdout",
       "text": [
        "\n",
        "[11200 25537 37538]"
       ]
      },
      {
       "output_type": "stream",
       "stream": "stdout",
       "text": [
        "\n",
        "[20032 26504 29000]"
       ]
      },
      {
       "output_type": "stream",
       "stream": "stdout",
       "text": [
        "\n",
        "[ 3008 21825]"
       ]
      },
      {
       "output_type": "stream",
       "stream": "stdout",
       "text": [
        "\n",
        "[]"
       ]
      },
      {
       "output_type": "stream",
       "stream": "stdout",
       "text": [
        "\n",
        "[22976]"
       ]
      },
      {
       "output_type": "stream",
       "stream": "stdout",
       "text": [
        "\n",
        "[  439  8760 22649 33914 55803]"
       ]
      },
      {
       "output_type": "stream",
       "stream": "stdout",
       "text": [
        "\n",
        "[25664 36993 49922 71491]"
       ]
      },
      {
       "output_type": "stream",
       "stream": "stdout",
       "text": [
        "\n",
        "[16759 21176 32432 33969]"
       ]
      },
      {
       "output_type": "stream",
       "stream": "stdout",
       "text": [
        "\n",
        "[ 375 6967]"
       ]
      },
      {
       "output_type": "stream",
       "stream": "stdout",
       "text": [
        "\n",
        "[95]"
       ]
      },
      {
       "output_type": "stream",
       "stream": "stdout",
       "text": [
        "\n",
        "[11712 20752 41105 47073 70754]"
       ]
      },
      {
       "output_type": "stream",
       "stream": "stdout",
       "text": [
        "\n",
        "[]"
       ]
      },
      {
       "output_type": "stream",
       "stream": "stdout",
       "text": [
        "\n",
        "[  367 23280 27376]"
       ]
      },
      {
       "output_type": "stream",
       "stream": "stdout",
       "text": [
        "\n",
        "[  119   999 26455 28248 52824 57689]"
       ]
      },
      {
       "output_type": "stream",
       "stream": "stdout",
       "text": [
        "\n",
        "[14319 40671 60896]"
       ]
      },
      {
       "output_type": "stream",
       "stream": "stdout",
       "text": [
        "\n",
        "[19143 22728 40905 45457 52370]"
       ]
      },
      {
       "output_type": "stream",
       "stream": "stdout",
       "text": [
        "\n",
        "[19455 31104]"
       ]
      },
      {
       "output_type": "stream",
       "stream": "stdout",
       "text": [
        "\n",
        "[ 1728 20161]"
       ]
      },
      {
       "output_type": "stream",
       "stream": "stdout",
       "text": [
        "\n",
        "[  631 11879 13928 27432]"
       ]
      },
      {
       "output_type": "stream",
       "stream": "stdout",
       "text": [
        "\n",
        "[  567 18183]"
       ]
      },
      {
       "output_type": "stream",
       "stream": "stdout",
       "text": [
        "\n",
        "[14400]"
       ]
      },
      {
       "output_type": "stream",
       "stream": "stdout",
       "text": [
        "\n",
        "[10560 25992 52368]"
       ]
      },
      {
       "output_type": "stream",
       "stream": "stdout",
       "text": [
        "\n",
        "[ 8000 15232 37193 41481 50258 66643 67668]"
       ]
      },
      {
       "output_type": "stream",
       "stream": "stdout",
       "text": [
        "\n",
        "[  335 24079]"
       ]
      },
      {
       "output_type": "stream",
       "stream": "stdout",
       "text": [
        "\n"
       ]
      }
     ],
     "prompt_number": 167
    },
    {
     "cell_type": "code",
     "collapsed": false,
     "input": [],
     "language": "python",
     "metadata": {},
     "outputs": [],
     "prompt_number": 172
    },
    {
     "cell_type": "code",
     "collapsed": false,
     "input": [],
     "language": "python",
     "metadata": {},
     "outputs": [
      {
       "metadata": {},
       "output_type": "pyout",
       "prompt_number": 183,
       "text": [
        "<matplotlib.collections.LineCollection at 0x13e534bd0>"
       ]
      },
      {
       "metadata": {},
       "output_type": "display_data",
       "png": "[encoded data removed]",
       "text": [
        "<matplotlib.figure.Figure at 0x13e2ea250>"
       ]
      }
     ],
     "prompt_number": 183
    },
    {
     "cell_type": "code",
     "collapsed": false,
     "input": [
      "## now make power spectra:\n",
      "\n",
      "fmu, fvar = [], []\n",
      "fmax = []\n",
      "psd_a, psd_b, psd_c, psd_d = [], [], [], []\n",
      "pc1, pc2 = [], []\n",
      "labels = []\n",
      "#print(\"len(d_seg): \" + str(len(d_seg)))\n",
      "lc_all = []\n",
      "\n",
      "### set True if you only want to extract the \"clean\" labelled data\n",
      "clean_only = True\n",
      "\n",
      "for i,d_seg in enumerate(d_all):\n",
      "    istart = 0\n",
      "    iend = nseg\n",
      "    j = 0\n",
      "    data = d_seg[0]\n",
      "    #print(data)\n",
      "    state = d_seg[1]\n",
      "    #print(state)\n",
      "    while iend <= len(data):\n",
      "        dtemp = data[istart:iend]\n",
      "        times = dtemp[:,0]\n",
      "        counts = dtemp[:,1]\n",
      "        lc = lightcurve.Lightcurve(times, counts=counts)\n",
      "        lc.fmu = np.mean(counts)\n",
      "        lc.fvar = np.var(counts)\n",
      "        lc.state = state\n",
      "        try:\n",
      "            ps = powerspectrum.PowerSpectrum(times, counts=counts, norm=\"rms\")\n",
      "        except:\n",
      "            print(\"Exception! boo!\")\n",
      "            istart += noverlap\n",
      "            iend += noverlap\n",
      "            continue\n",
      "        lc.ps = ps\n",
      "        \n",
      "        if len(ps.freq) < 1024:\n",
      "            print(\"i: \" + str(i))\n",
      "            print(\"j: \" + str(j))\n",
      "            print(len(ps.freq))\n",
      "            print(ps.freq[0])\n",
      "            print(ps.freq[-1])\n",
      "            \n",
      "        ## find frequency with maximum power, exclude 0th frequency\n",
      "        fmax_ind = np.where(ps.ps[1:] == np.max(ps.ps[1:]))[0]+1\n",
      "        lc.maxfreq = ps.freq[fmax_ind]\n",
      "        \n",
      "        ## find power in spectral bands for power-colours\n",
      "        pa_min_freq = ps.freq.searchsorted(pa_min)\n",
      "        pa_max_freq = ps.freq.searchsorted(pa_max)\n",
      "        \n",
      "        pb_min_freq = ps.freq.searchsorted(pb_min)\n",
      "        pb_max_freq = ps.freq.searchsorted(pb_max)\n",
      "        \n",
      "        pc_min_freq = ps.freq.searchsorted(pc_min)\n",
      "        pc_max_freq = ps.freq.searchsorted(pc_max)\n",
      "\n",
      "        pd_min_freq = ps.freq.searchsorted(pd_min)\n",
      "        pd_max_freq = ps.freq.searchsorted(pd_max)\n",
      "        \n",
      "        lc.psd_a = np.sum(ps.ps[pa_min_freq:pa_max_freq])\n",
      "        lc.psd_b = np.sum(ps.ps[pb_min_freq:pb_max_freq])\n",
      "        lc.psd_c = np.sum(ps.ps[pc_min_freq:pc_max_freq])\n",
      "        lc.psd_d = np.sum(ps.ps[pd_min_freq:pd_max_freq])\n",
      "        lc.pc1 = np.sum(ps.ps[pc_min_freq:pc_max_freq])/np.sum(ps.ps[pa_min_freq:pa_max_freq])\n",
      "        lc.pc2 = np.sum(ps.ps[pb_min_freq:pb_max_freq])/np.sum(ps.ps[pd_min_freq:pd_max_freq])\n",
      "        \n",
      "        if clean_only == False or (clean_only == True and state is not None):\n",
      "            fmu.append(lc.fmu)\n",
      "            fvar.append(lc.fvar)\n",
      "            labels.append(state)\n",
      "            fmax.append(lc.maxfreq)\n",
      "            \n",
      "            psd_a.append(np.sum(ps.ps[pa_min_freq:pa_max_freq]))\n",
      "            psd_b.append(np.sum(ps.ps[pb_min_freq:pb_max_freq]))\n",
      "            psd_c.append(np.sum(ps.ps[pc_min_freq:pc_max_freq]))\n",
      "            psd_d.append(np.sum(ps.ps[pd_min_freq:pd_max_freq]))\n",
      "\n",
      "            pc1.append(np.sum(ps.ps[pc_min_freq:pc_max_freq])/np.sum(ps.ps[pa_min_freq:pa_max_freq]))\n",
      "            pc2.append(np.sum(ps.ps[pb_min_freq:pb_max_freq])/np.sum(ps.ps[pd_min_freq:pd_max_freq]))\n",
      "\n",
      "            lc_all.append(lc)\n",
      "        #labels.append(state)\n",
      "        #plt.figure()\n",
      "        #plt.loglog(ps.freq[1:], ps.ps[1:], lw=2, color=\"black\")\n",
      "        istart += noverlap\n",
      "        iend += noverlap\n",
      "        j+=1\n",
      "        \n"
     ],
     "language": "python",
     "metadata": {},
     "outputs": [],
     "prompt_number": 184
    },
    {
     "cell_type": "markdown",
     "metadata": {},
     "source": []
    },
    {
     "cell_type": "code",
     "collapsed": false,
     "input": [],
     "language": "python",
     "metadata": {},
     "outputs": [
      {
       "metadata": {},
       "output_type": "pyout",
       "prompt_number": 186,
       "text": [
        "7906"
       ]
      }
     ],
     "prompt_number": 186
    },
    {
     "cell_type": "code",
     "collapsed": false,
     "input": [],
     "language": "python",
     "metadata": {},
     "outputs": []
    },
    {
     "cell_type": "code",
     "collapsed": false,
     "input": [],
     "language": "python",
     "metadata": {},
     "outputs": []
    },
    {
     "cell_type": "code",
     "collapsed": false,
     "input": [
      "from sklearn import metrics\n",
      "from sklearn.cluster import KMeans\n",
      "from sklearn.preprocessing import StandardScaler\n",
      "\n",
      "features = np.array([fmu, fvar, fmax, psd_a, psd_b, psd_c, psd_d, pc1, pc2])\n",
      "features = np.transpose(features)\n",
      "scaler = StandardScaler().fit(features)\n",
      "f_scaled = scaler.transform(features)"
     ],
     "language": "python",
     "metadata": {},
     "outputs": [],
     "prompt_number": 58
    },
    {
     "cell_type": "code",
     "collapsed": false,
     "input": [
      "labels"
     ],
     "language": "python",
     "metadata": {},
     "outputs": [
      {
       "metadata": {},
       "output_type": "pyout",
       "prompt_number": 157,
       "text": [
        "[None,\n",
        " None,\n",
        " None,\n",
        " None,\n",
        " None,\n",
        " None,\n",
        " None,\n",
        " None,\n",
        " None,\n",
        " None,\n",
        " None,\n",
        " None,\n",
        " None,\n",
        " None,\n",
        " None,\n",
        " None,\n",
        " None,\n",
        " None,\n",
        " None,\n",
        " None,\n",
        " None,\n",
        " None,\n",
        " None,\n",
        " None,\n",
        " None,\n",
        " None,\n",
        " None,\n",
        " None,\n",
        " None,\n",
        " None,\n",
        " None,\n",
        " None,\n",
        " None,\n",
        " None,\n",
        " None,\n",
        " None,\n",
        " None,\n",
        " None,\n",
        " None,\n",
        " None,\n",
        " None,\n",
        " None,\n",
        " None,\n",
        " None,\n",
        " None,\n",
        " None,\n",
        " None,\n",
        " None,\n",
        " None,\n",
        " None,\n",
        " None,\n",
        " None,\n",
        " None,\n",
        " None,\n",
        " None,\n",
        " None,\n",
        " None,\n",
        " None,\n",
        " None,\n",
        " None,\n",
        " None,\n",
        " None,\n",
        " None,\n",
        " None,\n",
        " None,\n",
        " None,\n",
        " None,\n",
        " None,\n",
        " None,\n",
        " None,\n",
        " None,\n",
        " None,\n",
        " None,\n",
        " None,\n",
        " None,\n",
        " None,\n",
        " None,\n",
        " None,\n",
        " None,\n",
        " None,\n",
        " None,\n",
        " None,\n",
        " None,\n",
        " None,\n",
        " None,\n",
        " None,\n",
        " None,\n",
        " None,\n",
        " None,\n",
        " None,\n",
        " None,\n",
        " None,\n",
        " None,\n",
        " None,\n",
        " None,\n",
        " None,\n",
        " None,\n",
        " None,\n",
        " None,\n",
        " None,\n",
        " None,\n",
        " None,\n",
        " None,\n",
        " None,\n",
        " None,\n",
        " None,\n",
        " None,\n",
        " None,\n",
        " None,\n",
        " None,\n",
        " None,\n",
        " None,\n",
        " None,\n",
        " None,\n",
        " None,\n",
        " None,\n",
        " None,\n",
        " None,\n",
        " None,\n",
        " None,\n",
        " None,\n",
        " None,\n",
        " None,\n",
        " None,\n",
        " None,\n",
        " None,\n",
        " None,\n",
        " None,\n",
        " None,\n",
        " None,\n",
        " None,\n",
        " None,\n",
        " None,\n",
        " None,\n",
        " None,\n",
        " None,\n",
        " None,\n",
        " None,\n",
        " None,\n",
        " None,\n",
        " None,\n",
        " None,\n",
        " None,\n",
        " None,\n",
        " None,\n",
        " None,\n",
        " None,\n",
        " None,\n",
        " None,\n",
        " None,\n",
        " None,\n",
        " None,\n",
        " None,\n",
        " None,\n",
        " None,\n",
        " None,\n",
        " None,\n",
        " None,\n",
        " None,\n",
        " None,\n",
        " None,\n",
        " None,\n",
        " None,\n",
        " None,\n",
        " None,\n",
        " None,\n",
        " None,\n",
        " None,\n",
        " None,\n",
        " None,\n",
        " None,\n",
        " None,\n",
        " None,\n",
        " None,\n",
        " None,\n",
        " None,\n",
        " None,\n",
        " None,\n",
        " None,\n",
        " None,\n",
        " None,\n",
        " None,\n",
        " None,\n",
        " None,\n",
        " None,\n",
        " None,\n",
        " None,\n",
        " None,\n",
        " None,\n",
        " None,\n",
        " None,\n",
        " None,\n",
        " None,\n",
        " None,\n",
        " None,\n",
        " None,\n",
        " None,\n",
        " None,\n",
        " None,\n",
        " None,\n",
        " None,\n",
        " None,\n",
        " None,\n",
        " None,\n",
        " None,\n",
        " None,\n",
        " None,\n",
        " None,\n",
        " None,\n",
        " None,\n",
        " None,\n",
        " None,\n",
        " None,\n",
        " None,\n",
        " None,\n",
        " None,\n",
        " None,\n",
        " None,\n",
        " None,\n",
        " None,\n",
        " None,\n",
        " None,\n",
        " None,\n",
        " None,\n",
        " None,\n",
        " None,\n",
        " None,\n",
        " None,\n",
        " None,\n",
        " None,\n",
        " None,\n",
        " None,\n",
        " None,\n",
        " None,\n",
        " None,\n",
        " None,\n",
        " None,\n",
        " None,\n",
        " None,\n",
        " None,\n",
        " None,\n",
        " None,\n",
        " None,\n",
        " None,\n",
        " None,\n",
        " None,\n",
        " None,\n",
        " None,\n",
        " None,\n",
        " None,\n",
        " None,\n",
        " None,\n",
        " None,\n",
        " None,\n",
        " None,\n",
        " None,\n",
        " None,\n",
        " None,\n",
        " None,\n",
        " None,\n",
        " None,\n",
        " None,\n",
        " None,\n",
        " None,\n",
        " None,\n",
        " None,\n",
        " None,\n",
        " None,\n",
        " None,\n",
        " None,\n",
        " None,\n",
        " None,\n",
        " None,\n",
        " None,\n",
        " None,\n",
        " None,\n",
        " None,\n",
        " None,\n",
        " None,\n",
        " None,\n",
        " None,\n",
        " None,\n",
        " None,\n",
        " None,\n",
        " None,\n",
        " None,\n",
        " None,\n",
        " None,\n",
        " None,\n",
        " None,\n",
        " None,\n",
        " None,\n",
        " None,\n",
        " None,\n",
        " None,\n",
        " None,\n",
        " None,\n",
        " None,\n",
        " None,\n",
        " None,\n",
        " None,\n",
        " None,\n",
        " None,\n",
        " None,\n",
        " None,\n",
        " None,\n",
        " None,\n",
        " None,\n",
        " None,\n",
        " None,\n",
        " None,\n",
        " None,\n",
        " None,\n",
        " None,\n",
        " None,\n",
        " None,\n",
        " None,\n",
        " None,\n",
        " None,\n",
        " None,\n",
        " None,\n",
        " None,\n",
        " None,\n",
        " None,\n",
        " None,\n",
        " None,\n",
        " None,\n",
        " None,\n",
        " None,\n",
        " None,\n",
        " None,\n",
        " None,\n",
        " None,\n",
        " None,\n",
        " None,\n",
        " None,\n",
        " None,\n",
        " None,\n",
        " None,\n",
        " None,\n",
        " None,\n",
        " None,\n",
        " None,\n",
        " None,\n",
        " None,\n",
        " None,\n",
        " None,\n",
        " None,\n",
        " None,\n",
        " None,\n",
        " None,\n",
        " None,\n",
        " None,\n",
        " None,\n",
        " None,\n",
        " None,\n",
        " None,\n",
        " None,\n",
        " None,\n",
        " None,\n",
        " None,\n",
        " None,\n",
        " None,\n",
        " None,\n",
        " None,\n",
        " None,\n",
        " None,\n",
        " None,\n",
        " None,\n",
        " None,\n",
        " None,\n",
        " None,\n",
        " None,\n",
        " None,\n",
        " None,\n",
        " None,\n",
        " None,\n",
        " None,\n",
        " None,\n",
        " None,\n",
        " None,\n",
        " None,\n",
        " None,\n",
        " None,\n",
        " None,\n",
        " None,\n",
        " None,\n",
        " None,\n",
        " None,\n",
        " None,\n",
        " None,\n",
        " None,\n",
        " None,\n",
        " None,\n",
        " None,\n",
        " None,\n",
        " None,\n",
        " None,\n",
        " None,\n",
        " None,\n",
        " None,\n",
        " None,\n",
        " None,\n",
        " None,\n",
        " None,\n",
        " None,\n",
        " None,\n",
        " None,\n",
        " None,\n",
        " None,\n",
        " None,\n",
        " None,\n",
        " None,\n",
        " None,\n",
        " None,\n",
        " None,\n",
        " None,\n",
        " None,\n",
        " None,\n",
        " None,\n",
        " None,\n",
        " None,\n",
        " None,\n",
        " None,\n",
        " None,\n",
        " None,\n",
        " None,\n",
        " None,\n",
        " None,\n",
        " None,\n",
        " None,\n",
        " None,\n",
        " None,\n",
        " None,\n",
        " None,\n",
        " None,\n",
        " None,\n",
        " None,\n",
        " None,\n",
        " None,\n",
        " None,\n",
        " None,\n",
        " None,\n",
        " None,\n",
        " None,\n",
        " None,\n",
        " None,\n",
        " None,\n",
        " None,\n",
        " None,\n",
        " None,\n",
        " None,\n",
        " None,\n",
        " None,\n",
        " None,\n",
        " None,\n",
        " None,\n",
        " None,\n",
        " None,\n",
        " None,\n",
        " None,\n",
        " None,\n",
        " None,\n",
        " None,\n",
        " None,\n",
        " None,\n",
        " None,\n",
        " None,\n",
        " None,\n",
        " None,\n",
        " None,\n",
        " None,\n",
        " None,\n",
        " None,\n",
        " None,\n",
        " None,\n",
        " None,\n",
        " None,\n",
        " None,\n",
        " None,\n",
        " None,\n",
        " None,\n",
        " None,\n",
        " None,\n",
        " None,\n",
        " None,\n",
        " None,\n",
        " None,\n",
        " None,\n",
        " None,\n",
        " None,\n",
        " None,\n",
        " None,\n",
        " None,\n",
        " None,\n",
        " None]"
       ]
      }
     ],
     "prompt_number": 157
    },
    {
     "cell_type": "code",
     "collapsed": false,
     "input": [
      "## Brian's clustering code\n",
      "from hartigan import HartiganOnline\n",
      "\n",
      "ho = HartiganOnline(n_clusters=50, max_iter=f_scaled.shape[0]*10, shuffle=True, spherical=False, verbose=True)\n",
      "ho.fit(f_scaled)\n"
     ],
     "language": "python",
     "metadata": {},
     "outputs": [
      {
       "ename": "KeyboardInterrupt",
       "evalue": "",
       "output_type": "pyerr",
       "traceback": [
        "\u001b[0;31m---------------------------------------------------------------------------\u001b[0m\n\u001b[0;31mKeyboardInterrupt\u001b[0m                         Traceback (most recent call last)",
        "\u001b[0;32m<ipython-input-93-9d92c32b6d58>\u001b[0m in \u001b[0;36m<module>\u001b[0;34m()\u001b[0m\n\u001b[1;32m      1\u001b[0m \u001b[0mho\u001b[0m \u001b[0;34m=\u001b[0m \u001b[0mHartiganOnline\u001b[0m\u001b[0;34m(\u001b[0m\u001b[0mn_clusters\u001b[0m\u001b[0;34m=\u001b[0m\u001b[0;36m50\u001b[0m\u001b[0;34m,\u001b[0m \u001b[0mmax_iter\u001b[0m\u001b[0;34m=\u001b[0m\u001b[0mf_scaled\u001b[0m\u001b[0;34m.\u001b[0m\u001b[0mshape\u001b[0m\u001b[0;34m[\u001b[0m\u001b[0;36m0\u001b[0m\u001b[0;34m]\u001b[0m\u001b[0;34m*\u001b[0m\u001b[0;36m10\u001b[0m\u001b[0;34m,\u001b[0m \u001b[0mshuffle\u001b[0m\u001b[0;34m=\u001b[0m\u001b[0mTrue\u001b[0m\u001b[0;34m,\u001b[0m \u001b[0mspherical\u001b[0m\u001b[0;34m=\u001b[0m\u001b[0mFalse\u001b[0m\u001b[0;34m,\u001b[0m \u001b[0mverbose\u001b[0m\u001b[0;34m=\u001b[0m\u001b[0mTrue\u001b[0m\u001b[0;34m)\u001b[0m\u001b[0;34m\u001b[0m\u001b[0m\n\u001b[0;32m----> 2\u001b[0;31m \u001b[0mho\u001b[0m\u001b[0;34m.\u001b[0m\u001b[0mfit\u001b[0m\u001b[0;34m(\u001b[0m\u001b[0mf_scaled\u001b[0m\u001b[0;34m)\u001b[0m\u001b[0;34m\u001b[0m\u001b[0m\n\u001b[0m",
        "\u001b[0;32m<ipython-input-59-751bc8df0c84>\u001b[0m in \u001b[0;36mfit\u001b[0;34m(self, X)\u001b[0m\n\u001b[1;32m     65\u001b[0m                 \u001b[0mnp\u001b[0m\u001b[0;34m.\u001b[0m\u001b[0mrandom\u001b[0m\u001b[0;34m.\u001b[0m\u001b[0mshuffle\u001b[0m\u001b[0;34m(\u001b[0m\u001b[0midx\u001b[0m\u001b[0;34m)\u001b[0m\u001b[0;34m\u001b[0m\u001b[0m\n\u001b[1;32m     66\u001b[0m \u001b[0;34m\u001b[0m\u001b[0m\n\u001b[0;32m---> 67\u001b[0;31m             \u001b[0mself\u001b[0m\u001b[0;34m.\u001b[0m\u001b[0mpartial_fit\u001b[0m\u001b[0;34m(\u001b[0m\u001b[0mX\u001b[0m\u001b[0;34m[\u001b[0m\u001b[0midx\u001b[0m\u001b[0;34m]\u001b[0m\u001b[0;34m)\u001b[0m\u001b[0;34m\u001b[0m\u001b[0m\n\u001b[0m\u001b[1;32m     68\u001b[0m \u001b[0;34m\u001b[0m\u001b[0m\n\u001b[1;32m     69\u001b[0m     \u001b[0;32mdef\u001b[0m \u001b[0mpartial_fit\u001b[0m\u001b[0;34m(\u001b[0m\u001b[0mself\u001b[0m\u001b[0;34m,\u001b[0m \u001b[0mX\u001b[0m\u001b[0;34m)\u001b[0m\u001b[0;34m:\u001b[0m\u001b[0;34m\u001b[0m\u001b[0m\n",
        "\u001b[0;32m<ipython-input-59-751bc8df0c84>\u001b[0m in \u001b[0;36mpartial_fit\u001b[0;34m(self, X)\u001b[0m\n\u001b[1;32m     83\u001b[0m \u001b[0;34m\u001b[0m\u001b[0m\n\u001b[1;32m     84\u001b[0m             \u001b[0;31m# Update the center\u001b[0m\u001b[0;34m\u001b[0m\u001b[0;34m\u001b[0m\u001b[0m\n\u001b[0;32m---> 85\u001b[0;31m             \u001b[0mself\u001b[0m\u001b[0;34m.\u001b[0m\u001b[0mcluster_centers_\u001b[0m\u001b[0;34m[\u001b[0m\u001b[0mj\u001b[0m\u001b[0;34m]\u001b[0m \u001b[0;34m=\u001b[0m \u001b[0;34m(\u001b[0m\u001b[0mself\u001b[0m\u001b[0;34m.\u001b[0m\u001b[0mcluster_sizes_\u001b[0m\u001b[0;34m[\u001b[0m\u001b[0mj\u001b[0m\u001b[0;34m]\u001b[0m \u001b[0;34m*\u001b[0m \u001b[0mself\u001b[0m\u001b[0;34m.\u001b[0m\u001b[0mcluster_centers_\u001b[0m\u001b[0;34m[\u001b[0m\u001b[0mj\u001b[0m\u001b[0;34m]\u001b[0m \u001b[0;34m+\u001b[0m \u001b[0mxi\u001b[0m\u001b[0;34m)\u001b[0m \u001b[0;34m/\u001b[0m \u001b[0;34m(\u001b[0m\u001b[0;36m1.0\u001b[0m \u001b[0;34m+\u001b[0m \u001b[0mself\u001b[0m\u001b[0;34m.\u001b[0m\u001b[0mcluster_sizes_\u001b[0m\u001b[0;34m[\u001b[0m\u001b[0mj\u001b[0m\u001b[0;34m]\u001b[0m\u001b[0;34m)\u001b[0m\u001b[0;34m\u001b[0m\u001b[0m\n\u001b[0m\u001b[1;32m     86\u001b[0m \u001b[0;34m\u001b[0m\u001b[0m\n\u001b[1;32m     87\u001b[0m             \u001b[0;31m# If we're doing spherical k-means, normalize after the update\u001b[0m\u001b[0;34m\u001b[0m\u001b[0;34m\u001b[0m\u001b[0m\n",
        "\u001b[0;31mKeyboardInterrupt\u001b[0m: "
       ]
      }
     ],
     "prompt_number": 93
    },
    {
     "cell_type": "code",
     "collapsed": false,
     "input": [],
     "language": "python",
     "metadata": {},
     "outputs": [
      {
       "metadata": {},
       "output_type": "pyout",
       "prompt_number": 94,
       "text": [
        "array([[-0.75842892, -0.55959615, -0.43072626, ..., -0.59515758,\n",
        "         1.61790251, -0.47442049],\n",
        "       [-0.76250731, -0.55827683, -0.42946923, ..., -0.59258511,\n",
        "         1.0315278 , -0.46344939],\n",
        "       [-0.763997  , -0.55482972, -0.42959146, ..., -0.57458548,\n",
        "         1.15475744, -0.46012131],\n",
        "       ..., \n",
        "       [ 0.73931294, -0.37795341, -0.27189309, ..., -0.87110408,\n",
        "        -0.51794361, -0.34781095],\n",
        "       [ 0.93528048, -0.39313643, -0.30984279, ..., -0.87905201,\n",
        "        -0.51695704, -0.32457475],\n",
        "       [ 0.89940039, -0.35855355, -0.27651215, ..., -0.88083454,\n",
        "        -0.51798862, -0.34516707]])"
       ]
      }
     ],
     "prompt_number": 94
    },
    {
     "cell_type": "code",
     "collapsed": false,
     "input": [],
     "language": "python",
     "metadata": {},
     "outputs": [],
     "prompt_number": 79
    },
    {
     "cell_type": "code",
     "collapsed": false,
     "input": [
      "plt.imshow(ho.cluster_centers_, interpolation=\"None\", aspect=\"auto\", cmap=\"RdBu\")\n",
      "plt.colorbar()"
     ],
     "language": "python",
     "metadata": {},
     "outputs": [
      {
       "metadata": {},
       "output_type": "pyout",
       "prompt_number": 89,
       "text": [
        "<matplotlib.colorbar.Colorbar instance at 0x14c68a758>"
       ]
      },
      {
       "metadata": {},
       "output_type": "display_data",
       "png": "[encoded data removed]",
       "text": [
        "<matplotlib.figure.Figure at 0x14be23310>"
       ]
      }
     ],
     "prompt_number": 89
    },
    {
     "cell_type": "code",
     "collapsed": false,
     "input": [],
     "language": "python",
     "metadata": {},
     "outputs": [
      {
       "metadata": {},
       "output_type": "pyout",
       "prompt_number": 77,
       "text": [
        "'0.4.0'"
       ]
      }
     ],
     "prompt_number": 77
    },
    {
     "cell_type": "code",
     "collapsed": false,
     "input": [],
     "language": "python",
     "metadata": {},
     "outputs": []
    },
    {
     "cell_type": "code",
     "collapsed": false,
     "input": [],
     "language": "python",
     "metadata": {},
     "outputs": [],
     "prompt_number": 61
    },
    {
     "cell_type": "code",
     "collapsed": false,
     "input": [
      "import librosa\n",
      "#import powerspectrum\n",
      "import glob"
     ],
     "language": "python",
     "metadata": {},
     "outputs": [],
     "prompt_number": 3
    },
    {
     "cell_type": "code",
     "collapsed": false,
     "input": [
      "files = glob.glob(\"*lc.txt\")\n",
      "d = np.loadtxt(files[0])"
     ],
     "language": "python",
     "metadata": {},
     "outputs": [],
     "prompt_number": 4
    },
    {
     "cell_type": "markdown",
     "metadata": {},
     "source": [
      "Make plots of spectrograms for all light curves. Plot standard Leahy-normalised power spectrum, and librosa generated spectrogram (dynamic power spectrum).\n",
      "\n",
      "**Dumb Assumptions:** \n",
      "- number of time bins per fft: 128 (= 16s long light curve)\n",
      "- time difference between segment starting points: 4 (=0.5s)"
     ]
    },
    {
     "cell_type": "code",
     "collapsed": false,
     "input": [
      "n_fft = 128\n",
      "hop_length = 4"
     ],
     "language": "python",
     "metadata": {},
     "outputs": [],
     "prompt_number": 5
    },
    {
     "cell_type": "code",
     "collapsed": false,
     "input": [
      "def spec_analysis(d, sr, froot=\"test\", plot=True, n_fft=128, hop_length=4):\n",
      "    #ps = powerspectrum.PowerSpectrum(d[:,0], counts=d[:,1], norm=\"leahy\")\n",
      "    #plt.loglog(ps.freq[1:], ps.ps[1:], lw=2, color=\"black\", linestyle='steps-mid')\n",
      "    #plt.xlabel(\"Frequency [Hz]\")\n",
      "    #plt.ylabel(\"Leahy Power\")\n",
      "    #plt.savefig(froot + \"_ps.pdf\", format=\"pdf\")\n",
      "    #plt.close()\n",
      "    D = librosa.core.stft(d[:,1], n_fft=n_fft, center=True, hop_length=hop_length) \n",
      "    if plot:\n",
      "        librosa.display.cmap(np.arange(-10, 10)) \n",
      "        #librosa.display.specshow(librosa.logamplitude(D[1:]**2., ref_power=np.max), sr=sr, x_axis='time', y_axis=\"linear\") \n",
      "        librosa.display.specshow(librosa.logamplitude(D[1:]), sr=sr, x_axis='time', y_axis=\"log\", cmap='PuOr_r')\n",
      "        plt.savefig(froot + \"spec.pdf\", format=\"pdf\")\n",
      "        plt.close()\n",
      "    return D"
     ],
     "language": "python",
     "metadata": {},
     "outputs": [],
     "prompt_number": 6
    },
    {
     "cell_type": "code",
     "collapsed": false,
     "input": [
      "plot = False\n",
      "d_all = []\n",
      "for f in files[:100]:\n",
      "    d = np.loadtxt(f)\n",
      "    froot = f.split(\"_\")[0]\n",
      "    y = d[:,1]\n",
      "    dt = d[1:,0] - d[:-1,0]\n",
      "    sr = 8.\n",
      "    breaks = np.where(dt > 0.125)[0]\n",
      "    if len(breaks) == 0:\n",
      "        D = spec_analysis(d, sr, froot=froot, plot=plot, n_fft=n_fft, hop_length=hop_length)\n",
      "        d_all.append(D)\n",
      "    else:\n",
      "        for i,b in enumerate(breaks):\n",
      "            print(\"Break in light curve at time bin %i; length of break dt = %.3f\"%(b, dt[b]))\n",
      "            if i == 0:\n",
      "                dtemp = d[:b]\n",
      "            else:\n",
      "                dtemp = d[breaks[i-1]:b]\n",
      "            D = spec_analysis(dtemp, sr, froot=froot +str(i), plot=plot, \\\n",
      "                              n_fft=n_fft, hop_length=hop_length)\n",
      "            d_all.append(D)"
     ],
     "language": "python",
     "metadata": {},
     "outputs": [
      {
       "output_type": "stream",
       "stream": "stdout",
       "text": [
        "Break in light curve at time bin 5696; length of break dt = 16.000\n",
        "Break in light curve at time bin 20352; length of break dt = 2796.125"
       ]
      },
      {
       "output_type": "stream",
       "stream": "stdout",
       "text": [
        "\n",
        "Break in light curve at time bin 46817; length of break dt = 2452.000"
       ]
      },
      {
       "output_type": "stream",
       "stream": "stdout",
       "text": [
        "\n",
        "Break in light curve at time bin 47810; length of break dt = 16.000"
       ]
      },
      {
       "output_type": "stream",
       "stream": "stdout",
       "text": [
        "\n",
        "Break in light curve at time bin 11584; length of break dt = 16.000"
       ]
      },
      {
       "output_type": "stream",
       "stream": "stdout",
       "text": [
        "\n",
        "Break in light curve at time bin 26049; length of break dt = 2453.000\n",
        "Break in light curve at time bin 52506; length of break dt = 2469.000"
       ]
      },
      {
       "output_type": "stream",
       "stream": "stdout",
       "text": [
        "\n",
        "Break in light curve at time bin 52851; length of break dt = 16.000"
       ]
      },
      {
       "output_type": "stream",
       "stream": "stdout",
       "text": [
        "\n",
        "Break in light curve at time bin 71156; length of break dt = 16.000\n",
        "Break in light curve at time bin 19391; length of break dt = 3320.125"
       ]
      },
      {
       "output_type": "stream",
       "stream": "stdout",
       "text": [
        "\n",
        "Break in light curve at time bin 42304; length of break dt = 2896.000\n",
        "Break in light curve at time bin 1384; length of break dt = 16.000"
       ]
      },
      {
       "output_type": "stream",
       "stream": "stdout",
       "text": [
        "\n",
        "Break in light curve at time bin 15977; length of break dt = 16.000\n",
        "Break in light curve at time bin 26858; length of break dt = 2371.000\n",
        "Break in light curve at time bin 31699; length of break dt = 16.000"
       ]
      },
      {
       "output_type": "stream",
       "stream": "stdout",
       "text": [
        "\n",
        "Break in light curve at time bin 53972; length of break dt = 2896.000\n",
        "Break in light curve at time bin 57813; length of break dt = 16.000"
       ]
      },
      {
       "output_type": "stream",
       "stream": "stdout",
       "text": [
        "\n",
        "Break in light curve at time bin 17088; length of break dt = 16.000"
       ]
      },
      {
       "output_type": "stream",
       "stream": "stdout",
       "text": [
        "\n",
        "Break in light curve at time bin 20888; length of break dt = 2405.125\n",
        "Break in light curve at time bin 47856; length of break dt = 2405.125"
       ]
      },
      {
       "output_type": "stream",
       "stream": "stdout",
       "text": [
        "\n",
        "Break in light curve at time bin 69936; length of break dt = 136.125"
       ]
      },
      {
       "output_type": "stream",
       "stream": "stdout",
       "text": [
        "\n",
        "Break in light curve at time bin 6071; length of break dt = 2865.125"
       ]
      },
      {
       "output_type": "stream",
       "stream": "stdout",
       "text": [
        "\n",
        "Break in light curve at time bin 29231; length of break dt = 3049.125\n",
        "Break in light curve at time bin 2496; length of break dt = 16.000"
       ]
      },
      {
       "output_type": "stream",
       "stream": "stdout",
       "text": [
        "\n",
        "Break in light curve at time bin 18113; length of break dt = 2453.000\n",
        "Break in light curve at time bin 25498; length of break dt = 16.000\n",
        "Break in light curve at time bin 39707; length of break dt = 16.000"
       ]
      },
      {
       "output_type": "stream",
       "stream": "stdout",
       "text": [
        "\n",
        "Break in light curve at time bin 44251; length of break dt = 2544.125\n",
        "Break in light curve at time bin 61084; length of break dt = 16.000\n",
        "Break in light curve at time bin 5935; length of break dt = 128.125"
       ]
      },
      {
       "output_type": "stream",
       "stream": "stdout",
       "text": [
        "\n",
        "Break in light curve at time bin 20271; length of break dt = 3098.125\n",
        "Break in light curve at time bin 45151; length of break dt = 2650.125\n",
        "Break in light curve at time bin 11199; length of break dt = 2856.125"
       ]
      },
      {
       "output_type": "stream",
       "stream": "stdout",
       "text": [
        "\n",
        "Break in light curve at time bin 36991; length of break dt = 2536.125\n",
        "Break in light curve at time bin 37632; length of break dt = 16.000"
       ]
      },
      {
       "output_type": "stream",
       "stream": "stdout",
       "text": [
        "\n",
        "Break in light curve at time bin 60480; length of break dt = 128.125\n",
        "Break in light curve at time bin 62152; length of break dt = 2471.125"
       ]
      },
      {
       "output_type": "stream",
       "stream": "stdout",
       "text": [
        "\n",
        "Break in light curve at time bin 15296; length of break dt = 16.000"
       ]
      },
      {
       "output_type": "stream",
       "stream": "stdout",
       "text": [
        "\n",
        "Break in light curve at time bin 26304; length of break dt = 2456.125\n",
        "Break in light curve at time bin 33472; length of break dt = 1224.125\n",
        "Break in light curve at time bin 4151; length of break dt = 1.125"
       ]
      },
      {
       "output_type": "stream",
       "stream": "stdout",
       "text": [
        "\n",
        "Break in light curve at time bin 14127; length of break dt = 1.125\n",
        "Break in light curve at time bin 22527; length of break dt = 2904.125"
       ]
      },
      {
       "output_type": "stream",
       "stream": "stdout",
       "text": [
        "\n",
        "Break in light curve at time bin 30976; length of break dt = 16.000"
       ]
      },
      {
       "output_type": "stream",
       "stream": "stdout",
       "text": [
        "\n",
        "Break in light curve at time bin 45185; length of break dt = 16.000\n",
        "Break in light curve at time bin 48449; length of break dt = 2488.125"
       ]
      },
      {
       "output_type": "stream",
       "stream": "stdout",
       "text": [
        "\n",
        "Break in light curve at time bin 75017; length of break dt = 2439.125\n",
        "Break in light curve at time bin 23424; length of break dt = 2434.000"
       ]
      },
      {
       "output_type": "stream",
       "stream": "stdout",
       "text": [
        "\n",
        "Break in light curve at time bin 27633; length of break dt = 16.000"
       ]
      },
      {
       "output_type": "stream",
       "stream": "stdout",
       "text": [
        "\n",
        "Break in light curve at time bin 13311; length of break dt = 3496.125"
       ]
      },
      {
       "output_type": "stream",
       "stream": "stdout",
       "text": [
        "\n",
        "Break in light curve at time bin 15616; length of break dt = 32.000\n",
        "Break in light curve at time bin 19585; length of break dt = 32.000"
       ]
      },
      {
       "output_type": "stream",
       "stream": "stdout",
       "text": [
        "\n",
        "Break in light curve at time bin 34369; length of break dt = 3064.125\n",
        "Break in light curve at time bin 1984; length of break dt = 3256.000"
       ]
      },
      {
       "output_type": "stream",
       "stream": "stdout",
       "text": [
        "\n",
        "Break in light curve at time bin 11263; length of break dt = 4303.125"
       ]
      },
      {
       "output_type": "stream",
       "stream": "stdout",
       "text": [
        "\n",
        "Break in light curve at time bin 11976; length of break dt = 16.000\n",
        "Break in light curve at time bin 26760; length of break dt = 3807.125\n",
        "Break in light curve at time bin 44688; length of break dt = 3519.125"
       ]
      },
      {
       "output_type": "stream",
       "stream": "stdout",
       "text": [
        "\n",
        "Break in light curve at time bin 27128; length of break dt = 2369.000"
       ]
      },
      {
       "output_type": "stream",
       "stream": "stdout",
       "text": [
        "\n",
        "Break in light curve at time bin 34289; length of break dt = 16.000"
       ]
      },
      {
       "output_type": "stream",
       "stream": "stdout",
       "text": [
        "\n",
        "Break in light curve at time bin 54258; length of break dt = 3440.000\n",
        "Break in light curve at time bin 55795; length of break dt = 16.000"
       ]
      },
      {
       "output_type": "stream",
       "stream": "stdout",
       "text": [
        "\n",
        "Break in light curve at time bin 21056; length of break dt = 16.000"
       ]
      },
      {
       "output_type": "stream",
       "stream": "stdout",
       "text": [
        "\n",
        "Break in light curve at time bin 26177; length of break dt = 2390.000"
       ]
      },
      {
       "output_type": "stream",
       "stream": "stdout",
       "text": [
        "\n",
        "Break in light curve at time bin 34001; length of break dt = 128.125\n",
        "Break in light curve at time bin 49361; length of break dt = 128.125\n",
        "Break in light curve at time bin 51090; length of break dt = 2406.000"
       ]
      },
      {
       "output_type": "stream",
       "stream": "stdout",
       "text": [
        "\n",
        "Break in light curve at time bin 25152; length of break dt = 16.000"
       ]
      },
      {
       "output_type": "stream",
       "stream": "stdout",
       "text": [
        "\n",
        "Break in light curve at time bin 25537; length of break dt = 2452.000"
       ]
      },
      {
       "output_type": "stream",
       "stream": "stdout",
       "text": [
        "\n",
        "Break in light curve at time bin 38434; length of break dt = 16.000\n",
        "Break in light curve at time bin 51875; length of break dt = 2712.000\n",
        "Break in light curve at time bin 5119; length of break dt = 128.125"
       ]
      },
      {
       "output_type": "stream",
       "stream": "stdout",
       "text": [
        "\n",
        "Break in light curve at time bin 19455; length of break dt = 3198.125\n",
        "Break in light curve at time bin 31759; length of break dt = 128.125"
       ]
      },
      {
       "output_type": "stream",
       "stream": "stdout",
       "text": [
        "\n",
        "Break in light curve at time bin 207; length of break dt = 1.125"
       ]
      },
      {
       "output_type": "stream",
       "stream": "stdout",
       "text": [
        "\n",
        "Break in light curve at time bin 26576; length of break dt = 2488.000\n",
        "Break in light curve at time bin 31121; length of break dt = 16.000"
       ]
      },
      {
       "output_type": "stream",
       "stream": "stdout",
       "text": [
        "\n",
        "Break in light curve at time bin 49042; length of break dt = 16.000\n",
        "Break in light curve at time bin 9215; length of break dt = 3576.125"
       ]
      },
      {
       "output_type": "stream",
       "stream": "stdout",
       "text": [
        "\n",
        "Break in light curve at time bin 20352; length of break dt = 16.000\n",
        "Break in light curve at time bin 30400; length of break dt = 3112.125"
       ]
      },
      {
       "output_type": "stream",
       "stream": "stdout",
       "text": [
        "\n",
        "Break in light curve at time bin 55040; length of break dt = 2680.125\n",
        "Break in light curve at time bin 8191; length of break dt = 3450.125"
       ]
      },
      {
       "output_type": "stream",
       "stream": "stdout",
       "text": [
        "\n",
        "Break in light curve at time bin 29424; length of break dt = 16.000\n",
        "Break in light curve at time bin 29872; length of break dt = 3034.125"
       ]
      },
      {
       "output_type": "stream",
       "stream": "stdout",
       "text": [
        "\n",
        "Break in light curve at time bin 55776; length of break dt = 2522.125\n",
        "Break in light curve at time bin 82257; length of break dt = 2450.000"
       ]
      },
      {
       "output_type": "stream",
       "stream": "stdout",
       "text": [
        "\n",
        "Break in light curve at time bin 16383; length of break dt = 3705.125"
       ]
      },
      {
       "output_type": "stream",
       "stream": "stdout",
       "text": [
        "\n",
        "Break in light curve at time bin 36279; length of break dt = 3273.125\n",
        "Break in light curve at time bin 46384; length of break dt = 16.000"
       ]
      },
      {
       "output_type": "stream",
       "stream": "stdout",
       "text": [
        "\n",
        "Break in light curve at time bin 58992; length of break dt = 2905.125\n",
        "Break in light curve at time bin 9215; length of break dt = 584.125"
       ]
      },
      {
       "output_type": "stream",
       "stream": "stdout",
       "text": [
        "\n",
        "Break in light curve at time bin 1472; length of break dt = 16.000"
       ]
      },
      {
       "output_type": "stream",
       "stream": "stdout",
       "text": [
        "\n",
        "Break in light curve at time bin 5568; length of break dt = 16.000"
       ]
      },
      {
       "output_type": "stream",
       "stream": "stdout",
       "text": [
        "\n",
        "Break in light curve at time bin 9032; length of break dt = 16.000"
       ]
      },
      {
       "output_type": "stream",
       "stream": "stdout",
       "text": [
        "\n",
        "Break in light curve at time bin 12224; length of break dt = 16.000"
       ]
      },
      {
       "output_type": "stream",
       "stream": "stdout",
       "text": [
        "\n",
        "Break in light curve at time bin 1608; length of break dt = 16.000"
       ]
      },
      {
       "output_type": "stream",
       "stream": "stdout",
       "text": [
        "\n",
        "Break in light curve at time bin 2120; length of break dt = 16.000"
       ]
      },
      {
       "output_type": "stream",
       "stream": "stdout",
       "text": [
        "\n",
        "Break in light curve at time bin 17225; length of break dt = 16.000\n",
        "Break in light curve at time bin 9168; length of break dt = 16.000"
       ]
      },
      {
       "output_type": "stream",
       "stream": "stdout",
       "text": [
        "\n",
        "Break in light curve at time bin 1344; length of break dt = 16.000"
       ]
      },
      {
       "output_type": "stream",
       "stream": "stdout",
       "text": [
        "\n",
        "Break in light curve at time bin 5864; length of break dt = 16.000"
       ]
      },
      {
       "output_type": "stream",
       "stream": "stdout",
       "text": [
        "\n",
        "Break in light curve at time bin 2367; length of break dt = 2208.125"
       ]
      },
      {
       "output_type": "stream",
       "stream": "stdout",
       "text": [
        "\n",
        "Break in light curve at time bin 9471; length of break dt = 2384.125\n",
        "Break in light curve at time bin 11263; length of break dt = 1720.125"
       ]
      },
      {
       "output_type": "stream",
       "stream": "stdout",
       "text": [
        "\n",
        "Break in light curve at time bin 13159; length of break dt = 2387.125\n",
        "Break in light curve at time bin 1408; length of break dt = 16.000"
       ]
      },
      {
       "output_type": "stream",
       "stream": "stdout",
       "text": [
        "\n",
        "Break in light curve at time bin 24577; length of break dt = 16.000\n",
        "Break in light curve at time bin 18112; length of break dt = 16.000"
       ]
      },
      {
       "output_type": "stream",
       "stream": "stdout",
       "text": [
        "\n",
        "Break in light curve at time bin 14976; length of break dt = 16.000"
       ]
      },
      {
       "output_type": "stream",
       "stream": "stdout",
       "text": [
        "\n",
        "Break in light curve at time bin 175; length of break dt = 2.125"
       ]
      },
      {
       "output_type": "stream",
       "stream": "stdout",
       "text": [
        "\n",
        "Break in light curve at time bin 3888; length of break dt = 16.000\n",
        "Break in light curve at time bin 8576; length of break dt = 16.000"
       ]
      },
      {
       "output_type": "stream",
       "stream": "stdout",
       "text": [
        "\n",
        "Break in light curve at time bin 11344; length of break dt = 2454.125\n",
        "Break in light curve at time bin 55; length of break dt = 1.125"
       ]
      },
      {
       "output_type": "stream",
       "stream": "stdout",
       "text": [
        "\n",
        "Break in light curve at time bin 4087; length of break dt = 896.125\n",
        "Break in light curve at time bin 16375; length of break dt = 128.125\n",
        "Break in light curve at time bin 55; length of break dt = 1.125"
       ]
      },
      {
       "output_type": "stream",
       "stream": "stdout",
       "text": [
        "\n",
        "Break in light curve at time bin 55; length of break dt = 1.125"
       ]
      },
      {
       "output_type": "stream",
       "stream": "stdout",
       "text": [
        "\n",
        "Break in light curve at time bin 19384; length of break dt = 16.000\n",
        "Break in light curve at time bin 26297; length of break dt = 2452.000\n",
        "Break in light curve at time bin 24575; length of break dt = 2665.125"
       ]
      },
      {
       "output_type": "stream",
       "stream": "stdout",
       "text": [
        "\n",
        "Break in light curve at time bin 51064; length of break dt = 2504.000"
       ]
      },
      {
       "output_type": "stream",
       "stream": "stdout",
       "text": [
        "\n",
        "Break in light curve at time bin 52088; length of break dt = 128.125"
       ]
      },
      {
       "output_type": "stream",
       "stream": "stdout",
       "text": [
        "\n",
        "Break in light curve at time bin 18999; length of break dt = 2449.125"
       ]
      },
      {
       "output_type": "stream",
       "stream": "stdout",
       "text": [
        "\n",
        "Break in light curve at time bin 32952; length of break dt = 16.000\n",
        "Break in light curve at time bin 45360; length of break dt = 2449.125"
       ]
      },
      {
       "output_type": "stream",
       "stream": "stdout",
       "text": [
        "\n",
        "Break in light curve at time bin 62385; length of break dt = 16.000\n",
        "Break in light curve at time bin 68081; length of break dt = 2904.125"
       ]
      },
      {
       "output_type": "stream",
       "stream": "stdout",
       "text": [
        "\n",
        "Break in light curve at time bin 26375; length of break dt = 2463.125"
       ]
      },
      {
       "output_type": "stream",
       "stream": "stdout",
       "text": [
        "\n",
        "Break in light curve at time bin 26576; length of break dt = 16.000"
       ]
      },
      {
       "output_type": "stream",
       "stream": "stdout",
       "text": [
        "\n",
        "Break in light curve at time bin 41809; length of break dt = 16.000\n",
        "Break in light curve at time bin 52562; length of break dt = 2455.000\n",
        "Break in light curve at time bin 56091; length of break dt = 16.000"
       ]
      },
      {
       "output_type": "stream",
       "stream": "stdout",
       "text": [
        "\n",
        "Break in light curve at time bin 15552; length of break dt = 16.000"
       ]
      },
      {
       "output_type": "stream",
       "stream": "stdout",
       "text": [
        "\n",
        "Break in light curve at time bin 18456; length of break dt = 2469.125"
       ]
      },
      {
       "output_type": "stream",
       "stream": "stdout",
       "text": [
        "\n",
        "Break in light curve at time bin 22937; length of break dt = 16.000\n",
        "Break in light curve at time bin 44657; length of break dt = 2469.125\n",
        "Break in light curve at time bin 52210; length of break dt = 16.000"
       ]
      },
      {
       "output_type": "stream",
       "stream": "stdout",
       "text": [
        "\n",
        "Break in light curve at time bin 2919; length of break dt = 2435.125"
       ]
      },
      {
       "output_type": "stream",
       "stream": "stdout",
       "text": [
        "\n",
        "Break in light curve at time bin 29519; length of break dt = 2435.125\n",
        "Break in light curve at time bin 35920; length of break dt = 16.000"
       ]
      },
      {
       "output_type": "stream",
       "stream": "stdout",
       "text": [
        "\n",
        "Break in light curve at time bin 55992; length of break dt = 2435.125\n",
        "Break in light curve at time bin 65849; length of break dt = 16.000\n",
        "Break in light curve at time bin 8512; length of break dt = 16.000"
       ]
      },
      {
       "output_type": "stream",
       "stream": "stdout",
       "text": [
        "\n",
        "Break in light curve at time bin 22400; length of break dt = 2907.125\n",
        "Break in light curve at time bin 49320; length of break dt = 2411.125\n",
        "Break in light curve at time bin 21952; length of break dt = 16.000"
       ]
      },
      {
       "output_type": "stream",
       "stream": "stdout",
       "text": [
        "\n",
        "Break in light curve at time bin 26256; length of break dt = 2374.125\n",
        "Break in light curve at time bin 52241; length of break dt = 16.000"
       ]
      },
      {
       "output_type": "stream",
       "stream": "stdout",
       "text": [
        "\n",
        "Break in light curve at time bin 53217; length of break dt = 2390.125"
       ]
      },
      {
       "output_type": "stream",
       "stream": "stdout",
       "text": [
        "\n",
        "Break in light curve at time bin 17984; length of break dt = 2435.000"
       ]
      },
      {
       "output_type": "stream",
       "stream": "stdout",
       "text": [
        "\n",
        "Break in light curve at time bin 21801; length of break dt = 16.000"
       ]
      },
      {
       "output_type": "stream",
       "stream": "stdout",
       "text": [
        "\n",
        "Break in light curve at time bin 38186; length of break dt = 16.000\n",
        "Break in light curve at time bin 44331; length of break dt = 2435.000\n",
        "Break in light curve at time bin 67732; length of break dt = 16.000"
       ]
      },
      {
       "output_type": "stream",
       "stream": "stdout",
       "text": [
        "\n",
        "Break in light curve at time bin 20288; length of break dt = 16.000"
       ]
      },
      {
       "output_type": "stream",
       "stream": "stdout",
       "text": [
        "\n",
        "Break in light curve at time bin 22337; length of break dt = 2450.000"
       ]
      },
      {
       "output_type": "stream",
       "stream": "stdout",
       "text": [
        "\n",
        "Break in light curve at time bin 30130; length of break dt = 16.000\n",
        "Break in light curve at time bin 44339; length of break dt = 16.000\n",
        "Break in light curve at time bin 48564; length of break dt = 2488.000"
       ]
      },
      {
       "output_type": "stream",
       "stream": "stdout",
       "text": [
        "\n",
        "Break in light curve at time bin 6464; length of break dt = 3319.000"
       ]
      },
      {
       "output_type": "stream",
       "stream": "stdout",
       "text": [
        "\n",
        "Break in light curve at time bin 16456; length of break dt = 128.125\n",
        "Break in light curve at time bin 25097; length of break dt = 2439.000"
       ]
      },
      {
       "output_type": "stream",
       "stream": "stdout",
       "text": [
        "\n",
        "Break in light curve at time bin 26641; length of break dt = 671.125\n",
        "Break in light curve at time bin 46298; length of break dt = 2439.000\n",
        "Break in light curve at time bin 53027; length of break dt = 16.000"
       ]
      },
      {
       "output_type": "stream",
       "stream": "stdout",
       "text": [
        "\n",
        "Break in light curve at time bin 9920; length of break dt = 2450.000"
       ]
      },
      {
       "output_type": "stream",
       "stream": "stdout",
       "text": [
        "\n",
        "Break in light curve at time bin 12721; length of break dt = 16.000\n",
        "Break in light curve at time bin 36274; length of break dt = 2466.000\n",
        "Break in light curve at time bin 56995; length of break dt = 16.000"
       ]
      },
      {
       "output_type": "stream",
       "stream": "stdout",
       "text": [
        "\n",
        "Break in light curve at time bin 19455; length of break dt = 2832.125"
       ]
      },
      {
       "output_type": "stream",
       "stream": "stdout",
       "text": [
        "\n",
        "Break in light curve at time bin 45823; length of break dt = 2464.125\n",
        "Break in light curve at time bin 47040; length of break dt = 16.000"
       ]
      },
      {
       "output_type": "stream",
       "stream": "stdout",
       "text": [
        "\n",
        "Break in light curve at time bin 9215; length of break dt = 4216.125"
       ]
      },
      {
       "output_type": "stream",
       "stream": "stdout",
       "text": [
        "\n",
        "Break in light curve at time bin 24895; length of break dt = 3800.125\n",
        "Break in light curve at time bin 40384; length of break dt = 16.000"
       ]
      },
      {
       "output_type": "stream",
       "stream": "stdout",
       "text": [
        "\n",
        "Break in light curve at time bin 4159; length of break dt = 2384.125"
       ]
      },
      {
       "output_type": "stream",
       "stream": "stdout",
       "text": [
        "\n",
        "Break in light curve at time bin 7232; length of break dt = 16.000\n",
        "Break in light curve at time bin 23296; length of break dt = 128.125\n",
        "Break in light curve at time bin 30016; length of break dt = 2384.125\n",
        "Break in light curve at time bin 1023; length of break dt = 512.125"
       ]
      },
      {
       "output_type": "stream",
       "stream": "stdout",
       "text": [
        "\n",
        "Break in light curve at time bin 1088; length of break dt = 2372.000\n",
        "Break in light curve at time bin 11744; length of break dt = 128.125\n",
        "Break in light curve at time bin 27169; length of break dt = 2372.000\n",
        "Break in light curve at time bin 54402; length of break dt = 2372.000"
       ]
      },
      {
       "output_type": "stream",
       "stream": "stdout",
       "text": [
        "\n",
        "Break in light curve at time bin 57955; length of break dt = 16.000"
       ]
      },
      {
       "output_type": "stream",
       "stream": "stdout",
       "text": [
        "\n",
        "Break in light curve at time bin 22464; length of break dt = 3304.000"
       ]
      },
      {
       "output_type": "stream",
       "stream": "stdout",
       "text": [
        "\n",
        "Break in light curve at time bin 42113; length of break dt = 3720.000\n",
        "Break in light curve at time bin 1536; length of break dt = 16.000"
       ]
      },
      {
       "output_type": "stream",
       "stream": "stdout",
       "text": [
        "\n",
        "Break in light curve at time bin 14456; length of break dt = 4153.125\n",
        "Break in light curve at time bin 27312; length of break dt = 2417.125\n",
        "Break in light curve at time bin 27888; length of break dt = 2024.125\n",
        "Break in light curve at time bin 31857; length of break dt = 16.000\n",
        "Break in light curve at time bin 37737; length of break dt = 2433.125"
       ]
      },
      {
       "output_type": "stream",
       "stream": "stdout",
       "text": [
        "\n",
        "Break in light curve at time bin 41001; length of break dt = 1728.125\n",
        "Break in light curve at time bin 47594; length of break dt = 16.000\n",
        "Break in light curve at time bin 50402; length of break dt = 2433.125\n",
        "Break in light curve at time bin 57187; length of break dt = 1528.000\n",
        "Break in light curve at time bin 60964; length of break dt = 16.000\n",
        "Break in light curve at time bin 22464; length of break dt = 16.000"
       ]
      },
      {
       "output_type": "stream",
       "stream": "stdout",
       "text": [
        "\n",
        "Break in light curve at time bin 25793; length of break dt = 2450.000"
       ]
      },
      {
       "output_type": "stream",
       "stream": "stdout",
       "text": [
        "\n",
        "Break in light curve at time bin 35890; length of break dt = 16.000\n",
        "Break in light curve at time bin 1344; length of break dt = 16.000"
       ]
      },
      {
       "output_type": "stream",
       "stream": "stdout",
       "text": [
        "\n",
        "Break in light curve at time bin 15937; length of break dt = 16.000\n",
        "Break in light curve at time bin 18370; length of break dt = 3488.000\n",
        "Break in light curve at time bin 22595; length of break dt = 16.000\n",
        "Break in light curve at time bin 36420; length of break dt = 3784.000"
       ]
      },
      {
       "output_type": "stream",
       "stream": "stdout",
       "text": [
        "\n",
        "Break in light curve at time bin 41477; length of break dt = 16.000\n",
        "Break in light curve at time bin 52102; length of break dt = 4024.000\n",
        "Break in light curve at time bin 54087; length of break dt = 16.000"
       ]
      },
      {
       "output_type": "stream",
       "stream": "stdout",
       "text": [
        "\n",
        "Break in light curve at time bin 65864; length of break dt = 2452.000\n",
        "Break in light curve at time bin 439; length of break dt = 1.125"
       ]
      },
      {
       "output_type": "stream",
       "stream": "stdout",
       "text": [
        "\n",
        "Break in light curve at time bin 3512; length of break dt = 16.000\n",
        "Break in light curve at time bin 17977; length of break dt = 16.000\n",
        "Break in light curve at time bin 20026; length of break dt = 3592.000"
       ]
      },
      {
       "output_type": "stream",
       "stream": "stdout",
       "text": [
        "\n",
        "Break in light curve at time bin 37371; length of break dt = 3648.000\n",
        "Break in light curve at time bin 43900; length of break dt = 16.000"
       ]
      },
      {
       "output_type": "stream",
       "stream": "stdout",
       "text": [
        "\n",
        "Break in light curve at time bin 54141; length of break dt = 3832.000\n",
        "Break in light curve at time bin 58174; length of break dt = 16.000"
       ]
      },
      {
       "output_type": "stream",
       "stream": "stdout",
       "text": [
        "\n",
        "Break in light curve at time bin 3944; length of break dt = 16.000"
       ]
      },
      {
       "output_type": "stream",
       "stream": "stdout",
       "text": [
        "\n",
        "Break in light curve at time bin 20016; length of break dt = 3327.125\n",
        "Break in light curve at time bin 39480; length of break dt = 3391.125\n",
        "Break in light curve at time bin 48505; length of break dt = 16.000"
       ]
      },
      {
       "output_type": "stream",
       "stream": "stdout",
       "text": [
        "\n",
        "Break in light curve at time bin 58305; length of break dt = 3391.125\n",
        "Break in light curve at time bin 17407; length of break dt = 3496.125"
       ]
      },
      {
       "output_type": "stream",
       "stream": "stdout",
       "text": [
        "\n",
        "Break in light curve at time bin 17472; length of break dt = 16.000"
       ]
      },
      {
       "output_type": "stream",
       "stream": "stdout",
       "text": [
        "\n",
        "Break in light curve at time bin 26376; length of break dt = 2375.125"
       ]
      },
      {
       "output_type": "stream",
       "stream": "stdout",
       "text": [
        "\n",
        "Break in light curve at time bin 43017; length of break dt = 16.000\n",
        "Break in light curve at time bin 815; length of break dt = 2370.125"
       ]
      },
      {
       "output_type": "stream",
       "stream": "stdout",
       "text": [
        "\n",
        "Break in light curve at time bin 5040; length of break dt = 16.000\n",
        "Break in light curve at time bin 19824; length of break dt = 896.125\n",
        "Break in light curve at time bin 20640; length of break dt = 2370.125"
       ]
      },
      {
       "output_type": "stream",
       "stream": "stdout",
       "text": [
        "\n",
        "Break in light curve at time bin 42848; length of break dt = 336.125\n",
        "Break in light curve at time bin 45072; length of break dt = 2386.125"
       ]
      },
      {
       "output_type": "stream",
       "stream": "stdout",
       "text": [
        "\n",
        "Break in light curve at time bin 22720; length of break dt = 16.000"
       ]
      },
      {
       "output_type": "stream",
       "stream": "stdout",
       "text": [
        "\n",
        "Break in light curve at time bin 23872; length of break dt = 16.000"
       ]
      },
      {
       "output_type": "stream",
       "stream": "stdout",
       "text": [
        "\n",
        "Break in light curve at time bin 26264; length of break dt = 2373.125"
       ]
      },
      {
       "output_type": "stream",
       "stream": "stdout",
       "text": [
        "\n",
        "Break in light curve at time bin 53360; length of break dt = 2389.125\n",
        "Break in light curve at time bin 53489; length of break dt = 16.000"
       ]
      },
      {
       "output_type": "stream",
       "stream": "stdout",
       "text": [
        "\n",
        "Break in light curve at time bin 67121; length of break dt = 128.125\n",
        "Break in light curve at time bin 16064; length of break dt = 16.000"
       ]
      },
      {
       "output_type": "stream",
       "stream": "stdout",
       "text": [
        "\n",
        "Break in light curve at time bin 16256; length of break dt = 3214.125\n",
        "Break in light curve at time bin 37520; length of break dt = 3118.125\n",
        "Break in light curve at time bin 61984; length of break dt = 2702.125"
       ]
      },
      {
       "output_type": "stream",
       "stream": "stdout",
       "text": [
        "\n",
        "Break in light curve at time bin 73969; length of break dt = 16.000"
       ]
      },
      {
       "output_type": "stream",
       "stream": "stdout",
       "text": [
        "\n",
        "Break in light curve at time bin 88306; length of break dt = 2454.000\n",
        "Break in light curve at time bin 90947; length of break dt = 16.000"
       ]
      },
      {
       "output_type": "stream",
       "stream": "stdout",
       "text": [
        "\n",
        "Break in light curve at time bin 3071; length of break dt = 128.125"
       ]
      },
      {
       "output_type": "stream",
       "stream": "stdout",
       "text": [
        "\n",
        "Break in light curve at time bin 17728; length of break dt = 16.000\n",
        "Break in light curve at time bin 23233; length of break dt = 2768.000\n",
        "Break in light curve at time bin 29890; length of break dt = 16.000"
       ]
      },
      {
       "output_type": "stream",
       "stream": "stdout",
       "text": [
        "\n",
        "Break in light curve at time bin 47043; length of break dt = 3008.000\n",
        "Break in light curve at time bin 54724; length of break dt = 16.000"
       ]
      },
      {
       "output_type": "stream",
       "stream": "stdout",
       "text": [
        "\n",
        "Break in light curve at time bin 69061; length of break dt = 3000.000\n",
        "Break in light curve at time bin 79878; length of break dt = 16.000\n",
        "Break in light curve at time bin 14208; length of break dt = 16.000"
       ]
      },
      {
       "output_type": "stream",
       "stream": "stdout",
       "text": [
        "\n",
        "Break in light curve at time bin 21960; length of break dt = 2455.125\n",
        "Break in light curve at time bin 43977; length of break dt = 16.000\n",
        "Break in light curve at time bin 48273; length of break dt = 2455.125"
       ]
      },
      {
       "output_type": "stream",
       "stream": "stdout",
       "text": [
        "\n",
        "Break in light curve at time bin 55570; length of break dt = 16.000\n",
        "Break in light curve at time bin 73875; length of break dt = 16.000\n",
        "Break in light curve at time bin 74459; length of break dt = 2455.125"
       ]
      },
      {
       "output_type": "stream",
       "stream": "stdout",
       "text": [
        "\n",
        "Break in light curve at time bin 100899; length of break dt = 2455.125\n",
        "Break in light curve at time bin 114340; length of break dt = 16.000"
       ]
      },
      {
       "output_type": "stream",
       "stream": "stdout",
       "text": [
        "\n",
        "Break in light curve at time bin 16632; length of break dt = 16.000"
       ]
      },
      {
       "output_type": "stream",
       "stream": "stdout",
       "text": [
        "\n",
        "Break in light curve at time bin 19256; length of break dt = 3337.125\n",
        "Break in light curve at time bin 38768; length of break dt = 3321.125\n",
        "Break in light curve at time bin 45929; length of break dt = 16.000"
       ]
      },
      {
       "output_type": "stream",
       "stream": "stdout",
       "text": [
        "\n",
        "Break in light curve at time bin 5119; length of break dt = 2650.125"
       ]
      },
      {
       "output_type": "stream",
       "stream": "stdout",
       "text": [
        "\n",
        "Break in light curve at time bin 31728; length of break dt = 2450.000\n",
        "Break in light curve at time bin 34657; length of break dt = 16.000"
       ]
      },
      {
       "output_type": "stream",
       "stream": "stdout",
       "text": [
        "\n",
        "Break in light curve at time bin 48994; length of break dt = 16.000\n",
        "Break in light curve at time bin 57955; length of break dt = 2664.000\n",
        "Break in light curve at time bin 82724; length of break dt = 2776.000\n",
        "Break in light curve at time bin 89317; length of break dt = 16.000"
       ]
      },
      {
       "output_type": "stream",
       "stream": "stdout",
       "text": [
        "\n",
        "Break in light curve at time bin 103782; length of break dt = 16.000\n",
        "Break in light curve at time bin 8512; length of break dt = 16.000"
       ]
      },
      {
       "output_type": "stream",
       "stream": "stdout",
       "text": [
        "\n",
        "Break in light curve at time bin 22721; length of break dt = 2840.000\n",
        "Break in light curve at time bin 12288; length of break dt = 16.000"
       ]
      },
      {
       "output_type": "stream",
       "stream": "stdout",
       "text": [
        "\n",
        "Break in light curve at time bin 23288; length of break dt = 2449.125\n",
        "Break in light curve at time bin 27641; length of break dt = 16.000"
       ]
      },
      {
       "output_type": "stream",
       "stream": "stdout",
       "text": [
        "\n",
        "Break in light curve at time bin 49649; length of break dt = 2449.125\n",
        "Break in light curve at time bin 57074; length of break dt = 16.000"
       ]
      },
      {
       "output_type": "stream",
       "stream": "stdout",
       "text": [
        "\n",
        "Break in light curve at time bin 76010; length of break dt = 2449.125\n",
        "Break in light curve at time bin 86507; length of break dt = 16.000"
       ]
      },
      {
       "output_type": "stream",
       "stream": "stdout",
       "text": [
        "\n"
       ]
      }
     ],
     "prompt_number": 138
    },
    {
     "cell_type": "markdown",
     "metadata": {},
     "source": [
      "Let us plot an example:"
     ]
    },
    {
     "cell_type": "code",
     "collapsed": false,
     "input": [
      "D = d_all[0]\n",
      "librosa.display.cmap(np.arange(-10, 10)) \n",
      "librosa.display.specshow(librosa.logamplitude(D[1:]), sr=sr, x_axis='time', y_axis=\"log\", cmap='PuOr_r')\n",
      "l = librosa.logamplitude(D[1:])\n",
      "plt.figure()\n",
      "plt.plot(l[:,0])\n",
      "print(D.shape)\n",
      "plt.figure()\n",
      "plt.hist(D.flatten(), bins=100, range=[-5000, 5000]);"
     ],
     "language": "python",
     "metadata": {},
     "outputs": [
      {
       "output_type": "stream",
       "stream": "stdout",
       "text": [
        "(65, 1425)\n"
       ]
      },
      {
       "metadata": {},
       "output_type": "display_data",
       "png": "[encoded data removed]",
       "text": [
        "<matplotlib.figure.Figure at 0x123c35450>"
       ]
      },
      {
       "metadata": {},
       "output_type": "display_data",
       "png": "[encoded data removed]",
       "text": [
        "<matplotlib.figure.Figure at 0x1237bda50>"
       ]
      },
      {
       "metadata": {},
       "output_type": "display_data",
       "png": "[encoded data removed]",
       "text": [
        "<matplotlib.figure.Figure at 0x123653e10>"
       ]
      }
     ],
     "prompt_number": 139
    },
    {
     "cell_type": "markdown",
     "metadata": {},
     "source": [
      "For the actual HMM classification, we'd like to classify _patches_ in Fourier space, rather than individual rows. To do that, we'll reshape individual spectrograms into feature vectors spanning several data rows.\n",
      "\n",
      "**Dumb Assumptions:**\n",
      "- 32 time bins (=4s) per patch \n",
      "- starting points of individual bins are 16 bins (=2s) apart, so that they overlap"
     ]
    },
    {
     "cell_type": "code",
     "collapsed": false,
     "input": [
      "## patch length\n",
      "plen = 32\n",
      "## offset between patches\n",
      "offset = 16\n",
      "\n",
      "d_all_feature =  []\n",
      "for D in d_all[:len(d_all)/2]:\n",
      "    Dlog = np.array([librosa.logamplitude(dtemp[1:]) for dtemp in D])\n",
      "    #print(Dlog.shape)\n",
      "    d_all_feature.extend(np.transpose(Dlog))\n",
      "\n",
      "d_all_feature = np.array(d_all_feature)\n",
      "d_all_feature.shape\n",
      "\n",
      "## all light curves, all feature vectors\n",
      "#d_all_feature = []\n",
      "\n",
      "#for D in d_all:\n",
      "#    ## all feature vectors for specific light curve:\n",
      "#    D_feature = []\n",
      "#    ## starting index\n",
      "#    istart = 0\n",
      "#    iend = istart + plen\n",
      "#    while iend < D.shape[1]:\n",
      "#        #print(istart)\n",
      "#        #print(iend)\n",
      "#        dflat = librosa.logamplitude(D[1:,istart:iend]).flatten()\n",
      "#        D_feature.append(dflat)\n",
      "#        istart += offset\n",
      "#        iend += offset\n",
      "#    D_feature = np.array(D_feature)\n",
      "#    np.shape(D_feature)\n",
      "#    d_all_feature.append(D_feature)"
     ],
     "language": "python",
     "metadata": {},
     "outputs": [
      {
       "metadata": {},
       "output_type": "pyout",
       "prompt_number": 140,
       "text": [
        "(457207, 65)"
       ]
      }
     ],
     "prompt_number": 140
    },
    {
     "cell_type": "markdown",
     "metadata": {},
     "source": [
      "Now we can initialise the HMM.\n",
      "\n",
      "**Dumb Assumptions:**\n",
      "- number of states: 10\n",
      "- start probabilities all equal (1/10)\n",
      "- number of components per state: 3\n",
      "- "
     ]
    },
    {
     "cell_type": "code",
     "collapsed": false,
     "input": [
      "print(d_all_feature.shape)\n",
      "## number of states\n",
      "nstates = 20\n",
      "\n",
      "#D = d_all_feature[0]\n",
      "librosa.display.specshow(librosa.logamplitude(d_all_feature[1:]), sr=sr, x_axis='time', y_axis=\"log\", cmap='PuOr_r')\n",
      "\n"
     ],
     "language": "python",
     "metadata": {},
     "outputs": [
      {
       "output_type": "stream",
       "stream": "stdout",
       "text": [
        "(457207, 65)\n"
       ]
      },
      {
       "metadata": {},
       "output_type": "pyout",
       "prompt_number": 141,
       "text": [
        "<matplotlib.image.AxesImage at 0x1241c0290>"
       ]
      },
      {
       "metadata": {},
       "output_type": "display_data",
       "png": "[encoded data removed]",
       "text": [
        "<matplotlib.figure.Figure at 0x12409d0d0>"
       ]
      }
     ],
     "prompt_number": 141
    },
    {
     "cell_type": "code",
     "collapsed": false,
     "input": [
      "d_all_feature.shape"
     ],
     "language": "python",
     "metadata": {},
     "outputs": [
      {
       "metadata": {},
       "output_type": "pyout",
       "prompt_number": 142,
       "text": [
        "(457207, 65)"
       ]
      }
     ],
     "prompt_number": 142
    },
    {
     "cell_type": "code",
     "collapsed": false,
     "input": [
      "from hmmlearn import hmm\n",
      "\n",
      "#Dt = np.transpose(d_all_feature)\n",
      "dlist = [d_all_feature]\n",
      "\n",
      "model = hmm.GaussianHMM(nstates, covariance_type=\"diag\", n_iter=40)\n",
      "\n",
      "model.fit(dlist)\n"
     ],
     "language": "python",
     "metadata": {},
     "outputs": []
    },
    {
     "cell_type": "code",
     "collapsed": false,
     "input": [
      "hidden_states = model.predict(d_all_feature)"
     ],
     "language": "python",
     "metadata": {},
     "outputs": [
      {
       "metadata": {},
       "output_type": "pyout",
       "prompt_number": 128,
       "text": [
        "array([0, 0, 0, ..., 2, 2, 2])"
       ]
      }
     ],
     "prompt_number": 128
    },
    {
     "cell_type": "code",
     "collapsed": false,
     "input": [
      "dt = hidden_states[1:] - hidden_states[:-1]\n",
      "plt.figure()\n",
      "plt.plot(hidden_states)\n",
      "plt.figure()\n",
      "plt.hist(hidden_states, bins=20)\n",
      "plt.figure()\n",
      "plt.hist(dt, bins=40, range=[-10,10]);\n",
      "plt.yscale(\"log\")"
     ],
     "language": "python",
     "metadata": {},
     "outputs": [
      {
       "metadata": {},
       "output_type": "display_data",
       "png": "[encoded data removed]",
       "text": [
        "<matplotlib.figure.Figure at 0x123223350>"
       ]
      },
      {
       "metadata": {},
       "output_type": "display_data",
       "png": "[encoded data removed]",
       "text": [
        "<matplotlib.figure.Figure at 0x123d63110>"
       ]
      },
      {
       "metadata": {},
       "output_type": "display_data",
       "png": "[encoded data removed]",
       "text": [
        "<matplotlib.figure.Figure at 0x124e9fe50>"
       ]
      }
     ],
     "prompt_number": 130
    },
    {
     "cell_type": "code",
     "collapsed": false,
     "input": [
      "plt.imshow(np.log(model.transmat_), interpolation=\"None\")\n",
      "plt.colorbar()"
     ],
     "language": "python",
     "metadata": {},
     "outputs": [
      {
       "metadata": {},
       "output_type": "pyout",
       "prompt_number": 137,
       "text": [
        "<matplotlib.colorbar.Colorbar instance at 0x12731b098>"
       ]
      },
      {
       "metadata": {},
       "output_type": "display_data",
       "png": "[encoded data removed]",
       "text": [
        "<matplotlib.figure.Figure at 0x1241d29d0>"
       ]
      }
     ],
     "prompt_number": 137
    },
    {
     "cell_type": "markdown",
     "metadata": {},
     "source": [
      "## Manual Classification\n",
      "\n",
      "Manual classification (by eye, using light curves and hardness ratios) was performed by Belloni+ 2000. They separated the data into 12 classes, where the last one ($\\chi$-state) has four subclasses, because that's how astronomers roll. \n",
      "\n",
      "Below the classification from Belloni+ 2000 (Table 1). Variable names are the individual classes. The list contains the ObsIDs containing light curves of that class. Note that where the source switches class within an observation, an ObsID will be present in more than one source class."
     ]
    },
    {
     "cell_type": "code",
     "collapsed": false,
     "input": [
      "import convert_belloni\n",
      "\n",
      "## directly lifted from Belloni+ 2000\n",
      "belloni_states = convert_belloni.main()\n",
      "\n",
      "## cleaned version; without observations that have light curves\n",
      "## with more than one class\n",
      "file = open(\"1915Belloniclass.dat\")\n",
      "lines = file.readlines()\n",
      "header = lines[0].split()\n",
      "belloni_clean = {}\n",
      "for h,l in zip(header, lines[1:]):\n",
      "    belloni_clean[h] = l.split()\n",
      "    \n",
      "    \n",
      "## turn around conversion (just in case):\n",
      "def turn_states(states):\n",
      "    turned_states = {}\n",
      "    for k,lis in states.iteritems():\n",
      "        for l in lis:\n",
      "            turned_states[l.translate(None, \"-\")] = k\n",
      "    return turned_states\n",
      "belloni_turned = turn_states(belloni_states)\n",
      "belloni_clean_turned = turn_states(belloni_clean)\n"
     ],
     "language": "python",
     "metadata": {},
     "outputs": [],
     "prompt_number": 111
    },
    {
     "cell_type": "code",
     "collapsed": false,
     "input": [
      "for f in files:\n"
     ],
     "language": "python",
     "metadata": {},
     "outputs": [
      {
       "output_type": "stream",
       "stream": "stdout",
       "text": [
        "no\n",
        "no\n",
        "no\n",
        "no\n",
        "no\n",
        "no\n",
        "no\n",
        "no\n",
        "no\n",
        "no\n",
        "no\n",
        "no\n",
        "no\n",
        "no\n",
        "no\n",
        "no\n",
        "no\n",
        "no\n",
        "yes\n",
        "yes\n",
        "yes\n",
        "yes\n",
        "yes\n",
        "yes\n",
        "yes\n",
        "yes\n",
        "yes\n",
        "yes\n",
        "yes\n",
        "yes\n",
        "yes\n",
        "yes\n",
        "yes\n",
        "yes\n",
        "yes\n",
        "yes\n",
        "yes\n",
        "yes\n",
        "yes\n",
        "yes\n",
        "yes\n",
        "yes\n",
        "yes\n",
        "yes\n",
        "yes\n",
        "yes\n",
        "yes\n",
        "yes\n",
        "yes\n",
        "yes\n",
        "yes\n",
        "yes\n",
        "yes\n",
        "yes\n",
        "yes\n",
        "yes\n",
        "yes\n",
        "yes\n",
        "yes\n",
        "no\n",
        "yes\n",
        "yes\n",
        "yes\n",
        "yes\n",
        "yes\n",
        "yes\n",
        "yes\n",
        "yes\n",
        "yes\n",
        "yes\n",
        "yes\n",
        "yes\n",
        "yes\n",
        "yes\n",
        "yes\n",
        "yes\n",
        "yes\n",
        "yes\n",
        "yes\n",
        "yes\n",
        "yes\n",
        "yes\n",
        "yes\n",
        "yes\n",
        "no\n",
        "no\n",
        "no\n",
        "no\n",
        "no\n",
        "no\n",
        "no\n",
        "no\n",
        "no\n",
        "no\n",
        "no\n",
        "no\n",
        "no\n",
        "no\n",
        "no\n",
        "no\n",
        "no\n",
        "no\n",
        "no\n",
        "no\n",
        "no\n",
        "no\n",
        "no\n",
        "no\n",
        "no\n",
        "yes\n",
        "yes\n",
        "yes\n",
        "no\n",
        "no\n",
        "no\n",
        "no\n",
        "yes\n",
        "no\n",
        "yes\n",
        "yes\n",
        "yes\n",
        "yes\n",
        "no\n",
        "yes\n",
        "yes\n",
        "yes\n",
        "yes\n",
        "yes\n",
        "yes\n",
        "yes\n",
        "yes\n",
        "yes\n",
        "yes\n",
        "yes\n",
        "yes\n",
        "yes\n",
        "yes\n",
        "yes\n",
        "no\n",
        "yes\n",
        "yes\n",
        "yes\n",
        "yes\n",
        "yes\n",
        "yes\n",
        "yes\n",
        "yes\n",
        "yes\n",
        "yes\n",
        "yes\n",
        "yes\n",
        "yes\n",
        "yes\n",
        "yes\n",
        "yes\n",
        "yes\n",
        "yes\n",
        "yes\n",
        "yes\n",
        "yes\n",
        "yes\n",
        "yes\n",
        "yes\n",
        "yes\n",
        "yes\n",
        "yes\n",
        "yes\n",
        "yes\n",
        "yes\n",
        "yes\n",
        "yes\n",
        "yes\n",
        "yes\n",
        "yes\n",
        "yes\n",
        "yes\n",
        "yes\n",
        "yes\n",
        "yes\n",
        "yes\n",
        "yes\n",
        "yes\n",
        "yes\n",
        "yes\n",
        "yes\n",
        "yes\n",
        "yes\n",
        "yes\n",
        "yes\n",
        "no\n",
        "yes\n",
        "yes\n",
        "yes\n",
        "yes\n",
        "yes\n",
        "yes\n",
        "no\n",
        "yes\n",
        "yes\n",
        "yes\n",
        "yes\n",
        "yes\n",
        "yes\n",
        "yes\n",
        "yes\n",
        "yes\n",
        "yes\n",
        "no\n",
        "no\n",
        "no\n",
        "no\n",
        "yes\n",
        "no\n",
        "no\n"
       ]
      }
     ],
     "prompt_number": 122
    },
    {
     "cell_type": "code",
     "collapsed": false,
     "input": [],
     "language": "python",
     "metadata": {},
     "outputs": [
      {
       "metadata": {},
       "output_type": "pyout",
       "prompt_number": 120,
       "text": [
        "'10258010100'"
       ]
      }
     ],
     "prompt_number": 120
    },
    {
     "cell_type": "code",
     "collapsed": false,
     "input": [],
     "language": "python",
     "metadata": {},
     "outputs": []
    }
   ],
   "metadata": {}
  }
 ]
}