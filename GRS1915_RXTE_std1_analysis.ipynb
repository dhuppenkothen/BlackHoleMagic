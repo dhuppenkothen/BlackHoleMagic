{
 "metadata": {
  "name": "",
  "signature": "sha256:f42d6689facb64940a1f0f42fc1145cecac569d76c729d852d889e11705d8395"
 },
 "nbformat": 3,
 "nbformat_minor": 0,
 "worksheets": [
  {
   "cells": [
    {
     "cell_type": "markdown",
     "metadata": {},
     "source": [
      "# Classifying RXTE Data of GRS 1915+105\n",
      "\n",
      "GRS 1915+105 is one of the most interesting galactic black hole binaries. Emission from the source comes from gas that heasts to high (X-ray) temperatures as it accretes onto the black hole. \n",
      "The emission is highly time-variable, and changes between different states (see also Belloni+ 2000, MNRAS).\n",
      "\n",
      "The purpose of this project is to automatically (1) segment light curves into different morphologies, and (2) classify the light curves according to morphology.\n",
      "This should use both time and energy information (thus time-tagged event data, i.e. the arrival times of individual photons).\n",
      "\n",
      "Possible Issues:\n",
      "- dead time: above a certain count rate (~2000 cts/s), there will be increasingly issues with dead time, which produce spurious features at high frequencies in the power spectrum\n",
      "- PCU breakdowns: usually, we can use light curves from all Proportional Counter Units (the individual units of the instrument), but on occasion, one of them may be turned off or may break down, leading to abrupt changes in the observed count rate. \n",
      "\n",
      "## Preliminaries: Standard 1 Data\n",
      "\n",
      "Until we get the TTE data, we can run preliminary checks on Standard 1 light curves, routinely output during the data processing of the raw data at HEASARC (the NASA high-energy facility). \n",
      "Standard 1 data has a time resolution of 0.125 seconds, and is integrated over all energy channels (no energy information). We're starting with the data from the years 1996 and 1997, a data set that should be roughly identical to the one in Belloni+ (2000).\n",
      "\n",
      "Standard 1 light curves are in files of the `type x[ObsID]_n1.lc`.\n",
      "Let's find all of them in our data set:"
     ]
    },
    {
     "cell_type": "code",
     "collapsed": false,
     "input": [
      "%matplotlib inline\n",
      "import numpy as np\n",
      "from astropy.io import fits \n",
      "import matplotlib.pyplot as plt\n",
      "\n",
      "import os\n",
      "import fnmatch\n",
      "import seaborn as sns\n",
      "sns.set()\n",
      "\n",
      "import glob\n",
      "import generaltools as gt\n",
      "import lightcurve\n",
      "import powerspectrum"
     ],
     "language": "python",
     "metadata": {},
     "outputs": [
      {
       "output_type": "stream",
       "stream": "stdout",
       "text": [
        "You don't have jplephread and jplephinterp! You can't do barycentering like this!\n"
       ]
      },
      {
       "output_type": "stream",
       "stream": "stderr",
       "text": [
        "/opt/local/Library/Frameworks/Python.framework/Versions/2.7/lib/python2.7/site-packages/matplotlib/__init__.py:1312: UserWarning:  This call to matplotlib.use() has no effect\n",
        "because the backend has already been chosen;\n",
        "matplotlib.use() must be called *before* pylab, matplotlib.pyplot,\n",
        "or matplotlib.backends is imported for the first time.\n",
        "\n",
        "  warnings.warn(_use_error_msg)\n"
       ]
      }
     ],
     "prompt_number": 1
    },
    {
     "cell_type": "code",
     "collapsed": false,
     "input": [
      "def search_filenames_recursively(testdir, testexpression):\n",
      "    matches = []\n",
      "    for root, dirnames, filenames in os.walk(testdir):\n",
      "        for filename in fnmatch.filter(filenames, testexpression):\n",
      "            matches.append(os.path.join(root, filename))\n",
      "\n",
      "    return matches\n"
     ],
     "language": "python",
     "metadata": {},
     "outputs": [],
     "prompt_number": 2
    },
    {
     "cell_type": "code",
     "collapsed": false,
     "input": [
      "all_lcs = search_filenames_recursively(\"./\", \"*n1.lc*\")"
     ],
     "language": "python",
     "metadata": {},
     "outputs": [],
     "prompt_number": 3
    },
    {
     "cell_type": "markdown",
     "metadata": {},
     "source": [
      "Now we'll extract all light curves and save them in standard text files. We'll also take out any time bins where `counts` or `err` is `nan`."
     ]
    },
    {
     "cell_type": "code",
     "collapsed": false,
     "input": [
      "for a in all_lcs:\n",
      "    asplit = a.split(\"/\")\n",
      "    asplit2 = asplit[-1].split(\"_\")\n",
      "    hdulist = fits.open(a)\n",
      "    data = hdulist[1].data\n",
      "    times = data.field(0)\n",
      "    counts = data.field(1)\n",
      "    err = data.field(2)\n",
      "    d = np.transpose(np.array([times, counts, err]))\n",
      "    dnew = [dp for dp in d if not any(np.isnan(dp))]\n",
      "    np.savetxt(\"%s_lc.txt\"%asplit2[0],dnew )\n",
      "\n"
     ],
     "language": "python",
     "metadata": {},
     "outputs": [],
     "prompt_number": 6
    },
    {
     "cell_type": "markdown",
     "metadata": {},
     "source": [
      "### Data Preparation for Standard 1 Data\n",
      "\n",
      "Here's some code that does the data preparation for the Standard 1 Data."
     ]
    },
    {
     "cell_type": "code",
     "collapsed": false,
     "input": [
      "## these are the data files\n",
      "files = glob.glob(\"*lc.txt\")\n",
      "\n",
      "## here are some dumb assumptions about the light curves we'll use\n",
      "tseg = 256 ## segment length\n",
      "dt = 0.125 ## time bin size\n",
      "overlap_time = 64. ## overlap in seconds\n",
      "\n",
      "nseg = tseg/dt ## number of bins per segment\n",
      "noverlap = overlap_time/dt\n",
      "print(\"nseg: \" + str(nseg))\n",
      "print(\"noverlap: \" + str(noverlap))"
     ],
     "language": "python",
     "metadata": {},
     "outputs": [
      {
       "output_type": "stream",
       "stream": "stdout",
       "text": [
        "nseg: 2048.0\n",
        "noverlap: 512.0\n"
       ]
      }
     ],
     "prompt_number": 192
    },
    {
     "cell_type": "code",
     "collapsed": false,
     "input": [
      "\n",
      "## take all files, read in data, put in a list of type\n",
      "## [numpy-array with [time, countrate, countrate_error], state]\n",
      "\n",
      "d_all = []\n",
      "for f in files:\n",
      "    fstring = f.split(\"_\")[0][2:]\n",
      "    if fstring in belloni_turned:\n",
      "        state = belloni_turned[fstring]\n",
      "    else:\n",
      "        state = None\n",
      "    d = np.loadtxt(f)\n",
      "    #times = d[:,0]\n",
      "    #counts = d[:,1]\n",
      "    #plt.plot(times, counts)\n",
      "    dt_data = d[1:,0]-d[:-1,0]\n",
      "    ### split data with breaks\n",
      "    breaks = np.where(dt_data > 0.125)[0]\n",
      "    #print(breaks)\n",
      "    if len(breaks) == 0:\n",
      "        d_all.append([d, state])\n",
      "    else:\n",
      "        for i,b in enumerate(breaks):\n",
      "            #print(\"Break in light curve at time bin %i; length of break dt = %.3f\"%(b, dt_data[b]))\n",
      "            if i == 0:\n",
      "                if b == 0:\n",
      "                    continue\n",
      "                else:\n",
      "                    dtemp = d[:b]\n",
      "            else:\n",
      "                dtemp = d[breaks[i-1]+1:b]\n",
      "            d_all.append([dtemp, state])"
     ],
     "language": "python",
     "metadata": {},
     "outputs": [],
     "prompt_number": 193
    },
    {
     "cell_type": "markdown",
     "metadata": {},
     "source": [
      "## Preliminaries: Observing Mode Data \n",
      "\n",
      "Lucy has extracted the entire set of all RXTE light curves to a data resolution of 1/128 seconds in 3 energy bands:\n",
      "- 3.68-13.52keV\n",
      "- 3.68-6.12ke\n",
      "- 9.40-14.76keV\n",
      "\n",
      "Note that the energy bands are **NOT THE SAME** for different energy modes. This'll throw a wrench into the analysis and is probably going to require considerable python-fu. \n",
      "\n",
      "First, we're going to make files that have all bands in one file for each observation. This'll probably take more space than I have right now. We'll see.\n",
      "\n",
      "There are a total of 5123 in 1711 separate ObsIDs (**LUCY: Is this correct?**). Note that $1711\\times 3 \\neq 5123$. There seem to be 10 light curves missing, but I'm not sure where.\n",
      "\n",
      "Also, ask **Lucy** about the ObsID folders: is there anything in there I need?"
     ]
    },
    {
     "cell_type": "code",
     "collapsed": false,
     "input": [
      "## make a list of all ObsIDs\n",
      "files = glob.glob(\"LC*.fits\")\n",
      "obsids = [f.split(\"_\")[1] for f in files]\n",
      "print(\"Total number of files: \" + str(len(obsids)))\n",
      "obsids = set(obsids)\n",
      "print(\"Total number of ObsIDs: \" + str(len(obsids)))"
     ],
     "language": "python",
     "metadata": {},
     "outputs": [
      {
       "output_type": "stream",
       "stream": "stdout",
       "text": [
        "Total number of files: 5123\n",
        "Total number of ObsIDs: 1711\n"
       ]
      }
     ],
     "prompt_number": 4
    },
    {
     "cell_type": "code",
     "collapsed": false,
     "input": [],
     "language": "python",
     "metadata": {},
     "outputs": [
      {
       "metadata": {},
       "output_type": "pyout",
       "prompt_number": 110,
       "text": [
        "0.00390625"
       ]
      }
     ],
     "prompt_number": 110
    },
    {
     "cell_type": "code",
     "collapsed": false,
     "input": [
      "\n",
      "## loop through all ObsIDs and make files with #times, counts_total, counts_low, counts_high\n",
      "for i,o in enumerate(list(obsids)[172:]):\n",
      "    print(\"i = \" + str(i))\n",
      "    print(\"I am on ObsID \" + str(o))\n",
      "    fobs = glob.glob(\"*%s*.fits\"%o)\n",
      "    #print('len(fobs): ' + str(len(fobs)))\n",
      "    emin_all, emax_all = [], []\n",
      "    for f in fobs:\n",
      "        fsplit = f.split(\"_\")\n",
      "        obsid = fsplit[1]\n",
      "        ebands = fsplit[3].split(\"-\")\n",
      "        emin_all.append(np.float(ebands[0]))\n",
      "        emax_all.append(np.float(ebands[1][:-3]))\n",
      "        time_res = fsplit[4].split(\"div\")\n",
      "        tres = np.float(time_res[0])/np.float(time_res[1][:-1])\n",
      "    \n",
      "    if len(emin_all) < 3 or len(emax_all) < 3:\n",
      "        continue\n",
      "        \n",
      "    emin_all = np.array(emin_all)\n",
      "    emax_all = np.array(emax_all)\n",
      "    print(\"emin_all: \" + str(emin_all))\n",
      "    print(\"emax_all: \" + str(emax_all))\n",
      "    \n",
      "    total_band_ind = np.where((emin_all < 6.2) & (emax_all > 10.))[0]\n",
      "    #total_band_ind = np.where((emin_all == np.min(emin_all)) & (emax_all == np.max(emax_all)))[0]\n",
      "    print(\"total_band_ind: \" + str(total_band_ind))\n",
      "    \n",
      "    #low_band_ind = np.where((emin_all == np.min(emin_all)) & (emax_all == np.min(emax_all)))[0]\n",
      "    low_band_ind = np.where((emin_all < 6.2) & (emax_all < 10.))[0]\n",
      "    print(\"low_band_ind: \" + str(low_band_ind))\n",
      "    \n",
      "    #high_band_ind = np.where((emin_all == np.max(emin_all)) & (emax_all == np.max(emax_all)))[0]\n",
      "    high_band_ind = np.where((emin_all > 6.2) & (emax_all >10.))[0]\n",
      "    print(\"high_band_ind: \" + str(high_band_ind))\n",
      "    \n",
      "    total_data = fits.open(fobs[total_band_ind])\n",
      "    total_times, total_counts = total_data[1].data.field(0), total_data[1].data.field(1)\n",
      "    \n",
      "    low_data = fits.open(fobs[low_band_ind])\n",
      "    low_times, low_counts = low_data[1].data.field(0), low_data[1].data.field(1)\n",
      "\n",
      "    high_data = fits.open(fobs[high_band_ind])\n",
      "    high_times, high_counts = high_data[1].data.field(0), high_data[1].data.field(1)\n",
      " \n",
      "    data = np.transpose(np.array([total_times, total_counts, low_counts, high_counts]))\n",
      "    \n",
      "    \n",
      "    fout = np.savetxt(\"LC_%s_combined.dat\"%o, \n",
      "                      data,\n",
      "                      header = \"Times \\t total counts \\t low band counts \\t high band counts\\n\")\n",
      "    "
     ],
     "language": "python",
     "metadata": {},
     "outputs": [
      {
       "output_type": "stream",
       "stream": "stdout",
       "text": [
        "i = 0\n",
        "I am on ObsID 80188-02-01-00\n",
        "emin_all: [ 6.12  6.12  8.17]"
       ]
      },
      {
       "output_type": "stream",
       "stream": "stdout",
       "text": [
        "\n",
        "emax_all: [ 14.76   7.76  14.76]\n",
        "total_band_ind: [0]\n",
        "low_band_ind: [1]\n",
        "high_band_ind: [2]\n",
        "i = 1"
       ]
      },
      {
       "output_type": "stream",
       "stream": "stdout",
       "text": [
        "\n",
        "I am on ObsID 90701-01-17-01\n",
        "emin_all: [ 3.68  3.68  9.4 ]"
       ]
      },
      {
       "output_type": "stream",
       "stream": "stdout",
       "text": [
        "\n",
        "emax_all: [ 13.52   6.12  14.76]\n",
        "total_band_ind: [0]\n",
        "low_band_ind: [1]\n",
        "high_band_ind: [2]\n",
        "i = 2"
       ]
      },
      {
       "output_type": "stream",
       "stream": "stdout",
       "text": [
        "\n",
        "I am on ObsID 90701-01-17-00\n",
        "emin_all: [ 3.68  3.68  9.4 ]\n",
        "emax_all: [ 13.52   6.12  14.76]\n",
        "total_band_ind: [0]\n",
        "low_band_ind: [1]\n",
        "high_band_ind: [2]\n",
        "i = 3"
       ]
      },
      {
       "output_type": "stream",
       "stream": "stdout",
       "text": [
        "\n",
        "I am on ObsID 91701-01-54-01\n",
        "emin_all: [ 3.68  3.68  9.4 ]\n",
        "emax_all: [ 13.52   6.12  14.76]\n",
        "total_band_ind: [0]\n",
        "low_band_ind: [1]\n",
        "high_band_ind: [2]\n",
        "i = 4"
       ]
      },
      {
       "output_type": "stream",
       "stream": "stdout",
       "text": [
        "\n",
        "I am on ObsID 91701-01-54-00\n",
        "emin_all: [ 3.68  3.68  9.4 ]\n",
        "emax_all: [ 13.52   6.12  14.76]\n",
        "total_band_ind: [0]\n",
        "low_band_ind: [1]\n",
        "high_band_ind: [2]\n",
        "i = 5"
       ]
      },
      {
       "output_type": "stream",
       "stream": "stdout",
       "text": [
        "\n",
        "I am on ObsID 30402-01-14-00\n",
        "emin_all: [ 3.35  3.35  9.03]\n",
        "emax_all: [ 12.99   6.54  12.99]\n",
        "total_band_ind: [0]\n",
        "low_band_ind: [1]\n",
        "high_band_ind: [2]\n",
        "i = 6"
       ]
      },
      {
       "output_type": "stream",
       "stream": "stdout",
       "text": [
        "\n",
        "I am on ObsID 80701-01-16-00\n",
        "emin_all: [ 3.68  3.68  9.4 ]\n",
        "emax_all: [ 13.52   6.12  14.76]\n",
        "total_band_ind: [0]\n",
        "low_band_ind: [1]\n",
        "high_band_ind: [2]\n",
        "i = 7"
       ]
      },
      {
       "output_type": "stream",
       "stream": "stdout",
       "text": [
        "\n",
        "I am on ObsID 94701-01-60-01\n",
        "emin_all: [ 3.68  3.68  9.4 ]\n",
        "emax_all: [ 13.52   6.12  14.76]\n",
        "total_band_ind: [0]\n",
        "low_band_ind: [1]\n",
        "high_band_ind: [2]\n",
        "i = 8"
       ]
      },
      {
       "output_type": "stream",
       "stream": "stdout",
       "text": [
        "\n",
        "I am on ObsID 94701-01-60-00\n",
        "emin_all: [ 3.68  3.68  9.4 ]\n",
        "emax_all: [ 13.52   6.12  14.76]\n",
        "total_band_ind: [0]\n",
        "low_band_ind: [1]\n",
        "high_band_ind: [2]\n",
        "i = 9"
       ]
      },
      {
       "output_type": "stream",
       "stream": "stdout",
       "text": [
        "\n",
        "I am on ObsID 94701-01-05-02\n",
        "emin_all: [ 3.68  3.68  9.4 ]\n",
        "emax_all: [ 13.52   6.12  14.76]\n",
        "total_band_ind: [0]\n",
        "low_band_ind: [1]\n",
        "high_band_ind: [2]\n"
       ]
      },
      {
       "ename": "KeyboardInterrupt",
       "evalue": "",
       "output_type": "pyerr",
       "traceback": [
        "\u001b[0;31m---------------------------------------------------------------------------\u001b[0m\n\u001b[0;31mKeyboardInterrupt\u001b[0m                         Traceback (most recent call last)",
        "\u001b[0;32m<ipython-input-6-b43840de2895>\u001b[0m in \u001b[0;36m<module>\u001b[0;34m()\u001b[0m\n\u001b[1;32m     45\u001b[0m     \u001b[0mhigh_times\u001b[0m\u001b[0;34m,\u001b[0m \u001b[0mhigh_counts\u001b[0m \u001b[0;34m=\u001b[0m \u001b[0mhigh_data\u001b[0m\u001b[0;34m[\u001b[0m\u001b[0;36m1\u001b[0m\u001b[0;34m]\u001b[0m\u001b[0;34m.\u001b[0m\u001b[0mdata\u001b[0m\u001b[0;34m.\u001b[0m\u001b[0mfield\u001b[0m\u001b[0;34m(\u001b[0m\u001b[0;36m0\u001b[0m\u001b[0;34m)\u001b[0m\u001b[0;34m,\u001b[0m \u001b[0mhigh_data\u001b[0m\u001b[0;34m[\u001b[0m\u001b[0;36m1\u001b[0m\u001b[0;34m]\u001b[0m\u001b[0;34m.\u001b[0m\u001b[0mdata\u001b[0m\u001b[0;34m.\u001b[0m\u001b[0mfield\u001b[0m\u001b[0;34m(\u001b[0m\u001b[0;36m1\u001b[0m\u001b[0;34m)\u001b[0m\u001b[0;34m\u001b[0m\u001b[0m\n\u001b[1;32m     46\u001b[0m \u001b[0;34m\u001b[0m\u001b[0m\n\u001b[0;32m---> 47\u001b[0;31m     \u001b[0mdata\u001b[0m \u001b[0;34m=\u001b[0m \u001b[0mnp\u001b[0m\u001b[0;34m.\u001b[0m\u001b[0mtranspose\u001b[0m\u001b[0;34m(\u001b[0m\u001b[0mnp\u001b[0m\u001b[0;34m.\u001b[0m\u001b[0marray\u001b[0m\u001b[0;34m(\u001b[0m\u001b[0;34m[\u001b[0m\u001b[0mtotal_times\u001b[0m\u001b[0;34m,\u001b[0m \u001b[0mtotal_counts\u001b[0m\u001b[0;34m,\u001b[0m \u001b[0mlow_counts\u001b[0m\u001b[0;34m,\u001b[0m \u001b[0mhigh_counts\u001b[0m\u001b[0;34m]\u001b[0m\u001b[0;34m)\u001b[0m\u001b[0;34m)\u001b[0m\u001b[0;34m\u001b[0m\u001b[0m\n\u001b[0m\u001b[1;32m     48\u001b[0m \u001b[0;34m\u001b[0m\u001b[0m\n\u001b[1;32m     49\u001b[0m \u001b[0;34m\u001b[0m\u001b[0m\n",
        "\u001b[0;31mKeyboardInterrupt\u001b[0m: "
       ]
      }
     ],
     "prompt_number": 6
    },
    {
     "cell_type": "code",
     "collapsed": false,
     "input": [
      "## let's plot an example of the three bands\n",
      "dtest = np.loadtxt(\"LC_20402-01-30-01_combined.dat\")\n",
      "plt.plot(dtest[:,0], dtest[:,1], label=\"Count rate in total band\")\n",
      "plt.plot(dtest[:,0], dtest[:,2], label=\"Count rate in low band\")\n",
      "plt.plot(dtest[:,0], dtest[:,3], label=\"Count rate in high band\")\n",
      "plt.legend(loc=\"upper left\")\n",
      "\n"
     ],
     "language": "python",
     "metadata": {},
     "outputs": [
      {
       "metadata": {},
       "output_type": "pyout",
       "prompt_number": 7,
       "text": [
        "<matplotlib.legend.Legend at 0x108d88350>"
       ]
      },
      {
       "metadata": {},
       "output_type": "display_data",
       "png": "[encoded data removed]",
       "text": [
        "<matplotlib.figure.Figure at 0x108d11cd0>"
       ]
      }
     ],
     "prompt_number": 7
    },
    {
     "cell_type": "markdown",
     "metadata": {},
     "source": [
      "### Data Preparation for Processed Data from Observing Modes\n",
      "\n",
      "We are now going to read out the light curves, make hardness ratios and return the data for feature extraction.\n",
      "\n",
      "We're going to make 256-second long light curves that start every 64 seconds apart (so there is overlap in multiple light curves). The time resolution `dt` changes for different observations (either $1/128\\mathrm{s}$ or $1/256\\mathrm{s}$), so we're going to re-bin those light curves that have a higher time resolution than I want.\n",
      "\n",
      "**Note:** Right now, I'm not doing any background subtraction. I probably should (or is this already done, **Lucy**?), but I don't, so that might be something to think about.\n",
      "\n",
      "Hardness ratios will be low/total and high/total"
     ]
    },
    {
     "cell_type": "code",
     "collapsed": false,
     "input": [
      "## these are the data files\n",
      "files = glob.glob(\"*combined.dat\")\n",
      "print(len(files))"
     ],
     "language": "python",
     "metadata": {},
     "outputs": [
      {
       "output_type": "stream",
       "stream": "stdout",
       "text": [
        "178\n"
       ]
      }
     ],
     "prompt_number": 10
    },
    {
     "cell_type": "markdown",
     "metadata": {},
     "source": [
      "Below we define two functions:\n",
      "- `bin_lightcurve` is a helper-function that rebins light curves in `dtemp` to a time resolution `nbins` times the original time resolution (by the way of averaging bins, to preserve count rates).\n",
      "- `extract_obsmode_data` takes a list of text files and extracts the light curves, splits them up along breaks (gaps) in the data. If `bin_data` is set, it also rebins the light curves using `bin_lightcurve`"
     ]
    },
    {
     "cell_type": "code",
     "collapsed": false,
     "input": [],
     "language": "python",
     "metadata": {},
     "outputs": []
    },
    {
     "cell_type": "code",
     "collapsed": false,
     "input": [
      "\n",
      "## take all files, read in data, put in a list of type\n",
      "## [numpy-array with [time, countrate, countrate_error], state]\n",
      "\n",
      "def bin_lightcurve(dtemp, nbins):\n",
      "    tbinned_times, tbinned_counts = gt.rebin_lightcurve(dtemp[:,0], dtemp[:,1], n=nbins, type=\"average\")\n",
      "    print(\"dt: \" + str(tbinned_times[1]-tbinned_times[0]))\n",
      "    lbinned_times, lbinned_counts = gt.rebin_lightcurve(dtemp[:,0], dtemp[:,2], n=nbins, type=\"average\")\n",
      "    hbinned_times, hbinned_counts = gt.rebin_lightcurve(dtemp[:,0], dtemp[:,3], n=nbins, type=\"average\")\n",
      "    dshort = np.transpose(np.array([tbinned_times, tbinned_counts, lbinned_counts, hbinned_counts]))\n",
      "    return dshort\n",
      "\n",
      "\n",
      "def extract_obsmode_data(files, bin_data=True, bin_res=0.125, label_only=False, labels=\"clean\"):\n",
      "    \"\"\"\n",
      "    Extract Observing Mode data from a list of text files with columns \n",
      "    #times \\t total count rate \\t low energy count rate \\t high energy count rate\n",
      "    \n",
      "    if bin_data=True, the data will be rebinned to the resolution specified in bin_res.\n",
      "    If label_only is True, only data with (manually determined) labels will be extracted;\n",
      "    either from the whole set of observations used in Belloni+ 2000 (labels=\"all\") or from\n",
      "    the cleaned set with only those observations where the state does not change during the \n",
      "    observation (labels=\"clean\")\n",
      "    \n",
      "    \"\"\"\n",
      "    \n",
      "    if label_only:\n",
      "        if labels == \"clean\":\n",
      "            belloni_states = convert_belloni.main()\n",
      "            belloni_turned = turn_states(belloni_states)\n",
      "        else:\n",
      "            belloni_turned = convert_belloni_clean()\n",
      "    else:\n",
      "        belloni_turned = [None]\n",
      "    d_all = []\n",
      "    for f in files:\n",
      "        print(\"I am on file \" + str(f))\n",
      "        fstring = f.split(\"_\")[1]\n",
      "        if fstring in belloni_turned:\n",
      "            state = belloni_turned[fstring]\n",
      "        else:\n",
      "            state = None\n",
      "            if label_only:\n",
      "                continue\n",
      "                \n",
      "        d = np.loadtxt(f)\n",
      "        #times = d[:,0]\n",
      "        #counts = d[:,1]\n",
      "        #plt.plot(times, counts)\n",
      "        dt_data = d[1:,0]-d[:-1,0]\n",
      "\n",
      "        dt_min = np.min(dt_data)\n",
      "        \n",
      "        #print(\"dt_min: \" + str(dt_min))\n",
      "        #nseg = int(tseg/dt_min) ## number of bins per segment\n",
      "        #noverlap = int(overlap_time/dt_min)\n",
      "        #print(\"nseg: \" + str(nseg))\n",
      "        #print(\"noverlap: \" + str(noverlap))\n",
      "\n",
      "        nbins = int(bin_res/dt_min)\n",
      "        #print(\"bin_res: \" + str(bin_res))\n",
      "        #print(\"dt_min: \" + str(dt_min))\n",
      "        #print(\"nbins: \" + str(nbins))\n",
      "\n",
      "        ### split data with breaks\n",
      "        breaks = np.where(dt_data > 0.008)[0]\n",
      "        #print(breaks)\n",
      "        if len(breaks) == 0:\n",
      "            dtemp = d\n",
      "            if bin_data:\n",
      "                #nbins = int(bin_res/tres)\n",
      "                dshort = bin_lightcurve(dtemp, nbins)                    \n",
      "            else:\n",
      "                dshort = dtemp  \n",
      "            d_all.append([dshort, state])\n",
      "        else:\n",
      "            for i,b in enumerate(breaks):\n",
      "                #print(\"Break in light curve at time bin %i; length of break dt = %.3f\"%(b, dt_data[b]))\n",
      "                if i == 0:\n",
      "                    if b == 0:\n",
      "                        #print(\"First break is at first time bin\")\n",
      "                        continue\n",
      "                    else:\n",
      "                        #print(\"I am extracting the data before the break\")\n",
      "                        dtemp = d[:b]\n",
      "                        if bin_data:\n",
      "                            #nbins = int(bin_res/tres)\n",
      "                            dshort = bin_lightcurve(dtemp, nbins)                    \n",
      "                        else:\n",
      "                            dshort = dtemp\n",
      "\n",
      "                else:\n",
      "                    #print(\"I am extracting data after break \" + str(i))\n",
      "                    dtemp = d[breaks[i-1]+1:b]\n",
      "                    if bin_data:\n",
      "                        #nbins = int(bin_res/tres)\n",
      "                        dshort = bin_lightcurve(dtemp, nbins)                    \n",
      "                    else:\n",
      "                        dshort = dtemp\n",
      "\n",
      "                d_all.append([dshort, state])\n",
      "\n",
      "            ## last segment\n",
      "            #print(\"I am computing last segment of file\")\n",
      "            dtemp = d[b+1:]\n",
      "            if bin_data:\n",
      "                #nbins = int(bin_res/tres)\n",
      "                dshort = bin_lightcurve(dtemp, nbins)                    \n",
      "            else:\n",
      "                dshort = dtemp\n",
      "\n",
      "            d_all.append([dshort, state])\n",
      "\n",
      "    return d_all\n",
      "######\n",
      "\n",
      "#f = files[0]\n",
      "#data = np.loadtxt(f)\n",
      "#hr1 = data[:,2]/data[:,1]\n",
      "#hr2 = data[:,3]/data[:,2]\n",
      "\n"
     ],
     "language": "python",
     "metadata": {},
     "outputs": [],
     "prompt_number": 11
    },
    {
     "cell_type": "markdown",
     "metadata": {},
     "source": [
      "Now let's actually extract the data.\n",
      "We're going to make some dumb assumptions here:\n",
      "- the length of an individual segment is 256 seconds\n",
      "- segments start every 64 seconds, such that consecutive segments overlap\n",
      "- we bin the data to a new time resolution of 0.125 seconds\n",
      "- we extract data with clean labels only, such that we can use it for supervised learning"
     ]
    },
    {
     "cell_type": "code",
     "collapsed": false,
     "input": [
      "#do we want to bin the data?\n",
      "bin_data = True\n",
      "bin_res = 0.125\n",
      "\n",
      "d_all = extract_obsmode_data(files, bin_data=True, bin_res=0.125, label_only=True, labels=\"clean\")\n",
      "\n",
      "\n"
     ],
     "language": "python",
     "metadata": {},
     "outputs": [
      {
       "output_type": "stream",
       "stream": "stdout",
       "text": [
        "I am on file LC_10408-01-01-00_combined.dat\n",
        "I am on file LC_10408-01-01-01_combined.dat\n",
        "I am on file LC_10408-01-21-00_combined.dat\n",
        "dt: 0.125"
       ]
      },
      {
       "output_type": "stream",
       "stream": "stdout",
       "text": [
        "\n",
        "I am on file LC_10408-01-21-01_combined.dat\n",
        "dt: 0.125"
       ]
      },
      {
       "output_type": "stream",
       "stream": "stdout",
       "text": [
        "\n",
        "dt: 0.125\n",
        "I am on file LC_10408-01-21-02_combined.dat\n",
        "I am on file LC_10408-01-25-00_combined.dat\n",
        "dt: 0.125"
       ]
      },
      {
       "output_type": "stream",
       "stream": "stdout",
       "text": [
        "\n",
        "dt: 0.125\n",
        "dt: 0.125"
       ]
      },
      {
       "output_type": "stream",
       "stream": "stdout",
       "text": [
        "\n",
        "dt: 0.125\n",
        "I am on file LC_10408-01-38-00_combined.dat\n",
        "dt: 0.125"
       ]
      },
      {
       "output_type": "stream",
       "stream": "stdout",
       "text": [
        "\n",
        "dt: 0.125\n",
        "dt: 0.125"
       ]
      },
      {
       "output_type": "stream",
       "stream": "stdout",
       "text": [
        "\n",
        "dt: 0.125\n",
        "dt: 0.125"
       ]
      },
      {
       "output_type": "stream",
       "stream": "stdout",
       "text": [
        "\n",
        "dt: 0.125\n",
        "I am on file LC_10408-01-42-00_combined.dat"
       ]
      },
      {
       "output_type": "stream",
       "stream": "stdout",
       "text": [
        "\n",
        "dt: 0.125"
       ]
      },
      {
       "output_type": "stream",
       "stream": "stdout",
       "text": [
        "\n",
        "dt: 0.125\n",
        "I am on file LC_20187-02-01-00_combined.dat"
       ]
      },
      {
       "output_type": "stream",
       "stream": "stdout",
       "text": [
        "\n",
        "dt: 0.125"
       ]
      },
      {
       "output_type": "stream",
       "stream": "stdout",
       "text": [
        "\n",
        "dt: 0.125\n",
        "dt: 0.125\n",
        "dt: 0.125"
       ]
      },
      {
       "output_type": "stream",
       "stream": "stdout",
       "text": [
        "\n",
        "dt: 0.125\n",
        "I am on file LC_20187-02-01-01_combined.dat\n",
        "dt: 0.125"
       ]
      },
      {
       "output_type": "stream",
       "stream": "stdout",
       "text": [
        "\n",
        "dt: 0.125\n",
        "dt: 0.125\n",
        "dt: 0.125\n",
        "dt: 0.125\n",
        "I am on file LC_20402-01-12-00_combined.dat"
       ]
      },
      {
       "output_type": "stream",
       "stream": "stdout",
       "text": [
        "\n",
        "dt: 0.125"
       ]
      },
      {
       "output_type": "stream",
       "stream": "stdout",
       "text": [
        "\n",
        "dt: 0.125\n",
        "dt: 0.125\n",
        "dt: 0.125\n",
        "dt: 0.125\n",
        "I am on file LC_20402-01-21-00_combined.dat"
       ]
      },
      {
       "output_type": "stream",
       "stream": "stdout",
       "text": [
        "\n",
        "I am on file LC_20402-01-21-01_combined.dat\n",
        "dt: 0.125"
       ]
      },
      {
       "output_type": "stream",
       "stream": "stdout",
       "text": [
        "\n",
        "dt: 0.125\n",
        "I am on file LC_20402-01-26-00_combined.dat\n",
        "dt: 0.125"
       ]
      },
      {
       "output_type": "stream",
       "stream": "stdout",
       "text": [
        "\n",
        "dt: 0.125\n",
        "dt: 0.125"
       ]
      },
      {
       "output_type": "stream",
       "stream": "stdout",
       "text": [
        "\n",
        "dt: 0.125\n",
        "dt: 0.125\n",
        "dt: 0.125\n",
        "dt: 0.125"
       ]
      },
      {
       "output_type": "stream",
       "stream": "stdout",
       "text": [
        "\n",
        "I am on file LC_20402-01-26-01_combined.dat\n",
        "dt: 0.125"
       ]
      },
      {
       "output_type": "stream",
       "stream": "stdout",
       "text": [
        "\n",
        "I am on file LC_20402-01-26-02_combined.dat\n",
        "dt: 0.125"
       ]
      },
      {
       "output_type": "stream",
       "stream": "stdout",
       "text": [
        "\n",
        "I am on file LC_20402-01-30-00_combined.dat\n",
        "dt: 0.125"
       ]
      },
      {
       "output_type": "stream",
       "stream": "stdout",
       "text": [
        "\n",
        "dt: 0.125\n",
        "I am on file LC_20402-01-30-01_combined.dat\n",
        "dt: 0.125"
       ]
      },
      {
       "output_type": "stream",
       "stream": "stdout",
       "text": [
        "\n",
        "dt: 0.125\n",
        "I am on file LC_20402-01-30-02_combined.dat\n",
        "dt: 0.125"
       ]
      },
      {
       "output_type": "stream",
       "stream": "stdout",
       "text": [
        "\n",
        "I am on file LC_20402-01-34-00_combined.dat\n",
        "dt: 0.125"
       ]
      },
      {
       "output_type": "stream",
       "stream": "stdout",
       "text": [
        "\n",
        "I am on file LC_20402-01-34-01_combined.dat\n",
        "dt: 0.125"
       ]
      },
      {
       "output_type": "stream",
       "stream": "stdout",
       "text": [
        "\n",
        "dt: 0.125\n",
        "dt: 0.125\n",
        "I am on file LC_20402-01-43-00_combined.dat\n",
        "dt: 0.125"
       ]
      },
      {
       "output_type": "stream",
       "stream": "stdout",
       "text": [
        "\n",
        "dt: 0.125"
       ]
      },
      {
       "output_type": "stream",
       "stream": "stdout",
       "text": [
        "\n",
        "dt: 0.125\n",
        "I am on file LC_20402-01-43-01_combined.dat\n",
        "dt: 0.125"
       ]
      },
      {
       "output_type": "stream",
       "stream": "stdout",
       "text": [
        "\n",
        "I am on file LC_20402-01-43-02_combined.dat\n",
        "dt: 0.125"
       ]
      },
      {
       "output_type": "stream",
       "stream": "stdout",
       "text": [
        "\n",
        "I am on file LC_20402-01-50-01_combined.dat\n",
        "dt: 0.125"
       ]
      },
      {
       "output_type": "stream",
       "stream": "stdout",
       "text": [
        "\n",
        "dt: 0.125\n",
        "dt: 0.125\n",
        "I am on file LC_20402-01-54-00_combined.dat\n",
        "dt: 0.125"
       ]
      },
      {
       "output_type": "stream",
       "stream": "stdout",
       "text": [
        "\n",
        "dt: 0.125"
       ]
      },
      {
       "output_type": "stream",
       "stream": "stdout",
       "text": [
        "\n",
        "dt: 0.125\n",
        "dt: 0.125"
       ]
      },
      {
       "output_type": "stream",
       "stream": "stdout",
       "text": [
        "\n",
        "dt: 0.125\n",
        "I am on file LC_20402-01-60-00_combined.dat"
       ]
      },
      {
       "output_type": "stream",
       "stream": "stdout",
       "text": [
        "\n",
        "I am on file LC_30402-01-06-00_combined.dat\n",
        "I am on file LC_30402-01-14-00_combined.dat\n",
        "I am on file LC_30402-01-17-00_combined.dat\n",
        "I am on file LC_30703-01-10-00_combined.dat\n",
        "I am on file LC_30703-01-22-00_combined.dat\n",
        "I am on file LC_30703-01-22-01_combined.dat\n",
        "I am on file LC_30703-01-26-00_combined.dat\n",
        "I am on file LC_30703-01-29-00_combined.dat\n",
        "I am on file LC_30703-01-33-00_combined.dat\n",
        "I am on file LC_30703-01-37-00_combined.dat\n",
        "I am on file LC_30703-01-38-00_combined.dat\n",
        "I am on file LC_40115-01-01-00_combined.dat\n",
        "I am on file LC_40115-01-09-00_combined.dat\n",
        "I am on file LC_40116-01-04-00_combined.dat\n",
        "I am on file LC_40116-01-04-01_combined.dat\n",
        "I am on file LC_40702-01-03-00_combined.dat\n",
        "I am on file LC_40703-01-01-00_combined.dat\n",
        "I am on file LC_40703-01-05-00_combined.dat\n",
        "I am on file LC_40703-01-12-00_combined.dat\n",
        "I am on file LC_40703-01-16-00_combined.dat\n",
        "I am on file LC_40703-01-16-01_combined.dat\n",
        "I am on file LC_40703-01-16-02_combined.dat\n",
        "I am on file LC_40703-01-17-00_combined.dat\n",
        "I am on file LC_40703-01-21-01_combined.dat\n",
        "I am on file LC_40703-01-21-02_combined.dat\n",
        "I am on file LC_40703-01-25-00_combined.dat\n",
        "I am on file LC_40703-01-37-00_combined.dat\n",
        "I am on file LC_40703-01-40-03_combined.dat\n",
        "I am on file LC_50703-01-01-00_combined.dat\n",
        "I am on file LC_50703-01-09-00_combined.dat\n",
        "I am on file LC_50703-01-09-01_combined.dat\n",
        "I am on file LC_50703-01-10-00_combined.dat\n",
        "I am on file LC_50703-01-10-02_combined.dat\n",
        "I am on file LC_50703-01-14-00_combined.dat\n",
        "I am on file LC_50703-01-14-01_combined.dat\n",
        "I am on file LC_50703-01-14-02_combined.dat\n",
        "I am on file LC_50703-01-28-00_combined.dat\n",
        "I am on file LC_50703-01-28-01_combined.dat\n",
        "I am on file LC_50703-01-28-02_combined.dat\n",
        "I am on file LC_50703-01-33-00_combined.dat\n",
        "I am on file LC_50703-01-33-01_combined.dat\n",
        "I am on file LC_50703-01-33-02_combined.dat\n",
        "I am on file LC_50703-01-38-00_combined.dat\n",
        "I am on file LC_50703-01-38-01_combined.dat\n",
        "I am on file LC_50703-01-38-02_combined.dat\n",
        "I am on file LC_50703-01-43-00_combined.dat\n",
        "I am on file LC_50703-01-43-01_combined.dat\n",
        "I am on file LC_50703-01-43-02_combined.dat\n",
        "I am on file LC_50703-01-44-01_combined.dat\n",
        "I am on file LC_50703-01-47-00_combined.dat\n",
        "I am on file LC_50703-01-47-01_combined.dat\n",
        "I am on file LC_50703-01-47-02_combined.dat\n",
        "I am on file LC_50703-01-47-03_combined.dat\n",
        "I am on file LC_50703-01-51-00_combined.dat\n",
        "I am on file LC_50703-01-51-01_combined.dat\n",
        "I am on file LC_60100-01-03-00_combined.dat\n",
        "I am on file LC_60100-01-03-01_combined.dat\n",
        "I am on file LC_60701-01-04-00_combined.dat\n",
        "I am on file LC_60701-01-04-01_combined.dat\n",
        "I am on file LC_60701-01-04-02_combined.dat\n",
        "I am on file LC_60701-01-13-00_combined.dat\n",
        "I am on file LC_60701-01-13-01_combined.dat\n",
        "I am on file LC_60701-01-13-02_combined.dat\n",
        "I am on file LC_60701-01-13-03_combined.dat\n",
        "I am on file LC_60701-01-20-00_combined.dat\n",
        "I am on file LC_60701-01-20-01_combined.dat\n",
        "I am on file LC_60701-01-20-02_combined.dat\n",
        "I am on file LC_60701-01-31-00_combined.dat\n",
        "I am on file LC_60701-01-31-01_combined.dat\n",
        "I am on file LC_70702-01-45-00_combined.dat\n",
        "I am on file LC_70702-01-45-01_combined.dat\n",
        "I am on file LC_80127-03-01-00_combined.dat\n",
        "I am on file LC_80188-02-01-00_combined.dat\n",
        "I am on file LC_80701-01-03-01_combined.dat\n",
        "I am on file LC_80701-01-07-00_combined.dat\n",
        "I am on file LC_80701-01-16-00_combined.dat\n",
        "I am on file LC_80701-01-26-00_combined.dat\n",
        "I am on file LC_80701-01-33-00_combined.dat\n",
        "I am on file LC_80701-01-33-01_combined.dat\n",
        "I am on file LC_80701-01-49-00_combined.dat\n",
        "I am on file LC_80701-01-49-01_combined.dat\n",
        "I am on file LC_80701-01-54-02_combined.dat\n",
        "I am on file LC_80701-01-55-00_combined.dat\n",
        "I am on file LC_80701-01-55-01_combined.dat\n",
        "I am on file LC_80701-01-55-02_combined.dat\n",
        "I am on file LC_90024-02-03-00_combined.dat\n",
        "I am on file LC_90024-02-07-00_combined.dat\n",
        "I am on file LC_90024-02-12-00_combined.dat\n",
        "I am on file LC_90024-02-17-00_combined.dat\n",
        "I am on file LC_90024-02-20-00_combined.dat\n",
        "I am on file LC_90024-02-33-00_combined.dat\n",
        "I am on file LC_90105-06-02-00_combined.dat\n",
        "I am on file LC_90105-09-01-00_combined.dat\n",
        "I am on file LC_90105-10-07-00_combined.dat\n",
        "I am on file LC_90108-01-05-00_combined.dat\n",
        "I am on file LC_90412-01-01-00_combined.dat\n",
        "I am on file LC_90701-01-10-00_combined.dat\n",
        "I am on file LC_90701-01-10-01_combined.dat\n",
        "I am on file LC_90701-01-17-00_combined.dat\n",
        "I am on file LC_90701-01-17-01_combined.dat\n",
        "I am on file LC_90701-01-26-00_combined.dat\n",
        "I am on file LC_90701-01-49-00_combined.dat\n",
        "I am on file LC_91701-01-02-01_combined.dat\n",
        "I am on file LC_91701-01-03-00_combined.dat\n",
        "I am on file LC_91701-01-21-00_combined.dat\n",
        "I am on file LC_91701-01-21-01_combined.dat\n",
        "I am on file LC_91701-01-21-02_combined.dat\n",
        "I am on file LC_91701-01-26-00_combined.dat\n",
        "I am on file LC_91701-01-53-00_combined.dat\n",
        "I am on file LC_91701-01-53-01_combined.dat\n",
        "I am on file LC_91701-01-53-02_combined.dat\n",
        "I am on file LC_91701-01-53-03_combined.dat\n",
        "I am on file LC_91701-01-54-00_combined.dat\n",
        "I am on file LC_91701-01-54-01_combined.dat\n",
        "I am on file LC_91701-01-58-00_combined.dat\n",
        "I am on file LC_91701-01-58-02_combined.dat\n",
        "I am on file LC_91701-01-61-00_combined.dat\n",
        "I am on file LC_91701-01-70-01_combined.dat\n",
        "I am on file LC_92702-01-10-00_combined.dat\n",
        "I am on file LC_92702-01-14-00_combined.dat\n",
        "I am on file LC_92702-01-14-01_combined.dat\n",
        "I am on file LC_92702-01-29-00_combined.dat\n",
        "I am on file LC_93701-01-08-00_combined.dat\n",
        "I am on file LC_93701-01-08-01_combined.dat\n",
        "I am on file LC_93701-01-11-00_combined.dat\n",
        "I am on file LC_93701-01-11-01_combined.dat\n",
        "I am on file LC_93701-01-11-02_combined.dat\n",
        "I am on file LC_93701-01-15-00_combined.dat\n",
        "I am on file LC_93701-01-41-00_combined.dat\n",
        "I am on file LC_93701-01-41-01_combined.dat\n",
        "I am on file LC_94701-01-13-00_combined.dat\n",
        "I am on file LC_94701-01-18-00_combined.dat\n",
        "I am on file LC_94701-01-24-00_combined.dat\n",
        "I am on file LC_94701-01-56-00_combined.dat\n",
        "I am on file LC_94701-01-60-00_combined.dat\n",
        "I am on file LC_94701-01-60-01_combined.dat\n",
        "I am on file LC_95701-01-01-00_combined.dat\n",
        "I am on file LC_95701-01-13-00_combined.dat\n",
        "I am on file LC_95701-01-14-00_combined.dat\n",
        "I am on file LC_95701-01-23-00_combined.dat\n",
        "I am on file LC_95701-01-23-01_combined.dat\n",
        "I am on file LC_96701-01-11-00_combined.dat\n",
        "I am on file LC_96701-01-12-00_combined.dat\n",
        "I am on file LC_96701-01-25-00_combined.dat\n",
        "I am on file LC_96701-01-26-00_combined.dat\n",
        "I am on file LC_96701-01-33-00_combined.dat\n",
        "I am on file LC_96701-01-35-00_combined.dat\n",
        "I am on file LC_96701-01-37-00_combined.dat\n",
        "I am on file LC_96701-01-44-00_combined.dat\n",
        "I am on file LC_96701-01-52-00_combined.dat\n",
        "I am on file LC_96701-01-52-01_combined.dat\n"
       ]
      }
     ],
     "prompt_number": 14
    },
    {
     "cell_type": "code",
     "collapsed": false,
     "input": [
      "## random small function to plot all light curves in a segment\n",
      "def plot_all(d_all):\n",
      "    for d in d_all:\n",
      "        #print(d[0][1,0]-d[0][0,0])\n",
      "        dt_data = d[0][1:,0]-d[0][:-1,0]\n",
      "        #print(\"dt: \" + str(np.min(dt_data)))\n",
      "        plt.figure()\n",
      "        plt.plot(d[0][:,0], d[0][:,1])\n",
      "        plt.plot(d[0][:,0], d[0][:,2])\n",
      "        plt.plot(d[0][:,0], d[0][:,3])\n",
      "    return\n",
      "\n",
      "plot_all(d_all)"
     ],
     "language": "python",
     "metadata": {},
     "outputs": [
      {
       "metadata": {},
       "output_type": "display_data",
       "png": "[encoded data removed]",
       "text": [
        "<matplotlib.figure.Figure at 0x131e5c910>"
       ]
      },
      {
       "metadata": {},
       "output_type": "display_data",
       "png": "[encoded data removed]",
       "text": [
        "<matplotlib.figure.Figure at 0x11a78f310>"
       ]
      },
      {
       "metadata": {},
       "output_type": "display_data",
       "png": "[encoded data removed]",
       "text": [
        "<matplotlib.figure.Figure at 0x11c916ad0>"
       ]
      },
      {
       "metadata": {},
       "output_type": "display_data",
       "png": "[encoded data removed]",
       "text": [
        "<matplotlib.figure.Figure at 0x11aba55d0>"
       ]
      },
      {
       "metadata": {},
       "output_type": "display_data",
       "png": "[encoded data removed]",
       "text": [
        "<matplotlib.figure.Figure at 0x11a7cf590>"
       ]
      }
     ],
     "prompt_number": 236
    },
    {
     "cell_type": "markdown",
     "metadata": {},
     "source": [
      "## Manual Classification\n",
      "\n",
      "Manual classification (by eye, using light curves and hardness ratios) was performed by Belloni+ 2000. They separated the data into 12 classes, where the last one ($\\chi$-state) has four subclasses, because that's how astronomers roll. \n",
      "\n",
      "Below the classification from Belloni+ 2000 (Table 1). The list contains the ObsIDs containing light curves of that class. Note that where the source switches class within an observation, an ObsID will be present in more than one source class.\n",
      "\n",
      "The labels for individual light curves (from Belloni+ 2000) is in two places:\n",
      "- the script `convert_belloni.py` includes *all* observations and classes from the paper \n",
      "  (including those where there were several classes per light curves)\n",
      "- the file `1915Belloniclass.dat` contains the \"clean\" sample (only observations where the class\n",
      "   did not change during the observations, from Lucy\n",
      "\n",
      "Output is, in both cases, a dictionary with keys that correspond to ObsIDs (with dashes removed to match Standard 1 data, although that can be changed) and a string for each key that corresponds to the classification."
     ]
    },
    {
     "cell_type": "code",
     "collapsed": false,
     "input": [
      "import convert_belloni\n",
      "\n",
      "## read data from Lucy's file with clean labels\n",
      "def convert_belloni_clean(turned=True):\n",
      "    ## cleaned version; without observations that have light curves\n",
      "    ## with more than one class\n",
      "    file = open(\"1915Belloniclass.dat\")\n",
      "    lines = file.readlines()\n",
      "    header = lines[0].split()\n",
      "    belloni_clean = {}\n",
      "    for h,l in zip(header, lines[1:]):\n",
      "        belloni_clean[h] = l.split()\n",
      "    \n",
      "    if turned:\n",
      "        belloni_clean_turned = turn_states(belloni_clean)\n",
      "        return belloni_clean_turned\n",
      "    else:\n",
      "        return belloni_clean\n",
      "    \n",
      "## turn around conversion (just in case):\n",
      "def turn_states(states, remove_dashes = False):\n",
      "    turned_states = {}\n",
      "    for k,lis in states.iteritems():\n",
      "        for l in lis:\n",
      "            if remove_dashes:\n",
      "                turned_states[l.translate(None, \"-\")] = k\n",
      "            else:\n",
      "                turned_states[l] = k\n",
      "    return turned_states\n",
      "\n",
      "## directly lifted from Belloni+ 2000\n",
      "belloni_states = convert_belloni.main()\n",
      "belloni_turned = turn_states(belloni_states)\n",
      "\n",
      "## from Lucy's file with labels only for observations\n",
      "## where the class does not change during the observation\n",
      "belloni_clean_turned = convert_belloni_clean()\n"
     ],
     "language": "python",
     "metadata": {},
     "outputs": [],
     "prompt_number": 13
    },
    {
     "cell_type": "markdown",
     "metadata": {},
     "source": [
      "## Feature Extraction\n",
      "\n",
      "We're gonna need some features, so let's make some!\n",
      "\n",
      "For now, we'll have the following features to play with:\n",
      "- mean count rate `fmu`\n",
      "- variance in the total light curve `fvar`\n",
      "- integrated power in 4 bands: \n",
      "    - PA: 0.0039-0.031 Hz, \n",
      "    - PB: 0.031-0.25 Hz, \n",
      "    - PC: 0.25-2.0 Hz and \n",
      "    - PD: 2.0-16.0 Hz\n",
      "    - power colours: PC/PA and PB/PD\n",
      "- frequency at which maximum power is observed\n",
      "- hardness ratios in 2 bands (processed data only, NOT Standard 1 data)\n",
      "    - (2-6keV)/(2-13keV)\n",
      "    - (9-20kev)/(2-13keV)\n",
      "\n",
      "For now, we're returning the mean hardness ratio within a segment, but we could\n",
      "also return all hardness ratio points as a vector. This may be more descriptive,\n",
      "but also big.\n",
      "\n"
     ]
    },
    {
     "cell_type": "code",
     "collapsed": false,
     "input": [
      "## boundaries for power bands\n",
      "power_colour_boundaries = {\"pa_min\":0.0039, \"pa_max\":0.031, \n",
      "                           \"pb_min\":0.031, \"pb_max\":0.25,\n",
      "                           \"pc_min\":0.25, \"pc_max\":2.0,\n",
      "                           \"pd_min\":2.0, \"pd_max\":16.0}\n"
     ],
     "language": "python",
     "metadata": {},
     "outputs": [],
     "prompt_number": 15
    },
    {
     "cell_type": "code",
     "collapsed": false,
     "input": [],
     "language": "python",
     "metadata": {},
     "outputs": [],
     "prompt_number": 15
    },
    {
     "cell_type": "code",
     "collapsed": false,
     "input": [
      "\n",
      "\n",
      "\n",
      "## set clean_only=True if you only want to extract the sample\n",
      "## with labels, not the full sample\n",
      "\n",
      "def extract_features(d_all, pcb, tseg=256., overlap_time=64., clean_only=True, hr=True, output_lc=True):\n",
      "    \"\"\"\n",
      "    Extract features from a set of light curves d_all.\n",
      "    \n",
      "    pcb defines the boundaries for the frequency bands used for the power colours.\n",
      "    \n",
      "    If clean_only is true, extract only features from data points\n",
      "    where there is a label (otherwise extract features from entire\n",
      "    data set).\n",
      "    \n",
      "    if hr is true, assume that data is given in several energy bands\n",
      "    and we can extract hardness ratios. \n",
      "    \n",
      "    if output_lc is True, return light curves and power spectra along with\n",
      "    features (ONLY DO THIS FOR DEBUGGING ON SMALL DATA SETS, OTHERWISE YOU'LL\n",
      "    KILL YOUR MEMORY! You've been warned).\n",
      "    \n",
      "    \"\"\"\n",
      "    ## now make power spectra and extract features\n",
      "    ## in the following lists:\n",
      "    fmu, fvar = [], [] ## count rate mean and variance\n",
      "    fmax = [] ## frequency where power in the entire band is maximum\n",
      "    psd_a, psd_b, psd_c, psd_d = [], [], [], [] ## power colour bands\n",
      "    pc1, pc2 = [], [] ## power colours\n",
      "    labels = [] ## labels for labelled data\n",
      "    if output_lc:\n",
      "        lc_all = [] ## all light curves (includes power spectra and features)\n",
      "    \n",
      "    if hr:\n",
      "        hr1, hr2, hr1_mean, hr2_mean, hr1_var, hr2_var = [], [], [], [], [], []\n",
      "    \n",
      "    for i,d_seg in enumerate(d_all):\n",
      "        \n",
      "   \n",
      "        data = d_seg[0]\n",
      "        #print(data)\n",
      "        state = d_seg[1]\n",
      "\n",
      "        dt_data = data[1:,0] - data[:-1,0]\n",
      "        dt = np.min(dt_data)\n",
      "        print(\"dt: \" + str(dt))\n",
      "        nseg = tseg/dt\n",
      "        noverlap = overlap_time/dt\n",
      "        \n",
      "        istart = 0\n",
      "        iend = nseg\n",
      "        j = 0\n",
      "     \n",
      "        if clean_only == False or (clean_only == True and state is not None):\n",
      "            #print(state)\n",
      "            while iend <= len(data):\n",
      "                dtemp = data[istart:iend]\n",
      "                times = dtemp[:,0]\n",
      "                counts = dtemp[:,1]\n",
      "                if hr:\n",
      "                    low_counts = dtemp[:,2]\n",
      "                    high_counts = dtemp[:,3]\n",
      "                    hr1_temp = np.mean(low_counts/counts)\n",
      "                    hr2_temp = np.mean(high_counts/counts)\n",
      "                    hr1_var_temp = np.var(low_counts/counts)\n",
      "                    hr2_var_temp = np.var(high_counts/counts)\n",
      "                lc = lightcurve.Lightcurve(times, counts=counts)\n",
      "                lc.fmu = np.mean(counts)\n",
      "                lc.fvar = np.var(counts)\n",
      "                lc.state = state\n",
      "                try:\n",
      "                    ps = powerspectrum.PowerSpectrum(times, counts=counts, norm=\"rms\")\n",
      "                except:\n",
      "                    print(\"Exception! boo!\")\n",
      "                    istart += noverlap\n",
      "                    iend += noverlap\n",
      "                    continue\n",
      "                lc.ps = ps\n",
      "\n",
      "                if len(ps.freq) < 1024:\n",
      "                    print(\"i: \" + str(i))\n",
      "                    print(\"j: \" + str(j))\n",
      "                    print(len(ps.freq))\n",
      "                    print(ps.freq[0])\n",
      "                    print(ps.freq[-1])\n",
      "\n",
      "                ## find frequency with maximum power, exclude 0th frequency\n",
      "                fmax_ind = np.where(ps.ps[1:] == np.max(ps.ps[1:]))[0]+1\n",
      "                lc.maxfreq = ps.freq[fmax_ind[0]]\n",
      "\n",
      "                ## find power in spectral bands for power-colours\n",
      "                pa_min_freq = ps.freq.searchsorted(pcb[\"pa_min\"])\n",
      "                pa_max_freq = ps.freq.searchsorted(pcb[\"pa_max\"])\n",
      "\n",
      "                pb_min_freq = ps.freq.searchsorted(pcb[\"pb_min\"])\n",
      "                pb_max_freq = ps.freq.searchsorted(pcb[\"pb_max\"])\n",
      "\n",
      "                pc_min_freq = ps.freq.searchsorted(pcb[\"pc_min\"])\n",
      "                pc_max_freq = ps.freq.searchsorted(pcb[\"pc_max\"])\n",
      "\n",
      "                pd_min_freq = ps.freq.searchsorted(pcb[\"pd_min\"])\n",
      "                pd_max_freq = ps.freq.searchsorted(pcb[\"pd_max\"])\n",
      "\n",
      "                lc.psd_a = np.sum(ps.ps[pa_min_freq:pa_max_freq])\n",
      "                lc.psd_b = np.sum(ps.ps[pb_min_freq:pb_max_freq])\n",
      "                lc.psd_c = np.sum(ps.ps[pc_min_freq:pc_max_freq])\n",
      "                lc.psd_d = np.sum(ps.ps[pd_min_freq:pd_max_freq])\n",
      "                lc.pc1 = np.sum(ps.ps[pc_min_freq:pc_max_freq])/np.sum(ps.ps[pa_min_freq:pa_max_freq])\n",
      "                lc.pc2 = np.sum(ps.ps[pb_min_freq:pb_max_freq])/np.sum(ps.ps[pd_min_freq:pd_max_freq])\n",
      "\n",
      "                if clean_only == False or (clean_only == True and state is not None):\n",
      "                    fmu.append(lc.fmu)\n",
      "                    fvar.append(lc.fvar)\n",
      "                    labels.append(state)\n",
      "                    fmax.append(lc.maxfreq)\n",
      "\n",
      "                    psd_a.append(np.sum(ps.ps[pa_min_freq:pa_max_freq]))\n",
      "                    psd_b.append(np.sum(ps.ps[pb_min_freq:pb_max_freq]))\n",
      "                    psd_c.append(np.sum(ps.ps[pc_min_freq:pc_max_freq]))\n",
      "                    psd_d.append(np.sum(ps.ps[pd_min_freq:pd_max_freq]))\n",
      "\n",
      "                    pc1.append(np.sum(ps.ps[pc_min_freq:pc_max_freq])/np.sum(ps.ps[pa_min_freq:pa_max_freq]))\n",
      "                    pc2.append(np.sum(ps.ps[pb_min_freq:pb_max_freq])/np.sum(ps.ps[pd_min_freq:pd_max_freq]))\n",
      "\n",
      "                    if hr:\n",
      "                        hr1.append(low_counts/counts)\n",
      "                        hr2.append(high_counts/counts)\n",
      "                        hr1_mean.append(hr1_temp)\n",
      "                        hr2_mean.append(hr2_temp)\n",
      "                        hr1_var.append(hr1_var_temp)\n",
      "                        hr2_var.append(hr2_var_temp)\n",
      "                    if output_lc:\n",
      "                        lc_all.append(lc)\n",
      "                #labels.append(state)\n",
      "                #plt.figure()\n",
      "                #plt.loglog(ps.freq[1:], ps.ps[1:], lw=2, color=\"black\")\n",
      "                istart += noverlap\n",
      "                iend += noverlap\n",
      "                j+=1\n",
      "        else:\n",
      "            continue\n",
      "            \n",
      "    all_features = {\"fmu\":fmu, \"fvar\":fvar, \"labels\":labels, \"fmax\":fmax, \n",
      "                    \"psd_a\":psd_a, \"psd_b\":psd_b, \"psd_c\":psd_c, \"psd_d\":psd_d,\n",
      "                    \"pc1\":pc1, \"pc2\":pc2}\n",
      "    if output_lc:\n",
      "        all_features[\"lc_all\"] = lc_all\n",
      "    if hr:\n",
      "        all_features[\"hr1\"] = hr1\n",
      "        all_features[\"hr2\"] = hr2\n",
      "        all_features[\"hr1 mean\"] = hr1_mean\n",
      "        all_features[\"hr2 mean\"] = hr2_mean\n",
      "        all_features[\"hr1 var\"] = hr1_var\n",
      "        all_features[\"hr2 var\"] = hr2_var\n",
      "\n",
      "    return all_features\n"
     ],
     "language": "python",
     "metadata": {},
     "outputs": [],
     "prompt_number": 88
    },
    {
     "cell_type": "markdown",
     "metadata": {},
     "source": [
      "## First Try: Classification Using the Labels\n",
      "\n",
      "Here, we'll try some clustering using labels. Not sure what that'll be. Probably a random forest.\n",
      "from sklearn.preprocessing import StandardScaler\n",
      "\n",
      "Random forests are kind of cool. I hear Josh Bloom likes them."
     ]
    },
    {
     "cell_type": "code",
     "collapsed": false,
     "input": [
      "## here are some dumb assumptions about the light curves we'll use\n",
      "tseg = 256 ## segment length\n",
      "overlap_time = 64. ## overlap in seconds\n",
      "\n",
      "\n",
      "af = extract_features(d_all, power_colour_boundaries, clean_only = False, output_lc=False, hr=True)\n",
      "features = np.array([af[\"fmu\"], af[\"fvar\"], af[\"fmax\"], af[\"hr1 mean\"], af[\"hr1 var\"], af[\"hr2 mean\"], af[\"hr2 var\"],\n",
      "                     af[\"psd_a\"], af[\"psd_b\"], af[\"psd_c\"], af[\"psd_d\"], \n",
      "                     af[\"pc1\"], af[\"pc2\"]])\n",
      "features = np.transpose(features)\n",
      "\n",
      "labels = af[\"labels\"]\n"
     ],
     "language": "python",
     "metadata": {},
     "outputs": [
      {
       "output_type": "stream",
       "stream": "stdout",
       "text": [
        "dt: 0.125\n",
        "dt: 0.125"
       ]
      },
      {
       "output_type": "stream",
       "stream": "stdout",
       "text": [
        "\n",
        "dt: 0.125"
       ]
      },
      {
       "output_type": "stream",
       "stream": "stdout",
       "text": [
        "\n",
        "dt: 0.125"
       ]
      },
      {
       "output_type": "stream",
       "stream": "stdout",
       "text": [
        "\n",
        "dt: 0.125"
       ]
      },
      {
       "output_type": "stream",
       "stream": "stdout",
       "text": [
        "\n",
        "dt: 0.125"
       ]
      },
      {
       "output_type": "stream",
       "stream": "stdout",
       "text": [
        "\n",
        "dt: 0.125"
       ]
      },
      {
       "output_type": "stream",
       "stream": "stdout",
       "text": [
        "\n",
        "dt: 0.125"
       ]
      },
      {
       "output_type": "stream",
       "stream": "stdout",
       "text": [
        "\n",
        "dt: 0.125"
       ]
      },
      {
       "output_type": "stream",
       "stream": "stdout",
       "text": [
        "\n",
        "dt: 0.125\n",
        "dt: 0.125"
       ]
      },
      {
       "output_type": "stream",
       "stream": "stdout",
       "text": [
        "\n",
        "dt: 0.125"
       ]
      },
      {
       "output_type": "stream",
       "stream": "stdout",
       "text": [
        "\n",
        "dt: 0.125"
       ]
      },
      {
       "output_type": "stream",
       "stream": "stdout",
       "text": [
        "\n",
        "dt: 0.125"
       ]
      },
      {
       "output_type": "stream",
       "stream": "stdout",
       "text": [
        "\n",
        "dt: 0.125"
       ]
      },
      {
       "output_type": "stream",
       "stream": "stdout",
       "text": [
        "\n",
        "dt: 0.125"
       ]
      },
      {
       "output_type": "stream",
       "stream": "stdout",
       "text": [
        "\n",
        "dt: 0.125\n",
        "dt: 0.125"
       ]
      },
      {
       "output_type": "stream",
       "stream": "stdout",
       "text": [
        "\n",
        "dt: 0.125"
       ]
      },
      {
       "output_type": "stream",
       "stream": "stdout",
       "text": [
        "\n",
        "dt: 0.125"
       ]
      },
      {
       "output_type": "stream",
       "stream": "stdout",
       "text": [
        "\n",
        "dt: 0.125"
       ]
      },
      {
       "output_type": "stream",
       "stream": "stdout",
       "text": [
        "\n",
        "dt: 0.125"
       ]
      },
      {
       "output_type": "stream",
       "stream": "stdout",
       "text": [
        "\n",
        "dt: 0.125"
       ]
      },
      {
       "output_type": "stream",
       "stream": "stdout",
       "text": [
        "\n",
        "dt: 0.125\n",
        "dt: 0.125"
       ]
      },
      {
       "output_type": "stream",
       "stream": "stdout",
       "text": [
        "\n",
        "dt: 0.125"
       ]
      },
      {
       "output_type": "stream",
       "stream": "stdout",
       "text": [
        "\n",
        "dt: 0.125"
       ]
      },
      {
       "output_type": "stream",
       "stream": "stdout",
       "text": [
        "\n",
        "dt: 0.125\n",
        "dt: 0.125"
       ]
      },
      {
       "output_type": "stream",
       "stream": "stdout",
       "text": [
        "\n",
        "dt: 0.125"
       ]
      },
      {
       "output_type": "stream",
       "stream": "stdout",
       "text": [
        "\n",
        "dt: 0.125"
       ]
      },
      {
       "output_type": "stream",
       "stream": "stdout",
       "text": [
        "\n",
        "dt: 0.125"
       ]
      },
      {
       "output_type": "stream",
       "stream": "stdout",
       "text": [
        "\n",
        "dt: 0.125\n",
        "dt: 0.125"
       ]
      },
      {
       "output_type": "stream",
       "stream": "stdout",
       "text": [
        "\n",
        "dt: 0.125"
       ]
      },
      {
       "output_type": "stream",
       "stream": "stdout",
       "text": [
        "\n",
        "dt: 0.125"
       ]
      },
      {
       "output_type": "stream",
       "stream": "stdout",
       "text": [
        "\n",
        "dt: 0.125"
       ]
      },
      {
       "output_type": "stream",
       "stream": "stdout",
       "text": [
        "\n",
        "dt: 0.125"
       ]
      },
      {
       "output_type": "stream",
       "stream": "stdout",
       "text": [
        "\n",
        "dt: 0.125"
       ]
      },
      {
       "output_type": "stream",
       "stream": "stdout",
       "text": [
        "\n",
        "dt: 0.125"
       ]
      },
      {
       "output_type": "stream",
       "stream": "stdout",
       "text": [
        "\n",
        "dt: 0.125"
       ]
      },
      {
       "output_type": "stream",
       "stream": "stdout",
       "text": [
        "\n",
        "dt: 0.125"
       ]
      },
      {
       "output_type": "stream",
       "stream": "stdout",
       "text": [
        "\n",
        "dt: 0.125"
       ]
      },
      {
       "output_type": "stream",
       "stream": "stdout",
       "text": [
        "\n",
        "dt: 0.125"
       ]
      },
      {
       "output_type": "stream",
       "stream": "stdout",
       "text": [
        "\n",
        "dt: 0.125"
       ]
      },
      {
       "output_type": "stream",
       "stream": "stdout",
       "text": [
        "\n",
        "dt: 0.125"
       ]
      },
      {
       "output_type": "stream",
       "stream": "stdout",
       "text": [
        "\n",
        "dt: 0.125"
       ]
      },
      {
       "output_type": "stream",
       "stream": "stdout",
       "text": [
        "\n",
        "dt: 0.125\n",
        "dt: 0.125\n",
        "dt: 0.125"
       ]
      },
      {
       "output_type": "stream",
       "stream": "stdout",
       "text": [
        "\n",
        "dt: 0.125\n",
        "dt: 0.125"
       ]
      },
      {
       "output_type": "stream",
       "stream": "stdout",
       "text": [
        "\n",
        "dt: 0.125"
       ]
      },
      {
       "output_type": "stream",
       "stream": "stdout",
       "text": [
        "\n",
        "dt: 0.125"
       ]
      },
      {
       "output_type": "stream",
       "stream": "stdout",
       "text": [
        "\n",
        "dt: 0.125\n",
        "dt: 0.125"
       ]
      },
      {
       "output_type": "stream",
       "stream": "stdout",
       "text": [
        "\n",
        "dt: 0.125"
       ]
      },
      {
       "output_type": "stream",
       "stream": "stdout",
       "text": [
        "\n",
        "dt: 0.125"
       ]
      },
      {
       "output_type": "stream",
       "stream": "stdout",
       "text": [
        "\n",
        "dt: 0.125\n",
        "dt: 0.125"
       ]
      },
      {
       "output_type": "stream",
       "stream": "stdout",
       "text": [
        "\n",
        "dt: 0.125"
       ]
      },
      {
       "output_type": "stream",
       "stream": "stdout",
       "text": [
        "\n",
        "dt: 0.125"
       ]
      },
      {
       "output_type": "stream",
       "stream": "stdout",
       "text": [
        "\n",
        "dt: 0.125"
       ]
      },
      {
       "output_type": "stream",
       "stream": "stdout",
       "text": [
        "\n"
       ]
      }
     ],
     "prompt_number": 89
    },
    {
     "cell_type": "code",
     "collapsed": false,
     "input": [
      "fnew = list(features[:1100])\n",
      "fnew.extend(features[1101:])\n",
      "fnew = np.array(fnew)\n",
      "fnew.shape\n",
      "\n",
      "features = fnew"
     ],
     "language": "python",
     "metadata": {},
     "outputs": [],
     "prompt_number": 90
    },
    {
     "cell_type": "code",
     "collapsed": false,
     "input": [
      "## fiddling with better representations of the correlations between HR1 and HR2\n",
      "\n",
      "hr1 = af[\"hr1\"]\n",
      "hr2 = af[\"hr2\"]\n",
      "\n",
      "hr1 = np.array(hr1)\n",
      "hr2 = np.array(hr2)\n",
      "\n",
      "\n",
      "plt.plot(np.arange(len(hr1[200]))*0.125, hr1[200])\n",
      "plt.plot(np.arange(len(hr1[200]))*0.125, hr2[200])\n",
      "np.corrcoef(hr1[1000], hr2[1000])"
     ],
     "language": "python",
     "metadata": {},
     "outputs": [
      {
       "metadata": {},
       "output_type": "pyout",
       "prompt_number": 126,
       "text": [
        "array([[ 1.        , -0.78136792],\n",
        "       [-0.78136792,  1.        ]])"
       ]
      },
      {
       "metadata": {},
       "output_type": "display_data",
       "png": "[encoded data removed]",
       "text": [
        "<matplotlib.figure.Figure at 0x111804750>"
       ]
      }
     ],
     "prompt_number": 126
    },
    {
     "cell_type": "code",
     "collapsed": false,
     "input": [
      "from sklearn.preprocessing import StandardScaler\n",
      "\n",
      "## normalise features\n",
      "scaler = StandardScaler().fit(fnew)\n",
      "f_scaled = scaler.transform(fnew)\n",
      "f_scaled.shape"
     ],
     "language": "python",
     "metadata": {},
     "outputs": [
      {
       "metadata": {},
       "output_type": "pyout",
       "prompt_number": 127,
       "text": [
        "(1448, 13)"
       ]
      }
     ],
     "prompt_number": 127
    },
    {
     "cell_type": "code",
     "collapsed": false,
     "input": [
      "## whole data set size\n",
      "s_data = features.shape[0]\n",
      "## training data size: 1/2 of data size\n",
      "s_train = s_data*0.8\n",
      "\n",
      "n_features = features.shape[1]\n",
      "\n",
      "## shuffle features and labels and make training and testing data sets\n",
      "shuffle_ind = np.arange(f_scaled.shape[0])\n",
      "np.random.shuffle(shuffle_ind)\n",
      "\n",
      "features_shuffled = np.array([f_scaled[s] for s in shuffle_ind])\n",
      "labels_shuffled = np.array([labels[s] for s in shuffle_ind])\n",
      "\n",
      "features_train = features_shuffled[:s_train]\n",
      "labels_train = labels_shuffled[:s_train]\n",
      "features_test = features_shuffled[s_train:]\n",
      "labels_test = labels_shuffled[s_train:]\n",
      "features_train.shape"
     ],
     "language": "python",
     "metadata": {},
     "outputs": [
      {
       "metadata": {},
       "output_type": "pyout",
       "prompt_number": 249,
       "text": [
        "(1158, 13)"
       ]
      }
     ],
     "prompt_number": 249
    },
    {
     "cell_type": "code",
     "collapsed": false,
     "input": [
      "from sklearn.neighbors import KNeighborsClassifier, NearestCentroid\n",
      "from sklearn import svm\n",
      "from sklearn import tree\n",
      "knn = KNeighborsClassifier(n_neighbors=5)\n",
      "knn.fit(features_train, labels_train) \n",
      "\n",
      "nc = NearestCentroid() \n",
      "nc.fit(features_train, labels_train) \n",
      "\n",
      "\n",
      "dtc = tree.DecisionTreeClassifier()\n",
      "dtc.fit(features_train, labels_train)\n",
      "\n",
      "\n",
      "from sklearn.ensemble import BaggingClassifier, RandomForestClassifier, ExtraTreesClassifier\n",
      "from sklearn.neighbors import KNeighborsClassifier\n",
      "\n",
      "rfc = RandomForestClassifier(n_estimators=1000,max_depth=None, max_features=\"auto\", \n",
      "                             min_samples_split=1, bootstrap=True )\n",
      "rfc.fit(features_train, labels_train)\n",
      "\n",
      "etc = ExtraTreesClassifier(n_estimators=200, max_depth=None, max_features=\"auto\",\n",
      "                            min_samples_split=1, bootstrap=True)\n",
      "etc.fit(features_train, labels_train)\n",
      "\n",
      "bagging = BaggingClassifier(KNeighborsClassifier(),\n",
      "                            max_samples=0.5, max_features=0.5)\n",
      "\n",
      "bagging.fit(features_train, labels_train)\n",
      "\n",
      "\n",
      "#svc = svm.SVC(kernel='linear')\n",
      "#svc.fit(features_train, labels_train)    \n",
      " \n",
      "labels_knn = knn.predict(features_test)\n",
      "#labels_svc = svc.predict(features_test)\n",
      "labels_nc = nc.predict(features_test)\n",
      "labels_dtc = dtc.predict(features_test)\n",
      "labels_bagging = bagging.predict(features_test)\n",
      "labels_rfc = rfc.predict(features_test)\n",
      "labels_etc = etc.predict(features_test)\n",
      "\n",
      "\n",
      "\n"
     ],
     "language": "python",
     "metadata": {},
     "outputs": [],
     "prompt_number": 268
    },
    {
     "cell_type": "code",
     "collapsed": false,
     "input": [
      "correct_knn_class = 0.0\n",
      "#correct_svc_class = 0.0\n",
      "false_knn_class = 0.0\n",
      "#false_svc_class = 0.0\n",
      "correct_nc_class = 0.0\n",
      "false_nc_class = 0.0\n",
      "correct_dtc_class = 0.0\n",
      "false_dtc_class = 0.0\n",
      "correct_bagging_class = 0.0\n",
      "false_bagging_class = 0.0\n",
      "correct_rfc_class = 0.0\n",
      "false_rfc_class = 0.0\n",
      "correct_etc_class = 0.0\n",
      "false_etc_class = 0.0\n",
      "\n",
      "\n",
      "for p,s,n,d,b,r,e,t in zip(labels_knn, labels_svc, labels_nc,labels_dtc,\\\n",
      "                           labels_bagging, labels_rfc, labels_test, labels_etc):\n",
      "    print(\"predicted: \"+ p + \", \" + s + \"; real: \" + str(t))\n",
      "    if p == t:\n",
      "        correct_knn_class += 1\n",
      "    else:\n",
      "        false_knn_class += 1\n",
      "#    if s == t:\n",
      "#        correct_svc_class += 1\n",
      "#    else:\n",
      "#        false_svc_class += 1\n",
      "    if n == t:\n",
      "        correct_nc_class +=1\n",
      "    else:\n",
      "        false_nc_class +=1\n",
      "    if d == t:\n",
      "        correct_dtc_class +=1\n",
      "    else:\n",
      "        false_dtc_class +=1\n",
      "    if b == t:\n",
      "        correct_bagging_class +=1\n",
      "    else:\n",
      "        false_bagging_class +=1\n",
      "    if r == t:\n",
      "        correct_rfc_class +=1\n",
      "    else:\n",
      "        false_rfc_class +=1\n",
      "    if e == t:\n",
      "        correct_etc_class +=1\n",
      "    else:\n",
      "        false_etc_class +=1\n",
      "\n",
      "\n",
      "\n",
      "\n",
      "\n",
      "\n"
     ],
     "language": "python",
     "metadata": {},
     "outputs": [
      {
       "output_type": "stream",
       "stream": "stdout",
       "text": [
        "predicted: alpha, chi3; real: alpha\n",
        "predicted: alpha, rho; real: alpha\n",
        "predicted: rho, lambda; real: rho\n",
        "predicted: alpha, chi1; real: alpha\n",
        "predicted: chi3, delta; real: chi3\n",
        "predicted: rho, chi2; real: rho\n",
        "predicted: alpha, chi2; real: alpha\n",
        "predicted: chi4, chi4; real: chi4\n",
        "predicted: theta, rho; real: theta\n",
        "predicted: rho, theta; real: rho\n",
        "predicted: chi2, chi2; real: chi2\n",
        "predicted: alpha, alpha; real: alpha\n",
        "predicted: alpha, alpha; real: alpha\n",
        "predicted: alpha, alpha; real: alpha\n",
        "predicted: alpha, chi4; real: alpha\n",
        "predicted: alpha, alpha; real: alpha\n",
        "predicted: chi4, delta; real: chi4\n",
        "predicted: chi3, chi4; real: chi3\n",
        "predicted: chi4, theta; real: chi4\n",
        "predicted: delta, theta; real: delta\n",
        "predicted: chi2, chi4; real: chi2\n",
        "predicted: chi1, alpha; real: chi1\n",
        "predicted: chi2, alpha; real: chi2\n",
        "predicted: delta, alpha; real: delta\n",
        "predicted: chi2, alpha; real: alpha\n",
        "predicted: rho, chi1; real: rho\n",
        "predicted: rho, chi3; real: rho\n",
        "predicted: chi1, beta; real: chi1\n",
        "predicted: chi4, delta; real: chi4\n",
        "predicted: delta, chi1; real: delta\n",
        "predicted: alpha, delta; real: alpha\n",
        "predicted: mu, chi4; real: mu\n",
        "predicted: alpha, lambda; real: alpha\n",
        "predicted: alpha, delta; real: alpha\n",
        "predicted: delta, delta; real: delta\n",
        "predicted: chi1, alpha; real: chi1\n",
        "predicted: lambda, delta; real: lambda\n",
        "predicted: alpha, alpha; real: alpha\n",
        "predicted: chi2, rho; real: chi2\n",
        "predicted: mu, lambda; real: mu\n",
        "predicted: alpha, mu; real: alpha\n",
        "predicted: alpha, alpha; real: alpha\n",
        "predicted: alpha, alpha; real: alpha\n",
        "predicted: alpha, delta; real: alpha\n",
        "predicted: alpha, rho; real: alpha\n",
        "predicted: chi4, alpha; real: chi4\n",
        "predicted: rho, chi3; real: rho\n",
        "predicted: delta, alpha; real: delta\n",
        "predicted: alpha, lambda; real: alpha\n",
        "predicted: rho, alpha; real: rho\n",
        "predicted: rho, alpha; real: rho\n",
        "predicted: alpha, alpha; real: alpha\n",
        "predicted: alpha, chi4; real: alpha\n",
        "predicted: alpha, alpha; real: alpha\n",
        "predicted: chi1, alpha; real: chi1\n",
        "predicted: alpha, mu; real: alpha\n",
        "predicted: chi4, chi1; real: chi4\n",
        "predicted: chi4, lambda; real: chi4\n",
        "predicted: rho, alpha; real: rho\n",
        "predicted: lambda, alpha; real: lambda\n",
        "predicted: chi1, alpha; real: chi1\n",
        "predicted: alpha, alpha; real: alpha\n",
        "predicted: chi3, chi2; real: chi3\n",
        "predicted: alpha, alpha; real: alpha\n",
        "predicted: chi4, chi1; real: chi4\n",
        "predicted: chi2, lambda; real: chi2\n",
        "predicted: lambda, chi3; real: lambda\n",
        "predicted: alpha, lambda; real: alpha\n",
        "predicted: mu, chi4; real: mu\n",
        "predicted: chi3, alpha; real: chi3\n",
        "predicted: alpha, chi3; real: alpha\n",
        "predicted: chi2, mu; real: chi2\n",
        "predicted: delta, alpha; real: delta\n",
        "predicted: alpha, alpha; real: alpha\n",
        "predicted: chi4, delta; real: chi4\n",
        "predicted: alpha, chi4; real: alpha\n",
        "predicted: chi2, lambda; real: chi2\n",
        "predicted: alpha, chi1; real: alpha\n",
        "predicted: alpha, lambda; real: alpha\n",
        "predicted: chi2, chi1; real: chi2\n",
        "predicted: mu, chi2; real: mu\n",
        "predicted: lambda, mu; real: lambda\n",
        "predicted: delta, alpha; real: delta\n",
        "predicted: chi1, delta; real: chi1\n",
        "predicted: rho, lambda; real: rho\n",
        "predicted: chi2, alpha; real: chi2\n",
        "predicted: rho, lambda; real: rho\n",
        "predicted: chi4, mu; real: chi4\n",
        "predicted: alpha, lambda; real: alpha\n",
        "predicted: chi4, chi2; real: chi4\n",
        "predicted: beta, alpha; real: beta\n",
        "predicted: delta, chi2; real: delta\n",
        "predicted: alpha, alpha; real: alpha\n",
        "predicted: chi2, delta; real: chi2\n",
        "predicted: rho, chi3; real: rho\n",
        "predicted: alpha, alpha; real: alpha\n",
        "predicted: alpha, rho; real: alpha\n",
        "predicted: chi3, rho; real: chi3\n",
        "predicted: chi4, mu; real: chi4\n",
        "predicted: chi4, chi1; real: alpha\n",
        "predicted: mu, theta; real: mu\n",
        "predicted: alpha, chi4; real: alpha\n",
        "predicted: alpha, alpha; real: alpha\n",
        "predicted: mu, chi3; real: mu\n",
        "predicted: alpha, alpha; real: alpha\n",
        "predicted: alpha, chi1; real: alpha\n",
        "predicted: lambda, alpha; real: lambda\n",
        "predicted: chi2, chi1; real: chi2\n",
        "predicted: mu, chi1; real: mu\n",
        "predicted: alpha, chi4; real: alpha\n",
        "predicted: delta, chi4; real: delta\n",
        "predicted: rho, lambda; real: rho\n",
        "predicted: chi4, lambda; real: alpha\n",
        "predicted: alpha, delta; real: alpha\n",
        "predicted: chi2, delta; real: chi2\n",
        "predicted: chi1, chi1; real: chi1\n",
        "predicted: mu, lambda; real: mu\n",
        "predicted: chi1, alpha; real: chi1\n",
        "predicted: rho, chi3; real: rho\n",
        "predicted: rho, alpha; real: rho\n",
        "predicted: alpha, rho; real: alpha\n",
        "predicted: chi1, delta; real: chi1\n",
        "predicted: alpha, lambda; real: alpha\n",
        "predicted: alpha, alpha; real: alpha\n",
        "predicted: chi1, rho; real: chi1\n",
        "predicted: alpha, chi2; real: alpha\n",
        "predicted: chi1, chi1; real: chi1\n",
        "predicted: chi2, rho; real: chi2\n",
        "predicted: chi2, chi1; real: alpha\n",
        "predicted: chi2, rho; real: chi2\n",
        "predicted: chi1, chi1; real: chi1\n",
        "predicted: chi2, alpha; real: chi2\n",
        "predicted: alpha, chi3; real: rho\n",
        "predicted: alpha, chi4; real: alpha\n",
        "predicted: beta, alpha; real: theta\n",
        "predicted: chi2, lambda; real: chi2\n",
        "predicted: chi1, chi2; real: chi1\n",
        "predicted: delta, alpha; real: delta\n",
        "predicted: alpha, theta; real: alpha\n",
        "predicted: chi1, alpha; real: chi1\n",
        "predicted: alpha, delta; real: alpha\n",
        "predicted: chi4, alpha; real: chi4\n",
        "predicted: chi4, mu; real: chi4\n",
        "predicted: chi4, chi4; real: chi4\n",
        "predicted: chi2, chi2; real: chi2\n",
        "predicted: alpha, delta; real: alpha\n",
        "predicted: chi4, chi1; real: chi4\n",
        "predicted: chi2, delta; real: chi2\n",
        "predicted: chi2, chi2; real: chi2\n",
        "predicted: chi3, alpha; real: chi3\n",
        "predicted: mu, mu; real: mu\n",
        "predicted: chi3, mu; real: chi3\n",
        "predicted: lambda, delta; real: lambda\n",
        "predicted: theta, chi1; real: theta\n",
        "predicted: alpha, chi2; real: alpha\n",
        "predicted: alpha, chi1; real: alpha\n",
        "predicted: alpha, chi3; real: alpha\n",
        "predicted: chi2, rho; real: chi2\n",
        "predicted: alpha, delta; real: mu\n",
        "predicted: alpha, chi1; real: alpha\n",
        "predicted: mu, alpha; real: mu\n",
        "predicted: lambda, alpha; real: lambda\n",
        "predicted: delta, chi4; real: delta\n",
        "predicted: mu, lambda; real: mu\n",
        "predicted: chi2, alpha; real: chi2\n",
        "predicted: chi4, alpha; real: chi4\n",
        "predicted: lambda, alpha; real: lambda\n",
        "predicted: alpha, chi2; real: alpha\n",
        "predicted: lambda, alpha; real: lambda\n",
        "predicted: chi3, chi2; real: chi3\n",
        "predicted: alpha, alpha; real: alpha\n",
        "predicted: lambda, chi1; real: lambda\n",
        "predicted: alpha, chi1; real: alpha\n",
        "predicted: chi3, delta; real: chi3\n",
        "predicted: chi4, alpha; real: chi4\n",
        "predicted: chi4, chi2; real: alpha\n",
        "predicted: alpha, rho; real: alpha\n",
        "predicted: chi4, alpha; real: chi4\n",
        "predicted: rho, chi1; real: rho\n",
        "predicted: chi2, lambda; real: chi2\n",
        "predicted: lambda, chi2; real: lambda\n",
        "predicted: rho, mu; real: alpha\n",
        "predicted: delta, alpha; real: delta\n",
        "predicted: alpha, rho; real: alpha\n",
        "predicted: lambda, alpha; real: lambda\n",
        "predicted: delta, alpha; real: delta\n",
        "predicted: rho, delta; real: rho\n",
        "predicted: delta, mu; real: delta\n",
        "predicted: rho, chi2; real: alpha\n",
        "predicted: alpha, chi2; real: alpha\n",
        "predicted: chi2, lambda; real: chi2\n",
        "predicted: chi4, delta; real: chi4\n",
        "predicted: delta, chi4; real: delta\n",
        "predicted: alpha, delta; real: alpha\n",
        "predicted: chi1, alpha; real: chi1\n",
        "predicted: chi4, chi1; real: chi4\n",
        "predicted: alpha, alpha; real: alpha\n",
        "predicted: chi1, lambda; real: chi1\n",
        "predicted: alpha, chi1; real: alpha\n",
        "predicted: theta, lambda; real: theta\n",
        "predicted: chi2, alpha; real: chi2\n",
        "predicted: rho, rho; real: rho\n",
        "predicted: alpha, lambda; real: alpha\n",
        "predicted: rho, chi2; real: rho\n",
        "predicted: alpha, delta; real: alpha\n",
        "predicted: rho, chi4; real: alpha\n",
        "predicted: lambda, alpha; real: lambda\n",
        "predicted: lambda, chi4; real: lambda\n",
        "predicted: chi2, beta; real: chi2\n",
        "predicted: delta, rho; real: delta\n",
        "predicted: lambda, chi4; real: lambda\n",
        "predicted: delta, alpha; real: delta\n",
        "predicted: chi4, alpha; real: chi4\n",
        "predicted: chi1, lambda; real: chi1\n",
        "predicted: mu, chi2; real: mu\n",
        "predicted: alpha, alpha; real: alpha\n",
        "predicted: chi4, mu; real: chi4\n",
        "predicted: chi2, lambda; real: chi2\n",
        "predicted: chi4, delta; real: chi4\n",
        "predicted: theta, delta; real: theta\n",
        "predicted: lambda, alpha; real: lambda\n",
        "predicted: delta, chi1; real: delta\n",
        "predicted: chi4, rho; real: chi4\n",
        "predicted: chi1, rho; real: chi1\n",
        "predicted: chi4, beta; real: theta\n",
        "predicted: chi1, chi4; real: chi1\n",
        "predicted: alpha, alpha; real: alpha\n",
        "predicted: delta, alpha; real: delta\n",
        "predicted: lambda, chi4; real: lambda\n",
        "predicted: chi2, alpha; real: chi2\n",
        "predicted: alpha, alpha; real: alpha\n",
        "predicted: chi3, alpha; real: chi3\n",
        "predicted: lambda, lambda; real: lambda\n",
        "predicted: alpha, chi1; real: alpha\n",
        "predicted: alpha, chi4; real: alpha\n",
        "predicted: rho, mu; real: rho\n",
        "predicted: alpha, mu; real: alpha\n",
        "predicted: chi2, alpha; real: chi2\n",
        "predicted: rho, lambda; real: rho\n",
        "predicted: lambda, chi1; real: lambda\n",
        "predicted: mu, alpha; real: mu\n",
        "predicted: chi1, alpha; real: chi1\n",
        "predicted: chi4, alpha; real: chi4\n",
        "predicted: chi1, chi2; real: chi1\n",
        "predicted: alpha, chi1; real: alpha\n",
        "predicted: alpha, chi1; real: alpha\n",
        "predicted: rho, mu; real: rho\n",
        "predicted: chi3, chi2; real: chi3\n",
        "predicted: alpha, chi1; real: alpha\n",
        "predicted: rho, alpha; real: rho\n",
        "predicted: beta, beta; real: beta\n",
        "predicted: alpha, alpha; real: alpha\n",
        "predicted: delta, alpha; real: delta\n",
        "predicted: chi4, lambda; real: chi4\n",
        "predicted: alpha, chi1; real: alpha\n",
        "predicted: chi2, lambda; real: chi2\n",
        "predicted: chi1, chi4; real: chi1\n",
        "predicted: alpha, chi1; real: alpha\n",
        "predicted: lambda, alpha; real: lambda\n",
        "predicted: delta, alpha; real: delta\n",
        "predicted: alpha, mu; real: alpha\n",
        "predicted: alpha, rho; real: alpha\n",
        "predicted: alpha, delta; real: alpha\n",
        "predicted: theta, alpha; real: theta\n",
        "predicted: chi1, theta; real: chi1\n",
        "predicted: rho, alpha; real: rho\n",
        "predicted: chi4, alpha; real: chi4\n",
        "predicted: alpha, alpha; real: alpha\n",
        "predicted: delta, lambda; real: delta\n",
        "predicted: alpha, alpha; real: alpha\n",
        "predicted: alpha, chi1; real: alpha\n",
        "predicted: alpha, rho; real: alpha\n",
        "predicted: rho, alpha; real: rho\n",
        "predicted: alpha, lambda; real: alpha\n",
        "predicted: chi4, chi3; real: chi4\n",
        "predicted: delta, mu; real: delta\n",
        "predicted: alpha, alpha; real: alpha\n",
        "predicted: alpha, delta; real: alpha\n",
        "predicted: chi1, chi2; real: chi1\n",
        "predicted: chi2, chi2; real: chi2\n",
        "predicted: delta, alpha; real: delta\n",
        "predicted: alpha, chi3; real: alpha\n",
        "predicted: chi4, alpha; real: chi4\n",
        "predicted: chi2, chi4; real: chi2\n",
        "predicted: alpha, chi3; real: alpha\n",
        "predicted: chi1, beta; real: chi1\n",
        "predicted: alpha, chi2; real: alpha\n",
        "predicted: chi3, alpha; real: chi3\n",
        "predicted: mu, alpha; real: mu\n",
        "predicted: lambda, chi4; real: lambda\n"
       ]
      }
     ],
     "prompt_number": 269
    },
    {
     "cell_type": "code",
     "collapsed": false,
     "input": [
      "print(correct_knn_class)\n",
      "#print(correct_svc_class)\n",
      "print(false_knn_class)\n",
      "#print(false_svc_class)\n",
      "print(correct_nc_class)\n",
      "print(false_nc_class)\n",
      "print(correct_dtc_class)\n",
      "print(false_dtc_class)\n",
      "print(correct_bagging_class)\n",
      "print(false_bagging_class)\n",
      "print(correct_rfc_class)\n",
      "print(false_rfc_class)\n",
      "print(correct_etc_class)\n",
      "print(false_etc_class)\n",
      "\n",
      "\n",
      "\n",
      "\n",
      "print(\"KNN Error: \" + str(false_knn_class/(false_knn_class + correct_knn_class)))\n",
      "#print(\"SVN Error: \" + str(false_svc_class/(false_svc_class + correct_svc_class)))\n",
      "print(\"NC Error: \" + str(false_nc_class/(false_nc_class + correct_nc_class)))\n",
      "print(\"DTC Error: \" + str(false_dtc_class/(false_dtc_class + correct_dtc_class)))\n",
      "print(\"Bagging Error: \" + str(false_bagging_class/(false_bagging_class + correct_bagging_class)))\n",
      "print(\"RFC Error: \" + str(false_rfc_class/(false_rfc_class + correct_rfc_class)))\n",
      "print(\"ETC Error: \" + str(false_etc_class/(false_etc_class + correct_etc_class)))\n",
      "\n",
      "\n",
      "\n",
      "\n",
      "\n"
     ],
     "language": "python",
     "metadata": {},
     "outputs": [
      {
       "output_type": "stream",
       "stream": "stdout",
       "text": [
        "278.0\n",
        "12.0\n",
        "235.0\n",
        "55.0\n",
        "287.0\n",
        "3.0\n",
        "275.0\n",
        "15.0\n",
        "290.0\n",
        "0.0\n",
        "289.0\n",
        "1.0\n",
        "KNN Error: 0.0413793103448\n",
        "NC Error: 0.189655172414\n",
        "DTC Error: 0.0103448275862\n",
        "Bagging Error: 0.051724137931\n",
        "RFC Error: 0.0\n",
        "ETC Error: 0.00344827586207\n"
       ]
      }
     ],
     "prompt_number": 270
    },
    {
     "cell_type": "code",
     "collapsed": false,
     "input": [
      "importances = rfc.feature_importances_\n",
      "std = np.std([tree.feature_importances_ for tree in rfc.estimators_],\n",
      "             axis=0)\n",
      "indices = np.argsort(importances)[::-1]\n",
      "\n",
      "feature_names = [\"$F_{\\mu}$\", \"$\\sigma_F$\", \"$\\nu_{\\mathrm{max}}$\", \"HR1\", \"$\\sigma_{\\mathrm{HR1}}$\",\n",
      "                 \"HR2\", \"$\\sigma_{\\mathrm{HR2}}$\", \"PSD A\", \"PSD B\", \"PSD C\", \"PSD D\", \"PC 1\", \"PC2\"]\n",
      "\n",
      "\n",
      "# Print the feature ranking\n",
      "print(\"Feature ranking:\")\n",
      "\n",
      "\n",
      "for f in range(13):\n",
      "    print(\"%d. feature %d (%f), %s\" % (f + 1, indices[f], importances[indices[f]], feature_names[f]))\n",
      "\n",
      "\n",
      "    \n",
      "# Plot the feature importances of the forest\n",
      "plt.figure(figsize=(14,7))\n",
      "plt.title(\"Feature importances\")\n",
      "plt.bar(range(13), importances[indices],\n",
      "       color=\"r\", yerr=std[indices], align=\"center\")\n",
      "plt.xticks(range(13), [feature_names[i] for i in indices])\n",
      "plt.xlim([-1, 13])\n",
      "plt.show()\n",
      "\n"
     ],
     "language": "python",
     "metadata": {},
     "outputs": [
      {
       "output_type": "stream",
       "stream": "stdout",
       "text": [
        "Feature ranking:\n",
        "1. feature 3 (0.186384), $F_{\\mu}$\n",
        "2. feature 5 (0.179788), $\\sigma_F$\n",
        "3. feature 10 (0.078553), $\n",
        "u_{\\mathrm{max}}$\n",
        "4. feature 9 (0.075909), HR1\n",
        "5. feature 1 (0.072371), $\\sigma_{\\mathrm{HR1}}$\n",
        "6. feature 0 (0.071074), HR2\n",
        "7. feature 11 (0.060262), $\\sigma_{\\mathrm{HR2}}$\n",
        "8. feature 6 (0.059374), PSD A\n",
        "9. feature 4 (0.057605), PSD B\n",
        "10. feature 7 (0.049791), PSD C\n",
        "11. feature 12 (0.048485), PSD D\n",
        "12. feature 8 (0.033585), PC 1\n",
        "13. feature 2 (0.026819), PC2\n"
       ]
      },
      {
       "metadata": {},
       "output_type": "display_data",
       "png": "[encoded data removed]",
       "text": [
        "<matplotlib.figure.Figure at 0x111c76c10>"
       ]
      }
     ],
     "prompt_number": 278
    },
    {
     "cell_type": "markdown",
     "metadata": {},
     "source": [
      "## Second Try: K-Means Clustering\n",
      "\n",
      "As a second try, let's do some K-means clustering on light curves and energy data (as soon as the processed data is available). \n",
      "For this, we'll need to extract features, which we can then use to sort the observations together into clusters (hopefully). \n",
      "\n",
      "### Feature Extraction\n",
      "\n",
      "Features I can think of, based on the data: \n",
      "- total variance in the light curve\n",
      "- variance in several power spectral bands (cf Heil+, 2014 on power colours)\n",
      "\n",
      "\n",
      "**Dumb Assumptions:**\n",
      "- duration of each light curve: 512s\n",
      "- overlap: 128s (1024 bins)"
     ]
    },
    {
     "cell_type": "code",
     "collapsed": false,
     "input": [],
     "language": "python",
     "metadata": {},
     "outputs": [
      {
       "output_type": "stream",
       "stream": "stdout",
       "text": [
        "nseg: 2048.0\n",
        "noverlap: 512.0\n"
       ]
      }
     ],
     "prompt_number": 188
    },
    {
     "cell_type": "code",
     "collapsed": false,
     "input": [
      "\n",
      "\n"
     ],
     "language": "python",
     "metadata": {},
     "outputs": [],
     "prompt_number": 3
    },
    {
     "cell_type": "code",
     "collapsed": false,
     "input": [],
     "language": "python",
     "metadata": {},
     "outputs": [],
     "prompt_number": 188
    },
    {
     "cell_type": "code",
     "collapsed": false,
     "input": [],
     "language": "python",
     "metadata": {},
     "outputs": [],
     "prompt_number": 184
    },
    {
     "cell_type": "markdown",
     "metadata": {},
     "source": []
    },
    {
     "cell_type": "code",
     "collapsed": false,
     "input": [
      "plot"
     ],
     "language": "python",
     "metadata": {},
     "outputs": [
      {
       "metadata": {},
       "output_type": "pyout",
       "prompt_number": 186,
       "text": [
        "7906"
       ]
      }
     ],
     "prompt_number": 186
    },
    {
     "cell_type": "code",
     "collapsed": false,
     "input": [],
     "language": "python",
     "metadata": {},
     "outputs": []
    },
    {
     "cell_type": "code",
     "collapsed": false,
     "input": [],
     "language": "python",
     "metadata": {},
     "outputs": []
    },
    {
     "cell_type": "code",
     "collapsed": false,
     "input": [
      "from sklearn import metrics\n",
      "from sklearn.cluster import KMeans\n",
      "from sklearn.preprocessing import StandardScaler\n",
      "\n",
      "features = np.array([fmu, fvar, fmax, psd_a, psd_b, psd_c, psd_d, pc1, pc2])\n",
      "features = np.transpose(features)\n",
      "scaler = StandardScaler().fit(features)\n",
      "f_scaled = scaler.transform(features)"
     ],
     "language": "python",
     "metadata": {},
     "outputs": [],
     "prompt_number": 58
    },
    {
     "cell_type": "code",
     "collapsed": false,
     "input": [
      "labels"
     ],
     "language": "python",
     "metadata": {},
     "outputs": [
      {
       "metadata": {},
       "output_type": "pyout",
       "prompt_number": 157,
       "text": [
        "[None,\n",
        " None,\n",
        " None,\n",
        " None,\n",
        " None,\n",
        " None,\n",
        " None,\n",
        " None,\n",
        " None,\n",
        " None,\n",
        " None,\n",
        " None,\n",
        " None,\n",
        " None,\n",
        " None,\n",
        " None,\n",
        " None,\n",
        " None,\n",
        " None,\n",
        " None,\n",
        " None,\n",
        " None,\n",
        " None,\n",
        " None,\n",
        " None,\n",
        " None,\n",
        " None,\n",
        " None,\n",
        " None,\n",
        " None,\n",
        " None,\n",
        " None,\n",
        " None,\n",
        " None,\n",
        " None,\n",
        " None,\n",
        " None,\n",
        " None,\n",
        " None,\n",
        " None,\n",
        " None,\n",
        " None,\n",
        " None,\n",
        " None,\n",
        " None,\n",
        " None,\n",
        " None,\n",
        " None,\n",
        " None,\n",
        " None,\n",
        " None,\n",
        " None,\n",
        " None,\n",
        " None,\n",
        " None,\n",
        " None,\n",
        " None,\n",
        " None,\n",
        " None,\n",
        " None,\n",
        " None,\n",
        " None,\n",
        " None,\n",
        " None,\n",
        " None,\n",
        " None,\n",
        " None,\n",
        " None,\n",
        " None,\n",
        " None,\n",
        " None,\n",
        " None,\n",
        " None,\n",
        " None,\n",
        " None,\n",
        " None,\n",
        " None,\n",
        " None,\n",
        " None,\n",
        " None,\n",
        " None,\n",
        " None,\n",
        " None,\n",
        " None,\n",
        " None,\n",
        " None,\n",
        " None,\n",
        " None,\n",
        " None,\n",
        " None,\n",
        " None,\n",
        " None,\n",
        " None,\n",
        " None,\n",
        " None,\n",
        " None,\n",
        " None,\n",
        " None,\n",
        " None,\n",
        " None,\n",
        " None,\n",
        " None,\n",
        " None,\n",
        " None,\n",
        " None,\n",
        " None,\n",
        " None,\n",
        " None,\n",
        " None,\n",
        " None,\n",
        " None,\n",
        " None,\n",
        " None,\n",
        " None,\n",
        " None,\n",
        " None,\n",
        " None,\n",
        " None,\n",
        " None,\n",
        " None,\n",
        " None,\n",
        " None,\n",
        " None,\n",
        " None,\n",
        " None,\n",
        " None,\n",
        " None,\n",
        " None,\n",
        " None,\n",
        " None,\n",
        " None,\n",
        " None,\n",
        " None,\n",
        " None,\n",
        " None,\n",
        " None,\n",
        " None,\n",
        " None,\n",
        " None,\n",
        " None,\n",
        " None,\n",
        " None,\n",
        " None,\n",
        " None,\n",
        " None,\n",
        " None,\n",
        " None,\n",
        " None,\n",
        " None,\n",
        " None,\n",
        " None,\n",
        " None,\n",
        " None,\n",
        " None,\n",
        " None,\n",
        " None,\n",
        " None,\n",
        " None,\n",
        " None,\n",
        " None,\n",
        " None,\n",
        " None,\n",
        " None,\n",
        " None,\n",
        " None,\n",
        " None,\n",
        " None,\n",
        " None,\n",
        " None,\n",
        " None,\n",
        " None,\n",
        " None,\n",
        " None,\n",
        " None,\n",
        " None,\n",
        " None,\n",
        " None,\n",
        " None,\n",
        " None,\n",
        " None,\n",
        " None,\n",
        " None,\n",
        " None,\n",
        " None,\n",
        " None,\n",
        " None,\n",
        " None,\n",
        " None,\n",
        " None,\n",
        " None,\n",
        " None,\n",
        " None,\n",
        " None,\n",
        " None,\n",
        " None,\n",
        " None,\n",
        " None,\n",
        " None,\n",
        " None,\n",
        " None,\n",
        " None,\n",
        " None,\n",
        " None,\n",
        " None,\n",
        " None,\n",
        " None,\n",
        " None,\n",
        " None,\n",
        " None,\n",
        " None,\n",
        " None,\n",
        " None,\n",
        " None,\n",
        " None,\n",
        " None,\n",
        " None,\n",
        " None,\n",
        " None,\n",
        " None,\n",
        " None,\n",
        " None,\n",
        " None,\n",
        " None,\n",
        " None,\n",
        " None,\n",
        " None,\n",
        " None,\n",
        " None,\n",
        " None,\n",
        " None,\n",
        " None,\n",
        " None,\n",
        " None,\n",
        " None,\n",
        " None,\n",
        " None,\n",
        " None,\n",
        " None,\n",
        " None,\n",
        " None,\n",
        " None,\n",
        " None,\n",
        " None,\n",
        " None,\n",
        " None,\n",
        " None,\n",
        " None,\n",
        " None,\n",
        " None,\n",
        " None,\n",
        " None,\n",
        " None,\n",
        " None,\n",
        " None,\n",
        " None,\n",
        " None,\n",
        " None,\n",
        " None,\n",
        " None,\n",
        " None,\n",
        " None,\n",
        " None,\n",
        " None,\n",
        " None,\n",
        " None,\n",
        " None,\n",
        " None,\n",
        " None,\n",
        " None,\n",
        " None,\n",
        " None,\n",
        " None,\n",
        " None,\n",
        " None,\n",
        " None,\n",
        " None,\n",
        " None,\n",
        " None,\n",
        " None,\n",
        " None,\n",
        " None,\n",
        " None,\n",
        " None,\n",
        " None,\n",
        " None,\n",
        " None,\n",
        " None,\n",
        " None,\n",
        " None,\n",
        " None,\n",
        " None,\n",
        " None,\n",
        " None,\n",
        " None,\n",
        " None,\n",
        " None,\n",
        " None,\n",
        " None,\n",
        " None,\n",
        " None,\n",
        " None,\n",
        " None,\n",
        " None,\n",
        " None,\n",
        " None,\n",
        " None,\n",
        " None,\n",
        " None,\n",
        " None,\n",
        " None,\n",
        " None,\n",
        " None,\n",
        " None,\n",
        " None,\n",
        " None,\n",
        " None,\n",
        " None,\n",
        " None,\n",
        " None,\n",
        " None,\n",
        " None,\n",
        " None,\n",
        " None,\n",
        " None,\n",
        " None,\n",
        " None,\n",
        " None,\n",
        " None,\n",
        " None,\n",
        " None,\n",
        " None,\n",
        " None,\n",
        " None,\n",
        " None,\n",
        " None,\n",
        " None,\n",
        " None,\n",
        " None,\n",
        " None,\n",
        " None,\n",
        " None,\n",
        " None,\n",
        " None,\n",
        " None,\n",
        " None,\n",
        " None,\n",
        " None,\n",
        " None,\n",
        " None,\n",
        " None,\n",
        " None,\n",
        " None,\n",
        " None,\n",
        " None,\n",
        " None,\n",
        " None,\n",
        " None,\n",
        " None,\n",
        " None,\n",
        " None,\n",
        " None,\n",
        " None,\n",
        " None,\n",
        " None,\n",
        " None,\n",
        " None,\n",
        " None,\n",
        " None,\n",
        " None,\n",
        " None,\n",
        " None,\n",
        " None,\n",
        " None,\n",
        " None,\n",
        " None,\n",
        " None,\n",
        " None,\n",
        " None,\n",
        " None,\n",
        " None,\n",
        " None,\n",
        " None,\n",
        " None,\n",
        " None,\n",
        " None,\n",
        " None,\n",
        " None,\n",
        " None,\n",
        " None,\n",
        " None,\n",
        " None,\n",
        " None,\n",
        " None,\n",
        " None,\n",
        " None,\n",
        " None,\n",
        " None,\n",
        " None,\n",
        " None,\n",
        " None,\n",
        " None,\n",
        " None,\n",
        " None,\n",
        " None,\n",
        " None,\n",
        " None,\n",
        " None,\n",
        " None,\n",
        " None,\n",
        " None,\n",
        " None,\n",
        " None,\n",
        " None,\n",
        " None,\n",
        " None,\n",
        " None,\n",
        " None,\n",
        " None,\n",
        " None,\n",
        " None,\n",
        " None,\n",
        " None,\n",
        " None,\n",
        " None,\n",
        " None,\n",
        " None,\n",
        " None,\n",
        " None,\n",
        " None,\n",
        " None,\n",
        " None,\n",
        " None,\n",
        " None,\n",
        " None,\n",
        " None,\n",
        " None,\n",
        " None,\n",
        " None,\n",
        " None,\n",
        " None,\n",
        " None,\n",
        " None,\n",
        " None,\n",
        " None,\n",
        " None,\n",
        " None,\n",
        " None,\n",
        " None,\n",
        " None,\n",
        " None,\n",
        " None,\n",
        " None,\n",
        " None,\n",
        " None,\n",
        " None,\n",
        " None,\n",
        " None,\n",
        " None,\n",
        " None,\n",
        " None,\n",
        " None,\n",
        " None,\n",
        " None,\n",
        " None,\n",
        " None,\n",
        " None,\n",
        " None,\n",
        " None,\n",
        " None,\n",
        " None,\n",
        " None,\n",
        " None,\n",
        " None,\n",
        " None,\n",
        " None,\n",
        " None,\n",
        " None,\n",
        " None,\n",
        " None,\n",
        " None,\n",
        " None,\n",
        " None,\n",
        " None,\n",
        " None,\n",
        " None,\n",
        " None,\n",
        " None,\n",
        " None,\n",
        " None,\n",
        " None,\n",
        " None,\n",
        " None,\n",
        " None,\n",
        " None,\n",
        " None,\n",
        " None]"
       ]
      }
     ],
     "prompt_number": 157
    },
    {
     "cell_type": "code",
     "collapsed": false,
     "input": [
      "## Brian's clustering code\n",
      "from hartigan import HartiganOnline\n",
      "\n",
      "ho = HartiganOnline(n_clusters=50, max_iter=f_scaled.shape[0]*10, shuffle=True, spherical=False, verbose=True)\n",
      "ho.fit(f_scaled)\n"
     ],
     "language": "python",
     "metadata": {},
     "outputs": [
      {
       "ename": "KeyboardInterrupt",
       "evalue": "",
       "output_type": "pyerr",
       "traceback": [
        "\u001b[0;31m---------------------------------------------------------------------------\u001b[0m\n\u001b[0;31mKeyboardInterrupt\u001b[0m                         Traceback (most recent call last)",
        "\u001b[0;32m<ipython-input-93-9d92c32b6d58>\u001b[0m in \u001b[0;36m<module>\u001b[0;34m()\u001b[0m\n\u001b[1;32m      1\u001b[0m \u001b[0mho\u001b[0m \u001b[0;34m=\u001b[0m \u001b[0mHartiganOnline\u001b[0m\u001b[0;34m(\u001b[0m\u001b[0mn_clusters\u001b[0m\u001b[0;34m=\u001b[0m\u001b[0;36m50\u001b[0m\u001b[0;34m,\u001b[0m \u001b[0mmax_iter\u001b[0m\u001b[0;34m=\u001b[0m\u001b[0mf_scaled\u001b[0m\u001b[0;34m.\u001b[0m\u001b[0mshape\u001b[0m\u001b[0;34m[\u001b[0m\u001b[0;36m0\u001b[0m\u001b[0;34m]\u001b[0m\u001b[0;34m*\u001b[0m\u001b[0;36m10\u001b[0m\u001b[0;34m,\u001b[0m \u001b[0mshuffle\u001b[0m\u001b[0;34m=\u001b[0m\u001b[0mTrue\u001b[0m\u001b[0;34m,\u001b[0m \u001b[0mspherical\u001b[0m\u001b[0;34m=\u001b[0m\u001b[0mFalse\u001b[0m\u001b[0;34m,\u001b[0m \u001b[0mverbose\u001b[0m\u001b[0;34m=\u001b[0m\u001b[0mTrue\u001b[0m\u001b[0;34m)\u001b[0m\u001b[0;34m\u001b[0m\u001b[0m\n\u001b[0;32m----> 2\u001b[0;31m \u001b[0mho\u001b[0m\u001b[0;34m.\u001b[0m\u001b[0mfit\u001b[0m\u001b[0;34m(\u001b[0m\u001b[0mf_scaled\u001b[0m\u001b[0;34m)\u001b[0m\u001b[0;34m\u001b[0m\u001b[0m\n\u001b[0m",
        "\u001b[0;32m<ipython-input-59-751bc8df0c84>\u001b[0m in \u001b[0;36mfit\u001b[0;34m(self, X)\u001b[0m\n\u001b[1;32m     65\u001b[0m                 \u001b[0mnp\u001b[0m\u001b[0;34m.\u001b[0m\u001b[0mrandom\u001b[0m\u001b[0;34m.\u001b[0m\u001b[0mshuffle\u001b[0m\u001b[0;34m(\u001b[0m\u001b[0midx\u001b[0m\u001b[0;34m)\u001b[0m\u001b[0;34m\u001b[0m\u001b[0m\n\u001b[1;32m     66\u001b[0m \u001b[0;34m\u001b[0m\u001b[0m\n\u001b[0;32m---> 67\u001b[0;31m             \u001b[0mself\u001b[0m\u001b[0;34m.\u001b[0m\u001b[0mpartial_fit\u001b[0m\u001b[0;34m(\u001b[0m\u001b[0mX\u001b[0m\u001b[0;34m[\u001b[0m\u001b[0midx\u001b[0m\u001b[0;34m]\u001b[0m\u001b[0;34m)\u001b[0m\u001b[0;34m\u001b[0m\u001b[0m\n\u001b[0m\u001b[1;32m     68\u001b[0m \u001b[0;34m\u001b[0m\u001b[0m\n\u001b[1;32m     69\u001b[0m     \u001b[0;32mdef\u001b[0m \u001b[0mpartial_fit\u001b[0m\u001b[0;34m(\u001b[0m\u001b[0mself\u001b[0m\u001b[0;34m,\u001b[0m \u001b[0mX\u001b[0m\u001b[0;34m)\u001b[0m\u001b[0;34m:\u001b[0m\u001b[0;34m\u001b[0m\u001b[0m\n",
        "\u001b[0;32m<ipython-input-59-751bc8df0c84>\u001b[0m in \u001b[0;36mpartial_fit\u001b[0;34m(self, X)\u001b[0m\n\u001b[1;32m     83\u001b[0m \u001b[0;34m\u001b[0m\u001b[0m\n\u001b[1;32m     84\u001b[0m             \u001b[0;31m# Update the center\u001b[0m\u001b[0;34m\u001b[0m\u001b[0;34m\u001b[0m\u001b[0m\n\u001b[0;32m---> 85\u001b[0;31m             \u001b[0mself\u001b[0m\u001b[0;34m.\u001b[0m\u001b[0mcluster_centers_\u001b[0m\u001b[0;34m[\u001b[0m\u001b[0mj\u001b[0m\u001b[0;34m]\u001b[0m \u001b[0;34m=\u001b[0m \u001b[0;34m(\u001b[0m\u001b[0mself\u001b[0m\u001b[0;34m.\u001b[0m\u001b[0mcluster_sizes_\u001b[0m\u001b[0;34m[\u001b[0m\u001b[0mj\u001b[0m\u001b[0;34m]\u001b[0m \u001b[0;34m*\u001b[0m \u001b[0mself\u001b[0m\u001b[0;34m.\u001b[0m\u001b[0mcluster_centers_\u001b[0m\u001b[0;34m[\u001b[0m\u001b[0mj\u001b[0m\u001b[0;34m]\u001b[0m \u001b[0;34m+\u001b[0m \u001b[0mxi\u001b[0m\u001b[0;34m)\u001b[0m \u001b[0;34m/\u001b[0m \u001b[0;34m(\u001b[0m\u001b[0;36m1.0\u001b[0m \u001b[0;34m+\u001b[0m \u001b[0mself\u001b[0m\u001b[0;34m.\u001b[0m\u001b[0mcluster_sizes_\u001b[0m\u001b[0;34m[\u001b[0m\u001b[0mj\u001b[0m\u001b[0;34m]\u001b[0m\u001b[0;34m)\u001b[0m\u001b[0;34m\u001b[0m\u001b[0m\n\u001b[0m\u001b[1;32m     86\u001b[0m \u001b[0;34m\u001b[0m\u001b[0m\n\u001b[1;32m     87\u001b[0m             \u001b[0;31m# If we're doing spherical k-means, normalize after the update\u001b[0m\u001b[0;34m\u001b[0m\u001b[0;34m\u001b[0m\u001b[0m\n",
        "\u001b[0;31mKeyboardInterrupt\u001b[0m: "
       ]
      }
     ],
     "prompt_number": 93
    },
    {
     "cell_type": "code",
     "collapsed": false,
     "input": [],
     "language": "python",
     "metadata": {},
     "outputs": [],
     "prompt_number": 190
    },
    {
     "cell_type": "code",
     "collapsed": false,
     "input": [],
     "language": "python",
     "metadata": {},
     "outputs": [],
     "prompt_number": 79
    },
    {
     "cell_type": "code",
     "collapsed": false,
     "input": [
      "plt.imshow(ho.cluster_centers_, interpolation=\"None\", aspect=\"auto\", cmap=\"RdBu\")\n",
      "plt.colorbar()"
     ],
     "language": "python",
     "metadata": {},
     "outputs": [
      {
       "metadata": {},
       "output_type": "pyout",
       "prompt_number": 89,
       "text": [
        "<matplotlib.colorbar.Colorbar instance at 0x14c68a758>"
       ]
      },
      {
       "metadata": {},
       "output_type": "display_data",
       "png": "[encoded data removed]",
       "text": [
        "<matplotlib.figure.Figure at 0x14be23310>"
       ]
      }
     ],
     "prompt_number": 89
    },
    {
     "cell_type": "code",
     "collapsed": false,
     "input": [],
     "language": "python",
     "metadata": {},
     "outputs": [
      {
       "metadata": {},
       "output_type": "pyout",
       "prompt_number": 77,
       "text": [
        "'0.4.0'"
       ]
      }
     ],
     "prompt_number": 77
    },
    {
     "cell_type": "code",
     "collapsed": false,
     "input": [],
     "language": "python",
     "metadata": {},
     "outputs": []
    },
    {
     "cell_type": "code",
     "collapsed": false,
     "input": [],
     "language": "python",
     "metadata": {},
     "outputs": [],
     "prompt_number": 61
    },
    {
     "cell_type": "code",
     "collapsed": false,
     "input": [
      "import librosa\n",
      "#import powerspectrum\n",
      "import glob"
     ],
     "language": "python",
     "metadata": {},
     "outputs": [],
     "prompt_number": 3
    },
    {
     "cell_type": "code",
     "collapsed": false,
     "input": [
      "files = glob.glob(\"*lc.txt\")\n",
      "d = np.loadtxt(files[0])"
     ],
     "language": "python",
     "metadata": {},
     "outputs": [],
     "prompt_number": 4
    },
    {
     "cell_type": "markdown",
     "metadata": {},
     "source": [
      "Make plots of spectrograms for all light curves. Plot standard Leahy-normalised power spectrum, and librosa generated spectrogram (dynamic power spectrum).\n",
      "\n",
      "**Dumb Assumptions:** \n",
      "- number of time bins per fft: 128 (= 16s long light curve)\n",
      "- time difference between segment starting points: 4 (=0.5s)"
     ]
    },
    {
     "cell_type": "code",
     "collapsed": false,
     "input": [
      "n_fft = 128\n",
      "hop_length = 4"
     ],
     "language": "python",
     "metadata": {},
     "outputs": [],
     "prompt_number": 5
    },
    {
     "cell_type": "code",
     "collapsed": false,
     "input": [
      "def spec_analysis(d, sr, froot=\"test\", plot=True, n_fft=128, hop_length=4):\n",
      "    #ps = powerspectrum.PowerSpectrum(d[:,0], counts=d[:,1], norm=\"leahy\")\n",
      "    #plt.loglog(ps.freq[1:], ps.ps[1:], lw=2, color=\"black\", linestyle='steps-mid')\n",
      "    #plt.xlabel(\"Frequency [Hz]\")\n",
      "    #plt.ylabel(\"Leahy Power\")\n",
      "    #plt.savefig(froot + \"_ps.pdf\", format=\"pdf\")\n",
      "    #plt.close()\n",
      "    D = librosa.core.stft(d[:,1], n_fft=n_fft, center=True, hop_length=hop_length) \n",
      "    if plot:\n",
      "        librosa.display.cmap(np.arange(-10, 10)) \n",
      "        #librosa.display.specshow(librosa.logamplitude(D[1:]**2., ref_power=np.max), sr=sr, x_axis='time', y_axis=\"linear\") \n",
      "        librosa.display.specshow(librosa.logamplitude(D[1:]), sr=sr, x_axis='time', y_axis=\"log\", cmap='PuOr_r')\n",
      "        plt.savefig(froot + \"spec.pdf\", format=\"pdf\")\n",
      "        plt.close()\n",
      "    return D"
     ],
     "language": "python",
     "metadata": {},
     "outputs": [],
     "prompt_number": 6
    },
    {
     "cell_type": "code",
     "collapsed": false,
     "input": [
      "plot = False\n",
      "d_all = []\n",
      "for f in files[:1]:\n",
      "    d = np.loadtxt(f)\n",
      "    froot = f.split(\"_\")[0]\n",
      "    y = d[:,1]\n",
      "    dt = d[1:,0] - d[:-1,0]\n",
      "    sr = 8.\n",
      "    breaks = np.where(dt > 0.125)[0]\n",
      "    if len(breaks) == 0:\n",
      "        D = spec_analysis(d, sr, froot=froot, plot=plot, n_fft=n_fft, hop_length=hop_length)\n",
      "        d_all.append(D)\n",
      "    else:\n",
      "        for i,b in enumerate(breaks):\n",
      "            #print(\"Break in light curve at time bin %i; length of break dt = %.3f\"%(b, dt[b]))\n",
      "            if i == 0:\n",
      "                dtemp = d[:b]\n",
      "            else:\n",
      "                dtemp = d[breaks[i-1]:b]\n",
      "            D = spec_analysis(dtemp, sr, froot=froot +str(i), plot=plot, \\\n",
      "                              n_fft=n_fft, hop_length=hop_length)\n",
      "            d_all.append(D)"
     ],
     "language": "python",
     "metadata": {},
     "outputs": [
      {
       "ename": "NameError",
       "evalue": "name 'spec_analysis' is not defined",
       "output_type": "pyerr",
       "traceback": [
        "\u001b[0;31m---------------------------------------------------------------------------\u001b[0m\n\u001b[0;31mNameError\u001b[0m                                 Traceback (most recent call last)",
        "\u001b[0;32m<ipython-input-191-beb498c03f27>\u001b[0m in \u001b[0;36m<module>\u001b[0;34m()\u001b[0m\n\u001b[1;32m     18\u001b[0m             \u001b[0;32melse\u001b[0m\u001b[0;34m:\u001b[0m\u001b[0;34m\u001b[0m\u001b[0m\n\u001b[1;32m     19\u001b[0m                 \u001b[0mdtemp\u001b[0m \u001b[0;34m=\u001b[0m \u001b[0md\u001b[0m\u001b[0;34m[\u001b[0m\u001b[0mbreaks\u001b[0m\u001b[0;34m[\u001b[0m\u001b[0mi\u001b[0m\u001b[0;34m-\u001b[0m\u001b[0;36m1\u001b[0m\u001b[0;34m]\u001b[0m\u001b[0;34m:\u001b[0m\u001b[0mb\u001b[0m\u001b[0;34m]\u001b[0m\u001b[0;34m\u001b[0m\u001b[0m\n\u001b[0;32m---> 20\u001b[0;31m             \u001b[0mD\u001b[0m \u001b[0;34m=\u001b[0m \u001b[0mspec_analysis\u001b[0m\u001b[0;34m(\u001b[0m\u001b[0mdtemp\u001b[0m\u001b[0;34m,\u001b[0m \u001b[0msr\u001b[0m\u001b[0;34m,\u001b[0m \u001b[0mfroot\u001b[0m\u001b[0;34m=\u001b[0m\u001b[0mfroot\u001b[0m \u001b[0;34m+\u001b[0m\u001b[0mstr\u001b[0m\u001b[0;34m(\u001b[0m\u001b[0mi\u001b[0m\u001b[0;34m)\u001b[0m\u001b[0;34m,\u001b[0m \u001b[0mplot\u001b[0m\u001b[0;34m=\u001b[0m\u001b[0mplot\u001b[0m\u001b[0;34m,\u001b[0m                               \u001b[0mn_fft\u001b[0m\u001b[0;34m=\u001b[0m\u001b[0mn_fft\u001b[0m\u001b[0;34m,\u001b[0m \u001b[0mhop_length\u001b[0m\u001b[0;34m=\u001b[0m\u001b[0mhop_length\u001b[0m\u001b[0;34m)\u001b[0m\u001b[0;34m\u001b[0m\u001b[0m\n\u001b[0m\u001b[1;32m     21\u001b[0m             \u001b[0md_all\u001b[0m\u001b[0;34m.\u001b[0m\u001b[0mappend\u001b[0m\u001b[0;34m(\u001b[0m\u001b[0mD\u001b[0m\u001b[0;34m)\u001b[0m\u001b[0;34m\u001b[0m\u001b[0m\n",
        "\u001b[0;31mNameError\u001b[0m: name 'spec_analysis' is not defined"
       ]
      }
     ],
     "prompt_number": 191
    },
    {
     "cell_type": "markdown",
     "metadata": {},
     "source": [
      "Let us plot an example:"
     ]
    },
    {
     "cell_type": "code",
     "collapsed": false,
     "input": [
      "D = d_all[0]\n",
      "librosa.display.cmap(np.arange(-10, 10)) \n",
      "librosa.display.specshow(librosa.logamplitude(D[1:]), sr=sr, x_axis='time', y_axis=\"log\", cmap='PuOr_r')\n",
      "l = librosa.logamplitude(D[1:])\n",
      "plt.figure()\n",
      "plt.plot(l[:,0])\n",
      "print(D.shape)\n",
      "plt.figure()\n",
      "plt.hist(D.flatten(), bins=100, range=[-5000, 5000]);"
     ],
     "language": "python",
     "metadata": {},
     "outputs": [
      {
       "output_type": "stream",
       "stream": "stdout",
       "text": [
        "(65, 1425)\n"
       ]
      },
      {
       "metadata": {},
       "output_type": "display_data",
       "png": "[encoded data removed]",
       "text": [
        "<matplotlib.figure.Figure at 0x123c35450>"
       ]
      },
      {
       "metadata": {},
       "output_type": "display_data",
       "png": "[encoded data removed]",
       "text": [
        "<matplotlib.figure.Figure at 0x1237bda50>"
       ]
      },
      {
       "metadata": {},
       "output_type": "display_data",
       "png": "[encoded data removed]",
       "text": [
        "<matplotlib.figure.Figure at 0x123653e10>"
       ]
      }
     ],
     "prompt_number": 139
    },
    {
     "cell_type": "markdown",
     "metadata": {},
     "source": [
      "For the actual HMM classification, we'd like to classify _patches_ in Fourier space, rather than individual rows. To do that, we'll reshape individual spectrograms into feature vectors spanning several data rows.\n",
      "\n",
      "**Dumb Assumptions:**\n",
      "- 32 time bins (=4s) per patch \n",
      "- starting points of individual bins are 16 bins (=2s) apart, so that they overlap"
     ]
    },
    {
     "cell_type": "code",
     "collapsed": false,
     "input": [
      "## patch length\n",
      "plen = 32\n",
      "## offset between patches\n",
      "offset = 16\n",
      "\n",
      "d_all_feature =  []\n",
      "for D in d_all[:len(d_all)/2]:\n",
      "    Dlog = np.array([librosa.logamplitude(dtemp[1:]) for dtemp in D])\n",
      "    #print(Dlog.shape)\n",
      "    d_all_feature.extend(np.transpose(Dlog))\n",
      "\n",
      "d_all_feature = np.array(d_all_feature)\n",
      "d_all_feature.shape\n",
      "\n",
      "## all light curves, all feature vectors\n",
      "#d_all_feature = []\n",
      "\n",
      "#for D in d_all:\n",
      "#    ## all feature vectors for specific light curve:\n",
      "#    D_feature = []\n",
      "#    ## starting index\n",
      "#    istart = 0\n",
      "#    iend = istart + plen\n",
      "#    while iend < D.shape[1]:\n",
      "#        #print(istart)\n",
      "#        #print(iend)\n",
      "#        dflat = librosa.logamplitude(D[1:,istart:iend]).flatten()\n",
      "#        D_feature.append(dflat)\n",
      "#        istart += offset\n",
      "#        iend += offset\n",
      "#    D_feature = np.array(D_feature)\n",
      "#    np.shape(D_feature)\n",
      "#    d_all_feature.append(D_feature)"
     ],
     "language": "python",
     "metadata": {},
     "outputs": [
      {
       "metadata": {},
       "output_type": "pyout",
       "prompt_number": 140,
       "text": [
        "(457207, 65)"
       ]
      }
     ],
     "prompt_number": 140
    },
    {
     "cell_type": "markdown",
     "metadata": {},
     "source": [
      "Now we can initialise the HMM.\n",
      "\n",
      "**Dumb Assumptions:**\n",
      "- number of states: 10\n",
      "- start probabilities all equal (1/10)\n",
      "- number of components per state: 3\n",
      "- "
     ]
    },
    {
     "cell_type": "code",
     "collapsed": false,
     "input": [
      "print(d_all_feature.shape)\n",
      "## number of states\n",
      "nstates = 20\n",
      "\n",
      "#D = d_all_feature[0]\n",
      "librosa.display.specshow(librosa.logamplitude(d_all_feature[1:]), sr=sr, x_axis='time', y_axis=\"log\", cmap='PuOr_r')\n",
      "\n"
     ],
     "language": "python",
     "metadata": {},
     "outputs": [
      {
       "output_type": "stream",
       "stream": "stdout",
       "text": [
        "(457207, 65)\n"
       ]
      },
      {
       "metadata": {},
       "output_type": "pyout",
       "prompt_number": 141,
       "text": [
        "<matplotlib.image.AxesImage at 0x1241c0290>"
       ]
      },
      {
       "metadata": {},
       "output_type": "display_data",
       "png": "[encoded data removed]",
       "text": [
        "<matplotlib.figure.Figure at 0x12409d0d0>"
       ]
      }
     ],
     "prompt_number": 141
    },
    {
     "cell_type": "code",
     "collapsed": false,
     "input": [
      "d_all_feature.shape"
     ],
     "language": "python",
     "metadata": {},
     "outputs": [
      {
       "metadata": {},
       "output_type": "pyout",
       "prompt_number": 142,
       "text": [
        "(457207, 65)"
       ]
      }
     ],
     "prompt_number": 142
    },
    {
     "cell_type": "code",
     "collapsed": false,
     "input": [
      "from hmmlearn import hmm\n",
      "\n",
      "#Dt = np.transpose(d_all_feature)\n",
      "dlist = [d_all_feature]\n",
      "\n",
      "model = hmm.GaussianHMM(nstates, covariance_type=\"diag\", n_iter=40)\n",
      "\n",
      "model.fit(dlist)\n"
     ],
     "language": "python",
     "metadata": {},
     "outputs": []
    },
    {
     "cell_type": "code",
     "collapsed": false,
     "input": [
      "hidden_states = model.predict(d_all_feature)"
     ],
     "language": "python",
     "metadata": {},
     "outputs": [
      {
       "metadata": {},
       "output_type": "pyout",
       "prompt_number": 128,
       "text": [
        "array([0, 0, 0, ..., 2, 2, 2])"
       ]
      }
     ],
     "prompt_number": 128
    },
    {
     "cell_type": "code",
     "collapsed": false,
     "input": [
      "dt = hidden_states[1:] - hidden_states[:-1]\n",
      "plt.figure()\n",
      "plt.plot(hidden_states)\n",
      "plt.figure()\n",
      "plt.hist(hidden_states, bins=20)\n",
      "plt.figure()\n",
      "plt.hist(dt, bins=40, range=[-10,10]);\n",
      "plt.yscale(\"log\")"
     ],
     "language": "python",
     "metadata": {},
     "outputs": [
      {
       "metadata": {},
       "output_type": "display_data",
       "png": "[encoded data removed]",
       "text": [
        "<matplotlib.figure.Figure at 0x123223350>"
       ]
      },
      {
       "metadata": {},
       "output_type": "display_data",
       "png": "[encoded data removed]",
       "text": [
        "<matplotlib.figure.Figure at 0x123d63110>"
       ]
      },
      {
       "metadata": {},
       "output_type": "display_data",
       "png": "[encoded data removed]",
       "text": [
        "<matplotlib.figure.Figure at 0x124e9fe50>"
       ]
      }
     ],
     "prompt_number": 130
    },
    {
     "cell_type": "code",
     "collapsed": false,
     "input": [
      "plt.imshow(np.log(model.transmat_), interpolation=\"None\")\n",
      "plt.colorbar()"
     ],
     "language": "python",
     "metadata": {},
     "outputs": [
      {
       "metadata": {},
       "output_type": "pyout",
       "prompt_number": 137,
       "text": [
        "<matplotlib.colorbar.Colorbar instance at 0x12731b098>"
       ]
      },
      {
       "metadata": {},
       "output_type": "display_data",
       "png": "[encoded data removed]",
       "text": [
        "<matplotlib.figure.Figure at 0x1241d29d0>"
       ]
      }
     ],
     "prompt_number": 137
    },
    {
     "cell_type": "markdown",
     "metadata": {},
     "source": []
    },
    {
     "cell_type": "code",
     "collapsed": false,
     "input": [],
     "language": "python",
     "metadata": {},
     "outputs": [],
     "prompt_number": 111
    },
    {
     "cell_type": "code",
     "collapsed": false,
     "input": [],
     "language": "python",
     "metadata": {},
     "outputs": [],
     "prompt_number": 186
    },
    {
     "cell_type": "code",
     "collapsed": false,
     "input": [],
     "language": "python",
     "metadata": {},
     "outputs": [],
     "prompt_number": 186
    },
    {
     "cell_type": "code",
     "collapsed": false,
     "input": [],
     "language": "python",
     "metadata": {},
     "outputs": [],
     "prompt_number": 186
    },
    {
     "cell_type": "code",
     "collapsed": false,
     "input": [],
     "language": "python",
     "metadata": {},
     "outputs": []
    }
   ],
   "metadata": {}
  }
 ]
}