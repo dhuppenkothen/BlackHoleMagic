{
 "metadata": {
  "name": "",
  "signature": "sha256:94cb9e1e9fd072065f10a70ad6c298f03d1e8fed3bd18b5bad8367d64866d9d3"
 },
 "nbformat": 3,
 "nbformat_minor": 0,
 "worksheets": [
  {
   "cells": [
    {
     "cell_type": "markdown",
     "metadata": {},
     "source": [
      "# Feature Engineering\n",
      "\n",
      "For reference, I'm going to go into a bit more detail on the feature engineering. \n",
      "We will engineer features based on the human classification to find those features that predict the\n",
      "observed properties of the light curves best.\n",
      "\n",
      "I'm going to start with all of the summary features and use a greedy approach: out of all summary features, which is the one that alone predicts the human classification best. I am going to keep that, and then add a second feaure, again going through the entire list of left-over features to figure out the best combination of two, and so on, until I reach the end of the 13 features. \n",
      "\n",
      "In the second step, I can add feature sets like the entire heatmap of the hardness diagram, or the periodogram to the game, but we'll keep it simple(ish) with the summary features only for now.\n",
      "\n",
      "For this task, I'm going to use Random Forests, because I have to pick an algorithm and this one seems to be pretty robust."
     ]
    },
    {
     "cell_type": "code",
     "collapsed": false,
     "input": [
      "%matplotlib inline\n",
      "import matplotlib.pyplot as plt\n",
      "import seaborn as sns\n",
      "sns.set_context(\"notebook\", font_scale=2.5, rc={\"axes.labelsize\": 26})\n",
      "plt.rc(\"font\", size=24, family=\"serif\", serif=\"Computer Sans\")\n",
      "plt.rc(\"axes\", titlesize=20, labelsize=20) \n",
      "plt.rc(\"text\", usetex=True)\n",
      "\n",
      "import numpy as np\n",
      "import cPickle as pickle\n",
      "from pandas.tools.plotting import scatter_matrix\n",
      "import pandas as pd\n",
      "\n",
      "import powerspectrum\n",
      "#import grs1915_utils\n",
      "\n",
      "datadir=\"../\""
     ],
     "language": "python",
     "metadata": {},
     "outputs": [],
     "prompt_number": 77
    },
    {
     "cell_type": "code",
     "collapsed": false,
     "input": [
      "f = open(datadir+\"grs1915_1024_clean_summary_features.dat\", \"r\")\n",
      "feature_dict = pickle.load(f)\n",
      "f.close()\n",
      "\n",
      "features_train = np.array(feature_dict[\"train\"][0][\"features\"])\n",
      "features_val = np.array(feature_dict[\"val\"][0][0][\"features\"])\n",
      "features_test = np.array(feature_dict[\"test\"][0][\"features\"])\n",
      "print(\"features_train.shape: \" + str(features_train.shape))\n",
      "labels_train = feature_dict[\"train\"][1]\n",
      "labels_val = feature_dict[\"val\"][0][1]\n",
      "labels_test = feature_dict[\"test\"][1]"
     ],
     "language": "python",
     "metadata": {},
     "outputs": [
      {
       "output_type": "stream",
       "stream": "stdout",
       "text": [
        "features_train.shape: (1467, 16)\n"
       ]
      }
     ],
     "prompt_number": 78
    },
    {
     "cell_type": "markdown",
     "metadata": {},
     "source": [
      "The features here are:\n",
      "* mean count rate\n",
      "* median count rate\n",
      "* total variance in the count rate\n",
      "* Frequency where the PSD has its maximum\n",
      "* Power Spectral Band A\n",
      "* Power Spectral Band B\n",
      "* Power Spectral Band C\n",
      "* Power Spectral Band D\n",
      "* Power Spectral Color 1 (PSDc/PSDa)\n",
      "* Power Spectral Color 2 (PSDb/PSDd)\n",
      "* mean of hardness ratio HR1\n",
      "* mean of hardness ratio HR2\n",
      "* flattened covariance matrix of HR1 and HR2"
     ]
    },
    {
     "cell_type": "code",
     "collapsed": false,
     "input": [
      "from sklearn import cross_validation\n",
      "from sklearn.preprocessing import StandardScaler\n",
      "from sklearn.grid_search import GridSearchCV\n",
      "from sklearn.ensemble import RandomForestClassifier\n",
      "\n",
      "\n",
      "\n",
      "score = []\n",
      "best_params = []\n",
      "## first feature\n",
      "for i in range(features_train.shape[1]):\n",
      "    ft = np.atleast_2d(features_train[:,i]).T\n",
      "    fv = np.atleast_2d(features_val[:,i]).T\n",
      "    #print(ft.shape)\n",
      "    #print(fv.shape)\n",
      "    ### scale features\n",
      "    scaler_train = StandardScaler().fit(ft)\n",
      "    fscaled_train = scaler_train.transform(ft)\n",
      "    #print(fscaled_train.shape)\n",
      "    \n",
      "    scaler_val = StandardScaler().fit(fv)\n",
      "    fscaled_val = scaler_val.transform(fv)\n",
      "    #print(fscaled_val.shape)\n",
      "    ### Random Forest Classifier\n",
      "    params = {'max_depth': [7, 10,12, 15,17, 18, 19, 20, 21, 22, 23, 25,30,40, 50, 100, 200, 500]}#,\n",
      "             # 'max_features':[2,3,4,5,6,7,8,10,50,150,200,250,300]}\n",
      "    grid_rfc = GridSearchCV(RandomForestClassifier(n_estimators=500), param_grid=params,\n",
      "                            verbose=0, n_jobs=10)\n",
      "    #rfc = RandomForestClassifier(n_estimators=500, max_depth=10)\n",
      "    #rfc.fit(fscaled_train, labels_train)\n",
      "    grid_rfc.fit(fscaled_train, labels_train)\n",
      "    print(\"Best results for the Random Forest run:\")\n",
      "    print(\"Best parameter: \" + str(grid_rfc.best_params_))\n",
      "    best_params.append(grid_rfc.best_params_)\n",
      "    print(\"Training accuracy: \" + str(grid_rfc.score(fscaled_train, labels_train)))\n",
      "    print(\"Validation accuracy: \" + str(grid_rfc.score(fscaled_val, labels_val)))\n",
      "    score.append(grid_rfc.score(fscaled_val, labels_val))\n"
     ],
     "language": "python",
     "metadata": {},
     "outputs": [
      {
       "output_type": "stream",
       "stream": "stdout",
       "text": [
        "(1550, 1)\n",
        "(786, 1)\n",
        "(1550, 1)\n",
        "(786, 1)\n",
        "Fitting 3 folds for each of 18 candidates, totalling 54 fits\n"
       ]
      },
      {
       "output_type": "stream",
       "stream": "stderr",
       "text": [
        "[Parallel(n_jobs=10)]: Done   1 jobs       | elapsed:    2.7s\n",
        "[Parallel(n_jobs=10)]: Done   2 jobs       | elapsed:    2.9s\n",
        "[Parallel(n_jobs=10)]: Done   5 jobs       | elapsed:    3.3s\n",
        "[Parallel(n_jobs=10)]: Done   8 jobs       | elapsed:    3.5s\n",
        "[Parallel(n_jobs=10)]: Done  13 jobs       | elapsed:    6.3s\n",
        "[Parallel(n_jobs=10)]: Done  18 jobs       | elapsed:    6.8s\n",
        "[Parallel(n_jobs=10)]: Done  25 jobs       | elapsed:   10.2s\n",
        "[Parallel(n_jobs=10)]: Done  32 jobs       | elapsed:   13.1s\n",
        "[Parallel(n_jobs=10)]: Done  36 out of  54 | elapsed:   13.6s remaining:    6.8s\n",
        "[Parallel(n_jobs=10)]: Done  42 out of  54 | elapsed:   16.4s remaining:    4.7s\n",
        "[Parallel(n_jobs=10)]: Done  48 out of  54 | elapsed:   17.0s remaining:    2.1s\n",
        "[Parallel(n_jobs=10)]: Done  54 out of  54 | elapsed:   18.3s finished\n"
       ]
      },
      {
       "output_type": "stream",
       "stream": "stdout",
       "text": [
        "Best results for the Random Forest run:\n",
        "Best parameter: {'max_depth': 7}\n",
        "Training accuracy: 0.645806451613[CV] max_depth=7 .....................................................\n",
        "[CV] max_depth=7 .....................................................\n",
        "[CV] max_depth=7 .....................................................\n",
        "[CV] max_depth=10 ....................................................\n",
        "[CV] max_depth=10 ....................................................\n",
        "[CV] max_depth=10 ....................................................\n",
        "[CV] max_depth=12 ....................................................\n",
        "[CV] max_depth=12 ....................................................\n",
        "[CV] max_depth=12 ....................................................\n",
        "[CV] max_depth=15 ....................................................\n",
        "[CV] ............................ max_depth=7, score=0.280230 -   2.7s[CV] ............................ max_depth=7, score=0.322394 -   2.8s[CV] ............................ max_depth=7, score=0.352250 -   2.8s[CV] ........................... max_depth=10, score=0.274472 -   3.1s[CV] ........................... max_depth=10, score=0.301370 -   3.2s[CV] ........................... max_depth=10, score=0.281853 -   3.2s[CV] ........................... max_depth=12, score=0.278311 -   3.4s[CV] ........................... max_depth=12, score=0.272201 -   3.4s[CV] ........................... max_depth=12, score=0.287671 -   3.3s[CV] ........................... max_depth=15, score=0.270633 -   3.5s\n",
        "\n",
        "\n",
        "\n",
        "\n",
        "\n",
        "\n",
        "\n",
        "\n",
        "\n",
        "[CV] max_depth=15 ....................................................\n",
        "[CV] max_depth=17 ....................................................\n",
        "[CV] max_depth=15 ....................................................\n",
        "[CV] max_depth=17 ....................................................\n",
        "[CV] max_depth=17 ....................................................\n",
        "[CV] max_depth=18 ....................................................\n",
        "[CV] max_depth=18 ....................................................\n",
        "[CV] max_depth=19 ....................................................\n",
        "[CV] max_depth=18 ....................................................\n",
        "[CV] max_depth=19 ....................................................\n",
        "[CV] ........................... max_depth=15, score=0.274131 -   3.5s[CV] ........................... max_depth=17, score=0.270633 -   3.4s[CV] ........................... max_depth=15, score=0.283757 -   3.4s[CV] ........................... max_depth=17, score=0.274131 -   3.4s[CV] ........................... max_depth=17, score=0.283757 -   3.4s[CV] ........................... max_depth=18, score=0.270633 -   3.3s[CV] ........................... max_depth=18, score=0.283757 -   3.3s[CV] ........................... max_depth=19, score=0.270633 -   3.3s[CV] ........................... max_depth=18, score=0.274131 -   3.3s[CV] ........................... max_depth=19, score=0.274131 -   3.3s\n",
        "\n",
        "\n",
        "\n",
        "\n",
        "\n",
        "\n",
        "\n",
        "\n",
        "\n",
        "[CV] max_depth=19 ....................................................\n",
        "[CV] max_depth=20 ....................................................\n",
        "[CV] max_depth=20 ....................................................\n",
        "[CV] max_depth=21 ....................................................[CV] max_depth=20 ....................................................[CV] max_depth=21 ....................................................\n",
        "[CV] max_depth=22 ....................................................\n",
        "[CV] max_depth=22 ....................................................[CV] max_depth=21 ....................................................[CV] max_depth=22 ....................................................[CV] ........................... max_depth=19, score=0.283757 -   3.4s[CV] ........................... max_depth=20, score=0.270633 -   3.3s[CV] ........................... max_depth=20, score=0.274131 -   3.4s\n",
        "\n",
        "[CV] ........................... max_depth=21, score=0.274131 -   3.4s[CV] ........................... max_depth=22, score=0.274131 -   3.4s\n",
        "\n",
        "\n",
        "\n",
        "\n",
        "\n",
        "[CV] ........................... max_depth=21, score=0.270633 -   3.4s[CV] ........................... max_depth=20, score=0.283757 -   3.4s\n",
        "\n",
        "[CV] ........................... max_depth=22, score=0.270633 -   3.4s[CV] ........................... max_depth=21, score=0.283757 -   3.4s[CV] ........................... max_depth=22, score=0.283757 -   3.4s[CV] max_depth=23 ....................................................\n",
        "[CV] max_depth=23 ....................................................[CV] max_depth=23 ....................................................\n",
        "\n",
        "\n",
        "[CV] max_depth=25 ....................................................\n",
        "[CV] max_depth=30 ....................................................\n",
        "\n",
        "\n",
        "\n",
        "[CV] ........................... max_depth=23, score=0.270633 -   3.4s\n",
        "[CV] ........................... max_depth=23, score=0.283757 -   3.4s[CV] max_depth=25 ....................................................[CV] max_depth=25 ....................................................[CV] ........................... max_depth=25, score=0.274131 -   3.4s[CV] ........................... max_depth=30, score=0.274131 -   3.4s[CV] max_depth=30 ....................................................\n",
        "[CV] max_depth=30 ....................................................\n",
        "[CV] max_depth=40 ....................................................\n",
        "\n",
        "[CV] ........................... max_depth=23, score=0.274131 -   3.4s\n",
        "\n",
        "\n",
        "\n",
        "\n",
        "[CV] ........................... max_depth=30, score=0.283757 -   3.4s[CV] ........................... max_depth=30, score=0.270633 -   3.3s[CV] ........................... max_depth=40, score=0.270633 -   3.4s[CV] max_depth=40 ....................................................\n",
        "[CV] max_depth=50 ....................................................\n",
        "[CV] ........................... max_depth=25, score=0.283757 -   3.3s[CV] ........................... max_depth=25, score=0.270633 -   3.3s[CV] max_depth=50 ....................................................[CV] max_depth=200 ...................................................\n",
        "\n",
        "\n",
        "\n",
        "\n",
        "[CV] max_depth=40 ....................................................[CV] ........................... max_depth=50, score=0.270633 -   3.3s\n",
        "\n",
        "\n",
        "[CV] .......................... max_depth=200, score=0.270633 -   3.2s[CV] max_depth=100 ...................................................\n",
        "[CV] max_depth=100 ...................................................\n",
        "[CV] max_depth=200 ...................................................\n",
        "[CV] ........................... max_depth=40, score=0.274131 -   3.3s\n",
        "\n",
        "[CV] max_depth=100 ...................................................\n",
        "[CV] max_depth=50 ....................................................\n",
        "[CV] ........................... max_depth=50, score=0.283757 -   3.2s\n",
        "[CV] .......................... max_depth=100, score=0.283757 -   3.2s[CV] .......................... max_depth=100, score=0.270633 -   3.2s[CV] .......................... max_depth=200, score=0.274131 -   3.2s\n",
        "[CV] ........................... max_depth=40, score=0.283757 -   3.2s[CV] max_depth=500 ...................................................\n",
        "[CV] .......................... max_depth=100, score=0.274131 -   3.3s[CV] ........................... max_depth=50, score=0.274131 -   3.2s\n",
        "\n",
        "\n",
        "\n",
        "[CV] max_depth=200 ...................................................\n",
        "\n",
        "[CV] .......................... max_depth=500, score=0.274131 -   1.7s\n",
        "\n",
        "[CV] .......................... max_depth=200, score=0.283757 -   1.8s[CV] max_depth=500 ...................................................\n",
        "\n",
        "[CV] max_depth=500 ...................................................\n",
        "\n",
        "[CV] .......................... max_depth=500, score=0.270633 -   1.8s[CV] .......................... max_depth=500, score=0.283757 -   1.5s\n",
        "\n"
       ]
      },
      {
       "output_type": "stream",
       "stream": "stdout",
       "text": [
        "\n",
        "Validation accuracy: 0.332061068702"
       ]
      },
      {
       "output_type": "stream",
       "stream": "stdout",
       "text": [
        "\n",
        "(1550, 1)"
       ]
      },
      {
       "output_type": "stream",
       "stream": "stdout",
       "text": [
        "\n",
        "(786, 1)\n",
        "(1550, 1)\n",
        "(786, 1)\n",
        "Fitting 3 folds for each of 18 candidates, totalling 54 fits\n"
       ]
      },
      {
       "output_type": "stream",
       "stream": "stderr",
       "text": [
        "[Parallel(n_jobs=10)]: Done   1 jobs       | elapsed:    2.6s\n",
        "[Parallel(n_jobs=10)]: Done   2 jobs       | elapsed:    2.7s\n",
        "[Parallel(n_jobs=10)]: Done   5 jobs       | elapsed:    3.2s\n",
        "[Parallel(n_jobs=10)]: Done   8 jobs       | elapsed:    3.4s\n",
        "[Parallel(n_jobs=10)]: Done  13 jobs       | elapsed:    6.4s\n",
        "[Parallel(n_jobs=10)]: Done  18 jobs       | elapsed:    6.9s\n",
        "[Parallel(n_jobs=10)]: Done  25 jobs       | elapsed:   10.0s\n",
        "[Parallel(n_jobs=10)]: Done  32 jobs       | elapsed:   12.9s\n",
        "[Parallel(n_jobs=10)]: Done  36 out of  54 | elapsed:   13.4s remaining:    6.7s\n",
        "[Parallel(n_jobs=10)]: Done  42 out of  54 | elapsed:   16.3s remaining:    4.7s\n",
        "[Parallel(n_jobs=10)]: Done  48 out of  54 | elapsed:   17.0s remaining:    2.1s\n",
        "[Parallel(n_jobs=10)]: Done  54 out of  54 | elapsed:   18.3s finished\n"
       ]
      },
      {
       "output_type": "stream",
       "stream": "stdout",
       "text": [
        "Best results for the Random Forest run:\n",
        "Best parameter: {'max_depth': 7}\n",
        "Training accuracy: 0.626451612903[CV] max_depth=7 .....................................................\n",
        "[CV] max_depth=7 .....................................................\n",
        "[CV] max_depth=7 .....................................................\n",
        "[CV] max_depth=10 ....................................................\n",
        "[CV] max_depth=10 ....................................................\n",
        "[CV] max_depth=10 ....................................................\n",
        "[CV] max_depth=12 ....................................................\n",
        "[CV] max_depth=12 ....................................................\n",
        "[CV] max_depth=12 ....................................................\n",
        "[CV] max_depth=15 ....................................................\n",
        "[CV] ............................ max_depth=7, score=0.322457 -   2.6s[CV] ............................ max_depth=7, score=0.378378 -   2.6s[CV] ............................ max_depth=7, score=0.348337 -   2.8s[CV] ........................... max_depth=10, score=0.307102 -   3.1s[CV] ........................... max_depth=10, score=0.332046 -   3.1s[CV] ........................... max_depth=10, score=0.328767 -   3.2s[CV] ........................... max_depth=12, score=0.328185 -   3.3s[CV] ........................... max_depth=12, score=0.285988 -   3.4s[CV] ........................... max_depth=12, score=0.318982 -   3.3s[CV] ........................... max_depth=15, score=0.287908 -   3.5s\n",
        "\n",
        "\n",
        "\n",
        "\n",
        "\n",
        "\n",
        "\n",
        "\n",
        "\n",
        "[CV] max_depth=15 ....................................................\n",
        "[CV] max_depth=15 ....................................................\n",
        "[CV] max_depth=17 ....................................................\n",
        "[CV] max_depth=17 ....................................................\n",
        "[CV] max_depth=17 ....................................................\n",
        "[CV] max_depth=18 ....................................................\n",
        "[CV] max_depth=18 ....................................................\n",
        "[CV] max_depth=19 ....................................................\n",
        "[CV] max_depth=18 ....................................................\n",
        "[CV] max_depth=19 ....................................................\n",
        "[CV] ........................... max_depth=15, score=0.328185 -   3.5s[CV] ........................... max_depth=15, score=0.318982 -   3.5s[CV] ........................... max_depth=17, score=0.285988 -   3.6s[CV] ........................... max_depth=17, score=0.318982 -   3.4s[CV] ........................... max_depth=17, score=0.328185 -   3.5s[CV] ........................... max_depth=18, score=0.285988 -   3.5s[CV] ........................... max_depth=18, score=0.328185 -   3.5s[CV] ........................... max_depth=19, score=0.285988 -   3.5s[CV] ........................... max_depth=18, score=0.318982 -   3.4s[CV] ........................... max_depth=19, score=0.328185 -   3.4s\n",
        "\n",
        "\n",
        "\n",
        "\n",
        "\n",
        "\n",
        "\n",
        "\n",
        "\n",
        "[CV] max_depth=19 ....................................................\n",
        "[CV] max_depth=20 ....................................................\n",
        "[CV] max_depth=20 ....................................................\n",
        "[CV] max_depth=20 ....................................................\n",
        "[CV] max_depth=21 ....................................................\n",
        "[CV] max_depth=21 ....................................................\n",
        "[CV] max_depth=21 ....................................................\n",
        "[CV] max_depth=22 ....................................................\n",
        "[CV] max_depth=22 ....................................................\n",
        "[CV] max_depth=22 ....................................................\n",
        "[CV] ........................... max_depth=19, score=0.320939 -   3.3s[CV] ........................... max_depth=20, score=0.287908 -   3.4s[CV] ........................... max_depth=20, score=0.326255 -   3.3s[CV] ........................... max_depth=20, score=0.320939 -   3.3s[CV] ........................... max_depth=21, score=0.287908 -   3.3s[CV] ........................... max_depth=21, score=0.324324 -   3.3s[CV] ........................... max_depth=21, score=0.320939 -   3.2s[CV] ........................... max_depth=22, score=0.324324 -   3.2s[CV] ........................... max_depth=22, score=0.287908 -   3.3s[CV] ........................... max_depth=22, score=0.320939 -   3.3s\n",
        "\n",
        "\n",
        "\n",
        "\n",
        "\n",
        "\n",
        "\n",
        "\n",
        "\n",
        "[CV] max_depth=23 ....................................................\n",
        "[CV] max_depth=23 ....................................................\n",
        "[CV] max_depth=23 ....................................................\n",
        "[CV] max_depth=25 ....................................................\n",
        "[CV] max_depth=25 ....................................................\n",
        "[CV] max_depth=25 ....................................................\n",
        "[CV] max_depth=30 ....................................................[CV] max_depth=30 ....................................................\n",
        "[CV] max_depth=30 ....................................................[CV] max_depth=40 ....................................................\n",
        "[CV] ........................... max_depth=23, score=0.285988 -   3.3s[CV] ........................... max_depth=23, score=0.318533 -   3.2s[CV] ........................... max_depth=23, score=0.320939 -   3.3s[CV] ........................... max_depth=25, score=0.318533 -   3.3s[CV] ........................... max_depth=25, score=0.285988 -   3.3s[CV] ........................... max_depth=25, score=0.320939 -   3.3s\n",
        "[CV] ........................... max_depth=30, score=0.320939 -   3.2s\n",
        "[CV] ........................... max_depth=40, score=0.285988 -   3.3s\n",
        "\n",
        "\n",
        "\n",
        "\n",
        "\n",
        "[CV] ........................... max_depth=30, score=0.285988 -   3.3s\n",
        "[CV] ........................... max_depth=30, score=0.318533 -   3.3s\n",
        "[CV] max_depth=40 ....................................................\n",
        "[CV] max_depth=40 ....................................................\n",
        "[CV] max_depth=50 ....................................................\n",
        "[CV] max_depth=50 ....................................................\n",
        "[CV] max_depth=50 ....................................................[CV] max_depth=100 ...................................................\n",
        "\n",
        "[CV] max_depth=100 ...................................................\n",
        "\n",
        "[CV] max_depth=200 ...................................................\n",
        "[CV] ........................... max_depth=40, score=0.322394 -   3.4s[CV] ........................... max_depth=40, score=0.320939 -   3.4s[CV] ........................... max_depth=50, score=0.287908 -   3.5s[CV] ........................... max_depth=50, score=0.320939 -   3.3s\n",
        "[CV] .......................... max_depth=100, score=0.287908 -   3.3s[CV] max_depth=100 ...................................................[CV] .......................... max_depth=100, score=0.320939 -   3.4s[CV] max_depth=200 ...................................................\n",
        "[CV] .......................... max_depth=200, score=0.322394 -   3.3s\n",
        "\n",
        "\n",
        "\n",
        "[CV] ........................... max_depth=50, score=0.322394 -   3.4s\n",
        "\n",
        "\n",
        "[CV] .......................... max_depth=200, score=0.287908 -   3.3s\n",
        "[CV] max_depth=200 ...................................................\n",
        "[CV] max_depth=500 ...................................................\n",
        "[CV] max_depth=500 ...................................................\n",
        "[CV] max_depth=500 ...................................................\n",
        "\n",
        "[CV] .......................... max_depth=100, score=0.322394 -   3.4s\n",
        "[CV] .......................... max_depth=200, score=0.320939 -   1.9s[CV] .......................... max_depth=500, score=0.287908 -   1.8s[CV] .......................... max_depth=500, score=0.324324 -   1.6s[CV] .......................... max_depth=500, score=0.320939 -   1.5s\n",
        "\n",
        "\n",
        "\n",
        "\n"
       ]
      },
      {
       "output_type": "stream",
       "stream": "stdout",
       "text": [
        "\n",
        "Validation accuracy: 0.361323155216"
       ]
      },
      {
       "output_type": "stream",
       "stream": "stdout",
       "text": [
        "\n",
        "(1550, 1)"
       ]
      },
      {
       "output_type": "stream",
       "stream": "stdout",
       "text": [
        "\n",
        "(786, 1)\n",
        "(1550, 1)\n",
        "(786, 1)\n",
        "Fitting 3 folds for each of 18 candidates, totalling 54 fits\n"
       ]
      },
      {
       "output_type": "stream",
       "stream": "stderr",
       "text": [
        "[Parallel(n_jobs=10)]: Done   2 jobs       | elapsed:    2.9s\n",
        "[Parallel(n_jobs=10)]: Done   1 jobs       | elapsed:    2.9s\n",
        "[Parallel(n_jobs=10)]: Done   5 jobs       | elapsed:    3.4s\n",
        "[Parallel(n_jobs=10)]: Done   8 jobs       | elapsed:    3.5s\n",
        "[Parallel(n_jobs=10)]: Done  13 jobs       | elapsed:    6.4s\n",
        "[Parallel(n_jobs=10)]: Done  18 jobs       | elapsed:    6.9s\n",
        "[Parallel(n_jobs=10)]: Done  25 jobs       | elapsed:   10.2s\n",
        "[Parallel(n_jobs=10)]: Done  32 jobs       | elapsed:   13.2s\n",
        "[Parallel(n_jobs=10)]: Done  36 out of  54 | elapsed:   13.7s remaining:    6.8s\n",
        "[Parallel(n_jobs=10)]: Done  42 out of  54 | elapsed:   16.6s remaining:    4.7s\n",
        "[Parallel(n_jobs=10)]: Done  48 out of  54 | elapsed:   17.1s remaining:    2.1s\n",
        "[Parallel(n_jobs=10)]: Done  54 out of  54 | elapsed:   18.5s finished\n"
       ]
      },
      {
       "output_type": "stream",
       "stream": "stdout",
       "text": [
        "Best results for the Random Forest run:\n",
        "Best parameter: {'max_depth': 7}\n",
        "Training accuracy: 0.669032258065[CV] max_depth=7 .....................................................\n",
        "[CV] max_depth=7 .....................................................\n",
        "[CV] max_depth=7 .....................................................\n",
        "[CV] max_depth=10 ....................................................\n",
        "[CV] max_depth=10 ....................................................\n",
        "[CV] max_depth=10 ....................................................\n",
        "[CV] max_depth=12 ....................................................\n",
        "[CV] max_depth=12 ....................................................\n",
        "[CV] max_depth=12 ....................................................\n",
        "[CV] max_depth=15 ....................................................\n",
        "[CV] ............................ max_depth=7, score=0.380038 -   2.8s[CV] ............................ max_depth=7, score=0.444015 -   2.8s[CV] ............................ max_depth=7, score=0.383562 -   2.9s[CV] ........................... max_depth=10, score=0.318618 -   3.3s[CV] ........................... max_depth=10, score=0.383562 -   3.2s[CV] ........................... max_depth=10, score=0.391892 -   3.3s[CV] ........................... max_depth=12, score=0.301344 -   3.3s[CV] ........................... max_depth=12, score=0.391892 -   3.4s[CV] ........................... max_depth=12, score=0.346380 -   3.4s[CV] ........................... max_depth=15, score=0.305182 -   3.5s\n",
        "\n",
        "\n",
        "\n",
        "\n",
        "\n",
        "\n",
        "\n",
        "\n",
        "\n",
        "[CV] max_depth=15 ....................................................\n",
        "[CV] max_depth=15 ....................................................\n",
        "[CV] max_depth=17 ....................................................\n",
        "[CV] max_depth=17 ....................................................\n",
        "[CV] max_depth=17 ....................................................\n",
        "[CV] max_depth=18 ....................................................\n",
        "[CV] max_depth=18 ....................................................\n",
        "[CV] max_depth=18 ....................................................\n",
        "[CV] max_depth=19 ....................................................\n",
        "[CV] max_depth=19 ....................................................\n",
        "[CV] ........................... max_depth=15, score=0.330724 -   3.5s[CV] ........................... max_depth=15, score=0.382239 -   3.4s[CV] ........................... max_depth=17, score=0.305182 -   3.4s[CV] ........................... max_depth=17, score=0.330724 -   3.3s[CV] ........................... max_depth=17, score=0.382239 -   3.4s[CV] ........................... max_depth=18, score=0.305182 -   3.3s[CV] ........................... max_depth=18, score=0.382239 -   3.4s[CV] ........................... max_depth=18, score=0.330724 -   3.4s[CV] ........................... max_depth=19, score=0.305182 -   3.4s[CV] ........................... max_depth=19, score=0.382239 -   3.4s\n",
        "\n",
        "\n",
        "\n",
        "\n",
        "\n",
        "\n",
        "\n",
        "\n",
        "\n",
        "[CV] max_depth=20 ....................................................\n",
        "[CV] max_depth=19 ....................................................\n",
        "[CV] max_depth=20 ....................................................\n",
        "[CV] max_depth=21 ....................................................\n",
        "[CV] max_depth=21 ....................................................[CV] max_depth=20 ....................................................[CV] max_depth=21 ....................................................\n",
        "[CV] max_depth=22 ....................................................\n",
        "[CV] max_depth=22 ....................................................\n",
        "[CV] max_depth=22 ....................................................\n",
        "[CV] ........................... max_depth=20, score=0.305182 -   3.3s[CV] ........................... max_depth=19, score=0.330724 -   3.4s[CV] ........................... max_depth=20, score=0.382239 -   3.4s[CV] ........................... max_depth=21, score=0.305182 -   3.4s\n",
        "\n",
        "[CV] ........................... max_depth=21, score=0.330724 -   3.4s[CV] ........................... max_depth=22, score=0.305182 -   3.4s[CV] ........................... max_depth=22, score=0.382239 -   3.4s[CV] ........................... max_depth=22, score=0.330724 -   3.4s\n",
        "\n",
        "\n",
        "\n",
        "[CV] ........................... max_depth=21, score=0.382239 -   3.4s[CV] ........................... max_depth=20, score=0.330724 -   3.4s\n",
        "\n",
        "\n",
        "\n",
        "[CV] max_depth=23 ....................................................\n",
        "[CV] max_depth=23 ....................................................\n",
        "[CV] max_depth=23 ....................................................\n",
        "[CV] max_depth=25 ....................................................\n",
        "\n",
        "\n",
        "[CV] max_depth=30 ....................................................\n",
        "[CV] max_depth=30 ....................................................\n",
        "[CV] max_depth=30 ....................................................\n",
        "[CV] max_depth=40 ....................................................\n",
        "[CV] ........................... max_depth=23, score=0.305182 -   3.3s[CV] ........................... max_depth=23, score=0.382239 -   3.4s[CV] ........................... max_depth=23, score=0.330724 -   3.4s[CV] ........................... max_depth=25, score=0.305182 -   3.3s[CV] max_depth=25 ....................................................\n",
        "[CV] max_depth=25 ....................................................\n",
        "[CV] ........................... max_depth=30, score=0.382239 -   3.4s[CV] ........................... max_depth=30, score=0.305182 -   3.3s[CV] ........................... max_depth=30, score=0.330724 -   3.4s[CV] ........................... max_depth=40, score=0.305182 -   3.3s\n",
        "\n",
        "\n",
        "\n",
        "[CV] ........................... max_depth=25, score=0.330724 -   3.4s[CV] ........................... max_depth=25, score=0.382239 -   3.4s\n",
        "\n",
        "\n",
        "\n",
        "[CV] max_depth=40 ....................................................[CV] max_depth=40 ....................................................\n",
        "[CV] max_depth=50 ....................................................\n",
        "[CV] max_depth=50 ....................................................\n",
        "\n",
        "[CV] max_depth=200 ...................................................\n",
        "[CV] max_depth=100 ...................................................\n",
        "[CV] max_depth=100 ...................................................\n",
        "[CV] max_depth=200 ...................................................\n",
        "\n",
        "[CV] ........................... max_depth=40, score=0.330724 -   3.4s[CV] ........................... max_depth=50, score=0.305182 -   3.3s\n",
        "[CV] max_depth=100 ...................................................\n",
        "[CV] max_depth=50 ....................................................\n",
        "[CV] .......................... max_depth=200, score=0.305182 -   3.3s[CV] .......................... max_depth=100, score=0.382239 -   3.4s[CV] .......................... max_depth=100, score=0.330724 -   3.3s[CV] .......................... max_depth=200, score=0.382239 -   3.3s[CV] ........................... max_depth=40, score=0.382239 -   3.4s\n",
        "\n",
        "[CV] ........................... max_depth=50, score=0.382239 -   3.4s[CV] .......................... max_depth=100, score=0.305182 -   3.3s[CV] ........................... max_depth=50, score=0.330724 -   3.3s\n",
        "\n",
        "\n",
        "\n",
        "\n",
        "[CV] max_depth=500 ...................................................\n",
        "[CV] max_depth=500 ...................................................\n",
        "\n",
        "\n",
        "\n",
        "[CV] max_depth=200 ...................................................\n",
        "[CV] .......................... max_depth=500, score=0.305182 -   1.7s[CV] .......................... max_depth=500, score=0.382239 -   1.7s[CV] max_depth=500 ...................................................\n",
        "[CV] .......................... max_depth=200, score=0.330724 -   1.8s\n",
        "\n",
        "[CV] .......................... max_depth=500, score=0.330724 -   1.5s\n",
        "\n"
       ]
      },
      {
       "output_type": "stream",
       "stream": "stdout",
       "text": [
        "\n",
        "Validation accuracy: 0.232824427481"
       ]
      },
      {
       "output_type": "stream",
       "stream": "stdout",
       "text": [
        "\n",
        "(1550, 1)"
       ]
      },
      {
       "output_type": "stream",
       "stream": "stdout",
       "text": [
        "\n",
        "(786, 1)\n",
        "(1550, 1)\n",
        "(786, 1)\n",
        "Fitting 3 folds for each of 18 candidates, totalling 54 fits\n"
       ]
      },
      {
       "output_type": "stream",
       "stream": "stderr",
       "text": [
        "[Parallel(n_jobs=10)]: Done   2 jobs       | elapsed:    2.3s\n",
        "[Parallel(n_jobs=10)]: Done   1 jobs       | elapsed:    2.4s\n",
        "[Parallel(n_jobs=10)]: Done   5 jobs       | elapsed:    2.7s\n",
        "[Parallel(n_jobs=10)]: Done   8 jobs       | elapsed:    2.9s\n",
        "[Parallel(n_jobs=10)]: Done  13 jobs       | elapsed:    4.9s\n",
        "[Parallel(n_jobs=10)]: Done  18 jobs       | elapsed:    5.5s\n",
        "[Parallel(n_jobs=10)]: Done  25 jobs       | elapsed:    7.9s\n",
        "[Parallel(n_jobs=10)]: Done  32 jobs       | elapsed:   10.2s\n",
        "[Parallel(n_jobs=10)]: Done  36 out of  54 | elapsed:   10.6s remaining:    5.3s\n",
        "[Parallel(n_jobs=10)]: Done  42 out of  54 | elapsed:   12.8s remaining:    3.7s\n",
        "[Parallel(n_jobs=10)]: Done  48 out of  54 | elapsed:   13.2s remaining:    1.6s\n",
        "[Parallel(n_jobs=10)]: Done  54 out of  54 | elapsed:   14.3s finished\n"
       ]
      },
      {
       "output_type": "stream",
       "stream": "stdout",
       "text": [
        "Best results for the Random Forest run:\n",
        "Best parameter: {'max_depth': 7}\n",
        "Training accuracy: 0.631612903226[CV] max_depth=7 .....................................................\n",
        "[CV] max_depth=7 .....................................................\n",
        "[CV] max_depth=7 .....................................................\n",
        "[CV] max_depth=10 ....................................................\n",
        "[CV] max_depth=10 ....................................................\n",
        "[CV] max_depth=10 ....................................................\n",
        "[CV] max_depth=12 ....................................................\n",
        "[CV] max_depth=12 ....................................................\n",
        "[CV] max_depth=12 ....................................................\n",
        "[CV] max_depth=15 ....................................................\n",
        "[CV] ............................ max_depth=7, score=0.395393 -   2.3s[CV] ............................ max_depth=7, score=0.322394 -   2.3s[CV] ............................ max_depth=7, score=0.389432 -   2.3s[CV] ........................... max_depth=10, score=0.332054 -   2.6s[CV] ........................... max_depth=10, score=0.303089 -   2.6s[CV] ........................... max_depth=10, score=0.365949 -   2.6s[CV] ........................... max_depth=12, score=0.303263 -   2.7s[CV] ........................... max_depth=12, score=0.301158 -   2.6s[CV] ........................... max_depth=12, score=0.356164 -   2.6s[CV] ........................... max_depth=15, score=0.278311 -   2.7s\n",
        "\n",
        "\n",
        "\n",
        "\n",
        "\n",
        "\n",
        "\n",
        "\n",
        "\n",
        "[CV] max_depth=15 ....................................................\n",
        "[CV] max_depth=15 ....................................................\n",
        "[CV] max_depth=17 ....................................................\n",
        "[CV] max_depth=17 ....................................................\n",
        "[CV] max_depth=17 ....................................................\n",
        "[CV] max_depth=18 ....................................................\n",
        "[CV] max_depth=18 ....................................................\n",
        "[CV] max_depth=18 ....................................................\n",
        "[CV] max_depth=19 ....................................................\n",
        "[CV] max_depth=19 ....................................................\n",
        "[CV] ........................... max_depth=15, score=0.352250 -   2.6s[CV] ........................... max_depth=15, score=0.301158 -   2.5s[CV] ........................... max_depth=17, score=0.297505 -   2.6s[CV] ........................... max_depth=17, score=0.301158 -   2.6s[CV] ........................... max_depth=17, score=0.352250 -   2.5s[CV] ........................... max_depth=18, score=0.297505 -   2.6s[CV] ........................... max_depth=18, score=0.299228 -   2.5s[CV] ........................... max_depth=18, score=0.352250 -   2.6s[CV] ........................... max_depth=19, score=0.297505 -   2.6s[CV] ........................... max_depth=19, score=0.299228 -   2.6s\n",
        "\n",
        "\n",
        "\n",
        "\n",
        "\n",
        "\n",
        "\n",
        "\n",
        "\n",
        "[CV] max_depth=20 ....................................................\n",
        "[CV] max_depth=19 ....................................................\n",
        "[CV] max_depth=20 ....................................................\n",
        "[CV] max_depth=20 ....................................................\n",
        "[CV] max_depth=21 ....................................................\n",
        "[CV] max_depth=21 ....................................................\n",
        "[CV] max_depth=21 ....................................................\n",
        "[CV] max_depth=22 ....................................................\n",
        "[CV] max_depth=22 ....................................................\n",
        "[CV] max_depth=22 ....................................................\n",
        "[CV] ........................... max_depth=20, score=0.282150 -   2.6s[CV] ........................... max_depth=19, score=0.348337 -   2.6s[CV] ........................... max_depth=20, score=0.299228 -   2.6s[CV] ........................... max_depth=20, score=0.348337 -   2.7s[CV] ........................... max_depth=21, score=0.282150 -   2.6s[CV] ........................... max_depth=21, score=0.299228 -   2.6s[CV] ........................... max_depth=21, score=0.350294 -   2.6s[CV] ........................... max_depth=22, score=0.299228 -   2.5s[CV] ........................... max_depth=22, score=0.350294 -   2.6s[CV] ........................... max_depth=22, score=0.282150 -   2.5s\n",
        "\n",
        "\n",
        "\n",
        "\n",
        "\n",
        "\n",
        "\n",
        "\n",
        "\n",
        "[CV] max_depth=23 ....................................................\n",
        "[CV] max_depth=23 ....................................................\n",
        "[CV] max_depth=23 ....................................................\n",
        "[CV] max_depth=25 ....................................................\n",
        "[CV] max_depth=25 ....................................................\n",
        "[CV] max_depth=25 ....................................................\n",
        "[CV] max_depth=30 ....................................................\n",
        "[CV] max_depth=30 ....................................................\n",
        "[CV] max_depth=40 ....................................................\n",
        "[CV] max_depth=30 ....................................................\n",
        "[CV] ........................... max_depth=23, score=0.348337 -   2.6s[CV] ........................... max_depth=23, score=0.299424 -   2.6s[CV] ........................... max_depth=23, score=0.301158 -   2.6s[CV] ........................... max_depth=25, score=0.299424 -   2.7s[CV] ........................... max_depth=25, score=0.301158 -   2.6s[CV] ........................... max_depth=25, score=0.348337 -   2.7s[CV] ........................... max_depth=30, score=0.299424 -   2.6s[CV] ........................... max_depth=30, score=0.348337 -   2.7s[CV] ........................... max_depth=40, score=0.299424 -   2.6s[CV] ........................... max_depth=30, score=0.301158 -   2.6s\n",
        "\n",
        "\n",
        "\n",
        "\n",
        "\n",
        "\n",
        "\n",
        "\n",
        "\n",
        "[CV] max_depth=50 ....................................................\n",
        "[CV] max_depth=40 ....................................................\n",
        "[CV] max_depth=40 ....................................................\n",
        "[CV] max_depth=50 ....................................................\n",
        "[CV] max_depth=50 ....................................................\n",
        "[CV] max_depth=100 ...................................................\n",
        "[CV] max_depth=100 ...................................................\n",
        "[CV] max_depth=200 ...................................................\n",
        "[CV] max_depth=200 ...................................................\n",
        "[CV] max_depth=100 ...................................................\n",
        "[CV] ........................... max_depth=50, score=0.297505 -   2.6s[CV] ........................... max_depth=40, score=0.299228 -   2.5s[CV] ........................... max_depth=40, score=0.356164 -   2.6s[CV] ........................... max_depth=50, score=0.356164 -   2.5s[CV] ........................... max_depth=50, score=0.299228 -   2.5s[CV] .......................... max_depth=100, score=0.356164 -   2.5s[CV] .......................... max_depth=100, score=0.299228 -   2.5s[CV] .......................... max_depth=200, score=0.297505 -   2.5s[CV] .......................... max_depth=200, score=0.299228 -   2.4s[CV] .......................... max_depth=100, score=0.297505 -   2.5s\n",
        "\n",
        "\n",
        "\n",
        "\n",
        "\n",
        "\n",
        "\n",
        "\n",
        "\n",
        "[CV] max_depth=500 ...................................................\n",
        "[CV] max_depth=200 ...................................................\n",
        "[CV] max_depth=500 ...................................................\n",
        "[CV] max_depth=500 ...................................................\n",
        "[CV] .......................... max_depth=500, score=0.299228 -   1.4s[CV] .......................... max_depth=200, score=0.352250 -   1.5s[CV] .......................... max_depth=500, score=0.280230 -   1.4s[CV] .......................... max_depth=500, score=0.352250 -   1.2s\n",
        "\n",
        "\n",
        "\n"
       ]
      },
      {
       "output_type": "stream",
       "stream": "stdout",
       "text": [
        "\n",
        "Validation accuracy: 0.25572519084"
       ]
      },
      {
       "output_type": "stream",
       "stream": "stdout",
       "text": [
        "\n",
        "(1550, 1)"
       ]
      },
      {
       "output_type": "stream",
       "stream": "stdout",
       "text": [
        "\n",
        "(786, 1)\n",
        "(1550, 1)\n",
        "(786, 1)\n",
        "Fitting 3 folds for each of 18 candidates, totalling 54 fits\n"
       ]
      },
      {
       "output_type": "stream",
       "stream": "stderr",
       "text": [
        "[Parallel(n_jobs=10)]: Done   1 jobs       | elapsed:    2.8s\n",
        "[Parallel(n_jobs=10)]: Done   2 jobs       | elapsed:    2.8s\n",
        "[Parallel(n_jobs=10)]: Done   5 jobs       | elapsed:    3.3s\n",
        "[Parallel(n_jobs=10)]: Done   8 jobs       | elapsed:    3.6s\n",
        "[Parallel(n_jobs=10)]: Done  13 jobs       | elapsed:    6.9s\n",
        "[Parallel(n_jobs=10)]: Done  18 jobs       | elapsed:    7.6s\n",
        "[Parallel(n_jobs=10)]: Done  25 jobs       | elapsed:   11.2s\n",
        "[Parallel(n_jobs=10)]: Done  32 jobs       | elapsed:   15.2s\n",
        "[Parallel(n_jobs=10)]: Done  36 out of  54 | elapsed:   15.9s remaining:    7.9s\n",
        "[Parallel(n_jobs=10)]: Done  42 out of  54 | elapsed:   19.8s remaining:    5.7s\n",
        "[Parallel(n_jobs=10)]: Done  48 out of  54 | elapsed:   20.7s remaining:    2.6s\n",
        "[Parallel(n_jobs=10)]: Done  54 out of  54 | elapsed:   22.0s finished\n"
       ]
      },
      {
       "output_type": "stream",
       "stream": "stdout",
       "text": [
        "Best results for the Random Forest run:\n",
        "Best parameter: {'max_depth': 7}\n",
        "Training accuracy: 0.607741935484[CV] max_depth=7 .....................................................\n",
        "[CV] max_depth=7 .....................................................\n",
        "[CV] max_depth=7 .....................................................\n",
        "[CV] max_depth=10 ....................................................\n",
        "[CV] max_depth=10 ....................................................\n",
        "[CV] max_depth=10 ....................................................\n",
        "[CV] max_depth=12 ....................................................\n",
        "[CV] max_depth=12 ....................................................\n",
        "[CV] max_depth=12 ....................................................\n",
        "[CV] max_depth=15 ....................................................\n",
        "[CV] ............................ max_depth=7, score=0.399232 -   2.7s[CV] ............................ max_depth=7, score=0.376448 -   2.7s[CV] ............................ max_depth=7, score=0.432485 -   2.8s[CV] ........................... max_depth=10, score=0.397313 -   3.3s[CV] ........................... max_depth=10, score=0.361004 -   3.2s[CV] ........................... max_depth=10, score=0.371820 -   3.3s[CV] ........................... max_depth=12, score=0.397313 -   3.6s[CV] ........................... max_depth=12, score=0.351351 -   3.5s[CV] ........................... max_depth=12, score=0.354207 -   3.6s[CV] ........................... max_depth=15, score=0.374280 -   3.8s\n",
        "\n",
        "\n",
        "\n",
        "\n",
        "\n",
        "\n",
        "\n",
        "\n",
        "\n",
        "[CV] max_depth=15 ....................................................\n",
        "[CV] max_depth=15 ....................................................\n",
        "[CV] max_depth=17 ....................................................\n",
        "[CV] max_depth=17 ....................................................\n",
        "[CV] max_depth=17 ....................................................\n",
        "[CV] max_depth=18 ....................................................\n",
        "[CV] max_depth=18 ....................................................\n",
        "[CV] max_depth=18 ....................................................\n",
        "[CV] max_depth=19 ....................................................\n",
        "[CV] max_depth=19 ....................................................\n",
        "[CV] ........................... max_depth=15, score=0.324324 -   3.9s[CV] ........................... max_depth=15, score=0.342466 -   3.9s[CV] ........................... max_depth=17, score=0.370441 -   4.0s[CV] ........................... max_depth=17, score=0.344423 -   3.9s[CV] ........................... max_depth=17, score=0.320463 -   3.8s[CV] ........................... max_depth=18, score=0.370441 -   3.8s[CV] ........................... max_depth=18, score=0.344423 -   3.9s[CV] ........................... max_depth=18, score=0.320463 -   3.9s[CV] ........................... max_depth=19, score=0.370441 -   3.8s[CV] ........................... max_depth=19, score=0.320463 -   3.8s\n",
        "\n",
        "\n",
        "\n",
        "\n",
        "\n",
        "\n",
        "\n",
        "\n",
        "\n",
        "[CV] max_depth=20 ....................................................\n",
        "[CV] max_depth=19 ....................................................\n",
        "[CV] max_depth=20 ....................................................\n",
        "[CV] max_depth=21 ....................................................\n",
        "[CV] max_depth=20 ....................................................\n",
        "[CV] max_depth=21 ....................................................\n",
        "[CV] max_depth=22 ....................................................\n",
        "[CV] max_depth=21 ....................................................\n",
        "[CV] max_depth=22 ....................................................\n",
        "[CV] max_depth=22 ....................................................\n",
        "[CV] ........................... max_depth=20, score=0.370441 -   3.8s[CV] ........................... max_depth=19, score=0.344423 -   3.8s[CV] ........................... max_depth=20, score=0.320463 -   3.8s[CV] ........................... max_depth=21, score=0.320463 -   3.8s[CV] ........................... max_depth=20, score=0.344423 -   3.9s[CV] ........................... max_depth=21, score=0.370441 -   3.8s[CV] ........................... max_depth=22, score=0.320463 -   3.9s[CV] ........................... max_depth=21, score=0.344423 -   3.9s[CV] ........................... max_depth=22, score=0.370441 -   3.9s[CV] ........................... max_depth=22, score=0.344423 -   4.0s\n",
        "\n",
        "\n",
        "\n",
        "\n",
        "\n",
        "\n",
        "\n",
        "\n",
        "\n",
        "[CV] max_depth=23 ....................................................\n",
        "[CV] max_depth=23 ....................................................\n",
        "[CV] max_depth=23 ....................................................[CV] max_depth=25 ....................................................[CV] max_depth=25 ....................................................\n",
        "[CV] max_depth=25 ....................................................\n",
        "[CV] max_depth=30 ....................................................\n",
        "[CV] max_depth=30 ....................................................\n",
        "[CV] max_depth=30 ....................................................\n",
        "[CV] max_depth=40 ....................................................\n",
        "[CV] ........................... max_depth=23, score=0.370441 -   4.5s[CV] ........................... max_depth=23, score=0.320463 -   4.7s\n",
        "\n",
        "[CV] ........................... max_depth=25, score=0.370441 -   4.5s[CV] ........................... max_depth=25, score=0.320463 -   4.6s[CV] ........................... max_depth=30, score=0.344423 -   4.5s[CV] ........................... max_depth=30, score=0.370441 -   4.6s[CV] ........................... max_depth=30, score=0.320463 -   4.6s[CV] ........................... max_depth=40, score=0.370441 -   4.6s\n",
        "\n",
        "[CV] ........................... max_depth=23, score=0.344423 -   4.7s[CV] ........................... max_depth=25, score=0.344423 -   4.7s\n",
        "\n",
        "\n",
        "\n",
        "\n",
        "\n",
        "[CV] max_depth=40 ....................................................[CV] max_depth=40 ....................................................\n",
        "\n",
        "\n",
        "[CV] max_depth=50 ....................................................\n",
        "[CV] max_depth=50 ....................................................\n",
        "[CV] max_depth=100 ...................................................[CV] max_depth=100 ...................................................\n",
        "[CV] max_depth=200 ...................................................\n",
        "[CV] max_depth=200 ...................................................\n",
        "[CV] ........................... max_depth=40, score=0.344423 -   4.6s[CV] max_depth=50 ....................................................\n",
        "[CV] max_depth=100 ...................................................\n",
        "[CV] ........................... max_depth=50, score=0.320463 -   4.5s[CV] ........................... max_depth=50, score=0.344423 -   4.6s\n",
        "[CV] .......................... max_depth=100, score=0.320463 -   4.5s[CV] .......................... max_depth=200, score=0.370441 -   4.4s\n",
        "[CV] ........................... max_depth=40, score=0.320463 -   4.6s\n",
        "[CV] ........................... max_depth=50, score=0.370441 -   4.6s[CV] .......................... max_depth=100, score=0.370441 -   4.6s\n",
        "\n",
        "[CV] .......................... max_depth=100, score=0.344423 -   4.4s\n",
        "\n",
        "[CV] .......................... max_depth=200, score=0.320463 -   4.2s\n",
        "[CV] max_depth=500 ...................................................\n",
        "\n",
        "[CV] max_depth=500 ...................................................\n",
        "\n",
        "[CV] max_depth=200 ...................................................\n",
        "\n",
        "[CV] max_depth=500 ...................................................\n",
        "\n",
        "[CV] .......................... max_depth=200, score=0.344423 -   2.1s[CV] .......................... max_depth=500, score=0.370441 -   2.0s[CV] .......................... max_depth=500, score=0.320463 -   1.9s[CV] .......................... max_depth=500, score=0.344423 -   1.7s\n",
        "\n",
        "\n",
        "\n"
       ]
      },
      {
       "output_type": "stream",
       "stream": "stdout",
       "text": [
        "\n",
        "Validation accuracy: 0.111959287532"
       ]
      },
      {
       "output_type": "stream",
       "stream": "stdout",
       "text": [
        "\n",
        "(1550, 1)"
       ]
      },
      {
       "output_type": "stream",
       "stream": "stdout",
       "text": [
        "\n",
        "(786, 1)\n",
        "(1550, 1)\n",
        "(786, 1)\n",
        "Fitting 3 folds for each of 18 candidates, totalling 54 fits\n"
       ]
      },
      {
       "output_type": "stream",
       "stream": "stderr",
       "text": [
        "[Parallel(n_jobs=10)]: Done   2 jobs       | elapsed:    2.7s\n",
        "[Parallel(n_jobs=10)]: Done   1 jobs       | elapsed:    2.7s\n",
        "[Parallel(n_jobs=10)]: Done   5 jobs       | elapsed:    3.3s\n",
        "[Parallel(n_jobs=10)]: Done   8 jobs       | elapsed:    3.6s\n",
        "[Parallel(n_jobs=10)]: Done  13 jobs       | elapsed:    6.5s\n",
        "[Parallel(n_jobs=10)]: Done  18 jobs       | elapsed:    7.2s\n",
        "[Parallel(n_jobs=10)]: Done  25 jobs       | elapsed:   10.3s\n",
        "[Parallel(n_jobs=10)]: Done  32 jobs       | elapsed:   13.2s\n",
        "[Parallel(n_jobs=10)]: Done  42 out of  54 | elapsed:   16.5s remaining:    4.7s\n",
        "[Parallel(n_jobs=10)]: Done  48 out of  54 | elapsed:   17.3s remaining:    2.2s\n",
        "[Parallel(n_jobs=10)]: Done  54 out of  54 | elapsed:   18.6s finished\n"
       ]
      },
      {
       "output_type": "stream",
       "stream": "stdout",
       "text": [
        "Best results for the Random Forest run:\n",
        "Best parameter: {'max_depth': 7}\n",
        "Training accuracy: 0.618064516129[CV] max_depth=7 .....................................................\n",
        "[CV] max_depth=7 .....................................................\n",
        "[CV] max_depth=7 .....................................................\n",
        "[CV] max_depth=10 ....................................................\n",
        "[CV] max_depth=10 ....................................................\n",
        "[CV] max_depth=10 ....................................................\n",
        "[CV] max_depth=12 ....................................................\n",
        "[CV] max_depth=12 ....................................................\n",
        "[CV] max_depth=12 ....................................................\n",
        "[CV] max_depth=15 ....................................................\n",
        "[CV] ............................ max_depth=7, score=0.397313 -   2.7s[CV] ............................ max_depth=7, score=0.444015 -   2.7s[CV] ............................ max_depth=7, score=0.342466 -   2.8s[CV] ........................... max_depth=10, score=0.368522 -   3.2s[CV] ........................... max_depth=10, score=0.362934 -   3.2s[CV] ........................... max_depth=10, score=0.313112 -   3.2s[CV] ........................... max_depth=12, score=0.358925 -   3.4s[CV] ........................... max_depth=12, score=0.332046 -   3.4s[CV] ........................... max_depth=12, score=0.281800 -   3.4s[CV] ........................... max_depth=15, score=0.349328 -   3.5s\n",
        "\n",
        "\n",
        "\n",
        "\n",
        "\n",
        "\n",
        "\n",
        "\n",
        "\n",
        "[CV] max_depth=15 ....................................................\n",
        "[CV] max_depth=15 ....................................................\n",
        "[CV] max_depth=17 ....................................................\n",
        "[CV] max_depth=17 ....................................................\n",
        "[CV] max_depth=17 ....................................................\n",
        "[CV] max_depth=18 ....................................................\n",
        "[CV] max_depth=18 ....................................................\n",
        "[CV] max_depth=18 ....................................................\n",
        "[CV] max_depth=19 ....................................................\n",
        "[CV] max_depth=19 ....................................................\n",
        "[CV] ........................... max_depth=15, score=0.277886 -   3.6s[CV] ........................... max_depth=15, score=0.326255 -   3.6s[CV] ........................... max_depth=17, score=0.349328 -   3.7s[CV] ........................... max_depth=17, score=0.328185 -   3.6s[CV] ........................... max_depth=17, score=0.277886 -   3.5s[CV] ........................... max_depth=18, score=0.349328 -   3.6s[CV] ........................... max_depth=18, score=0.277886 -   3.6s[CV] ........................... max_depth=18, score=0.328185 -   3.6s[CV] ........................... max_depth=19, score=0.349328 -   3.6s[CV] ........................... max_depth=19, score=0.328185 -   3.7s\n",
        "\n",
        "\n",
        "\n",
        "\n",
        "\n",
        "\n",
        "\n",
        "\n",
        "\n",
        "[CV] max_depth=20 ....................................................\n",
        "[CV] max_depth=19 ....................................................\n",
        "[CV] max_depth=20 ....................................................\n",
        "[CV] max_depth=21 ....................................................\n",
        "[CV] max_depth=20 ....................................................\n",
        "[CV] max_depth=21 ....................................................\n",
        "[CV] max_depth=21 ....................................................\n",
        "[CV] max_depth=22 ....................................................\n",
        "[CV] max_depth=22 ....................................................\n",
        "[CV] max_depth=22 ....................................................\n",
        "[CV] ........................... max_depth=20, score=0.349328 -   3.3s[CV] ........................... max_depth=19, score=0.277886 -   3.4s[CV] ........................... max_depth=20, score=0.328185 -   3.3s[CV] ........................... max_depth=21, score=0.349328 -   3.4s[CV] ........................... max_depth=20, score=0.277886 -   3.2s[CV] ........................... max_depth=21, score=0.328185 -   3.3s[CV] ........................... max_depth=21, score=0.277886 -   3.3s[CV] ........................... max_depth=22, score=0.328185 -   3.3s[CV] ........................... max_depth=22, score=0.349328 -   3.3s[CV] ........................... max_depth=22, score=0.277886 -   3.3s\n",
        "\n",
        "\n",
        "\n",
        "\n",
        "\n",
        "\n",
        "\n",
        "\n",
        "\n",
        "[CV] max_depth=23 ....................................................\n",
        "[CV] max_depth=23 ....................................................\n",
        "[CV] max_depth=23 ....................................................\n",
        "[CV] max_depth=25 ....................................................\n",
        "[CV] max_depth=25 ....................................................[CV] max_depth=25 ....................................................\n",
        "[CV] max_depth=30 ....................................................[CV] max_depth=30 ....................................................\n",
        "[CV] max_depth=30 ....................................................\n",
        "[CV] max_depth=40 ....................................................\n",
        "[CV] ........................... max_depth=23, score=0.349328 -   3.3s[CV] ........................... max_depth=23, score=0.328185 -   3.4s[CV] ........................... max_depth=23, score=0.277886 -   3.2s[CV] ........................... max_depth=25, score=0.328185 -   3.3s\n",
        "[CV] ........................... max_depth=25, score=0.277886 -   3.2s\n",
        "[CV] ........................... max_depth=30, score=0.277886 -   3.2s[CV] ........................... max_depth=30, score=0.328185 -   3.3s[CV] ........................... max_depth=40, score=0.349328 -   3.3s\n",
        "\n",
        "\n",
        "\n",
        "[CV] ........................... max_depth=25, score=0.349328 -   3.3s\n",
        "[CV] ........................... max_depth=30, score=0.349328 -   3.3s\n",
        "\n",
        "\n",
        "[CV] max_depth=40 ....................................................\n",
        "[CV] max_depth=40 ....................................................[CV] max_depth=50 ....................................................\n",
        "[CV] max_depth=100 ...................................................\n",
        "\n",
        "[CV] max_depth=50 ....................................................\n",
        "\n",
        "[CV] max_depth=200 ...................................................\n",
        "[CV] max_depth=100 ...................................................\n",
        "[CV] max_depth=200 ...................................................\n",
        "[CV] ........................... max_depth=40, score=0.328185 -   3.4s\n",
        "[CV] ........................... max_depth=50, score=0.349328 -   3.3s[CV] .......................... max_depth=100, score=0.349328 -   3.4s[CV] max_depth=50 ....................................................\n",
        "[CV] ........................... max_depth=50, score=0.277886 -   3.4s[CV] max_depth=100 ...................................................\n",
        "[CV] .......................... max_depth=200, score=0.349328 -   3.4s[CV] .......................... max_depth=100, score=0.277886 -   3.3s[CV] .......................... max_depth=200, score=0.328185 -   3.3s\n",
        "[CV] ........................... max_depth=40, score=0.277886 -   3.3s\n",
        "\n",
        "[CV] ........................... max_depth=50, score=0.328185 -   3.5s\n",
        "[CV] .......................... max_depth=100, score=0.328185 -   3.4s\n",
        "\n",
        "\n",
        "[CV] max_depth=200 ...................................................\n",
        "\n",
        "[CV] max_depth=500 ...................................................\n",
        "\n",
        "\n",
        "[CV] .......................... max_depth=200, score=0.277886 -   1.9s[CV] max_depth=500 ...................................................\n",
        "[CV] .......................... max_depth=500, score=0.328185 -   1.9s[CV] max_depth=500 ...................................................\n",
        "\n",
        "[CV] .......................... max_depth=500, score=0.349328 -   1.9s\n",
        "[CV] .......................... max_depth=500, score=0.277886 -   1.5s\n",
        "\n"
       ]
      },
      {
       "output_type": "stream",
       "stream": "stdout",
       "text": [
        "\n",
        "Validation accuracy: 0.120865139949"
       ]
      },
      {
       "output_type": "stream",
       "stream": "stdout",
       "text": [
        "\n",
        "(1550, 1)"
       ]
      },
      {
       "output_type": "stream",
       "stream": "stdout",
       "text": [
        "\n",
        "(786, 1)\n",
        "(1550, 1)\n",
        "(786, 1)\n",
        "Fitting 3 folds for each of 18 candidates, totalling 54 fits\n"
       ]
      },
      {
       "output_type": "stream",
       "stream": "stderr",
       "text": [
        "[Parallel(n_jobs=10)]: Done   1 jobs       | elapsed:    3.2s\n",
        "[Parallel(n_jobs=10)]: Done   2 jobs       | elapsed:    3.2s\n",
        "[Parallel(n_jobs=10)]: Done   5 jobs       | elapsed:    3.8s\n",
        "[Parallel(n_jobs=10)]: Done   8 jobs       | elapsed:    4.0s\n",
        "[Parallel(n_jobs=10)]: Done  13 jobs       | elapsed:    6.9s\n",
        "[Parallel(n_jobs=10)]: Done  18 jobs       | elapsed:    7.5s\n",
        "[Parallel(n_jobs=10)]: Done  25 jobs       | elapsed:   10.7s\n",
        "[Parallel(n_jobs=10)]: Done  32 jobs       | elapsed:   13.6s\n",
        "[Parallel(n_jobs=10)]: Done  36 out of  54 | elapsed:   14.2s remaining:    7.1s\n",
        "[Parallel(n_jobs=10)]: Done  42 out of  54 | elapsed:   16.9s remaining:    4.8s\n",
        "[Parallel(n_jobs=10)]: Done  48 out of  54 | elapsed:   17.5s remaining:    2.2s\n",
        "[Parallel(n_jobs=10)]: Done  54 out of  54 | elapsed:   18.7s finished\n"
       ]
      },
      {
       "output_type": "stream",
       "stream": "stdout",
       "text": [
        "Best results for the Random Forest run:\n",
        "Best parameter: {'max_depth': 7}\n",
        "Training accuracy: 0.621935483871[CV] max_depth=7 .....................................................\n",
        "[CV] max_depth=7 .....................................................\n",
        "[CV] max_depth=7 .....................................................\n",
        "[CV] max_depth=10 ....................................................\n",
        "[CV] max_depth=10 ....................................................\n",
        "[CV] max_depth=12 ....................................................\n",
        "[CV] max_depth=12 ....................................................\n",
        "[CV] max_depth=10 ....................................................\n",
        "[CV] max_depth=12 ....................................................\n",
        "[CV] max_depth=15 ....................................................\n",
        "[CV] ............................ max_depth=7, score=0.353167 -   3.2s[CV] ............................ max_depth=7, score=0.374517 -   3.2s[CV] ............................ max_depth=7, score=0.362035 -   3.3s[CV] ........................... max_depth=10, score=0.316699 -   3.6s[CV] ........................... max_depth=10, score=0.342466 -   3.6s[CV] ........................... max_depth=12, score=0.305182 -   3.8s[CV] ........................... max_depth=12, score=0.310811 -   3.8s[CV] ........................... max_depth=10, score=0.332046 -   3.6s[CV] ........................... max_depth=12, score=0.320939 -   3.9s[CV] ........................... max_depth=15, score=0.284069 -   4.0s\n",
        "\n",
        "\n",
        "\n",
        "\n",
        "\n",
        "\n",
        "\n",
        "\n",
        "\n",
        "[CV] max_depth=15 ....................................................\n",
        "[CV] max_depth=15 ....................................................\n",
        "[CV] max_depth=17 ....................................................\n",
        "[CV] max_depth=17 ....................................................\n",
        "[CV] max_depth=18 ....................................................\n",
        "[CV] max_depth=18 ....................................................\n",
        "[CV] max_depth=18 ....................................................\n",
        "[CV] max_depth=17 ....................................................\n",
        "[CV] max_depth=19 ....................................................\n",
        "[CV] max_depth=19 ....................................................\n",
        "[CV] ........................... max_depth=15, score=0.312741 -   3.5s[CV] ........................... max_depth=15, score=0.318982 -   3.6s[CV] ........................... max_depth=17, score=0.284069 -   3.5s[CV] ........................... max_depth=17, score=0.312741 -   3.4s[CV] ........................... max_depth=18, score=0.284069 -   3.5s[CV] ........................... max_depth=18, score=0.312741 -   3.5s[CV] ........................... max_depth=18, score=0.318982 -   3.5s[CV] ........................... max_depth=17, score=0.318982 -   3.6s[CV] ........................... max_depth=19, score=0.284069 -   3.4s[CV] ........................... max_depth=19, score=0.312741 -   3.4s\n",
        "\n",
        "\n",
        "\n",
        "\n",
        "\n",
        "\n",
        "\n",
        "\n",
        "\n",
        "[CV] max_depth=19 ....................................................\n",
        "[CV] max_depth=20 ....................................................\n",
        "[CV] max_depth=20 ....................................................\n",
        "[CV] max_depth=20 ....................................................\n",
        "[CV] max_depth=21 ....................................................\n",
        "[CV] max_depth=21 ....................................................\n",
        "[CV] max_depth=22 ....................................................\n",
        "[CV] max_depth=21 ....................................................\n",
        "[CV] max_depth=22 ....................................................\n",
        "[CV] max_depth=22 ....................................................\n",
        "[CV] ........................... max_depth=19, score=0.318982 -   3.4s[CV] ........................... max_depth=20, score=0.284069 -   3.4s[CV] ........................... max_depth=20, score=0.312741 -   3.4s[CV] ........................... max_depth=20, score=0.318982 -   3.5s[CV] ........................... max_depth=21, score=0.284069 -   3.4s[CV] ........................... max_depth=21, score=0.318982 -   3.4s[CV] ........................... max_depth=22, score=0.312741 -   3.4s[CV] ........................... max_depth=21, score=0.312741 -   3.4s[CV] ........................... max_depth=22, score=0.284069 -   3.4s[CV] ........................... max_depth=22, score=0.318982 -   3.4s\n",
        "\n",
        "\n",
        "\n",
        "\n",
        "\n",
        "\n",
        "\n",
        "\n",
        "\n",
        "[CV] max_depth=23 ....................................................\n",
        "[CV] max_depth=23 ....................................................\n",
        "[CV] max_depth=23 ....................................................\n",
        "[CV] max_depth=25 ....................................................\n",
        "[CV] max_depth=25 ....................................................\n",
        "[CV] max_depth=30 ....................................................\n",
        "[CV] max_depth=30 ....................................................\n",
        "[CV] max_depth=25 ....................................................\n",
        "[CV] max_depth=30 ....................................................\n",
        "[CV] max_depth=40 ....................................................\n",
        "[CV] ........................... max_depth=23, score=0.284069 -   3.3s[CV] ........................... max_depth=23, score=0.312741 -   3.3s[CV] ........................... max_depth=23, score=0.318982 -   3.2s[CV] ........................... max_depth=25, score=0.284069 -   3.3s[CV] ........................... max_depth=25, score=0.312741 -   3.2s[CV] ........................... max_depth=30, score=0.312741 -   3.2s[CV] ........................... max_depth=30, score=0.318982 -   3.3s[CV] ........................... max_depth=25, score=0.318982 -   3.3s[CV] ........................... max_depth=30, score=0.284069 -   3.3s[CV] ........................... max_depth=40, score=0.284069 -   3.2s\n",
        "\n",
        "\n",
        "\n",
        "\n",
        "\n",
        "\n",
        "\n",
        "\n",
        "\n",
        "[CV] max_depth=40 ....................................................\n",
        "[CV] max_depth=50 ....................................................\n",
        "[CV] max_depth=40 ....................................................\n",
        "[CV] max_depth=50 ....................................................\n",
        "[CV] max_depth=50 ....................................................\n",
        "[CV] max_depth=100 ...................................................\n",
        "[CV] max_depth=100 ...................................................\n",
        "[CV] max_depth=100 ...................................................\n",
        "[CV] max_depth=200 ...................................................\n",
        "[CV] max_depth=200 ...................................................\n",
        "[CV] ........................... max_depth=40, score=0.312741 -   3.2s[CV] ........................... max_depth=50, score=0.284069 -   3.2s[CV] ........................... max_depth=40, score=0.318982 -   3.3s[CV] ........................... max_depth=50, score=0.312741 -   3.2s[CV] ........................... max_depth=50, score=0.318982 -   3.2s[CV] .......................... max_depth=100, score=0.312741 -   3.2s[CV] .......................... max_depth=100, score=0.318982 -   3.2s[CV] .......................... max_depth=100, score=0.284069 -   3.2s[CV] .......................... max_depth=200, score=0.284069 -   3.2s[CV] .......................... max_depth=200, score=0.312741 -   3.1s\n",
        "\n",
        "\n",
        "\n",
        "\n",
        "\n",
        "\n",
        "\n",
        "\n",
        "\n",
        "[CV] max_depth=200 ...................................................\n",
        "[CV] max_depth=500 ...................................................\n",
        "[CV] max_depth=500 ...................................................\n",
        "[CV] max_depth=500 ...................................................\n",
        "[CV] .......................... max_depth=200, score=0.318982 -   1.8s[CV] .......................... max_depth=500, score=0.284069 -   1.7s[CV] .......................... max_depth=500, score=0.312741 -   1.7s[CV] .......................... max_depth=500, score=0.318982 -   1.5s\n",
        "\n",
        "\n",
        "\n"
       ]
      },
      {
       "output_type": "stream",
       "stream": "stdout",
       "text": [
        "\n",
        "Validation accuracy: 0.272264631043"
       ]
      },
      {
       "output_type": "stream",
       "stream": "stdout",
       "text": [
        "\n",
        "(1550, 1)"
       ]
      },
      {
       "output_type": "stream",
       "stream": "stdout",
       "text": [
        "\n",
        "(786, 1)\n",
        "(1550, 1)\n",
        "(786, 1)\n",
        "Fitting 3 folds for each of 18 candidates, totalling 54 fits\n"
       ]
      },
      {
       "output_type": "stream",
       "stream": "stderr",
       "text": [
        "[Parallel(n_jobs=10)]: Done   1 jobs       | elapsed:    2.7s\n",
        "[Parallel(n_jobs=10)]: Done   2 jobs       | elapsed:    2.8s\n",
        "[Parallel(n_jobs=10)]: Done   5 jobs       | elapsed:    3.1s\n",
        "[Parallel(n_jobs=10)]: Done   8 jobs       | elapsed:    3.3s\n",
        "[Parallel(n_jobs=10)]: Done  13 jobs       | elapsed:    6.1s\n",
        "[Parallel(n_jobs=10)]: Done  18 jobs       | elapsed:    6.6s\n",
        "[Parallel(n_jobs=10)]: Done  25 jobs       | elapsed:    9.7s\n",
        "[Parallel(n_jobs=10)]: Done  32 jobs       | elapsed:   12.6s\n",
        "[Parallel(n_jobs=10)]: Done  36 out of  54 | elapsed:   13.0s remaining:    6.5s\n",
        "[Parallel(n_jobs=10)]: Done  42 out of  54 | elapsed:   16.0s remaining:    4.6s\n",
        "[Parallel(n_jobs=10)]: Done  48 out of  54 | elapsed:   16.3s remaining:    2.0s\n",
        "[Parallel(n_jobs=10)]: Done  54 out of  54 | elapsed:   17.5s finished\n"
       ]
      },
      {
       "output_type": "stream",
       "stream": "stdout",
       "text": [
        "Best results for the Random Forest run:\n",
        "Best parameter: {'max_depth': 7}\n",
        "Training accuracy: 0.655483870968[CV] max_depth=7 .....................................................\n",
        "[CV] max_depth=7 .....................................................\n",
        "[CV] max_depth=7 .....................................................\n",
        "[CV] max_depth=10 ....................................................\n",
        "[CV] max_depth=10 ....................................................\n",
        "[CV] max_depth=10 ....................................................\n",
        "[CV] max_depth=12 ....................................................\n",
        "[CV] max_depth=12 ....................................................\n",
        "[CV] max_depth=12 ....................................................\n",
        "[CV] max_depth=15 ....................................................\n",
        "[CV] ............................ max_depth=7, score=0.370441 -   2.7s[CV] ............................ max_depth=7, score=0.262548 -   2.7s[CV] ............................ max_depth=7, score=0.309198 -   2.7s[CV] ........................... max_depth=10, score=0.351248 -   3.1s[CV] ........................... max_depth=10, score=0.268340 -   3.1s[CV] ........................... max_depth=10, score=0.309198 -   3.0s[CV] ........................... max_depth=12, score=0.341651 -   3.3s[CV] ........................... max_depth=12, score=0.258687 -   3.2s[CV] ........................... max_depth=12, score=0.318982 -   3.1s[CV] ........................... max_depth=15, score=0.347409 -   3.3s\n",
        "\n",
        "\n",
        "\n",
        "\n",
        "\n",
        "\n",
        "\n",
        "\n",
        "\n",
        "[CV] max_depth=15 ....................................................\n",
        "[CV] max_depth=17 ....................................................\n",
        "[CV] max_depth=15 ....................................................\n",
        "[CV] max_depth=17 ....................................................\n",
        "[CV] max_depth=18 ....................................................\n",
        "[CV] max_depth=17 ....................................................\n",
        "[CV] max_depth=19 ....................................................\n",
        "[CV] max_depth=18 ....................................................\n",
        "[CV] max_depth=18 ....................................................\n",
        "[CV] max_depth=19 ....................................................\n",
        "[CV] ........................... max_depth=15, score=0.258687 -   3.4s[CV] ........................... max_depth=17, score=0.347409 -   3.3s[CV] ........................... max_depth=15, score=0.322896 -   3.3s[CV] ........................... max_depth=17, score=0.322896 -   3.3s[CV] ........................... max_depth=18, score=0.347409 -   3.2s[CV] ........................... max_depth=17, score=0.258687 -   3.2s[CV] ........................... max_depth=19, score=0.347409 -   3.2s[CV] ........................... max_depth=18, score=0.322896 -   3.3s[CV] ........................... max_depth=18, score=0.258687 -   3.2s[CV] ........................... max_depth=19, score=0.258687 -   3.2s\n",
        "\n",
        "\n",
        "\n",
        "\n",
        "\n",
        "\n",
        "\n",
        "\n",
        "\n",
        "[CV] max_depth=20 ....................................................\n",
        "[CV] max_depth=20 ....................................................\n",
        "[CV] max_depth=19 ....................................................\n",
        "[CV] max_depth=21 ....................................................\n",
        "[CV] max_depth=21 ....................................................\n",
        "[CV] max_depth=20 ....................................................\n",
        "[CV] max_depth=22 ....................................................\n",
        "[CV] max_depth=22 ....................................................\n",
        "[CV] max_depth=21 ....................................................\n",
        "[CV] max_depth=22 ....................................................\n",
        "[CV] ........................... max_depth=20, score=0.347409 -   3.3s[CV] ........................... max_depth=20, score=0.258687 -   3.2s[CV] ........................... max_depth=19, score=0.322896 -   3.3s[CV] ........................... max_depth=21, score=0.258687 -   3.2s[CV] ........................... max_depth=21, score=0.347409 -   3.3s[CV] ........................... max_depth=20, score=0.322896 -   3.3s[CV] ........................... max_depth=22, score=0.347409 -   3.2s[CV] ........................... max_depth=22, score=0.258687 -   3.3s[CV] ........................... max_depth=21, score=0.322896 -   3.3s[CV] ........................... max_depth=22, score=0.322896 -   3.3s\n",
        "\n",
        "\n",
        "\n",
        "\n",
        "\n",
        "\n",
        "\n",
        "\n",
        "\n",
        "[CV] max_depth=23 ....................................................\n",
        "[CV] max_depth=23 ....................................................\n",
        "[CV] max_depth=23 ....................................................\n",
        "[CV] max_depth=25 ....................................................\n",
        "[CV] max_depth=25 ....................................................\n",
        "[CV] max_depth=25 ....................................................\n",
        "[CV] max_depth=30 ....................................................\n",
        "[CV] max_depth=30 ....................................................\n",
        "[CV] max_depth=30 ....................................................\n",
        "[CV] max_depth=40 ....................................................\n",
        "[CV] ........................... max_depth=23, score=0.322896 -   3.3s[CV] ........................... max_depth=23, score=0.258687 -   3.2s[CV] ........................... max_depth=23, score=0.347409 -   3.2s[CV] ........................... max_depth=25, score=0.258687 -   3.2s[CV] ........................... max_depth=25, score=0.322896 -   3.3s[CV] ........................... max_depth=25, score=0.347409 -   3.2s[CV] ........................... max_depth=30, score=0.258687 -   3.2s[CV] ........................... max_depth=30, score=0.322896 -   3.3s[CV] ........................... max_depth=30, score=0.347409 -   3.3s[CV] ........................... max_depth=40, score=0.347409 -   3.3s\n",
        "\n",
        "\n",
        "\n",
        "\n",
        "\n",
        "\n",
        "\n",
        "\n",
        "\n",
        "[CV] max_depth=50 ....................................................\n",
        "[CV] max_depth=40 ....................................................\n",
        "[CV] max_depth=40 ....................................................\n",
        "[CV] max_depth=50 ....................................................\n",
        "[CV] max_depth=100 ...................................................\n",
        "[CV] max_depth=50 ....................................................[CV] max_depth=100 ...................................................\n",
        "[CV] max_depth=200 ...................................................\n",
        "[CV] max_depth=100 ...................................................\n",
        "[CV] max_depth=200 ...................................................\n",
        "[CV] ........................... max_depth=50, score=0.347409 -   3.2s[CV] ........................... max_depth=40, score=0.322896 -   3.3s[CV] ........................... max_depth=40, score=0.258687 -   3.2s[CV] ........................... max_depth=50, score=0.322896 -   3.3s[CV] .......................... max_depth=100, score=0.347409 -   3.3s\n",
        "[CV] .......................... max_depth=100, score=0.258687 -   3.2s[CV] .......................... max_depth=200, score=0.347409 -   3.2s[CV] .......................... max_depth=100, score=0.322896 -   3.3s[CV] .......................... max_depth=200, score=0.258687 -   3.1s\n",
        "\n",
        "\n",
        "\n",
        "\n",
        "[CV] ........................... max_depth=50, score=0.258687 -   3.2s\n",
        "\n",
        "\n",
        "\n",
        "[CV] max_depth=500 ...................................................\n",
        "[CV] max_depth=500 ...................................................\n",
        "[CV] max_depth=200 ...................................................\n",
        "[CV] max_depth=500 ...................................................\n",
        "\n",
        "[CV] .......................... max_depth=500, score=0.347409 -   1.5s[CV] .......................... max_depth=500, score=0.258687 -   1.4s[CV] .......................... max_depth=200, score=0.322896 -   1.6s[CV] .......................... max_depth=500, score=0.322896 -   1.3s\n",
        "\n",
        "\n",
        "\n"
       ]
      },
      {
       "output_type": "stream",
       "stream": "stdout",
       "text": [
        "\n",
        "Validation accuracy: 0.184478371501"
       ]
      },
      {
       "output_type": "stream",
       "stream": "stdout",
       "text": [
        "\n",
        "(1550, 1)"
       ]
      },
      {
       "output_type": "stream",
       "stream": "stdout",
       "text": [
        "\n",
        "(786, 1)\n",
        "(1550, 1)\n",
        "(786, 1)\n",
        "Fitting 3 folds for each of 18 candidates, totalling 54 fits\n"
       ]
      },
      {
       "output_type": "stream",
       "stream": "stderr",
       "text": [
        "[Parallel(n_jobs=10)]: Done   1 jobs       | elapsed:    2.5s\n",
        "[Parallel(n_jobs=10)]: Done   2 jobs       | elapsed:    2.6s\n",
        "[Parallel(n_jobs=10)]: Done   5 jobs       | elapsed:    3.1s\n",
        "[Parallel(n_jobs=10)]: Done   8 jobs       | elapsed:    3.2s\n",
        "[Parallel(n_jobs=10)]: Done  13 jobs       | elapsed:    6.0s\n",
        "[Parallel(n_jobs=10)]: Done  18 jobs       | elapsed:    6.7s\n",
        "[Parallel(n_jobs=10)]: Done  25 jobs       | elapsed:    9.7s\n",
        "[Parallel(n_jobs=10)]: Done  32 jobs       | elapsed:   12.7s\n",
        "[Parallel(n_jobs=10)]: Done  36 out of  54 | elapsed:   13.2s remaining:    6.6s\n",
        "[Parallel(n_jobs=10)]: Done  42 out of  54 | elapsed:   16.1s remaining:    4.6s\n",
        "[Parallel(n_jobs=10)]: Done  48 out of  54 | elapsed:   16.9s remaining:    2.1s\n",
        "[Parallel(n_jobs=10)]: Done  54 out of  54 | elapsed:   18.2s finished\n"
       ]
      },
      {
       "output_type": "stream",
       "stream": "stdout",
       "text": [
        "Best results for the Random Forest run:\n",
        "Best parameter: {'max_depth': 7}\n",
        "Training accuracy: 0.655483870968[CV] max_depth=7 .....................................................\n",
        "[CV] max_depth=7 .....................................................\n",
        "[CV] max_depth=7 .....................................................\n",
        "[CV] max_depth=10 ....................................................\n",
        "[CV] max_depth=10 ....................................................\n",
        "[CV] max_depth=10 ....................................................\n",
        "[CV] max_depth=12 ....................................................\n",
        "[CV] max_depth=12 ....................................................\n",
        "[CV] max_depth=12 ....................................................\n",
        "[CV] max_depth=15 ....................................................\n",
        "[CV] ............................ max_depth=7, score=0.456814 -   2.5s[CV] ............................ max_depth=7, score=0.447876 -   2.6s[CV] ............................ max_depth=7, score=0.436399 -   2.5s[CV] ........................... max_depth=10, score=0.404990 -   3.0s[CV] ........................... max_depth=10, score=0.432485 -   3.1s[CV] ........................... max_depth=10, score=0.422780 -   3.0s[CV] ........................... max_depth=12, score=0.378119 -   3.3s[CV] ........................... max_depth=12, score=0.413127 -   3.1s[CV] ........................... max_depth=12, score=0.399217 -   3.2s[CV] ........................... max_depth=15, score=0.368522 -   3.4s\n",
        "\n",
        "\n",
        "\n",
        "\n",
        "\n",
        "\n",
        "\n",
        "\n",
        "\n",
        "[CV] max_depth=15 ....................................................\n",
        "[CV] max_depth=17 ....................................................\n",
        "[CV] max_depth=15 ....................................................\n",
        "[CV] max_depth=17 ....................................................\n",
        "[CV] max_depth=18 ....................................................\n",
        "[CV] max_depth=17 ....................................................\n",
        "[CV] max_depth=19 ....................................................\n",
        "[CV] max_depth=18 ....................................................\n",
        "[CV] max_depth=18 ....................................................\n",
        "[CV] max_depth=19 ....................................................\n",
        "[CV] ........................... max_depth=15, score=0.405405 -   3.3s[CV] ........................... max_depth=17, score=0.366603 -   3.4s[CV] ........................... max_depth=15, score=0.373777 -   3.3s[CV] ........................... max_depth=17, score=0.407336 -   3.3s[CV] ........................... max_depth=18, score=0.364683 -   3.3s[CV] ........................... max_depth=17, score=0.371820 -   3.3s[CV] ........................... max_depth=19, score=0.364683 -   3.3s[CV] ........................... max_depth=18, score=0.407336 -   3.2s[CV] ........................... max_depth=18, score=0.371820 -   3.3s[CV] ........................... max_depth=19, score=0.407336 -   3.3s\n",
        "\n",
        "\n",
        "\n",
        "\n",
        "\n",
        "\n",
        "\n",
        "\n",
        "\n",
        "[CV] max_depth=19 ....................................................\n",
        "[CV] max_depth=20 ....................................................\n",
        "[CV] max_depth=20 ....................................................\n",
        "[CV] max_depth=20 ....................................................\n",
        "[CV] max_depth=21 ....................................................\n",
        "[CV] max_depth=21 ....................................................\n",
        "[CV] max_depth=22 ....................................................[CV] max_depth=21 ....................................................[CV] max_depth=22 ....................................................\n",
        "[CV] max_depth=22 ....................................................\n",
        "[CV] ........................... max_depth=19, score=0.371820 -   3.3s[CV] ........................... max_depth=20, score=0.407336 -   3.3s[CV] ........................... max_depth=20, score=0.364683 -   3.3s[CV] ........................... max_depth=20, score=0.371820 -   3.2s[CV] ........................... max_depth=21, score=0.371820 -   3.2s[CV] ........................... max_depth=21, score=0.364683 -   3.3s\n",
        "\n",
        "[CV] ........................... max_depth=22, score=0.407336 -   3.3s[CV] ........................... max_depth=22, score=0.371820 -   3.3s\n",
        "\n",
        "\n",
        "\n",
        "\n",
        "\n",
        "[CV] ........................... max_depth=22, score=0.364683 -   3.3s[CV] ........................... max_depth=21, score=0.407336 -   3.2s\n",
        "\n",
        "[CV] max_depth=23 ....................................................\n",
        "[CV] max_depth=23 ....................................................\n",
        "[CV] max_depth=23 ....................................................\n",
        "[CV] max_depth=25 ....................................................\n",
        "[CV] max_depth=25 ....................................................\n",
        "[CV] max_depth=25 ....................................................\n",
        "\n",
        "\n",
        "[CV] max_depth=30 ....................................................\n",
        "[CV] max_depth=40 ....................................................\n",
        "[CV] ........................... max_depth=23, score=0.364683 -   3.4s[CV] ........................... max_depth=23, score=0.371820 -   3.4s[CV] ........................... max_depth=23, score=0.407336 -   3.4s[CV] ........................... max_depth=25, score=0.364683 -   3.5s[CV] ........................... max_depth=25, score=0.371820 -   3.4s[CV] ........................... max_depth=25, score=0.407336 -   3.4s[CV] max_depth=30 ....................................................\n",
        "[CV] max_depth=30 ....................................................\n",
        "[CV] ........................... max_depth=30, score=0.407336 -   3.4s[CV] ........................... max_depth=40, score=0.364683 -   3.4s\n",
        "\n",
        "\n",
        "\n",
        "\n",
        "\n",
        "[CV] ........................... max_depth=30, score=0.371820 -   3.4s[CV] ........................... max_depth=30, score=0.364683 -   3.4s\n",
        "\n",
        "[CV] max_depth=40 ....................................................[CV] max_depth=50 ....................................................\n",
        "[CV] max_depth=40 ....................................................\n",
        "[CV] max_depth=50 ....................................................\n",
        "[CV] max_depth=100 ...................................................\n",
        "[CV] max_depth=50 ....................................................\n",
        "\n",
        "\n",
        "[CV] max_depth=100 ...................................................\n",
        "[CV] max_depth=200 ...................................................\n",
        "\n",
        "[CV] ........................... max_depth=50, score=0.364683 -   3.5s[CV] ........................... max_depth=40, score=0.371820 -   3.4s[CV] ........................... max_depth=50, score=0.407336 -   3.4s[CV] .......................... max_depth=100, score=0.364683 -   3.5s[CV] ........................... max_depth=50, score=0.371820 -   3.5s[CV] max_depth=200 ...................................................\n",
        "[CV] max_depth=100 ...................................................\n",
        "[CV] .......................... max_depth=100, score=0.371820 -   3.4s[CV] .......................... max_depth=200, score=0.407336 -   3.3s[CV] ........................... max_depth=40, score=0.407336 -   3.4s\n",
        "\n",
        "\n",
        "\n",
        "\n",
        "[CV] .......................... max_depth=200, score=0.364683 -   3.3s[CV] .......................... max_depth=100, score=0.407336 -   3.4s\n",
        "\n",
        "\n",
        "[CV] max_depth=500 ...................................................\n",
        "[CV] max_depth=500 ...................................................\n",
        "[CV] max_depth=500 ...................................................\n",
        "\n",
        "\n",
        "[CV] max_depth=200 ...................................................\n",
        "[CV] .......................... max_depth=500, score=0.407336 -   1.8s[CV] .......................... max_depth=500, score=0.364683 -   2.0s[CV] .......................... max_depth=500, score=0.371820 -   1.5s[CV] .......................... max_depth=200, score=0.371820 -   1.9s\n",
        "\n",
        "\n",
        "\n"
       ]
      },
      {
       "output_type": "stream",
       "stream": "stdout",
       "text": [
        "\n",
        "Validation accuracy: 0.324427480916"
       ]
      },
      {
       "output_type": "stream",
       "stream": "stdout",
       "text": [
        "\n",
        "(1550, 1)"
       ]
      },
      {
       "output_type": "stream",
       "stream": "stdout",
       "text": [
        "\n",
        "(786, 1)\n",
        "(1550, 1)\n",
        "(786, 1)\n",
        "Fitting 3 folds for each of 18 candidates, totalling 54 fits\n"
       ]
      },
      {
       "output_type": "stream",
       "stream": "stderr",
       "text": [
        "[Parallel(n_jobs=10)]: Done   2 jobs       | elapsed:    3.0s\n",
        "[Parallel(n_jobs=10)]: Done   1 jobs       | elapsed:    3.0s\n",
        "[Parallel(n_jobs=10)]: Done   5 jobs       | elapsed:    3.5s\n",
        "[Parallel(n_jobs=10)]: Done   8 jobs       | elapsed:    3.6s\n",
        "[Parallel(n_jobs=10)]: Done  13 jobs       | elapsed:    6.5s\n",
        "[Parallel(n_jobs=10)]: Done  18 jobs       | elapsed:    7.1s\n",
        "[Parallel(n_jobs=10)]: Done  25 jobs       | elapsed:   10.5s\n",
        "[Parallel(n_jobs=10)]: Done  32 jobs       | elapsed:   13.7s\n",
        "[Parallel(n_jobs=10)]: Done  42 out of  54 | elapsed:   17.3s remaining:    4.9s\n",
        "[Parallel(n_jobs=10)]: Done  48 out of  54 | elapsed:   17.7s remaining:    2.2s\n",
        "[Parallel(n_jobs=10)]: Done  54 out of  54 | elapsed:   19.1s finished\n"
       ]
      },
      {
       "output_type": "stream",
       "stream": "stdout",
       "text": [
        "Best results for the Random Forest run:\n",
        "Best parameter: {'max_depth': 7}\n",
        "Training accuracy: 0.663225806452[CV] max_depth=7 .....................................................\n",
        "[CV] max_depth=7 .....................................................\n",
        "[CV] max_depth=7 .....................................................\n",
        "[CV] max_depth=10 ....................................................\n",
        "[CV] max_depth=10 ....................................................\n",
        "[CV] max_depth=10 ....................................................\n",
        "[CV] max_depth=12 ....................................................\n",
        "[CV] max_depth=12 ....................................................\n",
        "[CV] max_depth=12 ....................................................\n",
        "[CV] max_depth=15 ....................................................\n",
        "[CV] ............................ max_depth=7, score=0.418426 -   3.0s[CV] ............................ max_depth=7, score=0.445946 -   2.9s[CV] ............................ max_depth=7, score=0.403131 -   2.9s[CV] ........................... max_depth=10, score=0.383877 -   3.4s[CV] ........................... max_depth=10, score=0.413127 -   3.4s[CV] ........................... max_depth=10, score=0.391389 -   3.4s[CV] ........................... max_depth=12, score=0.357006 -   3.6s[CV] ........................... max_depth=12, score=0.388031 -   3.5s[CV] ........................... max_depth=12, score=0.385519 -   3.5s[CV] ........................... max_depth=15, score=0.343570 -   3.6s\n",
        "\n",
        "\n",
        "\n",
        "\n",
        "\n",
        "\n",
        "\n",
        "\n",
        "\n",
        "[CV] max_depth=17 ....................................................\n",
        "[CV] max_depth=15 ....................................................\n",
        "[CV] max_depth=15 ....................................................\n",
        "[CV] max_depth=17 ....................................................\n",
        "[CV] max_depth=18 ....................................................\n",
        "[CV] max_depth=17 ....................................................\n",
        "[CV] max_depth=19 ....................................................\n",
        "[CV] max_depth=18 ....................................................\n",
        "[CV] max_depth=18 ....................................................\n",
        "[CV] max_depth=19 ....................................................\n",
        "[CV] ........................... max_depth=17, score=0.343570 -   3.5s[CV] ........................... max_depth=15, score=0.375734 -   3.5s[CV] ........................... max_depth=15, score=0.366795 -   3.5s[CV] ........................... max_depth=17, score=0.366795 -   3.5s[CV] ........................... max_depth=18, score=0.343570 -   3.5s[CV] ........................... max_depth=17, score=0.375734 -   3.5s[CV] ........................... max_depth=19, score=0.343570 -   3.4s[CV] ........................... max_depth=18, score=0.366795 -   3.5s[CV] ........................... max_depth=18, score=0.375734 -   3.4s[CV] ........................... max_depth=19, score=0.366795 -   3.5s\n",
        "\n",
        "\n",
        "\n",
        "\n",
        "\n",
        "\n",
        "\n",
        "\n",
        "\n",
        "[CV] max_depth=20 ....................................................\n",
        "[CV] max_depth=20 ....................................................\n",
        "[CV] max_depth=19 ....................................................\n",
        "[CV] max_depth=20 ....................................................\n",
        "[CV] max_depth=21 ....................................................\n",
        "[CV] max_depth=21 ....................................................\n",
        "[CV] max_depth=22 ....................................................\n",
        "[CV] max_depth=21 ....................................................\n",
        "[CV] max_depth=22 ....................................................\n",
        "[CV] max_depth=22 ....................................................\n",
        "[CV] ........................... max_depth=20, score=0.366795 -   3.6s[CV] ........................... max_depth=20, score=0.343570 -   3.6s[CV] ........................... max_depth=19, score=0.375734 -   3.6s[CV] ........................... max_depth=20, score=0.375734 -   3.5s[CV] ........................... max_depth=21, score=0.366795 -   3.5s[CV] ........................... max_depth=21, score=0.343570 -   3.5s[CV] ........................... max_depth=22, score=0.366795 -   3.4s[CV] ........................... max_depth=21, score=0.375734 -   3.4s[CV] ........................... max_depth=22, score=0.343570 -   3.5s[CV] ........................... max_depth=22, score=0.375734 -   3.5s\n",
        "\n",
        "\n",
        "\n",
        "\n",
        "\n",
        "\n",
        "\n",
        "\n",
        "\n",
        "[CV] max_depth=23 ....................................................\n",
        "[CV] max_depth=23 ....................................................\n",
        "[CV] max_depth=23 ....................................................\n",
        "[CV] max_depth=25 ....................................................\n",
        "[CV] max_depth=25 ....................................................\n",
        "[CV] max_depth=25 ....................................................\n",
        "[CV] max_depth=30 ....................................................\n",
        "[CV] max_depth=30 ....................................................\n",
        "[CV] max_depth=30 ....................................................[CV] max_depth=40 ....................................................\n",
        "[CV] ........................... max_depth=23, score=0.375734 -   3.5s[CV] ........................... max_depth=23, score=0.366795 -   3.5s[CV] ........................... max_depth=23, score=0.343570 -   3.5s[CV] ........................... max_depth=25, score=0.343570 -   3.6s[CV] ........................... max_depth=25, score=0.366795 -   3.4s[CV] ........................... max_depth=25, score=0.375734 -   3.4s[CV] ........................... max_depth=30, score=0.366795 -   3.5s[CV] ........................... max_depth=30, score=0.343570 -   3.6s\n",
        "[CV] ........................... max_depth=40, score=0.343570 -   3.6s\n",
        "\n",
        "\n",
        "\n",
        "\n",
        "\n",
        "\n",
        "\n",
        "[CV] ........................... max_depth=30, score=0.375734 -   3.6s\n",
        "[CV] max_depth=50 ....................................................\n",
        "[CV] max_depth=40 ....................................................\n",
        "[CV] max_depth=40 ....................................................\n",
        "[CV] max_depth=100 ...................................................\n",
        "[CV] max_depth=50 ....................................................[CV] max_depth=50 ....................................................[CV] max_depth=100 ...................................................[CV] max_depth=100 ...................................................\n",
        "\n",
        "[CV] max_depth=200 ...................................................\n",
        "[CV] ........................... max_depth=50, score=0.343570 -   3.7s[CV] ........................... max_depth=40, score=0.375734 -   3.6s[CV] ........................... max_depth=40, score=0.366795 -   3.6s[CV] .......................... max_depth=100, score=0.343570 -   3.6s\n",
        "\n",
        "\n",
        "[CV] .......................... max_depth=100, score=0.366795 -   3.5s[CV] max_depth=200 ...................................................\n",
        "[CV] .......................... max_depth=200, score=0.366795 -   3.4s\n",
        "\n",
        "\n",
        "\n",
        "[CV] ........................... max_depth=50, score=0.366795 -   3.5s[CV] ........................... max_depth=50, score=0.375734 -   3.5s[CV] .......................... max_depth=100, score=0.375734 -   3.4s\n",
        "[CV] .......................... max_depth=200, score=0.343570 -   3.5s\n",
        "[CV] max_depth=500 ...................................................\n",
        "[CV] max_depth=500 ...................................................\n",
        "[CV] max_depth=200 ...................................................\n",
        "\n",
        "\n",
        "\n",
        "\n",
        "[CV] .......................... max_depth=500, score=0.366795 -   1.6s[CV] .......................... max_depth=500, score=0.343570 -   1.7s[CV] .......................... max_depth=200, score=0.375734 -   1.6s[CV] max_depth=500 ...................................................\n",
        "\n",
        "\n",
        "\n",
        "[CV] .......................... max_depth=500, score=0.375734 -   1.4s\n"
       ]
      },
      {
       "output_type": "stream",
       "stream": "stdout",
       "text": [
        "\n",
        "Validation accuracy: 0.089058524173"
       ]
      },
      {
       "output_type": "stream",
       "stream": "stdout",
       "text": [
        "\n",
        "(1550, 1)"
       ]
      },
      {
       "output_type": "stream",
       "stream": "stdout",
       "text": [
        "\n",
        "(786, 1)\n",
        "(1550, 1)\n",
        "(786, 1)\n",
        "Fitting 3 folds for each of 18 candidates, totalling 54 fits\n"
       ]
      },
      {
       "output_type": "stream",
       "stream": "stderr",
       "text": [
        "[Parallel(n_jobs=10)]: Done   1 jobs       | elapsed:    3.1s\n",
        "[Parallel(n_jobs=10)]: Done   2 jobs       | elapsed:    3.2s\n",
        "[Parallel(n_jobs=10)]: Done   5 jobs       | elapsed:    3.5s\n",
        "[Parallel(n_jobs=10)]: Done   8 jobs       | elapsed:    3.6s\n",
        "[Parallel(n_jobs=10)]: Done  13 jobs       | elapsed:    6.6s\n",
        "[Parallel(n_jobs=10)]: Done  18 jobs       | elapsed:    7.0s\n",
        "[Parallel(n_jobs=10)]: Done  25 jobs       | elapsed:   10.1s\n",
        "[Parallel(n_jobs=10)]: Done  32 jobs       | elapsed:   12.8s\n",
        "[Parallel(n_jobs=10)]: Done  36 out of  54 | elapsed:   13.1s remaining:    6.5s\n",
        "[Parallel(n_jobs=10)]: Done  42 out of  54 | elapsed:   15.8s remaining:    4.5s\n",
        "[Parallel(n_jobs=10)]: Done  48 out of  54 | elapsed:   16.2s remaining:    2.0s\n",
        "[Parallel(n_jobs=10)]: Done  54 out of  54 | elapsed:   17.5s finished\n"
       ]
      },
      {
       "output_type": "stream",
       "stream": "stdout",
       "text": [
        "Best results for the Random Forest run:\n",
        "Best parameter: {'max_depth': 7}\n",
        "Training accuracy: 0.747741935484[CV] max_depth=7 .....................................................\n",
        "[CV] max_depth=7 .....................................................\n",
        "[CV] max_depth=7 .....................................................\n",
        "[CV] max_depth=10 ....................................................\n",
        "[CV] max_depth=10 ....................................................\n",
        "[CV] max_depth=10 ....................................................\n",
        "[CV] max_depth=12 ....................................................\n",
        "[CV] max_depth=12 ....................................................\n",
        "[CV] max_depth=12 ....................................................\n",
        "[CV] max_depth=15 ....................................................\n",
        "[CV] ............................ max_depth=7, score=0.381958 -   3.1s[CV] ............................ max_depth=7, score=0.420849 -   3.1s[CV] ............................ max_depth=7, score=0.375734 -   3.1s[CV] ........................... max_depth=10, score=0.358925 -   3.4s[CV] ........................... max_depth=10, score=0.380309 -   3.4s[CV] ........................... max_depth=10, score=0.365949 -   3.5s[CV] ........................... max_depth=12, score=0.355086 -   3.5s[CV] ........................... max_depth=12, score=0.380309 -   3.5s[CV] ........................... max_depth=12, score=0.354207 -   3.4s[CV] ........................... max_depth=15, score=0.355086 -   3.4s\n",
        "\n",
        "\n",
        "\n",
        "\n",
        "\n",
        "\n",
        "\n",
        "\n",
        "\n",
        "[CV] max_depth=15 ....................................................\n",
        "[CV] max_depth=15 ....................................................\n",
        "[CV] max_depth=17 ....................................................\n",
        "[CV] max_depth=17 ....................................................\n",
        "[CV] max_depth=17 ....................................................\n",
        "[CV] max_depth=18 ....................................................\n",
        "[CV] max_depth=18 ....................................................\n",
        "[CV] max_depth=19 ....................................................\n",
        "[CV] max_depth=18 ....................................................\n",
        "[CV] max_depth=19 ....................................................\n",
        "[CV] ........................... max_depth=15, score=0.380309 -   3.4s[CV] ........................... max_depth=15, score=0.354207 -   3.3s[CV] ........................... max_depth=17, score=0.355086 -   3.4s[CV] ........................... max_depth=17, score=0.380309 -   3.4s[CV] ........................... max_depth=17, score=0.354207 -   3.4s[CV] ........................... max_depth=18, score=0.355086 -   3.3s[CV] ........................... max_depth=18, score=0.380309 -   3.3s[CV] ........................... max_depth=19, score=0.355086 -   3.3s[CV] ........................... max_depth=18, score=0.354207 -   3.3s[CV] ........................... max_depth=19, score=0.380309 -   3.4s\n",
        "\n",
        "\n",
        "\n",
        "\n",
        "\n",
        "\n",
        "\n",
        "\n",
        "\n",
        "[CV] max_depth=20 ....................................................\n",
        "[CV] max_depth=19 ....................................................\n",
        "[CV] max_depth=20 ....................................................\n",
        "[CV] max_depth=21 ....................................................\n",
        "[CV] max_depth=21 ....................................................\n",
        "[CV] max_depth=20 ....................................................\n",
        "[CV] max_depth=21 ....................................................\n",
        "[CV] max_depth=22 ....................................................\n",
        "[CV] max_depth=22 ....................................................\n",
        "[CV] max_depth=22 ....................................................\n",
        "[CV] ........................... max_depth=20, score=0.380309 -   3.2s[CV] ........................... max_depth=19, score=0.354207 -   3.2s[CV] ........................... max_depth=20, score=0.355086 -   3.2s[CV] ........................... max_depth=21, score=0.355086 -   3.1s[CV] ........................... max_depth=21, score=0.380309 -   3.2s[CV] ........................... max_depth=20, score=0.354207 -   3.1s[CV] ........................... max_depth=21, score=0.354207 -   3.2s[CV] ........................... max_depth=22, score=0.380309 -   3.2s[CV] ........................... max_depth=22, score=0.355086 -   3.2s[CV] ........................... max_depth=22, score=0.354207 -   3.1s\n",
        "\n",
        "\n",
        "\n",
        "\n",
        "\n",
        "\n",
        "\n",
        "\n",
        "\n",
        "[CV] max_depth=23 ....................................................\n",
        "[CV] max_depth=23 ....................................................\n",
        "[CV] max_depth=23 ....................................................\n",
        "[CV] max_depth=25 ....................................................\n",
        "[CV] max_depth=25 ....................................................\n",
        "[CV] max_depth=25 ....................................................\n",
        "[CV] max_depth=30 ....................................................\n",
        "[CV] max_depth=30 ....................................................\n",
        "[CV] max_depth=30 ....................................................\n",
        "[CV] max_depth=40 ....................................................\n",
        "[CV] ........................... max_depth=23, score=0.380309 -   3.0s[CV] ........................... max_depth=23, score=0.355086 -   3.0s[CV] ........................... max_depth=23, score=0.354207 -   3.0s[CV] ........................... max_depth=25, score=0.380309 -   3.0s[CV] ........................... max_depth=25, score=0.354207 -   3.0s[CV] ........................... max_depth=25, score=0.355086 -   2.9s[CV] ........................... max_depth=30, score=0.355086 -   2.9s[CV] ........................... max_depth=30, score=0.380309 -   3.0s[CV] ........................... max_depth=30, score=0.354207 -   3.0s[CV] ........................... max_depth=40, score=0.355086 -   3.0s\n",
        "\n",
        "\n",
        "\n",
        "\n",
        "\n",
        "\n",
        "\n",
        "\n",
        "\n",
        "[CV] max_depth=40 ....................................................\n",
        "[CV] max_depth=40 ....................................................\n",
        "[CV] max_depth=50 ....................................................\n",
        "[CV] max_depth=50 ....................................................\n",
        "[CV] max_depth=100 ...................................................\n",
        "[CV] max_depth=50 ....................................................\n",
        "[CV] max_depth=100 ...................................................\n",
        "[CV] max_depth=100 ...................................................\n",
        "[CV] max_depth=200 ...................................................\n",
        "[CV] max_depth=200 ...................................................\n",
        "[CV] ........................... max_depth=40, score=0.354207 -   3.1s[CV] ........................... max_depth=40, score=0.380309 -   3.1s[CV] ........................... max_depth=50, score=0.355086 -   3.0s[CV] ........................... max_depth=50, score=0.354207 -   3.1s[CV] .......................... max_depth=100, score=0.380309 -   3.1s[CV] ........................... max_depth=50, score=0.380309 -   3.1s[CV] .......................... max_depth=100, score=0.355086 -   3.1s[CV] .......................... max_depth=100, score=0.354207 -   3.0s[CV] .......................... max_depth=200, score=0.355086 -   3.0s[CV] .......................... max_depth=200, score=0.380309 -   3.0s\n",
        "\n",
        "\n",
        "\n",
        "\n",
        "\n",
        "\n",
        "\n",
        "\n",
        "\n",
        "[CV] max_depth=500 ...................................................\n",
        "[CV] max_depth=200 ...................................................\n",
        "[CV] max_depth=500 ...................................................\n",
        "[CV] max_depth=500 ...................................................\n",
        "[CV] .......................... max_depth=500, score=0.355086 -   1.6s[CV] .......................... max_depth=200, score=0.354207 -   1.6s[CV] .......................... max_depth=500, score=0.380309 -   1.6s[CV] .......................... max_depth=500, score=0.354207 -   1.4s\n",
        "\n",
        "\n",
        "\n"
       ]
      },
      {
       "output_type": "stream",
       "stream": "stdout",
       "text": [
        "\n",
        "Validation accuracy: 0.258269720102"
       ]
      },
      {
       "output_type": "stream",
       "stream": "stdout",
       "text": [
        "\n",
        "(1550, 1)"
       ]
      },
      {
       "output_type": "stream",
       "stream": "stdout",
       "text": [
        "\n",
        "(786, 1)\n",
        "(1550, 1)\n",
        "(786, 1)\n",
        "Fitting 3 folds for each of 18 candidates, totalling 54 fits\n"
       ]
      },
      {
       "output_type": "stream",
       "stream": "stderr",
       "text": [
        "[Parallel(n_jobs=10)]: Done   2 jobs       | elapsed:    2.7s\n",
        "[Parallel(n_jobs=10)]: Done   1 jobs       | elapsed:    2.7s\n",
        "[Parallel(n_jobs=10)]: Done   5 jobs       | elapsed:    3.1s\n",
        "[Parallel(n_jobs=10)]: Done   8 jobs       | elapsed:    3.3s\n",
        "[Parallel(n_jobs=10)]: Done  13 jobs       | elapsed:    6.0s\n",
        "[Parallel(n_jobs=10)]: Done  18 jobs       | elapsed:    6.4s\n",
        "[Parallel(n_jobs=10)]: Done  25 jobs       | elapsed:    9.2s\n",
        "[Parallel(n_jobs=10)]: Done  32 jobs       | elapsed:   11.9s\n",
        "[Parallel(n_jobs=10)]: Done  36 out of  54 | elapsed:   12.2s remaining:    6.1s\n",
        "[Parallel(n_jobs=10)]: Done  42 out of  54 | elapsed:   14.9s remaining:    4.3s\n",
        "[Parallel(n_jobs=10)]: Done  48 out of  54 | elapsed:   15.3s remaining:    1.9s\n",
        "[Parallel(n_jobs=10)]: Done  54 out of  54 | elapsed:   16.5s finished\n"
       ]
      },
      {
       "output_type": "stream",
       "stream": "stdout",
       "text": [
        "Best results for the Random Forest run:\n",
        "Best parameter: {'max_depth': 7}\n",
        "Training accuracy: 0.755483870968[CV] max_depth=7 .....................................................\n",
        "[CV] max_depth=7 .....................................................\n",
        "[CV] max_depth=7 .....................................................\n",
        "[CV] max_depth=10 ....................................................\n",
        "[CV] max_depth=10 ....................................................\n",
        "[CV] max_depth=10 ....................................................\n",
        "[CV] max_depth=12 ....................................................\n",
        "[CV] max_depth=12 ....................................................\n",
        "[CV] max_depth=12 ....................................................\n",
        "[CV] max_depth=15 ....................................................\n",
        "[CV] ............................ max_depth=7, score=0.412668 -   2.7s[CV] ............................ max_depth=7, score=0.482625 -   2.6s[CV] ............................ max_depth=7, score=0.436399 -   2.7s[CV] ........................... max_depth=10, score=0.447876 -   3.0s[CV] ........................... max_depth=10, score=0.416507 -   3.0s[CV] ........................... max_depth=10, score=0.416830 -   3.1s[CV] ........................... max_depth=12, score=0.424184 -   3.2s[CV] ........................... max_depth=12, score=0.442085 -   3.1s[CV] ........................... max_depth=12, score=0.410959 -   3.2s[CV] ........................... max_depth=15, score=0.422265 -   3.1s\n",
        "\n",
        "\n",
        "\n",
        "\n",
        "\n",
        "\n",
        "\n",
        "\n",
        "\n",
        "[CV] max_depth=15 ....................................................\n",
        "[CV] max_depth=15 ....................................................\n",
        "[CV] max_depth=17 ....................................................\n",
        "[CV] max_depth=17 ....................................................\n",
        "[CV] max_depth=17 ....................................................\n",
        "[CV] max_depth=18 ....................................................\n",
        "[CV] max_depth=19 ....................................................\n",
        "[CV] max_depth=18 ....................................................\n",
        "[CV] max_depth=19 ....................................................\n",
        "[CV] max_depth=18 ....................................................\n",
        "[CV] ........................... max_depth=15, score=0.409002 -   3.2s[CV] ........................... max_depth=15, score=0.442085 -   3.2s[CV] ........................... max_depth=17, score=0.422265 -   3.1s[CV] ........................... max_depth=17, score=0.442085 -   3.1s[CV] ........................... max_depth=17, score=0.409002 -   3.1s[CV] ........................... max_depth=18, score=0.422265 -   3.0s[CV] ........................... max_depth=19, score=0.422265 -   3.1s[CV] ........................... max_depth=18, score=0.409002 -   3.2s[CV] ........................... max_depth=19, score=0.442085 -   3.1s[CV] ........................... max_depth=18, score=0.442085 -   3.1s\n",
        "\n",
        "\n",
        "\n",
        "\n",
        "\n",
        "\n",
        "\n",
        "\n",
        "\n",
        "[CV] max_depth=20 ....................................................\n",
        "[CV] max_depth=19 ....................................................\n",
        "[CV] max_depth=20 ....................................................\n",
        "[CV] max_depth=20 ....................................................\n",
        "[CV] max_depth=21 ....................................................\n",
        "[CV] max_depth=21 ....................................................\n",
        "[CV] max_depth=21 ....................................................\n",
        "[CV] max_depth=22 ....................................................\n",
        "[CV] max_depth=22 ....................................................\n",
        "[CV] max_depth=22 ....................................................\n",
        "[CV] ........................... max_depth=20, score=0.422265 -   2.9s[CV] ........................... max_depth=19, score=0.409002 -   3.0s[CV] ........................... max_depth=20, score=0.442085 -   3.0s[CV] ........................... max_depth=20, score=0.409002 -   3.0s[CV] ........................... max_depth=21, score=0.442085 -   2.9s[CV] ........................... max_depth=21, score=0.422265 -   3.0s[CV] ........................... max_depth=21, score=0.409002 -   3.0s[CV] ........................... max_depth=22, score=0.409002 -   3.0s[CV] ........................... max_depth=22, score=0.442085 -   2.9s[CV] ........................... max_depth=22, score=0.422265 -   2.9s\n",
        "\n",
        "\n",
        "\n",
        "\n",
        "\n",
        "\n",
        "\n",
        "\n",
        "\n",
        "[CV] max_depth=23 ....................................................\n",
        "[CV] max_depth=23 ....................................................\n",
        "[CV] max_depth=23 ....................................................\n",
        "[CV] max_depth=25 ....................................................\n",
        "[CV] max_depth=25 ....................................................\n",
        "[CV] max_depth=30 ....................................................\n",
        "[CV] max_depth=30 ....................................................\n",
        "[CV] max_depth=40 ....................................................\n",
        "[CV] max_depth=30 ....................................................\n",
        "[CV] max_depth=25 ....................................................\n",
        "[CV] ........................... max_depth=23, score=0.422265 -   3.0s[CV] ........................... max_depth=23, score=0.442085 -   3.0s[CV] ........................... max_depth=23, score=0.409002 -   3.0s[CV] ........................... max_depth=25, score=0.422265 -   2.9s[CV] ........................... max_depth=25, score=0.442085 -   3.0s[CV] ........................... max_depth=30, score=0.422265 -   2.9s[CV] ........................... max_depth=30, score=0.442085 -   3.0s[CV] ........................... max_depth=40, score=0.422265 -   2.9s[CV] ........................... max_depth=30, score=0.409002 -   3.0s[CV] ........................... max_depth=25, score=0.409002 -   3.0s\n",
        "\n",
        "\n",
        "\n",
        "\n",
        "\n",
        "\n",
        "\n",
        "\n",
        "\n",
        "[CV] max_depth=40 ....................................................\n",
        "[CV] max_depth=40 ....................................................\n",
        "[CV] max_depth=50 ....................................................\n",
        "[CV] max_depth=50 ....................................................\n",
        "[CV] max_depth=50 ....................................................\n",
        "[CV] max_depth=100 ...................................................\n",
        "[CV] max_depth=100 ...................................................\n",
        "[CV] max_depth=200 ...................................................\n",
        "[CV] max_depth=200 ...................................................\n",
        "[CV] max_depth=100 ...................................................\n",
        "[CV] ........................... max_depth=40, score=0.442085 -   3.0s[CV] ........................... max_depth=40, score=0.409002 -   3.0s[CV] ........................... max_depth=50, score=0.422265 -   2.9s[CV] ........................... max_depth=50, score=0.442085 -   2.9s[CV] ........................... max_depth=50, score=0.409002 -   3.0s[CV] .......................... max_depth=100, score=0.422265 -   2.9s[CV] .......................... max_depth=100, score=0.409002 -   3.0s[CV] .......................... max_depth=200, score=0.442085 -   2.9s[CV] .......................... max_depth=200, score=0.422265 -   2.9s[CV] .......................... max_depth=100, score=0.442085 -   3.0s\n",
        "\n",
        "\n",
        "\n",
        "\n",
        "\n",
        "\n",
        "\n",
        "\n",
        "\n",
        "[CV] max_depth=200 ...................................................\n",
        "[CV] max_depth=500 ...................................................\n",
        "[CV] max_depth=500 ...................................................\n",
        "[CV] max_depth=500 ...................................................\n",
        "[CV] .......................... max_depth=200, score=0.409002 -   1.6s[CV] .......................... max_depth=500, score=0.422265 -   1.6s[CV] .......................... max_depth=500, score=0.442085 -   1.5s[CV] .......................... max_depth=500, score=0.409002 -   1.4s\n",
        "\n",
        "\n",
        "\n"
       ]
      },
      {
       "output_type": "stream",
       "stream": "stdout",
       "text": [
        "\n",
        "Validation accuracy: 0.288804071247"
       ]
      },
      {
       "output_type": "stream",
       "stream": "stdout",
       "text": [
        "\n",
        "(1550, 1)"
       ]
      },
      {
       "output_type": "stream",
       "stream": "stdout",
       "text": [
        "\n",
        "(786, 1)\n",
        "(1550, 1)\n",
        "(786, 1)\n",
        "Fitting 3 folds for each of 18 candidates, totalling 54 fits\n"
       ]
      },
      {
       "output_type": "stream",
       "stream": "stderr",
       "text": [
        "[Parallel(n_jobs=10)]: Done   1 jobs       | elapsed:    3.0s\n",
        "[Parallel(n_jobs=10)]: Done   2 jobs       | elapsed:    3.0s\n",
        "[Parallel(n_jobs=10)]: Done   5 jobs       | elapsed:    3.5s\n",
        "[Parallel(n_jobs=10)]: Done   8 jobs       | elapsed:    3.7s\n",
        "[Parallel(n_jobs=10)]: Done  13 jobs       | elapsed:    6.7s\n",
        "[Parallel(n_jobs=10)]: Done  18 jobs       | elapsed:    7.3s\n",
        "[Parallel(n_jobs=10)]: Done  25 jobs       | elapsed:   11.1s\n",
        "[Parallel(n_jobs=10)]: Done  32 jobs       | elapsed:   14.0s\n",
        "[Parallel(n_jobs=10)]: Done  36 out of  54 | elapsed:   14.5s remaining:    7.3s\n",
        "[Parallel(n_jobs=10)]: Done  42 out of  54 | elapsed:   17.6s remaining:    5.0s\n",
        "[Parallel(n_jobs=10)]: Done  48 out of  54 | elapsed:   18.1s remaining:    2.3s\n",
        "[Parallel(n_jobs=10)]: Done  54 out of  54 | elapsed:   19.5s finished\n"
       ]
      },
      {
       "output_type": "stream",
       "stream": "stdout",
       "text": [
        "Best results for the Random Forest run:\n",
        "Best parameter: {'max_depth': 7}\n",
        "Training accuracy: 0.632903225806[CV] max_depth=7 .....................................................\n",
        "[CV] max_depth=7 .....................................................\n",
        "[CV] max_depth=7 .....................................................\n",
        "[CV] max_depth=10 ....................................................\n",
        "[CV] max_depth=10 ....................................................\n",
        "[CV] max_depth=10 ....................................................\n",
        "[CV] max_depth=12 ....................................................\n",
        "[CV] max_depth=12 ....................................................\n",
        "[CV] max_depth=12 ....................................................\n",
        "[CV] max_depth=15 ....................................................\n",
        "[CV] ............................ max_depth=7, score=0.372361 -   2.9s[CV] ............................ max_depth=7, score=0.401544 -   2.9s[CV] ............................ max_depth=7, score=0.354207 -   2.9s[CV] ........................... max_depth=10, score=0.397313 -   3.4s[CV] ........................... max_depth=10, score=0.374517 -   3.3s[CV] ........................... max_depth=10, score=0.324853 -   3.3s[CV] ........................... max_depth=12, score=0.378119 -   3.6s[CV] ........................... max_depth=12, score=0.368726 -   3.6s[CV] ........................... max_depth=12, score=0.315068 -   3.5s[CV] ........................... max_depth=15, score=0.362764 -   3.7s\n",
        "\n",
        "\n",
        "\n",
        "\n",
        "\n",
        "\n",
        "\n",
        "\n",
        "\n",
        "[CV] max_depth=15 ....................................................\n",
        "[CV] max_depth=17 ....................................................\n",
        "[CV] max_depth=15 ....................................................\n",
        "[CV] max_depth=18 ....................................................\n",
        "[CV] max_depth=17 ....................................................\n",
        "[CV] max_depth=17 ....................................................\n",
        "[CV] max_depth=19 ....................................................\n",
        "[CV] max_depth=18 ....................................................\n",
        "[CV] max_depth=18 ....................................................\n",
        "[CV] max_depth=19 ....................................................\n",
        "[CV] ........................... max_depth=15, score=0.364865 -   3.6s[CV] ........................... max_depth=17, score=0.362764 -   3.7s[CV] ........................... max_depth=15, score=0.307241 -   3.7s[CV] ........................... max_depth=18, score=0.362764 -   3.7s[CV] ........................... max_depth=17, score=0.307241 -   3.6s[CV] ........................... max_depth=17, score=0.364865 -   3.5s[CV] ........................... max_depth=19, score=0.362764 -   3.6s[CV] ........................... max_depth=18, score=0.307241 -   3.5s[CV] ........................... max_depth=18, score=0.364865 -   3.6s[CV] ........................... max_depth=19, score=0.364865 -   3.6s\n",
        "\n",
        "\n",
        "\n",
        "\n",
        "\n",
        "\n",
        "\n",
        "\n",
        "\n",
        "[CV] max_depth=19 ....................................................\n",
        "[CV] max_depth=20 ....................................................\n",
        "[CV] max_depth=20 ....................................................\n",
        "[CV] max_depth=21 ....................................................\n",
        "[CV] max_depth=21 ....................................................\n",
        "[CV] max_depth=20 ....................................................\n",
        "[CV] max_depth=22 ....................................................\n",
        "[CV] max_depth=21 ....................................................\n",
        "[CV] max_depth=22 ....................................................\n",
        "[CV] max_depth=22 ....................................................\n",
        "[CV] ........................... max_depth=19, score=0.307241 -   3.8s[CV] ........................... max_depth=20, score=0.364865 -   3.9s[CV] ........................... max_depth=20, score=0.362764 -   4.0s[CV] ........................... max_depth=21, score=0.364865 -   3.8s[CV] ........................... max_depth=21, score=0.362764 -   3.9s[CV] ........................... max_depth=20, score=0.307241 -   3.7s[CV] ........................... max_depth=22, score=0.364865 -   3.8s[CV] ........................... max_depth=21, score=0.307241 -   3.8s[CV] ........................... max_depth=22, score=0.362764 -   3.9s[CV] ........................... max_depth=22, score=0.307241 -   3.8s\n",
        "\n",
        "\n",
        "\n",
        "\n",
        "\n",
        "\n",
        "\n",
        "\n",
        "\n",
        "[CV] max_depth=23 ....................................................\n",
        "[CV] max_depth=23 ....................................................\n",
        "[CV] max_depth=23 ....................................................\n",
        "[CV] max_depth=25 ....................................................\n",
        "[CV] max_depth=25 ....................................................\n",
        "[CV] max_depth=25 ....................................................\n",
        "[CV] max_depth=30 ....................................................\n",
        "[CV] max_depth=30 ....................................................\n",
        "[CV] max_depth=30 ....................................................[CV] max_depth=40 ....................................................\n",
        "[CV] ........................... max_depth=23, score=0.362764 -   3.5s[CV] ........................... max_depth=23, score=0.364865 -   3.4s[CV] ........................... max_depth=23, score=0.307241 -   3.4s[CV] ........................... max_depth=25, score=0.364865 -   3.5s[CV] ........................... max_depth=25, score=0.307241 -   3.4s[CV] ........................... max_depth=25, score=0.362764 -   3.5s[CV] ........................... max_depth=30, score=0.307241 -   3.5s[CV] ........................... max_depth=30, score=0.362764 -   3.6s\n",
        "[CV] ........................... max_depth=40, score=0.362764 -   3.6s\n",
        "\n",
        "\n",
        "\n",
        "\n",
        "\n",
        "\n",
        "\n",
        "[CV] ........................... max_depth=30, score=0.364865 -   3.4s\n",
        "[CV] max_depth=40 ....................................................\n",
        "[CV] max_depth=40 ....................................................\n",
        "[CV] max_depth=50 ....................................................\n",
        "[CV] max_depth=50 ....................................................\n",
        "[CV] max_depth=100 ...................................................[CV] max_depth=50 ....................................................[CV] max_depth=100 ...................................................\n",
        "[CV] max_depth=200 ...................................................\n",
        "\n",
        "[CV] max_depth=200 ...................................................\n",
        "[CV] ........................... max_depth=40, score=0.364865 -   3.6s[CV] ........................... max_depth=40, score=0.307241 -   3.6s[CV] ........................... max_depth=50, score=0.362764 -   3.7s[CV] ........................... max_depth=50, score=0.307241 -   3.5s\n",
        "\n",
        "[CV] .......................... max_depth=100, score=0.307241 -   3.4s[CV] .......................... max_depth=200, score=0.362764 -   3.4s[CV] max_depth=100 ...................................................\n",
        "[CV] .......................... max_depth=200, score=0.364865 -   3.4s\n",
        "\n",
        "\n",
        "\n",
        "[CV] .......................... max_depth=100, score=0.362764 -   3.5s[CV] ........................... max_depth=50, score=0.364865 -   3.5s\n",
        "\n",
        "[CV] .......................... max_depth=100, score=0.364865 -   3.4s\n",
        "[CV] max_depth=500 ...................................................\n",
        "[CV] max_depth=200 ...................................................\n",
        "[CV] max_depth=500 ...................................................\n",
        "\n",
        "\n",
        "\n",
        "[CV] .......................... max_depth=500, score=0.362764 -   1.8s[CV] .......................... max_depth=200, score=0.307241 -   1.8s[CV] .......................... max_depth=500, score=0.364865 -   1.7s[CV] max_depth=500 ...................................................\n",
        "\n",
        "\n",
        "\n",
        "[CV] .......................... max_depth=500, score=0.307241 -   1.6s\n"
       ]
      },
      {
       "output_type": "stream",
       "stream": "stdout",
       "text": [
        "\n",
        "Validation accuracy: 0.23155216285"
       ]
      },
      {
       "output_type": "stream",
       "stream": "stdout",
       "text": [
        "\n",
        "(1550, 1)"
       ]
      },
      {
       "output_type": "stream",
       "stream": "stdout",
       "text": [
        "\n",
        "(786, 1)\n",
        "(1550, 1)\n",
        "(786, 1)\n",
        "Fitting 3 folds for each of 18 candidates, totalling 54 fits\n"
       ]
      },
      {
       "output_type": "stream",
       "stream": "stderr",
       "text": [
        "[Parallel(n_jobs=10)]: Done   1 jobs       | elapsed:    2.8s\n",
        "[Parallel(n_jobs=10)]: Done   2 jobs       | elapsed:    2.8s\n",
        "[Parallel(n_jobs=10)]: Done   5 jobs       | elapsed:    3.3s\n",
        "[Parallel(n_jobs=10)]: Done   8 jobs       | elapsed:    3.6s\n",
        "[Parallel(n_jobs=10)]: Done  13 jobs       | elapsed:    6.5s\n",
        "[Parallel(n_jobs=10)]: Done  18 jobs       | elapsed:    7.3s\n",
        "[Parallel(n_jobs=10)]: Done  25 jobs       | elapsed:   10.4s\n",
        "[Parallel(n_jobs=10)]: Done  32 jobs       | elapsed:   13.6s\n",
        "[Parallel(n_jobs=10)]: Done  36 out of  54 | elapsed:   14.1s remaining:    7.0s\n",
        "[Parallel(n_jobs=10)]: Done  42 out of  54 | elapsed:   17.3s remaining:    4.9s\n",
        "[Parallel(n_jobs=10)]: Done  48 out of  54 | elapsed:   17.9s remaining:    2.2s\n",
        "[Parallel(n_jobs=10)]: Done  54 out of  54 | elapsed:   19.4s finished\n"
       ]
      },
      {
       "output_type": "stream",
       "stream": "stdout",
       "text": [
        "Best results for the Random Forest run:\n",
        "Best parameter: {'max_depth': 7}\n",
        "Training accuracy: 0.618709677419[CV] max_depth=7 .....................................................\n",
        "[CV] max_depth=7 .....................................................\n",
        "[CV] max_depth=7 .....................................................\n",
        "[CV] max_depth=10 ....................................................\n",
        "[CV] max_depth=10 ....................................................\n",
        "[CV] max_depth=10 ....................................................\n",
        "[CV] max_depth=12 ....................................................\n",
        "[CV] max_depth=12 ....................................................\n",
        "[CV] max_depth=12 ....................................................\n",
        "[CV] max_depth=15 ....................................................\n",
        "[CV] ............................ max_depth=7, score=0.393474 -   2.7s[CV] ............................ max_depth=7, score=0.372587 -   2.8s[CV] ............................ max_depth=7, score=0.336595 -   2.8s[CV] ........................... max_depth=10, score=0.374280 -   3.2s[CV] ........................... max_depth=10, score=0.357143 -   3.2s[CV] ........................... max_depth=10, score=0.326810 -   3.2s[CV] ........................... max_depth=12, score=0.364683 -   3.5s[CV] ........................... max_depth=12, score=0.355212 -   3.4s[CV] ........................... max_depth=12, score=0.326810 -   3.4s[CV] ........................... max_depth=15, score=0.351248 -   3.5s\n",
        "\n",
        "\n",
        "\n",
        "\n",
        "\n",
        "\n",
        "\n",
        "\n",
        "\n",
        "[CV] max_depth=15 ....................................................\n",
        "[CV] max_depth=15 ....................................................\n",
        "[CV] max_depth=17 ....................................................\n",
        "[CV] max_depth=17 ....................................................\n",
        "[CV] max_depth=17 ....................................................\n",
        "[CV] max_depth=18 ....................................................\n",
        "[CV] max_depth=18 ....................................................\n",
        "[CV] max_depth=18 ....................................................\n",
        "[CV] max_depth=19 ....................................................\n",
        "[CV] max_depth=19 ....................................................\n",
        "[CV] ........................... max_depth=15, score=0.353282 -   3.7s[CV] ........................... max_depth=15, score=0.332681 -   3.7s[CV] ........................... max_depth=17, score=0.351248 -   3.7s[CV] ........................... max_depth=17, score=0.353282 -   3.6s[CV] ........................... max_depth=17, score=0.332681 -   3.7s[CV] ........................... max_depth=18, score=0.351248 -   3.6s[CV] ........................... max_depth=18, score=0.353282 -   3.6s[CV] ........................... max_depth=18, score=0.332681 -   3.6s[CV] ........................... max_depth=19, score=0.351248 -   3.6s[CV] ........................... max_depth=19, score=0.353282 -   3.6s\n",
        "\n",
        "\n",
        "\n",
        "\n",
        "\n",
        "\n",
        "\n",
        "\n",
        "\n",
        "[CV] max_depth=19 ....................................................\n",
        "[CV] max_depth=20 ....................................................[CV] max_depth=20 ....................................................\n",
        "[CV] max_depth=20 ....................................................\n",
        "[CV] max_depth=21 ....................................................\n",
        "[CV] max_depth=21 ....................................................\n",
        "[CV] max_depth=21 ....................................................\n",
        "[CV] max_depth=22 ....................................................\n",
        "[CV] max_depth=22 ....................................................\n",
        "[CV] max_depth=22 ....................................................\n",
        "[CV] ........................... max_depth=19, score=0.332681 -   3.5s\n",
        "[CV] ........................... max_depth=20, score=0.351248 -   3.4s[CV] ........................... max_depth=20, score=0.332681 -   3.4s[CV] ........................... max_depth=21, score=0.353282 -   3.4s[CV] ........................... max_depth=21, score=0.351248 -   3.4s[CV] ........................... max_depth=21, score=0.332681 -   3.4s[CV] ........................... max_depth=22, score=0.351248 -   3.4s[CV] ........................... max_depth=22, score=0.353282 -   3.3s[CV] ........................... max_depth=22, score=0.332681 -   3.4s\n",
        "[CV] ........................... max_depth=20, score=0.353282 -   3.4s\n",
        "\n",
        "\n",
        "\n",
        "\n",
        "\n",
        "\n",
        "\n",
        "[CV] max_depth=23 ....................................................\n",
        "\n",
        "[CV] max_depth=23 ....................................................\n",
        "[CV] max_depth=25 ....................................................[CV] max_depth=25 ....................................................[CV] max_depth=25 ....................................................\n",
        "[CV] max_depth=30 ....................................................\n",
        "[CV] max_depth=30 ....................................................\n",
        "[CV] max_depth=30 ....................................................[CV] max_depth=40 ....................................................\n",
        "[CV] ........................... max_depth=23, score=0.353282 -   3.6s[CV] max_depth=23 ....................................................\n",
        "[CV] ........................... max_depth=23, score=0.351248 -   3.6s\n",
        "\n",
        "[CV] ........................... max_depth=25, score=0.353282 -   3.5s[CV] ........................... max_depth=30, score=0.332681 -   3.6s[CV] ........................... max_depth=30, score=0.353282 -   3.6s\n",
        "[CV] ........................... max_depth=40, score=0.351248 -   3.6s\n",
        "[CV] ........................... max_depth=23, score=0.332681 -   3.6s\n",
        "[CV] ........................... max_depth=25, score=0.351248 -   3.5s[CV] ........................... max_depth=25, score=0.332681 -   3.6s\n",
        "\n",
        "\n",
        "[CV] ........................... max_depth=30, score=0.351248 -   3.6s\n",
        "[CV] max_depth=40 ....................................................\n",
        "\n",
        "[CV] max_depth=40 ....................................................\n",
        "\n",
        "\n",
        "[CV] max_depth=50 ....................................................\n",
        "[CV] max_depth=100 ...................................................\n",
        "[CV] max_depth=200 ...................................................\n",
        "\n",
        "[CV] max_depth=200 ...................................................\n",
        "[CV] ........................... max_depth=40, score=0.353282 -   3.6s[CV] max_depth=50 ....................................................[CV] ........................... max_depth=40, score=0.332681 -   3.6s[CV] max_depth=50 ....................................................\n",
        "[CV] max_depth=100 ...................................................\n",
        "[CV] ........................... max_depth=50, score=0.332681 -   3.6s[CV] .......................... max_depth=100, score=0.353282 -   3.5s[CV] .......................... max_depth=200, score=0.351248 -   3.5s[CV] max_depth=100 ...................................................\n",
        "[CV] .......................... max_depth=200, score=0.353282 -   3.4s\n",
        "\n",
        "\n",
        "[CV] ........................... max_depth=50, score=0.353282 -   3.6s[CV] .......................... max_depth=100, score=0.351248 -   3.6s\n",
        "\n",
        "\n",
        "[CV] .......................... max_depth=100, score=0.332681 -   3.5s\n",
        "[CV] max_depth=200 ...................................................[CV] ........................... max_depth=50, score=0.351248 -   3.6s[CV] max_depth=500 ...................................................\n",
        "\n",
        "\n",
        "\n",
        "\n",
        "\n",
        "[CV] max_depth=500 ...................................................\n",
        "[CV] .......................... max_depth=200, score=0.332681 -   2.0s[CV] max_depth=500 ...................................................\n",
        "[CV] .......................... max_depth=500, score=0.351248 -   2.0s[CV] .......................... max_depth=500, score=0.332681 -   1.8s\n",
        "[CV] .......................... max_depth=500, score=0.353282 -   2.0s\n",
        "\n",
        "\n"
       ]
      },
      {
       "output_type": "stream",
       "stream": "stdout",
       "text": [
        "\n",
        "Validation accuracy: 0.187022900763"
       ]
      },
      {
       "output_type": "stream",
       "stream": "stdout",
       "text": [
        "\n",
        "(1550, 1)"
       ]
      },
      {
       "output_type": "stream",
       "stream": "stdout",
       "text": [
        "\n",
        "(786, 1)\n",
        "(1550, 1)\n",
        "(786, 1)\n",
        "Fitting 3 folds for each of 18 candidates, totalling 54 fits\n"
       ]
      },
      {
       "output_type": "stream",
       "stream": "stderr",
       "text": [
        "[Parallel(n_jobs=10)]: Done   1 jobs       | elapsed:    3.0s\n",
        "[Parallel(n_jobs=10)]: Done   2 jobs       | elapsed:    3.0s\n",
        "[Parallel(n_jobs=10)]: Done   5 jobs       | elapsed:    3.4s\n",
        "[Parallel(n_jobs=10)]: Done   8 jobs       | elapsed:    3.6s\n",
        "[Parallel(n_jobs=10)]: Done  13 jobs       | elapsed:    6.7s\n",
        "[Parallel(n_jobs=10)]: Done  18 jobs       | elapsed:    7.2s\n",
        "[Parallel(n_jobs=10)]: Done  25 jobs       | elapsed:   10.6s\n",
        "[Parallel(n_jobs=10)]: Done  32 jobs       | elapsed:   14.0s\n",
        "[Parallel(n_jobs=10)]: Done  36 out of  54 | elapsed:   14.4s remaining:    7.2s\n",
        "[Parallel(n_jobs=10)]: Done  42 out of  54 | elapsed:   17.8s remaining:    5.1s\n",
        "[Parallel(n_jobs=10)]: Done  48 out of  54 | elapsed:   18.4s remaining:    2.3s\n",
        "[Parallel(n_jobs=10)]: Done  54 out of  54 | elapsed:   19.7s finished\n"
       ]
      },
      {
       "output_type": "stream",
       "stream": "stdout",
       "text": [
        "Best results for the Random Forest run:\n",
        "Best parameter: {'max_depth': 7}\n",
        "Training accuracy: 0.615483870968[CV] max_depth=7 .....................................................\n",
        "[CV] max_depth=7 .....................................................\n",
        "[CV] max_depth=7 .....................................................\n",
        "[CV] max_depth=10 ....................................................\n",
        "[CV] max_depth=10 ....................................................\n",
        "[CV] max_depth=10 ....................................................\n",
        "[CV] max_depth=12 ....................................................\n",
        "[CV] max_depth=12 ....................................................\n",
        "[CV] max_depth=12 ....................................................\n",
        "[CV] max_depth=15 ....................................................\n",
        "[CV] ............................ max_depth=7, score=0.393474 -   2.9s[CV] ............................ max_depth=7, score=0.372587 -   3.0s[CV] ............................ max_depth=7, score=0.336595 -   2.9s[CV] ........................... max_depth=10, score=0.378119 -   3.3s[CV] ........................... max_depth=10, score=0.359073 -   3.3s[CV] ........................... max_depth=10, score=0.334638 -   3.3s[CV] ........................... max_depth=12, score=0.366603 -   3.5s[CV] ........................... max_depth=12, score=0.357143 -   3.5s[CV] ........................... max_depth=12, score=0.326810 -   3.5s[CV] ........................... max_depth=15, score=0.351248 -   3.6s\n",
        "\n",
        "\n",
        "\n",
        "\n",
        "\n",
        "\n",
        "\n",
        "\n",
        "\n",
        "[CV] max_depth=15 ....................................................\n",
        "[CV] max_depth=17 ....................................................\n",
        "[CV] max_depth=15 ....................................................\n",
        "[CV] max_depth=17 ....................................................\n",
        "[CV] max_depth=17 ....................................................\n",
        "[CV] max_depth=18 ....................................................\n",
        "[CV] max_depth=19 ....................................................\n",
        "[CV] max_depth=18 ....................................................\n",
        "[CV] max_depth=18 ....................................................\n",
        "[CV] max_depth=19 ....................................................\n",
        "[CV] ........................... max_depth=15, score=0.353282 -   3.6s[CV] ........................... max_depth=17, score=0.351248 -   3.6s[CV] ........................... max_depth=15, score=0.334638 -   3.6s[CV] ........................... max_depth=17, score=0.353282 -   3.6s[CV] ........................... max_depth=17, score=0.332681 -   3.6s[CV] ........................... max_depth=18, score=0.351248 -   3.6s[CV] ........................... max_depth=19, score=0.351248 -   3.6s[CV] ........................... max_depth=18, score=0.332681 -   3.6s[CV] ........................... max_depth=18, score=0.353282 -   3.6s[CV] ........................... max_depth=19, score=0.353282 -   3.6s\n",
        "\n",
        "\n",
        "\n",
        "\n",
        "\n",
        "\n",
        "\n",
        "\n",
        "\n",
        "[CV] max_depth=19 ....................................................\n",
        "[CV] max_depth=20 ....................................................\n",
        "[CV] max_depth=20 ....................................................\n",
        "[CV] max_depth=20 ....................................................\n",
        "[CV] max_depth=21 ....................................................\n",
        "[CV] max_depth=21 ....................................................\n",
        "[CV] max_depth=22 ....................................................\n",
        "[CV] max_depth=22 ....................................................\n",
        "[CV] max_depth=21 ....................................................\n",
        "[CV] max_depth=22 ....................................................\n",
        "[CV] ........................... max_depth=19, score=0.332681 -   3.6s[CV] ........................... max_depth=20, score=0.353282 -   3.6s[CV] ........................... max_depth=20, score=0.351248 -   3.6s[CV] ........................... max_depth=20, score=0.332681 -   3.6s[CV] ........................... max_depth=21, score=0.353282 -   3.6s[CV] ........................... max_depth=21, score=0.351248 -   3.6s[CV] ........................... max_depth=22, score=0.353282 -   3.6s[CV] ........................... max_depth=22, score=0.351248 -   3.6s[CV] ........................... max_depth=21, score=0.332681 -   3.6s[CV] ........................... max_depth=22, score=0.332681 -   3.6s\n",
        "\n",
        "\n",
        "\n",
        "\n",
        "\n",
        "\n",
        "\n",
        "\n",
        "\n",
        "[CV] max_depth=23 ....................................................\n",
        "[CV] max_depth=23 ....................................................\n",
        "[CV] max_depth=23 ....................................................\n",
        "[CV] max_depth=25 ....................................................\n",
        "[CV] max_depth=25 ....................................................\n",
        "[CV] max_depth=25 ....................................................\n",
        "[CV] max_depth=30 ....................................................\n",
        "[CV] max_depth=30 ....................................................\n",
        "[CV] max_depth=30 ....................................................\n",
        "[CV] max_depth=40 ....................................................\n",
        "[CV] ........................... max_depth=23, score=0.351248 -   3.5s[CV] ........................... max_depth=23, score=0.332681 -   3.7s[CV] ........................... max_depth=23, score=0.353282 -   3.6s[CV] ........................... max_depth=25, score=0.351248 -   3.7s[CV] ........................... max_depth=25, score=0.332681 -   3.7s[CV] ........................... max_depth=25, score=0.353282 -   3.7s[CV] ........................... max_depth=30, score=0.351248 -   3.7s[CV] ........................... max_depth=30, score=0.353282 -   3.7s[CV] ........................... max_depth=30, score=0.332681 -   3.8s[CV] ........................... max_depth=40, score=0.351248 -   3.7s\n",
        "\n",
        "\n",
        "\n",
        "\n",
        "\n",
        "\n",
        "\n",
        "\n",
        "\n",
        "[CV] max_depth=40 ....................................................\n",
        "[CV] max_depth=50 ....................................................\n",
        "[CV] max_depth=40 ....................................................[CV] max_depth=50 ....................................................\n",
        "[CV] max_depth=100 ...................................................[CV] max_depth=50 ....................................................\n",
        "[CV] max_depth=100 ...................................................[CV] max_depth=200 ...................................................\n",
        "[CV] max_depth=200 ...................................................\n",
        "[CV] max_depth=100 ...................................................\n",
        "[CV] ........................... max_depth=40, score=0.353282 -   3.8s[CV] ........................... max_depth=50, score=0.351248 -   3.8s\n",
        "[CV] ........................... max_depth=50, score=0.353282 -   3.7s\n",
        "[CV] ........................... max_depth=50, score=0.332681 -   3.7s\n",
        "[CV] .......................... max_depth=200, score=0.351248 -   3.7s[CV] .......................... max_depth=200, score=0.353282 -   3.7s[CV] .......................... max_depth=100, score=0.353282 -   3.8s\n",
        "\n",
        "[CV] ........................... max_depth=40, score=0.332681 -   3.8s\n",
        "[CV] .......................... max_depth=100, score=0.351248 -   3.7s\n",
        "[CV] .......................... max_depth=100, score=0.332681 -   3.7s\n",
        "\n",
        "\n",
        "[CV] max_depth=200 ...................................................\n",
        "[CV] max_depth=500 ...................................................\n",
        "\n",
        "[CV] max_depth=500 ...................................................\n",
        "\n",
        "[CV] .......................... max_depth=200, score=0.332681 -   1.9s[CV] .......................... max_depth=500, score=0.353282 -   1.8s[CV] max_depth=500 ...................................................\n",
        "\n",
        "\n",
        "\n",
        "[CV] .......................... max_depth=500, score=0.351248 -   1.8s[CV] .......................... max_depth=500, score=0.332681 -   1.6s\n",
        "\n"
       ]
      },
      {
       "output_type": "stream",
       "stream": "stdout",
       "text": [
        "\n",
        "Validation accuracy: 0.185750636132"
       ]
      },
      {
       "output_type": "stream",
       "stream": "stdout",
       "text": [
        "\n",
        "(1550, 1)"
       ]
      },
      {
       "output_type": "stream",
       "stream": "stdout",
       "text": [
        "\n",
        "(786, 1)\n",
        "(1550, 1)\n",
        "(786, 1)\n",
        "Fitting 3 folds for each of 18 candidates, totalling 54 fits\n"
       ]
      },
      {
       "output_type": "stream",
       "stream": "stderr",
       "text": [
        "[Parallel(n_jobs=10)]: Done   1 jobs       | elapsed:    3.4s\n",
        "[Parallel(n_jobs=10)]: Done   2 jobs       | elapsed:    3.5s\n",
        "[Parallel(n_jobs=10)]: Done   5 jobs       | elapsed:    3.9s\n",
        "[Parallel(n_jobs=10)]: Done   8 jobs       | elapsed:    4.3s\n",
        "[Parallel(n_jobs=10)]: Done  13 jobs       | elapsed:    7.7s\n",
        "[Parallel(n_jobs=10)]: Done  18 jobs       | elapsed:    8.2s\n",
        "[Parallel(n_jobs=10)]: Done  25 jobs       | elapsed:   11.5s\n",
        "[Parallel(n_jobs=10)]: Done  32 jobs       | elapsed:   14.4s\n",
        "[Parallel(n_jobs=10)]: Done  36 out of  54 | elapsed:   15.0s remaining:    7.5s\n",
        "[Parallel(n_jobs=10)]: Done  42 out of  54 | elapsed:   17.8s remaining:    5.1s\n",
        "[Parallel(n_jobs=10)]: Done  48 out of  54 | elapsed:   18.4s remaining:    2.3s\n",
        "[Parallel(n_jobs=10)]: Done  54 out of  54 | elapsed:   19.6s finished\n"
       ]
      },
      {
       "output_type": "stream",
       "stream": "stdout",
       "text": [
        "Best results for the Random Forest run:\n",
        "Best parameter: {'max_depth': 7}\n",
        "Training accuracy: 0.57935483871[CV] max_depth=7 .....................................................\n",
        "[CV] max_depth=7 .....................................................\n",
        "[CV] max_depth=7 .....................................................\n",
        "[CV] max_depth=10 ....................................................\n",
        "[CV] max_depth=10 ....................................................\n",
        "[CV] max_depth=10 ....................................................\n",
        "[CV] max_depth=12 ....................................................\n",
        "[CV] max_depth=12 ....................................................\n",
        "[CV] max_depth=12 ....................................................\n",
        "[CV] max_depth=15 ....................................................\n",
        "[CV] ............................ max_depth=7, score=0.345489 -   3.4s[CV] ............................ max_depth=7, score=0.310811 -   3.4s[CV] ............................ max_depth=7, score=0.330724 -   3.3s[CV] ........................... max_depth=10, score=0.301344 -   3.9s[CV] ........................... max_depth=10, score=0.277992 -   3.8s[CV] ........................... max_depth=10, score=0.275930 -   3.9s[CV] ........................... max_depth=12, score=0.268714 -   4.1s[CV] ........................... max_depth=12, score=0.270270 -   4.2s[CV] ........................... max_depth=12, score=0.273973 -   4.1s[CV] ........................... max_depth=15, score=0.251440 -   4.3s\n",
        "\n",
        "\n",
        "\n",
        "\n",
        "\n",
        "\n",
        "\n",
        "\n",
        "\n",
        "[CV] max_depth=15 ....................................................\n",
        "[CV] max_depth=17 ....................................................\n",
        "[CV] max_depth=15 ....................................................\n",
        "[CV] max_depth=17 ....................................................\n",
        "[CV] max_depth=17 ....................................................\n",
        "[CV] max_depth=18 ....................................................\n",
        "[CV] max_depth=18 ....................................................\n",
        "[CV] max_depth=19 ....................................................\n",
        "[CV] max_depth=18 ....................................................\n",
        "[CV] max_depth=19 ....................................................\n",
        "[CV] ........................... max_depth=15, score=0.242661 -   4.2s[CV] ........................... max_depth=17, score=0.251440 -   4.2s[CV] ........................... max_depth=15, score=0.270270 -   4.2s[CV] ........................... max_depth=17, score=0.240705 -   4.0s[CV] ........................... max_depth=17, score=0.270270 -   4.0s[CV] ........................... max_depth=18, score=0.251440 -   4.0s[CV] ........................... max_depth=18, score=0.270270 -   3.8s[CV] ........................... max_depth=19, score=0.251440 -   3.9s[CV] ........................... max_depth=18, score=0.240705 -   3.9s[CV] ........................... max_depth=19, score=0.270270 -   3.9s\n",
        "\n",
        "\n",
        "\n",
        "\n",
        "\n",
        "\n",
        "\n",
        "\n",
        "\n",
        "[CV] max_depth=20 ....................................................\n",
        "[CV] max_depth=20 ....................................................\n",
        "[CV] max_depth=19 ....................................................\n",
        "[CV] max_depth=21 ....................................................\n",
        "[CV] max_depth=20 ....................................................\n",
        "[CV] max_depth=21 ....................................................\n",
        "[CV] max_depth=21 ....................................................\n",
        "[CV] max_depth=22 ....................................................\n",
        "[CV] max_depth=22 ....................................................\n",
        "[CV] max_depth=22 ....................................................\n",
        "[CV] ........................... max_depth=20, score=0.251440 -   3.4s[CV] ........................... max_depth=20, score=0.270270 -   3.3s[CV] ........................... max_depth=19, score=0.240705 -   3.4s[CV] ........................... max_depth=21, score=0.251440 -   3.5s[CV] ........................... max_depth=20, score=0.240705 -   3.4s[CV] ........................... max_depth=21, score=0.270270 -   3.3s[CV] ........................... max_depth=21, score=0.240705 -   3.4s[CV] ........................... max_depth=22, score=0.270270 -   3.4s[CV] ........................... max_depth=22, score=0.251440 -   3.4s[CV] ........................... max_depth=22, score=0.240705 -   3.5s\n",
        "\n",
        "\n",
        "\n",
        "\n",
        "\n",
        "\n",
        "\n",
        "\n",
        "\n",
        "[CV] max_depth=23 ....................................................\n",
        "[CV] max_depth=23 ....................................................\n",
        "[CV] max_depth=23 ....................................................\n",
        "[CV] max_depth=25 ....................................................\n",
        "[CV] max_depth=25 ....................................................[CV] max_depth=25 ....................................................\n",
        "[CV] max_depth=30 ....................................................\n",
        "[CV] max_depth=30 ....................................................\n",
        "[CV] max_depth=30 ....................................................\n",
        "[CV] max_depth=40 ....................................................\n",
        "[CV] ........................... max_depth=23, score=0.270270 -   3.3s[CV] ........................... max_depth=23, score=0.240705 -   3.4s[CV] ........................... max_depth=23, score=0.251440 -   3.3s[CV] ........................... max_depth=25, score=0.240705 -   3.4s\n",
        "[CV] ........................... max_depth=25, score=0.270270 -   3.3s[CV] ........................... max_depth=30, score=0.251440 -   3.4s[CV] ........................... max_depth=30, score=0.240705 -   3.4s[CV] ........................... max_depth=30, score=0.270270 -   3.3s[CV] ........................... max_depth=40, score=0.251440 -   3.5s\n",
        "\n",
        "\n",
        "\n",
        "[CV] ........................... max_depth=25, score=0.251440 -   3.4s\n",
        "\n",
        "\n",
        "\n",
        "\n",
        "[CV] max_depth=40 ....................................................\n",
        "[CV] max_depth=50 ....................................................\n",
        "[CV] max_depth=40 ....................................................[CV] max_depth=100 ...................................................\n",
        "\n",
        "[CV] max_depth=50 ....................................................\n",
        "[CV] max_depth=100 ...................................................\n",
        "[CV] max_depth=200 ...................................................\n",
        "[CV] max_depth=100 ...................................................\n",
        "[CV] max_depth=200 ...................................................\n",
        "[CV] ........................... max_depth=40, score=0.240705 -   3.4s[CV] ........................... max_depth=50, score=0.251440 -   3.5s\n",
        "[CV] .......................... max_depth=100, score=0.270270 -   3.4s[CV] max_depth=50 ....................................................\n",
        "[CV] ........................... max_depth=50, score=0.270270 -   3.4s[CV] .......................... max_depth=100, score=0.240705 -   3.4s[CV] .......................... max_depth=200, score=0.251440 -   3.3s[CV] .......................... max_depth=100, score=0.251440 -   3.5s[CV] .......................... max_depth=200, score=0.270270 -   3.2s\n",
        "\n",
        "[CV] ........................... max_depth=40, score=0.270270 -   3.4s\n",
        "[CV] ........................... max_depth=50, score=0.240705 -   3.5s\n",
        "\n",
        "\n",
        "\n",
        "\n",
        "[CV] max_depth=200 ...................................................\n",
        "[CV] max_depth=500 ...................................................\n",
        "\n",
        "\n",
        "[CV] max_depth=500 ...................................................\n",
        "[CV] .......................... max_depth=200, score=0.240705 -   1.7s[CV] .......................... max_depth=500, score=0.270270 -   1.5s[CV] max_depth=500 ...................................................\n",
        "[CV] .......................... max_depth=500, score=0.240705 -   1.5s\n",
        "\n",
        "[CV] .......................... max_depth=500, score=0.251440 -   1.7s\n",
        "\n"
       ]
      },
      {
       "output_type": "stream",
       "stream": "stdout",
       "text": [
        "\n",
        "Validation accuracy: 0.187022900763"
       ]
      },
      {
       "output_type": "stream",
       "stream": "stdout",
       "text": [
        "\n"
       ]
      }
     ],
     "prompt_number": 19
    },
    {
     "cell_type": "code",
     "collapsed": false,
     "input": [
      "print(score)"
     ],
     "language": "python",
     "metadata": {},
     "outputs": [
      {
       "output_type": "stream",
       "stream": "stdout",
       "text": [
        "[0.33206106870229007, 0.361323155216285, 0.23282442748091603, 0.25572519083969464, 0.11195928753180662, 0.12086513994910941, 0.27226463104325699, 0.18447837150127228, 0.32442748091603052, 0.089058524173027995, 0.25826972010178118, 0.28880407124681934, 0.23155216284987276, 0.18702290076335878, 0.18575063613231552, 0.18702290076335878]\n"
       ]
      }
     ],
     "prompt_number": 21
    },
    {
     "cell_type": "code",
     "collapsed": false,
     "input": [
      "f1 = features_train[:,:2]\n",
      "f2 = np.atleast_2d(features_train[:,3]).T\n",
      "print(f1.shape)\n",
      "print(f2.shape)\n",
      "fc = np.concatenate((f1, f2), 1)\n"
     ],
     "language": "python",
     "metadata": {},
     "outputs": [
      {
       "output_type": "stream",
       "stream": "stdout",
       "text": [
        "(1550, 2)\n",
        "(1550, 1)\n",
        "(1550, 3)\n"
       ]
      }
     ],
     "prompt_number": 35
    },
    {
     "cell_type": "code",
     "collapsed": false,
     "input": [],
     "language": "python",
     "metadata": {},
     "outputs": []
    },
    {
     "cell_type": "code",
     "collapsed": false,
     "input": [],
     "language": "python",
     "metadata": {},
     "outputs": []
    },
    {
     "cell_type": "markdown",
     "metadata": {},
     "source": [
      "It looks like on the first try, the median count rate does best in predicting the human classification on the validation set. Let's now automate this process for the rest of the features."
     ]
    },
    {
     "cell_type": "code",
     "collapsed": false,
     "input": [
      "score_all = []\n",
      "feature_ranking = []\n",
      "nfeatures = range(features_train.shape[1])\n",
      "features_new_train = []\n",
      "features_new_val = []\n",
      "features_new_test = []\n",
      "best_params_all = []\n",
      "\n",
      "for i in range(features_train.shape[1]):\n",
      "    score = []\n",
      "    best_params = []\n",
      "    ## first feature\n",
      "    for j in nfeatures:\n",
      "        if len(features_new_train) == 0:\n",
      "            ft = np.atleast_2d(features_train[:,j]).T\n",
      "            fv = np.atleast_2d(features_val[:,j]).T\n",
      "            fte = np.atleast_2d(features_test[:,j]).T\n",
      "        else:\n",
      "            ft = np.concatenate((features_new_train, ft), 1)\n",
      "            fv = np.concatenate((features_new_val, fv), 1)\n",
      "            fte = np.concatenate((features_new_test, fte), 1)\n",
      "        #print(ft.shape)\n",
      "        #print(fv.shape)\n",
      "        ### scale features\n",
      "        f_all = np.concatenate((ft, fv, fte))\n",
      "        scaler_train = StandardScaler().fit(f_all)\n",
      "        fscaled_train = scaler_train.transform(ft)\n",
      "        #print(fscaled_train.shape)\n",
      "\n",
      "        #scaler_val = StandardScaler().fit(fv)\n",
      "        fscaled_val = scaler_train.transform(fv)\n",
      "        #print(fscaled_val.shape)\n",
      "        ### Random Forest Classifier\n",
      "        params = {'max_depth': [3,5,7,10,15,20,30,50,75,100,150,200,250,300,400]}#,\n",
      "        grid_rfc = GridSearchCV(RandomForestClassifier(n_estimators=500), param_grid=params,\n",
      "                                verbose=0, n_jobs=4)\n",
      "        #rfc = RandomForestClassifier(n_estimators=500, max_depth=10)\n",
      "        #rfc.fit(fscaled_train, labels_train)\n",
      "        grid_rfc.fit(fscaled_train, labels_train)\n",
      "        #print(\"Best results for the Random Forest run:\")\n",
      "        #print(\"Best parameter: \" + str(grid_rfc.best_params_))\n",
      "        best_params.append(grid_rfc.best_params_)\n",
      "        #print(\"Training accuracy: \" + str(grid_rfc.score(fscaled_train, labels_train)))\n",
      "        #print(\"Validation accuracy: \" + str(grid_rfc.score(fscaled_val, labels_val)))\n",
      "        score.append(grid_rfc.score(fscaled_val, labels_val))\n",
      "    \n",
      "    score_all.append(score)\n",
      "    best_params_all.append(best_params)\n",
      "    best_ind = np.where(score == np.max(score))[0]\n",
      "    print(\"best_ind: \" + str(best_ind))\n",
      "    if len(best_ind) > 1:\n",
      "        best_ind = best_ind[0]\n",
      "    print(\"The best score in round \" + str(i) + \" is \" + str(np.max(score)))\n",
      "    n_best = nfeatures.pop(best_ind)\n",
      "    print(\"The best-ranked feature in round \" + str(i) + \" is \" + str(n_best))\n",
      "    feature_ranking.append(n_best)\n",
      "    if len(features_new_train) == 0:\n",
      "        features_new_train = np.atleast_2d(features_train[:,n_best]).T\n",
      "        features_new_val = np.atleast_2d(features_val[:,n_best]).T\n",
      "        features_new_test = np.atleast_2d(features_test[:,n_best]).T\n",
      "    else:\n",
      "        features_new_train = np.concatenate((features_new_train, np.atleast_2d(features_train[:,n_best]).T), 1)\n",
      "        features_new_val = np.concatenate((features_new_val, np.atleast_2d(features_val[:,n_best]).T), 1)\n",
      "        features_new_test = np.concatenate((features_new_test, np.atleast_2d(features_test[:,n_best]).T), 1)\n"
     ],
     "language": "python",
     "metadata": {},
     "outputs": [
      {
       "output_type": "stream",
       "stream": "stdout",
       "text": [
        "best_ind: [13 14]\n",
        "The best score in round 0 is 0.466491458607\n",
        "The best-ranked feature in round 0 is 13\n"
       ]
      },
      {
       "output_type": "stream",
       "stream": "stdout",
       "text": [
        "best_ind: [8]\n",
        "The best score in round 1 is 0.576872536137\n",
        "The best-ranked feature in round 1 is 8\n"
       ]
      },
      {
       "output_type": "stream",
       "stream": "stdout",
       "text": [
        "best_ind: [2]\n",
        "The best score in round 2 is 0.658344283837\n",
        "The best-ranked feature in round 2 is 2\n"
       ]
      },
      {
       "output_type": "stream",
       "stream": "stdout",
       "text": [
        "best_ind: [2]\n",
        "The best score in round 3 is 0.684625492773\n",
        "The best-ranked feature in round 3 is 3\n"
       ]
      },
      {
       "output_type": "stream",
       "stream": "stdout",
       "text": [
        "best_ind: [1]\n",
        "The best score in round 4 is 0.671484888305\n",
        "The best-ranked feature in round 4 is 1\n"
       ]
      },
      {
       "output_type": "stream",
       "stream": "stdout",
       "text": [
        "best_ind: [5 9]\n",
        "The best score in round 5 is 0.660972404731\n",
        "The best-ranked feature in round 5 is 9\n"
       ]
      },
      {
       "output_type": "stream",
       "stream": "stdout",
       "text": [
        "best_ind: [6]\n",
        "The best score in round 6 is 0.710906701708\n",
        "The best-ranked feature in round 6 is 11\n"
       ]
      },
      {
       "output_type": "stream",
       "stream": "stdout",
       "text": [
        "best_ind: [1]\n",
        "The best score in round 7 is 0.716162943495\n",
        "The best-ranked feature in round 7 is 4\n"
       ]
      },
      {
       "output_type": "stream",
       "stream": "stdout",
       "text": [
        "best_ind: [5 6]\n",
        "The best score in round 8 is 0.716162943495\n",
        "The best-ranked feature in round 8 is 12\n"
       ]
      },
      {
       "output_type": "stream",
       "stream": "stdout",
       "text": [
        "best_ind: [0]\n",
        "The best score in round 9 is 0.741130091984\n",
        "The best-ranked feature in round 9 is 0\n"
       ]
      },
      {
       "output_type": "stream",
       "stream": "stdout",
       "text": [
        "best_ind: [5]\n",
        "The best score in round 10 is 0.754270696452\n",
        "The best-ranked feature in round 10 is 15\n"
       ]
      },
      {
       "output_type": "stream",
       "stream": "stdout",
       "text": [
        "best_ind: [4]\n",
        "The best score in round 11 is 0.760840998686\n",
        "The best-ranked feature in round 11 is 14\n"
       ]
      },
      {
       "output_type": "stream",
       "stream": "stdout",
       "text": [
        "best_ind: [2]\n",
        "The best score in round 12 is 0.772667542707\n",
        "The best-ranked feature in round 12 is 7\n"
       ]
      },
      {
       "output_type": "stream",
       "stream": "stdout",
       "text": [
        "best_ind: [2]\n",
        "The best score in round 13 is 0.772667542707\n",
        "The best-ranked feature in round 13 is 10\n"
       ]
      },
      {
       "output_type": "stream",
       "stream": "stdout",
       "text": [
        "best_ind: [1]\n",
        "The best score in round 14 is 0.773981603154\n",
        "The best-ranked feature in round 14 is 6\n"
       ]
      },
      {
       "output_type": "stream",
       "stream": "stdout",
       "text": [
        "best_ind: [0]\n",
        "The best score in round 15 is 0.776609724047\n",
        "The best-ranked feature in round 15 is 5\n"
       ]
      }
     ],
     "prompt_number": 79
    },
    {
     "cell_type": "code",
     "collapsed": false,
     "input": [
      "## Print the indices of the original feature vector by importance\n",
      "print(feature_ranking)"
     ],
     "language": "python",
     "metadata": {},
     "outputs": [
      {
       "output_type": "stream",
       "stream": "stdout",
       "text": [
        "[13, 8, 2, 3, 1, 9, 11, 4, 12, 0, 15, 14, 7, 10, 6, 5]\n"
       ]
      }
     ],
     "prompt_number": 80
    },
    {
     "cell_type": "markdown",
     "metadata": {},
     "source": [
      "Ranked features:\n",
      "\n",
      "0. Covariance Matrix of the HR ratios (13 = [01])\n",
      "1. Power Spectral Color 1 (PSDc/PSDa)\n",
      "2. total variance in the count rate\n",
      "3. Frequency where the PSD has its maximum\n",
      "4. median count rate\n",
      "5. Power Spectral Color 2 (PSDb/PSDd\n",
      "6. mean of hardness ratio HR2\n",
      "7. Power Spectral Band A\n",
      "8. Covariance Matrix of the HR ratios (12 = [00])\n",
      "9. mean count rate\n",
      "10. Covariance Matrix of the HR ratios (15 = [11])\n",
      "11. Covariance Matrix of the HR ratios (14 = [10])\n",
      "12. Power Spectral Band D\n",
      "13. mean of hardness ratio HR1\n",
      "14. Power Spectral Band C\n",
      "15. Power Spectral Band B\n",
      " \n",
      "\n",
      "There's a mix of all features (hardness ratios, power spectral, overall time series) here, which means that all components seem to be fairly important to the classification. Especially the fact that the hardness ratio features (in particular the covariance between them) plays a role might mean we might want to think about features that captures the covariance better.\n"
     ]
    },
    {
     "cell_type": "code",
     "collapsed": false,
     "input": [
      "# Find the maximum of the validation scores for each run.\n",
      "score_max_all = np.array([np.max(s) for s in score_all])\n",
      "print(score_max_all)"
     ],
     "language": "python",
     "metadata": {},
     "outputs": [
      {
       "output_type": "stream",
       "stream": "stdout",
       "text": [
        "[ 0.46649146  0.57687254  0.65834428  0.68462549  0.67148489  0.6609724\n",
        "  0.7109067   0.71616294  0.71616294  0.74113009  0.7542707   0.760841\n",
        "  0.77266754  0.77266754  0.7739816   0.77660972]\n"
       ]
      }
     ],
     "prompt_number": 81
    },
    {
     "cell_type": "code",
     "collapsed": false,
     "input": [
      "## plot the validation fraction versus the number of features in the classification\n",
      "plt.plot(np.arange(len(score_max_all))+1., score_max_all, \"o-\")\n",
      "plt.xlabel(\"Number of features\")\n",
      "plt.ylabel(\"Validation accuracy\")"
     ],
     "language": "python",
     "metadata": {},
     "outputs": [
      {
       "metadata": {},
       "output_type": "pyout",
       "prompt_number": 82,
       "text": [
        "<matplotlib.text.Text at 0x253a93fd0>"
       ]
      },
      {
       "metadata": {},
       "output_type": "display_data",
       "png": "[encoded data removed]",
       "text": [
        "<matplotlib.figure.Figure at 0x253273f10>"
       ]
      }
     ],
     "prompt_number": 82
    },
    {
     "cell_type": "markdown",
     "metadata": {},
     "source": [
      "The validation fraction seems to saturate at about 77%.\n",
      "It's not clear whether this means\n",
      "- there's too little data\n",
      "- the human classification just sucks\n",
      "- the features don't accurately encapsulate the various behaviours in the data (e.g. QPOs)\n",
      "\n",
      "Let's print a confusion matrix for the run (1) with all features (2) with only 12 features.\n"
     ]
    },
    {
     "cell_type": "code",
     "collapsed": false,
     "input": [
      "best_params_all[11]"
     ],
     "language": "python",
     "metadata": {},
     "outputs": [
      {
       "metadata": {},
       "output_type": "pyout",
       "prompt_number": 83,
       "text": [
        "[{'max_depth': 150},\n",
        " {'max_depth': 250},\n",
        " {'max_depth': 100},\n",
        " {'max_depth': 75},\n",
        " {'max_depth': 50}]"
       ]
      }
     ],
     "prompt_number": 83
    },
    {
     "cell_type": "code",
     "collapsed": false,
     "input": [
      "features_new_all = np.concatenate((features_new_train, features_new_val, features_new_test))\n",
      "\n",
      "scaler_train = StandardScaler().fit(features_new_all)\n",
      "fscaled_train = scaler_train.transform(features_new_train)\n",
      "fscaled_val = scaler_train.transform(features_new_val)\n",
      "fscaled_test = scaler_train.transform(features_new_test)\n",
      "\n",
      "rfc_full = RandomForestClassifier(n_estimators=500, max_depth=10)\n",
      "rfc_full.fit(fscaled_train, labels_train)\n",
      "\n",
      "#grid_rfc.fit(fscaled_train, labels_train)\n",
      "print(\"Training accuracy: \" + str(rfc_full.score(fscaled_train, labels_train)))\n",
      "print(\"Validation accuracy: \" + str(rfc_full.score(fscaled_val, labels_val)))\n",
      "\n",
      "labels_rfc_full = rfc_full.predict(fscaled_val)\n",
      "labels_rfc_full_test = rfc_full.predict(fscaled_test)\n",
      "\n",
      "\n",
      "features_new_red = np.concatenate((features_new_train[:,:12], features_new_val[:,:12], features_new_test[:,:12]))\n",
      "\n",
      "scaler_train = StandardScaler().fit(features_new_red)\n",
      "fscaled_train = scaler_train.transform(features_new_train[:,:12])\n",
      "fscaled_val = scaler_train.transform(features_new_val[:,:12])\n",
      "fscaled_test = scaler_train.transform(features_new_test[:,:12])\n",
      "\n",
      "rfc_red = RandomForestClassifier(n_estimators=500, max_depth=400)\n",
      "rfc_red.fit(fscaled_train, labels_train)\n",
      "print(\"Training accuracy: \" + str(rfc_red.score(fscaled_train, labels_train)))\n",
      "print(\"Validation accuracy: \" + str(rfc_red.score(fscaled_val, labels_val)))\n",
      "\n",
      "labels_rfc_red = rfc_red.predict(fscaled_val)\n",
      "labels_rfc_red_test = rfc_red.predict(fscaled_test)\n"
     ],
     "language": "python",
     "metadata": {},
     "outputs": [
      {
       "output_type": "stream",
       "stream": "stdout",
       "text": [
        "Training accuracy: 1.0\n",
        "Validation accuracy: 0.725361366623"
       ]
      },
      {
       "output_type": "stream",
       "stream": "stdout",
       "text": [
        "\n",
        "Training accuracy: 1.0"
       ]
      },
      {
       "output_type": "stream",
       "stream": "stdout",
       "text": [
        "\n",
        "Validation accuracy: 0.746386333771"
       ]
      },
      {
       "output_type": "stream",
       "stream": "stdout",
       "text": [
        "\n"
       ]
      }
     ],
     "prompt_number": 84
    },
    {
     "cell_type": "markdown",
     "metadata": {},
     "source": [
      "Let's plot confusion matrices for both runs. "
     ]
    },
    {
     "cell_type": "code",
     "collapsed": false,
     "input": [
      "from sklearn.metrics import confusion_matrix\n",
      "import matplotlib.cm as cmap\n",
      "\n",
      "fig = plt.figure(figsize=(15,15))\n",
      "\n",
      "sns.set_style(\"white\") \n",
      "unique_labels = np.unique(labels_test)\n",
      "cm = confusion_matrix(labels_val, labels_rfc_full, labels=unique_labels)\n",
      "#print(cm)\n",
      "#print(unique_labels)\n",
      "ax1 = fig.add_subplot(221)\n",
      "ax1.matshow(cm, cmap=cmap.Spectral_r )\n",
      "ax1.set_title('Confusion matrix, All features')\n",
      "#plt.colorbar()\n",
      "ax1.set_ylabel('True label')\n",
      "ax1.set_xlabel('Predicted label')\n",
      "plt.xticks(range(len(unique_labels)), unique_labels, rotation=70)\n",
      "plt.yticks(range(len(unique_labels)), unique_labels)\n",
      "#plt.show()\n",
      "\n",
      "\n",
      "ax2 = fig.add_subplot(222)\n",
      "sns.set_style(\"white\") \n",
      "unique_labels = np.unique(labels_val)\n",
      "cm = confusion_matrix(labels_test, labels_rfc_full_test, labels=unique_labels)\n",
      "ax2.matshow(cm, cmap=cmap.Spectral_r )\n",
      "ax2.set_title('Confusion matrix, All features, test set')\n",
      "ax2.set_ylabel('True label')\n",
      "ax2.set_xlabel('Predicted label')\n",
      "plt.xticks(range(len(unique_labels)), unique_labels, rotation=70)\n",
      "plt.yticks(range(len(unique_labels)), unique_labels)\n",
      "#plt.show()\n",
      "\n",
      "\n",
      "sns.set_style(\"white\") \n",
      "unique_labels = np.unique(labels_val)\n",
      "cm = confusion_matrix(labels_val, labels_rfc_red, labels=unique_labels)\n",
      "#print(cm)\n",
      "#print(unique_labels)\n",
      "ax3 = fig.add_subplot(223)\n",
      "ax3.matshow(cm, cmap=cmap.Spectral_r )\n",
      "ax3.set_title('Confusion matrix, Reduced features')\n",
      "ax3.set_ylabel('True label')\n",
      "ax3.set_xlabel('Predicted label')\n",
      "plt.xticks(range(len(unique_labels)), unique_labels, rotation=70)\n",
      "plt.yticks(range(len(unique_labels)), unique_labels)\n",
      "#plt.show()\n",
      "\n",
      "\n",
      "ax4 = fig.add_subplot(224)\n",
      "sns.set_style(\"white\") \n",
      "unique_labels = np.unique(labels_test)\n",
      "cm = confusion_matrix(labels_test, labels_rfc_red_test, labels=unique_labels)\n",
      "ax4.matshow(cm, cmap=cmap.Spectral_r )\n",
      "ax4.set_title('Confusion matrix, Reduced features, test set')\n",
      "ax4.set_ylabel('True label')\n",
      "ax4.set_xlabel('Predicted label')\n",
      "plt.xticks(range(len(unique_labels)), unique_labels, rotation=70)\n",
      "plt.yticks(range(len(unique_labels)), unique_labels)\n",
      "#plt.show()"
     ],
     "language": "python",
     "metadata": {},
     "outputs": [
      {
       "metadata": {},
       "output_type": "pyout",
       "prompt_number": 85,
       "text": [
        "([<matplotlib.axis.YTick at 0x11a25d310>,\n",
        "  <matplotlib.axis.YTick at 0x11a6ba110>,\n",
        "  <matplotlib.axis.YTick at 0x11079b650>,\n",
        "  <matplotlib.axis.YTick at 0x11e416e90>,\n",
        "  <matplotlib.axis.YTick at 0x11d31e050>,\n",
        "  <matplotlib.axis.YTick at 0x11ba71d90>,\n",
        "  <matplotlib.axis.YTick at 0x11ba71950>,\n",
        "  <matplotlib.axis.YTick at 0x118ed1cd0>,\n",
        "  <matplotlib.axis.YTick at 0x118ed1990>,\n",
        "  <matplotlib.axis.YTick at 0x10ff53310>,\n",
        "  <matplotlib.axis.YTick at 0x10ff53450>,\n",
        "  <matplotlib.axis.YTick at 0x11a3dca10>,\n",
        "  <matplotlib.axis.YTick at 0x11a3dc050>,\n",
        "  <matplotlib.axis.YTick at 0x11077ab10>,\n",
        "  <matplotlib.axis.YTick at 0x11077a1d0>],\n",
        " <a list of 15 Text yticklabel objects>)"
       ]
      },
      {
       "metadata": {},
       "output_type": "display_data",
       "png": "[encoded data removed]",
       "text": [
        "<matplotlib.figure.Figure at 0x24d2f9310>"
       ]
      }
     ],
     "prompt_number": 85
    },
    {
     "cell_type": "markdown",
     "metadata": {},
     "source": [
      "There are differences in the confusion matrices between the full set of features and the reduced features, but between validation and test set confusions are similar, which is good!\n",
      "\n",
      "Let's also plot the feature importances as derived from the trees:"
     ]
    },
    {
     "cell_type": "code",
     "collapsed": false,
     "input": [
      "imp_rfc_full = rfc_full.feature_importances_\n",
      "imp_rfc_red = rfc_red.feature_importances_\n",
      "\n",
      "std_full = np.std([tree.feature_importances_ for tree in rfc_full.estimators_],\n",
      "             axis=0)\n",
      "std_red = np.std([tree.feature_importances_ for tree in rfc_red.estimators_],\n",
      "             axis=0)\n",
      "\n",
      "indices_full = np.argsort(imp_rfc_full)[::-1]\n",
      "indices_red = np.argsort(imp_rfc_red)[::-1]\n",
      "\n",
      "# Print the feature ranking for the full feature vector\n",
      "print(\"Feature ranking, full feature vector:\")\n",
      "\n",
      "for f in range(16):\n",
      "    print(\"%d. feature %d (%f)\" % (f + 1, indices_full[f], imp_rfc_full[indices_full[f]]))\n",
      "\n",
      "# Plot the feature importances of the forest\n",
      "plt.figure()\n",
      "plt.title(\"Feature importances\")\n",
      "plt.bar(range(16), imp_rfc_full[indices_full],\n",
      "       color=\"r\", yerr=std_full[indices_full], align=\"center\")\n",
      "plt.xticks(range(16), indices_full)\n",
      "plt.xlim([-1, 17])\n",
      "plt.show()\n",
      "\n",
      "\n",
      "# Print the feature ranking for the reduced set\n",
      "print(\"Feature ranking, reduced feature vector:\")\n",
      "\n",
      "for f in range(12):\n",
      "    print(\"%d. feature %d (%f)\" % (f + 1, indices_red[f], imp_rfc_red[indices_red[f]]))\n",
      "\n",
      "# Plot the feature importances of the forest\n",
      "plt.figure()\n",
      "plt.title(\"Feature importances\")\n",
      "plt.bar(range(12), imp_rfc_red[indices_red],\n",
      "       color=\"r\", yerr=std_red[indices_red], align=\"center\")\n",
      "plt.xticks(range(12), indices_red)\n",
      "plt.xlim([-1, 13])\n",
      "plt.show()\n",
      "\n"
     ],
     "language": "python",
     "metadata": {},
     "outputs": [
      {
       "output_type": "stream",
       "stream": "stdout",
       "text": [
        "Feature ranking, full feature vector:\n",
        "1. feature 1 (0.097562)\n",
        "2. feature 8 (0.094363)\n",
        "3. feature 12 (0.090543)\n",
        "4. feature 5 (0.079190)\n",
        "5. feature 7 (0.076837)\n",
        "6. feature 13 (0.070240)\n",
        "7. feature 6 (0.068328)\n",
        "8. feature 15 (0.063059)\n",
        "9. feature 14 (0.059121)\n",
        "10. feature 3 (0.051586)\n",
        "11. feature 2 (0.051437)\n",
        "12. feature 10 (0.047347)\n",
        "13. feature 9 (0.042720)\n",
        "14. feature 4 (0.039704)\n",
        "15. feature 0 (0.035053)\n",
        "16. feature 11 (0.032908)\n"
       ]
      },
      {
       "metadata": {},
       "output_type": "display_data",
       "png": "[encoded data removed]",
       "text": [
        "<matplotlib.figure.Figure at 0x11882fdd0>"
       ]
      },
      {
       "output_type": "stream",
       "stream": "stdout",
       "text": [
        "Feature ranking, reduced feature vector:\n",
        "1. feature 8 (0.126808)\n",
        "2. feature 1 (0.126484)\n",
        "3. feature 5 (0.104790)\n",
        "4. feature 6 (0.103884)\n",
        "5. feature 7 (0.090602)\n",
        "6. feature 3 (0.073726)\n",
        "7. feature 2 (0.071797)\n",
        "8. feature 9 (0.069454)\n",
        "9. feature 10 (0.066610)\n",
        "10. feature 4 (0.058225)\n",
        "11. feature 0 (0.054317)\n",
        "12. feature 11 (0.053302)\n"
       ]
      },
      {
       "metadata": {},
       "output_type": "display_data",
       "png": "[encoded data removed]",
       "text": [
        "<matplotlib.figure.Figure at 0x111f00a90>"
       ]
      }
     ],
     "prompt_number": 86
    },
    {
     "cell_type": "markdown",
     "metadata": {},
     "source": [
      "The feature importances derived from the trees isn't quite the same as from the greedy search. Note, however, that the inter-tree variability is fairly large, indicating that all of the features may contribute significantly to the classification.\n",
      "\n",
      "The top 5 features for the full feature set:\n",
      "1. Power Spectral Color 1 (PSDc/PSDa)\n",
      "2. Power Spectral Band D\n",
      "3. total variance in the count rate\n",
      "4. mean of hardness ratio HR2\n",
      "5. Power Spectral Color 2 (PSDb/PSDd)\n",
      "\n",
      "The top 5 features in the reduced feature set:\n",
      "1. Power Spectral Color 1 (PSDc/PSDa)\n",
      "2. Power Spectral Color 2 (PSDb/PSDd)\n",
      "3. mean of hardness ratio HR1\n",
      "4. flattened covariance matrix of HR1 and HR2, [[00,01],[10,11]], 00 component (13)\n",
      "5. total variance in the count rate\n"
     ]
    },
    {
     "cell_type": "markdown",
     "metadata": {},
     "source": [
      "## Does Adding Many features help?\n",
      "\n",
      "There are two alternatives that would extend the features above. One is including either the full heat map of the hardness ratios, or the full periodogram. Perhaps we could use some clever dimensionality reduction on either of those to make the problem more clever. For now, I am simply going to test whether adding either the full periodogram or the HR heat maps will aid the classification task (hint: I don't think so!).\n",
      "\n",
      "We'll start with the heat maps of hardness ratios. These are basically HR1 and HR2 for each light curve combined in a 2D histogram with 20 by 20 bins with the same ranges in both dimensions for each light curve.\n"
     ]
    },
    {
     "cell_type": "code",
     "collapsed": false,
     "input": [
      "f = open(datadir+\"grs1915_1024_clean_hrfull_features.dat\", \"r\")\n",
      "feature_dict = pickle.load(f)\n",
      "f.close()\n",
      "\n",
      "features_train = np.array(feature_dict[\"train\"][0][\"features\"])\n",
      "features_val = np.array(feature_dict[\"val\"][0][0][\"features\"])\n",
      "features_test = np.array(feature_dict[\"test\"][0][\"features\"])\n",
      "print(\"features_train.shape: \" + str(features_train.shape))\n",
      "labels_train = feature_dict[\"train\"][1]\n",
      "labels_val = feature_dict[\"val\"][0][1]\n",
      "labels_test = feature_dict[\"test\"][1]"
     ],
     "language": "python",
     "metadata": {},
     "outputs": [
      {
       "output_type": "stream",
       "stream": "stdout",
       "text": [
        "features_train.shape: (1547, 410)\n"
       ]
      }
     ],
     "prompt_number": 87
    },
    {
     "cell_type": "code",
     "collapsed": false,
     "input": [
      "f_all = np.concatenate((features_train, features_val, features_test))\n",
      "scaler_train = StandardScaler().fit(f_all)\n",
      "fscaled_train = scaler_train.transform(features_train)\n",
      "fscaled_val = scaler_train.transform(features_val)\n",
      "fscaled_test = scaler_train.transform(features_test)\n",
      "\n",
      "#print(fscaled_val.shape)\n",
      "### Random Forest Classifier\n",
      "params = {'max_depth': [3,5,7,10,15,20,30,50,75,100,150,200,250,300,400]}#,\n",
      "grid_rfc = GridSearchCV(RandomForestClassifier(n_estimators=500), param_grid=params,\n",
      "                        verbose=0, n_jobs=4)\n",
      "grid_rfc.fit(fscaled_train, labels_train)\n",
      "print(\"Training accuracy: \" + str(grid_rfc.score(fscaled_train, labels_train)))\n",
      "print(\"Validation accuracy: \" + str(grid_rfc.score(fscaled_val, labels_val)))\n",
      "print(\"Test accuracy: \" + str(grid_rfc.score(fscaled_test, labels_test)))\n"
     ],
     "language": "python",
     "metadata": {},
     "outputs": [
      {
       "output_type": "stream",
       "stream": "stdout",
       "text": [
        "Training accuracy: 1.0\n",
        "Validation accuracy: 0.761213720317"
       ]
      },
      {
       "output_type": "stream",
       "stream": "stdout",
       "text": [
        "\n",
        "Test accuracy: 0.860917941586"
       ]
      },
      {
       "output_type": "stream",
       "stream": "stdout",
       "text": [
        "\n"
       ]
      }
     ],
     "prompt_number": 89
    },
    {
     "cell_type": "markdown",
     "metadata": {},
     "source": [
      "The validation accuracy of this model is actually *lower* than just using the summaries. Rubbish! This is clearly not the answer. What about using the full periodogram?"
     ]
    },
    {
     "cell_type": "code",
     "collapsed": false,
     "input": [
      "f = open(datadir+\"grs1915_1024_clean_psfull_features.dat\", \"r\")\n",
      "feature_dict = pickle.load(f)\n",
      "f.close()\n",
      "\n",
      "features_train = np.array(feature_dict[\"train\"][0][\"features\"])\n",
      "features_val = np.array(feature_dict[\"val\"][0][0][\"features\"])\n",
      "features_test = np.array(feature_dict[\"test\"][0][\"features\"])\n",
      "print(\"features_train.shape: \" + str(features_train.shape))\n",
      "labels_train = feature_dict[\"train\"][1]\n",
      "labels_val = feature_dict[\"val\"][0][1]\n",
      "labels_test = feature_dict[\"test\"][1]"
     ],
     "language": "python",
     "metadata": {},
     "outputs": [
      {
       "output_type": "stream",
       "stream": "stdout",
       "text": [
        "features_train.shape: (1498, 31)\n"
       ]
      }
     ],
     "prompt_number": 90
    },
    {
     "cell_type": "code",
     "collapsed": false,
     "input": [
      "f_all = np.concatenate((features_train, features_val, features_test))\n",
      "scaler_train = StandardScaler().fit(f_all)\n",
      "fscaled_train = scaler_train.transform(features_train)\n",
      "fscaled_val = scaler_train.transform(features_val)\n",
      "fscaled_test = scaler_train.transform(features_test)\n",
      "\n",
      "#print(fscaled_val.shape)\n",
      "### Random Forest Classifier\n",
      "params = {'max_depth': [3,5,7,10,15,20,30,50,75,100,150,200,250,300,400]}#,\n",
      "grid_rfc = GridSearchCV(RandomForestClassifier(n_estimators=500), param_grid=params,\n",
      "                        verbose=0, n_jobs=4)\n",
      "grid_rfc.fit(fscaled_train, labels_train)\n",
      "print(\"Training accuracy: \" + str(grid_rfc.score(fscaled_train, labels_train)))\n",
      "print(\"Validation accuracy: \" + str(grid_rfc.score(fscaled_val, labels_val)))\n",
      "print(\"Test accuracy: \" + str(grid_rfc.score(fscaled_test, labels_test)))\n"
     ],
     "language": "python",
     "metadata": {},
     "outputs": [
      {
       "ename": "ValueError",
       "evalue": "Input contains NaN, infinity or a value too large for dtype('float64').",
       "output_type": "pyerr",
       "traceback": [
        "\u001b[0;31m---------------------------------------------------------------------------\u001b[0m\n\u001b[0;31mValueError\u001b[0m                                Traceback (most recent call last)",
        "\u001b[0;32m<ipython-input-91-2a765eb1a2dc>\u001b[0m in \u001b[0;36m<module>\u001b[0;34m()\u001b[0m\n\u001b[1;32m      1\u001b[0m \u001b[0mf_all\u001b[0m \u001b[0;34m=\u001b[0m \u001b[0mnp\u001b[0m\u001b[0;34m.\u001b[0m\u001b[0mconcatenate\u001b[0m\u001b[0;34m(\u001b[0m\u001b[0;34m(\u001b[0m\u001b[0mfeatures_train\u001b[0m\u001b[0;34m,\u001b[0m \u001b[0mfeatures_val\u001b[0m\u001b[0;34m,\u001b[0m \u001b[0mfeatures_test\u001b[0m\u001b[0;34m)\u001b[0m\u001b[0;34m)\u001b[0m\u001b[0;34m\u001b[0m\u001b[0m\n\u001b[0;32m----> 2\u001b[0;31m \u001b[0mscaler_train\u001b[0m \u001b[0;34m=\u001b[0m \u001b[0mStandardScaler\u001b[0m\u001b[0;34m(\u001b[0m\u001b[0;34m)\u001b[0m\u001b[0;34m.\u001b[0m\u001b[0mfit\u001b[0m\u001b[0;34m(\u001b[0m\u001b[0mf_all\u001b[0m\u001b[0;34m)\u001b[0m\u001b[0;34m\u001b[0m\u001b[0m\n\u001b[0m\u001b[1;32m      3\u001b[0m \u001b[0mfscaled_train\u001b[0m \u001b[0;34m=\u001b[0m \u001b[0mscaler_train\u001b[0m\u001b[0;34m.\u001b[0m\u001b[0mtransform\u001b[0m\u001b[0;34m(\u001b[0m\u001b[0mfeatures_train\u001b[0m\u001b[0;34m)\u001b[0m\u001b[0;34m\u001b[0m\u001b[0m\n\u001b[1;32m      4\u001b[0m \u001b[0mfscaled_val\u001b[0m \u001b[0;34m=\u001b[0m \u001b[0mscaler_train\u001b[0m\u001b[0;34m.\u001b[0m\u001b[0mtransform\u001b[0m\u001b[0;34m(\u001b[0m\u001b[0mfeatures_val\u001b[0m\u001b[0;34m)\u001b[0m\u001b[0;34m\u001b[0m\u001b[0m\n\u001b[1;32m      5\u001b[0m \u001b[0mfscaled_test\u001b[0m \u001b[0;34m=\u001b[0m \u001b[0mscaler_train\u001b[0m\u001b[0;34m.\u001b[0m\u001b[0mtransform\u001b[0m\u001b[0;34m(\u001b[0m\u001b[0mfeatures_test\u001b[0m\u001b[0;34m)\u001b[0m\u001b[0;34m\u001b[0m\u001b[0m\n",
        "\u001b[0;32m/opt/local/Library/Frameworks/Python.framework/Versions/2.7/lib/python2.7/site-packages/sklearn/preprocessing/data.pyc\u001b[0m in \u001b[0;36mfit\u001b[0;34m(self, X, y)\u001b[0m\n\u001b[1;32m    313\u001b[0m             \u001b[0mused\u001b[0m \u001b[0;32mfor\u001b[0m \u001b[0mlater\u001b[0m \u001b[0mscaling\u001b[0m \u001b[0malong\u001b[0m \u001b[0mthe\u001b[0m \u001b[0mfeatures\u001b[0m \u001b[0maxis\u001b[0m\u001b[0;34m.\u001b[0m\u001b[0;34m\u001b[0m\u001b[0m\n\u001b[1;32m    314\u001b[0m         \"\"\"\n\u001b[0;32m--> 315\u001b[0;31m         \u001b[0mX\u001b[0m \u001b[0;34m=\u001b[0m \u001b[0mcheck_arrays\u001b[0m\u001b[0;34m(\u001b[0m\u001b[0mX\u001b[0m\u001b[0;34m,\u001b[0m \u001b[0mcopy\u001b[0m\u001b[0;34m=\u001b[0m\u001b[0mself\u001b[0m\u001b[0;34m.\u001b[0m\u001b[0mcopy\u001b[0m\u001b[0;34m,\u001b[0m \u001b[0msparse_format\u001b[0m\u001b[0;34m=\u001b[0m\u001b[0;34m\"csr\"\u001b[0m\u001b[0;34m)\u001b[0m\u001b[0;34m[\u001b[0m\u001b[0;36m0\u001b[0m\u001b[0;34m]\u001b[0m\u001b[0;34m\u001b[0m\u001b[0m\n\u001b[0m\u001b[1;32m    316\u001b[0m         \u001b[0;32mif\u001b[0m \u001b[0mwarn_if_not_float\u001b[0m\u001b[0;34m(\u001b[0m\u001b[0mX\u001b[0m\u001b[0;34m,\u001b[0m \u001b[0mestimator\u001b[0m\u001b[0;34m=\u001b[0m\u001b[0mself\u001b[0m\u001b[0;34m)\u001b[0m\u001b[0;34m:\u001b[0m\u001b[0;34m\u001b[0m\u001b[0m\n\u001b[1;32m    317\u001b[0m             \u001b[0mX\u001b[0m \u001b[0;34m=\u001b[0m \u001b[0mX\u001b[0m\u001b[0;34m.\u001b[0m\u001b[0mastype\u001b[0m\u001b[0;34m(\u001b[0m\u001b[0mnp\u001b[0m\u001b[0;34m.\u001b[0m\u001b[0mfloat\u001b[0m\u001b[0;34m)\u001b[0m\u001b[0;34m\u001b[0m\u001b[0m\n",
        "\u001b[0;32m/opt/local/Library/Frameworks/Python.framework/Versions/2.7/lib/python2.7/site-packages/sklearn/utils/validation.pyc\u001b[0m in \u001b[0;36mcheck_arrays\u001b[0;34m(*arrays, **options)\u001b[0m\n\u001b[1;32m    281\u001b[0m                     \u001b[0marray\u001b[0m \u001b[0;34m=\u001b[0m \u001b[0mnp\u001b[0m\u001b[0;34m.\u001b[0m\u001b[0masarray\u001b[0m\u001b[0;34m(\u001b[0m\u001b[0marray\u001b[0m\u001b[0;34m,\u001b[0m \u001b[0mdtype\u001b[0m\u001b[0;34m=\u001b[0m\u001b[0mdtype\u001b[0m\u001b[0;34m)\u001b[0m\u001b[0;34m\u001b[0m\u001b[0m\n\u001b[1;32m    282\u001b[0m                 \u001b[0;32mif\u001b[0m \u001b[0;32mnot\u001b[0m \u001b[0mallow_nans\u001b[0m\u001b[0;34m:\u001b[0m\u001b[0;34m\u001b[0m\u001b[0m\n\u001b[0;32m--> 283\u001b[0;31m                     \u001b[0m_assert_all_finite\u001b[0m\u001b[0;34m(\u001b[0m\u001b[0marray\u001b[0m\u001b[0;34m)\u001b[0m\u001b[0;34m\u001b[0m\u001b[0m\n\u001b[0m\u001b[1;32m    284\u001b[0m \u001b[0;34m\u001b[0m\u001b[0m\n\u001b[1;32m    285\u001b[0m             \u001b[0;32mif\u001b[0m \u001b[0;32mnot\u001b[0m \u001b[0mallow_nd\u001b[0m \u001b[0;32mand\u001b[0m \u001b[0marray\u001b[0m\u001b[0;34m.\u001b[0m\u001b[0mndim\u001b[0m \u001b[0;34m>=\u001b[0m \u001b[0;36m3\u001b[0m\u001b[0;34m:\u001b[0m\u001b[0;34m\u001b[0m\u001b[0m\n",
        "\u001b[0;32m/opt/local/Library/Frameworks/Python.framework/Versions/2.7/lib/python2.7/site-packages/sklearn/utils/validation.pyc\u001b[0m in \u001b[0;36m_assert_all_finite\u001b[0;34m(X)\u001b[0m\n\u001b[1;32m     41\u001b[0m             and not np.isfinite(X).all()):\n\u001b[1;32m     42\u001b[0m         raise ValueError(\"Input contains NaN, infinity\"\n\u001b[0;32m---> 43\u001b[0;31m                          \" or a value too large for %r.\" % X.dtype)\n\u001b[0m\u001b[1;32m     44\u001b[0m \u001b[0;34m\u001b[0m\u001b[0m\n\u001b[1;32m     45\u001b[0m \u001b[0;34m\u001b[0m\u001b[0m\n",
        "\u001b[0;31mValueError\u001b[0m: Input contains NaN, infinity or a value too large for dtype('float64')."
       ]
      }
     ],
     "prompt_number": 91
    },
    {
     "cell_type": "markdown",
     "metadata": {},
     "source": [
      "The result including the whole periodogram isn't much better (given some variance in the validation and test accuracy due to the probabilistic nature of the Random Forest classifier). Either we'll need to be a lot smarter about making our features, or this is as good as it's going to get.\n",
      "\n",
      "## How good is the computer compared to human classification?\n",
      "\n",
      "Let's check how good the computer does compared to the human classification. For this purpose, we'll be making plots that show light curve, PSD and HR diagram for (1) the segment in question, (2) six examples of the human-classified class, (3) six examples of the computer-classified class.\n",
      "These plots will be made for all misclsasified light curves, and serves as a sanity check of whether the computer is actually just misclassifying, or whether there are ambiguities in the human classification.\n"
     ]
    },
    {
     "cell_type": "code",
     "collapsed": false,
     "input": [
      "f = open(datadir+\"grs1915_1024_clean_summary_features.dat\", \"r\")\n",
      "feature_dict = pickle.load(f)\n",
      "f.close()\n",
      "\n",
      "features_train = np.array(feature_dict[\"train\"][0][\"features\"])\n",
      "features_val = np.array(feature_dict[\"val\"][0][0][\"features\"])\n",
      "features_test = np.array(feature_dict[\"test\"][0][\"features\"])\n",
      "print(\"features_train.shape: \" + str(features_train.shape))\n",
      "labels_train = feature_dict[\"train\"][1]\n",
      "labels_val = feature_dict[\"val\"][0][1]\n",
      "labels_test = feature_dict[\"test\"][1]"
     ],
     "language": "python",
     "metadata": {},
     "outputs": [
      {
       "output_type": "stream",
       "stream": "stdout",
       "text": [
        "features_train.shape: (1467, 16)\n"
       ]
      }
     ],
     "prompt_number": 92
    },
    {
     "cell_type": "markdown",
     "metadata": {},
     "source": [
      "This time, we also need to extract light curves and hardness ratios for the plotting."
     ]
    },
    {
     "cell_type": "code",
     "collapsed": false,
     "input": [
      "lc_train = feature_dict[\"train\"][0][\"lc\"]\n",
      "lc_val = feature_dict[\"val\"][0][0][\"lc\"]\n",
      "lc_test = feature_dict[\"test\"][0][\"lc\"]\n",
      "\n",
      "hr_train = feature_dict[\"train\"][0][\"hr\"]\n",
      "hr_val = feature_dict[\"val\"][0][0][\"hr\"]\n",
      "hr_test = feature_dict[\"test\"][0][\"hr\"]\n"
     ],
     "language": "python",
     "metadata": {},
     "outputs": [],
     "prompt_number": 93
    },
    {
     "cell_type": "markdown",
     "metadata": {},
     "source": [
      "We'll need to reshuffle the feature vector to match the reduced one "
     ]
    },
    {
     "cell_type": "code",
     "collapsed": false,
     "input": [
      "feature_ranking = [13, 8, 2, 3, 1, 9, 11, 4, 12, 0, 15, 14, 7, 10, 6, 5]"
     ],
     "language": "python",
     "metadata": {},
     "outputs": [],
     "prompt_number": 96
    },
    {
     "cell_type": "code",
     "collapsed": false,
     "input": [
      "features_new_train = np.zeros(features_train.shape)\n",
      "features_new_val = np.zeros(features_val.shape)\n",
      "features_new_test = np.zeros(features_test.shape)\n",
      "\n",
      "for i,f in enumerate(feature_ranking):\n",
      "    features_new_train[:,i] = features_train[:,f]\n",
      "    features_new_val[:,i] = features_val[:,f]\n",
      "    features_new_test[:,i] = features_test[:,f]"
     ],
     "language": "python",
     "metadata": {},
     "outputs": [],
     "prompt_number": 97
    },
    {
     "cell_type": "markdown",
     "metadata": {},
     "source": [
      "Now let's do the classification one more time."
     ]
    },
    {
     "cell_type": "code",
     "collapsed": false,
     "input": [
      "from sklearn import cross_validation\n",
      "from sklearn.preprocessing import StandardScaler\n",
      "from sklearn.grid_search import GridSearchCV\n",
      "from sklearn.ensemble import RandomForestClassifier\n",
      "\n",
      "\n",
      "f_all = np.concatenate((features_new_train[:,:12], features_new_val[:,:12], features_new_test[:,:12]))\n",
      "\n",
      "scaler_train = StandardScaler().fit(f_all)\n",
      "fscaled_train = scaler_train.transform(features_train[:,:12])\n",
      "fscaled_val = scaler_train.transform(features_val[:,:12])\n",
      "fscaled_test = scaler_train.transform(features_test[:,:12])\n",
      "\n",
      "#print(fscaled_val.shape)\n",
      "### Random Forest Classifier\n",
      "params = {'max_depth': [3,5,7,10,15,20,30,50,75,100,150,200,250,300,400]}#,\n",
      "grid_rfc = GridSearchCV(RandomForestClassifier(n_estimators=500), param_grid=params,\n",
      "                        verbose=0, n_jobs=4)\n",
      "grid_rfc.fit(fscaled_train, labels_train)\n",
      "print(\"Training accuracy: \" + str(grid_rfc.score(fscaled_train, labels_train)))\n",
      "print(\"Validation accuracy: \" + str(grid_rfc.score(fscaled_val, labels_val)))\n",
      "print(\"Test accuracy: \" + str(grid_rfc.score(fscaled_test, labels_test)))\n",
      "\n",
      "labels_rfc = grid_rfc.predict(fscaled_val)\n",
      "labels_rfc_test = grid_rfc.predict(fscaled_test)\n"
     ],
     "language": "python",
     "metadata": {},
     "outputs": [
      {
       "output_type": "stream",
       "stream": "stdout",
       "text": [
        "Training accuracy: 1.0\n",
        "Validation accuracy: 0.745072273325"
       ]
      },
      {
       "output_type": "stream",
       "stream": "stdout",
       "text": [
        "\n",
        "Test accuracy: 0.893216080402"
       ]
      },
      {
       "output_type": "stream",
       "stream": "stdout",
       "text": [
        "\n"
       ]
      }
     ],
     "prompt_number": 98
    },
    {
     "cell_type": "code",
     "collapsed": false,
     "input": [
      "\n",
      "from sklearn.metrics import confusion_matrix\n",
      "import matplotlib.cm as cmap\n",
      "\n",
      "\n",
      "fig = plt.figure(figsize=(12,12))\n",
      "\n",
      "sns.set_style(\"white\") \n",
      "unique_labels = np.unique(labels_val)\n",
      "cm = confusion_matrix(labels_val, labels_rfc, labels=unique_labels)\n",
      "print(cm)\n",
      "#print(unique_labels)\n",
      "ax1 = fig.add_subplot(221)\n",
      "ax1.matshow(cm, cmap=cmap.Spectral_r);\n",
      "ax1.set_title('Confusion matrix, Validation Set')\n",
      "#plt.colorbar()\n",
      "ax1.set_ylabel('True label')\n",
      "ax1.set_xlabel('Predicted label')\n",
      "plt.xticks(range(len(unique_labels)), unique_labels, rotation=70);\n",
      "plt.yticks(range(len(unique_labels)), unique_labels);\n",
      "#plt.show()\n",
      "\n",
      "fig = plt.figure(figsize=(12,12))\n",
      "\n",
      "sns.set_style(\"white\") \n",
      "unique_labels = np.unique(labels_test)\n",
      "cm = confusion_matrix(labels_test, labels_rfc_test, labels=unique_labels)\n",
      "print(cm)\n",
      "#print(unique_labels)\n",
      "ax1 = fig.add_subplot(221)\n",
      "ax1.matshow(cm, cmap=cmap.Spectral_r);\n",
      "ax1.set_title('Confusion matrix, Test Set')\n",
      "#plt.colorbar()\n",
      "ax1.set_ylabel('True label')\n",
      "ax1.set_xlabel('Predicted label')\n",
      "plt.xticks(range(len(unique_labels)), unique_labels, rotation=70);\n",
      "plt.yticks(range(len(unique_labels)), unique_labels);\n",
      "#plt.show()\n"
     ],
     "language": "python",
     "metadata": {},
     "outputs": [
      {
       "output_type": "stream",
       "stream": "stdout",
       "text": [
        "[[ 28   0   0   3   6   0   0   0   0   0   0   0   0   0]\n",
        " [  6  50   0   0   0   3   0   6  28  23   0   0   5   0]\n",
        " [  0   0  75   0  43   0   0   0   0   0   0   0   0   0]\n",
        " [  0   0   0 121  18   0   0   0   0   0   0   0   0   0]\n",
        " [  3   0   0   0  49   0   0   0   0   0   0   0   0   0]\n",
        " [ 11   0   0   0   0  34   0   0   0   0   0   0   0   0]\n",
        " [  0   0   0   0   0   0   2   0   0   0   0   0   0   0]\n",
        " [  0   0   0   0   0   0   0  26   0   2   0   0   0   0]\n",
        " [  0   0   0   0   0   0   0   0  10   0   0   0   0   0]\n",
        " [  0   0   0   0   0   1   0   0   3  45   0   0   0   0]\n",
        " [  0   0   0   0   2   0   0   0   0   0  21   0   0   0]\n",
        " [  0   0   0   0   0   0   0   0   0   0   0   7   0   0]\n",
        " [ 16   0   0   0   0   0   0   0   0   0  15   0  47   0]\n",
        " [  0   0   0   0   0   0   0   0   0   0   0   0   0  52]]\n",
        "[[ 12   0   0   0   0   0   0   0   0   0   0   0   0   0   0]\n",
        " [  3  47   0   0   0   0   0   0   0   0   1   0   0   0   0]\n",
        " [  0   0  89   0   0   0   0   0   0   0   0   0   0   0   0]\n",
        " [  1   0   0  64   0  15   0   0   0   0   0   0   0   0   0]\n",
        " [  0   0   0   0  72   0   0   0   0   0   0   0   0   0   0]\n",
        " [  4   0  15  11   0  55   0   0   0   0   0   0   0   0   0]\n",
        " [  0   0   0   0   0   0  35   0   0   0   0   0  12   0   0]\n",
        " [  0   0   0   0   0   0   0 116   0   0   0   0   0   0   0]\n",
        " [  0   0   0   0   0   0   0   0   3   0   0   0   0   0   0]\n",
        " [  0   0   0   0   0   0   0   0   0  38   1   6   0   1   0]\n",
        " [  0   8   0   0   0   0   0   0   3   0  44   0   0   0   0]\n",
        " [  0   0   0   0   0   4   0   0   0   0   0   3   0   0   0]\n",
        " [  0   0   0   0   0   0   0   0   0   0   0   0  76   0   0]\n",
        " [  0   0   0   0   0   0   0   0   0   0   0   0   0  12   0]\n",
        " [  0   0   0   0   0   0   0   0   0   0   0   0   0   0  45]]"
       ]
      },
      {
       "output_type": "stream",
       "stream": "stdout",
       "text": [
        "\n"
       ]
      },
      {
       "metadata": {},
       "output_type": "pyout",
       "prompt_number": 99,
       "text": [
        "([<matplotlib.axis.YTick at 0x1123b2090>,\n",
        "  <matplotlib.axis.YTick at 0x1123b2c10>,\n",
        "  <matplotlib.axis.YTick at 0x11c73e690>,\n",
        "  <matplotlib.axis.YTick at 0x11c70fdd0>,\n",
        "  <matplotlib.axis.YTick at 0x11c70f790>,\n",
        "  <matplotlib.axis.YTick at 0x11c70fa90>,\n",
        "  <matplotlib.axis.YTick at 0x11f1e8110>,\n",
        "  <matplotlib.axis.YTick at 0x11c71bb10>,\n",
        "  <matplotlib.axis.YTick at 0x11c71bf50>,\n",
        "  <matplotlib.axis.YTick at 0x11c7169d0>,\n",
        "  <matplotlib.axis.YTick at 0x11c716d90>,\n",
        "  <matplotlib.axis.YTick at 0x11a45e250>,\n",
        "  <matplotlib.axis.YTick at 0x11a45e210>,\n",
        "  <matplotlib.axis.YTick at 0x11a290450>,\n",
        "  <matplotlib.axis.YTick at 0x11a2909d0>],\n",
        " <a list of 15 Text yticklabel objects>)"
       ]
      },
      {
       "metadata": {},
       "output_type": "display_data",
       "png": "[encoded data removed]",
       "text": [
        "<matplotlib.figure.Figure at 0x11c3cad90>"
       ]
      },
      {
       "metadata": {},
       "output_type": "display_data",
       "png": "[encoded data removed]",
       "text": [
        "<matplotlib.figure.Figure at 0x11a715fd0>"
       ]
      }
     ],
     "prompt_number": 99
    },
    {
     "cell_type": "markdown",
     "metadata": {},
     "source": [
      "This is basically copy-pasted from the supervised classification notebook."
     ]
    },
    {
     "cell_type": "code",
     "collapsed": false,
     "input": [
      "import powerspectrum\n",
      "import copy\n",
      "import scipy.stats\n",
      "\n",
      "def plot_misclassifieds(features, trained_labels, real_labels, lc_all, hr_all, hr_limits,\n",
      "                        nexamples=6, namestr=\"misclassified\", datadir=\"./\"):\n",
      "\n",
      "    \"\"\"\n",
      "    Find all mis-classified light curves and plot them with examples of the real and false classes.\n",
      "    \"\"\"\n",
      "    misclassifieds = []\n",
      "    for i,(f, lpredict, ltrue, lc, hr) in enumerate(zip(features, trained_labels, real_labels, lc_all, \\\n",
      "                                                hr_all)):\n",
      "        if lpredict == ltrue:\n",
      "            continue\n",
      "        else:\n",
      "            misclassifieds.append([f, lpredict, ltrue, lc, hr])\n",
      "\n",
      "    for j,m in enumerate(misclassifieds):\n",
      "        pos_human = np.random.choice([0,3], p=[0.5, 0.5])\n",
      "        pos_robot = int(3. - pos_human)\n",
      "\n",
      "        f = m[0]\n",
      "        lpredict = m[1]\n",
      "        ltrue = m[2]\n",
      "        times = m[3][0]\n",
      "        counts = m[3][1]\n",
      "        hr1 = m[4][0]\n",
      "        hr2 = m[4][1]\n",
      "        print(\"Predicted class is: \" + str(lpredict))\n",
      "        print(\"Human classified class is: \" + str(ltrue))\n",
      "        robot_all = [[lp, lt, lc, hr] for lp, lt, lc, hr in \\\n",
      "                     zip(real_labels, trained_labels, lc_all, hr_all)\\\n",
      "                     if lt == lpredict ]\n",
      "        human_all = [[lp, lt, lc, hr] for lp, lt, lc, hr in \\\n",
      "                     zip(real_labels, trained_labels, lc_all, hr_all)\\\n",
      "                     if lt == ltrue ]\n",
      "\n",
      "        np.random.shuffle(robot_all)\n",
      "        np.random.shuffle(human_all)\n",
      "        robot_all = robot_all[:6]\n",
      "        human_all = human_all[:6]\n",
      "\n",
      "        sns.set_style(\"darkgrid\")\n",
      "        current_palette = sns.color_palette()\n",
      "        fig = plt.figure(figsize=(10,15))\n",
      "\n",
      "        def plot_lcs(times, counts, hr1, hr2, xcoords, ycoords, colspan, rowspan):\n",
      "            #print(\"plotting in grid point \" + str((xcoords[0], ycoords[0])))\n",
      "            ax = plt.subplot2grid((9,6),(xcoords[0], ycoords[0]), colspan=colspan, rowspan=rowspan)\n",
      "            ax.plot(times, counts, lw=2, linestyle=\"steps-mid\", rasterized=True)\n",
      "            ax.set_xlim([times[0], times[-1]])\n",
      "            ax.set_ylim([0.0, 12000.0])\n",
      "            #print(\"plotting in grid point \" + str((xcoords[1], ycoords[1])))\n",
      "\n",
      "            h, xedges, yedges = np.histogram2d(np.log(hr1), np.log(hr2), bins=40, \n",
      "                                   range=hr_limits)\n",
      "            h = np.rot90(h)\n",
      "            h = np.flipud(h)\n",
      "\n",
      "            hmax = np.max(h)\n",
      "            #print(hmax)\n",
      "            hmask = np.where(h > hmax/20.)\n",
      "            hmask1 = np.where(h < hmax/20.)\n",
      "\n",
      "            hnew = copy.copy(h)\n",
      "            hnew[hmask[0], hmask[1]] = 1.\n",
      "            hnew[hmask1[0], hmask1[1]] = 0.0\n",
      "\n",
      "            ax = plt.subplot2grid((9,6),(xcoords[1], ycoords[1]), colspan=colspan, rowspan=rowspan)\n",
      "            ax.pcolormesh(xedges,yedges,hnew,cmap='BuPu')\n",
      "            #ax.scatter(hr1, hr2, facecolor=current_palette[1], edgecolor=\"none\", rasterized=True)\n",
      "            ax.set_xlim(hr_limits[0])\n",
      "            ax.set_ylim(hr_limits[1])\n",
      "\n",
      "            #print(\"plotting in grid point \" + str((xcoords[2], ycoords[2])))    \n",
      "            ax = plt.subplot2grid((9,6),(xcoords[2], ycoords[2]), colspan=colspan, rowspan=rowspan)\n",
      "            dt = np.min(np.diff(times))\n",
      "            ps = powerspectrum.PowerSpectrum(times, counts=counts/dt, norm=\"rms\")\n",
      "            ps.freq = np.array(ps.freq)\n",
      "            ps.ps = np.array(ps.ps)*ps.freq\n",
      "            \n",
      "            binfreq = np.logspace(np.log10(ps.freq[1]), np.log10(ps.freq[-1]), 24)\n",
      "            binps, bin_edges, binno = scipy.stats.binned_statistic(ps.freq[1:], ps.ps[1:], statistic=\"mean\", bins=binfreq)\n",
      "\n",
      "            df = binfreq[1:]-binfreq[:-1]\n",
      "            binfreq = binfreq[:-1]+df/2.\n",
      "            ax.loglog(binfreq[1:], binps[1:], linestyle=\"steps-mid\", rasterized=True)\n",
      "            ax.set_xlim([ps.freq[1], ps.freq[-1]])\n",
      "            ax.set_ylim([1.e-6, 10.])\n",
      "\n",
      "            return\n",
      "\n",
      "        ## first plot misclassified:\n",
      "        plot_lcs(times, counts, hr1, hr2, [0,0,0], [0,2,4], 2, 2)\n",
      "\n",
      "        ## now plot examples\n",
      "        for i in range(4):\n",
      "            r = robot_all[i]\n",
      "            h = human_all[i]\n",
      "            #print(h[0])\n",
      "            #print(\"human indices: \" + str([ [i+3, i+3, i+3], [pos_human, pos_human+1, pos_human+2]]))\n",
      "            #print(\"robot indices: \" + str([[i+3, i+3, i+3], [pos_robot, pos_robot+1, pos_robot+2]]))\n",
      "            plot_lcs(h[2][0], h[2][1], h[3][0], h[3][1], [i+2, i+2, i+2], [pos_human, pos_human+1, pos_human+2], 1, 1)\n",
      "            plot_lcs(r[2][0], r[2][1], r[3][0], r[3][1], [i+2, i+2, i+2], [pos_robot, pos_robot+1, pos_robot+2], 1, 1)\n",
      "\n",
      "        ax = plt.subplot2grid((9,6),(8,pos_human+1))\n",
      "        ax.set_xlim([0,1])\n",
      "        ax.set_ylim([0,1])\n",
      "        ax.set_xlabel(\"Human: %s\"%ltrue, fontsize=20)\n",
      "        ax = plt.subplot2grid((9,6),(8,pos_robot+1))\n",
      "        ax.set_xlim([0,1])\n",
      "        ax.set_ylim([0,1])\n",
      "        ax.set_xlabel(\"Robot: %s\"%lpredict, fontsize=20)\n",
      "        #plt.show()\n",
      "        plt.savefig(\"misclassified%i.pdf\"%j, format=\"pdf\")\n",
      "        plt.close()"
     ],
     "language": "python",
     "metadata": {},
     "outputs": [],
     "prompt_number": 100
    },
    {
     "cell_type": "code",
     "collapsed": false,
     "input": [
      "hr2_min = -3.0\n",
      "hr2_max = 2.0\n",
      "hr1_min = -2.5\n",
      "hr1_max = 1.5\n",
      "\n",
      "sns.set_context(\"notebook\", font_scale=1.0, rc={\"axes.labelsize\": 14})\n",
      "plt.rc(\"font\", size=14, family=\"serif\", serif=\"Computer Sans\")\n",
      "plt.rc(\"axes\", titlesize=14, labelsize=14) \n",
      "plt.rc(\"text\", usetex=True)\n",
      "\n",
      "\n",
      "plot_misclassifieds(features_new_val[:,:12], labels_rfc, labels_val, lc_val, hr_val, [[hr1_min, hr1_max],[hr2_min, hr2_max]],\n",
      "                    nexamples=6, namestr=\"misclassified\", datadir=datadir)"
     ],
     "language": "python",
     "metadata": {},
     "outputs": [
      {
       "output_type": "stream",
       "stream": "stdout",
       "text": [
        "Predicted class is: chi4\n",
        "Human classified class is: chi1\n",
        "Predicted class is: chi4"
       ]
      },
      {
       "output_type": "stream",
       "stream": "stdout",
       "text": [
        "\n",
        "Human classified class is: chi1\n",
        "Predicted class is: kappa"
       ]
      },
      {
       "output_type": "stream",
       "stream": "stdout",
       "text": [
        "\n",
        "Human classified class is: beta\n",
        "Predicted class is: kappa"
       ]
      },
      {
       "output_type": "stream",
       "stream": "stdout",
       "text": [
        "\n",
        "Human classified class is: beta\n",
        "Predicted class is: mu"
       ]
      },
      {
       "output_type": "stream",
       "stream": "stdout",
       "text": [
        "\n",
        "Human classified class is: beta\n",
        "Predicted class is: mu"
       ]
      },
      {
       "output_type": "stream",
       "stream": "stdout",
       "text": [
        "\n",
        "Human classified class is: beta\n",
        "Predicted class is: mu"
       ]
      },
      {
       "output_type": "stream",
       "stream": "stdout",
       "text": [
        "\n",
        "Human classified class is: beta\n",
        "Predicted class is: lambda"
       ]
      },
      {
       "output_type": "stream",
       "stream": "stdout",
       "text": [
        "\n",
        "Human classified class is: beta\n",
        "Predicted class is: mu"
       ]
      },
      {
       "output_type": "stream",
       "stream": "stdout",
       "text": [
        "\n",
        "Human classified class is: beta\n",
        "Predicted class is: mu"
       ]
      },
      {
       "output_type": "stream",
       "stream": "stdout",
       "text": [
        "\n",
        "Human classified class is: beta\n",
        "Predicted class is: mu"
       ]
      },
      {
       "output_type": "stream",
       "stream": "stdout",
       "text": [
        "\n",
        "Human classified class is: beta\n",
        "Predicted class is: mu"
       ]
      },
      {
       "output_type": "stream",
       "stream": "stdout",
       "text": [
        "\n",
        "Human classified class is: beta\n",
        "Predicted class is: mu"
       ]
      },
      {
       "output_type": "stream",
       "stream": "stdout",
       "text": [
        "\n",
        "Human classified class is: beta\n",
        "Predicted class is: mu"
       ]
      },
      {
       "output_type": "stream",
       "stream": "stdout",
       "text": [
        "\n",
        "Human classified class is: beta\n",
        "Predicted class is: mu"
       ]
      },
      {
       "output_type": "stream",
       "stream": "stdout",
       "text": [
        "\n",
        "Human classified class is: beta\n",
        "Predicted class is: mu"
       ]
      },
      {
       "output_type": "stream",
       "stream": "stdout",
       "text": [
        "\n",
        "Human classified class is: beta\n",
        "Predicted class is: lambda"
       ]
      },
      {
       "output_type": "stream",
       "stream": "stdout",
       "text": [
        "\n",
        "Human classified class is: beta\n",
        "Predicted class is: lambda"
       ]
      },
      {
       "output_type": "stream",
       "stream": "stdout",
       "text": [
        "\n",
        "Human classified class is: beta\n",
        "Predicted class is: mu"
       ]
      },
      {
       "output_type": "stream",
       "stream": "stdout",
       "text": [
        "\n",
        "Human classified class is: beta\n",
        "Predicted class is: chi4"
       ]
      },
      {
       "output_type": "stream",
       "stream": "stdout",
       "text": [
        "\n",
        "Human classified class is: chi2\n",
        "Predicted class is: chi4"
       ]
      },
      {
       "output_type": "stream",
       "stream": "stdout",
       "text": [
        "\n",
        "Human classified class is: chi2\n",
        "Predicted class is: chi4"
       ]
      },
      {
       "output_type": "stream",
       "stream": "stdout",
       "text": [
        "\n",
        "Human classified class is: chi2\n",
        "Predicted class is: chi4"
       ]
      },
      {
       "output_type": "stream",
       "stream": "stdout",
       "text": [
        "\n",
        "Human classified class is: chi2\n",
        "Predicted class is: chi4"
       ]
      },
      {
       "output_type": "stream",
       "stream": "stdout",
       "text": [
        "\n",
        "Human classified class is: chi2\n",
        "Predicted class is: chi4"
       ]
      },
      {
       "output_type": "stream",
       "stream": "stdout",
       "text": [
        "\n",
        "Human classified class is: chi2\n",
        "Predicted class is: chi4"
       ]
      },
      {
       "output_type": "stream",
       "stream": "stdout",
       "text": [
        "\n",
        "Human classified class is: chi2\n",
        "Predicted class is: chi4"
       ]
      },
      {
       "output_type": "stream",
       "stream": "stdout",
       "text": [
        "\n",
        "Human classified class is: chi2\n",
        "Predicted class is: chi4"
       ]
      },
      {
       "output_type": "stream",
       "stream": "stdout",
       "text": [
        "\n",
        "Human classified class is: chi2\n",
        "Predicted class is: chi4"
       ]
      },
      {
       "output_type": "stream",
       "stream": "stdout",
       "text": [
        "\n",
        "Human classified class is: chi2\n",
        "Predicted class is: chi4"
       ]
      },
      {
       "output_type": "stream",
       "stream": "stdout",
       "text": [
        "\n",
        "Human classified class is: chi2\n",
        "Predicted class is: chi4"
       ]
      },
      {
       "output_type": "stream",
       "stream": "stdout",
       "text": [
        "\n",
        "Human classified class is: chi2\n",
        "Predicted class is: chi4"
       ]
      },
      {
       "output_type": "stream",
       "stream": "stdout",
       "text": [
        "\n",
        "Human classified class is: chi2\n",
        "Predicted class is: chi4"
       ]
      },
      {
       "output_type": "stream",
       "stream": "stdout",
       "text": [
        "\n",
        "Human classified class is: chi1\n",
        "Predicted class is: chi4"
       ]
      },
      {
       "output_type": "stream",
       "stream": "stdout",
       "text": [
        "\n",
        "Human classified class is: chi1\n",
        "Predicted class is: chi4"
       ]
      },
      {
       "output_type": "stream",
       "stream": "stdout",
       "text": [
        "\n",
        "Human classified class is: chi1\n",
        "Predicted class is: chi4"
       ]
      },
      {
       "output_type": "stream",
       "stream": "stdout",
       "text": [
        "\n",
        "Human classified class is: chi1\n",
        "Predicted class is: chi4"
       ]
      },
      {
       "output_type": "stream",
       "stream": "stdout",
       "text": [
        "\n",
        "Human classified class is: chi1\n",
        "Predicted class is: chi4"
       ]
      },
      {
       "output_type": "stream",
       "stream": "stdout",
       "text": [
        "\n",
        "Human classified class is: chi1\n",
        "Predicted class is: chi4"
       ]
      },
      {
       "output_type": "stream",
       "stream": "stdout",
       "text": [
        "\n",
        "Human classified class is: chi1\n",
        "Predicted class is: lambda"
       ]
      },
      {
       "output_type": "stream",
       "stream": "stdout",
       "text": [
        "\n",
        "Human classified class is: mu\n",
        "Predicted class is: lambda"
       ]
      },
      {
       "output_type": "stream",
       "stream": "stdout",
       "text": [
        "\n",
        "Human classified class is: mu\n",
        "Predicted class is: lambda"
       ]
      },
      {
       "output_type": "stream",
       "stream": "stdout",
       "text": [
        "\n",
        "Human classified class is: mu\n",
        "Predicted class is: chi4"
       ]
      },
      {
       "output_type": "stream",
       "stream": "stdout",
       "text": [
        "\n",
        "Human classified class is: alpha\n",
        "Predicted class is: chi4"
       ]
      },
      {
       "output_type": "stream",
       "stream": "stdout",
       "text": [
        "\n",
        "Human classified class is: alpha\n",
        "Predicted class is: chi4"
       ]
      },
      {
       "output_type": "stream",
       "stream": "stdout",
       "text": [
        "\n",
        "Human classified class is: alpha\n",
        "Predicted class is: chi2"
       ]
      },
      {
       "output_type": "stream",
       "stream": "stdout",
       "text": [
        "\n",
        "Human classified class is: alpha\n",
        "Predicted class is: chi2"
       ]
      },
      {
       "output_type": "stream",
       "stream": "stdout",
       "text": [
        "\n",
        "Human classified class is: alpha\n",
        "Predicted class is: chi4"
       ]
      },
      {
       "output_type": "stream",
       "stream": "stdout",
       "text": [
        "\n",
        "Human classified class is: alpha\n",
        "Predicted class is: chi4"
       ]
      },
      {
       "output_type": "stream",
       "stream": "stdout",
       "text": [
        "\n",
        "Human classified class is: alpha\n",
        "Predicted class is: chi4"
       ]
      },
      {
       "output_type": "stream",
       "stream": "stdout",
       "text": [
        "\n",
        "Human classified class is: alpha\n",
        "Predicted class is: nu"
       ]
      },
      {
       "output_type": "stream",
       "stream": "stdout",
       "text": [
        "\n",
        "Human classified class is: rho\n",
        "Predicted class is: nu"
       ]
      },
      {
       "output_type": "stream",
       "stream": "stdout",
       "text": [
        "\n",
        "Human classified class is: rho\n",
        "Predicted class is: rho"
       ]
      },
      {
       "output_type": "stream",
       "stream": "stdout",
       "text": [
        "\n",
        "Human classified class is: beta\n",
        "Predicted class is: rho"
       ]
      },
      {
       "output_type": "stream",
       "stream": "stdout",
       "text": [
        "\n",
        "Human classified class is: beta\n",
        "Predicted class is: rho"
       ]
      },
      {
       "output_type": "stream",
       "stream": "stdout",
       "text": [
        "\n",
        "Human classified class is: beta\n",
        "Predicted class is: lambda"
       ]
      },
      {
       "output_type": "stream",
       "stream": "stdout",
       "text": [
        "\n",
        "Human classified class is: beta\n",
        "Predicted class is: lambda"
       ]
      },
      {
       "output_type": "stream",
       "stream": "stdout",
       "text": [
        "\n",
        "Human classified class is: beta\n",
        "Predicted class is: lambda"
       ]
      },
      {
       "output_type": "stream",
       "stream": "stdout",
       "text": [
        "\n",
        "Human classified class is: beta\n",
        "Predicted class is: delta"
       ]
      },
      {
       "output_type": "stream",
       "stream": "stdout",
       "text": [
        "\n",
        "Human classified class is: beta\n",
        "Predicted class is: delta"
       ]
      },
      {
       "output_type": "stream",
       "stream": "stdout",
       "text": [
        "\n",
        "Human classified class is: beta\n",
        "Predicted class is: delta"
       ]
      },
      {
       "output_type": "stream",
       "stream": "stdout",
       "text": [
        "\n",
        "Human classified class is: beta\n",
        "Predicted class is: lambda"
       ]
      },
      {
       "output_type": "stream",
       "stream": "stdout",
       "text": [
        "\n",
        "Human classified class is: beta\n",
        "Predicted class is: lambda"
       ]
      },
      {
       "output_type": "stream",
       "stream": "stdout",
       "text": [
        "\n",
        "Human classified class is: beta\n",
        "Predicted class is: lambda"
       ]
      },
      {
       "output_type": "stream",
       "stream": "stdout",
       "text": [
        "\n",
        "Human classified class is: beta\n",
        "Predicted class is: lambda"
       ]
      },
      {
       "output_type": "stream",
       "stream": "stdout",
       "text": [
        "\n",
        "Human classified class is: beta\n",
        "Predicted class is: lambda"
       ]
      },
      {
       "output_type": "stream",
       "stream": "stdout",
       "text": [
        "\n",
        "Human classified class is: beta\n",
        "Predicted class is: lambda"
       ]
      },
      {
       "output_type": "stream",
       "stream": "stdout",
       "text": [
        "\n",
        "Human classified class is: beta\n",
        "Predicted class is: kappa"
       ]
      },
      {
       "output_type": "stream",
       "stream": "stdout",
       "text": [
        "\n",
        "Human classified class is: beta\n",
        "Predicted class is: kappa"
       ]
      },
      {
       "output_type": "stream",
       "stream": "stdout",
       "text": [
        "\n",
        "Human classified class is: beta\n",
        "Predicted class is: kappa"
       ]
      },
      {
       "output_type": "stream",
       "stream": "stdout",
       "text": [
        "\n",
        "Human classified class is: beta\n",
        "Predicted class is: kappa"
       ]
      },
      {
       "output_type": "stream",
       "stream": "stdout",
       "text": [
        "\n",
        "Human classified class is: beta\n",
        "Predicted class is: lambda"
       ]
      },
      {
       "output_type": "stream",
       "stream": "stdout",
       "text": [
        "\n",
        "Human classified class is: beta\n",
        "Predicted class is: lambda"
       ]
      },
      {
       "output_type": "stream",
       "stream": "stdout",
       "text": [
        "\n",
        "Human classified class is: beta\n",
        "Predicted class is: lambda"
       ]
      },
      {
       "output_type": "stream",
       "stream": "stdout",
       "text": [
        "\n",
        "Human classified class is: beta\n",
        "Predicted class is: lambda"
       ]
      },
      {
       "output_type": "stream",
       "stream": "stdout",
       "text": [
        "\n",
        "Human classified class is: beta\n",
        "Predicted class is: lambda"
       ]
      },
      {
       "output_type": "stream",
       "stream": "stdout",
       "text": [
        "\n",
        "Human classified class is: beta\n",
        "Predicted class is: lambda"
       ]
      },
      {
       "output_type": "stream",
       "stream": "stdout",
       "text": [
        "\n",
        "Human classified class is: beta\n",
        "Predicted class is: lambda"
       ]
      },
      {
       "output_type": "stream",
       "stream": "stdout",
       "text": [
        "\n",
        "Human classified class is: beta\n",
        "Predicted class is: lambda"
       ]
      },
      {
       "output_type": "stream",
       "stream": "stdout",
       "text": [
        "\n",
        "Human classified class is: beta\n",
        "Predicted class is: lambda"
       ]
      },
      {
       "output_type": "stream",
       "stream": "stdout",
       "text": [
        "\n",
        "Human classified class is: beta\n",
        "Predicted class is: lambda"
       ]
      },
      {
       "output_type": "stream",
       "stream": "stdout",
       "text": [
        "\n",
        "Human classified class is: beta\n",
        "Predicted class is: lambda"
       ]
      },
      {
       "output_type": "stream",
       "stream": "stdout",
       "text": [
        "\n",
        "Human classified class is: beta\n",
        "Predicted class is: lambda"
       ]
      },
      {
       "output_type": "stream",
       "stream": "stdout",
       "text": [
        "\n",
        "Human classified class is: beta\n",
        "Predicted class is: lambda"
       ]
      },
      {
       "output_type": "stream",
       "stream": "stdout",
       "text": [
        "\n",
        "Human classified class is: beta\n",
        "Predicted class is: lambda"
       ]
      },
      {
       "output_type": "stream",
       "stream": "stdout",
       "text": [
        "\n",
        "Human classified class is: beta\n",
        "Predicted class is: rho"
       ]
      },
      {
       "output_type": "stream",
       "stream": "stdout",
       "text": [
        "\n",
        "Human classified class is: beta\n",
        "Predicted class is: lambda"
       ]
      },
      {
       "output_type": "stream",
       "stream": "stdout",
       "text": [
        "\n",
        "Human classified class is: beta\n",
        "Predicted class is: rho"
       ]
      },
      {
       "output_type": "stream",
       "stream": "stdout",
       "text": [
        "\n",
        "Human classified class is: beta\n",
        "Predicted class is: lambda"
       ]
      },
      {
       "output_type": "stream",
       "stream": "stdout",
       "text": [
        "\n",
        "Human classified class is: beta\n",
        "Predicted class is: alpha"
       ]
      },
      {
       "output_type": "stream",
       "stream": "stdout",
       "text": [
        "\n",
        "Human classified class is: delta\n",
        "Predicted class is: alpha"
       ]
      },
      {
       "output_type": "stream",
       "stream": "stdout",
       "text": [
        "\n",
        "Human classified class is: delta\n",
        "Predicted class is: alpha"
       ]
      },
      {
       "output_type": "stream",
       "stream": "stdout",
       "text": [
        "\n",
        "Human classified class is: delta\n",
        "Predicted class is: alpha"
       ]
      },
      {
       "output_type": "stream",
       "stream": "stdout",
       "text": [
        "\n",
        "Human classified class is: delta\n",
        "Predicted class is: alpha"
       ]
      },
      {
       "output_type": "stream",
       "stream": "stdout",
       "text": [
        "\n",
        "Human classified class is: delta\n",
        "Predicted class is: alpha"
       ]
      },
      {
       "output_type": "stream",
       "stream": "stdout",
       "text": [
        "\n",
        "Human classified class is: delta\n",
        "Predicted class is: alpha"
       ]
      },
      {
       "output_type": "stream",
       "stream": "stdout",
       "text": [
        "\n",
        "Human classified class is: delta\n",
        "Predicted class is: alpha"
       ]
      },
      {
       "output_type": "stream",
       "stream": "stdout",
       "text": [
        "\n",
        "Human classified class is: delta\n",
        "Predicted class is: alpha"
       ]
      },
      {
       "output_type": "stream",
       "stream": "stdout",
       "text": [
        "\n",
        "Human classified class is: delta\n",
        "Predicted class is: alpha"
       ]
      },
      {
       "output_type": "stream",
       "stream": "stdout",
       "text": [
        "\n",
        "Human classified class is: delta\n",
        "Predicted class is: alpha"
       ]
      },
      {
       "output_type": "stream",
       "stream": "stdout",
       "text": [
        "\n",
        "Human classified class is: delta\n",
        "Predicted class is: chi4"
       ]
      },
      {
       "output_type": "stream",
       "stream": "stdout",
       "text": [
        "\n",
        "Human classified class is: chi1\n",
        "Predicted class is: chi4"
       ]
      },
      {
       "output_type": "stream",
       "stream": "stdout",
       "text": [
        "\n",
        "Human classified class is: chi1\n",
        "Predicted class is: chi4"
       ]
      },
      {
       "output_type": "stream",
       "stream": "stdout",
       "text": [
        "\n",
        "Human classified class is: chi1\n",
        "Predicted class is: chi4"
       ]
      },
      {
       "output_type": "stream",
       "stream": "stdout",
       "text": [
        "\n",
        "Human classified class is: chi1\n",
        "Predicted class is: chi4"
       ]
      },
      {
       "output_type": "stream",
       "stream": "stdout",
       "text": [
        "\n",
        "Human classified class is: chi1\n",
        "Predicted class is: chi4"
       ]
      },
      {
       "output_type": "stream",
       "stream": "stdout",
       "text": [
        "\n",
        "Human classified class is: chi1\n",
        "Predicted class is: chi4"
       ]
      },
      {
       "output_type": "stream",
       "stream": "stdout",
       "text": [
        "\n",
        "Human classified class is: chi1\n",
        "Predicted class is: chi4"
       ]
      },
      {
       "output_type": "stream",
       "stream": "stdout",
       "text": [
        "\n",
        "Human classified class is: chi1\n",
        "Predicted class is: chi4"
       ]
      },
      {
       "output_type": "stream",
       "stream": "stdout",
       "text": [
        "\n",
        "Human classified class is: chi1\n",
        "Predicted class is: chi4"
       ]
      },
      {
       "output_type": "stream",
       "stream": "stdout",
       "text": [
        "\n",
        "Human classified class is: chi1\n",
        "Predicted class is: chi4"
       ]
      },
      {
       "output_type": "stream",
       "stream": "stdout",
       "text": [
        "\n",
        "Human classified class is: chi1\n",
        "Predicted class is: chi4"
       ]
      },
      {
       "output_type": "stream",
       "stream": "stdout",
       "text": [
        "\n",
        "Human classified class is: chi1\n",
        "Predicted class is: chi4"
       ]
      },
      {
       "output_type": "stream",
       "stream": "stdout",
       "text": [
        "\n",
        "Human classified class is: chi1\n",
        "Predicted class is: chi4"
       ]
      },
      {
       "output_type": "stream",
       "stream": "stdout",
       "text": [
        "\n",
        "Human classified class is: chi1\n",
        "Predicted class is: chi4"
       ]
      },
      {
       "output_type": "stream",
       "stream": "stdout",
       "text": [
        "\n",
        "Human classified class is: chi1\n",
        "Predicted class is: chi4"
       ]
      },
      {
       "output_type": "stream",
       "stream": "stdout",
       "text": [
        "\n",
        "Human classified class is: chi1\n",
        "Predicted class is: chi4"
       ]
      },
      {
       "output_type": "stream",
       "stream": "stdout",
       "text": [
        "\n",
        "Human classified class is: chi1\n",
        "Predicted class is: chi4"
       ]
      },
      {
       "output_type": "stream",
       "stream": "stdout",
       "text": [
        "\n",
        "Human classified class is: chi1\n",
        "Predicted class is: chi2"
       ]
      },
      {
       "output_type": "stream",
       "stream": "stdout",
       "text": [
        "\n",
        "Human classified class is: alpha\n",
        "Predicted class is: delta"
       ]
      },
      {
       "output_type": "stream",
       "stream": "stdout",
       "text": [
        "\n",
        "Human classified class is: mu\n",
        "Predicted class is: nu"
       ]
      },
      {
       "output_type": "stream",
       "stream": "stdout",
       "text": [
        "\n",
        "Human classified class is: rho\n",
        "Predicted class is: nu"
       ]
      },
      {
       "output_type": "stream",
       "stream": "stdout",
       "text": [
        "\n",
        "Human classified class is: rho\n",
        "Predicted class is: nu"
       ]
      },
      {
       "output_type": "stream",
       "stream": "stdout",
       "text": [
        "\n",
        "Human classified class is: rho\n",
        "Predicted class is: nu"
       ]
      },
      {
       "output_type": "stream",
       "stream": "stdout",
       "text": [
        "\n",
        "Human classified class is: rho\n",
        "Predicted class is: nu"
       ]
      },
      {
       "output_type": "stream",
       "stream": "stdout",
       "text": [
        "\n",
        "Human classified class is: rho\n",
        "Predicted class is: nu"
       ]
      },
      {
       "output_type": "stream",
       "stream": "stdout",
       "text": [
        "\n",
        "Human classified class is: rho\n",
        "Predicted class is: nu"
       ]
      },
      {
       "output_type": "stream",
       "stream": "stdout",
       "text": [
        "\n",
        "Human classified class is: rho\n",
        "Predicted class is: nu"
       ]
      },
      {
       "output_type": "stream",
       "stream": "stdout",
       "text": [
        "\n",
        "Human classified class is: rho\n",
        "Predicted class is: nu"
       ]
      },
      {
       "output_type": "stream",
       "stream": "stdout",
       "text": [
        "\n",
        "Human classified class is: rho\n",
        "Predicted class is: nu"
       ]
      },
      {
       "output_type": "stream",
       "stream": "stdout",
       "text": [
        "\n",
        "Human classified class is: rho\n",
        "Predicted class is: nu"
       ]
      },
      {
       "output_type": "stream",
       "stream": "stdout",
       "text": [
        "\n",
        "Human classified class is: rho\n",
        "Predicted class is: nu"
       ]
      },
      {
       "output_type": "stream",
       "stream": "stdout",
       "text": [
        "\n",
        "Human classified class is: rho\n",
        "Predicted class is: nu"
       ]
      },
      {
       "output_type": "stream",
       "stream": "stdout",
       "text": [
        "\n",
        "Human classified class is: rho\n",
        "Predicted class is: mu"
       ]
      },
      {
       "output_type": "stream",
       "stream": "stdout",
       "text": [
        "\n",
        "Human classified class is: beta\n",
        "Predicted class is: mu"
       ]
      },
      {
       "output_type": "stream",
       "stream": "stdout",
       "text": [
        "\n",
        "Human classified class is: beta\n",
        "Predicted class is: mu"
       ]
      },
      {
       "output_type": "stream",
       "stream": "stdout",
       "text": [
        "\n",
        "Human classified class is: beta\n",
        "Predicted class is: mu"
       ]
      },
      {
       "output_type": "stream",
       "stream": "stdout",
       "text": [
        "\n",
        "Human classified class is: beta\n",
        "Predicted class is: mu"
       ]
      },
      {
       "output_type": "stream",
       "stream": "stdout",
       "text": [
        "\n",
        "Human classified class is: beta\n",
        "Predicted class is: mu"
       ]
      },
      {
       "output_type": "stream",
       "stream": "stdout",
       "text": [
        "\n",
        "Human classified class is: beta\n",
        "Predicted class is: mu"
       ]
      },
      {
       "output_type": "stream",
       "stream": "stdout",
       "text": [
        "\n",
        "Human classified class is: beta\n",
        "Predicted class is: mu"
       ]
      },
      {
       "output_type": "stream",
       "stream": "stdout",
       "text": [
        "\n",
        "Human classified class is: beta\n",
        "Predicted class is: mu"
       ]
      },
      {
       "output_type": "stream",
       "stream": "stdout",
       "text": [
        "\n",
        "Human classified class is: beta\n",
        "Predicted class is: mu"
       ]
      },
      {
       "output_type": "stream",
       "stream": "stdout",
       "text": [
        "\n",
        "Human classified class is: beta\n",
        "Predicted class is: mu"
       ]
      },
      {
       "output_type": "stream",
       "stream": "stdout",
       "text": [
        "\n",
        "Human classified class is: beta\n",
        "Predicted class is: mu"
       ]
      },
      {
       "output_type": "stream",
       "stream": "stdout",
       "text": [
        "\n",
        "Human classified class is: kappa\n",
        "Predicted class is: mu"
       ]
      },
      {
       "output_type": "stream",
       "stream": "stdout",
       "text": [
        "\n",
        "Human classified class is: kappa\n",
        "Predicted class is: alpha"
       ]
      },
      {
       "output_type": "stream",
       "stream": "stdout",
       "text": [
        "\n",
        "Human classified class is: chi4\n",
        "Predicted class is: alpha"
       ]
      },
      {
       "output_type": "stream",
       "stream": "stdout",
       "text": [
        "\n",
        "Human classified class is: chi4\n",
        "Predicted class is: alpha"
       ]
      },
      {
       "output_type": "stream",
       "stream": "stdout",
       "text": [
        "\n",
        "Human classified class is: chi4\n",
        "Predicted class is: chi4"
       ]
      },
      {
       "output_type": "stream",
       "stream": "stdout",
       "text": [
        "\n",
        "Human classified class is: chi2\n",
        "Predicted class is: chi4"
       ]
      },
      {
       "output_type": "stream",
       "stream": "stdout",
       "text": [
        "\n",
        "Human classified class is: chi2\n",
        "Predicted class is: chi4"
       ]
      },
      {
       "output_type": "stream",
       "stream": "stdout",
       "text": [
        "\n",
        "Human classified class is: chi2\n",
        "Predicted class is: chi4"
       ]
      },
      {
       "output_type": "stream",
       "stream": "stdout",
       "text": [
        "\n",
        "Human classified class is: chi2\n",
        "Predicted class is: chi4"
       ]
      },
      {
       "output_type": "stream",
       "stream": "stdout",
       "text": [
        "\n",
        "Human classified class is: chi2\n",
        "Predicted class is: alpha"
       ]
      },
      {
       "output_type": "stream",
       "stream": "stdout",
       "text": [
        "\n",
        "Human classified class is: beta\n",
        "Predicted class is: chi4"
       ]
      },
      {
       "output_type": "stream",
       "stream": "stdout",
       "text": [
        "\n",
        "Human classified class is: chi1\n",
        "Predicted class is: chi4"
       ]
      },
      {
       "output_type": "stream",
       "stream": "stdout",
       "text": [
        "\n",
        "Human classified class is: chi1\n",
        "Predicted class is: chi4"
       ]
      },
      {
       "output_type": "stream",
       "stream": "stdout",
       "text": [
        "\n",
        "Human classified class is: chi1\n",
        "Predicted class is: chi4"
       ]
      },
      {
       "output_type": "stream",
       "stream": "stdout",
       "text": [
        "\n",
        "Human classified class is: chi1\n",
        "Predicted class is: chi4"
       ]
      },
      {
       "output_type": "stream",
       "stream": "stdout",
       "text": [
        "\n",
        "Human classified class is: chi1\n",
        "Predicted class is: chi4"
       ]
      },
      {
       "output_type": "stream",
       "stream": "stdout",
       "text": [
        "\n",
        "Human classified class is: chi1\n",
        "Predicted class is: chi4"
       ]
      },
      {
       "output_type": "stream",
       "stream": "stdout",
       "text": [
        "\n",
        "Human classified class is: chi1\n",
        "Predicted class is: chi4"
       ]
      },
      {
       "output_type": "stream",
       "stream": "stdout",
       "text": [
        "\n",
        "Human classified class is: chi1\n",
        "Predicted class is: chi4"
       ]
      },
      {
       "output_type": "stream",
       "stream": "stdout",
       "text": [
        "\n",
        "Human classified class is: chi1\n",
        "Predicted class is: chi4"
       ]
      },
      {
       "output_type": "stream",
       "stream": "stdout",
       "text": [
        "\n",
        "Human classified class is: chi1\n",
        "Predicted class is: chi4"
       ]
      },
      {
       "output_type": "stream",
       "stream": "stdout",
       "text": [
        "\n",
        "Human classified class is: chi1\n",
        "Predicted class is: chi4"
       ]
      },
      {
       "output_type": "stream",
       "stream": "stdout",
       "text": [
        "\n",
        "Human classified class is: chi1\n",
        "Predicted class is: chi4"
       ]
      },
      {
       "output_type": "stream",
       "stream": "stdout",
       "text": [
        "\n",
        "Human classified class is: chi1\n",
        "Predicted class is: chi4"
       ]
      },
      {
       "output_type": "stream",
       "stream": "stdout",
       "text": [
        "\n",
        "Human classified class is: chi1\n",
        "Predicted class is: chi4"
       ]
      },
      {
       "output_type": "stream",
       "stream": "stdout",
       "text": [
        "\n",
        "Human classified class is: chi1\n",
        "Predicted class is: chi4"
       ]
      },
      {
       "output_type": "stream",
       "stream": "stdout",
       "text": [
        "\n",
        "Human classified class is: chi1\n",
        "Predicted class is: alpha"
       ]
      },
      {
       "output_type": "stream",
       "stream": "stdout",
       "text": [
        "\n",
        "Human classified class is: rho\n",
        "Predicted class is: alpha"
       ]
      },
      {
       "output_type": "stream",
       "stream": "stdout",
       "text": [
        "\n",
        "Human classified class is: rho\n",
        "Predicted class is: alpha"
       ]
      },
      {
       "output_type": "stream",
       "stream": "stdout",
       "text": [
        "\n",
        "Human classified class is: rho\n",
        "Predicted class is: alpha"
       ]
      },
      {
       "output_type": "stream",
       "stream": "stdout",
       "text": [
        "\n",
        "Human classified class is: rho\n",
        "Predicted class is: alpha"
       ]
      },
      {
       "output_type": "stream",
       "stream": "stdout",
       "text": [
        "\n",
        "Human classified class is: rho\n",
        "Predicted class is: alpha"
       ]
      },
      {
       "output_type": "stream",
       "stream": "stdout",
       "text": [
        "\n",
        "Human classified class is: rho\n",
        "Predicted class is: alpha"
       ]
      },
      {
       "output_type": "stream",
       "stream": "stdout",
       "text": [
        "\n",
        "Human classified class is: rho\n",
        "Predicted class is: alpha"
       ]
      },
      {
       "output_type": "stream",
       "stream": "stdout",
       "text": [
        "\n",
        "Human classified class is: rho\n",
        "Predicted class is: alpha"
       ]
      },
      {
       "output_type": "stream",
       "stream": "stdout",
       "text": [
        "\n",
        "Human classified class is: rho\n",
        "Predicted class is: alpha"
       ]
      },
      {
       "output_type": "stream",
       "stream": "stdout",
       "text": [
        "\n",
        "Human classified class is: rho\n",
        "Predicted class is: alpha"
       ]
      },
      {
       "output_type": "stream",
       "stream": "stdout",
       "text": [
        "\n",
        "Human classified class is: rho\n",
        "Predicted class is: alpha"
       ]
      },
      {
       "output_type": "stream",
       "stream": "stdout",
       "text": [
        "\n",
        "Human classified class is: rho\n",
        "Predicted class is: alpha"
       ]
      },
      {
       "output_type": "stream",
       "stream": "stdout",
       "text": [
        "\n",
        "Human classified class is: rho\n",
        "Predicted class is: alpha"
       ]
      },
      {
       "output_type": "stream",
       "stream": "stdout",
       "text": [
        "\n",
        "Human classified class is: rho\n",
        "Predicted class is: alpha"
       ]
      },
      {
       "output_type": "stream",
       "stream": "stdout",
       "text": [
        "\n",
        "Human classified class is: rho\n",
        "Predicted class is: alpha"
       ]
      },
      {
       "output_type": "stream",
       "stream": "stdout",
       "text": [
        "\n",
        "Human classified class is: rho\n",
        "Predicted class is: alpha"
       ]
      },
      {
       "output_type": "stream",
       "stream": "stdout",
       "text": [
        "\n",
        "Human classified class is: beta\n",
        "Predicted class is: alpha"
       ]
      },
      {
       "output_type": "stream",
       "stream": "stdout",
       "text": [
        "\n",
        "Human classified class is: beta\n",
        "Predicted class is: alpha"
       ]
      },
      {
       "output_type": "stream",
       "stream": "stdout",
       "text": [
        "\n",
        "Human classified class is: beta\n",
        "Predicted class is: alpha"
       ]
      },
      {
       "output_type": "stream",
       "stream": "stdout",
       "text": [
        "\n",
        "Human classified class is: beta\n",
        "Predicted class is: alpha"
       ]
      },
      {
       "output_type": "stream",
       "stream": "stdout",
       "text": [
        "\n",
        "Human classified class is: beta\n",
        "Predicted class is: chi4"
       ]
      },
      {
       "output_type": "stream",
       "stream": "stdout",
       "text": [
        "\n",
        "Human classified class is: nu\n",
        "Predicted class is: chi4"
       ]
      },
      {
       "output_type": "stream",
       "stream": "stdout",
       "text": [
        "\n",
        "Human classified class is: nu\n"
       ]
      }
     ],
     "prompt_number": 101
    },
    {
     "cell_type": "code",
     "collapsed": false,
     "input": [
      "misclassifieds = []\n",
      "for i,(f, lpredict, ltrue, lc, hr) in enumerate(zip(features_new_val, labels_rfc, labels_val, lc_val, hr_val)):\n",
      "    if lpredict == ltrue:\n",
      "        continue\n",
      "    else:\n",
      "        misclassifieds.append([f, lpredict, ltrue, lc, hr])\n"
     ],
     "language": "python",
     "metadata": {},
     "outputs": [],
     "prompt_number": 31
    },
    {
     "cell_type": "code",
     "collapsed": false,
     "input": [
      "m = misclassifieds[0]\n",
      "f = m[0]\n",
      "lpredict = m[1]\n",
      "ltrue = m[2]\n",
      "times = m[3][0]\n",
      "counts = m[3][1]\n",
      "hr1 = m[4][0]\n",
      "hr2 = m[4][1]\n",
      "dt = np.min(np.diff(times))\n",
      "\n",
      "ps = powerspectrum.PowerSpectrum(times, counts=counts/dt, norm=\"rms\")\n",
      "ps.freq = np.array(ps.freq)\n",
      "ps.ps = np.array(ps.ps)*ps.freq\n",
      "\n",
      "binfreq = np.logspace(np.log10(ps.freq[1]), np.log10(ps.freq[-1]), 24)\n",
      "binps, bin_edges, binno = scipy.stats.binned_statistic(ps.freq[1:], ps.ps[1:], statistic=\"mean\", bins=binfreq)\n",
      "\n"
     ],
     "language": "python",
     "metadata": {},
     "outputs": [],
     "prompt_number": 55
    },
    {
     "cell_type": "markdown",
     "metadata": {},
     "source": [
      "## How Gaussian are my features?\n",
      "\n",
      "For a given class, I want to know how Gaussian my features are, because in the unsupervised part of the project, we're going to use a Gaussian Mixture Model (GMM) to specify the distribution of features into states. We're going to do that for the feature set that we have labels for only.\n",
      "\n",
      "So, for each state, we're now going to make histograms for each feature in order to gauge its Gaussianity. Double-peaked distributions are okay (these might separate out into separate states, or can be modeled by mixtures), but long-tailed distributions would be bad. "
     ]
    },
    {
     "cell_type": "code",
     "collapsed": false,
     "input": [
      "## combine feature set\n",
      "features_new_all = np.concatenate((features_new_train[:,:12], features_new_val[:,:12], features_new_test[:,:12]))\n",
      "labels_all = np.concatenate((labels_train, labels_val, labels_test))\n",
      "print(features_new_all.shape)"
     ],
     "language": "python",
     "metadata": {},
     "outputs": [
      {
       "output_type": "stream",
       "stream": "stdout",
       "text": [
        "(3024, 12)\n"
       ]
      }
     ],
     "prompt_number": 137
    },
    {
     "cell_type": "code",
     "collapsed": false,
     "input": [
      "## unique set of labels\n",
      "labels_unique = list(set(labels_all))\n",
      "print(labels_unique)\n",
      "\n",
      "feature_names = [\"HRCov 01\",\"PC1\", \"total variance\", \"maxfreq\", \"median cr\", \"PC2\", \"HR2 mean\", \"PSDa\", \"HRCov 00\",\n",
      "                 \"mean cr\", \"HRCov 11\", \"HRCov 10\"]\n"
     ],
     "language": "python",
     "metadata": {},
     "outputs": [
      {
       "output_type": "stream",
       "stream": "stdout",
       "text": [
        "['phi', 'kappa', 'alpha', 'chi2', 'chi3', 'chi1', 'chi4', 'mu', 'beta', 'rho', 'delta', 'theta', 'nu', 'gamma', 'lambda']\n"
       ]
      }
     ],
     "prompt_number": 148
    },
    {
     "cell_type": "code",
     "collapsed": false,
     "input": [
      "\n",
      "def plot_features(features_new_all, labels_all, feature_names, datadir=\"./\", froot=\"grs1915_features_\"):\n",
      "    labels_unique = list(set(labels_all))\n",
      "\n",
      "    for lab in labels_unique:\n",
      "        fl = np.array([f for f,l in zip(features_new_all, labels_all) if l == lab])\n",
      "\n",
      "        fig = plt.figure(figsize=(17,13))\n",
      "        nrows =3\n",
      "        ncolumns = 4\n",
      "\n",
      "        sns.set_style(\"white\")\n",
      "\n",
      "        ax = fig.add_subplot(111)\n",
      "        # Turn off axis lines and ticks of the big subplot\n",
      "\n",
      "        ax.spines['top'].set_color('none')\n",
      "        ax.spines['bottom'].set_color('none')\n",
      "        ax.spines['left'].set_color('none')\n",
      "        ax.spines['right'].set_color('none')\n",
      "        ax.tick_params(labelcolor='w', top='off', bottom='off', left='off', right='off')\n",
      "\n",
      "        sns.set_context(\"notebook\", font_scale=1.5, rc={\"axes.labelsize\": 16, \"text.usetex\":True, \"font.family\":\"serif\"})\n",
      "        sns.set_style(\"darkgrid\")\n",
      "        plt.rc(\"text\", usetex=True)\n",
      "        plt.rc(\"axes\", titlesize=20, labelsize=20) \n",
      "        plt.rc(\"font\", size=24, family=\"serif\", serif=\"Computer Sans\")\n",
      "\n",
      "        for i,fn in enumerate(feature_names):\n",
      "            f = fl[:,i]\n",
      "            ax1 = fig.add_subplot(nrows, ncolumns, i+1)\n",
      "            ax1.hist(f, bins=15, histtype=\"stepfilled\")\n",
      "            ax1.set_xlabel(fn)\n",
      "            #ax1.set_ylabel(\"p( \" + fn + \")\")\n",
      "            #ax1.get_xaxis().set_major_formatter(plt.LogFormatter(10,  labelOnlyBase=False))\n",
      "            #ax1.get_yaxis().set_major_formatter(plt.LogFormatter(10,  labelOnlyBase=False))\n",
      "\n",
      "        ax.set_title(\"Human class: \" + lab)\n",
      "        plt.savefig(datadir+froot+\"_%s.pdf\"%lab, format=\"pdf\")\n",
      "        plt.close()\n",
      "    return\n",
      "\n",
      "#plot_features(features_new_all, labels_all, feature_names, datadir=datadir)"
     ],
     "language": "python",
     "metadata": {},
     "outputs": [],
     "prompt_number": 172
    },
    {
     "cell_type": "markdown",
     "metadata": {},
     "source": [
      "Inspecting the plots shows that some of the features are asymmetric, and some have several peaks. We're not so worried about multiple peaks; that may be due to classes that separate out in the final classification.\n",
      "However, asymmetric distributions are a problem if we want to use simple Gaussians to fit the feature space. Thus, let's instead make the log-scale of some of the parameters, the ones that were asymmetric in most classes (inspected by eye).\n"
     ]
    },
    {
     "cell_type": "code",
     "collapsed": false,
     "input": [
      "## these are the features I should be making the log of\n",
      "logf_ind = [1, 2, 4, 5, 7, 8]\n",
      "\n",
      "features_log = np.zeros(features_new_all.shape)\n",
      "for i in range(features_new_all.shape[1]):\n",
      "    f = features_new_all[:,i]\n",
      "    if i in logf_ind:\n",
      "        features_log[:,i] = np.log(f)\n",
      "    else:\n",
      "        features_log[:,i] = f\n",
      "        "
     ],
     "language": "python",
     "metadata": {},
     "outputs": [],
     "prompt_number": 173
    },
    {
     "cell_type": "code",
     "collapsed": false,
     "input": [
      "plot_features(features_log, labels_all, feature_names, datadir=datadir, froot=\"grs1915_features_log\")"
     ],
     "language": "python",
     "metadata": {},
     "outputs": [],
     "prompt_number": 174
    },
    {
     "cell_type": "code",
     "collapsed": false,
     "input": [],
     "language": "python",
     "metadata": {},
     "outputs": []
    }
   ],
   "metadata": {}
  }
 ]
}