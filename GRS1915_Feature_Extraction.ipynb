{
 "metadata": {
  "name": "",
  "signature": "sha256:bce57e90f90b18f810b609f8e8cd42abfe42047f83788c11cfa74cea07d0ded0"
 },
 "nbformat": 3,
 "nbformat_minor": 0,
 "worksheets": [
  {
   "cells": [
    {
     "cell_type": "markdown",
     "metadata": {},
     "source": [
      "## Feature Extraction\n",
      "\n",
      "We're gonna need some features, so let's make some!\n",
      "\n",
      "For now, we'll have the following features to play with:\n",
      "- mean count rate `fmu`\n",
      "- variance in the total light curve `fvar`\n",
      "- integrated power in 4 bands: \n",
      "    - PA: 0.0039-0.031 Hz, \n",
      "    - PB: 0.031-0.25 Hz, \n",
      "    - PC: 0.25-2.0 Hz and \n",
      "    - PD: 2.0-16.0 Hz\n",
      "    - power colours: PC/PA and PB/PD\n",
      "- frequency at which maximum power is observed\n",
      "- hardness ratios in 2 bands (processed data only, NOT Standard 1 data)\n",
      "    - (2-6keV)/(2-13keV)\n",
      "    - (9-20kev)/(2-13keV)\n",
      "\n",
      "For now, we're returning the mean hardness ratio within a segment, but we could\n",
      "also return all hardness ratio points as a vector. This may be more descriptive,\n",
      "but also big.\n",
      "\n",
      "\n",
      "First, we'll need to load the data. This assumes that you've saved a pickle file with a list of $N$ light curves and states, `[[lc1, state1], [lc2, state2], ..., [lc_n, state_n]]`."
     ]
    },
    {
     "cell_type": "code",
     "collapsed": false,
     "input": [
      "%matplotlib inline\n",
      "import matplotlib.pyplot as plt\n",
      "import numpy as np\n",
      "import glob\n",
      "import cPickle as pickle\n",
      "import pandas as pd\n",
      "\n",
      "import powerspectrum\n"
     ],
     "language": "python",
     "metadata": {},
     "outputs": [
      {
       "output_type": "stream",
       "stream": "stderr",
       "text": [
        "/usr/lib/pymodules/python2.7/matplotlib/__init__.py:1173: UserWarning:  This call to matplotlib.use() has no effect\n",
        "because the backend has already been chosen;\n",
        "matplotlib.use() must be called *before* pylab, matplotlib.pyplot,\n",
        "or matplotlib.backends is imported for the first time.\n",
        "\n",
        "  warnings.warn(_use_error_msg)\n"
       ]
      }
     ],
     "prompt_number": 1
    },
    {
     "cell_type": "code",
     "collapsed": false,
     "input": [
      "f = open(\"grs1915_clean_label_125ms.dat\")\n",
      "d_all = pickle.load(f)\n",
      "f.close()"
     ],
     "language": "python",
     "metadata": {},
     "outputs": [],
     "prompt_number": 2
    },
    {
     "cell_type": "markdown",
     "metadata": {},
     "source": [
      "Let's break down the frequencies of states in these light curves. "
     ]
    },
    {
     "cell_type": "code",
     "collapsed": false,
     "input": [
      "print(\"Number of light curves:  \" + str(len(d_all)))\n",
      "states = [d[1] for d in d_all]\n",
      "st = pd.Series(states)\n",
      "st.value_counts()"
     ],
     "language": "python",
     "metadata": {},
     "outputs": [
      {
       "output_type": "stream",
       "stream": "stdout",
       "text": [
        "Number of light curves:  445\n"
       ]
      },
      {
       "metadata": {},
       "output_type": "pyout",
       "prompt_number": 3,
       "text": [
        "chi2      68\n",
        "chi4      47\n",
        "delta     40\n",
        "alpha     38\n",
        "gamma     32\n",
        "chi1      30\n",
        "beta      28\n",
        "nu        27\n",
        "mu        27\n",
        "rho       24\n",
        "phi       24\n",
        "theta     22\n",
        "lambda    17\n",
        "chi3      15\n",
        "kappa      6\n",
        "dtype: int64"
       ]
      }
     ],
     "prompt_number": 3
    },
    {
     "cell_type": "markdown",
     "metadata": {},
     "source": [
      "You can see that the classes are *fairly* evenly distributed, with $\\chi_2$ having the most light curves in their samples, and $\\kappa$ being undersampled. \n",
      "\n",
      "In the next step, we'll pick out training set, validation set and test set."
     ]
    },
    {
     "cell_type": "code",
     "collapsed": false,
     "input": [
      "## total number of light curves\n",
      "n_lcs = len(d_all)\n",
      "\n",
      "## shuffle list of light curves\n",
      "np.random.shuffle(d_all)\n",
      "\n",
      "train_frac = 0.5\n",
      "validation_frac = 0.25\n",
      "test_frac = 0.25\n",
      "\n",
      "## let's pull out light curves for three data sets into different variables.\n",
      "d_all_train = d_all[:int(train_frac*n_lcs)]\n",
      "d_all_val = d_all[int(train_frac*n_lcs):int((train_frac + validation_frac)*n_lcs)]\n",
      "d_all_test = d_all[int((train_frac + validation_frac)*n_lcs):]\n",
      "\n",
      "## Let's print some information about the three sets.\n",
      "print(\"There are %i light curves in the training set.\"%len(d_all_train))\n",
      "print(\"There are %i light curves in the validation set.\"%len(d_all_val))\n",
      "print(\"There are %i light curves in the test set.\"%len(d_all_test))\n",
      "for da,n in zip([d_all_train, d_all_val, d_all_test], [\"training\", \"validation\", \"test\"]):\n",
      "    print(\"These is the distribution of states in the %s set: \"%n)\n",
      "    states = [d[1] for d in da]\n",
      "    st = pd.Series(states)\n",
      "    print(st.value_counts())\n",
      "    print(\"================================================================\")"
     ],
     "language": "python",
     "metadata": {},
     "outputs": [
      {
       "output_type": "stream",
       "stream": "stdout",
       "text": [
        "There are 222 light curves in the training set.\n",
        "There are 111 light curves in the validation set.\n",
        "There are 112 light curves in the test set.\n",
        "These is the distribution of states in the training set: \n",
        "chi2      37\n",
        "delta     22\n",
        "chi4      19\n",
        "alpha     19\n",
        "chi1      17\n",
        "theta     16\n",
        "gamma     15\n",
        "mu        15\n",
        "nu        14\n",
        "rho       13\n",
        "beta      12\n",
        "chi3       7\n",
        "phi        7\n",
        "lambda     5\n",
        "kappa      4\n",
        "dtype: int64\n",
        "================================================================\n",
        "These is the distribution of states in the validation set: \n",
        "chi2      18\n",
        "chi4      15\n",
        "alpha      9\n",
        "mu         8\n",
        "phi        8\n",
        "gamma      7\n",
        "nu         7\n",
        "delta      7\n",
        "chi1       7\n",
        "chi3       7\n",
        "rho        6\n",
        "beta       6\n",
        "lambda     3\n",
        "theta      2\n",
        "kappa      1\n",
        "dtype: int64\n",
        "================================================================\n",
        "These is the distribution of states in the test set: \n",
        "chi4      13\n",
        "chi2      13\n",
        "delta     11\n",
        "gamma     10\n",
        "beta      10\n",
        "alpha     10\n",
        "lambda     9\n",
        "phi        9\n",
        "nu         6\n",
        "chi1       6\n",
        "rho        5\n",
        "theta      4\n",
        "mu         4\n",
        "chi3       1\n",
        "kappa      1\n",
        "dtype: int64\n",
        "================================================================\n"
       ]
      }
     ],
     "prompt_number": 4
    },
    {
     "cell_type": "markdown",
     "metadata": {},
     "source": [
      "As a next step, we can make light curve segments, overlapping or not, to then pass to feature extraction. "
     ]
    },
    {
     "cell_type": "code",
     "collapsed": false,
     "input": [
      "\n",
      "## This function is also in grs1915_utils.py!\n",
      "def extract_segments(d_all, seg_length = 256., overlap=64.):\n",
      "    \"\"\" Extract light curve segmens from a list of light curves. \n",
      "        Each element in the list is a list with two elements: \n",
      "        - an array that contains the light curve in three energy bands \n",
      "        (full, low energies, high energies) and \n",
      "        - a string containing the state of that light curve.\n",
      "        \n",
      "        The parameters are \n",
      "        - seg_length: the length of each segment. Bits of data at the end of a light curve\n",
      "        that are smaller than seg_length will not be included. \n",
      "        - overlap: This is actually the interval between start times of individual segments,\n",
      "        i.e. by default light curves start 64 seconds apart. The actual overlap is \n",
      "        seg_length-overlap\n",
      "    \"\"\"\n",
      "    segments, labels = [], [] ## labels for labelled data\n",
      "        \n",
      "    for i,d_seg in enumerate(d_all):\n",
      "        \n",
      "        ## data is an array in the first element of d_seg\n",
      "        data = d_seg[0]\n",
      "        ## state is a string in the second element of d_seg\n",
      "        state = d_seg[1]\n",
      "\n",
      "        ## compute the intervals between adjacent time bins\n",
      "        dt_data = data[1:,0] - data[:-1,0]\n",
      "        dt = np.min(dt_data)\n",
      "        #print(\"dt: \" + str(dt))\n",
      "        \n",
      "        ## compute the number of time bins in a segment\n",
      "        nseg = seg_length/dt\n",
      "        ## compute the number of time bins to start of next segment\n",
      "        noverlap = overlap/dt\n",
      "        \n",
      "        istart = 0\n",
      "        iend = nseg\n",
      "        j = 0\n",
      "     \n",
      "        while iend <= len(data):\n",
      "            dtemp = data[istart:iend]\n",
      "            segments.append(dtemp)\n",
      "            labels.append(state)\n",
      "            istart += noverlap\n",
      "            iend += noverlap\n",
      "            j+=1\n",
      "        \n",
      "    return segments, labels\n",
      "    \n",
      "    \n",
      "    "
     ],
     "language": "python",
     "metadata": {},
     "outputs": [],
     "prompt_number": 5
    },
    {
     "cell_type": "code",
     "collapsed": false,
     "input": [
      "seg_train, labels_train = extract_segments(d_all_train, seg_length=256., overlap=64.)\n",
      "seg_val, labels_val = extract_segments(d_all_val, seg_length=256., overlap=64.)\n",
      "seg_test, labels_test = extract_segments(d_all_test, seg_length=256., overlap=64.)\n",
      "\n",
      "## Let's print some details on the different segment data sets\n",
      "print(\"There are %i segments in the training set.\"%len(seg_train))\n",
      "print(\"There are %i segments in the validation set.\"%len(seg_val))\n",
      "print(\"There are %i segments in the test set.\"%len(seg_test))\n",
      "for la,n in zip([labels_train, labels_val, labels_test], [\"training\", \"validation\", \"test\"]):\n",
      "    print(\"These is the distribution of states in the %s set: \"%n)\n",
      "    st = pd.Series(la)\n",
      "    print(st.value_counts())\n",
      "    print(\"================================================================\")"
     ],
     "language": "python",
     "metadata": {},
     "outputs": [
      {
       "output_type": "stream",
       "stream": "stdout",
       "text": [
        "There are 5435 segments in the training set.\n",
        "There are 2428 segments in the validation set.\n",
        "There are 2652 segments in the test set.\n",
        "These is the distribution of states in the training set: \n",
        "chi2      1012\n",
        "chi1       626\n",
        "chi4       478\n",
        "rho        400\n",
        "alpha      386\n",
        "theta      377\n",
        "mu         369\n",
        "gamma      358\n",
        "beta       351\n",
        "delta      311\n",
        "nu         254\n",
        "phi        210\n",
        "chi3       137\n",
        "kappa       86\n",
        "lambda      80\n",
        "dtype: int64\n",
        "================================================================\n",
        "These is the distribution of states in the validation set: \n",
        "chi2      350\n",
        "chi4      309\n",
        "mu        247\n",
        "chi3      236\n",
        "alpha     194\n",
        "chi1      185\n",
        "gamma     174\n",
        "beta      174\n",
        "phi       137\n",
        "delta     132\n",
        "nu         84\n",
        "lambda     81\n",
        "rho        66\n",
        "kappa      49\n",
        "theta      10\n",
        "dtype: int64\n",
        "================================================================\n",
        "These is the distribution of states in the test set: \n",
        "chi2      330\n",
        "phi       299\n",
        "gamma     291\n",
        "delta     258\n",
        "chi4      252\n",
        "beta      235\n",
        "lambda    207\n",
        "alpha     182\n",
        "chi1      148\n",
        "theta     117\n",
        "rho       108\n",
        "nu        102\n",
        "mu         71\n",
        "kappa      40\n",
        "chi3       12\n",
        "dtype: int64\n",
        "================================================================\n"
       ]
      }
     ],
     "prompt_number": 6
    },
    {
     "cell_type": "markdown",
     "metadata": {},
     "source": [
      "And now, we can think about actual feature extraction.\n",
      "\n",
      "Let's make some functions to extract individual features from a segment. We can then combine them at will. \n",
      "\n",
      "First, we're going to extract time series features derived from the light curve and the periodogram: the mean, median and variance of the light curve, the integrated power in 4 power spectral bands and the two power colours. "
     ]
    },
    {
     "cell_type": "code",
     "collapsed": false,
     "input": [
      "## boundaries for power bands\n",
      "pcb = {\"pa_min\":0.0039, \"pa_max\":0.031, \n",
      "       \"pb_min\":0.031, \"pb_max\":0.25,\n",
      "       \"pc_min\":0.25, \"pc_max\":2.0,\n",
      "       \"pd_min\":2.0, \"pd_max\":16.0}\n",
      "\n",
      "def rebin_psd(freq, ps, n=10, type='average'):\n",
      "\n",
      "    nbins = int(len(freq)/n)\n",
      "    df = freq[1] - freq[0]\n",
      "    T = freq[-1] - freq[0] + df\n",
      "    bin_df = df*n\n",
      "    binfreq = np.arange(nbins)*bin_df + bin_df/2.0 + freq[0]\n",
      "\n",
      "    #print(\"len(ps): \" + str(len(ps)))\n",
      "    #print(\"n: \" + str(n))\n",
      "    \n",
      "    nbins_new = int(len(ps)/n)\n",
      "    ps_new = ps[:nbins_new*n]\n",
      "    binps = np.reshape(np.array(ps_new), (nbins_new, n))\n",
      "    binps = np.sum(binps, axis=1)\n",
      "    if type in [\"average\", \"mean\"]:\n",
      "        binps = binps/np.float(n)\n",
      "    else:\n",
      "        binps = binps\n",
      "\n",
      "    if len(binfreq) < len(binps):\n",
      "        binps= binps[:len(binfreq)]\n",
      "\n",
      "    return binfreq, binps\n",
      "\n",
      "def timeseries_features(seg):\n",
      "    times = seg[:,0]\n",
      "    counts = seg[:,1]\n",
      "    fmean = np.mean(counts)\n",
      "    fmedian = np.median(counts)\n",
      "    fvar = np.var(counts)\n",
      "    return fmean, fmedian, fvar\n",
      "\n",
      "\n",
      "def psd_features(seg, pcb):\n",
      "    \"\"\"\n",
      "    Computer PSD-based features.\n",
      "    seg: data slice of type [times, count rates, count rate error]^T\n",
      "    pcb: frequency bands to use for power colours\n",
      "    \"\"\"\n",
      "    \n",
      "    times = seg[:,0]\n",
      "    dt = times[1:] - times[:-1]\n",
      "    dt = np.min(dt)\n",
      "\n",
      "    counts = seg[:,1]*dt\n",
      "    #ps = powerspectrum.PowerSpectrum(times, counts=counts, norm=\"rms\")\n",
      "    freq, ps = make_psd(seg, navg=1)\n",
      "    #print(\"len(ps), before: \" + str(len(ps)))\n",
      "    if times[-1]-times[0] >= 2.*256.:\n",
      "        tlen = (times[-1]-times[0])\n",
      "        nrebin = np.round(tlen/256.)\n",
      "        freq, ps = rebin_psd(freq, ps, n=nrebin, type='average')\n",
      "    \n",
      "    #print(\"len(ps), after: \" + str(len(ps)))\n",
      "\n",
      "    freq = freq[1:]\n",
      "    ps = ps[1:]\n",
      "\n",
      "    fmax_ind = np.where(ps == np.max(ps))[0]\n",
      "    maxfreq = freq[fmax_ind[0]]\n",
      "\n",
      "    ## find power in spectral bands for power-colours\n",
      "    pa_min_freq = freq.searchsorted(pcb[\"pa_min\"])\n",
      "    pa_max_freq = freq.searchsorted(pcb[\"pa_max\"])\n",
      "\n",
      "    pb_min_freq = freq.searchsorted(pcb[\"pb_min\"])\n",
      "    pb_max_freq = freq.searchsorted(pcb[\"pb_max\"])\n",
      "\n",
      "    pc_min_freq = freq.searchsorted(pcb[\"pc_min\"])\n",
      "    pc_max_freq = freq.searchsorted(pcb[\"pc_max\"])\n",
      "\n",
      "    pd_min_freq = freq.searchsorted(pcb[\"pd_min\"])\n",
      "    pd_max_freq = freq.searchsorted(pcb[\"pd_max\"])\n",
      "\n",
      "    psd_a = np.sum(ps[pa_min_freq:pa_max_freq])\n",
      "    psd_b = np.sum(ps[pb_min_freq:pb_max_freq])\n",
      "    psd_c = np.sum(ps[pc_min_freq:pc_max_freq])\n",
      "    psd_d = np.sum(ps[pd_min_freq:pd_max_freq])\n",
      "    pc1 = np.sum(ps[pc_min_freq:pc_max_freq])/np.sum(ps[pa_min_freq:pa_max_freq])\n",
      "    pc2 = np.sum(ps[pb_min_freq:pb_max_freq])/np.sum(ps[pd_min_freq:pd_max_freq])\n",
      "    \n",
      "    return maxfreq, psd_a, psd_b, psd_c, psd_d, pc1, pc2\n",
      "\n",
      "\n",
      "def total_psd(seg, bins):\n",
      "    times = seg[:,0] \n",
      "    dt = times[1:] - times[:-1]\n",
      "    dt = np.min(dt)\n",
      "    counts = seg[:,1]*dt\n",
      "    \n",
      "    ps = powerspectrum.PowerSpectrum(times, counts=counts, norm=\"rms\")\n",
      "    binfreq = np.logspace(np.log10(ps.freq[1]), np.log10(ps.freq[-1]), bins)\n",
      "    binps, bin_edges, binno = scipy.stats.binned_statistic(ps.freq[1:], ps.ps[1:], statistic=\"mean\", bins=binfreq)\n",
      "    return binps\n",
      "    \n",
      "\n",
      "\n",
      "    "
     ],
     "language": "python",
     "metadata": {},
     "outputs": [],
     "prompt_number": 7
    },
    {
     "cell_type": "code",
     "collapsed": false,
     "input": [
      "def make_psd(segment, navg=1):\n",
      "    \n",
      "    times = segment[:,0]\n",
      "    dt = times[1:] - times[:-1]\n",
      "    dt = np.min(dt)\n",
      "\n",
      "    counts = segment[:,1]*dt\n",
      "    \n",
      "    tseg = times[-1]-times[0]\n",
      "    nlc = len(times)\n",
      "    nseg = int(nlc/navg) \n",
      "    \n",
      "    if navg == 1:\n",
      "        ps = powerspectrum.PowerSpectrum(times, counts=counts, norm=\"rms\")\n",
      "        return ps.freq, ps.ps\n",
      "    else:\n",
      "        ps_all = []\n",
      "        for n in xrange(navg):\n",
      "            t_small = times[n*nseg:(n+1)*nseg]\n",
      "            c_small = counts[n*nseg:(n+1)*nseg]\n",
      "            ps = powerspectrum.PowerSpectrum(t_small, counts=c_small, norm=\"rms\")\n",
      "            ps_all.append(ps.ps)\n",
      "        \n",
      "        #print(np.array(ps_all).shape) \n",
      "    \n",
      "        ps_all = np.average(np.array(ps_all), axis=0)\n",
      "\n",
      "        #print(ps_all.shape) \n",
      "    \n",
      "        return ps.freq, ps_all"
     ],
     "language": "python",
     "metadata": {},
     "outputs": [],
     "prompt_number": 8
    },
    {
     "cell_type": "markdown",
     "metadata": {},
     "source": [
      "Next, we'll write functions for hardness ratio based features.\n",
      "Note that the limits for the hardness ratio are derived from the *labelled data only*! We might need to check this again when we consider the whole sample!"
     ]
    },
    {
     "cell_type": "code",
     "collapsed": false,
     "input": [
      "import astroML.stats\n",
      "\n",
      "hr_limits = [[0.292, 0.820],[0.046, 0.708]]\n",
      "hid_limits = [[0.1, 1.5], [0.0, 6000.0]]\n",
      "\n",
      "def hr_maps(seg, hr_limits, bins=30):\n",
      "    times = seg[:,0]\n",
      "    counts = seg[:,1]\n",
      "    low_counts = seg[:,2]\n",
      "    high_counts = seg[:,3]\n",
      "    hr1 = low_counts/counts\n",
      "    hr2 = high_counts/counts\n",
      "    h, xedges, yedges = np.histogram2d(hr1, hr2, bins=bins, \n",
      "                                       range=hr_limits)\n",
      "    h = np.rot90(h)\n",
      "    h = np.flipud(h)\n",
      "    \n",
      "    return xedges, yedges, h\n",
      "\n",
      "def hr_fitting(seg):\n",
      "    times = seg[:,0]\n",
      "    counts = seg[:,1]\n",
      "    low_counts = seg[:,2]\n",
      "    high_counts = seg[:,3]\n",
      "    hr1 = low_counts/counts\n",
      "    hr2 = high_counts/counts\n",
      "\n",
      "    # compute the robust statistics\n",
      "    #(mu_r, sigma1_r,\n",
      "    # sigma2_r, alpha_r) = astroML.stats.fit_bivariate_normal(hr1, hr2, robust=True)\n",
      "    #if any(np.isnan(mu_r)) or np.isnan(sigma1_r) or np.isnan(sigma2_r) or np.isnan(alpha_r):\n",
      "    #    print(\"mu_r: \" + str(mu_r))\n",
      "    #    print(\"sigma1_r: \" + str(sigma1_r))\n",
      "    #    print(\"sigma2_r: \" + str(sigma2_r))\n",
      "    #    print(\"alpha_r: \" + str(alpha_r))\n",
      " \n",
      "    mu1 = np.mean(hr1)\n",
      "    mu2 = np.mean(hr2)\n",
      "    cov = np.cov(hr1, hr2)\n",
      "    return mu1, mu2, cov.flatten()\n",
      "#    return mu_r, sigma1_r, sigma2_r, alpha_r\n",
      "    \n",
      "def hid_maps(seg, hid_limits, bins=30):\n",
      "    times = seg[:,0]\n",
      "    counts = seg[:,1]\n",
      "    low_counts = seg[:,2]\n",
      "    high_counts = seg[:,3]\n",
      "    hr2 = high_counts/low_counts\n",
      "    h, xedges, yedges = np.histogram2d(hr2, counts, bins=bins, \n",
      "                                       range=hid_limits)\n",
      "    h = np.rot90(h)\n",
      "    h = np.flipud(h)\n",
      "    \n",
      "    return xedges, yedges, h\n"
     ],
     "language": "python",
     "metadata": {},
     "outputs": [],
     "prompt_number": 14
    },
    {
     "cell_type": "code",
     "collapsed": false,
     "input": [
      "def lcshape_features(seg, dt=1.0):\n",
      "    \n",
      "    times = seg[:,0]\n",
      "    counts = seg[:,1]\n",
      "\n",
      "    dt_small = times[1:]-times[:-1]\n",
      "    dt_small = np.min(dt_small)\n",
      "\n",
      "    nbins = np.round(dt/dt_small)\n",
      "\n",
      "    bintimes, bincounts = rebin_psd(times, counts, nbins)\n",
      "    \n",
      "    return bincounts\n",
      "\n",
      "def extract_lc(seg):\n",
      "    times = seg[:,0]\n",
      "    counts = seg[:,1]\n",
      "    low_counts = seg[:,2]\n",
      "    high_counts = seg[:,3]\n",
      "    hr1 = low_counts/counts\n",
      "    hr2 = high_counts/counts\n",
      "    return [times, counts, hr1, hr2]"
     ],
     "language": "python",
     "metadata": {},
     "outputs": [],
     "prompt_number": 13
    },
    {
     "cell_type": "markdown",
     "metadata": {},
     "source": [
      "Now we can use this code to extract some features:"
     ]
    },
    {
     "cell_type": "code",
     "collapsed": false,
     "input": [
      "def make_features(seg, bins=30, navg=4, lc=True, hr=True):\n",
      "    features = []\n",
      "    if lc:\n",
      "        lc_all = []\n",
      "    if hr:\n",
      "        hr_all = []\n",
      "    for s in seg:\n",
      "        features_temp = []\n",
      "        fmean, fmedian, fvar = timeseries_features(s)\n",
      "        features_temp.extend([fmean, fmedian, fvar])\n",
      "\n",
      "        maxfreq, psd_a, psd_b, psd_c, psd_d, pc1, pc2 = psd_features(s, pcb)\n",
      "        \n",
      "        \n",
      "        features_temp.extend([maxfreq, psd_a, psd_b, psd_c, psd_d, pc1, pc2])\n",
      "        \n",
      "        #whole_ps = total_psd(s,navg=navg)\n",
      "        #features_temp.extend(whole_ps[1:])\n",
      "\n",
      "        #lc = lcshape_features(s, dt=1.0)\n",
      "        #features_temp.extend(lc)\n",
      "        \n",
      "        #xedges, yedges, h = hr_maps(s, hr_limits, bins=bins)\n",
      "        #features_temp.extend(h.flatten())\n",
      "        mu1, mu2, cov = hr_fitting(s)\n",
      "        features_temp.extend([mu1, mu2])\n",
      "        features_temp.extend(cov)\n",
      "        \n",
      "        features.append(features_temp)\n",
      "        \n",
      "        if lc or hr:\n",
      "            lc_temp = extract_lc(s)\n",
      "        if lc:\n",
      "            #print(\"appending light curve\")\n",
      "            lc_all.append([lc_temp[0], lc_temp[1]])\n",
      "        if hr:\n",
      "            #print(\"appending hardness ratios\")\n",
      "            hr_all.append([lc_temp[2], lc_temp[3]])\n",
      "            \n",
      "    print(\"I am about to make a dictionary\")\n",
      "    fdict = {\"features\": features}\n",
      "    print(fdict.keys)\n",
      "    if lc:\n",
      "        print(\"I am in lc\")\n",
      "        #features.append(lc_all)\n",
      "        fdict[\"lc\"] = lc_all\n",
      "    if hr:\n",
      "        print(\"I am in hr\")\n",
      "        #features.append(hr_all)\n",
      "        fdict[\"hr\"] = hr_all\n",
      "    print(fdict.keys())\n",
      "    return fdict"
     ],
     "language": "python",
     "metadata": {},
     "outputs": [],
     "prompt_number": 27
    },
    {
     "cell_type": "code",
     "collapsed": false,
     "input": [
      "features_train = make_features(seg_train, bins=30, navg=4)\n",
      "features_val = make_features(seg_val, bins=30, navg=4)\n",
      "features_test = make_features(seg_test, bins=30, navg=4)\n",
      "\n",
      "#print(\"features_train: \" + str(features_train.shape))\n",
      "#print(\"features_val: \" + str(features_val.shape))\n",
      "#print(\"features_test: \" + str(features_test.shape))\n",
      "\n"
     ],
     "language": "python",
     "metadata": {},
     "outputs": [
      {
       "output_type": "stream",
       "stream": "stdout",
       "text": [
        "I am about to make a dictionary\n",
        "<built-in method keys of dict object at 0x7f02f81f9168>\n",
        "I am in lc\n",
        "I am in hr\n",
        "['hr', 'features', 'lc']\n",
        "I am about to make a dictionary"
       ]
      },
      {
       "output_type": "stream",
       "stream": "stdout",
       "text": [
        "\n",
        "<built-in method keys of dict object at 0x7f02f7932c58>\n",
        "I am in lc\n",
        "I am in hr\n",
        "['hr', 'features', 'lc']\n",
        "I am about to make a dictionary"
       ]
      },
      {
       "output_type": "stream",
       "stream": "stdout",
       "text": [
        "\n",
        "<built-in method keys of dict object at 0x7f02f81f9050>\n",
        "I am in lc\n",
        "I am in hr\n",
        "['hr', 'features', 'lc']\n"
       ]
      }
     ],
     "prompt_number": 28
    },
    {
     "cell_type": "code",
     "collapsed": false,
     "input": [
      "features_train.keys()"
     ],
     "language": "python",
     "metadata": {},
     "outputs": [
      {
       "metadata": {},
       "output_type": "pyout",
       "prompt_number": 29,
       "text": [
        "['hr', 'features', 'lc']"
       ]
      }
     ],
     "prompt_number": 29
    },
    {
     "cell_type": "markdown",
     "metadata": {},
     "source": [
      "Let's save our features in a pickle object for easy extraction in the next step. We're going to make a dictionary with keywords \"train\", \"test\", \"val\", each of which has a training vector and the corresponding labels. Rows are samples, columns features. "
     ]
    },
    {
     "cell_type": "code",
     "collapsed": false,
     "input": [
      "labelled_features = {\"train\": [features_train, labels_train],\n",
      "                     \"val\": [features_val, labels_val],\n",
      "                     \"test\": [features_test, labels_test]}"
     ],
     "language": "python",
     "metadata": {},
     "outputs": [],
     "prompt_number": 30
    },
    {
     "cell_type": "code",
     "collapsed": false,
     "input": [
      "f = open(\"grs1915_labelled_features_30bins.dat\", \"w\")\n",
      "pickle.dump(labelled_features, f)\n",
      "f.close()\n"
     ],
     "language": "python",
     "metadata": {},
     "outputs": [],
     "prompt_number": 31
    },
    {
     "cell_type": "code",
     "collapsed": false,
     "input": [
      "\n",
      "for i,f in enumerate(features_train[\"features\"]):\n",
      "\n",
      "    if any(np.isnan(f)):\n",
      "        print(\"NaN in sample row %i\"%i)\n",
      "    if any(np.isinf(f)):\n",
      "        print(\"inf sample row %i\"%i)"
     ],
     "language": "python",
     "metadata": {},
     "outputs": [],
     "prompt_number": 38
    },
    {
     "cell_type": "markdown",
     "metadata": {},
     "source": [
      "# Feature Extraction for both labelled and unlabelled data\n",
      "\n",
      "Because I have so many big data files, I need to be a bit careful with the feature extraction for *all* data. Also, at least for the supervised classification, I want to separate labelled and unlabelled data for training/validation/testing purposes. This is what I'll attempt below. "
     ]
    },
    {
     "cell_type": "code",
     "collapsed": false,
     "input": [
      "## first, make a list of light curves\n",
      "files = glob.glob(\"LC_*combined.dat\")\n",
      "print(\"There are %i observation files.\"%len(files))"
     ],
     "language": "python",
     "metadata": {},
     "outputs": [
      {
       "output_type": "stream",
       "stream": "stdout",
       "text": [
        "There are 1706 observation files.\n"
       ]
      }
     ],
     "prompt_number": 8
    },
    {
     "cell_type": "markdown",
     "metadata": {},
     "source": [
      "First, we define a helper function that goes through each observation, finds data gaps and splits the data along these gaps into uneven segments."
     ]
    },
    {
     "cell_type": "code",
     "collapsed": false,
     "input": [
      "import generaltools as gt\n",
      "\n",
      "## split light curves into segments without gaps\n",
      "def remove_gaps(d, state):\n",
      "        \n",
      "    dt_data = d[1:,0]-d[:-1,0]\n",
      "    dt_min = np.min(dt_data)\n",
      "    print(\"dt_min: \" + str(dt_min))\n",
      "    tol = dt_min*0.01\n",
      "    \n",
      "    ### split data with breaks\n",
      "    breaks = np.where(dt_data > dt_min+tol)[0]\n",
      "    #print(breaks)\n",
      "    d_all = []\n",
      "    \n",
      "    if len(breaks) == 0:\n",
      "        dtemp = d\n",
      "        d_all.append([dtemp, state])\n",
      "    else:\n",
      "        for i,b in enumerate(breaks):\n",
      "            #print(\"Break in light curve at time bin %i; length of break dt = %.3f\"%(b, dt_data[b]))\n",
      "            if i == 0:\n",
      "                if b == 0:\n",
      "                    #print(\"First break is at first time bin\")\n",
      "                    continue\n",
      "                else:\n",
      "                    #print(\"I am extracting the data before the break\")\n",
      "                    dtemp = d[:b]\n",
      "\n",
      "            else:\n",
      "                #print(\"I am extracting data after break \" + str(i))\n",
      "                dtemp = d[breaks[i-1]+1:b]\n",
      "\n",
      "            d_all.append([dtemp, state])\n",
      "\n",
      "        ## last segment\n",
      "        #print(\"I am computing last segment of file\")\n",
      "        dtemp = d[b+1:]\n",
      "        d_all.append([dtemp, state])\n",
      "\n",
      "    return d_all\n",
      "\n",
      "## helper function that bins light curves\n",
      "def bin_lightcurve(dtemp, nbins):\n",
      "    tbinned_times, tbinned_counts = gt.rebin_lightcurve(dtemp[:,0], dtemp[:,1], n=nbins, type=\"average\")\n",
      "    #print(\"dt: \" + str(tbinned_times[1]-tbinned_times[0]))\n",
      "    lbinned_times, lbinned_counts = gt.rebin_lightcurve(dtemp[:,0], dtemp[:,2], n=nbins, type=\"average\")\n",
      "    hbinned_times, hbinned_counts = gt.rebin_lightcurve(dtemp[:,0], dtemp[:,3], n=nbins, type=\"average\")\n",
      "    dshort = np.transpose(np.array([tbinned_times, tbinned_counts, lbinned_counts, hbinned_counts]))\n",
      "    return dshort\n",
      "\n",
      "\n"
     ],
     "language": "python",
     "metadata": {},
     "outputs": [],
     "prompt_number": 9
    },
    {
     "cell_type": "markdown",
     "metadata": {},
     "source": [
      "Below is the function that actually does all the feature extraction. Note that for extracting different features, you'll need to change those in the function below. I might make that more robust in the future."
     ]
    },
    {
     "cell_type": "code",
     "collapsed": false,
     "input": [
      "import convert_belloni \n",
      "\n",
      "def make_features_all(files, subset=\"all\", labels=None, bin_data=True, bin_dt=0.125,\n",
      "                      seg_length=256., overlap=64., bins=30, navg=4):\n",
      "    \"\"\"\n",
      "    Extract features from light curves in files.\n",
      "    subset can be \"all\", \"labelled\", \"unlabelled\" to extract either\n",
      "    the entire set in files, those with labels or those without.\n",
      "    \"\"\"\n",
      "    \n",
      "    ## for labelled data, extract list with labels\n",
      "    #belloni_states = convert_belloni.main()\n",
      "    #belloni_turned = turn_states(belloni_states)\n",
      "    belloni_turned = convert_belloni.convert_belloni_clean()\n",
      "\n",
      "    ## lists for the features and labels\n",
      "    features_all = []\n",
      "    labels_all = []\n",
      "    \n",
      "    ## loop over all files\n",
      "    for i,f in enumerate(files):\n",
      "        print(\"I am on file %i with filename %s \"%(i,f))\n",
      "\n",
      "        ## figure out whether a state exists for this observation\n",
      "        fstring = f.split(\"_\")[1]\n",
      "        if fstring in belloni_turned:\n",
      "            state = belloni_turned[fstring]\n",
      "            if subset == \"unlabelled\":\n",
      "                continue\n",
      "        else:\n",
      "            state = None\n",
      "            if subset == \"labelled\":\n",
      "                continue\n",
      "        \n",
      "        ## load data\n",
      "        d = np.loadtxt(f)\n",
      "        \n",
      "        ## remove gaps from observation, makes a list of \n",
      "        ## uneven segments split along data gaps\n",
      "        d_all = remove_gaps(d, state)\n",
      "        \n",
      "        ## loop over all segments to extract features\n",
      "        features_temp, labels_temp = [], []\n",
      "        \n",
      "        ## if bin_data is True, bin light curves to \n",
      "        ## resolution specified in bin_dt\n",
      "        if bin_data:\n",
      "            d_all_bin = []\n",
      "            for da in d_all:\n",
      "                print(\"len(da[0]): \" + str(len(da[0])))\n",
      "                if len(da[0]) < 2:\n",
      "                    continue\n",
      "                dt_data = da[0][1:,0]-da[0][:-1,0]\n",
      "                dt_data = np.min(dt_data)\n",
      "                nbins = np.round(bin_dt/dt_data)\n",
      "                dtemp = bin_lightcurve(da[0], nbins)\n",
      "                d_all_bin.append([dtemp, da[1]])\n",
      "            \n",
      "            d_all = d_all_bin\n",
      "        \n",
      "        \n",
      "        ## next, extract even-length segments\n",
      "        seg, labels = extract_segments(d_all, seg_length, overlap)\n",
      "\n",
      "        labels_all.extend(labels)\n",
      "        features_temp = make_features(seg, bins=30, navg=4)\n",
      "        print(\"Feature shape: \" + str(features_temp.shape))\n",
      "        features_all.extend(list(features_temp))\n",
      "    \n",
      "    return np.array(features_all), labels_all"
     ],
     "language": "python",
     "metadata": {},
     "outputs": [],
     "prompt_number": 10
    },
    {
     "cell_type": "markdown",
     "metadata": {},
     "source": [
      "First, let's extract all the unlabelled features."
     ]
    },
    {
     "cell_type": "code",
     "collapsed": false,
     "input": [
      "f_unlabelled, l_unlabelled = make_features_all(files, subset=\"unlabelled\", labels=None, bin_data=True, bin_dt=0.125,\n",
      "                      seg_length=256., overlap=64., bins=30, navg=4)\n",
      "\n"
     ],
     "language": "python",
     "metadata": {},
     "outputs": [
      {
       "output_type": "stream",
       "stream": "stdout",
       "text": [
        "I am on file 0 with filename LC_80701-01-01-00_combined.dat \n",
        "dt_min: 0.00781249999989"
       ]
      },
      {
       "output_type": "stream",
       "stream": "stdout",
       "text": [
        "\n",
        "len(da[0]): 196607\n",
        "Feature shape: (20, 910)"
       ]
      },
      {
       "output_type": "stream",
       "stream": "stdout",
       "text": [
        "\n",
        "I am on file 1 with filename LC_93701-01-38-00_combined.dat \n",
        "dt_min: 0.00781249999989"
       ]
      },
      {
       "output_type": "stream",
       "stream": "stdout",
       "text": [
        "\n",
        "len(da[0]): 145407\n",
        "Feature shape: (14, 910)"
       ]
      },
      {
       "output_type": "stream",
       "stream": "stdout",
       "text": [
        "\n",
        "I am on file 2 with filename LC_40703-01-28-01_combined.dat \n",
        "dt_min: 0.00781249999989"
       ]
      },
      {
       "output_type": "stream",
       "stream": "stdout",
       "text": [
        "\n",
        "len(da[0]): 139263\n",
        "Feature shape: (13, 910)"
       ]
      },
      {
       "output_type": "stream",
       "stream": "stdout",
       "text": [
        "\n",
        "I am on file 3 with filename LC_40115-01-10-01_combined.dat \n",
        "dt_min: 0.00781249999989"
       ]
      },
      {
       "output_type": "stream",
       "stream": "stdout",
       "text": [
        "\n",
        "len(da[0]): 219135\n",
        "Feature shape: (23, 910)"
       ]
      },
      {
       "output_type": "stream",
       "stream": "stdout",
       "text": [
        "\n",
        "I am on file 4 with filename LC_80701-01-10-01_combined.dat \n",
        "dt_min: 0.00781249999989"
       ]
      },
      {
       "output_type": "stream",
       "stream": "stdout",
       "text": [
        "\n",
        "len(da[0]): 108543\n",
        "Feature shape: (10, 910)\n",
        "I am on file 5 with filename LC_90701-01-35-01_combined.dat \n",
        "dt_min: 0.00781249999994"
       ]
      },
      {
       "output_type": "stream",
       "stream": "stdout",
       "text": [
        "\n",
        "len(da[0]): 102399\n",
        "Feature shape: (9, 910)\n",
        "I am on file 6 with filename LC_90105-09-01-00_combined.dat \n",
        "dt_min: 0.00390624999989"
       ]
      },
      {
       "output_type": "stream",
       "stream": "stdout",
       "text": [
        "\n",
        "len(da[0]): 765950\n",
        "len(da[0]): 299007\n",
        "Feature shape: (58, 910)"
       ]
      },
      {
       "output_type": "stream",
       "stream": "stdout",
       "text": [
        "\n",
        "I am on file 7 with filename LC_93701-01-42-00_combined.dat \n",
        "dt_min: 0.00781249999989"
       ]
      },
      {
       "output_type": "stream",
       "stream": "stdout",
       "text": [
        "\n",
        "len(da[0]): 384127\n",
        "Feature shape: (43, 910)"
       ]
      },
      {
       "output_type": "stream",
       "stream": "stdout",
       "text": [
        "\n",
        "I am on file 8 with filename LC_30703-01-35-00_combined.dat \n",
        "dt_min: 0.00781249999989"
       ]
      },
      {
       "output_type": "stream",
       "stream": "stdout",
       "text": [
        "\n",
        "len(da[0]): 421886\n",
        "len(da[0]): 64765\n",
        "len(da[0]): 130045\n",
        "len(da[0]): 40703\n",
        "Feature shape: (65, 910)"
       ]
      },
      {
       "output_type": "stream",
       "stream": "stdout",
       "text": [
        "\n",
        "I am on file 9 with filename LC_40703-01-42-02_combined.dat \n",
        "dt_min: 0.00781249999994"
       ]
      },
      {
       "output_type": "stream",
       "stream": "stdout",
       "text": [
        "\n",
        "len(da[0]): 116735\n",
        "Feature shape: (11, 910)"
       ]
      },
      {
       "output_type": "stream",
       "stream": "stdout",
       "text": [
        "\n",
        "I am on file 10 with filename LC_95701-01-03-01_combined.dat \n",
        "dt_min: 0.00781249999977"
       ]
      },
      {
       "output_type": "stream",
       "stream": "stdout",
       "text": [
        "\n",
        "len(da[0]): 192511\n",
        "Feature shape: (20, 910)"
       ]
      },
      {
       "output_type": "stream",
       "stream": "stdout",
       "text": [
        "\n",
        "I am on file 11 with filename LC_91701-01-59-01_combined.dat \n",
        "dt_min: 0.00781249999989"
       ]
      },
      {
       "output_type": "stream",
       "stream": "stdout",
       "text": [
        "\n",
        "len(da[0]): 143359\n",
        "Feature shape: (14, 910)"
       ]
      },
      {
       "output_type": "stream",
       "stream": "stdout",
       "text": [
        "\n",
        "I am on file 12 with filename LC_30182-01-01-01_combined.dat \n",
        "dt_min: 0.00781249999999"
       ]
      },
      {
       "output_type": "stream",
       "stream": "stdout",
       "text": [
        "\n",
        "len(da[0]): 44797\n",
        "len(da[0]): 48383\n",
        "Feature shape: (4, 910)\n",
        "I am on file 13 with filename LC_40703-01-40-01_combined.dat \n",
        "dt_min: 0.00781249999999"
       ]
      },
      {
       "output_type": "stream",
       "stream": "stdout",
       "text": [
        "\n",
        "len(da[0]): 126462\n",
        "len(da[0]): 118783\n",
        "Feature shape: (23, 910)"
       ]
      },
      {
       "output_type": "stream",
       "stream": "stdout",
       "text": [
        "\n",
        "I am on file 14 with filename LC_95701-01-11-00_combined.dat \n",
        "dt_min: 0.00781249999977"
       ]
      },
      {
       "output_type": "stream",
       "stream": "stdout",
       "text": [
        "\n",
        "len(da[0]): 182271\n",
        "Feature shape: (19, 910)"
       ]
      },
      {
       "output_type": "stream",
       "stream": "stdout",
       "text": [
        "\n",
        "I am on file 15 with filename LC_50703-01-39-02_combined.dat \n",
        "dt_min: 0.00781249999999"
       ]
      },
      {
       "output_type": "stream",
       "stream": "stdout",
       "text": [
        "\n",
        "len(da[0]): 59391\n",
        "Feature shape: (4, 910)\n",
        "I am on file 16 with filename LC_90105-08-02-00_combined.dat \n",
        "dt_min: 0.00390624999989"
       ]
      },
      {
       "output_type": "stream",
       "stream": "stdout",
       "text": [
        "\n",
        "len(da[0]): 696318\n",
        "len(da[0]): 487423\n",
        "Feature shape: (65, 910)"
       ]
      },
      {
       "output_type": "stream",
       "stream": "stdout",
       "text": [
        "\n",
        "I am on file 17 with filename LC_80701-01-43-00_combined.dat \n",
        "dt_min: 0.00781249999989"
       ]
      },
      {
       "output_type": "stream",
       "stream": "stdout",
       "text": [
        "\n",
        "len(da[0]): 153599\n",
        "Feature shape: (15, 910)"
       ]
      },
      {
       "output_type": "stream",
       "stream": "stdout",
       "text": [
        "\n",
        "I am on file 18 with filename LC_10408-01-35-00_combined.dat \n",
        "I am on file 19 with filename LC_90024-02-41-00_combined.dat \n",
        "dt_min: 0.00390624999999"
       ]
      },
      {
       "output_type": "stream",
       "stream": "stdout",
       "text": [
        "\n",
        "len(da[0]): 203519\n",
        "Feature shape: (9, 910)\n",
        "I am on file 20 with filename LC_70702-01-24-00_combined.dat \n",
        "dt_min: 0.00781249999989"
       ]
      },
      {
       "output_type": "stream",
       "stream": "stdout",
       "text": [
        "\n",
        "len(da[0]): 417791\n",
        "Feature shape: (47, 910)"
       ]
      },
      {
       "output_type": "stream",
       "stream": "stdout",
       "text": [
        "\n",
        "I am on file 21 with filename LC_20186-03-02-01_combined.dat \n",
        "dt_min: 0.00781249999818"
       ]
      },
      {
       "output_type": "stream",
       "stream": "stdout",
       "text": [
        "\n",
        "len(da[0]): 354302\n",
        "len(da[0]): 122749\n",
        "len(da[0]): 276989\n",
        "len(da[0]): 22142\n",
        "len(da[0]): 423934\n",
        "len(da[0]): 423934"
       ]
      },
      {
       "output_type": "stream",
       "stream": "stdout",
       "text": [
        "\n",
        "len(da[0]): 57725\n",
        "len(da[0]): 266751\n",
        "Feature shape: (210, 910)"
       ]
      },
      {
       "output_type": "stream",
       "stream": "stdout",
       "text": [
        "\n",
        "I am on file 22 with filename LC_50703-01-10-01_combined.dat \n",
        "dt_min: 0.00781249999994"
       ]
      },
      {
       "output_type": "stream",
       "stream": "stdout",
       "text": [
        "\n",
        "len(da[0]): 129023\n",
        "Feature shape: (12, 910)"
       ]
      },
      {
       "output_type": "stream",
       "stream": "stdout",
       "text": [
        "\n",
        "I am on file 23 with filename LC_93411-01-03-04_combined.dat \n",
        "dt_min: 0.00781249999989"
       ]
      },
      {
       "output_type": "stream",
       "stream": "stdout",
       "text": [
        "\n",
        "len(da[0]): 296447\n",
        "Feature shape: (33, 910)"
       ]
      },
      {
       "output_type": "stream",
       "stream": "stdout",
       "text": [
        "\n",
        "I am on file 24 with filename LC_96701-01-48-00_combined.dat \n",
        "dt_min: 0.00781249999977"
       ]
      },
      {
       "output_type": "stream",
       "stream": "stdout",
       "text": [
        "\n",
        "len(da[0]): 376831\n",
        "Feature shape: (42, 910)"
       ]
      },
      {
       "output_type": "stream",
       "stream": "stdout",
       "text": [
        "\n",
        "I am on file 25 with filename LC_70702-01-41-01_combined.dat \n",
        "dt_min: 0.00781249999989"
       ]
      },
      {
       "output_type": "stream",
       "stream": "stdout",
       "text": [
        "\n",
        "len(da[0]): 157567\n",
        "Feature shape: (16, 910)"
       ]
      },
      {
       "output_type": "stream",
       "stream": "stdout",
       "text": [
        "\n",
        "I am on file 26 with filename LC_90024-02-39-00_combined.dat \n",
        "dt_min: 0.00390624999999"
       ]
      },
      {
       "output_type": "stream",
       "stream": "stdout",
       "text": [
        "\n",
        "len(da[0]): 163839\n",
        "Feature shape: (6, 910)\n",
        "I am on file 27 with filename LC_10408-01-22-02_combined.dat \n",
        "dt_min: 0.00390624999977"
       ]
      },
      {
       "output_type": "stream",
       "stream": "stdout",
       "text": [
        "\n",
        "len(da[0]): 847870\n",
        "len(da[0]): 16383\n",
        "Feature shape: (48, 910)"
       ]
      },
      {
       "output_type": "stream",
       "stream": "stdout",
       "text": [
        "\n",
        "I am on file 28 with filename LC_80701-01-39-00_combined.dat \n",
        "dt_min: 0.00781249999989"
       ]
      },
      {
       "output_type": "stream",
       "stream": "stdout",
       "text": [
        "\n",
        "len(da[0]): 325631\n",
        "Feature shape: (36, 910)"
       ]
      },
      {
       "output_type": "stream",
       "stream": "stdout",
       "text": [
        "\n",
        "I am on file 29 with filename LC_50703-01-02-01_combined.dat \n",
        "dt_min: 0.00781249999989"
       ]
      },
      {
       "output_type": "stream",
       "stream": "stdout",
       "text": [
        "\n",
        "len(da[0]): 136830\n",
        "len(da[0]): 26623\n",
        "Feature shape: (13, 910)"
       ]
      },
      {
       "output_type": "stream",
       "stream": "stdout",
       "text": [
        "\n",
        "I am on file 30 with filename LC_90701-01-02-02_combined.dat \n",
        "dt_min: 0.00781249999989"
       ]
      },
      {
       "output_type": "stream",
       "stream": "stdout",
       "text": [
        "\n",
        "len(da[0]): 240127\n",
        "Feature shape: (26, 910)"
       ]
      },
      {
       "output_type": "stream",
       "stream": "stdout",
       "text": [
        "\n",
        "I am on file 31 with filename LC_80127-04-02-00_combined.dat \n",
        "dt_min: 0.00390624999818"
       ]
      },
      {
       "output_type": "stream",
       "stream": "stdout",
       "text": [
        "\n",
        "len(da[0]): 806910\n",
        "len(da[0]): 782334\n",
        "len(da[0]): 729086"
       ]
      },
      {
       "output_type": "stream",
       "stream": "stdout",
       "text": [
        "\n",
        "len(da[0]): 671742\n",
        "len(da[0]): 548863\n",
        "Feature shape: (198, 910)"
       ]
      },
      {
       "output_type": "stream",
       "stream": "stdout",
       "text": [
        "\n",
        "I am on file 32 with filename LC_90701-01-24-01_combined.dat \n",
        "dt_min: 0.00781249999989"
       ]
      },
      {
       "output_type": "stream",
       "stream": "stdout",
       "text": [
        "\n",
        "len(da[0]): 311294\n",
        "len(da[0]): 411647\n",
        "Feature shape: (81, 910)"
       ]
      },
      {
       "output_type": "stream",
       "stream": "stdout",
       "text": [
        "\n",
        "I am on file 33 with filename LC_50703-01-47-00_combined.dat \n",
        "dt_min: 0.00781249999989"
       ]
      },
      {
       "output_type": "stream",
       "stream": "stdout",
       "text": [
        "\n",
        "len(da[0]): 217087\n",
        "Feature shape: (23, 910)"
       ]
      },
      {
       "output_type": "stream",
       "stream": "stdout",
       "text": [
        "\n",
        "I am on file 34 with filename LC_90024-02-28-00_combined.dat \n",
        "dt_min: 0.00390624999999"
       ]
      },
      {
       "output_type": "stream",
       "stream": "stdout",
       "text": [
        "\n",
        "len(da[0]): 155647\n",
        "Feature shape: (6, 910)\n",
        "I am on file 35 with filename LC_40403-01-06-03_combined.dat \n",
        "dt_min: 0.00781249999989"
       ]
      },
      {
       "output_type": "stream",
       "stream": "stdout",
       "text": [
        "\n",
        "len(da[0]): 380671\n",
        "Feature shape: (43, 910)"
       ]
      },
      {
       "output_type": "stream",
       "stream": "stdout",
       "text": [
        "\n",
        "I am on file 36 with filename LC_30402-01-14-00_combined.dat \n",
        "dt_min: 0.00781249999989"
       ]
      },
      {
       "output_type": "stream",
       "stream": "stdout",
       "text": [
        "\n",
        "len(da[0]): 253950\n",
        "len(da[0]): 32766\n",
        "len(da[0]): 188414\n",
        "len(da[0]): 307199\n",
        "Feature shape: (80, 910)"
       ]
      },
      {
       "output_type": "stream",
       "stream": "stdout",
       "text": [
        "\n",
        "I am on file 37 with filename LC_40703-01-41-03_combined.dat \n",
        "dt_min: 0.00781249999994"
       ]
      },
      {
       "output_type": "stream",
       "stream": "stdout",
       "text": [
        "\n",
        "len(da[0]): 95871\n",
        "Feature shape: (8, 910)\n",
        "I am on file 38 with filename LC_95701-01-12-00_combined.dat \n",
        "dt_min: 0.00781249999989"
       ]
      },
      {
       "output_type": "stream",
       "stream": "stdout",
       "text": [
        "\n",
        "len(da[0]): 389119\n",
        "Feature shape: (44, 910)"
       ]
      },
      {
       "output_type": "stream",
       "stream": "stdout",
       "text": [
        "\n",
        "I am on file 39 with filename LC_91701-01-42-01_combined.dat \n",
        "dt_min: 0.00781249999989"
       ]
      },
      {
       "output_type": "stream",
       "stream": "stdout",
       "text": [
        "\n",
        "len(da[0]): 366335\n",
        "Feature shape: (41, 910)"
       ]
      },
      {
       "output_type": "stream",
       "stream": "stdout",
       "text": [
        "\n",
        "I am on file 40 with filename LC_50125-01-01-01_combined.dat \n",
        "dt_min: 0.00781249999989"
       ]
      },
      {
       "output_type": "stream",
       "stream": "stdout",
       "text": [
        "\n",
        "len(da[0]): 233471\n",
        "Feature shape: (25, 910)"
       ]
      },
      {
       "output_type": "stream",
       "stream": "stdout",
       "text": [
        "\n",
        "I am on file 41 with filename LC_80701-01-54-00_combined.dat \n",
        "dt_min: 0.00781249999989"
       ]
      },
      {
       "output_type": "stream",
       "stream": "stdout",
       "text": [
        "\n",
        "len(da[0]): 202751\n",
        "Feature shape: (21, 910)"
       ]
      },
      {
       "output_type": "stream",
       "stream": "stdout",
       "text": [
        "\n",
        "I am on file 42 with filename LC_92702-01-06-00_combined.dat \n",
        "dt_min: 0.00781249999989"
       ]
      },
      {
       "output_type": "stream",
       "stream": "stdout",
       "text": [
        "\n",
        "len(da[0]): 159743\n",
        "Feature shape: (16, 910)"
       ]
      },
      {
       "output_type": "stream",
       "stream": "stdout",
       "text": [
        "\n",
        "I am on file 43 with filename LC_80127-01-03-00_combined.dat \n",
        "dt_min: 0.00390624999818"
       ]
      },
      {
       "output_type": "stream",
       "stream": "stdout",
       "text": [
        "\n",
        "len(da[0]): 815102\n",
        "len(da[0]): 811006\n",
        "len(da[0]): 692223"
       ]
      },
      {
       "output_type": "stream",
       "stream": "stdout",
       "text": [
        "\n",
        "Feature shape: (131, 910)"
       ]
      },
      {
       "output_type": "stream",
       "stream": "stdout",
       "text": [
        "\n",
        "I am on file 44 with filename LC_40703-01-37-00_combined.dat \n",
        "dt_min: 0.00781249999989"
       ]
      },
      {
       "output_type": "stream",
       "stream": "stdout",
       "text": [
        "\n",
        "len(da[0]): 24062\n",
        "len(da[0]): 261630\n",
        "Feature shape: (28, 910)"
       ]
      },
      {
       "output_type": "stream",
       "stream": "stdout",
       "text": [
        "\n",
        "I am on file 45 with filename LC_80127-05-06-00_combined.dat \n",
        "dt_min: 0.00390624999989"
       ]
      },
      {
       "output_type": "stream",
       "stream": "stdout",
       "text": [
        "\n",
        "len(da[0]): 679934\n",
        "len(da[0]): 421887\n",
        "Feature shape: (60, 910)"
       ]
      },
      {
       "output_type": "stream",
       "stream": "stdout",
       "text": [
        "\n",
        "I am on file 46 with filename LC_70703-01-01-14_combined.dat \n",
        "dt_min: 0.00781249999818"
       ]
      },
      {
       "output_type": "stream",
       "stream": "stdout",
       "text": [
        "\n",
        "len(da[0]): 419838\n",
        "len(da[0]): 210942\n",
        "len(da[0]): 159742\n",
        "len(da[0]): 188415\n",
        "Feature shape: (105, 910)"
       ]
      },
      {
       "output_type": "stream",
       "stream": "stdout",
       "text": [
        "\n",
        "I am on file 47 with filename LC_92702-01-08-01_combined.dat \n",
        "dt_min: 0.00781249999989"
       ]
      },
      {
       "output_type": "stream",
       "stream": "stdout",
       "text": [
        "\n",
        "len(da[0]): 215039\n",
        "Feature shape: (23, 910)"
       ]
      },
      {
       "output_type": "stream",
       "stream": "stdout",
       "text": [
        "\n",
        "I am on file 48 with filename LC_40703-01-38-00_combined.dat \n",
        "dt_min: 0.00781249999989"
       ]
      },
      {
       "output_type": "stream",
       "stream": "stdout",
       "text": [
        "\n",
        "len(da[0]): 290815\n",
        "Feature shape: (32, 910)"
       ]
      },
      {
       "output_type": "stream",
       "stream": "stdout",
       "text": [
        "\n",
        "I am on file 49 with filename LC_80701-01-60-01_combined.dat \n",
        "dt_min: 0.00781249999989"
       ]
      },
      {
       "output_type": "stream",
       "stream": "stdout",
       "text": [
        "\n",
        "len(da[0]): 112639\n",
        "Feature shape: (10, 910)"
       ]
      },
      {
       "output_type": "stream",
       "stream": "stdout",
       "text": [
        "\n",
        "I am on file 50 with filename LC_50703-01-31-00_combined.dat \n",
        "dt_min: 0.00781249999989"
       ]
      },
      {
       "output_type": "stream",
       "stream": "stdout",
       "text": [
        "\n",
        "len(da[0]): 157694\n",
        "len(da[0]): 229375\n",
        "Feature shape: (40, 910)"
       ]
      },
      {
       "output_type": "stream",
       "stream": "stdout",
       "text": [
        "\n",
        "I am on file 51 with filename LC_94701-01-43-00_combined.dat \n",
        "dt_min: 0.00781249999977"
       ]
      },
      {
       "output_type": "stream",
       "stream": "stdout",
       "text": [
        "\n",
        "len(da[0]): 378879\n",
        "Feature shape: (43, 910)"
       ]
      },
      {
       "output_type": "stream",
       "stream": "stdout",
       "text": [
        "\n",
        "I am on file 52 with filename LC_30703-01-29-00_combined.dat \n",
        "dt_min: 0.00781249999989"
       ]
      },
      {
       "output_type": "stream",
       "stream": "stdout",
       "text": [
        "\n",
        "len(da[0]): 75517\n",
        "len(da[0]): 337150\n",
        "len(da[0]): 115965\n",
        "len(da[0]): 18175\n",
        "Feature shape: (55, 910)"
       ]
      },
      {
       "output_type": "stream",
       "stream": "stdout",
       "text": [
        "\n",
        "I am on file 53 with filename LC_91701-01-82-00_combined.dat \n",
        "dt_min: 0.00781249999989"
       ]
      },
      {
       "output_type": "stream",
       "stream": "stdout",
       "text": [
        "\n",
        "len(da[0]): 174079\n",
        "Feature shape: (18, 910)"
       ]
      },
      {
       "output_type": "stream",
       "stream": "stdout",
       "text": [
        "\n",
        "I am on file 54 with filename LC_93701-01-41-01_combined.dat \n",
        "dt_min: 0.00781249999989"
       ]
      },
      {
       "output_type": "stream",
       "stream": "stdout",
       "text": [
        "\n",
        "len(da[0]): 114431\n",
        "Feature shape: (10, 910)"
       ]
      },
      {
       "output_type": "stream",
       "stream": "stdout",
       "text": [
        "\n",
        "I am on file 55 with filename LC_50703-01-34-01_combined.dat \n",
        "dt_min: 0.00781249999989"
       ]
      },
      {
       "output_type": "stream",
       "stream": "stdout",
       "text": [
        "\n",
        "len(da[0]): 190463\n",
        "Feature shape: (20, 910)"
       ]
      },
      {
       "output_type": "stream",
       "stream": "stdout",
       "text": [
        "\n",
        "I am on file 56 with filename LC_30402-01-12-01_combined.dat \n",
        "dt_min: 0.00781249999989"
       ]
      },
      {
       "output_type": "stream",
       "stream": "stdout",
       "text": [
        "\n",
        "len(da[0]): 230783\n",
        "Feature shape: (25, 910)"
       ]
      },
      {
       "output_type": "stream",
       "stream": "stdout",
       "text": [
        "\n",
        "I am on file 57 with filename LC_60701-01-20-01_combined.dat \n",
        "dt_min: 0.00781249999989"
       ]
      },
      {
       "output_type": "stream",
       "stream": "stdout",
       "text": [
        "\n",
        "len(da[0]): 264446\n",
        "len(da[0]): 376831\n",
        "Feature shape: (71, 910)"
       ]
      },
      {
       "output_type": "stream",
       "stream": "stdout",
       "text": [
        "\n",
        "I am on file 58 with filename LC_96701-01-23-00_combined.dat \n",
        "dt_min: 0.00781249999977"
       ]
      },
      {
       "output_type": "stream",
       "stream": "stdout",
       "text": [
        "\n",
        "len(da[0]): 188415\n",
        "Feature shape: (19, 910)"
       ]
      },
      {
       "output_type": "stream",
       "stream": "stdout",
       "text": [
        "\n",
        "I am on file 59 with filename LC_70702-01-55-00_combined.dat \n",
        "dt_min: 0.00781249999989"
       ]
      },
      {
       "output_type": "stream",
       "stream": "stdout",
       "text": [
        "\n",
        "len(da[0]): 311294\n",
        "len(da[0]): 30334\n",
        "len(da[0]): 216446\n",
        "Feature shape: (57, 910)"
       ]
      },
      {
       "output_type": "stream",
       "stream": "stdout",
       "text": [
        "\n",
        "I am on file 60 with filename LC_94701-01-04-00_combined.dat \n",
        "dt_min: 0.00781249999977"
       ]
      },
      {
       "output_type": "stream",
       "stream": "stdout",
       "text": [
        "\n",
        "len(da[0]): 188415\n",
        "Feature shape: (19, 910)"
       ]
      },
      {
       "output_type": "stream",
       "stream": "stdout",
       "text": [
        "\n",
        "I am on file 61 with filename LC_40703-01-44-02_combined.dat \n",
        "dt_min: 0.00781249999955"
       ]
      },
      {
       "output_type": "stream",
       "stream": "stdout",
       "text": [
        "\n",
        "len(da[0]): 196606\n",
        "len(da[0]): 65534\n",
        "len(da[0]): 43007\n",
        "Feature shape: (26, 910)"
       ]
      },
      {
       "output_type": "stream",
       "stream": "stdout",
       "text": [
        "\n",
        "I am on file 62 with filename LC_91701-01-82-01_combined.dat \n",
        "dt_min: 0.00781249999989"
       ]
      },
      {
       "output_type": "stream",
       "stream": "stdout",
       "text": [
        "\n",
        "len(da[0]): 118783\n",
        "Feature shape: (11, 910)"
       ]
      },
      {
       "output_type": "stream",
       "stream": "stdout",
       "text": [
        "\n",
        "I am on file 63 with filename LC_95701-01-23-00_combined.dat \n",
        "dt_min: 0.00781249999977"
       ]
      },
      {
       "output_type": "stream",
       "stream": "stdout",
       "text": [
        "\n",
        "len(da[0]): 174079\n",
        "Feature shape: (18, 910)"
       ]
      },
      {
       "output_type": "stream",
       "stream": "stdout",
       "text": [
        "\n",
        "I am on file 64 with filename LC_92092-01-01-00_combined.dat \n",
        "dt_min: 0.00781249999818"
       ]
      },
      {
       "output_type": "stream",
       "stream": "stdout",
       "text": [
        "\n",
        "len(da[0]): 399358\n",
        "len(da[0]): 286718\n",
        "len(da[0]): 79870\n",
        "len(da[0]): 391166\n",
        "len(da[0]): 358399\n",
        "Feature shape: (166, 910)"
       ]
      },
      {
       "output_type": "stream",
       "stream": "stdout",
       "text": [
        "\n",
        "I am on file 65 with filename LC_50703-01-39-00_combined.dat \n",
        "dt_min: 0.00781249999989"
       ]
      },
      {
       "output_type": "stream",
       "stream": "stdout",
       "text": [
        "\n",
        "len(da[0]): 149503\n",
        "Feature shape: (15, 910)"
       ]
      },
      {
       "output_type": "stream",
       "stream": "stdout",
       "text": [
        "\n",
        "I am on file 66 with filename LC_80701-01-16-00_combined.dat \n",
        "dt_min: 0.00781249999989"
       ]
      },
      {
       "output_type": "stream",
       "stream": "stdout",
       "text": [
        "\n",
        "len(da[0]): 417791\n",
        "Feature shape: (47, 910)"
       ]
      },
      {
       "output_type": "stream",
       "stream": "stdout",
       "text": [
        "\n",
        "I am on file 67 with filename LC_30703-01-31-00_combined.dat \n",
        "dt_min: 0.00781249999989"
       ]
      },
      {
       "output_type": "stream",
       "stream": "stdout",
       "text": [
        "\n",
        "len(da[0]): 215039\n",
        "Feature shape: (23, 910)"
       ]
      },
      {
       "output_type": "stream",
       "stream": "stdout",
       "text": [
        "\n",
        "I am on file 68 with filename LC_30402-01-19-00_combined.dat \n",
        "dt_min: 0.00781249999955"
       ]
      },
      {
       "output_type": "stream",
       "stream": "stdout",
       "text": [
        "\n",
        "len(da[0]): 79869\n",
        "len(da[0]): 37118\n",
        "len(da[0]): 200703\n",
        "Feature shape: (28, 910)"
       ]
      },
      {
       "output_type": "stream",
       "stream": "stdout",
       "text": [
        "\n",
        "I am on file 69 with filename LC_40703-01-15-00_combined.dat \n",
        "dt_min: 0.00781249999989"
       ]
      },
      {
       "output_type": "stream",
       "stream": "stdout",
       "text": [
        "\n",
        "len(da[0]): 135166\n",
        "len(da[0]): 73726\n",
        "len(da[0]): 141311\n",
        "Feature shape: (32, 910)"
       ]
      },
      {
       "output_type": "stream",
       "stream": "stdout",
       "text": [
        "\n",
        "I am on file 70 with filename LC_94701-01-18-00_combined.dat \n",
        "dt_min: 0.00781249999989"
       ]
      },
      {
       "output_type": "stream",
       "stream": "stdout",
       "text": [
        "\n",
        "len(da[0]): 171518\n",
        "len(da[0]): 7166\n",
        "Feature shape: (17, 910)"
       ]
      },
      {
       "output_type": "stream",
       "stream": "stdout",
       "text": [
        "\n",
        "I am on file 71 with filename LC_30703-01-11-00_combined.dat \n",
        "dt_min: 0.00781249999989"
       ]
      },
      {
       "output_type": "stream",
       "stream": "stdout",
       "text": [
        "\n",
        "len(da[0]): 428030\n",
        "len(da[0]): 192511\n",
        "Feature shape: (69, 910)"
       ]
      },
      {
       "output_type": "stream",
       "stream": "stdout",
       "text": [
        "\n",
        "I am on file 72 with filename LC_20402-01-27-02_combined.dat \n",
        "I am on file 73 with filename LC_96701-01-14-00_combined.dat \n",
        "dt_min: 0.00781249999977"
       ]
      },
      {
       "output_type": "stream",
       "stream": "stdout",
       "text": [
        "\n",
        "len(da[0]): 157695\n",
        "Feature shape: (16, 910)"
       ]
      },
      {
       "output_type": "stream",
       "stream": "stdout",
       "text": [
        "\n",
        "I am on file 74 with filename LC_30703-01-17-00_combined.dat \n",
        "dt_min: 0.00781249999955"
       ]
      },
      {
       "output_type": "stream",
       "stream": "stdout",
       "text": [
        "\n",
        "len(da[0]): 77822\n",
        "len(da[0]): 434174\n",
        "len(da[0]): 71679\n",
        "Feature shape: (60, 910)"
       ]
      },
      {
       "output_type": "stream",
       "stream": "stdout",
       "text": [
        "\n",
        "I am on file 75 with filename LC_40703-01-40-03_combined.dat \n",
        "dt_min: 0.00781249999999"
       ]
      },
      {
       "output_type": "stream",
       "stream": "stdout",
       "text": [
        "\n",
        "len(da[0]): 131071\n",
        "Feature shape: (12, 910)"
       ]
      },
      {
       "output_type": "stream",
       "stream": "stdout",
       "text": [
        "\n",
        "I am on file 76 with filename LC_10408-01-17-00_combined.dat \n",
        "I am on file 77 with filename LC_80127-05-03-00_combined.dat \n",
        "dt_min: 0.00390624999989"
       ]
      },
      {
       "output_type": "stream",
       "stream": "stdout",
       "text": [
        "\n",
        "len(da[0]): 303103\n",
        "Feature shape: (15, 910)"
       ]
      },
      {
       "output_type": "stream",
       "stream": "stdout",
       "text": [
        "\n",
        "I am on file 78 with filename LC_50703-01-53-01_combined.dat \n",
        "dt_min: 0.00781249999989"
       ]
      },
      {
       "output_type": "stream",
       "stream": "stdout",
       "text": [
        "\n",
        "len(da[0]): 180223\n",
        "Feature shape: (18, 910)"
       ]
      },
      {
       "output_type": "stream",
       "stream": "stdout",
       "text": [
        "\n",
        "I am on file 79 with filename LC_50703-01-16-03_combined.dat \n",
        "dt_min: 0.00781249999989"
       ]
      },
      {
       "output_type": "stream",
       "stream": "stdout",
       "text": [
        "\n",
        "len(da[0]): 151551\n",
        "Feature shape: (15, 910)"
       ]
      },
      {
       "output_type": "stream",
       "stream": "stdout",
       "text": [
        "\n",
        "I am on file 80 with filename LC_90701-01-01-00_combined.dat \n",
        "dt_min: 0.00781249999989"
       ]
      },
      {
       "output_type": "stream",
       "stream": "stdout",
       "text": [
        "\n",
        "len(da[0]): 222719\n",
        "Feature shape: (24, 910)"
       ]
      },
      {
       "output_type": "stream",
       "stream": "stdout",
       "text": [
        "\n",
        "I am on file 81 with filename LC_40403-01-05-00_combined.dat \n",
        "dt_min: 0.00781249999818"
       ]
      },
      {
       "output_type": "stream",
       "stream": "stdout",
       "text": [
        "\n",
        "len(da[0]): 397310\n",
        "len(da[0]): 366591\n",
        "Feature shape: (86, 910)"
       ]
      },
      {
       "output_type": "stream",
       "stream": "stdout",
       "text": [
        "\n",
        "I am on file 82 with filename LC_92702-01-15-01_combined.dat \n",
        "dt_min: 0.00781249999989"
       ]
      },
      {
       "output_type": "stream",
       "stream": "stdout",
       "text": [
        "\n",
        "len(da[0]): 190079\n",
        "Feature shape: (20, 910)"
       ]
      },
      {
       "output_type": "stream",
       "stream": "stdout",
       "text": [
        "\n",
        "I am on file 83 with filename LC_90701-01-23-01_combined.dat \n",
        "dt_min: 0.00781249999989"
       ]
      },
      {
       "output_type": "stream",
       "stream": "stdout",
       "text": [
        "\n",
        "len(da[0]): 159743\n",
        "Feature shape: (16, 910)"
       ]
      },
      {
       "output_type": "stream",
       "stream": "stdout",
       "text": [
        "\n",
        "I am on file 84 with filename LC_91701-01-05-03_combined.dat \n",
        "dt_min: 0.00781249999989"
       ]
      },
      {
       "output_type": "stream",
       "stream": "stdout",
       "text": [
        "\n",
        "len(da[0]): 304639\n",
        "Feature shape: (34, 910)"
       ]
      },
      {
       "output_type": "stream",
       "stream": "stdout",
       "text": [
        "\n",
        "I am on file 85 with filename LC_70702-01-20-00_combined.dat \n",
        "dt_min: 0.00781249999989"
       ]
      },
      {
       "output_type": "stream",
       "stream": "stdout",
       "text": [
        "\n",
        "len(da[0]): 240767\n",
        "Feature shape: (26, 910)"
       ]
      },
      {
       "output_type": "stream",
       "stream": "stdout",
       "text": [
        "\n",
        "I am on file 86 with filename LC_50703-01-20-03_combined.dat \n",
        "dt_min: 0.00781249999994"
       ]
      },
      {
       "output_type": "stream",
       "stream": "stdout",
       "text": [
        "\n",
        "len(da[0]): 96255\n",
        "Feature shape: (8, 910)\n",
        "I am on file 87 with filename LC_20402-01-07-00_combined.dat \n",
        "I am on file 88 with filename LC_30182-01-02-01_combined.dat \n",
        "dt_min: 0.00781249999999"
       ]
      },
      {
       "output_type": "stream",
       "stream": "stdout",
       "text": [
        "\n",
        "len(da[0]): 50941\n",
        "len(da[0]): 52479\n",
        "Feature shape: (6, 910)\n",
        "I am on file 89 with filename LC_90105-10-09-00_combined.dat \n",
        "dt_min: 0.00390624999989"
       ]
      },
      {
       "output_type": "stream",
       "stream": "stdout",
       "text": [
        "\n",
        "len(da[0]): 819198\n",
        "len(da[0]): 511999\n",
        "Feature shape: (74, 910)"
       ]
      },
      {
       "output_type": "stream",
       "stream": "stdout",
       "text": [
        "\n",
        "I am on file 90 with filename LC_50703-01-16-00_combined.dat \n",
        "dt_min: 0.00781249999989"
       ]
      },
      {
       "output_type": "stream",
       "stream": "stdout",
       "text": [
        "\n",
        "len(da[0]): 178174\n",
        "len(da[0]): 172031\n",
        "Feature shape: (35, 910)"
       ]
      },
      {
       "output_type": "stream",
       "stream": "stdout",
       "text": [
        "\n",
        "I am on file 91 with filename LC_50703-01-58-00_combined.dat \n",
        "dt_min: 0.00781249999989"
       ]
      },
      {
       "output_type": "stream",
       "stream": "stdout",
       "text": [
        "\n",
        "len(da[0]): 411647\n",
        "Feature shape: (47, 910)"
       ]
      },
      {
       "output_type": "stream",
       "stream": "stdout",
       "text": [
        "\n",
        "I am on file 92 with filename LC_50703-01-34-02_combined.dat \n",
        "dt_min: 0.00781249999989"
       ]
      },
      {
       "output_type": "stream",
       "stream": "stdout",
       "text": [
        "\n",
        "len(da[0]): 145407\n",
        "Feature shape: (14, 910)"
       ]
      },
      {
       "output_type": "stream",
       "stream": "stdout",
       "text": [
        "\n",
        "I am on file 93 with filename LC_92702-01-05-01_combined.dat \n",
        "dt_min: 0.00781249999989"
       ]
      },
      {
       "output_type": "stream",
       "stream": "stdout",
       "text": [
        "\n",
        "len(da[0]): 249855\n",
        "Feature shape: (27, 910)"
       ]
      },
      {
       "output_type": "stream",
       "stream": "stdout",
       "text": [
        "\n",
        "I am on file 94 with filename LC_50703-01-60-03_combined.dat \n",
        "dt_min: 0.00781249999994"
       ]
      },
      {
       "output_type": "stream",
       "stream": "stdout",
       "text": [
        "\n",
        "len(da[0]): 104447\n",
        "Feature shape: (9, 910)\n",
        "I am on file 95 with filename LC_91701-01-55-00_combined.dat \n",
        "dt_min: 0.00781249999989"
       ]
      },
      {
       "output_type": "stream",
       "stream": "stdout",
       "text": [
        "\n",
        "len(da[0]): 409598\n",
        "len(da[0]): 409598\n",
        "len(da[0]): 409599\n",
        "Feature shape: (138, 910)"
       ]
      },
      {
       "output_type": "stream",
       "stream": "stdout",
       "text": [
        "\n",
        "I am on file 96 with filename LC_90701-01-24-00_combined.dat \n",
        "dt_min: 0.00781249999989"
       ]
      },
      {
       "output_type": "stream",
       "stream": "stdout",
       "text": [
        "\n",
        "len(da[0]): 278527\n",
        "Feature shape: (30, 910)"
       ]
      },
      {
       "output_type": "stream",
       "stream": "stdout",
       "text": [
        "\n",
        "I am on file 97 with filename LC_40703-01-26-00_combined.dat \n",
        "dt_min: 0.00781249999818"
       ]
      },
      {
       "output_type": "stream",
       "stream": "stdout",
       "text": [
        "\n",
        "len(da[0]): 16126\n",
        "len(da[0]): 252413\n",
        "len(da[0]): 153341\n",
        "len(da[0]): 165886\n",
        "len(da[0]): 194558\n",
        "len(da[0]): 135166\n",
        "len(da[0]): 69631\n",
        "Feature shape: (97, 910)"
       ]
      },
      {
       "output_type": "stream",
       "stream": "stdout",
       "text": [
        "\n",
        "I am on file 98 with filename LC_92702-01-18-00_combined.dat \n",
        "dt_min: 0.00781249999989"
       ]
      },
      {
       "output_type": "stream",
       "stream": "stdout",
       "text": [
        "\n",
        "len(da[0]): 199040\n",
        "Feature shape: (21, 910)"
       ]
      },
      {
       "output_type": "stream",
       "stream": "stdout",
       "text": [
        "\n",
        "I am on file 99 with filename LC_40116-01-02-03_combined.dat \n",
        "dt_min: 0.00781249999989"
       ]
      },
      {
       "output_type": "stream",
       "stream": "stdout",
       "text": [
        "\n",
        "len(da[0]): 288510\n",
        "len(da[0]): 15614\n",
        "Feature shape: (32, 910)"
       ]
      },
      {
       "output_type": "stream",
       "stream": "stdout",
       "text": [
        "\n",
        "I am on file 100 with filename LC_95701-01-06-00_combined.dat \n",
        "dt_min: 0.00781249999977"
       ]
      },
      {
       "output_type": "stream",
       "stream": "stdout",
       "text": [
        "\n",
        "len(da[0]): 407551\n",
        "Feature shape: (46, 910)"
       ]
      },
      {
       "output_type": "stream",
       "stream": "stdout",
       "text": [
        "\n",
        "I am on file 101 with filename LC_80701-01-53-00_combined.dat \n",
        "dt_min: 0.00781249999989"
       ]
      },
      {
       "output_type": "stream",
       "stream": "stdout",
       "text": [
        "\n",
        "len(da[0]): 172031\n",
        "Feature shape: (17, 910)"
       ]
      },
      {
       "output_type": "stream",
       "stream": "stdout",
       "text": [
        "\n",
        "I am on file 102 with filename LC_70702-01-52-00_combined.dat \n",
        "dt_min: 0.00781249999989"
       ]
      },
      {
       "output_type": "stream",
       "stream": "stdout",
       "text": [
        "\n",
        "len(da[0]): 415743\n",
        "Feature shape: (47, 910)"
       ]
      },
      {
       "output_type": "stream",
       "stream": "stdout",
       "text": [
        "\n",
        "I am on file 103 with filename LC_10408-01-17-02_combined.dat \n",
        "I am on file 104 with filename LC_20402-01-10-00_combined.dat \n",
        "I am on file 105 with filename LC_50703-01-48-01_combined.dat \n",
        "dt_min: 0.00781249999989"
       ]
      },
      {
       "output_type": "stream",
       "stream": "stdout",
       "text": [
        "\n",
        "len(da[0]): 232447\n",
        "Feature shape: (25, 910)"
       ]
      },
      {
       "output_type": "stream",
       "stream": "stdout",
       "text": [
        "\n",
        "I am on file 106 with filename LC_60702-01-01-18_combined.dat \n",
        "dt_min: 0.00781249999989"
       ]
      },
      {
       "output_type": "stream",
       "stream": "stdout",
       "text": [
        "\n",
        "len(da[0]): 159743\n",
        "Feature shape: (16, 910)"
       ]
      },
      {
       "output_type": "stream",
       "stream": "stdout",
       "text": [
        "\n",
        "I am on file 107 with filename LC_20402-01-45-02_combined.dat \n",
        "I am on file 108 with filename LC_95701-01-50-00_combined.dat \n",
        "dt_min: 0.00781249999989"
       ]
      },
      {
       "output_type": "stream",
       "stream": "stdout",
       "text": [
        "\n",
        "len(da[0]): 409599\n",
        "Feature shape: (46, 910)"
       ]
      },
      {
       "output_type": "stream",
       "stream": "stdout",
       "text": [
        "\n",
        "I am on file 109 with filename LC_80127-03-02-00_combined.dat \n",
        "dt_min: 0.00390624999818"
       ]
      },
      {
       "output_type": "stream",
       "stream": "stdout",
       "text": [
        "\n",
        "len(da[0]): 770046\n",
        "len(da[0]): 806910\n",
        "len(da[0]): 94206"
       ]
      },
      {
       "output_type": "stream",
       "stream": "stdout",
       "text": [
        "\n",
        "len(da[0]): 655358\n",
        "len(da[0]): 823295\n",
        "Feature shape: (174, 910)"
       ]
      },
      {
       "output_type": "stream",
       "stream": "stdout",
       "text": [
        "\n",
        "I am on file 110 with filename LC_20402-01-27-00_combined.dat \n",
        "I am on file 111 with filename LC_91701-01-83-00_combined.dat \n",
        "dt_min: 0.00781249999989"
       ]
      },
      {
       "output_type": "stream",
       "stream": "stdout",
       "text": [
        "\n",
        "len(da[0]): 143359\n",
        "Feature shape: (14, 910)"
       ]
      },
      {
       "output_type": "stream",
       "stream": "stdout",
       "text": [
        "\n",
        "I am on file 112 with filename LC_10408-01-13-00_combined.dat \n",
        "dt_min: 0.00390624999977"
       ]
      },
      {
       "output_type": "stream",
       "stream": "stdout",
       "text": [
        "\n",
        "len(da[0]): 321278\n",
        "len(da[0]): 207101\n",
        "len(da[0]): 638974\n",
        "len(da[0]): 745470\n",
        "len(da[0]): 839679"
       ]
      },
      {
       "output_type": "stream",
       "stream": "stdout",
       "text": [
        "\n",
        "Feature shape: (150, 910)"
       ]
      },
      {
       "output_type": "stream",
       "stream": "stdout",
       "text": [
        "\n",
        "I am on file 113 with filename LC_70702-01-49-01_combined.dat \n",
        "dt_min: 0.00781249999989"
       ]
      },
      {
       "output_type": "stream",
       "stream": "stdout",
       "text": [
        "\n",
        "len(da[0]): 402815\n",
        "Feature shape: (46, 910)"
       ]
      },
      {
       "output_type": "stream",
       "stream": "stdout",
       "text": [
        "\n",
        "I am on file 114 with filename LC_20402-01-26-02_combined.dat \n",
        "I am on file 115 with filename LC_50703-01-45-02_combined.dat \n",
        "dt_min: 0.00781249999999"
       ]
      },
      {
       "output_type": "stream",
       "stream": "stdout",
       "text": [
        "\n",
        "len(da[0]): 26623\n",
        "Feature shape: (0,)\n",
        "I am on file 116 with filename LC_60701-01-05-01_combined.dat \n",
        "dt_min: 0.00781249999989"
       ]
      },
      {
       "output_type": "stream",
       "stream": "stdout",
       "text": [
        "\n",
        "len(da[0]): 145407\n",
        "Feature shape: (14, 910)"
       ]
      },
      {
       "output_type": "stream",
       "stream": "stdout",
       "text": [
        "\n",
        "I am on file 117 with filename LC_91701-01-67-00_combined.dat \n",
        "dt_min: 0.00781249999989"
       ]
      },
      {
       "output_type": "stream",
       "stream": "stdout",
       "text": [
        "\n",
        "len(da[0]): 395007\n",
        "Feature shape: (45, 910)"
       ]
      },
      {
       "output_type": "stream",
       "stream": "stdout",
       "text": [
        "\n",
        "I am on file 118 with filename LC_94701-01-33-00_combined.dat \n",
        "dt_min: 0.00781249999977"
       ]
      },
      {
       "output_type": "stream",
       "stream": "stdout",
       "text": [
        "\n",
        "len(da[0]): 342015\n",
        "Feature shape: (38, 910)"
       ]
      },
      {
       "output_type": "stream",
       "stream": "stdout",
       "text": [
        "\n",
        "I am on file 119 with filename LC_91701-01-79-00_combined.dat \n",
        "dt_min: 0.00781249999989"
       ]
      },
      {
       "output_type": "stream",
       "stream": "stdout",
       "text": [
        "\n",
        "len(da[0]): 247167\n",
        "Feature shape: (27, 910)"
       ]
      },
      {
       "output_type": "stream",
       "stream": "stdout",
       "text": [
        "\n",
        "I am on file 120 with filename LC_96701-01-42-00_combined.dat \n",
        "dt_min: 0.00781249999999"
       ]
      },
      {
       "output_type": "stream",
       "stream": "stdout",
       "text": [
        "\n",
        "len(da[0]): 124927\n",
        "Feature shape: (12, 910)"
       ]
      },
      {
       "output_type": "stream",
       "stream": "stdout",
       "text": [
        "\n",
        "I am on file 121 with filename LC_50703-01-47-01_combined.dat \n",
        "dt_min: 0.00781249999989"
       ]
      },
      {
       "output_type": "stream",
       "stream": "stdout",
       "text": [
        "\n",
        "len(da[0]): 202751\n",
        "Feature shape: (21, 910)"
       ]
      },
      {
       "output_type": "stream",
       "stream": "stdout",
       "text": [
        "\n",
        "I am on file 122 with filename LC_96701-01-38-00_combined.dat \n",
        "dt_min: 0.00781249999989"
       ]
      },
      {
       "output_type": "stream",
       "stream": "stdout",
       "text": [
        "\n",
        "len(da[0]): 226303\n",
        "Feature shape: (24, 910)"
       ]
      },
      {
       "output_type": "stream",
       "stream": "stdout",
       "text": [
        "\n",
        "I am on file 123 with filename LC_95701-01-05-00_combined.dat \n",
        "dt_min: 0.00781249999977"
       ]
      },
      {
       "output_type": "stream",
       "stream": "stdout",
       "text": [
        "\n",
        "len(da[0]): 335871\n",
        "Feature shape: (37, 910)"
       ]
      },
      {
       "output_type": "stream",
       "stream": "stdout",
       "text": [
        "\n",
        "I am on file 124 with filename LC_60701-01-01-02_combined.dat \n",
        "dt_min: 0.00781249999989"
       ]
      },
      {
       "output_type": "stream",
       "stream": "stdout",
       "text": [
        "\n",
        "len(da[0]): 188415\n",
        "Feature shape: (19, 910)"
       ]
      },
      {
       "output_type": "stream",
       "stream": "stdout",
       "text": [
        "\n",
        "I am on file 125 with filename LC_93701-01-07-00_combined.dat \n",
        "dt_min: 0.00781249999997"
       ]
      },
      {
       "output_type": "stream",
       "stream": "stdout",
       "text": [
        "\n",
        "len(da[0]): 56575\n",
        "Feature shape: (3, 910)\n",
        "I am on file 126 with filename LC_92702-01-24-00_combined.dat \n",
        "dt_min: 0.00781249999989"
       ]
      },
      {
       "output_type": "stream",
       "stream": "stdout",
       "text": [
        "\n",
        "len(da[0]): 282623\n",
        "Feature shape: (31, 910)"
       ]
      },
      {
       "output_type": "stream",
       "stream": "stdout",
       "text": [
        "\n",
        "I am on file 127 with filename LC_10408-01-44-00_combined.dat \n",
        "I am on file 128 with filename LC_60702-01-01-27_combined.dat \n",
        "dt_min: 0.00781249999989"
       ]
      },
      {
       "output_type": "stream",
       "stream": "stdout",
       "text": [
        "\n",
        "len(da[0]): 226302\n",
        "len(da[0]): 33022\n",
        "Feature shape: (25, 910)"
       ]
      },
      {
       "output_type": "stream",
       "stream": "stdout",
       "text": [
        "\n",
        "I am on file 129 with filename LC_80701-01-26-00_combined.dat \n",
        "dt_min: 0.00781249999989"
       ]
      },
      {
       "output_type": "stream",
       "stream": "stdout",
       "text": [
        "\n",
        "len(da[0]): 395262\n",
        "len(da[0]): 409599\n",
        "Feature shape: (91, 910)"
       ]
      },
      {
       "output_type": "stream",
       "stream": "stdout",
       "text": [
        "\n",
        "I am on file 130 with filename LC_91701-01-07-00_combined.dat \n",
        "dt_min: 0.00781249999999"
       ]
      },
      {
       "output_type": "stream",
       "stream": "stdout",
       "text": [
        "\n",
        "len(da[0]): 79359\n",
        "Feature shape: (6, 910)\n",
        "I am on file 131 with filename LC_90701-01-02-03_combined.dat \n",
        "dt_min: 0.00781249999989"
       ]
      },
      {
       "output_type": "stream",
       "stream": "stdout",
       "text": [
        "\n",
        "len(da[0]): 202751\n",
        "Feature shape: (21, 910)"
       ]
      },
      {
       "output_type": "stream",
       "stream": "stdout",
       "text": [
        "\n",
        "I am on file 132 with filename LC_80701-01-30-00_combined.dat \n",
        "dt_min: 0.00781249999989"
       ]
      },
      {
       "output_type": "stream",
       "stream": "stdout",
       "text": [
        "\n",
        "len(da[0]): 304639\n",
        "Feature shape: (34, 910)"
       ]
      },
      {
       "output_type": "stream",
       "stream": "stdout",
       "text": [
        "\n",
        "I am on file 133 with filename LC_40703-01-30-03_combined.dat \n",
        "dt_min: 0.00781249999999"
       ]
      },
      {
       "output_type": "stream",
       "stream": "stdout",
       "text": [
        "\n",
        "len(da[0]): 90110\n",
        "len(da[0]): 180222\n",
        "len(da[0]): 141311\n",
        "Feature shape: (39, 910)"
       ]
      },
      {
       "output_type": "stream",
       "stream": "stdout",
       "text": [
        "\n",
        "I am on file 134 with filename LC_40115-01-04-00_combined.dat \n",
        "dt_min: 0.00781249999989"
       ]
      },
      {
       "output_type": "stream",
       "stream": "stdout",
       "text": [
        "\n",
        "len(da[0]): 368766\n",
        "len(da[0]): 27518\n",
        "Feature shape: (42, 910)"
       ]
      },
      {
       "output_type": "stream",
       "stream": "stdout",
       "text": [
        "\n",
        "I am on file 135 with filename LC_20186-03-01-01_combined.dat \n",
        "dt_min: 0.00781249999955"
       ]
      },
      {
       "output_type": "stream",
       "stream": "stdout",
       "text": [
        "\n",
        "len(da[0]): 434174\n",
        "len(da[0]): 8189\n",
        "len(da[0]): 436223\n",
        "Feature shape: (99, 910)"
       ]
      },
      {
       "output_type": "stream",
       "stream": "stdout",
       "text": [
        "\n",
        "I am on file 136 with filename LC_10258-01-02-00_combined.dat \n",
        "dt_min: 0.00390624999977"
       ]
      },
      {
       "output_type": "stream",
       "stream": "stdout",
       "text": [
        "\n",
        "len(da[0]): 847870\n",
        "len(da[0]): 847870\n",
        "len(da[0]): 647167"
       ]
      },
      {
       "output_type": "stream",
       "stream": "stdout",
       "text": [
        "\n",
        "Feature shape: (132, 910)"
       ]
      },
      {
       "output_type": "stream",
       "stream": "stdout",
       "text": [
        "\n",
        "I am on file 137 with filename LC_90108-01-01-00_combined.dat \n",
        "dt_min: 0.00781249999989"
       ]
      },
      {
       "output_type": "stream",
       "stream": "stdout",
       "text": [
        "\n",
        "len(da[0]): 178175\n",
        "Feature shape: (18, 910)"
       ]
      },
      {
       "output_type": "stream",
       "stream": "stdout",
       "text": [
        "\n",
        "I am on file 138 with filename LC_20402-01-26-01_combined.dat \n",
        "I am on file 139 with filename LC_93701-01-21-00_combined.dat \n",
        "dt_min: 0.00781249999989"
       ]
      },
      {
       "output_type": "stream",
       "stream": "stdout",
       "text": [
        "\n",
        "len(da[0]): 387071\n",
        "Feature shape: (44, 910)"
       ]
      },
      {
       "output_type": "stream",
       "stream": "stdout",
       "text": [
        "\n",
        "I am on file 140 with filename LC_60701-01-31-01_combined.dat \n",
        "dt_min: 0.00781249999994"
       ]
      },
      {
       "output_type": "stream",
       "stream": "stdout",
       "text": [
        "\n",
        "len(da[0]): 27006\n",
        "len(da[0]): 98942\n",
        "Feature shape: (9, 910)\n",
        "I am on file 141 with filename LC_93701-01-34-00_combined.dat \n",
        "dt_min: 0.00781249999989"
       ]
      },
      {
       "output_type": "stream",
       "stream": "stdout",
       "text": [
        "\n",
        "len(da[0]): 243711\n",
        "Feature shape: (26, 910)"
       ]
      },
      {
       "output_type": "stream",
       "stream": "stdout",
       "text": [
        "\n",
        "I am on file 142 with filename LC_30402-01-12-03_combined.dat \n",
        "dt_min: 0.00781249999989"
       ]
      },
      {
       "output_type": "stream",
       "stream": "stdout",
       "text": [
        "\n",
        "len(da[0]): 153599\n",
        "Feature shape: (15, 910)"
       ]
      },
      {
       "output_type": "stream",
       "stream": "stdout",
       "text": [
        "\n",
        "I am on file 143 with filename LC_10408-01-04-00_combined.dat \n",
        "dt_min: 0.015625"
       ]
      },
      {
       "output_type": "stream",
       "stream": "stdout",
       "text": [
        "\n",
        "len(da[0]): 88062\n",
        "len(da[0]): 9213\n",
        "len(da[0]): 125950\n",
        "len(da[0]): 149502\n",
        "len(da[0]): 116798\n",
        "len(da[0]): 56318\n",
        "Feature shape: (113, 910)"
       ]
      },
      {
       "output_type": "stream",
       "stream": "stdout",
       "text": [
        "\n",
        "I am on file 144 with filename LC_80701-01-46-00_combined.dat \n",
        "dt_min: 0.00781249999989"
       ]
      },
      {
       "output_type": "stream",
       "stream": "stdout",
       "text": [
        "\n",
        "len(da[0]): 235519\n",
        "Feature shape: (25, 910)"
       ]
      },
      {
       "output_type": "stream",
       "stream": "stdout",
       "text": [
        "\n",
        "I am on file 145 with filename LC_70703-01-01-03_combined.dat \n",
        "dt_min: 0.00781249999989"
       ]
      },
      {
       "output_type": "stream",
       "stream": "stdout",
       "text": [
        "\n",
        "len(da[0]): 186367\n",
        "Feature shape: (19, 910)"
       ]
      },
      {
       "output_type": "stream",
       "stream": "stdout",
       "text": [
        "\n",
        "I am on file 146 with filename LC_50703-01-13-02_combined.dat \n",
        "dt_min: 0.00781249999989"
       ]
      },
      {
       "output_type": "stream",
       "stream": "stdout",
       "text": [
        "\n",
        "len(da[0]): 221183\n",
        "Feature shape: (23, 910)"
       ]
      },
      {
       "output_type": "stream",
       "stream": "stdout",
       "text": [
        "\n",
        "I am on file 147 with filename LC_94701-01-55-00_combined.dat \n",
        "dt_min: 0.00781249999989"
       ]
      },
      {
       "output_type": "stream",
       "stream": "stdout",
       "text": [
        "\n",
        "len(da[0]): 171391\n",
        "Feature shape: (17, 910)"
       ]
      },
      {
       "output_type": "stream",
       "stream": "stdout",
       "text": [
        "\n",
        "I am on file 148 with filename LC_91701-01-64-01_combined.dat \n",
        "dt_min: 0.00781249999989"
       ]
      },
      {
       "output_type": "stream",
       "stream": "stdout",
       "text": [
        "\n",
        "len(da[0]): 264191\n",
        "Feature shape: (29, 910)"
       ]
      },
      {
       "output_type": "stream",
       "stream": "stdout",
       "text": [
        "\n",
        "I am on file 149 with filename LC_90105-02-04-00_combined.dat \n",
        "dt_min: 0.00390624999989"
       ]
      },
      {
       "output_type": "stream",
       "stream": "stdout",
       "text": [
        "\n",
        "len(da[0]): 405503\n",
        "Feature shape: (21, 910)"
       ]
      },
      {
       "output_type": "stream",
       "stream": "stdout",
       "text": [
        "\n",
        "I am on file 150 with filename LC_60702-01-01-02_combined.dat \n",
        "dt_min: 0.00781249999994"
       ]
      },
      {
       "output_type": "stream",
       "stream": "stdout",
       "text": [
        "\n",
        "len(da[0]): 129023\n",
        "Feature shape: (12, 910)"
       ]
      },
      {
       "output_type": "stream",
       "stream": "stdout",
       "text": [
        "\n",
        "I am on file 151 with filename LC_10408-01-14-00_combined.dat \n",
        "I am on file 152 with filename LC_96701-01-43-01_combined.dat \n",
        "dt_min: 0.00781249999977"
       ]
      },
      {
       "output_type": "stream",
       "stream": "stdout",
       "text": [
        "\n",
        "len(da[0]): 159103\n",
        "Feature shape: (16, 910)"
       ]
      },
      {
       "output_type": "stream",
       "stream": "stdout",
       "text": [
        "\n",
        "I am on file 153 with filename LC_40703-01-49-00_combined.dat \n",
        "dt_min: 0.00781249999989"
       ]
      },
      {
       "output_type": "stream",
       "stream": "stdout",
       "text": [
        "\n",
        "len(da[0]): 169983\n",
        "Feature shape: (17, 910)"
       ]
      },
      {
       "output_type": "stream",
       "stream": "stdout",
       "text": [
        "\n",
        "I am on file 154 with filename LC_90024-02-06-00_combined.dat \n",
        "dt_min: 0.00390624999999"
       ]
      },
      {
       "output_type": "stream",
       "stream": "stdout",
       "text": [
        "\n",
        "len(da[0]): 139263\n",
        "Feature shape: (5, 910)\n",
        "I am on file 155 with filename LC_80701-01-59-00_combined.dat \n",
        "dt_min: 0.00781249999989"
       ]
      },
      {
       "output_type": "stream",
       "stream": "stdout",
       "text": [
        "\n",
        "len(da[0]): 124927\n",
        "Feature shape: (12, 910)"
       ]
      },
      {
       "output_type": "stream",
       "stream": "stdout",
       "text": [
        "\n",
        "I am on file 156 with filename LC_50703-01-31-03_combined.dat \n",
        "dt_min: 0.00781249999994"
       ]
      },
      {
       "output_type": "stream",
       "stream": "stdout",
       "text": [
        "\n",
        "len(da[0]): 128639\n",
        "Feature shape: (12, 910)"
       ]
      },
      {
       "output_type": "stream",
       "stream": "stdout",
       "text": [
        "\n",
        "I am on file 157 with filename LC_91701-01-54-01_combined.dat \n",
        "dt_min: 0.00781249999989"
       ]
      },
      {
       "output_type": "stream",
       "stream": "stdout",
       "text": [
        "\n",
        "len(da[0]): 202239\n",
        "Feature shape: (21, 910)"
       ]
      },
      {
       "output_type": "stream",
       "stream": "stdout",
       "text": [
        "\n",
        "I am on file 158 with filename LC_40703-01-44-00_combined.dat \n",
        "dt_min: 0.00781249999989"
       ]
      },
      {
       "output_type": "stream",
       "stream": "stdout",
       "text": [
        "\n",
        "len(da[0]): 212991\n",
        "Feature shape: (22, 910)"
       ]
      },
      {
       "output_type": "stream",
       "stream": "stdout",
       "text": [
        "\n",
        "I am on file 159 with filename LC_93701-01-16-01_combined.dat \n",
        "dt_min: 0.00781249999989"
       ]
      },
      {
       "output_type": "stream",
       "stream": "stdout",
       "text": [
        "\n",
        "len(da[0]): 85887\n",
        "Feature shape: (7, 910)\n",
        "I am on file 160 with filename LC_40703-01-39-02_combined.dat \n",
        "dt_min: 0.00781249999989"
       ]
      },
      {
       "output_type": "stream",
       "stream": "stdout",
       "text": [
        "\n",
        "len(da[0]): 364543\n",
        "Feature shape: (41, 910)"
       ]
      },
      {
       "output_type": "stream",
       "stream": "stdout",
       "text": [
        "\n",
        "I am on file 161 with filename LC_50703-01-40-03_combined.dat \n",
        "dt_min: 0.00781249999994"
       ]
      },
      {
       "output_type": "stream",
       "stream": "stdout",
       "text": [
        "\n",
        "len(da[0]): 69375\n",
        "Feature shape: (5, 910)\n",
        "I am on file 162 with filename LC_60100-01-02-00_combined.dat \n",
        "dt_min: 0.00781249999989"
       ]
      },
      {
       "output_type": "stream",
       "stream": "stdout",
       "text": [
        "\n",
        "len(da[0]): 419839\n",
        "Feature shape: (48, 910)"
       ]
      },
      {
       "output_type": "stream",
       "stream": "stdout",
       "text": [
        "\n",
        "I am on file 163 with filename LC_50703-01-53-00_combined.dat \n",
        "dt_min: 0.00781249999989"
       ]
      },
      {
       "output_type": "stream",
       "stream": "stdout",
       "text": [
        "\n",
        "len(da[0]): 204799\n",
        "Feature shape: (21, 910)"
       ]
      },
      {
       "output_type": "stream",
       "stream": "stdout",
       "text": [
        "\n",
        "I am on file 164 with filename LC_40116-01-01-04_combined.dat \n",
        "dt_min: 0.00781249999989"
       ]
      },
      {
       "output_type": "stream",
       "stream": "stdout",
       "text": [
        "\n",
        "len(da[0]): 167167\n",
        "Feature shape: (17, 910)"
       ]
      },
      {
       "output_type": "stream",
       "stream": "stdout",
       "text": [
        "\n",
        "I am on file 165 with filename LC_94701-01-10-00_combined.dat \n",
        "dt_min: 0.00781249999977"
       ]
      },
      {
       "output_type": "stream",
       "stream": "stdout",
       "text": [
        "\n",
        "len(da[0]): 212991\n",
        "Feature shape: (22, 910)"
       ]
      },
      {
       "output_type": "stream",
       "stream": "stdout",
       "text": [
        "\n",
        "I am on file 166 with filename LC_80188-03-01-00_combined.dat \n",
        "dt_min: 0.00390624999989"
       ]
      },
      {
       "output_type": "stream",
       "stream": "stdout",
       "text": [
        "\n",
        "len(da[0]): 495614\n",
        "len(da[0]): 757758\n",
        "len(da[0]): 454655"
       ]
      },
      {
       "output_type": "stream",
       "stream": "stdout",
       "text": [
        "\n",
        "Feature shape: (94, 910)"
       ]
      },
      {
       "output_type": "stream",
       "stream": "stdout",
       "text": [
        "\n",
        "I am on file 167 with filename LC_91701-01-53-02_combined.dat \n",
        "dt_min: 0.00781249999989"
       ]
      },
      {
       "output_type": "stream",
       "stream": "stdout",
       "text": [
        "\n",
        "len(da[0]): 196607\n",
        "Feature shape: (20, 910)"
       ]
      },
      {
       "output_type": "stream",
       "stream": "stdout",
       "text": [
        "\n",
        "I am on file 168 with filename LC_40703-01-49-02_combined.dat \n",
        "dt_min: 0.00781249999994"
       ]
      },
      {
       "output_type": "stream",
       "stream": "stdout",
       "text": [
        "\n",
        "len(da[0]): 90111\n",
        "Feature shape: (7, 910)\n",
        "I am on file 169 with filename LC_93701-01-13-00_combined.dat \n",
        "dt_min: 0.00781249999989"
       ]
      },
      {
       "output_type": "stream",
       "stream": "stdout",
       "text": [
        "\n",
        "len(da[0]): 290815\n",
        "Feature shape: (32, 910)"
       ]
      },
      {
       "output_type": "stream",
       "stream": "stdout",
       "text": [
        "\n",
        "I am on file 170 with filename LC_40703-01-35-00_combined.dat \n",
        "dt_min: 0.00781249999989"
       ]
      },
      {
       "output_type": "stream",
       "stream": "stdout",
       "text": [
        "\n",
        "len(da[0]): 209663\n",
        "Feature shape: (22, 910)"
       ]
      },
      {
       "output_type": "stream",
       "stream": "stdout",
       "text": [
        "\n",
        "I am on file 171 with filename LC_10408-01-01-01_combined.dat \n",
        "dt_min: 0.0156249999995"
       ]
      },
      {
       "output_type": "stream",
       "stream": "stdout",
       "text": [
        "\n",
        "len(da[0]): 187006\n",
        "len(da[0]): 161791\n",
        "Feature shape: (78, 910)"
       ]
      },
      {
       "output_type": "stream",
       "stream": "stdout",
       "text": [
        "\n",
        "I am on file 172 with filename LC_40703-01-39-03_combined.dat \n",
        "dt_min: 0.00781249999989"
       ]
      },
      {
       "output_type": "stream",
       "stream": "stdout",
       "text": [
        "\n",
        "len(da[0]): 272383\n",
        "Feature shape: (30, 910)"
       ]
      },
      {
       "output_type": "stream",
       "stream": "stdout",
       "text": [
        "\n",
        "I am on file 173 with filename LC_93701-01-22-00_combined.dat \n",
        "dt_min: 0.00781249999989"
       ]
      },
      {
       "output_type": "stream",
       "stream": "stdout",
       "text": [
        "\n",
        "len(da[0]): 149503\n",
        "Feature shape: (15, 910)"
       ]
      },
      {
       "output_type": "stream",
       "stream": "stdout",
       "text": [
        "\n",
        "I am on file 174 with filename LC_91701-01-10-01_combined.dat \n",
        "dt_min: 0.00781249999989"
       ]
      },
      {
       "output_type": "stream",
       "stream": "stdout",
       "text": [
        "\n",
        "len(da[0]): 237183\n",
        "Feature shape: (25, 910)"
       ]
      },
      {
       "output_type": "stream",
       "stream": "stdout",
       "text": [
        "\n",
        "I am on file 175 with filename LC_50703-01-65-01_combined.dat \n",
        "dt_min: 0.00781249999999"
       ]
      },
      {
       "output_type": "stream",
       "stream": "stdout",
       "text": [
        "\n",
        "len(da[0]): 129023\n",
        "Feature shape: (12, 910)"
       ]
      },
      {
       "output_type": "stream",
       "stream": "stdout",
       "text": [
        "\n",
        "I am on file 176 with filename LC_94701-01-30-00_combined.dat \n",
        "dt_min: 0.00781249999977"
       ]
      },
      {
       "output_type": "stream",
       "stream": "stdout",
       "text": [
        "\n",
        "len(da[0]): 107006\n",
        "len(da[0]): 297086\n",
        "Feature shape: (43, 910)"
       ]
      },
      {
       "output_type": "stream",
       "stream": "stdout",
       "text": [
        "\n",
        "I am on file 177 with filename LC_60701-01-09-00_combined.dat \n",
        "dt_min: 0.00781249999818"
       ]
      },
      {
       "output_type": "stream",
       "stream": "stdout",
       "text": [
        "\n",
        "len(da[0]): 421886\n",
        "len(da[0]): 419839\n",
        "Feature shape: (96, 910)"
       ]
      },
      {
       "output_type": "stream",
       "stream": "stdout",
       "text": [
        "\n",
        "I am on file 178 with filename LC_50703-01-19-02_combined.dat \n",
        "dt_min: 0.00781249999989"
       ]
      },
      {
       "output_type": "stream",
       "stream": "stdout",
       "text": [
        "\n",
        "len(da[0]): 161791\n",
        "Feature shape: (16, 910)"
       ]
      },
      {
       "output_type": "stream",
       "stream": "stdout",
       "text": [
        "\n",
        "I am on file 179 with filename LC_10408-01-41-00_combined.dat \n",
        "I am on file 180 with filename LC_10408-01-38-00_combined.dat \n",
        "dt_min: 0.00390624999977"
       ]
      },
      {
       "output_type": "stream",
       "stream": "stdout",
       "text": [
        "\n",
        "len(da[0]): 752638\n",
        "len(da[0]): 111613\n",
        "len(da[0]): 289790\n",
        "len(da[0]): 578557\n",
        "len(da[0]): 319486"
       ]
      },
      {
       "output_type": "stream",
       "stream": "stdout",
       "text": [
        "\n",
        "len(da[0]): 483327\n",
        "Feature shape: (133, 910)"
       ]
      },
      {
       "output_type": "stream",
       "stream": "stdout",
       "text": [
        "\n",
        "I am on file 181 with filename LC_50703-01-19-00_combined.dat \n",
        "dt_min: 0.00781249999989"
       ]
      },
      {
       "output_type": "stream",
       "stream": "stdout",
       "text": [
        "\n",
        "len(da[0]): 232703\n",
        "Feature shape: (25, 910)"
       ]
      },
      {
       "output_type": "stream",
       "stream": "stdout",
       "text": [
        "\n",
        "I am on file 182 with filename LC_90024-02-16-00_combined.dat \n",
        "dt_min: 0.00390624999999"
       ]
      },
      {
       "output_type": "stream",
       "stream": "stdout",
       "text": [
        "\n",
        "len(da[0]): 237567\n",
        "Feature shape: (11, 910)"
       ]
      },
      {
       "output_type": "stream",
       "stream": "stdout",
       "text": [
        "\n",
        "I am on file 183 with filename LC_80701-01-18-01_combined.dat \n",
        "dt_min: 0.00781249999994"
       ]
      },
      {
       "output_type": "stream",
       "stream": "stdout",
       "text": [
        "\n",
        "len(da[0]): 81919\n",
        "Feature shape: (6, 910)\n",
        "I am on file 184 with filename LC_40403-01-05-01_combined.dat \n",
        "dt_min: 0.00781249999989"
       ]
      },
      {
       "output_type": "stream",
       "stream": "stdout",
       "text": [
        "\n",
        "len(da[0]): 411647\n",
        "Feature shape: (47, 910)"
       ]
      },
      {
       "output_type": "stream",
       "stream": "stdout",
       "text": [
        "\n",
        "I am on file 185 with filename LC_90105-09-03-00_combined.dat \n",
        "dt_min: 0.00390624999989"
       ]
      },
      {
       "output_type": "stream",
       "stream": "stdout",
       "text": [
        "\n",
        "len(da[0]): 438271\n",
        "Feature shape: (23, 910)"
       ]
      },
      {
       "output_type": "stream",
       "stream": "stdout",
       "text": [
        "\n",
        "I am on file 186 with filename LC_50703-01-55-00_combined.dat \n",
        "dt_min: 0.00781249999989"
       ]
      },
      {
       "output_type": "stream",
       "stream": "stdout",
       "text": [
        "\n",
        "len(da[0]): 253951\n",
        "Feature shape: (27, 910)"
       ]
      },
      {
       "output_type": "stream",
       "stream": "stdout",
       "text": [
        "\n",
        "I am on file 187 with filename LC_60701-01-25-02_combined.dat \n",
        "dt_min: 0.00781249999989"
       ]
      },
      {
       "output_type": "stream",
       "stream": "stdout",
       "text": [
        "\n",
        "len(da[0]): 142719\n",
        "Feature shape: (14, 910)"
       ]
      },
      {
       "output_type": "stream",
       "stream": "stdout",
       "text": [
        "\n",
        "I am on file 188 with filename LC_90105-05-03-02_combined.dat \n",
        "dt_min: 0.00390624999989"
       ]
      },
      {
       "output_type": "stream",
       "stream": "stdout",
       "text": [
        "\n",
        "len(da[0]): 311295\n",
        "Feature shape: (15, 910)"
       ]
      },
      {
       "output_type": "stream",
       "stream": "stdout",
       "text": [
        "\n",
        "I am on file 189 with filename LC_93701-01-23-00_combined.dat \n",
        "dt_min: 0.00781249999989"
       ]
      },
      {
       "output_type": "stream",
       "stream": "stdout",
       "text": [
        "\n",
        "len(da[0]): 395263\n",
        "Feature shape: (45, 910)"
       ]
      },
      {
       "output_type": "stream",
       "stream": "stdout",
       "text": [
        "\n",
        "I am on file 190 with filename LC_96701-01-29-00_combined.dat \n",
        "dt_min: 0.00781249999977"
       ]
      },
      {
       "output_type": "stream",
       "stream": "stdout",
       "text": [
        "\n",
        "len(da[0]): 206847\n",
        "Feature shape: (22, 910)"
       ]
      },
      {
       "output_type": "stream",
       "stream": "stdout",
       "text": [
        "\n",
        "I am on file 191 with filename LC_50125-01-05-01_combined.dat \n",
        "dt_min: 0.00781249999818"
       ]
      },
      {
       "output_type": "stream",
       "stream": "stdout",
       "text": [
        "\n",
        "len(da[0]): 303230\n",
        "len(da[0]): 33661\n",
        "len(da[0]): 395263\n",
        "Feature shape: (80, 910)"
       ]
      },
      {
       "output_type": "stream",
       "stream": "stdout",
       "text": [
        "\n",
        "I am on file 192 with filename LC_50703-01-22-00_combined.dat \n",
        "dt_min: 0.00781249999818"
       ]
      },
      {
       "output_type": "stream",
       "stream": "stdout",
       "text": [
        "\n",
        "len(da[0]): 405502\n",
        "len(da[0]): 409598\n",
        "len(da[0]): 407550\n",
        "len(da[0]): 188415"
       ]
      },
      {
       "output_type": "stream",
       "stream": "stdout",
       "text": [
        "\n",
        "Feature shape: (157, 910)"
       ]
      },
      {
       "output_type": "stream",
       "stream": "stdout",
       "text": [
        "\n",
        "I am on file 193 with filename LC_20402-01-58-01_combined.dat \n",
        "dt_min: 0.00781249999989"
       ]
      },
      {
       "output_type": "stream",
       "stream": "stdout",
       "text": [
        "\n",
        "len(da[0]): 276478\n",
        "len(da[0]): 215805\n",
        "len(da[0]): 11519\n",
        "Feature shape: (53, 910)"
       ]
      },
      {
       "output_type": "stream",
       "stream": "stdout",
       "text": [
        "\n",
        "I am on file 194 with filename LC_40703-01-21-01_combined.dat \n",
        "dt_min: 0.00781249999989"
       ]
      },
      {
       "output_type": "stream",
       "stream": "stdout",
       "text": [
        "\n",
        "len(da[0]): 135166\n",
        "len(da[0]): 65534\n",
        "len(da[0]): 114686\n",
        "len(da[0]): 78206\n",
        "len(da[0]): 32766\n",
        "Feature shape: (33, 910)"
       ]
      },
      {
       "output_type": "stream",
       "stream": "stdout",
       "text": [
        "\n",
        "I am on file 195 with filename LC_80127-05-05-02_combined.dat \n",
        "dt_min: 0.00390624999989"
       ]
      },
      {
       "output_type": "stream",
       "stream": "stdout",
       "text": [
        "\n",
        "len(da[0]): 434175\n",
        "Feature shape: (23, 910)"
       ]
      },
      {
       "output_type": "stream",
       "stream": "stdout",
       "text": [
        "\n",
        "I am on file 196 with filename LC_91701-01-02-01_combined.dat \n",
        "dt_min: 0.00781249999989"
       ]
      },
      {
       "output_type": "stream",
       "stream": "stdout",
       "text": [
        "\n",
        "len(da[0]): 145407\n",
        "Feature shape: (14, 910)"
       ]
      },
      {
       "output_type": "stream",
       "stream": "stdout",
       "text": [
        "\n",
        "I am on file 197 with filename LC_94701-01-35-00_combined.dat \n",
        "dt_min: 0.00781249999977"
       ]
      },
      {
       "output_type": "stream",
       "stream": "stdout",
       "text": [
        "\n",
        "len(da[0]): 232575\n",
        "Feature shape: (25, 910)"
       ]
      },
      {
       "output_type": "stream",
       "stream": "stdout",
       "text": [
        "\n",
        "I am on file 198 with filename LC_91701-01-68-00_combined.dat \n",
        "dt_min: 0.00781249999989"
       ]
      },
      {
       "output_type": "stream",
       "stream": "stdout",
       "text": [
        "\n",
        "len(da[0]): 149503\n",
        "Feature shape: (15, 910)"
       ]
      },
      {
       "output_type": "stream",
       "stream": "stdout",
       "text": [
        "\n",
        "I am on file 199 with filename LC_40116-01-01-07_combined.dat \n",
        "dt_min: 0.00781249999989"
       ]
      },
      {
       "output_type": "stream",
       "stream": "stdout",
       "text": [
        "\n",
        "len(da[0]): 193278\n",
        "len(da[0]): 104702\n",
        "Feature shape: (29, 910)"
       ]
      },
      {
       "output_type": "stream",
       "stream": "stdout",
       "text": [
        "\n",
        "I am on file 200 with filename LC_80701-01-36-01_combined.dat \n",
        "dt_min: 0.00781249999999"
       ]
      },
      {
       "output_type": "stream",
       "stream": "stdout",
       "text": [
        "\n",
        "len(da[0]): 126975\n",
        "Feature shape: (12, 910)"
       ]
      },
      {
       "output_type": "stream",
       "stream": "stdout",
       "text": [
        "\n",
        "I am on file 201 with filename LC_95701-01-19-00_combined.dat \n",
        "dt_min: 0.00781249999989"
       ]
      },
      {
       "output_type": "stream",
       "stream": "stdout",
       "text": [
        "\n",
        "len(da[0]): 361983\n",
        "Feature shape: (41, 910)"
       ]
      },
      {
       "output_type": "stream",
       "stream": "stdout",
       "text": [
        "\n",
        "I am on file 202 with filename LC_91701-01-49-00_combined.dat \n",
        "dt_min: 0.00781249999989"
       ]
      },
      {
       "output_type": "stream",
       "stream": "stdout",
       "text": [
        "\n",
        "len(da[0]): 245759\n",
        "Feature shape: (26, 910)"
       ]
      },
      {
       "output_type": "stream",
       "stream": "stdout",
       "text": [
        "\n",
        "I am on file 203 with filename LC_30402-01-07-00_combined.dat \n",
        "dt_min: 0.00781249999989"
       ]
      },
      {
       "output_type": "stream",
       "stream": "stdout",
       "text": [
        "\n",
        "len(da[0]): 90877\n",
        "len(da[0]): 342270\n",
        "len(da[0]): 167935\n",
        "Feature shape: (63, 910)"
       ]
      },
      {
       "output_type": "stream",
       "stream": "stdout",
       "text": [
        "\n",
        "I am on file 204 with filename LC_20186-03-03-01_combined.dat \n",
        "dt_min: 0.00781249999989"
       ]
      },
      {
       "output_type": "stream",
       "stream": "stdout",
       "text": [
        "\n",
        "len(da[0]): 231422\n",
        "len(da[0]): 284670\n",
        "len(da[0]): 149501\n",
        "len(da[0]): 179197\n",
        "len(da[0]): 382975\n",
        "Feature shape: (132, 910)"
       ]
      },
      {
       "output_type": "stream",
       "stream": "stdout",
       "text": [
        "\n",
        "I am on file 205 with filename LC_90024-02-36-00_combined.dat \n",
        "dt_min: 0.00390624999999"
       ]
      },
      {
       "output_type": "stream",
       "stream": "stdout",
       "text": [
        "\n",
        "len(da[0]): 155647\n",
        "Feature shape: (6, 910)\n",
        "I am on file 206 with filename LC_91701-01-52-01_combined.dat \n",
        "dt_min: 0.00781249999989"
       ]
      },
      {
       "output_type": "stream",
       "stream": "stdout",
       "text": [
        "\n",
        "len(da[0]): 264191\n",
        "Feature shape: (29, 910)"
       ]
      },
      {
       "output_type": "stream",
       "stream": "stdout",
       "text": [
        "\n",
        "I am on file 207 with filename LC_92702-01-23-00_combined.dat \n",
        "dt_min: 0.00781249999989"
       ]
      },
      {
       "output_type": "stream",
       "stream": "stdout",
       "text": [
        "\n",
        "len(da[0]): 223231\n",
        "Feature shape: (24, 910)"
       ]
      },
      {
       "output_type": "stream",
       "stream": "stdout",
       "text": [
        "\n",
        "I am on file 208 with filename LC_94701-01-19-00_combined.dat \n",
        "dt_min: 0.00781249999977"
       ]
      },
      {
       "output_type": "stream",
       "stream": "stdout",
       "text": [
        "\n",
        "len(da[0]): 415743\n",
        "Feature shape: (47, 910)"
       ]
      },
      {
       "output_type": "stream",
       "stream": "stdout",
       "text": [
        "\n",
        "I am on file 209 with filename LC_90024-02-25-00_combined.dat \n",
        "dt_min: 0.00390624999999"
       ]
      },
      {
       "output_type": "stream",
       "stream": "stdout",
       "text": [
        "\n",
        "len(da[0]): 65535\n",
        "Feature shape: (0,)\n",
        "I am on file 210 with filename LC_80127-05-04-00_combined.dat \n",
        "dt_min: 0.00390624999989"
       ]
      },
      {
       "output_type": "stream",
       "stream": "stdout",
       "text": [
        "\n",
        "len(da[0]): 354559\n",
        "Feature shape: (18, 910)"
       ]
      },
      {
       "output_type": "stream",
       "stream": "stdout",
       "text": [
        "\n",
        "I am on file 211 with filename LC_70702-01-35-01_combined.dat \n",
        "dt_min: 0.00781249999989"
       ]
      },
      {
       "output_type": "stream",
       "stream": "stdout",
       "text": [
        "\n",
        "len(da[0]): 179967\n",
        "Feature shape: (18, 910)"
       ]
      },
      {
       "output_type": "stream",
       "stream": "stdout",
       "text": [
        "\n",
        "I am on file 212 with filename LC_93701-01-18-01_combined.dat \n",
        "dt_min: 0.00781249999989"
       ]
      },
      {
       "output_type": "stream",
       "stream": "stdout",
       "text": [
        "\n",
        "len(da[0]): 122879\n",
        "Feature shape: (11, 910)"
       ]
      },
      {
       "output_type": "stream",
       "stream": "stdout",
       "text": [
        "\n",
        "I am on file 213 with filename LC_50703-01-54-00_combined.dat \n",
        "dt_min: 0.00781249999989"
       ]
      },
      {
       "output_type": "stream",
       "stream": "stdout",
       "text": [
        "\n",
        "len(da[0]): 221183\n",
        "Feature shape: (23, 910)"
       ]
      },
      {
       "output_type": "stream",
       "stream": "stdout",
       "text": [
        "\n",
        "I am on file 214 with filename LC_60702-01-01-05_combined.dat \n",
        "dt_min: 0.00781249999989"
       ]
      },
      {
       "output_type": "stream",
       "stream": "stdout",
       "text": [
        "\n",
        "len(da[0]): 211455\n",
        "Feature shape: (22, 910)"
       ]
      },
      {
       "output_type": "stream",
       "stream": "stdout",
       "text": [
        "\n",
        "I am on file 215 with filename LC_90701-01-17-01_combined.dat \n",
        "dt_min: 0.00781249999989"
       ]
      },
      {
       "output_type": "stream",
       "stream": "stdout",
       "text": [
        "\n",
        "len(da[0]): 245759\n",
        "Feature shape: (26, 910)"
       ]
      },
      {
       "output_type": "stream",
       "stream": "stdout",
       "text": [
        "\n",
        "I am on file 216 with filename LC_96701-01-07-00_combined.dat \n",
        "dt_min: 0.00781249999989"
       ]
      },
      {
       "output_type": "stream",
       "stream": "stdout",
       "text": [
        "\n",
        "len(da[0]): 172031\n",
        "Feature shape: (17, 910)"
       ]
      },
      {
       "output_type": "stream",
       "stream": "stdout",
       "text": [
        "\n",
        "I am on file 217 with filename LC_30703-01-18-00_combined.dat \n",
        "dt_min: 0.00781249999955"
       ]
      },
      {
       "output_type": "stream",
       "stream": "stdout",
       "text": [
        "\n",
        "len(da[0]): 163198\n",
        "len(da[0]): 421887\n",
        "Feature shape: (64, 910)"
       ]
      },
      {
       "output_type": "stream",
       "stream": "stdout",
       "text": [
        "\n",
        "I am on file 218 with filename LC_10408-01-20-01_combined.dat \n",
        "I am on file 219 with filename LC_10408-01-15-00_combined.dat \n",
        "I am on file 220 with filename LC_90105-03-01-00_combined.dat \n",
        "dt_min: 0.00390624999989"
       ]
      },
      {
       "output_type": "stream",
       "stream": "stdout",
       "text": [
        "\n",
        "len(da[0]): 557055\n",
        "Feature shape: (30, 910)"
       ]
      },
      {
       "output_type": "stream",
       "stream": "stdout",
       "text": [
        "\n",
        "I am on file 221 with filename LC_80127-05-05-01_combined.dat \n",
        "dt_min: 0.00390624999989"
       ]
      },
      {
       "output_type": "stream",
       "stream": "stdout",
       "text": [
        "\n",
        "len(da[0]): 389119\n",
        "Feature shape: (20, 910)"
       ]
      },
      {
       "output_type": "stream",
       "stream": "stdout",
       "text": [
        "\n",
        "I am on file 222 with filename LC_50703-01-50-00_combined.dat \n",
        "dt_min: 0.00781249999989"
       ]
      },
      {
       "output_type": "stream",
       "stream": "stdout",
       "text": [
        "\n",
        "len(da[0]): 419839\n",
        "Feature shape: (48, 910)"
       ]
      },
      {
       "output_type": "stream",
       "stream": "stdout",
       "text": [
        "\n",
        "I am on file 223 with filename LC_30402-01-09-00_combined.dat \n",
        "dt_min: 0.00781249999955"
       ]
      },
      {
       "output_type": "stream",
       "stream": "stdout",
       "text": [
        "\n",
        "len(da[0]): 159742\n",
        "len(da[0]): 133501\n",
        "len(da[0]): 252542\n",
        "len(da[0]): 18431\n",
        "Feature shape: (56, 910)"
       ]
      },
      {
       "output_type": "stream",
       "stream": "stdout",
       "text": [
        "\n",
        "I am on file 224 with filename LC_80701-01-27-01_combined.dat \n",
        "dt_min: 0.00781249999989"
       ]
      },
      {
       "output_type": "stream",
       "stream": "stdout",
       "text": [
        "\n",
        "len(da[0]): 157695\n",
        "Feature shape: (16, 910)"
       ]
      },
      {
       "output_type": "stream",
       "stream": "stdout",
       "text": [
        "\n",
        "I am on file 225 with filename LC_94701-01-31-00_combined.dat \n",
        "dt_min: 0.00781249999977"
       ]
      },
      {
       "output_type": "stream",
       "stream": "stdout",
       "text": [
        "\n",
        "len(da[0]): 288767\n",
        "Feature shape: (32, 910)"
       ]
      },
      {
       "output_type": "stream",
       "stream": "stdout",
       "text": [
        "\n",
        "I am on file 226 with filename LC_91102-01-01-00_combined.dat \n",
        "dt_min: 0.00781249999818"
       ]
      },
      {
       "output_type": "stream",
       "stream": "stdout",
       "text": [
        "\n",
        "len(da[0]): 411646\n",
        "len(da[0]): 411647\n",
        "Feature shape: (94, 910)"
       ]
      },
      {
       "output_type": "stream",
       "stream": "stdout",
       "text": [
        "\n",
        "I am on file 227 with filename LC_91701-01-24-00_combined.dat \n",
        "dt_min: 0.00781249999989"
       ]
      },
      {
       "output_type": "stream",
       "stream": "stdout",
       "text": [
        "\n",
        "len(da[0]): 221183\n",
        "Feature shape: (23, 910)"
       ]
      },
      {
       "output_type": "stream",
       "stream": "stdout",
       "text": [
        "\n",
        "I am on file 228 with filename LC_90701-01-29-01_combined.dat \n",
        "dt_min: 0.00781249999989"
       ]
      },
      {
       "output_type": "stream",
       "stream": "stdout",
       "text": [
        "\n",
        "len(da[0]): 182271\n",
        "Feature shape: (19, 910)"
       ]
      },
      {
       "output_type": "stream",
       "stream": "stdout",
       "text": [
        "\n",
        "I am on file 229 with filename LC_90701-01-41-00_combined.dat \n",
        "dt_min: 0.00781249999989"
       ]
      },
      {
       "output_type": "stream",
       "stream": "stdout",
       "text": [
        "\n",
        "len(da[0]): 411647\n",
        "Feature shape: (47, 910)"
       ]
      },
      {
       "output_type": "stream",
       "stream": "stdout",
       "text": [
        "\n",
        "I am on file 230 with filename LC_91701-01-78-00_combined.dat \n",
        "dt_min: 0.00781249999989"
       ]
      },
      {
       "output_type": "stream",
       "stream": "stdout",
       "text": [
        "\n",
        "len(da[0]): 215039\n",
        "Feature shape: (23, 910)"
       ]
      },
      {
       "output_type": "stream",
       "stream": "stdout",
       "text": [
        "\n",
        "I am on file 231 with filename LC_50703-01-12-00_combined.dat \n",
        "dt_min: 0.00781249999989"
       ]
      },
      {
       "output_type": "stream",
       "stream": "stdout",
       "text": [
        "\n",
        "len(da[0]): 184319\n",
        "Feature shape: (19, 910)"
       ]
      },
      {
       "output_type": "stream",
       "stream": "stdout",
       "text": [
        "\n",
        "I am on file 232 with filename LC_30703-01-06-00_combined.dat \n",
        "dt_min: 0.00781249999818"
       ]
      },
      {
       "output_type": "stream",
       "stream": "stdout",
       "text": [
        "\n",
        "len(da[0]): 429822\n",
        "len(da[0]): 202751\n",
        "Feature shape: (70, 910)"
       ]
      },
      {
       "output_type": "stream",
       "stream": "stdout",
       "text": [
        "\n",
        "I am on file 233 with filename LC_93701-01-10-01_combined.dat \n",
        "dt_min: 0.00781249999989"
       ]
      },
      {
       "output_type": "stream",
       "stream": "stdout",
       "text": [
        "\n",
        "len(da[0]): 110591\n",
        "Feature shape: (10, 910)\n",
        "I am on file 234 with filename LC_93411-01-01-00_combined.dat \n",
        "dt_min: 0.00781249999989"
       ]
      },
      {
       "output_type": "stream",
       "stream": "stdout",
       "text": [
        "\n",
        "len(da[0]): 409599\n",
        "Feature shape: (46, 910)"
       ]
      },
      {
       "output_type": "stream",
       "stream": "stdout",
       "text": [
        "\n",
        "I am on file 235 with filename LC_20402-01-52-00_combined.dat \n",
        "I am on file 236 with filename LC_95701-01-30-00_combined.dat \n",
        "dt_min: 0.00781249999999"
       ]
      },
      {
       "output_type": "stream",
       "stream": "stdout",
       "text": [
        "\n",
        "len(da[0]): 1534\n",
        "len(da[0]): 67069\n",
        "len(da[0]): 272383\n",
        "Feature shape: (35, 910)"
       ]
      },
      {
       "output_type": "stream",
       "stream": "stdout",
       "text": [
        "\n",
        "I am on file 237 with filename LC_96701-01-10-01_combined.dat \n",
        "dt_min: 0.00781249999977"
       ]
      },
      {
       "output_type": "stream",
       "stream": "stdout",
       "text": [
        "\n",
        "len(da[0]): 286719\n",
        "Feature shape: (31, 910)"
       ]
      },
      {
       "output_type": "stream",
       "stream": "stdout",
       "text": [
        "\n",
        "I am on file 238 with filename LC_80701-01-35-00_combined.dat \n",
        "dt_min: 0.00781249999989"
       ]
      },
      {
       "output_type": "stream",
       "stream": "stdout",
       "text": [
        "\n",
        "len(da[0]): 176127\n",
        "Feature shape: (18, 910)"
       ]
      },
      {
       "output_type": "stream",
       "stream": "stdout",
       "text": [
        "\n",
        "I am on file 239 with filename LC_20402-01-13-00_combined.dat \n",
        "I am on file 240 with filename LC_70702-01-45-01_combined.dat \n",
        "dt_min: 0.00781249999989"
       ]
      },
      {
       "output_type": "stream",
       "stream": "stdout",
       "text": [
        "\n",
        "len(da[0]): 403455\n",
        "Feature shape: (46, 910)"
       ]
      },
      {
       "output_type": "stream",
       "stream": "stdout",
       "text": [
        "\n",
        "I am on file 241 with filename LC_40703-01-22-01_combined.dat \n",
        "dt_min: 0.00781249999989"
       ]
      },
      {
       "output_type": "stream",
       "stream": "stdout",
       "text": [
        "\n",
        "len(da[0]): 148478\n",
        "len(da[0]): 27902\n",
        "Feature shape: (15, 910)"
       ]
      },
      {
       "output_type": "stream",
       "stream": "stdout",
       "text": [
        "\n",
        "I am on file 242 with filename LC_70702-01-29-00_combined.dat \n",
        "dt_min: 0.00781249999989"
       ]
      },
      {
       "output_type": "stream",
       "stream": "stdout",
       "text": [
        "\n",
        "len(da[0]): 413695\n",
        "Feature shape: (47, 910)"
       ]
      },
      {
       "output_type": "stream",
       "stream": "stdout",
       "text": [
        "\n",
        "I am on file 243 with filename LC_96701-01-49-00_combined.dat \n",
        "dt_min: 0.00781249999977"
       ]
      },
      {
       "output_type": "stream",
       "stream": "stdout",
       "text": [
        "\n",
        "len(da[0]): 409599\n",
        "Feature shape: (46, 910)"
       ]
      },
      {
       "output_type": "stream",
       "stream": "stdout",
       "text": [
        "\n",
        "I am on file 244 with filename LC_80701-01-34-01_combined.dat \n",
        "dt_min: 0.00781249999994"
       ]
      },
      {
       "output_type": "stream",
       "stream": "stdout",
       "text": [
        "\n",
        "len(da[0]): 101503\n",
        "Feature shape: (9, 910)\n",
        "I am on file 245 with filename LC_10408-01-01-00_combined.dat \n",
        "dt_min: 0.0156249999995"
       ]
      },
      {
       "output_type": "stream",
       "stream": "stdout",
       "text": [
        "\n",
        "len(da[0]): 184318\n",
        "len(da[0]): 6078\n",
        "len(da[0]): 202749\n",
        "len(da[0]): 212990\n",
        "len(da[0]): 27583\n",
        "Feature shape: (138, 910)"
       ]
      },
      {
       "output_type": "stream",
       "stream": "stdout",
       "text": [
        "\n",
        "I am on file 246 with filename LC_92092-03-01-00_combined.dat \n",
        "dt_min: 0.00781249999818"
       ]
      },
      {
       "output_type": "stream",
       "stream": "stdout",
       "text": [
        "\n",
        "len(da[0]): 399358\n",
        "len(da[0]): 403454\n",
        "len(da[0]): 362366\n",
        "len(da[0]): 403455"
       ]
      },
      {
       "output_type": "stream",
       "stream": "stdout",
       "text": [
        "\n",
        "Feature shape: (178, 910)"
       ]
      },
      {
       "output_type": "stream",
       "stream": "stdout",
       "text": [
        "\n",
        "I am on file 247 with filename LC_20186-03-02-03_combined.dat \n",
        "dt_min: 0.00781249999818"
       ]
      },
      {
       "output_type": "stream",
       "stream": "stdout",
       "text": [
        "\n",
        "len(da[0]): 364542\n",
        "len(da[0]): 105597\n",
        "len(da[0]): 208381\n",
        "len(da[0]): 56703\n",
        "Feature shape: (75, 910)"
       ]
      },
      {
       "output_type": "stream",
       "stream": "stdout",
       "text": [
        "\n",
        "I am on file 248 with filename LC_20402-01-45-01_combined.dat \n",
        "I am on file 249 with filename LC_94701-01-48-00_combined.dat \n",
        "dt_min: 0.00781249999989"
       ]
      },
      {
       "output_type": "stream",
       "stream": "stdout",
       "text": [
        "\n",
        "len(da[0]): 172031\n",
        "Feature shape: (17, 910)"
       ]
      },
      {
       "output_type": "stream",
       "stream": "stdout",
       "text": [
        "\n",
        "I am on file 250 with filename LC_40403-01-05-02_combined.dat \n",
        "dt_min: 0.00781249999989"
       ]
      },
      {
       "output_type": "stream",
       "stream": "stdout",
       "text": [
        "\n",
        "len(da[0]): 49150\n",
        "len(da[0]): 278526\n",
        "len(da[0]): 28671\n",
        "Feature shape: (32, 910)"
       ]
      },
      {
       "output_type": "stream",
       "stream": "stdout",
       "text": [
        "\n",
        "I am on file 251 with filename LC_91701-01-85-01_combined.dat \n",
        "dt_min: 0.00781249999989"
       ]
      },
      {
       "output_type": "stream",
       "stream": "stdout",
       "text": [
        "\n",
        "len(da[0]): 194431\n",
        "Feature shape: (20, 910)"
       ]
      },
      {
       "output_type": "stream",
       "stream": "stdout",
       "text": [
        "\n",
        "I am on file 252 with filename LC_91701-01-44-01_combined.dat \n",
        "dt_min: 0.00781249999989"
       ]
      },
      {
       "output_type": "stream",
       "stream": "stdout",
       "text": [
        "\n",
        "len(da[0]): 108543\n",
        "Feature shape: (10, 910)"
       ]
      },
      {
       "output_type": "stream",
       "stream": "stdout",
       "text": [
        "\n",
        "I am on file 253 with filename LC_20187-02-02-00_combined.dat \n",
        "dt_min: 0.0078125"
       ]
      },
      {
       "output_type": "stream",
       "stream": "stdout",
       "text": [
        "\n",
        "len(da[0]): 87550\n",
        "len(da[0]): 43517\n",
        "len(da[0]): 331262\n",
        "len(da[0]): 92669\n",
        "len(da[0]): 344062\n",
        "len(da[0]): 161278\n",
        "len(da[0]): 109053\n",
        "len(da[0]): 398846"
       ]
      },
      {
       "output_type": "stream",
       "stream": "stdout",
       "text": [
        "\n",
        "len(da[0]): 25086\n",
        "Feature shape: (163, 910)"
       ]
      },
      {
       "output_type": "stream",
       "stream": "stdout",
       "text": [
        "\n",
        "I am on file 254 with filename LC_91701-01-85-00_combined.dat \n",
        "dt_min: 0.00781249999989"
       ]
      },
      {
       "output_type": "stream",
       "stream": "stdout",
       "text": [
        "\n",
        "len(da[0]): 208895\n",
        "Feature shape: (22, 910)"
       ]
      },
      {
       "output_type": "stream",
       "stream": "stdout",
       "text": [
        "\n",
        "I am on file 255 with filename LC_60701-01-06-03_combined.dat \n",
        "dt_min: 0.00781249999989"
       ]
      },
      {
       "output_type": "stream",
       "stream": "stdout",
       "text": [
        "\n",
        "len(da[0]): 137214\n",
        "len(da[0]): 7166\n",
        "Feature shape: (13, 910)"
       ]
      },
      {
       "output_type": "stream",
       "stream": "stdout",
       "text": [
        "\n",
        "I am on file 256 with filename LC_80701-01-10-02_combined.dat \n",
        "dt_min: 0.00781249999989"
       ]
      },
      {
       "output_type": "stream",
       "stream": "stdout",
       "text": [
        "\n",
        "len(da[0]): 83967\n",
        "Feature shape: (7, 910)\n",
        "I am on file 257 with filename LC_96701-01-36-00_combined.dat \n",
        "dt_min: 0.00781249999977"
       ]
      },
      {
       "output_type": "stream",
       "stream": "stdout",
       "text": [
        "\n",
        "len(da[0]): 174079\n",
        "Feature shape: (18, 910)"
       ]
      },
      {
       "output_type": "stream",
       "stream": "stdout",
       "text": [
        "\n",
        "I am on file 258 with filename LC_91701-01-12-01_combined.dat \n",
        "dt_min: 0.00781249999989"
       ]
      },
      {
       "output_type": "stream",
       "stream": "stdout",
       "text": [
        "\n",
        "len(da[0]): 292863\n",
        "Feature shape: (32, 910)"
       ]
      },
      {
       "output_type": "stream",
       "stream": "stdout",
       "text": [
        "\n",
        "I am on file 259 with filename LC_90701-01-04-00_combined.dat \n",
        "dt_min: 0.00781249999989"
       ]
      },
      {
       "output_type": "stream",
       "stream": "stdout",
       "text": [
        "\n",
        "len(da[0]): 205951\n",
        "Feature shape: (22, 910)"
       ]
      },
      {
       "output_type": "stream",
       "stream": "stdout",
       "text": [
        "\n",
        "I am on file 260 with filename LC_92702-01-28-00_combined.dat \n",
        "dt_min: 0.00781249999989"
       ]
      },
      {
       "output_type": "stream",
       "stream": "stdout",
       "text": [
        "\n",
        "len(da[0]): 196607\n",
        "Feature shape: (20, 910)"
       ]
      },
      {
       "output_type": "stream",
       "stream": "stdout",
       "text": [
        "\n",
        "I am on file 261 with filename LC_92702-01-28-02_combined.dat \n",
        "dt_min: 0.00781249999989"
       ]
      },
      {
       "output_type": "stream",
       "stream": "stdout",
       "text": [
        "\n",
        "len(da[0]): 215039\n",
        "Feature shape: (23, 910)"
       ]
      },
      {
       "output_type": "stream",
       "stream": "stdout",
       "text": [
        "\n",
        "I am on file 262 with filename LC_80701-01-02-00_combined.dat \n",
        "dt_min: 0.00781249999989"
       ]
      },
      {
       "output_type": "stream",
       "stream": "stdout",
       "text": [
        "\n",
        "len(da[0]): 246655\n",
        "Feature shape: (27, 910)"
       ]
      },
      {
       "output_type": "stream",
       "stream": "stdout",
       "text": [
        "\n",
        "I am on file 263 with filename LC_30703-01-03-00_combined.dat \n",
        "dt_min: 0.00781249999989"
       ]
      },
      {
       "output_type": "stream",
       "stream": "stdout",
       "text": [
        "\n",
        "len(da[0]): 423934\n",
        "len(da[0]): 145150\n",
        "Feature shape: (62, 910)"
       ]
      },
      {
       "output_type": "stream",
       "stream": "stdout",
       "text": [
        "\n",
        "I am on file 264 with filename LC_70702-01-26-01_combined.dat \n",
        "dt_min: 0.00781249999994"
       ]
      },
      {
       "output_type": "stream",
       "stream": "stdout",
       "text": [
        "\n",
        "len(da[0]): 129023\n",
        "Feature shape: (12, 910)"
       ]
      },
      {
       "output_type": "stream",
       "stream": "stdout",
       "text": [
        "\n",
        "I am on file 265 with filename LC_94701-01-41-00_combined.dat \n",
        "dt_min: 0.00781249999977"
       ]
      },
      {
       "output_type": "stream",
       "stream": "stdout",
       "text": [
        "\n",
        "len(da[0]): 373887\n",
        "Feature shape: (42, 910)"
       ]
      },
      {
       "output_type": "stream",
       "stream": "stdout",
       "text": [
        "\n",
        "I am on file 266 with filename LC_91701-01-84-01_combined.dat \n",
        "dt_min: 0.00781249999989"
       ]
      },
      {
       "output_type": "stream",
       "stream": "stdout",
       "text": [
        "\n",
        "len(da[0]): 257535\n",
        "Feature shape: (28, 910)"
       ]
      },
      {
       "output_type": "stream",
       "stream": "stdout",
       "text": [
        "\n",
        "I am on file 267 with filename LC_60701-01-02-00_combined.dat \n",
        "dt_min: 0.00781249999989"
       ]
      },
      {
       "output_type": "stream",
       "stream": "stdout",
       "text": [
        "\n",
        "len(da[0]): 180223\n",
        "Feature shape: (18, 910)"
       ]
      },
      {
       "output_type": "stream",
       "stream": "stdout",
       "text": [
        "\n",
        "I am on file 268 with filename LC_40115-01-06-00_combined.dat \n",
        "dt_min: 0.00781249999989"
       ]
      },
      {
       "output_type": "stream",
       "stream": "stdout",
       "text": [
        "\n",
        "len(da[0]): 429439\n",
        "Feature shape: (49, 910)"
       ]
      },
      {
       "output_type": "stream",
       "stream": "stdout",
       "text": [
        "\n",
        "I am on file 269 with filename LC_30183-02-01-01_combined.dat \n",
        "dt_min: 0.00781249999989"
       ]
      },
      {
       "output_type": "stream",
       "stream": "stdout",
       "text": [
        "\n",
        "len(da[0]): 281085\n",
        "len(da[0]): 98815\n",
        "Feature shape: (40, 910)"
       ]
      },
      {
       "output_type": "stream",
       "stream": "stdout",
       "text": [
        "\n",
        "I am on file 270 with filename LC_20402-01-35-00_combined.dat \n",
        "I am on file 271 with filename LC_94701-01-08-00_combined.dat \n",
        "dt_min: 0.00781249999977"
       ]
      },
      {
       "output_type": "stream",
       "stream": "stdout",
       "text": [
        "\n",
        "len(da[0]): 36222\n",
        "len(da[0]): 323198\n",
        "Feature shape: (37, 910)"
       ]
      },
      {
       "output_type": "stream",
       "stream": "stdout",
       "text": [
        "\n",
        "I am on file 272 with filename LC_80701-01-02-01_combined.dat \n",
        "dt_min: 0.00781249999989"
       ]
      },
      {
       "output_type": "stream",
       "stream": "stdout",
       "text": [
        "\n",
        "len(da[0]): 165887\n",
        "Feature shape: (17, 910)"
       ]
      },
      {
       "output_type": "stream",
       "stream": "stdout",
       "text": [
        "\n",
        "I am on file 273 with filename LC_20402-01-45-03_combined.dat \n",
        "I am on file 274 with filename LC_93701-01-01-00_combined.dat \n",
        "dt_min: 0.00781249999989"
       ]
      },
      {
       "output_type": "stream",
       "stream": "stdout",
       "text": [
        "\n",
        "len(da[0]): 192640\n",
        "Feature shape: (20, 910)"
       ]
      },
      {
       "output_type": "stream",
       "stream": "stdout",
       "text": [
        "\n",
        "I am on file 275 with filename LC_90105-01-03-00_combined.dat \n",
        "dt_min: 0.00390624999989"
       ]
      },
      {
       "output_type": "stream",
       "stream": "stdout",
       "text": [
        "\n",
        "len(da[0]): 356351\n",
        "Feature shape: (18, 910)"
       ]
      },
      {
       "output_type": "stream",
       "stream": "stdout",
       "text": [
        "\n",
        "I am on file 276 with filename LC_91701-01-74-00_combined.dat \n",
        "dt_min: 0.00781249999989"
       ]
      },
      {
       "output_type": "stream",
       "stream": "stdout",
       "text": [
        "\n",
        "len(da[0]): 378879\n",
        "Feature shape: (43, 910)"
       ]
      },
      {
       "output_type": "stream",
       "stream": "stdout",
       "text": [
        "\n",
        "I am on file 277 with filename LC_50703-01-15-03_combined.dat \n",
        "dt_min: 0.00781249999989"
       ]
      },
      {
       "output_type": "stream",
       "stream": "stdout",
       "text": [
        "\n",
        "len(da[0]): 262143\n",
        "Feature shape: (28, 910)"
       ]
      },
      {
       "output_type": "stream",
       "stream": "stdout",
       "text": [
        "\n",
        "I am on file 278 with filename LC_30703-01-32-00_combined.dat \n",
        "dt_min: 0.00781249999989"
       ]
      },
      {
       "output_type": "stream",
       "stream": "stdout",
       "text": [
        "\n",
        "len(da[0]): 76157\n",
        "len(da[0]): 158334\n",
        "len(da[0]): 288767\n",
        "Feature shape: (54, 910)"
       ]
      },
      {
       "output_type": "stream",
       "stream": "stdout",
       "text": [
        "\n",
        "I am on file 279 with filename LC_60701-01-08-00_combined.dat \n",
        "dt_min: 0.00781249999909"
       ]
      },
      {
       "output_type": "stream",
       "stream": "stdout",
       "text": [
        "\n",
        "len(da[0]): 417790\n",
        "len(da[0]): 417791\n",
        "Feature shape: (94, 910)"
       ]
      },
      {
       "output_type": "stream",
       "stream": "stdout",
       "text": [
        "\n",
        "I am on file 280 with filename LC_20402-01-11-00_combined.dat \n",
        "I am on file 281 with filename LC_70703-01-01-02_combined.dat \n",
        "dt_min: 0.00781249999989"
       ]
      },
      {
       "output_type": "stream",
       "stream": "stdout",
       "text": [
        "\n",
        "len(da[0]): 214399\n",
        "Feature shape: (23, 910)"
       ]
      },
      {
       "output_type": "stream",
       "stream": "stdout",
       "text": [
        "\n",
        "I am on file 282 with filename LC_70703-01-01-06_combined.dat \n",
        "dt_min: 0.00781249999994"
       ]
      },
      {
       "output_type": "stream",
       "stream": "stdout",
       "text": [
        "\n",
        "len(da[0]): 83966\n",
        "len(da[0]): 71678\n",
        "len(da[0]): 151550\n",
        "len(da[0]): 71678\n",
        "len(da[0]): 405503\n",
        "Feature shape: (78, 910)"
       ]
      },
      {
       "output_type": "stream",
       "stream": "stdout",
       "text": [
        "\n",
        "I am on file 283 with filename LC_60701-01-03-01_combined.dat \n",
        "dt_min: 0.00781249999994"
       ]
      },
      {
       "output_type": "stream",
       "stream": "stdout",
       "text": [
        "\n",
        "len(da[0]): 90111\n",
        "Feature shape: (7, 910)\n",
        "I am on file 284 with filename LC_94701-01-49-00_combined.dat \n",
        "dt_min: 0.00781249999977"
       ]
      },
      {
       "output_type": "stream",
       "stream": "stdout",
       "text": [
        "\n",
        "len(da[0]): 409599\n",
        "Feature shape: (46, 910)"
       ]
      },
      {
       "output_type": "stream",
       "stream": "stdout",
       "text": [
        "\n",
        "I am on file 285 with filename LC_95701-01-11-01_combined.dat \n",
        "dt_min: 0.00781249999989"
       ]
      },
      {
       "output_type": "stream",
       "stream": "stdout",
       "text": [
        "\n",
        "len(da[0]): 243711\n",
        "Feature shape: (26, 910)"
       ]
      },
      {
       "output_type": "stream",
       "stream": "stdout",
       "text": [
        "\n",
        "I am on file 286 with filename LC_50703-01-19-03_combined.dat \n",
        "dt_min: 0.00781249999989"
       ]
      },
      {
       "output_type": "stream",
       "stream": "stdout",
       "text": [
        "\n",
        "len(da[0]): 155647\n",
        "Feature shape: (15, 910)"
       ]
      },
      {
       "output_type": "stream",
       "stream": "stdout",
       "text": [
        "\n",
        "I am on file 287 with filename LC_80127-01-01-00_combined.dat \n",
        "dt_min: 0.00390624999994"
       ]
      },
      {
       "output_type": "stream",
       "stream": "stdout",
       "text": [
        "\n",
        "len(da[0]): 147455\n",
        "Feature shape: (5, 910)\n",
        "I am on file 288 with filename LC_91701-01-41-00_combined.dat \n",
        "dt_min: 0.00781249999989"
       ]
      },
      {
       "output_type": "stream",
       "stream": "stdout",
       "text": [
        "\n",
        "len(da[0]): 308990\n",
        "len(da[0]): 409599\n",
        "Feature shape: (80, 910)"
       ]
      },
      {
       "output_type": "stream",
       "stream": "stdout",
       "text": [
        "\n",
        "I am on file 289 with filename LC_80701-01-29-02_combined.dat \n",
        "dt_min: 0.00781249999989"
       ]
      },
      {
       "output_type": "stream",
       "stream": "stdout",
       "text": [
        "\n",
        "len(da[0]): 176127\n",
        "Feature shape: (18, 910)"
       ]
      },
      {
       "output_type": "stream",
       "stream": "stdout",
       "text": [
        "\n",
        "I am on file 290 with filename LC_91701-01-77-00_combined.dat \n",
        "dt_min: 0.00781249999989"
       ]
      },
      {
       "output_type": "stream",
       "stream": "stdout",
       "text": [
        "\n",
        "len(da[0]): 153599\n",
        "Feature shape: (15, 910)"
       ]
      },
      {
       "output_type": "stream",
       "stream": "stdout",
       "text": [
        "\n",
        "I am on file 291 with filename LC_20402-01-27-01_combined.dat \n",
        "I am on file 292 with filename LC_50703-01-15-02_combined.dat \n",
        "dt_min: 0.00781249999989"
       ]
      },
      {
       "output_type": "stream",
       "stream": "stdout",
       "text": [
        "\n",
        "len(da[0]): 276479\n",
        "Feature shape: (30, 910)"
       ]
      },
      {
       "output_type": "stream",
       "stream": "stdout",
       "text": [
        "\n",
        "I am on file 293 with filename LC_30182-01-04-01_combined.dat \n",
        "dt_min: 0.00781249999818"
       ]
      },
      {
       "output_type": "stream",
       "stream": "stdout",
       "text": [
        "\n",
        "len(da[0]): 129022\n",
        "len(da[0]): 110590\n",
        "len(da[0]): 80509\n",
        "len(da[0]): 125310\n",
        "len(da[0]): 110590\n",
        "len(da[0]): 203901\n",
        "len(da[0]): 223102\n",
        "len(da[0]): 96893\n",
        "len(da[0]): 330110\n",
        "len(da[0]): 292863"
       ]
      },
      {
       "output_type": "stream",
       "stream": "stdout",
       "text": [
        "\n",
        "Feature shape: (172, 910)"
       ]
      },
      {
       "output_type": "stream",
       "stream": "stdout",
       "text": [
        "\n",
        "I am on file 294 with filename LC_80127-02-01-01_combined.dat \n",
        "dt_min: 0.00390624999989"
       ]
      },
      {
       "output_type": "stream",
       "stream": "stdout",
       "text": [
        "\n",
        "len(da[0]): 790527\n",
        "Feature shape: (45, 910)"
       ]
      },
      {
       "output_type": "stream",
       "stream": "stdout",
       "text": [
        "\n",
        "I am on file 295 with filename LC_91701-01-59-00_combined.dat \n",
        "dt_min: 0.00781249999989"
       ]
      },
      {
       "output_type": "stream",
       "stream": "stdout",
       "text": [
        "\n",
        "len(da[0]): 122879\n",
        "Feature shape: (11, 910)"
       ]
      },
      {
       "output_type": "stream",
       "stream": "stdout",
       "text": [
        "\n",
        "I am on file 296 with filename LC_90701-01-02-00_combined.dat \n",
        "dt_min: 0.00781249999989"
       ]
      },
      {
       "output_type": "stream",
       "stream": "stdout",
       "text": [
        "\n",
        "len(da[0]): 260095\n",
        "Feature shape: (28, 910)"
       ]
      },
      {
       "output_type": "stream",
       "stream": "stdout",
       "text": [
        "\n",
        "I am on file 297 with filename LC_20402-01-41-00_combined.dat \n",
        "I am on file 298 with filename LC_10408-01-30-00_combined.dat \n",
        "I am on file 299 with filename LC_95701-01-42-00_combined.dat \n",
        "dt_min: 0.00781249999977"
       ]
      },
      {
       "output_type": "stream",
       "stream": "stdout",
       "text": [
        "\n",
        "len(da[0]): 91006\n",
        "len(da[0]): 315518\n",
        "Feature shape: (43, 910)"
       ]
      },
      {
       "output_type": "stream",
       "stream": "stdout",
       "text": [
        "\n",
        "I am on file 300 with filename LC_60405-01-04-05_combined.dat \n",
        "dt_min: 0.00781249999989"
       ]
      },
      {
       "output_type": "stream",
       "stream": "stdout",
       "text": [
        "\n",
        "len(da[0]): 153599\n",
        "Feature shape: (15, 910)"
       ]
      },
      {
       "output_type": "stream",
       "stream": "stdout",
       "text": [
        "\n",
        "I am on file 301 with filename LC_40116-01-01-02_combined.dat \n",
        "dt_min: 0.00781249999989"
       ]
      },
      {
       "output_type": "stream",
       "stream": "stdout",
       "text": [
        "\n",
        "len(da[0]): 274175\n",
        "Feature shape: (30, 910)"
       ]
      },
      {
       "output_type": "stream",
       "stream": "stdout",
       "text": [
        "\n",
        "I am on file 302 with filename LC_40115-01-08-01_combined.dat \n",
        "dt_min: 0.00781249999989"
       ]
      },
      {
       "output_type": "stream",
       "stream": "stdout",
       "text": [
        "\n",
        "len(da[0]): 335871\n",
        "Feature shape: (37, 910)"
       ]
      },
      {
       "output_type": "stream",
       "stream": "stdout",
       "text": [
        "\n",
        "I am on file 303 with filename LC_40116-01-04-00_combined.dat \n",
        "dt_min: 0.00781249999989"
       ]
      },
      {
       "output_type": "stream",
       "stream": "stdout",
       "text": [
        "\n",
        "len(da[0]): 215038\n",
        "len(da[0]): 106494\n",
        "len(da[0]): 102399\n",
        "Feature shape: (41, 910)"
       ]
      },
      {
       "output_type": "stream",
       "stream": "stdout",
       "text": [
        "\n",
        "I am on file 304 with filename LC_91701-01-10-00_combined.dat \n",
        "dt_min: 0.00781249999989"
       ]
      },
      {
       "output_type": "stream",
       "stream": "stdout",
       "text": [
        "\n",
        "len(da[0]): 268287\n",
        "Feature shape: (29, 910)"
       ]
      },
      {
       "output_type": "stream",
       "stream": "stdout",
       "text": [
        "\n",
        "I am on file 305 with filename LC_40703-01-21-02_combined.dat \n",
        "dt_min: 0.00781249999989"
       ]
      },
      {
       "output_type": "stream",
       "stream": "stdout",
       "text": [
        "\n",
        "len(da[0]): 165887\n",
        "Feature shape: (17, 910)"
       ]
      },
      {
       "output_type": "stream",
       "stream": "stdout",
       "text": [
        "\n",
        "I am on file 306 with filename LC_92702-01-16-02_combined.dat \n",
        "dt_min: 0.00781249999989"
       ]
      },
      {
       "output_type": "stream",
       "stream": "stdout",
       "text": [
        "\n",
        "len(da[0]): 206847\n",
        "Feature shape: (22, 910)"
       ]
      },
      {
       "output_type": "stream",
       "stream": "stdout",
       "text": [
        "\n",
        "I am on file 307 with filename LC_60702-01-01-00_combined.dat \n",
        "dt_min: 0.00781249999989"
       ]
      },
      {
       "output_type": "stream",
       "stream": "stdout",
       "text": [
        "\n",
        "len(da[0]): 419839\n",
        "Feature shape: (48, 910)"
       ]
      },
      {
       "output_type": "stream",
       "stream": "stdout",
       "text": [
        "\n",
        "I am on file 308 with filename LC_90701-01-29-02_combined.dat \n",
        "dt_min: 0.00781249999989"
       ]
      },
      {
       "output_type": "stream",
       "stream": "stdout",
       "text": [
        "\n",
        "len(da[0]): 153599\n",
        "Feature shape: (15, 910)"
       ]
      },
      {
       "output_type": "stream",
       "stream": "stdout",
       "text": [
        "\n",
        "I am on file 309 with filename LC_40703-01-46-00_combined.dat \n",
        "dt_min: 0.00781249999818"
       ]
      },
      {
       "output_type": "stream",
       "stream": "stdout",
       "text": [
        "\n",
        "len(da[0]): 407550\n",
        "len(da[0]): 413694\n",
        "len(da[0]): 415743\n",
        "Feature shape: (140, 910)"
       ]
      },
      {
       "output_type": "stream",
       "stream": "stdout",
       "text": [
        "\n",
        "I am on file 310 with filename LC_90024-02-07-00_combined.dat \n",
        "dt_min: 0.00390624999999"
       ]
      },
      {
       "output_type": "stream",
       "stream": "stdout",
       "text": [
        "\n",
        "len(da[0]): 155647\n",
        "Feature shape: (6, 910)\n",
        "I am on file 311 with filename LC_30703-01-01-00_combined.dat \n",
        "dt_min: 0.00781249999989"
       ]
      },
      {
       "output_type": "stream",
       "stream": "stdout",
       "text": [
        "\n",
        "len(da[0]): 399358\n",
        "len(da[0]): 253951\n",
        "Feature shape: (72, 910)"
       ]
      },
      {
       "output_type": "stream",
       "stream": "stdout",
       "text": [
        "\n",
        "I am on file 312 with filename LC_70702-01-44-00_combined.dat \n",
        "dt_min: 0.00781249999989"
       ]
      },
      {
       "output_type": "stream",
       "stream": "stdout",
       "text": [
        "\n",
        "len(da[0]): 266239\n",
        "Feature shape: (29, 910)"
       ]
      },
      {
       "output_type": "stream",
       "stream": "stdout",
       "text": [
        "\n",
        "I am on file 313 with filename LC_95701-01-09-00_combined.dat \n",
        "dt_min: 0.00781249999977"
       ]
      },
      {
       "output_type": "stream",
       "stream": "stdout",
       "text": [
        "\n",
        "len(da[0]): 194559\n",
        "Feature shape: (20, 910)"
       ]
      },
      {
       "output_type": "stream",
       "stream": "stdout",
       "text": [
        "\n",
        "I am on file 314 with filename LC_90701-01-25-00_combined.dat \n",
        "dt_min: 0.00781249999989"
       ]
      },
      {
       "output_type": "stream",
       "stream": "stdout",
       "text": [
        "\n",
        "len(da[0]): 329727\n",
        "Feature shape: (37, 910)"
       ]
      },
      {
       "output_type": "stream",
       "stream": "stdout",
       "text": [
        "\n",
        "I am on file 315 with filename LC_96701-01-17-01_combined.dat \n",
        "dt_min: 0.00781249999977"
       ]
      },
      {
       "output_type": "stream",
       "stream": "stdout",
       "text": [
        "\n",
        "len(da[0]): 181631\n",
        "Feature shape: (19, 910)"
       ]
      },
      {
       "output_type": "stream",
       "stream": "stdout",
       "text": [
        "\n",
        "I am on file 316 with filename LC_40703-01-40-00_combined.dat \n",
        "dt_min: 0.00781249999989"
       ]
      },
      {
       "output_type": "stream",
       "stream": "stdout",
       "text": [
        "\n",
        "len(da[0]): 373759\n",
        "Feature shape: (42, 910)"
       ]
      },
      {
       "output_type": "stream",
       "stream": "stdout",
       "text": [
        "\n",
        "I am on file 317 with filename LC_50703-01-47-02_combined.dat \n",
        "dt_min: 0.00781249999989"
       ]
      },
      {
       "output_type": "stream",
       "stream": "stdout",
       "text": [
        "\n",
        "len(da[0]): 165887\n",
        "Feature shape: (17, 910)"
       ]
      },
      {
       "output_type": "stream",
       "stream": "stdout",
       "text": [
        "\n",
        "I am on file 318 with filename LC_60702-01-01-28_combined.dat \n",
        "dt_min: 0.00781249999989"
       ]
      },
      {
       "output_type": "stream",
       "stream": "stdout",
       "text": [
        "\n",
        "len(da[0]): 221183\n",
        "Feature shape: (23, 910)"
       ]
      },
      {
       "output_type": "stream",
       "stream": "stdout",
       "text": [
        "\n",
        "I am on file 319 with filename LC_60701-01-13-02_combined.dat \n",
        "dt_min: 0.00781249999989"
       ]
      },
      {
       "output_type": "stream",
       "stream": "stdout",
       "text": [
        "\n",
        "len(da[0]): 180223\n",
        "Feature shape: (18, 910)"
       ]
      },
      {
       "output_type": "stream",
       "stream": "stdout",
       "text": [
        "\n",
        "I am on file 320 with filename LC_93701-01-07-01_combined.dat \n",
        "dt_min: 0.00781249999989"
       ]
      },
      {
       "output_type": "stream",
       "stream": "stdout",
       "text": [
        "\n",
        "len(da[0]): 149503\n",
        "Feature shape: (15, 910)"
       ]
      },
      {
       "output_type": "stream",
       "stream": "stdout",
       "text": [
        "\n",
        "I am on file 321 with filename LC_92702-01-26-02_combined.dat \n",
        "dt_min: 0.00781249999989"
       ]
      },
      {
       "output_type": "stream",
       "stream": "stdout",
       "text": [
        "\n",
        "len(da[0]): 86015\n",
        "Feature shape: (7, 910)\n",
        "I am on file 322 with filename LC_40703-01-13-00_combined.dat \n",
        "dt_min: 0.00781249999989"
       ]
      },
      {
       "output_type": "stream",
       "stream": "stdout",
       "text": [
        "\n",
        "len(da[0]): 89982\n",
        "len(da[0]): 332926\n",
        "Feature shape: (44, 910)"
       ]
      },
      {
       "output_type": "stream",
       "stream": "stdout",
       "text": [
        "\n",
        "I am on file 323 with filename LC_20402-01-33-00_combined.dat \n",
        "I am on file 324 with filename LC_60701-01-19-02_combined.dat \n",
        "dt_min: 0.00781249999989"
       ]
      },
      {
       "output_type": "stream",
       "stream": "stdout",
       "text": [
        "\n",
        "len(da[0]): 178175\n",
        "Feature shape: (18, 910)"
       ]
      },
      {
       "output_type": "stream",
       "stream": "stdout",
       "text": [
        "\n",
        "I am on file 325 with filename LC_93701-01-15-00_combined.dat \n",
        "dt_min: 0.00781249999989"
       ]
      },
      {
       "output_type": "stream",
       "stream": "stdout",
       "text": [
        "\n",
        "len(da[0]): 325631\n",
        "Feature shape: (36, 910)"
       ]
      },
      {
       "output_type": "stream",
       "stream": "stdout",
       "text": [
        "\n",
        "I am on file 326 with filename LC_20402-01-29-00_combined.dat \n",
        "I am on file 327 with filename LC_95701-01-09-01_combined.dat \n",
        "dt_min: 0.00781249999989"
       ]
      },
      {
       "output_type": "stream",
       "stream": "stdout",
       "text": [
        "\n",
        "len(da[0]): 166399\n",
        "Feature shape: (17, 910)"
       ]
      },
      {
       "output_type": "stream",
       "stream": "stdout",
       "text": [
        "\n",
        "I am on file 328 with filename LC_20402-01-31-01_combined.dat \n",
        "I am on file 329 with filename LC_90024-02-27-00_combined.dat \n",
        "dt_min: 0.00390624999999"
       ]
      },
      {
       "output_type": "stream",
       "stream": "stdout",
       "text": [
        "\n",
        "len(da[0]): 172799\n",
        "Feature shape: (7, 910)\n",
        "I am on file 330 with filename LC_80188-01-01-02_combined.dat \n",
        "dt_min: 0.00390624999999"
       ]
      },
      {
       "output_type": "stream",
       "stream": "stdout",
       "text": [
        "\n",
        "len(da[0]): 217087\n",
        "Feature shape: (10, 910)"
       ]
      },
      {
       "output_type": "stream",
       "stream": "stdout",
       "text": [
        "\n",
        "I am on file 331 with filename LC_50703-01-05-01_combined.dat \n",
        "dt_min: 0.00781249999989"
       ]
      },
      {
       "output_type": "stream",
       "stream": "stdout",
       "text": [
        "\n",
        "len(da[0]): 194559\n",
        "Feature shape: (20, 910)"
       ]
      },
      {
       "output_type": "stream",
       "stream": "stdout",
       "text": [
        "\n",
        "I am on file 332 with filename LC_20402-01-05-00_combined.dat \n",
        "I am on file 333 with filename LC_91701-01-31-00_combined.dat \n",
        "dt_min: 0.00781249999989"
       ]
      },
      {
       "output_type": "stream",
       "stream": "stdout",
       "text": [
        "\n",
        "len(da[0]): 192383\n",
        "Feature shape: (20, 910)"
       ]
      },
      {
       "output_type": "stream",
       "stream": "stdout",
       "text": [
        "\n",
        "I am on file 334 with filename LC_91701-01-28-00_combined.dat \n",
        "dt_min: 0.00781249999989"
       ]
      },
      {
       "output_type": "stream",
       "stream": "stdout",
       "text": [
        "\n",
        "len(da[0]): 149503\n",
        "Feature shape: (15, 910)"
       ]
      },
      {
       "output_type": "stream",
       "stream": "stdout",
       "text": [
        "\n",
        "I am on file 335 with filename LC_50405-01-04-01_combined.dat \n",
        "dt_min: 0.00781249999818"
       ]
      },
      {
       "output_type": "stream",
       "stream": "stdout",
       "text": [
        "\n",
        "len(da[0]): 419838\n",
        "len(da[0]): 415743\n",
        "Feature shape: (95, 910)"
       ]
      },
      {
       "output_type": "stream",
       "stream": "stdout",
       "text": [
        "\n",
        "I am on file 336 with filename LC_50125-01-02-02_combined.dat \n",
        "dt_min: 0.00781249999989"
       ]
      },
      {
       "output_type": "stream",
       "stream": "stdout",
       "text": [
        "\n",
        "len(da[0]): 188415\n",
        "Feature shape: (19, 910)"
       ]
      },
      {
       "output_type": "stream",
       "stream": "stdout",
       "text": [
        "\n",
        "I am on file 337 with filename LC_40403-01-04-00_combined.dat \n",
        "dt_min: 0.00781249999989"
       ]
      },
      {
       "output_type": "stream",
       "stream": "stdout",
       "text": [
        "\n",
        "len(da[0]): 225279\n",
        "Feature shape: (24, 910)"
       ]
      },
      {
       "output_type": "stream",
       "stream": "stdout",
       "text": [
        "\n",
        "I am on file 338 with filename LC_90105-07-02-00_combined.dat \n",
        "dt_min: 0.00390624999818"
       ]
      },
      {
       "output_type": "stream",
       "stream": "stdout",
       "text": [
        "\n",
        "len(da[0]): 805374\n",
        "len(da[0]): 827391\n",
        "Feature shape: (93, 910)"
       ]
      },
      {
       "output_type": "stream",
       "stream": "stdout",
       "text": [
        "\n",
        "I am on file 339 with filename LC_60702-01-01-11_combined.dat \n",
        "dt_min: 0.00781249999989"
       ]
      },
      {
       "output_type": "stream",
       "stream": "stdout",
       "text": [
        "\n",
        "len(da[0]): 419839\n",
        "Feature shape: (48, 910)"
       ]
      },
      {
       "output_type": "stream",
       "stream": "stdout",
       "text": [
        "\n",
        "I am on file 340 with filename LC_93701-01-44-00_combined.dat \n",
        "dt_min: 0.00781249999989"
       ]
      },
      {
       "output_type": "stream",
       "stream": "stdout",
       "text": [
        "\n",
        "len(da[0]): 251134\n",
        "len(da[0]): 407551\n",
        "Feature shape: (73, 910)"
       ]
      },
      {
       "output_type": "stream",
       "stream": "stdout",
       "text": [
        "\n",
        "I am on file 341 with filename LC_90701-01-37-00_combined.dat \n",
        "dt_min: 0.00781249999989"
       ]
      },
      {
       "output_type": "stream",
       "stream": "stdout",
       "text": [
        "\n",
        "len(da[0]): 222591\n",
        "Feature shape: (24, 910)"
       ]
      },
      {
       "output_type": "stream",
       "stream": "stdout",
       "text": [
        "\n",
        "I am on file 342 with filename LC_50703-01-65-00_combined.dat \n",
        "dt_min: 0.00781249999989"
       ]
      },
      {
       "output_type": "stream",
       "stream": "stdout",
       "text": [
        "\n",
        "len(da[0]): 423935\n",
        "Feature shape: (48, 910)"
       ]
      },
      {
       "output_type": "stream",
       "stream": "stdout",
       "text": [
        "\n",
        "I am on file 343 with filename LC_20402-01-37-01_combined.dat \n",
        "I am on file 344 with filename LC_93701-01-10-00_combined.dat \n",
        "dt_min: 0.00781249999989"
       ]
      },
      {
       "output_type": "stream",
       "stream": "stdout",
       "text": [
        "\n",
        "len(da[0]): 176127\n",
        "Feature shape: (18, 910)"
       ]
      },
      {
       "output_type": "stream",
       "stream": "stdout",
       "text": [
        "\n",
        "I am on file 345 with filename LC_96701-01-46-00_combined.dat \n",
        "dt_min: 0.00781249999977"
       ]
      },
      {
       "output_type": "stream",
       "stream": "stdout",
       "text": [
        "\n",
        "len(da[0]): 288767\n",
        "Feature shape: (32, 910)"
       ]
      },
      {
       "output_type": "stream",
       "stream": "stdout",
       "text": [
        "\n",
        "I am on file 346 with filename LC_50703-01-61-01_combined.dat \n",
        "dt_min: 0.00781249999989"
       ]
      },
      {
       "output_type": "stream",
       "stream": "stdout",
       "text": [
        "\n",
        "len(da[0]): 194559\n",
        "Feature shape: (20, 910)"
       ]
      },
      {
       "output_type": "stream",
       "stream": "stdout",
       "text": [
        "\n",
        "I am on file 347 with filename LC_92702-01-27-01_combined.dat \n",
        "dt_min: 0.00781249999989"
       ]
      },
      {
       "output_type": "stream",
       "stream": "stdout",
       "text": [
        "\n",
        "len(da[0]): 159743\n",
        "Feature shape: (16, 910)"
       ]
      },
      {
       "output_type": "stream",
       "stream": "stdout",
       "text": [
        "\n",
        "I am on file 348 with filename LC_50703-01-59-00_combined.dat \n",
        "dt_min: 0.00781249999999"
       ]
      },
      {
       "output_type": "stream",
       "stream": "stdout",
       "text": [
        "\n",
        "len(da[0]): 120831\n",
        "Feature shape: (11, 910)"
       ]
      },
      {
       "output_type": "stream",
       "stream": "stdout",
       "text": [
        "\n",
        "I am on file 349 with filename LC_95701-01-47-00_combined.dat \n",
        "dt_min: 0.00781249999977"
       ]
      },
      {
       "output_type": "stream",
       "stream": "stdout",
       "text": [
        "\n",
        "len(da[0]): 237567\n",
        "Feature shape: (25, 910)"
       ]
      },
      {
       "output_type": "stream",
       "stream": "stdout",
       "text": [
        "\n",
        "I am on file 350 with filename LC_50703-01-30-00_combined.dat \n",
        "dt_min: 0.00781249999818"
       ]
      },
      {
       "output_type": "stream",
       "stream": "stdout",
       "text": [
        "\n",
        "len(da[0]): 419838\n",
        "len(da[0]): 419838\n",
        "len(da[0]): 210943\n",
        "Feature shape: (118, 910)"
       ]
      },
      {
       "output_type": "stream",
       "stream": "stdout",
       "text": [
        "\n",
        "I am on file 351 with filename LC_30402-01-12-02_combined.dat \n",
        "dt_min: 0.00781249999989"
       ]
      },
      {
       "output_type": "stream",
       "stream": "stdout",
       "text": [
        "\n",
        "len(da[0]): 176127\n",
        "Feature shape: (18, 910)"
       ]
      },
      {
       "output_type": "stream",
       "stream": "stdout",
       "text": [
        "\n",
        "I am on file 352 with filename LC_93411-01-01-01_combined.dat \n",
        "dt_min: 0.00781249999989"
       ]
      },
      {
       "output_type": "stream",
       "stream": "stdout",
       "text": [
        "\n",
        "len(da[0]): 280575\n",
        "Feature shape: (31, 910)"
       ]
      },
      {
       "output_type": "stream",
       "stream": "stdout",
       "text": [
        "\n",
        "I am on file 353 with filename LC_60701-01-32-00_combined.dat \n",
        "dt_min: 0.00781249999989"
       ]
      },
      {
       "output_type": "stream",
       "stream": "stdout",
       "text": [
        "\n",
        "len(da[0]): 208895\n",
        "Feature shape: (22, 910)"
       ]
      },
      {
       "output_type": "stream",
       "stream": "stdout",
       "text": [
        "\n",
        "I am on file 354 with filename LC_94701-01-05-02_combined.dat \n",
        "dt_min: 0.00781249999989"
       ]
      },
      {
       "output_type": "stream",
       "stream": "stdout",
       "text": [
        "\n",
        "len(da[0]): 141311\n",
        "Feature shape: (14, 910)"
       ]
      },
      {
       "output_type": "stream",
       "stream": "stdout",
       "text": [
        "\n",
        "I am on file 355 with filename LC_50703-01-23-00_combined.dat \n",
        "dt_min: 0.00781249999818"
       ]
      },
      {
       "output_type": "stream",
       "stream": "stdout",
       "text": [
        "\n",
        "len(da[0]): 421886\n",
        "len(da[0]): 419838\n",
        "len(da[0]): 184319\n",
        "Feature shape: (115, 910)"
       ]
      },
      {
       "output_type": "stream",
       "stream": "stdout",
       "text": [
        "\n",
        "I am on file 356 with filename LC_90701-01-14-00_combined.dat \n",
        "dt_min: 0.00781249999989"
       ]
      },
      {
       "output_type": "stream",
       "stream": "stdout",
       "text": [
        "\n",
        "len(da[0]): 172031\n",
        "Feature shape: (17, 910)"
       ]
      },
      {
       "output_type": "stream",
       "stream": "stdout",
       "text": [
        "\n",
        "I am on file 357 with filename LC_90108-01-03-00_combined.dat \n",
        "dt_min: 0.00781249999989"
       ]
      },
      {
       "output_type": "stream",
       "stream": "stdout",
       "text": [
        "\n",
        "len(da[0]): 143359\n",
        "Feature shape: (14, 910)"
       ]
      },
      {
       "output_type": "stream",
       "stream": "stdout",
       "text": [
        "\n",
        "I am on file 358 with filename LC_90701-01-13-00_combined.dat \n",
        "dt_min: 0.00781249999989"
       ]
      },
      {
       "output_type": "stream",
       "stream": "stdout",
       "text": [
        "\n",
        "len(da[0]): 148607\n",
        "Feature shape: (15, 910)"
       ]
      },
      {
       "output_type": "stream",
       "stream": "stdout",
       "text": [
        "\n",
        "I am on file 359 with filename LC_20402-01-54-00_combined.dat \n",
        "I am on file 360 with filename LC_80188-01-01-04_combined.dat \n",
        "dt_min: 0.00390624999999"
       ]
      },
      {
       "output_type": "stream",
       "stream": "stdout",
       "text": [
        "\n",
        "len(da[0]): 203007\n",
        "Feature shape: (9, 910)\n",
        "I am on file 361 with filename LC_50703-01-29-00_combined.dat \n",
        "dt_min: 0.00781249999818"
       ]
      },
      {
       "output_type": "stream",
       "stream": "stdout",
       "text": [
        "\n",
        "len(da[0]): 372478\n",
        "len(da[0]): 419838\n",
        "len(da[0]): 421887\n",
        "Feature shape: (138, 910)"
       ]
      },
      {
       "output_type": "stream",
       "stream": "stdout",
       "text": [
        "\n",
        "I am on file 362 with filename LC_90024-02-33-00_combined.dat \n",
        "dt_min: 0.00390624999999"
       ]
      },
      {
       "output_type": "stream",
       "stream": "stdout",
       "text": [
        "\n",
        "len(da[0]): 229375\n",
        "Feature shape: (10, 910)\n",
        "I am on file 363 with filename LC_40703-01-45-01_combined.dat \n",
        "dt_min: 0.00781249999989"
       ]
      },
      {
       "output_type": "stream",
       "stream": "stdout",
       "text": [
        "\n",
        "len(da[0]): 288767\n",
        "Feature shape: (32, 910)"
       ]
      },
      {
       "output_type": "stream",
       "stream": "stdout",
       "text": [
        "\n",
        "I am on file 364 with filename LC_30402-01-09-01_combined.dat \n",
        "dt_min: 0.00781249999989"
       ]
      },
      {
       "output_type": "stream",
       "stream": "stdout",
       "text": [
        "\n",
        "len(da[0]): 268797\n",
        "len(da[0]): 56063\n",
        "Feature shape: (32, 910)"
       ]
      },
      {
       "output_type": "stream",
       "stream": "stdout",
       "text": [
        "\n",
        "I am on file 365 with filename LC_96701-01-02-00_combined.dat \n",
        "dt_min: 0.00781249999977"
       ]
      },
      {
       "output_type": "stream",
       "stream": "stdout",
       "text": [
        "\n",
        "len(da[0]): 133119\n",
        "Feature shape: (13, 910)"
       ]
      },
      {
       "output_type": "stream",
       "stream": "stdout",
       "text": [
        "\n",
        "I am on file 366 with filename LC_80701-01-20-02_combined.dat \n",
        "dt_min: 0.00781249999989"
       ]
      },
      {
       "output_type": "stream",
       "stream": "stdout",
       "text": [
        "\n",
        "len(da[0]): 178047\n",
        "Feature shape: (18, 910)"
       ]
      },
      {
       "output_type": "stream",
       "stream": "stdout",
       "text": [
        "\n",
        "I am on file 367 with filename LC_10408-01-36-00_combined.dat \n",
        "I am on file 368 with filename LC_50703-01-67-01_combined.dat \n",
        "dt_min: 0.00781249999989"
       ]
      },
      {
       "output_type": "stream",
       "stream": "stdout",
       "text": [
        "\n",
        "len(da[0]): 186367\n",
        "Feature shape: (19, 910)"
       ]
      },
      {
       "output_type": "stream",
       "stream": "stdout",
       "text": [
        "\n",
        "I am on file 369 with filename LC_10408-01-32-00_combined.dat \n",
        "I am on file 370 with filename LC_50703-01-43-00_combined.dat \n",
        "dt_min: 0.00781249999989"
       ]
      },
      {
       "output_type": "stream",
       "stream": "stdout",
       "text": [
        "\n",
        "len(da[0]): 264191\n",
        "Feature shape: (29, 910)"
       ]
      },
      {
       "output_type": "stream",
       "stream": "stdout",
       "text": [
        "\n",
        "I am on file 371 with filename LC_90105-01-04-00_combined.dat \n",
        "dt_min: 0.00390624999909"
       ]
      },
      {
       "output_type": "stream",
       "stream": "stdout",
       "text": [
        "\n",
        "len(da[0]): 835582\n",
        "len(da[0]): 831487\n",
        "Feature shape: (94, 910)"
       ]
      },
      {
       "output_type": "stream",
       "stream": "stdout",
       "text": [
        "\n",
        "I am on file 372 with filename LC_30184-01-01-000_combined.dat \n",
        "dt_min: 0.00390624999989"
       ]
      },
      {
       "output_type": "stream",
       "stream": "stdout",
       "text": [
        "\n",
        "len(da[0]): 663805\n",
        "len(da[0]): 155390\n",
        "len(da[0]): 843774\n",
        "len(da[0]): 798718"
       ]
      },
      {
       "output_type": "stream",
       "stream": "stdout",
       "text": [
        "\n",
        "len(da[0]): 606461\n",
        "len(da[0]): 98047\n",
        "Feature shape: (172, 910)"
       ]
      },
      {
       "output_type": "stream",
       "stream": "stdout",
       "text": [
        "\n",
        "I am on file 373 with filename LC_10408-01-25-00_combined.dat \n",
        "I am on file 374 with filename LC_90701-01-48-00_combined.dat \n",
        "dt_min: 0.00781249999989"
       ]
      },
      {
       "output_type": "stream",
       "stream": "stdout",
       "text": [
        "\n",
        "len(da[0]): 137215\n",
        "Feature shape: (13, 910)"
       ]
      },
      {
       "output_type": "stream",
       "stream": "stdout",
       "text": [
        "\n",
        "I am on file 375 with filename LC_90701-01-29-00_combined.dat \n",
        "dt_min: 0.00781249999989"
       ]
      },
      {
       "output_type": "stream",
       "stream": "stdout",
       "text": [
        "\n",
        "len(da[0]): 206847\n",
        "Feature shape: (22, 910)"
       ]
      },
      {
       "output_type": "stream",
       "stream": "stdout",
       "text": [
        "\n",
        "I am on file 376 with filename LC_20402-01-06-00_combined.dat \n",
        "dt_min: 0.00781249999955"
       ]
      },
      {
       "output_type": "stream",
       "stream": "stdout",
       "text": [
        "\n",
        "len(da[0]): 137214\n",
        "len(da[0]): 86526\n",
        "len(da[0]): 75261\n",
        "len(da[0]): 328190\n",
        "len(da[0]): 93693\n",
        "len(da[0]): 339967\n",
        "Feature shape: (109, 910)"
       ]
      },
      {
       "output_type": "stream",
       "stream": "stdout",
       "text": [
        "\n",
        "I am on file 377 with filename LC_80127-02-02-01_combined.dat \n",
        "dt_min: 0.00390624999989"
       ]
      },
      {
       "output_type": "stream",
       "stream": "stdout",
       "text": [
        "\n",
        "len(da[0]): 458751\n",
        "Feature shape: (24, 910)"
       ]
      },
      {
       "output_type": "stream",
       "stream": "stdout",
       "text": [
        "\n",
        "I am on file 378 with filename LC_96701-01-12-00_combined.dat \n",
        "dt_min: 0.00781249999989"
       ]
      },
      {
       "output_type": "stream",
       "stream": "stdout",
       "text": [
        "\n",
        "len(da[0]): 172031\n",
        "Feature shape: (17, 910)"
       ]
      },
      {
       "output_type": "stream",
       "stream": "stdout",
       "text": [
        "\n",
        "I am on file 379 with filename LC_94701-01-06-01_combined.dat \n",
        "dt_min: 0.00781249999977"
       ]
      },
      {
       "output_type": "stream",
       "stream": "stdout",
       "text": [
        "\n",
        "len(da[0]): 206847\n",
        "Feature shape: (22, 910)"
       ]
      },
      {
       "output_type": "stream",
       "stream": "stdout",
       "text": [
        "\n",
        "I am on file 380 with filename LC_30703-01-04-00_combined.dat \n",
        "dt_min: 0.00781249999989"
       ]
      },
      {
       "output_type": "stream",
       "stream": "stdout",
       "text": [
        "\n",
        "len(da[0]): 403454\n",
        "len(da[0]): 180477\n",
        "len(da[0]): 8190\n",
        "Feature shape: (65, 910)"
       ]
      },
      {
       "output_type": "stream",
       "stream": "stdout",
       "text": [
        "\n",
        "I am on file 381 with filename LC_10408-01-14-03_combined.dat \n",
        "I am on file 382 with filename LC_50703-01-46-00_combined.dat \n",
        "dt_min: 0.00781249999989"
       ]
      },
      {
       "output_type": "stream",
       "stream": "stdout",
       "text": [
        "\n",
        "len(da[0]): 190463\n",
        "Feature shape: (20, 910)"
       ]
      },
      {
       "output_type": "stream",
       "stream": "stdout",
       "text": [
        "\n",
        "I am on file 383 with filename LC_96701-01-01-01_combined.dat \n",
        "dt_min: 0.00781249999977"
       ]
      },
      {
       "output_type": "stream",
       "stream": "stdout",
       "text": [
        "\n",
        "len(da[0]): 161791\n",
        "Feature shape: (16, 910)"
       ]
      },
      {
       "output_type": "stream",
       "stream": "stdout",
       "text": [
        "\n",
        "I am on file 384 with filename LC_60701-01-26-03_combined.dat \n",
        "dt_min: 0.00781249999989"
       ]
      },
      {
       "output_type": "stream",
       "stream": "stdout",
       "text": [
        "\n",
        "len(da[0]): 141311\n",
        "Feature shape: (14, 910)"
       ]
      },
      {
       "output_type": "stream",
       "stream": "stdout",
       "text": [
        "\n",
        "I am on file 385 with filename LC_96701-01-21-00_combined.dat \n",
        "dt_min: 0.00781249999989"
       ]
      },
      {
       "output_type": "stream",
       "stream": "stdout",
       "text": [
        "\n",
        "len(da[0]): 149503\n",
        "Feature shape: (15, 910)"
       ]
      },
      {
       "output_type": "stream",
       "stream": "stdout",
       "text": [
        "\n",
        "I am on file 386 with filename LC_95701-01-32-00_combined.dat \n",
        "dt_min: 0.00781249999977"
       ]
      },
      {
       "output_type": "stream",
       "stream": "stdout",
       "text": [
        "\n",
        "len(da[0]): 264191\n",
        "Feature shape: (29, 910)"
       ]
      },
      {
       "output_type": "stream",
       "stream": "stdout",
       "text": [
        "\n",
        "I am on file 387 with filename LC_50703-01-40-01_combined.dat \n",
        "dt_min: 0.00781249999989"
       ]
      },
      {
       "output_type": "stream",
       "stream": "stdout",
       "text": [
        "\n",
        "len(da[0]): 136959\n",
        "Feature shape: (13, 910)"
       ]
      },
      {
       "output_type": "stream",
       "stream": "stdout",
       "text": [
        "\n",
        "I am on file 388 with filename LC_80701-01-23-00_combined.dat \n",
        "dt_min: 0.00781249999989"
       ]
      },
      {
       "output_type": "stream",
       "stream": "stdout",
       "text": [
        "\n",
        "len(da[0]): 272383\n",
        "Feature shape: (30, 910)"
       ]
      },
      {
       "output_type": "stream",
       "stream": "stdout",
       "text": [
        "\n",
        "I am on file 389 with filename LC_30182-01-04-02_combined.dat \n",
        "dt_min: 0.00781249999999"
       ]
      },
      {
       "output_type": "stream",
       "stream": "stdout",
       "text": [
        "\n",
        "len(da[0]): 120831\n",
        "Feature shape: (11, 910)"
       ]
      },
      {
       "output_type": "stream",
       "stream": "stdout",
       "text": [
        "\n",
        "I am on file 390 with filename LC_90105-09-08-01_combined.dat \n",
        "dt_min: 0.00390624999989"
       ]
      },
      {
       "output_type": "stream",
       "stream": "stdout",
       "text": [
        "\n",
        "len(da[0]): 397311\n",
        "Feature shape: (21, 910)"
       ]
      },
      {
       "output_type": "stream",
       "stream": "stdout",
       "text": [
        "\n",
        "I am on file 391 with filename LC_96701-01-03-00_combined.dat \n",
        "dt_min: 0.00781249999977"
       ]
      },
      {
       "output_type": "stream",
       "stream": "stdout",
       "text": [
        "\n",
        "len(da[0]): 294527\n",
        "Feature shape: (32, 910)"
       ]
      },
      {
       "output_type": "stream",
       "stream": "stdout",
       "text": [
        "\n",
        "I am on file 392 with filename LC_50703-01-62-03_combined.dat \n",
        "dt_min: 0.00781249999989"
       ]
      },
      {
       "output_type": "stream",
       "stream": "stdout",
       "text": [
        "\n",
        "len(da[0]): 305151\n",
        "Feature shape: (34, 910)"
       ]
      },
      {
       "output_type": "stream",
       "stream": "stdout",
       "text": [
        "\n",
        "I am on file 393 with filename LC_20402-01-58-00_combined.dat \n",
        "dt_min: 0.00781249999955"
       ]
      },
      {
       "output_type": "stream",
       "stream": "stdout",
       "text": [
        "\n",
        "len(da[0]): 189183\n",
        "len(da[0]): 352255\n",
        "Feature shape: (59, 910)"
       ]
      },
      {
       "output_type": "stream",
       "stream": "stdout",
       "text": [
        "\n",
        "I am on file 394 with filename LC_90701-01-32-00_combined.dat \n",
        "dt_min: 0.00781249999989"
       ]
      },
      {
       "output_type": "stream",
       "stream": "stdout",
       "text": [
        "\n",
        "len(da[0]): 356351\n",
        "Feature shape: (40, 910)"
       ]
      },
      {
       "output_type": "stream",
       "stream": "stdout",
       "text": [
        "\n",
        "I am on file 395 with filename LC_40703-01-01-00_combined.dat \n",
        "dt_min: 0.00781249999909"
       ]
      },
      {
       "output_type": "stream",
       "stream": "stdout",
       "text": [
        "\n",
        "len(da[0]): 186878\n",
        "len(da[0]): 219645\n",
        "len(da[0]): 421886\n",
        "len(da[0]): 378879\n",
        "Feature shape: (133, 910)"
       ]
      },
      {
       "output_type": "stream",
       "stream": "stdout",
       "text": [
        "\n",
        "I am on file 396 with filename LC_30703-01-38-00_combined.dat \n",
        "dt_min: 0.00781249999955"
       ]
      },
      {
       "output_type": "stream",
       "stream": "stdout",
       "text": [
        "\n",
        "len(da[0]): 106109\n",
        "len(da[0]): 58750\n",
        "len(da[0]): 131197\n",
        "len(da[0]): 289663\n",
        "Feature shape: (58, 910)"
       ]
      },
      {
       "output_type": "stream",
       "stream": "stdout",
       "text": [
        "\n",
        "I am on file 397 with filename LC_80701-01-07-00_combined.dat \n",
        "dt_min: 0.00781249999999"
       ]
      },
      {
       "output_type": "stream",
       "stream": "stdout",
       "text": [
        "\n",
        "len(da[0]): 126975\n",
        "Feature shape: (12, 910)"
       ]
      },
      {
       "output_type": "stream",
       "stream": "stdout",
       "text": [
        "\n",
        "I am on file 398 with filename LC_93701-01-02-00_combined.dat \n",
        "dt_min: 0.00781249999989"
       ]
      },
      {
       "output_type": "stream",
       "stream": "stdout",
       "text": [
        "\n",
        "len(da[0]): 62976\n",
        "Feature shape: (4, 910)\n",
        "I am on file 399 with filename LC_94701-01-06-00_combined.dat \n",
        "dt_min: 0.00781249999977"
       ]
      },
      {
       "output_type": "stream",
       "stream": "stdout",
       "text": [
        "\n",
        "len(da[0]): 245759\n",
        "Feature shape: (26, 910)"
       ]
      },
      {
       "output_type": "stream",
       "stream": "stdout",
       "text": [
        "\n",
        "I am on file 400 with filename LC_10408-01-21-01_combined.dat \n",
        "dt_min: 0.00390625"
       ]
      },
      {
       "output_type": "stream",
       "stream": "stdout",
       "text": [
        "\n",
        "len(da[0]): 368638\n",
        "len(da[0]): 216575\n",
        "Feature shape: (29, 910)"
       ]
      },
      {
       "output_type": "stream",
       "stream": "stdout",
       "text": [
        "\n",
        "I am on file 401 with filename LC_10408-01-19-02_combined.dat \n",
        "I am on file 402 with filename LC_30703-01-28-00_combined.dat \n",
        "dt_min: 0.00781249999818"
       ]
      },
      {
       "output_type": "stream",
       "stream": "stdout",
       "text": [
        "\n",
        "len(da[0]): 411646\n",
        "len(da[0]): 68861\n",
        "len(da[0]): 32765\n",
        "len(da[0]): 19198\n",
        "len(da[0]): 18430\n",
        "len(da[0]): 151551\n",
        "Feature shape: (67, 910)"
       ]
      },
      {
       "output_type": "stream",
       "stream": "stdout",
       "text": [
        "\n",
        "I am on file 403 with filename LC_30703-01-13-00_combined.dat \n",
        "dt_min: 0.00781249999989"
       ]
      },
      {
       "output_type": "stream",
       "stream": "stdout",
       "text": [
        "\n",
        "len(da[0]): 190461\n",
        "len(da[0]): 150526\n",
        "len(da[0]): 260095\n",
        "Feature shape: (63, 910)"
       ]
      },
      {
       "output_type": "stream",
       "stream": "stdout",
       "text": [
        "\n",
        "I am on file 404 with filename LC_94701-01-28-00_combined.dat \n",
        "dt_min: 0.00781249999977"
       ]
      },
      {
       "output_type": "stream",
       "stream": "stdout",
       "text": [
        "\n",
        "len(da[0]): 290815\n",
        "Feature shape: (32, 910)"
       ]
      },
      {
       "output_type": "stream",
       "stream": "stdout",
       "text": [
        "\n",
        "I am on file 405 with filename LC_92702-01-21-00_combined.dat \n",
        "dt_min: 0.00781249999989"
       ]
      },
      {
       "output_type": "stream",
       "stream": "stdout",
       "text": [
        "\n",
        "len(da[0]): 178175\n",
        "Feature shape: (18, 910)"
       ]
      },
      {
       "output_type": "stream",
       "stream": "stdout",
       "text": [
        "\n",
        "I am on file 406 with filename LC_60702-01-01-09_combined.dat \n",
        "dt_min: 0.00781249999994"
       ]
      },
      {
       "output_type": "stream",
       "stream": "stdout",
       "text": [
        "\n",
        "len(da[0]): 91775\n",
        "Feature shape: (8, 910)\n",
        "I am on file 407 with filename LC_30703-01-07-00_combined.dat \n",
        "dt_min: 0.00781249999818"
       ]
      },
      {
       "output_type": "stream",
       "stream": "stdout",
       "text": [
        "\n",
        "len(da[0]): 325630\n",
        "len(da[0]): 11773\n",
        "len(da[0]): 301055\n",
        "Feature shape: (69, 910)"
       ]
      },
      {
       "output_type": "stream",
       "stream": "stdout",
       "text": [
        "\n",
        "I am on file 408 with filename LC_40703-01-17-00_combined.dat \n",
        "dt_min: 0.00781249999989"
       ]
      },
      {
       "output_type": "stream",
       "stream": "stdout",
       "text": [
        "\n",
        "len(da[0]): 101374\n",
        "len(da[0]): 50173\n",
        "len(da[0]): 139262\n",
        "Feature shape: (25, 910)"
       ]
      },
      {
       "output_type": "stream",
       "stream": "stdout",
       "text": [
        "\n",
        "I am on file 409 with filename LC_20402-01-19-00_combined.dat \n",
        "I am on file 410 with filename LC_91701-01-80-00_combined.dat \n",
        "dt_min: 0.00781249999989"
       ]
      },
      {
       "output_type": "stream",
       "stream": "stdout",
       "text": [
        "\n",
        "len(da[0]): 343551\n",
        "Feature shape: (38, 910)"
       ]
      },
      {
       "output_type": "stream",
       "stream": "stdout",
       "text": [
        "\n",
        "I am on file 411 with filename LC_40703-01-43-00_combined.dat \n",
        "dt_min: 0.00781249999989"
       ]
      },
      {
       "output_type": "stream",
       "stream": "stdout",
       "text": [
        "\n",
        "len(da[0]): 214655\n",
        "Feature shape: (23, 910)"
       ]
      },
      {
       "output_type": "stream",
       "stream": "stdout",
       "text": [
        "\n",
        "I am on file 412 with filename LC_70702-01-31-00_combined.dat \n",
        "dt_min: 0.00781249999989"
       ]
      },
      {
       "output_type": "stream",
       "stream": "stdout",
       "text": [
        "\n",
        "len(da[0]): 161791\n",
        "Feature shape: (16, 910)"
       ]
      },
      {
       "output_type": "stream",
       "stream": "stdout",
       "text": [
        "\n",
        "I am on file 413 with filename LC_50703-01-51-00_combined.dat \n",
        "dt_min: 0.00781249999989"
       ]
      },
      {
       "output_type": "stream",
       "stream": "stdout",
       "text": [
        "\n",
        "len(da[0]): 360063\n",
        "Feature shape: (40, 910)"
       ]
      },
      {
       "output_type": "stream",
       "stream": "stdout",
       "text": [
        "\n",
        "I am on file 414 with filename LC_40116-01-02-01_combined.dat \n",
        "dt_min: 0.00781249999989"
       ]
      },
      {
       "output_type": "stream",
       "stream": "stdout",
       "text": [
        "\n",
        "len(da[0]): 210558\n",
        "len(da[0]): 12286\n",
        "Feature shape: (22, 910)"
       ]
      },
      {
       "output_type": "stream",
       "stream": "stdout",
       "text": [
        "\n",
        "I am on file 415 with filename LC_80701-01-06-00_combined.dat \n",
        "dt_min: 0.00781249999989"
       ]
      },
      {
       "output_type": "stream",
       "stream": "stdout",
       "text": [
        "\n",
        "len(da[0]): 376830\n",
        "len(da[0]): 8190\n",
        "len(da[0]): 92159\n",
        "Feature shape: (50, 910)"
       ]
      },
      {
       "output_type": "stream",
       "stream": "stdout",
       "text": [
        "\n",
        "I am on file 416 with filename LC_20402-01-21-01_combined.dat \n",
        "I am on file 417 with filename LC_93701-01-05-01_combined.dat \n",
        "dt_min: 0.00781249999989"
       ]
      },
      {
       "output_type": "stream",
       "stream": "stdout",
       "text": [
        "\n",
        "len(da[0]): 311936\n",
        "Feature shape: (35, 910)"
       ]
      },
      {
       "output_type": "stream",
       "stream": "stdout",
       "text": [
        "\n",
        "I am on file 418 with filename LC_91701-01-81-01_combined.dat \n",
        "dt_min: 0.00781249999989"
       ]
      },
      {
       "output_type": "stream",
       "stream": "stdout",
       "text": [
        "\n",
        "len(da[0]): 148991\n",
        "Feature shape: (15, 910)"
       ]
      },
      {
       "output_type": "stream",
       "stream": "stdout",
       "text": [
        "\n",
        "I am on file 419 with filename LC_20402-01-53-01_combined.dat \n",
        "I am on file 420 with filename LC_90105-03-02-00_combined.dat \n",
        "dt_min: 0.00390624999818"
       ]
      },
      {
       "output_type": "stream",
       "stream": "stdout",
       "text": [
        "\n",
        "len(da[0]): 716798\n",
        "len(da[0]): 663550\n",
        "len(da[0]): 438271\n",
        "Feature shape: (100, 910)"
       ]
      },
      {
       "output_type": "stream",
       "stream": "stdout",
       "text": [
        "\n",
        "I am on file 421 with filename LC_94701-01-02-00_combined.dat \n",
        "dt_min: 0.00781249999977"
       ]
      },
      {
       "output_type": "stream",
       "stream": "stdout",
       "text": [
        "\n",
        "len(da[0]): 333823\n",
        "Feature shape: (37, 910)"
       ]
      },
      {
       "output_type": "stream",
       "stream": "stdout",
       "text": [
        "\n",
        "I am on file 422 with filename LC_90024-02-15-00_combined.dat \n",
        "dt_min: 0.00390624999999"
       ]
      },
      {
       "output_type": "stream",
       "stream": "stdout",
       "text": [
        "\n",
        "len(da[0]): 98303\n",
        "Feature shape: (2, 910)\n",
        "I am on file 423 with filename LC_60701-01-24-02_combined.dat \n",
        "dt_min: 0.00781249999999"
       ]
      },
      {
       "output_type": "stream",
       "stream": "stdout",
       "text": [
        "\n",
        "len(da[0]): 62207\n",
        "Feature shape: (4, 910)\n",
        "I am on file 424 with filename LC_40703-01-41-02_combined.dat \n",
        "dt_min: 0.00781249999999"
       ]
      },
      {
       "output_type": "stream",
       "stream": "stdout",
       "text": [
        "\n",
        "len(da[0]): 28670\n",
        "len(da[0]): 26623\n",
        "Feature shape: (0,)\n",
        "I am on file 425 with filename LC_94701-01-11-00_combined.dat \n",
        "dt_min: 0.00781249999977"
       ]
      },
      {
       "output_type": "stream",
       "stream": "stdout",
       "text": [
        "\n",
        "len(da[0]): 277887\n",
        "Feature shape: (30, 910)"
       ]
      },
      {
       "output_type": "stream",
       "stream": "stdout",
       "text": [
        "\n",
        "I am on file 426 with filename LC_96701-01-43-00_combined.dat \n",
        "dt_min: 0.00781249999999"
       ]
      },
      {
       "output_type": "stream",
       "stream": "stdout",
       "text": [
        "\n",
        "len(da[0]): 124927\n",
        "Feature shape: (12, 910)"
       ]
      },
      {
       "output_type": "stream",
       "stream": "stdout",
       "text": [
        "\n",
        "I am on file 427 with filename LC_92702-01-05-00_combined.dat \n",
        "dt_min: 0.00781249999989"
       ]
      },
      {
       "output_type": "stream",
       "stream": "stdout",
       "text": [
        "\n",
        "len(da[0]): 331775\n",
        "Feature shape: (37, 910)"
       ]
      },
      {
       "output_type": "stream",
       "stream": "stdout",
       "text": [
        "\n",
        "I am on file 428 with filename LC_94701-01-61-00_combined.dat \n",
        "dt_min: 0.00781249999989"
       ]
      },
      {
       "output_type": "stream",
       "stream": "stdout",
       "text": [
        "\n",
        "len(da[0]): 266239\n",
        "Feature shape: (29, 910)"
       ]
      },
      {
       "output_type": "stream",
       "stream": "stdout",
       "text": [
        "\n",
        "I am on file 429 with filename LC_70703-01-01-04_combined.dat \n",
        "dt_min: 0.00781249999989"
       ]
      },
      {
       "output_type": "stream",
       "stream": "stdout",
       "text": [
        "\n",
        "len(da[0]): 163839\n",
        "Feature shape: (16, 910)"
       ]
      },
      {
       "output_type": "stream",
       "stream": "stdout",
       "text": [
        "\n",
        "I am on file 430 with filename LC_50703-01-34-00_combined.dat \n",
        "dt_min: 0.00781249999989"
       ]
      },
      {
       "output_type": "stream",
       "stream": "stdout",
       "text": [
        "\n",
        "len(da[0]): 219135\n",
        "Feature shape: (23, 910)"
       ]
      },
      {
       "output_type": "stream",
       "stream": "stdout",
       "text": [
        "\n",
        "I am on file 431 with filename LC_50703-01-49-00_combined.dat \n",
        "dt_min: 0.00781249999989"
       ]
      },
      {
       "output_type": "stream",
       "stream": "stdout",
       "text": [
        "\n",
        "len(da[0]): 296958\n",
        "len(da[0]): 20478\n",
        "len(da[0]): 323583\n",
        "Feature shape: (69, 910)"
       ]
      },
      {
       "output_type": "stream",
       "stream": "stdout",
       "text": [
        "\n",
        "I am on file 432 with filename LC_80701-01-62-02_combined.dat \n",
        "dt_min: 0.00781249999989"
       ]
      },
      {
       "output_type": "stream",
       "stream": "stdout",
       "text": [
        "\n",
        "len(da[0]): 174079\n",
        "Feature shape: (18, 910)"
       ]
      },
      {
       "output_type": "stream",
       "stream": "stdout",
       "text": [
        "\n",
        "I am on file 433 with filename LC_95701-01-07-00_combined.dat \n",
        "dt_min: 0.00781249999989"
       ]
      },
      {
       "output_type": "stream",
       "stream": "stdout",
       "text": [
        "\n",
        "len(da[0]): 409599\n",
        "Feature shape: (46, 910)"
       ]
      },
      {
       "output_type": "stream",
       "stream": "stdout",
       "text": [
        "\n",
        "I am on file 434 with filename LC_40703-01-36-00_combined.dat \n",
        "dt_min: 0.00781249999989"
       ]
      },
      {
       "output_type": "stream",
       "stream": "stdout",
       "text": [
        "\n",
        "len(da[0]): 165375\n",
        "Feature shape: (17, 910)"
       ]
      },
      {
       "output_type": "stream",
       "stream": "stdout",
       "text": [
        "\n",
        "I am on file 435 with filename LC_40403-01-06-00_combined.dat \n",
        "dt_min: 0.00781249999989"
       ]
      },
      {
       "output_type": "stream",
       "stream": "stdout",
       "text": [
        "\n",
        "len(da[0]): 172542\n",
        "len(da[0]): 100478\n",
        "Feature shape: (27, 910)"
       ]
      },
      {
       "output_type": "stream",
       "stream": "stdout",
       "text": [
        "\n",
        "I am on file 436 with filename LC_96378-01-01-01_combined.dat \n",
        "dt_min: 0.00781249999977"
       ]
      },
      {
       "output_type": "stream",
       "stream": "stdout",
       "text": [
        "\n",
        "len(da[0]): 63998\n",
        "len(da[0]): 206974\n",
        "Feature shape: (26, 910)"
       ]
      },
      {
       "output_type": "stream",
       "stream": "stdout",
       "text": [
        "\n",
        "I am on file 437 with filename LC_96701-01-08-00_combined.dat \n",
        "dt_min: 0.00781249999977"
       ]
      },
      {
       "output_type": "stream",
       "stream": "stdout",
       "text": [
        "\n",
        "len(da[0]): 215039\n",
        "Feature shape: (23, 910)"
       ]
      },
      {
       "output_type": "stream",
       "stream": "stdout",
       "text": [
        "\n",
        "I am on file 438 with filename LC_94701-01-04-01_combined.dat \n",
        "dt_min: 0.00781249999989"
       ]
      },
      {
       "output_type": "stream",
       "stream": "stdout",
       "text": [
        "\n",
        "len(da[0]): 153087\n",
        "Feature shape: (15, 910)"
       ]
      },
      {
       "output_type": "stream",
       "stream": "stdout",
       "text": [
        "\n",
        "I am on file 439 with filename LC_90105-05-03-05_combined.dat \n",
        "dt_min: 0.00390624999989"
       ]
      },
      {
       "output_type": "stream",
       "stream": "stdout",
       "text": [
        "\n",
        "len(da[0]): 543487\n",
        "Feature shape: (30, 910)"
       ]
      },
      {
       "output_type": "stream",
       "stream": "stdout",
       "text": [
        "\n",
        "I am on file 440 with filename LC_30703-01-24-01_combined.dat \n",
        "dt_min: 0.00781249999999"
       ]
      },
      {
       "output_type": "stream",
       "stream": "stdout",
       "text": [
        "\n",
        "len(da[0]): 118783\n",
        "Feature shape: (11, 910)"
       ]
      },
      {
       "output_type": "stream",
       "stream": "stdout",
       "text": [
        "\n",
        "I am on file 441 with filename LC_91701-01-14-01_combined.dat \n",
        "dt_min: 0.00781249999989"
       ]
      },
      {
       "output_type": "stream",
       "stream": "stdout",
       "text": [
        "\n",
        "len(da[0]): 135167\n",
        "Feature shape: (13, 910)"
       ]
      },
      {
       "output_type": "stream",
       "stream": "stdout",
       "text": [
        "\n",
        "I am on file 442 with filename LC_80701-01-51-00_combined.dat \n",
        "dt_min: 0.00781249999989"
       ]
      },
      {
       "output_type": "stream",
       "stream": "stdout",
       "text": [
        "\n",
        "len(da[0]): 299006\n",
        "len(da[0]): 92158\n",
        "len(da[0]): 272382\n",
        "len(da[0]): 141311\n",
        "Feature shape: (85, 910)"
       ]
      },
      {
       "output_type": "stream",
       "stream": "stdout",
       "text": [
        "\n",
        "I am on file 443 with filename LC_95701-01-34-00_combined.dat \n",
        "dt_min: 0.00781249999999"
       ]
      },
      {
       "output_type": "stream",
       "stream": "stdout",
       "text": [
        "\n",
        "len(da[0]): 104063\n",
        "Feature shape: (9, 910)\n",
        "I am on file 444 with filename LC_40703-01-20-00_combined.dat \n",
        "dt_min: 0.0078125"
       ]
      },
      {
       "output_type": "stream",
       "stream": "stdout",
       "text": [
        "\n",
        "len(da[0]): 1534\n",
        "len(da[0]): 13821\n",
        "len(da[0]): 223231\n",
        "Feature shape: (24, 910)"
       ]
      },
      {
       "output_type": "stream",
       "stream": "stdout",
       "text": [
        "\n",
        "I am on file 445 with filename LC_92702-01-31-01_combined.dat \n",
        "dt_min: 0.00781249999989"
       ]
      },
      {
       "output_type": "stream",
       "stream": "stdout",
       "text": [
        "\n",
        "len(da[0]): 135167\n",
        "Feature shape: (13, 910)"
       ]
      },
      {
       "output_type": "stream",
       "stream": "stdout",
       "text": [
        "\n",
        "I am on file 446 with filename LC_95701-01-33-00_combined.dat \n",
        "dt_min: 0.00781249999977"
       ]
      },
      {
       "output_type": "stream",
       "stream": "stdout",
       "text": [
        "\n",
        "len(da[0]): 239231\n",
        "Feature shape: (26, 910)"
       ]
      },
      {
       "output_type": "stream",
       "stream": "stdout",
       "text": [
        "\n",
        "I am on file 447 with filename LC_60701-01-18-02_combined.dat \n",
        "dt_min: 0.00781249999989"
       ]
      },
      {
       "output_type": "stream",
       "stream": "stdout",
       "text": [
        "\n",
        "len(da[0]): 133119\n",
        "Feature shape: (13, 910)"
       ]
      },
      {
       "output_type": "stream",
       "stream": "stdout",
       "text": [
        "\n",
        "I am on file 448 with filename LC_80701-01-38-00_combined.dat \n",
        "dt_min: 0.00781249999994"
       ]
      },
      {
       "output_type": "stream",
       "stream": "stdout",
       "text": [
        "\n",
        "len(da[0]): 126975\n",
        "Feature shape: (12, 910)"
       ]
      },
      {
       "output_type": "stream",
       "stream": "stdout",
       "text": [
        "\n",
        "I am on file 449 with filename LC_92702-01-08-02_combined.dat \n",
        "dt_min: 0.00781249999989"
       ]
      },
      {
       "output_type": "stream",
       "stream": "stdout",
       "text": [
        "\n",
        "len(da[0]): 174079\n",
        "Feature shape: (18, 910)"
       ]
      },
      {
       "output_type": "stream",
       "stream": "stdout",
       "text": [
        "\n",
        "I am on file 450 with filename LC_91701-01-28-01_combined.dat \n",
        "dt_min: 0.00781249999999"
       ]
      },
      {
       "output_type": "stream",
       "stream": "stdout",
       "text": [
        "\n",
        "len(da[0]): 114175\n",
        "Feature shape: (10, 910)\n",
        "I am on file 451 with filename LC_94701-01-23-00_combined.dat \n",
        "dt_min: 0.00781249999977"
       ]
      },
      {
       "output_type": "stream",
       "stream": "stdout",
       "text": [
        "\n",
        "len(da[0]): 229375\n",
        "Feature shape: (24, 910)"
       ]
      },
      {
       "output_type": "stream",
       "stream": "stdout",
       "text": [
        "\n",
        "I am on file 452 with filename LC_80701-01-39-01_combined.dat \n",
        "dt_min: 0.00781249999989"
       ]
      },
      {
       "output_type": "stream",
       "stream": "stdout",
       "text": [
        "\n",
        "len(da[0]): 211839\n",
        "Feature shape: (22, 910)"
       ]
      },
      {
       "output_type": "stream",
       "stream": "stdout",
       "text": [
        "\n",
        "I am on file 453 with filename LC_90105-10-05-00_combined.dat \n",
        "dt_min: 0.00390624999989"
       ]
      },
      {
       "output_type": "stream",
       "stream": "stdout",
       "text": [
        "\n",
        "len(da[0]): 777727\n",
        "Feature shape: (44, 910)"
       ]
      },
      {
       "output_type": "stream",
       "stream": "stdout",
       "text": [
        "\n",
        "I am on file 454 with filename LC_50703-01-25-00_combined.dat \n",
        "dt_min: 0.00781249999989"
       ]
      },
      {
       "output_type": "stream",
       "stream": "stdout",
       "text": [
        "\n",
        "len(da[0]): 159743\n",
        "Feature shape: (16, 910)"
       ]
      },
      {
       "output_type": "stream",
       "stream": "stdout",
       "text": [
        "\n",
        "I am on file 455 with filename LC_40703-01-27-01_combined.dat \n",
        "dt_min: 0.00781249999999"
       ]
      },
      {
       "output_type": "stream",
       "stream": "stdout",
       "text": [
        "\n",
        "len(da[0]): 53246\n",
        "len(da[0]): 126974\n",
        "len(da[0]): 51070\n",
        "len(da[0]): 1149\n",
        "len(da[0]): 71678\n",
        "len(da[0]): 12670\n",
        "len(da[0]): 72317\n",
        "len(da[0]): 55805\n",
        "len(da[0]): 16894\n",
        "Feature shape: (31, 910)"
       ]
      },
      {
       "output_type": "stream",
       "stream": "stdout",
       "text": [
        "\n",
        "I am on file 456 with filename LC_40116-01-04-01_combined.dat \n",
        "dt_min: 0.00781249999989"
       ]
      },
      {
       "output_type": "stream",
       "stream": "stdout",
       "text": [
        "\n",
        "len(da[0]): 346111\n",
        "Feature shape: (39, 910)"
       ]
      },
      {
       "output_type": "stream",
       "stream": "stdout",
       "text": [
        "\n",
        "I am on file 457 with filename LC_90105-04-01-00_combined.dat \n",
        "dt_min: 0.00390624999818"
       ]
      },
      {
       "output_type": "stream",
       "stream": "stdout",
       "text": [
        "\n",
        "len(da[0]): 831486\n",
        "len(da[0]): 831486\n",
        "len(da[0]): 581631"
       ]
      },
      {
       "output_type": "stream",
       "stream": "stdout",
       "text": [
        "\n",
        "Feature shape: (126, 910)"
       ]
      },
      {
       "output_type": "stream",
       "stream": "stdout",
       "text": [
        "\n",
        "I am on file 458 with filename LC_70702-01-36-00_combined.dat \n",
        "dt_min: 0.00781249999989"
       ]
      },
      {
       "output_type": "stream",
       "stream": "stdout",
       "text": [
        "\n",
        "len(da[0]): 296447\n",
        "Feature shape: (33, 910)"
       ]
      },
      {
       "output_type": "stream",
       "stream": "stdout",
       "text": [
        "\n",
        "I am on file 459 with filename LC_80701-01-15-00_combined.dat \n",
        "dt_min: 0.00781249999994"
       ]
      },
      {
       "output_type": "stream",
       "stream": "stdout",
       "text": [
        "\n",
        "len(da[0]): 110591\n",
        "Feature shape: (10, 910)\n",
        "I am on file 460 with filename LC_20402-01-37-02_combined.dat \n",
        "I am on file 461 with filename LC_40703-01-28-00_combined.dat \n",
        "dt_min: 0.00781249999989"
       ]
      },
      {
       "output_type": "stream",
       "stream": "stdout",
       "text": [
        "\n",
        "len(da[0]): 180223\n",
        "Feature shape: (18, 910)"
       ]
      },
      {
       "output_type": "stream",
       "stream": "stdout",
       "text": [
        "\n",
        "I am on file 462 with filename LC_90701-01-22-00_combined.dat \n",
        "dt_min: 0.00781249999999"
       ]
      },
      {
       "output_type": "stream",
       "stream": "stdout",
       "text": [
        "\n",
        "len(da[0]): 23934\n",
        "len(da[0]): 24190\n",
        "Feature shape: (0,)\n",
        "I am on file 463 with filename LC_90105-09-05-00_combined.dat \n",
        "dt_min: 0.00390624999989"
       ]
      },
      {
       "output_type": "stream",
       "stream": "stdout",
       "text": [
        "\n",
        "len(da[0]): 786431\n",
        "Feature shape: (44, 910)"
       ]
      },
      {
       "output_type": "stream",
       "stream": "stdout",
       "text": [
        "\n",
        "I am on file 464 with filename LC_95701-01-15-01_combined.dat \n",
        "dt_min: 0.00781249999999"
       ]
      },
      {
       "output_type": "stream",
       "stream": "stdout",
       "text": [
        "\n",
        "len(da[0]): 71679\n",
        "Feature shape: (5, 910)\n",
        "I am on file 465 with filename LC_60701-01-30-01_combined.dat \n",
        "dt_min: 0.00781249999989"
       ]
      },
      {
       "output_type": "stream",
       "stream": "stdout",
       "text": [
        "\n",
        "len(da[0]): 141311\n",
        "Feature shape: (14, 910)"
       ]
      },
      {
       "output_type": "stream",
       "stream": "stdout",
       "text": [
        "\n",
        "I am on file 466 with filename LC_40703-01-51-01_combined.dat \n",
        "dt_min: 0.00781249999989"
       ]
      },
      {
       "output_type": "stream",
       "stream": "stdout",
       "text": [
        "\n",
        "len(da[0]): 238975\n",
        "Feature shape: (26, 910)"
       ]
      },
      {
       "output_type": "stream",
       "stream": "stdout",
       "text": [
        "\n",
        "I am on file 467 with filename LC_80701-01-58-03_combined.dat \n",
        "dt_min: 0.00781249999989"
       ]
      },
      {
       "output_type": "stream",
       "stream": "stdout",
       "text": [
        "\n",
        "len(da[0]): 142719\n",
        "Feature shape: (14, 910)"
       ]
      },
      {
       "output_type": "stream",
       "stream": "stdout",
       "text": [
        "\n",
        "I am on file 468 with filename LC_90024-02-18-00_combined.dat \n",
        "dt_min: 0.00390624999999"
       ]
      },
      {
       "output_type": "stream",
       "stream": "stdout",
       "text": [
        "\n",
        "len(da[0]): 172031\n",
        "Feature shape: (7, 910)\n",
        "I am on file 469 with filename LC_95701-01-29-00_combined.dat \n",
        "dt_min: 0.00781249999977"
       ]
      },
      {
       "output_type": "stream",
       "stream": "stdout",
       "text": [
        "\n",
        "len(da[0]): 335871\n",
        "Feature shape: (37, 910)"
       ]
      },
      {
       "output_type": "stream",
       "stream": "stdout",
       "text": [
        "\n",
        "I am on file 470 with filename LC_40703-01-34-00_combined.dat \n",
        "dt_min: 0.00781249999989"
       ]
      },
      {
       "output_type": "stream",
       "stream": "stdout",
       "text": [
        "\n",
        "len(da[0]): 182015\n",
        "Feature shape: (19, 910)"
       ]
      },
      {
       "output_type": "stream",
       "stream": "stdout",
       "text": [
        "\n",
        "I am on file 471 with filename LC_20402-01-30-02_combined.dat \n",
        "dt_min: 0.0078125"
       ]
      },
      {
       "output_type": "stream",
       "stream": "stdout",
       "text": [
        "\n",
        "len(da[0]): 73727\n",
        "Feature shape: (5, 910)\n",
        "I am on file 472 with filename LC_50703-01-53-02_combined.dat \n",
        "dt_min: 0.00781249999989"
       ]
      },
      {
       "output_type": "stream",
       "stream": "stdout",
       "text": [
        "\n",
        "len(da[0]): 157695\n",
        "Feature shape: (16, 910)"
       ]
      },
      {
       "output_type": "stream",
       "stream": "stdout",
       "text": [
        "\n",
        "I am on file 473 with filename LC_80701-01-45-01_combined.dat \n",
        "dt_min: 0.00781249999989"
       ]
      },
      {
       "output_type": "stream",
       "stream": "stdout",
       "text": [
        "\n",
        "len(da[0]): 149503\n",
        "Feature shape: (15, 910)"
       ]
      },
      {
       "output_type": "stream",
       "stream": "stdout",
       "text": [
        "\n",
        "I am on file 474 with filename LC_91701-01-27-00_combined.dat \n",
        "dt_min: 0.00781249999989"
       ]
      },
      {
       "output_type": "stream",
       "stream": "stdout",
       "text": [
        "\n",
        "len(da[0]): 409599\n",
        "Feature shape: (46, 910)"
       ]
      },
      {
       "output_type": "stream",
       "stream": "stdout",
       "text": [
        "\n",
        "I am on file 475 with filename LC_70703-01-01-09_combined.dat \n",
        "dt_min: 0.00781249999989"
       ]
      },
      {
       "output_type": "stream",
       "stream": "stdout",
       "text": [
        "\n",
        "len(da[0]): 148350\n",
        "len(da[0]): 290942\n",
        "len(da[0]): 4989\n",
        "len(da[0]): 249855\n",
        "Feature shape: (74, 910)"
       ]
      },
      {
       "output_type": "stream",
       "stream": "stdout",
       "text": [
        "\n",
        "I am on file 476 with filename LC_30402-01-05-00_combined.dat \n",
        "dt_min: 0.00781249999955"
       ]
      },
      {
       "output_type": "stream",
       "stream": "stdout",
       "text": [
        "\n",
        "len(da[0]): 55294\n",
        "len(da[0]): 8701\n",
        "len(da[0]): 317439\n",
        "Feature shape: (38, 910)"
       ]
      },
      {
       "output_type": "stream",
       "stream": "stdout",
       "text": [
        "\n",
        "I am on file 477 with filename LC_10408-01-17-03_combined.dat \n",
        "I am on file 478 with filename LC_90105-03-02-03_combined.dat \n",
        "dt_min: 0.00390624999989"
       ]
      },
      {
       "output_type": "stream",
       "stream": "stdout",
       "text": [
        "\n",
        "len(da[0]): 438271\n",
        "Feature shape: (23, 910)"
       ]
      },
      {
       "output_type": "stream",
       "stream": "stdout",
       "text": [
        "\n",
        "I am on file 479 with filename LC_20402-01-42-00_combined.dat \n",
        "I am on file 480 with filename LC_50703-01-06-00_combined.dat \n",
        "dt_min: 0.00781249999989"
       ]
      },
      {
       "output_type": "stream",
       "stream": "stdout",
       "text": [
        "\n",
        "len(da[0]): 239615\n",
        "Feature shape: (26, 910)"
       ]
      },
      {
       "output_type": "stream",
       "stream": "stdout",
       "text": [
        "\n",
        "I am on file 481 with filename LC_20402-01-45-00_combined.dat \n",
        "dt_min: 0.00781249999989"
       ]
      },
      {
       "output_type": "stream",
       "stream": "stdout",
       "text": [
        "\n",
        "len(da[0]): 294910\n",
        "len(da[0]): 260094\n",
        "len(da[0]): 229374\n",
        "len(da[0]): 225279\n",
        "Feature shape: (108, 910)"
       ]
      },
      {
       "output_type": "stream",
       "stream": "stdout",
       "text": [
        "\n",
        "I am on file 482 with filename LC_91701-01-29-00_combined.dat \n",
        "dt_min: 0.00781249999994"
       ]
      },
      {
       "output_type": "stream",
       "stream": "stdout",
       "text": [
        "\n",
        "len(da[0]): 112639\n",
        "Feature shape: (10, 910)"
       ]
      },
      {
       "output_type": "stream",
       "stream": "stdout",
       "text": [
        "\n",
        "I am on file 483 with filename LC_95701-01-03-00_combined.dat \n",
        "dt_min: 0.00781249999977"
       ]
      },
      {
       "output_type": "stream",
       "stream": "stdout",
       "text": [
        "\n",
        "len(da[0]): 212735\n",
        "Feature shape: (22, 910)"
       ]
      },
      {
       "output_type": "stream",
       "stream": "stdout",
       "text": [
        "\n",
        "I am on file 484 with filename LC_20402-01-02-02_combined.dat \n",
        "dt_min: 0.00390625"
       ]
      },
      {
       "output_type": "stream",
       "stream": "stdout",
       "text": [
        "\n",
        "len(da[0]): 339966\n",
        "len(da[0]): 299006\n",
        "len(da[0]): 299006\n",
        "len(da[0]): 53247\n",
        "Feature shape: (47, 910)"
       ]
      },
      {
       "output_type": "stream",
       "stream": "stdout",
       "text": [
        "\n",
        "I am on file 485 with filename LC_50703-01-15-00_combined.dat \n",
        "dt_min: 0.00781249999989"
       ]
      },
      {
       "output_type": "stream",
       "stream": "stdout",
       "text": [
        "\n",
        "len(da[0]): 331263\n",
        "Feature shape: (37, 910)"
       ]
      },
      {
       "output_type": "stream",
       "stream": "stdout",
       "text": [
        "\n",
        "I am on file 486 with filename LC_60701-01-12-01_combined.dat \n",
        "dt_min: 0.00781249999989"
       ]
      },
      {
       "output_type": "stream",
       "stream": "stdout",
       "text": [
        "\n",
        "len(da[0]): 208895\n",
        "Feature shape: (22, 910)"
       ]
      },
      {
       "output_type": "stream",
       "stream": "stdout",
       "text": [
        "\n",
        "I am on file 487 with filename LC_30703-01-22-00_combined.dat \n",
        "dt_min: 0.00781249999989"
       ]
      },
      {
       "output_type": "stream",
       "stream": "stdout",
       "text": [
        "\n",
        "len(da[0]): 432127\n",
        "Feature shape: (49, 910)"
       ]
      },
      {
       "output_type": "stream",
       "stream": "stdout",
       "text": [
        "\n",
        "I am on file 488 with filename LC_92702-01-27-02_combined.dat \n",
        "dt_min: 0.00781249999989"
       ]
      },
      {
       "output_type": "stream",
       "stream": "stdout",
       "text": [
        "\n",
        "len(da[0]): 147455\n",
        "Feature shape: (14, 910)"
       ]
      },
      {
       "output_type": "stream",
       "stream": "stdout",
       "text": [
        "\n",
        "I am on file 489 with filename LC_90701-01-12-00_combined.dat \n",
        "dt_min: 0.00781249999989"
       ]
      },
      {
       "output_type": "stream",
       "stream": "stdout",
       "text": [
        "\n",
        "len(da[0]): 366591\n",
        "Feature shape: (41, 910)"
       ]
      },
      {
       "output_type": "stream",
       "stream": "stdout",
       "text": [
        "\n",
        "I am on file 490 with filename LC_92702-01-24-01_combined.dat \n",
        "dt_min: 0.00781249999989"
       ]
      },
      {
       "output_type": "stream",
       "stream": "stdout",
       "text": [
        "\n",
        "len(da[0]): 274431\n",
        "Feature shape: (30, 910)"
       ]
      },
      {
       "output_type": "stream",
       "stream": "stdout",
       "text": [
        "\n",
        "I am on file 491 with filename LC_60701-01-30-02_combined.dat \n",
        "dt_min: 0.00781249999994"
       ]
      },
      {
       "output_type": "stream",
       "stream": "stdout",
       "text": [
        "\n",
        "len(da[0]): 114686\n",
        "len(da[0]): 57342\n",
        "len(da[0]): 86015\n",
        "Feature shape: (20, 910)"
       ]
      },
      {
       "output_type": "stream",
       "stream": "stdout",
       "text": [
        "\n",
        "I am on file 492 with filename LC_70702-01-46-00_combined.dat \n",
        "dt_min: 0.00781249999999"
       ]
      },
      {
       "output_type": "stream",
       "stream": "stdout",
       "text": [
        "\n",
        "len(da[0]): 22526\n",
        "len(da[0]): 135167\n",
        "Feature shape: (13, 910)"
       ]
      },
      {
       "output_type": "stream",
       "stream": "stdout",
       "text": [
        "\n",
        "I am on file 493 with filename LC_93701-01-43-00_combined.dat \n",
        "dt_min: 0.00781249999989"
       ]
      },
      {
       "output_type": "stream",
       "stream": "stdout",
       "text": [
        "\n",
        "len(da[0]): 358015\n",
        "Feature shape: (40, 910)"
       ]
      },
      {
       "output_type": "stream",
       "stream": "stdout",
       "text": [
        "\n",
        "I am on file 494 with filename LC_90701-01-16-00_combined.dat \n",
        "dt_min: 0.00781249999989"
       ]
      },
      {
       "output_type": "stream",
       "stream": "stdout",
       "text": [
        "\n",
        "len(da[0]): 231423\n",
        "Feature shape: (25, 910)"
       ]
      },
      {
       "output_type": "stream",
       "stream": "stdout",
       "text": [
        "\n",
        "I am on file 495 with filename LC_40703-01-22-02_combined.dat \n",
        "dt_min: 0.00781249999989"
       ]
      },
      {
       "output_type": "stream",
       "stream": "stdout",
       "text": [
        "\n",
        "len(da[0]): 177279\n",
        "Feature shape: (18, 910)"
       ]
      },
      {
       "output_type": "stream",
       "stream": "stdout",
       "text": [
        "\n",
        "I am on file 496 with filename LC_80701-01-62-01_combined.dat \n",
        "dt_min: 0.00781249999989"
       ]
      },
      {
       "output_type": "stream",
       "stream": "stdout",
       "text": [
        "\n",
        "len(da[0]): 215039\n",
        "Feature shape: (23, 910)"
       ]
      },
      {
       "output_type": "stream",
       "stream": "stdout",
       "text": [
        "\n",
        "I am on file 497 with filename LC_20402-01-12-00_combined.dat \n",
        "I am on file 498 with filename LC_40703-01-20-01_combined.dat \n",
        "dt_min: 0.00781249999999"
       ]
      },
      {
       "output_type": "stream",
       "stream": "stdout",
       "text": [
        "\n",
        "len(da[0]): 34814\n",
        "len(da[0]): 49790\n",
        "len(da[0]): 92542\n",
        "Feature shape: (12, 910)"
       ]
      },
      {
       "output_type": "stream",
       "stream": "stdout",
       "text": [
        "\n",
        "I am on file 499 with filename LC_94701-01-05-01_combined.dat \n",
        "dt_min: 0.00781249999999"
       ]
      },
      {
       "output_type": "stream",
       "stream": "stdout",
       "text": [
        "\n",
        "len(da[0]): 88063\n",
        "Feature shape: (7, 910)\n",
        "I am on file 500 with filename LC_90105-10-01-00_combined.dat \n",
        "dt_min: 0.00390624999989"
       ]
      },
      {
       "output_type": "stream",
       "stream": "stdout",
       "text": [
        "\n",
        "len(da[0]): 835583\n",
        "Feature shape: (47, 910)"
       ]
      },
      {
       "output_type": "stream",
       "stream": "stdout",
       "text": [
        "\n",
        "I am on file 501 with filename LC_90105-02-06-00_combined.dat \n",
        "dt_min: 0.00390624999989"
       ]
      },
      {
       "output_type": "stream",
       "stream": "stdout",
       "text": [
        "\n",
        "len(da[0]): 770046\n",
        "len(da[0]): 651262\n",
        "len(da[0]): 396285\n",
        "len(da[0]): 179199"
       ]
      },
      {
       "output_type": "stream",
       "stream": "stdout",
       "text": [
        "\n",
        "Feature shape: (107, 910)"
       ]
      },
      {
       "output_type": "stream",
       "stream": "stdout",
       "text": [
        "\n",
        "I am on file 502 with filename LC_93701-01-11-00_combined.dat \n",
        "dt_min: 0.00781249999989"
       ]
      },
      {
       "output_type": "stream",
       "stream": "stdout",
       "text": [
        "\n",
        "len(da[0]): 180223\n",
        "Feature shape: (18, 910)"
       ]
      },
      {
       "output_type": "stream",
       "stream": "stdout",
       "text": [
        "\n",
        "I am on file 503 with filename LC_80701-01-25-01_combined.dat \n",
        "dt_min: 0.00781249999999"
       ]
      },
      {
       "output_type": "stream",
       "stream": "stdout",
       "text": [
        "\n",
        "len(da[0]): 83967\n",
        "Feature shape: (7, 910)\n",
        "I am on file 504 with filename LC_40116-01-02-06_combined.dat \n",
        "dt_min: 0.00781249999989"
       ]
      },
      {
       "output_type": "stream",
       "stream": "stdout",
       "text": [
        "\n",
        "len(da[0]): 281727\n",
        "Feature shape: (31, 910)"
       ]
      },
      {
       "output_type": "stream",
       "stream": "stdout",
       "text": [
        "\n",
        "I am on file 505 with filename LC_40703-01-51-03_combined.dat \n",
        "dt_min: 0.00781249999989"
       ]
      },
      {
       "output_type": "stream",
       "stream": "stdout",
       "text": [
        "\n",
        "len(da[0]): 214399\n",
        "Feature shape: (23, 910)"
       ]
      },
      {
       "output_type": "stream",
       "stream": "stdout",
       "text": [
        "\n",
        "I am on file 506 with filename LC_50703-01-57-00_combined.dat \n",
        "dt_min: 0.00781249999818"
       ]
      },
      {
       "output_type": "stream",
       "stream": "stdout",
       "text": [
        "\n",
        "len(da[0]): 419838\n",
        "len(da[0]): 417791\n",
        "Feature shape: (95, 910)"
       ]
      },
      {
       "output_type": "stream",
       "stream": "stdout",
       "text": [
        "\n",
        "I am on file 507 with filename LC_80701-01-33-00_combined.dat \n",
        "dt_min: 0.00781249999989"
       ]
      },
      {
       "output_type": "stream",
       "stream": "stdout",
       "text": [
        "\n",
        "len(da[0]): 411647\n",
        "Feature shape: (47, 910)"
       ]
      },
      {
       "output_type": "stream",
       "stream": "stdout",
       "text": [
        "\n",
        "I am on file 508 with filename LC_90024-02-02-00_combined.dat \n",
        "dt_min: 0.00390624999989"
       ]
      },
      {
       "output_type": "stream",
       "stream": "stdout",
       "text": [
        "\n",
        "len(da[0]): 274431\n",
        "Feature shape: (13, 910)"
       ]
      },
      {
       "output_type": "stream",
       "stream": "stdout",
       "text": [
        "\n",
        "I am on file 509 with filename LC_93701-01-14-00_combined.dat \n",
        "dt_min: 0.00781249999989"
       ]
      },
      {
       "output_type": "stream",
       "stream": "stdout",
       "text": [
        "\n",
        "len(da[0]): 194559\n",
        "Feature shape: (20, 910)"
       ]
      },
      {
       "output_type": "stream",
       "stream": "stdout",
       "text": [
        "\n",
        "I am on file 510 with filename LC_91701-01-63-00_combined.dat \n",
        "dt_min: 0.00781249999989"
       ]
      },
      {
       "output_type": "stream",
       "stream": "stdout",
       "text": [
        "\n",
        "len(da[0]): 407551\n",
        "Feature shape: (46, 910)"
       ]
      },
      {
       "output_type": "stream",
       "stream": "stdout",
       "text": [
        "\n",
        "I am on file 511 with filename LC_20402-01-57-01_combined.dat \n",
        "dt_min: 0.00781249999989"
       ]
      },
      {
       "output_type": "stream",
       "stream": "stdout",
       "text": [
        "\n",
        "len(da[0]): 96254\n",
        "len(da[0]): 180222\n",
        "len(da[0]): 223231\n",
        "Feature shape: (50, 910)"
       ]
      },
      {
       "output_type": "stream",
       "stream": "stdout",
       "text": [
        "\n",
        "I am on file 512 with filename LC_60701-01-25-00_combined.dat \n",
        "dt_min: 0.00781249999989"
       ]
      },
      {
       "output_type": "stream",
       "stream": "stdout",
       "text": [
        "\n",
        "len(da[0]): 200703\n",
        "Feature shape: (21, 910)"
       ]
      },
      {
       "output_type": "stream",
       "stream": "stdout",
       "text": [
        "\n",
        "I am on file 513 with filename LC_10408-01-40-00_combined.dat \n",
        "I am on file 514 with filename LC_40403-01-06-02_combined.dat \n",
        "dt_min: 0.00781249999989"
       ]
      },
      {
       "output_type": "stream",
       "stream": "stdout",
       "text": [
        "\n",
        "len(da[0]): 266239\n",
        "Feature shape: (29, 910)"
       ]
      },
      {
       "output_type": "stream",
       "stream": "stdout",
       "text": [
        "\n",
        "I am on file 515 with filename LC_91701-01-60-00_combined.dat \n",
        "dt_min: 0.00781249999989"
       ]
      },
      {
       "output_type": "stream",
       "stream": "stdout",
       "text": [
        "\n",
        "len(da[0]): 206847\n",
        "Feature shape: (22, 910)"
       ]
      },
      {
       "output_type": "stream",
       "stream": "stdout",
       "text": [
        "\n",
        "I am on file 516 with filename LC_92702-01-11-00_combined.dat \n",
        "dt_min: 0.00781249999989"
       ]
      },
      {
       "output_type": "stream",
       "stream": "stdout",
       "text": [
        "\n",
        "len(da[0]): 234878\n",
        "len(da[0]): 409598\n",
        "len(da[0]): 200703\n",
        "Feature shape: (92, 910)"
       ]
      },
      {
       "output_type": "stream",
       "stream": "stdout",
       "text": [
        "\n",
        "I am on file 517 with filename LC_93701-01-33-00_combined.dat \n",
        "dt_min: 0.00781249999989"
       ]
      },
      {
       "output_type": "stream",
       "stream": "stdout",
       "text": [
        "\n",
        "len(da[0]): 118782\n",
        "Feature shape: (11, 910)"
       ]
      },
      {
       "output_type": "stream",
       "stream": "stdout",
       "text": [
        "\n",
        "I am on file 518 with filename LC_90701-01-13-01_combined.dat \n",
        "dt_min: 0.00781249999994"
       ]
      },
      {
       "output_type": "stream",
       "stream": "stdout",
       "text": [
        "\n",
        "len(da[0]): 100351\n",
        "Feature shape: (9, 910)\n",
        "I am on file 519 with filename LC_90024-02-41-01_combined.dat \n",
        "dt_min: 0.00390624999999"
       ]
      },
      {
       "output_type": "stream",
       "stream": "stdout",
       "text": [
        "\n",
        "len(da[0]): 239615\n",
        "Feature shape: (11, 910)"
       ]
      },
      {
       "output_type": "stream",
       "stream": "stdout",
       "text": [
        "\n",
        "I am on file 520 with filename LC_94701-01-59-01_combined.dat \n",
        "dt_min: 0.00781249999989"
       ]
      },
      {
       "output_type": "stream",
       "stream": "stdout",
       "text": [
        "\n",
        "len(da[0]): 218239\n",
        "Feature shape: (23, 910)"
       ]
      },
      {
       "output_type": "stream",
       "stream": "stdout",
       "text": [
        "\n",
        "I am on file 521 with filename LC_94701-01-09-00_combined.dat \n",
        "dt_min: 0.00781249999977"
       ]
      },
      {
       "output_type": "stream",
       "stream": "stdout",
       "text": [
        "\n",
        "len(da[0]): 245503\n",
        "Feature shape: (26, 910)"
       ]
      },
      {
       "output_type": "stream",
       "stream": "stdout",
       "text": [
        "\n",
        "I am on file 522 with filename LC_90024-02-05-00_combined.dat \n",
        "dt_min: 0.00390624999999"
       ]
      },
      {
       "output_type": "stream",
       "stream": "stdout",
       "text": [
        "\n",
        "len(da[0]): 147455\n",
        "Feature shape: (5, 910)\n",
        "I am on file 523 with filename LC_92702-01-01-01_combined.dat \n",
        "dt_min: 0.00781249999989"
       ]
      },
      {
       "output_type": "stream",
       "stream": "stdout",
       "text": [
        "\n",
        "len(da[0]): 206847\n",
        "Feature shape: (22, 910)"
       ]
      },
      {
       "output_type": "stream",
       "stream": "stdout",
       "text": [
        "\n",
        "I am on file 524 with filename LC_60701-01-31-00_combined.dat \n",
        "dt_min: 0.00781249999989"
       ]
      },
      {
       "output_type": "stream",
       "stream": "stdout",
       "text": [
        "\n",
        "len(da[0]): 148991\n",
        "Feature shape: (15, 910)"
       ]
      },
      {
       "output_type": "stream",
       "stream": "stdout",
       "text": [
        "\n",
        "I am on file 525 with filename LC_92702-01-31-00_combined.dat \n",
        "dt_min: 0.00781249999989"
       ]
      },
      {
       "output_type": "stream",
       "stream": "stdout",
       "text": [
        "\n",
        "len(da[0]): 264191\n",
        "Feature shape: (29, 910)"
       ]
      },
      {
       "output_type": "stream",
       "stream": "stdout",
       "text": [
        "\n",
        "I am on file 526 with filename LC_30182-01-03-00_combined.dat \n",
        "dt_min: 0.00781249999989"
       ]
      },
      {
       "output_type": "stream",
       "stream": "stdout",
       "text": [
        "\n",
        "len(da[0]): 151549\n",
        "len(da[0]): 98302\n",
        "len(da[0]): 124925\n",
        "len(da[0]): 82941\n",
        "len(da[0]): 98302\n",
        "len(da[0]): 270334\n",
        "len(da[0]): 122878\n",
        "len(da[0]): 141309\n",
        "len(da[0]): 70141\n",
        "len(da[0]): 214526\n",
        "len(da[0]): 315391"
       ]
      },
      {
       "output_type": "stream",
       "stream": "stdout",
       "text": [
        "\n",
        "Feature shape: (167, 910)"
       ]
      },
      {
       "output_type": "stream",
       "stream": "stdout",
       "text": [
        "\n",
        "I am on file 527 with filename LC_60701-01-16-01_combined.dat \n",
        "dt_min: 0.00781249999989"
       ]
      },
      {
       "output_type": "stream",
       "stream": "stdout",
       "text": [
        "\n",
        "len(da[0]): 397311\n",
        "Feature shape: (45, 910)"
       ]
      },
      {
       "output_type": "stream",
       "stream": "stdout",
       "text": [
        "\n",
        "I am on file 528 with filename LC_30703-01-39-00_combined.dat \n",
        "dt_min: 0.00781249999989"
       ]
      },
      {
       "output_type": "stream",
       "stream": "stdout",
       "text": [
        "\n",
        "len(da[0]): 320510\n",
        "len(da[0]): 173053\n",
        "len(da[0]): 118270\n",
        "Feature shape: (65, 910)"
       ]
      },
      {
       "output_type": "stream",
       "stream": "stdout",
       "text": [
        "\n",
        "I am on file 529 with filename LC_90024-02-19-00_combined.dat \n",
        "dt_min: 0.00390624999989"
       ]
      },
      {
       "output_type": "stream",
       "stream": "stdout",
       "text": [
        "\n",
        "len(da[0]): 368639\n",
        "Feature shape: (19, 910)"
       ]
      },
      {
       "output_type": "stream",
       "stream": "stdout",
       "text": [
        "\n",
        "I am on file 530 with filename LC_50703-01-35-01_combined.dat \n",
        "dt_min: 0.00781249999989"
       ]
      },
      {
       "output_type": "stream",
       "stream": "stdout",
       "text": [
        "\n",
        "len(da[0]): 244863\n",
        "Feature shape: (26, 910)"
       ]
      },
      {
       "output_type": "stream",
       "stream": "stdout",
       "text": [
        "\n",
        "I am on file 531 with filename LC_90105-07-03-00_combined.dat \n",
        "dt_min: 0.00390624999989"
       ]
      },
      {
       "output_type": "stream",
       "stream": "stdout",
       "text": [
        "\n",
        "len(da[0]): 802815\n",
        "Feature shape: (45, 910)"
       ]
      },
      {
       "output_type": "stream",
       "stream": "stdout",
       "text": [
        "\n",
        "I am on file 532 with filename LC_91701-01-65-01_combined.dat \n",
        "dt_min: 0.00781249999989"
       ]
      },
      {
       "output_type": "stream",
       "stream": "stdout",
       "text": [
        "\n",
        "len(da[0]): 143103\n",
        "Feature shape: (14, 910)"
       ]
      },
      {
       "output_type": "stream",
       "stream": "stdout",
       "text": [
        "\n",
        "I am on file 533 with filename LC_90701-01-23-00_combined.dat \n",
        "dt_min: 0.00781249999989"
       ]
      },
      {
       "output_type": "stream",
       "stream": "stdout",
       "text": [
        "\n",
        "len(da[0]): 208895\n",
        "Feature shape: (22, 910)"
       ]
      },
      {
       "output_type": "stream",
       "stream": "stdout",
       "text": [
        "\n",
        "I am on file 534 with filename LC_70702-01-05-01_combined.dat \n",
        "dt_min: 0.00781249999989"
       ]
      },
      {
       "output_type": "stream",
       "stream": "stdout",
       "text": [
        "\n",
        "len(da[0]): 200703\n",
        "Feature shape: (21, 910)"
       ]
      },
      {
       "output_type": "stream",
       "stream": "stdout",
       "text": [
        "\n",
        "I am on file 535 with filename LC_40703-01-33-00_combined.dat \n",
        "dt_min: 0.00781249999999"
       ]
      },
      {
       "output_type": "stream",
       "stream": "stdout",
       "text": [
        "\n",
        "len(da[0]): 38910\n",
        "len(da[0]): 180223\n",
        "Feature shape: (19, 910)"
       ]
      },
      {
       "output_type": "stream",
       "stream": "stdout",
       "text": [
        "\n",
        "I am on file 536 with filename LC_96701-01-05-00_combined.dat \n",
        "dt_min: 0.00781249999977"
       ]
      },
      {
       "output_type": "stream",
       "stream": "stdout",
       "text": [
        "\n",
        "len(da[0]): 149503\n",
        "Feature shape: (15, 910)"
       ]
      },
      {
       "output_type": "stream",
       "stream": "stdout",
       "text": [
        "\n",
        "I am on file 537 with filename LC_20402-01-20-00_combined.dat \n",
        "I am on file 538 with filename LC_30183-02-02-01_combined.dat \n",
        "dt_min: 0.00781249999818"
       ]
      },
      {
       "output_type": "stream",
       "stream": "stdout",
       "text": [
        "\n",
        "len(da[0]): 421886\n",
        "len(da[0]): 403454\n",
        "len(da[0]): 1533\n",
        "len(da[0]): 180989\n",
        "len(da[0]): 145405\n",
        "len(da[0]): 44286\n",
        "len(da[0]): 7165\n",
        "len(da[0]): 352255\n",
        "Feature shape: (168, 910)"
       ]
      },
      {
       "output_type": "stream",
       "stream": "stdout",
       "text": [
        "\n",
        "I am on file 539 with filename LC_40703-01-14-00_combined.dat \n",
        "dt_min: 0.00781249999994"
       ]
      },
      {
       "output_type": "stream",
       "stream": "stdout",
       "text": [
        "\n",
        "len(da[0]): 3710\n",
        "len(da[0]): 83325\n",
        "len(da[0]): 114687\n",
        "Feature shape: (17, 910)"
       ]
      },
      {
       "output_type": "stream",
       "stream": "stdout",
       "text": [
        "\n",
        "I am on file 540 with filename LC_40703-01-21-00_combined.dat \n",
        "dt_min: 0.00781249999989"
       ]
      },
      {
       "output_type": "stream",
       "stream": "stdout",
       "text": [
        "\n",
        "len(da[0]): 208895\n",
        "Feature shape: (22, 910)"
       ]
      },
      {
       "output_type": "stream",
       "stream": "stdout",
       "text": [
        "\n",
        "I am on file 541 with filename LC_40703-01-44-03_combined.dat \n",
        "dt_min: 0.00781249999989"
       ]
      },
      {
       "output_type": "stream",
       "stream": "stdout",
       "text": [
        "\n",
        "len(da[0]): 282623\n",
        "Feature shape: (31, 910)"
       ]
      },
      {
       "output_type": "stream",
       "stream": "stdout",
       "text": [
        "\n",
        "I am on file 542 with filename LC_80701-01-27-00_combined.dat \n",
        "dt_min: 0.00781249999989"
       ]
      },
      {
       "output_type": "stream",
       "stream": "stdout",
       "text": [
        "\n",
        "len(da[0]): 187903\n",
        "Feature shape: (19, 910)"
       ]
      },
      {
       "output_type": "stream",
       "stream": "stdout",
       "text": [
        "\n",
        "I am on file 543 with filename LC_30402-01-06-00_combined.dat \n",
        "dt_min: 0.00781249999955"
       ]
      },
      {
       "output_type": "stream",
       "stream": "stdout",
       "text": [
        "\n",
        "len(da[0]): 38910\n",
        "len(da[0]): 343293\n",
        "len(da[0]): 32511\n",
        "Feature shape: (39, 910)"
       ]
      },
      {
       "output_type": "stream",
       "stream": "stdout",
       "text": [
        "\n",
        "I am on file 544 with filename LC_40703-01-02-00_combined.dat \n",
        "dt_min: 0.00781249999989"
       ]
      },
      {
       "output_type": "stream",
       "stream": "stdout",
       "text": [
        "\n",
        "len(da[0]): 268926\n",
        "len(da[0]): 24957\n",
        "len(da[0]): 421886\n",
        "len(da[0]): 421887\n",
        "Feature shape: (125, 910)"
       ]
      },
      {
       "output_type": "stream",
       "stream": "stdout",
       "text": [
        "\n",
        "I am on file 545 with filename LC_60702-01-01-13_combined.dat \n",
        "dt_min: 0.00781249999909"
       ]
      },
      {
       "output_type": "stream",
       "stream": "stdout",
       "text": [
        "\n",
        "len(da[0]): 411646\n",
        "len(da[0]): 309247\n",
        "Feature shape: (81, 910)"
       ]
      },
      {
       "output_type": "stream",
       "stream": "stdout",
       "text": [
        "\n",
        "I am on file 546 with filename LC_10408-01-45-00_combined.dat \n",
        "I am on file 547 with filename LC_30703-01-05-00_combined.dat \n",
        "dt_min: 0.00781249999989"
       ]
      },
      {
       "output_type": "stream",
       "stream": "stdout",
       "text": [
        "\n",
        "len(da[0]): 143358\n",
        "len(da[0]): 434175\n",
        "Feature shape: (63, 910)"
       ]
      },
      {
       "output_type": "stream",
       "stream": "stdout",
       "text": [
        "\n",
        "I am on file 548 with filename LC_70702-01-51-00_combined.dat \n",
        "dt_min: 0.00781249999989"
       ]
      },
      {
       "output_type": "stream",
       "stream": "stdout",
       "text": [
        "\n",
        "len(da[0]): 370687\n",
        "Feature shape: (42, 910)"
       ]
      },
      {
       "output_type": "stream",
       "stream": "stdout",
       "text": [
        "\n",
        "I am on file 549 with filename LC_91701-01-38-00_combined.dat \n",
        "dt_min: 0.00781249999989"
       ]
      },
      {
       "output_type": "stream",
       "stream": "stdout",
       "text": [
        "\n",
        "len(da[0]): 218239\n",
        "Feature shape: (23, 910)"
       ]
      },
      {
       "output_type": "stream",
       "stream": "stdout",
       "text": [
        "\n",
        "I am on file 550 with filename LC_40403-01-08-00_combined.dat \n",
        "dt_min: 0.00781249999818"
       ]
      },
      {
       "output_type": "stream",
       "stream": "stdout",
       "text": [
        "\n",
        "len(da[0]): 215166\n",
        "len(da[0]): 193405\n",
        "len(da[0]): 419838\n",
        "len(da[0]): 421887\n",
        "Feature shape: (139, 910)"
       ]
      },
      {
       "output_type": "stream",
       "stream": "stdout",
       "text": [
        "\n",
        "I am on file 551 with filename LC_92702-01-30-00_combined.dat \n",
        "dt_min: 0.00781249999989"
       ]
      },
      {
       "output_type": "stream",
       "stream": "stdout",
       "text": [
        "\n",
        "len(da[0]): 399358\n",
        "len(da[0]): 395263\n",
        "Feature shape: (90, 910)"
       ]
      },
      {
       "output_type": "stream",
       "stream": "stdout",
       "text": [
        "\n",
        "I am on file 552 with filename LC_30703-01-30-01_combined.dat \n",
        "dt_min: 0.00781249999989"
       ]
      },
      {
       "output_type": "stream",
       "stream": "stdout",
       "text": [
        "\n",
        "len(da[0]): 192511\n",
        "Feature shape: (20, 910)"
       ]
      },
      {
       "output_type": "stream",
       "stream": "stdout",
       "text": [
        "\n",
        "I am on file 553 with filename LC_40703-01-34-02_combined.dat \n",
        "dt_min: 0.00781249999999"
       ]
      },
      {
       "output_type": "stream",
       "stream": "stdout",
       "text": [
        "\n",
        "len(da[0]): 43006\n",
        "len(da[0]): 110591\n",
        "Feature shape: (12, 910)"
       ]
      },
      {
       "output_type": "stream",
       "stream": "stdout",
       "text": [
        "\n",
        "I am on file 554 with filename LC_96701-01-24-00_combined.dat \n",
        "dt_min: 0.00781249999989"
       ]
      },
      {
       "output_type": "stream",
       "stream": "stdout",
       "text": [
        "\n",
        "len(da[0]): 258047\n",
        "Feature shape: (28, 910)"
       ]
      },
      {
       "output_type": "stream",
       "stream": "stdout",
       "text": [
        "\n",
        "I am on file 555 with filename LC_92082-03-01-00_combined.dat \n",
        "dt_min: 0.00781249999989"
       ]
      },
      {
       "output_type": "stream",
       "stream": "stdout",
       "text": [
        "\n",
        "len(da[0]): 409598\n",
        "len(da[0]): 413695\n",
        "Feature shape: (93, 910)"
       ]
      },
      {
       "output_type": "stream",
       "stream": "stdout",
       "text": [
        "\n",
        "I am on file 556 with filename LC_50703-01-46-02_combined.dat \n",
        "dt_min: 0.00781249999994"
       ]
      },
      {
       "output_type": "stream",
       "stream": "stdout",
       "text": [
        "\n",
        "len(da[0]): 110591\n",
        "Feature shape: (10, 910)\n",
        "I am on file 557 with filename LC_50703-01-06-02_combined.dat \n",
        "dt_min: 0.00781249999989"
       ]
      },
      {
       "output_type": "stream",
       "stream": "stdout",
       "text": [
        "\n",
        "len(da[0]): 212991\n",
        "Feature shape: (22, 910)"
       ]
      },
      {
       "output_type": "stream",
       "stream": "stdout",
       "text": [
        "\n",
        "I am on file 558 with filename LC_50703-01-04-00_combined.dat \n",
        "dt_min: 0.00781249999989"
       ]
      },
      {
       "output_type": "stream",
       "stream": "stdout",
       "text": [
        "\n",
        "len(da[0]): 198655\n",
        "Feature shape: (21, 910)"
       ]
      },
      {
       "output_type": "stream",
       "stream": "stdout",
       "text": [
        "\n",
        "I am on file 559 with filename LC_95701-01-27-00_combined.dat \n",
        "dt_min: 0.00781249999977"
       ]
      },
      {
       "output_type": "stream",
       "stream": "stdout",
       "text": [
        "\n",
        "len(da[0]): 407551\n",
        "Feature shape: (46, 910)"
       ]
      },
      {
       "output_type": "stream",
       "stream": "stdout",
       "text": [
        "\n",
        "I am on file 560 with filename LC_90105-10-03-00_combined.dat \n",
        "dt_min: 0.00390624999989"
       ]
      },
      {
       "output_type": "stream",
       "stream": "stdout",
       "text": [
        "\n",
        "len(da[0]): 593918\n",
        "len(da[0]): 143358\n",
        "len(da[0]): 745471\n",
        "Feature shape: (80, 910)"
       ]
      },
      {
       "output_type": "stream",
       "stream": "stdout",
       "text": [
        "\n",
        "I am on file 561 with filename LC_91701-01-35-00_combined.dat \n",
        "dt_min: 0.00781249999909"
       ]
      },
      {
       "output_type": "stream",
       "stream": "stdout",
       "text": [
        "\n",
        "len(da[0]): 409598\n",
        "len(da[0]): 411647\n",
        "Feature shape: (93, 910)"
       ]
      },
      {
       "output_type": "stream",
       "stream": "stdout",
       "text": [
        "\n",
        "I am on file 562 with filename LC_50703-01-37-01_combined.dat \n",
        "dt_min: 0.00781249999989"
       ]
      },
      {
       "output_type": "stream",
       "stream": "stdout",
       "text": [
        "\n",
        "len(da[0]): 395263\n",
        "Feature shape: (45, 910)"
       ]
      },
      {
       "output_type": "stream",
       "stream": "stdout",
       "text": [
        "\n",
        "I am on file 563 with filename LC_80701-01-46-01_combined.dat \n",
        "dt_min: 0.00781249999989"
       ]
      },
      {
       "output_type": "stream",
       "stream": "stdout",
       "text": [
        "\n",
        "len(da[0]): 200703\n",
        "Feature shape: (21, 910)"
       ]
      },
      {
       "output_type": "stream",
       "stream": "stdout",
       "text": [
        "\n",
        "I am on file 564 with filename LC_96701-01-50-01_combined.dat \n",
        "dt_min: 0.00781249999977"
       ]
      },
      {
       "output_type": "stream",
       "stream": "stdout",
       "text": [
        "\n",
        "len(da[0]): 143359\n",
        "Feature shape: (14, 910)"
       ]
      },
      {
       "output_type": "stream",
       "stream": "stdout",
       "text": [
        "\n",
        "I am on file 565 with filename LC_40116-01-03-00_combined.dat \n",
        "dt_min: 0.00781249999955"
       ]
      },
      {
       "output_type": "stream",
       "stream": "stdout",
       "text": [
        "\n",
        "len(da[0]): 202750\n",
        "len(da[0]): 96254\n",
        "len(da[0]): 212990\n",
        "len(da[0]): 421886\n",
        "len(da[0]): 151166\n",
        "len(da[0]): 191870\n",
        "Feature shape: (134, 910)"
       ]
      },
      {
       "output_type": "stream",
       "stream": "stdout",
       "text": [
        "\n",
        "I am on file 566 with filename LC_94701-01-52-00_combined.dat \n",
        "dt_min: 0.00781249999977"
       ]
      },
      {
       "output_type": "stream",
       "stream": "stdout",
       "text": [
        "\n",
        "len(da[0]): 311294\n",
        "len(da[0]): 51199\n",
        "Feature shape: (37, 910)"
       ]
      },
      {
       "output_type": "stream",
       "stream": "stdout",
       "text": [
        "\n",
        "I am on file 567 with filename LC_50703-01-32-00_combined.dat \n",
        "dt_min: 0.00781249999989"
       ]
      },
      {
       "output_type": "stream",
       "stream": "stdout",
       "text": [
        "\n",
        "len(da[0]): 145023\n",
        "Feature shape: (14, 910)"
       ]
      },
      {
       "output_type": "stream",
       "stream": "stdout",
       "text": [
        "\n",
        "I am on file 568 with filename LC_95701-01-28-00_combined.dat \n",
        "dt_min: 0.00781249999977"
       ]
      },
      {
       "output_type": "stream",
       "stream": "stdout",
       "text": [
        "\n",
        "len(da[0]): 239615\n",
        "Feature shape: (26, 910)"
       ]
      },
      {
       "output_type": "stream",
       "stream": "stdout",
       "text": [
        "\n",
        "I am on file 569 with filename LC_60405-01-04-08_combined.dat \n",
        "dt_min: 0.00781249999994"
       ]
      },
      {
       "output_type": "stream",
       "stream": "stdout",
       "text": [
        "\n",
        "len(da[0]): 96127\n",
        "Feature shape: (8, 910)\n",
        "I am on file 570 with filename LC_91701-01-19-00_combined.dat \n",
        "dt_min: 0.00781249999989"
       ]
      },
      {
       "output_type": "stream",
       "stream": "stdout",
       "text": [
        "\n",
        "len(da[0]): 409599\n",
        "Feature shape: (46, 910)"
       ]
      },
      {
       "output_type": "stream",
       "stream": "stdout",
       "text": [
        "\n",
        "I am on file 571 with filename LC_70702-01-21-01_combined.dat \n",
        "dt_min: 0.00781249999989"
       ]
      },
      {
       "output_type": "stream",
       "stream": "stdout",
       "text": [
        "\n",
        "len(da[0]): 292863\n",
        "Feature shape: (32, 910)"
       ]
      },
      {
       "output_type": "stream",
       "stream": "stdout",
       "text": [
        "\n",
        "I am on file 572 with filename LC_60701-01-06-00_combined.dat \n",
        "dt_min: 0.00781249999989"
       ]
      },
      {
       "output_type": "stream",
       "stream": "stdout",
       "text": [
        "\n",
        "len(da[0]): 232575\n",
        "Feature shape: (25, 910)"
       ]
      },
      {
       "output_type": "stream",
       "stream": "stdout",
       "text": [
        "\n",
        "I am on file 573 with filename LC_70702-01-47-01_combined.dat \n",
        "dt_min: 0.00781249999994"
       ]
      },
      {
       "output_type": "stream",
       "stream": "stdout",
       "text": [
        "\n",
        "len(da[0]): 71679\n",
        "Feature shape: (5, 910)\n",
        "I am on file 574 with filename LC_40703-01-16-01_combined.dat \n",
        "dt_min: 0.00781249999989"
       ]
      },
      {
       "output_type": "stream",
       "stream": "stdout",
       "text": [
        "\n",
        "len(da[0]): 32382\n",
        "len(da[0]): 210302\n",
        "Feature shape: (22, 910)"
       ]
      },
      {
       "output_type": "stream",
       "stream": "stdout",
       "text": [
        "\n",
        "I am on file 575 with filename LC_50703-01-25-01_combined.dat \n",
        "dt_min: 0.00781249999994"
       ]
      },
      {
       "output_type": "stream",
       "stream": "stdout",
       "text": [
        "\n",
        "len(da[0]): 98302\n",
        "len(da[0]): 75775\n",
        "Feature shape: (14, 910)"
       ]
      },
      {
       "output_type": "stream",
       "stream": "stdout",
       "text": [
        "\n",
        "I am on file 576 with filename LC_92702-01-25-01_combined.dat \n",
        "dt_min: 0.00781249999989"
       ]
      },
      {
       "output_type": "stream",
       "stream": "stdout",
       "text": [
        "\n",
        "len(da[0]): 409599\n",
        "Feature shape: (46, 910)"
       ]
      },
      {
       "output_type": "stream",
       "stream": "stdout",
       "text": [
        "\n",
        "I am on file 577 with filename LC_70702-01-11-00_combined.dat \n",
        "dt_min: 0.00781249999994"
       ]
      },
      {
       "output_type": "stream",
       "stream": "stdout",
       "text": [
        "\n",
        "len(da[0]): 122879\n",
        "Feature shape: (11, 910)"
       ]
      },
      {
       "output_type": "stream",
       "stream": "stdout",
       "text": [
        "\n",
        "I am on file 578 with filename LC_60701-01-23-01_combined.dat \n",
        "dt_min: 0.00781249999989"
       ]
      },
      {
       "output_type": "stream",
       "stream": "stdout",
       "text": [
        "\n",
        "len(da[0]): 342015\n",
        "Feature shape: (38, 910)"
       ]
      },
      {
       "output_type": "stream",
       "stream": "stdout",
       "text": [
        "\n",
        "I am on file 579 with filename LC_96701-01-09-01_combined.dat \n",
        "dt_min: 0.00781249999999"
       ]
      },
      {
       "output_type": "stream",
       "stream": "stdout",
       "text": [
        "\n",
        "len(da[0]): 117887\n",
        "Feature shape: (11, 910)"
       ]
      },
      {
       "output_type": "stream",
       "stream": "stdout",
       "text": [
        "\n",
        "I am on file 580 with filename LC_95701-01-13-00_combined.dat \n",
        "dt_min: 0.00781249999989"
       ]
      },
      {
       "output_type": "stream",
       "stream": "stdout",
       "text": [
        "\n",
        "len(da[0]): 239615\n",
        "Feature shape: (26, 910)"
       ]
      },
      {
       "output_type": "stream",
       "stream": "stdout",
       "text": [
        "\n",
        "I am on file 581 with filename LC_60702-01-01-03_combined.dat \n",
        "dt_min: 0.00781249999989"
       ]
      },
      {
       "output_type": "stream",
       "stream": "stdout",
       "text": [
        "\n",
        "len(da[0]): 423935\n",
        "Feature shape: (48, 910)"
       ]
      },
      {
       "output_type": "stream",
       "stream": "stdout",
       "text": [
        "\n",
        "I am on file 582 with filename LC_30703-01-12-00_combined.dat \n",
        "dt_min: 0.00781249999989"
       ]
      },
      {
       "output_type": "stream",
       "stream": "stdout",
       "text": [
        "\n",
        "len(da[0]): 186109\n",
        "len(da[0]): 247038\n",
        "len(da[0]): 141311\n",
        "Feature shape: (60, 910)"
       ]
      },
      {
       "output_type": "stream",
       "stream": "stdout",
       "text": [
        "\n",
        "I am on file 583 with filename LC_92702-01-09-00_combined.dat \n",
        "dt_min: 0.00781249999989"
       ]
      },
      {
       "output_type": "stream",
       "stream": "stdout",
       "text": [
        "\n",
        "len(da[0]): 231422\n",
        "len(da[0]): 401407\n",
        "Feature shape: (70, 910)"
       ]
      },
      {
       "output_type": "stream",
       "stream": "stdout",
       "text": [
        "\n",
        "I am on file 584 with filename LC_50703-01-42-00_combined.dat \n",
        "dt_min: 0.00781249999989"
       ]
      },
      {
       "output_type": "stream",
       "stream": "stdout",
       "text": [
        "\n",
        "len(da[0]): 219135\n",
        "Feature shape: (23, 910)"
       ]
      },
      {
       "output_type": "stream",
       "stream": "stdout",
       "text": [
        "\n",
        "I am on file 585 with filename LC_96701-01-07-01_combined.dat \n",
        "dt_min: 0.00781249999989"
       ]
      },
      {
       "output_type": "stream",
       "stream": "stdout",
       "text": [
        "\n",
        "len(da[0]): 142847\n",
        "Feature shape: (14, 910)"
       ]
      },
      {
       "output_type": "stream",
       "stream": "stdout",
       "text": [
        "\n",
        "I am on file 586 with filename LC_93701-01-31-00_combined.dat \n",
        "dt_min: 0.00781249999989"
       ]
      },
      {
       "output_type": "stream",
       "stream": "stdout",
       "text": [
        "\n",
        "len(da[0]): 145407\n",
        "Feature shape: (14, 910)"
       ]
      },
      {
       "output_type": "stream",
       "stream": "stdout",
       "text": [
        "\n",
        "I am on file 587 with filename LC_30402-01-03-00_combined.dat \n",
        "dt_min: 0.00781249999989"
       ]
      },
      {
       "output_type": "stream",
       "stream": "stdout",
       "text": [
        "\n",
        "len(da[0]): 152061\n",
        "len(da[0]): 88574\n",
        "len(da[0]): 8190\n",
        "len(da[0]): 306687\n",
        "Feature shape: (56, 910)"
       ]
      },
      {
       "output_type": "stream",
       "stream": "stdout",
       "text": [
        "\n",
        "I am on file 588 with filename LC_20402-01-59-00_combined.dat \n",
        "dt_min: 0.00781249999818"
       ]
      },
      {
       "output_type": "stream",
       "stream": "stdout",
       "text": [
        "\n",
        "len(da[0]): 413694\n",
        "len(da[0]): 171901\n",
        "len(da[0]): 233598\n",
        "len(da[0]): 350207\n",
        "Feature shape: (128, 910)"
       ]
      },
      {
       "output_type": "stream",
       "stream": "stdout",
       "text": [
        "\n",
        "I am on file 589 with filename LC_90105-01-02-00_combined.dat \n",
        "dt_min: 0.00390624999989"
       ]
      },
      {
       "output_type": "stream",
       "stream": "stdout",
       "text": [
        "\n",
        "len(da[0]): 416766\n",
        "len(da[0]): 128510\n",
        "Feature shape: (26, 910)"
       ]
      },
      {
       "output_type": "stream",
       "stream": "stdout",
       "text": [
        "\n",
        "I am on file 590 with filename LC_60702-01-01-20_combined.dat \n",
        "dt_min: 0.00781249999994"
       ]
      },
      {
       "output_type": "stream",
       "stream": "stdout",
       "text": [
        "\n",
        "len(da[0]): 108415\n",
        "Feature shape: (10, 910)\n",
        "I am on file 591 with filename LC_40703-01-36-02_combined.dat \n",
        "dt_min: 0.00781249999955"
       ]
      },
      {
       "output_type": "stream",
       "stream": "stdout",
       "text": [
        "\n",
        "len(da[0]): 166782\n",
        "len(da[0]): 18046\n",
        "len(da[0]): 71037\n",
        "len(da[0]): 172031\n",
        "Feature shape: (39, 910)"
       ]
      },
      {
       "output_type": "stream",
       "stream": "stdout",
       "text": [
        "\n",
        "I am on file 592 with filename LC_40403-01-03-00_combined.dat \n",
        "dt_min: 0.00781249999989"
       ]
      },
      {
       "output_type": "stream",
       "stream": "stdout",
       "text": [
        "\n",
        "len(da[0]): 423935\n",
        "Feature shape: (48, 910)"
       ]
      },
      {
       "output_type": "stream",
       "stream": "stdout",
       "text": [
        "\n",
        "I am on file 593 with filename LC_60701-01-21-01_combined.dat \n",
        "dt_min: 0.00781249999989"
       ]
      },
      {
       "output_type": "stream",
       "stream": "stdout",
       "text": [
        "\n",
        "len(da[0]): 272383\n",
        "Feature shape: (30, 910)"
       ]
      },
      {
       "output_type": "stream",
       "stream": "stdout",
       "text": [
        "\n",
        "I am on file 594 with filename LC_90701-01-16-01_combined.dat \n",
        "dt_min: 0.00781249999989"
       ]
      },
      {
       "output_type": "stream",
       "stream": "stdout",
       "text": [
        "\n",
        "len(da[0]): 178175\n",
        "Feature shape: (18, 910)"
       ]
      },
      {
       "output_type": "stream",
       "stream": "stdout",
       "text": [
        "\n",
        "I am on file 595 with filename LC_80701-01-23-02_combined.dat \n",
        "dt_min: 0.00781249999989"
       ]
      },
      {
       "output_type": "stream",
       "stream": "stdout",
       "text": [
        "\n",
        "len(da[0]): 278527\n",
        "Feature shape: (30, 910)"
       ]
      },
      {
       "output_type": "stream",
       "stream": "stdout",
       "text": [
        "\n",
        "I am on file 596 with filename LC_40115-01-09-00_combined.dat \n",
        "dt_min: 0.00781249999989"
       ]
      },
      {
       "output_type": "stream",
       "stream": "stdout",
       "text": [
        "\n",
        "len(da[0]): 255230\n",
        "len(da[0]): 57342\n",
        "len(da[0]): 262143\n",
        "Feature shape: (59, 910)"
       ]
      },
      {
       "output_type": "stream",
       "stream": "stdout",
       "text": [
        "\n",
        "I am on file 597 with filename LC_96701-01-02-01_combined.dat \n",
        "dt_min: 0.00781249999989"
       ]
      },
      {
       "output_type": "stream",
       "stream": "stdout",
       "text": [
        "\n",
        "len(da[0]): 208895\n",
        "Feature shape: (22, 910)"
       ]
      },
      {
       "output_type": "stream",
       "stream": "stdout",
       "text": [
        "\n",
        "I am on file 598 with filename LC_40702-01-04-00_combined.dat \n",
        "dt_min: 0.00781249999989"
       ]
      },
      {
       "output_type": "stream",
       "stream": "stdout",
       "text": [
        "\n",
        "len(da[0]): 241407\n",
        "Feature shape: (26, 910)"
       ]
      },
      {
       "output_type": "stream",
       "stream": "stdout",
       "text": [
        "\n",
        "I am on file 599 with filename LC_70702-01-12-01_combined.dat \n",
        "dt_min: 0.00781249999989"
       ]
      },
      {
       "output_type": "stream",
       "stream": "stdout",
       "text": [
        "\n",
        "len(da[0]): 174079\n",
        "Feature shape: (18, 910)"
       ]
      },
      {
       "output_type": "stream",
       "stream": "stdout",
       "text": [
        "\n",
        "I am on file 600 with filename LC_60405-01-01-01_combined.dat \n",
        "dt_min: 0.00781249999989"
       ]
      },
      {
       "output_type": "stream",
       "stream": "stdout",
       "text": [
        "\n",
        "len(da[0]): 299007\n",
        "Feature shape: (33, 910)"
       ]
      },
      {
       "output_type": "stream",
       "stream": "stdout",
       "text": [
        "\n",
        "I am on file 601 with filename LC_70702-01-19-00_combined.dat \n",
        "dt_min: 0.00781249999989"
       ]
      },
      {
       "output_type": "stream",
       "stream": "stdout",
       "text": [
        "\n",
        "len(da[0]): 210943\n",
        "Feature shape: (22, 910)"
       ]
      },
      {
       "output_type": "stream",
       "stream": "stdout",
       "text": [
        "\n",
        "I am on file 602 with filename LC_70702-01-21-00_combined.dat \n",
        "dt_min: 0.00781249999989"
       ]
      },
      {
       "output_type": "stream",
       "stream": "stdout",
       "text": [
        "\n",
        "len(da[0]): 292863\n",
        "Feature shape: (32, 910)"
       ]
      },
      {
       "output_type": "stream",
       "stream": "stdout",
       "text": [
        "\n",
        "I am on file 603 with filename LC_91701-01-05-02_combined.dat \n",
        "dt_min: 0.00781249999989"
       ]
      },
      {
       "output_type": "stream",
       "stream": "stdout",
       "text": [
        "\n",
        "len(da[0]): 284159\n",
        "Feature shape: (31, 910)"
       ]
      },
      {
       "output_type": "stream",
       "stream": "stdout",
       "text": [
        "\n",
        "I am on file 604 with filename LC_80701-01-02-02_combined.dat \n",
        "dt_min: 0.00781249999989"
       ]
      },
      {
       "output_type": "stream",
       "stream": "stdout",
       "text": [
        "\n",
        "len(da[0]): 206847\n",
        "Feature shape: (22, 910)"
       ]
      },
      {
       "output_type": "stream",
       "stream": "stdout",
       "text": [
        "\n",
        "I am on file 605 with filename LC_91701-01-58-00_combined.dat \n",
        "dt_min: 0.00781249999989"
       ]
      },
      {
       "output_type": "stream",
       "stream": "stdout",
       "text": [
        "\n",
        "len(da[0]): 8061\n",
        "len(da[0]): 81023\n",
        "Feature shape: (6, 910)\n",
        "I am on file 606 with filename LC_10408-01-14-09_combined.dat \n",
        "I am on file 607 with filename LC_91701-01-09-01_combined.dat \n",
        "dt_min: 0.00781249999989"
       ]
      },
      {
       "output_type": "stream",
       "stream": "stdout",
       "text": [
        "\n",
        "len(da[0]): 143359\n",
        "Feature shape: (14, 910)"
       ]
      },
      {
       "output_type": "stream",
       "stream": "stdout",
       "text": [
        "\n",
        "I am on file 608 with filename LC_80701-01-55-02_combined.dat \n",
        "dt_min: 0.00781249999989"
       ]
      },
      {
       "output_type": "stream",
       "stream": "stdout",
       "text": [
        "\n",
        "len(da[0]): 282622\n",
        "len(da[0]): 378879\n",
        "Feature shape: (74, 910)"
       ]
      },
      {
       "output_type": "stream",
       "stream": "stdout",
       "text": [
        "\n",
        "I am on file 609 with filename LC_80701-01-11-00_combined.dat \n",
        "dt_min: 0.00781249999989"
       ]
      },
      {
       "output_type": "stream",
       "stream": "stdout",
       "text": [
        "\n",
        "len(da[0]): 202751\n",
        "Feature shape: (21, 910)"
       ]
      },
      {
       "output_type": "stream",
       "stream": "stdout",
       "text": [
        "\n",
        "I am on file 610 with filename LC_96701-01-15-01_combined.dat \n",
        "dt_min: 0.00781249999977"
       ]
      },
      {
       "output_type": "stream",
       "stream": "stdout",
       "text": [
        "\n",
        "len(da[0]): 165759\n",
        "Feature shape: (17, 910)"
       ]
      },
      {
       "output_type": "stream",
       "stream": "stdout",
       "text": [
        "\n",
        "I am on file 611 with filename LC_95701-01-48-00_combined.dat \n",
        "dt_min: 0.00781249999989"
       ]
      },
      {
       "output_type": "stream",
       "stream": "stdout",
       "text": [
        "\n",
        "len(da[0]): 233471\n",
        "Feature shape: (25, 910)"
       ]
      },
      {
       "output_type": "stream",
       "stream": "stdout",
       "text": [
        "\n",
        "I am on file 612 with filename LC_70702-01-05-03_combined.dat \n",
        "dt_min: 0.00781249999989"
       ]
      },
      {
       "output_type": "stream",
       "stream": "stdout",
       "text": [
        "\n",
        "len(da[0]): 145407\n",
        "Feature shape: (14, 910)"
       ]
      },
      {
       "output_type": "stream",
       "stream": "stdout",
       "text": [
        "\n",
        "I am on file 613 with filename LC_91701-01-32-01_combined.dat \n",
        "dt_min: 0.00781249999989"
       ]
      },
      {
       "output_type": "stream",
       "stream": "stdout",
       "text": [
        "\n",
        "len(da[0]): 247679\n",
        "Feature shape: (27, 910)"
       ]
      },
      {
       "output_type": "stream",
       "stream": "stdout",
       "text": [
        "\n",
        "I am on file 614 with filename LC_70702-01-04-03_combined.dat \n",
        "dt_min: 0.00781249999994"
       ]
      },
      {
       "output_type": "stream",
       "stream": "stdout",
       "text": [
        "\n",
        "len(da[0]): 126975\n",
        "Feature shape: (12, 910)"
       ]
      },
      {
       "output_type": "stream",
       "stream": "stdout",
       "text": [
        "\n",
        "I am on file 615 with filename LC_91701-01-01-01_combined.dat \n",
        "dt_min: 0.00781249999999"
       ]
      },
      {
       "output_type": "stream",
       "stream": "stdout",
       "text": [
        "\n",
        "len(da[0]): 129023\n",
        "Feature shape: (12, 910)"
       ]
      },
      {
       "output_type": "stream",
       "stream": "stdout",
       "text": [
        "\n",
        "I am on file 616 with filename LC_90024-02-29-00_combined.dat \n",
        "dt_min: 0.00390624999999"
       ]
      },
      {
       "output_type": "stream",
       "stream": "stdout",
       "text": [
        "\n",
        "len(da[0]): 86015\n",
        "Feature shape: (2, 910)\n",
        "I am on file 617 with filename LC_60701-01-21-00_combined.dat \n",
        "dt_min: 0.00781249999989"
       ]
      },
      {
       "output_type": "stream",
       "stream": "stdout",
       "text": [
        "\n",
        "len(da[0]): 334591\n",
        "Feature shape: (37, 910)"
       ]
      },
      {
       "output_type": "stream",
       "stream": "stdout",
       "text": [
        "\n",
        "I am on file 618 with filename LC_40703-01-42-03_combined.dat \n",
        "dt_min: 0.00781249999994"
       ]
      },
      {
       "output_type": "stream",
       "stream": "stdout",
       "text": [
        "\n",
        "len(da[0]): 92158\n",
        "len(da[0]): 57343\n",
        "Feature shape: (11, 910)"
       ]
      },
      {
       "output_type": "stream",
       "stream": "stdout",
       "text": [
        "\n",
        "I am on file 619 with filename LC_70702-01-26-00_combined.dat \n",
        "dt_min: 0.00781249999989"
       ]
      },
      {
       "output_type": "stream",
       "stream": "stdout",
       "text": [
        "\n",
        "len(da[0]): 162815\n",
        "Feature shape: (16, 910)"
       ]
      },
      {
       "output_type": "stream",
       "stream": "stdout",
       "text": [
        "\n",
        "I am on file 620 with filename LC_70702-01-03-00_combined.dat \n",
        "dt_min: 0.00781249999989"
       ]
      },
      {
       "output_type": "stream",
       "stream": "stdout",
       "text": [
        "\n",
        "len(da[0]): 145407\n",
        "Feature shape: (14, 910)"
       ]
      },
      {
       "output_type": "stream",
       "stream": "stdout",
       "text": [
        "\n",
        "I am on file 621 with filename LC_93701-01-34-01_combined.dat \n",
        "dt_min: 0.00781249999989"
       ]
      },
      {
       "output_type": "stream",
       "stream": "stdout",
       "text": [
        "\n",
        "len(da[0]): 233343\n",
        "Feature shape: (25, 910)"
       ]
      },
      {
       "output_type": "stream",
       "stream": "stdout",
       "text": [
        "\n",
        "I am on file 622 with filename LC_92702-01-23-02_combined.dat \n",
        "dt_min: 0.00781249999989"
       ]
      },
      {
       "output_type": "stream",
       "stream": "stdout",
       "text": [
        "\n",
        "len(da[0]): 75775\n",
        "Feature shape: (6, 910)\n",
        "I am on file 623 with filename LC_40703-01-23-02_combined.dat \n",
        "dt_min: 0.00781249999989"
       ]
      },
      {
       "output_type": "stream",
       "stream": "stdout",
       "text": [
        "\n",
        "len(da[0]): 101502\n",
        "len(da[0]): 319358\n",
        "Feature shape: (44, 910)"
       ]
      },
      {
       "output_type": "stream",
       "stream": "stdout",
       "text": [
        "\n",
        "I am on file 624 with filename LC_90701-01-20-00_combined.dat \n",
        "dt_min: 0.00781249999989"
       ]
      },
      {
       "output_type": "stream",
       "stream": "stdout",
       "text": [
        "\n",
        "len(da[0]): 149503\n",
        "Feature shape: (15, 910)"
       ]
      },
      {
       "output_type": "stream",
       "stream": "stdout",
       "text": [
        "\n",
        "I am on file 625 with filename LC_50703-01-16-02_combined.dat \n",
        "dt_min: 0.00781249999999"
       ]
      },
      {
       "output_type": "stream",
       "stream": "stdout",
       "text": [
        "\n",
        "len(da[0]): 108543\n",
        "Feature shape: (10, 910)"
       ]
      },
      {
       "output_type": "stream",
       "stream": "stdout",
       "text": [
        "\n",
        "I am on file 626 with filename LC_93701-01-39-00_combined.dat \n",
        "dt_min: 0.00781249999989"
       ]
      },
      {
       "output_type": "stream",
       "stream": "stdout",
       "text": [
        "\n",
        "len(da[0]): 81919\n",
        "Feature shape: (6, 910)\n",
        "I am on file 627 with filename LC_30703-01-34-00_combined.dat \n",
        "dt_min: 0.00781249999955"
       ]
      },
      {
       "output_type": "stream",
       "stream": "stdout",
       "text": [
        "\n",
        "len(da[0]): 139645\n",
        "len(da[0]): 49790\n",
        "len(da[0]): 69631\n",
        "Feature shape: (22, 910)"
       ]
      },
      {
       "output_type": "stream",
       "stream": "stdout",
       "text": [
        "\n",
        "I am on file 628 with filename LC_90105-09-06-00_combined.dat \n",
        "dt_min: 0.00390624999989"
       ]
      },
      {
       "output_type": "stream",
       "stream": "stdout",
       "text": [
        "\n",
        "len(da[0]): 382976\n",
        "Feature shape: (20, 910)"
       ]
      },
      {
       "output_type": "stream",
       "stream": "stdout",
       "text": [
        "\n",
        "I am on file 629 with filename LC_80127-04-01-03_combined.dat \n",
        "dt_min: 0.00390624999989"
       ]
      },
      {
       "output_type": "stream",
       "stream": "stdout",
       "text": [
        "\n",
        "len(da[0]): 688127\n",
        "Feature shape: (38, 910)"
       ]
      },
      {
       "output_type": "stream",
       "stream": "stdout",
       "text": [
        "\n",
        "I am on file 630 with filename LC_96701-01-08-01_combined.dat \n",
        "dt_min: 0.00781249999977"
       ]
      },
      {
       "output_type": "stream",
       "stream": "stdout",
       "text": [
        "\n",
        "len(da[0]): 182271\n",
        "Feature shape: (19, 910)"
       ]
      },
      {
       "output_type": "stream",
       "stream": "stdout",
       "text": [
        "\n",
        "I am on file 631 with filename LC_50703-01-38-02_combined.dat \n",
        "dt_min: 0.00781249999999"
       ]
      },
      {
       "output_type": "stream",
       "stream": "stdout",
       "text": [
        "\n",
        "len(da[0]): 116735\n",
        "Feature shape: (11, 910)"
       ]
      },
      {
       "output_type": "stream",
       "stream": "stdout",
       "text": [
        "\n",
        "I am on file 632 with filename LC_91701-01-48-00_combined.dat \n",
        "dt_min: 0.00781249999989"
       ]
      },
      {
       "output_type": "stream",
       "stream": "stdout",
       "text": [
        "\n",
        "len(da[0]): 403455\n",
        "Feature shape: (46, 910)"
       ]
      },
      {
       "output_type": "stream",
       "stream": "stdout",
       "text": [
        "\n",
        "I am on file 633 with filename LC_40116-01-02-05_combined.dat \n",
        "dt_min: 0.00781249999989"
       ]
      },
      {
       "output_type": "stream",
       "stream": "stdout",
       "text": [
        "\n",
        "len(da[0]): 226431\n",
        "Feature shape: (24, 910)"
       ]
      },
      {
       "output_type": "stream",
       "stream": "stdout",
       "text": [
        "\n",
        "I am on file 634 with filename LC_90701-01-30-01_combined.dat \n",
        "dt_min: 0.00781249999989"
       ]
      },
      {
       "output_type": "stream",
       "stream": "stdout",
       "text": [
        "\n",
        "len(da[0]): 187903\n",
        "Feature shape: (19, 910)"
       ]
      },
      {
       "output_type": "stream",
       "stream": "stdout",
       "text": [
        "\n",
        "I am on file 635 with filename LC_20402-01-43-02_combined.dat \n",
        "I am on file 636 with filename LC_93701-01-30-00_combined.dat \n",
        "dt_min: 0.00781249999989"
       ]
      },
      {
       "output_type": "stream",
       "stream": "stdout",
       "text": [
        "\n",
        "len(da[0]): 149503\n",
        "Feature shape: (15, 910)"
       ]
      },
      {
       "output_type": "stream",
       "stream": "stdout",
       "text": [
        "\n",
        "I am on file 637 with filename LC_60702-01-01-16_combined.dat \n",
        "dt_min: 0.00781249999989"
       ]
      },
      {
       "output_type": "stream",
       "stream": "stdout",
       "text": [
        "\n",
        "len(da[0]): 215039\n",
        "Feature shape: (23, 910)"
       ]
      },
      {
       "output_type": "stream",
       "stream": "stdout",
       "text": [
        "\n",
        "I am on file 638 with filename LC_40703-01-30-01_combined.dat \n",
        "dt_min: 0.00781249999989"
       ]
      },
      {
       "output_type": "stream",
       "stream": "stdout",
       "text": [
        "\n",
        "len(da[0]): 204799\n",
        "Feature shape: (21, 910)"
       ]
      },
      {
       "output_type": "stream",
       "stream": "stdout",
       "text": [
        "\n",
        "I am on file 639 with filename LC_80701-01-14-00_combined.dat \n",
        "dt_min: 0.00781249999989"
       ]
      },
      {
       "output_type": "stream",
       "stream": "stdout",
       "text": [
        "\n",
        "len(da[0]): 361855\n",
        "Feature shape: (41, 910)"
       ]
      },
      {
       "output_type": "stream",
       "stream": "stdout",
       "text": [
        "\n",
        "I am on file 640 with filename LC_90701-01-31-01_combined.dat \n",
        "dt_min: 0.00781249999989"
       ]
      },
      {
       "output_type": "stream",
       "stream": "stdout",
       "text": [
        "\n",
        "len(da[0]): 145407\n",
        "Feature shape: (14, 910)"
       ]
      },
      {
       "output_type": "stream",
       "stream": "stdout",
       "text": [
        "\n",
        "I am on file 641 with filename LC_92702-01-03-00_combined.dat \n",
        "dt_min: 0.00781249999989"
       ]
      },
      {
       "output_type": "stream",
       "stream": "stdout",
       "text": [
        "\n",
        "len(da[0]): 362111\n",
        "Feature shape: (41, 910)"
       ]
      },
      {
       "output_type": "stream",
       "stream": "stdout",
       "text": [
        "\n",
        "I am on file 642 with filename LC_40115-01-03-00_combined.dat \n",
        "dt_min: 0.00781249999955"
       ]
      },
      {
       "output_type": "stream",
       "stream": "stdout",
       "text": [
        "\n",
        "len(da[0]): 90110\n",
        "len(da[0]): 411646\n",
        "len(da[0]): 382\n",
        "len(da[0]): 158334\n",
        "Feature shape: (70, 910)"
       ]
      },
      {
       "output_type": "stream",
       "stream": "stdout",
       "text": [
        "\n",
        "I am on file 643 with filename LC_90105-07-01-00_combined.dat \n",
        "dt_min: 0.00390624999818"
       ]
      },
      {
       "output_type": "stream",
       "stream": "stdout",
       "text": [
        "\n",
        "len(da[0]): 827390\n",
        "len(da[0]): 827391\n",
        "Feature shape: (94, 910)"
       ]
      },
      {
       "output_type": "stream",
       "stream": "stdout",
       "text": [
        "\n",
        "I am on file 644 with filename LC_80701-01-43-01_combined.dat \n",
        "dt_min: 0.00781249999999"
       ]
      },
      {
       "output_type": "stream",
       "stream": "stdout",
       "text": [
        "\n",
        "len(da[0]): 106495\n",
        "Feature shape: (9, 910)"
       ]
      },
      {
       "output_type": "stream",
       "stream": "stdout",
       "text": [
        "\n",
        "I am on file 645 with filename LC_80701-01-13-01_combined.dat \n",
        "dt_min: 0.00781249999989"
       ]
      },
      {
       "output_type": "stream",
       "stream": "stdout",
       "text": [
        "\n",
        "len(da[0]): 167935\n",
        "Feature shape: (17, 910)"
       ]
      },
      {
       "output_type": "stream",
       "stream": "stdout",
       "text": [
        "\n",
        "I am on file 646 with filename LC_92702-01-26-00_combined.dat \n",
        "dt_min: 0.00781249999989"
       ]
      },
      {
       "output_type": "stream",
       "stream": "stdout",
       "text": [
        "\n",
        "len(da[0]): 196607\n",
        "Feature shape: (20, 910)"
       ]
      },
      {
       "output_type": "stream",
       "stream": "stdout",
       "text": [
        "\n",
        "I am on file 647 with filename LC_30703-01-40-00_combined.dat \n",
        "dt_min: 0.00781249999989"
       ]
      },
      {
       "output_type": "stream",
       "stream": "stdout",
       "text": [
        "\n",
        "len(da[0]): 85885\n",
        "len(da[0]): 111613\n",
        "len(da[0]): 68095\n",
        "Feature shape: (22, 910)"
       ]
      },
      {
       "output_type": "stream",
       "stream": "stdout",
       "text": [
        "\n",
        "I am on file 648 with filename LC_94701-01-55-02_combined.dat \n",
        "dt_min: 0.00781249999989"
       ]
      },
      {
       "output_type": "stream",
       "stream": "stdout",
       "text": [
        "\n",
        "len(da[0]): 114303\n",
        "Feature shape: (10, 910)\n",
        "I am on file 649 with filename LC_80701-01-48-00_combined.dat \n",
        "dt_min: 0.00781249999989"
       ]
      },
      {
       "output_type": "stream",
       "stream": "stdout",
       "text": [
        "\n",
        "len(da[0]): 169983\n",
        "Feature shape: (17, 910)"
       ]
      },
      {
       "output_type": "stream",
       "stream": "stdout",
       "text": [
        "\n",
        "I am on file 650 with filename LC_50703-01-24-01_combined.dat \n",
        "dt_min: 0.00781249999994"
       ]
      },
      {
       "output_type": "stream",
       "stream": "stdout",
       "text": [
        "\n",
        "len(da[0]): 107647\n",
        "Feature shape: (10, 910)\n",
        "I am on file 651 with filename LC_80701-01-36-00_combined.dat \n",
        "dt_min: 0.00781249999989"
       ]
      },
      {
       "output_type": "stream",
       "stream": "stdout",
       "text": [
        "\n",
        "len(da[0]): 145407\n",
        "Feature shape: (14, 910)"
       ]
      },
      {
       "output_type": "stream",
       "stream": "stdout",
       "text": [
        "\n",
        "I am on file 652 with filename LC_91701-01-38-01_combined.dat \n",
        "dt_min: 0.00781249999989"
       ]
      },
      {
       "output_type": "stream",
       "stream": "stdout",
       "text": [
        "\n",
        "len(da[0]): 186367\n",
        "Feature shape: (19, 910)"
       ]
      },
      {
       "output_type": "stream",
       "stream": "stdout",
       "text": [
        "\n",
        "I am on file 653 with filename LC_96701-01-45-01_combined.dat \n",
        "dt_min: 0.00781249999989"
       ]
      },
      {
       "output_type": "stream",
       "stream": "stdout",
       "text": [
        "\n",
        "len(da[0]): 212479\n",
        "Feature shape: (22, 910)"
       ]
      },
      {
       "output_type": "stream",
       "stream": "stdout",
       "text": [
        "\n",
        "I am on file 654 with filename LC_60405-01-04-07_combined.dat \n",
        "dt_min: 0.00781249999994"
       ]
      },
      {
       "output_type": "stream",
       "stream": "stdout",
       "text": [
        "\n",
        "len(da[0]): 122879\n",
        "Feature shape: (11, 910)"
       ]
      },
      {
       "output_type": "stream",
       "stream": "stdout",
       "text": [
        "\n",
        "I am on file 655 with filename LC_10408-01-42-00_combined.dat \n",
        "I am on file 656 with filename LC_95701-01-15-00_combined.dat \n",
        "dt_min: 0.00781249999999"
       ]
      },
      {
       "output_type": "stream",
       "stream": "stdout",
       "text": [
        "\n",
        "len(da[0]): 122879\n",
        "Feature shape: (11, 910)"
       ]
      },
      {
       "output_type": "stream",
       "stream": "stdout",
       "text": [
        "\n",
        "I am on file 657 with filename LC_60701-01-10-00_combined.dat \n",
        "dt_min: 0.00781249999994"
       ]
      },
      {
       "output_type": "stream",
       "stream": "stdout",
       "text": [
        "\n",
        "len(da[0]): 124927\n",
        "Feature shape: (12, 910)"
       ]
      },
      {
       "output_type": "stream",
       "stream": "stdout",
       "text": [
        "\n",
        "I am on file 658 with filename LC_90701-01-39-00_combined.dat \n",
        "dt_min: 0.00781249999989"
       ]
      },
      {
       "output_type": "stream",
       "stream": "stdout",
       "text": [
        "\n",
        "len(da[0]): 280703\n",
        "Feature shape: (31, 910)"
       ]
      },
      {
       "output_type": "stream",
       "stream": "stdout",
       "text": [
        "\n",
        "I am on file 659 with filename LC_40702-01-03-00_combined.dat \n",
        "dt_min: 0.00781249999818"
       ]
      },
      {
       "output_type": "stream",
       "stream": "stdout",
       "text": [
        "\n",
        "len(da[0]): 299006\n",
        "len(da[0]): 417791\n",
        "Feature shape: (80, 910)"
       ]
      },
      {
       "output_type": "stream",
       "stream": "stdout",
       "text": [
        "\n",
        "I am on file 660 with filename LC_70702-01-30-00_combined.dat \n",
        "dt_min: 0.00781249999989"
       ]
      },
      {
       "output_type": "stream",
       "stream": "stdout",
       "text": [
        "\n",
        "len(da[0]): 194559\n",
        "Feature shape: (20, 910)"
       ]
      },
      {
       "output_type": "stream",
       "stream": "stdout",
       "text": [
        "\n",
        "I am on file 661 with filename LC_70702-01-47-00_combined.dat \n",
        "dt_min: 0.00781249999999"
       ]
      },
      {
       "output_type": "stream",
       "stream": "stdout",
       "text": [
        "\n",
        "len(da[0]): 124927\n",
        "Feature shape: (12, 910)"
       ]
      },
      {
       "output_type": "stream",
       "stream": "stdout",
       "text": [
        "\n",
        "I am on file 662 with filename LC_70702-01-14-00_combined.dat \n",
        "dt_min: 0.00781249999989"
       ]
      },
      {
       "output_type": "stream",
       "stream": "stdout",
       "text": [
        "\n",
        "len(da[0]): 276479\n",
        "Feature shape: (30, 910)"
       ]
      },
      {
       "output_type": "stream",
       "stream": "stdout",
       "text": [
        "\n",
        "I am on file 663 with filename LC_95701-01-24-00_combined.dat \n",
        "dt_min: 0.00781249999977"
       ]
      },
      {
       "output_type": "stream",
       "stream": "stdout",
       "text": [
        "\n",
        "len(da[0]): 202751\n",
        "Feature shape: (21, 910)"
       ]
      },
      {
       "output_type": "stream",
       "stream": "stdout",
       "text": [
        "\n",
        "I am on file 664 with filename LC_20402-01-43-01_combined.dat \n",
        "I am on file 665 with filename LC_96701-01-16-01_combined.dat \n",
        "dt_min: 0.00781249999977"
       ]
      },
      {
       "output_type": "stream",
       "stream": "stdout",
       "text": [
        "\n",
        "len(da[0]): 182271\n",
        "Feature shape: (19, 910)"
       ]
      },
      {
       "output_type": "stream",
       "stream": "stdout",
       "text": [
        "\n",
        "I am on file 666 with filename LC_80701-01-11-01_combined.dat \n",
        "dt_min: 0.00781249999989"
       ]
      },
      {
       "output_type": "stream",
       "stream": "stdout",
       "text": [
        "\n",
        "len(da[0]): 159615\n",
        "Feature shape: (16, 910)"
       ]
      },
      {
       "output_type": "stream",
       "stream": "stdout",
       "text": [
        "\n",
        "I am on file 667 with filename LC_80127-03-01-00_combined.dat \n",
        "dt_min: 0.00390624999909"
       ]
      },
      {
       "output_type": "stream",
       "stream": "stdout",
       "text": [
        "\n",
        "len(da[0]): 598014\n",
        "len(da[0]): 831486\n",
        "len(da[0]): 839678"
       ]
      },
      {
       "output_type": "stream",
       "stream": "stdout",
       "text": [
        "\n",
        "len(da[0]): 839678\n",
        "len(da[0]): 356350"
       ]
      },
      {
       "output_type": "stream",
       "stream": "stdout",
       "text": [
        "\n",
        "len(da[0]): 409599\n",
        "Feature shape: (215, 910)"
       ]
      },
      {
       "output_type": "stream",
       "stream": "stdout",
       "text": [
        "\n",
        "I am on file 668 with filename LC_91701-01-44-00_combined.dat \n",
        "dt_min: 0.00781249999989"
       ]
      },
      {
       "output_type": "stream",
       "stream": "stdout",
       "text": [
        "\n",
        "len(da[0]): 157695\n",
        "Feature shape: (16, 910)"
       ]
      },
      {
       "output_type": "stream",
       "stream": "stdout",
       "text": [
        "\n",
        "I am on file 669 with filename LC_10408-01-28-00_combined.dat \n",
        "I am on file 670 with filename LC_92702-01-32-02_combined.dat \n",
        "dt_min: 0.00781249999989"
       ]
      },
      {
       "output_type": "stream",
       "stream": "stdout",
       "text": [
        "\n",
        "len(da[0]): 90111\n",
        "Feature shape: (7, 910)\n",
        "I am on file 671 with filename LC_50703-01-10-02_combined.dat \n",
        "dt_min: 0.00781249999994"
       ]
      },
      {
       "output_type": "stream",
       "stream": "stdout",
       "text": [
        "\n",
        "len(da[0]): 98303\n",
        "Feature shape: (8, 910)\n",
        "I am on file 672 with filename LC_40703-01-50-01_combined.dat \n",
        "dt_min: 0.00781249999989"
       ]
      },
      {
       "output_type": "stream",
       "stream": "stdout",
       "text": [
        "\n",
        "len(da[0]): 135167\n",
        "Feature shape: (13, 910)"
       ]
      },
      {
       "output_type": "stream",
       "stream": "stdout",
       "text": [
        "\n",
        "I am on file 673 with filename LC_30402-01-22-01_combined.dat \n",
        "dt_min: 0.00781249999989"
       ]
      },
      {
       "output_type": "stream",
       "stream": "stdout",
       "text": [
        "\n",
        "len(da[0]): 293885\n",
        "len(da[0]): 116351\n",
        "Feature shape: (43, 910)"
       ]
      },
      {
       "output_type": "stream",
       "stream": "stdout",
       "text": [
        "\n",
        "I am on file 674 with filename LC_50703-01-39-01_combined.dat \n",
        "dt_min: 0.00781249999994"
       ]
      },
      {
       "output_type": "stream",
       "stream": "stdout",
       "text": [
        "\n",
        "len(da[0]): 96255\n",
        "Feature shape: (8, 910)\n",
        "I am on file 675 with filename LC_50703-01-34-03_combined.dat \n",
        "dt_min: 0.00781249999989"
       ]
      },
      {
       "output_type": "stream",
       "stream": "stdout",
       "text": [
        "\n",
        "len(da[0]): 139263\n",
        "Feature shape: (13, 910)"
       ]
      },
      {
       "output_type": "stream",
       "stream": "stdout",
       "text": [
        "\n",
        "I am on file 676 with filename LC_96701-01-34-00_combined.dat \n",
        "dt_min: 0.00781249999989"
       ]
      },
      {
       "output_type": "stream",
       "stream": "stdout",
       "text": [
        "\n",
        "len(da[0]): 172031\n",
        "Feature shape: (17, 910)"
       ]
      },
      {
       "output_type": "stream",
       "stream": "stdout",
       "text": [
        "\n",
        "I am on file 677 with filename LC_91701-01-39-01_combined.dat \n",
        "dt_min: 0.00781249999989"
       ]
      },
      {
       "output_type": "stream",
       "stream": "stdout",
       "text": [
        "\n",
        "len(da[0]): 222975\n",
        "Feature shape: (24, 910)"
       ]
      },
      {
       "output_type": "stream",
       "stream": "stdout",
       "text": [
        "\n",
        "I am on file 678 with filename LC_40116-01-01-05_combined.dat \n",
        "dt_min: 0.00781249999989"
       ]
      },
      {
       "output_type": "stream",
       "stream": "stdout",
       "text": [
        "\n",
        "len(da[0]): 228479\n",
        "Feature shape: (24, 910)"
       ]
      },
      {
       "output_type": "stream",
       "stream": "stdout",
       "text": [
        "\n",
        "I am on file 679 with filename LC_50703-01-09-00_combined.dat \n",
        "dt_min: 0.00781249999989"
       ]
      },
      {
       "output_type": "stream",
       "stream": "stdout",
       "text": [
        "\n",
        "len(da[0]): 172031\n",
        "Feature shape: (17, 910)"
       ]
      },
      {
       "output_type": "stream",
       "stream": "stdout",
       "text": [
        "\n",
        "I am on file 680 with filename LC_60701-01-16-00_combined.dat \n",
        "dt_min: 0.00781249999989"
       ]
      },
      {
       "output_type": "stream",
       "stream": "stdout",
       "text": [
        "\n",
        "len(da[0]): 392703\n",
        "Feature shape: (44, 910)"
       ]
      },
      {
       "output_type": "stream",
       "stream": "stdout",
       "text": [
        "\n",
        "I am on file 681 with filename LC_40703-01-08-01_combined.dat \n",
        "dt_min: 0.00781249999989"
       ]
      },
      {
       "output_type": "stream",
       "stream": "stdout",
       "text": [
        "\n",
        "len(da[0]): 282239\n",
        "Feature shape: (31, 910)"
       ]
      },
      {
       "output_type": "stream",
       "stream": "stdout",
       "text": [
        "\n",
        "I am on file 682 with filename LC_93701-01-25-01_combined.dat \n",
        "dt_min: 0.00781249999989"
       ]
      },
      {
       "output_type": "stream",
       "stream": "stdout",
       "text": [
        "\n",
        "len(da[0]): 167935\n",
        "Feature shape: (17, 910)"
       ]
      },
      {
       "output_type": "stream",
       "stream": "stdout",
       "text": [
        "\n",
        "I am on file 683 with filename LC_40703-01-05-00_combined.dat \n",
        "dt_min: 0.00781249999818"
       ]
      },
      {
       "output_type": "stream",
       "stream": "stdout",
       "text": [
        "\n",
        "len(da[0]): 366590\n",
        "len(da[0]): 205694\n",
        "len(da[0]): 112765\n",
        "len(da[0]): 303102\n",
        "len(da[0]): 249855\n",
        "Feature shape: (133, 910)"
       ]
      },
      {
       "output_type": "stream",
       "stream": "stdout",
       "text": [
        "\n",
        "I am on file 684 with filename LC_70702-01-25-00_combined.dat \n",
        "dt_min: 0.00781249999989"
       ]
      },
      {
       "output_type": "stream",
       "stream": "stdout",
       "text": [
        "\n",
        "len(da[0]): 157695\n",
        "Feature shape: (16, 910)"
       ]
      },
      {
       "output_type": "stream",
       "stream": "stdout",
       "text": [
        "\n",
        "I am on file 685 with filename LC_96701-01-30-00_combined.dat \n",
        "dt_min: 0.00781249999977"
       ]
      },
      {
       "output_type": "stream",
       "stream": "stdout",
       "text": [
        "\n",
        "len(da[0]): 210943\n",
        "Feature shape: (22, 910)"
       ]
      },
      {
       "output_type": "stream",
       "stream": "stdout",
       "text": [
        "\n",
        "I am on file 686 with filename LC_40403-01-06-01_combined.dat \n",
        "dt_min: 0.00781249999989"
       ]
      },
      {
       "output_type": "stream",
       "stream": "stdout",
       "text": [
        "\n",
        "len(da[0]): 333823\n",
        "Feature shape: (37, 910)"
       ]
      },
      {
       "output_type": "stream",
       "stream": "stdout",
       "text": [
        "\n",
        "I am on file 687 with filename LC_80188-02-01-00_combined.dat \n",
        "dt_min: 0.00390624999989"
       ]
      },
      {
       "output_type": "stream",
       "stream": "stdout",
       "text": [
        "\n",
        "len(da[0]): 798718\n",
        "len(da[0]): 815102\n",
        "len(da[0]): 806910"
       ]
      },
      {
       "output_type": "stream",
       "stream": "stdout",
       "text": [
        "\n",
        "len(da[0]): 802815\n",
        "Feature shape: (182, 910)"
       ]
      },
      {
       "output_type": "stream",
       "stream": "stdout",
       "text": [
        "\n",
        "I am on file 688 with filename LC_96701-01-41-00_combined.dat \n",
        "dt_min: 0.00781249999977"
       ]
      },
      {
       "output_type": "stream",
       "stream": "stdout",
       "text": [
        "\n",
        "len(da[0]): 212095\n",
        "Feature shape: (22, 910)"
       ]
      },
      {
       "output_type": "stream",
       "stream": "stdout",
       "text": [
        "\n",
        "I am on file 689 with filename LC_93701-01-28-00_combined.dat \n",
        "dt_min: 0.00781249999989"
       ]
      },
      {
       "output_type": "stream",
       "stream": "stdout",
       "text": [
        "\n",
        "len(da[0]): 366335\n",
        "Feature shape: (41, 910)"
       ]
      },
      {
       "output_type": "stream",
       "stream": "stdout",
       "text": [
        "\n",
        "I am on file 690 with filename LC_80701-01-21-00_combined.dat \n",
        "dt_min: 0.00781249999989"
       ]
      },
      {
       "output_type": "stream",
       "stream": "stdout",
       "text": [
        "\n",
        "len(da[0]): 319486\n",
        "len(da[0]): 409599\n",
        "Feature shape: (81, 910)"
       ]
      },
      {
       "output_type": "stream",
       "stream": "stdout",
       "text": [
        "\n",
        "I am on file 691 with filename LC_90701-01-38-01_combined.dat \n",
        "dt_min: 0.00781249999989"
       ]
      },
      {
       "output_type": "stream",
       "stream": "stdout",
       "text": [
        "\n",
        "len(da[0]): 219775\n",
        "Feature shape: (23, 910)"
       ]
      },
      {
       "output_type": "stream",
       "stream": "stdout",
       "text": [
        "\n",
        "I am on file 692 with filename LC_80701-01-29-01_combined.dat \n",
        "dt_min: 0.00781249999989"
       ]
      },
      {
       "output_type": "stream",
       "stream": "stdout",
       "text": [
        "\n",
        "len(da[0]): 180095\n",
        "Feature shape: (18, 910)"
       ]
      },
      {
       "output_type": "stream",
       "stream": "stdout",
       "text": [
        "\n",
        "I am on file 693 with filename LC_91701-01-13-00_combined.dat \n",
        "dt_min: 0.00781249999989"
       ]
      },
      {
       "output_type": "stream",
       "stream": "stdout",
       "text": [
        "\n",
        "len(da[0]): 280575\n",
        "Feature shape: (31, 910)"
       ]
      },
      {
       "output_type": "stream",
       "stream": "stdout",
       "text": [
        "\n",
        "I am on file 694 with filename LC_10408-01-29-00_combined.dat \n",
        "I am on file 695 with filename LC_20402-01-15-00_combined.dat \n",
        "I am on file 696 with filename LC_60701-01-11-01_combined.dat \n",
        "dt_min: 0.00781249999989"
       ]
      },
      {
       "output_type": "stream",
       "stream": "stdout",
       "text": [
        "\n",
        "len(da[0]): 147455\n",
        "Feature shape: (14, 910)"
       ]
      },
      {
       "output_type": "stream",
       "stream": "stdout",
       "text": [
        "\n",
        "I am on file 697 with filename LC_80701-01-53-01_combined.dat \n",
        "dt_min: 0.00781249999989"
       ]
      },
      {
       "output_type": "stream",
       "stream": "stdout",
       "text": [
        "\n",
        "len(da[0]): 155647\n",
        "Feature shape: (15, 910)"
       ]
      },
      {
       "output_type": "stream",
       "stream": "stdout",
       "text": [
        "\n",
        "I am on file 698 with filename LC_70702-01-38-00_combined.dat \n",
        "dt_min: 0.00781249999989"
       ]
      },
      {
       "output_type": "stream",
       "stream": "stdout",
       "text": [
        "\n",
        "len(da[0]): 413695\n",
        "Feature shape: (47, 910)"
       ]
      },
      {
       "output_type": "stream",
       "stream": "stdout",
       "text": [
        "\n",
        "I am on file 699 with filename LC_10408-01-14-04_combined.dat \n",
        "I am on file 700 with filename LC_40703-01-29-01_combined.dat \n",
        "dt_min: 0.00781249999989"
       ]
      },
      {
       "output_type": "stream",
       "stream": "stdout",
       "text": [
        "\n",
        "len(da[0]): 182143\n",
        "Feature shape: (19, 910)"
       ]
      },
      {
       "output_type": "stream",
       "stream": "stdout",
       "text": [
        "\n",
        "I am on file 701 with filename LC_91701-01-05-00_combined.dat \n",
        "dt_min: 0.00781249999989"
       ]
      },
      {
       "output_type": "stream",
       "stream": "stdout",
       "text": [
        "\n",
        "len(da[0]): 366591\n",
        "Feature shape: (41, 910)"
       ]
      },
      {
       "output_type": "stream",
       "stream": "stdout",
       "text": [
        "\n",
        "I am on file 702 with filename LC_80701-01-49-00_combined.dat \n",
        "dt_min: 0.00781249999989"
       ]
      },
      {
       "output_type": "stream",
       "stream": "stdout",
       "text": [
        "\n",
        "len(da[0]): 170623\n",
        "Feature shape: (17, 910)"
       ]
      },
      {
       "output_type": "stream",
       "stream": "stdout",
       "text": [
        "\n",
        "I am on file 703 with filename LC_30703-01-19-00_combined.dat \n",
        "dt_min: 0.00781249999989"
       ]
      },
      {
       "output_type": "stream",
       "stream": "stdout",
       "text": [
        "\n",
        "len(da[0]): 275197\n",
        "len(da[0]): 149759\n",
        "Feature shape: (45, 910)"
       ]
      },
      {
       "output_type": "stream",
       "stream": "stdout",
       "text": [
        "\n",
        "I am on file 704 with filename LC_20402-01-16-00_combined.dat \n",
        "I am on file 705 with filename LC_90105-09-04-00_combined.dat \n",
        "dt_min: 0.00390624999989"
       ]
      },
      {
       "output_type": "stream",
       "stream": "stdout",
       "text": [
        "\n",
        "len(da[0]): 635901\n",
        "len(da[0]): 164862\n",
        "len(da[0]): 806911\n",
        "Feature shape: (88, 910)"
       ]
      },
      {
       "output_type": "stream",
       "stream": "stdout",
       "text": [
        "\n",
        "I am on file 706 with filename LC_50703-01-07-00_combined.dat \n",
        "dt_min: 0.00781249999989"
       ]
      },
      {
       "output_type": "stream",
       "stream": "stdout",
       "text": [
        "\n",
        "len(da[0]): 303103\n",
        "Feature shape: (33, 910)"
       ]
      },
      {
       "output_type": "stream",
       "stream": "stdout",
       "text": [
        "\n",
        "I am on file 707 with filename LC_94701-01-26-00_combined.dat \n",
        "dt_min: 0.00781249999977"
       ]
      },
      {
       "output_type": "stream",
       "stream": "stdout",
       "text": [
        "\n",
        "len(da[0]): 176127\n",
        "Feature shape: (18, 910)"
       ]
      },
      {
       "output_type": "stream",
       "stream": "stdout",
       "text": [
        "\n",
        "I am on file 708 with filename LC_91701-01-86-00_combined.dat \n",
        "dt_min: 0.00781249999989"
       ]
      },
      {
       "output_type": "stream",
       "stream": "stdout",
       "text": [
        "\n",
        "len(da[0]): 190463\n",
        "Feature shape: (20, 910)"
       ]
      },
      {
       "output_type": "stream",
       "stream": "stdout",
       "text": [
        "\n",
        "I am on file 709 with filename LC_93701-01-33-01_combined.dat \n",
        "dt_min: 0.00781249999989"
       ]
      },
      {
       "output_type": "stream",
       "stream": "stdout",
       "text": [
        "\n",
        "len(da[0]): 90111\n",
        "Feature shape: (7, 910)\n",
        "I am on file 710 with filename LC_50703-01-21-02_combined.dat \n",
        "dt_min: 0.00781249999989"
       ]
      },
      {
       "output_type": "stream",
       "stream": "stdout",
       "text": [
        "\n",
        "len(da[0]): 282623\n",
        "Feature shape: (31, 910)"
       ]
      },
      {
       "output_type": "stream",
       "stream": "stdout",
       "text": [
        "\n",
        "I am on file 711 with filename LC_80701-01-54-02_combined.dat \n",
        "dt_min: 0.00781249999989"
       ]
      },
      {
       "output_type": "stream",
       "stream": "stdout",
       "text": [
        "\n",
        "len(da[0]): 174079\n",
        "Feature shape: (18, 910)"
       ]
      },
      {
       "output_type": "stream",
       "stream": "stdout",
       "text": [
        "\n",
        "I am on file 712 with filename LC_90105-02-01-02_combined.dat \n",
        "dt_min: 0.00390624999989"
       ]
      },
      {
       "output_type": "stream",
       "stream": "stdout",
       "text": [
        "\n",
        "len(da[0]): 290815\n",
        "Feature shape: (14, 910)"
       ]
      },
      {
       "output_type": "stream",
       "stream": "stdout",
       "text": [
        "\n",
        "I am on file 713 with filename LC_70702-01-04-00_combined.dat \n",
        "dt_min: 0.00781249999989"
       ]
      },
      {
       "output_type": "stream",
       "stream": "stdout",
       "text": [
        "\n",
        "len(da[0]): 210943\n",
        "Feature shape: (22, 910)"
       ]
      },
      {
       "output_type": "stream",
       "stream": "stdout",
       "text": [
        "\n",
        "I am on file 714 with filename LC_80701-01-11-02_combined.dat \n",
        "dt_min: 0.00781249999989"
       ]
      },
      {
       "output_type": "stream",
       "stream": "stdout",
       "text": [
        "\n",
        "len(da[0]): 204799\n",
        "Feature shape: (21, 910)"
       ]
      },
      {
       "output_type": "stream",
       "stream": "stdout",
       "text": [
        "\n",
        "I am on file 715 with filename LC_91701-01-83-02_combined.dat \n",
        "dt_min: 0.00781249999997"
       ]
      },
      {
       "output_type": "stream",
       "stream": "stdout",
       "text": [
        "\n",
        "len(da[0]): 63487\n",
        "Feature shape: (4, 910)\n",
        "I am on file 716 with filename LC_50703-01-51-01_combined.dat \n",
        "dt_min: 0.00781249999989"
       ]
      },
      {
       "output_type": "stream",
       "stream": "stdout",
       "text": [
        "\n",
        "len(da[0]): 419839\n",
        "Feature shape: (48, 910)"
       ]
      },
      {
       "output_type": "stream",
       "stream": "stdout",
       "text": [
        "\n",
        "I am on file 717 with filename LC_10408-01-15-04_combined.dat \n",
        "I am on file 718 with filename LC_90108-01-06-00_combined.dat \n",
        "dt_min: 0.00781249999989"
       ]
      },
      {
       "output_type": "stream",
       "stream": "stdout",
       "text": [
        "\n",
        "len(da[0]): 143359\n",
        "Feature shape: (14, 910)"
       ]
      },
      {
       "output_type": "stream",
       "stream": "stdout",
       "text": [
        "\n",
        "I am on file 719 with filename LC_90105-01-03-01_combined.dat \n",
        "dt_min: 0.00390624999955"
       ]
      },
      {
       "output_type": "stream",
       "stream": "stdout",
       "text": [
        "\n",
        "len(da[0]): 303102\n",
        "len(da[0]): 180222\n",
        "len(da[0]): 417790\n",
        "len(da[0]): 806911\n",
        "Feature shape: (90, 910)"
       ]
      },
      {
       "output_type": "stream",
       "stream": "stdout",
       "text": [
        "\n",
        "I am on file 720 with filename LC_93701-01-09-00_combined.dat \n",
        "dt_min: 0.00781249999989"
       ]
      },
      {
       "output_type": "stream",
       "stream": "stdout",
       "text": [
        "\n",
        "len(da[0]): 108799\n",
        "Feature shape: (10, 910)"
       ]
      },
      {
       "output_type": "stream",
       "stream": "stdout",
       "text": [
        "\n",
        "I am on file 721 with filename LC_90701-01-15-00_combined.dat \n",
        "dt_min: 0.00781249999989"
       ]
      },
      {
       "output_type": "stream",
       "stream": "stdout",
       "text": [
        "\n",
        "len(da[0]): 141311\n",
        "Feature shape: (14, 910)"
       ]
      },
      {
       "output_type": "stream",
       "stream": "stdout",
       "text": [
        "\n",
        "I am on file 722 with filename LC_40703-01-24-00_combined.dat \n",
        "dt_min: 0.00781249999909"
       ]
      },
      {
       "output_type": "stream",
       "stream": "stdout",
       "text": [
        "\n",
        "len(da[0]): 122366\n",
        "len(da[0]): 222717\n",
        "len(da[0]): 409598\n",
        "len(da[0]): 53758\n",
        "len(da[0]): 190461\n",
        "len(da[0]): 177662\n",
        "Feature shape: (122, 910)"
       ]
      },
      {
       "output_type": "stream",
       "stream": "stdout",
       "text": [
        "\n",
        "I am on file 723 with filename LC_70703-01-01-13_combined.dat \n",
        "dt_min: 0.00781249999989"
       ]
      },
      {
       "output_type": "stream",
       "stream": "stdout",
       "text": [
        "\n",
        "len(da[0]): 139135\n",
        "Feature shape: (13, 910)"
       ]
      },
      {
       "output_type": "stream",
       "stream": "stdout",
       "text": [
        "\n",
        "I am on file 724 with filename LC_50703-01-03-02_combined.dat \n",
        "dt_min: 0.00781249999999"
       ]
      },
      {
       "output_type": "stream",
       "stream": "stdout",
       "text": [
        "\n",
        "len(da[0]): 75262\n",
        "len(da[0]): 102399\n",
        "Feature shape: (15, 910)"
       ]
      },
      {
       "output_type": "stream",
       "stream": "stdout",
       "text": [
        "\n",
        "I am on file 725 with filename LC_95701-01-36-00_combined.dat \n",
        "dt_min: 0.00781249999977"
       ]
      },
      {
       "output_type": "stream",
       "stream": "stdout",
       "text": [
        "\n",
        "len(da[0]): 163839\n",
        "Feature shape: (16, 910)"
       ]
      },
      {
       "output_type": "stream",
       "stream": "stdout",
       "text": [
        "\n",
        "I am on file 726 with filename LC_50703-01-28-00_combined.dat \n",
        "dt_min: 0.00781249999989"
       ]
      },
      {
       "output_type": "stream",
       "stream": "stdout",
       "text": [
        "\n",
        "len(da[0]): 290815\n",
        "Feature shape: (32, 910)"
       ]
      },
      {
       "output_type": "stream",
       "stream": "stdout",
       "text": [
        "\n",
        "I am on file 727 with filename LC_40703-01-18-00_combined.dat \n",
        "dt_min: 0.00781249999909"
       ]
      },
      {
       "output_type": "stream",
       "stream": "stdout",
       "text": [
        "\n",
        "len(da[0]): 331774\n",
        "len(da[0]): 296446\n",
        "len(da[0]): 124414\n",
        "Feature shape: (82, 910)"
       ]
      },
      {
       "output_type": "stream",
       "stream": "stdout",
       "text": [
        "\n",
        "I am on file 728 with filename LC_60702-01-01-06_combined.dat \n",
        "dt_min: 0.00781249999989"
       ]
      },
      {
       "output_type": "stream",
       "stream": "stdout",
       "text": [
        "\n",
        "len(da[0]): 180223\n",
        "Feature shape: (18, 910)"
       ]
      },
      {
       "output_type": "stream",
       "stream": "stdout",
       "text": [
        "\n",
        "I am on file 729 with filename LC_10408-01-16-01_combined.dat \n",
        "I am on file 730 with filename LC_50703-01-40-02_combined.dat \n",
        "dt_min: 0.00781249999994"
       ]
      },
      {
       "output_type": "stream",
       "stream": "stdout",
       "text": [
        "\n",
        "len(da[0]): 120831\n",
        "Feature shape: (11, 910)"
       ]
      },
      {
       "output_type": "stream",
       "stream": "stdout",
       "text": [
        "\n",
        "I am on file 731 with filename LC_40703-01-14-02_combined.dat \n",
        "dt_min: 0.00781249999994"
       ]
      },
      {
       "output_type": "stream",
       "stream": "stdout",
       "text": [
        "\n",
        "len(da[0]): 86399\n",
        "Feature shape: (7, 910)\n",
        "I am on file 732 with filename LC_60701-01-05-00_combined.dat \n",
        "dt_min: 0.00781249999989"
       ]
      },
      {
       "output_type": "stream",
       "stream": "stdout",
       "text": [
        "\n",
        "len(da[0]): 202751\n",
        "Feature shape: (21, 910)"
       ]
      },
      {
       "output_type": "stream",
       "stream": "stdout",
       "text": [
        "\n",
        "I am on file 733 with filename LC_95701-01-10-00_combined.dat \n",
        "dt_min: 0.00781249999999"
       ]
      },
      {
       "output_type": "stream",
       "stream": "stdout",
       "text": [
        "\n",
        "len(da[0]): 97535\n",
        "Feature shape: (8, 910)\n",
        "I am on file 734 with filename LC_80701-01-45-00_combined.dat \n",
        "dt_min: 0.00781249999989"
       ]
      },
      {
       "output_type": "stream",
       "stream": "stdout",
       "text": [
        "\n",
        "len(da[0]): 159743\n",
        "Feature shape: (16, 910)"
       ]
      },
      {
       "output_type": "stream",
       "stream": "stdout",
       "text": [
        "\n",
        "I am on file 735 with filename LC_80701-01-08-01_combined.dat \n",
        "dt_min: 0.00781249999989"
       ]
      },
      {
       "output_type": "stream",
       "stream": "stdout",
       "text": [
        "\n",
        "len(da[0]): 108543\n",
        "Feature shape: (10, 910)\n",
        "I am on file 736 with filename LC_70702-01-54-01_combined.dat \n",
        "dt_min: 0.00781249999994"
       ]
      },
      {
       "output_type": "stream",
       "stream": "stdout",
       "text": [
        "\n",
        "len(da[0]): 120831\n",
        "Feature shape: (11, 910)"
       ]
      },
      {
       "output_type": "stream",
       "stream": "stdout",
       "text": [
        "\n",
        "I am on file 737 with filename LC_20402-01-32-00_combined.dat \n",
        "I am on file 738 with filename LC_90701-01-02-01_combined.dat \n",
        "dt_min: 0.00781249999989"
       ]
      },
      {
       "output_type": "stream",
       "stream": "stdout",
       "text": [
        "\n",
        "len(da[0]): 236671\n",
        "Feature shape: (25, 910)"
       ]
      },
      {
       "output_type": "stream",
       "stream": "stdout",
       "text": [
        "\n",
        "I am on file 739 with filename LC_50703-01-16-01_combined.dat \n",
        "dt_min: 0.00781249999989"
       ]
      },
      {
       "output_type": "stream",
       "stream": "stdout",
       "text": [
        "\n",
        "len(da[0]): 360447\n",
        "Feature shape: (40, 910)"
       ]
      },
      {
       "output_type": "stream",
       "stream": "stdout",
       "text": [
        "\n",
        "I am on file 740 with filename LC_92702-01-07-01_combined.dat \n",
        "dt_min: 0.00781249999989"
       ]
      },
      {
       "output_type": "stream",
       "stream": "stdout",
       "text": [
        "\n",
        "len(da[0]): 133119\n",
        "Feature shape: (13, 910)"
       ]
      },
      {
       "output_type": "stream",
       "stream": "stdout",
       "text": [
        "\n",
        "I am on file 741 with filename LC_96701-01-03-01_combined.dat \n",
        "dt_min: 0.00781249999977"
       ]
      },
      {
       "output_type": "stream",
       "stream": "stdout",
       "text": [
        "\n",
        "len(da[0]): 257151\n",
        "Feature shape: (28, 910)"
       ]
      },
      {
       "output_type": "stream",
       "stream": "stdout",
       "text": [
        "\n",
        "I am on file 742 with filename LC_50703-01-11-03_combined.dat \n",
        "dt_min: 0.00781249999999"
       ]
      },
      {
       "output_type": "stream",
       "stream": "stdout",
       "text": [
        "\n",
        "len(da[0]): 120831\n",
        "Feature shape: (11, 910)"
       ]
      },
      {
       "output_type": "stream",
       "stream": "stdout",
       "text": [
        "\n",
        "I am on file 743 with filename LC_90024-02-03-00_combined.dat \n",
        "dt_min: 0.00390624999999"
       ]
      },
      {
       "output_type": "stream",
       "stream": "stdout",
       "text": [
        "\n",
        "len(da[0]): 237567\n",
        "Feature shape: (11, 910)"
       ]
      },
      {
       "output_type": "stream",
       "stream": "stdout",
       "text": [
        "\n",
        "I am on file 744 with filename LC_30703-01-09-01_combined.dat \n",
        "dt_min: 0.00781249999989"
       ]
      },
      {
       "output_type": "stream",
       "stream": "stdout",
       "text": [
        "\n",
        "len(da[0]): 39421\n",
        "len(da[0]): 265471\n",
        "Feature shape: (30, 910)"
       ]
      },
      {
       "output_type": "stream",
       "stream": "stdout",
       "text": [
        "\n",
        "I am on file 745 with filename LC_91701-01-51-00_combined.dat \n",
        "dt_min: 0.00781249999989"
       ]
      },
      {
       "output_type": "stream",
       "stream": "stdout",
       "text": [
        "\n",
        "len(da[0]): 157695\n",
        "Feature shape: (16, 910)"
       ]
      },
      {
       "output_type": "stream",
       "stream": "stdout",
       "text": [
        "\n",
        "I am on file 746 with filename LC_20402-01-52-02_combined.dat \n",
        "I am on file 747 with filename LC_92437-01-01-00_combined.dat \n",
        "dt_min: 0.00781249999989"
       ]
      },
      {
       "output_type": "stream",
       "stream": "stdout",
       "text": [
        "\n",
        "len(da[0]): 327679\n",
        "Feature shape: (36, 910)"
       ]
      },
      {
       "output_type": "stream",
       "stream": "stdout",
       "text": [
        "\n",
        "I am on file 748 with filename LC_50703-01-44-01_combined.dat \n",
        "dt_min: 0.00781249999989"
       ]
      },
      {
       "output_type": "stream",
       "stream": "stdout",
       "text": [
        "\n",
        "len(da[0]): 290815\n",
        "Feature shape: (32, 910)"
       ]
      },
      {
       "output_type": "stream",
       "stream": "stdout",
       "text": [
        "\n",
        "I am on file 749 with filename LC_91701-01-43-00_combined.dat \n",
        "dt_min: 0.00781249999989"
       ]
      },
      {
       "output_type": "stream",
       "stream": "stdout",
       "text": [
        "\n",
        "len(da[0]): 378879\n",
        "Feature shape: (43, 910)"
       ]
      },
      {
       "output_type": "stream",
       "stream": "stdout",
       "text": [
        "\n",
        "I am on file 750 with filename LC_50703-01-48-00_combined.dat \n",
        "dt_min: 0.00781249999989"
       ]
      },
      {
       "output_type": "stream",
       "stream": "stdout",
       "text": [
        "\n",
        "len(da[0]): 251903\n",
        "Feature shape: (27, 910)"
       ]
      },
      {
       "output_type": "stream",
       "stream": "stdout",
       "text": [
        "\n",
        "I am on file 751 with filename LC_30402-01-11-00_combined.dat \n",
        "dt_min: 0.00781249999989"
       ]
      },
      {
       "output_type": "stream",
       "stream": "stdout",
       "text": [
        "\n",
        "len(da[0]): 423934\n",
        "len(da[0]): 288766\n",
        "len(da[0]): 63487\n",
        "Feature shape: (84, 910)"
       ]
      },
      {
       "output_type": "stream",
       "stream": "stdout",
       "text": [
        "\n",
        "I am on file 752 with filename LC_80701-01-58-02_combined.dat \n",
        "dt_min: 0.00781249999989"
       ]
      },
      {
       "output_type": "stream",
       "stream": "stdout",
       "text": [
        "\n",
        "len(da[0]): 137215\n",
        "Feature shape: (13, 910)"
       ]
      },
      {
       "output_type": "stream",
       "stream": "stdout",
       "text": [
        "\n",
        "I am on file 753 with filename LC_30182-01-03-01_combined.dat \n",
        "dt_min: 0.00781249999999"
       ]
      },
      {
       "output_type": "stream",
       "stream": "stdout",
       "text": [
        "\n",
        "len(da[0]): 96255\n",
        "Feature shape: (8, 910)\n",
        "I am on file 754 with filename LC_70702-01-09-00_combined.dat \n",
        "dt_min: 0.00781249999989"
       ]
      },
      {
       "output_type": "stream",
       "stream": "stdout",
       "text": [
        "\n",
        "len(da[0]): 155647\n",
        "Feature shape: (15, 910)"
       ]
      },
      {
       "output_type": "stream",
       "stream": "stdout",
       "text": [
        "\n",
        "I am on file 755 with filename LC_91701-01-33-00_combined.dat \n",
        "dt_min: 0.00781249999955"
       ]
      },
      {
       "output_type": "stream",
       "stream": "stdout",
       "text": [
        "\n",
        "len(da[0]): 190462\n",
        "len(da[0]): 411646\n",
        "len(da[0]): 409599\n",
        "Feature shape: (113, 910)"
       ]
      },
      {
       "output_type": "stream",
       "stream": "stdout",
       "text": [
        "\n",
        "I am on file 756 with filename LC_95701-01-44-01_combined.dat \n",
        "dt_min: 0.00781249999999"
       ]
      },
      {
       "output_type": "stream",
       "stream": "stdout",
       "text": [
        "\n",
        "len(da[0]): 73727\n",
        "Feature shape: (5, 910)\n",
        "I am on file 757 with filename LC_90105-05-03-01_combined.dat \n",
        "dt_min: 0.00390624999989"
       ]
      },
      {
       "output_type": "stream",
       "stream": "stdout",
       "text": [
        "\n",
        "len(da[0]): 420095\n",
        "Feature shape: (22, 910)"
       ]
      },
      {
       "output_type": "stream",
       "stream": "stdout",
       "text": [
        "\n",
        "I am on file 758 with filename LC_50703-01-13-00_combined.dat \n",
        "dt_min: 0.00781249999989"
       ]
      },
      {
       "output_type": "stream",
       "stream": "stdout",
       "text": [
        "\n",
        "len(da[0]): 231423\n",
        "Feature shape: (25, 910)"
       ]
      },
      {
       "output_type": "stream",
       "stream": "stdout",
       "text": [
        "\n",
        "I am on file 759 with filename LC_90105-02-01-01_combined.dat \n",
        "dt_min: 0.00390624999989"
       ]
      },
      {
       "output_type": "stream",
       "stream": "stdout",
       "text": [
        "\n",
        "len(da[0]): 380927\n",
        "Feature shape: (20, 910)"
       ]
      },
      {
       "output_type": "stream",
       "stream": "stdout",
       "text": [
        "\n",
        "I am on file 760 with filename LC_20187-02-03-00_combined.dat \n",
        "dt_min: 0.0078125"
       ]
      },
      {
       "output_type": "stream",
       "stream": "stdout",
       "text": [
        "\n",
        "len(da[0]): 92158\n",
        "len(da[0]): 18430\n",
        "len(da[0]): 11005\n",
        "len(da[0]): 132093\n",
        "len(da[0]): 146174\n",
        "Feature shape: (35, 910)"
       ]
      },
      {
       "output_type": "stream",
       "stream": "stdout",
       "text": [
        "\n",
        "I am on file 761 with filename LC_50703-01-41-01_combined.dat \n",
        "dt_min: 0.00781249999989"
       ]
      },
      {
       "output_type": "stream",
       "stream": "stdout",
       "text": [
        "\n",
        "len(da[0]): 169983\n",
        "Feature shape: (17, 910)"
       ]
      },
      {
       "output_type": "stream",
       "stream": "stdout",
       "text": [
        "\n",
        "I am on file 762 with filename LC_30703-01-25-00_combined.dat \n",
        "dt_min: 0.00781249999818"
       ]
      },
      {
       "output_type": "stream",
       "stream": "stdout",
       "text": [
        "\n",
        "len(da[0]): 5117\n",
        "len(da[0]): 319486\n",
        "len(da[0]): 280575\n",
        "Feature shape: (66, 910)"
       ]
      },
      {
       "output_type": "stream",
       "stream": "stdout",
       "text": [
        "\n",
        "I am on file 763 with filename LC_90701-01-38-00_combined.dat \n",
        "dt_min: 0.00781249999989"
       ]
      },
      {
       "output_type": "stream",
       "stream": "stdout",
       "text": [
        "\n",
        "len(da[0]): 232447\n",
        "Feature shape: (25, 910)"
       ]
      },
      {
       "output_type": "stream",
       "stream": "stdout",
       "text": [
        "\n",
        "I am on file 764 with filename LC_70702-01-42-00_combined.dat \n",
        "dt_min: 0.00781249999989"
       ]
      },
      {
       "output_type": "stream",
       "stream": "stdout",
       "text": [
        "\n",
        "len(da[0]): 176127\n",
        "Feature shape: (18, 910)"
       ]
      },
      {
       "output_type": "stream",
       "stream": "stdout",
       "text": [
        "\n",
        "I am on file 765 with filename LC_90701-01-11-00_combined.dat \n",
        "dt_min: 0.00781249999989"
       ]
      },
      {
       "output_type": "stream",
       "stream": "stdout",
       "text": [
        "\n",
        "len(da[0]): 411647\n",
        "Feature shape: (47, 910)"
       ]
      },
      {
       "output_type": "stream",
       "stream": "stdout",
       "text": [
        "\n",
        "I am on file 766 with filename LC_90105-09-03-01_combined.dat \n",
        "dt_min: 0.00390624999989"
       ]
      },
      {
       "output_type": "stream",
       "stream": "stdout",
       "text": [
        "\n",
        "len(da[0]): 339967\n",
        "Feature shape: (17, 910)"
       ]
      },
      {
       "output_type": "stream",
       "stream": "stdout",
       "text": [
        "\n",
        "I am on file 767 with filename LC_20402-01-01-00_combined.dat \n",
        "dt_min: 0.00390624999977"
       ]
      },
      {
       "output_type": "stream",
       "stream": "stdout",
       "text": [
        "\n",
        "len(da[0]): 258558\n",
        "len(da[0]): 306685\n",
        "len(da[0]): 313854\n",
        "len(da[0]): 255997\n",
        "len(da[0]): 257533\n",
        "len(da[0]): 405503\n",
        "Feature shape: (88, 910)"
       ]
      },
      {
       "output_type": "stream",
       "stream": "stdout",
       "text": [
        "\n",
        "I am on file 768 with filename LC_70702-01-04-02_combined.dat \n",
        "dt_min: 0.00781249999989"
       ]
      },
      {
       "output_type": "stream",
       "stream": "stdout",
       "text": [
        "\n",
        "len(da[0]): 151167\n",
        "Feature shape: (15, 910)"
       ]
      },
      {
       "output_type": "stream",
       "stream": "stdout",
       "text": [
        "\n",
        "I am on file 769 with filename LC_94701-01-15-00_combined.dat \n",
        "dt_min: 0.00781249999999"
       ]
      },
      {
       "output_type": "stream",
       "stream": "stdout",
       "text": [
        "\n",
        "len(da[0]): 128255\n",
        "Feature shape: (12, 910)"
       ]
      },
      {
       "output_type": "stream",
       "stream": "stdout",
       "text": [
        "\n",
        "I am on file 770 with filename LC_60701-01-11-02_combined.dat \n",
        "dt_min: 0.00781249999999"
       ]
      },
      {
       "output_type": "stream",
       "stream": "stdout",
       "text": [
        "\n",
        "len(da[0]): 118782\n",
        "len(da[0]): 67583\n",
        "Feature shape: (16, 910)"
       ]
      },
      {
       "output_type": "stream",
       "stream": "stdout",
       "text": [
        "\n",
        "I am on file 771 with filename LC_40703-01-31-00_combined.dat \n",
        "dt_min: 0.00781249999818"
       ]
      },
      {
       "output_type": "stream",
       "stream": "stdout",
       "text": [
        "\n",
        "len(da[0]): 380926\n",
        "len(da[0]): 421886\n",
        "len(da[0]): 423935\n",
        "Feature shape: (139, 910)"
       ]
      },
      {
       "output_type": "stream",
       "stream": "stdout",
       "text": [
        "\n",
        "I am on file 772 with filename LC_80701-01-44-01_combined.dat \n",
        "dt_min: 0.00781249999999"
       ]
      },
      {
       "output_type": "stream",
       "stream": "stdout",
       "text": [
        "\n",
        "len(da[0]): 118783\n",
        "Feature shape: (11, 910)"
       ]
      },
      {
       "output_type": "stream",
       "stream": "stdout",
       "text": [
        "\n",
        "I am on file 773 with filename LC_96701-01-27-00_combined.dat \n",
        "dt_min: 0.00781249999977"
       ]
      },
      {
       "output_type": "stream",
       "stream": "stdout",
       "text": [
        "\n",
        "len(da[0]): 202750\n",
        "len(da[0]): 116735\n",
        "Feature shape: (32, 910)"
       ]
      },
      {
       "output_type": "stream",
       "stream": "stdout",
       "text": [
        "\n",
        "I am on file 774 with filename LC_10408-01-18-00_combined.dat \n",
        "dt_min: 0.00390625"
       ]
      },
      {
       "output_type": "stream",
       "stream": "stdout",
       "text": [
        "\n",
        "len(da[0]): 211710\n",
        "len(da[0]): 167933\n",
        "len(da[0]): 57342\n",
        "len(da[0]): 487423\n",
        "Feature shape: (42, 910)"
       ]
      },
      {
       "output_type": "stream",
       "stream": "stdout",
       "text": [
        "\n",
        "I am on file 775 with filename LC_91701-01-21-00_combined.dat \n",
        "dt_min: 0.00781249999989"
       ]
      },
      {
       "output_type": "stream",
       "stream": "stdout",
       "text": [
        "\n",
        "len(da[0]): 141055\n",
        "Feature shape: (14, 910)"
       ]
      },
      {
       "output_type": "stream",
       "stream": "stdout",
       "text": [
        "\n",
        "I am on file 776 with filename LC_91701-01-62-00_combined.dat \n",
        "dt_min: 0.00781249999989"
       ]
      },
      {
       "output_type": "stream",
       "stream": "stdout",
       "text": [
        "\n",
        "len(da[0]): 366335\n",
        "Feature shape: (41, 910)"
       ]
      },
      {
       "output_type": "stream",
       "stream": "stdout",
       "text": [
        "\n",
        "I am on file 777 with filename LC_50703-01-24-00_combined.dat \n",
        "dt_min: 0.00781249999989"
       ]
      },
      {
       "output_type": "stream",
       "stream": "stdout",
       "text": [
        "\n",
        "len(da[0]): 183295\n",
        "Feature shape: (19, 910)"
       ]
      },
      {
       "output_type": "stream",
       "stream": "stdout",
       "text": [
        "\n",
        "I am on file 778 with filename LC_30183-02-01-00_combined.dat \n",
        "dt_min: 0.00781249999989"
       ]
      },
      {
       "output_type": "stream",
       "stream": "stdout",
       "text": [
        "\n",
        "len(da[0]): 423934\n",
        "len(da[0]): 165887\n",
        "Feature shape: (65, 910)"
       ]
      },
      {
       "output_type": "stream",
       "stream": "stdout",
       "text": [
        "\n",
        "I am on file 779 with filename LC_30182-01-01-00_combined.dat \n",
        "dt_min: 0.00781249999989"
       ]
      },
      {
       "output_type": "stream",
       "stream": "stdout",
       "text": [
        "\n",
        "len(da[0]): 90109\n",
        "len(da[0]): 58366\n",
        "len(da[0]): 65534\n",
        "len(da[0]): 206846\n",
        "len(da[0]): 73726\n",
        "len(da[0]): 268286\n",
        "len(da[0]): 73726\n",
        "len(da[0]): 430078\n",
        "len(da[0]): 186877"
       ]
      },
      {
       "output_type": "stream",
       "stream": "stdout",
       "text": [
        "\n",
        "len(da[0]): 242175\n",
        "Feature shape: (170, 910)"
       ]
      },
      {
       "output_type": "stream",
       "stream": "stdout",
       "text": [
        "\n",
        "I am on file 780 with filename LC_94701-01-42-00_combined.dat \n",
        "dt_min: 0.00781249999977"
       ]
      },
      {
       "output_type": "stream",
       "stream": "stdout",
       "text": [
        "\n",
        "len(da[0]): 237567\n",
        "Feature shape: (25, 910)"
       ]
      },
      {
       "output_type": "stream",
       "stream": "stdout",
       "text": [
        "\n",
        "I am on file 781 with filename LC_91701-01-57-00_combined.dat \n",
        "dt_min: 0.00781249999989"
       ]
      },
      {
       "output_type": "stream",
       "stream": "stdout",
       "text": [
        "\n",
        "len(da[0]): 106495\n",
        "Feature shape: (9, 910)\n",
        "I am on file 782 with filename LC_90024-02-42-00_combined.dat \n",
        "dt_min: 0.00390624999994"
       ]
      },
      {
       "output_type": "stream",
       "stream": "stdout",
       "text": [
        "\n",
        "len(da[0]): 159743\n",
        "Feature shape: (6, 910)\n",
        "I am on file 783 with filename LC_90105-06-03-00_combined.dat \n",
        "dt_min: 0.00390624999818"
       ]
      },
      {
       "output_type": "stream",
       "stream": "stdout",
       "text": [
        "\n",
        "len(da[0]): 827390\n",
        "len(da[0]): 823294\n",
        "len(da[0]): 823295"
       ]
      },
      {
       "output_type": "stream",
       "stream": "stdout",
       "text": [
        "\n",
        "Feature shape: (141, 910)"
       ]
      },
      {
       "output_type": "stream",
       "stream": "stdout",
       "text": [
        "\n",
        "I am on file 784 with filename LC_94701-01-55-01_combined.dat \n",
        "dt_min: 0.00781249999989"
       ]
      },
      {
       "output_type": "stream",
       "stream": "stdout",
       "text": [
        "\n",
        "len(da[0]): 206847\n",
        "Feature shape: (22, 910)"
       ]
      },
      {
       "output_type": "stream",
       "stream": "stdout",
       "text": [
        "\n",
        "I am on file 785 with filename LC_91701-01-23-00_combined.dat \n",
        "dt_min: 0.00781249999989"
       ]
      },
      {
       "output_type": "stream",
       "stream": "stdout",
       "text": [
        "\n",
        "len(da[0]): 187903\n",
        "Feature shape: (19, 910)"
       ]
      },
      {
       "output_type": "stream",
       "stream": "stdout",
       "text": [
        "\n",
        "I am on file 786 with filename LC_40703-01-47-00_combined.dat \n",
        "dt_min: 0.00781249999818"
       ]
      },
      {
       "output_type": "stream",
       "stream": "stdout",
       "text": [
        "\n",
        "len(da[0]): 337918\n",
        "len(da[0]): 421886\n",
        "len(da[0]): 204798\n",
        "len(da[0]): 57343\n",
        "Feature shape: (110, 910)"
       ]
      },
      {
       "output_type": "stream",
       "stream": "stdout",
       "text": [
        "\n",
        "I am on file 787 with filename LC_20402-01-55-00_combined.dat \n",
        "I am on file 788 with filename LC_70702-01-44-01_combined.dat \n",
        "dt_min: 0.00781249999989"
       ]
      },
      {
       "output_type": "stream",
       "stream": "stdout",
       "text": [
        "\n",
        "len(da[0]): 313215\n",
        "Feature shape: (35, 910)"
       ]
      },
      {
       "output_type": "stream",
       "stream": "stdout",
       "text": [
        "\n",
        "I am on file 789 with filename LC_10408-01-16-00_combined.dat \n",
        "I am on file 790 with filename LC_10408-01-17-01_combined.dat \n",
        "I am on file 791 with filename LC_80701-01-47-00_combined.dat \n",
        "dt_min: 0.00781249999909"
       ]
      },
      {
       "output_type": "stream",
       "stream": "stdout",
       "text": [
        "\n",
        "len(da[0]): 409598\n",
        "len(da[0]): 411647\n",
        "Feature shape: (93, 910)"
       ]
      },
      {
       "output_type": "stream",
       "stream": "stdout",
       "text": [
        "\n",
        "I am on file 792 with filename LC_50703-01-31-01_combined.dat \n",
        "dt_min: 0.00781249999994"
       ]
      },
      {
       "output_type": "stream",
       "stream": "stdout",
       "text": [
        "\n",
        "len(da[0]): 122878\n",
        "len(da[0]): 81919\n",
        "Feature shape: (17, 910)"
       ]
      },
      {
       "output_type": "stream",
       "stream": "stdout",
       "text": [
        "\n",
        "I am on file 793 with filename LC_80701-01-52-01_combined.dat \n",
        "dt_min: 0.00781249999989"
       ]
      },
      {
       "output_type": "stream",
       "stream": "stdout",
       "text": [
        "\n",
        "len(da[0]): 69631\n",
        "Feature shape: (5, 910)\n",
        "I am on file 794 with filename LC_30703-01-23-01_combined.dat \n",
        "dt_min: 0.00781249999989"
       ]
      },
      {
       "output_type": "stream",
       "stream": "stdout",
       "text": [
        "\n",
        "len(da[0]): 194559\n",
        "Feature shape: (20, 910)"
       ]
      },
      {
       "output_type": "stream",
       "stream": "stdout",
       "text": [
        "\n",
        "I am on file 795 with filename LC_90105-04-03-00_combined.dat \n",
        "dt_min: 0.00390624999989"
       ]
      },
      {
       "output_type": "stream",
       "stream": "stdout",
       "text": [
        "\n",
        "len(da[0]): 827391\n",
        "Feature shape: (47, 910)"
       ]
      },
      {
       "output_type": "stream",
       "stream": "stdout",
       "text": [
        "\n",
        "I am on file 796 with filename LC_20402-01-43-00_combined.dat \n",
        "dt_min: 0.00781249999818"
       ]
      },
      {
       "output_type": "stream",
       "stream": "stdout",
       "text": [
        "\n",
        "len(da[0]): 163965\n",
        "len(da[0]): 262014\n",
        "len(da[0]): 428031\n",
        "Feature shape: (94, 910)"
       ]
      },
      {
       "output_type": "stream",
       "stream": "stdout",
       "text": [
        "\n",
        "I am on file 797 with filename LC_70702-01-17-00_combined.dat \n",
        "dt_min: 0.00781249999994"
       ]
      },
      {
       "output_type": "stream",
       "stream": "stdout",
       "text": [
        "\n",
        "len(da[0]): 116735\n",
        "Feature shape: (11, 910)"
       ]
      },
      {
       "output_type": "stream",
       "stream": "stdout",
       "text": [
        "\n",
        "I am on file 798 with filename LC_40702-01-01-00_combined.dat \n",
        "dt_min: 0.0078125"
       ]
      },
      {
       "output_type": "stream",
       "stream": "stdout",
       "text": [
        "\n",
        "len(da[0]): 187902\n",
        "len(da[0]): 404478\n",
        "len(da[0]): 26621\n",
        "len(da[0]): 202751\n",
        "Feature shape: (86, 910)"
       ]
      },
      {
       "output_type": "stream",
       "stream": "stdout",
       "text": [
        "\n",
        "I am on file 799 with filename LC_40703-01-23-01_combined.dat \n",
        "dt_min: 0.00781249999989"
       ]
      },
      {
       "output_type": "stream",
       "stream": "stdout",
       "text": [
        "\n",
        "len(da[0]): 292862\n",
        "len(da[0]): 38783\n",
        "Feature shape: (33, 910)"
       ]
      },
      {
       "output_type": "stream",
       "stream": "stdout",
       "text": [
        "\n",
        "I am on file 800 with filename LC_94701-01-25-00_combined.dat \n",
        "dt_min: 0.00781249999977"
       ]
      },
      {
       "output_type": "stream",
       "stream": "stdout",
       "text": [
        "\n",
        "len(da[0]): 417791\n",
        "Feature shape: (47, 910)"
       ]
      },
      {
       "output_type": "stream",
       "stream": "stdout",
       "text": [
        "\n",
        "I am on file 801 with filename LC_90701-01-35-00_combined.dat \n",
        "dt_min: 0.00781249999994"
       ]
      },
      {
       "output_type": "stream",
       "stream": "stdout",
       "text": [
        "\n",
        "len(da[0]): 83967\n",
        "Feature shape: (7, 910)\n",
        "I am on file 802 with filename LC_10408-01-14-01_combined.dat \n",
        "I am on file 803 with filename LC_40703-01-08-00_combined.dat \n",
        "dt_min: 0.00781249999989"
       ]
      },
      {
       "output_type": "stream",
       "stream": "stdout",
       "text": [
        "\n",
        "len(da[0]): 166014\n",
        "len(da[0]): 135677\n",
        "len(da[0]): 85374\n",
        "Feature shape: (37, 910)"
       ]
      },
      {
       "output_type": "stream",
       "stream": "stdout",
       "text": [
        "\n",
        "I am on file 804 with filename LC_92702-01-02-00_combined.dat \n",
        "dt_min: 0.00781249999989"
       ]
      },
      {
       "output_type": "stream",
       "stream": "stdout",
       "text": [
        "\n",
        "len(da[0]): 278527\n",
        "Feature shape: (30, 910)"
       ]
      },
      {
       "output_type": "stream",
       "stream": "stdout",
       "text": [
        "\n",
        "I am on file 805 with filename LC_40115-01-10-02_combined.dat \n",
        "dt_min: 0.00781249999989"
       ]
      },
      {
       "output_type": "stream",
       "stream": "stdout",
       "text": [
        "\n",
        "len(da[0]): 227327\n",
        "Feature shape: (24, 910)"
       ]
      },
      {
       "output_type": "stream",
       "stream": "stdout",
       "text": [
        "\n",
        "I am on file 806 with filename LC_92702-01-21-02_combined.dat \n",
        "dt_min: 0.00781249999989"
       ]
      },
      {
       "output_type": "stream",
       "stream": "stdout",
       "text": [
        "\n",
        "len(da[0]): 79359\n",
        "Feature shape: (6, 910)\n",
        "I am on file 807 with filename LC_60702-01-01-12_combined.dat \n",
        "dt_min: 0.00781249999989"
       ]
      },
      {
       "output_type": "stream",
       "stream": "stdout",
       "text": [
        "\n",
        "len(da[0]): 409599\n",
        "Feature shape: (46, 910)"
       ]
      },
      {
       "output_type": "stream",
       "stream": "stdout",
       "text": [
        "\n",
        "I am on file 808 with filename LC_40703-01-06-00_combined.dat \n",
        "dt_min: 0.00781249999818"
       ]
      },
      {
       "output_type": "stream",
       "stream": "stdout",
       "text": [
        "\n",
        "len(da[0]): 417790\n",
        "len(da[0]): 282750\n",
        "len(da[0]): 133629\n",
        "len(da[0]): 71294\n",
        "len(da[0]): 349566\n",
        "Feature shape: (135, 910)"
       ]
      },
      {
       "output_type": "stream",
       "stream": "stdout",
       "text": [
        "\n",
        "I am on file 809 with filename LC_70702-01-28-00_combined.dat \n",
        "dt_min: 0.00781249999989"
       ]
      },
      {
       "output_type": "stream",
       "stream": "stdout",
       "text": [
        "\n",
        "len(da[0]): 275583\n",
        "Feature shape: (30, 910)"
       ]
      },
      {
       "output_type": "stream",
       "stream": "stdout",
       "text": [
        "\n",
        "I am on file 810 with filename LC_40703-01-23-00_combined.dat \n",
        "dt_min: 0.00781249999989"
       ]
      },
      {
       "output_type": "stream",
       "stream": "stdout",
       "text": [
        "\n",
        "len(da[0]): 58494\n",
        "len(da[0]): 229246\n",
        "Feature shape: (28, 910)"
       ]
      },
      {
       "output_type": "stream",
       "stream": "stdout",
       "text": [
        "\n",
        "I am on file 811 with filename LC_20402-01-27-03_combined.dat \n",
        "I am on file 812 with filename LC_96701-01-35-00_combined.dat \n",
        "dt_min: 0.00781249999989"
       ]
      },
      {
       "output_type": "stream",
       "stream": "stdout",
       "text": [
        "\n",
        "len(da[0]): 191999\n",
        "Feature shape: (20, 910)"
       ]
      },
      {
       "output_type": "stream",
       "stream": "stdout",
       "text": [
        "\n",
        "I am on file 813 with filename LC_91701-01-75-00_combined.dat \n",
        "dt_min: 0.00781249999989"
       ]
      },
      {
       "output_type": "stream",
       "stream": "stdout",
       "text": [
        "\n",
        "len(da[0]): 411647\n",
        "Feature shape: (47, 910)"
       ]
      },
      {
       "output_type": "stream",
       "stream": "stdout",
       "text": [
        "\n",
        "I am on file 814 with filename LC_93411-01-03-00_combined.dat \n",
        "dt_min: 0.00781249999989"
       ]
      },
      {
       "output_type": "stream",
       "stream": "stdout",
       "text": [
        "\n",
        "len(da[0]): 163838\n",
        "len(da[0]): 102399\n",
        "Feature shape: (25, 910)"
       ]
      },
      {
       "output_type": "stream",
       "stream": "stdout",
       "text": [
        "\n",
        "I am on file 815 with filename LC_40703-01-34-01_combined.dat \n",
        "dt_min: 0.00781249999989"
       ]
      },
      {
       "output_type": "stream",
       "stream": "stdout",
       "text": [
        "\n",
        "len(da[0]): 142335\n",
        "Feature shape: (14, 910)"
       ]
      },
      {
       "output_type": "stream",
       "stream": "stdout",
       "text": [
        "\n",
        "I am on file 816 with filename LC_90701-01-36-01_combined.dat \n",
        "dt_min: 0.00781249999989"
       ]
      },
      {
       "output_type": "stream",
       "stream": "stdout",
       "text": [
        "\n",
        "len(da[0]): 145407\n",
        "Feature shape: (14, 910)"
       ]
      },
      {
       "output_type": "stream",
       "stream": "stdout",
       "text": [
        "\n",
        "I am on file 817 with filename LC_30402-01-20-00_combined.dat \n",
        "dt_min: 0.00781249999989"
       ]
      },
      {
       "output_type": "stream",
       "stream": "stdout",
       "text": [
        "\n",
        "len(da[0]): 290814\n",
        "len(da[0]): 509\n",
        "len(da[0]): 245758\n",
        "len(da[0]): 10238\n",
        "Feature shape: (58, 910)"
       ]
      },
      {
       "output_type": "stream",
       "stream": "stdout",
       "text": [
        "\n",
        "I am on file 818 with filename LC_94701-01-54-00_combined.dat \n",
        "dt_min: 0.00781249999989"
       ]
      },
      {
       "output_type": "stream",
       "stream": "stdout",
       "text": [
        "\n",
        "len(da[0]): 309247\n",
        "Feature shape: (34, 910)"
       ]
      },
      {
       "output_type": "stream",
       "stream": "stdout",
       "text": [
        "\n",
        "I am on file 819 with filename LC_10408-01-24-00_combined.dat \n",
        "I am on file 820 with filename LC_40703-01-35-01_combined.dat \n",
        "dt_min: 0.00781249999989"
       ]
      },
      {
       "output_type": "stream",
       "stream": "stdout",
       "text": [
        "\n",
        "len(da[0]): 159742\n",
        "len(da[0]): 38910\n",
        "len(da[0]): 141310\n",
        "len(da[0]): 83839\n",
        "Feature shape: (38, 910)"
       ]
      },
      {
       "output_type": "stream",
       "stream": "stdout",
       "text": [
        "\n",
        "I am on file 821 with filename LC_93701-01-17-00_combined.dat \n",
        "dt_min: 0.00781249999989"
       ]
      },
      {
       "output_type": "stream",
       "stream": "stdout",
       "text": [
        "\n",
        "len(da[0]): 135167\n",
        "Feature shape: (13, 910)"
       ]
      },
      {
       "output_type": "stream",
       "stream": "stdout",
       "text": [
        "\n",
        "I am on file 822 with filename LC_95701-01-25-01_combined.dat \n",
        "dt_min: 0.00781249999977"
       ]
      },
      {
       "output_type": "stream",
       "stream": "stdout",
       "text": [
        "\n",
        "len(da[0]): 192511\n",
        "Feature shape: (20, 910)"
       ]
      },
      {
       "output_type": "stream",
       "stream": "stdout",
       "text": [
        "\n",
        "I am on file 823 with filename LC_40703-01-17-01_combined.dat \n",
        "dt_min: 0.00781249999989"
       ]
      },
      {
       "output_type": "stream",
       "stream": "stdout",
       "text": [
        "\n",
        "len(da[0]): 278526\n",
        "len(da[0]): 421887\n",
        "Feature shape: (78, 910)"
       ]
      },
      {
       "output_type": "stream",
       "stream": "stdout",
       "text": [
        "\n",
        "I am on file 824 with filename LC_50703-01-03-01_combined.dat \n",
        "dt_min: 0.00781249999994"
       ]
      },
      {
       "output_type": "stream",
       "stream": "stdout",
       "text": [
        "\n",
        "len(da[0]): 110591\n",
        "Feature shape: (10, 910)"
       ]
      },
      {
       "output_type": "stream",
       "stream": "stdout",
       "text": [
        "\n",
        "I am on file 825 with filename LC_90701-01-07-01_combined.dat \n",
        "dt_min: 0.00781249999989"
       ]
      },
      {
       "output_type": "stream",
       "stream": "stdout",
       "text": [
        "\n",
        "len(da[0]): 155647\n",
        "Feature shape: (15, 910)"
       ]
      },
      {
       "output_type": "stream",
       "stream": "stdout",
       "text": [
        "\n",
        "I am on file 826 with filename LC_94701-01-07-00_combined.dat \n",
        "dt_min: 0.00781249999977"
       ]
      },
      {
       "output_type": "stream",
       "stream": "stdout",
       "text": [
        "\n",
        "len(da[0]): 407551\n",
        "Feature shape: (46, 910)"
       ]
      },
      {
       "output_type": "stream",
       "stream": "stdout",
       "text": [
        "\n",
        "I am on file 827 with filename LC_50703-01-63-00_combined.dat \n",
        "dt_min: 0.00781249999909"
       ]
      },
      {
       "output_type": "stream",
       "stream": "stdout",
       "text": [
        "\n",
        "len(da[0]): 348158\n",
        "len(da[0]): 411646\n",
        "len(da[0]): 335871\n",
        "Feature shape: (123, 910)"
       ]
      },
      {
       "output_type": "stream",
       "stream": "stdout",
       "text": [
        "\n",
        "I am on file 828 with filename LC_60405-01-04-03_combined.dat \n",
        "dt_min: 0.00781249999999"
       ]
      },
      {
       "output_type": "stream",
       "stream": "stdout",
       "text": [
        "\n",
        "len(da[0]): 24574\n",
        "len(da[0]): 43007\n",
        "Feature shape: (2, 910)\n",
        "I am on file 829 with filename LC_80701-01-17-01_combined.dat \n",
        "dt_min: 0.00781249999989"
       ]
      },
      {
       "output_type": "stream",
       "stream": "stdout",
       "text": [
        "\n",
        "len(da[0]): 133119\n",
        "Feature shape: (13, 910)"
       ]
      },
      {
       "output_type": "stream",
       "stream": "stdout",
       "text": [
        "\n",
        "I am on file 830 with filename LC_50703-01-38-00_combined.dat \n",
        "dt_min: 0.00781249999989"
       ]
      },
      {
       "output_type": "stream",
       "stream": "stdout",
       "text": [
        "\n",
        "len(da[0]): 411647\n",
        "Feature shape: (47, 910)"
       ]
      },
      {
       "output_type": "stream",
       "stream": "stdout",
       "text": [
        "\n",
        "I am on file 831 with filename LC_90701-01-06-00_combined.dat \n",
        "dt_min: 0.00781249999989"
       ]
      },
      {
       "output_type": "stream",
       "stream": "stdout",
       "text": [
        "\n",
        "len(da[0]): 176127\n",
        "Feature shape: (18, 910)"
       ]
      },
      {
       "output_type": "stream",
       "stream": "stdout",
       "text": [
        "\n",
        "I am on file 832 with filename LC_91701-01-11-00_combined.dat \n",
        "dt_min: 0.00781249999909"
       ]
      },
      {
       "output_type": "stream",
       "stream": "stdout",
       "text": [
        "\n",
        "len(da[0]): 327678\n",
        "len(da[0]): 43006\n",
        "len(da[0]): 365565\n",
        "len(da[0]): 305151\n",
        "Feature shape: (113, 910)"
       ]
      },
      {
       "output_type": "stream",
       "stream": "stdout",
       "text": [
        "\n",
        "I am on file 833 with filename LC_20402-01-40-00_combined.dat \n",
        "I am on file 834 with filename LC_70702-01-25-01_combined.dat \n",
        "dt_min: 0.00781249999999"
       ]
      },
      {
       "output_type": "stream",
       "stream": "stdout",
       "text": [
        "\n",
        "len(da[0]): 118783\n",
        "Feature shape: (11, 910)"
       ]
      },
      {
       "output_type": "stream",
       "stream": "stdout",
       "text": [
        "\n",
        "I am on file 835 with filename LC_93701-01-27-00_combined.dat \n",
        "dt_min: 0.00781249999989"
       ]
      },
      {
       "output_type": "stream",
       "stream": "stdout",
       "text": [
        "\n",
        "len(da[0]): 270335\n",
        "Feature shape: (29, 910)"
       ]
      },
      {
       "output_type": "stream",
       "stream": "stdout",
       "text": [
        "\n",
        "I am on file 836 with filename LC_93701-01-41-00_combined.dat \n",
        "dt_min: 0.00781249999989"
       ]
      },
      {
       "output_type": "stream",
       "stream": "stdout",
       "text": [
        "\n",
        "len(da[0]): 227327\n",
        "Feature shape: (24, 910)"
       ]
      },
      {
       "output_type": "stream",
       "stream": "stdout",
       "text": [
        "\n",
        "I am on file 837 with filename LC_90105-02-01-00_combined.dat \n",
        "dt_min: 0.00390624999989"
       ]
      },
      {
       "output_type": "stream",
       "stream": "stdout",
       "text": [
        "\n",
        "len(da[0]): 406271\n",
        "Feature shape: (21, 910)"
       ]
      },
      {
       "output_type": "stream",
       "stream": "stdout",
       "text": [
        "\n",
        "I am on file 838 with filename LC_80701-01-44-02_combined.dat \n",
        "dt_min: 0.00781249999994"
       ]
      },
      {
       "output_type": "stream",
       "stream": "stdout",
       "text": [
        "\n",
        "len(da[0]): 92031\n",
        "Feature shape: (8, 910)\n",
        "I am on file 839 with filename LC_91701-01-45-00_combined.dat \n",
        "dt_min: 0.00781249999989"
       ]
      },
      {
       "output_type": "stream",
       "stream": "stdout",
       "text": [
        "\n",
        "len(da[0]): 86015\n",
        "Feature shape: (7, 910)\n",
        "I am on file 840 with filename LC_91701-01-05-01_combined.dat \n",
        "dt_min: 0.00781249999989"
       ]
      },
      {
       "output_type": "stream",
       "stream": "stdout",
       "text": [
        "\n",
        "len(da[0]): 290815\n",
        "Feature shape: (32, 910)"
       ]
      },
      {
       "output_type": "stream",
       "stream": "stdout",
       "text": [
        "\n",
        "I am on file 841 with filename LC_40115-01-05-00_combined.dat \n",
        "dt_min: 0.00781249999999"
       ]
      },
      {
       "output_type": "stream",
       "stream": "stdout",
       "text": [
        "\n",
        "len(da[0]): 5118\n",
        "len(da[0]): 7677\n",
        "len(da[0]): 2045\n",
        "len(da[0]): 1533\n",
        "len(da[0]): 17405\n",
        "len(da[0]): 7165\n",
        "len(da[0]): 1533\n",
        "len(da[0]): 14845\n",
        "len(da[0]): 7677\n",
        "len(da[0]): 4605\n",
        "len(da[0]): 14845\n",
        "len(da[0]): 3581\n",
        "len(da[0]): 3069\n",
        "len(da[0]): 24573\n",
        "len(da[0]): 509\n",
        "len(da[0]): 1533\n",
        "len(da[0]): 8189\n",
        "len(da[0]): 2557\n",
        "len(da[0]): 4093\n",
        "len(da[0]): 12797\n",
        "len(da[0]): 52221\n",
        "len(da[0]): 1021\n",
        "len(da[0]): 1789\n",
        "len(da[0]): 5629\n",
        "len(da[0]): 4093\n",
        "len(da[0]): 300798\n",
        "len(da[0]): 122110\n",
        "Feature shape: (47, 910)"
       ]
      },
      {
       "output_type": "stream",
       "stream": "stdout",
       "text": [
        "\n",
        "I am on file 842 with filename LC_92702-01-02-01_combined.dat \n",
        "dt_min: 0.00781249999989"
       ]
      },
      {
       "output_type": "stream",
       "stream": "stdout",
       "text": [
        "\n",
        "len(da[0]): 280575\n",
        "Feature shape: (31, 910)"
       ]
      },
      {
       "output_type": "stream",
       "stream": "stdout",
       "text": [
        "\n",
        "I am on file 843 with filename LC_93701-01-17-01_combined.dat \n",
        "dt_min: 0.00781249999989"
       ]
      },
      {
       "output_type": "stream",
       "stream": "stdout",
       "text": [
        "\n",
        "len(da[0]): 165887\n",
        "Feature shape: (17, 910)"
       ]
      },
      {
       "output_type": "stream",
       "stream": "stdout",
       "text": [
        "\n",
        "I am on file 844 with filename LC_90024-02-10-00_combined.dat \n",
        "dt_min: 0.00390624999999"
       ]
      },
      {
       "output_type": "stream",
       "stream": "stdout",
       "text": [
        "\n",
        "len(da[0]): 98303\n",
        "Feature shape: (2, 910)\n",
        "I am on file 845 with filename LC_92702-01-32-01_combined.dat \n",
        "dt_min: 0.00781249999989"
       ]
      },
      {
       "output_type": "stream",
       "stream": "stdout",
       "text": [
        "\n",
        "len(da[0]): 114047\n",
        "Feature shape: (10, 910)\n",
        "I am on file 846 with filename LC_40116-01-01-01_combined.dat \n",
        "dt_min: 0.00781249999989"
       ]
      },
      {
       "output_type": "stream",
       "stream": "stdout",
       "text": [
        "\n",
        "len(da[0]): 225023\n",
        "Feature shape: (24, 910)"
       ]
      },
      {
       "output_type": "stream",
       "stream": "stdout",
       "text": [
        "\n",
        "I am on file 847 with filename LC_90105-03-03-00_combined.dat \n",
        "dt_min: 0.00390624999989"
       ]
      },
      {
       "output_type": "stream",
       "stream": "stdout",
       "text": [
        "\n",
        "len(da[0]): 563711\n",
        "Feature shape: (31, 910)"
       ]
      },
      {
       "output_type": "stream",
       "stream": "stdout",
       "text": [
        "\n",
        "I am on file 848 with filename LC_40116-01-06-00_combined.dat \n",
        "dt_min: 0.00781249999989"
       ]
      },
      {
       "output_type": "stream",
       "stream": "stdout",
       "text": [
        "\n",
        "len(da[0]): 319486\n",
        "len(da[0]): 407550\n",
        "len(da[0]): 339838\n",
        "len(da[0]): 64638\n",
        "Feature shape: (123, 910)"
       ]
      },
      {
       "output_type": "stream",
       "stream": "stdout",
       "text": [
        "\n",
        "I am on file 849 with filename LC_20186-03-01-03_combined.dat \n",
        "dt_min: 0.00781249999977"
       ]
      },
      {
       "output_type": "stream",
       "stream": "stdout",
       "text": [
        "\n",
        "len(da[0]): 434175\n",
        "Feature shape: (49, 910)"
       ]
      },
      {
       "output_type": "stream",
       "stream": "stdout",
       "text": [
        "\n",
        "I am on file 850 with filename LC_30402-01-12-00_combined.dat \n",
        "dt_min: 0.00781249999989"
       ]
      },
      {
       "output_type": "stream",
       "stream": "stdout",
       "text": [
        "\n",
        "len(da[0]): 294911\n",
        "Feature shape: (32, 910)"
       ]
      },
      {
       "output_type": "stream",
       "stream": "stdout",
       "text": [
        "\n",
        "I am on file 851 with filename LC_92702-01-14-00_combined.dat \n",
        "dt_min: 0.00781249999989"
       ]
      },
      {
       "output_type": "stream",
       "stream": "stdout",
       "text": [
        "\n",
        "len(da[0]): 96255\n",
        "Feature shape: (8, 910)\n",
        "I am on file 852 with filename LC_96701-01-10-00_combined.dat \n",
        "dt_min: 0.00781249999977"
       ]
      },
      {
       "output_type": "stream",
       "stream": "stdout",
       "text": [
        "\n",
        "len(da[0]): 272383\n",
        "Feature shape: (30, 910)"
       ]
      },
      {
       "output_type": "stream",
       "stream": "stdout",
       "text": [
        "\n",
        "I am on file 853 with filename LC_30703-01-22-01_combined.dat \n",
        "dt_min: 0.00781249999989"
       ]
      },
      {
       "output_type": "stream",
       "stream": "stdout",
       "text": [
        "\n",
        "len(da[0]): 275711\n",
        "Feature shape: (30, 910)"
       ]
      },
      {
       "output_type": "stream",
       "stream": "stdout",
       "text": [
        "\n",
        "I am on file 854 with filename LC_92702-01-06-01_combined.dat \n",
        "dt_min: 0.00781249999989"
       ]
      },
      {
       "output_type": "stream",
       "stream": "stdout",
       "text": [
        "\n",
        "len(da[0]): 29053\n",
        "len(da[0]): 70271\n",
        "Feature shape: (5, 910)\n",
        "I am on file 855 with filename LC_91701-01-86-01_combined.dat \n",
        "dt_min: 0.00781249999989"
       ]
      },
      {
       "output_type": "stream",
       "stream": "stdout",
       "text": [
        "\n",
        "len(da[0]): 108543\n",
        "Feature shape: (10, 910)\n",
        "I am on file 856 with filename LC_50703-01-13-03_combined.dat \n",
        "dt_min: 0.00781249999994"
       ]
      },
      {
       "output_type": "stream",
       "stream": "stdout",
       "text": [
        "\n",
        "len(da[0]): 83711\n",
        "Feature shape: (7, 910)\n",
        "I am on file 857 with filename LC_90105-06-03-02_combined.dat \n",
        "dt_min: 0.00390624999989"
       ]
      },
      {
       "output_type": "stream",
       "stream": "stdout",
       "text": [
        "\n",
        "len(da[0]): 491519\n",
        "Feature shape: (26, 910)"
       ]
      },
      {
       "output_type": "stream",
       "stream": "stdout",
       "text": [
        "\n",
        "I am on file 858 with filename LC_80701-01-56-00_combined.dat \n",
        "dt_min: 0.00781249999989"
       ]
      },
      {
       "output_type": "stream",
       "stream": "stdout",
       "text": [
        "\n",
        "len(da[0]): 409598\n",
        "len(da[0]): 409598\n",
        "len(da[0]): 409599\n",
        "Feature shape: (138, 910)"
       ]
      },
      {
       "output_type": "stream",
       "stream": "stdout",
       "text": [
        "\n",
        "I am on file 859 with filename LC_50703-01-60-01_combined.dat \n",
        "dt_min: 0.00781249999989"
       ]
      },
      {
       "output_type": "stream",
       "stream": "stdout",
       "text": [
        "\n",
        "len(da[0]): 151551\n",
        "Feature shape: (15, 910)"
       ]
      },
      {
       "output_type": "stream",
       "stream": "stdout",
       "text": [
        "\n",
        "I am on file 860 with filename LC_91701-01-73-00_combined.dat \n",
        "dt_min: 0.00781249999989"
       ]
      },
      {
       "output_type": "stream",
       "stream": "stdout",
       "text": [
        "\n",
        "len(da[0]): 364543\n",
        "Feature shape: (41, 910)"
       ]
      },
      {
       "output_type": "stream",
       "stream": "stdout",
       "text": [
        "\n",
        "I am on file 861 with filename LC_70703-01-01-01_combined.dat \n",
        "dt_min: 0.00781249999989"
       ]
      },
      {
       "output_type": "stream",
       "stream": "stdout",
       "text": [
        "\n",
        "len(da[0]): 140670\n",
        "len(da[0]): 288766\n",
        "len(da[0]): 245759\n",
        "Feature shape: (72, 910)"
       ]
      },
      {
       "output_type": "stream",
       "stream": "stdout",
       "text": [
        "\n",
        "I am on file 862 with filename LC_20402-01-53-02_combined.dat \n",
        "dt_min: 0.00781249999989"
       ]
      },
      {
       "output_type": "stream",
       "stream": "stdout",
       "text": [
        "\n",
        "len(da[0]): 118653\n",
        "len(da[0]): 252030\n",
        "len(da[0]): 135038\n",
        "Feature shape: (51, 910)"
       ]
      },
      {
       "output_type": "stream",
       "stream": "stdout",
       "text": [
        "\n",
        "I am on file 863 with filename LC_96701-01-45-00_combined.dat \n",
        "dt_min: 0.00781249999977"
       ]
      },
      {
       "output_type": "stream",
       "stream": "stdout",
       "text": [
        "\n",
        "len(da[0]): 70014\n",
        "len(da[0]): 168574\n",
        "Feature shape: (22, 910)"
       ]
      },
      {
       "output_type": "stream",
       "stream": "stdout",
       "text": [
        "\n",
        "I am on file 864 with filename LC_80701-01-59-02_combined.dat \n",
        "dt_min: 0.00781249999989"
       ]
      },
      {
       "output_type": "stream",
       "stream": "stdout",
       "text": [
        "\n",
        "len(da[0]): 102399\n",
        "Feature shape: (9, 910)\n",
        "I am on file 865 with filename LC_96701-01-37-00_combined.dat \n",
        "dt_min: 0.00781249999989"
       ]
      },
      {
       "output_type": "stream",
       "stream": "stdout",
       "text": [
        "\n",
        "len(da[0]): 202751\n",
        "Feature shape: (21, 910)"
       ]
      },
      {
       "output_type": "stream",
       "stream": "stdout",
       "text": [
        "\n",
        "I am on file 866 with filename LC_50703-01-21-01_combined.dat \n",
        "dt_min: 0.00781249999989"
       ]
      },
      {
       "output_type": "stream",
       "stream": "stdout",
       "text": [
        "\n",
        "len(da[0]): 303103\n",
        "Feature shape: (33, 910)"
       ]
      },
      {
       "output_type": "stream",
       "stream": "stdout",
       "text": [
        "\n",
        "I am on file 867 with filename LC_60701-01-17-01_combined.dat \n",
        "dt_min: 0.00781249999994"
       ]
      },
      {
       "output_type": "stream",
       "stream": "stdout",
       "text": [
        "\n",
        "len(da[0]): 131071\n",
        "Feature shape: (12, 910)"
       ]
      },
      {
       "output_type": "stream",
       "stream": "stdout",
       "text": [
        "\n",
        "I am on file 868 with filename LC_60701-01-29-00_combined.dat \n",
        "dt_min: 0.00781249999999"
       ]
      },
      {
       "output_type": "stream",
       "stream": "stdout",
       "text": [
        "\n",
        "len(da[0]): 57342\n",
        "len(da[0]): 124286\n",
        "len(da[0]): 71678\n",
        "len(da[0]): 79871\n",
        "Feature shape: (26, 910)"
       ]
      },
      {
       "output_type": "stream",
       "stream": "stdout",
       "text": [
        "\n",
        "I am on file 869 with filename LC_90024-02-21-00_combined.dat \n",
        "dt_min: 0.00390624999999"
       ]
      },
      {
       "output_type": "stream",
       "stream": "stdout",
       "text": [
        "\n",
        "len(da[0]): 249855\n",
        "Feature shape: (12, 910)"
       ]
      },
      {
       "output_type": "stream",
       "stream": "stdout",
       "text": [
        "\n",
        "I am on file 870 with filename LC_50125-01-04-00_combined.dat \n",
        "dt_min: 0.00781249999818"
       ]
      },
      {
       "output_type": "stream",
       "stream": "stdout",
       "text": [
        "\n",
        "len(da[0]): 405502\n",
        "len(da[0]): 397310\n",
        "len(da[0]): 411647\n",
        "Feature shape: (138, 910)"
       ]
      },
      {
       "output_type": "stream",
       "stream": "stdout",
       "text": [
        "\n",
        "I am on file 871 with filename LC_95701-01-26-00_combined.dat \n",
        "dt_min: 0.00781249999977"
       ]
      },
      {
       "output_type": "stream",
       "stream": "stdout",
       "text": [
        "\n",
        "len(da[0]): 40830\n",
        "len(da[0]): 189566\n",
        "Feature shape: (21, 910)"
       ]
      },
      {
       "output_type": "stream",
       "stream": "stdout",
       "text": [
        "\n",
        "I am on file 872 with filename LC_95701-01-08-01_combined.dat \n",
        "dt_min: 0.00781249999977"
       ]
      },
      {
       "output_type": "stream",
       "stream": "stdout",
       "text": [
        "\n",
        "len(da[0]): 165887\n",
        "Feature shape: (17, 910)"
       ]
      },
      {
       "output_type": "stream",
       "stream": "stdout",
       "text": [
        "\n",
        "I am on file 873 with filename LC_10408-01-22-01_combined.dat \n",
        "I am on file 874 with filename LC_90105-04-02-00_combined.dat \n",
        "dt_min: 0.00390624999909"
       ]
      },
      {
       "output_type": "stream",
       "stream": "stdout",
       "text": [
        "\n",
        "len(da[0]): 823294\n",
        "len(da[0]): 827390\n",
        "len(da[0]): 815103"
       ]
      },
      {
       "output_type": "stream",
       "stream": "stdout",
       "text": [
        "\n",
        "Feature shape: (140, 910)"
       ]
      },
      {
       "output_type": "stream",
       "stream": "stdout",
       "text": [
        "\n",
        "I am on file 875 with filename LC_10408-01-11-00_combined.dat \n",
        "I am on file 876 with filename LC_40116-01-07-01_combined.dat \n",
        "dt_min: 0.00781249999989"
       ]
      },
      {
       "output_type": "stream",
       "stream": "stdout",
       "text": [
        "\n",
        "len(da[0]): 299006\n",
        "len(da[0]): 405503\n",
        "Feature shape: (79, 910)"
       ]
      },
      {
       "output_type": "stream",
       "stream": "stdout",
       "text": [
        "\n",
        "I am on file 877 with filename LC_90105-10-07-00_combined.dat \n",
        "dt_min: 0.00390624999989"
       ]
      },
      {
       "output_type": "stream",
       "stream": "stdout",
       "text": [
        "\n",
        "len(da[0]): 450559\n",
        "Feature shape: (24, 910)"
       ]
      },
      {
       "output_type": "stream",
       "stream": "stdout",
       "text": [
        "\n",
        "I am on file 878 with filename LC_90701-01-40-00_combined.dat \n",
        "dt_min: 0.00781249999989"
       ]
      },
      {
       "output_type": "stream",
       "stream": "stdout",
       "text": [
        "\n",
        "len(da[0]): 356351\n",
        "Feature shape: (40, 910)"
       ]
      },
      {
       "output_type": "stream",
       "stream": "stdout",
       "text": [
        "\n",
        "I am on file 879 with filename LC_90105-05-03-00_combined.dat \n",
        "dt_min: 0.00390624999989"
       ]
      },
      {
       "output_type": "stream",
       "stream": "stdout",
       "text": [
        "\n",
        "len(da[0]): 454655\n",
        "Feature shape: (24, 910)"
       ]
      },
      {
       "output_type": "stream",
       "stream": "stdout",
       "text": [
        "\n",
        "I am on file 880 with filename LC_94701-01-59-00_combined.dat \n",
        "dt_min: 0.00781249999989"
       ]
      },
      {
       "output_type": "stream",
       "stream": "stdout",
       "text": [
        "\n",
        "len(da[0]): 207360\n",
        "Feature shape: (22, 910)"
       ]
      },
      {
       "output_type": "stream",
       "stream": "stdout",
       "text": [
        "\n",
        "I am on file 881 with filename LC_80701-01-61-02_combined.dat \n",
        "dt_min: 0.00781249999989"
       ]
      },
      {
       "output_type": "stream",
       "stream": "stdout",
       "text": [
        "\n",
        "len(da[0]): 136575\n",
        "Feature shape: (13, 910)"
       ]
      },
      {
       "output_type": "stream",
       "stream": "stdout",
       "text": [
        "\n",
        "I am on file 882 with filename LC_90412-01-01-00_combined.dat \n",
        "dt_min: 0.00781249999909"
       ]
      },
      {
       "output_type": "stream",
       "stream": "stdout",
       "text": [
        "\n",
        "len(da[0]): 415742\n",
        "len(da[0]): 400382\n",
        "len(da[0]): 16381\n",
        "len(da[0]): 417790\n",
        "len(da[0]): 417790"
       ]
      },
      {
       "output_type": "stream",
       "stream": "stdout",
       "text": [
        "\n",
        "len(da[0]): 403455\n",
        "Feature shape: (232, 910)"
       ]
      },
      {
       "output_type": "stream",
       "stream": "stdout",
       "text": [
        "\n",
        "I am on file 883 with filename LC_91701-01-37-01_combined.dat \n",
        "dt_min: 0.00781249999994"
       ]
      },
      {
       "output_type": "stream",
       "stream": "stdout",
       "text": [
        "\n",
        "len(da[0]): 77823\n",
        "Feature shape: (6, 910)\n",
        "I am on file 884 with filename LC_60100-01-01-00_combined.dat \n",
        "dt_min: 0.00781249999989"
       ]
      },
      {
       "output_type": "stream",
       "stream": "stdout",
       "text": [
        "\n",
        "len(da[0]): 419839\n",
        "Feature shape: (48, 910)"
       ]
      },
      {
       "output_type": "stream",
       "stream": "stdout",
       "text": [
        "\n",
        "I am on file 885 with filename LC_30402-01-18-00_combined.dat \n",
        "dt_min: 0.00781249999989"
       ]
      },
      {
       "output_type": "stream",
       "stream": "stdout",
       "text": [
        "\n",
        "len(da[0]): 392447\n",
        "Feature shape: (44, 910)"
       ]
      },
      {
       "output_type": "stream",
       "stream": "stdout",
       "text": [
        "\n",
        "I am on file 886 with filename LC_50125-01-01-02_combined.dat \n",
        "dt_min: 0.00781249999989"
       ]
      },
      {
       "output_type": "stream",
       "stream": "stdout",
       "text": [
        "\n",
        "len(da[0]): 428031\n",
        "Feature shape: (49, 910)"
       ]
      },
      {
       "output_type": "stream",
       "stream": "stdout",
       "text": [
        "\n",
        "I am on file 887 with filename LC_96701-01-18-00_combined.dat \n",
        "dt_min: 0.00781249999977"
       ]
      },
      {
       "output_type": "stream",
       "stream": "stdout",
       "text": [
        "\n",
        "len(da[0]): 206847\n",
        "Feature shape: (22, 910)"
       ]
      },
      {
       "output_type": "stream",
       "stream": "stdout",
       "text": [
        "\n",
        "I am on file 888 with filename LC_40703-01-15-01_combined.dat \n",
        "dt_min: 0.00781249999989"
       ]
      },
      {
       "output_type": "stream",
       "stream": "stdout",
       "text": [
        "\n",
        "len(da[0]): 231423\n",
        "Feature shape: (25, 910)"
       ]
      },
      {
       "output_type": "stream",
       "stream": "stdout",
       "text": [
        "\n",
        "I am on file 889 with filename LC_91701-01-83-01_combined.dat \n",
        "dt_min: 0.00781249999989"
       ]
      },
      {
       "output_type": "stream",
       "stream": "stdout",
       "text": [
        "\n",
        "len(da[0]): 96255\n",
        "Feature shape: (8, 910)\n",
        "I am on file 890 with filename LC_60701-01-25-01_combined.dat \n",
        "dt_min: 0.00781249999989"
       ]
      },
      {
       "output_type": "stream",
       "stream": "stdout",
       "text": [
        "\n",
        "len(da[0]): 174079\n",
        "Feature shape: (18, 910)"
       ]
      },
      {
       "output_type": "stream",
       "stream": "stdout",
       "text": [
        "\n",
        "I am on file 891 with filename LC_40703-01-13-01_combined.dat \n",
        "dt_min: 0.00781249999818"
       ]
      },
      {
       "output_type": "stream",
       "stream": "stdout",
       "text": [
        "\n",
        "len(da[0]): 423934\n",
        "len(da[0]): 178174\n",
        "len(da[0]): 141311\n",
        "Feature shape: (80, 910)"
       ]
      },
      {
       "output_type": "stream",
       "stream": "stdout",
       "text": [
        "\n",
        "I am on file 892 with filename LC_50703-01-43-02_combined.dat \n",
        "dt_min: 0.00781249999989"
       ]
      },
      {
       "output_type": "stream",
       "stream": "stdout",
       "text": [
        "\n",
        "len(da[0]): 266239\n",
        "Feature shape: (29, 910)"
       ]
      },
      {
       "output_type": "stream",
       "stream": "stdout",
       "text": [
        "\n",
        "I am on file 893 with filename LC_91701-01-42-00_combined.dat \n",
        "dt_min: 0.00781249999989"
       ]
      },
      {
       "output_type": "stream",
       "stream": "stdout",
       "text": [
        "\n",
        "len(da[0]): 204798\n",
        "len(da[0]): 131071\n",
        "Feature shape: (33, 910)"
       ]
      },
      {
       "output_type": "stream",
       "stream": "stdout",
       "text": [
        "\n",
        "I am on file 894 with filename LC_40703-01-04-00_combined.dat \n",
        "dt_min: 0.00781249999909"
       ]
      },
      {
       "output_type": "stream",
       "stream": "stdout",
       "text": [
        "\n",
        "len(da[0]): 331774\n",
        "len(da[0]): 262142\n",
        "len(da[0]): 3070\n",
        "Feature shape: (65, 910)"
       ]
      },
      {
       "output_type": "stream",
       "stream": "stdout",
       "text": [
        "\n",
        "I am on file 895 with filename LC_60702-01-01-15_combined.dat \n",
        "dt_min: 0.00781249999989"
       ]
      },
      {
       "output_type": "stream",
       "stream": "stdout",
       "text": [
        "\n",
        "len(da[0]): 247807\n",
        "Feature shape: (27, 910)"
       ]
      },
      {
       "output_type": "stream",
       "stream": "stdout",
       "text": [
        "\n",
        "I am on file 896 with filename LC_90701-01-03-00_combined.dat \n",
        "dt_min: 0.00781249999989"
       ]
      },
      {
       "output_type": "stream",
       "stream": "stdout",
       "text": [
        "\n",
        "len(da[0]): 332287\n",
        "Feature shape: (37, 910)"
       ]
      },
      {
       "output_type": "stream",
       "stream": "stdout",
       "text": [
        "\n",
        "I am on file 897 with filename LC_94701-01-50-00_combined.dat \n",
        "dt_min: 0.00781249999999"
       ]
      },
      {
       "output_type": "stream",
       "stream": "stdout",
       "text": [
        "\n",
        "len(da[0]): 97919\n",
        "Feature shape: (8, 910)\n",
        "I am on file 898 with filename LC_95701-01-35-00_combined.dat \n",
        "dt_min: 0.00781249999977"
       ]
      },
      {
       "output_type": "stream",
       "stream": "stdout",
       "text": [
        "\n",
        "len(da[0]): 217087\n",
        "Feature shape: (23, 910)"
       ]
      },
      {
       "output_type": "stream",
       "stream": "stdout",
       "text": [
        "\n",
        "I am on file 899 with filename LC_80701-01-41-00_combined.dat \n",
        "dt_min: 0.00781249999989"
       ]
      },
      {
       "output_type": "stream",
       "stream": "stdout",
       "text": [
        "\n",
        "len(da[0]): 368639\n",
        "Feature shape: (41, 910)"
       ]
      },
      {
       "output_type": "stream",
       "stream": "stdout",
       "text": [
        "\n",
        "I am on file 900 with filename LC_80127-01-02-01_combined.dat \n",
        "dt_min: 0.00390624999989"
       ]
      },
      {
       "output_type": "stream",
       "stream": "stdout",
       "text": [
        "\n",
        "len(da[0]): 638975\n",
        "Feature shape: (35, 910)"
       ]
      },
      {
       "output_type": "stream",
       "stream": "stdout",
       "text": [
        "\n",
        "I am on file 901 with filename LC_30703-01-09-00_combined.dat \n",
        "dt_min: 0.00781249999989"
       ]
      },
      {
       "output_type": "stream",
       "stream": "stdout",
       "text": [
        "\n",
        "len(da[0]): 168189\n",
        "len(da[0]): 23295\n",
        "Feature shape: (17, 910)"
       ]
      },
      {
       "output_type": "stream",
       "stream": "stdout",
       "text": [
        "\n",
        "I am on file 902 with filename LC_92702-01-27-03_combined.dat \n",
        "dt_min: 0.00781249999989"
       ]
      },
      {
       "output_type": "stream",
       "stream": "stdout",
       "text": [
        "\n",
        "len(da[0]): 126975\n",
        "Feature shape: (12, 910)"
       ]
      },
      {
       "output_type": "stream",
       "stream": "stdout",
       "text": [
        "\n",
        "I am on file 903 with filename LC_96701-01-28-00_combined.dat \n",
        "dt_min: 0.00781249999999"
       ]
      },
      {
       "output_type": "stream",
       "stream": "stdout",
       "text": [
        "\n",
        "len(da[0]): 124926\n",
        "len(da[0]): 184319\n",
        "Feature shape: (31, 910)"
       ]
      },
      {
       "output_type": "stream",
       "stream": "stdout",
       "text": [
        "\n",
        "I am on file 904 with filename LC_50703-01-20-00_combined.dat \n",
        "dt_min: 0.00781249999989"
       ]
      },
      {
       "output_type": "stream",
       "stream": "stdout",
       "text": [
        "\n",
        "len(da[0]): 264191\n",
        "Feature shape: (29, 910)"
       ]
      },
      {
       "output_type": "stream",
       "stream": "stdout",
       "text": [
        "\n",
        "I am on file 905 with filename LC_95701-01-45-01_combined.dat \n",
        "dt_min: 0.00781249999977"
       ]
      },
      {
       "output_type": "stream",
       "stream": "stdout",
       "text": [
        "\n",
        "len(da[0]): 149503\n",
        "Feature shape: (15, 910)"
       ]
      },
      {
       "output_type": "stream",
       "stream": "stdout",
       "text": [
        "\n",
        "I am on file 906 with filename LC_50703-01-46-01_combined.dat \n",
        "dt_min: 0.00781249999989"
       ]
      },
      {
       "output_type": "stream",
       "stream": "stdout",
       "text": [
        "\n",
        "len(da[0]): 151551\n",
        "Feature shape: (15, 910)"
       ]
      },
      {
       "output_type": "stream",
       "stream": "stdout",
       "text": [
        "\n",
        "I am on file 907 with filename LC_90701-01-31-02_combined.dat \n",
        "dt_min: 0.00781249999994"
       ]
      },
      {
       "output_type": "stream",
       "stream": "stdout",
       "text": [
        "\n",
        "len(da[0]): 81919\n",
        "Feature shape: (6, 910)\n",
        "I am on file 908 with filename LC_10408-01-05-00_combined.dat \n",
        "dt_min: 0.00390624999977"
       ]
      },
      {
       "output_type": "stream",
       "stream": "stdout",
       "text": [
        "\n",
        "len(da[0]): 868350\n",
        "len(da[0]): 872446\n",
        "len(da[0]): 481022"
       ]
      },
      {
       "output_type": "stream",
       "stream": "stdout",
       "text": [
        "\n",
        "len(da[0]): 108798\n",
        "Feature shape: (128, 910)"
       ]
      },
      {
       "output_type": "stream",
       "stream": "stdout",
       "text": [
        "\n",
        "I am on file 909 with filename LC_50703-01-19-01_combined.dat \n",
        "dt_min: 0.00781249999989"
       ]
      },
      {
       "output_type": "stream",
       "stream": "stdout",
       "text": [
        "\n",
        "len(da[0]): 202751\n",
        "Feature shape: (21, 910)"
       ]
      },
      {
       "output_type": "stream",
       "stream": "stdout",
       "text": [
        "\n",
        "I am on file 910 with filename LC_90024-02-17-00_combined.dat \n",
        "dt_min: 0.00390624999999"
       ]
      },
      {
       "output_type": "stream",
       "stream": "stdout",
       "text": [
        "\n",
        "len(da[0]): 227071\n",
        "Feature shape: (10, 910)"
       ]
      },
      {
       "output_type": "stream",
       "stream": "stdout",
       "text": [
        "\n",
        "I am on file 911 with filename LC_96701-01-24-01_combined.dat \n",
        "dt_min: 0.00781249999977"
       ]
      },
      {
       "output_type": "stream",
       "stream": "stdout",
       "text": [
        "\n",
        "len(da[0]): 151551\n",
        "Feature shape: (15, 910)"
       ]
      },
      {
       "output_type": "stream",
       "stream": "stdout",
       "text": [
        "\n",
        "I am on file 912 with filename LC_20402-01-46-00_combined.dat \n",
        "I am on file 913 with filename LC_70702-01-49-00_combined.dat \n",
        "dt_min: 0.00781249999989"
       ]
      },
      {
       "output_type": "stream",
       "stream": "stdout",
       "text": [
        "\n",
        "len(da[0]): 411647\n",
        "Feature shape: (47, 910)"
       ]
      },
      {
       "output_type": "stream",
       "stream": "stdout",
       "text": [
        "\n",
        "I am on file 914 with filename LC_30703-01-21-00_combined.dat \n",
        "dt_min: 0.00781249999989"
       ]
      },
      {
       "output_type": "stream",
       "stream": "stdout",
       "text": [
        "\n",
        "len(da[0]): 19837\n",
        "len(da[0]): 247423\n",
        "Feature shape: (27, 910)"
       ]
      },
      {
       "output_type": "stream",
       "stream": "stdout",
       "text": [
        "\n",
        "I am on file 915 with filename LC_10258-01-07-00_combined.dat \n",
        "dt_min: 0.00390624999977"
       ]
      },
      {
       "output_type": "stream",
       "stream": "stdout",
       "text": [
        "\n",
        "len(da[0]): 561150\n",
        "len(da[0]): 827390\n",
        "len(da[0]): 790527\n",
        "Feature shape: (123, 910)"
       ]
      },
      {
       "output_type": "stream",
       "stream": "stdout",
       "text": [
        "\n",
        "I am on file 916 with filename LC_40703-01-39-01_combined.dat \n",
        "dt_min: 0.00781249999989"
       ]
      },
      {
       "output_type": "stream",
       "stream": "stdout",
       "text": [
        "\n",
        "len(da[0]): 374783\n",
        "Feature shape: (42, 910)"
       ]
      },
      {
       "output_type": "stream",
       "stream": "stdout",
       "text": [
        "\n",
        "I am on file 917 with filename LC_40703-01-41-04_combined.dat \n",
        "dt_min: 0.00781249999989"
       ]
      },
      {
       "output_type": "stream",
       "stream": "stdout",
       "text": [
        "\n",
        "len(da[0]): 188415\n",
        "Feature shape: (19, 910)"
       ]
      },
      {
       "output_type": "stream",
       "stream": "stdout",
       "text": [
        "\n",
        "I am on file 918 with filename LC_50703-01-33-00_combined.dat \n",
        "dt_min: 0.00781249999989"
       ]
      },
      {
       "output_type": "stream",
       "stream": "stdout",
       "text": [
        "\n",
        "len(da[0]): 180223\n",
        "Feature shape: (18, 910)"
       ]
      },
      {
       "output_type": "stream",
       "stream": "stdout",
       "text": [
        "\n",
        "I am on file 919 with filename LC_10408-01-19-00_combined.dat \n",
        "I am on file 920 with filename LC_50703-01-50-02_combined.dat \n",
        "dt_min: 0.00781249999989"
       ]
      },
      {
       "output_type": "stream",
       "stream": "stdout",
       "text": [
        "\n",
        "len(da[0]): 148991\n",
        "Feature shape: (15, 910)"
       ]
      },
      {
       "output_type": "stream",
       "stream": "stdout",
       "text": [
        "\n",
        "I am on file 921 with filename LC_91701-01-06-00_combined.dat \n",
        "dt_min: 0.00781249999989"
       ]
      },
      {
       "output_type": "stream",
       "stream": "stdout",
       "text": [
        "\n",
        "len(da[0]): 142975\n",
        "Feature shape: (14, 910)"
       ]
      },
      {
       "output_type": "stream",
       "stream": "stdout",
       "text": [
        "\n",
        "I am on file 922 with filename LC_90105-08-03-00_combined.dat \n",
        "dt_min: 0.00390624999818"
       ]
      },
      {
       "output_type": "stream",
       "stream": "stdout",
       "text": [
        "\n",
        "len(da[0]): 790526\n",
        "len(da[0]): 765951\n",
        "Feature shape: (88, 910)"
       ]
      },
      {
       "output_type": "stream",
       "stream": "stdout",
       "text": [
        "\n",
        "I am on file 923 with filename LC_10408-01-20-00_combined.dat \n",
        "I am on file 924 with filename LC_80701-01-28-01_combined.dat \n",
        "dt_min: 0.00781249999989"
       ]
      },
      {
       "output_type": "stream",
       "stream": "stdout",
       "text": [
        "\n",
        "len(da[0]): 194559\n",
        "Feature shape: (20, 910)"
       ]
      },
      {
       "output_type": "stream",
       "stream": "stdout",
       "text": [
        "\n",
        "I am on file 925 with filename LC_95701-01-22-00_combined.dat \n",
        "dt_min: 0.00781249999999"
       ]
      },
      {
       "output_type": "stream",
       "stream": "stdout",
       "text": [
        "\n",
        "len(da[0]): 97919\n",
        "Feature shape: (8, 910)\n",
        "I am on file 926 with filename LC_90105-01-04-01_combined.dat \n",
        "dt_min: 0.00390624999818"
       ]
      },
      {
       "output_type": "stream",
       "stream": "stdout",
       "text": [
        "\n",
        "len(da[0]): 835582\n",
        "len(da[0]): 839679\n",
        "Feature shape: (95, 910)"
       ]
      },
      {
       "output_type": "stream",
       "stream": "stdout",
       "text": [
        "\n",
        "I am on file 927 with filename LC_10408-01-09-00_combined.dat \n",
        "I am on file 928 with filename LC_94410-01-01-00_combined.dat \n",
        "dt_min: 0.00781249999989"
       ]
      },
      {
       "output_type": "stream",
       "stream": "stdout",
       "text": [
        "\n",
        "len(da[0]): 176127\n",
        "Feature shape: (18, 910)"
       ]
      },
      {
       "output_type": "stream",
       "stream": "stdout",
       "text": [
        "\n",
        "I am on file 929 with filename LC_60701-01-11-00_combined.dat \n",
        "dt_min: 0.00781249999989"
       ]
      },
      {
       "output_type": "stream",
       "stream": "stdout",
       "text": [
        "\n",
        "len(da[0]): 173311\n",
        "Feature shape: (18, 910)"
       ]
      },
      {
       "output_type": "stream",
       "stream": "stdout",
       "text": [
        "\n",
        "I am on file 930 with filename LC_90701-01-36-02_combined.dat \n",
        "dt_min: 0.00781249999994"
       ]
      },
      {
       "output_type": "stream",
       "stream": "stdout",
       "text": [
        "\n",
        "len(da[0]): 120831\n",
        "Feature shape: (11, 910)"
       ]
      },
      {
       "output_type": "stream",
       "stream": "stdout",
       "text": [
        "\n",
        "I am on file 931 with filename LC_40703-01-19-01_combined.dat \n",
        "dt_min: 0.00781249999989"
       ]
      },
      {
       "output_type": "stream",
       "stream": "stdout",
       "text": [
        "\n",
        "len(da[0]): 159742\n",
        "len(da[0]): 128766\n",
        "len(da[0]): 21758\n",
        "Feature shape: (28, 910)"
       ]
      },
      {
       "output_type": "stream",
       "stream": "stdout",
       "text": [
        "\n",
        "I am on file 932 with filename LC_80127-02-02-00_combined.dat \n",
        "dt_min: 0.00390624999989"
       ]
      },
      {
       "output_type": "stream",
       "stream": "stdout",
       "text": [
        "\n",
        "len(da[0]): 528383\n",
        "Feature shape: (29, 910)"
       ]
      },
      {
       "output_type": "stream",
       "stream": "stdout",
       "text": [
        "\n",
        "I am on file 933 with filename LC_90024-02-37-00_combined.dat \n",
        "dt_min: 0.00390624999999"
       ]
      },
      {
       "output_type": "stream",
       "stream": "stdout",
       "text": [
        "\n",
        "len(da[0]): 249855\n",
        "Feature shape: (12, 910)"
       ]
      },
      {
       "output_type": "stream",
       "stream": "stdout",
       "text": [
        "\n",
        "I am on file 934 with filename LC_90701-01-28-00_combined.dat \n",
        "dt_min: 0.00781249999989"
       ]
      },
      {
       "output_type": "stream",
       "stream": "stdout",
       "text": [
        "\n",
        "len(da[0]): 143359\n",
        "Feature shape: (14, 910)"
       ]
      },
      {
       "output_type": "stream",
       "stream": "stdout",
       "text": [
        "\n",
        "I am on file 935 with filename LC_91701-01-52-00_combined.dat \n",
        "dt_min: 0.00781249999989"
       ]
      },
      {
       "output_type": "stream",
       "stream": "stdout",
       "text": [
        "\n",
        "len(da[0]): 217087\n",
        "Feature shape: (23, 910)"
       ]
      },
      {
       "output_type": "stream",
       "stream": "stdout",
       "text": [
        "\n",
        "I am on file 936 with filename LC_94701-01-47-00_combined.dat \n",
        "dt_min: 0.00781249999977"
       ]
      },
      {
       "output_type": "stream",
       "stream": "stdout",
       "text": [
        "\n",
        "len(da[0]): 178175\n",
        "Feature shape: (18, 910)"
       ]
      },
      {
       "output_type": "stream",
       "stream": "stdout",
       "text": [
        "\n",
        "I am on file 937 with filename LC_80701-01-34-00_combined.dat \n",
        "dt_min: 0.00781249999989"
       ]
      },
      {
       "output_type": "stream",
       "stream": "stdout",
       "text": [
        "\n",
        "len(da[0]): 415743\n",
        "Feature shape: (47, 910)"
       ]
      },
      {
       "output_type": "stream",
       "stream": "stdout",
       "text": [
        "\n",
        "I am on file 938 with filename LC_50703-01-35-02_combined.dat \n",
        "dt_min: 0.00781249999989"
       ]
      },
      {
       "output_type": "stream",
       "stream": "stdout",
       "text": [
        "\n",
        "len(da[0]): 234110\n",
        "len(da[0]): 61438\n",
        "len(da[0]): 229375\n",
        "Feature shape: (53, 910)"
       ]
      },
      {
       "output_type": "stream",
       "stream": "stdout",
       "text": [
        "\n",
        "I am on file 939 with filename LC_93411-01-02-00_combined.dat \n",
        "dt_min: 0.00781249999989"
       ]
      },
      {
       "output_type": "stream",
       "stream": "stdout",
       "text": [
        "\n",
        "len(da[0]): 120830\n",
        "len(da[0]): 118783\n",
        "Feature shape: (22, 910)"
       ]
      },
      {
       "output_type": "stream",
       "stream": "stdout",
       "text": [
        "\n",
        "I am on file 940 with filename LC_60701-01-24-01_combined.dat \n",
        "dt_min: 0.00781249999994"
       ]
      },
      {
       "output_type": "stream",
       "stream": "stdout",
       "text": [
        "\n",
        "len(da[0]): 91775\n",
        "Feature shape: (8, 910)\n",
        "I am on file 941 with filename LC_90701-01-10-01_combined.dat \n",
        "dt_min: 0.00781249999989"
       ]
      },
      {
       "output_type": "stream",
       "stream": "stdout",
       "text": [
        "\n",
        "len(da[0]): 288767\n",
        "Feature shape: (32, 910)"
       ]
      },
      {
       "output_type": "stream",
       "stream": "stdout",
       "text": [
        "\n",
        "I am on file 942 with filename LC_92702-01-28-01_combined.dat \n",
        "dt_min: 0.00781249999989"
       ]
      },
      {
       "output_type": "stream",
       "stream": "stdout",
       "text": [
        "\n",
        "len(da[0]): 196607\n",
        "Feature shape: (20, 910)"
       ]
      },
      {
       "output_type": "stream",
       "stream": "stdout",
       "text": [
        "\n",
        "I am on file 943 with filename LC_94701-01-26-01_combined.dat \n",
        "dt_min: 0.00781249999999"
       ]
      },
      {
       "output_type": "stream",
       "stream": "stdout",
       "text": [
        "\n",
        "len(da[0]): 81919\n",
        "Feature shape: (6, 910)\n",
        "I am on file 944 with filename LC_50703-01-20-02_combined.dat \n",
        "dt_min: 0.00781249999989"
       ]
      },
      {
       "output_type": "stream",
       "stream": "stdout",
       "text": [
        "\n",
        "len(da[0]): 222847\n",
        "Feature shape: (24, 910)"
       ]
      },
      {
       "output_type": "stream",
       "stream": "stdout",
       "text": [
        "\n",
        "I am on file 945 with filename LC_20402-01-44-00_combined.dat \n",
        "I am on file 946 with filename LC_94701-01-12-01_combined.dat \n",
        "dt_min: 0.00781249999977"
       ]
      },
      {
       "output_type": "stream",
       "stream": "stdout",
       "text": [
        "\n",
        "len(da[0]): 184959\n",
        "Feature shape: (19, 910)"
       ]
      },
      {
       "output_type": "stream",
       "stream": "stdout",
       "text": [
        "\n",
        "I am on file 947 with filename LC_95701-01-02-00_combined.dat \n",
        "dt_min: 0.00781249999989"
       ]
      },
      {
       "output_type": "stream",
       "stream": "stdout",
       "text": [
        "\n",
        "len(da[0]): 183807\n",
        "Feature shape: (19, 910)"
       ]
      },
      {
       "output_type": "stream",
       "stream": "stdout",
       "text": [
        "\n",
        "I am on file 948 with filename LC_90701-01-07-00_combined.dat \n",
        "dt_min: 0.00781249999989"
       ]
      },
      {
       "output_type": "stream",
       "stream": "stdout",
       "text": [
        "\n",
        "len(da[0]): 190207\n",
        "Feature shape: (20, 910)"
       ]
      },
      {
       "output_type": "stream",
       "stream": "stdout",
       "text": [
        "\n",
        "I am on file 949 with filename LC_50703-01-18-02_combined.dat \n",
        "dt_min: 0.00781249999994"
       ]
      },
      {
       "output_type": "stream",
       "stream": "stdout",
       "text": [
        "\n",
        "len(da[0]): 124799\n",
        "Feature shape: (12, 910)"
       ]
      },
      {
       "output_type": "stream",
       "stream": "stdout",
       "text": [
        "\n",
        "I am on file 950 with filename LC_91701-01-21-02_combined.dat \n",
        "dt_min: 0.00781249999999"
       ]
      },
      {
       "output_type": "stream",
       "stream": "stdout",
       "text": [
        "\n",
        "len(da[0]): 122879\n",
        "Feature shape: (11, 910)"
       ]
      },
      {
       "output_type": "stream",
       "stream": "stdout",
       "text": [
        "\n",
        "I am on file 951 with filename LC_40116-01-01-06_combined.dat \n",
        "dt_min: 0.00781249999989"
       ]
      },
      {
       "output_type": "stream",
       "stream": "stdout",
       "text": [
        "\n",
        "len(da[0]): 275583\n",
        "Feature shape: (30, 910)"
       ]
      },
      {
       "output_type": "stream",
       "stream": "stdout",
       "text": [
        "\n",
        "I am on file 952 with filename LC_91701-01-46-00_combined.dat \n",
        "dt_min: 0.00781249999989"
       ]
      },
      {
       "output_type": "stream",
       "stream": "stdout",
       "text": [
        "\n",
        "len(da[0]): 243455\n",
        "Feature shape: (26, 910)"
       ]
      },
      {
       "output_type": "stream",
       "stream": "stdout",
       "text": [
        "\n",
        "I am on file 953 with filename LC_91701-01-14-00_combined.dat \n",
        "dt_min: 0.00781249999989"
       ]
      },
      {
       "output_type": "stream",
       "stream": "stdout",
       "text": [
        "\n",
        "len(da[0]): 165887\n",
        "Feature shape: (17, 910)"
       ]
      },
      {
       "output_type": "stream",
       "stream": "stdout",
       "text": [
        "\n",
        "I am on file 954 with filename LC_93701-01-36-00_combined.dat \n",
        "dt_min: 0.00781249999989"
       ]
      },
      {
       "output_type": "stream",
       "stream": "stdout",
       "text": [
        "\n",
        "len(da[0]): 153599\n",
        "Feature shape: (15, 910)"
       ]
      },
      {
       "output_type": "stream",
       "stream": "stdout",
       "text": [
        "\n",
        "I am on file 955 with filename LC_90024-02-04-00_combined.dat \n",
        "dt_min: 0.00390624999999"
       ]
      },
      {
       "output_type": "stream",
       "stream": "stdout",
       "text": [
        "\n",
        "len(da[0]): 180223\n",
        "Feature shape: (7, 910)\n",
        "I am on file 956 with filename LC_50703-01-25-02_combined.dat \n",
        "dt_min: 0.00781249999989"
       ]
      },
      {
       "output_type": "stream",
       "stream": "stdout",
       "text": [
        "\n",
        "len(da[0]): 141311\n",
        "Feature shape: (14, 910)"
       ]
      },
      {
       "output_type": "stream",
       "stream": "stdout",
       "text": [
        "\n",
        "I am on file 957 with filename LC_30402-01-15-00_combined.dat \n",
        "dt_min: 0.00781249999818"
       ]
      },
      {
       "output_type": "stream",
       "stream": "stdout",
       "text": [
        "\n",
        "len(da[0]): 192509\n",
        "len(da[0]): 154622\n",
        "len(da[0]): 358399\n",
        "Feature shape: (75, 910)"
       ]
      },
      {
       "output_type": "stream",
       "stream": "stdout",
       "text": [
        "\n",
        "I am on file 958 with filename LC_90701-01-50-00_combined.dat \n",
        "dt_min: 0.00781249999994"
       ]
      },
      {
       "output_type": "stream",
       "stream": "stdout",
       "text": [
        "\n",
        "len(da[0]): 96255\n",
        "Feature shape: (8, 910)\n",
        "I am on file 959 with filename LC_92702-01-12-00_combined.dat \n",
        "dt_min: 0.00781249999989"
       ]
      },
      {
       "output_type": "stream",
       "stream": "stdout",
       "text": [
        "\n",
        "len(da[0]): 118783\n",
        "Feature shape: (11, 910)"
       ]
      },
      {
       "output_type": "stream",
       "stream": "stdout",
       "text": [
        "\n",
        "I am on file 960 with filename LC_93701-01-04-01_combined.dat \n",
        "dt_min: 0.00781249999989"
       ]
      },
      {
       "output_type": "stream",
       "stream": "stdout",
       "text": [
        "\n",
        "len(da[0]): 200703\n",
        "Feature shape: (21, 910)"
       ]
      },
      {
       "output_type": "stream",
       "stream": "stdout",
       "text": [
        "\n",
        "I am on file 961 with filename LC_91701-01-84-00_combined.dat \n",
        "dt_min: 0.00781249999989"
       ]
      },
      {
       "output_type": "stream",
       "stream": "stdout",
       "text": [
        "\n",
        "len(da[0]): 106495\n",
        "Feature shape: (9, 910)\n",
        "I am on file 962 with filename LC_20402-01-56-00_combined.dat \n",
        "I am on file 963 with filename LC_93701-01-32-01_combined.dat \n",
        "dt_min: 0.00781249999989"
       ]
      },
      {
       "output_type": "stream",
       "stream": "stdout",
       "text": [
        "\n",
        "len(da[0]): 157695\n",
        "Feature shape: (16, 910)"
       ]
      },
      {
       "output_type": "stream",
       "stream": "stdout",
       "text": [
        "\n",
        "I am on file 964 with filename LC_80701-01-05-00_combined.dat \n",
        "dt_min: 0.00781249999818"
       ]
      },
      {
       "output_type": "stream",
       "stream": "stdout",
       "text": [
        "\n",
        "len(da[0]): 413694\n",
        "len(da[0]): 413695\n",
        "Feature shape: (94, 910)"
       ]
      },
      {
       "output_type": "stream",
       "stream": "stdout",
       "text": [
        "\n",
        "I am on file 965 with filename LC_30703-01-26-00_combined.dat \n",
        "dt_min: 0.00781249999989"
       ]
      },
      {
       "output_type": "stream",
       "stream": "stdout",
       "text": [
        "\n",
        "len(da[0]): 157181\n",
        "len(da[0]): 222718\n",
        "len(da[0]): 227326\n",
        "Feature shape: (64, 910)"
       ]
      },
      {
       "output_type": "stream",
       "stream": "stdout",
       "text": [
        "\n",
        "I am on file 966 with filename LC_90105-06-02-00_combined.dat \n",
        "dt_min: 0.00390624999989"
       ]
      },
      {
       "output_type": "stream",
       "stream": "stdout",
       "text": [
        "\n",
        "len(da[0]): 835583\n",
        "Feature shape: (47, 910)"
       ]
      },
      {
       "output_type": "stream",
       "stream": "stdout",
       "text": [
        "\n",
        "I am on file 967 with filename LC_80701-01-09-02_combined.dat \n",
        "dt_min: 0.00781249999989"
       ]
      },
      {
       "output_type": "stream",
       "stream": "stdout",
       "text": [
        "\n",
        "len(da[0]): 139263\n",
        "Feature shape: (13, 910)"
       ]
      },
      {
       "output_type": "stream",
       "stream": "stdout",
       "text": [
        "\n",
        "I am on file 968 with filename LC_80127-05-01-00_combined.dat \n",
        "dt_min: 0.00390624999818"
       ]
      },
      {
       "output_type": "stream",
       "stream": "stdout",
       "text": [
        "\n",
        "len(da[0]): 48894\n",
        "len(da[0]): 530685\n",
        "len(da[0]): 57342\n",
        "len(da[0]): 831486\n",
        "len(da[0]): 831486"
       ]
      },
      {
       "output_type": "stream",
       "stream": "stdout",
       "text": [
        "\n",
        "len(da[0]): 835583\n",
        "Feature shape: (170, 910)"
       ]
      },
      {
       "output_type": "stream",
       "stream": "stdout",
       "text": [
        "\n",
        "I am on file 969 with filename LC_90105-09-08-00_combined.dat \n",
        "dt_min: 0.00390624999989"
       ]
      },
      {
       "output_type": "stream",
       "stream": "stdout",
       "text": [
        "\n",
        "len(da[0]): 823295\n",
        "Feature shape: (47, 910)"
       ]
      },
      {
       "output_type": "stream",
       "stream": "stdout",
       "text": [
        "\n",
        "I am on file 970 with filename LC_50703-01-45-00_combined.dat \n",
        "dt_min: 0.00781249999989"
       ]
      },
      {
       "output_type": "stream",
       "stream": "stdout",
       "text": [
        "\n",
        "len(da[0]): 135167\n",
        "Feature shape: (13, 910)"
       ]
      },
      {
       "output_type": "stream",
       "stream": "stdout",
       "text": [
        "\n",
        "I am on file 971 with filename LC_70702-01-17-01_combined.dat \n",
        "dt_min: 0.00781249999999"
       ]
      },
      {
       "output_type": "stream",
       "stream": "stdout",
       "text": [
        "\n",
        "len(da[0]): 106495\n",
        "Feature shape: (9, 910)\n",
        "I am on file 972 with filename LC_80701-01-18-00_combined.dat \n",
        "dt_min: 0.00781249999989"
       ]
      },
      {
       "output_type": "stream",
       "stream": "stdout",
       "text": [
        "\n",
        "len(da[0]): 141311\n",
        "Feature shape: (14, 910)"
       ]
      },
      {
       "output_type": "stream",
       "stream": "stdout",
       "text": [
        "\n",
        "I am on file 973 with filename LC_60702-01-01-07_combined.dat \n",
        "dt_min: 0.00781249999989"
       ]
      },
      {
       "output_type": "stream",
       "stream": "stdout",
       "text": [
        "\n",
        "len(da[0]): 147455\n",
        "Feature shape: (14, 910)"
       ]
      },
      {
       "output_type": "stream",
       "stream": "stdout",
       "text": [
        "\n",
        "I am on file 974 with filename LC_10258-01-05-00_combined.dat \n",
        "dt_min: 0.00390624999977"
       ]
      },
      {
       "output_type": "stream",
       "stream": "stdout",
       "text": [
        "\n",
        "len(da[0]): 688126\n",
        "len(da[0]): 864254\n",
        "len(da[0]): 433406"
       ]
      },
      {
       "output_type": "stream",
       "stream": "stdout",
       "text": [
        "\n",
        "len(da[0]): 422654\n",
        "Feature shape: (132, 910)"
       ]
      },
      {
       "output_type": "stream",
       "stream": "stdout",
       "text": [
        "\n",
        "I am on file 975 with filename LC_60100-01-03-01_combined.dat \n",
        "dt_min: 0.00781249999989"
       ]
      },
      {
       "output_type": "stream",
       "stream": "stdout",
       "text": [
        "\n",
        "len(da[0]): 306303\n",
        "Feature shape: (34, 910)"
       ]
      },
      {
       "output_type": "stream",
       "stream": "stdout",
       "text": [
        "\n",
        "I am on file 976 with filename LC_92702-01-32-00_combined.dat \n",
        "dt_min: 0.00781249999989"
       ]
      },
      {
       "output_type": "stream",
       "stream": "stdout",
       "text": [
        "\n",
        "len(da[0]): 157183\n",
        "Feature shape: (16, 910)"
       ]
      },
      {
       "output_type": "stream",
       "stream": "stdout",
       "text": [
        "\n",
        "I am on file 977 with filename LC_91701-01-22-00_combined.dat \n",
        "dt_min: 0.00781249999989"
       ]
      },
      {
       "output_type": "stream",
       "stream": "stdout",
       "text": [
        "\n",
        "len(da[0]): 184319\n",
        "Feature shape: (19, 910)"
       ]
      },
      {
       "output_type": "stream",
       "stream": "stdout",
       "text": [
        "\n",
        "I am on file 978 with filename LC_80701-01-38-02_combined.dat \n",
        "dt_min: 0.00781249999989"
       ]
      },
      {
       "output_type": "stream",
       "stream": "stdout",
       "text": [
        "\n",
        "len(da[0]): 190463\n",
        "Feature shape: (20, 910)"
       ]
      },
      {
       "output_type": "stream",
       "stream": "stdout",
       "text": [
        "\n",
        "I am on file 979 with filename LC_40403-01-01-00_combined.dat \n",
        "dt_min: 0.00781249999989"
       ]
      },
      {
       "output_type": "stream",
       "stream": "stdout",
       "text": [
        "\n",
        "len(da[0]): 387071\n",
        "Feature shape: (44, 910)"
       ]
      },
      {
       "output_type": "stream",
       "stream": "stdout",
       "text": [
        "\n",
        "I am on file 980 with filename LC_20402-01-24-00_combined.dat \n",
        "dt_min: 0.0078125"
       ]
      },
      {
       "output_type": "stream",
       "stream": "stdout",
       "text": [
        "\n",
        "len(da[0]): 167934\n",
        "len(da[0]): 79869\n",
        "len(da[0]): 3070\n",
        "len(da[0]): 89085\n",
        "len(da[0]): 90109\n",
        "len(da[0]): 172031\n",
        "Feature shape: (54, 910)"
       ]
      },
      {
       "output_type": "stream",
       "stream": "stdout",
       "text": [
        "\n",
        "I am on file 981 with filename LC_50703-01-56-00_combined.dat \n",
        "dt_min: 0.00781249999818"
       ]
      },
      {
       "output_type": "stream",
       "stream": "stdout",
       "text": [
        "\n",
        "len(da[0]): 409598\n",
        "len(da[0]): 409599\n",
        "Feature shape: (92, 910)"
       ]
      },
      {
       "output_type": "stream",
       "stream": "stdout",
       "text": [
        "\n",
        "I am on file 982 with filename LC_90701-01-39-01_combined.dat \n",
        "dt_min: 0.00781249999989"
       ]
      },
      {
       "output_type": "stream",
       "stream": "stdout",
       "text": [
        "\n",
        "len(da[0]): 260095\n",
        "Feature shape: (28, 910)"
       ]
      },
      {
       "output_type": "stream",
       "stream": "stdout",
       "text": [
        "\n",
        "I am on file 983 with filename LC_70702-01-32-01_combined.dat \n",
        "dt_min: 0.00781249999989"
       ]
      },
      {
       "output_type": "stream",
       "stream": "stdout",
       "text": [
        "\n",
        "len(da[0]): 156927\n",
        "Feature shape: (16, 910)"
       ]
      },
      {
       "output_type": "stream",
       "stream": "stdout",
       "text": [
        "\n",
        "I am on file 984 with filename LC_94701-01-12-00_combined.dat \n",
        "dt_min: 0.00781249999977"
       ]
      },
      {
       "output_type": "stream",
       "stream": "stdout",
       "text": [
        "\n",
        "len(da[0]): 210943\n",
        "Feature shape: (22, 910)"
       ]
      },
      {
       "output_type": "stream",
       "stream": "stdout",
       "text": [
        "\n",
        "I am on file 985 with filename LC_50703-01-09-01_combined.dat \n",
        "dt_min: 0.00781249999994"
       ]
      },
      {
       "output_type": "stream",
       "stream": "stdout",
       "text": [
        "\n",
        "len(da[0]): 88063\n",
        "Feature shape: (7, 910)\n",
        "I am on file 986 with filename LC_95701-01-39-00_combined.dat \n",
        "dt_min: 0.00781249999977"
       ]
      },
      {
       "output_type": "stream",
       "stream": "stdout",
       "text": [
        "\n",
        "len(da[0]): 172031\n",
        "Feature shape: (17, 910)"
       ]
      },
      {
       "output_type": "stream",
       "stream": "stdout",
       "text": [
        "\n",
        "I am on file 987 with filename LC_40703-01-25-00_combined.dat \n",
        "dt_min: 0.00781249999989"
       ]
      },
      {
       "output_type": "stream",
       "stream": "stdout",
       "text": [
        "\n",
        "len(da[0]): 262142\n",
        "len(da[0]): 240638\n",
        "len(da[0]): 180221\n",
        "len(da[0]): 152062\n",
        "len(da[0]): 109053\n",
        "len(da[0]): 124927\n",
        "Feature shape: (109, 910)"
       ]
      },
      {
       "output_type": "stream",
       "stream": "stdout",
       "text": [
        "\n",
        "I am on file 988 with filename LC_50703-01-03-00_combined.dat \n",
        "dt_min: 0.00781249999989"
       ]
      },
      {
       "output_type": "stream",
       "stream": "stdout",
       "text": [
        "\n",
        "len(da[0]): 155263\n",
        "Feature shape: (15, 910)"
       ]
      },
      {
       "output_type": "stream",
       "stream": "stdout",
       "text": [
        "\n",
        "I am on file 989 with filename LC_90024-02-08-00_combined.dat \n",
        "dt_min: 0.00390624999999"
       ]
      },
      {
       "output_type": "stream",
       "stream": "stdout",
       "text": [
        "\n",
        "len(da[0]): 207359\n",
        "Feature shape: (9, 910)\n",
        "I am on file 990 with filename LC_40703-01-51-00_combined.dat \n",
        "dt_min: 0.00781249999989"
       ]
      },
      {
       "output_type": "stream",
       "stream": "stdout",
       "text": [
        "\n",
        "len(da[0]): 264191\n",
        "Feature shape: (29, 910)"
       ]
      },
      {
       "output_type": "stream",
       "stream": "stdout",
       "text": [
        "\n",
        "I am on file 991 with filename LC_40703-01-16-00_combined.dat \n",
        "dt_min: 0.00781249999989"
       ]
      },
      {
       "output_type": "stream",
       "stream": "stdout",
       "text": [
        "\n",
        "len(da[0]): 44542\n",
        "len(da[0]): 216574\n",
        "Feature shape: (25, 910)"
       ]
      },
      {
       "output_type": "stream",
       "stream": "stdout",
       "text": [
        "\n",
        "I am on file 992 with filename LC_80701-01-42-00_combined.dat \n",
        "dt_min: 0.00781249999818"
       ]
      },
      {
       "output_type": "stream",
       "stream": "stdout",
       "text": [
        "\n",
        "len(da[0]): 412926\n",
        "len(da[0]): 413695\n",
        "Feature shape: (94, 910)"
       ]
      },
      {
       "output_type": "stream",
       "stream": "stdout",
       "text": [
        "\n",
        "I am on file 993 with filename LC_50125-01-02-01_combined.dat \n",
        "dt_min: 0.00781249999989"
       ]
      },
      {
       "output_type": "stream",
       "stream": "stdout",
       "text": [
        "\n",
        "len(da[0]): 264191\n",
        "Feature shape: (29, 910)"
       ]
      },
      {
       "output_type": "stream",
       "stream": "stdout",
       "text": [
        "\n",
        "I am on file 994 with filename LC_91701-01-30-01_combined.dat \n",
        "dt_min: 0.00781249999989"
       ]
      },
      {
       "output_type": "stream",
       "stream": "stdout",
       "text": [
        "\n",
        "len(da[0]): 169983\n",
        "Feature shape: (17, 910)"
       ]
      },
      {
       "output_type": "stream",
       "stream": "stdout",
       "text": [
        "\n",
        "I am on file 995 with filename LC_93701-01-27-01_combined.dat \n",
        "dt_min: 0.00781249999989"
       ]
      },
      {
       "output_type": "stream",
       "stream": "stdout",
       "text": [
        "\n",
        "len(da[0]): 292863\n",
        "Feature shape: (32, 910)"
       ]
      },
      {
       "output_type": "stream",
       "stream": "stdout",
       "text": [
        "\n",
        "I am on file 996 with filename LC_90105-10-04-00_combined.dat \n",
        "dt_min: 0.00390624999989"
       ]
      },
      {
       "output_type": "stream",
       "stream": "stdout",
       "text": [
        "\n",
        "len(da[0]): 819198\n",
        "len(da[0]): 819199\n",
        "Feature shape: (92, 910)"
       ]
      },
      {
       "output_type": "stream",
       "stream": "stdout",
       "text": [
        "\n",
        "I am on file 997 with filename LC_50703-01-50-01_combined.dat \n",
        "dt_min: 0.00781249999989"
       ]
      },
      {
       "output_type": "stream",
       "stream": "stdout",
       "text": [
        "\n",
        "len(da[0]): 362495\n",
        "Feature shape: (41, 910)"
       ]
      },
      {
       "output_type": "stream",
       "stream": "stdout",
       "text": [
        "\n",
        "I am on file 998 with filename LC_90701-01-47-00_combined.dat \n",
        "dt_min: 0.00781249999989"
       ]
      },
      {
       "output_type": "stream",
       "stream": "stdout",
       "text": [
        "\n",
        "len(da[0]): 178175\n",
        "Feature shape: (18, 910)"
       ]
      },
      {
       "output_type": "stream",
       "stream": "stdout",
       "text": [
        "\n",
        "I am on file 999 with filename LC_20187-02-01-01_combined.dat \n",
        "I am on file 1000 with filename LC_92702-01-16-01_combined.dat \n",
        "dt_min: 0.00781249999989"
       ]
      },
      {
       "output_type": "stream",
       "stream": "stdout",
       "text": [
        "\n",
        "len(da[0]): 210943\n",
        "Feature shape: (22, 910)"
       ]
      },
      {
       "output_type": "stream",
       "stream": "stdout",
       "text": [
        "\n",
        "I am on file 1001 with filename LC_20402-01-37-00_combined.dat \n",
        "I am on file 1002 with filename LC_91701-01-60-02_combined.dat \n",
        "dt_min: 0.00781249999989"
       ]
      },
      {
       "output_type": "stream",
       "stream": "stdout",
       "text": [
        "\n",
        "len(da[0]): 172031\n",
        "Feature shape: (17, 910)"
       ]
      },
      {
       "output_type": "stream",
       "stream": "stdout",
       "text": [
        "\n",
        "I am on file 1003 with filename LC_94701-01-60-00_combined.dat \n",
        "dt_min: 0.00781249999989"
       ]
      },
      {
       "output_type": "stream",
       "stream": "stdout",
       "text": [
        "\n",
        "len(da[0]): 208895\n",
        "Feature shape: (22, 910)"
       ]
      },
      {
       "output_type": "stream",
       "stream": "stdout",
       "text": [
        "\n",
        "I am on file 1004 with filename LC_91701-01-23-01_combined.dat \n",
        "dt_min: 0.00781249999989"
       ]
      },
      {
       "output_type": "stream",
       "stream": "stdout",
       "text": [
        "\n",
        "len(da[0]): 153599\n",
        "Feature shape: (15, 910)"
       ]
      },
      {
       "output_type": "stream",
       "stream": "stdout",
       "text": [
        "\n",
        "I am on file 1005 with filename LC_50703-01-01-00_combined.dat \n",
        "dt_min: 0.00781249999955"
       ]
      },
      {
       "output_type": "stream",
       "stream": "stdout",
       "text": [
        "\n",
        "len(da[0]): 186750\n",
        "len(da[0]): 421887\n",
        "Feature shape: (67, 910)"
       ]
      },
      {
       "output_type": "stream",
       "stream": "stdout",
       "text": [
        "\n",
        "I am on file 1006 with filename LC_20402-01-21-00_combined.dat \n",
        "dt_min: 0.00781249999955"
       ]
      },
      {
       "output_type": "stream",
       "stream": "stdout",
       "text": [
        "\n",
        "len(da[0]): 425982\n",
        "len(da[0]): 18431\n",
        "Feature shape: (48, 910)"
       ]
      },
      {
       "output_type": "stream",
       "stream": "stdout",
       "text": [
        "\n",
        "I am on file 1007 with filename LC_80701-01-28-02_combined.dat \n",
        "dt_min: 0.00781249999994"
       ]
      },
      {
       "output_type": "stream",
       "stream": "stdout",
       "text": [
        "\n",
        "len(da[0]): 100351\n",
        "Feature shape: (9, 910)\n",
        "I am on file 1008 with filename LC_95701-01-45-00_combined.dat \n",
        "dt_min: 0.00781249999989"
       ]
      },
      {
       "output_type": "stream",
       "stream": "stdout",
       "text": [
        "\n",
        "len(da[0]): 177151\n",
        "Feature shape: (18, 910)"
       ]
      },
      {
       "output_type": "stream",
       "stream": "stdout",
       "text": [
        "\n",
        "I am on file 1009 with filename LC_91701-01-34-00_combined.dat \n",
        "dt_min: 0.00781249999989"
       ]
      },
      {
       "output_type": "stream",
       "stream": "stdout",
       "text": [
        "\n",
        "len(da[0]): 286719\n",
        "Feature shape: (31, 910)"
       ]
      },
      {
       "output_type": "stream",
       "stream": "stdout",
       "text": [
        "\n",
        "I am on file 1010 with filename LC_60701-01-24-00_combined.dat \n",
        "dt_min: 0.00781249999994"
       ]
      },
      {
       "output_type": "stream",
       "stream": "stdout",
       "text": [
        "\n",
        "len(da[0]): 131071\n",
        "Feature shape: (12, 910)"
       ]
      },
      {
       "output_type": "stream",
       "stream": "stdout",
       "text": [
        "\n",
        "I am on file 1011 with filename LC_40115-01-07-00_combined.dat \n",
        "dt_min: 0.00781249999989"
       ]
      },
      {
       "output_type": "stream",
       "stream": "stdout",
       "text": [
        "\n",
        "len(da[0]): 1534\n",
        "len(da[0]): 311294\n",
        "len(da[0]): 292863\n",
        "Feature shape: (66, 910)"
       ]
      },
      {
       "output_type": "stream",
       "stream": "stdout",
       "text": [
        "\n",
        "I am on file 1012 with filename LC_40703-01-30-02_combined.dat \n",
        "dt_min: 0.00781249999989"
       ]
      },
      {
       "output_type": "stream",
       "stream": "stdout",
       "text": [
        "\n",
        "len(da[0]): 180223\n",
        "Feature shape: (18, 910)"
       ]
      },
      {
       "output_type": "stream",
       "stream": "stdout",
       "text": [
        "\n",
        "I am on file 1013 with filename LC_90701-01-17-00_combined.dat \n",
        "dt_min: 0.00781249999989"
       ]
      },
      {
       "output_type": "stream",
       "stream": "stdout",
       "text": [
        "\n",
        "len(da[0]): 204799\n",
        "Feature shape: (21, 910)"
       ]
      },
      {
       "output_type": "stream",
       "stream": "stdout",
       "text": [
        "\n",
        "I am on file 1014 with filename LC_10408-01-06-00_combined.dat \n",
        "dt_min: 0.00390624999977"
       ]
      },
      {
       "output_type": "stream",
       "stream": "stdout",
       "text": [
        "\n",
        "len(da[0]): 360446\n",
        "len(da[0]): 495101\n",
        "len(da[0]): 426494\n",
        "len(da[0]): 433661\n",
        "len(da[0]): 733183"
       ]
      },
      {
       "output_type": "stream",
       "stream": "stdout",
       "text": [
        "\n",
        "Feature shape: (132, 910)"
       ]
      },
      {
       "output_type": "stream",
       "stream": "stdout",
       "text": [
        "\n",
        "I am on file 1015 with filename LC_70703-01-01-05_combined.dat \n",
        "dt_min: 0.00781249999994"
       ]
      },
      {
       "output_type": "stream",
       "stream": "stdout",
       "text": [
        "\n",
        "len(da[0]): 118782\n",
        "len(da[0]): 51198\n",
        "len(da[0]): 98303\n",
        "Feature shape: (22, 910)"
       ]
      },
      {
       "output_type": "stream",
       "stream": "stdout",
       "text": [
        "\n",
        "I am on file 1016 with filename LC_60701-01-32-01_combined.dat \n",
        "dt_min: 0.00781249999989"
       ]
      },
      {
       "output_type": "stream",
       "stream": "stdout",
       "text": [
        "\n",
        "len(da[0]): 186367\n",
        "Feature shape: (19, 910)"
       ]
      },
      {
       "output_type": "stream",
       "stream": "stdout",
       "text": [
        "\n",
        "I am on file 1017 with filename LC_50703-01-60-00_combined.dat \n",
        "dt_min: 0.00781249999989"
       ]
      },
      {
       "output_type": "stream",
       "stream": "stdout",
       "text": [
        "\n",
        "len(da[0]): 186367\n",
        "Feature shape: (19, 910)"
       ]
      },
      {
       "output_type": "stream",
       "stream": "stdout",
       "text": [
        "\n",
        "I am on file 1018 with filename LC_80701-01-08-00_combined.dat \n",
        "dt_min: 0.00781249999989"
       ]
      },
      {
       "output_type": "stream",
       "stream": "stdout",
       "text": [
        "\n",
        "len(da[0]): 413695\n",
        "Feature shape: (47, 910)"
       ]
      },
      {
       "output_type": "stream",
       "stream": "stdout",
       "text": [
        "\n",
        "I am on file 1019 with filename LC_10258-01-03-00_combined.dat \n",
        "dt_min: 0.00390624999977"
       ]
      },
      {
       "output_type": "stream",
       "stream": "stdout",
       "text": [
        "\n",
        "len(da[0]): 380670\n",
        "len(da[0]): 254205\n",
        "len(da[0]): 733182\n",
        "len(da[0]): 708350\n",
        "len(da[0]): 131070"
       ]
      },
      {
       "output_type": "stream",
       "stream": "stdout",
       "text": [
        "\n",
        "Feature shape: (117, 910)"
       ]
      },
      {
       "output_type": "stream",
       "stream": "stdout",
       "text": [
        "\n",
        "I am on file 1020 with filename LC_50703-01-17-02_combined.dat \n",
        "dt_min: 0.00781249999994"
       ]
      },
      {
       "output_type": "stream",
       "stream": "stdout",
       "text": [
        "\n",
        "len(da[0]): 81919\n",
        "Feature shape: (6, 910)\n",
        "I am on file 1021 with filename LC_90024-02-43-00_combined.dat \n",
        "dt_min: 0.00390624999994"
       ]
      },
      {
       "output_type": "stream",
       "stream": "stdout",
       "text": [
        "\n",
        "len(da[0]): 180223\n",
        "Feature shape: (7, 910)\n",
        "I am on file 1022 with filename LC_91701-01-53-01_combined.dat \n",
        "dt_min: 0.00781249999989"
       ]
      },
      {
       "output_type": "stream",
       "stream": "stdout",
       "text": [
        "\n",
        "len(da[0]): 217087\n",
        "Feature shape: (23, 910)"
       ]
      },
      {
       "output_type": "stream",
       "stream": "stdout",
       "text": [
        "\n",
        "I am on file 1023 with filename LC_60701-01-07-02_combined.dat \n",
        "dt_min: 0.00781249999989"
       ]
      },
      {
       "output_type": "stream",
       "stream": "stdout",
       "text": [
        "\n",
        "len(da[0]): 280575\n",
        "Feature shape: (31, 910)"
       ]
      },
      {
       "output_type": "stream",
       "stream": "stdout",
       "text": [
        "\n",
        "I am on file 1024 with filename LC_60702-01-01-17_combined.dat \n",
        "dt_min: 0.00781249999989"
       ]
      },
      {
       "output_type": "stream",
       "stream": "stdout",
       "text": [
        "\n",
        "len(da[0]): 190463\n",
        "Feature shape: (20, 910)"
       ]
      },
      {
       "output_type": "stream",
       "stream": "stdout",
       "text": [
        "\n",
        "I am on file 1025 with filename LC_80701-01-58-01_combined.dat \n",
        "dt_min: 0.00781249999989"
       ]
      },
      {
       "output_type": "stream",
       "stream": "stdout",
       "text": [
        "\n",
        "len(da[0]): 165887\n",
        "Feature shape: (17, 910)"
       ]
      },
      {
       "output_type": "stream",
       "stream": "stdout",
       "text": [
        "\n",
        "I am on file 1026 with filename LC_80701-01-62-00_combined.dat \n",
        "dt_min: 0.00781249999989"
       ]
      },
      {
       "output_type": "stream",
       "stream": "stdout",
       "text": [
        "\n",
        "len(da[0]): 262143\n",
        "Feature shape: (28, 910)"
       ]
      },
      {
       "output_type": "stream",
       "stream": "stdout",
       "text": [
        "\n",
        "I am on file 1027 with filename LC_20402-01-30-00_combined.dat \n",
        "I am on file 1028 with filename LC_93701-01-18-00_combined.dat \n",
        "dt_min: 0.00781249999989"
       ]
      },
      {
       "output_type": "stream",
       "stream": "stdout",
       "text": [
        "\n",
        "len(da[0]): 84989\n",
        "len(da[0]): 116735\n",
        "Feature shape: (18, 910)"
       ]
      },
      {
       "output_type": "stream",
       "stream": "stdout",
       "text": [
        "\n",
        "I am on file 1029 with filename LC_91701-01-17-00_combined.dat \n",
        "dt_min: 0.00781249999989"
       ]
      },
      {
       "output_type": "stream",
       "stream": "stdout",
       "text": [
        "\n",
        "len(da[0]): 225279\n",
        "Feature shape: (24, 910)"
       ]
      },
      {
       "output_type": "stream",
       "stream": "stdout",
       "text": [
        "\n",
        "I am on file 1030 with filename LC_92702-01-17-00_combined.dat \n",
        "dt_min: 0.00781249999989"
       ]
      },
      {
       "output_type": "stream",
       "stream": "stdout",
       "text": [
        "\n",
        "len(da[0]): 351231\n",
        "Feature shape: (39, 910)"
       ]
      },
      {
       "output_type": "stream",
       "stream": "stdout",
       "text": [
        "\n",
        "I am on file 1031 with filename LC_80701-01-49-01_combined.dat \n",
        "dt_min: 0.00781249999989"
       ]
      },
      {
       "output_type": "stream",
       "stream": "stdout",
       "text": [
        "\n",
        "len(da[0]): 196607\n",
        "Feature shape: (20, 910)"
       ]
      },
      {
       "output_type": "stream",
       "stream": "stdout",
       "text": [
        "\n",
        "I am on file 1032 with filename LC_95701-01-38-00_combined.dat \n",
        "dt_min: 0.00781249999977"
       ]
      },
      {
       "output_type": "stream",
       "stream": "stdout",
       "text": [
        "\n",
        "len(da[0]): 217086\n",
        "len(da[0]): 12286\n",
        "Feature shape: (23, 910)"
       ]
      },
      {
       "output_type": "stream",
       "stream": "stdout",
       "text": [
        "\n",
        "I am on file 1033 with filename LC_20402-01-39-02_combined.dat \n",
        "I am on file 1034 with filename LC_60702-01-01-29_combined.dat \n",
        "dt_min: 0.00781249999989"
       ]
      },
      {
       "output_type": "stream",
       "stream": "stdout",
       "text": [
        "\n",
        "len(da[0]): 192511\n",
        "Feature shape: (20, 910)"
       ]
      },
      {
       "output_type": "stream",
       "stream": "stdout",
       "text": [
        "\n",
        "I am on file 1035 with filename LC_60100-01-01-01_combined.dat \n",
        "dt_min: 0.00781249999989"
       ]
      },
      {
       "output_type": "stream",
       "stream": "stdout",
       "text": [
        "\n",
        "len(da[0]): 311295\n",
        "Feature shape: (34, 910)"
       ]
      },
      {
       "output_type": "stream",
       "stream": "stdout",
       "text": [
        "\n",
        "I am on file 1036 with filename LC_90701-01-34-00_combined.dat \n",
        "dt_min: 0.00781249999909"
       ]
      },
      {
       "output_type": "stream",
       "stream": "stdout",
       "text": [
        "\n",
        "len(da[0]): 368126\n",
        "len(da[0]): 385022\n",
        "len(da[0]): 25598\n",
        "Feature shape: (84, 910)"
       ]
      },
      {
       "output_type": "stream",
       "stream": "stdout",
       "text": [
        "\n",
        "I am on file 1037 with filename LC_40703-01-34-03_combined.dat \n",
        "dt_min: 0.00781249999994"
       ]
      },
      {
       "output_type": "stream",
       "stream": "stdout",
       "text": [
        "\n",
        "len(da[0]): 96254\n",
        "len(da[0]): 69631\n",
        "Feature shape: (13, 910)"
       ]
      },
      {
       "output_type": "stream",
       "stream": "stdout",
       "text": [
        "\n",
        "I am on file 1038 with filename LC_50703-01-33-01_combined.dat \n",
        "dt_min: 0.00781249999989"
       ]
      },
      {
       "output_type": "stream",
       "stream": "stdout",
       "text": [
        "\n",
        "len(da[0]): 163455\n",
        "Feature shape: (16, 910)"
       ]
      },
      {
       "output_type": "stream",
       "stream": "stdout",
       "text": [
        "\n",
        "I am on file 1039 with filename LC_91701-01-76-01_combined.dat \n",
        "dt_min: 0.00781249999989"
       ]
      },
      {
       "output_type": "stream",
       "stream": "stdout",
       "text": [
        "\n",
        "len(da[0]): 96255\n",
        "Feature shape: (8, 910)\n",
        "I am on file 1040 with filename LC_20402-01-51-00_combined.dat \n",
        "I am on file 1041 with filename LC_50405-01-02-01_combined.dat \n",
        "dt_min: 0.00781249999989"
       ]
      },
      {
       "output_type": "stream",
       "stream": "stdout",
       "text": [
        "\n",
        "len(da[0]): 155518\n",
        "len(da[0]): 140414\n",
        "Feature shape: (29, 910)"
       ]
      },
      {
       "output_type": "stream",
       "stream": "stdout",
       "text": [
        "\n",
        "I am on file 1042 with filename LC_10408-01-14-05_combined.dat \n",
        "I am on file 1043 with filename LC_20402-01-57-00_combined.dat \n",
        "I am on file 1044 with filename LC_10408-01-12-00_combined.dat \n",
        "I am on file 1045 with filename LC_80127-04-01-02_combined.dat \n",
        "dt_min: 0.00390624999989"
       ]
      },
      {
       "output_type": "stream",
       "stream": "stdout",
       "text": [
        "\n",
        "len(da[0]): 475135\n",
        "Feature shape: (25, 910)"
       ]
      },
      {
       "output_type": "stream",
       "stream": "stdout",
       "text": [
        "\n",
        "I am on file 1046 with filename LC_90108-01-05-00_combined.dat \n",
        "dt_min: 0.00781249999989"
       ]
      },
      {
       "output_type": "stream",
       "stream": "stdout",
       "text": [
        "\n",
        "len(da[0]): 151551\n",
        "Feature shape: (15, 910)"
       ]
      },
      {
       "output_type": "stream",
       "stream": "stdout",
       "text": [
        "\n",
        "I am on file 1047 with filename LC_50703-01-21-00_combined.dat \n",
        "dt_min: 0.00781249999989"
       ]
      },
      {
       "output_type": "stream",
       "stream": "stdout",
       "text": [
        "\n",
        "len(da[0]): 307199\n",
        "Feature shape: (34, 910)"
       ]
      },
      {
       "output_type": "stream",
       "stream": "stdout",
       "text": [
        "\n",
        "I am on file 1048 with filename LC_40703-01-49-01_combined.dat \n",
        "dt_min: 0.00781249999994"
       ]
      },
      {
       "output_type": "stream",
       "stream": "stdout",
       "text": [
        "\n",
        "len(da[0]): 128255\n",
        "Feature shape: (12, 910)"
       ]
      },
      {
       "output_type": "stream",
       "stream": "stdout",
       "text": [
        "\n",
        "I am on file 1049 with filename LC_50703-01-12-02_combined.dat \n",
        "dt_min: 0.00781249999994"
       ]
      },
      {
       "output_type": "stream",
       "stream": "stdout",
       "text": [
        "\n",
        "len(da[0]): 120831\n",
        "Feature shape: (11, 910)"
       ]
      },
      {
       "output_type": "stream",
       "stream": "stdout",
       "text": [
        "\n",
        "I am on file 1050 with filename LC_10408-01-21-00_combined.dat \n",
        "I am on file 1051 with filename LC_50703-01-04-03_combined.dat \n",
        "dt_min: 0.00781249999999"
       ]
      },
      {
       "output_type": "stream",
       "stream": "stdout",
       "text": [
        "\n",
        "len(da[0]): 69631\n",
        "Feature shape: (5, 910)\n",
        "I am on file 1052 with filename LC_20402-01-48-00_combined.dat \n",
        "I am on file 1053 with filename LC_93701-01-35-00_combined.dat \n",
        "dt_min: 0.00781249999989"
       ]
      },
      {
       "output_type": "stream",
       "stream": "stdout",
       "text": [
        "\n",
        "len(da[0]): 276479\n",
        "Feature shape: (30, 910)"
       ]
      },
      {
       "output_type": "stream",
       "stream": "stdout",
       "text": [
        "\n",
        "I am on file 1054 with filename LC_93701-01-08-00_combined.dat \n",
        "dt_min: 0.00781249999989"
       ]
      },
      {
       "output_type": "stream",
       "stream": "stdout",
       "text": [
        "\n",
        "len(da[0]): 182271\n",
        "Feature shape: (19, 910)"
       ]
      },
      {
       "output_type": "stream",
       "stream": "stdout",
       "text": [
        "\n",
        "I am on file 1055 with filename LC_95701-01-31-00_combined.dat \n",
        "dt_min: 0.00781249999977"
       ]
      },
      {
       "output_type": "stream",
       "stream": "stdout",
       "text": [
        "\n",
        "len(da[0]): 360447\n",
        "Feature shape: (40, 910)"
       ]
      },
      {
       "output_type": "stream",
       "stream": "stdout",
       "text": [
        "\n",
        "I am on file 1056 with filename LC_30703-01-40-02_combined.dat \n",
        "dt_min: 0.00781249999989"
       ]
      },
      {
       "output_type": "stream",
       "stream": "stdout",
       "text": [
        "\n",
        "len(da[0]): 173823\n",
        "Feature shape: (18, 910)"
       ]
      },
      {
       "output_type": "stream",
       "stream": "stdout",
       "text": [
        "\n",
        "I am on file 1057 with filename LC_10263-01-01-00_combined.dat \n",
        "dt_min: 0.00390625"
       ]
      },
      {
       "output_type": "stream",
       "stream": "stdout",
       "text": [
        "\n",
        "len(da[0]): 471039\n",
        "Feature shape: (25, 910)"
       ]
      },
      {
       "output_type": "stream",
       "stream": "stdout",
       "text": [
        "\n",
        "I am on file 1058 with filename LC_80701-01-57-00_combined.dat \n",
        "dt_min: 0.00781249999989"
       ]
      },
      {
       "output_type": "stream",
       "stream": "stdout",
       "text": [
        "\n",
        "len(da[0]): 409598\n",
        "len(da[0]): 409598\n",
        "len(da[0]): 407551\n",
        "Feature shape: (138, 910)"
       ]
      },
      {
       "output_type": "stream",
       "stream": "stdout",
       "text": [
        "\n",
        "I am on file 1059 with filename LC_92702-01-14-01_combined.dat \n",
        "dt_min: 0.00781249999989"
       ]
      },
      {
       "output_type": "stream",
       "stream": "stdout",
       "text": [
        "\n",
        "len(da[0]): 147455\n",
        "Feature shape: (14, 910)"
       ]
      },
      {
       "output_type": "stream",
       "stream": "stdout",
       "text": [
        "\n",
        "I am on file 1060 with filename LC_20402-01-53-00_combined.dat \n",
        "I am on file 1061 with filename LC_10408-01-21-02_combined.dat \n",
        "dt_min: 0.00390625"
       ]
      },
      {
       "output_type": "stream",
       "stream": "stdout",
       "text": [
        "\n",
        "len(da[0]): 294910\n",
        "len(da[0]): 211710\n",
        "Feature shape: (23, 910)"
       ]
      },
      {
       "output_type": "stream",
       "stream": "stdout",
       "text": [
        "\n",
        "I am on file 1062 with filename LC_90105-04-03-01_combined.dat \n",
        "dt_min: 0.00390624999989"
       ]
      },
      {
       "output_type": "stream",
       "stream": "stdout",
       "text": [
        "\n",
        "len(da[0]): 382462\n",
        "len(da[0]): 86526\n",
        "Feature shape: (22, 910)"
       ]
      },
      {
       "output_type": "stream",
       "stream": "stdout",
       "text": [
        "\n",
        "I am on file 1063 with filename LC_50703-01-67-02_combined.dat \n",
        "dt_min: 0.00781249999989"
       ]
      },
      {
       "output_type": "stream",
       "stream": "stdout",
       "text": [
        "\n",
        "len(da[0]): 155647\n",
        "Feature shape: (15, 910)"
       ]
      },
      {
       "output_type": "stream",
       "stream": "stdout",
       "text": [
        "\n",
        "I am on file 1064 with filename LC_10258-01-08-00_combined.dat \n",
        "dt_min: 0.00390624999977"
       ]
      },
      {
       "output_type": "stream",
       "stream": "stdout",
       "text": [
        "\n",
        "len(da[0]): 643070\n",
        "len(da[0]): 786430\n",
        "len(da[0]): 204799\n",
        "Feature shape: (89, 910)"
       ]
      },
      {
       "output_type": "stream",
       "stream": "stdout",
       "text": [
        "\n",
        "I am on file 1065 with filename LC_70702-01-39-00_combined.dat \n",
        "dt_min: 0.00781249999989"
       ]
      },
      {
       "output_type": "stream",
       "stream": "stdout",
       "text": [
        "\n",
        "len(da[0]): 415103\n",
        "Feature shape: (47, 910)"
       ]
      },
      {
       "output_type": "stream",
       "stream": "stdout",
       "text": [
        "\n",
        "I am on file 1066 with filename LC_96701-01-15-00_combined.dat \n",
        "dt_min: 0.00781249999977"
       ]
      },
      {
       "output_type": "stream",
       "stream": "stdout",
       "text": [
        "\n",
        "len(da[0]): 182271\n",
        "Feature shape: (19, 910)"
       ]
      },
      {
       "output_type": "stream",
       "stream": "stdout",
       "text": [
        "\n",
        "I am on file 1067 with filename LC_80701-01-43-02_combined.dat \n",
        "dt_min: 0.00781249999999"
       ]
      },
      {
       "output_type": "stream",
       "stream": "stdout",
       "text": [
        "\n",
        "len(da[0]): 92159\n",
        "Feature shape: (8, 910)\n",
        "I am on file 1068 with filename LC_90701-01-01-02_combined.dat \n",
        "dt_min: 0.00781249999989"
       ]
      },
      {
       "output_type": "stream",
       "stream": "stdout",
       "text": [
        "\n",
        "len(da[0]): 149503\n",
        "Feature shape: (15, 910)"
       ]
      },
      {
       "output_type": "stream",
       "stream": "stdout",
       "text": [
        "\n",
        "I am on file 1069 with filename LC_91701-01-52-02_combined.dat \n",
        "dt_min: 0.00781249999989"
       ]
      },
      {
       "output_type": "stream",
       "stream": "stdout",
       "text": [
        "\n",
        "len(da[0]): 231423\n",
        "Feature shape: (25, 910)"
       ]
      },
      {
       "output_type": "stream",
       "stream": "stdout",
       "text": [
        "\n",
        "I am on file 1070 with filename LC_91701-01-36-00_combined.dat \n",
        "dt_min: 0.00781249999989"
       ]
      },
      {
       "output_type": "stream",
       "stream": "stdout",
       "text": [
        "\n",
        "len(da[0]): 157695\n",
        "Feature shape: (16, 910)"
       ]
      },
      {
       "output_type": "stream",
       "stream": "stdout",
       "text": [
        "\n",
        "I am on file 1071 with filename LC_60702-01-01-01_combined.dat \n",
        "dt_min: 0.00781249999994"
       ]
      },
      {
       "output_type": "stream",
       "stream": "stdout",
       "text": [
        "\n",
        "len(da[0]): 114687\n",
        "Feature shape: (10, 910)\n",
        "I am on file 1072 with filename LC_60701-01-04-01_combined.dat \n",
        "dt_min: 0.00781249999999"
       ]
      },
      {
       "output_type": "stream",
       "stream": "stdout",
       "text": [
        "\n",
        "len(da[0]): 30718\n",
        "len(da[0]): 73727\n",
        "Feature shape: (5, 910)\n",
        "I am on file 1073 with filename LC_70702-01-08-01_combined.dat \n",
        "dt_min: 0.00781249999994"
       ]
      },
      {
       "output_type": "stream",
       "stream": "stdout",
       "text": [
        "\n",
        "len(da[0]): 122879\n",
        "Feature shape: (11, 910)"
       ]
      },
      {
       "output_type": "stream",
       "stream": "stdout",
       "text": [
        "\n",
        "I am on file 1074 with filename LC_80701-01-01-01_combined.dat \n",
        "dt_min: 0.00781249999989"
       ]
      },
      {
       "output_type": "stream",
       "stream": "stdout",
       "text": [
        "\n",
        "len(da[0]): 184319\n",
        "Feature shape: (19, 910)"
       ]
      },
      {
       "output_type": "stream",
       "stream": "stdout",
       "text": [
        "\n",
        "I am on file 1075 with filename LC_60701-01-20-00_combined.dat \n",
        "dt_min: 0.00781249999989"
       ]
      },
      {
       "output_type": "stream",
       "stream": "stdout",
       "text": [
        "\n",
        "len(da[0]): 270335\n",
        "Feature shape: (29, 910)"
       ]
      },
      {
       "output_type": "stream",
       "stream": "stdout",
       "text": [
        "\n",
        "I am on file 1076 with filename LC_10408-01-16-04_combined.dat \n",
        "I am on file 1077 with filename LC_10258-01-10-00_combined.dat \n",
        "dt_min: 0.00390624999977"
       ]
      },
      {
       "output_type": "stream",
       "stream": "stdout",
       "text": [
        "\n",
        "len(da[0]): 542718\n",
        "len(da[0]): 284669\n",
        "len(da[0]): 229374\n",
        "len(da[0]): 188415\n",
        "Feature shape: (62, 910)"
       ]
      },
      {
       "output_type": "stream",
       "stream": "stdout",
       "text": [
        "\n",
        "I am on file 1078 with filename LC_10408-01-14-07_combined.dat \n",
        "I am on file 1079 with filename LC_70702-01-50-01_combined.dat \n",
        "dt_min: 0.00781249999989"
       ]
      },
      {
       "output_type": "stream",
       "stream": "stdout",
       "text": [
        "\n",
        "len(da[0]): 231423\n",
        "Feature shape: (25, 910)"
       ]
      },
      {
       "output_type": "stream",
       "stream": "stdout",
       "text": [
        "\n",
        "I am on file 1080 with filename LC_20402-01-18-00_combined.dat \n",
        "I am on file 1081 with filename LC_60405-01-04-04_combined.dat \n",
        "dt_min: 0.00781249999994"
       ]
      },
      {
       "output_type": "stream",
       "stream": "stdout",
       "text": [
        "\n",
        "len(da[0]): 113919\n",
        "Feature shape: (10, 910)\n",
        "I am on file 1082 with filename LC_80701-01-60-02_combined.dat \n",
        "dt_min: 0.00781249999989"
       ]
      },
      {
       "output_type": "stream",
       "stream": "stdout",
       "text": [
        "\n",
        "len(da[0]): 79871\n",
        "Feature shape: (6, 910)\n",
        "I am on file 1083 with filename LC_70703-01-01-11_combined.dat \n",
        "dt_min: 0.00781249999989"
       ]
      },
      {
       "output_type": "stream",
       "stream": "stdout",
       "text": [
        "\n",
        "len(da[0]): 200447\n",
        "Feature shape: (21, 910)"
       ]
      },
      {
       "output_type": "stream",
       "stream": "stdout",
       "text": [
        "\n",
        "I am on file 1084 with filename LC_60100-01-03-00_combined.dat \n",
        "dt_min: 0.00781249999818"
       ]
      },
      {
       "output_type": "stream",
       "stream": "stdout",
       "text": [
        "\n",
        "len(da[0]): 72318\n",
        "len(da[0]): 233853\n",
        "len(da[0]): 327678\n",
        "len(da[0]): 344062\n",
        "len(da[0]): 397311\n",
        "Feature shape: (149, 910)"
       ]
      },
      {
       "output_type": "stream",
       "stream": "stdout",
       "text": [
        "\n",
        "I am on file 1085 with filename LC_50703-01-05-00_combined.dat \n",
        "dt_min: 0.00781249999989"
       ]
      },
      {
       "output_type": "stream",
       "stream": "stdout",
       "text": [
        "\n",
        "len(da[0]): 210943\n",
        "Feature shape: (22, 910)"
       ]
      },
      {
       "output_type": "stream",
       "stream": "stdout",
       "text": [
        "\n",
        "I am on file 1086 with filename LC_94701-01-48-01_combined.dat \n",
        "dt_min: 0.00781249999999"
       ]
      },
      {
       "output_type": "stream",
       "stream": "stdout",
       "text": [
        "\n",
        "len(da[0]): 94207\n",
        "Feature shape: (8, 910)\n",
        "I am on file 1087 with filename LC_90105-03-03-02_combined.dat \n",
        "dt_min: 0.00390624999994"
       ]
      },
      {
       "output_type": "stream",
       "stream": "stdout",
       "text": [
        "\n",
        "len(da[0]): 208383\n",
        "Feature shape: (9, 910)\n",
        "I am on file 1088 with filename LC_40116-01-07-00_combined.dat \n",
        "dt_min: 0.00781249999818"
       ]
      },
      {
       "output_type": "stream",
       "stream": "stdout",
       "text": [
        "\n",
        "len(da[0]): 106494\n",
        "len(da[0]): 135166\n",
        "len(da[0]): 372735\n",
        "Feature shape: (64, 910)"
       ]
      },
      {
       "output_type": "stream",
       "stream": "stdout",
       "text": [
        "\n",
        "I am on file 1089 with filename LC_94701-01-36-00_combined.dat \n",
        "dt_min: 0.00781249999989"
       ]
      },
      {
       "output_type": "stream",
       "stream": "stdout",
       "text": [
        "\n",
        "len(da[0]): 313343\n",
        "Feature shape: (35, 910)"
       ]
      },
      {
       "output_type": "stream",
       "stream": "stdout",
       "text": [
        "\n",
        "I am on file 1090 with filename LC_50405-01-03-00_combined.dat \n",
        "dt_min: 0.00781249999989"
       ]
      },
      {
       "output_type": "stream",
       "stream": "stdout",
       "text": [
        "\n",
        "len(da[0]): 409598\n",
        "len(da[0]): 313343\n",
        "Feature shape: (81, 910)"
       ]
      },
      {
       "output_type": "stream",
       "stream": "stdout",
       "text": [
        "\n",
        "I am on file 1091 with filename LC_93701-01-20-00_combined.dat \n",
        "dt_min: 0.00781249999989"
       ]
      },
      {
       "output_type": "stream",
       "stream": "stdout",
       "text": [
        "\n",
        "len(da[0]): 407551\n",
        "Feature shape: (46, 910)"
       ]
      },
      {
       "output_type": "stream",
       "stream": "stdout",
       "text": [
        "\n",
        "I am on file 1092 with filename LC_60701-01-27-00_combined.dat \n",
        "dt_min: 0.00781249999989"
       ]
      },
      {
       "output_type": "stream",
       "stream": "stdout",
       "text": [
        "\n",
        "len(da[0]): 413695\n",
        "Feature shape: (47, 910)"
       ]
      },
      {
       "output_type": "stream",
       "stream": "stdout",
       "text": [
        "\n",
        "I am on file 1093 with filename LC_10408-01-22-00_combined.dat \n",
        "I am on file 1094 with filename LC_40403-01-02-00_combined.dat \n",
        "dt_min: 0.00781249999989"
       ]
      },
      {
       "output_type": "stream",
       "stream": "stdout",
       "text": [
        "\n",
        "len(da[0]): 18686\n",
        "len(da[0]): 305918\n",
        "Feature shape: (34, 910)"
       ]
      },
      {
       "output_type": "stream",
       "stream": "stdout",
       "text": [
        "\n",
        "I am on file 1095 with filename LC_10408-01-10-00_combined.dat \n",
        "I am on file 1096 with filename LC_70702-01-33-00_combined.dat \n",
        "dt_min: 0.00781249999989"
       ]
      },
      {
       "output_type": "stream",
       "stream": "stdout",
       "text": [
        "\n",
        "len(da[0]): 159743\n",
        "Feature shape: (16, 910)"
       ]
      },
      {
       "output_type": "stream",
       "stream": "stdout",
       "text": [
        "\n",
        "I am on file 1097 with filename LC_80701-01-48-01_combined.dat \n",
        "dt_min: 0.00781249999989"
       ]
      },
      {
       "output_type": "stream",
       "stream": "stdout",
       "text": [
        "\n",
        "len(da[0]): 137215\n",
        "Feature shape: (13, 910)"
       ]
      },
      {
       "output_type": "stream",
       "stream": "stdout",
       "text": [
        "\n",
        "I am on file 1098 with filename LC_93701-01-19-00_combined.dat \n",
        "dt_min: 0.00781249999989"
       ]
      },
      {
       "output_type": "stream",
       "stream": "stdout",
       "text": [
        "\n",
        "len(da[0]): 221183\n",
        "Feature shape: (23, 910)"
       ]
      },
      {
       "output_type": "stream",
       "stream": "stdout",
       "text": [
        "\n",
        "I am on file 1099 with filename LC_96701-01-16-00_combined.dat \n",
        "dt_min: 0.00781249999977"
       ]
      },
      {
       "output_type": "stream",
       "stream": "stdout",
       "text": [
        "\n",
        "len(da[0]): 219135\n",
        "Feature shape: (23, 910)"
       ]
      },
      {
       "output_type": "stream",
       "stream": "stdout",
       "text": [
        "\n",
        "I am on file 1100 with filename LC_40703-01-51-02_combined.dat \n",
        "dt_min: 0.00781249999989"
       ]
      },
      {
       "output_type": "stream",
       "stream": "stdout",
       "text": [
        "\n",
        "len(da[0]): 221183\n",
        "Feature shape: (23, 910)"
       ]
      },
      {
       "output_type": "stream",
       "stream": "stdout",
       "text": [
        "\n",
        "I am on file 1101 with filename LC_80701-01-14-01_combined.dat \n",
        "dt_min: 0.00781249999989"
       ]
      },
      {
       "output_type": "stream",
       "stream": "stdout",
       "text": [
        "\n",
        "len(da[0]): 348159\n",
        "Feature shape: (39, 910)"
       ]
      },
      {
       "output_type": "stream",
       "stream": "stdout",
       "text": [
        "\n",
        "I am on file 1102 with filename LC_20402-01-34-00_combined.dat \n",
        "I am on file 1103 with filename LC_50703-01-12-01_combined.dat \n",
        "dt_min: 0.00781249999989"
       ]
      },
      {
       "output_type": "stream",
       "stream": "stdout",
       "text": [
        "\n",
        "len(da[0]): 149503\n",
        "Feature shape: (15, 910)"
       ]
      },
      {
       "output_type": "stream",
       "stream": "stdout",
       "text": [
        "\n",
        "I am on file 1104 with filename LC_50703-01-14-01_combined.dat \n",
        "dt_min: 0.00781249999989"
       ]
      },
      {
       "output_type": "stream",
       "stream": "stdout",
       "text": [
        "\n",
        "len(da[0]): 247807\n",
        "Feature shape: (27, 910)"
       ]
      },
      {
       "output_type": "stream",
       "stream": "stdout",
       "text": [
        "\n",
        "I am on file 1105 with filename LC_60701-01-23-00_combined.dat \n",
        "dt_min: 0.00781249999989"
       ]
      },
      {
       "output_type": "stream",
       "stream": "stdout",
       "text": [
        "\n",
        "len(da[0]): 415743\n",
        "Feature shape: (47, 910)"
       ]
      },
      {
       "output_type": "stream",
       "stream": "stdout",
       "text": [
        "\n",
        "I am on file 1106 with filename LC_20186-03-02-06_combined.dat \n",
        "dt_min: 0.00781249999818"
       ]
      },
      {
       "output_type": "stream",
       "stream": "stdout",
       "text": [
        "\n",
        "len(da[0]): 423934\n",
        "len(da[0]): 198269\n",
        "len(da[0]): 220542\n",
        "len(da[0]): 358013\n",
        "len(da[0]): 38270\n",
        "len(da[0]): 78973"
       ]
      },
      {
       "output_type": "stream",
       "stream": "stdout",
       "text": [
        "\n",
        "len(da[0]): 317311\n",
        "Feature shape: (174, 910)"
       ]
      },
      {
       "output_type": "stream",
       "stream": "stdout",
       "text": [
        "\n",
        "I am on file 1107 with filename LC_20187-02-06-00_combined.dat \n",
        "dt_min: 0.00781249999955"
       ]
      },
      {
       "output_type": "stream",
       "stream": "stdout",
       "text": [
        "\n",
        "len(da[0]): 124926\n",
        "len(da[0]): 2045\n",
        "len(da[0]): 434175\n",
        "Feature shape: (61, 910)"
       ]
      },
      {
       "output_type": "stream",
       "stream": "stdout",
       "text": [
        "\n",
        "I am on file 1108 with filename LC_90024-02-40-00_combined.dat \n",
        "dt_min: 0.00390624999989"
       ]
      },
      {
       "output_type": "stream",
       "stream": "stdout",
       "text": [
        "\n",
        "len(da[0]): 274431\n",
        "Feature shape: (13, 910)"
       ]
      },
      {
       "output_type": "stream",
       "stream": "stdout",
       "text": [
        "\n",
        "I am on file 1109 with filename LC_93701-01-26-00_combined.dat \n",
        "dt_min: 0.00781249999989"
       ]
      },
      {
       "output_type": "stream",
       "stream": "stdout",
       "text": [
        "\n",
        "len(da[0]): 186367\n",
        "Feature shape: (19, 910)"
       ]
      },
      {
       "output_type": "stream",
       "stream": "stdout",
       "text": [
        "\n",
        "I am on file 1110 with filename LC_20402-01-58-02_combined.dat \n",
        "dt_min: 0.00781249999989"
       ]
      },
      {
       "output_type": "stream",
       "stream": "stdout",
       "text": [
        "\n",
        "len(da[0]): 218109\n",
        "len(da[0]): 52223\n",
        "Feature shape: (26, 910)"
       ]
      },
      {
       "output_type": "stream",
       "stream": "stdout",
       "text": [
        "\n",
        "I am on file 1111 with filename LC_90024-02-35-00_combined.dat \n",
        "dt_min: 0.00390624999999"
       ]
      },
      {
       "output_type": "stream",
       "stream": "stdout",
       "text": [
        "\n",
        "len(da[0]): 184319\n",
        "Feature shape: (8, 910)\n",
        "I am on file 1112 with filename LC_90701-01-14-01_combined.dat \n",
        "dt_min: 0.00781249999989"
       ]
      },
      {
       "output_type": "stream",
       "stream": "stdout",
       "text": [
        "\n",
        "len(da[0]): 137215\n",
        "Feature shape: (13, 910)"
       ]
      },
      {
       "output_type": "stream",
       "stream": "stdout",
       "text": [
        "\n",
        "I am on file 1113 with filename LC_96701-01-47-00_combined.dat \n",
        "dt_min: 0.00781249999989"
       ]
      },
      {
       "output_type": "stream",
       "stream": "stdout",
       "text": [
        "\n",
        "len(da[0]): 407551\n",
        "Feature shape: (46, 910)"
       ]
      },
      {
       "output_type": "stream",
       "stream": "stdout",
       "text": [
        "\n",
        "I am on file 1114 with filename LC_91701-01-65-00_combined.dat \n",
        "dt_min: 0.00781249999989"
       ]
      },
      {
       "output_type": "stream",
       "stream": "stdout",
       "text": [
        "\n",
        "len(da[0]): 247807\n",
        "Feature shape: (27, 910)"
       ]
      },
      {
       "output_type": "stream",
       "stream": "stdout",
       "text": [
        "\n",
        "I am on file 1115 with filename LC_90024-02-23-00_combined.dat \n",
        "dt_min: 0.00390624999999"
       ]
      },
      {
       "output_type": "stream",
       "stream": "stdout",
       "text": [
        "\n",
        "len(da[0]): 163839\n",
        "Feature shape: (6, 910)\n",
        "I am on file 1116 with filename LC_91701-01-69-01_combined.dat \n",
        "dt_min: 0.00781249999989"
       ]
      },
      {
       "output_type": "stream",
       "stream": "stdout",
       "text": [
        "\n",
        "len(da[0]): 86015\n",
        "Feature shape: (7, 910)\n",
        "I am on file 1117 with filename LC_40703-01-30-00_combined.dat \n",
        "dt_min: 0.00781249999989"
       ]
      },
      {
       "output_type": "stream",
       "stream": "stdout",
       "text": [
        "\n",
        "len(da[0]): 227327\n",
        "Feature shape: (24, 910)"
       ]
      },
      {
       "output_type": "stream",
       "stream": "stdout",
       "text": [
        "\n",
        "I am on file 1118 with filename LC_40403-01-11-00_combined.dat \n",
        "dt_min: 0.00781249999989"
       ]
      },
      {
       "output_type": "stream",
       "stream": "stdout",
       "text": [
        "\n",
        "len(da[0]): 341247\n",
        "Feature shape: (38, 910)"
       ]
      },
      {
       "output_type": "stream",
       "stream": "stdout",
       "text": [
        "\n",
        "I am on file 1119 with filename LC_50405-01-01-00_combined.dat \n",
        "dt_min: 0.00781249999818"
       ]
      },
      {
       "output_type": "stream",
       "stream": "stdout",
       "text": [
        "\n",
        "len(da[0]): 362494\n",
        "len(da[0]): 372735\n",
        "Feature shape: (83, 910)"
       ]
      },
      {
       "output_type": "stream",
       "stream": "stdout",
       "text": [
        "\n",
        "I am on file 1120 with filename LC_50703-01-41-02_combined.dat \n",
        "dt_min: 0.00781249999989"
       ]
      },
      {
       "output_type": "stream",
       "stream": "stdout",
       "text": [
        "\n",
        "len(da[0]): 165631\n",
        "Feature shape: (17, 910)"
       ]
      },
      {
       "output_type": "stream",
       "stream": "stdout",
       "text": [
        "\n",
        "I am on file 1121 with filename LC_30402-01-16-00_combined.dat \n",
        "dt_min: 0.00781249999989"
       ]
      },
      {
       "output_type": "stream",
       "stream": "stdout",
       "text": [
        "\n",
        "len(da[0]): 245759\n",
        "Feature shape: (26, 910)"
       ]
      },
      {
       "output_type": "stream",
       "stream": "stdout",
       "text": [
        "\n",
        "I am on file 1122 with filename LC_90105-09-07-00_combined.dat \n",
        "dt_min: 0.00390624999989"
       ]
      },
      {
       "output_type": "stream",
       "stream": "stdout",
       "text": [
        "\n",
        "len(da[0]): 366589\n",
        "len(da[0]): 27647\n",
        "Feature shape: (19, 910)"
       ]
      },
      {
       "output_type": "stream",
       "stream": "stdout",
       "text": [
        "\n",
        "I am on file 1123 with filename LC_95701-01-40-00_combined.dat \n",
        "dt_min: 0.00781249999977"
       ]
      },
      {
       "output_type": "stream",
       "stream": "stdout",
       "text": [
        "\n",
        "len(da[0]): 231423\n",
        "Feature shape: (25, 910)"
       ]
      },
      {
       "output_type": "stream",
       "stream": "stdout",
       "text": [
        "\n",
        "I am on file 1124 with filename LC_70703-01-01-12_combined.dat \n",
        "dt_min: 0.00781249999989"
       ]
      },
      {
       "output_type": "stream",
       "stream": "stdout",
       "text": [
        "\n",
        "len(da[0]): 169983\n",
        "Feature shape: (17, 910)"
       ]
      },
      {
       "output_type": "stream",
       "stream": "stdout",
       "text": [
        "\n",
        "I am on file 1125 with filename LC_20402-01-26-00_combined.dat \n",
        "dt_min: 0.0078125"
       ]
      },
      {
       "output_type": "stream",
       "stream": "stdout",
       "text": [
        "\n",
        "len(da[0]): 253950\n",
        "len(da[0]): 205310\n",
        "len(da[0]): 144893\n",
        "len(da[0]): 407550\n",
        "len(da[0]): 232958\n",
        "len(da[0]): 190973\n",
        "len(da[0]): 235519"
       ]
      },
      {
       "output_type": "stream",
       "stream": "stdout",
       "text": [
        "\n",
        "Feature shape: (179, 910)"
       ]
      },
      {
       "output_type": "stream",
       "stream": "stdout",
       "text": [
        "\n",
        "I am on file 1126 with filename LC_90105-05-03-03_combined.dat \n",
        "dt_min: 0.00390624999989"
       ]
      },
      {
       "output_type": "stream",
       "stream": "stdout",
       "text": [
        "\n",
        "len(da[0]): 441855\n",
        "Feature shape: (23, 910)"
       ]
      },
      {
       "output_type": "stream",
       "stream": "stdout",
       "text": [
        "\n",
        "I am on file 1127 with filename LC_50703-01-42-02_combined.dat \n",
        "dt_min: 0.00781249999989"
       ]
      },
      {
       "output_type": "stream",
       "stream": "stdout",
       "text": [
        "\n",
        "len(da[0]): 157183\n",
        "Feature shape: (16, 910)"
       ]
      },
      {
       "output_type": "stream",
       "stream": "stdout",
       "text": [
        "\n",
        "I am on file 1128 with filename LC_60702-01-01-24_combined.dat \n",
        "dt_min: 0.00781249999818"
       ]
      },
      {
       "output_type": "stream",
       "stream": "stdout",
       "text": [
        "\n",
        "len(da[0]): 407550\n",
        "len(da[0]): 413695\n",
        "Feature shape: (93, 910)"
       ]
      },
      {
       "output_type": "stream",
       "stream": "stdout",
       "text": [
        "\n",
        "I am on file 1129 with filename LC_91701-01-53-03_combined.dat \n",
        "dt_min: 0.00781249999989"
       ]
      },
      {
       "output_type": "stream",
       "stream": "stdout",
       "text": [
        "\n",
        "len(da[0]): 155647\n",
        "Feature shape: (15, 910)"
       ]
      },
      {
       "output_type": "stream",
       "stream": "stdout",
       "text": [
        "\n",
        "I am on file 1130 with filename LC_91701-01-51-02_combined.dat \n",
        "dt_min: 0.00781249999989"
       ]
      },
      {
       "output_type": "stream",
       "stream": "stdout",
       "text": [
        "\n",
        "len(da[0]): 81919\n",
        "Feature shape: (6, 910)\n",
        "I am on file 1131 with filename LC_60701-01-06-02_combined.dat \n",
        "dt_min: 0.00781249999989"
       ]
      },
      {
       "output_type": "stream",
       "stream": "stdout",
       "text": [
        "\n",
        "len(da[0]): 204799\n",
        "Feature shape: (21, 910)"
       ]
      },
      {
       "output_type": "stream",
       "stream": "stdout",
       "text": [
        "\n",
        "I am on file 1132 with filename LC_70702-01-06-01_combined.dat \n",
        "dt_min: 0.00781249999989"
       ]
      },
      {
       "output_type": "stream",
       "stream": "stdout",
       "text": [
        "\n",
        "len(da[0]): 142719\n",
        "Feature shape: (14, 910)"
       ]
      },
      {
       "output_type": "stream",
       "stream": "stdout",
       "text": [
        "\n",
        "I am on file 1133 with filename LC_92702-01-13-00_combined.dat \n",
        "dt_min: 0.00781249999989"
       ]
      },
      {
       "output_type": "stream",
       "stream": "stdout",
       "text": [
        "\n",
        "len(da[0]): 129023\n",
        "Feature shape: (12, 910)"
       ]
      },
      {
       "output_type": "stream",
       "stream": "stdout",
       "text": [
        "\n",
        "I am on file 1134 with filename LC_95701-01-17-01_combined.dat \n",
        "dt_min: 0.00781249999977"
       ]
      },
      {
       "output_type": "stream",
       "stream": "stdout",
       "text": [
        "\n",
        "len(da[0]): 184319\n",
        "Feature shape: (19, 910)"
       ]
      },
      {
       "output_type": "stream",
       "stream": "stdout",
       "text": [
        "\n",
        "I am on file 1135 with filename LC_20402-01-08-01_combined.dat \n",
        "I am on file 1136 with filename LC_90701-01-19-00_combined.dat \n",
        "dt_min: 0.00781249999818"
       ]
      },
      {
       "output_type": "stream",
       "stream": "stdout",
       "text": [
        "\n",
        "len(da[0]): 397310\n",
        "len(da[0]): 401407\n",
        "Feature shape: (90, 910)"
       ]
      },
      {
       "output_type": "stream",
       "stream": "stdout",
       "text": [
        "\n",
        "I am on file 1137 with filename LC_90701-01-05-00_combined.dat \n",
        "dt_min: 0.00781249999989"
       ]
      },
      {
       "output_type": "stream",
       "stream": "stdout",
       "text": [
        "\n",
        "len(da[0]): 212351\n",
        "Feature shape: (22, 910)"
       ]
      },
      {
       "output_type": "stream",
       "stream": "stdout",
       "text": [
        "\n",
        "I am on file 1138 with filename LC_95701-01-46-00_combined.dat \n",
        "dt_min: 0.00781249999989"
       ]
      },
      {
       "output_type": "stream",
       "stream": "stdout",
       "text": [
        "\n",
        "len(da[0]): 187391\n",
        "Feature shape: (19, 910)"
       ]
      },
      {
       "output_type": "stream",
       "stream": "stdout",
       "text": [
        "\n",
        "I am on file 1139 with filename LC_60701-01-20-02_combined.dat \n",
        "dt_min: 0.00781249999989"
       ]
      },
      {
       "output_type": "stream",
       "stream": "stdout",
       "text": [
        "\n",
        "len(da[0]): 280319\n",
        "Feature shape: (31, 910)"
       ]
      },
      {
       "output_type": "stream",
       "stream": "stdout",
       "text": [
        "\n",
        "I am on file 1140 with filename LC_10258-01-04-00_combined.dat \n",
        "dt_min: 0.00390624999977"
       ]
      },
      {
       "output_type": "stream",
       "stream": "stdout",
       "text": [
        "\n",
        "len(da[0]): 868350\n",
        "len(da[0]): 872446\n",
        "len(da[0]): 733183"
       ]
      },
      {
       "output_type": "stream",
       "stream": "stdout",
       "text": [
        "\n",
        "Feature shape: (140, 910)"
       ]
      },
      {
       "output_type": "stream",
       "stream": "stdout",
       "text": [
        "\n",
        "I am on file 1141 with filename LC_70702-01-36-01_combined.dat \n",
        "dt_min: 0.00781249999994"
       ]
      },
      {
       "output_type": "stream",
       "stream": "stdout",
       "text": [
        "\n",
        "len(da[0]): 79871\n",
        "Feature shape: (6, 910)\n",
        "I am on file 1142 with filename LC_50703-01-05-02_combined.dat \n",
        "dt_min: 0.00781249999994"
       ]
      },
      {
       "output_type": "stream",
       "stream": "stdout",
       "text": [
        "\n",
        "len(da[0]): 75646\n",
        "len(da[0]): 1149\n",
        "len(da[0]): 64639\n",
        "Feature shape: (10, 910)"
       ]
      },
      {
       "output_type": "stream",
       "stream": "stdout",
       "text": [
        "\n",
        "I am on file 1143 with filename LC_80701-01-19-01_combined.dat \n",
        "dt_min: 0.00781249999989"
       ]
      },
      {
       "output_type": "stream",
       "stream": "stdout",
       "text": [
        "\n",
        "len(da[0]): 190463\n",
        "Feature shape: (20, 910)"
       ]
      },
      {
       "output_type": "stream",
       "stream": "stdout",
       "text": [
        "\n",
        "I am on file 1144 with filename LC_40116-01-02-04_combined.dat \n",
        "dt_min: 0.00781249999989"
       ]
      },
      {
       "output_type": "stream",
       "stream": "stdout",
       "text": [
        "\n",
        "len(da[0]): 171775\n",
        "Feature shape: (17, 910)"
       ]
      },
      {
       "output_type": "stream",
       "stream": "stdout",
       "text": [
        "\n",
        "I am on file 1145 with filename LC_92702-01-22-01_combined.dat \n",
        "dt_min: 0.00781249999989"
       ]
      },
      {
       "output_type": "stream",
       "stream": "stdout",
       "text": [
        "\n",
        "len(da[0]): 215039\n",
        "Feature shape: (23, 910)"
       ]
      },
      {
       "output_type": "stream",
       "stream": "stdout",
       "text": [
        "\n",
        "I am on file 1146 with filename LC_50703-01-43-01_combined.dat \n",
        "dt_min: 0.00781249999989"
       ]
      },
      {
       "output_type": "stream",
       "stream": "stdout",
       "text": [
        "\n",
        "len(da[0]): 278526\n",
        "len(da[0]): 124927\n",
        "Feature shape: (42, 910)"
       ]
      },
      {
       "output_type": "stream",
       "stream": "stdout",
       "text": [
        "\n",
        "I am on file 1147 with filename LC_91701-01-03-00_combined.dat \n",
        "dt_min: 0.00781249999989"
       ]
      },
      {
       "output_type": "stream",
       "stream": "stdout",
       "text": [
        "\n",
        "len(da[0]): 239615\n",
        "Feature shape: (26, 910)"
       ]
      },
      {
       "output_type": "stream",
       "stream": "stdout",
       "text": [
        "\n",
        "I am on file 1148 with filename LC_60405-01-04-00_combined.dat \n",
        "dt_min: 0.00781249999999"
       ]
      },
      {
       "output_type": "stream",
       "stream": "stdout",
       "text": [
        "\n",
        "len(da[0]): 65535\n",
        "Feature shape: (4, 910)\n",
        "I am on file 1149 with filename LC_90701-01-27-00_combined.dat \n",
        "dt_min: 0.00781249999989"
       ]
      },
      {
       "output_type": "stream",
       "stream": "stdout",
       "text": [
        "\n",
        "len(da[0]): 413695\n",
        "Feature shape: (47, 910)"
       ]
      },
      {
       "output_type": "stream",
       "stream": "stdout",
       "text": [
        "\n",
        "I am on file 1150 with filename LC_50703-01-37-00_combined.dat \n",
        "dt_min: 0.00781249999818"
       ]
      },
      {
       "output_type": "stream",
       "stream": "stdout",
       "text": [
        "\n",
        "len(da[0]): 348158\n",
        "len(da[0]): 405503\n",
        "Feature shape: (85, 910)"
       ]
      },
      {
       "output_type": "stream",
       "stream": "stdout",
       "text": [
        "\n",
        "I am on file 1151 with filename LC_40703-01-42-01_combined.dat \n",
        "dt_min: 0.00781249999999"
       ]
      },
      {
       "output_type": "stream",
       "stream": "stdout",
       "text": [
        "\n",
        "len(da[0]): 38910\n",
        "len(da[0]): 71679\n",
        "Feature shape: (6, 910)\n",
        "I am on file 1152 with filename LC_30183-02-02-02_combined.dat \n",
        "dt_min: 0.00781249999989"
       ]
      },
      {
       "output_type": "stream",
       "stream": "stdout",
       "text": [
        "\n",
        "len(da[0]): 167934\n",
        "len(da[0]): 299645\n",
        "len(da[0]): 98686\n",
        "len(da[0]): 245885\n",
        "len(da[0]): 174974\n",
        "len(da[0]): 8189\n",
        "len(da[0]): 389119\n",
        "Feature shape: (148, 910)"
       ]
      },
      {
       "output_type": "stream",
       "stream": "stdout",
       "text": [
        "\n",
        "I am on file 1153 with filename LC_70702-01-34-00_combined.dat \n",
        "dt_min: 0.00781249999989"
       ]
      },
      {
       "output_type": "stream",
       "stream": "stdout",
       "text": [
        "\n",
        "len(da[0]): 215039\n",
        "Feature shape: (23, 910)"
       ]
      },
      {
       "output_type": "stream",
       "stream": "stdout",
       "text": [
        "\n",
        "I am on file 1154 with filename LC_70702-01-08-00_combined.dat \n",
        "dt_min: 0.00781249999989"
       ]
      },
      {
       "output_type": "stream",
       "stream": "stdout",
       "text": [
        "\n",
        "len(da[0]): 178175\n",
        "Feature shape: (18, 910)"
       ]
      },
      {
       "output_type": "stream",
       "stream": "stdout",
       "text": [
        "\n",
        "I am on file 1155 with filename LC_20402-01-22-00_combined.dat \n",
        "I am on file 1156 with filename LC_95701-01-23-01_combined.dat \n",
        "dt_min: 0.00781249999977"
       ]
      },
      {
       "output_type": "stream",
       "stream": "stdout",
       "text": [
        "\n",
        "len(da[0]): 219135\n",
        "Feature shape: (23, 910)"
       ]
      },
      {
       "output_type": "stream",
       "stream": "stdout",
       "text": [
        "\n",
        "I am on file 1157 with filename LC_91701-01-53-00_combined.dat \n",
        "dt_min: 0.00781249999989"
       ]
      },
      {
       "output_type": "stream",
       "stream": "stdout",
       "text": [
        "\n",
        "len(da[0]): 245759\n",
        "Feature shape: (26, 910)"
       ]
      },
      {
       "output_type": "stream",
       "stream": "stdout",
       "text": [
        "\n",
        "I am on file 1158 with filename LC_91701-01-54-00_combined.dat \n",
        "dt_min: 0.00781249999989"
       ]
      },
      {
       "output_type": "stream",
       "stream": "stdout",
       "text": [
        "\n",
        "len(da[0]): 296703\n",
        "Feature shape: (33, 910)"
       ]
      },
      {
       "output_type": "stream",
       "stream": "stdout",
       "text": [
        "\n",
        "I am on file 1159 with filename LC_40703-01-07-00_combined.dat \n",
        "dt_min: 0.00781249999818"
       ]
      },
      {
       "output_type": "stream",
       "stream": "stdout",
       "text": [
        "\n",
        "len(da[0]): 344062\n",
        "len(da[0]): 423934\n",
        "len(da[0]): 51582\n",
        "len(da[0]): 90621\n",
        "len(da[0]): 13437\n",
        "len(da[0]): 233471\n",
        "Feature shape: (122, 910)"
       ]
      },
      {
       "output_type": "stream",
       "stream": "stdout",
       "text": [
        "\n",
        "I am on file 1160 with filename LC_91701-01-39-00_combined.dat \n",
        "dt_min: 0.00781249999989"
       ]
      },
      {
       "output_type": "stream",
       "stream": "stdout",
       "text": [
        "\n",
        "len(da[0]): 221183\n",
        "Feature shape: (23, 910)"
       ]
      },
      {
       "output_type": "stream",
       "stream": "stdout",
       "text": [
        "\n",
        "I am on file 1161 with filename LC_60701-01-22-00_combined.dat \n",
        "dt_min: 0.00781249999818"
       ]
      },
      {
       "output_type": "stream",
       "stream": "stdout",
       "text": [
        "\n",
        "len(da[0]): 417790\n",
        "len(da[0]): 417791\n",
        "Feature shape: (94, 910)"
       ]
      },
      {
       "output_type": "stream",
       "stream": "stdout",
       "text": [
        "\n",
        "I am on file 1162 with filename LC_50703-01-02-00_combined.dat \n",
        "dt_min: 0.00781249999989"
       ]
      },
      {
       "output_type": "stream",
       "stream": "stdout",
       "text": [
        "\n",
        "len(da[0]): 135167\n",
        "Feature shape: (13, 910)"
       ]
      },
      {
       "output_type": "stream",
       "stream": "stdout",
       "text": [
        "\n",
        "I am on file 1163 with filename LC_95701-01-44-00_combined.dat \n",
        "dt_min: 0.00781249999977"
       ]
      },
      {
       "output_type": "stream",
       "stream": "stdout",
       "text": [
        "\n",
        "len(da[0]): 108542\n",
        "len(da[0]): 186367\n",
        "Feature shape: (29, 910)"
       ]
      },
      {
       "output_type": "stream",
       "stream": "stdout",
       "text": [
        "\n",
        "I am on file 1164 with filename LC_20402-01-50-01_combined.dat \n",
        "dt_min: 0.00781249999989"
       ]
      },
      {
       "output_type": "stream",
       "stream": "stdout",
       "text": [
        "\n",
        "len(da[0]): 362494\n",
        "len(da[0]): 243710\n",
        "len(da[0]): 26623\n",
        "Feature shape: (67, 910)"
       ]
      },
      {
       "output_type": "stream",
       "stream": "stdout",
       "text": [
        "\n",
        "I am on file 1165 with filename LC_70702-01-22-00_combined.dat \n",
        "dt_min: 0.00781249999989"
       ]
      },
      {
       "output_type": "stream",
       "stream": "stdout",
       "text": [
        "\n",
        "len(da[0]): 373887\n",
        "Feature shape: (42, 910)"
       ]
      },
      {
       "output_type": "stream",
       "stream": "stdout",
       "text": [
        "\n",
        "I am on file 1166 with filename LC_40703-01-41-05_combined.dat \n",
        "dt_min: 0.00781249999989"
       ]
      },
      {
       "output_type": "stream",
       "stream": "stdout",
       "text": [
        "\n",
        "len(da[0]): 149503\n",
        "Feature shape: (15, 910)"
       ]
      },
      {
       "output_type": "stream",
       "stream": "stdout",
       "text": [
        "\n",
        "I am on file 1167 with filename LC_92702-01-07-00_combined.dat \n",
        "dt_min: 0.00781249999989"
       ]
      },
      {
       "output_type": "stream",
       "stream": "stdout",
       "text": [
        "\n",
        "len(da[0]): 188415\n",
        "Feature shape: (19, 910)"
       ]
      },
      {
       "output_type": "stream",
       "stream": "stdout",
       "text": [
        "\n",
        "I am on file 1168 with filename LC_95701-01-33-01_combined.dat \n",
        "dt_min: 0.00781249999977"
       ]
      },
      {
       "output_type": "stream",
       "stream": "stdout",
       "text": [
        "\n",
        "len(da[0]): 179839\n",
        "Feature shape: (18, 910)"
       ]
      },
      {
       "output_type": "stream",
       "stream": "stdout",
       "text": [
        "\n",
        "I am on file 1169 with filename LC_90105-02-05-00_combined.dat \n",
        "dt_min: 0.00390624999989"
       ]
      },
      {
       "output_type": "stream",
       "stream": "stdout",
       "text": [
        "\n",
        "len(da[0]): 831486\n",
        "len(da[0]): 831487\n",
        "Feature shape: (94, 910)"
       ]
      },
      {
       "output_type": "stream",
       "stream": "stdout",
       "text": [
        "\n",
        "I am on file 1170 with filename LC_91701-01-60-01_combined.dat \n",
        "dt_min: 0.00781249999989"
       ]
      },
      {
       "output_type": "stream",
       "stream": "stdout",
       "text": [
        "\n",
        "len(da[0]): 180223\n",
        "Feature shape: (18, 910)"
       ]
      },
      {
       "output_type": "stream",
       "stream": "stdout",
       "text": [
        "\n",
        "I am on file 1171 with filename LC_91701-01-08-00_combined.dat \n",
        "dt_min: 0.00781249999989"
       ]
      },
      {
       "output_type": "stream",
       "stream": "stdout",
       "text": [
        "\n",
        "len(da[0]): 180863\n",
        "Feature shape: (19, 910)"
       ]
      },
      {
       "output_type": "stream",
       "stream": "stdout",
       "text": [
        "\n",
        "I am on file 1172 with filename LC_91701-01-04-00_combined.dat \n",
        "dt_min: 0.00781249999989"
       ]
      },
      {
       "output_type": "stream",
       "stream": "stdout",
       "text": [
        "\n",
        "len(da[0]): 299007\n",
        "Feature shape: (33, 910)"
       ]
      },
      {
       "output_type": "stream",
       "stream": "stdout",
       "text": [
        "\n",
        "I am on file 1173 with filename LC_20402-01-32-01_combined.dat \n",
        "I am on file 1174 with filename LC_40703-01-12-00_combined.dat \n",
        "dt_min: 0.00781249999818"
       ]
      },
      {
       "output_type": "stream",
       "stream": "stdout",
       "text": [
        "\n",
        "len(da[0]): 249726\n",
        "len(da[0]): 97405\n",
        "len(da[0]): 350206\n",
        "len(da[0]): 411647\n",
        "Feature shape: (121, 910)"
       ]
      },
      {
       "output_type": "stream",
       "stream": "stdout",
       "text": [
        "\n",
        "I am on file 1175 with filename LC_60701-01-17-02_combined.dat \n",
        "dt_min: 0.00781249999994"
       ]
      },
      {
       "output_type": "stream",
       "stream": "stdout",
       "text": [
        "\n",
        "len(da[0]): 104447\n",
        "Feature shape: (9, 910)\n",
        "I am on file 1176 with filename LC_95701-01-52-01_combined.dat \n",
        "dt_min: 0.00781249999977"
       ]
      },
      {
       "output_type": "stream",
       "stream": "stdout",
       "text": [
        "\n",
        "len(da[0]): 155647\n",
        "Feature shape: (15, 910)"
       ]
      },
      {
       "output_type": "stream",
       "stream": "stdout",
       "text": [
        "\n",
        "I am on file 1177 with filename LC_91701-01-76-00_combined.dat \n",
        "dt_min: 0.00781249999989"
       ]
      },
      {
       "output_type": "stream",
       "stream": "stdout",
       "text": [
        "\n",
        "len(da[0]): 124927\n",
        "Feature shape: (12, 910)"
       ]
      },
      {
       "output_type": "stream",
       "stream": "stdout",
       "text": [
        "\n",
        "I am on file 1178 with filename LC_20402-01-30-01_combined.dat \n",
        "dt_min: 0.00781249999955"
       ]
      },
      {
       "output_type": "stream",
       "stream": "stdout",
       "text": [
        "\n",
        "len(da[0]): 77822\n",
        "len(da[0]): 313343\n",
        "Feature shape: (41, 910)"
       ]
      },
      {
       "output_type": "stream",
       "stream": "stdout",
       "text": [
        "\n",
        "I am on file 1179 with filename LC_91701-01-12-00_combined.dat \n",
        "dt_min: 0.00781249999989"
       ]
      },
      {
       "output_type": "stream",
       "stream": "stdout",
       "text": [
        "\n",
        "len(da[0]): 8958\n",
        "len(da[0]): 256254\n",
        "Feature shape: (28, 910)"
       ]
      },
      {
       "output_type": "stream",
       "stream": "stdout",
       "text": [
        "\n",
        "I am on file 1180 with filename LC_60701-01-17-00_combined.dat \n",
        "dt_min: 0.00781249999989"
       ]
      },
      {
       "output_type": "stream",
       "stream": "stdout",
       "text": [
        "\n",
        "len(da[0]): 176127\n",
        "Feature shape: (18, 910)"
       ]
      },
      {
       "output_type": "stream",
       "stream": "stdout",
       "text": [
        "\n",
        "I am on file 1181 with filename LC_94701-01-58-00_combined.dat \n",
        "dt_min: 0.00781249999989"
       ]
      },
      {
       "output_type": "stream",
       "stream": "stdout",
       "text": [
        "\n",
        "len(da[0]): 157567\n",
        "Feature shape: (16, 910)"
       ]
      },
      {
       "output_type": "stream",
       "stream": "stdout",
       "text": [
        "\n",
        "I am on file 1182 with filename LC_50703-01-41-00_combined.dat \n",
        "dt_min: 0.00781249999989"
       ]
      },
      {
       "output_type": "stream",
       "stream": "stdout",
       "text": [
        "\n",
        "len(da[0]): 234239\n",
        "Feature shape: (25, 910)"
       ]
      },
      {
       "output_type": "stream",
       "stream": "stdout",
       "text": [
        "\n",
        "I am on file 1183 with filename LC_50703-01-08-00_combined.dat \n",
        "dt_min: 0.00781249999989"
       ]
      },
      {
       "output_type": "stream",
       "stream": "stdout",
       "text": [
        "\n",
        "len(da[0]): 358399\n",
        "Feature shape: (40, 910)"
       ]
      },
      {
       "output_type": "stream",
       "stream": "stdout",
       "text": [
        "\n",
        "I am on file 1184 with filename LC_50703-01-17-00_combined.dat \n",
        "dt_min: 0.00781249999989"
       ]
      },
      {
       "output_type": "stream",
       "stream": "stdout",
       "text": [
        "\n",
        "len(da[0]): 178175\n",
        "Feature shape: (18, 910)"
       ]
      },
      {
       "output_type": "stream",
       "stream": "stdout",
       "text": [
        "\n",
        "I am on file 1185 with filename LC_50703-01-52-01_combined.dat \n",
        "dt_min: 0.00781249999989"
       ]
      },
      {
       "output_type": "stream",
       "stream": "stdout",
       "text": [
        "\n",
        "len(da[0]): 135167\n",
        "Feature shape: (13, 910)"
       ]
      },
      {
       "output_type": "stream",
       "stream": "stdout",
       "text": [
        "\n",
        "I am on file 1186 with filename LC_50703-01-62-01_combined.dat \n",
        "dt_min: 0.00781249999989"
       ]
      },
      {
       "output_type": "stream",
       "stream": "stdout",
       "text": [
        "\n",
        "len(da[0]): 200703\n",
        "Feature shape: (21, 910)"
       ]
      },
      {
       "output_type": "stream",
       "stream": "stdout",
       "text": [
        "\n",
        "I am on file 1187 with filename LC_60702-01-01-22_combined.dat \n",
        "dt_min: 0.00781249999989"
       ]
      },
      {
       "output_type": "stream",
       "stream": "stdout",
       "text": [
        "\n",
        "len(da[0]): 172926\n",
        "len(da[0]): 239742\n",
        "Feature shape: (44, 910)"
       ]
      },
      {
       "output_type": "stream",
       "stream": "stdout",
       "text": [
        "\n",
        "I am on file 1188 with filename LC_91701-01-58-02_combined.dat \n",
        "dt_min: 0.00781249999989"
       ]
      },
      {
       "output_type": "stream",
       "stream": "stdout",
       "text": [
        "\n",
        "len(da[0]): 86015\n",
        "Feature shape: (7, 910)\n",
        "I am on file 1189 with filename LC_90701-01-20-01_combined.dat \n",
        "dt_min: 0.00781249999994"
       ]
      },
      {
       "output_type": "stream",
       "stream": "stdout",
       "text": [
        "\n",
        "len(da[0]): 112255\n",
        "Feature shape: (10, 910)\n",
        "I am on file 1190 with filename LC_94701-01-05-00_combined.dat \n",
        "dt_min: 0.00781249999977"
       ]
      },
      {
       "output_type": "stream",
       "stream": "stdout",
       "text": [
        "\n",
        "len(da[0]): 133119\n",
        "Feature shape: (13, 910)"
       ]
      },
      {
       "output_type": "stream",
       "stream": "stdout",
       "text": [
        "\n",
        "I am on file 1191 with filename LC_93701-01-20-01_combined.dat \n",
        "dt_min: 0.00781249999989"
       ]
      },
      {
       "output_type": "stream",
       "stream": "stdout",
       "text": [
        "\n",
        "len(da[0]): 147455\n",
        "Feature shape: (14, 910)"
       ]
      },
      {
       "output_type": "stream",
       "stream": "stdout",
       "text": [
        "\n",
        "I am on file 1192 with filename LC_60701-01-07-00_combined.dat \n",
        "dt_min: 0.00781249999989"
       ]
      },
      {
       "output_type": "stream",
       "stream": "stdout",
       "text": [
        "\n",
        "len(da[0]): 274431\n",
        "Feature shape: (30, 910)"
       ]
      },
      {
       "output_type": "stream",
       "stream": "stdout",
       "text": [
        "\n",
        "I am on file 1193 with filename LC_93701-01-25-00_combined.dat \n",
        "dt_min: 0.00781249999989"
       ]
      },
      {
       "output_type": "stream",
       "stream": "stdout",
       "text": [
        "\n",
        "len(da[0]): 192511\n",
        "Feature shape: (20, 910)"
       ]
      },
      {
       "output_type": "stream",
       "stream": "stdout",
       "text": [
        "\n",
        "I am on file 1194 with filename LC_90024-02-32-00_combined.dat \n",
        "dt_min: 0.00390624999999"
       ]
      },
      {
       "output_type": "stream",
       "stream": "stdout",
       "text": [
        "\n",
        "len(da[0]): 231679\n",
        "Feature shape: (11, 910)"
       ]
      },
      {
       "output_type": "stream",
       "stream": "stdout",
       "text": [
        "\n",
        "I am on file 1195 with filename LC_30402-01-08-00_combined.dat \n",
        "dt_min: 0.00781249999955"
       ]
      },
      {
       "output_type": "stream",
       "stream": "stdout",
       "text": [
        "\n",
        "len(da[0]): 133629\n",
        "len(da[0]): 80254\n",
        "len(da[0]): 431229\n",
        "len(da[0]): 18430\n",
        "Feature shape: (68, 910)"
       ]
      },
      {
       "output_type": "stream",
       "stream": "stdout",
       "text": [
        "\n",
        "I am on file 1196 with filename LC_10408-01-43-00_combined.dat \n",
        "I am on file 1197 with filename LC_80701-01-58-00_combined.dat \n",
        "dt_min: 0.00781249999989"
       ]
      },
      {
       "output_type": "stream",
       "stream": "stdout",
       "text": [
        "\n",
        "len(da[0]): 411647\n",
        "Feature shape: (47, 910)"
       ]
      },
      {
       "output_type": "stream",
       "stream": "stdout",
       "text": [
        "\n",
        "I am on file 1198 with filename LC_90701-01-28-01_combined.dat \n",
        "dt_min: 0.00781249999999"
       ]
      },
      {
       "output_type": "stream",
       "stream": "stdout",
       "text": [
        "\n",
        "len(da[0]): 100351\n",
        "Feature shape: (9, 910)\n",
        "I am on file 1199 with filename LC_60701-01-28-00_combined.dat \n",
        "dt_min: 0.00781249999818"
       ]
      },
      {
       "output_type": "stream",
       "stream": "stdout",
       "text": [
        "\n",
        "len(da[0]): 391166\n",
        "len(da[0]): 405502\n",
        "len(da[0]): 407551\n",
        "Feature shape: (136, 910)"
       ]
      },
      {
       "output_type": "stream",
       "stream": "stdout",
       "text": [
        "\n",
        "I am on file 1200 with filename LC_96701-01-32-00_combined.dat \n",
        "dt_min: 0.00781249999977"
       ]
      },
      {
       "output_type": "stream",
       "stream": "stdout",
       "text": [
        "\n",
        "len(da[0]): 303103\n",
        "Feature shape: (33, 910)"
       ]
      },
      {
       "output_type": "stream",
       "stream": "stdout",
       "text": [
        "\n",
        "I am on file 1201 with filename LC_30703-01-24-02_combined.dat \n",
        "dt_min: 0.00781249999999"
       ]
      },
      {
       "output_type": "stream",
       "stream": "stdout",
       "text": [
        "\n",
        "len(da[0]): 77823\n",
        "Feature shape: (6, 910)\n",
        "I am on file 1202 with filename LC_40115-01-02-00_combined.dat \n",
        "dt_min: 0.00781249999989"
       ]
      },
      {
       "output_type": "stream",
       "stream": "stdout",
       "text": [
        "\n",
        "len(da[0]): 184318\n",
        "len(da[0]): 251902\n",
        "len(da[0]): 171005\n",
        "len(da[0]): 14334\n",
        "Feature shape: (63, 910)"
       ]
      },
      {
       "output_type": "stream",
       "stream": "stdout",
       "text": [
        "\n",
        "I am on file 1203 with filename LC_93701-01-10-02_combined.dat \n",
        "dt_min: 0.00781249999989"
       ]
      },
      {
       "output_type": "stream",
       "stream": "stdout",
       "text": [
        "\n",
        "len(da[0]): 114687\n",
        "Feature shape: (10, 910)\n",
        "I am on file 1204 with filename LC_40116-01-01-03_combined.dat \n",
        "dt_min: 0.00781249999989"
       ]
      },
      {
       "output_type": "stream",
       "stream": "stdout",
       "text": [
        "\n",
        "len(da[0]): 305151\n",
        "Feature shape: (34, 910)"
       ]
      },
      {
       "output_type": "stream",
       "stream": "stdout",
       "text": [
        "\n",
        "I am on file 1205 with filename LC_90105-06-01-00_combined.dat \n",
        "dt_min: 0.00390624999818"
       ]
      },
      {
       "output_type": "stream",
       "stream": "stdout",
       "text": [
        "\n",
        "len(da[0]): 835582\n",
        "len(da[0]): 835582\n",
        "len(da[0]): 835582"
       ]
      },
      {
       "output_type": "stream",
       "stream": "stdout",
       "text": [
        "\n",
        "len(da[0]): 227582\n",
        "len(da[0]): 605950\n",
        "Feature shape: (184, 910)"
       ]
      },
      {
       "output_type": "stream",
       "stream": "stdout",
       "text": [
        "\n",
        "I am on file 1206 with filename LC_70702-01-40-01_combined.dat \n",
        "dt_min: 0.00781249999994"
       ]
      },
      {
       "output_type": "stream",
       "stream": "stdout",
       "text": [
        "\n",
        "len(da[0]): 114687\n",
        "Feature shape: (10, 910)"
       ]
      },
      {
       "output_type": "stream",
       "stream": "stdout",
       "text": [
        "\n",
        "I am on file 1207 with filename LC_40703-01-50-02_combined.dat \n",
        "dt_min: 0.00781249999989"
       ]
      },
      {
       "output_type": "stream",
       "stream": "stdout",
       "text": [
        "\n",
        "len(da[0]): 180223\n",
        "Feature shape: (18, 910)"
       ]
      },
      {
       "output_type": "stream",
       "stream": "stdout",
       "text": [
        "\n",
        "I am on file 1208 with filename LC_91701-01-02-00_combined.dat \n",
        "dt_min: 0.00781249999994"
       ]
      },
      {
       "output_type": "stream",
       "stream": "stdout",
       "text": [
        "\n",
        "len(da[0]): 122879\n",
        "Feature shape: (11, 910)"
       ]
      },
      {
       "output_type": "stream",
       "stream": "stdout",
       "text": [
        "\n",
        "I am on file 1209 with filename LC_90024-02-40-01_combined.dat \n",
        "dt_min: 0.00390624999999"
       ]
      },
      {
       "output_type": "stream",
       "stream": "stdout",
       "text": [
        "\n",
        "len(da[0]): 163839\n",
        "Feature shape: (6, 910)\n",
        "I am on file 1210 with filename LC_96378-01-01-03_combined.dat \n",
        "dt_min: 0.00781249999977"
       ]
      },
      {
       "output_type": "stream",
       "stream": "stdout",
       "text": [
        "\n",
        "len(da[0]): 352254\n",
        "len(da[0]): 372735\n",
        "Feature shape: (81, 910)"
       ]
      },
      {
       "output_type": "stream",
       "stream": "stdout",
       "text": [
        "\n",
        "I am on file 1211 with filename LC_90701-01-50-01_combined.dat \n",
        "dt_min: 0.00781249999989"
       ]
      },
      {
       "output_type": "stream",
       "stream": "stdout",
       "text": [
        "\n",
        "len(da[0]): 135167\n",
        "Feature shape: (13, 910)"
       ]
      },
      {
       "output_type": "stream",
       "stream": "stdout",
       "text": [
        "\n",
        "I am on file 1212 with filename LC_40703-01-42-00_combined.dat \n",
        "dt_min: 0.00781249999989"
       ]
      },
      {
       "output_type": "stream",
       "stream": "stdout",
       "text": [
        "\n",
        "len(da[0]): 147455\n",
        "Feature shape: (14, 910)"
       ]
      },
      {
       "output_type": "stream",
       "stream": "stdout",
       "text": [
        "\n",
        "I am on file 1213 with filename LC_50405-01-02-00_combined.dat \n",
        "dt_min: 0.00781249999989"
       ]
      },
      {
       "output_type": "stream",
       "stream": "stdout",
       "text": [
        "\n",
        "len(da[0]): 397311\n",
        "Feature shape: (45, 910)"
       ]
      },
      {
       "output_type": "stream",
       "stream": "stdout",
       "text": [
        "\n",
        "I am on file 1214 with filename LC_80127-02-03-00_combined.dat \n",
        "dt_min: 0.00390624999989"
       ]
      },
      {
       "output_type": "stream",
       "stream": "stdout",
       "text": [
        "\n",
        "len(da[0]): 491518\n",
        "len(da[0]): 815102\n",
        "len(da[0]): 811006\n",
        "len(da[0]): 174334"
       ]
      },
      {
       "output_type": "stream",
       "stream": "stdout",
       "text": [
        "\n",
        "len(da[0]): 483070\n",
        "Feature shape: (151, 910)"
       ]
      },
      {
       "output_type": "stream",
       "stream": "stdout",
       "text": [
        "\n",
        "I am on file 1215 with filename LC_50703-01-61-02_combined.dat \n",
        "dt_min: 0.00781249999989"
       ]
      },
      {
       "output_type": "stream",
       "stream": "stdout",
       "text": [
        "\n",
        "len(da[0]): 172031\n",
        "Feature shape: (17, 910)"
       ]
      },
      {
       "output_type": "stream",
       "stream": "stdout",
       "text": [
        "\n",
        "I am on file 1216 with filename LC_50703-01-04-02_combined.dat \n",
        "dt_min: 0.00781249999994"
       ]
      },
      {
       "output_type": "stream",
       "stream": "stdout",
       "text": [
        "\n",
        "len(da[0]): 112639\n",
        "Feature shape: (10, 910)\n",
        "I am on file 1217 with filename LC_50703-01-13-01_combined.dat \n",
        "dt_min: 0.00781249999989"
       ]
      },
      {
       "output_type": "stream",
       "stream": "stdout",
       "text": [
        "\n",
        "len(da[0]): 270335\n",
        "Feature shape: (29, 910)"
       ]
      },
      {
       "output_type": "stream",
       "stream": "stdout",
       "text": [
        "\n",
        "I am on file 1218 with filename LC_80701-01-55-00_combined.dat \n",
        "dt_min: 0.00781249999989"
       ]
      },
      {
       "output_type": "stream",
       "stream": "stdout",
       "text": [
        "\n",
        "len(da[0]): 266239\n",
        "Feature shape: (29, 910)"
       ]
      },
      {
       "output_type": "stream",
       "stream": "stdout",
       "text": [
        "\n",
        "I am on file 1219 with filename LC_80188-01-01-01_combined.dat \n",
        "dt_min: 0.00390624999989"
       ]
      },
      {
       "output_type": "stream",
       "stream": "stdout",
       "text": [
        "\n",
        "len(da[0]): 417279\n",
        "Feature shape: (22, 910)"
       ]
      },
      {
       "output_type": "stream",
       "stream": "stdout",
       "text": [
        "\n",
        "I am on file 1220 with filename LC_30182-01-04-00_combined.dat \n",
        "dt_min: 0.00781249999955"
       ]
      },
      {
       "output_type": "stream",
       "stream": "stdout",
       "text": [
        "\n",
        "len(da[0]): 100094\n",
        "len(da[0]): 127741\n",
        "len(da[0]): 86013\n",
        "len(da[0]): 106494\n",
        "len(da[0]): 35581\n",
        "len(da[0]): 332285\n",
        "len(da[0]): 56062\n",
        "len(da[0]): 425982\n",
        "len(da[0]): 200957"
       ]
      },
      {
       "output_type": "stream",
       "stream": "stdout",
       "text": [
        "\n",
        "len(da[0]): 223999\n",
        "Feature shape: (171, 910)"
       ]
      },
      {
       "output_type": "stream",
       "stream": "stdout",
       "text": [
        "\n",
        "I am on file 1221 with filename LC_20187-02-04-00_combined.dat \n",
        "dt_min: 0.00781249999955"
       ]
      },
      {
       "output_type": "stream",
       "stream": "stdout",
       "text": [
        "\n",
        "len(da[0]): 172030\n",
        "len(da[0]): 334717\n",
        "len(da[0]): 95359\n",
        "Feature shape: (62, 910)"
       ]
      },
      {
       "output_type": "stream",
       "stream": "stdout",
       "text": [
        "\n",
        "I am on file 1222 with filename LC_60702-01-01-14_combined.dat \n",
        "dt_min: 0.00781249999989"
       ]
      },
      {
       "output_type": "stream",
       "stream": "stdout",
       "text": [
        "\n",
        "len(da[0]): 270335\n",
        "Feature shape: (29, 910)"
       ]
      },
      {
       "output_type": "stream",
       "stream": "stdout",
       "text": [
        "\n",
        "I am on file 1223 with filename LC_60701-01-07-01_combined.dat \n",
        "dt_min: 0.00781249999989"
       ]
      },
      {
       "output_type": "stream",
       "stream": "stdout",
       "text": [
        "\n",
        "len(da[0]): 260095\n",
        "Feature shape: (28, 910)"
       ]
      },
      {
       "output_type": "stream",
       "stream": "stdout",
       "text": [
        "\n",
        "I am on file 1224 with filename LC_94701-01-16-00_combined.dat \n",
        "dt_min: 0.00781249999977"
       ]
      },
      {
       "output_type": "stream",
       "stream": "stdout",
       "text": [
        "\n",
        "len(da[0]): 401407\n",
        "Feature shape: (45, 910)"
       ]
      },
      {
       "output_type": "stream",
       "stream": "stdout",
       "text": [
        "\n",
        "I am on file 1225 with filename LC_50703-01-33-02_combined.dat \n",
        "dt_min: 0.00781249999994"
       ]
      },
      {
       "output_type": "stream",
       "stream": "stdout",
       "text": [
        "\n",
        "len(da[0]): 106495\n",
        "Feature shape: (9, 910)\n",
        "I am on file 1226 with filename LC_90105-10-06-00_combined.dat \n",
        "dt_min: 0.00390624999989"
       ]
      },
      {
       "output_type": "stream",
       "stream": "stdout",
       "text": [
        "\n",
        "len(da[0]): 634879\n",
        "Feature shape: (35, 910)"
       ]
      },
      {
       "output_type": "stream",
       "stream": "stdout",
       "text": [
        "\n",
        "I am on file 1227 with filename LC_95701-01-41-00_combined.dat \n",
        "dt_min: 0.00781249999977"
       ]
      },
      {
       "output_type": "stream",
       "stream": "stdout",
       "text": [
        "\n",
        "len(da[0]): 255999\n",
        "Feature shape: (28, 910)"
       ]
      },
      {
       "output_type": "stream",
       "stream": "stdout",
       "text": [
        "\n",
        "I am on file 1228 with filename LC_80127-05-05-00_combined.dat \n",
        "dt_min: 0.00390624999989"
       ]
      },
      {
       "output_type": "stream",
       "stream": "stdout",
       "text": [
        "\n",
        "len(da[0]): 483327\n",
        "Feature shape: (26, 910)"
       ]
      },
      {
       "output_type": "stream",
       "stream": "stdout",
       "text": [
        "\n",
        "I am on file 1229 with filename LC_40703-01-20-02_combined.dat \n",
        "dt_min: 0.00781249999994"
       ]
      },
      {
       "output_type": "stream",
       "stream": "stdout",
       "text": [
        "\n",
        "len(da[0]): 67582\n",
        "len(da[0]): 67583\n",
        "Feature shape: (10, 910)"
       ]
      },
      {
       "output_type": "stream",
       "stream": "stdout",
       "text": [
        "\n",
        "I am on file 1230 with filename LC_91701-01-43-01_combined.dat \n",
        "dt_min: 0.00781249999999"
       ]
      },
      {
       "output_type": "stream",
       "stream": "stdout",
       "text": [
        "\n",
        "len(da[0]): 98303\n",
        "Feature shape: (8, 910)\n",
        "I am on file 1231 with filename LC_20402-01-28-00_combined.dat \n",
        "I am on file 1232 with filename LC_50703-01-61-00_combined.dat \n",
        "dt_min: 0.00781249999989"
       ]
      },
      {
       "output_type": "stream",
       "stream": "stdout",
       "text": [
        "\n",
        "len(da[0]): 204799\n",
        "Feature shape: (21, 910)"
       ]
      },
      {
       "output_type": "stream",
       "stream": "stdout",
       "text": [
        "\n",
        "I am on file 1233 with filename LC_40703-01-10-00_combined.dat \n",
        "dt_min: 0.00781249999818"
       ]
      },
      {
       "output_type": "stream",
       "stream": "stdout",
       "text": [
        "\n",
        "len(da[0]): 391166\n",
        "len(da[0]): 387070\n",
        "len(da[0]): 283518\n",
        "len(da[0]): 49278\n",
        "Feature shape: (122, 910)"
       ]
      },
      {
       "output_type": "stream",
       "stream": "stdout",
       "text": [
        "\n",
        "I am on file 1234 with filename LC_70702-01-18-01_combined.dat \n",
        "dt_min: 0.00781249999994"
       ]
      },
      {
       "output_type": "stream",
       "stream": "stdout",
       "text": [
        "\n",
        "len(da[0]): 131071\n",
        "Feature shape: (12, 910)"
       ]
      },
      {
       "output_type": "stream",
       "stream": "stdout",
       "text": [
        "\n",
        "I am on file 1235 with filename LC_80701-01-35-01_combined.dat \n",
        "dt_min: 0.00781249999994"
       ]
      },
      {
       "output_type": "stream",
       "stream": "stdout",
       "text": [
        "\n",
        "len(da[0]): 106495\n",
        "Feature shape: (9, 910)\n",
        "I am on file 1236 with filename LC_60701-01-14-00_combined.dat \n",
        "dt_min: 0.00781249999818"
       ]
      },
      {
       "output_type": "stream",
       "stream": "stdout",
       "text": [
        "\n",
        "len(da[0]): 417790\n",
        "len(da[0]): 417791\n",
        "Feature shape: (94, 910)"
       ]
      },
      {
       "output_type": "stream",
       "stream": "stdout",
       "text": [
        "\n",
        "I am on file 1237 with filename LC_95701-01-14-00_combined.dat \n",
        "dt_min: 0.00781249999999"
       ]
      },
      {
       "output_type": "stream",
       "stream": "stdout",
       "text": [
        "\n",
        "len(da[0]): 83199\n",
        "Feature shape: (7, 910)\n",
        "I am on file 1238 with filename LC_96701-01-25-00_combined.dat \n",
        "dt_min: 0.00781249999989"
       ]
      },
      {
       "output_type": "stream",
       "stream": "stdout",
       "text": [
        "\n",
        "len(da[0]): 411647\n",
        "Feature shape: (47, 910)"
       ]
      },
      {
       "output_type": "stream",
       "stream": "stdout",
       "text": [
        "\n",
        "I am on file 1239 with filename LC_10408-01-07-00_combined.dat \n",
        "dt_min: 0.00390624999977"
       ]
      },
      {
       "output_type": "stream",
       "stream": "stdout",
       "text": [
        "\n",
        "len(da[0]): 323582\n",
        "len(da[0]): 515069\n",
        "len(da[0]): 847870\n",
        "len(da[0]): 778239"
       ]
      },
      {
       "output_type": "stream",
       "stream": "stdout",
       "text": [
        "\n",
        "Feature shape: (136, 910)"
       ]
      },
      {
       "output_type": "stream",
       "stream": "stdout",
       "text": [
        "\n",
        "I am on file 1240 with filename LC_20402-01-49-00_combined.dat \n",
        "I am on file 1241 with filename LC_50703-01-11-01_combined.dat \n",
        "dt_min: 0.00781249999989"
       ]
      },
      {
       "output_type": "stream",
       "stream": "stdout",
       "text": [
        "\n",
        "len(da[0]): 169983\n",
        "Feature shape: (17, 910)"
       ]
      },
      {
       "output_type": "stream",
       "stream": "stdout",
       "text": [
        "\n",
        "I am on file 1242 with filename LC_91701-01-25-00_combined.dat \n",
        "dt_min: 0.00781249999989"
       ]
      },
      {
       "output_type": "stream",
       "stream": "stdout",
       "text": [
        "\n",
        "len(da[0]): 290559\n",
        "Feature shape: (32, 910)"
       ]
      },
      {
       "output_type": "stream",
       "stream": "stdout",
       "text": [
        "\n",
        "I am on file 1243 with filename LC_40703-01-27-00_combined.dat \n",
        "dt_min: 0.00781249999999"
       ]
      },
      {
       "output_type": "stream",
       "stream": "stdout",
       "text": [
        "\n",
        "len(da[0]): 52478\n",
        "len(da[0]): 204031\n",
        "Feature shape: (24, 910)"
       ]
      },
      {
       "output_type": "stream",
       "stream": "stdout",
       "text": [
        "\n",
        "I am on file 1244 with filename LC_60701-01-13-01_combined.dat \n",
        "dt_min: 0.00781249999989"
       ]
      },
      {
       "output_type": "stream",
       "stream": "stdout",
       "text": [
        "\n",
        "len(da[0]): 236415\n",
        "Feature shape: (25, 910)"
       ]
      },
      {
       "output_type": "stream",
       "stream": "stdout",
       "text": [
        "\n",
        "I am on file 1245 with filename LC_93701-01-04-00_combined.dat \n",
        "dt_min: 0.00781249999989"
       ]
      },
      {
       "output_type": "stream",
       "stream": "stdout",
       "text": [
        "\n",
        "len(da[0]): 208895\n",
        "Feature shape: (22, 910)"
       ]
      },
      {
       "output_type": "stream",
       "stream": "stdout",
       "text": [
        "\n",
        "I am on file 1246 with filename LC_70702-01-11-01_combined.dat \n",
        "dt_min: 0.00781249999989"
       ]
      },
      {
       "output_type": "stream",
       "stream": "stdout",
       "text": [
        "\n",
        "len(da[0]): 145407\n",
        "Feature shape: (14, 910)"
       ]
      },
      {
       "output_type": "stream",
       "stream": "stdout",
       "text": [
        "\n",
        "I am on file 1247 with filename LC_20186-03-02-00_combined.dat \n",
        "dt_min: 0.00781249999818"
       ]
      },
      {
       "output_type": "stream",
       "stream": "stdout",
       "text": [
        "\n",
        "len(da[0]): 186366\n",
        "len(da[0]): 157694\n",
        "len(da[0]): 368638\n",
        "len(da[0]): 335870\n",
        "len(da[0]): 339967\n",
        "Feature shape: (151, 910)"
       ]
      },
      {
       "output_type": "stream",
       "stream": "stdout",
       "text": [
        "\n",
        "I am on file 1248 with filename LC_92702-01-20-01_combined.dat \n",
        "dt_min: 0.00781249999989"
       ]
      },
      {
       "output_type": "stream",
       "stream": "stdout",
       "text": [
        "\n",
        "len(da[0]): 71679\n",
        "Feature shape: (5, 910)\n",
        "I am on file 1249 with filename LC_80701-01-04-00_combined.dat \n",
        "dt_min: 0.00781249999989"
       ]
      },
      {
       "output_type": "stream",
       "stream": "stdout",
       "text": [
        "\n",
        "len(da[0]): 401406\n",
        "len(da[0]): 163839\n",
        "Feature shape: (61, 910)"
       ]
      },
      {
       "output_type": "stream",
       "stream": "stdout",
       "text": [
        "\n",
        "I am on file 1250 with filename LC_70702-01-13-00_combined.dat \n",
        "dt_min: 0.00781249999989"
       ]
      },
      {
       "output_type": "stream",
       "stream": "stdout",
       "text": [
        "\n",
        "len(da[0]): 262143\n",
        "Feature shape: (28, 910)"
       ]
      },
      {
       "output_type": "stream",
       "stream": "stdout",
       "text": [
        "\n",
        "I am on file 1251 with filename LC_40703-01-44-01_combined.dat \n",
        "dt_min: 0.00781249999989"
       ]
      },
      {
       "output_type": "stream",
       "stream": "stdout",
       "text": [
        "\n",
        "len(da[0]): 202751\n",
        "Feature shape: (21, 910)"
       ]
      },
      {
       "output_type": "stream",
       "stream": "stdout",
       "text": [
        "\n",
        "I am on file 1252 with filename LC_60405-01-04-06_combined.dat \n",
        "dt_min: 0.00781249999989"
       ]
      },
      {
       "output_type": "stream",
       "stream": "stdout",
       "text": [
        "\n",
        "len(da[0]): 191999\n",
        "Feature shape: (20, 910)"
       ]
      },
      {
       "output_type": "stream",
       "stream": "stdout",
       "text": [
        "\n",
        "I am on file 1253 with filename LC_30703-01-23-00_combined.dat \n",
        "dt_min: 0.00781249999989"
       ]
      },
      {
       "output_type": "stream",
       "stream": "stdout",
       "text": [
        "\n",
        "len(da[0]): 19965\n",
        "len(da[0]): 211839\n",
        "Feature shape: (22, 910)"
       ]
      },
      {
       "output_type": "stream",
       "stream": "stdout",
       "text": [
        "\n",
        "I am on file 1254 with filename LC_96701-01-22-00_combined.dat \n",
        "dt_min: 0.00781249999977"
       ]
      },
      {
       "output_type": "stream",
       "stream": "stdout",
       "text": [
        "\n",
        "len(da[0]): 202751\n",
        "Feature shape: (21, 910)"
       ]
      },
      {
       "output_type": "stream",
       "stream": "stdout",
       "text": [
        "\n",
        "I am on file 1255 with filename LC_80701-01-52-00_combined.dat \n",
        "dt_min: 0.00781249999989"
       ]
      },
      {
       "output_type": "stream",
       "stream": "stdout",
       "text": [
        "\n",
        "len(da[0]): 98303\n",
        "Feature shape: (8, 910)\n",
        "I am on file 1256 with filename LC_94701-01-57-01_combined.dat \n",
        "dt_min: 0.00781249999989"
       ]
      },
      {
       "output_type": "stream",
       "stream": "stdout",
       "text": [
        "\n",
        "len(da[0]): 237567\n",
        "Feature shape: (25, 910)"
       ]
      },
      {
       "output_type": "stream",
       "stream": "stdout",
       "text": [
        "\n",
        "I am on file 1257 with filename LC_90024-02-14-00_combined.dat \n",
        "dt_min: 0.00390624999989"
       ]
      },
      {
       "output_type": "stream",
       "stream": "stdout",
       "text": [
        "\n",
        "len(da[0]): 368639\n",
        "Feature shape: (19, 910)"
       ]
      },
      {
       "output_type": "stream",
       "stream": "stdout",
       "text": [
        "\n",
        "I am on file 1258 with filename LC_93701-01-12-00_combined.dat \n",
        "dt_min: 0.00781249999989"
       ]
      },
      {
       "output_type": "stream",
       "stream": "stdout",
       "text": [
        "\n",
        "len(da[0]): 245759\n",
        "Feature shape: (26, 910)"
       ]
      },
      {
       "output_type": "stream",
       "stream": "stdout",
       "text": [
        "\n",
        "I am on file 1259 with filename LC_70702-01-18-00_combined.dat \n",
        "dt_min: 0.00781249999989"
       ]
      },
      {
       "output_type": "stream",
       "stream": "stdout",
       "text": [
        "\n",
        "len(da[0]): 155647\n",
        "Feature shape: (15, 910)"
       ]
      },
      {
       "output_type": "stream",
       "stream": "stdout",
       "text": [
        "\n",
        "I am on file 1260 with filename LC_60701-01-01-03_combined.dat \n",
        "dt_min: 0.00781249999994"
       ]
      },
      {
       "output_type": "stream",
       "stream": "stdout",
       "text": [
        "\n",
        "len(da[0]): 96255\n",
        "Feature shape: (8, 910)\n",
        "I am on file 1261 with filename LC_60701-01-18-00_combined.dat \n",
        "dt_min: 0.00781249999989"
       ]
      },
      {
       "output_type": "stream",
       "stream": "stdout",
       "text": [
        "\n",
        "len(da[0]): 186367\n",
        "Feature shape: (19, 910)"
       ]
      },
      {
       "output_type": "stream",
       "stream": "stdout",
       "text": [
        "\n",
        "I am on file 1262 with filename LC_30402-01-07-01_combined.dat \n",
        "dt_min: 0.00781249999989"
       ]
      },
      {
       "output_type": "stream",
       "stream": "stdout",
       "text": [
        "\n",
        "len(da[0]): 253055\n",
        "Feature shape: (27, 910)"
       ]
      },
      {
       "output_type": "stream",
       "stream": "stdout",
       "text": [
        "\n",
        "I am on file 1263 with filename LC_90105-05-03-04_combined.dat \n",
        "dt_min: 0.00390624999989"
       ]
      },
      {
       "output_type": "stream",
       "stream": "stdout",
       "text": [
        "\n",
        "len(da[0]): 401407\n",
        "Feature shape: (21, 910)"
       ]
      },
      {
       "output_type": "stream",
       "stream": "stdout",
       "text": [
        "\n",
        "I am on file 1264 with filename LC_50703-01-64-00_combined.dat \n",
        "dt_min: 0.00781249999989"
       ]
      },
      {
       "output_type": "stream",
       "stream": "stdout",
       "text": [
        "\n",
        "len(da[0]): 4605\n",
        "len(da[0]): 417791\n",
        "Feature shape: (47, 910)"
       ]
      },
      {
       "output_type": "stream",
       "stream": "stdout",
       "text": [
        "\n",
        "I am on file 1265 with filename LC_50703-01-17-01_combined.dat \n",
        "dt_min: 0.00781249999994"
       ]
      },
      {
       "output_type": "stream",
       "stream": "stdout",
       "text": [
        "\n",
        "len(da[0]): 122879\n",
        "Feature shape: (11, 910)"
       ]
      },
      {
       "output_type": "stream",
       "stream": "stdout",
       "text": [
        "\n",
        "I am on file 1266 with filename LC_70702-01-02-00_combined.dat \n",
        "dt_min: 0.00781249999989"
       ]
      },
      {
       "output_type": "stream",
       "stream": "stdout",
       "text": [
        "\n",
        "len(da[0]): 421886\n",
        "len(da[0]): 102398\n",
        "len(da[0]): 75775\n",
        "Feature shape: (63, 910)"
       ]
      },
      {
       "output_type": "stream",
       "stream": "stdout",
       "text": [
        "\n",
        "I am on file 1267 with filename LC_50703-01-08-01_combined.dat \n",
        "dt_min: 0.00781249999989"
       ]
      },
      {
       "output_type": "stream",
       "stream": "stdout",
       "text": [
        "\n",
        "len(da[0]): 137214\n",
        "len(da[0]): 129022\n",
        "len(da[0]): 60414\n",
        "Feature shape: (29, 910)"
       ]
      },
      {
       "output_type": "stream",
       "stream": "stdout",
       "text": [
        "\n",
        "I am on file 1268 with filename LC_80701-01-17-00_combined.dat \n",
        "dt_min: 0.00781249999989"
       ]
      },
      {
       "output_type": "stream",
       "stream": "stdout",
       "text": [
        "\n",
        "len(da[0]): 165631\n",
        "Feature shape: (17, 910)"
       ]
      },
      {
       "output_type": "stream",
       "stream": "stdout",
       "text": [
        "\n",
        "I am on file 1269 with filename LC_60702-01-01-25_combined.dat \n",
        "dt_min: 0.00781249999989"
       ]
      },
      {
       "output_type": "stream",
       "stream": "stdout",
       "text": [
        "\n",
        "len(da[0]): 421887\n",
        "Feature shape: (48, 910)"
       ]
      },
      {
       "output_type": "stream",
       "stream": "stdout",
       "text": [
        "\n",
        "I am on file 1270 with filename LC_60702-01-01-10_combined.dat \n",
        "dt_min: 0.00781249999989"
       ]
      },
      {
       "output_type": "stream",
       "stream": "stdout",
       "text": [
        "\n",
        "len(da[0]): 143103\n",
        "Feature shape: (14, 910)"
       ]
      },
      {
       "output_type": "stream",
       "stream": "stdout",
       "text": [
        "\n",
        "I am on file 1271 with filename LC_80701-01-38-03_combined.dat \n",
        "dt_min: 0.00781249999989"
       ]
      },
      {
       "output_type": "stream",
       "stream": "stdout",
       "text": [
        "\n",
        "len(da[0]): 178175\n",
        "Feature shape: (18, 910)"
       ]
      },
      {
       "output_type": "stream",
       "stream": "stdout",
       "text": [
        "\n",
        "I am on file 1272 with filename LC_93701-01-06-00_combined.dat \n",
        "dt_min: 0.00781249999989"
       ]
      },
      {
       "output_type": "stream",
       "stream": "stdout",
       "text": [
        "\n",
        "len(da[0]): 376831\n",
        "Feature shape: (42, 910)"
       ]
      },
      {
       "output_type": "stream",
       "stream": "stdout",
       "text": [
        "\n",
        "I am on file 1273 with filename LC_90024-02-09-00_combined.dat \n",
        "dt_min: 0.00390624999989"
       ]
      },
      {
       "output_type": "stream",
       "stream": "stdout",
       "text": [
        "\n",
        "len(da[0]): 311295\n",
        "Feature shape: (15, 910)"
       ]
      },
      {
       "output_type": "stream",
       "stream": "stdout",
       "text": [
        "\n",
        "I am on file 1274 with filename LC_94701-01-27-00_combined.dat \n",
        "dt_min: 0.00781249999977"
       ]
      },
      {
       "output_type": "stream",
       "stream": "stdout",
       "text": [
        "\n",
        "len(da[0]): 286335\n",
        "Feature shape: (31, 910)"
       ]
      },
      {
       "output_type": "stream",
       "stream": "stdout",
       "text": [
        "\n",
        "I am on file 1275 with filename LC_20402-01-41-01_combined.dat \n",
        "I am on file 1276 with filename LC_20402-01-08-00_combined.dat \n",
        "I am on file 1277 with filename LC_50703-01-66-00_combined.dat \n",
        "dt_min: 0.00781249999989"
       ]
      },
      {
       "output_type": "stream",
       "stream": "stdout",
       "text": [
        "\n",
        "len(da[0]): 188414\n",
        "len(da[0]): 8702\n",
        "Feature shape: (19, 910)"
       ]
      },
      {
       "output_type": "stream",
       "stream": "stdout",
       "text": [
        "\n",
        "I am on file 1278 with filename LC_10408-01-34-00_combined.dat \n",
        "I am on file 1279 with filename LC_50703-01-04-01_combined.dat \n",
        "dt_min: 0.00781249999989"
       ]
      },
      {
       "output_type": "stream",
       "stream": "stdout",
       "text": [
        "\n",
        "len(da[0]): 165887\n",
        "Feature shape: (17, 910)"
       ]
      },
      {
       "output_type": "stream",
       "stream": "stdout",
       "text": [
        "\n",
        "I am on file 1280 with filename LC_94701-01-32-00_combined.dat \n",
        "dt_min: 0.00781249999977"
       ]
      },
      {
       "output_type": "stream",
       "stream": "stdout",
       "text": [
        "\n",
        "len(da[0]): 154751\n",
        "Feature shape: (15, 910)"
       ]
      },
      {
       "output_type": "stream",
       "stream": "stdout",
       "text": [
        "\n",
        "I am on file 1281 with filename LC_40703-01-29-00_combined.dat \n",
        "dt_min: 0.00781249999989"
       ]
      },
      {
       "output_type": "stream",
       "stream": "stdout",
       "text": [
        "\n",
        "len(da[0]): 221183\n",
        "Feature shape: (23, 910)"
       ]
      },
      {
       "output_type": "stream",
       "stream": "stdout",
       "text": [
        "\n",
        "I am on file 1282 with filename LC_10408-01-03-01_combined.dat \n",
        "dt_min: 0.015625"
       ]
      },
      {
       "output_type": "stream",
       "stream": "stdout",
       "text": [
        "\n",
        "len(da[0]): 69631\n",
        "Feature shape: (13, 910)"
       ]
      },
      {
       "output_type": "stream",
       "stream": "stdout",
       "text": [
        "\n",
        "I am on file 1283 with filename LC_70702-01-50-00_combined.dat \n",
        "dt_min: 0.00781249999989"
       ]
      },
      {
       "output_type": "stream",
       "stream": "stdout",
       "text": [
        "\n",
        "len(da[0]): 401407\n",
        "Feature shape: (45, 910)"
       ]
      },
      {
       "output_type": "stream",
       "stream": "stdout",
       "text": [
        "\n",
        "I am on file 1284 with filename LC_70702-01-54-00_combined.dat \n",
        "dt_min: 0.00781249999989"
       ]
      },
      {
       "output_type": "stream",
       "stream": "stdout",
       "text": [
        "\n",
        "len(da[0]): 151551\n",
        "Feature shape: (15, 910)"
       ]
      },
      {
       "output_type": "stream",
       "stream": "stdout",
       "text": [
        "\n",
        "I am on file 1285 with filename LC_40703-01-50-00_combined.dat \n",
        "dt_min: 0.00781249999989"
       ]
      },
      {
       "output_type": "stream",
       "stream": "stdout",
       "text": [
        "\n",
        "len(da[0]): 206847\n",
        "Feature shape: (22, 910)"
       ]
      },
      {
       "output_type": "stream",
       "stream": "stdout",
       "text": [
        "\n",
        "I am on file 1286 with filename LC_80701-01-60-00_combined.dat \n",
        "dt_min: 0.00781249999989"
       ]
      },
      {
       "output_type": "stream",
       "stream": "stdout",
       "text": [
        "\n",
        "len(da[0]): 155647\n",
        "Feature shape: (15, 910)"
       ]
      },
      {
       "output_type": "stream",
       "stream": "stdout",
       "text": [
        "\n",
        "I am on file 1287 with filename LC_30703-01-15-00_combined.dat \n",
        "dt_min: 0.00781249999955"
       ]
      },
      {
       "output_type": "stream",
       "stream": "stdout",
       "text": [
        "\n",
        "len(da[0]): 167678\n",
        "len(da[0]): 35581\n",
        "len(da[0]): 357886\n",
        "Feature shape: (58, 910)"
       ]
      },
      {
       "output_type": "stream",
       "stream": "stdout",
       "text": [
        "\n",
        "I am on file 1288 with filename LC_60701-01-25-03_combined.dat \n",
        "dt_min: 0.00781249999994"
       ]
      },
      {
       "output_type": "stream",
       "stream": "stdout",
       "text": [
        "\n",
        "len(da[0]): 116734\n",
        "len(da[0]): 89855\n",
        "Feature shape: (18, 910)"
       ]
      },
      {
       "output_type": "stream",
       "stream": "stdout",
       "text": [
        "\n",
        "I am on file 1289 with filename LC_40703-01-22-00_combined.dat \n",
        "dt_min: 0.00781249999989"
       ]
      },
      {
       "output_type": "stream",
       "stream": "stdout",
       "text": [
        "\n",
        "len(da[0]): 177535\n",
        "Feature shape: (18, 910)"
       ]
      },
      {
       "output_type": "stream",
       "stream": "stdout",
       "text": [
        "\n",
        "I am on file 1290 with filename LC_20187-02-05-00_combined.dat \n",
        "dt_min: 0.00781249999955"
       ]
      },
      {
       "output_type": "stream",
       "stream": "stdout",
       "text": [
        "\n",
        "len(da[0]): 101502\n",
        "len(da[0]): 321405\n",
        "len(da[0]): 108671\n",
        "Feature shape: (55, 910)"
       ]
      },
      {
       "output_type": "stream",
       "stream": "stdout",
       "text": [
        "\n",
        "I am on file 1291 with filename LC_93701-01-19-01_combined.dat \n",
        "dt_min: 0.00781249999989"
       ]
      },
      {
       "output_type": "stream",
       "stream": "stdout",
       "text": [
        "\n",
        "len(da[0]): 158847\n",
        "Feature shape: (16, 910)"
       ]
      },
      {
       "output_type": "stream",
       "stream": "stdout",
       "text": [
        "\n",
        "I am on file 1292 with filename LC_91701-01-08-01_combined.dat \n",
        "dt_min: 0.00781249999989"
       ]
      },
      {
       "output_type": "stream",
       "stream": "stdout",
       "text": [
        "\n",
        "len(da[0]): 148607\n",
        "Feature shape: (15, 910)"
       ]
      },
      {
       "output_type": "stream",
       "stream": "stdout",
       "text": [
        "\n",
        "I am on file 1293 with filename LC_91701-01-30-00_combined.dat \n",
        "dt_min: 0.00781249999989"
       ]
      },
      {
       "output_type": "stream",
       "stream": "stdout",
       "text": [
        "\n",
        "len(da[0]): 100351\n",
        "Feature shape: (9, 910)\n",
        "I am on file 1294 with filename LC_91701-01-68-01_combined.dat \n",
        "dt_min: 0.00781249999989"
       ]
      },
      {
       "output_type": "stream",
       "stream": "stdout",
       "text": [
        "\n",
        "len(da[0]): 93695\n",
        "Feature shape: (8, 910)\n",
        "I am on file 1295 with filename LC_20402-01-39-00_combined.dat \n",
        "I am on file 1296 with filename LC_40703-01-41-01_combined.dat \n",
        "dt_min: 0.00781249999999"
       ]
      },
      {
       "output_type": "stream",
       "stream": "stdout",
       "text": [
        "\n",
        "len(da[0]): 56446\n",
        "len(da[0]): 95359\n",
        "Feature shape: (11, 910)"
       ]
      },
      {
       "output_type": "stream",
       "stream": "stdout",
       "text": [
        "\n",
        "I am on file 1297 with filename LC_90701-01-14-02_combined.dat \n",
        "dt_min: 0.00781249999994"
       ]
      },
      {
       "output_type": "stream",
       "stream": "stdout",
       "text": [
        "\n",
        "len(da[0]): 108543\n",
        "Feature shape: (10, 910)"
       ]
      },
      {
       "output_type": "stream",
       "stream": "stdout",
       "text": [
        "\n",
        "I am on file 1298 with filename LC_91701-01-79-01_combined.dat \n",
        "dt_min: 0.00781249999989"
       ]
      },
      {
       "output_type": "stream",
       "stream": "stdout",
       "text": [
        "\n",
        "len(da[0]): 247807\n",
        "Feature shape: (27, 910)"
       ]
      },
      {
       "output_type": "stream",
       "stream": "stdout",
       "text": [
        "\n",
        "I am on file 1299 with filename LC_96701-01-20-00_combined.dat \n",
        "dt_min: 0.00781249999977"
       ]
      },
      {
       "output_type": "stream",
       "stream": "stdout",
       "text": [
        "\n",
        "len(da[0]): 409599\n",
        "Feature shape: (46, 910)"
       ]
      },
      {
       "output_type": "stream",
       "stream": "stdout",
       "text": [
        "\n",
        "I am on file 1300 with filename LC_96378-01-01-02_combined.dat \n",
        "dt_min: 0.00781249999989"
       ]
      },
      {
       "output_type": "stream",
       "stream": "stdout",
       "text": [
        "\n",
        "len(da[0]): 360446\n",
        "len(da[0]): 401406\n",
        "len(da[0]): 407550\n",
        "len(da[0]): 378878\n",
        "len(da[0]): 2045"
       ]
      },
      {
       "output_type": "stream",
       "stream": "stdout",
       "text": [
        "\n",
        "len(da[0]): 325631\n",
        "Feature shape: (210, 910)"
       ]
      },
      {
       "output_type": "stream",
       "stream": "stdout",
       "text": [
        "\n",
        "I am on file 1301 with filename LC_96701-01-52-00_combined.dat \n",
        "dt_min: 0.00781249999977"
       ]
      },
      {
       "output_type": "stream",
       "stream": "stdout",
       "text": [
        "\n",
        "len(da[0]): 235519\n",
        "Feature shape: (25, 910)"
       ]
      },
      {
       "output_type": "stream",
       "stream": "stdout",
       "text": [
        "\n",
        "I am on file 1302 with filename LC_95701-01-49-00_combined.dat \n",
        "dt_min: 0.00781249999977"
       ]
      },
      {
       "output_type": "stream",
       "stream": "stdout",
       "text": [
        "\n",
        "len(da[0]): 299007\n",
        "Feature shape: (33, 910)"
       ]
      },
      {
       "output_type": "stream",
       "stream": "stdout",
       "text": [
        "\n",
        "I am on file 1303 with filename LC_94701-01-56-00_combined.dat \n",
        "dt_min: 0.00781249999989"
       ]
      },
      {
       "output_type": "stream",
       "stream": "stdout",
       "text": [
        "\n",
        "len(da[0]): 360447\n",
        "Feature shape: (40, 910)"
       ]
      },
      {
       "output_type": "stream",
       "stream": "stdout",
       "text": [
        "\n",
        "I am on file 1304 with filename LC_20402-01-31-00_combined.dat \n",
        "I am on file 1305 with filename LC_40703-01-38-02_combined.dat \n",
        "dt_min: 0.00781249999989"
       ]
      },
      {
       "output_type": "stream",
       "stream": "stdout",
       "text": [
        "\n",
        "len(da[0]): 317439\n",
        "Feature shape: (35, 910)"
       ]
      },
      {
       "output_type": "stream",
       "stream": "stdout",
       "text": [
        "\n",
        "I am on file 1306 with filename LC_20186-03-03-00_combined.dat \n",
        "dt_min: 0.00781249999989"
       ]
      },
      {
       "output_type": "stream",
       "stream": "stdout",
       "text": [
        "\n",
        "len(da[0]): 206846\n",
        "len(da[0]): 268286\n",
        "len(da[0]): 202109\n",
        "len(da[0]): 110206\n",
        "len(da[0]): 366591\n",
        "Feature shape: (123, 910)"
       ]
      },
      {
       "output_type": "stream",
       "stream": "stdout",
       "text": [
        "\n",
        "I am on file 1307 with filename LC_80701-01-10-00_combined.dat \n",
        "dt_min: 0.00781249999989"
       ]
      },
      {
       "output_type": "stream",
       "stream": "stdout",
       "text": [
        "\n",
        "len(da[0]): 143359\n",
        "Feature shape: (14, 910)"
       ]
      },
      {
       "output_type": "stream",
       "stream": "stdout",
       "text": [
        "\n",
        "I am on file 1308 with filename LC_40703-01-04-02_combined.dat \n",
        "dt_min: 0.00781249999989"
       ]
      },
      {
       "output_type": "stream",
       "stream": "stdout",
       "text": [
        "\n",
        "len(da[0]): 225279\n",
        "Feature shape: (24, 910)"
       ]
      },
      {
       "output_type": "stream",
       "stream": "stdout",
       "text": [
        "\n",
        "I am on file 1309 with filename LC_92702-01-23-01_combined.dat \n",
        "dt_min: 0.00781249999989"
       ]
      },
      {
       "output_type": "stream",
       "stream": "stdout",
       "text": [
        "\n",
        "len(da[0]): 194559\n",
        "Feature shape: (20, 910)"
       ]
      },
      {
       "output_type": "stream",
       "stream": "stdout",
       "text": [
        "\n",
        "I am on file 1310 with filename LC_70702-01-41-00_combined.dat \n",
        "dt_min: 0.00781249999989"
       ]
      },
      {
       "output_type": "stream",
       "stream": "stdout",
       "text": [
        "\n",
        "len(da[0]): 192511\n",
        "Feature shape: (20, 910)"
       ]
      },
      {
       "output_type": "stream",
       "stream": "stdout",
       "text": [
        "\n",
        "I am on file 1311 with filename LC_91701-01-34-01_combined.dat \n",
        "dt_min: 0.00781249999989"
       ]
      },
      {
       "output_type": "stream",
       "stream": "stdout",
       "text": [
        "\n",
        "len(da[0]): 286719\n",
        "Feature shape: (31, 910)"
       ]
      },
      {
       "output_type": "stream",
       "stream": "stdout",
       "text": [
        "\n",
        "I am on file 1312 with filename LC_93411-01-02-01_combined.dat \n",
        "dt_min: 0.00781249999989"
       ]
      },
      {
       "output_type": "stream",
       "stream": "stdout",
       "text": [
        "\n",
        "len(da[0]): 274430\n",
        "len(da[0]): 401406\n",
        "len(da[0]): 317439\n",
        "Feature shape: (110, 910)"
       ]
      },
      {
       "output_type": "stream",
       "stream": "stdout",
       "text": [
        "\n",
        "I am on file 1313 with filename LC_70702-01-53-00_combined.dat \n",
        "dt_min: 0.00781249999989"
       ]
      },
      {
       "output_type": "stream",
       "stream": "stdout",
       "text": [
        "\n",
        "len(da[0]): 415743\n",
        "Feature shape: (47, 910)"
       ]
      },
      {
       "output_type": "stream",
       "stream": "stdout",
       "text": [
        "\n",
        "I am on file 1314 with filename LC_50703-01-54-01_combined.dat \n",
        "dt_min: 0.00781249999989"
       ]
      },
      {
       "output_type": "stream",
       "stream": "stdout",
       "text": [
        "\n",
        "len(da[0]): 208895\n",
        "Feature shape: (22, 910)"
       ]
      },
      {
       "output_type": "stream",
       "stream": "stdout",
       "text": [
        "\n",
        "I am on file 1315 with filename LC_70702-01-43-00_combined.dat \n",
        "dt_min: 0.00781249999989"
       ]
      },
      {
       "output_type": "stream",
       "stream": "stdout",
       "text": [
        "\n",
        "len(da[0]): 313342\n",
        "len(da[0]): 413695\n",
        "Feature shape: (82, 910)"
       ]
      },
      {
       "output_type": "stream",
       "stream": "stdout",
       "text": [
        "\n",
        "I am on file 1316 with filename LC_70703-01-01-10_combined.dat \n",
        "dt_min: 0.00781249999989"
       ]
      },
      {
       "output_type": "stream",
       "stream": "stdout",
       "text": [
        "\n",
        "len(da[0]): 230911\n",
        "Feature shape: (25, 910)"
       ]
      },
      {
       "output_type": "stream",
       "stream": "stdout",
       "text": [
        "\n",
        "I am on file 1317 with filename LC_80188-01-01-03_combined.dat \n",
        "dt_min: 0.00390624999999"
       ]
      },
      {
       "output_type": "stream",
       "stream": "stdout",
       "text": [
        "\n",
        "len(da[0]): 180223\n",
        "Feature shape: (7, 910)\n",
        "I am on file 1318 with filename LC_60405-01-03-00_combined.dat \n",
        "dt_min: 0.00781249999909"
       ]
      },
      {
       "output_type": "stream",
       "stream": "stdout",
       "text": [
        "\n",
        "len(da[0]): 409598\n",
        "len(da[0]): 407551\n",
        "Feature shape: (92, 910)"
       ]
      },
      {
       "output_type": "stream",
       "stream": "stdout",
       "text": [
        "\n",
        "I am on file 1319 with filename LC_60701-01-01-01_combined.dat \n",
        "dt_min: 0.00781249999989"
       ]
      },
      {
       "output_type": "stream",
       "stream": "stdout",
       "text": [
        "\n",
        "len(da[0]): 319487\n",
        "Feature shape: (35, 910)"
       ]
      },
      {
       "output_type": "stream",
       "stream": "stdout",
       "text": [
        "\n",
        "I am on file 1320 with filename LC_10408-01-15-02_combined.dat \n",
        "I am on file 1321 with filename LC_40116-01-03-01_combined.dat \n",
        "dt_min: 0.00781249999989"
       ]
      },
      {
       "output_type": "stream",
       "stream": "stdout",
       "text": [
        "\n",
        "len(da[0]): 208895\n",
        "Feature shape: (22, 910)"
       ]
      },
      {
       "output_type": "stream",
       "stream": "stdout",
       "text": [
        "\n",
        "I am on file 1322 with filename LC_92702-01-04-00_combined.dat \n",
        "dt_min: 0.00781249999989"
       ]
      },
      {
       "output_type": "stream",
       "stream": "stdout",
       "text": [
        "\n",
        "len(da[0]): 192511\n",
        "Feature shape: (20, 910)"
       ]
      },
      {
       "output_type": "stream",
       "stream": "stdout",
       "text": [
        "\n",
        "I am on file 1323 with filename LC_50703-01-32-01_combined.dat \n",
        "dt_min: 0.00781249999999"
       ]
      },
      {
       "output_type": "stream",
       "stream": "stdout",
       "text": [
        "\n",
        "len(da[0]): 114687\n",
        "Feature shape: (10, 910)\n",
        "I am on file 1324 with filename LC_10408-01-15-01_combined.dat \n",
        "I am on file 1325 with filename LC_90105-05-01-00_combined.dat \n",
        "dt_min: 0.00390624999818"
       ]
      },
      {
       "output_type": "stream",
       "stream": "stdout",
       "text": [
        "\n",
        "len(da[0]): 815102\n",
        "len(da[0]): 811006\n",
        "len(da[0]): 721662"
       ]
      },
      {
       "output_type": "stream",
       "stream": "stdout",
       "text": [
        "\n",
        "len(da[0]): 99581\n",
        "len(da[0]): 790527\n",
        "Feature shape: (181, 910)"
       ]
      },
      {
       "output_type": "stream",
       "stream": "stdout",
       "text": [
        "\n",
        "I am on file 1326 with filename LC_94701-01-20-00_combined.dat \n",
        "dt_min: 0.00781249999977"
       ]
      },
      {
       "output_type": "stream",
       "stream": "stdout",
       "text": [
        "\n",
        "len(da[0]): 176127\n",
        "Feature shape: (18, 910)"
       ]
      },
      {
       "output_type": "stream",
       "stream": "stdout",
       "text": [
        "\n",
        "I am on file 1327 with filename LC_91701-01-70-01_combined.dat \n",
        "dt_min: 0.00781249999989"
       ]
      },
      {
       "output_type": "stream",
       "stream": "stdout",
       "text": [
        "\n",
        "len(da[0]): 196607\n",
        "Feature shape: (20, 910)"
       ]
      },
      {
       "output_type": "stream",
       "stream": "stdout",
       "text": [
        "\n",
        "I am on file 1328 with filename LC_90701-01-40-01_combined.dat \n",
        "dt_min: 0.00781249999994"
       ]
      },
      {
       "output_type": "stream",
       "stream": "stdout",
       "text": [
        "\n",
        "len(da[0]): 111231\n",
        "Feature shape: (10, 910)\n",
        "I am on file 1329 with filename LC_95701-01-16-00_combined.dat \n",
        "dt_min: 0.00781249999989"
       ]
      },
      {
       "output_type": "stream",
       "stream": "stdout",
       "text": [
        "\n",
        "len(da[0]): 149503\n",
        "Feature shape: (15, 910)"
       ]
      },
      {
       "output_type": "stream",
       "stream": "stdout",
       "text": [
        "\n",
        "I am on file 1330 with filename LC_70702-01-20-01_combined.dat \n",
        "dt_min: 0.00781249999989"
       ]
      },
      {
       "output_type": "stream",
       "stream": "stdout",
       "text": [
        "\n",
        "len(da[0]): 210175\n",
        "Feature shape: (22, 910)"
       ]
      },
      {
       "output_type": "stream",
       "stream": "stdout",
       "text": [
        "\n",
        "I am on file 1331 with filename LC_93411-01-02-02_combined.dat \n",
        "dt_min: 0.00781249999989"
       ]
      },
      {
       "output_type": "stream",
       "stream": "stdout",
       "text": [
        "\n",
        "len(da[0]): 350206\n",
        "len(da[0]): 14335\n",
        "Feature shape: (39, 910)"
       ]
      },
      {
       "output_type": "stream",
       "stream": "stdout",
       "text": [
        "\n",
        "I am on file 1332 with filename LC_40115-01-08-00_combined.dat \n",
        "dt_min: 0.00781249999989"
       ]
      },
      {
       "output_type": "stream",
       "stream": "stdout",
       "text": [
        "\n",
        "len(da[0]): 42110\n",
        "len(da[0]): 40829\n",
        "len(da[0]): 344063\n",
        "Feature shape: (41, 910)"
       ]
      },
      {
       "output_type": "stream",
       "stream": "stdout",
       "text": [
        "\n",
        "I am on file 1333 with filename LC_70702-01-12-02_combined.dat \n",
        "dt_min: 0.00781249999989"
       ]
      },
      {
       "output_type": "stream",
       "stream": "stdout",
       "text": [
        "\n",
        "len(da[0]): 159743\n",
        "Feature shape: (16, 910)"
       ]
      },
      {
       "output_type": "stream",
       "stream": "stdout",
       "text": [
        "\n",
        "I am on file 1334 with filename LC_96701-01-31-00_combined.dat \n",
        "dt_min: 0.00781249999977"
       ]
      },
      {
       "output_type": "stream",
       "stream": "stdout",
       "text": [
        "\n",
        "len(da[0]): 243327\n",
        "Feature shape: (26, 910)"
       ]
      },
      {
       "output_type": "stream",
       "stream": "stdout",
       "text": [
        "\n",
        "I am on file 1335 with filename LC_90701-01-16-02_combined.dat \n",
        "dt_min: 0.00781249999989"
       ]
      },
      {
       "output_type": "stream",
       "stream": "stdout",
       "text": [
        "\n",
        "len(da[0]): 198655\n",
        "Feature shape: (21, 910)"
       ]
      },
      {
       "output_type": "stream",
       "stream": "stdout",
       "text": [
        "\n",
        "I am on file 1336 with filename LC_91412-01-01-00_combined.dat \n",
        "dt_min: 0.00781249999818"
       ]
      },
      {
       "output_type": "stream",
       "stream": "stdout",
       "text": [
        "\n",
        "len(da[0]): 375550\n",
        "len(da[0]): 24829\n",
        "len(da[0]): 208126\n",
        "len(da[0]): 142333\n",
        "len(da[0]): 50942\n",
        "Feature shape: (81, 910)"
       ]
      },
      {
       "output_type": "stream",
       "stream": "stdout",
       "text": [
        "\n",
        "I am on file 1337 with filename LC_95701-01-21-00_combined.dat \n",
        "dt_min: 0.00781249999989"
       ]
      },
      {
       "output_type": "stream",
       "stream": "stdout",
       "text": [
        "\n",
        "len(da[0]): 407551\n",
        "Feature shape: (46, 910)"
       ]
      },
      {
       "output_type": "stream",
       "stream": "stdout",
       "text": [
        "\n",
        "I am on file 1338 with filename LC_80701-01-22-00_combined.dat \n",
        "dt_min: 0.00781249999818"
       ]
      },
      {
       "output_type": "stream",
       "stream": "stdout",
       "text": [
        "\n",
        "len(da[0]): 397310\n",
        "len(da[0]): 407551\n",
        "Feature shape: (91, 910)"
       ]
      },
      {
       "output_type": "stream",
       "stream": "stdout",
       "text": [
        "\n",
        "I am on file 1339 with filename LC_80701-01-55-01_combined.dat \n",
        "dt_min: 0.00781249999989"
       ]
      },
      {
       "output_type": "stream",
       "stream": "stdout",
       "text": [
        "\n",
        "len(da[0]): 243711\n",
        "Feature shape: (26, 910)"
       ]
      },
      {
       "output_type": "stream",
       "stream": "stdout",
       "text": [
        "\n",
        "I am on file 1340 with filename LC_93701-01-40-00_combined.dat \n",
        "dt_min: 0.00781249999989"
       ]
      },
      {
       "output_type": "stream",
       "stream": "stdout",
       "text": [
        "\n",
        "len(da[0]): 179455\n",
        "Feature shape: (18, 910)"
       ]
      },
      {
       "output_type": "stream",
       "stream": "stdout",
       "text": [
        "\n",
        "I am on file 1341 with filename LC_95701-01-37-00_combined.dat \n",
        "dt_min: 0.00781249999977"
       ]
      },
      {
       "output_type": "stream",
       "stream": "stdout",
       "text": [
        "\n",
        "len(da[0]): 159103\n",
        "Feature shape: (16, 910)"
       ]
      },
      {
       "output_type": "stream",
       "stream": "stdout",
       "text": [
        "\n",
        "I am on file 1342 with filename LC_90105-06-03-01_combined.dat \n",
        "dt_min: 0.00390624999989"
       ]
      },
      {
       "output_type": "stream",
       "stream": "stdout",
       "text": [
        "\n",
        "len(da[0]): 790527\n",
        "Feature shape: (45, 910)"
       ]
      },
      {
       "output_type": "stream",
       "stream": "stdout",
       "text": [
        "\n",
        "I am on file 1343 with filename LC_93411-01-03-01_combined.dat \n",
        "dt_min: 0.00781249999989"
       ]
      },
      {
       "output_type": "stream",
       "stream": "stdout",
       "text": [
        "\n",
        "len(da[0]): 126975\n",
        "Feature shape: (12, 910)"
       ]
      },
      {
       "output_type": "stream",
       "stream": "stdout",
       "text": [
        "\n",
        "I am on file 1344 with filename LC_80127-04-03-00_combined.dat \n",
        "dt_min: 0.00390624999909"
       ]
      },
      {
       "output_type": "stream",
       "stream": "stdout",
       "text": [
        "\n",
        "len(da[0]): 823294\n",
        "len(da[0]): 67582\n",
        "len(da[0]): 753661\n",
        "len(da[0]): 385022"
       ]
      },
      {
       "output_type": "stream",
       "stream": "stdout",
       "text": [
        "\n",
        "len(da[0]): 419837\n",
        "len(da[0]): 696319\n",
        "Feature shape: (171, 910)"
       ]
      },
      {
       "output_type": "stream",
       "stream": "stdout",
       "text": [
        "\n",
        "I am on file 1345 with filename LC_70702-01-06-00_combined.dat \n",
        "dt_min: 0.00781249999994"
       ]
      },
      {
       "output_type": "stream",
       "stream": "stdout",
       "text": [
        "\n",
        "len(da[0]): 96255\n",
        "Feature shape: (8, 910)\n",
        "I am on file 1346 with filename LC_20402-01-03-00_combined.dat \n",
        "I am on file 1347 with filename LC_96701-01-13-00_combined.dat \n",
        "dt_min: 0.00781249999977"
       ]
      },
      {
       "output_type": "stream",
       "stream": "stdout",
       "text": [
        "\n",
        "len(da[0]): 185982\n",
        "len(da[0]): 224638\n",
        "Feature shape: (43, 910)"
       ]
      },
      {
       "output_type": "stream",
       "stream": "stdout",
       "text": [
        "\n",
        "I am on file 1348 with filename LC_60701-01-04-02_combined.dat \n",
        "dt_min: 0.00781249999994"
       ]
      },
      {
       "output_type": "stream",
       "stream": "stdout",
       "text": [
        "\n",
        "len(da[0]): 71679\n",
        "Feature shape: (5, 910)\n",
        "I am on file 1349 with filename LC_96378-01-01-00_combined.dat \n",
        "dt_min: 0.00781249999977"
       ]
      },
      {
       "output_type": "stream",
       "stream": "stdout",
       "text": [
        "\n",
        "len(da[0]): 197246\n",
        "len(da[0]): 203133\n",
        "len(da[0]): 399358\n",
        "len(da[0]): 311295\n",
        "Feature shape: (121, 910)"
       ]
      },
      {
       "output_type": "stream",
       "stream": "stdout",
       "text": [
        "\n",
        "I am on file 1350 with filename LC_95701-01-18-00_combined.dat \n",
        "dt_min: 0.00781249999977"
       ]
      },
      {
       "output_type": "stream",
       "stream": "stdout",
       "text": [
        "\n",
        "len(da[0]): 358399\n",
        "Feature shape: (40, 910)"
       ]
      },
      {
       "output_type": "stream",
       "stream": "stdout",
       "text": [
        "\n",
        "I am on file 1351 with filename LC_90105-01-02-02_combined.dat \n",
        "dt_min: 0.00390624999994"
       ]
      },
      {
       "output_type": "stream",
       "stream": "stdout",
       "text": [
        "\n",
        "len(da[0]): 245759\n",
        "Feature shape: (11, 910)"
       ]
      },
      {
       "output_type": "stream",
       "stream": "stdout",
       "text": [
        "\n",
        "I am on file 1352 with filename LC_70702-01-07-00_combined.dat \n",
        "dt_min: 0.00781249999989"
       ]
      },
      {
       "output_type": "stream",
       "stream": "stdout",
       "text": [
        "\n",
        "len(da[0]): 243711\n",
        "Feature shape: (26, 910)"
       ]
      },
      {
       "output_type": "stream",
       "stream": "stdout",
       "text": [
        "\n",
        "I am on file 1353 with filename LC_93701-01-11-01_combined.dat \n",
        "dt_min: 0.00781249999989"
       ]
      },
      {
       "output_type": "stream",
       "stream": "stdout",
       "text": [
        "\n",
        "len(da[0]): 161791\n",
        "Feature shape: (16, 910)"
       ]
      },
      {
       "output_type": "stream",
       "stream": "stdout",
       "text": [
        "\n",
        "I am on file 1354 with filename LC_10408-01-18-01_combined.dat \n",
        "I am on file 1355 with filename LC_90108-01-04-00_combined.dat \n",
        "dt_min: 0.00781249999989"
       ]
      },
      {
       "output_type": "stream",
       "stream": "stdout",
       "text": [
        "\n",
        "len(da[0]): 149503\n",
        "Feature shape: (15, 910)"
       ]
      },
      {
       "output_type": "stream",
       "stream": "stdout",
       "text": [
        "\n",
        "I am on file 1356 with filename LC_90105-03-02-04_combined.dat \n",
        "dt_min: 0.00390624999989"
       ]
      },
      {
       "output_type": "stream",
       "stream": "stdout",
       "text": [
        "\n",
        "len(da[0]): 401407\n",
        "Feature shape: (21, 910)"
       ]
      },
      {
       "output_type": "stream",
       "stream": "stdout",
       "text": [
        "\n",
        "I am on file 1357 with filename LC_20402-01-38-00_combined.dat \n",
        "I am on file 1358 with filename LC_60702-01-01-08_combined.dat \n",
        "dt_min: 0.00781249999999"
       ]
      },
      {
       "output_type": "stream",
       "stream": "stdout",
       "text": [
        "\n",
        "len(da[0]): 108543\n",
        "Feature shape: (10, 910)\n",
        "I am on file 1359 with filename LC_50703-01-06-01_combined.dat \n",
        "dt_min: 0.00781249999989"
       ]
      },
      {
       "output_type": "stream",
       "stream": "stdout",
       "text": [
        "\n",
        "len(da[0]): 198655\n",
        "Feature shape: (21, 910)"
       ]
      },
      {
       "output_type": "stream",
       "stream": "stdout",
       "text": [
        "\n",
        "I am on file 1360 with filename LC_60701-01-01-00_combined.dat \n",
        "dt_min: 0.00781249999989"
       ]
      },
      {
       "output_type": "stream",
       "stream": "stdout",
       "text": [
        "\n",
        "len(da[0]): 27006\n",
        "len(da[0]): 305278\n",
        "Feature shape: (34, 910)"
       ]
      },
      {
       "output_type": "stream",
       "stream": "stdout",
       "text": [
        "\n",
        "I am on file 1361 with filename LC_95701-01-01-00_combined.dat \n",
        "dt_min: 0.00781249999999"
       ]
      },
      {
       "output_type": "stream",
       "stream": "stdout",
       "text": [
        "\n",
        "len(da[0]): 129023\n",
        "Feature shape: (12, 910)"
       ]
      },
      {
       "output_type": "stream",
       "stream": "stdout",
       "text": [
        "\n",
        "I am on file 1362 with filename LC_90024-02-31-00_combined.dat \n",
        "dt_min: 0.00390624999999"
       ]
      },
      {
       "output_type": "stream",
       "stream": "stdout",
       "text": [
        "\n",
        "len(da[0]): 172031\n",
        "Feature shape: (7, 910)\n",
        "I am on file 1363 with filename LC_80701-01-03-01_combined.dat \n",
        "dt_min: 0.00781249999999"
       ]
      },
      {
       "output_type": "stream",
       "stream": "stdout",
       "text": [
        "\n",
        "len(da[0]): 124927\n",
        "Feature shape: (12, 910)"
       ]
      },
      {
       "output_type": "stream",
       "stream": "stdout",
       "text": [
        "\n",
        "I am on file 1364 with filename LC_40703-01-19-00_combined.dat \n",
        "dt_min: 0.00781249999989"
       ]
      },
      {
       "output_type": "stream",
       "stream": "stdout",
       "text": [
        "\n",
        "len(da[0]): 423935\n",
        "Feature shape: (48, 910)"
       ]
      },
      {
       "output_type": "stream",
       "stream": "stdout",
       "text": [
        "\n",
        "I am on file 1365 with filename LC_96701-01-39-00_combined.dat \n",
        "dt_min: 0.00781249999989"
       ]
      },
      {
       "output_type": "stream",
       "stream": "stdout",
       "text": [
        "\n",
        "len(da[0]): 329727\n",
        "Feature shape: (37, 910)"
       ]
      },
      {
       "output_type": "stream",
       "stream": "stdout",
       "text": [
        "\n",
        "I am on file 1366 with filename LC_40703-01-32-00_combined.dat \n",
        "dt_min: 0.00781249999818"
       ]
      },
      {
       "output_type": "stream",
       "stream": "stdout",
       "text": [
        "\n",
        "len(da[0]): 417662\n",
        "len(da[0]): 421887\n",
        "Feature shape: (95, 910)"
       ]
      },
      {
       "output_type": "stream",
       "stream": "stdout",
       "text": [
        "\n",
        "I am on file 1367 with filename LC_80701-01-61-00_combined.dat \n",
        "dt_min: 0.00781249999989"
       ]
      },
      {
       "output_type": "stream",
       "stream": "stdout",
       "text": [
        "\n",
        "len(da[0]): 202751\n",
        "Feature shape: (21, 910)"
       ]
      },
      {
       "output_type": "stream",
       "stream": "stdout",
       "text": [
        "\n",
        "I am on file 1368 with filename LC_30703-01-40-01_combined.dat \n",
        "dt_min: 0.00781249999989"
       ]
      },
      {
       "output_type": "stream",
       "stream": "stdout",
       "text": [
        "\n",
        "len(da[0]): 69117\n",
        "len(da[0]): 131711\n",
        "Feature shape: (18, 910)"
       ]
      },
      {
       "output_type": "stream",
       "stream": "stdout",
       "text": [
        "\n",
        "I am on file 1369 with filename LC_20402-01-36-00_combined.dat \n",
        "I am on file 1370 with filename LC_60701-01-19-00_combined.dat \n",
        "dt_min: 0.00781249999989"
       ]
      },
      {
       "output_type": "stream",
       "stream": "stdout",
       "text": [
        "\n",
        "len(da[0]): 239615\n",
        "Feature shape: (26, 910)"
       ]
      },
      {
       "output_type": "stream",
       "stream": "stdout",
       "text": [
        "\n",
        "I am on file 1371 with filename LC_50703-01-62-00_combined.dat \n",
        "dt_min: 0.00781249999989"
       ]
      },
      {
       "output_type": "stream",
       "stream": "stdout",
       "text": [
        "\n",
        "len(da[0]): 260095\n",
        "Feature shape: (28, 910)"
       ]
      },
      {
       "output_type": "stream",
       "stream": "stdout",
       "text": [
        "\n",
        "I am on file 1372 with filename LC_80701-01-44-00_combined.dat \n",
        "dt_min: 0.00781249999989"
       ]
      },
      {
       "output_type": "stream",
       "stream": "stdout",
       "text": [
        "\n",
        "len(da[0]): 151551\n",
        "Feature shape: (15, 910)"
       ]
      },
      {
       "output_type": "stream",
       "stream": "stdout",
       "text": [
        "\n",
        "I am on file 1373 with filename LC_10408-01-08-00_combined.dat \n",
        "I am on file 1374 with filename LC_91701-01-57-02_combined.dat \n",
        "dt_min: 0.00781249999989"
       ]
      },
      {
       "output_type": "stream",
       "stream": "stdout",
       "text": [
        "\n",
        "len(da[0]): 141183\n",
        "Feature shape: (14, 910)"
       ]
      },
      {
       "output_type": "stream",
       "stream": "stdout",
       "text": [
        "\n",
        "I am on file 1375 with filename LC_96701-01-52-01_combined.dat \n",
        "dt_min: 0.00781249999977"
       ]
      },
      {
       "output_type": "stream",
       "stream": "stdout",
       "text": [
        "\n",
        "len(da[0]): 210943\n",
        "Feature shape: (22, 910)"
       ]
      },
      {
       "output_type": "stream",
       "stream": "stdout",
       "text": [
        "\n",
        "I am on file 1376 with filename LC_96701-01-04-00_combined.dat \n",
        "dt_min: 0.00781249999977"
       ]
      },
      {
       "output_type": "stream",
       "stream": "stdout",
       "text": [
        "\n",
        "len(da[0]): 204927\n",
        "Feature shape: (22, 910)"
       ]
      },
      {
       "output_type": "stream",
       "stream": "stdout",
       "text": [
        "\n",
        "I am on file 1377 with filename LC_20402-01-09-00_combined.dat \n",
        "I am on file 1378 with filename LC_40116-01-02-00_combined.dat \n",
        "dt_min: 0.00781249999989"
       ]
      },
      {
       "output_type": "stream",
       "stream": "stdout",
       "text": [
        "\n",
        "len(da[0]): 73854\n",
        "len(da[0]): 95102\n",
        "Feature shape: (14, 910)"
       ]
      },
      {
       "output_type": "stream",
       "stream": "stdout",
       "text": [
        "\n",
        "I am on file 1379 with filename LC_50703-01-42-01_combined.dat \n",
        "dt_min: 0.00781249999989"
       ]
      },
      {
       "output_type": "stream",
       "stream": "stdout",
       "text": [
        "\n",
        "len(da[0]): 176127\n",
        "Feature shape: (18, 910)"
       ]
      },
      {
       "output_type": "stream",
       "stream": "stdout",
       "text": [
        "\n",
        "I am on file 1380 with filename LC_80701-01-27-02_combined.dat \n",
        "dt_min: 0.00781249999994"
       ]
      },
      {
       "output_type": "stream",
       "stream": "stdout",
       "text": [
        "\n",
        "len(da[0]): 131071\n",
        "Feature shape: (12, 910)"
       ]
      },
      {
       "output_type": "stream",
       "stream": "stdout",
       "text": [
        "\n",
        "I am on file 1381 with filename LC_90024-02-13-00_combined.dat \n",
        "dt_min: 0.00390624999999"
       ]
      },
      {
       "output_type": "stream",
       "stream": "stdout",
       "text": [
        "\n",
        "len(da[0]): 249855\n",
        "Feature shape: (12, 910)"
       ]
      },
      {
       "output_type": "stream",
       "stream": "stdout",
       "text": [
        "\n",
        "I am on file 1382 with filename LC_50703-01-41-03_combined.dat \n",
        "dt_min: 0.00781249999999"
       ]
      },
      {
       "output_type": "stream",
       "stream": "stdout",
       "text": [
        "\n",
        "len(da[0]): 108543\n",
        "Feature shape: (10, 910)\n",
        "I am on file 1383 with filename LC_80701-01-40-00_combined.dat \n",
        "dt_min: 0.00781249999989"
       ]
      },
      {
       "output_type": "stream",
       "stream": "stdout",
       "text": [
        "\n",
        "len(da[0]): 368511\n",
        "Feature shape: (41, 910)"
       ]
      },
      {
       "output_type": "stream",
       "stream": "stdout",
       "text": [
        "\n",
        "I am on file 1384 with filename LC_60701-01-12-03_combined.dat \n",
        "dt_min: 0.00781249999989"
       ]
      },
      {
       "output_type": "stream",
       "stream": "stdout",
       "text": [
        "\n",
        "len(da[0]): 155647\n",
        "Feature shape: (15, 910)"
       ]
      },
      {
       "output_type": "stream",
       "stream": "stdout",
       "text": [
        "\n",
        "I am on file 1385 with filename LC_92702-01-26-01_combined.dat \n",
        "dt_min: 0.00781249999989"
       ]
      },
      {
       "output_type": "stream",
       "stream": "stdout",
       "text": [
        "\n",
        "len(da[0]): 120831\n",
        "Feature shape: (11, 910)"
       ]
      },
      {
       "output_type": "stream",
       "stream": "stdout",
       "text": [
        "\n",
        "I am on file 1386 with filename LC_80701-01-19-03_combined.dat \n",
        "dt_min: 0.00781249999989"
       ]
      },
      {
       "output_type": "stream",
       "stream": "stdout",
       "text": [
        "\n",
        "len(da[0]): 139263\n",
        "Feature shape: (13, 910)"
       ]
      },
      {
       "output_type": "stream",
       "stream": "stdout",
       "text": [
        "\n",
        "I am on file 1387 with filename LC_80127-05-02-00_combined.dat \n",
        "dt_min: 0.00390624999994"
       ]
      },
      {
       "output_type": "stream",
       "stream": "stdout",
       "text": [
        "\n",
        "len(da[0]): 262143\n",
        "Feature shape: (12, 910)"
       ]
      },
      {
       "output_type": "stream",
       "stream": "stdout",
       "text": [
        "\n",
        "I am on file 1388 with filename LC_30402-01-01-00_combined.dat \n",
        "dt_min: 0.00781249999818"
       ]
      },
      {
       "output_type": "stream",
       "stream": "stdout",
       "text": [
        "\n",
        "len(da[0]): 9725\n",
        "len(da[0]): 412158\n",
        "len(da[0]): 161277\n",
        "len(da[0]): 260607\n",
        "Feature shape: (91, 910)"
       ]
      },
      {
       "output_type": "stream",
       "stream": "stdout",
       "text": [
        "\n",
        "I am on file 1389 with filename LC_91701-01-40-00_combined.dat \n",
        "dt_min: 0.00781249999909"
       ]
      },
      {
       "output_type": "stream",
       "stream": "stdout",
       "text": [
        "\n",
        "len(da[0]): 374782\n",
        "len(da[0]): 401406\n",
        "len(da[0]): 319487\n",
        "Feature shape: (122, 910)"
       ]
      },
      {
       "output_type": "stream",
       "stream": "stdout",
       "text": [
        "\n",
        "I am on file 1390 with filename LC_94701-01-53-00_combined.dat \n",
        "dt_min: 0.00781249999989"
       ]
      },
      {
       "output_type": "stream",
       "stream": "stdout",
       "text": [
        "\n",
        "len(da[0]): 399359\n",
        "Feature shape: (45, 910)"
       ]
      },
      {
       "output_type": "stream",
       "stream": "stdout",
       "text": [
        "\n",
        "I am on file 1391 with filename LC_90024-02-24-00_combined.dat \n",
        "dt_min: 0.00390624999999"
       ]
      },
      {
       "output_type": "stream",
       "stream": "stdout",
       "text": [
        "\n",
        "len(da[0]): 81663\n",
        "Feature shape: (1, 910)\n",
        "I am on file 1392 with filename LC_20402-01-47-01_combined.dat \n",
        "dt_min: 0.00781249999999"
       ]
      },
      {
       "output_type": "stream",
       "stream": "stdout",
       "text": [
        "\n",
        "len(da[0]): 99325\n",
        "len(da[0]): 16382\n",
        "Feature shape: (9, 910)\n",
        "I am on file 1393 with filename LC_91701-01-20-00_combined.dat \n",
        "dt_min: 0.00781249999989"
       ]
      },
      {
       "output_type": "stream",
       "stream": "stdout",
       "text": [
        "\n",
        "len(da[0]): 409599\n",
        "Feature shape: (46, 910)"
       ]
      },
      {
       "output_type": "stream",
       "stream": "stdout",
       "text": [
        "\n",
        "I am on file 1394 with filename LC_30703-01-10-00_combined.dat \n",
        "dt_min: 0.00781249999989"
       ]
      },
      {
       "output_type": "stream",
       "stream": "stdout",
       "text": [
        "\n",
        "len(da[0]): 163838\n",
        "len(da[0]): 193661\n",
        "len(da[0]): 184190\n",
        "len(da[0]): 18431\n",
        "Feature shape: (55, 910)"
       ]
      },
      {
       "output_type": "stream",
       "stream": "stdout",
       "text": [
        "\n",
        "I am on file 1395 with filename LC_10408-01-27-00_combined.dat \n",
        "I am on file 1396 with filename LC_30703-01-27-00_combined.dat \n",
        "dt_min: 0.00781249999955"
       ]
      },
      {
       "output_type": "stream",
       "stream": "stdout",
       "text": [
        "\n",
        "len(da[0]): 192510\n",
        "len(da[0]): 64381\n",
        "len(da[0]): 358527\n",
        "Feature shape: (64, 910)"
       ]
      },
      {
       "output_type": "stream",
       "stream": "stdout",
       "text": [
        "\n",
        "I am on file 1397 with filename LC_50405-01-02-02_combined.dat \n",
        "dt_min: 0.00781249999989"
       ]
      },
      {
       "output_type": "stream",
       "stream": "stdout",
       "text": [
        "\n",
        "len(da[0]): 323583\n",
        "Feature shape: (36, 910)"
       ]
      },
      {
       "output_type": "stream",
       "stream": "stdout",
       "text": [
        "\n",
        "I am on file 1398 with filename LC_90105-08-01-00_combined.dat \n",
        "dt_min: 0.00390624999818"
       ]
      },
      {
       "output_type": "stream",
       "stream": "stdout",
       "text": [
        "\n",
        "len(da[0]): 790526\n",
        "len(da[0]): 806910\n",
        "len(da[0]): 749567"
       ]
      },
      {
       "output_type": "stream",
       "stream": "stdout",
       "text": [
        "\n",
        "Feature shape: (133, 910)"
       ]
      },
      {
       "output_type": "stream",
       "stream": "stdout",
       "text": [
        "\n",
        "I am on file 1399 with filename LC_40703-01-41-00_combined.dat \n",
        "dt_min: 0.00781249999999"
       ]
      },
      {
       "output_type": "stream",
       "stream": "stdout",
       "text": [
        "\n",
        "len(da[0]): 61438\n",
        "len(da[0]): 163839\n",
        "Feature shape: (20, 910)"
       ]
      },
      {
       "output_type": "stream",
       "stream": "stdout",
       "text": [
        "\n",
        "I am on file 1400 with filename LC_40703-01-33-01_combined.dat \n",
        "dt_min: 0.00781249999999"
       ]
      },
      {
       "output_type": "stream",
       "stream": "stdout",
       "text": [
        "\n",
        "len(da[0]): 69630\n",
        "len(da[0]): 110591\n",
        "Feature shape: (15, 910)"
       ]
      },
      {
       "output_type": "stream",
       "stream": "stdout",
       "text": [
        "\n",
        "I am on file 1401 with filename LC_93701-01-11-02_combined.dat \n",
        "dt_min: 0.00781249999989"
       ]
      },
      {
       "output_type": "stream",
       "stream": "stdout",
       "text": [
        "\n",
        "len(da[0]): 204031\n",
        "Feature shape: (21, 910)"
       ]
      },
      {
       "output_type": "stream",
       "stream": "stdout",
       "text": [
        "\n",
        "I am on file 1402 with filename LC_20402-01-60-00_combined.dat \n",
        "dt_min: 0.00781249999989"
       ]
      },
      {
       "output_type": "stream",
       "stream": "stdout",
       "text": [
        "\n",
        "len(da[0]): 233470\n",
        "len(da[0]): 183421\n",
        "len(da[0]): 234366\n",
        "len(da[0]): 176126\n",
        "len(da[0]): 208766\n",
        "len(da[0]): 99453\n",
        "len(da[0]): 316287\n",
        "Feature shape: (153, 910)"
       ]
      },
      {
       "output_type": "stream",
       "stream": "stdout",
       "text": [
        "\n",
        "I am on file 1403 with filename LC_94701-01-01-01_combined.dat \n",
        "dt_min: 0.00781249999989"
       ]
      },
      {
       "output_type": "stream",
       "stream": "stdout",
       "text": [
        "\n",
        "len(da[0]): 265855\n",
        "Feature shape: (29, 910)"
       ]
      },
      {
       "output_type": "stream",
       "stream": "stdout",
       "text": [
        "\n",
        "I am on file 1404 with filename LC_50703-01-52-02_combined.dat \n",
        "dt_min: 0.00781249999994"
       ]
      },
      {
       "output_type": "stream",
       "stream": "stdout",
       "text": [
        "\n",
        "len(da[0]): 94207\n",
        "Feature shape: (8, 910)\n",
        "I am on file 1405 with filename LC_90701-01-33-00_combined.dat \n",
        "dt_min: 0.00781249999989"
       ]
      },
      {
       "output_type": "stream",
       "stream": "stdout",
       "text": [
        "\n",
        "len(da[0]): 403455\n",
        "Feature shape: (46, 910)"
       ]
      },
      {
       "output_type": "stream",
       "stream": "stdout",
       "text": [
        "\n",
        "I am on file 1406 with filename LC_10408-01-37-00_combined.dat \n",
        "dt_min: 0.00390625"
       ]
      },
      {
       "output_type": "stream",
       "stream": "stdout",
       "text": [
        "\n",
        "len(da[0]): 92158\n",
        "len(da[0]): 22525\n",
        "len(da[0]): 65534\n",
        "len(da[0]): 794621\n",
        "len(da[0]): 116734\n",
        "len(da[0]): 255998\n",
        "Feature shape: (63, 910)"
       ]
      },
      {
       "output_type": "stream",
       "stream": "stdout",
       "text": [
        "\n",
        "I am on file 1407 with filename LC_91701-01-09-00_combined.dat \n",
        "dt_min: 0.00781249999989"
       ]
      },
      {
       "output_type": "stream",
       "stream": "stdout",
       "text": [
        "\n",
        "len(da[0]): 195839\n",
        "Feature shape: (20, 910)"
       ]
      },
      {
       "output_type": "stream",
       "stream": "stdout",
       "text": [
        "\n",
        "I am on file 1408 with filename LC_94701-01-34-01_combined.dat \n",
        "dt_min: 0.00781249999999"
       ]
      },
      {
       "output_type": "stream",
       "stream": "stdout",
       "text": [
        "\n",
        "len(da[0]): 128639\n",
        "Feature shape: (12, 910)"
       ]
      },
      {
       "output_type": "stream",
       "stream": "stdout",
       "text": [
        "\n",
        "I am on file 1409 with filename LC_20402-01-52-01_combined.dat \n",
        "I am on file 1410 with filename LC_91701-01-56-00_combined.dat \n",
        "dt_min: 0.00781249999989"
       ]
      },
      {
       "output_type": "stream",
       "stream": "stdout",
       "text": [
        "\n",
        "len(da[0]): 509\n",
        "len(da[0]): 3581\n",
        "len(da[0]): 5629\n",
        "len(da[0]): 2045\n",
        "len(da[0]): 1533\n",
        "len(da[0]): 1021\n",
        "len(da[0]): 509\n",
        "len(da[0]): 1021\n",
        "len(da[0]): 1533\n",
        "len(da[0]): 6653\n",
        "len(da[0]): 4093\n",
        "len(da[0]): 4605\n",
        "len(da[0]): 1021\n",
        "len(da[0]): 5117\n",
        "len(da[0]): 4093\n",
        "len(da[0]): 2557\n",
        "len(da[0]): 2557\n",
        "len(da[0]): 1021\n",
        "len(da[0]): 509\n",
        "len(da[0]): 2557\n",
        "len(da[0]): 509\n",
        "len(da[0]): 509\n",
        "len(da[0]): 509\n",
        "len(da[0]): 509\n",
        "len(da[0]): 1021\n",
        "len(da[0]): 509\n",
        "len(da[0]): 509\n",
        "len(da[0]): 2557\n",
        "len(da[0]): 509\n",
        "len(da[0]): 509\n",
        "len(da[0]): 1021\n",
        "len(da[0]): 509\n",
        "len(da[0]): 509\n",
        "len(da[0]): 509\n",
        "len(da[0]): 509\n",
        "len(da[0]): 509\n",
        "len(da[0]): 2557\n",
        "len(da[0]): 1021\n",
        "len(da[0]): 1533\n",
        "len(da[0]): 2557\n",
        "len(da[0]): 1021\n",
        "len(da[0]): 509\n",
        "len(da[0]): 409599\n",
        "Feature shape: (46, 910)"
       ]
      },
      {
       "output_type": "stream",
       "stream": "stdout",
       "text": [
        "\n",
        "I am on file 1411 with filename LC_95701-01-52-00_combined.dat \n",
        "dt_min: 0.00781249999977"
       ]
      },
      {
       "output_type": "stream",
       "stream": "stdout",
       "text": [
        "\n",
        "len(da[0]): 192511\n",
        "Feature shape: (20, 910)"
       ]
      },
      {
       "output_type": "stream",
       "stream": "stdout",
       "text": [
        "\n",
        "I am on file 1412 with filename LC_60701-01-15-00_combined.dat \n",
        "dt_min: 0.00781249999818"
       ]
      },
      {
       "output_type": "stream",
       "stream": "stdout",
       "text": [
        "\n",
        "len(da[0]): 415742\n",
        "len(da[0]): 337919\n",
        "Feature shape: (85, 910)"
       ]
      },
      {
       "output_type": "stream",
       "stream": "stdout",
       "text": [
        "\n",
        "I am on file 1413 with filename LC_90105-02-07-00_combined.dat \n",
        "dt_min: 0.00390624999989"
       ]
      },
      {
       "output_type": "stream",
       "stream": "stdout",
       "text": [
        "\n",
        "len(da[0]): 831487\n",
        "Feature shape: (47, 910)"
       ]
      },
      {
       "output_type": "stream",
       "stream": "stdout",
       "text": [
        "\n",
        "I am on file 1414 with filename LC_91701-01-50-00_combined.dat \n",
        "dt_min: 0.00781249999989"
       ]
      },
      {
       "output_type": "stream",
       "stream": "stdout",
       "text": [
        "\n",
        "len(da[0]): 411647\n",
        "Feature shape: (47, 910)"
       ]
      },
      {
       "output_type": "stream",
       "stream": "stdout",
       "text": [
        "\n",
        "I am on file 1415 with filename LC_90701-01-36-00_combined.dat \n",
        "dt_min: 0.00781249999989"
       ]
      },
      {
       "output_type": "stream",
       "stream": "stdout",
       "text": [
        "\n",
        "len(da[0]): 184319\n",
        "Feature shape: (19, 910)"
       ]
      },
      {
       "output_type": "stream",
       "stream": "stdout",
       "text": [
        "\n",
        "I am on file 1416 with filename LC_93701-01-38-01_combined.dat \n",
        "dt_min: 0.00781249999989"
       ]
      },
      {
       "output_type": "stream",
       "stream": "stdout",
       "text": [
        "\n",
        "len(da[0]): 95359\n",
        "Feature shape: (8, 910)\n",
        "I am on file 1417 with filename LC_70702-01-12-00_combined.dat \n",
        "dt_min: 0.00781249999989"
       ]
      },
      {
       "output_type": "stream",
       "stream": "stdout",
       "text": [
        "\n",
        "len(da[0]): 235135\n",
        "Feature shape: (25, 910)"
       ]
      },
      {
       "output_type": "stream",
       "stream": "stdout",
       "text": [
        "\n",
        "I am on file 1418 with filename LC_70702-01-37-00_combined.dat \n",
        "dt_min: 0.00781249999818"
       ]
      },
      {
       "output_type": "stream",
       "stream": "stdout",
       "text": [
        "\n",
        "len(da[0]): 413694\n",
        "len(da[0]): 413695\n",
        "Feature shape: (94, 910)"
       ]
      },
      {
       "output_type": "stream",
       "stream": "stdout",
       "text": [
        "\n",
        "I am on file 1419 with filename LC_80701-01-32-00_combined.dat \n",
        "dt_min: 0.00781249999989"
       ]
      },
      {
       "output_type": "stream",
       "stream": "stdout",
       "text": [
        "\n",
        "len(da[0]): 409598\n",
        "len(da[0]): 409599\n",
        "Feature shape: (92, 910)"
       ]
      },
      {
       "output_type": "stream",
       "stream": "stdout",
       "text": [
        "\n",
        "I am on file 1420 with filename LC_20186-03-02-05_combined.dat \n",
        "dt_min: 0.00781249999989"
       ]
      },
      {
       "output_type": "stream",
       "stream": "stdout",
       "text": [
        "\n",
        "len(da[0]): 40573\n",
        "len(da[0]): 187775\n",
        "Feature shape: (20, 910)"
       ]
      },
      {
       "output_type": "stream",
       "stream": "stdout",
       "text": [
        "\n",
        "I am on file 1421 with filename LC_10408-01-33-00_combined.dat \n",
        "dt_min: 0.00390625"
       ]
      },
      {
       "output_type": "stream",
       "stream": "stdout",
       "text": [
        "\n",
        "len(da[0]): 204798\n",
        "len(da[0]): 96510\n",
        "len(da[0]): 497405\n",
        "len(da[0]): 24574\n",
        "len(da[0]): 598014\n",
        "len(da[0]): 851967\n",
        "Feature shape: (119, 910)"
       ]
      },
      {
       "output_type": "stream",
       "stream": "stdout",
       "text": [
        "\n",
        "I am on file 1422 with filename LC_94701-01-01-00_combined.dat \n",
        "dt_min: 0.00781249999977"
       ]
      },
      {
       "output_type": "stream",
       "stream": "stdout",
       "text": [
        "\n",
        "len(da[0]): 90366\n",
        "len(da[0]): 316158\n",
        "Feature shape: (43, 910)"
       ]
      },
      {
       "output_type": "stream",
       "stream": "stdout",
       "text": [
        "\n",
        "I am on file 1423 with filename LC_40703-01-04-01_combined.dat \n",
        "dt_min: 0.00781249999989"
       ]
      },
      {
       "output_type": "stream",
       "stream": "stdout",
       "text": [
        "\n",
        "len(da[0]): 219135\n",
        "Feature shape: (23, 910)"
       ]
      },
      {
       "output_type": "stream",
       "stream": "stdout",
       "text": [
        "\n",
        "I am on file 1424 with filename LC_20402-01-14-00_combined.dat \n",
        "I am on file 1425 with filename LC_10258-01-09-00_combined.dat \n",
        "dt_min: 0.00390625"
       ]
      },
      {
       "output_type": "stream",
       "stream": "stdout",
       "text": [
        "\n",
        "len(da[0]): 307198\n",
        "len(da[0]): 319230\n",
        "len(da[0]): 491773\n",
        "len(da[0]): 843774\n",
        "len(da[0]): 57086"
       ]
      },
      {
       "output_type": "stream",
       "stream": "stdout",
       "text": [
        "\n",
        "len(da[0]): 673789\n",
        "len(da[0]): 108798\n",
        "Feature shape: (147, 910)"
       ]
      },
      {
       "output_type": "stream",
       "stream": "stdout",
       "text": [
        "\n",
        "I am on file 1426 with filename LC_93701-01-31-01_combined.dat \n",
        "dt_min: 0.00781249999989"
       ]
      },
      {
       "output_type": "stream",
       "stream": "stdout",
       "text": [
        "\n",
        "len(da[0]): 98303\n",
        "Feature shape: (8, 910)\n",
        "I am on file 1427 with filename LC_60701-01-12-02_combined.dat \n",
        "dt_min: 0.00781249999989"
       ]
      },
      {
       "output_type": "stream",
       "stream": "stdout",
       "text": [
        "\n",
        "len(da[0]): 181375\n",
        "Feature shape: (19, 910)"
       ]
      },
      {
       "output_type": "stream",
       "stream": "stdout",
       "text": [
        "\n",
        "I am on file 1428 with filename LC_94701-01-58-01_combined.dat \n",
        "dt_min: 0.00781249999989"
       ]
      },
      {
       "output_type": "stream",
       "stream": "stdout",
       "text": [
        "\n",
        "len(da[0]): 98303\n",
        "Feature shape: (8, 910)\n",
        "I am on file 1429 with filename LC_30703-01-02-00_combined.dat \n",
        "dt_min: 0.00781249999955"
       ]
      },
      {
       "output_type": "stream",
       "stream": "stdout",
       "text": [
        "\n",
        "len(da[0]): 153598\n",
        "len(da[0]): 237693\n",
        "len(da[0]): 140159\n",
        "Feature shape: (55, 910)"
       ]
      },
      {
       "output_type": "stream",
       "stream": "stdout",
       "text": [
        "\n",
        "I am on file 1430 with filename LC_10408-01-16-02_combined.dat \n",
        "I am on file 1431 with filename LC_40703-01-36-01_combined.dat \n",
        "dt_min: 0.00781249999989"
       ]
      },
      {
       "output_type": "stream",
       "stream": "stdout",
       "text": [
        "\n",
        "len(da[0]): 196607\n",
        "Feature shape: (20, 910)"
       ]
      },
      {
       "output_type": "stream",
       "stream": "stdout",
       "text": [
        "\n",
        "I am on file 1432 with filename LC_60701-01-13-00_combined.dat \n",
        "dt_min: 0.00781249999989"
       ]
      },
      {
       "output_type": "stream",
       "stream": "stdout",
       "text": [
        "\n",
        "len(da[0]): 188031\n",
        "Feature shape: (19, 910)"
       ]
      },
      {
       "output_type": "stream",
       "stream": "stdout",
       "text": [
        "\n",
        "I am on file 1433 with filename LC_50703-01-40-00_combined.dat \n",
        "dt_min: 0.00781249999989"
       ]
      },
      {
       "output_type": "stream",
       "stream": "stdout",
       "text": [
        "\n",
        "len(da[0]): 186367\n",
        "Feature shape: (19, 910)"
       ]
      },
      {
       "output_type": "stream",
       "stream": "stdout",
       "text": [
        "\n",
        "I am on file 1434 with filename LC_80701-01-20-00_combined.dat \n",
        "dt_min: 0.00781249999989"
       ]
      },
      {
       "output_type": "stream",
       "stream": "stdout",
       "text": [
        "\n",
        "len(da[0]): 231423\n",
        "Feature shape: (25, 910)"
       ]
      },
      {
       "output_type": "stream",
       "stream": "stdout",
       "text": [
        "\n",
        "I am on file 1435 with filename LC_80701-01-59-01_combined.dat \n",
        "dt_min: 0.00781249999989"
       ]
      },
      {
       "output_type": "stream",
       "stream": "stdout",
       "text": [
        "\n",
        "len(da[0]): 81535\n",
        "Feature shape: (6, 910)\n",
        "I am on file 1436 with filename LC_20402-01-41-02_combined.dat \n",
        "dt_min: 0.00781249999989"
       ]
      },
      {
       "output_type": "stream",
       "stream": "stdout",
       "text": [
        "\n",
        "len(da[0]): 368639\n",
        "Feature shape: (41, 910)"
       ]
      },
      {
       "output_type": "stream",
       "stream": "stdout",
       "text": [
        "\n",
        "I am on file 1437 with filename LC_91701-01-23-02_combined.dat \n",
        "dt_min: 0.00781249999999"
       ]
      },
      {
       "output_type": "stream",
       "stream": "stdout",
       "text": [
        "\n",
        "len(da[0]): 126975\n",
        "Feature shape: (12, 910)"
       ]
      },
      {
       "output_type": "stream",
       "stream": "stdout",
       "text": [
        "\n",
        "I am on file 1438 with filename LC_30703-01-36-00_combined.dat \n",
        "dt_min: 0.00781249999955"
       ]
      },
      {
       "output_type": "stream",
       "stream": "stdout",
       "text": [
        "\n",
        "len(da[0]): 85759\n",
        "len(da[0]): 90877\n",
        "len(da[0]): 53245\n",
        "len(da[0]): 13566\n",
        "len(da[0]): 122878\n",
        "len(da[0]): 159743\n",
        "Feature shape: (45, 910)"
       ]
      },
      {
       "output_type": "stream",
       "stream": "stdout",
       "text": [
        "\n",
        "I am on file 1439 with filename LC_93701-01-03-00_combined.dat \n",
        "dt_min: 0.00781249999989"
       ]
      },
      {
       "output_type": "stream",
       "stream": "stdout",
       "text": [
        "\n",
        "len(da[0]): 137215\n",
        "Feature shape: (13, 910)"
       ]
      },
      {
       "output_type": "stream",
       "stream": "stdout",
       "text": [
        "\n",
        "I am on file 1440 with filename LC_90701-01-42-00_combined.dat \n",
        "dt_min: 0.00781249999989"
       ]
      },
      {
       "output_type": "stream",
       "stream": "stdout",
       "text": [
        "\n",
        "len(da[0]): 141311\n",
        "Feature shape: (14, 910)"
       ]
      },
      {
       "output_type": "stream",
       "stream": "stdout",
       "text": [
        "\n",
        "I am on file 1441 with filename LC_95701-01-02-01_combined.dat \n",
        "dt_min: 0.00781249999999"
       ]
      },
      {
       "output_type": "stream",
       "stream": "stdout",
       "text": [
        "\n",
        "len(da[0]): 100351\n",
        "Feature shape: (9, 910)\n",
        "I am on file 1442 with filename LC_50703-01-66-01_combined.dat \n",
        "dt_min: 0.00781249999994"
       ]
      },
      {
       "output_type": "stream",
       "stream": "stdout",
       "text": [
        "\n",
        "len(da[0]): 89215\n",
        "Feature shape: (7, 910)\n",
        "I am on file 1443 with filename LC_60405-01-04-02_combined.dat \n",
        "dt_min: 0.00781249999999"
       ]
      },
      {
       "output_type": "stream",
       "stream": "stdout",
       "text": [
        "\n",
        "len(da[0]): 26622\n",
        "len(da[0]): 63487\n",
        "Feature shape: (4, 910)\n",
        "I am on file 1444 with filename LC_70702-01-16-00_combined.dat \n",
        "dt_min: 0.00781249999989"
       ]
      },
      {
       "output_type": "stream",
       "stream": "stdout",
       "text": [
        "\n",
        "len(da[0]): 413695\n",
        "Feature shape: (47, 910)"
       ]
      },
      {
       "output_type": "stream",
       "stream": "stdout",
       "text": [
        "\n",
        "I am on file 1445 with filename LC_90701-01-26-00_combined.dat \n",
        "dt_min: 0.00781249999989"
       ]
      },
      {
       "output_type": "stream",
       "stream": "stdout",
       "text": [
        "\n",
        "len(da[0]): 196351\n",
        "Feature shape: (20, 910)"
       ]
      },
      {
       "output_type": "stream",
       "stream": "stdout",
       "text": [
        "\n",
        "I am on file 1446 with filename LC_70702-01-05-02_combined.dat \n",
        "dt_min: 0.00781249999989"
       ]
      },
      {
       "output_type": "stream",
       "stream": "stdout",
       "text": [
        "\n",
        "len(da[0]): 180223\n",
        "Feature shape: (18, 910)"
       ]
      },
      {
       "output_type": "stream",
       "stream": "stdout",
       "text": [
        "\n",
        "I am on file 1447 with filename LC_60405-01-01-00_combined.dat \n",
        "dt_min: 0.00781249999989"
       ]
      },
      {
       "output_type": "stream",
       "stream": "stdout",
       "text": [
        "\n",
        "len(da[0]): 294911\n",
        "Feature shape: (32, 910)"
       ]
      },
      {
       "output_type": "stream",
       "stream": "stdout",
       "text": [
        "\n",
        "I am on file 1448 with filename LC_80701-01-13-03_combined.dat \n",
        "dt_min: 0.00781249999989"
       ]
      },
      {
       "output_type": "stream",
       "stream": "stdout",
       "text": [
        "\n",
        "len(da[0]): 145406\n",
        "len(da[0]): 26623\n",
        "Feature shape: (14, 910)"
       ]
      },
      {
       "output_type": "stream",
       "stream": "stdout",
       "text": [
        "\n",
        "I am on file 1449 with filename LC_40116-01-01-00_combined.dat \n",
        "dt_min: 0.00781249999989"
       ]
      },
      {
       "output_type": "stream",
       "stream": "stdout",
       "text": [
        "\n",
        "len(da[0]): 165887\n",
        "Feature shape: (17, 910)"
       ]
      },
      {
       "output_type": "stream",
       "stream": "stdout",
       "text": [
        "\n",
        "I am on file 1450 with filename LC_96701-01-06-00_combined.dat \n",
        "dt_min: 0.00781249999977"
       ]
      },
      {
       "output_type": "stream",
       "stream": "stdout",
       "text": [
        "\n",
        "len(da[0]): 215678\n",
        "len(da[0]): 194942\n",
        "Feature shape: (43, 910)"
       ]
      },
      {
       "output_type": "stream",
       "stream": "stdout",
       "text": [
        "\n",
        "I am on file 1451 with filename LC_60701-01-18-01_combined.dat \n",
        "dt_min: 0.00781249999989"
       ]
      },
      {
       "output_type": "stream",
       "stream": "stdout",
       "text": [
        "\n",
        "len(da[0]): 161407\n",
        "Feature shape: (16, 910)"
       ]
      },
      {
       "output_type": "stream",
       "stream": "stdout",
       "text": [
        "\n",
        "I am on file 1452 with filename LC_92702-01-01-00_combined.dat \n",
        "dt_min: 0.00781249999989"
       ]
      },
      {
       "output_type": "stream",
       "stream": "stdout",
       "text": [
        "\n",
        "len(da[0]): 235519\n",
        "Feature shape: (25, 910)"
       ]
      },
      {
       "output_type": "stream",
       "stream": "stdout",
       "text": [
        "\n",
        "I am on file 1453 with filename LC_90105-03-02-01_combined.dat \n",
        "dt_min: 0.00390624999989"
       ]
      },
      {
       "output_type": "stream",
       "stream": "stdout",
       "text": [
        "\n",
        "len(da[0]): 397311\n",
        "Feature shape: (21, 910)"
       ]
      },
      {
       "output_type": "stream",
       "stream": "stdout",
       "text": [
        "\n",
        "I am on file 1454 with filename LC_60701-01-19-01_combined.dat \n",
        "dt_min: 0.00781249999989"
       ]
      },
      {
       "output_type": "stream",
       "stream": "stdout",
       "text": [
        "\n",
        "len(da[0]): 212991\n",
        "Feature shape: (22, 910)"
       ]
      },
      {
       "output_type": "stream",
       "stream": "stdout",
       "text": [
        "\n",
        "I am on file 1455 with filename LC_80188-01-01-00_combined.dat \n",
        "dt_min: 0.00390624999989"
       ]
      },
      {
       "output_type": "stream",
       "stream": "stdout",
       "text": [
        "\n",
        "len(da[0]): 307199\n",
        "Feature shape: (15, 910)"
       ]
      },
      {
       "output_type": "stream",
       "stream": "stdout",
       "text": [
        "\n",
        "I am on file 1456 with filename LC_30703-01-08-00_combined.dat \n",
        "dt_min: 0.00781249999955"
       ]
      },
      {
       "output_type": "stream",
       "stream": "stdout",
       "text": [
        "\n",
        "len(da[0]): 174078\n",
        "len(da[0]): 6781\n",
        "len(da[0]): 381311\n",
        "Feature shape: (61, 910)"
       ]
      },
      {
       "output_type": "stream",
       "stream": "stdout",
       "text": [
        "\n",
        "I am on file 1457 with filename LC_90701-01-09-01_combined.dat \n",
        "dt_min: 0.00781249999989"
       ]
      },
      {
       "output_type": "stream",
       "stream": "stdout",
       "text": [
        "\n",
        "len(da[0]): 186367\n",
        "Feature shape: (19, 910)"
       ]
      },
      {
       "output_type": "stream",
       "stream": "stdout",
       "text": [
        "\n",
        "I am on file 1458 with filename LC_96701-01-11-00_combined.dat \n",
        "dt_min: 0.00781249999989"
       ]
      },
      {
       "output_type": "stream",
       "stream": "stdout",
       "text": [
        "\n",
        "len(da[0]): 407551\n",
        "Feature shape: (46, 910)"
       ]
      },
      {
       "output_type": "stream",
       "stream": "stdout",
       "text": [
        "\n",
        "I am on file 1459 with filename LC_92702-01-33-00_combined.dat \n",
        "dt_min: 0.00781249999989"
       ]
      },
      {
       "output_type": "stream",
       "stream": "stdout",
       "text": [
        "\n",
        "len(da[0]): 198655\n",
        "Feature shape: (21, 910)"
       ]
      },
      {
       "output_type": "stream",
       "stream": "stdout",
       "text": [
        "\n",
        "I am on file 1460 with filename LC_70702-01-35-00_combined.dat \n",
        "dt_min: 0.00781249999989"
       ]
      },
      {
       "output_type": "stream",
       "stream": "stdout",
       "text": [
        "\n",
        "len(da[0]): 202751\n",
        "Feature shape: (21, 910)"
       ]
      },
      {
       "output_type": "stream",
       "stream": "stdout",
       "text": [
        "\n",
        "I am on file 1461 with filename LC_94701-01-13-00_combined.dat \n",
        "dt_min: 0.00781249999989"
       ]
      },
      {
       "output_type": "stream",
       "stream": "stdout",
       "text": [
        "\n",
        "len(da[0]): 208895\n",
        "Feature shape: (22, 910)"
       ]
      },
      {
       "output_type": "stream",
       "stream": "stdout",
       "text": [
        "\n",
        "I am on file 1462 with filename LC_40703-01-39-00_combined.dat \n",
        "dt_min: 0.00781249999989"
       ]
      },
      {
       "output_type": "stream",
       "stream": "stdout",
       "text": [
        "\n",
        "len(da[0]): 374783\n",
        "Feature shape: (42, 910)"
       ]
      },
      {
       "output_type": "stream",
       "stream": "stdout",
       "text": [
        "\n",
        "I am on file 1463 with filename LC_60701-01-30-00_combined.dat \n",
        "dt_min: 0.00781249999989"
       ]
      },
      {
       "output_type": "stream",
       "stream": "stdout",
       "text": [
        "\n",
        "len(da[0]): 177663\n",
        "Feature shape: (18, 910)"
       ]
      },
      {
       "output_type": "stream",
       "stream": "stdout",
       "text": [
        "\n",
        "I am on file 1464 with filename LC_90105-03-02-02_combined.dat \n",
        "dt_min: 0.00390624999989"
       ]
      },
      {
       "output_type": "stream",
       "stream": "stdout",
       "text": [
        "\n",
        "len(da[0]): 479231\n",
        "Feature shape: (26, 910)"
       ]
      },
      {
       "output_type": "stream",
       "stream": "stdout",
       "text": [
        "\n",
        "I am on file 1465 with filename LC_96701-01-33-00_combined.dat \n",
        "dt_min: 0.00781249999977"
       ]
      },
      {
       "output_type": "stream",
       "stream": "stdout",
       "text": [
        "\n",
        "len(da[0]): 405503\n",
        "Feature shape: (46, 910)"
       ]
      },
      {
       "output_type": "stream",
       "stream": "stdout",
       "text": [
        "\n",
        "I am on file 1466 with filename LC_50125-01-01-00_combined.dat \n",
        "dt_min: 0.00781249999989"
       ]
      },
      {
       "output_type": "stream",
       "stream": "stdout",
       "text": [
        "\n",
        "len(da[0]): 209919\n",
        "Feature shape: (22, 910)"
       ]
      },
      {
       "output_type": "stream",
       "stream": "stdout",
       "text": [
        "\n",
        "I am on file 1467 with filename LC_91701-01-71-00_combined.dat \n",
        "dt_min: 0.00781249999989"
       ]
      },
      {
       "output_type": "stream",
       "stream": "stdout",
       "text": [
        "\n",
        "len(da[0]): 219903\n",
        "Feature shape: (23, 910)"
       ]
      },
      {
       "output_type": "stream",
       "stream": "stdout",
       "text": [
        "\n",
        "I am on file 1468 with filename LC_40403-01-07-00_combined.dat \n",
        "dt_min: 0.00781249999989"
       ]
      },
      {
       "output_type": "stream",
       "stream": "stdout",
       "text": [
        "\n",
        "len(da[0]): 310270\n",
        "len(da[0]): 34302\n",
        "Feature shape: (35, 910)"
       ]
      },
      {
       "output_type": "stream",
       "stream": "stdout",
       "text": [
        "\n",
        "I am on file 1469 with filename LC_90701-01-20-02_combined.dat \n",
        "dt_min: 0.00781249999999"
       ]
      },
      {
       "output_type": "stream",
       "stream": "stdout",
       "text": [
        "\n",
        "len(da[0]): 40959\n",
        "Feature shape: (1, 910)\n",
        "I am on file 1470 with filename LC_50703-01-28-01_combined.dat \n",
        "dt_min: 0.00781249999989"
       ]
      },
      {
       "output_type": "stream",
       "stream": "stdout",
       "text": [
        "\n",
        "len(da[0]): 286335\n",
        "Feature shape: (31, 910)"
       ]
      },
      {
       "output_type": "stream",
       "stream": "stdout",
       "text": [
        "\n",
        "I am on file 1471 with filename LC_90024-02-11-00_combined.dat \n",
        "dt_min: 0.00390624999999"
       ]
      },
      {
       "output_type": "stream",
       "stream": "stdout",
       "text": [
        "\n",
        "len(da[0]): 69631\n",
        "Feature shape: (1, 910)\n",
        "I am on file 1472 with filename LC_92702-01-15-00_combined.dat \n",
        "dt_min: 0.00781249999989"
       ]
      },
      {
       "output_type": "stream",
       "stream": "stdout",
       "text": [
        "\n",
        "len(da[0]): 222847\n",
        "Feature shape: (24, 910)"
       ]
      },
      {
       "output_type": "stream",
       "stream": "stdout",
       "text": [
        "\n",
        "I am on file 1473 with filename LC_80701-01-20-01_combined.dat \n",
        "dt_min: 0.00781249999989"
       ]
      },
      {
       "output_type": "stream",
       "stream": "stdout",
       "text": [
        "\n",
        "len(da[0]): 204799\n",
        "Feature shape: (21, 910)"
       ]
      },
      {
       "output_type": "stream",
       "stream": "stdout",
       "text": [
        "\n",
        "I am on file 1474 with filename LC_90701-01-44-00_combined.dat \n",
        "dt_min: 0.00781249999989"
       ]
      },
      {
       "output_type": "stream",
       "stream": "stdout",
       "text": [
        "\n",
        "len(da[0]): 139263\n",
        "Feature shape: (13, 910)"
       ]
      },
      {
       "output_type": "stream",
       "stream": "stdout",
       "text": [
        "\n",
        "I am on file 1475 with filename LC_30703-01-30-00_combined.dat \n",
        "dt_min: 0.00781249999989"
       ]
      },
      {
       "output_type": "stream",
       "stream": "stdout",
       "text": [
        "\n",
        "len(da[0]): 280575\n",
        "Feature shape: (31, 910)"
       ]
      },
      {
       "output_type": "stream",
       "stream": "stdout",
       "text": [
        "\n",
        "I am on file 1476 with filename LC_80701-01-04-01_combined.dat \n",
        "dt_min: 0.00781249999989"
       ]
      },
      {
       "output_type": "stream",
       "stream": "stdout",
       "text": [
        "\n",
        "len(da[0]): 243711\n",
        "Feature shape: (26, 910)"
       ]
      },
      {
       "output_type": "stream",
       "stream": "stdout",
       "text": [
        "\n",
        "I am on file 1477 with filename LC_50703-01-55-01_combined.dat \n",
        "dt_min: 0.00781249999989"
       ]
      },
      {
       "output_type": "stream",
       "stream": "stdout",
       "text": [
        "\n",
        "len(da[0]): 255998\n",
        "len(da[0]): 344062\n",
        "len(da[0]): 204799\n",
        "Feature shape: (87, 910)"
       ]
      },
      {
       "output_type": "stream",
       "stream": "stdout",
       "text": [
        "\n",
        "I am on file 1478 with filename LC_90024-02-38-00_combined.dat \n",
        "dt_min: 0.00390624999989"
       ]
      },
      {
       "output_type": "stream",
       "stream": "stdout",
       "text": [
        "\n",
        "len(da[0]): 368639\n",
        "Feature shape: (19, 910)"
       ]
      },
      {
       "output_type": "stream",
       "stream": "stdout",
       "text": [
        "\n",
        "I am on file 1479 with filename LC_91701-01-70-00_combined.dat \n",
        "dt_min: 0.00781249999989"
       ]
      },
      {
       "output_type": "stream",
       "stream": "stdout",
       "text": [
        "\n",
        "len(da[0]): 227327\n",
        "Feature shape: (24, 910)"
       ]
      },
      {
       "output_type": "stream",
       "stream": "stdout",
       "text": [
        "\n",
        "I am on file 1480 with filename LC_20186-03-01-00_combined.dat \n",
        "dt_min: 0.00781249999977"
       ]
      },
      {
       "output_type": "stream",
       "stream": "stdout",
       "text": [
        "\n",
        "len(da[0]): 276478\n",
        "len(da[0]): 350207\n",
        "Feature shape: (69, 910)"
       ]
      },
      {
       "output_type": "stream",
       "stream": "stdout",
       "text": [
        "\n",
        "I am on file 1481 with filename LC_80701-01-19-02_combined.dat \n",
        "dt_min: 0.00781249999989"
       ]
      },
      {
       "output_type": "stream",
       "stream": "stdout",
       "text": [
        "\n",
        "len(da[0]): 169983\n",
        "Feature shape: (17, 910)"
       ]
      },
      {
       "output_type": "stream",
       "stream": "stdout",
       "text": [
        "\n",
        "I am on file 1482 with filename LC_80701-01-01-02_combined.dat \n",
        "dt_min: 0.00781249999989"
       ]
      },
      {
       "output_type": "stream",
       "stream": "stdout",
       "text": [
        "\n",
        "len(da[0]): 149503\n",
        "Feature shape: (15, 910)"
       ]
      },
      {
       "output_type": "stream",
       "stream": "stdout",
       "text": [
        "\n",
        "I am on file 1483 with filename LC_10408-01-14-08_combined.dat \n",
        "I am on file 1484 with filename LC_93701-01-08-01_combined.dat \n",
        "dt_min: 0.00781249999989"
       ]
      },
      {
       "output_type": "stream",
       "stream": "stdout",
       "text": [
        "\n",
        "len(da[0]): 122751\n",
        "Feature shape: (11, 910)"
       ]
      },
      {
       "output_type": "stream",
       "stream": "stdout",
       "text": [
        "\n",
        "I am on file 1485 with filename LC_40703-01-09-00_combined.dat \n",
        "dt_min: 0.00781249999955"
       ]
      },
      {
       "output_type": "stream",
       "stream": "stdout",
       "text": [
        "\n",
        "len(da[0]): 172030\n",
        "len(da[0]): 430079\n",
        "Feature shape: (66, 910)"
       ]
      },
      {
       "output_type": "stream",
       "stream": "stdout",
       "text": [
        "\n",
        "I am on file 1486 with filename LC_90701-01-49-00_combined.dat \n",
        "dt_min: 0.00781249999989"
       ]
      },
      {
       "output_type": "stream",
       "stream": "stdout",
       "text": [
        "\n",
        "len(da[0]): 296959\n",
        "Feature shape: (33, 910)"
       ]
      },
      {
       "output_type": "stream",
       "stream": "stdout",
       "text": [
        "\n",
        "I am on file 1487 with filename LC_94701-01-24-00_combined.dat \n",
        "dt_min: 0.00781249999977"
       ]
      },
      {
       "output_type": "stream",
       "stream": "stdout",
       "text": [
        "\n",
        "len(da[0]): 247807\n",
        "Feature shape: (27, 910)"
       ]
      },
      {
       "output_type": "stream",
       "stream": "stdout",
       "text": [
        "\n",
        "I am on file 1488 with filename LC_96701-01-26-00_combined.dat \n",
        "dt_min: 0.00781249999977"
       ]
      },
      {
       "output_type": "stream",
       "stream": "stdout",
       "text": [
        "\n",
        "len(da[0]): 329727\n",
        "Feature shape: (37, 910)"
       ]
      },
      {
       "output_type": "stream",
       "stream": "stdout",
       "text": [
        "\n",
        "I am on file 1489 with filename LC_91701-01-16-00_combined.dat \n",
        "dt_min: 0.00781249999989"
       ]
      },
      {
       "output_type": "stream",
       "stream": "stdout",
       "text": [
        "\n",
        "len(da[0]): 180223\n",
        "Feature shape: (18, 910)"
       ]
      },
      {
       "output_type": "stream",
       "stream": "stdout",
       "text": [
        "\n",
        "I am on file 1490 with filename LC_60405-01-04-01_combined.dat \n",
        "dt_min: 0.00781249999999"
       ]
      },
      {
       "output_type": "stream",
       "stream": "stdout",
       "text": [
        "\n",
        "len(da[0]): 55294\n",
        "len(da[0]): 53247\n",
        "Feature shape: (6, 910)\n",
        "I am on file 1491 with filename LC_10408-01-03-00_combined.dat \n",
        "dt_min: 0.015625"
       ]
      },
      {
       "output_type": "stream",
       "stream": "stdout",
       "text": [
        "\n",
        "len(da[0]): 108542\n",
        "len(da[0]): 173054\n",
        "len(da[0]): 19455\n",
        "Feature shape: (63, 910)"
       ]
      },
      {
       "output_type": "stream",
       "stream": "stdout",
       "text": [
        "\n",
        "I am on file 1492 with filename LC_96701-01-51-00_combined.dat \n",
        "dt_min: 0.00781249999977"
       ]
      },
      {
       "output_type": "stream",
       "stream": "stdout",
       "text": [
        "\n",
        "len(da[0]): 182271\n",
        "Feature shape: (19, 910)"
       ]
      },
      {
       "output_type": "stream",
       "stream": "stdout",
       "text": [
        "\n",
        "I am on file 1493 with filename LC_40116-01-02-02_combined.dat \n",
        "dt_min: 0.00781249999989"
       ]
      },
      {
       "output_type": "stream",
       "stream": "stdout",
       "text": [
        "\n",
        "len(da[0]): 277247\n",
        "Feature shape: (30, 910)"
       ]
      },
      {
       "output_type": "stream",
       "stream": "stdout",
       "text": [
        "\n",
        "I am on file 1494 with filename LC_95701-01-51-00_combined.dat \n",
        "dt_min: 0.00781249999977"
       ]
      },
      {
       "output_type": "stream",
       "stream": "stdout",
       "text": [
        "\n",
        "len(da[0]): 411647\n",
        "Feature shape: (47, 910)"
       ]
      },
      {
       "output_type": "stream",
       "stream": "stdout",
       "text": [
        "\n",
        "I am on file 1495 with filename LC_40702-01-02-00_combined.dat \n",
        "dt_min: 0.00781249999989"
       ]
      },
      {
       "output_type": "stream",
       "stream": "stdout",
       "text": [
        "\n",
        "len(da[0]): 315390\n",
        "len(da[0]): 222078\n",
        "len(da[0]): 34942\n",
        "Feature shape: (60, 910)"
       ]
      },
      {
       "output_type": "stream",
       "stream": "stdout",
       "text": [
        "\n",
        "I am on file 1496 with filename LC_94701-01-17-00_combined.dat \n",
        "dt_min: 0.00781249999977"
       ]
      },
      {
       "output_type": "stream",
       "stream": "stdout",
       "text": [
        "\n",
        "len(da[0]): 302462\n",
        "len(da[0]): 108158\n",
        "Feature shape: (43, 910)"
       ]
      },
      {
       "output_type": "stream",
       "stream": "stdout",
       "text": [
        "\n",
        "I am on file 1497 with filename LC_90024-02-30-00_combined.dat \n",
        "dt_min: 0.00390624999989"
       ]
      },
      {
       "output_type": "stream",
       "stream": "stdout",
       "text": [
        "\n",
        "len(da[0]): 290815\n",
        "Feature shape: (14, 910)"
       ]
      },
      {
       "output_type": "stream",
       "stream": "stdout",
       "text": [
        "\n",
        "I am on file 1498 with filename LC_20186-03-02-04_combined.dat \n",
        "dt_min: 0.00781249999818"
       ]
      },
      {
       "output_type": "stream",
       "stream": "stdout",
       "text": [
        "\n",
        "len(da[0]): 198781\n",
        "len(da[0]): 174974\n",
        "len(da[0]): 423934\n",
        "len(da[0]): 423934\n",
        "len(da[0]): 344063\n",
        "Feature shape: (173, 910)"
       ]
      },
      {
       "output_type": "stream",
       "stream": "stdout",
       "text": [
        "\n",
        "I am on file 1499 with filename LC_90701-01-15-02_combined.dat \n",
        "dt_min: 0.00781249999989"
       ]
      },
      {
       "output_type": "stream",
       "stream": "stdout",
       "text": [
        "\n",
        "len(da[0]): 151551\n",
        "Feature shape: (15, 910)"
       ]
      },
      {
       "output_type": "stream",
       "stream": "stdout",
       "text": [
        "\n",
        "I am on file 1500 with filename LC_91701-01-57-01_combined.dat \n",
        "dt_min: 0.00781249999989"
       ]
      },
      {
       "output_type": "stream",
       "stream": "stdout",
       "text": [
        "\n",
        "len(da[0]): 120831\n",
        "Feature shape: (11, 910)"
       ]
      },
      {
       "output_type": "stream",
       "stream": "stdout",
       "text": [
        "\n",
        "I am on file 1501 with filename LC_94701-01-03-00_combined.dat \n",
        "dt_min: 0.00781249999999"
       ]
      },
      {
       "output_type": "stream",
       "stream": "stdout",
       "text": [
        "\n",
        "len(da[0]): 99455\n",
        "Feature shape: (9, 910)\n",
        "I am on file 1502 with filename LC_80701-01-09-01_combined.dat \n",
        "dt_min: 0.00781249999999"
       ]
      },
      {
       "output_type": "stream",
       "stream": "stdout",
       "text": [
        "\n",
        "len(da[0]): 108543\n",
        "Feature shape: (10, 910)"
       ]
      },
      {
       "output_type": "stream",
       "stream": "stdout",
       "text": [
        "\n",
        "I am on file 1503 with filename LC_80701-01-33-01_combined.dat \n",
        "dt_min: 0.00781249999989"
       ]
      },
      {
       "output_type": "stream",
       "stream": "stdout",
       "text": [
        "\n",
        "len(da[0]): 141311\n",
        "Feature shape: (14, 910)"
       ]
      },
      {
       "output_type": "stream",
       "stream": "stdout",
       "text": [
        "\n",
        "I am on file 1504 with filename LC_90105-02-02-00_combined.dat \n",
        "dt_min: 0.00390624999989"
       ]
      },
      {
       "output_type": "stream",
       "stream": "stdout",
       "text": [
        "\n",
        "len(da[0]): 278527\n",
        "Feature shape: (13, 910)"
       ]
      },
      {
       "output_type": "stream",
       "stream": "stdout",
       "text": [
        "\n",
        "I am on file 1505 with filename LC_20186-03-01-04_combined.dat \n",
        "dt_min: 0.00781249999955"
       ]
      },
      {
       "output_type": "stream",
       "stream": "stdout",
       "text": [
        "\n",
        "len(da[0]): 196222\n",
        "len(da[0]): 234877\n",
        "len(da[0]): 434174\n",
        "len(da[0]): 432127\n",
        "Feature shape: (143, 910)"
       ]
      },
      {
       "output_type": "stream",
       "stream": "stdout",
       "text": [
        "\n",
        "I am on file 1506 with filename LC_60701-01-33-00_combined.dat \n",
        "dt_min: 0.00781249999989"
       ]
      },
      {
       "output_type": "stream",
       "stream": "stdout",
       "text": [
        "\n",
        "len(da[0]): 415743\n",
        "Feature shape: (47, 910)"
       ]
      },
      {
       "output_type": "stream",
       "stream": "stdout",
       "text": [
        "\n",
        "I am on file 1507 with filename LC_80127-02-01-00_combined.dat \n",
        "dt_min: 0.00390624999989"
       ]
      },
      {
       "output_type": "stream",
       "stream": "stdout",
       "text": [
        "\n",
        "len(da[0]): 757758\n",
        "len(da[0]): 532479\n",
        "Feature shape: (72, 910)"
       ]
      },
      {
       "output_type": "stream",
       "stream": "stdout",
       "text": [
        "\n",
        "I am on file 1508 with filename LC_80701-01-28-00_combined.dat \n",
        "dt_min: 0.00781249999989"
       ]
      },
      {
       "output_type": "stream",
       "stream": "stdout",
       "text": [
        "\n",
        "len(da[0]): 225279\n",
        "Feature shape: (24, 910)"
       ]
      },
      {
       "output_type": "stream",
       "stream": "stdout",
       "text": [
        "\n",
        "I am on file 1509 with filename LC_50703-01-60-02_combined.dat \n",
        "dt_min: 0.00781249999989"
       ]
      },
      {
       "output_type": "stream",
       "stream": "stdout",
       "text": [
        "\n",
        "len(da[0]): 133119\n",
        "Feature shape: (13, 910)"
       ]
      },
      {
       "output_type": "stream",
       "stream": "stdout",
       "text": [
        "\n",
        "I am on file 1510 with filename LC_30703-01-14-00_combined.dat \n",
        "dt_min: 0.00781249999989"
       ]
      },
      {
       "output_type": "stream",
       "stream": "stdout",
       "text": [
        "\n",
        "len(da[0]): 190462\n",
        "len(da[0]): 294910\n",
        "Feature shape: (52, 910)"
       ]
      },
      {
       "output_type": "stream",
       "stream": "stdout",
       "text": [
        "\n",
        "I am on file 1511 with filename LC_50703-01-62-02_combined.dat \n",
        "dt_min: 0.00781249999989"
       ]
      },
      {
       "output_type": "stream",
       "stream": "stdout",
       "text": [
        "\n",
        "len(da[0]): 235519\n",
        "Feature shape: (25, 910)"
       ]
      },
      {
       "output_type": "stream",
       "stream": "stdout",
       "text": [
        "\n",
        "I am on file 1512 with filename LC_92702-01-20-00_combined.dat \n",
        "dt_min: 0.00781249999989"
       ]
      },
      {
       "output_type": "stream",
       "stream": "stdout",
       "text": [
        "\n",
        "len(da[0]): 155391\n",
        "Feature shape: (15, 910)"
       ]
      },
      {
       "output_type": "stream",
       "stream": "stdout",
       "text": [
        "\n",
        "I am on file 1513 with filename LC_20402-01-41-03_combined.dat \n",
        "I am on file 1514 with filename LC_92092-02-01-01_combined.dat \n",
        "dt_min: 0.00781249999989"
       ]
      },
      {
       "output_type": "stream",
       "stream": "stdout",
       "text": [
        "\n",
        "len(da[0]): 143358\n",
        "len(da[0]): 45055\n",
        "Feature shape: (16, 910)"
       ]
      },
      {
       "output_type": "stream",
       "stream": "stdout",
       "text": [
        "\n",
        "I am on file 1515 with filename LC_91701-01-72-00_combined.dat \n",
        "dt_min: 0.00781249999989"
       ]
      },
      {
       "output_type": "stream",
       "stream": "stdout",
       "text": [
        "\n",
        "len(da[0]): 245758\n",
        "len(da[0]): 407551\n",
        "Feature shape: (72, 910)"
       ]
      },
      {
       "output_type": "stream",
       "stream": "stdout",
       "text": [
        "\n",
        "I am on file 1516 with filename LC_70702-01-03-01_combined.dat \n",
        "dt_min: 0.00781249999999"
       ]
      },
      {
       "output_type": "stream",
       "stream": "stdout",
       "text": [
        "\n",
        "len(da[0]): 114687\n",
        "Feature shape: (10, 910)"
       ]
      },
      {
       "output_type": "stream",
       "stream": "stdout",
       "text": [
        "\n",
        "I am on file 1517 with filename LC_93701-01-30-01_combined.dat \n",
        "dt_min: 0.00781249999989"
       ]
      },
      {
       "output_type": "stream",
       "stream": "stdout",
       "text": [
        "\n",
        "len(da[0]): 126975\n",
        "Feature shape: (12, 910)"
       ]
      },
      {
       "output_type": "stream",
       "stream": "stdout",
       "text": [
        "\n",
        "I am on file 1518 with filename LC_96701-01-23-01_combined.dat \n",
        "dt_min: 0.00781249999977"
       ]
      },
      {
       "output_type": "stream",
       "stream": "stdout",
       "text": [
        "\n",
        "len(da[0]): 169983\n",
        "Feature shape: (17, 910)"
       ]
      },
      {
       "output_type": "stream",
       "stream": "stdout",
       "text": [
        "\n",
        "I am on file 1519 with filename LC_94701-01-61-01_combined.dat \n",
        "dt_min: 0.00781249999989"
       ]
      },
      {
       "output_type": "stream",
       "stream": "stdout",
       "text": [
        "\n",
        "len(da[0]): 409598\n",
        "len(da[0]): 391167\n",
        "Feature shape: (90, 910)"
       ]
      },
      {
       "output_type": "stream",
       "stream": "stdout",
       "text": [
        "\n",
        "I am on file 1520 with filename LC_92702-01-18-01_combined.dat \n",
        "dt_min: 0.00781249999989"
       ]
      },
      {
       "output_type": "stream",
       "stream": "stdout",
       "text": [
        "\n",
        "len(da[0]): 249855\n",
        "Feature shape: (27, 910)"
       ]
      },
      {
       "output_type": "stream",
       "stream": "stdout",
       "text": [
        "\n",
        "I am on file 1521 with filename LC_93701-01-29-00_combined.dat \n",
        "dt_min: 0.00781249999989"
       ]
      },
      {
       "output_type": "stream",
       "stream": "stdout",
       "text": [
        "\n",
        "len(da[0]): 317439\n",
        "Feature shape: (35, 910)"
       ]
      },
      {
       "output_type": "stream",
       "stream": "stdout",
       "text": [
        "\n",
        "I am on file 1522 with filename LC_96701-01-14-01_combined.dat \n",
        "dt_min: 0.00781249999999"
       ]
      },
      {
       "output_type": "stream",
       "stream": "stdout",
       "text": [
        "\n",
        "len(da[0]): 120831\n",
        "Feature shape: (11, 910)"
       ]
      },
      {
       "output_type": "stream",
       "stream": "stdout",
       "text": [
        "\n",
        "I am on file 1523 with filename LC_50703-01-02-02_combined.dat \n",
        "dt_min: 0.00781249999989"
       ]
      },
      {
       "output_type": "stream",
       "stream": "stdout",
       "text": [
        "\n",
        "len(da[0]): 133119\n",
        "Feature shape: (13, 910)"
       ]
      },
      {
       "output_type": "stream",
       "stream": "stdout",
       "text": [
        "\n",
        "I am on file 1524 with filename LC_70702-01-32-00_combined.dat \n",
        "dt_min: 0.00781249999989"
       ]
      },
      {
       "output_type": "stream",
       "stream": "stdout",
       "text": [
        "\n",
        "len(da[0]): 196607\n",
        "Feature shape: (20, 910)"
       ]
      },
      {
       "output_type": "stream",
       "stream": "stdout",
       "text": [
        "\n",
        "I am on file 1525 with filename LC_10408-01-16-03_combined.dat \n",
        "I am on file 1526 with filename LC_80701-01-31-00_combined.dat \n",
        "dt_min: 0.00781249999989"
       ]
      },
      {
       "output_type": "stream",
       "stream": "stdout",
       "text": [
        "\n",
        "len(da[0]): 221182\n",
        "len(da[0]): 407550\n",
        "len(da[0]): 403454\n",
        "len(da[0]): 305151\n",
        "Feature shape: (149, 910)"
       ]
      },
      {
       "output_type": "stream",
       "stream": "stdout",
       "text": [
        "\n",
        "I am on file 1527 with filename LC_60701-01-04-00_combined.dat \n",
        "dt_min: 0.00781249999989"
       ]
      },
      {
       "output_type": "stream",
       "stream": "stdout",
       "text": [
        "\n",
        "len(da[0]): 165887\n",
        "Feature shape: (17, 910)"
       ]
      },
      {
       "output_type": "stream",
       "stream": "stdout",
       "text": [
        "\n",
        "I am on file 1528 with filename LC_92702-01-25-00_combined.dat \n",
        "dt_min: 0.00781249999989"
       ]
      },
      {
       "output_type": "stream",
       "stream": "stdout",
       "text": [
        "\n",
        "len(da[0]): 354302\n",
        "len(da[0]): 401407\n",
        "Feature shape: (85, 910)"
       ]
      },
      {
       "output_type": "stream",
       "stream": "stdout",
       "text": [
        "\n",
        "I am on file 1529 with filename LC_10408-01-31-00_combined.dat \n",
        "I am on file 1530 with filename LC_91701-01-66-00_combined.dat \n",
        "dt_min: 0.00781249999989"
       ]
      },
      {
       "output_type": "stream",
       "stream": "stdout",
       "text": [
        "\n",
        "len(da[0]): 40317\n",
        "len(da[0]): 306815\n",
        "Feature shape: (35, 910)"
       ]
      },
      {
       "output_type": "stream",
       "stream": "stdout",
       "text": [
        "\n",
        "I am on file 1531 with filename LC_91701-01-02-02_combined.dat \n",
        "dt_min: 0.00781249999989"
       ]
      },
      {
       "output_type": "stream",
       "stream": "stdout",
       "text": [
        "\n",
        "len(da[0]): 176127\n",
        "Feature shape: (18, 910)"
       ]
      },
      {
       "output_type": "stream",
       "stream": "stdout",
       "text": [
        "\n",
        "I am on file 1532 with filename LC_60701-01-26-00_combined.dat \n",
        "dt_min: 0.00781249999989"
       ]
      },
      {
       "output_type": "stream",
       "stream": "stdout",
       "text": [
        "\n",
        "len(da[0]): 225279\n",
        "Feature shape: (24, 910)"
       ]
      },
      {
       "output_type": "stream",
       "stream": "stdout",
       "text": [
        "\n",
        "I am on file 1533 with filename LC_70703-01-01-07_combined.dat \n",
        "dt_min: 0.00781249999989"
       ]
      },
      {
       "output_type": "stream",
       "stream": "stdout",
       "text": [
        "\n",
        "len(da[0]): 333823\n",
        "Feature shape: (37, 910)"
       ]
      },
      {
       "output_type": "stream",
       "stream": "stdout",
       "text": [
        "\n",
        "I am on file 1534 with filename LC_70702-01-27-00_combined.dat \n",
        "dt_min: 0.00781249999989"
       ]
      },
      {
       "output_type": "stream",
       "stream": "stdout",
       "text": [
        "\n",
        "len(da[0]): 178175\n",
        "Feature shape: (18, 910)"
       ]
      },
      {
       "output_type": "stream",
       "stream": "stdout",
       "text": [
        "\n",
        "I am on file 1535 with filename LC_96701-01-01-00_combined.dat \n",
        "dt_min: 0.00781249999977"
       ]
      },
      {
       "output_type": "stream",
       "stream": "stdout",
       "text": [
        "\n",
        "len(da[0]): 184319\n",
        "Feature shape: (19, 910)"
       ]
      },
      {
       "output_type": "stream",
       "stream": "stdout",
       "text": [
        "\n",
        "I am on file 1536 with filename LC_40403-01-10-00_combined.dat \n",
        "dt_min: 0.00781249999989"
       ]
      },
      {
       "output_type": "stream",
       "stream": "stdout",
       "text": [
        "\n",
        "len(da[0]): 165887\n",
        "Feature shape: (17, 910)"
       ]
      },
      {
       "output_type": "stream",
       "stream": "stdout",
       "text": [
        "\n",
        "I am on file 1537 with filename LC_40703-01-15-02_combined.dat \n",
        "dt_min: 0.00781249999989"
       ]
      },
      {
       "output_type": "stream",
       "stream": "stdout",
       "text": [
        "\n",
        "len(da[0]): 180095\n",
        "Feature shape: (18, 910)"
       ]
      },
      {
       "output_type": "stream",
       "stream": "stdout",
       "text": [
        "\n",
        "I am on file 1538 with filename LC_70702-01-48-01_combined.dat \n",
        "dt_min: 0.00781249999989"
       ]
      },
      {
       "output_type": "stream",
       "stream": "stdout",
       "text": [
        "\n",
        "len(da[0]): 212991\n",
        "Feature shape: (22, 910)"
       ]
      },
      {
       "output_type": "stream",
       "stream": "stdout",
       "text": [
        "\n",
        "I am on file 1539 with filename LC_90701-01-31-00_combined.dat \n",
        "dt_min: 0.00781249999989"
       ]
      },
      {
       "output_type": "stream",
       "stream": "stdout",
       "text": [
        "\n",
        "len(da[0]): 206847\n",
        "Feature shape: (22, 910)"
       ]
      },
      {
       "output_type": "stream",
       "stream": "stdout",
       "text": [
        "\n",
        "I am on file 1540 with filename LC_30703-01-28-01_combined.dat \n",
        "dt_min: 0.00781249999999"
       ]
      },
      {
       "output_type": "stream",
       "stream": "stdout",
       "text": [
        "\n",
        "len(da[0]): 96255\n",
        "Feature shape: (8, 910)\n",
        "I am on file 1541 with filename LC_10408-01-18-04_combined.dat \n",
        "I am on file 1542 with filename LC_20402-01-24-01_combined.dat \n",
        "I am on file 1543 with filename LC_50703-01-38-01_combined.dat \n",
        "dt_min: 0.00781249999999"
       ]
      },
      {
       "output_type": "stream",
       "stream": "stdout",
       "text": [
        "\n",
        "len(da[0]): 65534\n",
        "len(da[0]): 169982\n",
        "len(da[0]): 151551\n",
        "Feature shape: (36, 910)"
       ]
      },
      {
       "output_type": "stream",
       "stream": "stdout",
       "text": [
        "\n",
        "I am on file 1544 with filename LC_30703-01-33-00_combined.dat \n",
        "dt_min: 0.00781249999989"
       ]
      },
      {
       "output_type": "stream",
       "stream": "stdout",
       "text": [
        "\n",
        "len(da[0]): 215038\n",
        "len(da[0]): 413695\n",
        "Feature shape: (70, 910)"
       ]
      },
      {
       "output_type": "stream",
       "stream": "stdout",
       "text": [
        "\n",
        "I am on file 1545 with filename LC_20186-03-03-02_combined.dat \n",
        "dt_min: 0.00781249999989"
       ]
      },
      {
       "output_type": "stream",
       "stream": "stdout",
       "text": [
        "\n",
        "len(da[0]): 231422\n",
        "len(da[0]): 284670\n",
        "len(da[0]): 331774\n",
        "len(da[0]): 385023\n",
        "Feature shape: (136, 910)"
       ]
      },
      {
       "output_type": "stream",
       "stream": "stdout",
       "text": [
        "\n",
        "I am on file 1546 with filename LC_20402-01-31-02_combined.dat \n",
        "I am on file 1547 with filename LC_91701-01-37-00_combined.dat \n",
        "dt_min: 0.00781249999994"
       ]
      },
      {
       "output_type": "stream",
       "stream": "stdout",
       "text": [
        "\n",
        "len(da[0]): 120191\n",
        "Feature shape: (11, 910)"
       ]
      },
      {
       "output_type": "stream",
       "stream": "stdout",
       "text": [
        "\n",
        "I am on file 1548 with filename LC_90024-02-22-00_combined.dat \n",
        "dt_min: 0.00390624999999"
       ]
      },
      {
       "output_type": "stream",
       "stream": "stdout",
       "text": [
        "\n",
        "len(da[0]): 176127\n",
        "Feature shape: (7, 910)\n",
        "I am on file 1549 with filename LC_60405-01-02-00_combined.dat \n",
        "dt_min: 0.00781249999818"
       ]
      },
      {
       "output_type": "stream",
       "stream": "stdout",
       "text": [
        "\n",
        "len(da[0]): 217086\n",
        "len(da[0]): 133118\n",
        "len(da[0]): 337662\n",
        "len(da[0]): 83197\n",
        "len(da[0]): 413694\n",
        "len(da[0]): 419839\n",
        "Feature shape: (176, 910)"
       ]
      },
      {
       "output_type": "stream",
       "stream": "stdout",
       "text": [
        "\n",
        "I am on file 1550 with filename LC_90024-02-01-00_combined.dat \n",
        "dt_min: 0.00390624999999"
       ]
      },
      {
       "output_type": "stream",
       "stream": "stdout",
       "text": [
        "\n",
        "len(da[0]): 192511\n",
        "Feature shape: (8, 910)\n",
        "I am on file 1551 with filename LC_60701-01-13-03_combined.dat \n",
        "dt_min: 0.00781249999989"
       ]
      },
      {
       "output_type": "stream",
       "stream": "stdout",
       "text": [
        "\n",
        "len(da[0]): 231167\n",
        "Feature shape: (25, 910)"
       ]
      },
      {
       "output_type": "stream",
       "stream": "stdout",
       "text": [
        "\n",
        "I am on file 1552 with filename LC_94701-01-22-00_combined.dat \n",
        "dt_min: 0.00781249999999"
       ]
      },
      {
       "output_type": "stream",
       "stream": "stdout",
       "text": [
        "\n",
        "len(da[0]): 108543\n",
        "Feature shape: (10, 910)\n",
        "I am on file 1553 with filename LC_60701-01-26-01_combined.dat \n",
        "dt_min: 0.00781249999989"
       ]
      },
      {
       "output_type": "stream",
       "stream": "stdout",
       "text": [
        "\n",
        "len(da[0]): 194559\n",
        "Feature shape: (20, 910)"
       ]
      },
      {
       "output_type": "stream",
       "stream": "stdout",
       "text": [
        "\n",
        "I am on file 1554 with filename LC_50703-01-18-01_combined.dat \n",
        "dt_min: 0.00781249999989"
       ]
      },
      {
       "output_type": "stream",
       "stream": "stdout",
       "text": [
        "\n",
        "len(da[0]): 181503\n",
        "Feature shape: (19, 910)"
       ]
      },
      {
       "output_type": "stream",
       "stream": "stdout",
       "text": [
        "\n",
        "I am on file 1555 with filename LC_70702-01-10-00_combined.dat \n",
        "dt_min: 0.00781249999994"
       ]
      },
      {
       "output_type": "stream",
       "stream": "stdout",
       "text": [
        "\n",
        "len(da[0]): 116735\n",
        "Feature shape: (11, 910)"
       ]
      },
      {
       "output_type": "stream",
       "stream": "stdout",
       "text": [
        "\n",
        "I am on file 1556 with filename LC_96701-01-50-00_combined.dat \n",
        "dt_min: 0.00781249999989"
       ]
      },
      {
       "output_type": "stream",
       "stream": "stdout",
       "text": [
        "\n",
        "len(da[0]): 182271\n",
        "Feature shape: (19, 910)"
       ]
      },
      {
       "output_type": "stream",
       "stream": "stdout",
       "text": [
        "\n",
        "I am on file 1557 with filename LC_30703-01-37-00_combined.dat \n",
        "dt_min: 0.00781249999955"
       ]
      },
      {
       "output_type": "stream",
       "stream": "stdout",
       "text": [
        "\n",
        "len(da[0]): 37885\n",
        "len(da[0]): 135166\n",
        "len(da[0]): 7677\n",
        "len(da[0]): 23549\n",
        "len(da[0]): 387070\n",
        "Feature shape: (58, 910)"
       ]
      },
      {
       "output_type": "stream",
       "stream": "stdout",
       "text": [
        "\n",
        "I am on file 1558 with filename LC_80701-01-19-00_combined.dat \n",
        "dt_min: 0.00781249999989"
       ]
      },
      {
       "output_type": "stream",
       "stream": "stdout",
       "text": [
        "\n",
        "len(da[0]): 219135\n",
        "Feature shape: (23, 910)"
       ]
      },
      {
       "output_type": "stream",
       "stream": "stdout",
       "text": [
        "\n",
        "I am on file 1559 with filename LC_92702-01-29-00_combined.dat \n",
        "dt_min: 0.00781249999989"
       ]
      },
      {
       "output_type": "stream",
       "stream": "stdout",
       "text": [
        "\n",
        "len(da[0]): 272382\n",
        "len(da[0]): 401407\n",
        "Feature shape: (75, 910)"
       ]
      },
      {
       "output_type": "stream",
       "stream": "stdout",
       "text": [
        "\n",
        "I am on file 1560 with filename LC_70702-01-04-01_combined.dat \n",
        "dt_min: 0.00781249999989"
       ]
      },
      {
       "output_type": "stream",
       "stream": "stdout",
       "text": [
        "\n",
        "len(da[0]): 173567\n",
        "Feature shape: (18, 910)"
       ]
      },
      {
       "output_type": "stream",
       "stream": "stdout",
       "text": [
        "\n",
        "I am on file 1561 with filename LC_50703-01-14-02_combined.dat \n",
        "dt_min: 0.00781249999989"
       ]
      },
      {
       "output_type": "stream",
       "stream": "stdout",
       "text": [
        "\n",
        "len(da[0]): 153599\n",
        "Feature shape: (15, 910)"
       ]
      },
      {
       "output_type": "stream",
       "stream": "stdout",
       "text": [
        "\n",
        "I am on file 1562 with filename LC_91701-01-69-00_combined.dat \n",
        "dt_min: 0.00781249999989"
       ]
      },
      {
       "output_type": "stream",
       "stream": "stdout",
       "text": [
        "\n",
        "len(da[0]): 122879\n",
        "Feature shape: (11, 910)"
       ]
      },
      {
       "output_type": "stream",
       "stream": "stdout",
       "text": [
        "\n",
        "I am on file 1563 with filename LC_90105-05-02-00_combined.dat \n",
        "dt_min: 0.00390624999989"
       ]
      },
      {
       "output_type": "stream",
       "stream": "stdout",
       "text": [
        "\n",
        "len(da[0]): 822271\n",
        "Feature shape: (47, 910)"
       ]
      },
      {
       "output_type": "stream",
       "stream": "stdout",
       "text": [
        "\n",
        "I am on file 1564 with filename LC_90024-02-34-00_combined.dat \n",
        "dt_min: 0.00390624999999"
       ]
      },
      {
       "output_type": "stream",
       "stream": "stdout",
       "text": [
        "\n",
        "len(da[0]): 233983\n",
        "Feature shape: (11, 910)"
       ]
      },
      {
       "output_type": "stream",
       "stream": "stdout",
       "text": [
        "\n",
        "I am on file 1565 with filename LC_90701-01-37-01_combined.dat \n",
        "dt_min: 0.00781249999999"
       ]
      },
      {
       "output_type": "stream",
       "stream": "stdout",
       "text": [
        "\n",
        "len(da[0]): 118271\n",
        "Feature shape: (11, 910)"
       ]
      },
      {
       "output_type": "stream",
       "stream": "stdout",
       "text": [
        "\n",
        "I am on file 1566 with filename LC_50703-01-31-02_combined.dat \n",
        "dt_min: 0.00781249999994"
       ]
      },
      {
       "output_type": "stream",
       "stream": "stdout",
       "text": [
        "\n",
        "len(da[0]): 124159\n",
        "Feature shape: (12, 910)"
       ]
      },
      {
       "output_type": "stream",
       "stream": "stdout",
       "text": [
        "\n",
        "I am on file 1567 with filename LC_20402-01-02-01_combined.dat \n",
        "dt_min: 0.00390624999977"
       ]
      },
      {
       "output_type": "stream",
       "stream": "stdout",
       "text": [
        "\n",
        "len(da[0]): 733183\n",
        "Feature shape: (41, 910)"
       ]
      },
      {
       "output_type": "stream",
       "stream": "stdout",
       "text": [
        "\n",
        "I am on file 1568 with filename LC_60702-01-01-19_combined.dat \n",
        "dt_min: 0.00781249999994"
       ]
      },
      {
       "output_type": "stream",
       "stream": "stdout",
       "text": [
        "\n",
        "len(da[0]): 131071\n",
        "Feature shape: (12, 910)"
       ]
      },
      {
       "output_type": "stream",
       "stream": "stdout",
       "text": [
        "\n",
        "I am on file 1569 with filename LC_95701-01-04-00_combined.dat \n",
        "dt_min: 0.00781249999999"
       ]
      },
      {
       "output_type": "stream",
       "stream": "stdout",
       "text": [
        "\n",
        "len(da[0]): 86271\n",
        "Feature shape: (7, 910)\n",
        "I am on file 1570 with filename LC_93701-01-09-01_combined.dat \n",
        "dt_min: 0.00781249999989"
       ]
      },
      {
       "output_type": "stream",
       "stream": "stdout",
       "text": [
        "\n",
        "len(da[0]): 100095\n",
        "Feature shape: (9, 910)\n",
        "I am on file 1571 with filename LC_50125-01-01-04_combined.dat \n",
        "dt_min: 0.00781249999989"
       ]
      },
      {
       "output_type": "stream",
       "stream": "stdout",
       "text": [
        "\n",
        "len(da[0]): 288767\n",
        "Feature shape: (32, 910)"
       ]
      },
      {
       "output_type": "stream",
       "stream": "stdout",
       "text": [
        "\n",
        "I am on file 1572 with filename LC_92702-01-16-00_combined.dat \n",
        "dt_min: 0.00781249999989"
       ]
      },
      {
       "output_type": "stream",
       "stream": "stdout",
       "text": [
        "\n",
        "len(da[0]): 242687\n",
        "Feature shape: (26, 910)"
       ]
      },
      {
       "output_type": "stream",
       "stream": "stdout",
       "text": [
        "\n",
        "I am on file 1573 with filename LC_30402-01-10-00_combined.dat \n",
        "dt_min: 0.00781249999818"
       ]
      },
      {
       "output_type": "stream",
       "stream": "stdout",
       "text": [
        "\n",
        "len(da[0]): 148989\n",
        "len(da[0]): 249342\n",
        "len(da[0]): 60925\n",
        "len(da[0]): 90109\n",
        "len(da[0]): 270846\n",
        "len(da[0]): 5629\n",
        "len(da[0]): 368127\n",
        "Feature shape: (124, 910)"
       ]
      },
      {
       "output_type": "stream",
       "stream": "stdout",
       "text": [
        "\n",
        "I am on file 1574 with filename LC_70702-01-01-00_combined.dat \n",
        "dt_min: 0.00781249999818"
       ]
      },
      {
       "output_type": "stream",
       "stream": "stdout",
       "text": [
        "\n",
        "len(da[0]): 313598\n",
        "len(da[0]): 413695\n",
        "Feature shape: (82, 910)"
       ]
      },
      {
       "output_type": "stream",
       "stream": "stdout",
       "text": [
        "\n",
        "I am on file 1575 with filename LC_70702-01-45-00_combined.dat \n",
        "dt_min: 0.00781249999989"
       ]
      },
      {
       "output_type": "stream",
       "stream": "stdout",
       "text": [
        "\n",
        "len(da[0]): 411647\n",
        "Feature shape: (47, 910)"
       ]
      },
      {
       "output_type": "stream",
       "stream": "stdout",
       "text": [
        "\n",
        "I am on file 1576 with filename LC_40703-01-38-03_combined.dat \n",
        "dt_min: 0.00781249999989"
       ]
      },
      {
       "output_type": "stream",
       "stream": "stdout",
       "text": [
        "\n",
        "len(da[0]): 313343\n",
        "Feature shape: (35, 910)"
       ]
      },
      {
       "output_type": "stream",
       "stream": "stdout",
       "text": [
        "\n",
        "I am on file 1577 with filename LC_70703-01-01-08_combined.dat \n",
        "dt_min: 0.00781249999818"
       ]
      },
      {
       "output_type": "stream",
       "stream": "stdout",
       "text": [
        "\n",
        "len(da[0]): 419838\n",
        "len(da[0]): 419838\n",
        "len(da[0]): 419838\n",
        "len(da[0]): 112639\n",
        "Feature shape: (154, 910)"
       ]
      },
      {
       "output_type": "stream",
       "stream": "stdout",
       "text": [
        "\n",
        "I am on file 1578 with filename LC_80127-02-02-02_combined.dat \n",
        "dt_min: 0.00390624999989"
       ]
      },
      {
       "output_type": "stream",
       "stream": "stdout",
       "text": [
        "\n",
        "len(da[0]): 454655\n",
        "Feature shape: (24, 910)"
       ]
      },
      {
       "output_type": "stream",
       "stream": "stdout",
       "text": [
        "\n",
        "I am on file 1579 with filename LC_60702-01-01-04_combined.dat \n",
        "dt_min: 0.00781249999989"
       ]
      },
      {
       "output_type": "stream",
       "stream": "stdout",
       "text": [
        "\n",
        "len(da[0]): 278527\n",
        "Feature shape: (30, 910)"
       ]
      },
      {
       "output_type": "stream",
       "stream": "stdout",
       "text": [
        "\n",
        "I am on file 1580 with filename LC_40116-01-05-00_combined.dat \n",
        "dt_min: 0.00781249999989"
       ]
      },
      {
       "output_type": "stream",
       "stream": "stdout",
       "text": [
        "\n",
        "len(da[0]): 219134\n",
        "len(da[0]): 94206\n",
        "len(da[0]): 217086\n",
        "len(da[0]): 423934\n",
        "len(da[0]): 333823\n",
        "Feature shape: (139, 910)"
       ]
      },
      {
       "output_type": "stream",
       "stream": "stdout",
       "text": [
        "\n",
        "I am on file 1581 with filename LC_93701-01-40-01_combined.dat \n",
        "dt_min: 0.00781249999989"
       ]
      },
      {
       "output_type": "stream",
       "stream": "stdout",
       "text": [
        "\n",
        "len(da[0]): 106495\n",
        "Feature shape: (9, 910)\n",
        "I am on file 1582 with filename LC_40703-01-14-01_combined.dat \n",
        "dt_min: 0.00781249999994"
       ]
      },
      {
       "output_type": "stream",
       "stream": "stdout",
       "text": [
        "\n",
        "len(da[0]): 88062\n",
        "len(da[0]): 69631\n",
        "Feature shape: (12, 910)"
       ]
      },
      {
       "output_type": "stream",
       "stream": "stdout",
       "text": [
        "\n",
        "I am on file 1583 with filename LC_60701-01-10-01_combined.dat \n",
        "dt_min: 0.00781249999999"
       ]
      },
      {
       "output_type": "stream",
       "stream": "stdout",
       "text": [
        "\n",
        "len(da[0]): 63487\n",
        "Feature shape: (4, 910)\n",
        "I am on file 1584 with filename LC_95701-01-08-00_combined.dat \n",
        "dt_min: 0.00781249999999"
       ]
      },
      {
       "output_type": "stream",
       "stream": "stdout",
       "text": [
        "\n",
        "len(da[0]): 102399\n",
        "Feature shape: (9, 910)\n",
        "I am on file 1585 with filename LC_40116-01-06-01_combined.dat \n",
        "dt_min: 0.00781249999994"
       ]
      },
      {
       "output_type": "stream",
       "stream": "stdout",
       "text": [
        "\n",
        "len(da[0]): 118783\n",
        "Feature shape: (11, 910)"
       ]
      },
      {
       "output_type": "stream",
       "stream": "stdout",
       "text": [
        "\n",
        "I am on file 1586 with filename LC_30402-01-02-00_combined.dat \n",
        "dt_min: 0.00781249999818"
       ]
      },
      {
       "output_type": "stream",
       "stream": "stdout",
       "text": [
        "\n",
        "len(da[0]): 425982\n",
        "len(da[0]): 3581\n",
        "len(da[0]): 329726\n",
        "Feature shape: (85, 910)"
       ]
      },
      {
       "output_type": "stream",
       "stream": "stdout",
       "text": [
        "\n",
        "I am on file 1587 with filename LC_91701-01-18-00_combined.dat \n",
        "dt_min: 0.00781249999989"
       ]
      },
      {
       "output_type": "stream",
       "stream": "stdout",
       "text": [
        "\n",
        "len(da[0]): 270335\n",
        "Feature shape: (29, 910)"
       ]
      },
      {
       "output_type": "stream",
       "stream": "stdout",
       "text": [
        "\n",
        "I am on file 1588 with filename LC_90024-02-12-00_combined.dat \n",
        "dt_min: 0.00390624999999"
       ]
      },
      {
       "output_type": "stream",
       "stream": "stdout",
       "text": [
        "\n",
        "len(da[0]): 225023\n",
        "Feature shape: (10, 910)\n",
        "I am on file 1589 with filename LC_80701-01-23-01_combined.dat \n",
        "dt_min: 0.00781249999989"
       ]
      },
      {
       "output_type": "stream",
       "stream": "stdout",
       "text": [
        "\n",
        "len(da[0]): 252671\n",
        "Feature shape: (27, 910)"
       ]
      },
      {
       "output_type": "stream",
       "stream": "stdout",
       "text": [
        "\n",
        "I am on file 1590 with filename LC_30402-01-21-00_combined.dat \n",
        "dt_min: 0.00781249999989"
       ]
      },
      {
       "output_type": "stream",
       "stream": "stdout",
       "text": [
        "\n",
        "len(da[0]): 103421\n",
        "len(da[0]): 86525\n",
        "len(da[0]): 155645\n",
        "len(da[0]): 10879\n",
        "Feature shape: (31, 910)"
       ]
      },
      {
       "output_type": "stream",
       "stream": "stdout",
       "text": [
        "\n",
        "I am on file 1591 with filename LC_40703-01-20-03_combined.dat \n",
        "dt_min: 0.00781249999999"
       ]
      },
      {
       "output_type": "stream",
       "stream": "stdout",
       "text": [
        "\n",
        "len(da[0]): 47102\n",
        "len(da[0]): 96255\n",
        "Feature shape: (10, 910)"
       ]
      },
      {
       "output_type": "stream",
       "stream": "stdout",
       "text": [
        "\n",
        "I am on file 1592 with filename LC_91701-01-71-01_combined.dat \n",
        "dt_min: 0.00781249999989"
       ]
      },
      {
       "output_type": "stream",
       "stream": "stdout",
       "text": [
        "\n",
        "len(da[0]): 133119\n",
        "Feature shape: (13, 910)"
       ]
      },
      {
       "output_type": "stream",
       "stream": "stdout",
       "text": [
        "\n",
        "I am on file 1593 with filename LC_50703-01-47-03_combined.dat \n",
        "dt_min: 0.00781249999999"
       ]
      },
      {
       "output_type": "stream",
       "stream": "stdout",
       "text": [
        "\n",
        "len(da[0]): 120831\n",
        "Feature shape: (11, 910)"
       ]
      },
      {
       "output_type": "stream",
       "stream": "stdout",
       "text": [
        "\n",
        "I am on file 1594 with filename LC_80701-01-25-02_combined.dat \n",
        "dt_min: 0.00781249999994"
       ]
      },
      {
       "output_type": "stream",
       "stream": "stdout",
       "text": [
        "\n",
        "len(da[0]): 83967\n",
        "Feature shape: (7, 910)\n",
        "I am on file 1595 with filename LC_50703-01-48-02_combined.dat \n",
        "dt_min: 0.00781249999989"
       ]
      },
      {
       "output_type": "stream",
       "stream": "stdout",
       "text": [
        "\n",
        "len(da[0]): 230655\n",
        "Feature shape: (25, 910)"
       ]
      },
      {
       "output_type": "stream",
       "stream": "stdout",
       "text": [
        "\n",
        "I am on file 1596 with filename LC_91701-01-26-00_combined.dat \n",
        "dt_min: 0.00781249999994"
       ]
      },
      {
       "output_type": "stream",
       "stream": "stdout",
       "text": [
        "\n",
        "len(da[0]): 106111\n",
        "Feature shape: (9, 910)\n",
        "I am on file 1597 with filename LC_30703-01-41-00_combined.dat \n",
        "dt_min: 0.00781249999999"
       ]
      },
      {
       "output_type": "stream",
       "stream": "stdout",
       "text": [
        "\n",
        "len(da[0]): 91645\n",
        "len(da[0]): 13821\n",
        "len(da[0]): 241662\n",
        "len(da[0]): 251903\n",
        "Feature shape: (61, 910)"
       ]
      },
      {
       "output_type": "stream",
       "stream": "stdout",
       "text": [
        "\n",
        "I am on file 1598 with filename LC_93411-01-03-02_combined.dat \n",
        "dt_min: 0.00781249999989"
       ]
      },
      {
       "output_type": "stream",
       "stream": "stdout",
       "text": [
        "\n",
        "len(da[0]): 208767\n",
        "Feature shape: (22, 910)"
       ]
      },
      {
       "output_type": "stream",
       "stream": "stdout",
       "text": [
        "\n",
        "I am on file 1599 with filename LC_95701-01-17-00_combined.dat \n",
        "dt_min: 0.00781249999999"
       ]
      },
      {
       "output_type": "stream",
       "stream": "stdout",
       "text": [
        "\n",
        "len(da[0]): 94207\n",
        "Feature shape: (8, 910)\n",
        "I am on file 1600 with filename LC_20186-03-01-02_combined.dat \n",
        "dt_min: 0.00781249999955"
       ]
      },
      {
       "output_type": "stream",
       "stream": "stdout",
       "text": [
        "\n",
        "len(da[0]): 309246\n",
        "len(da[0]): 101630\n",
        "len(da[0]): 261885\n",
        "len(da[0]): 34814\n",
        "len(da[0]): 178430\n",
        "len(da[0]): 228094\n",
        "Feature shape: (114, 910)"
       ]
      },
      {
       "output_type": "stream",
       "stream": "stdout",
       "text": [
        "\n",
        "I am on file 1601 with filename LC_92702-01-08-00_combined.dat \n",
        "dt_min: 0.00781249999989"
       ]
      },
      {
       "output_type": "stream",
       "stream": "stdout",
       "text": [
        "\n",
        "len(da[0]): 235519\n",
        "Feature shape: (25, 910)"
       ]
      },
      {
       "output_type": "stream",
       "stream": "stdout",
       "text": [
        "\n",
        "I am on file 1602 with filename LC_94701-01-46-00_combined.dat \n",
        "dt_min: 0.00781249999999"
       ]
      },
      {
       "output_type": "stream",
       "stream": "stdout",
       "text": [
        "\n",
        "len(da[0]): 86015\n",
        "Feature shape: (7, 910)\n",
        "I am on file 1603 with filename LC_80701-01-24-01_combined.dat \n",
        "dt_min: 0.00781249999999"
       ]
      },
      {
       "output_type": "stream",
       "stream": "stdout",
       "text": [
        "\n",
        "len(da[0]): 126463\n",
        "Feature shape: (12, 910)"
       ]
      },
      {
       "output_type": "stream",
       "stream": "stdout",
       "text": [
        "\n",
        "I am on file 1604 with filename LC_92702-01-21-01_combined.dat \n",
        "dt_min: 0.00781249999999"
       ]
      },
      {
       "output_type": "stream",
       "stream": "stdout",
       "text": [
        "\n",
        "len(da[0]): 22526\n",
        "len(da[0]): 88063\n",
        "Feature shape: (7, 910)\n",
        "I am on file 1605 with filename LC_93701-01-02-01_combined.dat \n",
        "dt_min: 0.00781249999989"
       ]
      },
      {
       "output_type": "stream",
       "stream": "stdout",
       "text": [
        "\n",
        "len(da[0]): 126719\n",
        "Feature shape: (12, 910)"
       ]
      },
      {
       "output_type": "stream",
       "stream": "stdout",
       "text": [
        "\n",
        "I am on file 1606 with filename LC_50703-01-58-01_combined.dat \n",
        "dt_min: 0.00781249999994"
       ]
      },
      {
       "output_type": "stream",
       "stream": "stdout",
       "text": [
        "\n",
        "len(da[0]): 77823\n",
        "Feature shape: (6, 910)\n",
        "I am on file 1607 with filename LC_91701-01-03-01_combined.dat \n",
        "dt_min: 0.00781249999989"
       ]
      },
      {
       "output_type": "stream",
       "stream": "stdout",
       "text": [
        "\n",
        "len(da[0]): 184319\n",
        "Feature shape: (19, 910)"
       ]
      },
      {
       "output_type": "stream",
       "stream": "stdout",
       "text": [
        "\n",
        "I am on file 1608 with filename LC_50703-01-07-01_combined.dat \n",
        "dt_min: 0.00781249999989"
       ]
      },
      {
       "output_type": "stream",
       "stream": "stdout",
       "text": [
        "\n",
        "len(da[0]): 356350\n",
        "len(da[0]): 356351\n",
        "Feature shape: (80, 910)"
       ]
      },
      {
       "output_type": "stream",
       "stream": "stdout",
       "text": [
        "\n",
        "I am on file 1609 with filename LC_93701-01-26-01_combined.dat \n",
        "dt_min: 0.00781249999989"
       ]
      },
      {
       "output_type": "stream",
       "stream": "stdout",
       "text": [
        "\n",
        "len(da[0]): 202751\n",
        "Feature shape: (21, 910)"
       ]
      },
      {
       "output_type": "stream",
       "stream": "stdout",
       "text": [
        "\n",
        "I am on file 1610 with filename LC_50703-01-35-00_combined.dat \n",
        "dt_min: 0.00781249999989"
       ]
      },
      {
       "output_type": "stream",
       "stream": "stdout",
       "text": [
        "\n",
        "len(da[0]): 251007\n",
        "Feature shape: (27, 910)"
       ]
      },
      {
       "output_type": "stream",
       "stream": "stdout",
       "text": [
        "\n",
        "I am on file 1611 with filename LC_94701-01-03-01_combined.dat \n",
        "dt_min: 0.00781249999999"
       ]
      },
      {
       "output_type": "stream",
       "stream": "stdout",
       "text": [
        "\n",
        "len(da[0]): 102399\n",
        "Feature shape: (9, 910)\n",
        "I am on file 1612 with filename LC_80701-01-52-02_combined.dat \n",
        "dt_min: 0.00781249999997"
       ]
      },
      {
       "output_type": "stream",
       "stream": "stdout",
       "text": [
        "\n",
        "len(da[0]): 55295\n",
        "Feature shape: (3, 910)\n",
        "I am on file 1613 with filename LC_90701-01-18-00_combined.dat \n",
        "dt_min: 0.00781249999989"
       ]
      },
      {
       "output_type": "stream",
       "stream": "stdout",
       "text": [
        "\n",
        "len(da[0]): 354302\n",
        "len(da[0]): 299007\n",
        "Feature shape: (73, 910)"
       ]
      },
      {
       "output_type": "stream",
       "stream": "stdout",
       "text": [
        "\n",
        "I am on file 1614 with filename LC_80701-01-37-00_combined.dat \n",
        "dt_min: 0.00781249999818"
       ]
      },
      {
       "output_type": "stream",
       "stream": "stdout",
       "text": [
        "\n",
        "len(da[0]): 335486\n",
        "len(da[0]): 411647\n",
        "Feature shape: (84, 910)"
       ]
      },
      {
       "output_type": "stream",
       "stream": "stdout",
       "text": [
        "\n",
        "I am on file 1615 with filename LC_30703-01-20-00_combined.dat \n",
        "dt_min: 0.00781249999989"
       ]
      },
      {
       "output_type": "stream",
       "stream": "stdout",
       "text": [
        "\n",
        "len(da[0]): 344062\n",
        "len(da[0]): 13821\n",
        "len(da[0]): 280575\n",
        "Feature shape: (69, 910)"
       ]
      },
      {
       "output_type": "stream",
       "stream": "stdout",
       "text": [
        "\n",
        "I am on file 1616 with filename LC_50703-01-11-02_combined.dat \n",
        "dt_min: 0.00781249999989"
       ]
      },
      {
       "output_type": "stream",
       "stream": "stdout",
       "text": [
        "\n",
        "len(da[0]): 143231\n",
        "Feature shape: (14, 910)"
       ]
      },
      {
       "output_type": "stream",
       "stream": "stdout",
       "text": [
        "\n",
        "I am on file 1617 with filename LC_94701-01-34-00_combined.dat \n",
        "dt_min: 0.00781249999977"
       ]
      },
      {
       "output_type": "stream",
       "stream": "stdout",
       "text": [
        "\n",
        "len(da[0]): 225279\n",
        "Feature shape: (24, 910)"
       ]
      },
      {
       "output_type": "stream",
       "stream": "stdout",
       "text": [
        "\n",
        "I am on file 1618 with filename LC_40703-01-11-00_combined.dat \n",
        "dt_min: 0.00781249999989"
       ]
      },
      {
       "output_type": "stream",
       "stream": "stdout",
       "text": [
        "\n",
        "len(da[0]): 135166\n",
        "len(da[0]): 79358\n",
        "len(da[0]): 239101\n",
        "len(da[0]): 296958\n",
        "len(da[0]): 266239\n",
        "Feature shape: (107, 910)"
       ]
      },
      {
       "output_type": "stream",
       "stream": "stdout",
       "text": [
        "\n",
        "I am on file 1619 with filename LC_91701-01-01-00_combined.dat \n",
        "dt_min: 0.00781249999989"
       ]
      },
      {
       "output_type": "stream",
       "stream": "stdout",
       "text": [
        "\n",
        "len(da[0]): 172031\n",
        "Feature shape: (17, 910)"
       ]
      },
      {
       "output_type": "stream",
       "stream": "stdout",
       "text": [
        "\n",
        "I am on file 1620 with filename LC_90701-01-10-00_combined.dat \n",
        "dt_min: 0.00781249999989"
       ]
      },
      {
       "output_type": "stream",
       "stream": "stdout",
       "text": [
        "\n",
        "len(da[0]): 251007\n",
        "Feature shape: (27, 910)"
       ]
      },
      {
       "output_type": "stream",
       "stream": "stdout",
       "text": [
        "\n",
        "I am on file 1621 with filename LC_94701-01-60-01_combined.dat \n",
        "dt_min: 0.00781249999989"
       ]
      },
      {
       "output_type": "stream",
       "stream": "stdout",
       "text": [
        "\n",
        "len(da[0]): 103167\n",
        "Feature shape: (9, 910)\n",
        "I am on file 1622 with filename LC_80188-03-01-01_combined.dat \n",
        "dt_min: 0.00390624999989"
       ]
      },
      {
       "output_type": "stream",
       "stream": "stdout",
       "text": [
        "\n",
        "len(da[0]): 614399\n",
        "Feature shape: (34, 910)"
       ]
      },
      {
       "output_type": "stream",
       "stream": "stdout",
       "text": [
        "\n",
        "I am on file 1623 with filename LC_96701-01-09-00_combined.dat \n",
        "dt_min: 0.00781249999989"
       ]
      },
      {
       "output_type": "stream",
       "stream": "stdout",
       "text": [
        "\n",
        "len(da[0]): 245759\n",
        "Feature shape: (26, 910)"
       ]
      },
      {
       "output_type": "stream",
       "stream": "stdout",
       "text": [
        "\n",
        "I am on file 1624 with filename LC_50703-01-59-01_combined.dat \n",
        "dt_min: 0.00781249999994"
       ]
      },
      {
       "output_type": "stream",
       "stream": "stdout",
       "text": [
        "\n",
        "len(da[0]): 105855\n",
        "Feature shape: (9, 910)\n",
        "I am on file 1625 with filename LC_40115-01-01-00_combined.dat \n",
        "dt_min: 0.0078125"
       ]
      },
      {
       "output_type": "stream",
       "stream": "stdout",
       "text": [
        "\n",
        "len(da[0]): 37886\n",
        "len(da[0]): 68606\n",
        "len(da[0]): 293373\n",
        "len(da[0]): 33277\n",
        "len(da[0]): 188414\n",
        "len(da[0]): 71679\n",
        "Feature shape: (63, 910)"
       ]
      },
      {
       "output_type": "stream",
       "stream": "stdout",
       "text": [
        "\n",
        "I am on file 1626 with filename LC_50703-01-52-00_combined.dat \n",
        "dt_min: 0.00781249999989"
       ]
      },
      {
       "output_type": "stream",
       "stream": "stdout",
       "text": [
        "\n",
        "len(da[0]): 172031\n",
        "Feature shape: (17, 910)"
       ]
      },
      {
       "output_type": "stream",
       "stream": "stdout",
       "text": [
        "\n",
        "I am on file 1627 with filename LC_80701-01-09-00_combined.dat \n",
        "dt_min: 0.00781249999989"
       ]
      },
      {
       "output_type": "stream",
       "stream": "stdout",
       "text": [
        "\n",
        "len(da[0]): 172031\n",
        "Feature shape: (17, 910)"
       ]
      },
      {
       "output_type": "stream",
       "stream": "stdout",
       "text": [
        "\n",
        "I am on file 1628 with filename LC_93701-01-03-01_combined.dat \n",
        "dt_min: 0.00781249999989"
       ]
      },
      {
       "output_type": "stream",
       "stream": "stdout",
       "text": [
        "\n",
        "len(da[0]): 122879\n",
        "Feature shape: (11, 910)"
       ]
      },
      {
       "output_type": "stream",
       "stream": "stdout",
       "text": [
        "\n",
        "I am on file 1629 with filename LC_92092-01-01-01_combined.dat \n",
        "dt_min: 0.00781249999989"
       ]
      },
      {
       "output_type": "stream",
       "stream": "stdout",
       "text": [
        "\n",
        "len(da[0]): 284671\n",
        "Feature shape: (31, 910)"
       ]
      },
      {
       "output_type": "stream",
       "stream": "stdout",
       "text": [
        "\n",
        "I am on file 1630 with filename LC_20402-01-17-00_combined.dat \n",
        "I am on file 1631 with filename LC_60701-01-26-02_combined.dat \n",
        "dt_min: 0.00781249999989"
       ]
      },
      {
       "output_type": "stream",
       "stream": "stdout",
       "text": [
        "\n",
        "len(da[0]): 169983\n",
        "Feature shape: (17, 910)"
       ]
      },
      {
       "output_type": "stream",
       "stream": "stdout",
       "text": [
        "\n",
        "I am on file 1632 with filename LC_70702-01-23-00_combined.dat \n",
        "dt_min: 0.00781249999989"
       ]
      },
      {
       "output_type": "stream",
       "stream": "stdout",
       "text": [
        "\n",
        "len(da[0]): 413695\n",
        "Feature shape: (47, 910)"
       ]
      },
      {
       "output_type": "stream",
       "stream": "stdout",
       "text": [
        "\n",
        "I am on file 1633 with filename LC_60701-01-03-00_combined.dat \n",
        "dt_min: 0.00781249999989"
       ]
      },
      {
       "output_type": "stream",
       "stream": "stdout",
       "text": [
        "\n",
        "len(da[0]): 421887\n",
        "Feature shape: (48, 910)"
       ]
      },
      {
       "output_type": "stream",
       "stream": "stdout",
       "text": [
        "\n",
        "I am on file 1634 with filename LC_20187-02-01-00_combined.dat \n",
        "I am on file 1635 with filename LC_80701-01-45-02_combined.dat \n",
        "dt_min: 0.00781249999994"
       ]
      },
      {
       "output_type": "stream",
       "stream": "stdout",
       "text": [
        "\n",
        "len(da[0]): 121983\n",
        "Feature shape: (11, 910)"
       ]
      },
      {
       "output_type": "stream",
       "stream": "stdout",
       "text": [
        "\n",
        "I am on file 1636 with filename LC_50125-01-01-03_combined.dat \n",
        "dt_min: 0.00781249999989"
       ]
      },
      {
       "output_type": "stream",
       "stream": "stdout",
       "text": [
        "\n",
        "len(da[0]): 350207\n",
        "Feature shape: (39, 910)"
       ]
      },
      {
       "output_type": "stream",
       "stream": "stdout",
       "text": [
        "\n",
        "I am on file 1637 with filename LC_50125-01-03-00_combined.dat \n",
        "dt_min: 0.00781249999989"
       ]
      },
      {
       "output_type": "stream",
       "stream": "stdout",
       "text": [
        "\n",
        "len(da[0]): 176126\n",
        "len(da[0]): 63486\n",
        "len(da[0]): 243710\n",
        "len(da[0]): 69630\n",
        "len(da[0]): 417790\n",
        "len(da[0]): 417790\n",
        "len(da[0]): 413695"
       ]
      },
      {
       "output_type": "stream",
       "stream": "stdout",
       "text": [
        "\n",
        "Feature shape: (194, 910)"
       ]
      },
      {
       "output_type": "stream",
       "stream": "stdout",
       "text": [
        "\n",
        "I am on file 1638 with filename LC_40116-01-02-07_combined.dat \n",
        "dt_min: 0.00781249999989"
       ]
      },
      {
       "output_type": "stream",
       "stream": "stdout",
       "text": [
        "\n",
        "len(da[0]): 327295\n",
        "Feature shape: (36, 910)"
       ]
      },
      {
       "output_type": "stream",
       "stream": "stdout",
       "text": [
        "\n",
        "I am on file 1639 with filename LC_80701-01-40-01_combined.dat \n",
        "dt_min: 0.00781249999989"
       ]
      },
      {
       "output_type": "stream",
       "stream": "stdout",
       "text": [
        "\n",
        "len(da[0]): 342015\n",
        "Feature shape: (38, 910)"
       ]
      },
      {
       "output_type": "stream",
       "stream": "stdout",
       "text": [
        "\n",
        "I am on file 1640 with filename LC_92702-01-19-00_combined.dat \n",
        "dt_min: 0.00781249999989"
       ]
      },
      {
       "output_type": "stream",
       "stream": "stdout",
       "text": [
        "\n",
        "len(da[0]): 403454\n",
        "len(da[0]): 307198\n",
        "len(da[0]): 59391\n",
        "Feature shape: (84, 910)"
       ]
      },
      {
       "output_type": "stream",
       "stream": "stdout",
       "text": [
        "\n",
        "I am on file 1641 with filename LC_30402-01-04-00_combined.dat \n",
        "dt_min: 0.00781249999818"
       ]
      },
      {
       "output_type": "stream",
       "stream": "stdout",
       "text": [
        "\n",
        "len(da[0]): 184318\n",
        "len(da[0]): 108542\n",
        "len(da[0]): 73725\n",
        "len(da[0]): 351231\n",
        "Feature shape: (73, 910)"
       ]
      },
      {
       "output_type": "stream",
       "stream": "stdout",
       "text": [
        "\n",
        "I am on file 1642 with filename LC_40703-01-40-02_combined.dat \n",
        "dt_min: 0.00781249999994"
       ]
      },
      {
       "output_type": "stream",
       "stream": "stdout",
       "text": [
        "\n",
        "len(da[0]): 129023\n",
        "Feature shape: (12, 910)"
       ]
      },
      {
       "output_type": "stream",
       "stream": "stdout",
       "text": [
        "\n",
        "I am on file 1643 with filename LC_80701-01-17-02_combined.dat \n",
        "dt_min: 0.00781249999994"
       ]
      },
      {
       "output_type": "stream",
       "stream": "stdout",
       "text": [
        "\n",
        "len(da[0]): 98303\n",
        "Feature shape: (8, 910)\n",
        "I am on file 1644 with filename LC_93701-01-24-00_combined.dat \n",
        "dt_min: 0.00781249999989"
       ]
      },
      {
       "output_type": "stream",
       "stream": "stdout",
       "text": [
        "\n",
        "len(da[0]): 122879\n",
        "Feature shape: (11, 910)"
       ]
      },
      {
       "output_type": "stream",
       "stream": "stdout",
       "text": [
        "\n",
        "I am on file 1645 with filename LC_50703-01-14-00_combined.dat \n",
        "dt_min: 0.00781249999989"
       ]
      },
      {
       "output_type": "stream",
       "stream": "stdout",
       "text": [
        "\n",
        "len(da[0]): 292863\n",
        "Feature shape: (32, 910)"
       ]
      },
      {
       "output_type": "stream",
       "stream": "stdout",
       "text": [
        "\n",
        "I am on file 1646 with filename LC_90701-01-21-00_combined.dat \n",
        "dt_min: 0.00781249999994"
       ]
      },
      {
       "output_type": "stream",
       "stream": "stdout",
       "text": [
        "\n",
        "len(da[0]): 77823\n",
        "Feature shape: (6, 910)\n",
        "I am on file 1647 with filename LC_90105-01-02-01_combined.dat \n",
        "dt_min: 0.00390624999989"
       ]
      },
      {
       "output_type": "stream",
       "stream": "stdout",
       "text": [
        "\n",
        "len(da[0]): 401407\n",
        "Feature shape: (21, 910)"
       ]
      },
      {
       "output_type": "stream",
       "stream": "stdout",
       "text": [
        "\n",
        "I am on file 1648 with filename LC_80701-01-54-01_combined.dat \n",
        "dt_min: 0.00781249999989"
       ]
      },
      {
       "output_type": "stream",
       "stream": "stdout",
       "text": [
        "\n",
        "len(da[0]): 139263\n",
        "Feature shape: (13, 910)"
       ]
      },
      {
       "output_type": "stream",
       "stream": "stdout",
       "text": [
        "\n",
        "I am on file 1649 with filename LC_40703-01-33-02_combined.dat \n",
        "dt_min: 0.00781249999999"
       ]
      },
      {
       "output_type": "stream",
       "stream": "stdout",
       "text": [
        "\n",
        "len(da[0]): 43006\n",
        "len(da[0]): 47102\n",
        "len(da[0]): 81919\n",
        "Feature shape: (10, 910)"
       ]
      },
      {
       "output_type": "stream",
       "stream": "stdout",
       "text": [
        "\n",
        "I am on file 1650 with filename LC_90701-01-43-00_combined.dat \n",
        "dt_min: 0.00781249999994"
       ]
      },
      {
       "output_type": "stream",
       "stream": "stdout",
       "text": [
        "\n",
        "len(da[0]): 106367\n",
        "Feature shape: (9, 910)\n",
        "I am on file 1651 with filename LC_20402-01-34-01_combined.dat \n",
        "I am on file 1652 with filename LC_91701-01-68-02_combined.dat \n",
        "dt_min: 0.00781249999989"
       ]
      },
      {
       "output_type": "stream",
       "stream": "stdout",
       "text": [
        "\n",
        "len(da[0]): 106495\n",
        "Feature shape: (9, 910)\n",
        "I am on file 1653 with filename LC_80127-01-02-00_combined.dat \n",
        "dt_min: 0.00390624999818"
       ]
      },
      {
       "output_type": "stream",
       "stream": "stdout",
       "text": [
        "\n",
        "len(da[0]): 688126\n",
        "len(da[0]): 806910\n",
        "len(da[0]): 815102"
       ]
      },
      {
       "output_type": "stream",
       "stream": "stdout",
       "text": [
        "\n",
        "len(da[0]): 806910\n",
        "len(da[0]): 9726\n",
        "len(da[0]): 627198\n",
        "Feature shape: (211, 910)"
       ]
      },
      {
       "output_type": "stream",
       "stream": "stdout",
       "text": [
        "\n",
        "I am on file 1654 with filename LC_50405-01-04-00_combined.dat \n",
        "dt_min: 0.00781249999818"
       ]
      },
      {
       "output_type": "stream",
       "stream": "stdout",
       "text": [
        "\n",
        "len(da[0]): 419838\n",
        "len(da[0]): 415743\n",
        "Feature shape: (95, 910)"
       ]
      },
      {
       "output_type": "stream",
       "stream": "stdout",
       "text": [
        "\n",
        "I am on file 1655 with filename LC_96701-01-44-00_combined.dat \n",
        "dt_min: 0.00781249999977"
       ]
      },
      {
       "output_type": "stream",
       "stream": "stdout",
       "text": [
        "\n",
        "len(da[0]): 198655\n",
        "Feature shape: (21, 910)"
       ]
      },
      {
       "output_type": "stream",
       "stream": "stdout",
       "text": [
        "\n",
        "I am on file 1656 with filename LC_10408-01-19-01_combined.dat \n",
        "I am on file 1657 with filename LC_20186-03-02-02_combined.dat \n",
        "dt_min: 0.00781249999818"
       ]
      },
      {
       "output_type": "stream",
       "stream": "stdout",
       "text": [
        "\n",
        "len(da[0]): 323582\n",
        "len(da[0]): 210813\n",
        "len(da[0]): 111742\n",
        "len(da[0]): 116605\n",
        "len(da[0]): 236671\n",
        "Feature shape: (104, 910)"
       ]
      },
      {
       "output_type": "stream",
       "stream": "stdout",
       "text": [
        "\n",
        "I am on file 1658 with filename LC_50703-01-18-03_combined.dat \n",
        "dt_min: 0.00781249999994"
       ]
      },
      {
       "output_type": "stream",
       "stream": "stdout",
       "text": [
        "\n",
        "len(da[0]): 108543\n",
        "Feature shape: (10, 910)\n",
        "I am on file 1659 with filename LC_92702-01-13-01_combined.dat \n",
        "dt_min: 0.00781249999989"
       ]
      },
      {
       "output_type": "stream",
       "stream": "stdout",
       "text": [
        "\n",
        "len(da[0]): 99839\n",
        "Feature shape: (9, 910)\n",
        "I am on file 1660 with filename LC_10408-01-15-05_combined.dat \n",
        "I am on file 1661 with filename LC_50703-01-28-02_combined.dat \n",
        "dt_min: 0.00781249999989"
       ]
      },
      {
       "output_type": "stream",
       "stream": "stdout",
       "text": [
        "\n",
        "len(da[0]): 268287\n",
        "Feature shape: (29, 910)"
       ]
      },
      {
       "output_type": "stream",
       "stream": "stdout",
       "text": [
        "\n",
        "I am on file 1662 with filename LC_10408-01-14-02_combined.dat \n",
        "I am on file 1663 with filename LC_30703-01-16-00_combined.dat \n",
        "dt_min: 0.00781249999989"
       ]
      },
      {
       "output_type": "stream",
       "stream": "stdout",
       "text": [
        "\n",
        "len(da[0]): 45309\n",
        "len(da[0]): 168702\n",
        "len(da[0]): 423935\n",
        "Feature shape: (67, 910)"
       ]
      },
      {
       "output_type": "stream",
       "stream": "stdout",
       "text": [
        "\n",
        "I am on file 1664 with filename LC_92702-01-10-00_combined.dat \n",
        "dt_min: 0.00781249999989"
       ]
      },
      {
       "output_type": "stream",
       "stream": "stdout",
       "text": [
        "\n",
        "len(da[0]): 274430\n",
        "len(da[0]): 401406\n",
        "len(da[0]): 401407\n",
        "Feature shape: (120, 910)"
       ]
      },
      {
       "output_type": "stream",
       "stream": "stdout",
       "text": [
        "\n",
        "I am on file 1665 with filename LC_50703-01-12-03_combined.dat \n",
        "dt_min: 0.00781249999989"
       ]
      },
      {
       "output_type": "stream",
       "stream": "stdout",
       "text": [
        "\n",
        "len(da[0]): 157823\n",
        "Feature shape: (16, 910)"
       ]
      },
      {
       "output_type": "stream",
       "stream": "stdout",
       "text": [
        "\n",
        "I am on file 1666 with filename LC_90024-02-20-00_combined.dat \n",
        "dt_min: 0.00390624999999"
       ]
      },
      {
       "output_type": "stream",
       "stream": "stdout",
       "text": [
        "\n",
        "len(da[0]): 176127\n",
        "Feature shape: (7, 910)\n",
        "I am on file 1667 with filename LC_92702-01-22-00_combined.dat \n",
        "dt_min: 0.00781249999989"
       ]
      },
      {
       "output_type": "stream",
       "stream": "stdout",
       "text": [
        "\n",
        "len(da[0]): 172031\n",
        "Feature shape: (17, 910)"
       ]
      },
      {
       "output_type": "stream",
       "stream": "stdout",
       "text": [
        "\n",
        "I am on file 1668 with filename LC_50703-01-27-03_combined.dat \n",
        "dt_min: 0.00781249999989"
       ]
      },
      {
       "output_type": "stream",
       "stream": "stdout",
       "text": [
        "\n",
        "len(da[0]): 175231\n",
        "Feature shape: (18, 910)"
       ]
      },
      {
       "output_type": "stream",
       "stream": "stdout",
       "text": [
        "\n",
        "I am on file 1669 with filename LC_95701-01-25-00_combined.dat \n",
        "dt_min: 0.00781249999977"
       ]
      },
      {
       "output_type": "stream",
       "stream": "stdout",
       "text": [
        "\n",
        "len(da[0]): 223871\n",
        "Feature shape: (24, 910)"
       ]
      },
      {
       "output_type": "stream",
       "stream": "stdout",
       "text": [
        "\n",
        "I am on file 1670 with filename LC_91701-01-32-00_combined.dat \n",
        "dt_min: 0.00781249999989"
       ]
      },
      {
       "output_type": "stream",
       "stream": "stdout",
       "text": [
        "\n",
        "len(da[0]): 169983\n",
        "Feature shape: (17, 910)"
       ]
      },
      {
       "output_type": "stream",
       "stream": "stdout",
       "text": [
        "\n",
        "I am on file 1671 with filename LC_20402-01-25-00_combined.dat \n",
        "I am on file 1672 with filename LC_91701-01-36-01_combined.dat \n",
        "dt_min: 0.00781249999994"
       ]
      },
      {
       "output_type": "stream",
       "stream": "stdout",
       "text": [
        "\n",
        "len(da[0]): 108543\n",
        "Feature shape: (10, 910)\n",
        "I am on file 1673 with filename LC_91701-01-61-00_combined.dat \n",
        "dt_min: 0.00781249999997"
       ]
      },
      {
       "output_type": "stream",
       "stream": "stdout",
       "text": [
        "\n",
        "len(da[0]): 57343\n",
        "Feature shape: (3, 910)\n",
        "I am on file 1674 with filename LC_40703-01-03-00_combined.dat \n",
        "dt_min: 0.00781249999818"
       ]
      },
      {
       "output_type": "stream",
       "stream": "stdout",
       "text": [
        "\n",
        "len(da[0]): 397310\n",
        "len(da[0]): 314110\n",
        "len(da[0]): 108797\n",
        "len(da[0]): 421887\n",
        "Feature shape: (138, 910)"
       ]
      },
      {
       "output_type": "stream",
       "stream": "stdout",
       "text": [
        "\n",
        "I am on file 1675 with filename LC_90701-01-09-00_combined.dat \n",
        "dt_min: 0.00781249999989"
       ]
      },
      {
       "output_type": "stream",
       "stream": "stdout",
       "text": [
        "\n",
        "len(da[0]): 245759\n",
        "Feature shape: (26, 910)"
       ]
      },
      {
       "output_type": "stream",
       "stream": "stdout",
       "text": [
        "\n",
        "I am on file 1676 with filename LC_80701-01-29-00_combined.dat \n",
        "dt_min: 0.00781249999989"
       ]
      },
      {
       "output_type": "stream",
       "stream": "stdout",
       "text": [
        "\n",
        "len(da[0]): 139263\n",
        "Feature shape: (13, 910)"
       ]
      },
      {
       "output_type": "stream",
       "stream": "stdout",
       "text": [
        "\n",
        "I am on file 1677 with filename LC_30182-01-02-00_combined.dat \n",
        "dt_min: 0.00781249999999"
       ]
      },
      {
       "output_type": "stream",
       "stream": "stdout",
       "text": [
        "\n",
        "len(da[0]): 129022\n",
        "len(da[0]): 67582\n",
        "len(da[0]): 196606\n",
        "len(da[0]): 67582\n",
        "len(da[0]): 251902\n",
        "len(da[0]): 67582\n",
        "len(da[0]): 88061\n",
        "len(da[0]): 141309\n",
        "len(da[0]): 198654\n",
        "len(da[0]): 364543"
       ]
      },
      {
       "output_type": "stream",
       "stream": "stdout",
       "text": [
        "\n",
        "Feature shape: (157, 910)"
       ]
      },
      {
       "output_type": "stream",
       "stream": "stdout",
       "text": [
        "\n",
        "I am on file 1678 with filename LC_50703-01-20-01_combined.dat \n",
        "dt_min: 0.00781249999989"
       ]
      },
      {
       "output_type": "stream",
       "stream": "stdout",
       "text": [
        "\n",
        "len(da[0]): 249855\n",
        "Feature shape: (27, 910)"
       ]
      },
      {
       "output_type": "stream",
       "stream": "stdout",
       "text": [
        "\n",
        "I am on file 1679 with filename LC_50125-01-02-00_combined.dat \n",
        "dt_min: 0.00781249999818"
       ]
      },
      {
       "output_type": "stream",
       "stream": "stdout",
       "text": [
        "\n",
        "len(da[0]): 419838\n",
        "len(da[0]): 415743\n",
        "Feature shape: (95, 910)"
       ]
      },
      {
       "output_type": "stream",
       "stream": "stdout",
       "text": [
        "\n",
        "I am on file 1680 with filename LC_92702-01-20-02_combined.dat \n",
        "dt_min: 0.00781249999989"
       ]
      },
      {
       "output_type": "stream",
       "stream": "stdout",
       "text": [
        "\n",
        "len(da[0]): 109823\n",
        "Feature shape: (10, 910)\n",
        "I am on file 1681 with filename LC_70702-01-28-01_combined.dat \n",
        "dt_min: 0.00781249999989"
       ]
      },
      {
       "output_type": "stream",
       "stream": "stdout",
       "text": [
        "\n",
        "len(da[0]): 150783\n",
        "Feature shape: (15, 910)"
       ]
      },
      {
       "output_type": "stream",
       "stream": "stdout",
       "text": [
        "\n",
        "I am on file 1682 with filename LC_20402-01-49-01_combined.dat \n",
        "I am on file 1683 with filename LC_50703-01-15-01_combined.dat \n",
        "dt_min: 0.00781249999989"
       ]
      },
      {
       "output_type": "stream",
       "stream": "stdout",
       "text": [
        "\n",
        "len(da[0]): 397311\n",
        "Feature shape: (45, 910)"
       ]
      },
      {
       "output_type": "stream",
       "stream": "stdout",
       "text": [
        "\n",
        "I am on file 1684 with filename LC_90105-10-08-00_combined.dat \n",
        "dt_min: 0.00390624999909"
       ]
      },
      {
       "output_type": "stream",
       "stream": "stdout",
       "text": [
        "\n",
        "len(da[0]): 274430\n",
        "len(da[0]): 823294\n",
        "len(da[0]): 827391\n",
        "Feature shape: (107, 910)"
       ]
      },
      {
       "output_type": "stream",
       "stream": "stdout",
       "text": [
        "\n",
        "I am on file 1685 with filename LC_80701-01-12-00_combined.dat \n",
        "dt_min: 0.00781249999989"
       ]
      },
      {
       "output_type": "stream",
       "stream": "stdout",
       "text": [
        "\n",
        "len(da[0]): 342015\n",
        "Feature shape: (38, 910)"
       ]
      },
      {
       "output_type": "stream",
       "stream": "stdout",
       "text": [
        "\n",
        "I am on file 1686 with filename LC_93411-01-03-03_combined.dat \n",
        "dt_min: 0.00781249999989"
       ]
      },
      {
       "output_type": "stream",
       "stream": "stdout",
       "text": [
        "\n",
        "len(da[0]): 288767\n",
        "Feature shape: (32, 910)"
       ]
      },
      {
       "output_type": "stream",
       "stream": "stdout",
       "text": [
        "\n",
        "I am on file 1687 with filename LC_70702-01-40-00_combined.dat \n",
        "dt_min: 0.00781249999989"
       ]
      },
      {
       "output_type": "stream",
       "stream": "stdout",
       "text": [
        "\n",
        "len(da[0]): 145407\n",
        "Feature shape: (14, 910)"
       ]
      },
      {
       "output_type": "stream",
       "stream": "stdout",
       "text": [
        "\n",
        "I am on file 1688 with filename LC_96701-01-51-01_combined.dat \n",
        "dt_min: 0.00781249999977"
       ]
      },
      {
       "output_type": "stream",
       "stream": "stdout",
       "text": [
        "\n",
        "len(da[0]): 149503\n",
        "Feature shape: (15, 910)"
       ]
      },
      {
       "output_type": "stream",
       "stream": "stdout",
       "text": [
        "\n",
        "I am on file 1689 with filename LC_91701-01-21-01_combined.dat \n",
        "dt_min: 0.00781249999994"
       ]
      },
      {
       "output_type": "stream",
       "stream": "stdout",
       "text": [
        "\n",
        "len(da[0]): 104447\n",
        "Feature shape: (9, 910)\n",
        "I am on file 1690 with filename LC_60701-01-06-01_combined.dat \n",
        "dt_min: 0.00781249999989"
       ]
      },
      {
       "output_type": "stream",
       "stream": "stdout",
       "text": [
        "\n",
        "len(da[0]): 178175\n",
        "Feature shape: (18, 910)"
       ]
      },
      {
       "output_type": "stream",
       "stream": "stdout",
       "text": [
        "\n",
        "I am on file 1691 with filename LC_40703-01-16-02_combined.dat \n",
        "dt_min: 0.00781249999989"
       ]
      },
      {
       "output_type": "stream",
       "stream": "stdout",
       "text": [
        "\n",
        "len(da[0]): 90878\n",
        "len(da[0]): 35837\n",
        "len(da[0]): 108798\n",
        "Feature shape: (19, 910)"
       ]
      },
      {
       "output_type": "stream",
       "stream": "stdout",
       "text": [
        "\n",
        "I am on file 1692 with filename LC_94701-01-57-00_combined.dat \n",
        "dt_min: 0.00781249999989"
       ]
      },
      {
       "output_type": "stream",
       "stream": "stdout",
       "text": [
        "\n",
        "len(da[0]): 155647\n",
        "Feature shape: (15, 910)"
       ]
      },
      {
       "output_type": "stream",
       "stream": "stdout",
       "text": [
        "\n",
        "I am on file 1693 with filename LC_30183-02-02-00_combined.dat \n",
        "dt_min: 0.00781249999818"
       ]
      },
      {
       "output_type": "stream",
       "stream": "stdout",
       "text": [
        "\n",
        "len(da[0]): 141309\n",
        "len(da[0]): 209918\n",
        "len(da[0]): 366590\n",
        "len(da[0]): 183293\n",
        "len(da[0]): 33277\n",
        "len(da[0]): 186878\n",
        "len(da[0]): 425982"
       ]
      },
      {
       "output_type": "stream",
       "stream": "stdout",
       "text": [
        "\n",
        "len(da[0]): 169981\n",
        "len(da[0]): 78847\n",
        "Feature shape: (187, 910)"
       ]
      },
      {
       "output_type": "stream",
       "stream": "stdout",
       "text": [
        "\n",
        "I am on file 1694 with filename LC_40115-01-06-01_combined.dat \n",
        "dt_min: 0.00781249999989"
       ]
      },
      {
       "output_type": "stream",
       "stream": "stdout",
       "text": [
        "\n",
        "len(da[0]): 331775\n",
        "Feature shape: (37, 910)"
       ]
      },
      {
       "output_type": "stream",
       "stream": "stdout",
       "text": [
        "\n",
        "I am on file 1695 with filename LC_93701-01-05-00_combined.dat \n",
        "dt_min: 0.00781249999989"
       ]
      },
      {
       "output_type": "stream",
       "stream": "stdout",
       "text": [
        "\n",
        "len(da[0]): 77823\n",
        "Feature shape: (6, 910)\n",
        "I am on file 1696 with filename LC_30402-01-17-00_combined.dat \n",
        "dt_min: 0.00781249999818"
       ]
      },
      {
       "output_type": "stream",
       "stream": "stdout",
       "text": [
        "\n",
        "len(da[0]): 155389\n",
        "len(da[0]): 132093\n",
        "len(da[0]): 23806\n",
        "len(da[0]): 274431\n",
        "Feature shape: (58, 910)"
       ]
      },
      {
       "output_type": "stream",
       "stream": "stdout",
       "text": [
        "\n",
        "I am on file 1697 with filename LC_92702-01-08-03_combined.dat \n",
        "dt_min: 0.00781249999989"
       ]
      },
      {
       "output_type": "stream",
       "stream": "stdout",
       "text": [
        "\n",
        "len(da[0]): 134527\n",
        "Feature shape: (13, 910)"
       ]
      },
      {
       "output_type": "stream",
       "stream": "stdout",
       "text": [
        "\n",
        "I am on file 1698 with filename LC_20402-01-04-00_combined.dat \n",
        "I am on file 1699 with filename LC_40703-01-29-02_combined.dat \n",
        "dt_min: 0.00781249999989"
       ]
      },
      {
       "output_type": "stream",
       "stream": "stdout",
       "text": [
        "\n",
        "len(da[0]): 142846\n",
        "len(da[0]): 78335\n",
        "Feature shape: (20, 910)"
       ]
      },
      {
       "output_type": "stream",
       "stream": "stdout",
       "text": [
        "\n",
        "I am on file 1700 with filename LC_70702-01-05-00_combined.dat \n",
        "dt_min: 0.00781249999989"
       ]
      },
      {
       "output_type": "stream",
       "stream": "stdout",
       "text": [
        "\n",
        "len(da[0]): 225279\n",
        "Feature shape: (24, 910)"
       ]
      },
      {
       "output_type": "stream",
       "stream": "stdout",
       "text": [
        "\n",
        "I am on file 1701 with filename LC_50703-01-10-00_combined.dat \n",
        "dt_min: 0.00781249999989"
       ]
      },
      {
       "output_type": "stream",
       "stream": "stdout",
       "text": [
        "\n",
        "len(da[0]): 176127\n",
        "Feature shape: (18, 910)"
       ]
      },
      {
       "output_type": "stream",
       "stream": "stdout",
       "text": [
        "\n",
        "I am on file 1702 with filename LC_10258-01-06-00_combined.dat \n",
        "dt_min: 0.00390625"
       ]
      },
      {
       "output_type": "stream",
       "stream": "stdout",
       "text": [
        "\n",
        "len(da[0]): 221182\n",
        "len(da[0]): 737278\n",
        "len(da[0]): 692223\n",
        "Feature shape: (90, 910)"
       ]
      },
      {
       "output_type": "stream",
       "stream": "stdout",
       "text": [
        "\n",
        "I am on file 1703 with filename LC_93701-01-37-00_combined.dat \n",
        "dt_min: 0.00781249999989"
       ]
      },
      {
       "output_type": "stream",
       "stream": "stdout",
       "text": [
        "\n",
        "len(da[0]): 342015\n",
        "Feature shape: (38, 910)"
       ]
      },
      {
       "output_type": "stream",
       "stream": "stdout",
       "text": [
        "\n",
        "I am on file 1704 with filename LC_96701-01-19-00_combined.dat \n",
        "dt_min: 0.00781249999977"
       ]
      },
      {
       "output_type": "stream",
       "stream": "stdout",
       "text": [
        "\n",
        "len(da[0]): 220543\n",
        "Feature shape: (23, 910)"
       ]
      },
      {
       "output_type": "stream",
       "stream": "stdout",
       "text": [
        "\n",
        "I am on file 1705 with filename LC_90701-01-08-00_combined.dat \n",
        "dt_min: 0.00781249999989"
       ]
      },
      {
       "output_type": "stream",
       "stream": "stdout",
       "text": [
        "\n",
        "len(da[0]): 214655\n",
        "Feature shape: (23, 910)"
       ]
      },
      {
       "output_type": "stream",
       "stream": "stdout",
       "text": [
        "\n"
       ]
      }
     ],
     "prompt_number": 13
    },
    {
     "cell_type": "code",
     "collapsed": false,
     "input": [
      "f = open(\"grs1915_unlabelled_features.dat\", \"w\")\n",
      "pickle.dump([f_unlabelled, l_unlabelled], f)\n",
      "f.close()\n"
     ],
     "language": "python",
     "metadata": {},
     "outputs": [],
     "prompt_number": 15
    },
    {
     "cell_type": "markdown",
     "metadata": {},
     "source": [
      "Now let's do the same on labelled data. This is a bit more complex, because we need to distinguish training, validation and test data sets. We'll do this by splitting up the file names into batches, and then process them separately."
     ]
    },
    {
     "cell_type": "code",
     "collapsed": false,
     "input": [
      "## shuffle list of light curves\n",
      "np.random.shuffle(files)\n",
      "nfiles = len(files)\n",
      "\n",
      "train_frac = 0.5\n",
      "validation_frac = 0.25\n",
      "test_frac = 0.25\n",
      "\n",
      "## let's pull out light curves for three data sets into different variables.\n",
      "files_train = files[:int(train_frac*nfiles)]\n",
      "files_val = files[int(train_frac*nfiles):int((train_frac + validation_frac)*nfiles)]\n",
      "files_test = files[int((train_frac + validation_frac)*nfiles):]\n",
      "\n",
      "print(\"len(train): \" + str(len(files_train)))\n",
      "print(\"len(val): \" + str(len(files_val)))\n",
      "print(\"len(test): \" + str(len(files_test)))\n",
      "\n",
      "f_train, l_train = make_features_all(files_train, subset=\"labelled\", labels=None, bin_data=True, bin_dt=0.125,\n",
      "                      seg_length=256., overlap=64., bins=30, navg=4)\n",
      "f_val, l_val = make_features_all(files_val, subset=\"labelled\", labels=None, bin_data=True, bin_dt=0.125,\n",
      "                      seg_length=256., overlap=64., bins=30, navg=4)\n",
      "f_test, l_test = make_features_all(files_test, subset=\"labelled\", labels=None, bin_data=True, bin_dt=0.125,\n",
      "                      seg_length=256., overlap=64., bins=30, navg=4)\n"
     ],
     "language": "python",
     "metadata": {},
     "outputs": [
      {
       "output_type": "stream",
       "stream": "stdout",
       "text": [
        "len(train): 853\n",
        "len(val): 426\n",
        "len(test): 427\n",
        "I am on file 0 with filename LC_93701-01-05-01_combined.dat \n",
        "I am on file 1 with filename LC_20187-02-02-00_combined.dat \n",
        "I am on file 2 with filename LC_90024-02-14-00_combined.dat \n",
        "I am on file 3 with filename LC_40703-01-30-01_combined.dat \n",
        "I am on file 4 with filename LC_30402-01-09-00_combined.dat \n",
        "I am on file 5 with filename LC_10408-01-25-00_combined.dat \n",
        "dt_min: 0.00390624999977"
       ]
      },
      {
       "output_type": "stream",
       "stream": "stdout",
       "text": [
        "\n",
        "len(da[0]): 847870\n",
        "len(da[0]): 847870\n",
        "len(da[0]): 651518"
       ]
      },
      {
       "output_type": "stream",
       "stream": "stdout",
       "text": [
        "\n",
        "len(da[0]): 196350\n",
        "Feature shape: (140, 910)"
       ]
      },
      {
       "output_type": "stream",
       "stream": "stdout",
       "text": [
        "\n",
        "I am on file 6 with filename LC_95701-01-40-00_combined.dat \n",
        "I am on file 7 with filename LC_90701-01-35-00_combined.dat \n",
        "I am on file 8 with filename LC_40703-01-42-01_combined.dat \n",
        "I am on file 9 with filename LC_10408-01-19-02_combined.dat \n",
        "dt_min: 0.00390624999977"
       ]
      },
      {
       "output_type": "stream",
       "stream": "stdout",
       "text": [
        "\n",
        "len(da[0]): 549118\n",
        "len(da[0]): 14333\n",
        "len(da[0]): 243454\n",
        "Feature shape: (41, 910)"
       ]
      },
      {
       "output_type": "stream",
       "stream": "stdout",
       "text": [
        "\n",
        "I am on file 10 with filename LC_96701-01-50-00_combined.dat \n",
        "I am on file 11 with filename LC_50703-01-54-00_combined.dat \n",
        "I am on file 12 with filename LC_93701-01-11-02_combined.dat \n",
        "I am on file 13 with filename LC_40115-01-08-01_combined.dat \n",
        "I am on file 14 with filename LC_80701-01-58-00_combined.dat \n",
        "I am on file 15 with filename LC_50405-01-01-00_combined.dat \n",
        "I am on file 16 with filename LC_70702-01-37-00_combined.dat \n",
        "I am on file 17 with filename LC_91701-01-22-00_combined.dat \n",
        "I am on file 18 with filename LC_91412-01-01-00_combined.dat \n",
        "I am on file 19 with filename LC_94701-01-02-00_combined.dat \n",
        "I am on file 20 with filename LC_70702-01-48-01_combined.dat \n",
        "I am on file 21 with filename LC_91701-01-60-01_combined.dat \n",
        "I am on file 22 with filename LC_50703-01-17-01_combined.dat \n",
        "I am on file 23 with filename LC_91701-01-50-00_combined.dat \n",
        "I am on file 24 with filename LC_91701-01-30-00_combined.dat \n",
        "I am on file 25 with filename LC_70702-01-06-00_combined.dat \n",
        "I am on file 26 with filename LC_96701-01-37-00_combined.dat \n",
        "I am on file 27 with filename LC_40403-01-11-00_combined.dat \n",
        "I am on file 28 with filename LC_90412-01-01-00_combined.dat \n",
        "I am on file 29 with filename LC_50703-01-47-03_combined.dat \n",
        "I am on file 30 with filename LC_50703-01-06-00_combined.dat \n",
        "I am on file 31 with filename LC_91701-01-69-00_combined.dat \n",
        "I am on file 32 with filename LC_10408-01-17-01_combined.dat \n",
        "dt_min: 0.00390624999977"
       ]
      },
      {
       "output_type": "stream",
       "stream": "stdout",
       "text": [
        "\n",
        "len(da[0]): 99582\n",
        "len(da[0]): 764670\n",
        "Feature shape: (46, 910)"
       ]
      },
      {
       "output_type": "stream",
       "stream": "stdout",
       "text": [
        "\n",
        "I am on file 33 with filename LC_50703-01-15-02_combined.dat \n",
        "I am on file 34 with filename LC_93701-01-05-00_combined.dat \n",
        "I am on file 35 with filename LC_90105-01-04-01_combined.dat \n",
        "I am on file 36 with filename LC_91701-01-43-00_combined.dat \n",
        "I am on file 37 with filename LC_50703-01-03-01_combined.dat \n",
        "I am on file 38 with filename LC_90701-01-22-00_combined.dat \n",
        "I am on file 39 with filename LC_90701-01-10-01_combined.dat \n",
        "I am on file 40 with filename LC_90701-01-28-01_combined.dat \n",
        "I am on file 41 with filename LC_93701-01-02-01_combined.dat \n",
        "I am on file 42 with filename LC_70702-01-26-01_combined.dat \n",
        "I am on file 43 with filename LC_96701-01-11-00_combined.dat \n",
        "I am on file 44 with filename LC_50703-01-21-02_combined.dat \n",
        "I am on file 45 with filename LC_10258-01-06-00_combined.dat \n",
        "I am on file 46 with filename LC_20402-01-11-00_combined.dat \n",
        "dt_min: 0.00781249999955"
       ]
      },
      {
       "output_type": "stream",
       "stream": "stdout",
       "text": [
        "\n",
        "len(da[0]): 432126\n",
        "len(da[0]): 6141\n",
        "len(da[0]): 401407\n",
        "Feature shape: (94, 910)"
       ]
      },
      {
       "output_type": "stream",
       "stream": "stdout",
       "text": [
        "\n",
        "I am on file 47 with filename LC_60702-01-01-13_combined.dat \n",
        "I am on file 48 with filename LC_50703-01-55-01_combined.dat \n",
        "I am on file 49 with filename LC_80701-01-49-00_combined.dat \n",
        "I am on file 50 with filename LC_20402-01-08-01_combined.dat \n",
        "dt_min: 0.00781249999955"
       ]
      },
      {
       "output_type": "stream",
       "stream": "stdout",
       "text": [
        "\n",
        "len(da[0]): 421887\n",
        "Feature shape: (48, 910)"
       ]
      },
      {
       "output_type": "stream",
       "stream": "stdout",
       "text": [
        "\n",
        "I am on file 51 with filename LC_70702-01-16-00_combined.dat \n",
        "I am on file 52 with filename LC_30182-01-01-00_combined.dat \n",
        "I am on file 53 with filename LC_80701-01-23-02_combined.dat \n",
        "I am on file 54 with filename LC_90701-01-39-00_combined.dat \n",
        "I am on file 55 with filename LC_20402-01-26-01_combined.dat \n",
        "dt_min: 0.0078125"
       ]
      },
      {
       "output_type": "stream",
       "stream": "stdout",
       "text": [
        "\n",
        "len(da[0]): 172031\n",
        "Feature shape: (17, 910)"
       ]
      },
      {
       "output_type": "stream",
       "stream": "stdout",
       "text": [
        "\n",
        "I am on file 56 with filename LC_60701-01-28-00_combined.dat \n",
        "I am on file 57 with filename LC_80701-01-19-01_combined.dat \n",
        "I am on file 58 with filename LC_91701-01-11-00_combined.dat \n",
        "I am on file 59 with filename LC_50703-01-19-01_combined.dat \n",
        "I am on file 60 with filename LC_90105-09-03-01_combined.dat \n",
        "I am on file 61 with filename LC_80701-01-01-01_combined.dat \n",
        "I am on file 62 with filename LC_40703-01-13-00_combined.dat \n",
        "I am on file 63 with filename LC_93701-01-19-00_combined.dat \n",
        "I am on file 64 with filename LC_10408-01-08-00_combined.dat \n",
        "dt_min: 0.00390625"
       ]
      },
      {
       "output_type": "stream",
       "stream": "stdout",
       "text": [
        "\n",
        "len(da[0]): 331774\n",
        "len(da[0]): 94207\n",
        "Feature shape: (19, 910)"
       ]
      },
      {
       "output_type": "stream",
       "stream": "stdout",
       "text": [
        "\n",
        "I am on file 65 with filename LC_50125-01-01-04_combined.dat \n",
        "I am on file 66 with filename LC_60702-01-01-24_combined.dat \n",
        "I am on file 67 with filename LC_40116-01-06-00_combined.dat \n",
        "I am on file 68 with filename LC_92702-01-23-02_combined.dat \n",
        "I am on file 69 with filename LC_10408-01-21-02_combined.dat \n",
        "I am on file 70 with filename LC_70702-01-18-01_combined.dat \n",
        "I am on file 71 with filename LC_70702-01-17-01_combined.dat \n",
        "I am on file 72 with filename LC_80701-01-27-02_combined.dat \n",
        "I am on file 73 with filename LC_90105-01-02-00_combined.dat \n",
        "I am on file 74 with filename LC_40703-01-21-02_combined.dat \n",
        "I am on file 75 with filename LC_70702-01-25-01_combined.dat \n",
        "I am on file 76 with filename LC_91701-01-29-00_combined.dat \n",
        "I am on file 77 with filename LC_95701-01-21-00_combined.dat \n",
        "I am on file 78 with filename LC_94701-01-08-00_combined.dat \n",
        "I am on file 79 with filename LC_10408-01-11-00_combined.dat \n",
        "dt_min: 0.00390625"
       ]
      },
      {
       "output_type": "stream",
       "stream": "stdout",
       "text": [
        "\n",
        "len(da[0]): 323582\n",
        "len(da[0]): 692222\n",
        "len(da[0]): 794622\n",
        "len(da[0]): 847871"
       ]
      },
      {
       "output_type": "stream",
       "stream": "stdout",
       "text": [
        "\n",
        "Feature shape: (148, 910)"
       ]
      },
      {
       "output_type": "stream",
       "stream": "stdout",
       "text": [
        "\n",
        "I am on file 80 with filename LC_20402-01-41-03_combined.dat \n",
        "dt_min: 0.00781249999989"
       ]
      },
      {
       "output_type": "stream",
       "stream": "stdout",
       "text": [
        "\n",
        "len(da[0]): 171519\n",
        "Feature shape: (17, 910)"
       ]
      },
      {
       "output_type": "stream",
       "stream": "stdout",
       "text": [
        "\n",
        "I am on file 81 with filename LC_90024-02-32-00_combined.dat \n",
        "I am on file 82 with filename LC_30703-01-17-00_combined.dat \n",
        "I am on file 83 with filename LC_90105-03-02-03_combined.dat \n",
        "I am on file 84 with filename LC_40116-01-02-01_combined.dat \n",
        "I am on file 85 with filename LC_93701-01-30-00_combined.dat \n",
        "I am on file 86 with filename LC_20402-01-51-00_combined.dat \n",
        "dt_min: 0.00781249999955"
       ]
      },
      {
       "output_type": "stream",
       "stream": "stdout",
       "text": [
        "\n",
        "len(da[0]): 129022\n",
        "len(da[0]): 389118\n",
        "len(da[0]): 335870\n",
        "len(da[0]): 201597\n",
        "len(da[0]): 85119\n",
        "Feature shape: (121, 910)"
       ]
      },
      {
       "output_type": "stream",
       "stream": "stdout",
       "text": [
        "\n",
        "I am on file 87 with filename LC_80701-01-59-02_combined.dat \n",
        "I am on file 88 with filename LC_95701-01-09-00_combined.dat \n",
        "I am on file 89 with filename LC_70702-01-46-00_combined.dat \n",
        "I am on file 90 with filename LC_95701-01-48-00_combined.dat \n",
        "I am on file 91 with filename LC_94701-01-18-00_combined.dat \n",
        "I am on file 92 with filename LC_93411-01-03-04_combined.dat \n",
        "I am on file 93 with filename LC_94701-01-06-01_combined.dat \n",
        "I am on file 94 with filename LC_80701-01-04-00_combined.dat \n",
        "I am on file 95 with filename LC_91701-01-34-00_combined.dat \n",
        "I am on file 96 with filename LC_60701-01-03-01_combined.dat \n",
        "I am on file 97 with filename LC_90701-01-40-01_combined.dat \n",
        "I am on file 98 with filename LC_30182-01-04-01_combined.dat \n",
        "I am on file 99 with filename LC_90108-01-05-00_combined.dat \n",
        "I am on file 100 with filename LC_70702-01-39-00_combined.dat \n",
        "I am on file 101 with filename LC_10408-01-15-02_combined.dat \n",
        "dt_min: 0.00390624999977"
       ]
      },
      {
       "output_type": "stream",
       "stream": "stdout",
       "text": [
        "\n",
        "len(da[0]): 622591\n",
        "Feature shape: (34, 910)"
       ]
      },
      {
       "output_type": "stream",
       "stream": "stdout",
       "text": [
        "\n",
        "I am on file 102 with filename LC_93701-01-07-00_combined.dat \n",
        "I am on file 103 with filename LC_91701-01-40-00_combined.dat \n",
        "I am on file 104 with filename LC_96701-01-51-00_combined.dat \n",
        "I am on file 105 with filename LC_91701-01-57-00_combined.dat \n",
        "I am on file 106 with filename LC_40116-01-01-00_combined.dat \n",
        "I am on file 107 with filename LC_40703-01-41-04_combined.dat \n",
        "I am on file 108 with filename LC_92702-01-29-00_combined.dat \n",
        "I am on file 109 with filename LC_60701-01-08-00_combined.dat \n",
        "I am on file 110 with filename LC_20402-01-31-00_combined.dat \n",
        "dt_min: 0.00781249999955"
       ]
      },
      {
       "output_type": "stream",
       "stream": "stdout",
       "text": [
        "\n",
        "len(da[0]): 333054\n",
        "len(da[0]): 409599\n",
        "Feature shape: (83, 910)"
       ]
      },
      {
       "output_type": "stream",
       "stream": "stdout",
       "text": [
        "\n",
        "I am on file 111 with filename LC_30703-01-12-00_combined.dat \n",
        "I am on file 112 with filename LC_96701-01-16-01_combined.dat \n",
        "I am on file 113 with filename LC_70702-01-53-00_combined.dat \n",
        "I am on file 114 with filename LC_96701-01-19-00_combined.dat \n",
        "I am on file 115 with filename LC_40116-01-07-01_combined.dat \n",
        "I am on file 116 with filename LC_50703-01-24-00_combined.dat \n",
        "I am on file 117 with filename LC_70703-01-01-08_combined.dat \n",
        "I am on file 118 with filename LC_40703-01-17-01_combined.dat \n",
        "I am on file 119 with filename LC_50703-01-56-00_combined.dat \n",
        "I am on file 120 with filename LC_30703-01-26-00_combined.dat \n",
        "I am on file 121 with filename LC_91701-01-85-00_combined.dat \n",
        "I am on file 122 with filename LC_80701-01-49-01_combined.dat \n",
        "I am on file 123 with filename LC_90024-02-09-00_combined.dat \n",
        "I am on file 124 with filename LC_20402-01-32-01_combined.dat \n",
        "dt_min: 0.0078125"
       ]
      },
      {
       "output_type": "stream",
       "stream": "stdout",
       "text": [
        "\n",
        "len(da[0]): 223231\n",
        "Feature shape: (24, 910)"
       ]
      },
      {
       "output_type": "stream",
       "stream": "stdout",
       "text": [
        "\n",
        "I am on file 125 with filename LC_40115-01-03-00_combined.dat \n",
        "I am on file 126 with filename LC_91701-01-02-01_combined.dat \n",
        "I am on file 127 with filename LC_50703-01-43-00_combined.dat \n",
        "I am on file 128 with filename LC_60701-01-06-03_combined.dat \n",
        "I am on file 129 with filename LC_40115-01-06-01_combined.dat \n",
        "I am on file 130 with filename LC_91701-01-53-02_combined.dat \n",
        "I am on file 131 with filename LC_50703-01-57-00_combined.dat \n",
        "I am on file 132 with filename LC_80701-01-59-01_combined.dat \n",
        "I am on file 133 with filename LC_10408-01-15-01_combined.dat \n",
        "dt_min: 0.00390624999977"
       ]
      },
      {
       "output_type": "stream",
       "stream": "stdout",
       "text": [
        "\n",
        "len(da[0]): 626687\n",
        "Feature shape: (35, 910)"
       ]
      },
      {
       "output_type": "stream",
       "stream": "stdout",
       "text": [
        "\n",
        "I am on file 134 with filename LC_50703-01-50-00_combined.dat \n",
        "I am on file 135 with filename LC_91701-01-36-01_combined.dat \n",
        "I am on file 136 with filename LC_90024-02-39-00_combined.dat \n",
        "I am on file 137 with filename LC_50703-01-32-00_combined.dat \n",
        "I am on file 138 with filename LC_40116-01-02-06_combined.dat \n",
        "I am on file 139 with filename LC_96701-01-33-00_combined.dat \n",
        "I am on file 140 with filename LC_94701-01-23-00_combined.dat \n",
        "I am on file 141 with filename LC_10408-01-42-00_combined.dat \n",
        "dt_min: 0.00390624999977"
       ]
      },
      {
       "output_type": "stream",
       "stream": "stdout",
       "text": [
        "\n",
        "len(da[0]): 847870\n",
        "len(da[0]): 847871\n",
        "Feature shape: (96, 910)"
       ]
      },
      {
       "output_type": "stream",
       "stream": "stdout",
       "text": [
        "\n",
        "I am on file 142 with filename LC_20186-03-02-04_combined.dat \n",
        "I am on file 143 with filename LC_91701-01-10-00_combined.dat \n",
        "I am on file 144 with filename LC_60701-01-19-01_combined.dat \n",
        "I am on file 145 with filename LC_92702-01-32-00_combined.dat \n",
        "I am on file 146 with filename LC_90105-02-01-00_combined.dat \n",
        "I am on file 147 with filename LC_80701-01-13-03_combined.dat \n",
        "I am on file 148 with filename LC_96701-01-26-00_combined.dat \n",
        "I am on file 149 with filename LC_80701-01-47-00_combined.dat \n",
        "I am on file 150 with filename LC_60701-01-12-03_combined.dat \n",
        "I am on file 151 with filename LC_80701-01-15-00_combined.dat \n",
        "I am on file 152 with filename LC_50703-01-09-01_combined.dat \n",
        "I am on file 153 with filename LC_40403-01-04-00_combined.dat \n",
        "I am on file 154 with filename LC_90024-02-29-00_combined.dat \n",
        "I am on file 155 with filename LC_91701-01-23-01_combined.dat \n",
        "I am on file 156 with filename LC_80127-04-03-00_combined.dat \n",
        "I am on file 157 with filename LC_60405-01-02-00_combined.dat \n",
        "I am on file 158 with filename LC_95701-01-49-00_combined.dat \n",
        "I am on file 159 with filename LC_80127-05-03-00_combined.dat \n",
        "I am on file 160 with filename LC_91701-01-08-01_combined.dat \n",
        "I am on file 161 with filename LC_30703-01-09-01_combined.dat \n",
        "I am on file 162 with filename LC_80701-01-11-01_combined.dat \n",
        "I am on file 163 with filename LC_60702-01-01-03_combined.dat \n",
        "I am on file 164 with filename LC_50703-01-60-02_combined.dat \n",
        "I am on file 165 with filename LC_92702-01-10-00_combined.dat \n",
        "I am on file 166 with filename LC_60702-01-01-08_combined.dat \n",
        "I am on file 167 with filename LC_92702-01-31-01_combined.dat \n",
        "I am on file 168 with filename LC_80701-01-43-02_combined.dat \n",
        "I am on file 169 with filename LC_90024-02-07-00_combined.dat \n",
        "I am on file 170 with filename LC_40703-01-39-02_combined.dat \n",
        "I am on file 171 with filename LC_90024-02-40-01_combined.dat \n",
        "I am on file 172 with filename LC_30183-02-02-02_combined.dat \n",
        "I am on file 173 with filename LC_94701-01-01-01_combined.dat \n",
        "I am on file 174 with filename LC_50703-01-62-00_combined.dat \n",
        "I am on file 175 with filename LC_80188-01-01-01_combined.dat \n",
        "I am on file 176 with filename LC_92702-01-27-02_combined.dat \n",
        "I am on file 177 with filename LC_70702-01-09-00_combined.dat \n",
        "I am on file 178 with filename LC_30182-01-03-00_combined.dat \n",
        "I am on file 179 with filename LC_40115-01-09-00_combined.dat \n",
        "I am on file 180 with filename LC_80127-01-01-00_combined.dat \n",
        "I am on file 181 with filename LC_70702-01-52-00_combined.dat \n",
        "I am on file 182 with filename LC_10408-01-21-00_combined.dat \n",
        "dt_min: 0.00390625"
       ]
      },
      {
       "output_type": "stream",
       "stream": "stdout",
       "text": [
        "\n",
        "len(da[0]): 421375\n",
        "Feature shape: (22, 910)"
       ]
      },
      {
       "output_type": "stream",
       "stream": "stdout",
       "text": [
        "\n",
        "I am on file 183 with filename LC_30703-01-41-00_combined.dat \n",
        "I am on file 184 with filename LC_91701-01-81-01_combined.dat \n",
        "I am on file 185 with filename LC_93701-01-42-00_combined.dat \n",
        "I am on file 186 with filename LC_92702-01-07-01_combined.dat \n",
        "I am on file 187 with filename LC_93701-01-11-01_combined.dat \n",
        "I am on file 188 with filename LC_50703-01-66-00_combined.dat \n",
        "I am on file 189 with filename LC_93701-01-31-00_combined.dat \n",
        "I am on file 190 with filename LC_40703-01-29-02_combined.dat \n",
        "I am on file 191 with filename LC_94701-01-55-02_combined.dat \n",
        "I am on file 192 with filename LC_80701-01-13-01_combined.dat \n",
        "I am on file 193 with filename LC_20402-01-40-00_combined.dat \n",
        "dt_min: 0.00781249999989"
       ]
      },
      {
       "output_type": "stream",
       "stream": "stdout",
       "text": [
        "\n",
        "len(da[0]): 148991\n",
        "Feature shape: (15, 910)"
       ]
      },
      {
       "output_type": "stream",
       "stream": "stdout",
       "text": [
        "\n",
        "I am on file 194 with filename LC_30183-02-01-00_combined.dat \n",
        "I am on file 195 with filename LC_90105-02-05-00_combined.dat \n",
        "I am on file 196 with filename LC_93701-01-08-00_combined.dat \n",
        "I am on file 197 with filename LC_40703-01-08-00_combined.dat \n",
        "I am on file 198 with filename LC_70702-01-05-03_combined.dat \n",
        "I am on file 199 with filename LC_50703-01-14-02_combined.dat \n",
        "I am on file 200 with filename LC_92702-01-17-00_combined.dat \n",
        "I am on file 201 with filename LC_93411-01-01-01_combined.dat \n",
        "I am on file 202 with filename LC_90701-01-37-01_combined.dat \n",
        "I am on file 203 with filename LC_95701-01-08-00_combined.dat \n",
        "I am on file 204 with filename LC_96701-01-24-01_combined.dat \n",
        "I am on file 205 with filename LC_50703-01-49-00_combined.dat \n",
        "I am on file 206 with filename LC_96701-01-42-00_combined.dat \n",
        "I am on file 207 with filename LC_50703-01-53-01_combined.dat \n",
        "I am on file 208 with filename LC_50405-01-02-00_combined.dat \n",
        "I am on file 209 with filename LC_92082-03-01-00_combined.dat \n",
        "I am on file 210 with filename LC_70702-01-35-00_combined.dat \n",
        "I am on file 211 with filename LC_20402-01-45-03_combined.dat \n",
        "dt_min: 0.00781249999818"
       ]
      },
      {
       "output_type": "stream",
       "stream": "stdout",
       "text": [
        "\n",
        "len(da[0]): 413694\n",
        "len(da[0]): 419838\n",
        "len(da[0]): 246909\n",
        "len(da[0]): 159741\n",
        "len(da[0]): 13182\n",
        "len(da[0]): 71679\n",
        "Feature shape: (143, 910)"
       ]
      },
      {
       "output_type": "stream",
       "stream": "stdout",
       "text": [
        "\n",
        "I am on file 212 with filename LC_50405-01-03-00_combined.dat \n",
        "I am on file 213 with filename LC_96701-01-08-01_combined.dat \n",
        "I am on file 214 with filename LC_10258-01-05-00_combined.dat \n",
        "I am on file 215 with filename LC_90024-02-37-00_combined.dat \n",
        "I am on file 216 with filename LC_10408-01-14-00_combined.dat \n",
        "dt_min: 0.00390625"
       ]
      },
      {
       "output_type": "stream",
       "stream": "stdout",
       "text": [
        "\n",
        "len(da[0]): 315390\n",
        "len(da[0]): 157695\n",
        "Feature shape: (22, 910)"
       ]
      },
      {
       "output_type": "stream",
       "stream": "stdout",
       "text": [
        "\n",
        "I am on file 217 with filename LC_92702-01-01-01_combined.dat \n",
        "I am on file 218 with filename LC_10408-01-18-00_combined.dat \n",
        "I am on file 219 with filename LC_20402-01-46-00_combined.dat \n",
        "dt_min: 0.00781249999955"
       ]
      },
      {
       "output_type": "stream",
       "stream": "stdout",
       "text": [
        "\n",
        "len(da[0]): 34814\n",
        "len(da[0]): 405502\n",
        "len(da[0]): 374782\n",
        "len(da[0]): 260093\n",
        "len(da[0]): 65535\n",
        "Feature shape: (121, 910)"
       ]
      },
      {
       "output_type": "stream",
       "stream": "stdout",
       "text": [
        "\n",
        "I am on file 220 with filename LC_91701-01-14-00_combined.dat \n",
        "I am on file 221 with filename LC_30703-01-30-01_combined.dat \n",
        "I am on file 222 with filename LC_50703-01-61-00_combined.dat \n",
        "I am on file 223 with filename LC_91701-01-67-00_combined.dat \n",
        "I am on file 224 with filename LC_90701-01-36-02_combined.dat \n",
        "I am on file 225 with filename LC_20402-01-60-00_combined.dat \n",
        "I am on file 226 with filename LC_96701-01-01-01_combined.dat \n",
        "I am on file 227 with filename LC_95701-01-37-00_combined.dat \n",
        "I am on file 228 with filename LC_93411-01-03-02_combined.dat \n",
        "I am on file 229 with filename LC_20402-01-24-01_combined.dat \n",
        "dt_min: 0.0078125"
       ]
      },
      {
       "output_type": "stream",
       "stream": "stdout",
       "text": [
        "\n",
        "len(da[0]): 13310\n",
        "len(da[0]): 4093\n",
        "len(da[0]): 53247\n",
        "Feature shape: (3, 910)\n",
        "I am on file 230 with filename LC_40703-01-38-02_combined.dat \n",
        "I am on file 231 with filename LC_50703-01-34-02_combined.dat \n",
        "I am on file 232 with filename LC_90701-01-14-01_combined.dat \n",
        "I am on file 233 with filename LC_20402-01-36-00_combined.dat \n",
        "dt_min: 0.00781249999818"
       ]
      },
      {
       "output_type": "stream",
       "stream": "stdout",
       "text": [
        "\n",
        "len(da[0]): 380926\n",
        "len(da[0]): 325631\n",
        "Feature shape: (79, 910)"
       ]
      },
      {
       "output_type": "stream",
       "stream": "stdout",
       "text": [
        "\n",
        "I am on file 234 with filename LC_91701-01-08-00_combined.dat \n",
        "I am on file 235 with filename LC_80701-01-11-00_combined.dat \n",
        "I am on file 236 with filename LC_20402-01-13-00_combined.dat \n",
        "dt_min: 0.00781249999955"
       ]
      },
      {
       "output_type": "stream",
       "stream": "stdout",
       "text": [
        "\n",
        "len(da[0]): 272894\n",
        "len(da[0]): 140797\n",
        "len(da[0]): 8189\n",
        "len(da[0]): 158206\n",
        "len(da[0]): 265725\n",
        "len(da[0]): 298494\n",
        "len(da[0]): 45565\n",
        "len(da[0]): 49151\n",
        "Feature shape: (126, 910)"
       ]
      },
      {
       "output_type": "stream",
       "stream": "stdout",
       "text": [
        "\n",
        "I am on file 237 with filename LC_93411-01-02-02_combined.dat \n",
        "I am on file 238 with filename LC_20187-02-01-01_combined.dat \n",
        "dt_min: 0.0078125"
       ]
      },
      {
       "output_type": "stream",
       "stream": "stdout",
       "text": [
        "\n",
        "len(da[0]): 194558\n",
        "len(da[0]): 347390\n",
        "len(da[0]): 51965\n",
        "len(da[0]): 114686\n",
        "len(da[0]): 161791\n",
        "Feature shape: (88, 910)"
       ]
      },
      {
       "output_type": "stream",
       "stream": "stdout",
       "text": [
        "\n",
        "I am on file 239 with filename LC_70702-01-41-00_combined.dat \n",
        "I am on file 240 with filename LC_94701-01-48-00_combined.dat \n",
        "I am on file 241 with filename LC_80127-05-05-01_combined.dat \n",
        "I am on file 242 with filename LC_70702-01-50-00_combined.dat \n",
        "I am on file 243 with filename LC_10408-01-17-03_combined.dat \n",
        "dt_min: 0.00390625"
       ]
      },
      {
       "output_type": "stream",
       "stream": "stdout",
       "text": [
        "\n",
        "len(da[0]): 65534\n",
        "len(da[0]): 10237\n",
        "len(da[0]): 225278\n",
        "len(da[0]): 184319\n",
        "Feature shape: (18, 910)"
       ]
      },
      {
       "output_type": "stream",
       "stream": "stdout",
       "text": [
        "\n",
        "I am on file 244 with filename LC_96701-01-17-01_combined.dat \n",
        "I am on file 245 with filename LC_60701-01-33-00_combined.dat \n",
        "I am on file 246 with filename LC_20187-02-04-00_combined.dat \n",
        "I am on file 247 with filename LC_50703-01-13-01_combined.dat \n",
        "I am on file 248 with filename LC_70703-01-01-10_combined.dat \n",
        "I am on file 249 with filename LC_60702-01-01-11_combined.dat \n",
        "I am on file 250 with filename LC_93701-01-25-00_combined.dat \n",
        "I am on file 251 with filename LC_91701-01-52-02_combined.dat \n",
        "I am on file 252 with filename LC_70702-01-40-01_combined.dat \n",
        "I am on file 253 with filename LC_90024-02-18-00_combined.dat \n",
        "I am on file 254 with filename LC_90105-08-03-00_combined.dat \n",
        "I am on file 255 with filename LC_94701-01-22-00_combined.dat \n",
        "I am on file 256 with filename LC_40703-01-41-05_combined.dat \n",
        "I am on file 257 with filename LC_90105-09-07-00_combined.dat \n",
        "I am on file 258 with filename LC_60701-01-11-00_combined.dat \n",
        "I am on file 259 with filename LC_91701-01-44-01_combined.dat \n",
        "I am on file 260 with filename LC_80127-05-04-00_combined.dat \n",
        "I am on file 261 with filename LC_94701-01-06-00_combined.dat \n",
        "I am on file 262 with filename LC_96701-01-45-00_combined.dat \n",
        "I am on file 263 with filename LC_30402-01-10-00_combined.dat \n",
        "I am on file 264 with filename LC_50125-01-01-00_combined.dat \n",
        "I am on file 265 with filename LC_50703-01-19-03_combined.dat \n",
        "I am on file 266 with filename LC_20186-03-01-01_combined.dat \n",
        "I am on file 267 with filename LC_60100-01-01-01_combined.dat \n",
        "I am on file 268 with filename LC_40703-01-16-00_combined.dat \n",
        "I am on file 269 with filename LC_40116-01-02-00_combined.dat \n",
        "I am on file 270 with filename LC_40703-01-18-00_combined.dat \n",
        "I am on file 271 with filename LC_40703-01-07-00_combined.dat \n",
        "I am on file 272 with filename LC_10263-01-01-00_combined.dat \n",
        "I am on file 273 with filename LC_10408-01-14-02_combined.dat \n",
        "dt_min: 0.00390625"
       ]
      },
      {
       "output_type": "stream",
       "stream": "stdout",
       "text": [
        "\n",
        "len(da[0]): 270335\n",
        "Feature shape: (13, 910)"
       ]
      },
      {
       "output_type": "stream",
       "stream": "stdout",
       "text": [
        "\n",
        "I am on file 274 with filename LC_90701-01-09-01_combined.dat \n",
        "I am on file 275 with filename LC_20402-01-59-00_combined.dat \n",
        "I am on file 276 with filename LC_40116-01-02-07_combined.dat \n",
        "I am on file 277 with filename LC_20402-01-26-00_combined.dat \n",
        "I am on file 278 with filename LC_30402-01-17-00_combined.dat \n",
        "I am on file 279 with filename LC_20402-01-45-01_combined.dat \n",
        "dt_min: 0.00781249999989"
       ]
      },
      {
       "output_type": "stream",
       "stream": "stdout",
       "text": [
        "\n",
        "len(da[0]): 229374\n",
        "len(da[0]): 104446\n",
        "len(da[0]): 104447\n",
        "Feature shape: (42, 910)"
       ]
      },
      {
       "output_type": "stream",
       "stream": "stdout",
       "text": [
        "\n",
        "I am on file 280 with filename LC_60701-01-04-00_combined.dat \n",
        "I am on file 281 with filename LC_50703-01-03-02_combined.dat \n",
        "I am on file 282 with filename LC_20402-01-52-01_combined.dat \n",
        "dt_min: 0.00781249999989"
       ]
      },
      {
       "output_type": "stream",
       "stream": "stdout",
       "text": [
        "\n",
        "len(da[0]): 245759\n",
        "Feature shape: (26, 910)"
       ]
      },
      {
       "output_type": "stream",
       "stream": "stdout",
       "text": [
        "\n",
        "I am on file 283 with filename LC_60405-01-04-03_combined.dat \n",
        "I am on file 284 with filename LC_60701-01-10-00_combined.dat \n",
        "I am on file 285 with filename LC_60701-01-13-02_combined.dat \n",
        "I am on file 286 with filename LC_93701-01-15-00_combined.dat \n",
        "I am on file 287 with filename LC_95701-01-03-01_combined.dat \n",
        "I am on file 288 with filename LC_90105-09-08-00_combined.dat \n",
        "I am on file 289 with filename LC_92092-02-01-01_combined.dat \n",
        "I am on file 290 with filename LC_90024-02-05-00_combined.dat \n",
        "I am on file 291 with filename LC_30402-01-12-03_combined.dat \n",
        "I am on file 292 with filename LC_10408-01-12-00_combined.dat \n",
        "dt_min: 0.00390625"
       ]
      },
      {
       "output_type": "stream",
       "stream": "stdout",
       "text": [
        "\n",
        "len(da[0]): 285182\n",
        "len(da[0]): 720894\n",
        "len(da[0]): 827390\n",
        "len(da[0]): 847871"
       ]
      },
      {
       "output_type": "stream",
       "stream": "stdout",
       "text": [
        "\n",
        "Feature shape: (149, 910)"
       ]
      },
      {
       "output_type": "stream",
       "stream": "stdout",
       "text": [
        "\n",
        "I am on file 293 with filename LC_94701-01-60-01_combined.dat \n",
        "I am on file 294 with filename LC_80701-01-18-01_combined.dat \n",
        "I am on file 295 with filename LC_80701-01-19-03_combined.dat \n",
        "I am on file 296 with filename LC_70702-01-22-00_combined.dat \n",
        "I am on file 297 with filename LC_10408-01-16-03_combined.dat \n",
        "dt_min: 0.00390624999977"
       ]
      },
      {
       "output_type": "stream",
       "stream": "stdout",
       "text": [
        "\n",
        "len(da[0]): 606207\n",
        "Feature shape: (33, 910)"
       ]
      },
      {
       "output_type": "stream",
       "stream": "stdout",
       "text": [
        "\n",
        "I am on file 298 with filename LC_90701-01-44-00_combined.dat \n",
        "I am on file 299 with filename LC_50125-01-02-00_combined.dat \n",
        "I am on file 300 with filename LC_20402-01-41-02_combined.dat \n",
        "I am on file 301 with filename LC_20402-01-37-01_combined.dat \n",
        "dt_min: 0.00781249999818"
       ]
      },
      {
       "output_type": "stream",
       "stream": "stdout",
       "text": [
        "\n",
        "len(da[0]): 423934\n",
        "len(da[0]): 271485\n",
        "len(da[0]): 150399\n",
        "Feature shape: (93, 910)"
       ]
      },
      {
       "output_type": "stream",
       "stream": "stdout",
       "text": [
        "\n",
        "I am on file 302 with filename LC_40703-01-50-00_combined.dat \n",
        "I am on file 303 with filename LC_93701-01-17-00_combined.dat \n",
        "I am on file 304 with filename LC_90108-01-04-00_combined.dat \n",
        "I am on file 305 with filename LC_10408-01-06-00_combined.dat \n",
        "I am on file 306 with filename LC_40703-01-34-00_combined.dat \n",
        "I am on file 307 with filename LC_40116-01-01-05_combined.dat \n",
        "I am on file 308 with filename LC_95701-01-15-00_combined.dat \n",
        "I am on file 309 with filename LC_94701-01-47-00_combined.dat \n",
        "I am on file 310 with filename LC_91701-01-83-02_combined.dat \n",
        "I am on file 311 with filename LC_40115-01-05-00_combined.dat \n",
        "I am on file 312 with filename LC_40703-01-23-00_combined.dat \n",
        "I am on file 313 with filename LC_20402-01-43-00_combined.dat \n",
        "I am on file 314 with filename LC_40703-01-49-02_combined.dat \n",
        "I am on file 315 with filename LC_92702-01-21-02_combined.dat \n",
        "I am on file 316 with filename LC_10408-01-20-00_combined.dat \n",
        "dt_min: 0.00390624999977"
       ]
      },
      {
       "output_type": "stream",
       "stream": "stdout",
       "text": [
        "\n",
        "len(da[0]): 626686\n",
        "len(da[0]): 221182\n",
        "Feature shape: (45, 910)"
       ]
      },
      {
       "output_type": "stream",
       "stream": "stdout",
       "text": [
        "\n",
        "I am on file 317 with filename LC_90701-01-20-00_combined.dat \n",
        "I am on file 318 with filename LC_80701-01-62-01_combined.dat \n",
        "I am on file 319 with filename LC_40703-01-01-00_combined.dat \n",
        "I am on file 320 with filename LC_20402-01-21-01_combined.dat \n",
        "dt_min: 0.00781249999955"
       ]
      },
      {
       "output_type": "stream",
       "stream": "stdout",
       "text": [
        "\n",
        "len(da[0]): 309374\n",
        "len(da[0]): 89982\n",
        "Feature shape: (41, 910)"
       ]
      },
      {
       "output_type": "stream",
       "stream": "stdout",
       "text": [
        "\n",
        "I am on file 321 with filename LC_40115-01-02-00_combined.dat \n",
        "I am on file 322 with filename LC_70702-01-12-00_combined.dat \n",
        "I am on file 323 with filename LC_20402-01-27-03_combined.dat \n",
        "dt_min: 0.0078125"
       ]
      },
      {
       "output_type": "stream",
       "stream": "stdout",
       "text": [
        "\n",
        "len(da[0]): 141311\n",
        "Feature shape: (14, 910)"
       ]
      },
      {
       "output_type": "stream",
       "stream": "stdout",
       "text": [
        "\n",
        "I am on file 324 with filename LC_40703-01-33-00_combined.dat \n",
        "I am on file 325 with filename LC_94701-01-26-01_combined.dat \n",
        "I am on file 326 with filename LC_95701-01-34-00_combined.dat \n",
        "I am on file 327 with filename LC_30703-01-21-00_combined.dat \n",
        "I am on file 328 with filename LC_92702-01-22-00_combined.dat \n",
        "I am on file 329 with filename LC_50703-01-62-01_combined.dat \n",
        "I am on file 330 with filename LC_40703-01-41-01_combined.dat \n",
        "I am on file 331 with filename LC_96701-01-22-00_combined.dat \n",
        "I am on file 332 with filename LC_40403-01-08-00_combined.dat \n",
        "I am on file 333 with filename LC_50703-01-41-02_combined.dat \n",
        "I am on file 334 with filename LC_91701-01-10-01_combined.dat \n",
        "I am on file 335 with filename LC_40703-01-45-01_combined.dat \n",
        "I am on file 336 with filename LC_10408-01-13-00_combined.dat \n",
        "I am on file 337 with filename LC_40116-01-01-07_combined.dat \n",
        "I am on file 338 with filename LC_50703-01-11-03_combined.dat \n",
        "I am on file 339 with filename LC_40703-01-30-02_combined.dat \n",
        "I am on file 340 with filename LC_91701-01-82-00_combined.dat \n",
        "I am on file 341 with filename LC_40703-01-34-02_combined.dat \n",
        "I am on file 342 with filename LC_95701-01-46-00_combined.dat \n",
        "I am on file 343 with filename LC_92702-01-26-01_combined.dat \n",
        "I am on file 344 with filename LC_20186-03-02-00_combined.dat \n",
        "I am on file 345 with filename LC_40703-01-43-00_combined.dat \n",
        "I am on file 346 with filename LC_50703-01-02-00_combined.dat \n",
        "I am on file 347 with filename LC_93701-01-34-00_combined.dat \n",
        "I am on file 348 with filename LC_30402-01-18-00_combined.dat \n",
        "I am on file 349 with filename LC_91701-01-45-00_combined.dat \n",
        "I am on file 350 with filename LC_50125-01-01-01_combined.dat \n",
        "I am on file 351 with filename LC_30703-01-32-00_combined.dat \n",
        "I am on file 352 with filename LC_60702-01-01-18_combined.dat \n",
        "I am on file 353 with filename LC_60405-01-04-06_combined.dat \n",
        "I am on file 354 with filename LC_80127-04-01-02_combined.dat \n",
        "I am on file 355 with filename LC_96701-01-15-01_combined.dat \n",
        "I am on file 356 with filename LC_91701-01-69-01_combined.dat \n",
        "I am on file 357 with filename LC_50703-01-39-00_combined.dat \n",
        "I am on file 358 with filename LC_93701-01-39-00_combined.dat \n",
        "I am on file 359 with filename LC_90701-01-37-00_combined.dat \n",
        "I am on file 360 with filename LC_80127-01-03-00_combined.dat \n",
        "I am on file 361 with filename LC_96701-01-43-01_combined.dat \n",
        "I am on file 362 with filename LC_80701-01-18-00_combined.dat \n",
        "I am on file 363 with filename LC_80701-01-21-00_combined.dat \n",
        "I am on file 364 with filename LC_20402-01-22-00_combined.dat \n",
        "dt_min: 0.0078125"
       ]
      },
      {
       "output_type": "stream",
       "stream": "stdout",
       "text": [
        "\n",
        "len(da[0]): 212990\n",
        "len(da[0]): 229375\n",
        "Feature shape: (46, 910)"
       ]
      },
      {
       "output_type": "stream",
       "stream": "stdout",
       "text": [
        "\n",
        "I am on file 365 with filename LC_90105-06-01-00_combined.dat \n",
        "I am on file 366 with filename LC_50703-01-15-00_combined.dat \n",
        "I am on file 367 with filename LC_30402-01-15-00_combined.dat \n",
        "I am on file 368 with filename LC_96378-01-01-01_combined.dat \n",
        "I am on file 369 with filename LC_90105-02-07-00_combined.dat \n",
        "I am on file 370 with filename LC_30703-01-22-00_combined.dat \n",
        "I am on file 371 with filename LC_93701-01-04-01_combined.dat \n",
        "I am on file 372 with filename LC_93701-01-19-01_combined.dat \n",
        "I am on file 373 with filename LC_90105-02-01-01_combined.dat \n",
        "I am on file 374 with filename LC_60701-01-07-01_combined.dat \n",
        "I am on file 375 with filename LC_94701-01-57-01_combined.dat \n",
        "I am on file 376 with filename LC_40703-01-46-00_combined.dat \n",
        "I am on file 377 with filename LC_80701-01-54-01_combined.dat \n",
        "I am on file 378 with filename LC_90105-02-06-00_combined.dat \n",
        "I am on file 379 with filename LC_60405-01-04-08_combined.dat \n",
        "I am on file 380 with filename LC_95701-01-44-01_combined.dat \n",
        "I am on file 381 with filename LC_60405-01-04-07_combined.dat \n",
        "I am on file 382 with filename LC_93701-01-36-00_combined.dat \n",
        "I am on file 383 with filename LC_70702-01-54-01_combined.dat \n",
        "I am on file 384 with filename LC_96701-01-01-00_combined.dat \n",
        "I am on file 385 with filename LC_80701-01-36-00_combined.dat \n",
        "I am on file 386 with filename LC_92702-01-05-00_combined.dat \n",
        "I am on file 387 with filename LC_95701-01-22-00_combined.dat \n",
        "I am on file 388 with filename LC_50703-01-18-03_combined.dat \n",
        "I am on file 389 with filename LC_30703-01-20-00_combined.dat \n",
        "I am on file 390 with filename LC_94701-01-05-02_combined.dat \n",
        "I am on file 391 with filename LC_20402-01-25-00_combined.dat \n",
        "dt_min: 0.0078125"
       ]
      },
      {
       "output_type": "stream",
       "stream": "stdout",
       "text": [
        "\n",
        "len(da[0]): 206846\n",
        "len(da[0]): 237566\n",
        "len(da[0]): 298111\n",
        "Feature shape: (80, 910)"
       ]
      },
      {
       "output_type": "stream",
       "stream": "stdout",
       "text": [
        "\n",
        "I am on file 392 with filename LC_40116-01-07-00_combined.dat \n",
        "I am on file 393 with filename LC_30402-01-14-00_combined.dat \n",
        "I am on file 394 with filename LC_80701-01-26-00_combined.dat \n",
        "I am on file 395 with filename LC_80701-01-14-01_combined.dat \n",
        "I am on file 396 with filename LC_30703-01-24-01_combined.dat \n",
        "I am on file 397 with filename LC_50703-01-28-01_combined.dat \n",
        "I am on file 398 with filename LC_90701-01-19-00_combined.dat \n",
        "I am on file 399 with filename LC_91701-01-04-00_combined.dat \n",
        "I am on file 400 with filename LC_70702-01-04-02_combined.dat \n",
        "I am on file 401 with filename LC_20402-01-39-00_combined.dat \n",
        "dt_min: 0.00781249999818"
       ]
      },
      {
       "output_type": "stream",
       "stream": "stdout",
       "text": [
        "\n",
        "len(da[0]): 407550\n",
        "len(da[0]): 67581\n",
        "len(da[0]): 102398\n",
        "len(da[0]): 219135\n",
        "Feature shape: (83, 910)"
       ]
      },
      {
       "output_type": "stream",
       "stream": "stdout",
       "text": [
        "\n",
        "I am on file 402 with filename LC_90105-08-01-00_combined.dat \n",
        "I am on file 403 with filename LC_60702-01-01-27_combined.dat \n",
        "I am on file 404 with filename LC_92702-01-30-00_combined.dat \n",
        "I am on file 405 with filename LC_40116-01-03-00_combined.dat \n",
        "I am on file 406 with filename LC_70702-01-12-02_combined.dat \n",
        "I am on file 407 with filename LC_95701-01-01-00_combined.dat \n",
        "I am on file 408 with filename LC_30402-01-19-00_combined.dat \n",
        "I am on file 409 with filename LC_92702-01-01-00_combined.dat \n",
        "I am on file 410 with filename LC_40703-01-12-00_combined.dat \n",
        "I am on file 411 with filename LC_91701-01-28-01_combined.dat \n",
        "I am on file 412 with filename LC_91701-01-59-01_combined.dat \n",
        "I am on file 413 with filename LC_90024-02-43-00_combined.dat \n",
        "I am on file 414 with filename LC_20402-01-21-00_combined.dat \n",
        "I am on file 415 with filename LC_20402-01-42-00_combined.dat \n",
        "dt_min: 0.00781249999989"
       ]
      },
      {
       "output_type": "stream",
       "stream": "stdout",
       "text": [
        "\n",
        "len(da[0]): 145407\n",
        "Feature shape: (14, 910)"
       ]
      },
      {
       "output_type": "stream",
       "stream": "stdout",
       "text": [
        "\n",
        "I am on file 416 with filename LC_90024-02-06-00_combined.dat \n",
        "I am on file 417 with filename LC_10408-01-17-02_combined.dat \n",
        "dt_min: 0.00390625"
       ]
      },
      {
       "output_type": "stream",
       "stream": "stdout",
       "text": [
        "\n",
        "len(da[0]): 466175\n",
        "Feature shape: (25, 910)"
       ]
      },
      {
       "output_type": "stream",
       "stream": "stdout",
       "text": [
        "\n",
        "I am on file 418 with filename LC_50703-01-03-00_combined.dat \n",
        "I am on file 419 with filename LC_80701-01-12-00_combined.dat \n",
        "I am on file 420 with filename LC_20402-01-06-00_combined.dat \n",
        "I am on file 421 with filename LC_90701-01-50-01_combined.dat \n",
        "I am on file 422 with filename LC_40403-01-02-00_combined.dat \n",
        "I am on file 423 with filename LC_60701-01-01-02_combined.dat \n",
        "I am on file 424 with filename LC_80701-01-61-00_combined.dat \n",
        "I am on file 425 with filename LC_90701-01-43-00_combined.dat \n",
        "I am on file 426 with filename LC_90108-01-01-00_combined.dat \n",
        "I am on file 427 with filename LC_30703-01-23-00_combined.dat \n",
        "I am on file 428 with filename LC_93701-01-23-00_combined.dat \n",
        "I am on file 429 with filename LC_80701-01-55-00_combined.dat \n",
        "I am on file 430 with filename LC_95701-01-15-01_combined.dat \n",
        "I am on file 431 with filename LC_60702-01-01-22_combined.dat \n",
        "I am on file 432 with filename LC_91701-01-53-03_combined.dat \n",
        "I am on file 433 with filename LC_90701-01-06-00_combined.dat \n",
        "I am on file 434 with filename LC_20402-01-02-01_combined.dat \n",
        "I am on file 435 with filename LC_91701-01-36-00_combined.dat \n",
        "I am on file 436 with filename LC_50703-01-60-01_combined.dat \n",
        "I am on file 437 with filename LC_50703-01-54-01_combined.dat \n",
        "I am on file 438 with filename LC_20402-01-45-00_combined.dat \n",
        "I am on file 439 with filename LC_90024-02-34-00_combined.dat \n",
        "I am on file 440 with filename LC_20402-01-43-01_combined.dat \n",
        "dt_min: 0.00781249999999"
       ]
      },
      {
       "output_type": "stream",
       "stream": "stdout",
       "text": [
        "\n",
        "len(da[0]): 53247\n",
        "Feature shape: (3, 910)\n",
        "I am on file 441 with filename LC_50125-01-04-00_combined.dat \n",
        "I am on file 442 with filename LC_30703-01-40-01_combined.dat \n",
        "I am on file 443 with filename LC_80701-01-02-00_combined.dat \n",
        "I am on file 444 with filename LC_90105-03-02-01_combined.dat \n",
        "I am on file 445 with filename LC_30703-01-36-00_combined.dat \n",
        "I am on file 446 with filename LC_10258-01-02-00_combined.dat \n",
        "I am on file 447 with filename LC_40703-01-44-00_combined.dat \n",
        "I am on file 448 with filename LC_20402-01-58-02_combined.dat \n",
        "I am on file 449 with filename LC_50703-01-31-03_combined.dat \n",
        "I am on file 450 with filename LC_20187-02-06-00_combined.dat \n",
        "I am on file 451 with filename LC_40116-01-01-03_combined.dat \n",
        "I am on file 452 with filename LC_50703-01-11-02_combined.dat \n",
        "I am on file 453 with filename LC_60701-01-06-00_combined.dat \n",
        "I am on file 454 with filename LC_90105-05-03-01_combined.dat \n",
        "I am on file 455 with filename LC_80701-01-35-01_combined.dat \n",
        "I am on file 456 with filename LC_10408-01-03-00_combined.dat \n",
        "I am on file 457 with filename LC_95701-01-50-00_combined.dat \n",
        "I am on file 458 with filename LC_94701-01-28-00_combined.dat \n",
        "I am on file 459 with filename LC_60701-01-13-01_combined.dat \n",
        "I am on file 460 with filename LC_91701-01-60-02_combined.dat \n",
        "I am on file 461 with filename LC_90024-02-35-00_combined.dat \n",
        "I am on file 462 with filename LC_60702-01-01-07_combined.dat \n",
        "I am on file 463 with filename LC_80701-01-60-02_combined.dat \n",
        "I am on file 464 with filename LC_50703-01-21-01_combined.dat \n",
        "I am on file 465 with filename LC_80701-01-45-01_combined.dat \n",
        "I am on file 466 with filename LC_70702-01-55-00_combined.dat \n",
        "I am on file 467 with filename LC_20187-02-03-00_combined.dat \n",
        "I am on file 468 with filename LC_30703-01-02-00_combined.dat \n",
        "I am on file 469 with filename LC_70702-01-05-01_combined.dat \n",
        "I am on file 470 with filename LC_92702-01-20-00_combined.dat \n",
        "I am on file 471 with filename LC_40703-01-51-00_combined.dat \n",
        "I am on file 472 with filename LC_50703-01-13-00_combined.dat \n",
        "I am on file 473 with filename LC_30703-01-30-00_combined.dat \n",
        "I am on file 474 with filename LC_60100-01-03-00_combined.dat \n",
        "I am on file 475 with filename LC_80188-01-01-03_combined.dat \n",
        "I am on file 476 with filename LC_60405-01-01-01_combined.dat \n",
        "I am on file 477 with filename LC_50703-01-21-00_combined.dat \n",
        "I am on file 478 with filename LC_96701-01-45-01_combined.dat \n",
        "I am on file 479 with filename LC_80701-01-59-00_combined.dat \n",
        "I am on file 480 with filename LC_20402-01-37-00_combined.dat \n",
        "dt_min: 0.00781249999955"
       ]
      },
      {
       "output_type": "stream",
       "stream": "stdout",
       "text": [
        "\n",
        "len(da[0]): 73726\n",
        "len(da[0]): 73981\n",
        "len(da[0]): 345854\n",
        "len(da[0]): 415742\n",
        "len(da[0]): 182271\n",
        "Feature shape: (116, 910)"
       ]
      },
      {
       "output_type": "stream",
       "stream": "stdout",
       "text": [
        "\n",
        "I am on file 481 with filename LC_10408-01-16-02_combined.dat \n",
        "dt_min: 0.00390625"
       ]
      },
      {
       "output_type": "stream",
       "stream": "stdout",
       "text": [
        "\n",
        "len(da[0]): 522494\n",
        "len(da[0]): 79614\n",
        "Feature shape: (29, 910)"
       ]
      },
      {
       "output_type": "stream",
       "stream": "stdout",
       "text": [
        "\n",
        "I am on file 482 with filename LC_93701-01-04-00_combined.dat \n",
        "I am on file 483 with filename LC_95701-01-47-00_combined.dat \n",
        "I am on file 484 with filename LC_93701-01-18-01_combined.dat \n",
        "I am on file 485 with filename LC_91701-01-46-00_combined.dat \n",
        "I am on file 486 with filename LC_60702-01-01-17_combined.dat \n",
        "I am on file 487 with filename LC_95701-01-42-00_combined.dat \n",
        "I am on file 488 with filename LC_90701-01-38-00_combined.dat \n",
        "I am on file 489 with filename LC_80701-01-22-00_combined.dat \n",
        "I am on file 490 with filename LC_50703-01-34-03_combined.dat \n",
        "I am on file 491 with filename LC_20402-01-44-00_combined.dat \n",
        "dt_min: 0.00781249999818"
       ]
      },
      {
       "output_type": "stream",
       "stream": "stdout",
       "text": [
        "\n",
        "len(da[0]): 218365\n",
        "len(da[0]): 205566\n",
        "len(da[0]): 425983\n",
        "Feature shape: (93, 910)"
       ]
      },
      {
       "output_type": "stream",
       "stream": "stdout",
       "text": [
        "\n",
        "I am on file 492 with filename LC_40703-01-16-01_combined.dat \n",
        "I am on file 493 with filename LC_93701-01-14-00_combined.dat \n",
        "I am on file 494 with filename LC_50703-01-04-01_combined.dat \n",
        "I am on file 495 with filename LC_91701-01-54-01_combined.dat \n",
        "I am on file 496 with filename LC_93701-01-28-00_combined.dat \n",
        "I am on file 497 with filename LC_50405-01-02-01_combined.dat \n",
        "I am on file 498 with filename LC_90701-01-02-01_combined.dat \n",
        "I am on file 499 with filename LC_50703-01-62-03_combined.dat \n",
        "I am on file 500 with filename LC_94701-01-59-00_combined.dat \n",
        "I am on file 501 with filename LC_70703-01-01-14_combined.dat \n",
        "I am on file 502 with filename LC_60702-01-01-09_combined.dat \n",
        "I am on file 503 with filename LC_50703-01-06-01_combined.dat \n",
        "I am on file 504 with filename LC_96701-01-43-00_combined.dat \n",
        "I am on file 505 with filename LC_91701-01-57-02_combined.dat \n",
        "I am on file 506 with filename LC_80127-02-01-01_combined.dat \n",
        "I am on file 507 with filename LC_60701-01-26-03_combined.dat \n",
        "I am on file 508 with filename LC_50703-01-31-02_combined.dat \n",
        "I am on file 509 with filename LC_80701-01-09-00_combined.dat \n",
        "I am on file 510 with filename LC_80701-01-04-01_combined.dat \n",
        "I am on file 511 with filename LC_50703-01-23-00_combined.dat \n",
        "I am on file 512 with filename LC_90105-02-02-00_combined.dat \n",
        "I am on file 513 with filename LC_40703-01-20-03_combined.dat \n",
        "I am on file 514 with filename LC_50703-01-20-02_combined.dat \n",
        "I am on file 515 with filename LC_40703-01-40-02_combined.dat \n",
        "I am on file 516 with filename LC_80127-03-02-00_combined.dat \n",
        "I am on file 517 with filename LC_30703-01-14-00_combined.dat \n",
        "I am on file 518 with filename LC_90701-01-20-02_combined.dat \n",
        "I am on file 519 with filename LC_90701-01-15-02_combined.dat \n",
        "I am on file 520 with filename LC_91701-01-03-00_combined.dat \n",
        "I am on file 521 with filename LC_80701-01-20-00_combined.dat \n",
        "I am on file 522 with filename LC_90701-01-24-01_combined.dat \n",
        "I am on file 523 with filename LC_60701-01-27-00_combined.dat \n",
        "I am on file 524 with filename LC_20186-03-02-01_combined.dat \n",
        "I am on file 525 with filename LC_80701-01-57-00_combined.dat \n",
        "I am on file 526 with filename LC_10408-01-09-00_combined.dat \n",
        "dt_min: 0.00390624999977"
       ]
      },
      {
       "output_type": "stream",
       "stream": "stdout",
       "text": [
        "\n",
        "len(da[0]): 671742\n",
        "len(da[0]): 790527\n",
        "Feature shape: (82, 910)"
       ]
      },
      {
       "output_type": "stream",
       "stream": "stdout",
       "text": [
        "\n",
        "I am on file 527 with filename LC_92702-01-27-01_combined.dat \n",
        "I am on file 528 with filename LC_92702-01-05-01_combined.dat \n",
        "I am on file 529 with filename LC_95701-01-32-00_combined.dat \n",
        "I am on file 530 with filename LC_20402-01-27-01_combined.dat \n",
        "dt_min: 0.0078125"
       ]
      },
      {
       "output_type": "stream",
       "stream": "stdout",
       "text": [
        "\n",
        "len(da[0]): 233471\n",
        "Feature shape: (25, 910)"
       ]
      },
      {
       "output_type": "stream",
       "stream": "stdout",
       "text": [
        "\n",
        "I am on file 531 with filename LC_80127-01-02-01_combined.dat \n",
        "I am on file 532 with filename LC_93701-01-17-01_combined.dat \n",
        "I am on file 533 with filename LC_30703-01-39-00_combined.dat \n",
        "I am on file 534 with filename LC_95701-01-44-00_combined.dat \n",
        "I am on file 535 with filename LC_91701-01-84-01_combined.dat \n",
        "I am on file 536 with filename LC_91701-01-84-00_combined.dat \n",
        "I am on file 537 with filename LC_50703-01-39-02_combined.dat \n",
        "I am on file 538 with filename LC_50703-01-18-01_combined.dat \n",
        "I am on file 539 with filename LC_20402-01-49-00_combined.dat \n",
        "dt_min: 0.00781249999989"
       ]
      },
      {
       "output_type": "stream",
       "stream": "stdout",
       "text": [
        "\n",
        "len(da[0]): 434174\n",
        "len(da[0]): 251774\n",
        "Feature shape: (76, 910)"
       ]
      },
      {
       "output_type": "stream",
       "stream": "stdout",
       "text": [
        "\n",
        "I am on file 540 with filename LC_80701-01-31-00_combined.dat \n",
        "I am on file 541 with filename LC_80701-01-45-00_combined.dat \n",
        "I am on file 542 with filename LC_70702-01-34-00_combined.dat \n",
        "I am on file 543 with filename LC_50703-01-67-02_combined.dat \n",
        "I am on file 544 with filename LC_90024-02-22-00_combined.dat \n",
        "I am on file 545 with filename LC_50703-01-67-01_combined.dat \n",
        "I am on file 546 with filename LC_90105-10-04-00_combined.dat \n",
        "I am on file 547 with filename LC_50125-01-02-02_combined.dat \n",
        "I am on file 548 with filename LC_20402-01-09-00_combined.dat \n",
        "dt_min: 0.0078125"
       ]
      },
      {
       "output_type": "stream",
       "stream": "stdout",
       "text": [
        "\n",
        "len(da[0]): 114686\n",
        "len(da[0]): 423934\n",
        "len(da[0]): 72062\n",
        "len(da[0]): 98301\n",
        "len(da[0]): 249470\n",
        "Feature shape: (98, 910)"
       ]
      },
      {
       "output_type": "stream",
       "stream": "stdout",
       "text": [
        "\n",
        "I am on file 549 with filename LC_50703-01-25-00_combined.dat \n",
        "I am on file 550 with filename LC_90105-07-03-00_combined.dat \n",
        "I am on file 551 with filename LC_10408-01-15-05_combined.dat \n",
        "dt_min: 0.00390625"
       ]
      },
      {
       "output_type": "stream",
       "stream": "stdout",
       "text": [
        "\n",
        "len(da[0]): 364543\n",
        "Feature shape: (19, 910)"
       ]
      },
      {
       "output_type": "stream",
       "stream": "stdout",
       "text": [
        "\n",
        "I am on file 552 with filename LC_96701-01-09-01_combined.dat \n",
        "I am on file 553 with filename LC_90105-09-05-00_combined.dat \n",
        "I am on file 554 with filename LC_50703-01-16-03_combined.dat \n",
        "I am on file 555 with filename LC_91701-01-12-01_combined.dat \n",
        "I am on file 556 with filename LC_50703-01-55-00_combined.dat \n",
        "I am on file 557 with filename LC_40703-01-22-00_combined.dat \n",
        "I am on file 558 with filename LC_94701-01-56-00_combined.dat \n",
        "I am on file 559 with filename LC_50703-01-51-01_combined.dat \n",
        "I am on file 560 with filename LC_93701-01-33-01_combined.dat \n",
        "I am on file 561 with filename LC_60405-01-03-00_combined.dat \n",
        "I am on file 562 with filename LC_91701-01-78-00_combined.dat \n",
        "I am on file 563 with filename LC_60702-01-01-20_combined.dat \n",
        "I am on file 564 with filename LC_95701-01-23-00_combined.dat \n",
        "I am on file 565 with filename LC_90701-01-23-01_combined.dat \n",
        "I am on file 566 with filename LC_91701-01-44-00_combined.dat \n",
        "I am on file 567 with filename LC_96701-01-21-00_combined.dat \n",
        "I am on file 568 with filename LC_50703-01-04-00_combined.dat \n",
        "I am on file 569 with filename LC_10408-01-31-00_combined.dat \n",
        "dt_min: 0.00390624999977"
       ]
      },
      {
       "output_type": "stream",
       "stream": "stdout",
       "text": [
        "\n",
        "len(da[0]): 533758\n",
        "len(da[0]): 27389\n",
        "len(da[0]): 236798\n",
        "len(da[0]): 611069\n",
        "len(da[0]): 851967\n",
        "Feature shape: (122, 910)"
       ]
      },
      {
       "output_type": "stream",
       "stream": "stdout",
       "text": [
        "\n",
        "I am on file 570 with filename LC_40703-01-49-01_combined.dat \n",
        "I am on file 571 with filename LC_94701-01-01-00_combined.dat \n",
        "I am on file 572 with filename LC_40703-01-51-01_combined.dat \n",
        "I am on file 573 with filename LC_30183-02-02-00_combined.dat \n",
        "I am on file 574 with filename LC_95701-01-17-00_combined.dat \n",
        "I am on file 575 with filename LC_50405-01-04-01_combined.dat \n",
        "I am on file 576 with filename LC_80127-02-02-02_combined.dat \n",
        "I am on file 577 with filename LC_95701-01-11-01_combined.dat \n",
        "I am on file 578 with filename LC_95701-01-02-01_combined.dat \n",
        "I am on file 579 with filename LC_90105-03-02-00_combined.dat \n",
        "I am on file 580 with filename LC_40703-01-28-00_combined.dat \n",
        "I am on file 581 with filename LC_30703-01-11-00_combined.dat \n",
        "I am on file 582 with filename LC_91701-01-79-01_combined.dat \n",
        "I am on file 583 with filename LC_90105-03-02-02_combined.dat \n",
        "I am on file 584 with filename LC_20402-01-08-00_combined.dat \n",
        "dt_min: 0.00781249999955"
       ]
      },
      {
       "output_type": "stream",
       "stream": "stdout",
       "text": [
        "\n",
        "len(da[0]): 257022\n",
        "len(da[0]): 78589\n",
        "len(da[0]): 362494\n",
        "len(da[0]): 86015\n",
        "Feature shape: (82, 910)"
       ]
      },
      {
       "output_type": "stream",
       "stream": "stdout",
       "text": [
        "\n",
        "I am on file 585 with filename LC_20186-03-01-04_combined.dat \n",
        "I am on file 586 with filename LC_90024-02-28-00_combined.dat \n",
        "I am on file 587 with filename LC_95701-01-23-01_combined.dat \n",
        "I am on file 588 with filename LC_96701-01-24-00_combined.dat \n",
        "I am on file 589 with filename LC_94701-01-25-00_combined.dat \n",
        "I am on file 590 with filename LC_80701-01-02-02_combined.dat \n",
        "I am on file 591 with filename LC_92702-01-04-00_combined.dat \n",
        "I am on file 592 with filename LC_30703-01-09-00_combined.dat \n",
        "I am on file 593 with filename LC_70702-01-43-00_combined.dat \n",
        "I am on file 594 with filename LC_50703-01-60-00_combined.dat \n",
        "I am on file 595 with filename LC_40703-01-10-00_combined.dat \n",
        "I am on file 596 with filename LC_50703-01-06-02_combined.dat \n",
        "I am on file 597 with filename LC_30703-01-40-02_combined.dat \n",
        "I am on file 598 with filename LC_92702-01-13-00_combined.dat \n",
        "I am on file 599 with filename LC_50703-01-13-03_combined.dat \n",
        "I am on file 600 with filename LC_93411-01-02-00_combined.dat \n",
        "I am on file 601 with filename LC_80701-01-56-00_combined.dat \n",
        "I am on file 602 with filename LC_40703-01-33-02_combined.dat \n",
        "I am on file 603 with filename LC_90701-01-16-00_combined.dat \n",
        "I am on file 604 with filename LC_95701-01-07-00_combined.dat \n",
        "I am on file 605 with filename LC_91701-01-71-01_combined.dat \n",
        "I am on file 606 with filename LC_90105-06-03-00_combined.dat \n",
        "I am on file 607 with filename LC_93701-01-34-01_combined.dat \n",
        "I am on file 608 with filename LC_94701-01-31-00_combined.dat \n",
        "I am on file 609 with filename LC_40703-01-51-02_combined.dat \n",
        "I am on file 610 with filename LC_94701-01-35-00_combined.dat \n",
        "I am on file 611 with filename LC_50125-01-01-02_combined.dat \n",
        "I am on file 612 with filename LC_94410-01-01-00_combined.dat \n",
        "I am on file 613 with filename LC_90024-02-23-00_combined.dat \n",
        "I am on file 614 with filename LC_80701-01-58-01_combined.dat \n",
        "I am on file 615 with filename LC_94701-01-54-00_combined.dat \n",
        "I am on file 616 with filename LC_91701-01-51-02_combined.dat \n",
        "I am on file 617 with filename LC_60701-01-05-00_combined.dat \n",
        "I am on file 618 with filename LC_80701-01-07-00_combined.dat \n",
        "I am on file 619 with filename LC_90105-06-02-00_combined.dat \n",
        "I am on file 620 with filename LC_90701-01-24-00_combined.dat \n",
        "I am on file 621 with filename LC_10408-01-20-01_combined.dat \n",
        "dt_min: 0.00390624999977"
       ]
      },
      {
       "output_type": "stream",
       "stream": "stdout",
       "text": [
        "\n",
        "len(da[0]): 292606\n",
        "len(da[0]): 452606\n",
        "Feature shape: (38, 910)"
       ]
      },
      {
       "output_type": "stream",
       "stream": "stdout",
       "text": [
        "\n",
        "I am on file 622 with filename LC_90024-02-24-00_combined.dat \n",
        "I am on file 623 with filename LC_92702-01-07-00_combined.dat \n",
        "I am on file 624 with filename LC_60701-01-31-00_combined.dat \n",
        "I am on file 625 with filename LC_20402-01-30-00_combined.dat \n",
        "dt_min: 0.0078125"
       ]
      },
      {
       "output_type": "stream",
       "stream": "stdout",
       "text": [
        "\n",
        "len(da[0]): 101502\n",
        "len(da[0]): 421887\n",
        "Feature shape: (57, 910)"
       ]
      },
      {
       "output_type": "stream",
       "stream": "stdout",
       "text": [
        "\n",
        "I am on file 626 with filename LC_70702-01-32-01_combined.dat \n",
        "I am on file 627 with filename LC_60701-01-24-02_combined.dat \n",
        "I am on file 628 with filename LC_40116-01-04-01_combined.dat \n",
        "I am on file 629 with filename LC_30182-01-03-01_combined.dat \n",
        "I am on file 630 with filename LC_60702-01-01-05_combined.dat \n",
        "I am on file 631 with filename LC_60702-01-01-10_combined.dat \n",
        "I am on file 632 with filename LC_70702-01-18-00_combined.dat \n",
        "I am on file 633 with filename LC_80701-01-52-02_combined.dat \n",
        "I am on file 634 with filename LC_40703-01-29-00_combined.dat \n",
        "I am on file 635 with filename LC_91701-01-23-00_combined.dat \n",
        "I am on file 636 with filename LC_50703-01-31-01_combined.dat \n",
        "I am on file 637 with filename LC_40703-01-42-03_combined.dat \n",
        "I am on file 638 with filename LC_50703-01-08-01_combined.dat \n",
        "I am on file 639 with filename LC_30703-01-01-00_combined.dat \n",
        "I am on file 640 with filename LC_90701-01-28-00_combined.dat \n",
        "I am on file 641 with filename LC_96701-01-29-00_combined.dat \n",
        "I am on file 642 with filename LC_10408-01-27-00_combined.dat \n",
        "dt_min: 0.00390624999977"
       ]
      },
      {
       "output_type": "stream",
       "stream": "stdout",
       "text": [
        "\n",
        "len(da[0]): 598014\n",
        "len(da[0]): 843774\n",
        "len(da[0]): 843775\n",
        "Feature shape: (129, 910)"
       ]
      },
      {
       "output_type": "stream",
       "stream": "stdout",
       "text": [
        "\n",
        "I am on file 643 with filename LC_94701-01-36-00_combined.dat \n",
        "I am on file 644 with filename LC_90105-04-02-00_combined.dat \n",
        "I am on file 645 with filename LC_40115-01-04-00_combined.dat \n",
        "I am on file 646 with filename LC_70702-01-04-03_combined.dat \n",
        "I am on file 647 with filename LC_90105-09-08-01_combined.dat \n",
        "I am on file 648 with filename LC_70702-01-20-00_combined.dat \n",
        "I am on file 649 with filename LC_50703-01-10-01_combined.dat \n",
        "I am on file 650 with filename LC_94701-01-12-01_combined.dat \n",
        "I am on file 651 with filename LC_20402-01-34-00_combined.dat \n",
        "dt_min: 0.0078125"
       ]
      },
      {
       "output_type": "stream",
       "stream": "stdout",
       "text": [
        "\n",
        "len(da[0]): 71167\n",
        "Feature shape: (5, 910)\n",
        "I am on file 652 with filename LC_30703-01-24-02_combined.dat \n",
        "I am on file 653 with filename LC_92702-01-13-01_combined.dat \n",
        "I am on file 654 with filename LC_50703-01-48-01_combined.dat \n",
        "I am on file 655 with filename LC_92702-01-12-00_combined.dat \n",
        "I am on file 656 with filename LC_70702-01-19-00_combined.dat \n",
        "I am on file 657 with filename LC_70702-01-14-00_combined.dat \n",
        "I am on file 658 with filename LC_91701-01-09-00_combined.dat \n",
        "I am on file 659 with filename LC_90105-09-03-00_combined.dat \n",
        "I am on file 660 with filename LC_96701-01-18-00_combined.dat \n",
        "I am on file 661 with filename LC_30183-02-01-01_combined.dat \n",
        "I am on file 662 with filename LC_20186-03-03-00_combined.dat \n",
        "I am on file 663 with filename LC_80701-01-44-01_combined.dat \n",
        "I am on file 664 with filename LC_10408-01-14-01_combined.dat \n",
        "dt_min: 0.00390625"
       ]
      },
      {
       "output_type": "stream",
       "stream": "stdout",
       "text": [
        "\n",
        "len(da[0]): 270335\n",
        "Feature shape: (13, 910)"
       ]
      },
      {
       "output_type": "stream",
       "stream": "stdout",
       "text": [
        "\n",
        "I am on file 665 with filename LC_91701-01-05-01_combined.dat \n",
        "I am on file 666 with filename LC_40702-01-01-00_combined.dat \n",
        "I am on file 667 with filename LC_80701-01-08-00_combined.dat \n",
        "I am on file 668 with filename LC_80701-01-54-02_combined.dat \n",
        "I am on file 669 with filename LC_95701-01-06-00_combined.dat \n",
        "I am on file 670 with filename LC_90701-01-27-00_combined.dat \n",
        "I am on file 671 with filename LC_80127-04-01-03_combined.dat \n",
        "I am on file 672 with filename LC_90105-10-08-00_combined.dat \n",
        "I am on file 673 with filename LC_40703-01-44-01_combined.dat \n",
        "I am on file 674 with filename LC_95701-01-19-00_combined.dat \n",
        "I am on file 675 with filename LC_96701-01-36-00_combined.dat \n",
        "I am on file 676 with filename LC_94701-01-10-00_combined.dat \n",
        "I am on file 677 with filename LC_93701-01-25-01_combined.dat \n",
        "I am on file 678 with filename LC_40703-01-04-00_combined.dat \n",
        "I am on file 679 with filename LC_93701-01-10-02_combined.dat \n",
        "I am on file 680 with filename LC_50703-01-59-00_combined.dat \n",
        "I am on file 681 with filename LC_60701-01-16-00_combined.dat \n",
        "I am on file 682 with filename LC_60701-01-19-02_combined.dat \n",
        "I am on file 683 with filename LC_90701-01-03-00_combined.dat \n",
        "I am on file 684 with filename LC_70702-01-26-00_combined.dat \n",
        "I am on file 685 with filename LC_70702-01-42-00_combined.dat \n",
        "I am on file 686 with filename LC_91701-01-41-00_combined.dat \n",
        "I am on file 687 with filename LC_91701-01-86-01_combined.dat \n",
        "I am on file 688 with filename LC_94701-01-04-00_combined.dat \n",
        "I am on file 689 with filename LC_50703-01-20-01_combined.dat \n",
        "I am on file 690 with filename LC_95701-01-02-00_combined.dat \n",
        "I am on file 691 with filename LC_92702-01-03-00_combined.dat \n",
        "I am on file 692 with filename LC_91701-01-83-00_combined.dat \n",
        "I am on file 693 with filename LC_10258-01-10-00_combined.dat \n",
        "I am on file 694 with filename LC_80127-05-05-00_combined.dat \n",
        "I am on file 695 with filename LC_90701-01-25-00_combined.dat \n",
        "I am on file 696 with filename LC_70702-01-35-01_combined.dat \n",
        "I am on file 697 with filename LC_92702-01-20-02_combined.dat \n",
        "I am on file 698 with filename LC_90105-10-05-00_combined.dat \n",
        "I am on file 699 with filename LC_10408-01-14-05_combined.dat \n",
        "dt_min: 0.00390625"
       ]
      },
      {
       "output_type": "stream",
       "stream": "stdout",
       "text": [
        "\n",
        "len(da[0]): 218111\n",
        "Feature shape: (10, 910)"
       ]
      },
      {
       "output_type": "stream",
       "stream": "stdout",
       "text": [
        "\n",
        "I am on file 700 with filename LC_60702-01-01-12_combined.dat \n",
        "I am on file 701 with filename LC_91701-01-65-01_combined.dat \n",
        "I am on file 702 with filename LC_94701-01-57-00_combined.dat \n",
        "I am on file 703 with filename LC_20402-01-32-00_combined.dat \n",
        "dt_min: 0.00781249999955"
       ]
      },
      {
       "output_type": "stream",
       "stream": "stdout",
       "text": [
        "\n",
        "len(da[0]): 304895\n",
        "Feature shape: (34, 910)"
       ]
      },
      {
       "output_type": "stream",
       "stream": "stdout",
       "text": [
        "\n",
        "I am on file 704 with filename LC_93701-01-12-00_combined.dat \n",
        "I am on file 705 with filename LC_80701-01-11-02_combined.dat \n",
        "I am on file 706 with filename LC_50703-01-32-01_combined.dat \n",
        "I am on file 707 with filename LC_90701-01-29-01_combined.dat \n",
        "I am on file 708 with filename LC_60701-01-14-00_combined.dat \n",
        "I am on file 709 with filename LC_50703-01-59-01_combined.dat \n",
        "I am on file 710 with filename LC_40115-01-06-00_combined.dat \n",
        "I am on file 711 with filename LC_90105-09-06-00_combined.dat \n",
        "I am on file 712 with filename LC_40703-01-34-01_combined.dat \n",
        "I am on file 713 with filename LC_91701-01-68-01_combined.dat \n",
        "I am on file 714 with filename LC_60701-01-32-01_combined.dat \n",
        "I am on file 715 with filename LC_80701-01-20-01_combined.dat \n",
        "I am on file 716 with filename LC_30182-01-02-01_combined.dat \n",
        "I am on file 717 with filename LC_90701-01-32-00_combined.dat \n",
        "I am on file 718 with filename LC_40403-01-06-03_combined.dat \n",
        "I am on file 719 with filename LC_93701-01-38-01_combined.dat \n",
        "I am on file 720 with filename LC_20402-01-50-01_combined.dat \n",
        "I am on file 721 with filename LC_50703-01-28-02_combined.dat \n",
        "I am on file 722 with filename LC_10408-01-14-04_combined.dat \n",
        "dt_min: 0.00390625"
       ]
      },
      {
       "output_type": "stream",
       "stream": "stdout",
       "text": [
        "\n",
        "len(da[0]): 356351\n",
        "Feature shape: (18, 910)"
       ]
      },
      {
       "output_type": "stream",
       "stream": "stdout",
       "text": [
        "\n",
        "I am on file 723 with filename LC_80127-02-02-00_combined.dat \n",
        "I am on file 724 with filename LC_30703-01-06-00_combined.dat \n",
        "I am on file 725 with filename LC_90701-01-31-00_combined.dat \n",
        "I am on file 726 with filename LC_92702-01-22-01_combined.dat \n",
        "I am on file 727 with filename LC_50703-01-12-01_combined.dat \n",
        "I am on file 728 with filename LC_60702-01-01-02_combined.dat \n",
        "I am on file 729 with filename LC_90701-01-16-02_combined.dat \n",
        "I am on file 730 with filename LC_90024-02-36-00_combined.dat \n",
        "I am on file 731 with filename LC_95701-01-26-00_combined.dat \n",
        "I am on file 732 with filename LC_40703-01-20-00_combined.dat \n",
        "I am on file 733 with filename LC_91701-01-49-00_combined.dat \n",
        "I am on file 734 with filename LC_70702-01-10-00_combined.dat \n",
        "I am on file 735 with filename LC_90105-02-01-02_combined.dat \n",
        "I am on file 736 with filename LC_50703-01-53-00_combined.dat \n",
        "I am on file 737 with filename LC_80701-01-23-00_combined.dat \n",
        "I am on file 738 with filename LC_90108-01-03-00_combined.dat \n",
        "I am on file 739 with filename LC_50405-01-02-02_combined.dat \n",
        "I am on file 740 with filename LC_70702-01-28-00_combined.dat \n",
        "I am on file 741 with filename LC_60701-01-30-02_combined.dat \n",
        "I am on file 742 with filename LC_94701-01-24-00_combined.dat \n",
        "I am on file 743 with filename LC_90105-05-03-03_combined.dat \n",
        "I am on file 744 with filename LC_90701-01-21-00_combined.dat \n",
        "I am on file 745 with filename LC_80701-01-27-01_combined.dat \n",
        "I am on file 746 with filename LC_40116-01-02-05_combined.dat \n",
        "I am on file 747 with filename LC_80701-01-28-00_combined.dat \n",
        "I am on file 748 with filename LC_80188-01-01-00_combined.dat \n",
        "I am on file 749 with filename LC_96701-01-25-00_combined.dat \n",
        "I am on file 750 with filename LC_90701-01-33-00_combined.dat \n",
        "I am on file 751 with filename LC_91701-01-21-02_combined.dat \n",
        "I am on file 752 with filename LC_10408-01-36-00_combined.dat \n",
        "dt_min: 0.00390625"
       ]
      },
      {
       "output_type": "stream",
       "stream": "stdout",
       "text": [
        "\n",
        "len(da[0]): 258046\n",
        "len(da[0]): 479230\n",
        "len(da[0]): 569343\n",
        "Feature shape: (69, 910)"
       ]
      },
      {
       "output_type": "stream",
       "stream": "stdout",
       "text": [
        "\n",
        "I am on file 753 with filename LC_60702-01-01-00_combined.dat \n",
        "I am on file 754 with filename LC_90105-06-03-01_combined.dat \n",
        "I am on file 755 with filename LC_70702-01-21-00_combined.dat \n",
        "I am on file 756 with filename LC_91701-01-70-00_combined.dat \n",
        "I am on file 757 with filename LC_40703-01-29-01_combined.dat \n",
        "I am on file 758 with filename LC_20402-01-12-00_combined.dat \n",
        "dt_min: 0.00781249999955"
       ]
      },
      {
       "output_type": "stream",
       "stream": "stdout",
       "text": [
        "\n",
        "len(da[0]): 366846\n",
        "len(da[0]): 50941\n",
        "len(da[0]): 284670\n",
        "len(da[0]): 116734\n",
        "len(da[0]): 325631\n",
        "Feature shape: (122, 910)"
       ]
      },
      {
       "output_type": "stream",
       "stream": "stdout",
       "text": [
        "\n",
        "I am on file 759 with filename LC_80701-01-46-00_combined.dat \n",
        "I am on file 760 with filename LC_60701-01-17-00_combined.dat \n",
        "I am on file 761 with filename LC_95701-01-10-00_combined.dat \n",
        "I am on file 762 with filename LC_40703-01-26-00_combined.dat \n",
        "I am on file 763 with filename LC_10408-01-29-00_combined.dat \n",
        "dt_min: 0.00390624999977"
       ]
      },
      {
       "output_type": "stream",
       "stream": "stdout",
       "text": [
        "\n",
        "len(da[0]): 757758\n",
        "len(da[0]): 868350\n",
        "len(da[0]): 1278"
       ]
      },
      {
       "output_type": "stream",
       "stream": "stdout",
       "text": [
        "\n",
        "len(da[0]): 862974\n",
        "Feature shape: (141, 910)"
       ]
      },
      {
       "output_type": "stream",
       "stream": "stdout",
       "text": [
        "\n",
        "I am on file 764 with filename LC_50125-01-02-01_combined.dat \n",
        "I am on file 765 with filename LC_91701-01-31-00_combined.dat \n",
        "I am on file 766 with filename LC_92702-01-08-01_combined.dat \n",
        "I am on file 767 with filename LC_90105-05-03-00_combined.dat \n",
        "I am on file 768 with filename LC_40702-01-03-00_combined.dat \n",
        "I am on file 769 with filename LC_30703-01-22-01_combined.dat \n",
        "I am on file 770 with filename LC_30182-01-02-00_combined.dat \n",
        "I am on file 771 with filename LC_93411-01-01-00_combined.dat \n",
        "I am on file 772 with filename LC_50703-01-24-01_combined.dat \n",
        "I am on file 773 with filename LC_70702-01-49-00_combined.dat \n",
        "I am on file 774 with filename LC_80701-01-51-00_combined.dat \n",
        "I am on file 775 with filename LC_91701-01-18-00_combined.dat \n",
        "I am on file 776 with filename LC_60701-01-11-01_combined.dat \n",
        "I am on file 777 with filename LC_30402-01-12-02_combined.dat \n",
        "I am on file 778 with filename LC_92702-01-21-01_combined.dat \n",
        "I am on file 779 with filename LC_91701-01-57-01_combined.dat \n",
        "I am on file 780 with filename LC_10258-01-08-00_combined.dat \n",
        "I am on file 781 with filename LC_10408-01-05-00_combined.dat \n",
        "I am on file 782 with filename LC_20402-01-29-00_combined.dat \n",
        "dt_min: 0.0078125"
       ]
      },
      {
       "output_type": "stream",
       "stream": "stdout",
       "text": [
        "\n",
        "len(da[0]): 118782\n",
        "len(da[0]): 423935\n",
        "Feature shape: (59, 910)"
       ]
      },
      {
       "output_type": "stream",
       "stream": "stdout",
       "text": [
        "\n",
        "I am on file 783 with filename LC_95701-01-05-00_combined.dat \n",
        "I am on file 784 with filename LC_10408-01-15-00_combined.dat \n",
        "dt_min: 0.00390624999977"
       ]
      },
      {
       "output_type": "stream",
       "stream": "stdout",
       "text": [
        "\n",
        "len(da[0]): 626687\n",
        "Feature shape: (35, 910)"
       ]
      },
      {
       "output_type": "stream",
       "stream": "stdout",
       "text": [
        "\n",
        "I am on file 785 with filename LC_91701-01-58-02_combined.dat \n",
        "I am on file 786 with filename LC_91701-01-02-00_combined.dat \n",
        "I am on file 787 with filename LC_70702-01-49-01_combined.dat \n",
        "I am on file 788 with filename LC_70702-01-17-00_combined.dat \n",
        "I am on file 789 with filename LC_50703-01-41-00_combined.dat \n",
        "I am on file 790 with filename LC_10408-01-01-00_combined.dat \n",
        "I am on file 791 with filename LC_80701-01-39-01_combined.dat \n",
        "I am on file 792 with filename LC_50703-01-20-00_combined.dat \n",
        "I am on file 793 with filename LC_70702-01-30-00_combined.dat \n",
        "I am on file 794 with filename LC_50703-01-40-02_combined.dat \n",
        "I am on file 795 with filename LC_80701-01-38-02_combined.dat \n",
        "I am on file 796 with filename LC_91701-01-37-01_combined.dat \n",
        "I am on file 797 with filename LC_96701-01-06-00_combined.dat \n",
        "I am on file 798 with filename LC_10408-01-07-00_combined.dat \n",
        "I am on file 799 with filename LC_92437-01-01-00_combined.dat \n",
        "I am on file 800 with filename LC_91701-01-06-00_combined.dat \n",
        "I am on file 801 with filename LC_90701-01-30-01_combined.dat \n",
        "I am on file 802 with filename LC_10408-01-40-00_combined.dat \n",
        "dt_min: 0.00390624999977"
       ]
      },
      {
       "output_type": "stream",
       "stream": "stdout",
       "text": [
        "\n",
        "len(da[0]): 708606\n",
        "len(da[0]): 598014\n",
        "len(da[0]): 491519\n",
        "Feature shape: (99, 910)"
       ]
      },
      {
       "output_type": "stream",
       "stream": "stdout",
       "text": [
        "\n",
        "I am on file 803 with filename LC_94701-01-33-00_combined.dat \n",
        "I am on file 804 with filename LC_90024-02-30-00_combined.dat \n",
        "I am on file 805 with filename LC_94701-01-11-00_combined.dat \n",
        "I am on file 806 with filename LC_50703-01-61-01_combined.dat \n",
        "I am on file 807 with filename LC_92702-01-08-03_combined.dat \n",
        "I am on file 808 with filename LC_20402-01-31-01_combined.dat \n",
        "dt_min: 0.00781249999955"
       ]
      },
      {
       "output_type": "stream",
       "stream": "stdout",
       "text": [
        "\n",
        "len(da[0]): 263678\n",
        "len(da[0]): 299006\n",
        "len(da[0]): 212478\n",
        "len(da[0]): 145918\n",
        "Feature shape: (98, 910)"
       ]
      },
      {
       "output_type": "stream",
       "stream": "stdout",
       "text": [
        "\n",
        "I am on file 809 with filename LC_60701-01-24-01_combined.dat \n",
        "I am on file 810 with filename LC_90701-01-02-03_combined.dat \n",
        "I am on file 811 with filename LC_94701-01-34-01_combined.dat \n",
        "I am on file 812 with filename LC_95701-01-03-00_combined.dat \n",
        "I am on file 813 with filename LC_90024-02-15-00_combined.dat \n",
        "I am on file 814 with filename LC_60702-01-01-04_combined.dat \n",
        "I am on file 815 with filename LC_10408-01-38-00_combined.dat \n",
        "I am on file 816 with filename LC_80701-01-32-00_combined.dat \n",
        "I am on file 817 with filename LC_40116-01-02-02_combined.dat \n",
        "I am on file 818 with filename LC_20402-01-15-00_combined.dat \n",
        "dt_min: 0.0078125"
       ]
      },
      {
       "output_type": "stream",
       "stream": "stdout",
       "text": [
        "\n",
        "len(da[0]): 42878\n",
        "len(da[0]): 371838\n",
        "len(da[0]): 45053\n",
        "len(da[0]): 260222\n",
        "len(da[0]): 156669\n",
        "len(da[0]): 423935\n",
        "Feature shape: (138, 910)"
       ]
      },
      {
       "output_type": "stream",
       "stream": "stdout",
       "text": [
        "\n",
        "I am on file 819 with filename LC_80701-01-34-00_combined.dat \n",
        "I am on file 820 with filename LC_80127-01-02-00_combined.dat \n",
        "I am on file 821 with filename LC_80701-01-10-00_combined.dat \n",
        "I am on file 822 with filename LC_80701-01-08-01_combined.dat \n",
        "I am on file 823 with filename LC_91701-01-61-00_combined.dat \n",
        "I am on file 824 with filename LC_50703-01-40-01_combined.dat \n",
        "I am on file 825 with filename LC_50703-01-01-00_combined.dat \n",
        "I am on file 826 with filename LC_60701-01-25-03_combined.dat \n",
        "I am on file 827 with filename LC_30182-01-04-02_combined.dat \n",
        "I am on file 828 with filename LC_80701-01-10-01_combined.dat \n",
        "I am on file 829 with filename LC_50703-01-40-00_combined.dat \n",
        "I am on file 830 with filename LC_93701-01-03-01_combined.dat \n",
        "I am on file 831 with filename LC_40403-01-01-00_combined.dat \n",
        "I am on file 832 with filename LC_20402-01-41-01_combined.dat \n",
        "dt_min: 0.00781249999989"
       ]
      },
      {
       "output_type": "stream",
       "stream": "stdout",
       "text": [
        "\n",
        "len(da[0]): 167933\n",
        "len(da[0]): 137215\n",
        "Feature shape: (30, 910)"
       ]
      },
      {
       "output_type": "stream",
       "stream": "stdout",
       "text": [
        "\n",
        "I am on file 833 with filename LC_96701-01-23-01_combined.dat \n",
        "I am on file 834 with filename LC_96701-01-08-00_combined.dat \n",
        "I am on file 835 with filename LC_95701-01-33-01_combined.dat \n",
        "I am on file 836 with filename LC_50703-01-12-02_combined.dat \n",
        "I am on file 837 with filename LC_96701-01-07-00_combined.dat \n",
        "I am on file 838 with filename LC_93701-01-02-00_combined.dat \n",
        "I am on file 839 with filename LC_30402-01-04-00_combined.dat \n",
        "I am on file 840 with filename LC_50703-01-29-00_combined.dat \n",
        "I am on file 841 with filename LC_70702-01-54-00_combined.dat \n",
        "I am on file 842 with filename LC_20402-01-49-01_combined.dat \n",
        "dt_min: 0.00781249999989"
       ]
      },
      {
       "output_type": "stream",
       "stream": "stdout",
       "text": [
        "\n",
        "len(da[0]): 436223\n",
        "Feature shape: (50, 910)"
       ]
      },
      {
       "output_type": "stream",
       "stream": "stdout",
       "text": [
        "\n",
        "I am on file 843 with filename LC_50703-01-05-00_combined.dat \n",
        "I am on file 844 with filename LC_80701-01-62-02_combined.dat \n",
        "I am on file 845 with filename LC_20402-01-47-01_combined.dat \n",
        "I am on file 846 with filename LC_91701-01-86-00_combined.dat \n",
        "I am on file 847 with filename LC_60405-01-01-00_combined.dat \n",
        "I am on file 848 with filename LC_40703-01-36-02_combined.dat \n",
        "I am on file 849 with filename LC_20186-03-01-00_combined.dat \n",
        "I am on file 850 with filename LC_80127-04-02-00_combined.dat \n",
        "I am on file 851 with filename LC_95701-01-14-00_combined.dat \n",
        "I am on file 852 with filename LC_80701-01-39-00_combined.dat \n",
        "I am on file 0 with filename LC_40703-01-16-02_combined.dat "
       ]
      },
      {
       "output_type": "stream",
       "stream": "stdout",
       "text": [
        "\n",
        "I am on file 1 with filename LC_10408-01-30-00_combined.dat \n",
        "dt_min: 0.00390624999977"
       ]
      },
      {
       "output_type": "stream",
       "stream": "stdout",
       "text": [
        "\n",
        "len(da[0]): 843774\n",
        "len(da[0]): 868350\n",
        "len(da[0]): 534014"
       ]
      },
      {
       "output_type": "stream",
       "stream": "stdout",
       "text": [
        "\n",
        "len(da[0]): 326142\n",
        "Feature shape: (142, 910)"
       ]
      },
      {
       "output_type": "stream",
       "stream": "stdout",
       "text": [
        "\n",
        "I am on file 2 with filename LC_50703-01-37-01_combined.dat \n",
        "I am on file 3 with filename LC_91701-01-17-00_combined.dat \n",
        "I am on file 4 with filename LC_91701-01-64-01_combined.dat \n",
        "I am on file 5 with filename LC_20187-02-01-00_combined.dat \n",
        "dt_min: 0.00781249999955"
       ]
      },
      {
       "output_type": "stream",
       "stream": "stdout",
       "text": [
        "\n",
        "len(da[0]): 13054\n",
        "len(da[0]): 232445\n",
        "len(da[0]): 184573\n",
        "len(da[0]): 327678\n",
        "len(da[0]): 245759\n",
        "Feature shape: (106, 910)"
       ]
      },
      {
       "output_type": "stream",
       "stream": "stdout",
       "text": [
        "\n",
        "I am on file 6 with filename LC_90024-02-20-00_combined.dat \n",
        "I am on file 7 with filename LC_94701-01-46-00_combined.dat \n",
        "I am on file 8 with filename LC_50703-01-35-01_combined.dat \n",
        "I am on file 9 with filename LC_50703-01-14-00_combined.dat \n",
        "I am on file 10 with filename LC_40115-01-01-00_combined.dat \n",
        "I am on file 11 with filename LC_93701-01-20-00_combined.dat \n",
        "I am on file 12 with filename LC_40703-01-02-00_combined.dat \n",
        "I am on file 13 with filename LC_80701-01-17-00_combined.dat \n",
        "I am on file 14 with filename LC_50703-01-34-01_combined.dat \n",
        "I am on file 15 with filename LC_30402-01-21-00_combined.dat \n",
        "I am on file 16 with filename LC_94701-01-50-00_combined.dat \n",
        "I am on file 17 with filename LC_90024-02-21-00_combined.dat \n",
        "I am on file 18 with filename LC_70703-01-01-06_combined.dat \n",
        "I am on file 19 with filename LC_91701-01-82-01_combined.dat \n",
        "I am on file 20 with filename LC_80701-01-38-00_combined.dat \n",
        "I am on file 21 with filename LC_70702-01-12-01_combined.dat \n",
        "I am on file 22 with filename LC_80127-02-01-00_combined.dat \n",
        "I am on file 23 with filename LC_92702-01-26-02_combined.dat \n",
        "I am on file 24 with filename LC_70702-01-29-00_combined.dat \n",
        "I am on file 25 with filename LC_40116-01-02-04_combined.dat \n",
        "I am on file 26 with filename LC_90701-01-10-00_combined.dat \n",
        "I am on file 27 with filename LC_30703-01-27-00_combined.dat \n",
        "I am on file 28 with filename LC_92702-01-08-00_combined.dat \n",
        "I am on file 29 with filename LC_30703-01-40-00_combined.dat \n",
        "I am on file 30 with filename LC_94701-01-12-00_combined.dat \n",
        "I am on file 31 with filename LC_30402-01-12-00_combined.dat \n",
        "I am on file 32 with filename LC_50703-01-17-02_combined.dat \n",
        "I am on file 33 with filename LC_91701-01-54-00_combined.dat \n",
        "I am on file 34 with filename LC_96701-01-34-00_combined.dat \n",
        "I am on file 35 with filename LC_20186-03-02-03_combined.dat \n",
        "I am on file 36 with filename LC_70702-01-21-01_combined.dat \n",
        "I am on file 37 with filename LC_92702-01-18-00_combined.dat \n",
        "I am on file 38 with filename LC_30703-01-19-00_combined.dat \n",
        "I am on file 39 with filename LC_91701-01-71-00_combined.dat \n",
        "I am on file 40 with filename LC_20186-03-02-06_combined.dat \n",
        "I am on file 41 with filename LC_30703-01-35-00_combined.dat \n",
        "I am on file 42 with filename LC_20402-01-48-00_combined.dat \n",
        "dt_min: 0.00781249999818"
       ]
      },
      {
       "output_type": "stream",
       "stream": "stdout",
       "text": [
        "\n",
        "len(da[0]): 407550\n",
        "len(da[0]): 425983\n",
        "Feature shape: (94, 910)"
       ]
      },
      {
       "output_type": "stream",
       "stream": "stdout",
       "text": [
        "\n",
        "I am on file 43 with filename LC_80701-01-01-02_combined.dat \n",
        "I am on file 44 with filename LC_92702-01-16-02_combined.dat \n",
        "I am on file 45 with filename LC_50703-01-07-01_combined.dat \n",
        "I am on file 46 with filename LC_40116-01-03-01_combined.dat \n",
        "I am on file 47 with filename LC_50703-01-53-02_combined.dat \n",
        "I am on file 48 with filename LC_80701-01-17-02_combined.dat \n",
        "I am on file 49 with filename LC_70702-01-40-00_combined.dat \n",
        "I am on file 50 with filename LC_10408-01-14-09_combined.dat \n",
        "dt_min: 0.00390625"
       ]
      },
      {
       "output_type": "stream",
       "stream": "stdout",
       "text": [
        "\n",
        "len(da[0]): 338943\n",
        "Feature shape: (17, 910)"
       ]
      },
      {
       "output_type": "stream",
       "stream": "stdout",
       "text": [
        "\n",
        "I am on file 51 with filename LC_93701-01-30-01_combined.dat \n",
        "I am on file 52 with filename LC_94701-01-07-00_combined.dat \n",
        "I am on file 53 with filename LC_20402-01-16-00_combined.dat \n",
        "dt_min: 0.00781249999955"
       ]
      },
      {
       "output_type": "stream",
       "stream": "stdout",
       "text": [
        "\n",
        "len(da[0]): 413694\n",
        "len(da[0]): 3069\n",
        "len(da[0]): 344062\n",
        "Feature shape: (85, 910)"
       ]
      },
      {
       "output_type": "stream",
       "stream": "stdout",
       "text": [
        "\n",
        "I am on file 54 with filename LC_91701-01-53-01_combined.dat \n",
        "I am on file 55 with filename LC_40703-01-44-02_combined.dat \n",
        "I am on file 56 with filename LC_40703-01-38-03_combined.dat \n",
        "I am on file 57 with filename LC_90105-10-06-00_combined.dat \n",
        "I am on file 58 with filename LC_92702-01-16-00_combined.dat \n",
        "I am on file 59 with filename LC_60701-01-18-00_combined.dat \n",
        "I am on file 60 with filename LC_91701-01-33-00_combined.dat \n",
        "I am on file 61 with filename LC_50703-01-19-02_combined.dat \n",
        "I am on file 62 with filename LC_40703-01-40-01_combined.dat \n",
        "I am on file 63 with filename LC_93701-01-44-00_combined.dat \n",
        "I am on file 64 with filename LC_60701-01-29-00_combined.dat \n",
        "I am on file 65 with filename LC_90024-02-13-00_combined.dat \n",
        "I am on file 66 with filename LC_96701-01-03-01_combined.dat \n",
        "I am on file 67 with filename LC_10408-01-28-00_combined.dat \n",
        "dt_min: 0.00390625"
       ]
      },
      {
       "output_type": "stream",
       "stream": "stdout",
       "text": [
        "\n",
        "len(da[0]): 32766\n",
        "len(da[0]): 90110\n",
        "len(da[0]): 851966\n",
        "len(da[0]): 851966\n",
        "len(da[0]): 851967"
       ]
      },
      {
       "output_type": "stream",
       "stream": "stdout",
       "text": [
        "\n",
        "Feature shape: (146, 910)"
       ]
      },
      {
       "output_type": "stream",
       "stream": "stdout",
       "text": [
        "\n",
        "I am on file 68 with filename LC_10408-01-17-00_combined.dat \n",
        "dt_min: 0.00390624999977"
       ]
      },
      {
       "output_type": "stream",
       "stream": "stdout",
       "text": [
        "\n",
        "len(da[0]): 872447\n",
        "Feature shape: (50, 910)"
       ]
      },
      {
       "output_type": "stream",
       "stream": "stdout",
       "text": [
        "\n",
        "I am on file 69 with filename LC_50703-01-15-03_combined.dat \n",
        "I am on file 70 with filename LC_60701-01-22-00_combined.dat \n",
        "I am on file 71 with filename LC_10408-01-22-02_combined.dat \n",
        "I am on file 72 with filename LC_93701-01-20-01_combined.dat \n",
        "I am on file 73 with filename LC_91701-01-25-00_combined.dat \n",
        "I am on file 74 with filename LC_40703-01-23-02_combined.dat \n",
        "I am on file 75 with filename LC_60701-01-16-01_combined.dat \n",
        "I am on file 76 with filename LC_96701-01-46-00_combined.dat \n",
        "I am on file 77 with filename LC_94701-01-60-00_combined.dat \n",
        "I am on file 78 with filename LC_40403-01-06-00_combined.dat \n",
        "I am on file 79 with filename LC_50703-01-08-00_combined.dat \n",
        "I am on file 80 with filename LC_91701-01-28-00_combined.dat \n",
        "I am on file 81 with filename LC_70702-01-08-00_combined.dat \n",
        "I am on file 82 with filename LC_70702-01-45-00_combined.dat \n",
        "I am on file 83 with filename LC_80701-01-29-02_combined.dat \n",
        "I am on file 84 with filename LC_90701-01-31-01_combined.dat \n",
        "I am on file 85 with filename LC_30402-01-06-00_combined.dat \n",
        "I am on file 86 with filename LC_96701-01-48-00_combined.dat \n",
        "I am on file 87 with filename LC_96701-01-44-00_combined.dat \n",
        "I am on file 88 with filename LC_70703-01-01-04_combined.dat \n",
        "I am on file 89 with filename LC_94701-01-30-00_combined.dat \n",
        "I am on file 90 with filename LC_30703-01-08-00_combined.dat \n",
        "I am on file 91 with filename LC_70703-01-01-01_combined.dat \n",
        "I am on file 92 with filename LC_94701-01-42-00_combined.dat \n",
        "I am on file 93 with filename LC_50703-01-11-01_combined.dat \n",
        "I am on file 94 with filename LC_94701-01-52-00_combined.dat \n",
        "I am on file 95 with filename LC_40703-01-50-02_combined.dat \n",
        "I am on file 96 with filename LC_91701-01-79-00_combined.dat \n",
        "I am on file 97 with filename LC_40403-01-06-02_combined.dat \n",
        "I am on file 98 with filename LC_50703-01-22-00_combined.dat \n",
        "I am on file 99 with filename LC_91701-01-05-00_combined.dat \n",
        "I am on file 100 with filename LC_50703-01-30-00_combined.dat \n",
        "I am on file 101 with filename LC_50703-01-43-02_combined.dat \n",
        "I am on file 102 with filename LC_60701-01-01-03_combined.dat \n",
        "I am on file 103 with filename LC_80188-03-01-00_combined.dat \n",
        "I am on file 104 with filename LC_50703-01-12-03_combined.dat \n",
        "I am on file 105 with filename LC_10408-01-16-01_combined.dat \n",
        "dt_min: 0.00390624999977"
       ]
      },
      {
       "output_type": "stream",
       "stream": "stdout",
       "text": [
        "\n",
        "len(da[0]): 606207\n",
        "Feature shape: (33, 910)"
       ]
      },
      {
       "output_type": "stream",
       "stream": "stdout",
       "text": [
        "\n",
        "I am on file 106 with filename LC_92702-01-20-01_combined.dat \n",
        "I am on file 107 with filename LC_40703-01-47-00_combined.dat \n",
        "I am on file 108 with filename LC_95701-01-52-01_combined.dat \n",
        "I am on file 109 with filename LC_30703-01-25-00_combined.dat \n",
        "I am on file 110 with filename LC_91701-01-38-00_combined.dat \n",
        "I am on file 111 with filename LC_91701-01-27-00_combined.dat \n",
        "I am on file 112 with filename LC_94701-01-61-01_combined.dat \n",
        "I am on file 113 with filename LC_40403-01-05-01_combined.dat \n",
        "I am on file 114 with filename LC_80127-05-02-00_combined.dat \n",
        "I am on file 115 with filename LC_10408-01-41-00_combined.dat \n",
        "dt_min: 0.00390625"
       ]
      },
      {
       "output_type": "stream",
       "stream": "stdout",
       "text": [
        "\n",
        "len(da[0]): 466942\n",
        "len(da[0]): 49406\n",
        "len(da[0]): 351997\n",
        "len(da[0]): 57598\n",
        "len(da[0]): 253693\n",
        "len(da[0]): 110590\n",
        "len(da[0]): 303102\n",
        "len(da[0]): 217086\n",
        "len(da[0]): 241663"
       ]
      },
      {
       "output_type": "stream",
       "stream": "stdout",
       "text": [
        "\n",
        "Feature shape: (94, 910)"
       ]
      },
      {
       "output_type": "stream",
       "stream": "stdout",
       "text": [
        "\n",
        "I am on file 116 with filename LC_30184-01-01-000_combined.dat \n",
        "I am on file 117 with filename LC_92702-01-08-02_combined.dat \n",
        "I am on file 118 with filename LC_70703-01-01-05_combined.dat \n",
        "I am on file 119 with filename LC_40703-01-38-00_combined.dat \n",
        "I am on file 120 with filename LC_90701-01-15-00_combined.dat \n",
        "I am on file 121 with filename LC_80701-01-52-01_combined.dat \n",
        "I am on file 122 with filename LC_91701-01-32-01_combined.dat \n",
        "I am on file 123 with filename LC_40703-01-41-03_combined.dat \n",
        "I am on file 124 with filename LC_60702-01-01-01_combined.dat \n",
        "I am on file 125 with filename LC_90024-02-31-00_combined.dat \n",
        "I am on file 126 with filename LC_50703-01-44-01_combined.dat \n",
        "I am on file 127 with filename LC_80701-01-28-02_combined.dat \n",
        "I am on file 128 with filename LC_40703-01-14-00_combined.dat \n",
        "I am on file 129 with filename LC_91701-01-35-00_combined.dat \n",
        "I am on file 130 with filename LC_20402-01-53-00_combined.dat \n",
        "dt_min: 0.00781249999818"
       ]
      },
      {
       "output_type": "stream",
       "stream": "stdout",
       "text": [
        "\n",
        "len(da[0]): 321534\n",
        "len(da[0]): 423934\n",
        "len(da[0]): 141310\n",
        "len(da[0]): 241663\n",
        "Feature shape: (124, 910)"
       ]
      },
      {
       "output_type": "stream",
       "stream": "stdout",
       "text": [
        "\n",
        "I am on file 131 with filename LC_40703-01-03-00_combined.dat \n",
        "I am on file 132 with filename LC_96701-01-03-00_combined.dat \n",
        "I am on file 133 with filename LC_50703-01-13-02_combined.dat \n",
        "I am on file 134 with filename LC_96701-01-38-00_combined.dat \n",
        "I am on file 135 with filename LC_20186-03-01-02_combined.dat \n",
        "I am on file 136 with filename LC_40703-01-22-02_combined.dat \n",
        "I am on file 137 with filename LC_90024-02-04-00_combined.dat \n",
        "I am on file 138 with filename LC_20402-01-31-02_combined.dat \n",
        "dt_min: 0.00781249999955"
       ]
      },
      {
       "output_type": "stream",
       "stream": "stdout",
       "text": [
        "\n",
        "len(da[0]): 280190\n",
        "len(da[0]): 187774\n",
        "len(da[0]): 234109\n",
        "len(da[0]): 100351\n",
        "Feature shape: (84, 910)"
       ]
      },
      {
       "output_type": "stream",
       "stream": "stdout",
       "text": [
        "\n",
        "I am on file 139 with filename LC_90701-01-09-00_combined.dat \n",
        "I am on file 140 with filename LC_92702-01-16-01_combined.dat \n",
        "I am on file 141 with filename LC_50703-01-50-01_combined.dat \n",
        "I am on file 142 with filename LC_10258-01-07-00_combined.dat \n",
        "I am on file 143 with filename LC_90701-01-41-00_combined.dat \n",
        "I am on file 144 with filename LC_80701-01-29-01_combined.dat \n",
        "I am on file 145 with filename LC_80701-01-48-00_combined.dat \n",
        "I am on file 146 with filename LC_90024-02-41-01_combined.dat \n",
        "I am on file 147 with filename LC_40703-01-14-01_combined.dat \n",
        "I am on file 148 with filename LC_40703-01-42-02_combined.dat \n",
        "I am on file 149 with filename LC_40703-01-24-00_combined.dat \n",
        "I am on file 150 with filename LC_70702-01-38-00_combined.dat \n",
        "I am on file 151 with filename LC_60701-01-13-00_combined.dat \n",
        "I am on file 152 with filename LC_50703-01-16-00_combined.dat \n",
        "I am on file 153 with filename LC_30703-01-31-00_combined.dat \n",
        "I am on file 154 with filename LC_40703-01-40-00_combined.dat \n",
        "I am on file 155 with filename LC_91701-01-76-01_combined.dat \n",
        "I am on file 156 with filename LC_95701-01-31-00_combined.dat \n",
        "I am on file 157 with filename LC_40703-01-36-01_combined.dat \n",
        "I am on file 158 with filename LC_20187-02-05-00_combined.dat \n",
        "I am on file 159 with filename LC_40403-01-07-00_combined.dat \n",
        "I am on file 160 with filename LC_50703-01-33-01_combined.dat \n",
        "I am on file 161 with filename LC_60701-01-01-01_combined.dat \n",
        "I am on file 162 with filename LC_93701-01-10-01_combined.dat \n",
        "I am on file 163 with filename LC_60701-01-25-02_combined.dat \n",
        "I am on file 164 with filename LC_30182-01-04-00_combined.dat \n",
        "I am on file 165 with filename LC_30703-01-10-00_combined.dat \n",
        "I am on file 166 with filename LC_90701-01-23-00_combined.dat \n",
        "I am on file 167 with filename LC_90024-02-02-00_combined.dat \n",
        "I am on file 168 with filename LC_60701-01-26-00_combined.dat \n",
        "I am on file 169 with filename LC_96701-01-51-01_combined.dat \n",
        "I am on file 170 with filename LC_10258-01-04-00_combined.dat \n",
        "I am on file 171 with filename LC_90701-01-29-00_combined.dat \n",
        "I am on file 172 with filename LC_80701-01-46-01_combined.dat \n",
        "I am on file 173 with filename LC_94701-01-16-00_combined.dat \n",
        "I am on file 174 with filename LC_20402-01-28-00_combined.dat \n",
        "dt_min: 0.0078125"
       ]
      },
      {
       "output_type": "stream",
       "stream": "stdout",
       "text": [
        "\n",
        "len(da[0]): 231422\n",
        "len(da[0]): 423934\n",
        "len(da[0]): 325631\n",
        "Feature shape: (109, 910)"
       ]
      },
      {
       "output_type": "stream",
       "stream": "stdout",
       "text": [
        "\n",
        "I am on file 175 with filename LC_60701-01-17-01_combined.dat \n",
        "I am on file 176 with filename LC_90024-02-38-00_combined.dat \n",
        "I am on file 177 with filename LC_96701-01-23-00_combined.dat \n",
        "I am on file 178 with filename LC_20186-03-03-02_combined.dat \n",
        "I am on file 179 with filename LC_40703-01-20-02_combined.dat \n",
        "I am on file 180 with filename LC_90024-02-11-00_combined.dat \n",
        "I am on file 181 with filename LC_80701-01-24-01_combined.dat \n",
        "I am on file 182 with filename LC_80701-01-17-01_combined.dat \n",
        "I am on file 183 with filename LC_10408-01-14-08_combined.dat \n",
        "dt_min: 0.00390625"
       ]
      },
      {
       "output_type": "stream",
       "stream": "stdout",
       "text": [
        "\n",
        "len(da[0]): 235519\n",
        "Feature shape: (11, 910)"
       ]
      },
      {
       "output_type": "stream",
       "stream": "stdout",
       "text": [
        "\n",
        "I am on file 184 with filename LC_40703-01-39-01_combined.dat \n",
        "I am on file 185 with filename LC_93701-01-27-00_combined.dat \n",
        "I am on file 186 with filename LC_90105-01-02-01_combined.dat \n",
        "I am on file 187 with filename LC_20402-01-07-00_combined.dat \n",
        "dt_min: 0.00781249999977"
       ]
      },
      {
       "output_type": "stream",
       "stream": "stdout",
       "text": [
        "\n",
        "len(da[0]): 301054\n",
        "len(da[0]): 423934\n",
        "len(da[0]): 149502\n",
        "len(da[0]): 272382\n",
        "Feature shape: (126, 910)"
       ]
      },
      {
       "output_type": "stream",
       "stream": "stdout",
       "text": [
        "\n",
        "I am on file 188 with filename LC_94701-01-26-00_combined.dat \n",
        "I am on file 189 with filename LC_93701-01-26-01_combined.dat \n",
        "I am on file 190 with filename LC_90701-01-47-00_combined.dat \n",
        "I am on file 191 with filename LC_90701-01-17-01_combined.dat \n",
        "I am on file 192 with filename LC_93701-01-10-00_combined.dat \n",
        "I am on file 193 with filename LC_90024-02-01-00_combined.dat \n",
        "I am on file 194 with filename LC_70702-01-44-00_combined.dat \n",
        "I am on file 195 with filename LC_90105-01-04-00_combined.dat \n",
        "I am on file 196 with filename LC_91701-01-80-00_combined.dat \n",
        "I am on file 197 with filename LC_40116-01-04-00_combined.dat \n",
        "I am on file 198 with filename LC_50703-01-07-00_combined.dat \n",
        "I am on file 199 with filename LC_92702-01-14-01_combined.dat \n",
        "I am on file 200 with filename LC_96701-01-09-00_combined.dat \n",
        "I am on file 201 with filename LC_92702-01-23-01_combined.dat \n",
        "I am on file 202 with filename LC_60702-01-01-19_combined.dat \n",
        "I am on file 203 with filename LC_92702-01-02-01_combined.dat \n",
        "I am on file 204 with filename LC_20402-01-39-02_combined.dat \n",
        "dt_min: 0.00781249999989"
       ]
      },
      {
       "output_type": "stream",
       "stream": "stdout",
       "text": [
        "\n",
        "len(da[0]): 88829\n",
        "len(da[0]): 133117\n",
        "len(da[0]): 19711\n",
        "Feature shape: (20, 910)"
       ]
      },
      {
       "output_type": "stream",
       "stream": "stdout",
       "text": [
        "\n",
        "I am on file 205 with filename LC_50703-01-25-01_combined.dat \n",
        "I am on file 206 with filename LC_50703-01-14-01_combined.dat \n",
        "I am on file 207 with filename LC_60701-01-25-01_combined.dat \n",
        "I am on file 208 with filename LC_80701-01-38-03_combined.dat \n",
        "I am on file 209 with filename LC_91701-01-34-01_combined.dat \n",
        "I am on file 210 with filename LC_70702-01-36-00_combined.dat \n",
        "I am on file 211 with filename LC_40403-01-03-00_combined.dat \n",
        "I am on file 212 with filename LC_91701-01-02-02_combined.dat \n",
        "I am on file 213 with filename LC_90105-04-03-00_combined.dat \n",
        "I am on file 214 with filename LC_93701-01-03-00_combined.dat \n",
        "I am on file 215 with filename LC_93701-01-41-01_combined.dat \n",
        "I am on file 216 with filename LC_80701-01-14-00_combined.dat \n",
        "I am on file 217 with filename LC_92702-01-15-01_combined.dat \n",
        "I am on file 218 with filename LC_40703-01-15-02_combined.dat \n",
        "I am on file 219 with filename LC_90105-03-03-02_combined.dat \n",
        "I am on file 220 with filename LC_20402-01-45-02_combined.dat \n",
        "dt_min: 0.00781249999955"
       ]
      },
      {
       "output_type": "stream",
       "stream": "stdout",
       "text": [
        "\n",
        "len(da[0]): 86014\n",
        "len(da[0]): 294910\n",
        "len(da[0]): 94206\n",
        "len(da[0]): 423934\n",
        "len(da[0]): 310653\n",
        "len(da[0]): 111230\n",
        "len(da[0]): 216445"
       ]
      },
      {
       "output_type": "stream",
       "stream": "stdout",
       "text": [
        "\n",
        "len(da[0]): 180863\n",
        "Feature shape: (181, 910)"
       ]
      },
      {
       "output_type": "stream",
       "stream": "stdout",
       "text": [
        "\n",
        "I am on file 221 with filename LC_93701-01-31-01_combined.dat \n",
        "I am on file 222 with filename LC_91102-01-01-00_combined.dat \n",
        "I am on file 223 with filename LC_20402-01-30-02_combined.dat \n",
        "I am on file 224 with filename LC_90105-08-02-00_combined.dat \n",
        "I am on file 225 with filename LC_91701-01-83-01_combined.dat \n",
        "I am on file 226 with filename LC_50703-01-18-02_combined.dat \n",
        "I am on file 227 with filename LC_93701-01-40-00_combined.dat \n",
        "I am on file 228 with filename LC_70702-01-05-00_combined.dat \n",
        "I am on file 229 with filename LC_91701-01-75-00_combined.dat \n",
        "I am on file 230 with filename LC_40703-01-21-01_combined.dat \n",
        "I am on file 231 with filename LC_50703-01-60-03_combined.dat \n",
        "I am on file 232 with filename LC_95701-01-41-00_combined.dat \n",
        "I am on file 233 with filename LC_91701-01-32-00_combined.dat \n",
        "I am on file 234 with filename LC_90701-01-42-00_combined.dat \n",
        "I am on file 235 with filename LC_70702-01-28-01_combined.dat \n",
        "I am on file 236 with filename LC_94701-01-04-01_combined.dat \n",
        "I am on file 237 with filename LC_20402-01-24-00_combined.dat \n",
        "I am on file 238 with filename LC_40703-01-51-03_combined.dat \n",
        "I am on file 239 with filename LC_80701-01-55-02_combined.dat \n",
        "I am on file 240 with filename LC_60701-01-01-00_combined.dat \n",
        "I am on file 241 with filename LC_90024-02-17-00_combined.dat \n",
        "I am on file 242 with filename LC_40703-01-34-03_combined.dat \n",
        "I am on file 243 with filename LC_80701-01-41-00_combined.dat \n",
        "I am on file 244 with filename LC_50125-01-01-03_combined.dat \n",
        "I am on file 245 with filename LC_40703-01-28-01_combined.dat \n",
        "I am on file 246 with filename LC_91701-01-19-00_combined.dat \n",
        "I am on file 247 with filename LC_93701-01-18-00_combined.dat \n",
        "I am on file 248 with filename LC_90024-02-08-00_combined.dat \n",
        "I am on file 249 with filename LC_90105-03-01-00_combined.dat \n",
        "I am on file 250 with filename LC_50703-01-38-01_combined.dat \n",
        "I am on file 251 with filename LC_50703-01-52-02_combined.dat \n",
        "I am on file 252 with filename LC_94701-01-43-00_combined.dat \n",
        "I am on file 253 with filename LC_20402-01-17-00_combined.dat \n",
        "dt_min: 0.0078125"
       ]
      },
      {
       "output_type": "stream",
       "stream": "stdout",
       "text": [
        "\n",
        "len(da[0]): 165887\n",
        "Feature shape: (17, 910)"
       ]
      },
      {
       "output_type": "stream",
       "stream": "stdout",
       "text": [
        "\n",
        "I am on file 254 with filename LC_60405-01-04-04_combined.dat \n",
        "I am on file 255 with filename LC_96701-01-14-01_combined.dat \n",
        "I am on file 256 with filename LC_95701-01-35-00_combined.dat \n",
        "I am on file 257 with filename LC_91701-01-68-00_combined.dat \n",
        "I am on file 258 with filename LC_40703-01-13-01_combined.dat \n",
        "I am on file 259 with filename LC_60405-01-04-02_combined.dat \n",
        "I am on file 260 with filename LC_90105-05-01-00_combined.dat \n",
        "I am on file 261 with filename LC_92702-01-31-00_combined.dat \n",
        "I am on file 262 with filename LC_96701-01-39-00_combined.dat \n",
        "I am on file 263 with filename LC_93411-01-03-01_combined.dat \n",
        "I am on file 264 with filename LC_40115-01-07-00_combined.dat \n",
        "I am on file 265 with filename LC_40703-01-14-02_combined.dat \n",
        "I am on file 266 with filename LC_96701-01-30-00_combined.dat \n",
        "I am on file 267 with filename LC_92702-01-18-01_combined.dat \n",
        "I am on file 268 with filename LC_90024-02-41-00_combined.dat \n",
        "I am on file 269 with filename LC_40703-01-19-01_combined.dat \n",
        "I am on file 270 with filename LC_50703-01-46-01_combined.dat \n",
        "I am on file 271 with filename LC_50703-01-34-00_combined.dat \n",
        "I am on file 272 with filename LC_10408-01-22-01_combined.dat \n",
        "dt_min: 0.00390624999977"
       ]
      },
      {
       "output_type": "stream",
       "stream": "stdout",
       "text": [
        "\n",
        "len(da[0]): 847871\n",
        "Feature shape: (48, 910)"
       ]
      },
      {
       "output_type": "stream",
       "stream": "stdout",
       "text": [
        "\n",
        "I am on file 273 with filename LC_30703-01-07-00_combined.dat \n",
        "I am on file 274 with filename LC_91701-01-24-00_combined.dat \n",
        "I am on file 275 with filename LC_92702-01-15-00_combined.dat \n",
        "I am on file 276 with filename LC_96701-01-49-00_combined.dat \n",
        "I am on file 277 with filename LC_91701-01-30-01_combined.dat \n",
        "I am on file 278 with filename LC_50703-01-20-03_combined.dat \n",
        "I am on file 279 with filename LC_91701-01-39-01_combined.dat \n",
        "I am on file 280 with filename LC_91701-01-01-00_combined.dat \n",
        "I am on file 281 with filename LC_90105-05-02-00_combined.dat \n",
        "I am on file 282 with filename LC_92702-01-19-00_combined.dat \n",
        "I am on file 283 with filename LC_95701-01-33-00_combined.dat \n",
        "I am on file 284 with filename LC_60701-01-31-01_combined.dat \n",
        "I am on file 285 with filename LC_50703-01-47-02_combined.dat \n",
        "I am on file 286 with filename LC_60405-01-04-05_combined.dat \n",
        "I am on file 287 with filename LC_95701-01-45-01_combined.dat \n",
        "I am on file 288 with filename LC_40703-01-49-00_combined.dat \n",
        "I am on file 289 with filename LC_60405-01-04-01_combined.dat \n",
        "I am on file 290 with filename LC_91701-01-20-00_combined.dat \n",
        "I am on file 291 with filename LC_60100-01-01-00_combined.dat \n",
        "I am on file 292 with filename LC_20402-01-34-01_combined.dat \n",
        "dt_min: 0.00781249999955"
       ]
      },
      {
       "output_type": "stream",
       "stream": "stdout",
       "text": [
        "\n",
        "len(da[0]): 32254\n",
        "len(da[0]): 344061\n",
        "len(da[0]): 51710\n",
        "Feature shape: (41, 910)"
       ]
      },
      {
       "output_type": "stream",
       "stream": "stdout",
       "text": [
        "\n",
        "I am on file 293 with filename LC_91701-01-05-02_combined.dat \n",
        "I am on file 294 with filename LC_30402-01-11-00_combined.dat \n",
        "I am on file 295 with filename LC_95701-01-25-00_combined.dat \n",
        "I am on file 296 with filename LC_50703-01-43-01_combined.dat \n",
        "I am on file 297 with filename LC_91701-01-66-00_combined.dat \n",
        "I am on file 298 with filename LC_96701-01-02-00_combined.dat \n",
        "I am on file 299 with filename LC_90701-01-02-00_combined.dat \n",
        "I am on file 300 with filename LC_50405-01-04-00_combined.dat \n",
        "I am on file 301 with filename LC_95701-01-45-00_combined.dat \n",
        "I am on file 302 with filename LC_91701-01-62-00_combined.dat \n",
        "I am on file 303 with filename LC_91701-01-48-00_combined.dat \n",
        "I am on file 304 with filename LC_92702-01-28-02_combined.dat \n",
        "I am on file 305 with filename LC_96701-01-10-00_combined.dat \n",
        "I am on file 306 with filename LC_92702-01-28-00_combined.dat \n",
        "I am on file 307 with filename LC_92702-01-32-02_combined.dat \n",
        "I am on file 308 with filename LC_90024-02-10-00_combined.dat \n",
        "I am on file 309 with filename LC_20402-01-33-00_combined.dat \n",
        "dt_min: 0.00781249999955"
       ]
      },
      {
       "output_type": "stream",
       "stream": "stdout",
       "text": [
        "\n",
        "len(da[0]): 165246\n",
        "len(da[0]): 230013\n",
        "len(da[0]): 428031\n",
        "Feature shape: (91, 910)"
       ]
      },
      {
       "output_type": "stream",
       "stream": "stdout",
       "text": [
        "\n",
        "I am on file 310 with filename LC_80701-01-58-02_combined.dat \n",
        "I am on file 311 with filename LC_30703-01-18-00_combined.dat \n",
        "I am on file 312 with filename LC_91701-01-09-01_combined.dat \n",
        "I am on file 313 with filename LC_90105-01-03-00_combined.dat \n",
        "I am on file 314 with filename LC_10408-01-01-01_combined.dat \n",
        "I am on file 315 with filename LC_50703-01-46-00_combined.dat \n",
        "I am on file 316 with filename LC_70703-01-01-13_combined.dat \n",
        "I am on file 317 with filename LC_40703-01-32-00_combined.dat \n",
        "I am on file 318 with filename LC_30402-01-08-00_combined.dat \n",
        "I am on file 319 with filename LC_91701-01-43-01_combined.dat \n",
        "I am on file 320 with filename LC_90024-02-42-00_combined.dat \n",
        "I am on file 321 with filename LC_91701-01-68-02_combined.dat \n",
        "I am on file 322 with filename LC_20402-01-19-00_combined.dat \n",
        "dt_min: 0.0078125"
       ]
      },
      {
       "output_type": "stream",
       "stream": "stdout",
       "text": [
        "\n",
        "len(da[0]): 198654\n",
        "len(da[0]): 434174\n",
        "len(da[0]): 36862\n",
        "len(da[0]): 133119\n",
        "Feature shape: (84, 910)"
       ]
      },
      {
       "output_type": "stream",
       "stream": "stdout",
       "text": [
        "\n",
        "I am on file 323 with filename LC_20402-01-10-00_combined.dat \n",
        "dt_min: 0.00781249999955"
       ]
      },
      {
       "output_type": "stream",
       "stream": "stdout",
       "text": [
        "\n",
        "len(da[0]): 400894\n",
        "len(da[0]): 425982\n",
        "len(da[0]): 425983\n",
        "Feature shape: (141, 910)"
       ]
      },
      {
       "output_type": "stream",
       "stream": "stdout",
       "text": [
        "\n",
        "I am on file 324 with filename LC_20402-01-38-00_combined.dat \n",
        "dt_min: 0.00781249999818"
       ]
      },
      {
       "output_type": "stream",
       "stream": "stdout",
       "text": [
        "\n",
        "len(da[0]): 388862\n",
        "len(da[0]): 184573\n",
        "len(da[0]): 229118\n",
        "len(da[0]): 147455\n",
        "Feature shape: (101, 910)"
       ]
      },
      {
       "output_type": "stream",
       "stream": "stdout",
       "text": [
        "\n",
        "I am on file 325 with filename LC_30703-01-28-01_combined.dat \n",
        "I am on file 326 with filename LC_50703-01-35-02_combined.dat \n",
        "I am on file 327 with filename LC_90105-07-01-00_combined.dat \n",
        "I am on file 328 with filename LC_60701-01-03-00_combined.dat \n",
        "I am on file 329 with filename LC_40403-01-05-02_combined.dat \n",
        "I am on file 330 with filename LC_50703-01-62-02_combined.dat \n",
        "I am on file 331 with filename LC_91701-01-07-00_combined.dat \n",
        "I am on file 332 with filename LC_40116-01-01-06_combined.dat \n",
        "I am on file 333 with filename LC_20402-01-20-00_combined.dat \n",
        "dt_min: 0.0078125"
       ]
      },
      {
       "output_type": "stream",
       "stream": "stdout",
       "text": [
        "\n",
        "len(da[0]): 133118\n",
        "len(da[0]): 432126\n",
        "len(da[0]): 339967\n",
        "Feature shape: (100, 910)"
       ]
      },
      {
       "output_type": "stream",
       "stream": "stdout",
       "text": [
        "\n",
        "I am on file 334 with filename LC_80701-01-27-00_combined.dat \n",
        "I am on file 335 with filename LC_50703-01-02-02_combined.dat \n",
        "I am on file 336 with filename LC_50125-01-05-01_combined.dat \n",
        "I am on file 337 with filename LC_20402-01-56-00_combined.dat \n",
        "dt_min: 0.00781249999989"
       ]
      },
      {
       "output_type": "stream",
       "stream": "stdout",
       "text": [
        "\n",
        "len(da[0]): 307198\n",
        "len(da[0]): 425982\n",
        "len(da[0]): 46973\n",
        "len(da[0]): 376959\n",
        "Feature shape: (127, 910)"
       ]
      },
      {
       "output_type": "stream",
       "stream": "stdout",
       "text": [
        "\n",
        "I am on file 338 with filename LC_50703-01-40-03_combined.dat \n",
        "I am on file 339 with filename LC_50125-01-03-00_combined.dat \n",
        "I am on file 340 with filename LC_80701-01-01-00_combined.dat \n",
        "I am on file 341 with filename LC_91701-01-21-01_combined.dat \n",
        "I am on file 342 with filename LC_80701-01-52-00_combined.dat \n",
        "I am on file 343 with filename LC_40703-01-06-00_combined.dat \n",
        "I am on file 344 with filename LC_50703-01-38-02_combined.dat \n",
        "I am on file 345 with filename LC_30402-01-09-01_combined.dat \n",
        "I am on file 346 with filename LC_40703-01-35-00_combined.dat \n",
        "I am on file 347 with filename LC_90701-01-29-02_combined.dat \n",
        "I am on file 348 with filename LC_20402-01-55-00_combined.dat \n",
        "dt_min: 0.00781249999989"
       ]
      },
      {
       "output_type": "stream",
       "stream": "stdout",
       "text": [
        "\n",
        "len(da[0]): 228095\n",
        "len(da[0]): 274685\n",
        "len(da[0]): 145150\n",
        "len(da[0]): 415743\n",
        "Feature shape: (115, 910)"
       ]
      },
      {
       "output_type": "stream",
       "stream": "stdout",
       "text": [
        "\n",
        "I am on file 349 with filename LC_80701-01-20-02_combined.dat \n",
        "I am on file 350 with filename LC_70702-01-44-01_combined.dat \n",
        "I am on file 351 with filename LC_60701-01-17-02_combined.dat \n",
        "I am on file 352 with filename LC_50703-01-58-01_combined.dat \n",
        "I am on file 353 with filename LC_20402-01-26-02_combined.dat \n",
        "dt_min: 0.0078125"
       ]
      },
      {
       "output_type": "stream",
       "stream": "stdout",
       "text": [
        "\n",
        "len(da[0]): 227327\n",
        "Feature shape: (24, 910)"
       ]
      },
      {
       "output_type": "stream",
       "stream": "stdout",
       "text": [
        "\n",
        "I am on file 354 with filename LC_60701-01-23-01_combined.dat \n",
        "I am on file 355 with filename LC_95701-01-13-00_combined.dat \n",
        "I am on file 356 with filename LC_96701-01-05-00_combined.dat \n",
        "I am on file 357 with filename LC_50703-01-52-00_combined.dat \n",
        "I am on file 358 with filename LC_50703-01-45-02_combined.dat \n",
        "I am on file 359 with filename LC_10258-01-03-00_combined.dat \n",
        "I am on file 360 with filename LC_20402-01-01-00_combined.dat \n",
        "I am on file 361 with filename LC_40703-01-20-01_combined.dat \n",
        "I am on file 362 with filename LC_50703-01-16-01_combined.dat \n",
        "I am on file 363 with filename LC_90701-01-35-01_combined.dat \n",
        "I am on file 364 with filename LC_93701-01-33-00_combined.dat \n",
        "I am on file 365 with filename LC_70702-01-25-00_combined.dat \n",
        "I am on file 366 with filename LC_80701-01-61-02_combined.dat \n",
        "I am on file 367 with filename LC_90024-02-19-00_combined.dat \n",
        "I am on file 368 with filename LC_30402-01-20-00_combined.dat \n",
        "I am on file 369 with filename LC_60701-01-18-02_combined.dat \n",
        "I am on file 370 with filename LC_20402-01-58-01_combined.dat \n",
        "I am on file 371 with filename LC_90024-02-12-00_combined.dat \n",
        "I am on file 372 with filename LC_90105-09-01-00_combined.dat \n",
        "I am on file 373 with filename LC_92702-01-26-00_combined.dat \n",
        "I am on file 374 with filename LC_70703-01-01-07_combined.dat \n",
        "I am on file 375 with filename LC_60701-01-15-00_combined.dat \n",
        "I am on file 376 with filename LC_40703-01-44-03_combined.dat \n",
        "I am on file 377 with filename LC_80127-02-02-01_combined.dat \n",
        "I am on file 378 with filename LC_30703-01-29-00_combined.dat \n",
        "I am on file 379 with filename LC_90701-01-07-00_combined.dat \n",
        "I am on file 380 with filename LC_40403-01-06-01_combined.dat \n",
        "I am on file 381 with filename LC_70702-01-13-00_combined.dat \n",
        "I am on file 382 with filename LC_50703-01-58-00_combined.dat \n",
        "I am on file 383 with filename LC_60701-01-26-01_combined.dat \n",
        "I am on file 384 with filename LC_80701-01-05-00_combined.dat \n",
        "I am on file 385 with filename LC_40703-01-05-00_combined.dat \n",
        "I am on file 386 with filename LC_70703-01-01-02_combined.dat \n",
        "I am on file 387 with filename LC_30703-01-34-00_combined.dat \n",
        "I am on file 388 with filename LC_10408-01-33-00_combined.dat \n",
        "I am on file 389 with filename LC_96701-01-10-01_combined.dat \n",
        "I am on file 390 with filename LC_60701-01-05-01_combined.dat \n",
        "I am on file 391 with filename LC_30402-01-02-00_combined.dat \n",
        "I am on file 392 with filename LC_96701-01-50-01_combined.dat \n",
        "I am on file 393 with filename LC_96701-01-15-00_combined.dat \n",
        "I am on file 394 with filename LC_91701-01-60-00_combined.dat \n",
        "I am on file 395 with filename LC_20402-01-43-02_combined.dat \n",
        "dt_min: 0.00781249999999"
       ]
      },
      {
       "output_type": "stream",
       "stream": "stdout",
       "text": [
        "\n",
        "len(da[0]): 65535\n",
        "Feature shape: (4, 910)\n",
        "I am on file 396 with filename LC_94701-01-03-01_combined.dat \n",
        "I am on file 397 with filename LC_60701-01-32-00_combined.dat \n",
        "I am on file 398 with filename LC_30703-01-15-00_combined.dat \n",
        "I am on file 399 with filename LC_96701-01-47-00_combined.dat \n",
        "I am on file 400 with filename LC_94701-01-15-00_combined.dat \n",
        "I am on file 401 with filename LC_80701-01-34-01_combined.dat \n",
        "I am on file 402 with filename LC_91701-01-58-00_combined.dat \n",
        "I am on file 403 with filename LC_93701-01-43-00_combined.dat \n",
        "I am on file 404 with filename LC_40703-01-33-01_combined.dat \n",
        "I am on file 405 with filename LC_90024-02-25-00_combined.dat \n",
        "I am on file 406 with filename LC_50703-01-66-01_combined.dat \n",
        "I am on file 407 with filename LC_60701-01-26-02_combined.dat \n",
        "I am on file 408 with filename LC_40403-01-05-00_combined.dat \n",
        "I am on file 409 with filename LC_70702-01-23-00_combined.dat \n",
        "I am on file 410 with filename LC_10408-01-10-00_combined.dat \n",
        "dt_min: 0.00390624999977"
       ]
      },
      {
       "output_type": "stream",
       "stream": "stdout",
       "text": [
        "\n",
        "len(da[0]): 851966\n",
        "len(da[0]): 835583\n",
        "Feature shape: (95, 910)"
       ]
      },
      {
       "output_type": "stream",
       "stream": "stdout",
       "text": [
        "\n",
        "I am on file 411 with filename LC_50703-01-10-02_combined.dat \n",
        "I am on file 412 with filename LC_30703-01-05-00_combined.dat \n",
        "I am on file 413 with filename LC_91701-01-55-00_combined.dat \n",
        "I am on file 414 with filename LC_50703-01-61-02_combined.dat \n",
        "I am on file 415 with filename LC_40116-01-06-01_combined.dat \n",
        "I am on file 416 with filename LC_50703-01-12-00_combined.dat \n",
        "I am on file 417 with filename LC_20402-01-05-00_combined.dat \n",
        "dt_min: 0.00781249999955"
       ]
      },
      {
       "output_type": "stream",
       "stream": "stdout",
       "text": [
        "\n",
        "len(da[0]): 282878\n",
        "len(da[0]): 130813\n",
        "len(da[0]): 225534\n",
        "len(da[0]): 132093\n",
        "len(da[0]): 68349\n",
        "len(da[0]): 350207\n",
        "Feature shape: (124, 910)"
       ]
      },
      {
       "output_type": "stream",
       "stream": "stdout",
       "text": [
        "\n",
        "I am on file 418 with filename LC_80188-01-01-04_combined.dat \n",
        "I am on file 419 with filename LC_93411-01-03-03_combined.dat \n",
        "I am on file 420 with filename LC_95701-01-27-00_combined.dat \n",
        "I am on file 421 with filename LC_80701-01-48-01_combined.dat \n",
        "I am on file 422 with filename LC_94701-01-53-00_combined.dat \n",
        "I am on file 423 with filename LC_90105-05-03-02_combined.dat \n",
        "I am on file 424 with filename LC_60405-01-04-00_combined.dat \n",
        "I am on file 425 with filename LC_40115-01-10-02_combined.dat \n",
        "I am on file 0 with filename LC_80701-01-30-00_combined.dat "
       ]
      },
      {
       "output_type": "stream",
       "stream": "stdout",
       "text": [
        "\n",
        "I am on file 1 with filename LC_70702-01-50-01_combined.dat \n",
        "I am on file 2 with filename LC_80127-05-06-00_combined.dat \n",
        "I am on file 3 with filename LC_60701-01-20-00_combined.dat \n",
        "I am on file 4 with filename LC_90105-03-03-00_combined.dat \n",
        "I am on file 5 with filename LC_91701-01-26-00_combined.dat \n",
        "I am on file 6 with filename LC_90105-05-03-05_combined.dat \n",
        "I am on file 7 with filename LC_10408-01-24-00_combined.dat \n",
        "dt_min: 0.00390624999977"
       ]
      },
      {
       "output_type": "stream",
       "stream": "stdout",
       "text": [
        "\n",
        "len(da[0]): 626686\n",
        "len(da[0]): 847870\n",
        "len(da[0]): 753662\n",
        "len(da[0]): 233471"
       ]
      },
      {
       "output_type": "stream",
       "stream": "stdout",
       "text": [
        "\n",
        "Feature shape: (136, 910)"
       ]
      },
      {
       "output_type": "stream",
       "stream": "stdout",
       "text": [
        "\n",
        "I am on file 8 with filename LC_70702-01-11-01_combined.dat \n",
        "I am on file 9 with filename LC_30703-01-04-00_combined.dat \n",
        "I am on file 10 with filename LC_93701-01-09-00_combined.dat \n",
        "I am on file 11 with filename LC_10408-01-32-00_combined.dat \n",
        "dt_min: 0.00390624999977"
       ]
      },
      {
       "output_type": "stream",
       "stream": "stdout",
       "text": [
        "\n",
        "len(da[0]): 454654\n",
        "len(da[0]): 22525\n",
        "len(da[0]): 258557\n",
        "len(da[0]): 847870\n",
        "len(da[0]): 294911\n",
        "Feature shape: (98, 910)"
       ]
      },
      {
       "output_type": "stream",
       "stream": "stdout",
       "text": [
        "\n",
        "I am on file 12 with filename LC_92702-01-06-01_combined.dat \n",
        "I am on file 13 with filename LC_40703-01-35-01_combined.dat \n",
        "I am on file 14 with filename LC_95701-01-51-00_combined.dat \n",
        "I am on file 15 with filename LC_90701-01-08-00_combined.dat \n",
        "I am on file 16 with filename LC_80701-01-16-00_combined.dat \n",
        "I am on file 17 with filename LC_92702-01-24-00_combined.dat \n",
        "I am on file 18 with filename LC_91701-01-23-02_combined.dat \n",
        "I am on file 19 with filename LC_20402-01-30-01_combined.dat \n",
        "I am on file 20 with filename LC_80701-01-60-01_combined.dat \n",
        "I am on file 21 with filename LC_70702-01-32-00_combined.dat \n",
        "I am on file 22 with filename LC_50703-01-52-01_combined.dat \n",
        "I am on file 23 with filename LC_60702-01-01-15_combined.dat \n",
        "I am on file 24 with filename LC_93701-01-22-00_combined.dat \n",
        "I am on file 25 with filename LC_96701-01-16-00_combined.dat \n",
        "I am on file 26 with filename LC_60701-01-13-03_combined.dat \n",
        "I am on file 27 with filename LC_94701-01-58-01_combined.dat \n",
        "I am on file 28 with filename LC_20402-01-53-02_combined.dat \n",
        "I am on file 29 with filename LC_92702-01-09-00_combined.dat \n",
        "I am on file 30 with filename LC_94701-01-09-00_combined.dat \n",
        "I am on file 31 with filename LC_60701-01-18-01_combined.dat \n",
        "I am on file 32 with filename LC_70703-01-01-09_combined.dat \n",
        "I am on file 33 with filename LC_94701-01-48-01_combined.dat \n",
        "I am on file 34 with filename LC_70702-01-07-00_combined.dat \n",
        "I am on file 35 with filename LC_60701-01-11-02_combined.dat \n",
        "I am on file 36 with filename LC_92702-01-25-01_combined.dat \n",
        "I am on file 37 with filename LC_90105-10-01-00_combined.dat \n",
        "I am on file 38 with filename LC_90105-09-04-00_combined.dat \n",
        "I am on file 39 with filename LC_80701-01-23-01_combined.dat \n",
        "I am on file 40 with filename LC_50703-01-04-03_combined.dat \n",
        "I am on file 41 with filename LC_94701-01-05-01_combined.dat \n",
        "I am on file 42 with filename LC_94701-01-03-00_combined.dat \n",
        "I am on file 43 with filename LC_20402-01-18-00_combined.dat \n",
        "dt_min: 0.00781249999955"
       ]
      },
      {
       "output_type": "stream",
       "stream": "stdout",
       "text": [
        "\n",
        "len(da[0]): 292990\n",
        "len(da[0]): 135038\n",
        "Feature shape: (45, 910)"
       ]
      },
      {
       "output_type": "stream",
       "stream": "stdout",
       "text": [
        "\n",
        "I am on file 44 with filename LC_40703-01-04-02_combined.dat \n",
        "I am on file 45 with filename LC_93701-01-35-00_combined.dat \n",
        "I am on file 46 with filename LC_92702-01-23-00_combined.dat \n",
        "I am on file 47 with filename LC_20186-03-02-05_combined.dat \n",
        "I am on file 48 with filename LC_20402-01-52-00_combined.dat \n",
        "dt_min: 0.00781249999989"
       ]
      },
      {
       "output_type": "stream",
       "stream": "stdout",
       "text": [
        "\n",
        "len(da[0]): 251902\n",
        "len(da[0]): 237566\n",
        "len(da[0]): 8189\n",
        "len(da[0]): 188415\n",
        "Feature shape: (71, 910)"
       ]
      },
      {
       "output_type": "stream",
       "stream": "stdout",
       "text": [
        "\n",
        "I am on file 49 with filename LC_96378-01-01-03_combined.dat \n",
        "I am on file 50 with filename LC_95701-01-16-00_combined.dat \n",
        "I am on file 51 with filename LC_93701-01-06-00_combined.dat \n",
        "I am on file 52 with filename LC_94701-01-13-00_combined.dat \n",
        "I am on file 53 with filename LC_91701-01-12-00_combined.dat \n",
        "I am on file 54 with filename LC_91701-01-73-00_combined.dat \n",
        "I am on file 55 with filename LC_50703-01-65-01_combined.dat \n",
        "I am on file 56 with filename LC_94701-01-34-00_combined.dat \n",
        "I am on file 57 with filename LC_90024-02-40-00_combined.dat \n",
        "I am on file 58 with filename LC_20402-01-27-02_combined.dat \n",
        "dt_min: 0.0078125"
       ]
      },
      {
       "output_type": "stream",
       "stream": "stdout",
       "text": [
        "\n",
        "len(da[0]): 167935\n",
        "Feature shape: (17, 910)"
       ]
      },
      {
       "output_type": "stream",
       "stream": "stdout",
       "text": [
        "\n",
        "I am on file 59 with filename LC_80701-01-44-02_combined.dat \n",
        "I am on file 60 with filename LC_40703-01-50-01_combined.dat \n",
        "I am on file 61 with filename LC_90701-01-14-02_combined.dat \n",
        "I am on file 62 with filename LC_70702-01-08-01_combined.dat \n",
        "I am on file 63 with filename LC_80701-01-58-03_combined.dat \n",
        "I am on file 64 with filename LC_40703-01-40-03_combined.dat \n",
        "I am on file 65 with filename LC_90701-01-31-02_combined.dat \n",
        "I am on file 66 with filename LC_90701-01-01-02_combined.dat \n",
        "I am on file 67 with filename LC_80701-01-25-01_combined.dat \n",
        "I am on file 68 with filename LC_80701-01-54-00_combined.dat \n",
        "I am on file 69 with filename LC_93701-01-40-01_combined.dat \n",
        "I am on file 70 with filename LC_50703-01-05-01_combined.dat \n",
        "I am on file 71 with filename LC_80701-01-45-02_combined.dat \n",
        "I am on file 72 with filename LC_50703-01-15-01_combined.dat \n",
        "I am on file 73 with filename LC_80701-01-53-01_combined.dat \n",
        "I am on file 74 with filename LC_95701-01-24-00_combined.dat \n",
        "I am on file 75 with filename LC_80701-01-33-01_combined.dat \n",
        "I am on file 76 with filename LC_90701-01-16-01_combined.dat \n",
        "I am on file 77 with filename LC_50703-01-27-03_combined.dat \n",
        "I am on file 78 with filename LC_91701-01-16-00_combined.dat \n",
        "I am on file 79 with filename LC_60701-01-02-00_combined.dat \n",
        "I am on file 80 with filename LC_30402-01-07-01_combined.dat \n",
        "I am on file 81 with filename LC_40403-01-10-00_combined.dat \n",
        "I am on file 82 with filename LC_50703-01-41-03_combined.dat \n",
        "I am on file 83 with filename LC_94701-01-61-00_combined.dat \n",
        "I am on file 84 with filename LC_50703-01-48-00_combined.dat \n",
        "I am on file 85 with filename LC_50703-01-64-00_combined.dat \n",
        "I am on file 86 with filename LC_60100-01-02-00_combined.dat \n",
        "I am on file 87 with filename LC_30703-01-37-00_combined.dat \n",
        "I am on file 88 with filename LC_60701-01-04-02_combined.dat \n",
        "I am on file 89 with filename LC_90105-01-02-02_combined.dat \n",
        "I am on file 90 with filename LC_91701-01-14-01_combined.dat \n",
        "I am on file 91 with filename LC_80127-05-01-00_combined.dat \n",
        "I am on file 92 with filename LC_93701-01-01-00_combined.dat \n",
        "I am on file 93 with filename LC_50703-01-42-00_combined.dat \n",
        "I am on file 94 with filename LC_93701-01-29-00_combined.dat \n",
        "I am on file 95 with filename LC_95701-01-25-01_combined.dat \n",
        "I am on file 96 with filename LC_92092-01-01-01_combined.dat \n",
        "I am on file 97 with filename LC_10408-01-14-07_combined.dat \n",
        "dt_min: 0.00390625"
       ]
      },
      {
       "output_type": "stream",
       "stream": "stdout",
       "text": [
        "\n",
        "len(da[0]): 202750\n",
        "len(da[0]): 12286\n",
        "Feature shape: (9, 910)\n",
        "I am on file 98 with filename LC_94701-01-05-00_combined.dat \n",
        "I am on file 99 with filename LC_95701-01-28-00_combined.dat \n",
        "I am on file 100 with filename LC_80701-01-53-00_combined.dat \n",
        "I am on file 101 with filename LC_80701-01-19-02_combined.dat \n",
        "I am on file 102 with filename LC_50703-01-51-00_combined.dat \n",
        "I am on file 103 with filename LC_30703-01-28-00_combined.dat \n",
        "I am on file 104 with filename LC_40703-01-39-00_combined.dat \n",
        "I am on file 105 with filename LC_90701-01-18-00_combined.dat \n",
        "I am on file 106 with filename LC_92092-01-01-00_combined.dat \n",
        "I am on file 107 with filename LC_80701-01-02-01_combined.dat \n",
        "I am on file 108 with filename LC_40116-01-01-01_combined.dat \n",
        "I am on file 109 with filename LC_40115-01-10-01_combined.dat \n",
        "I am on file 110 with filename LC_20186-03-01-03_combined.dat \n",
        "I am on file 111 with filename LC_60701-01-21-00_combined.dat \n",
        "I am on file 112 with filename LC_90701-01-05-00_combined.dat \n",
        "I am on file 113 with filename LC_10408-01-37-00_combined.dat \n",
        "I am on file 114 with filename LC_50703-01-02-01_combined.dat \n",
        "I am on file 115 with filename LC_90701-01-07-01_combined.dat \n",
        "I am on file 116 with filename LC_90701-01-26-00_combined.dat \n",
        "I am on file 117 with filename LC_93701-01-13-00_combined.dat \n",
        "I am on file 118 with filename LC_80701-01-19-00_combined.dat \n",
        "I am on file 119 with filename LC_40703-01-19-00_combined.dat \n",
        "I am on file 120 with filename LC_90701-01-12-00_combined.dat \n",
        "I am on file 121 with filename LC_70702-01-41-01_combined.dat \n",
        "I am on file 122 with filename LC_93411-01-02-01_combined.dat \n",
        "I am on file 123 with filename LC_20402-01-41-00_combined.dat \n",
        "dt_min: 0.00781249999989"
       ]
      },
      {
       "output_type": "stream",
       "stream": "stdout",
       "text": [
        "\n",
        "len(da[0]): 278399\n",
        "Feature shape: (30, 910)"
       ]
      },
      {
       "output_type": "stream",
       "stream": "stdout",
       "text": [
        "\n",
        "I am on file 124 with filename LC_50703-01-04-02_combined.dat \n",
        "I am on file 125 with filename LC_90105-05-03-04_combined.dat \n",
        "I am on file 126 with filename LC_50703-01-33-02_combined.dat \n",
        "I am on file 127 with filename LC_10408-01-45-00_combined.dat \n",
        "dt_min: 0.00390624999977"
       ]
      },
      {
       "output_type": "stream",
       "stream": "stdout",
       "text": [
        "\n",
        "len(da[0]): 622590\n",
        "len(da[0]): 593918\n",
        "len(da[0]): 577534\n",
        "len(da[0]): 192254"
       ]
      },
      {
       "output_type": "stream",
       "stream": "stdout",
       "text": [
        "\n",
        "len(da[0]): 381182\n",
        "Feature shape: (127, 910)"
       ]
      },
      {
       "output_type": "stream",
       "stream": "stdout",
       "text": [
        "\n",
        "I am on file 128 with filename LC_91701-01-03-01_combined.dat \n",
        "I am on file 129 with filename LC_70702-01-47-01_combined.dat \n",
        "I am on file 130 with filename LC_92702-01-14-00_combined.dat \n",
        "I am on file 131 with filename LC_93701-01-07-01_combined.dat \n",
        "I am on file 132 with filename LC_95701-01-18-00_combined.dat \n",
        "I am on file 133 with filename LC_60702-01-01-28_combined.dat \n",
        "I am on file 134 with filename LC_40703-01-41-00_combined.dat \n",
        "I am on file 135 with filename LC_20186-03-03-01_combined.dat \n",
        "I am on file 136 with filename LC_80701-01-09-02_combined.dat \n",
        "I am on file 137 with filename LC_50703-01-48-02_combined.dat \n",
        "I am on file 138 with filename LC_90701-01-49-00_combined.dat \n",
        "I am on file 139 with filename LC_10408-01-34-00_combined.dat \n",
        "dt_min: 0.00390625"
       ]
      },
      {
       "output_type": "stream",
       "stream": "stdout",
       "text": [
        "\n",
        "len(da[0]): 307198\n",
        "len(da[0]): 206334\n",
        "len(da[0]): 637437\n",
        "len(da[0]): 843775\n",
        "Feature shape: (107, 910)"
       ]
      },
      {
       "output_type": "stream",
       "stream": "stdout",
       "text": [
        "\n",
        "I am on file 140 with filename LC_30703-01-16-00_combined.dat \n",
        "I am on file 141 with filename LC_91701-01-85-01_combined.dat \n",
        "I am on file 142 with filename LC_95701-01-39-00_combined.dat \n",
        "I am on file 143 with filename LC_96701-01-41-00_combined.dat \n",
        "I am on file 144 with filename LC_80701-01-60-00_combined.dat \n",
        "I am on file 145 with filename LC_96378-01-01-00_combined.dat \n",
        "I am on file 146 with filename LC_40703-01-22-01_combined.dat \n",
        "I am on file 147 with filename LC_20402-01-14-00_combined.dat \n",
        "dt_min: 0.00781249999955"
       ]
      },
      {
       "output_type": "stream",
       "stream": "stdout",
       "text": [
        "\n",
        "len(da[0]): 354686\n",
        "len(da[0]): 423934\n",
        "len(da[0]): 423935\n",
        "Feature shape: (136, 910)"
       ]
      },
      {
       "output_type": "stream",
       "stream": "stdout",
       "text": [
        "\n",
        "I am on file 148 with filename LC_93701-01-08-01_combined.dat \n",
        "I am on file 149 with filename LC_80701-01-06-00_combined.dat \n",
        "I am on file 150 with filename LC_10408-01-44-00_combined.dat \n",
        "dt_min: 0.00390624999977"
       ]
      },
      {
       "output_type": "stream",
       "stream": "stdout",
       "text": [
        "\n",
        "len(da[0]): 618494\n",
        "len(da[0]): 528382\n",
        "len(da[0]): 64766\n",
        "len(da[0]): 443133\n",
        "len(da[0]): 471039"
       ]
      },
      {
       "output_type": "stream",
       "stream": "stdout",
       "text": [
        "\n",
        "Feature shape: (112, 910)"
       ]
      },
      {
       "output_type": "stream",
       "stream": "stdout",
       "text": [
        "\n",
        "I am on file 151 with filename LC_96701-01-20-00_combined.dat \n",
        "I am on file 152 with filename LC_20402-01-37-02_combined.dat \n",
        "dt_min: 0.00781249999989"
       ]
      },
      {
       "output_type": "stream",
       "stream": "stdout",
       "text": [
        "\n",
        "len(da[0]): 264191\n",
        "Feature shape: (29, 910)"
       ]
      },
      {
       "output_type": "stream",
       "stream": "stdout",
       "text": [
        "\n",
        "I am on file 153 with filename LC_90701-01-13-00_combined.dat \n",
        "I am on file 154 with filename LC_60702-01-01-29_combined.dat \n",
        "I am on file 155 with filename LC_50703-01-28-00_combined.dat \n",
        "I am on file 156 with filename LC_80701-01-35-00_combined.dat \n",
        "I am on file 157 with filename LC_95701-01-30-00_combined.dat \n",
        "I am on file 158 with filename LC_50703-01-45-00_combined.dat \n",
        "I am on file 159 with filename LC_10408-01-19-00_combined.dat \n",
        "dt_min: 0.00390624999977"
       ]
      },
      {
       "output_type": "stream",
       "stream": "stdout",
       "text": [
        "\n",
        "len(da[0]): 350974\n",
        "len(da[0]): 197886\n",
        "Feature shape: (27, 910)"
       ]
      },
      {
       "output_type": "stream",
       "stream": "stdout",
       "text": [
        "\n",
        "I am on file 160 with filename LC_30402-01-07-00_combined.dat \n",
        "I am on file 161 with filename LC_30402-01-01-00_combined.dat \n",
        "I am on file 162 with filename LC_92702-01-25-00_combined.dat \n",
        "I am on file 163 with filename LC_10408-01-16-00_combined.dat \n",
        "dt_min: 0.00390624999977"
       ]
      },
      {
       "output_type": "stream",
       "stream": "stdout",
       "text": [
        "\n",
        "len(da[0]): 594431\n",
        "Feature shape: (33, 910)"
       ]
      },
      {
       "output_type": "stream",
       "stream": "stdout",
       "text": [
        "\n",
        "I am on file 164 with filename LC_93701-01-26-00_combined.dat \n",
        "I am on file 165 with filename LC_70702-01-01-00_combined.dat \n",
        "I am on file 166 with filename LC_40703-01-09-00_combined.dat \n",
        "I am on file 167 with filename LC_94701-01-55-01_combined.dat \n",
        "I am on file 168 with filename LC_20402-01-02-02_combined.dat \n",
        "I am on file 169 with filename LC_90701-01-36-00_combined.dat \n",
        "I am on file 170 with filename LC_80701-01-44-00_combined.dat \n",
        "I am on file 171 with filename LC_20402-01-58-00_combined.dat \n",
        "I am on file 172 with filename LC_50703-01-37-00_combined.dat \n",
        "I am on file 173 with filename LC_60701-01-21-01_combined.dat \n",
        "I am on file 174 with filename LC_91701-01-76-00_combined.dat \n",
        "I am on file 175 with filename LC_96701-01-07-01_combined.dat \n",
        "I am on file 176 with filename LC_40703-01-04-01_combined.dat \n",
        "I am on file 177 with filename LC_60701-01-23-00_combined.dat \n",
        "I am on file 178 with filename LC_60701-01-07-02_combined.dat \n",
        "I am on file 179 with filename LC_70702-01-02-00_combined.dat \n",
        "I am on file 180 with filename LC_93701-01-09-01_combined.dat \n",
        "I am on file 181 with filename LC_20402-01-27-00_combined.dat \n",
        "dt_min: 0.0078125"
       ]
      },
      {
       "output_type": "stream",
       "stream": "stdout",
       "text": [
        "\n",
        "len(da[0]): 212991\n",
        "Feature shape: (22, 910)"
       ]
      },
      {
       "output_type": "stream",
       "stream": "stdout",
       "text": [
        "\n",
        "I am on file 182 with filename LC_70702-01-36-01_combined.dat \n",
        "I am on file 183 with filename LC_70702-01-47-00_combined.dat \n",
        "I am on file 184 with filename LC_93701-01-16-01_combined.dat \n",
        "I am on file 185 with filename LC_95701-01-36-00_combined.dat \n",
        "I am on file 186 with filename LC_60701-01-09-00_combined.dat \n",
        "I am on file 187 with filename LC_10408-01-43-00_combined.dat \n",
        "dt_min: 0.00390624999977"
       ]
      },
      {
       "output_type": "stream",
       "stream": "stdout",
       "text": [
        "\n",
        "len(da[0]): 28670\n",
        "len(da[0]): 503805\n",
        "len(da[0]): 76797\n",
        "len(da[0]): 577534\n",
        "len(da[0]): 503806\n",
        "len(da[0]): 442366"
       ]
      },
      {
       "output_type": "stream",
       "stream": "stdout",
       "text": [
        "\n",
        "len(da[0]): 57343\n",
        "Feature shape: (110, 910)"
       ]
      },
      {
       "output_type": "stream",
       "stream": "stdout",
       "text": [
        "\n",
        "I am on file 188 with filename LC_80701-01-36-01_combined.dat \n",
        "I am on file 189 with filename LC_10408-01-22-00_combined.dat \n",
        "dt_min: 0.00390625"
       ]
      },
      {
       "output_type": "stream",
       "stream": "stdout",
       "text": [
        "\n",
        "len(da[0]): 112382\n",
        "len(da[0]): 39165\n",
        "len(da[0]): 479231\n",
        "Feature shape: (29, 910)"
       ]
      },
      {
       "output_type": "stream",
       "stream": "stdout",
       "text": [
        "\n",
        "I am on file 190 with filename LC_50703-01-09-00_combined.dat \n",
        "I am on file 191 with filename LC_93701-01-24-00_combined.dat \n",
        "I am on file 192 with filename LC_10408-01-18-04_combined.dat \n",
        "dt_min: 0.00390624999977"
       ]
      },
      {
       "output_type": "stream",
       "stream": "stdout",
       "text": [
        "\n",
        "len(da[0]): 403966\n",
        "len(da[0]): 233470\n",
        "Feature shape: (32, 910)"
       ]
      },
      {
       "output_type": "stream",
       "stream": "stdout",
       "text": [
        "\n",
        "I am on file 193 with filename LC_96378-01-01-02_combined.dat \n",
        "I am on file 194 with filename LC_60701-01-30-01_combined.dat \n",
        "I am on file 195 with filename LC_96701-01-28-00_combined.dat \n",
        "I am on file 196 with filename LC_93701-01-21-00_combined.dat \n",
        "I am on file 197 with filename LC_91701-01-05-03_combined.dat \n",
        "I am on file 198 with filename LC_40703-01-39-03_combined.dat \n",
        "I am on file 199 with filename LC_90701-01-17-00_combined.dat \n",
        "I am on file 200 with filename LC_40703-01-27-01_combined.dat \n",
        "I am on file 201 with filename LC_80127-03-01-00_combined.dat \n",
        "I am on file 202 with filename LC_96701-01-27-00_combined.dat \n",
        "I am on file 203 with filename LC_50703-01-39-01_combined.dat \n",
        "I am on file 204 with filename LC_70703-01-01-12_combined.dat \n",
        "I am on file 205 with filename LC_90024-02-33-00_combined.dat \n",
        "I am on file 206 with filename LC_70702-01-51-00_combined.dat \n",
        "I am on file 207 with filename LC_95701-01-29-00_combined.dat \n",
        "I am on file 208 with filename LC_50703-01-42-02_combined.dat \n",
        "I am on file 209 with filename LC_91701-01-37-00_combined.dat \n",
        "I am on file 210 with filename LC_20402-01-53-01_combined.dat \n",
        "dt_min: 0.00781249999989"
       ]
      },
      {
       "output_type": "stream",
       "stream": "stdout",
       "text": [
        "\n",
        "len(da[0]): 416895\n",
        "Feature shape: (47, 910)"
       ]
      },
      {
       "output_type": "stream",
       "stream": "stdout",
       "text": [
        "\n",
        "I am on file 211 with filename LC_40116-01-05-00_combined.dat \n",
        "I am on file 212 with filename LC_80188-02-01-00_combined.dat \n",
        "I am on file 213 with filename LC_80701-01-25-02_combined.dat \n",
        "I am on file 214 with filename LC_90105-07-02-00_combined.dat \n",
        "I am on file 215 with filename LC_92702-01-32-01_combined.dat \n",
        "I am on file 216 with filename LC_94701-01-55-00_combined.dat \n",
        "I am on file 217 with filename LC_60701-01-19-00_combined.dat \n",
        "I am on file 218 with filename LC_90701-01-11-00_combined.dat \n",
        "I am on file 219 with filename LC_80701-01-55-01_combined.dat \n",
        "I am on file 220 with filename LC_40703-01-08-01_combined.dat \n",
        "I am on file 221 with filename LC_40703-01-15-01_combined.dat \n",
        "I am on file 222 with filename LC_80127-05-05-02_combined.dat \n",
        "I am on file 223 with filename LC_92702-01-28-01_combined.dat \n",
        "I am on file 224 with filename LC_95701-01-09-01_combined.dat \n",
        "I am on file 225 with filename LC_70703-01-01-11_combined.dat \n",
        "I am on file 226 with filename LC_90105-03-02-04_combined.dat \n",
        "I am on file 227 with filename LC_50703-01-17-00_combined.dat \n",
        "I am on file 228 with filename LC_20402-01-57-00_combined.dat \n",
        "dt_min: 0.00781249999818"
       ]
      },
      {
       "output_type": "stream",
       "stream": "stdout",
       "text": [
        "\n",
        "len(da[0]): 335869\n",
        "len(da[0]): 389118\n",
        "Feature shape: (81, 910)"
       ]
      },
      {
       "output_type": "stream",
       "stream": "stdout",
       "text": [
        "\n",
        "I am on file 229 with filename LC_80701-01-43-01_combined.dat \n",
        "I am on file 230 with filename LC_60701-01-06-02_combined.dat \n",
        "I am on file 231 with filename LC_30402-01-03-00_combined.dat \n",
        "I am on file 232 with filename LC_95701-01-04-00_combined.dat \n",
        "I am on file 233 with filename LC_90105-10-07-00_combined.dat \n",
        "I am on file 234 with filename LC_80701-01-62-00_combined.dat \n",
        "I am on file 235 with filename LC_60701-01-30-00_combined.dat \n",
        "I am on file 236 with filename LC_60100-01-03-01_combined.dat \n",
        "I am on file 237 with filename LC_96701-01-31-00_combined.dat \n",
        "I am on file 238 with filename LC_90701-01-39-01_combined.dat \n",
        "I am on file 239 with filename LC_20186-03-02-02_combined.dat \n",
        "I am on file 240 with filename LC_90701-01-48-00_combined.dat \n",
        "I am on file 241 with filename LC_90108-01-06-00_combined.dat \n",
        "I am on file 242 with filename LC_10258-01-09-00_combined.dat \n",
        "I am on file 243 with filename LC_94701-01-59-01_combined.dat \n",
        "I am on file 244 with filename LC_40703-01-30-00_combined.dat \n",
        "I am on file 245 with filename LC_40116-01-01-04_combined.dat \n",
        "I am on file 246 with filename LC_50703-01-25-02_combined.dat \n",
        "I am on file 247 with filename LC_91701-01-70-01_combined.dat \n",
        "I am on file 248 with filename LC_96701-01-13-00_combined.dat \n",
        "I am on file 249 with filename LC_10408-01-21-01_combined.dat \n",
        "I am on file 250 with filename LC_40703-01-41-02_combined.dat \n",
        "I am on file 251 with filename LC_30703-01-03-00_combined.dat \n",
        "I am on file 252 with filename LC_96701-01-52-00_combined.dat \n",
        "I am on file 253 with filename LC_93411-01-03-00_combined.dat \n",
        "I am on file 254 with filename LC_40703-01-42-00_combined.dat \n",
        "I am on file 255 with filename LC_40703-01-36-00_combined.dat \n",
        "I am on file 256 with filename LC_40703-01-21-00_combined.dat \n",
        "I am on file 257 with filename LC_91701-01-52-00_combined.dat \n",
        "I am on file 258 with filename LC_92702-01-06-00_combined.dat \n",
        "I am on file 259 with filename LC_30182-01-01-01_combined.dat \n",
        "I am on file 260 with filename LC_60702-01-01-16_combined.dat \n",
        "I am on file 261 with filename LC_91701-01-13-00_combined.dat \n",
        "I am on file 262 with filename LC_20402-01-35-00_combined.dat \n",
        "dt_min: 0.00781249999818"
       ]
      },
      {
       "output_type": "stream",
       "stream": "stdout",
       "text": [
        "\n",
        "len(da[0]): 64509\n",
        "len(da[0]): 359422\n",
        "len(da[0]): 354303\n",
        "Feature shape: (84, 910)"
       ]
      },
      {
       "output_type": "stream",
       "stream": "stdout",
       "text": [
        "\n",
        "I am on file 263 with filename LC_70702-01-45-01_combined.dat \n",
        "I am on file 264 with filename LC_95701-01-11-00_combined.dat \n",
        "I am on file 265 with filename LC_50703-01-42-01_combined.dat \n",
        "I am on file 266 with filename LC_94701-01-27-00_combined.dat \n",
        "I am on file 267 with filename LC_60701-01-24-00_combined.dat \n",
        "I am on file 268 with filename LC_50703-01-41-01_combined.dat \n",
        "I am on file 269 with filename LC_70702-01-06-01_combined.dat \n",
        "I am on file 270 with filename LC_40703-01-11-00_combined.dat \n",
        "I am on file 271 with filename LC_91701-01-77-00_combined.dat \n",
        "I am on file 272 with filename LC_40116-01-01-02_combined.dat \n",
        "I am on file 273 with filename LC_60701-01-20-02_combined.dat \n",
        "I am on file 274 with filename LC_80701-01-40-00_combined.dat \n",
        "I am on file 275 with filename LC_10408-01-03-01_combined.dat \n",
        "I am on file 276 with filename LC_40703-01-17-00_combined.dat \n",
        "I am on file 277 with filename LC_30703-01-33-00_combined.dat \n",
        "I am on file 278 with filename LC_30703-01-13-00_combined.dat \n",
        "I am on file 279 with filename LC_10408-01-18-01_combined.dat \n",
        "dt_min: 0.00390625"
       ]
      },
      {
       "output_type": "stream",
       "stream": "stdout",
       "text": [
        "\n",
        "len(da[0]): 172030\n",
        "len(da[0]): 204799\n",
        "Feature shape: (16, 910)"
       ]
      },
      {
       "output_type": "stream",
       "stream": "stdout",
       "text": [
        "\n",
        "I am on file 280 with filename LC_90701-01-04-00_combined.dat \n",
        "I am on file 281 with filename LC_10408-01-14-03_combined.dat \n",
        "dt_min: 0.00390625"
       ]
      },
      {
       "output_type": "stream",
       "stream": "stdout",
       "text": [
        "\n",
        "len(da[0]): 270335\n",
        "Feature shape: (13, 910)"
       ]
      },
      {
       "output_type": "stream",
       "stream": "stdout",
       "text": [
        "\n",
        "I am on file 282 with filename LC_90701-01-20-01_combined.dat \n",
        "I am on file 283 with filename LC_90105-04-01-00_combined.dat \n",
        "I am on file 284 with filename LC_94701-01-20-00_combined.dat \n",
        "I am on file 285 with filename LC_91701-01-52-01_combined.dat \n",
        "I am on file 286 with filename LC_60701-01-25-00_combined.dat \n",
        "I am on file 287 with filename LC_50703-01-05-02_combined.dat \n",
        "I am on file 288 with filename LC_40703-01-27-00_combined.dat \n",
        "I am on file 289 with filename LC_30402-01-05-00_combined.dat \n",
        "I am on file 290 with filename LC_60702-01-01-25_combined.dat \n",
        "I am on file 291 with filename LC_80701-01-42-00_combined.dat \n",
        "I am on file 292 with filename LC_20402-01-57-01_combined.dat \n",
        "I am on file 293 with filename LC_90701-01-01-00_combined.dat \n",
        "I am on file 294 with filename LC_94701-01-49-00_combined.dat \n",
        "I am on file 295 with filename LC_30402-01-22-01_combined.dat \n",
        "I am on file 296 with filename LC_70702-01-33-00_combined.dat \n",
        "I am on file 297 with filename LC_30402-01-12-01_combined.dat \n",
        "I am on file 298 with filename LC_40703-01-25-00_combined.dat \n",
        "I am on file 299 with filename LC_93701-01-27-01_combined.dat \n",
        "I am on file 300 with filename LC_70702-01-03-00_combined.dat \n",
        "I am on file 301 with filename LC_40703-01-23-01_combined.dat \n",
        "I am on file 302 with filename LC_92092-03-01-00_combined.dat \n",
        "I am on file 303 with filename LC_96701-01-14-00_combined.dat \n",
        "I am on file 304 with filename LC_80701-01-40-01_combined.dat \n",
        "I am on file 305 with filename LC_40703-01-30-03_combined.dat \n",
        "I am on file 306 with filename LC_90701-01-34-00_combined.dat \n",
        "I am on file 307 with filename LC_80701-01-43-00_combined.dat \n",
        "I am on file 308 with filename LC_92702-01-11-00_combined.dat \n",
        "I am on file 309 with filename LC_90024-02-03-00_combined.dat \n",
        "I am on file 310 with filename LC_91701-01-65-00_combined.dat \n",
        "I am on file 311 with filename LC_70702-01-11-00_combined.dat \n",
        "I am on file 312 with filename LC_40703-01-31-00_combined.dat \n",
        "I am on file 313 with filename LC_50703-01-65-00_combined.dat \n",
        "I am on file 314 with filename LC_90701-01-50-00_combined.dat \n",
        "I am on file 315 with filename LC_90105-06-03-02_combined.dat \n",
        "I am on file 316 with filename LC_30703-01-23-01_combined.dat \n",
        "I am on file 317 with filename LC_95701-01-17-01_combined.dat \n",
        "I am on file 318 with filename LC_50703-01-16-02_combined.dat \n",
        "I am on file 319 with filename LC_60701-01-06-01_combined.dat \n",
        "I am on file 320 with filename LC_50703-01-47-00_combined.dat \n",
        "I am on file 321 with filename LC_60702-01-01-14_combined.dat \n",
        "I am on file 322 with filename LC_20402-01-04-00_combined.dat \n",
        "dt_min: 0.0078125"
       ]
      },
      {
       "output_type": "stream",
       "stream": "stdout",
       "text": [
        "\n",
        "len(da[0]): 156286\n",
        "len(da[0]): 341374\n",
        "len(da[0]): 92797\n",
        "len(da[0]): 125310\n",
        "len(da[0]): 122878\n",
        "Feature shape: (85, 910)"
       ]
      },
      {
       "output_type": "stream",
       "stream": "stdout",
       "text": [
        "\n",
        "I am on file 323 with filename LC_80701-01-29-00_combined.dat \n",
        "I am on file 324 with filename LC_91701-01-01-01_combined.dat \n",
        "I am on file 325 with filename LC_92702-01-33-00_combined.dat \n",
        "I am on file 326 with filename LC_10408-01-04-00_combined.dat \n",
        "I am on file 327 with filename LC_40703-01-37-00_combined.dat \n",
        "I am on file 328 with filename LC_93701-01-11-00_combined.dat \n",
        "I am on file 329 with filename LC_70702-01-27-00_combined.dat \n",
        "I am on file 330 with filename LC_90105-02-04-00_combined.dat \n",
        "I am on file 331 with filename LC_92702-01-24-01_combined.dat \n",
        "I am on file 332 with filename LC_40116-01-02-03_combined.dat \n",
        "I am on file 333 with filename LC_60701-01-04-01_combined.dat \n",
        "I am on file 334 with filename LC_96701-01-35-00_combined.dat \n",
        "I am on file 335 with filename LC_91701-01-72-00_combined.dat \n",
        "I am on file 336 with filename LC_50703-01-46-02_combined.dat \n",
        "I am on file 337 with filename LC_70702-01-20-01_combined.dat \n",
        "I am on file 338 with filename LC_40702-01-02-00_combined.dat \n",
        "I am on file 339 with filename LC_20402-01-52-02_combined.dat \n",
        "dt_min: 0.00781249999989"
       ]
      },
      {
       "output_type": "stream",
       "stream": "stdout",
       "text": [
        "\n",
        "len(da[0]): 227327\n",
        "Feature shape: (24, 910)"
       ]
      },
      {
       "output_type": "stream",
       "stream": "stdout",
       "text": [
        "\n",
        "I am on file 340 with filename LC_70703-01-01-03_combined.dat \n",
        "I am on file 341 with filename LC_60701-01-12-02_combined.dat \n",
        "I am on file 342 with filename LC_95701-01-38-00_combined.dat \n",
        "I am on file 343 with filename LC_70702-01-04-01_combined.dat \n",
        "I am on file 344 with filename LC_91701-01-53-00_combined.dat \n",
        "I am on file 345 with filename LC_90024-02-16-00_combined.dat \n",
        "I am on file 346 with filename LC_91701-01-59-00_combined.dat \n",
        "I am on file 347 with filename LC_10408-01-15-04_combined.dat \n",
        "dt_min: 0.00390624999977"
       ]
      },
      {
       "output_type": "stream",
       "stream": "stdout",
       "text": [
        "\n",
        "len(da[0]): 626687\n",
        "Feature shape: (35, 910)"
       ]
      },
      {
       "output_type": "stream",
       "stream": "stdout",
       "text": [
        "\n",
        "I am on file 348 with filename LC_70702-01-05-02_combined.dat \n",
        "I am on file 349 with filename LC_90024-02-27-00_combined.dat \n",
        "I am on file 350 with filename LC_94701-01-58-00_combined.dat \n",
        "I am on file 351 with filename LC_90701-01-14-00_combined.dat \n",
        "I am on file 352 with filename LC_40702-01-04-00_combined.dat \n",
        "I am on file 353 with filename LC_92702-01-02-00_combined.dat \n",
        "I am on file 354 with filename LC_90701-01-02-02_combined.dat \n",
        "I am on file 355 with filename LC_90105-10-09-00_combined.dat \n",
        "I am on file 356 with filename LC_10408-01-16-04_combined.dat \n",
        "dt_min: 0.00390625"
       ]
      },
      {
       "output_type": "stream",
       "stream": "stdout",
       "text": [
        "\n",
        "len(da[0]): 32766\n",
        "len(da[0]): 188415\n",
        "Feature shape: (8, 910)\n",
        "I am on file 357 with filename LC_93701-01-37-00_combined.dat \n",
        "I am on file 358 with filename LC_80701-01-09-01_combined.dat \n",
        "I am on file 359 with filename LC_94701-01-32-00_combined.dat \n",
        "I am on file 360 with filename LC_93701-01-41-00_combined.dat \n",
        "I am on file 361 with filename LC_91701-01-63-00_combined.dat \n",
        "I am on file 362 with filename LC_90701-01-13-01_combined.dat \n",
        "I am on file 363 with filename LC_91701-01-42-00_combined.dat \n",
        "I am on file 364 with filename LC_94701-01-17-00_combined.dat \n",
        "I am on file 365 with filename LC_70702-01-31-00_combined.dat \n",
        "I am on file 366 with filename LC_80701-01-10-02_combined.dat \n",
        "I am on file 367 with filename LC_50703-01-63-00_combined.dat \n",
        "I am on file 368 with filename LC_91701-01-42-01_combined.dat \n",
        "I am on file 369 with filename LC_60701-01-10-01_combined.dat \n",
        "I am on file 370 with filename LC_96701-01-52-01_combined.dat \n",
        "I am on file 371 with filename LC_30402-01-16-00_combined.dat \n",
        "I am on file 372 with filename LC_90105-04-03-01_combined.dat \n",
        "I am on file 373 with filename LC_50703-01-19-00_combined.dat \n",
        "I am on file 374 with filename LC_50703-01-50-02_combined.dat \n",
        "I am on file 375 with filename LC_20402-01-54-00_combined.dat \n",
        "dt_min: 0.00781249999818"
       ]
      },
      {
       "output_type": "stream",
       "stream": "stdout",
       "text": [
        "\n",
        "len(da[0]): 106493\n",
        "len(da[0]): 118781\n",
        "len(da[0]): 188414\n",
        "len(da[0]): 423934\n",
        "len(da[0]): 421887\n",
        "Feature shape: (135, 910)"
       ]
      },
      {
       "output_type": "stream",
       "stream": "stdout",
       "text": [
        "\n",
        "I am on file 376 with filename LC_10408-01-35-00_combined.dat \n",
        "dt_min: 0.00390624999977"
       ]
      },
      {
       "output_type": "stream",
       "stream": "stdout",
       "text": [
        "\n",
        "len(da[0]): 606206\n",
        "len(da[0]): 806910\n",
        "len(da[0]): 847871\n",
        "Feature shape: (127, 910)"
       ]
      },
      {
       "output_type": "stream",
       "stream": "stdout",
       "text": [
        "\n",
        "I am on file 377 with filename LC_70702-01-24-00_combined.dat \n",
        "I am on file 378 with filename LC_90105-01-03-01_combined.dat \n",
        "I am on file 379 with filename LC_95701-01-52-00_combined.dat \n",
        "I am on file 380 with filename LC_80188-01-01-02_combined.dat \n",
        "I am on file 381 with filename LC_80701-01-03-01_combined.dat \n",
        "I am on file 382 with filename LC_96701-01-32-00_combined.dat \n",
        "I am on file 383 with filename LC_91701-01-51-00_combined.dat \n",
        "I am on file 384 with filename LC_10408-01-19-01_combined.dat \n",
        "dt_min: 0.00390624999977"
       ]
      },
      {
       "output_type": "stream",
       "stream": "stdout",
       "text": [
        "\n",
        "len(da[0]): 61694\n",
        "len(da[0]): 790270\n",
        "Feature shape: (45, 910)"
       ]
      },
      {
       "output_type": "stream",
       "stream": "stdout",
       "text": [
        "\n",
        "I am on file 385 with filename LC_80127-02-03-00_combined.dat \n",
        "I am on file 386 with filename LC_95701-01-08-01_combined.dat \n",
        "I am on file 387 with filename LC_96701-01-12-00_combined.dat \n",
        "I am on file 388 with filename LC_91701-01-56-00_combined.dat \n",
        "I am on file 389 with filename LC_96701-01-04-00_combined.dat \n",
        "I am on file 390 with filename LC_40703-01-15-00_combined.dat \n",
        "I am on file 391 with filename LC_91701-01-74-00_combined.dat \n",
        "I am on file 392 with filename LC_40115-01-08-00_combined.dat \n",
        "I am on file 393 with filename LC_70702-01-04-00_combined.dat \n",
        "I am on file 394 with filename LC_70702-01-03-01_combined.dat \n",
        "I am on file 395 with filename LC_80701-01-28-01_combined.dat \n",
        "I am on file 396 with filename LC_92702-01-27-03_combined.dat \n",
        "I am on file 397 with filename LC_80701-01-37-00_combined.dat \n",
        "I am on file 398 with filename LC_60701-01-12-01_combined.dat \n",
        "I am on file 399 with filename LC_91701-01-21-00_combined.dat \n",
        "I am on file 400 with filename LC_50703-01-10-00_combined.dat \n",
        "I am on file 401 with filename LC_95701-01-12-00_combined.dat \n",
        "I am on file 402 with filename LC_80188-03-01-01_combined.dat \n",
        "I am on file 403 with filename LC_50703-01-35-00_combined.dat \n",
        "I am on file 404 with filename LC_93701-01-38-00_combined.dat \n",
        "I am on file 405 with filename LC_94701-01-41-00_combined.dat \n",
        "I am on file 406 with filename LC_91701-01-39-00_combined.dat \n",
        "I am on file 407 with filename LC_90701-01-38-01_combined.dat \n",
        "I am on file 408 with filename LC_50703-01-33-00_combined.dat \n",
        "I am on file 409 with filename LC_90701-01-40-00_combined.dat \n",
        "I am on file 410 with filename LC_80701-01-33-00_combined.dat \n",
        "I am on file 411 with filename LC_92702-01-21-00_combined.dat \n",
        "I am on file 412 with filename LC_60702-01-01-06_combined.dat \n",
        "I am on file 413 with filename LC_60701-01-20-01_combined.dat \n",
        "I am on file 414 with filename LC_30703-01-38-00_combined.dat \n",
        "I am on file 415 with filename LC_50703-01-38-00_combined.dat \n",
        "I am on file 416 with filename LC_50703-01-47-01_combined.dat \n",
        "I am on file 417 with filename LC_30183-02-02-01_combined.dat \n",
        "I am on file 418 with filename LC_90105-10-03-00_combined.dat \n",
        "I am on file 419 with filename LC_96701-01-02-01_combined.dat \n",
        "I am on file 420 with filename LC_91701-01-38-01_combined.dat \n",
        "I am on file 421 with filename LC_90701-01-36-01_combined.dat \n",
        "I am on file 422 with filename LC_20402-01-03-00_combined.dat \n",
        "dt_min: 0.00390625"
       ]
      },
      {
       "output_type": "stream",
       "stream": "stdout",
       "text": [
        "\n",
        "len(da[0]): 297982\n",
        "len(da[0]): 856062\n",
        "len(da[0]): 856062\n",
        "len(da[0]): 74750"
       ]
      },
      {
       "output_type": "stream",
       "stream": "stdout",
       "text": [
        "\n",
        "len(da[0]): 355326\n",
        "Feature shape: (132, 910)"
       ]
      },
      {
       "output_type": "stream",
       "stream": "stdout",
       "text": [
        "\n",
        "I am on file 423 with filename LC_50703-01-31-00_combined.dat \n",
        "I am on file 424 with filename LC_94701-01-19-00_combined.dat \n",
        "I am on file 425 with filename LC_60701-01-07-00_combined.dat \n",
        "I am on file 426 with filename LC_93701-01-32-01_combined.dat \n"
       ]
      }
     ],
     "prompt_number": 19
    },
    {
     "cell_type": "code",
     "collapsed": false,
     "input": [
      "print(\"training set: \" + str(f_train.shape))\n",
      "print(\"validation set: \" + str(f_va.shape))\n",
      "print(\"test set: \" + str(f_test.shape))\n",
      "\n",
      "labelled_features = {\"train\": [f_train, l_train],\n",
      "                     \"val\": [f_va, l_val],\n",
      "                     \"test\": [f_test, l_test]}"
     ],
     "language": "python",
     "metadata": {},
     "outputs": [
      {
       "output_type": "stream",
       "stream": "stdout",
       "text": [
        "training set: (4194, 910)\n",
        "validation set: (2534, 910)\n",
        "test set: (2002, 910)\n"
       ]
      }
     ],
     "prompt_number": 24
    },
    {
     "cell_type": "code",
     "collapsed": false,
     "input": [
      "f = open(\"grs1915_labelled_features.dat\", \"w\")\n",
      "pickle.dump(labelled_features, f)\n",
      "f.close()\n"
     ],
     "language": "python",
     "metadata": {},
     "outputs": [],
     "prompt_number": 22
    },
    {
     "cell_type": "code",
     "collapsed": false,
     "input": [],
     "language": "python",
     "metadata": {},
     "outputs": []
    },
    {
     "cell_type": "markdown",
     "metadata": {},
     "source": [
      "============================================================\n",
      "## Old Feature Extraction\n",
      "\n",
      "In case I still need it at some point.\n"
     ]
    },
    {
     "cell_type": "code",
     "collapsed": false,
     "input": [
      "\n",
      "## set clean_only=True if you only want to extract the sample\n",
      "## with labels, not the full sample\n",
      "\n",
      "def extract_features(d_all, pcb, tseg=256., overlap_time=64., clean_only=True, hr=True, output_lc=True):\n",
      "    \"\"\"\n",
      "    Extract features from a set of light curves d_all.\n",
      "    \n",
      "    pcb defines the boundaries for the frequency bands used for the power colours.\n",
      "    \n",
      "    If clean_only is true, extract only features from data points\n",
      "    where there is a label (otherwise extract features from entire\n",
      "    data set).\n",
      "    \n",
      "    if hr is true, assume that data is given in several energy bands\n",
      "    and we can extract hardness ratios. \n",
      "    \n",
      "    if output_lc is True, return light curves and power spectra along with\n",
      "    features (ONLY DO THIS FOR DEBUGGING ON SMALL DATA SETS, OTHERWISE YOU'LL\n",
      "    KILL YOUR MEMORY! You've been warned).\n",
      "    \n",
      "    \"\"\"\n",
      "    ## now make power spectra and extract features\n",
      "    ## in the following lists:\n",
      "    fmu, fvar = [], [] ## count rate mean and variance\n",
      "    fmax = [] ## frequency where power in the entire band is maximum\n",
      "    psd_a, psd_b, psd_c, psd_d = [], [], [], [] ## power colour bands\n",
      "    pc1, pc2 = [], [] ## power colours\n",
      "    labels = [] ## labels for labelled data\n",
      "    if output_lc:\n",
      "        lc_all = [] ## all light curves (includes power spectra and features)\n",
      "    \n",
      "    if hr:\n",
      "        hr1, hr2, hr1_mean, hr2_mean, hr1_var, hr2_var = [], [], [], [], [], []\n",
      "    \n",
      "    for i,d_seg in enumerate(d_all):\n",
      "        \n",
      "   \n",
      "        data = d_seg[0]\n",
      "        #print(data)\n",
      "        state = d_seg[1]\n",
      "\n",
      "        dt_data = data[1:,0] - data[:-1,0]\n",
      "        dt = np.min(dt_data)\n",
      "        print(\"dt: \" + str(dt))\n",
      "        nseg = tseg/dt\n",
      "        noverlap = overlap_time/dt\n",
      "        \n",
      "        istart = 0\n",
      "        iend = nseg\n",
      "        j = 0\n",
      "     \n",
      "        if clean_only == False or (clean_only == True and state is not None):\n",
      "            #print(state)\n",
      "            while iend <= len(data):\n",
      "                dtemp = data[istart:iend]\n",
      "                times = dtemp[:,0]\n",
      "                counts = dtemp[:,1]\n",
      "                if hr:\n",
      "                    low_counts = dtemp[:,2]\n",
      "                    high_counts = dtemp[:,3]\n",
      "                    hr1_temp = np.mean(low_counts/counts)\n",
      "                    hr2_temp = np.mean(high_counts/counts)\n",
      "                    hr1_var_temp = np.var(low_counts/counts)\n",
      "                    hr2_var_temp = np.var(high_counts/counts)\n",
      "                lc = lightcurve.Lightcurve(times, counts=counts)\n",
      "                lc.fmu = np.mean(counts)\n",
      "                lc.fvar = np.var(counts)\n",
      "                lc.state = state\n",
      "                try:\n",
      "                    ps = powerspectrum.PowerSpectrum(times, counts=counts, norm=\"rms\")\n",
      "                except:\n",
      "                    print(\"Exception! boo!\")\n",
      "                    istart += noverlap\n",
      "                    iend += noverlap\n",
      "                    continue\n",
      "                #lc.ps = ps\n",
      "\n",
      "                if len(ps.freq) < 1024:\n",
      "                    print(\"i: \" + str(i))\n",
      "                    print(\"j: \" + str(j))\n",
      "                    print(len(ps.freq))\n",
      "                    print(ps.freq[0])\n",
      "                    print(ps.freq[-1])\n",
      "\n",
      "                ## find frequency with maximum power, exclude 0th frequency\n",
      "                fmax_ind = np.where(ps.ps[1:] == np.max(ps.ps[1:]))[0]+1\n",
      "                lc.maxfreq = ps.freq[fmax_ind[0]]\n",
      "\n",
      "                ## find power in spectral bands for power-colours\n",
      "                pa_min_freq = ps.freq.searchsorted(pcb[\"pa_min\"])\n",
      "                pa_max_freq = ps.freq.searchsorted(pcb[\"pa_max\"])\n",
      "\n",
      "                pb_min_freq = ps.freq.searchsorted(pcb[\"pb_min\"])\n",
      "                pb_max_freq = ps.freq.searchsorted(pcb[\"pb_max\"])\n",
      "\n",
      "                pc_min_freq = ps.freq.searchsorted(pcb[\"pc_min\"])\n",
      "                pc_max_freq = ps.freq.searchsorted(pcb[\"pc_max\"])\n",
      "\n",
      "                pd_min_freq = ps.freq.searchsorted(pcb[\"pd_min\"])\n",
      "                pd_max_freq = ps.freq.searchsorted(pcb[\"pd_max\"])\n",
      "\n",
      "                lc.psd_a = np.sum(ps.ps[pa_min_freq:pa_max_freq])\n",
      "                lc.psd_b = np.sum(ps.ps[pb_min_freq:pb_max_freq])\n",
      "                lc.psd_c = np.sum(ps.ps[pc_min_freq:pc_max_freq])\n",
      "                lc.psd_d = np.sum(ps.ps[pd_min_freq:pd_max_freq])\n",
      "                lc.pc1 = np.sum(ps.ps[pc_min_freq:pc_max_freq])/np.sum(ps.ps[pa_min_freq:pa_max_freq])\n",
      "                lc.pc2 = np.sum(ps.ps[pb_min_freq:pb_max_freq])/np.sum(ps.ps[pd_min_freq:pd_max_freq])\n",
      "\n",
      "                if clean_only == False or (clean_only == True and state is not None):\n",
      "                    fmu.append(lc.fmu)\n",
      "                    fvar.append(lc.fvar)\n",
      "                    labels.append(state)\n",
      "                    fmax.append(lc.maxfreq)\n",
      "\n",
      "                    psd_a.append(np.sum(ps.ps[pa_min_freq:pa_max_freq]))\n",
      "                    psd_b.append(np.sum(ps.ps[pb_min_freq:pb_max_freq]))\n",
      "                    psd_c.append(np.sum(ps.ps[pc_min_freq:pc_max_freq]))\n",
      "                    psd_d.append(np.sum(ps.ps[pd_min_freq:pd_max_freq]))\n",
      "\n",
      "                    pc1.append(np.sum(ps.ps[pc_min_freq:pc_max_freq])/np.sum(ps.ps[pa_min_freq:pa_max_freq]))\n",
      "                    pc2.append(np.sum(ps.ps[pb_min_freq:pb_max_freq])/np.sum(ps.ps[pd_min_freq:pd_max_freq]))\n",
      "\n",
      "                    if hr:\n",
      "                        hr1.append(low_counts/counts)\n",
      "                        hr2.append(high_counts/counts)\n",
      "                        hr1_mean.append(hr1_temp)\n",
      "                        hr2_mean.append(hr2_temp)\n",
      "                        hr1_var.append(hr1_var_temp)\n",
      "                        hr2_var.append(hr2_var_temp)\n",
      "                    if output_lc:\n",
      "                        lc_all.append(lc)\n",
      "                #labels.append(state)\n",
      "                #plt.figure()\n",
      "                #plt.loglog(ps.freq[1:], ps.ps[1:], lw=2, color=\"black\")\n",
      "                istart += noverlap\n",
      "                iend += noverlap\n",
      "                j+=1\n",
      "        else:\n",
      "            continue\n",
      "            \n",
      "    all_features = {\"fmu\":fmu, \"fvar\":fvar, \"labels\":labels, \"fmax\":fmax, \n",
      "                    \"psd_a\":psd_a, \"psd_b\":psd_b, \"psd_c\":psd_c, \"psd_d\":psd_d,\n",
      "                    \"pc1\":pc1, \"pc2\":pc2}\n",
      "    if output_lc:\n",
      "        all_features[\"lc_all\"] = lc_all\n",
      "    if hr:\n",
      "        all_features[\"hr1\"] = hr1\n",
      "        all_features[\"hr2\"] = hr2\n",
      "        all_features[\"hr1 mean\"] = hr1_mean\n",
      "        all_features[\"hr2 mean\"] = hr2_mean\n",
      "        all_features[\"hr1 var\"] = hr1_var\n",
      "        all_features[\"hr2 var\"] = hr2_var\n",
      "\n",
      "    return all_features\n",
      "\n",
      "\n"
     ],
     "language": "python",
     "metadata": {},
     "outputs": []
    },
    {
     "cell_type": "code",
     "collapsed": false,
     "input": [
      "## here are some dumb assumptions about the light curves we'll use\n",
      "tseg = 256. ## segment length\n",
      "overlap_time = 256. ## overlap in seconds\n",
      "\n",
      "af = extract_features(d_all, power_colour_boundaries, tseg=tseg, overlap_time=overlap_time, clean_only = False, output_lc=True, hr=True)\n",
      "\n",
      "\n"
     ],
     "language": "python",
     "metadata": {},
     "outputs": []
    },
    {
     "cell_type": "markdown",
     "metadata": {},
     "source": [
      "============================================================\n",
      "## Low-Memory Feature Extraction\n",
      "\n",
      "Some code I might need in the future when I'm doing this on thousands and thousands\n",
      "of light curves, so it's here for future reference and completion. \n",
      "This code includes both parts of the data extraction and the feature extraction, so it'll\n",
      "probably need to be heavily modified by the time I get around to doing this on the full \n",
      "data set, but it's here as a start.\n",
      "\n",
      "Keeping thousands of light curves in memory quickly drains resources. \n",
      "\n",
      "Below is an implementation of the code reading in light curves and extracting\n",
      "features that's less computationally expensive by only keeping the resulting \n",
      "features in memory (light curves can be retained by setting keep_lcs = True)."
     ]
    },
    {
     "cell_type": "code",
     "collapsed": false,
     "input": [
      "def extract_features_lowmem(datafiles, pcb, bin_data=True, bin_res = 0.125, tseg=256., overlap_time=64., \\\n",
      "                            label_only=True, labels=\"clean\", hr=True, output_lc=True):\n",
      "    \"\"\"\n",
      "    Extract Observing Mode data from a list of text files with columns \n",
      "    #times \\t total count rate \\t low energy count rate \\t high energy count rate\n",
      "    \n",
      "    if bin_data=True, the data will be rebinned to the resolution specified in bin_res.\n",
      "    If label_only is True, only data with (manually determined) labels will be extracted;\n",
      "    either from the whole set of observations used in Belloni+ 2000 (labels=\"all\") or from\n",
      "    the cleaned set with only those observations where the state does not change during the \n",
      "    observation (labels=\"clean\")\n",
      "    \n",
      "    \"\"\"\n",
      "    \n",
      "    if label_only:\n",
      "        if labels == \"clean\":\n",
      "            belloni_states = convert_belloni.main()\n",
      "            belloni_turned = turn_states(belloni_states)\n",
      "        else:\n",
      "            belloni_turned = convert_belloni_clean()\n",
      "    else:\n",
      "        belloni_turned = [None]\n",
      "    \n",
      "    all_features = {\"fmu\":[], \"fvar\":[], \"labels\":[], \"fmax\":[], \n",
      "                    \"psd_a\":[], \"psd_b\":[], \"psd_c\":[], \"psd_d\":[],\n",
      "                    \"pc1\":[], \"pc2\":[]}\n",
      "    if output_lc:\n",
      "        all_features[\"lc_all\"] = []\n",
      "    if hr:\n",
      "        all_features[\"hr1\"] = []\n",
      "        all_features[\"hr2\"] = []\n",
      "        all_features[\"hr1 mean\"] = []\n",
      "        all_features[\"hr2 mean\"] =[]\n",
      "        all_features[\"hr1 var\"] = []\n",
      "        all_features[\"hr2 var\"] = []\n",
      "    for f in datafiles:\n",
      "        print(\"I am on file \" + str(f))\n",
      "        fstring = f.split(\"_\")[1]\n",
      "        if fstring in belloni_turned:\n",
      "            state = belloni_turned[fstring]\n",
      "        else:\n",
      "            state = None\n",
      "            if label_only:\n",
      "                print(\"No class assigned to file %s. Skipping ...\"%f)\n",
      "                continue\n",
      "                \n",
      "        d = np.loadtxt(f)\n",
      "        #times = d[:,0]\n",
      "        #counts = d[:,1]\n",
      "        #plt.plot(times, counts)\n",
      "        dt_data = d[1:,0]-d[:-1,0]\n",
      "\n",
      "        dt_min = np.min(dt_data)\n",
      "        \n",
      "        #print(\"dt_min: \" + str(dt_min))\n",
      "        #nseg = int(tseg/dt_min) ## number of bins per segment\n",
      "        #noverlap = int(overlap_time/dt_min)\n",
      "        #print(\"nseg: \" + str(nseg))\n",
      "        #print(\"noverlap: \" + str(noverlap))\n",
      "\n",
      "        nbins = int(bin_res/dt_min)\n",
      "        #print(\"bin_res: \" + str(bin_res))\n",
      "        #print(\"dt_min: \" + str(dt_min))\n",
      "        #print(\"nbins: \" + str(nbins))\n",
      "\n",
      "        ### split data with breaks\n",
      "        breaks = np.where(dt_data > 0.008)[0]\n",
      "        #print(breaks)\n",
      "        if len(breaks) == 0:\n",
      "            dtemp = d\n",
      "            if bin_data:\n",
      "                #nbins = int(bin_res/tres)\n",
      "                dshort = bin_lightcurve(dtemp, nbins)                    \n",
      "            else:\n",
      "                dshort = dtemp  \n",
      "            features = extract_features([[dshort, state]], pcb, tseg=tseg, overlap_time=overlap_time,\n",
      "                                        clean_only=label_only, hr=hr, output_lc=output_lc)\n",
      "            for k in all_features.keys():\n",
      "                all_features[k].append(features[k])\n",
      "\n",
      "\n",
      "        else:\n",
      "            for i,b in enumerate(breaks):\n",
      "                #print(\"Break in light curve at time bin %i; length of break dt = %.3f\"%(b, dt_data[b]))\n",
      "                if i == 0:\n",
      "                    if b == 0:\n",
      "                        #print(\"First break is at first time bin\")\n",
      "                        continue\n",
      "                    else:\n",
      "                        #print(\"I am extracting the data before the break\")\n",
      "                        dtemp = d[:b]\n",
      "                        if bin_data:\n",
      "                            #nbins = int(bin_res/tres)\n",
      "                            dshort = bin_lightcurve(dtemp, nbins)                    \n",
      "                        else:\n",
      "                            dshort = dtemp\n",
      "                            \n",
      "                        print(\"dshort.shape: \" + str(dshort.shape))\n",
      "\n",
      "                        features = extract_features([[dshort, state]], pcb, tseg=tseg, overlap_time=overlap_time,\n",
      "                                    clean_only=label_only, hr=hr, output_lc=output_lc)\n",
      "                        \n",
      "                        for k in all_features.keys():\n",
      "                            all_features[k].append(features[k])\n",
      "                \n",
      "                else:\n",
      "                    #print(\"I am extracting data after break \" + str(i))\n",
      "                    dtemp = d[breaks[i-1]+1:b]\n",
      "                    if bin_data:\n",
      "                        #nbins = int(bin_res/tres)\n",
      "                        dshort = bin_lightcurve(dtemp, nbins)                    \n",
      "                    else:\n",
      "                        dshort = dtemp\n",
      "                    print(\"dshort.shape: \" + str(dshort.shape))\n",
      "\n",
      "                    features = extract_features([[dshort, state]], pcb, tseg=tseg, overlap_time=overlap_time,\n",
      "                                                clean_only=label_only, hr=hr, output_lc=output_lc)\n",
      "                    for k in all_features.keys():\n",
      "                        all_features[k].append(features[k])\n",
      "\n",
      "\n",
      "\n",
      "            ## last segment\n",
      "            #print(\"I am computing last segment of file\")\n",
      "            dtemp = d[b+1:]\n",
      "            if bin_data:\n",
      "                #nbins = int(bin_res/tres)\n",
      "                dshort = bin_lightcurve(dtemp, nbins)                    \n",
      "            else:\n",
      "                dshort = dtemp\n",
      "            print(\"dshort.shape: \" + str(dshort.shape))\n",
      "            features = extract_features([[dshort, state]], pcb, tseg=tseg, overlap_time=overlap_time,\n",
      "                                        clean_only=label_only, hr=hr, output_lc=output_lc)\n",
      "            for k in all_features.keys():\n",
      "                all_features[k].append(features[k])\n",
      "\n",
      "    return all_features\n",
      "\n"
     ],
     "language": "python",
     "metadata": {},
     "outputs": []
    }
   ],
   "metadata": {}
  }
 ]
}